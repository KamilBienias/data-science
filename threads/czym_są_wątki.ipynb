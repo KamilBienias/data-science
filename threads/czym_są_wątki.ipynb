{
  "nbformat": 4,
  "nbformat_minor": 0,
  "metadata": {
    "colab": {
      "name": "czym są wątki.ipynb",
      "provenance": [],
      "collapsed_sections": [],
      "authorship_tag": "ABX9TyNlxUMluCE6tYZQ77k/FtkW",
      "include_colab_link": true
    },
    "kernelspec": {
      "name": "python3",
      "display_name": "Python 3"
    }
  },
  "cells": [
    {
      "cell_type": "markdown",
      "metadata": {
        "id": "view-in-github",
        "colab_type": "text"
      },
      "source": [
        "<a href=\"https://colab.research.google.com/github/KamilBienias/data-science/blob/main/threads/czym_s%C4%85_w%C4%85tki.ipynb\" target=\"_parent\"><img src=\"https://colab.research.google.com/assets/colab-badge.svg\" alt=\"Open In Colab\"/></a>"
      ]
    },
    {
      "cell_type": "code",
      "metadata": {
        "colab": {
          "base_uri": "https://localhost:8080/"
        },
        "id": "jj-FsQd2LREK",
        "outputId": "9cf11505-1f61-43f1-aba8-98b381125b56"
      },
      "source": [
        "# https://www.youtube.com/watch?v=D8nSgM0rxWA\r\n",
        "# lepiej na kompie by działało bo nie widać jak się wywołują\r\n",
        "# jego drugi odcinek o tworzeniu własnej klasy wątku to:\r\n",
        "# https://www.youtube.com/watch?v=eygz9KPkg-0\r\n",
        "\r\n",
        "from threading import Thread\r\n",
        "import time\r\n",
        "\r\n",
        "# wyświetla czas \r\n",
        "def licznik(nazwa, opoznienie, powtorzenia):\r\n",
        "    print(nazwa, \"został uruchomiony\")\r\n",
        "    for i in range(powtorzenia):\r\n",
        "        time.sleep(opoznienie)\r\n",
        "        print(nazwa, \" \", str(time.ctime(time.time())))\r\n",
        "    print(nazwa, \"zakończył działanie\")\r\n",
        "\r\n",
        "lista = []\r\n",
        "for i in range(3):\r\n",
        "    lista.append(Thread(target=licznik, args=(\"Licznik \" + str(i+1), i+1, (i+1)**2)))\r\n",
        "\r\n",
        "for x in lista:\r\n",
        "    x.start()\r\n",
        "\r\n",
        "# print(str(time.ctime(time.time())))"
      ],
      "execution_count": null,
      "outputs": [
        {
          "output_type": "stream",
          "text": [
            "Licznik 1 został uruchomiony\n",
            "Licznik 2 został uruchomiony\n",
            "Licznik 3 został uruchomiony\n"
          ],
          "name": "stdout"
        }
      ]
    }
  ]
}