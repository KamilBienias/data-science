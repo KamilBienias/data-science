{
  "nbformat": 4,
  "nbformat_minor": 0,
  "metadata": {
    "colab": {
      "name": "02_przygotowanie_środowiska.ipynb",
      "provenance": [],
      "collapsed_sections": [],
      "authorship_tag": "ABX9TyOvwxZpajvkZU7KwYYMJZzc",
      "include_colab_link": true
    },
    "kernelspec": {
      "name": "python3",
      "display_name": "Python 3"
    }
  },
  "cells": [
    {
      "cell_type": "markdown",
      "metadata": {
        "id": "view-in-github",
        "colab_type": "text"
      },
      "source": [
        "<a href=\"https://colab.research.google.com/github/KamilBienias/data-science/blob/main/training/analityk.edu.pl/pandas_tutorial/02_przygotowanie_%C5%9Brodowiska.ipynb\" target=\"_parent\"><img src=\"https://colab.research.google.com/assets/colab-badge.svg\" alt=\"Open In Colab\"/></a>"
      ]
    },
    {
      "cell_type": "code",
      "metadata": {
        "id": "MrHFUE8iovjz"
      },
      "source": [
        "# https://analityk.edu.pl/python-pandas-tutorial-przygotowanie-srodowiska-pracy/"
      ],
      "execution_count": null,
      "outputs": []
    },
    {
      "cell_type": "markdown",
      "metadata": {
        "id": "5YFNpAS8otXt"
      },
      "source": [
        "W celu powtórzenia aktywności oraz wykonania ćwiczeń w tutorialu, będziemy potrzebować 3 rzeczy: (1) Zainstalować bibliotekę Pandas (2) Zainstalować biblioteki potrzebne do pracy z plikami Excel (3) Pobrać przykładowe zbiory danych, na których będziemy pracować.\r\n",
        "1. Instalacja Pandas\r\n",
        "Samą bilbiotekę instaluje się bardzo prosto. Wystarczy w konsoli wpisać"
      ]
    },
    {
      "cell_type": "code",
      "metadata": {
        "id": "ezIJGGejoW5o",
        "colab": {
          "base_uri": "https://localhost:8080/"
        },
        "outputId": "e7d3ec9b-a242-439d-b2c2-75c6d221221b"
      },
      "source": [
        "pip install pandas"
      ],
      "execution_count": null,
      "outputs": [
        {
          "output_type": "stream",
          "text": [
            "Requirement already satisfied: pandas in /usr/local/lib/python3.6/dist-packages (1.1.5)\n",
            "Requirement already satisfied: numpy>=1.15.4 in /usr/local/lib/python3.6/dist-packages (from pandas) (1.19.5)\n",
            "Requirement already satisfied: pytz>=2017.2 in /usr/local/lib/python3.6/dist-packages (from pandas) (2018.9)\n",
            "Requirement already satisfied: python-dateutil>=2.7.3 in /usr/local/lib/python3.6/dist-packages (from pandas) (2.8.1)\n",
            "Requirement already satisfied: six>=1.5 in /usr/local/lib/python3.6/dist-packages (from python-dateutil>=2.7.3->pandas) (1.15.0)\n"
          ],
          "name": "stdout"
        }
      ]
    },
    {
      "cell_type": "markdown",
      "metadata": {
        "id": "Dr-LsRWWo0Mx"
      },
      "source": [
        "jeżeli korzystamy z Jupyter Notebook, instalowanego w raz z pakietem Anaconda, biblioteka Pandas powinna już być. Możemy to sprawdzić z użyciem polecenia import"
      ]
    },
    {
      "cell_type": "code",
      "metadata": {
        "id": "--soMikWo3Wg"
      },
      "source": [
        "import pandas as pd"
      ],
      "execution_count": null,
      "outputs": []
    },
    {
      "cell_type": "markdown",
      "metadata": {
        "id": "bZPphv37o7en"
      },
      "source": [
        "pd jest standardową nazwą jaką nadaje się tej bibliotece.\r\n",
        "\r\n",
        "2. Instalacja bibliotek do pracy z plikami Excel\r\n",
        "Nie musimy tego robić teraz, jednak w momencie kiedy z użyciem naszej biblioteki Pandas, będziemy potrzebować zaimportować dane z plików Excelowych, będziemy dodatkowo potrzebować paru drobnych bibliotek.\r\n",
        "\r\n",
        "Proponuję je zainstalować odrazu, aby później uniknąć walki z błędami.\r\n",
        "\r\n",
        "Binlioteki:\r\n",
        "\r\n",
        "xlwt – zapis do plików .xls\r\n",
        "\r\n",
        "xlrd – odczyt z plików .xls oraz .xlsx\r\n",
        "\r\n",
        "openpyxl – zapis do plików .xlsx"
      ]
    },
    {
      "cell_type": "code",
      "metadata": {
        "id": "n51SKH8QpBHb",
        "colab": {
          "base_uri": "https://localhost:8080/"
        },
        "outputId": "971e840f-87b0-4f1d-bcee-a9a78fbcd911"
      },
      "source": [
        "pip install xlwt openpyxl xlrd"
      ],
      "execution_count": null,
      "outputs": [
        {
          "output_type": "stream",
          "text": [
            "Requirement already satisfied: xlwt in /usr/local/lib/python3.6/dist-packages (1.3.0)\n",
            "Requirement already satisfied: openpyxl in /usr/local/lib/python3.6/dist-packages (2.5.9)\n",
            "Requirement already satisfied: xlrd in /usr/local/lib/python3.6/dist-packages (1.1.0)\n",
            "Requirement already satisfied: jdcal in /usr/local/lib/python3.6/dist-packages (from openpyxl) (1.4.1)\n",
            "Requirement already satisfied: et-xmlfile in /usr/local/lib/python3.6/dist-packages (from openpyxl) (1.0.1)\n"
          ],
          "name": "stdout"
        }
      ]
    },
    {
      "cell_type": "markdown",
      "metadata": {
        "id": "FXaW_2LzpBpA"
      },
      "source": [
        "3. Przykładowe zbiory danych używane w tutorialu\r\n",
        "W różnych lekcjach będziemy potrzebować innych danych. Cześć z nich będziemy generować w kodzie programów, natomiast część będzie pochodzić z poniższych plików. Proponuje od razu je pobrać i mieć pod ręką.\r\n",
        "\r\n",
        "Pliki:\r\n",
        "\r\n",
        "Imiona – banalny plik z krótką listą imion, wiekiem oraz wynikiem pewnego egzaminu\r\n",
        "\r\n",
        "Halloween – informacje na temat najchętniej kupowanego kostiumu na Halloween w US, w podziale na regiony\r\n",
        "\r\n",
        "Film – niewielka baza filmów, ich popularności, kategorii oraz długości trwania\r\n",
        "\r\n",
        "Cities – zbiór zawierający listę miast oraz kilka danych na ich temat, takich jak populacja czy też lokalizacja\r\n",
        "\r\n",
        "Podsumowując\r\n",
        "To wszystko. Jesteśmy gotowi do rozpoczęcia pracy z bohaterem tego tutorialu. Zaczynajmy!"
      ]
    }
  ]
}