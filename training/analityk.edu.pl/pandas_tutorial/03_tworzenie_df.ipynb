{
  "nbformat": 4,
  "nbformat_minor": 0,
  "metadata": {
    "colab": {
      "name": "03_tworzenie_df.ipynb",
      "provenance": [],
      "collapsed_sections": [],
      "authorship_tag": "ABX9TyOKq2PKhu7F4Gw2F4uQD8Ix",
      "include_colab_link": true
    },
    "kernelspec": {
      "name": "python3",
      "display_name": "Python 3"
    }
  },
  "cells": [
    {
      "cell_type": "markdown",
      "metadata": {
        "id": "view-in-github",
        "colab_type": "text"
      },
      "source": [
        "<a href=\"https://colab.research.google.com/github/KamilBienias/data-science/blob/main/training/analityk.edu.pl/pandas_tutorial/03_tworzenie_df.ipynb\" target=\"_parent\"><img src=\"https://colab.research.google.com/assets/colab-badge.svg\" alt=\"Open In Colab\"/></a>"
      ]
    },
    {
      "cell_type": "code",
      "metadata": {
        "id": "2m8RMUTlpk6l"
      },
      "source": [
        "# https://analityk.edu.pl/python-pandas-tutorial-prosty-dataframe/"
      ],
      "execution_count": null,
      "outputs": []
    },
    {
      "cell_type": "markdown",
      "metadata": {
        "id": "_5lXQpFQpz4w"
      },
      "source": [
        "Na samym początku spojrzymy na przykładowy DataFrame. Skorzystamy z pliku 'imiona'. Najpierw, w naszym programie, zaimportujemy bibliotekę Pandas, a następnie za pomocą funkcji 'read_excel', wczytamy nasz plik. Samą funkcją nie musimy się jeszcze przejmować. Operacje na plikach będziemy omawiać w kolejnych lekcjach."
      ]
    },
    {
      "cell_type": "code",
      "metadata": {
        "colab": {
          "base_uri": "https://localhost:8080/"
        },
        "id": "M-o1sDMIp3DK",
        "outputId": "8347e4d2-2cc6-4a57-e781-cbf10067cd1f"
      },
      "source": [
        "# to jego, ale ja nie robię u siebie na kompie\r\n",
        "# pd.read_excel('c:/python/pandas/imiona.xlsx')\r\n",
        "\r\n",
        "!wget -O imiona.xlsx \"https://drive.google.com/uc?export=download&id=1zNKmAy9PTnHhZ2ZJ1Rdys9VP-C4HkuyU\""
      ],
      "execution_count": null,
      "outputs": [
        {
          "output_type": "stream",
          "text": [
            "--2021-01-17 23:32:19--  https://drive.google.com/uc?export=download&id=1zNKmAy9PTnHhZ2ZJ1Rdys9VP-C4HkuyU\n",
            "Resolving drive.google.com (drive.google.com)... 209.85.200.102, 209.85.200.139, 209.85.200.138, ...\n",
            "Connecting to drive.google.com (drive.google.com)|209.85.200.102|:443... connected.\n",
            "HTTP request sent, awaiting response... 302 Moved Temporarily\n",
            "Location: https://doc-0s-9o-docs.googleusercontent.com/docs/securesc/ha0ro937gcuc7l7deffksulhg5h7mbp1/mui4v2r9vopit6g6h7kef03iqqts7hc4/1610926275000/17661347493353663657/*/1zNKmAy9PTnHhZ2ZJ1Rdys9VP-C4HkuyU?e=download [following]\n",
            "Warning: wildcards not supported in HTTP.\n",
            "--2021-01-17 23:32:20--  https://doc-0s-9o-docs.googleusercontent.com/docs/securesc/ha0ro937gcuc7l7deffksulhg5h7mbp1/mui4v2r9vopit6g6h7kef03iqqts7hc4/1610926275000/17661347493353663657/*/1zNKmAy9PTnHhZ2ZJ1Rdys9VP-C4HkuyU?e=download\n",
            "Resolving doc-0s-9o-docs.googleusercontent.com (doc-0s-9o-docs.googleusercontent.com)... 142.250.125.132, 2607:f8b0:4001:c2f::84\n",
            "Connecting to doc-0s-9o-docs.googleusercontent.com (doc-0s-9o-docs.googleusercontent.com)|142.250.125.132|:443... connected.\n",
            "HTTP request sent, awaiting response... 200 OK\n",
            "Length: 8133 (7.9K) [application/vnd.openxmlformats-officedocument.spreadsheetml.sheet]\n",
            "Saving to: ‘imiona.xlsx’\n",
            "\n",
            "imiona.xlsx         100%[===================>]   7.94K  --.-KB/s    in 0s      \n",
            "\n",
            "2021-01-17 23:32:20 (85.9 MB/s) - ‘imiona.xlsx’ saved [8133/8133]\n",
            "\n"
          ],
          "name": "stdout"
        }
      ]
    },
    {
      "cell_type": "markdown",
      "metadata": {
        "id": "rBWuwT3orZmx"
      },
      "source": [
        "Wygląda zupełnie jak znana nam z Excela tabela. Ma wiersze oraz kolumny. Kolumny mogą być różnych typów, ale o tym jeszcze będziemy rozmawiać.\r\n",
        "\r\n",
        "Dodatkowo pojawiają się 2 rzeczy, na które warto od razy zwrócić uwagę:\r\n",
        "\r\n",
        "Index – jest to swoisty adres danego wiersza lub kolumny. Na obrazku powyżej wskazany jest index wiersza. Indexy to ważna rzecz. Ułatwiają nam jednoznaczną identyfikację danego elementu. W naszym przypadku indexem dla wierszy są liczby. Nie musi tak być. Jako index mogli byśmy ustawić imię, pod warunkiem że dane imię występowało by w pliku tylko raz.\r\n",
        "NaN – czyli puste komórki. Jeden z największych wrogów prawdziwych analityków danych. Będziemy na nie często zwracać uwagę i podejmować odpowiednie akcje aby nie wpływały negatywnie na wyniki naszych analiz. Czasami będziemy kasować wiesze z wartościami NaN, czasami zamieniać je na zera itd\r\n",
        "To wszystko będziemy omawiać w kolejnych lekcjach, ale krok po kroku.\r\n",
        "\r\n",
        "**Pusty DataFrame**\r\n",
        "\r\n",
        "\r\n",
        "Zobaczmy jak możemy utworzyć pusty DataFrame za pomocą funkcji pd.DataFrame()"
      ]
    },
    {
      "cell_type": "code",
      "metadata": {
        "colab": {
          "base_uri": "https://localhost:8080/"
        },
        "id": "hNASigfXru5R",
        "outputId": "e78c24ac-4f1f-4771-c134-db5d38b9a75c"
      },
      "source": [
        "import pandas as pd\r\n",
        "zbior = pd.DataFrame()\r\n",
        "print(zbior)"
      ],
      "execution_count": null,
      "outputs": [
        {
          "output_type": "stream",
          "text": [
            "Empty DataFrame\n",
            "Columns: []\n",
            "Index: []\n"
          ],
          "name": "stdout"
        }
      ]
    },
    {
      "cell_type": "markdown",
      "metadata": {
        "id": "Q4HkMwPLthfp"
      },
      "source": [
        "## **DataFrame na podstawie listy**"
      ]
    },
    {
      "cell_type": "markdown",
      "metadata": {
        "id": "zjSJPA0Lr68v"
      },
      "source": [
        "Czas na utworzenie DataFrame który będzie zawierać dane. Jednym ze sposobów jest utworzenie go na podstawie list."
      ]
    },
    {
      "cell_type": "code",
      "metadata": {
        "id": "PTyPSGd9r96H"
      },
      "source": [
        "lista = [1,2,5,7]\r\n",
        "df_liczby = pd.DataFrame(lista)"
      ],
      "execution_count": null,
      "outputs": []
    },
    {
      "cell_type": "markdown",
      "metadata": {
        "id": "mJ9uM6XHsFcP"
      },
      "source": [
        "Kolumna po lewej stronie to nasz index. Od 0 do 3. Identyfikuje on jednoznacznie dany wiersz. Kolumna z wartościami ma etykietę 0. Dla tego że nie nadaliśmy jej jeszcze żadnej nazwy. Zmieńmy to:"
      ]
    },
    {
      "cell_type": "code",
      "metadata": {
        "colab": {
          "base_uri": "https://localhost:8080/",
          "height": 172
        },
        "id": "lV2Ful1FsGp_",
        "outputId": "67c5cd23-09cd-4a7f-d26c-ef32891160d2"
      },
      "source": [
        "df_liczby.columns = ['Liczby']\r\n",
        "df_liczby"
      ],
      "execution_count": null,
      "outputs": [
        {
          "output_type": "execute_result",
          "data": {
            "text/html": [
              "<div>\n",
              "<style scoped>\n",
              "    .dataframe tbody tr th:only-of-type {\n",
              "        vertical-align: middle;\n",
              "    }\n",
              "\n",
              "    .dataframe tbody tr th {\n",
              "        vertical-align: top;\n",
              "    }\n",
              "\n",
              "    .dataframe thead th {\n",
              "        text-align: right;\n",
              "    }\n",
              "</style>\n",
              "<table border=\"1\" class=\"dataframe\">\n",
              "  <thead>\n",
              "    <tr style=\"text-align: right;\">\n",
              "      <th></th>\n",
              "      <th>Liczby</th>\n",
              "    </tr>\n",
              "  </thead>\n",
              "  <tbody>\n",
              "    <tr>\n",
              "      <th>0</th>\n",
              "      <td>1</td>\n",
              "    </tr>\n",
              "    <tr>\n",
              "      <th>1</th>\n",
              "      <td>2</td>\n",
              "    </tr>\n",
              "    <tr>\n",
              "      <th>2</th>\n",
              "      <td>5</td>\n",
              "    </tr>\n",
              "    <tr>\n",
              "      <th>3</th>\n",
              "      <td>7</td>\n",
              "    </tr>\n",
              "  </tbody>\n",
              "</table>\n",
              "</div>"
            ],
            "text/plain": [
              "   Liczby\n",
              "0       1\n",
              "1       2\n",
              "2       5\n",
              "3       7"
            ]
          },
          "metadata": {
            "tags": []
          },
          "execution_count": 13
        }
      ]
    },
    {
      "cell_type": "markdown",
      "metadata": {
        "id": "whxUUcFItBoo"
      },
      "source": [
        "Możemy też stworzyć DataFrame z klikoma kolumnami:"
      ]
    },
    {
      "cell_type": "code",
      "metadata": {
        "colab": {
          "base_uri": "https://localhost:8080/"
        },
        "id": "_IYUDvnztCRN",
        "outputId": "3a16abaf-a195-41c2-8fde-fbf83c231c00"
      },
      "source": [
        "# listy są wierszami w df\r\n",
        "lista = [[1,2,5,7],[11,22,55,77]]\r\n",
        "df = pd.DataFrame(lista)\r\n",
        "df.columns = ['One', 'Two', 'Three', 'Four']\r\n",
        "print(df)"
      ],
      "execution_count": null,
      "outputs": [
        {
          "output_type": "stream",
          "text": [
            "   One  Two  Three  Four\n",
            "0    1    2      5     7\n",
            "1   11   22     55    77\n"
          ],
          "name": "stdout"
        }
      ]
    },
    {
      "cell_type": "markdown",
      "metadata": {
        "id": "niPzSlpGtaww"
      },
      "source": [
        "## **DataFrame na podstawie słownika**"
      ]
    },
    {
      "cell_type": "markdown",
      "metadata": {
        "id": "_bJLBXwwtYWg"
      },
      "source": [
        "Innym sposobem utworzenia DataFrame, jest na podstawie słownika. W tym przypadku klucze słownika, stają się automatycznie nazwami kolumn. Bardzo wygodne. Wygląda to równie prosto jak w przypadku życia list:"
      ]
    },
    {
      "cell_type": "code",
      "metadata": {
        "id": "6z5wuxRQtoog"
      },
      "source": [
        "slownik = {\r\n",
        "    'Imie':['Ania','Michał','Przemek'], \r\n",
        "    'Wiek':[18,25,40]\r\n",
        "    }\r\n",
        "\r\n",
        "df_slownik = pd.DataFrame(slownik)\r\n",
        "print(df_slownik)"
      ],
      "execution_count": null,
      "outputs": []
    },
    {
      "cell_type": "markdown",
      "metadata": {
        "id": "sUahHIZDuFng"
      },
      "source": [
        "## **DataFrame, na podstawie Series**"
      ]
    },
    {
      "cell_type": "markdown",
      "metadata": {
        "id": "5AYJABOguI0S"
      },
      "source": [
        "I jeszcze jeden sposób utworzenia DataFrame o którym warta wspomnieć na tym etapie. Otóż w Pandas oprócz DataFrame, mamy jeszcze jeden specyficzny typ danych, Mianowicie Series.\r\n",
        "\r\n",
        "Series jest bardzo podobne do list, z tym wyjątkiem że w przeciwieństwie do list Series posiada index, zupełnie jak DataFrame. Spójrzmy:"
      ]
    },
    {
      "cell_type": "code",
      "metadata": {
        "colab": {
          "base_uri": "https://localhost:8080/"
        },
        "id": "NSJHX80quL0b",
        "outputId": "d56867a8-60d6-440b-f98d-a094dacf9f29"
      },
      "source": [
        "s = pd.Series([11,33,55,99])\r\n",
        "print(s)"
      ],
      "execution_count": null,
      "outputs": [
        {
          "output_type": "stream",
          "text": [
            "0    11\n",
            "1    33\n",
            "2    55\n",
            "3    99\n",
            "dtype: int64\n"
          ],
          "name": "stdout"
        }
      ]
    },
    {
      "cell_type": "markdown",
      "metadata": {
        "id": "uI0cYvzPuZS_"
      },
      "source": [
        "Tak jak widzimy mamy zarówno index jak i kolumnę z wartościami. DataFrame utworzymy w znany nam sposób:"
      ]
    },
    {
      "cell_type": "code",
      "metadata": {
        "colab": {
          "base_uri": "https://localhost:8080/",
          "height": 172
        },
        "id": "CM90VMhLuZ14",
        "outputId": "662d870e-88fc-41be-b86e-afd69304814b"
      },
      "source": [
        "pd.DataFrame(s)"
      ],
      "execution_count": null,
      "outputs": [
        {
          "output_type": "execute_result",
          "data": {
            "text/html": [
              "<div>\n",
              "<style scoped>\n",
              "    .dataframe tbody tr th:only-of-type {\n",
              "        vertical-align: middle;\n",
              "    }\n",
              "\n",
              "    .dataframe tbody tr th {\n",
              "        vertical-align: top;\n",
              "    }\n",
              "\n",
              "    .dataframe thead th {\n",
              "        text-align: right;\n",
              "    }\n",
              "</style>\n",
              "<table border=\"1\" class=\"dataframe\">\n",
              "  <thead>\n",
              "    <tr style=\"text-align: right;\">\n",
              "      <th></th>\n",
              "      <th>0</th>\n",
              "    </tr>\n",
              "  </thead>\n",
              "  <tbody>\n",
              "    <tr>\n",
              "      <th>0</th>\n",
              "      <td>11</td>\n",
              "    </tr>\n",
              "    <tr>\n",
              "      <th>1</th>\n",
              "      <td>33</td>\n",
              "    </tr>\n",
              "    <tr>\n",
              "      <th>2</th>\n",
              "      <td>55</td>\n",
              "    </tr>\n",
              "    <tr>\n",
              "      <th>3</th>\n",
              "      <td>99</td>\n",
              "    </tr>\n",
              "  </tbody>\n",
              "</table>\n",
              "</div>"
            ],
            "text/plain": [
              "    0\n",
              "0  11\n",
              "1  33\n",
              "2  55\n",
              "3  99"
            ]
          },
          "metadata": {
            "tags": []
          },
          "execution_count": 16
        }
      ]
    }
  ]
}