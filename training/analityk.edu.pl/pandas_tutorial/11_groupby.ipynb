{
  "nbformat": 4,
  "nbformat_minor": 0,
  "metadata": {
    "colab": {
      "name": "11_groupby.ipynb",
      "provenance": [],
      "collapsed_sections": [],
      "authorship_tag": "ABX9TyOetpvs8NfVMVaDvDXeYN9a",
      "include_colab_link": true
    },
    "kernelspec": {
      "name": "python3",
      "display_name": "Python 3"
    }
  },
  "cells": [
    {
      "cell_type": "markdown",
      "metadata": {
        "id": "view-in-github",
        "colab_type": "text"
      },
      "source": [
        "<a href=\"https://colab.research.google.com/github/KamilBienias/data-science/blob/main/training/analityk.edu.pl/pandas_tutorial/11_groupby.ipynb\" target=\"_parent\"><img src=\"https://colab.research.google.com/assets/colab-badge.svg\" alt=\"Open In Colab\"/></a>"
      ]
    },
    {
      "cell_type": "code",
      "metadata": {
        "id": "01klhTWcVOYf"
      },
      "source": [
        "# https://analityk.edu.pl/python-pandas-tutorial-groupowanie-danych-z-group-by/"
      ],
      "execution_count": 2,
      "outputs": []
    },
    {
      "cell_type": "markdown",
      "metadata": {
        "id": "dPLdKmjgXGzE"
      },
      "source": [
        "# **Python Pandas Tutorial – groupowanie danych, z group by**"
      ]
    },
    {
      "cell_type": "markdown",
      "metadata": {
        "id": "THEb8p1lXgxS"
      },
      "source": [
        "Grupowanie, agregowanie, transformowanie danych jest to jedno z zadań które wykonuje bardzo często, każdy analityk danych. Nie jest więc zaskoczeniem, że i Pandas przychodzi tutaj z zestawem prostych, lecz skutecznych funkcji, takich jak pandas group by, sprawiając że jest to łatwe i przyjemne. W tej i kilku kolejnych lekcjach, pokaże najważniejsze z nich.\r\n",
        "\r\n",
        "Dla zobrazowania działania funkcji group by, posłużymy się zbiorem danych films, który znamy z poprzednich lekcji."
      ]
    },
    {
      "cell_type": "code",
      "metadata": {
        "colab": {
          "base_uri": "https://localhost:8080/",
          "height": 417
        },
        "id": "HoxgPpbhXxqs",
        "outputId": "4fb487a7-70a0-4684-a877-fbccb41bf540"
      },
      "source": [
        "import pandas as pd\r\n",
        "\r\n",
        "films = pd.read_csv('https://drive.google.com/uc?export=download&id=1Ofob2EV42qPeJSpIlhxnsEMAdEvnop7l', \r\n",
        "                    sep=';', \r\n",
        "                    encoding = \"ISO-8859-1\",\r\n",
        "                    skiprows=[1],\r\n",
        "                    dtype={'Length':'float64', 'Popularity':'float64'},\r\n",
        "                    usecols=['Year','Length','Title','Subject','Popularity','Awards'],\r\n",
        "                    converters={'Awards':lambda x: True if x == 'Yes' else False})\r\n",
        "films"
      ],
      "execution_count": 3,
      "outputs": [
        {
          "output_type": "execute_result",
          "data": {
            "text/html": [
              "<div>\n",
              "<style scoped>\n",
              "    .dataframe tbody tr th:only-of-type {\n",
              "        vertical-align: middle;\n",
              "    }\n",
              "\n",
              "    .dataframe tbody tr th {\n",
              "        vertical-align: top;\n",
              "    }\n",
              "\n",
              "    .dataframe thead th {\n",
              "        text-align: right;\n",
              "    }\n",
              "</style>\n",
              "<table border=\"1\" class=\"dataframe\">\n",
              "  <thead>\n",
              "    <tr style=\"text-align: right;\">\n",
              "      <th></th>\n",
              "      <th>Year</th>\n",
              "      <th>Length</th>\n",
              "      <th>Title</th>\n",
              "      <th>Subject</th>\n",
              "      <th>Popularity</th>\n",
              "      <th>Awards</th>\n",
              "    </tr>\n",
              "  </thead>\n",
              "  <tbody>\n",
              "    <tr>\n",
              "      <th>0</th>\n",
              "      <td>1990</td>\n",
              "      <td>111.0</td>\n",
              "      <td>Tie Me Up! Tie Me Down!</td>\n",
              "      <td>Comedy</td>\n",
              "      <td>68.0</td>\n",
              "      <td>False</td>\n",
              "    </tr>\n",
              "    <tr>\n",
              "      <th>1</th>\n",
              "      <td>1991</td>\n",
              "      <td>113.0</td>\n",
              "      <td>High Heels</td>\n",
              "      <td>Comedy</td>\n",
              "      <td>68.0</td>\n",
              "      <td>False</td>\n",
              "    </tr>\n",
              "    <tr>\n",
              "      <th>2</th>\n",
              "      <td>1983</td>\n",
              "      <td>104.0</td>\n",
              "      <td>Dead Zone, The</td>\n",
              "      <td>Horror</td>\n",
              "      <td>79.0</td>\n",
              "      <td>False</td>\n",
              "    </tr>\n",
              "    <tr>\n",
              "      <th>3</th>\n",
              "      <td>1979</td>\n",
              "      <td>122.0</td>\n",
              "      <td>Cuba</td>\n",
              "      <td>Action</td>\n",
              "      <td>6.0</td>\n",
              "      <td>False</td>\n",
              "    </tr>\n",
              "    <tr>\n",
              "      <th>4</th>\n",
              "      <td>1978</td>\n",
              "      <td>94.0</td>\n",
              "      <td>Days of Heaven</td>\n",
              "      <td>Drama</td>\n",
              "      <td>14.0</td>\n",
              "      <td>False</td>\n",
              "    </tr>\n",
              "    <tr>\n",
              "      <th>...</th>\n",
              "      <td>...</td>\n",
              "      <td>...</td>\n",
              "      <td>...</td>\n",
              "      <td>...</td>\n",
              "      <td>...</td>\n",
              "      <td>...</td>\n",
              "    </tr>\n",
              "    <tr>\n",
              "      <th>1654</th>\n",
              "      <td>1932</td>\n",
              "      <td>226.0</td>\n",
              "      <td>Shadow of the Eagle, The</td>\n",
              "      <td>Action</td>\n",
              "      <td>19.0</td>\n",
              "      <td>False</td>\n",
              "    </tr>\n",
              "    <tr>\n",
              "      <th>1655</th>\n",
              "      <td>1989</td>\n",
              "      <td>103.0</td>\n",
              "      <td>Blood &amp; Guns</td>\n",
              "      <td>Action</td>\n",
              "      <td>43.0</td>\n",
              "      <td>False</td>\n",
              "    </tr>\n",
              "    <tr>\n",
              "      <th>1656</th>\n",
              "      <td>1988</td>\n",
              "      <td>78.0</td>\n",
              "      <td>Hot Money</td>\n",
              "      <td>Drama</td>\n",
              "      <td>19.0</td>\n",
              "      <td>False</td>\n",
              "    </tr>\n",
              "    <tr>\n",
              "      <th>1657</th>\n",
              "      <td>1977</td>\n",
              "      <td>75.0</td>\n",
              "      <td>Comedy Tonight</td>\n",
              "      <td>Comedy</td>\n",
              "      <td>18.0</td>\n",
              "      <td>False</td>\n",
              "    </tr>\n",
              "    <tr>\n",
              "      <th>1658</th>\n",
              "      <td>1991</td>\n",
              "      <td>65.0</td>\n",
              "      <td>Robin Williams</td>\n",
              "      <td>Comedy</td>\n",
              "      <td>4.0</td>\n",
              "      <td>False</td>\n",
              "    </tr>\n",
              "  </tbody>\n",
              "</table>\n",
              "<p>1659 rows × 6 columns</p>\n",
              "</div>"
            ],
            "text/plain": [
              "      Year  Length                     Title Subject  Popularity  Awards\n",
              "0     1990   111.0   Tie Me Up! Tie Me Down!  Comedy        68.0   False\n",
              "1     1991   113.0                High Heels  Comedy        68.0   False\n",
              "2     1983   104.0            Dead Zone, The  Horror        79.0   False\n",
              "3     1979   122.0                      Cuba  Action         6.0   False\n",
              "4     1978    94.0            Days of Heaven   Drama        14.0   False\n",
              "...    ...     ...                       ...     ...         ...     ...\n",
              "1654  1932   226.0  Shadow of the Eagle, The  Action        19.0   False\n",
              "1655  1989   103.0              Blood & Guns  Action        43.0   False\n",
              "1656  1988    78.0                 Hot Money   Drama        19.0   False\n",
              "1657  1977    75.0            Comedy Tonight  Comedy        18.0   False\n",
              "1658  1991    65.0            Robin Williams  Comedy         4.0   False\n",
              "\n",
              "[1659 rows x 6 columns]"
            ]
          },
          "metadata": {
            "tags": []
          },
          "execution_count": 3
        }
      ]
    },
    {
      "cell_type": "markdown",
      "metadata": {
        "id": "HG27xWoDYRPp"
      },
      "source": [
        "## **Pandas Group by – prosty przykład**"
      ]
    },
    {
      "cell_type": "markdown",
      "metadata": {
        "id": "yb36xYhLYUta"
      },
      "source": [
        "Powiedzmy że chcemy poznać ilość filmów w naszym DataFrame dla poszczególnych lat. Użyjemy funkcji group by, która przyjmuje jako parametr nazwę kolumny po której chcemy dokonać grupowania oraz funkcji count() która zliczy nam rekordy:"
      ]
    },
    {
      "cell_type": "code",
      "metadata": {
        "colab": {
          "base_uri": "https://localhost:8080/",
          "height": 448
        },
        "id": "oWWJvfXWYgaL",
        "outputId": "54acb7ff-199c-40e8-cf5a-0e1ecbc94f2e"
      },
      "source": [
        "films.groupby('Year').count()"
      ],
      "execution_count": 4,
      "outputs": [
        {
          "output_type": "execute_result",
          "data": {
            "text/html": [
              "<div>\n",
              "<style scoped>\n",
              "    .dataframe tbody tr th:only-of-type {\n",
              "        vertical-align: middle;\n",
              "    }\n",
              "\n",
              "    .dataframe tbody tr th {\n",
              "        vertical-align: top;\n",
              "    }\n",
              "\n",
              "    .dataframe thead th {\n",
              "        text-align: right;\n",
              "    }\n",
              "</style>\n",
              "<table border=\"1\" class=\"dataframe\">\n",
              "  <thead>\n",
              "    <tr style=\"text-align: right;\">\n",
              "      <th></th>\n",
              "      <th>Length</th>\n",
              "      <th>Title</th>\n",
              "      <th>Subject</th>\n",
              "      <th>Popularity</th>\n",
              "      <th>Awards</th>\n",
              "    </tr>\n",
              "    <tr>\n",
              "      <th>Year</th>\n",
              "      <th></th>\n",
              "      <th></th>\n",
              "      <th></th>\n",
              "      <th></th>\n",
              "      <th></th>\n",
              "    </tr>\n",
              "  </thead>\n",
              "  <tbody>\n",
              "    <tr>\n",
              "      <th>1920</th>\n",
              "      <td>1</td>\n",
              "      <td>1</td>\n",
              "      <td>1</td>\n",
              "      <td>1</td>\n",
              "      <td>1</td>\n",
              "    </tr>\n",
              "    <tr>\n",
              "      <th>1923</th>\n",
              "      <td>1</td>\n",
              "      <td>1</td>\n",
              "      <td>1</td>\n",
              "      <td>0</td>\n",
              "      <td>1</td>\n",
              "    </tr>\n",
              "    <tr>\n",
              "      <th>1924</th>\n",
              "      <td>3</td>\n",
              "      <td>3</td>\n",
              "      <td>3</td>\n",
              "      <td>3</td>\n",
              "      <td>3</td>\n",
              "    </tr>\n",
              "    <tr>\n",
              "      <th>1925</th>\n",
              "      <td>1</td>\n",
              "      <td>1</td>\n",
              "      <td>1</td>\n",
              "      <td>1</td>\n",
              "      <td>1</td>\n",
              "    </tr>\n",
              "    <tr>\n",
              "      <th>1926</th>\n",
              "      <td>4</td>\n",
              "      <td>4</td>\n",
              "      <td>4</td>\n",
              "      <td>4</td>\n",
              "      <td>4</td>\n",
              "    </tr>\n",
              "    <tr>\n",
              "      <th>...</th>\n",
              "      <td>...</td>\n",
              "      <td>...</td>\n",
              "      <td>...</td>\n",
              "      <td>...</td>\n",
              "      <td>...</td>\n",
              "    </tr>\n",
              "    <tr>\n",
              "      <th>1991</th>\n",
              "      <td>119</td>\n",
              "      <td>129</td>\n",
              "      <td>129</td>\n",
              "      <td>129</td>\n",
              "      <td>129</td>\n",
              "    </tr>\n",
              "    <tr>\n",
              "      <th>1992</th>\n",
              "      <td>84</td>\n",
              "      <td>88</td>\n",
              "      <td>88</td>\n",
              "      <td>88</td>\n",
              "      <td>88</td>\n",
              "    </tr>\n",
              "    <tr>\n",
              "      <th>1993</th>\n",
              "      <td>15</td>\n",
              "      <td>21</td>\n",
              "      <td>21</td>\n",
              "      <td>21</td>\n",
              "      <td>21</td>\n",
              "    </tr>\n",
              "    <tr>\n",
              "      <th>1996</th>\n",
              "      <td>1</td>\n",
              "      <td>1</td>\n",
              "      <td>1</td>\n",
              "      <td>1</td>\n",
              "      <td>1</td>\n",
              "    </tr>\n",
              "    <tr>\n",
              "      <th>1997</th>\n",
              "      <td>1</td>\n",
              "      <td>1</td>\n",
              "      <td>1</td>\n",
              "      <td>1</td>\n",
              "      <td>1</td>\n",
              "    </tr>\n",
              "  </tbody>\n",
              "</table>\n",
              "<p>74 rows × 5 columns</p>\n",
              "</div>"
            ],
            "text/plain": [
              "      Length  Title  Subject  Popularity  Awards\n",
              "Year                                            \n",
              "1920       1      1        1           1       1\n",
              "1923       1      1        1           0       1\n",
              "1924       3      3        3           3       3\n",
              "1925       1      1        1           1       1\n",
              "1926       4      4        4           4       4\n",
              "...      ...    ...      ...         ...     ...\n",
              "1991     119    129      129         129     129\n",
              "1992      84     88       88          88      88\n",
              "1993      15     21       21          21      21\n",
              "1996       1      1        1           1       1\n",
              "1997       1      1        1           1       1\n",
              "\n",
              "[74 rows x 5 columns]"
            ]
          },
          "metadata": {
            "tags": []
          },
          "execution_count": 4
        }
      ]
    },
    {
      "cell_type": "markdown",
      "metadata": {
        "id": "jrHhoWGqZrjN"
      },
      "source": [
        "Tym samym zliczyliśmy ile jest wartości w każdej kolumnie dla danego roku (innych niż NaN).\r\n",
        "\r\n",
        "Bez problemu, możemy skupić się na jednej kolumnie, wykonać operację na przykład mean() i policzyć średnią popularność filmu:"
      ]
    },
    {
      "cell_type": "code",
      "metadata": {
        "colab": {
          "base_uri": "https://localhost:8080/"
        },
        "id": "f69GsbZLZ20a",
        "outputId": "3aeaea7c-0ed2-49c5-b7f3-39c3093af9bc"
      },
      "source": [
        "films.groupby('Year').Popularity.mean()"
      ],
      "execution_count": 5,
      "outputs": [
        {
          "output_type": "execute_result",
          "data": {
            "text/plain": [
              "Year\n",
              "1920    29.000000\n",
              "1923          NaN\n",
              "1924    72.000000\n",
              "1925    73.000000\n",
              "1926    63.000000\n",
              "          ...    \n",
              "1991    41.984496\n",
              "1992    41.454545\n",
              "1993    41.666667\n",
              "1996    39.000000\n",
              "1997    60.000000\n",
              "Name: Popularity, Length: 74, dtype: float64"
            ]
          },
          "metadata": {
            "tags": []
          },
          "execution_count": 5
        }
      ]
    },
    {
      "cell_type": "markdown",
      "metadata": {
        "id": "lZBsKg8iN8Ea"
      },
      "source": [
        "## **Pandas Group by, dla kilku kolumn**"
      ]
    },
    {
      "cell_type": "markdown",
      "metadata": {
        "id": "xBSPJM0xOBAL"
      },
      "source": [
        "Grupowanie może odbyć się również po większej ilości kolumn. Możemy policzyć średnią długość trwania filmu dla danego roku, dodatkowo w rozbiciu na np kategorię filmu. W tym celu do naszej funkcji group by, podamy 2 parametry:"
      ]
    },
    {
      "cell_type": "code",
      "metadata": {
        "colab": {
          "base_uri": "https://localhost:8080/"
        },
        "id": "Cw74JH9wOGw2",
        "outputId": "afc6942d-2546-422c-e674-679312a3c12f"
      },
      "source": [
        "films.groupby(['Year','Subject']).Length.mean()"
      ],
      "execution_count": 8,
      "outputs": [
        {
          "output_type": "execute_result",
          "data": {
            "text/plain": [
              "Year  Subject        \n",
              "1920  Drama              137.000000\n",
              "1923  Western             57.000000\n",
              "1924  Drama              109.333333\n",
              "1925  Drama              125.000000\n",
              "1926  Action             126.000000\n",
              "                            ...    \n",
              "1993  Music               53.000000\n",
              "      Mystery             76.000000\n",
              "      Western             80.000000\n",
              "1996  Horror              96.000000\n",
              "1997  Science Fiction    109.000000\n",
              "Name: Length, Length: 361, dtype: float64"
            ]
          },
          "metadata": {
            "tags": []
          },
          "execution_count": 8
        }
      ]
    },
    {
      "cell_type": "markdown",
      "metadata": {
        "id": "zTulmVdkTrV8"
      },
      "source": [
        "## **Pandas Group by – funkcja agg**"
      ]
    },
    {
      "cell_type": "markdown",
      "metadata": {
        "id": "CHxaCYpFT6SM"
      },
      "source": [
        "Powyżej zobaczyliśmy, że grupowanie dla prostych operacji jest bardzo proste w Pandas. A co jeżeli chcemy dla danej grupy wykonać kilka obliczeń? Np minimalną oraz maksymalną długość filmu oraz dodatkowo minimalną oraz maksymalną popularność filmu? Do tego celu użyjemy funcji agg, która znacząco zwiększa nasze możliwości.\r\n",
        "\r\n",
        "Najpierw zobaczmy jak ona wygląda:"
      ]
    },
    {
      "cell_type": "code",
      "metadata": {
        "colab": {
          "base_uri": "https://localhost:8080/",
          "height": 479
        },
        "id": "PK7nnuTfUlV3",
        "outputId": "235e9a57-8153-4560-e266-f8c73bb215ec"
      },
      "source": [
        "films.groupby('Year').agg({'Popularity':['min','max'], 'Length':['min','max']})"
      ],
      "execution_count": 9,
      "outputs": [
        {
          "output_type": "execute_result",
          "data": {
            "text/html": [
              "<div>\n",
              "<style scoped>\n",
              "    .dataframe tbody tr th:only-of-type {\n",
              "        vertical-align: middle;\n",
              "    }\n",
              "\n",
              "    .dataframe tbody tr th {\n",
              "        vertical-align: top;\n",
              "    }\n",
              "\n",
              "    .dataframe thead tr th {\n",
              "        text-align: left;\n",
              "    }\n",
              "\n",
              "    .dataframe thead tr:last-of-type th {\n",
              "        text-align: right;\n",
              "    }\n",
              "</style>\n",
              "<table border=\"1\" class=\"dataframe\">\n",
              "  <thead>\n",
              "    <tr>\n",
              "      <th></th>\n",
              "      <th colspan=\"2\" halign=\"left\">Popularity</th>\n",
              "      <th colspan=\"2\" halign=\"left\">Length</th>\n",
              "    </tr>\n",
              "    <tr>\n",
              "      <th></th>\n",
              "      <th>min</th>\n",
              "      <th>max</th>\n",
              "      <th>min</th>\n",
              "      <th>max</th>\n",
              "    </tr>\n",
              "    <tr>\n",
              "      <th>Year</th>\n",
              "      <th></th>\n",
              "      <th></th>\n",
              "      <th></th>\n",
              "      <th></th>\n",
              "    </tr>\n",
              "  </thead>\n",
              "  <tbody>\n",
              "    <tr>\n",
              "      <th>1920</th>\n",
              "      <td>29.0</td>\n",
              "      <td>29.0</td>\n",
              "      <td>137.0</td>\n",
              "      <td>137.0</td>\n",
              "    </tr>\n",
              "    <tr>\n",
              "      <th>1923</th>\n",
              "      <td>NaN</td>\n",
              "      <td>NaN</td>\n",
              "      <td>57.0</td>\n",
              "      <td>57.0</td>\n",
              "    </tr>\n",
              "    <tr>\n",
              "      <th>1924</th>\n",
              "      <td>63.0</td>\n",
              "      <td>79.0</td>\n",
              "      <td>95.0</td>\n",
              "      <td>123.0</td>\n",
              "    </tr>\n",
              "    <tr>\n",
              "      <th>1925</th>\n",
              "      <td>73.0</td>\n",
              "      <td>73.0</td>\n",
              "      <td>125.0</td>\n",
              "      <td>125.0</td>\n",
              "    </tr>\n",
              "    <tr>\n",
              "      <th>1926</th>\n",
              "      <td>49.0</td>\n",
              "      <td>76.0</td>\n",
              "      <td>66.0</td>\n",
              "      <td>139.0</td>\n",
              "    </tr>\n",
              "    <tr>\n",
              "      <th>...</th>\n",
              "      <td>...</td>\n",
              "      <td>...</td>\n",
              "      <td>...</td>\n",
              "      <td>...</td>\n",
              "    </tr>\n",
              "    <tr>\n",
              "      <th>1991</th>\n",
              "      <td>1.0</td>\n",
              "      <td>88.0</td>\n",
              "      <td>16.0</td>\n",
              "      <td>240.0</td>\n",
              "    </tr>\n",
              "    <tr>\n",
              "      <th>1992</th>\n",
              "      <td>0.0</td>\n",
              "      <td>88.0</td>\n",
              "      <td>52.0</td>\n",
              "      <td>286.0</td>\n",
              "    </tr>\n",
              "    <tr>\n",
              "      <th>1993</th>\n",
              "      <td>0.0</td>\n",
              "      <td>80.0</td>\n",
              "      <td>30.0</td>\n",
              "      <td>108.0</td>\n",
              "    </tr>\n",
              "    <tr>\n",
              "      <th>1996</th>\n",
              "      <td>39.0</td>\n",
              "      <td>39.0</td>\n",
              "      <td>96.0</td>\n",
              "      <td>96.0</td>\n",
              "    </tr>\n",
              "    <tr>\n",
              "      <th>1997</th>\n",
              "      <td>60.0</td>\n",
              "      <td>60.0</td>\n",
              "      <td>109.0</td>\n",
              "      <td>109.0</td>\n",
              "    </tr>\n",
              "  </tbody>\n",
              "</table>\n",
              "<p>74 rows × 4 columns</p>\n",
              "</div>"
            ],
            "text/plain": [
              "     Popularity       Length       \n",
              "            min   max    min    max\n",
              "Year                               \n",
              "1920       29.0  29.0  137.0  137.0\n",
              "1923        NaN   NaN   57.0   57.0\n",
              "1924       63.0  79.0   95.0  123.0\n",
              "1925       73.0  73.0  125.0  125.0\n",
              "1926       49.0  76.0   66.0  139.0\n",
              "...         ...   ...    ...    ...\n",
              "1991        1.0  88.0   16.0  240.0\n",
              "1992        0.0  88.0   52.0  286.0\n",
              "1993        0.0  80.0   30.0  108.0\n",
              "1996       39.0  39.0   96.0   96.0\n",
              "1997       60.0  60.0  109.0  109.0\n",
              "\n",
              "[74 rows x 4 columns]"
            ]
          },
          "metadata": {
            "tags": []
          },
          "execution_count": 9
        }
      ]
    },
    {
      "cell_type": "markdown",
      "metadata": {
        "id": "gfkU7RAPWFpe"
      },
      "source": [
        "Funkcję możemy wywołać na kilka sposobów. W powyższym przykładnie wywołujemy ją ze słownikiem. Jako klucz podajemy kolumnę, a jako wartość listę operacji, którą chcemy wykonać. Innym sposobem wywołania funkcji agg, jest bardzo wygodny sposób, który pozwala nam od razu nadać nazwy naszym kolumnom:"
      ]
    },
    {
      "cell_type": "code",
      "metadata": {
        "colab": {
          "base_uri": "https://localhost:8080/",
          "height": 448
        },
        "id": "vjZmJkiOWWEU",
        "outputId": "3fe75204-fb0b-48b8-9842-e9c19166362b"
      },
      "source": [
        "films.groupby('Year').agg(mininalna_popularnosc=('Popularity', 'min'),\r\n",
        "                          maksymalna_popularnosc=('Popularity', 'max'),\r\n",
        "                          srednia_dlugosc=('Length', 'mean'))"
      ],
      "execution_count": 11,
      "outputs": [
        {
          "output_type": "execute_result",
          "data": {
            "text/html": [
              "<div>\n",
              "<style scoped>\n",
              "    .dataframe tbody tr th:only-of-type {\n",
              "        vertical-align: middle;\n",
              "    }\n",
              "\n",
              "    .dataframe tbody tr th {\n",
              "        vertical-align: top;\n",
              "    }\n",
              "\n",
              "    .dataframe thead th {\n",
              "        text-align: right;\n",
              "    }\n",
              "</style>\n",
              "<table border=\"1\" class=\"dataframe\">\n",
              "  <thead>\n",
              "    <tr style=\"text-align: right;\">\n",
              "      <th></th>\n",
              "      <th>mininalna_popularnosc</th>\n",
              "      <th>maksymalna_popularnosc</th>\n",
              "      <th>srednia_dlugosc</th>\n",
              "    </tr>\n",
              "    <tr>\n",
              "      <th>Year</th>\n",
              "      <th></th>\n",
              "      <th></th>\n",
              "      <th></th>\n",
              "    </tr>\n",
              "  </thead>\n",
              "  <tbody>\n",
              "    <tr>\n",
              "      <th>1920</th>\n",
              "      <td>29.0</td>\n",
              "      <td>29.0</td>\n",
              "      <td>137.000000</td>\n",
              "    </tr>\n",
              "    <tr>\n",
              "      <th>1923</th>\n",
              "      <td>NaN</td>\n",
              "      <td>NaN</td>\n",
              "      <td>57.000000</td>\n",
              "    </tr>\n",
              "    <tr>\n",
              "      <th>1924</th>\n",
              "      <td>63.0</td>\n",
              "      <td>79.0</td>\n",
              "      <td>109.333333</td>\n",
              "    </tr>\n",
              "    <tr>\n",
              "      <th>1925</th>\n",
              "      <td>73.0</td>\n",
              "      <td>73.0</td>\n",
              "      <td>125.000000</td>\n",
              "    </tr>\n",
              "    <tr>\n",
              "      <th>1926</th>\n",
              "      <td>49.0</td>\n",
              "      <td>76.0</td>\n",
              "      <td>110.000000</td>\n",
              "    </tr>\n",
              "    <tr>\n",
              "      <th>...</th>\n",
              "      <td>...</td>\n",
              "      <td>...</td>\n",
              "      <td>...</td>\n",
              "    </tr>\n",
              "    <tr>\n",
              "      <th>1991</th>\n",
              "      <td>1.0</td>\n",
              "      <td>88.0</td>\n",
              "      <td>103.865546</td>\n",
              "    </tr>\n",
              "    <tr>\n",
              "      <th>1992</th>\n",
              "      <td>0.0</td>\n",
              "      <td>88.0</td>\n",
              "      <td>105.642857</td>\n",
              "    </tr>\n",
              "    <tr>\n",
              "      <th>1993</th>\n",
              "      <td>0.0</td>\n",
              "      <td>80.0</td>\n",
              "      <td>79.933333</td>\n",
              "    </tr>\n",
              "    <tr>\n",
              "      <th>1996</th>\n",
              "      <td>39.0</td>\n",
              "      <td>39.0</td>\n",
              "      <td>96.000000</td>\n",
              "    </tr>\n",
              "    <tr>\n",
              "      <th>1997</th>\n",
              "      <td>60.0</td>\n",
              "      <td>60.0</td>\n",
              "      <td>109.000000</td>\n",
              "    </tr>\n",
              "  </tbody>\n",
              "</table>\n",
              "<p>74 rows × 3 columns</p>\n",
              "</div>"
            ],
            "text/plain": [
              "      mininalna_popularnosc  maksymalna_popularnosc  srednia_dlugosc\n",
              "Year                                                                \n",
              "1920                   29.0                    29.0       137.000000\n",
              "1923                    NaN                     NaN        57.000000\n",
              "1924                   63.0                    79.0       109.333333\n",
              "1925                   73.0                    73.0       125.000000\n",
              "1926                   49.0                    76.0       110.000000\n",
              "...                     ...                     ...              ...\n",
              "1991                    1.0                    88.0       103.865546\n",
              "1992                    0.0                    88.0       105.642857\n",
              "1993                    0.0                    80.0        79.933333\n",
              "1996                   39.0                    39.0        96.000000\n",
              "1997                   60.0                    60.0       109.000000\n",
              "\n",
              "[74 rows x 3 columns]"
            ]
          },
          "metadata": {
            "tags": []
          },
          "execution_count": 11
        }
      ]
    },
    {
      "cell_type": "markdown",
      "metadata": {
        "id": "34FuNaWbWgLE"
      },
      "source": [
        "## **Filtrowanie**"
      ]
    },
    {
      "cell_type": "markdown",
      "metadata": {
        "id": "DiTzSmlQXI40"
      },
      "source": [
        "To o czym jeszcze nie wspomniałem to o prostej metodzie na wyfiltrowanie części danych przed ich zgrupowaniem. \r\n",
        "\r\n",
        "Powiedzmy że chcemy policzyć średnią długość trwania filmu, dla filmów z okresu 1980 – 1990.\r\n",
        "\r\n",
        "Na początku zamienimy rok na liczby, ponieważ zapomniałem tego zrobić we wcześniejszych lekcjach, a następnie użyjemy znanych i lubianych nawiasów [ ], aby wyfiltrować potrzebne dla nas dane."
      ]
    },
    {
      "cell_type": "code",
      "metadata": {
        "colab": {
          "base_uri": "https://localhost:8080/"
        },
        "id": "sXK8e5deXnCF",
        "outputId": "9a2b151e-9085-48fd-aaa8-c466dbd3f9a3"
      },
      "source": [
        "# zamienia typ ze string na int\r\n",
        "films['Year'] = pd.to_numeric(films.Year)\r\n",
        "print(films.dtypes)"
      ],
      "execution_count": 12,
      "outputs": [
        {
          "output_type": "stream",
          "text": [
            "Year            int64\n",
            "Length        float64\n",
            "Title          object\n",
            "Subject        object\n",
            "Popularity    float64\n",
            "Awards           bool\n",
            "dtype: object\n"
          ],
          "name": "stdout"
        },
        {
          "output_type": "execute_result",
          "data": {
            "text/plain": [
              "Year\n",
              "1980    111.758621\n",
              "1981    114.115385\n",
              "1982    122.750000\n",
              "1983    100.945946\n",
              "1984    104.378378\n",
              "1985    104.309524\n",
              "1986    101.829787\n",
              "1987    101.420000\n",
              "1988    104.326087\n",
              "1989     99.623656\n",
              "1990    100.728261\n",
              "Name: Length, dtype: float64"
            ]
          },
          "metadata": {
            "tags": []
          },
          "execution_count": 12
        }
      ]
    },
    {
      "cell_type": "code",
      "metadata": {
        "colab": {
          "base_uri": "https://localhost:8080/"
        },
        "id": "xhO_ckgbYhcU",
        "outputId": "4d4abef6-32d8-4ddf-8ec4-83d4eed4df2e"
      },
      "source": [
        "# najpierw maska a potem grupowanie\r\n",
        "films[(films['Year'] >= 1980) & (films['Year'] <= 1990)].groupby('Year').Length.mean()"
      ],
      "execution_count": 13,
      "outputs": [
        {
          "output_type": "execute_result",
          "data": {
            "text/plain": [
              "Year\n",
              "1980    111.758621\n",
              "1981    114.115385\n",
              "1982    122.750000\n",
              "1983    100.945946\n",
              "1984    104.378378\n",
              "1985    104.309524\n",
              "1986    101.829787\n",
              "1987    101.420000\n",
              "1988    104.326087\n",
              "1989     99.623656\n",
              "1990    100.728261\n",
              "Name: Length, dtype: float64"
            ]
          },
          "metadata": {
            "tags": []
          },
          "execution_count": 13
        }
      ]
    },
    {
      "cell_type": "markdown",
      "metadata": {
        "id": "FXl8N1J5ZAf4"
      },
      "source": [
        "## **Ćwiczenia**"
      ]
    },
    {
      "cell_type": "markdown",
      "metadata": {
        "id": "aybwtHJRZCb0"
      },
      "source": [
        "1. Policz średni czas trwania filmu, w każdym roku, po 1980\r\n",
        "\r\n",
        "2. Policz ilość filmów, na dany roku, w zależności od kategorii filmu"
      ]
    },
    {
      "cell_type": "code",
      "metadata": {
        "colab": {
          "base_uri": "https://localhost:8080/",
          "height": 543
        },
        "id": "uWvJ-yKPZL5N",
        "outputId": "babe78d9-4899-4a49-94de-c98b5a0e6eb6"
      },
      "source": [
        "# 1.\r\n",
        "films[films[\"Year\"] > 1980].groupby(\"Year\").agg(średni_czas_w_minutach=(\"Length\", \"mean\"))"
      ],
      "execution_count": 15,
      "outputs": [
        {
          "output_type": "execute_result",
          "data": {
            "text/html": [
              "<div>\n",
              "<style scoped>\n",
              "    .dataframe tbody tr th:only-of-type {\n",
              "        vertical-align: middle;\n",
              "    }\n",
              "\n",
              "    .dataframe tbody tr th {\n",
              "        vertical-align: top;\n",
              "    }\n",
              "\n",
              "    .dataframe thead th {\n",
              "        text-align: right;\n",
              "    }\n",
              "</style>\n",
              "<table border=\"1\" class=\"dataframe\">\n",
              "  <thead>\n",
              "    <tr style=\"text-align: right;\">\n",
              "      <th></th>\n",
              "      <th>średni_czas_w_minutach</th>\n",
              "    </tr>\n",
              "    <tr>\n",
              "      <th>Year</th>\n",
              "      <th></th>\n",
              "    </tr>\n",
              "  </thead>\n",
              "  <tbody>\n",
              "    <tr>\n",
              "      <th>1981</th>\n",
              "      <td>114.115385</td>\n",
              "    </tr>\n",
              "    <tr>\n",
              "      <th>1982</th>\n",
              "      <td>122.750000</td>\n",
              "    </tr>\n",
              "    <tr>\n",
              "      <th>1983</th>\n",
              "      <td>100.945946</td>\n",
              "    </tr>\n",
              "    <tr>\n",
              "      <th>1984</th>\n",
              "      <td>104.378378</td>\n",
              "    </tr>\n",
              "    <tr>\n",
              "      <th>1985</th>\n",
              "      <td>104.309524</td>\n",
              "    </tr>\n",
              "    <tr>\n",
              "      <th>1986</th>\n",
              "      <td>101.829787</td>\n",
              "    </tr>\n",
              "    <tr>\n",
              "      <th>1987</th>\n",
              "      <td>101.420000</td>\n",
              "    </tr>\n",
              "    <tr>\n",
              "      <th>1988</th>\n",
              "      <td>104.326087</td>\n",
              "    </tr>\n",
              "    <tr>\n",
              "      <th>1989</th>\n",
              "      <td>99.623656</td>\n",
              "    </tr>\n",
              "    <tr>\n",
              "      <th>1990</th>\n",
              "      <td>100.728261</td>\n",
              "    </tr>\n",
              "    <tr>\n",
              "      <th>1991</th>\n",
              "      <td>103.865546</td>\n",
              "    </tr>\n",
              "    <tr>\n",
              "      <th>1992</th>\n",
              "      <td>105.642857</td>\n",
              "    </tr>\n",
              "    <tr>\n",
              "      <th>1993</th>\n",
              "      <td>79.933333</td>\n",
              "    </tr>\n",
              "    <tr>\n",
              "      <th>1996</th>\n",
              "      <td>96.000000</td>\n",
              "    </tr>\n",
              "    <tr>\n",
              "      <th>1997</th>\n",
              "      <td>109.000000</td>\n",
              "    </tr>\n",
              "  </tbody>\n",
              "</table>\n",
              "</div>"
            ],
            "text/plain": [
              "      średni_czas_w_minutach\n",
              "Year                        \n",
              "1981              114.115385\n",
              "1982              122.750000\n",
              "1983              100.945946\n",
              "1984              104.378378\n",
              "1985              104.309524\n",
              "1986              101.829787\n",
              "1987              101.420000\n",
              "1988              104.326087\n",
              "1989               99.623656\n",
              "1990              100.728261\n",
              "1991              103.865546\n",
              "1992              105.642857\n",
              "1993               79.933333\n",
              "1996               96.000000\n",
              "1997              109.000000"
            ]
          },
          "metadata": {
            "tags": []
          },
          "execution_count": 15
        }
      ]
    },
    {
      "cell_type": "code",
      "metadata": {
        "colab": {
          "base_uri": "https://localhost:8080/",
          "height": 448
        },
        "id": "9ygyrrZJaWPO",
        "outputId": "79afca7c-133f-4a7d-c0ae-ae8d32a942b9"
      },
      "source": [
        "# 2.\r\n",
        "films.groupby(['Year','Subject']).count()"
      ],
      "execution_count": 16,
      "outputs": [
        {
          "output_type": "execute_result",
          "data": {
            "text/html": [
              "<div>\n",
              "<style scoped>\n",
              "    .dataframe tbody tr th:only-of-type {\n",
              "        vertical-align: middle;\n",
              "    }\n",
              "\n",
              "    .dataframe tbody tr th {\n",
              "        vertical-align: top;\n",
              "    }\n",
              "\n",
              "    .dataframe thead th {\n",
              "        text-align: right;\n",
              "    }\n",
              "</style>\n",
              "<table border=\"1\" class=\"dataframe\">\n",
              "  <thead>\n",
              "    <tr style=\"text-align: right;\">\n",
              "      <th></th>\n",
              "      <th></th>\n",
              "      <th>Length</th>\n",
              "      <th>Title</th>\n",
              "      <th>Popularity</th>\n",
              "      <th>Awards</th>\n",
              "    </tr>\n",
              "    <tr>\n",
              "      <th>Year</th>\n",
              "      <th>Subject</th>\n",
              "      <th></th>\n",
              "      <th></th>\n",
              "      <th></th>\n",
              "      <th></th>\n",
              "    </tr>\n",
              "  </thead>\n",
              "  <tbody>\n",
              "    <tr>\n",
              "      <th>1920</th>\n",
              "      <th>Drama</th>\n",
              "      <td>1</td>\n",
              "      <td>1</td>\n",
              "      <td>1</td>\n",
              "      <td>1</td>\n",
              "    </tr>\n",
              "    <tr>\n",
              "      <th>1923</th>\n",
              "      <th>Western</th>\n",
              "      <td>1</td>\n",
              "      <td>1</td>\n",
              "      <td>0</td>\n",
              "      <td>1</td>\n",
              "    </tr>\n",
              "    <tr>\n",
              "      <th>1924</th>\n",
              "      <th>Drama</th>\n",
              "      <td>3</td>\n",
              "      <td>3</td>\n",
              "      <td>3</td>\n",
              "      <td>3</td>\n",
              "    </tr>\n",
              "    <tr>\n",
              "      <th>1925</th>\n",
              "      <th>Drama</th>\n",
              "      <td>1</td>\n",
              "      <td>1</td>\n",
              "      <td>1</td>\n",
              "      <td>1</td>\n",
              "    </tr>\n",
              "    <tr>\n",
              "      <th>1926</th>\n",
              "      <th>Action</th>\n",
              "      <td>1</td>\n",
              "      <td>1</td>\n",
              "      <td>1</td>\n",
              "      <td>1</td>\n",
              "    </tr>\n",
              "    <tr>\n",
              "      <th>...</th>\n",
              "      <th>...</th>\n",
              "      <td>...</td>\n",
              "      <td>...</td>\n",
              "      <td>...</td>\n",
              "      <td>...</td>\n",
              "    </tr>\n",
              "    <tr>\n",
              "      <th rowspan=\"3\" valign=\"top\">1993</th>\n",
              "      <th>Music</th>\n",
              "      <td>1</td>\n",
              "      <td>1</td>\n",
              "      <td>1</td>\n",
              "      <td>1</td>\n",
              "    </tr>\n",
              "    <tr>\n",
              "      <th>Mystery</th>\n",
              "      <td>3</td>\n",
              "      <td>3</td>\n",
              "      <td>3</td>\n",
              "      <td>3</td>\n",
              "    </tr>\n",
              "    <tr>\n",
              "      <th>Western</th>\n",
              "      <td>2</td>\n",
              "      <td>4</td>\n",
              "      <td>4</td>\n",
              "      <td>4</td>\n",
              "    </tr>\n",
              "    <tr>\n",
              "      <th>1996</th>\n",
              "      <th>Horror</th>\n",
              "      <td>1</td>\n",
              "      <td>1</td>\n",
              "      <td>1</td>\n",
              "      <td>1</td>\n",
              "    </tr>\n",
              "    <tr>\n",
              "      <th>1997</th>\n",
              "      <th>Science Fiction</th>\n",
              "      <td>1</td>\n",
              "      <td>1</td>\n",
              "      <td>1</td>\n",
              "      <td>1</td>\n",
              "    </tr>\n",
              "  </tbody>\n",
              "</table>\n",
              "<p>361 rows × 4 columns</p>\n",
              "</div>"
            ],
            "text/plain": [
              "                      Length  Title  Popularity  Awards\n",
              "Year Subject                                           \n",
              "1920 Drama                 1      1           1       1\n",
              "1923 Western               1      1           0       1\n",
              "1924 Drama                 3      3           3       3\n",
              "1925 Drama                 1      1           1       1\n",
              "1926 Action                1      1           1       1\n",
              "...                      ...    ...         ...     ...\n",
              "1993 Music                 1      1           1       1\n",
              "     Mystery               3      3           3       3\n",
              "     Western               2      4           4       4\n",
              "1996 Horror                1      1           1       1\n",
              "1997 Science Fiction       1      1           1       1\n",
              "\n",
              "[361 rows x 4 columns]"
            ]
          },
          "metadata": {
            "tags": []
          },
          "execution_count": 16
        }
      ]
    }
  ]
}