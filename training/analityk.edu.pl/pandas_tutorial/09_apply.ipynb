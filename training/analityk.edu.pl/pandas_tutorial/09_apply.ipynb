{
  "nbformat": 4,
  "nbformat_minor": 0,
  "metadata": {
    "colab": {
      "name": "09_apply.ipynb",
      "provenance": [],
      "collapsed_sections": [],
      "authorship_tag": "ABX9TyNufYJ/v+njFopxFb7zSPec",
      "include_colab_link": true
    },
    "kernelspec": {
      "name": "python3",
      "display_name": "Python 3"
    }
  },
  "cells": [
    {
      "cell_type": "markdown",
      "metadata": {
        "id": "view-in-github",
        "colab_type": "text"
      },
      "source": [
        "<a href=\"https://colab.research.google.com/github/KamilBienias/data-science/blob/main/training/analityk.edu.pl/pandas_tutorial/09_apply.ipynb\" target=\"_parent\"><img src=\"https://colab.research.google.com/assets/colab-badge.svg\" alt=\"Open In Colab\"/></a>"
      ]
    },
    {
      "cell_type": "code",
      "metadata": {
        "id": "iBpqHavJ_hxP"
      },
      "source": [
        "# https://analityk.edu.pl/python-pandas-tutorial-funkcja-apply/"
      ],
      "execution_count": 39,
      "outputs": []
    },
    {
      "cell_type": "markdown",
      "metadata": {
        "id": "xsQ9W-9u_pFd"
      },
      "source": [
        "# **Python Pandas Tutorial – funkcja apply**"
      ]
    },
    {
      "cell_type": "markdown",
      "metadata": {
        "id": "jmeAHq70_2lc"
      },
      "source": [
        "Funkcja Apply pozwala na o wiele bardziej rozbudowane operacje na rekordach DataFrame niż samo użycie nawiasów [ ] lub funcji loc. Koncepcja ten funkcji jest szeroko znana i stosowana w wielu bibliotekach do przetwarzania danych, natomiast jej opanowanie otworzy nam zupełnie nowe horyzonty."
      ]
    },
    {
      "cell_type": "markdown",
      "metadata": {
        "id": "U-_skQe-ADUE"
      },
      "source": [
        "## **Działanie funkcji apply**"
      ]
    },
    {
      "cell_type": "markdown",
      "metadata": {
        "id": "28SaIa8PAFrc"
      },
      "source": [
        "Funkcja apply pozwala nam na zdefiniowanie funkcji która ma być kolejno wykonywana dla każdego rekodru/wiersza w naszym DataFrama lub konkretnej kolumny. Jej zastosowanie składa się z 2 kroków:\r\n",
        "\r\n",
        "1. Utworzeniu funkcji, który przyjmie jako parametr wiersz z DataFrame lub wartość ze wskazanej kolumny, następnie zwróci wiersz zmodyfikowany, lub wartość zmodyfikowaną dla konkretnej kolumny\r\n",
        "2. Wywołaniu funkcji apply dla danego DataFrame, informując Pandas że chcemy dla każdego wiersza, wykonać wskazaną funkcję lub wykonać ją dla każdej wartości z konkretnej kolumny."
      ]
    },
    {
      "cell_type": "markdown",
      "metadata": {
        "id": "mtVwsU6_AwiU"
      },
      "source": [
        "## **Funkcja apply dla pojedynczej kolumny**"
      ]
    },
    {
      "cell_type": "code",
      "metadata": {
        "colab": {
          "base_uri": "https://localhost:8080/",
          "height": 141
        },
        "id": "UmWZpBIGA3N4",
        "outputId": "41c194a2-cadf-444b-8711-ca65531169cf"
      },
      "source": [
        "import pandas as pd\r\n",
        "\r\n",
        "df = pd.DataFrame({'Osoba':['Michał Jakub','Ewa Noga', 'Krzysztof Zawierucha'],\r\n",
        "                  'Wynik':[15,38,21]})\r\n",
        "df"
      ],
      "execution_count": 40,
      "outputs": [
        {
          "output_type": "execute_result",
          "data": {
            "text/html": [
              "<div>\n",
              "<style scoped>\n",
              "    .dataframe tbody tr th:only-of-type {\n",
              "        vertical-align: middle;\n",
              "    }\n",
              "\n",
              "    .dataframe tbody tr th {\n",
              "        vertical-align: top;\n",
              "    }\n",
              "\n",
              "    .dataframe thead th {\n",
              "        text-align: right;\n",
              "    }\n",
              "</style>\n",
              "<table border=\"1\" class=\"dataframe\">\n",
              "  <thead>\n",
              "    <tr style=\"text-align: right;\">\n",
              "      <th></th>\n",
              "      <th>Osoba</th>\n",
              "      <th>Wynik</th>\n",
              "    </tr>\n",
              "  </thead>\n",
              "  <tbody>\n",
              "    <tr>\n",
              "      <th>0</th>\n",
              "      <td>Michał Jakub</td>\n",
              "      <td>15</td>\n",
              "    </tr>\n",
              "    <tr>\n",
              "      <th>1</th>\n",
              "      <td>Ewa Noga</td>\n",
              "      <td>38</td>\n",
              "    </tr>\n",
              "    <tr>\n",
              "      <th>2</th>\n",
              "      <td>Krzysztof Zawierucha</td>\n",
              "      <td>21</td>\n",
              "    </tr>\n",
              "  </tbody>\n",
              "</table>\n",
              "</div>"
            ],
            "text/plain": [
              "                  Osoba  Wynik\n",
              "0          Michał Jakub     15\n",
              "1              Ewa Noga     38\n",
              "2  Krzysztof Zawierucha     21"
            ]
          },
          "metadata": {
            "tags": []
          },
          "execution_count": 40
        }
      ]
    },
    {
      "cell_type": "markdown",
      "metadata": {
        "id": "u3t6OKEOAx2l"
      },
      "source": [
        "Naszym zadaniem jest sprawdzić kto zdał egazgamin. Dla wyniku powyżej 20 punktów, należy zamienić ilość punktów na tekst 'Zdany', w innym przypadku na tekst 'Oblany'.\r\n",
        "\r\n",
        "Definiujemy funkcję która potem będzie wykonywana dla każdego wiersza, dla kolumny Wynik"
      ]
    },
    {
      "cell_type": "code",
      "metadata": {
        "colab": {
          "base_uri": "https://localhost:8080/",
          "height": 141
        },
        "id": "Yk6BN2cJBM5d",
        "outputId": "066c3106-bdf7-4a49-9e9d-330810cfcbd6"
      },
      "source": [
        "def sprawdz(punkty):\r\n",
        "        if punkty > 20: \r\n",
        "            return 'Zdany'\r\n",
        "        else: \r\n",
        "            return 'Oblany'\r\n",
        "\r\n",
        "df.Wynik = df.Wynik.apply(sprawdz)\r\n",
        "df"
      ],
      "execution_count": 41,
      "outputs": [
        {
          "output_type": "execute_result",
          "data": {
            "text/html": [
              "<div>\n",
              "<style scoped>\n",
              "    .dataframe tbody tr th:only-of-type {\n",
              "        vertical-align: middle;\n",
              "    }\n",
              "\n",
              "    .dataframe tbody tr th {\n",
              "        vertical-align: top;\n",
              "    }\n",
              "\n",
              "    .dataframe thead th {\n",
              "        text-align: right;\n",
              "    }\n",
              "</style>\n",
              "<table border=\"1\" class=\"dataframe\">\n",
              "  <thead>\n",
              "    <tr style=\"text-align: right;\">\n",
              "      <th></th>\n",
              "      <th>Osoba</th>\n",
              "      <th>Wynik</th>\n",
              "    </tr>\n",
              "  </thead>\n",
              "  <tbody>\n",
              "    <tr>\n",
              "      <th>0</th>\n",
              "      <td>Michał Jakub</td>\n",
              "      <td>Oblany</td>\n",
              "    </tr>\n",
              "    <tr>\n",
              "      <th>1</th>\n",
              "      <td>Ewa Noga</td>\n",
              "      <td>Zdany</td>\n",
              "    </tr>\n",
              "    <tr>\n",
              "      <th>2</th>\n",
              "      <td>Krzysztof Zawierucha</td>\n",
              "      <td>Zdany</td>\n",
              "    </tr>\n",
              "  </tbody>\n",
              "</table>\n",
              "</div>"
            ],
            "text/plain": [
              "                  Osoba   Wynik\n",
              "0          Michał Jakub  Oblany\n",
              "1              Ewa Noga   Zdany\n",
              "2  Krzysztof Zawierucha   Zdany"
            ]
          },
          "metadata": {
            "tags": []
          },
          "execution_count": 41
        }
      ]
    },
    {
      "cell_type": "code",
      "metadata": {
        "colab": {
          "base_uri": "https://localhost:8080/",
          "height": 141
        },
        "id": "KvXbGgDPDgiU",
        "outputId": "2f352faf-5d5f-409b-f8a6-8ef0dded6d5d"
      },
      "source": [
        "# ja tak zrobiłem. Różnica taka że ja przekazuję całą df do funkcji sprawdz\r\n",
        "\r\n",
        "# od nowa tworzę df\r\n",
        "moje_df = pd.DataFrame({'Osoba':['Michał Jakub','Ewa Noga', 'Krzysztof Zawierucha'],\r\n",
        "                  'Wynik':[15,38,21]})\r\n",
        "\r\n",
        "def moje_sprawdz(moje_df):\r\n",
        "    if moje_df[\"Wynik\"] > 20:\r\n",
        "        return \"Zdany\"\r\n",
        "    else:\r\n",
        "        return \"Oblany\"\r\n",
        "\r\n",
        "moje_df[\"Wynik\"] = moje_df.apply(moje_sprawdz, axis=1)\r\n",
        "moje_df"
      ],
      "execution_count": 42,
      "outputs": [
        {
          "output_type": "execute_result",
          "data": {
            "text/html": [
              "<div>\n",
              "<style scoped>\n",
              "    .dataframe tbody tr th:only-of-type {\n",
              "        vertical-align: middle;\n",
              "    }\n",
              "\n",
              "    .dataframe tbody tr th {\n",
              "        vertical-align: top;\n",
              "    }\n",
              "\n",
              "    .dataframe thead th {\n",
              "        text-align: right;\n",
              "    }\n",
              "</style>\n",
              "<table border=\"1\" class=\"dataframe\">\n",
              "  <thead>\n",
              "    <tr style=\"text-align: right;\">\n",
              "      <th></th>\n",
              "      <th>Osoba</th>\n",
              "      <th>Wynik</th>\n",
              "    </tr>\n",
              "  </thead>\n",
              "  <tbody>\n",
              "    <tr>\n",
              "      <th>0</th>\n",
              "      <td>Michał Jakub</td>\n",
              "      <td>Oblany</td>\n",
              "    </tr>\n",
              "    <tr>\n",
              "      <th>1</th>\n",
              "      <td>Ewa Noga</td>\n",
              "      <td>Zdany</td>\n",
              "    </tr>\n",
              "    <tr>\n",
              "      <th>2</th>\n",
              "      <td>Krzysztof Zawierucha</td>\n",
              "      <td>Zdany</td>\n",
              "    </tr>\n",
              "  </tbody>\n",
              "</table>\n",
              "</div>"
            ],
            "text/plain": [
              "                  Osoba   Wynik\n",
              "0          Michał Jakub  Oblany\n",
              "1              Ewa Noga   Zdany\n",
              "2  Krzysztof Zawierucha   Zdany"
            ]
          },
          "metadata": {
            "tags": []
          },
          "execution_count": 42
        }
      ]
    },
    {
      "cell_type": "markdown",
      "metadata": {
        "id": "gwUnL5blukFG"
      },
      "source": [
        "## **Funkcja apply, dla całego wiersza**"
      ]
    },
    {
      "cell_type": "markdown",
      "metadata": {
        "id": "kbhBG5xzuqWd"
      },
      "source": [
        "W poprzednim przykładnie wywołaliśmy funkcję apply dla jednej konkretnej kolumny – wynik. Możemy również wywołać funkcję apply, dla całego wiersza.\r\n",
        "\r\n",
        "Dla przykładu. W naszym zbiorze, imię oraz nazwisko umieszczone jest w jednej kolumnie – osoba. Możemy rozdzielić je na 2 różne kolumny, właśnie za pomocą funkcji apply. W tym celu zdefiniujemy funkcję, która przyjmie jako parametr cały wiersz, a następnie wykonamy funkcję apply, informując Pandas że chcemy aby do naszej funkcji był przekazywany cały wiersz, za pomocą opcji axis=1. Zobaczmy:"
      ]
    },
    {
      "cell_type": "code",
      "metadata": {
        "colab": {
          "base_uri": "https://localhost:8080/",
          "height": 141
        },
        "id": "lmb9hLF3u2Co",
        "outputId": "6b1e0e98-53da-4e8f-b4c8-b3fe309f63a0"
      },
      "source": [
        "# pobiera całą df\r\n",
        "def rozdziel_kolumne(df):\r\n",
        "    df['Imie'], df['Nazwisko'] = df['Osoba'].split(' ')\r\n",
        "    return df\r\n",
        "\r\n",
        "df = df.apply(rozdziel_kolumne, axis=1)\r\n",
        "df"
      ],
      "execution_count": 43,
      "outputs": [
        {
          "output_type": "execute_result",
          "data": {
            "text/html": [
              "<div>\n",
              "<style scoped>\n",
              "    .dataframe tbody tr th:only-of-type {\n",
              "        vertical-align: middle;\n",
              "    }\n",
              "\n",
              "    .dataframe tbody tr th {\n",
              "        vertical-align: top;\n",
              "    }\n",
              "\n",
              "    .dataframe thead th {\n",
              "        text-align: right;\n",
              "    }\n",
              "</style>\n",
              "<table border=\"1\" class=\"dataframe\">\n",
              "  <thead>\n",
              "    <tr style=\"text-align: right;\">\n",
              "      <th></th>\n",
              "      <th>Osoba</th>\n",
              "      <th>Wynik</th>\n",
              "      <th>Imie</th>\n",
              "      <th>Nazwisko</th>\n",
              "    </tr>\n",
              "  </thead>\n",
              "  <tbody>\n",
              "    <tr>\n",
              "      <th>0</th>\n",
              "      <td>Michał Jakub</td>\n",
              "      <td>Oblany</td>\n",
              "      <td>Michał</td>\n",
              "      <td>Jakub</td>\n",
              "    </tr>\n",
              "    <tr>\n",
              "      <th>1</th>\n",
              "      <td>Ewa Noga</td>\n",
              "      <td>Zdany</td>\n",
              "      <td>Ewa</td>\n",
              "      <td>Noga</td>\n",
              "    </tr>\n",
              "    <tr>\n",
              "      <th>2</th>\n",
              "      <td>Krzysztof Zawierucha</td>\n",
              "      <td>Zdany</td>\n",
              "      <td>Krzysztof</td>\n",
              "      <td>Zawierucha</td>\n",
              "    </tr>\n",
              "  </tbody>\n",
              "</table>\n",
              "</div>"
            ],
            "text/plain": [
              "                  Osoba   Wynik       Imie    Nazwisko\n",
              "0          Michał Jakub  Oblany     Michał       Jakub\n",
              "1              Ewa Noga   Zdany        Ewa        Noga\n",
              "2  Krzysztof Zawierucha   Zdany  Krzysztof  Zawierucha"
            ]
          },
          "metadata": {
            "tags": []
          },
          "execution_count": 43
        }
      ]
    },
    {
      "cell_type": "markdown",
      "metadata": {
        "id": "u4LGxe20xgV5"
      },
      "source": [
        "## **Ćwiczenia**"
      ]
    },
    {
      "cell_type": "markdown",
      "metadata": {
        "id": "OFJ-Wawqxigm"
      },
      "source": [
        "1. Przy użyciu funkcji apply utworzyć nową kolumnę, z wartością 1, tam gdzie wynik jest powyżej 20 punktów i wartością 0, tam gdzie wynik jest 20 punktów lub mniej\r\n",
        "\r\n",
        "2. Za pomocą funkcji apply, utworzyć kolumnę o formacie 'Nazwisko Imię'. Czyli na odwrót niż jest to w naszym DataFrame."
      ]
    },
    {
      "cell_type": "code",
      "metadata": {
        "colab": {
          "base_uri": "https://localhost:8080/",
          "height": 141
        },
        "id": "8L_PA9lfxvOm",
        "outputId": "d4dee579-78bd-4927-9eb4-9193cc342392"
      },
      "source": [
        "# od nowa df\r\n",
        "import pandas as pd\r\n",
        "\r\n",
        "df = pd.DataFrame({'Osoba':['Michał Jakub','Ewa Noga', 'Krzysztof Zawierucha'],\r\n",
        "                  'Wynik':[15,38,21]})\r\n",
        "df"
      ],
      "execution_count": 44,
      "outputs": [
        {
          "output_type": "execute_result",
          "data": {
            "text/html": [
              "<div>\n",
              "<style scoped>\n",
              "    .dataframe tbody tr th:only-of-type {\n",
              "        vertical-align: middle;\n",
              "    }\n",
              "\n",
              "    .dataframe tbody tr th {\n",
              "        vertical-align: top;\n",
              "    }\n",
              "\n",
              "    .dataframe thead th {\n",
              "        text-align: right;\n",
              "    }\n",
              "</style>\n",
              "<table border=\"1\" class=\"dataframe\">\n",
              "  <thead>\n",
              "    <tr style=\"text-align: right;\">\n",
              "      <th></th>\n",
              "      <th>Osoba</th>\n",
              "      <th>Wynik</th>\n",
              "    </tr>\n",
              "  </thead>\n",
              "  <tbody>\n",
              "    <tr>\n",
              "      <th>0</th>\n",
              "      <td>Michał Jakub</td>\n",
              "      <td>15</td>\n",
              "    </tr>\n",
              "    <tr>\n",
              "      <th>1</th>\n",
              "      <td>Ewa Noga</td>\n",
              "      <td>38</td>\n",
              "    </tr>\n",
              "    <tr>\n",
              "      <th>2</th>\n",
              "      <td>Krzysztof Zawierucha</td>\n",
              "      <td>21</td>\n",
              "    </tr>\n",
              "  </tbody>\n",
              "</table>\n",
              "</div>"
            ],
            "text/plain": [
              "                  Osoba  Wynik\n",
              "0          Michał Jakub     15\n",
              "1              Ewa Noga     38\n",
              "2  Krzysztof Zawierucha     21"
            ]
          },
          "metadata": {
            "tags": []
          },
          "execution_count": 44
        }
      ]
    },
    {
      "cell_type": "code",
      "metadata": {
        "colab": {
          "base_uri": "https://localhost:8080/",
          "height": 141
        },
        "id": "EIirasJkx7Bu",
        "outputId": "3142a402-43d2-444c-a257-c750737a851a"
      },
      "source": [
        "# 1.\r\n",
        "def nowa_kolumna(wynik):\r\n",
        "    if wynik > 20:\r\n",
        "        return 1\r\n",
        "    elif wynik <= 20:\r\n",
        "        return 0\r\n",
        "\r\n",
        "df[\"Wynik binarnie\"] = df[\"Wynik\"].apply(nowa_kolumna)\r\n",
        "df"
      ],
      "execution_count": 45,
      "outputs": [
        {
          "output_type": "execute_result",
          "data": {
            "text/html": [
              "<div>\n",
              "<style scoped>\n",
              "    .dataframe tbody tr th:only-of-type {\n",
              "        vertical-align: middle;\n",
              "    }\n",
              "\n",
              "    .dataframe tbody tr th {\n",
              "        vertical-align: top;\n",
              "    }\n",
              "\n",
              "    .dataframe thead th {\n",
              "        text-align: right;\n",
              "    }\n",
              "</style>\n",
              "<table border=\"1\" class=\"dataframe\">\n",
              "  <thead>\n",
              "    <tr style=\"text-align: right;\">\n",
              "      <th></th>\n",
              "      <th>Osoba</th>\n",
              "      <th>Wynik</th>\n",
              "      <th>Wynik binarnie</th>\n",
              "    </tr>\n",
              "  </thead>\n",
              "  <tbody>\n",
              "    <tr>\n",
              "      <th>0</th>\n",
              "      <td>Michał Jakub</td>\n",
              "      <td>15</td>\n",
              "      <td>0</td>\n",
              "    </tr>\n",
              "    <tr>\n",
              "      <th>1</th>\n",
              "      <td>Ewa Noga</td>\n",
              "      <td>38</td>\n",
              "      <td>1</td>\n",
              "    </tr>\n",
              "    <tr>\n",
              "      <th>2</th>\n",
              "      <td>Krzysztof Zawierucha</td>\n",
              "      <td>21</td>\n",
              "      <td>1</td>\n",
              "    </tr>\n",
              "  </tbody>\n",
              "</table>\n",
              "</div>"
            ],
            "text/plain": [
              "                  Osoba  Wynik  Wynik binarnie\n",
              "0          Michał Jakub     15               0\n",
              "1              Ewa Noga     38               1\n",
              "2  Krzysztof Zawierucha     21               1"
            ]
          },
          "metadata": {
            "tags": []
          },
          "execution_count": 45
        }
      ]
    },
    {
      "cell_type": "code",
      "metadata": {
        "colab": {
          "base_uri": "https://localhost:8080/",
          "height": 141
        },
        "id": "9YbVO3oD2crP",
        "outputId": "e342c8e4-348b-4e0f-fccf-756928e93120"
      },
      "source": [
        "# od nowa df\r\n",
        "import pandas as pd\r\n",
        "\r\n",
        "df = pd.DataFrame({'Osoba':['Michał Jakub','Ewa Noga', 'Krzysztof Zawierucha'],\r\n",
        "                  'Wynik':[15,38,21]})\r\n",
        "df"
      ],
      "execution_count": 46,
      "outputs": [
        {
          "output_type": "execute_result",
          "data": {
            "text/html": [
              "<div>\n",
              "<style scoped>\n",
              "    .dataframe tbody tr th:only-of-type {\n",
              "        vertical-align: middle;\n",
              "    }\n",
              "\n",
              "    .dataframe tbody tr th {\n",
              "        vertical-align: top;\n",
              "    }\n",
              "\n",
              "    .dataframe thead th {\n",
              "        text-align: right;\n",
              "    }\n",
              "</style>\n",
              "<table border=\"1\" class=\"dataframe\">\n",
              "  <thead>\n",
              "    <tr style=\"text-align: right;\">\n",
              "      <th></th>\n",
              "      <th>Osoba</th>\n",
              "      <th>Wynik</th>\n",
              "    </tr>\n",
              "  </thead>\n",
              "  <tbody>\n",
              "    <tr>\n",
              "      <th>0</th>\n",
              "      <td>Michał Jakub</td>\n",
              "      <td>15</td>\n",
              "    </tr>\n",
              "    <tr>\n",
              "      <th>1</th>\n",
              "      <td>Ewa Noga</td>\n",
              "      <td>38</td>\n",
              "    </tr>\n",
              "    <tr>\n",
              "      <th>2</th>\n",
              "      <td>Krzysztof Zawierucha</td>\n",
              "      <td>21</td>\n",
              "    </tr>\n",
              "  </tbody>\n",
              "</table>\n",
              "</div>"
            ],
            "text/plain": [
              "                  Osoba  Wynik\n",
              "0          Michał Jakub     15\n",
              "1              Ewa Noga     38\n",
              "2  Krzysztof Zawierucha     21"
            ]
          },
          "metadata": {
            "tags": []
          },
          "execution_count": 46
        }
      ]
    },
    {
      "cell_type": "code",
      "metadata": {
        "colab": {
          "base_uri": "https://localhost:8080/",
          "height": 141
        },
        "id": "_2xxduyBzSc2",
        "outputId": "7b451227-dab6-4010-f14f-19544b0cbfa5"
      },
      "source": [
        "# 2.\r\n",
        "# pobiera całą df\r\n",
        "def zamien_wartosci_w_kolumnie(df):\r\n",
        "    df['Imie'], df['Nazwisko'] = df['Osoba'].split(' ')\r\n",
        "    df[\"Osoba odwrotnie\"] = df['Nazwisko'] + \" \" + df['Imie']\r\n",
        "    return df\r\n",
        "\r\n",
        "df = df.apply(zamien_wartosci_w_kolumnie, axis=1)\r\n",
        "df"
      ],
      "execution_count": 47,
      "outputs": [
        {
          "output_type": "execute_result",
          "data": {
            "text/html": [
              "<div>\n",
              "<style scoped>\n",
              "    .dataframe tbody tr th:only-of-type {\n",
              "        vertical-align: middle;\n",
              "    }\n",
              "\n",
              "    .dataframe tbody tr th {\n",
              "        vertical-align: top;\n",
              "    }\n",
              "\n",
              "    .dataframe thead th {\n",
              "        text-align: right;\n",
              "    }\n",
              "</style>\n",
              "<table border=\"1\" class=\"dataframe\">\n",
              "  <thead>\n",
              "    <tr style=\"text-align: right;\">\n",
              "      <th></th>\n",
              "      <th>Osoba</th>\n",
              "      <th>Wynik</th>\n",
              "      <th>Imie</th>\n",
              "      <th>Nazwisko</th>\n",
              "      <th>Osoba odwrotnie</th>\n",
              "    </tr>\n",
              "  </thead>\n",
              "  <tbody>\n",
              "    <tr>\n",
              "      <th>0</th>\n",
              "      <td>Michał Jakub</td>\n",
              "      <td>15</td>\n",
              "      <td>Michał</td>\n",
              "      <td>Jakub</td>\n",
              "      <td>Jakub Michał</td>\n",
              "    </tr>\n",
              "    <tr>\n",
              "      <th>1</th>\n",
              "      <td>Ewa Noga</td>\n",
              "      <td>38</td>\n",
              "      <td>Ewa</td>\n",
              "      <td>Noga</td>\n",
              "      <td>Noga Ewa</td>\n",
              "    </tr>\n",
              "    <tr>\n",
              "      <th>2</th>\n",
              "      <td>Krzysztof Zawierucha</td>\n",
              "      <td>21</td>\n",
              "      <td>Krzysztof</td>\n",
              "      <td>Zawierucha</td>\n",
              "      <td>Zawierucha Krzysztof</td>\n",
              "    </tr>\n",
              "  </tbody>\n",
              "</table>\n",
              "</div>"
            ],
            "text/plain": [
              "                  Osoba  Wynik       Imie    Nazwisko       Osoba odwrotnie\n",
              "0          Michał Jakub     15     Michał       Jakub          Jakub Michał\n",
              "1              Ewa Noga     38        Ewa        Noga              Noga Ewa\n",
              "2  Krzysztof Zawierucha     21  Krzysztof  Zawierucha  Zawierucha Krzysztof"
            ]
          },
          "metadata": {
            "tags": []
          },
          "execution_count": 47
        }
      ]
    }
  ]
}