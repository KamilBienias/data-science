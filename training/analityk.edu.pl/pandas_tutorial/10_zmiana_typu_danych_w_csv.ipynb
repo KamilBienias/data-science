{
  "nbformat": 4,
  "nbformat_minor": 0,
  "metadata": {
    "colab": {
      "name": "10_zmiana_typu_danych_w_csv.ipynb",
      "provenance": [],
      "collapsed_sections": [],
      "authorship_tag": "ABX9TyPYkmGAccitWm3fF5Iw/NP0",
      "include_colab_link": true
    },
    "kernelspec": {
      "name": "python3",
      "display_name": "Python 3"
    }
  },
  "cells": [
    {
      "cell_type": "markdown",
      "metadata": {
        "id": "view-in-github",
        "colab_type": "text"
      },
      "source": [
        "<a href=\"https://colab.research.google.com/github/KamilBienias/data-science/blob/main/training/analityk.edu.pl/pandas_tutorial/10_zmiana_typu_danych_w_csv.ipynb\" target=\"_parent\"><img src=\"https://colab.research.google.com/assets/colab-badge.svg\" alt=\"Open In Colab\"/></a>"
      ]
    },
    {
      "cell_type": "code",
      "metadata": {
        "id": "V7P0HfzZ3yR2"
      },
      "source": [
        "# https://analityk.edu.pl/python-pandas-tutorial-typy-danych/"
      ],
      "execution_count": 49,
      "outputs": []
    },
    {
      "cell_type": "markdown",
      "metadata": {
        "id": "FR0oWe8x4mYv"
      },
      "source": [
        "# **Python Pandas Tutorial – typy danych**"
      ]
    },
    {
      "cell_type": "markdown",
      "metadata": {
        "id": "rEBUvGwX4sMX"
      },
      "source": [
        "Pandas rozpoznaje, podobnie jak Python, różne typy danych – liczby, ciągle znaków itd. Prawda jest jednak taka, że nie przejmujemy się tym zbytnio, do czasu otrzymania związanego z typami danych błędu. Dopiero wtedy zaczyny dociekać na czym się różnią typy danych i jak je pozamieniać. I dokładnie takie podejście zastosujemy w tej lekcji. Zaczynajmy!\r\n",
        "W tej lekcji skorzystamy ze zbioru danych zawierającego informacje o filmach."
      ]
    },
    {
      "cell_type": "code",
      "metadata": {
        "id": "SyFt01lO6hYI"
      },
      "source": [
        "# nie trzeba pobierać plik film.csv bo od razu go w locie zamieniam na df\r\n",
        "# !wget -O film.csv \"https://drive.google.com/uc?export=download&id=1Ofob2EV42qPeJSpIlhxnsEMAdEvnop7l\""
      ],
      "execution_count": 50,
      "outputs": []
    },
    {
      "cell_type": "code",
      "metadata": {
        "colab": {
          "base_uri": "https://localhost:8080/",
          "height": 537
        },
        "id": "aMAqskqX5k0y",
        "outputId": "e09f2a90-aa71-43e2-abcb-820b673e7de9"
      },
      "source": [
        "import pandas as pd\r\n",
        "\r\n",
        "# odczytanie df z pobranego pliku csv\r\n",
        "# films = pd.read_csv('film.csv', sep=';', encoding = \"ISO-8859-1\")\r\n",
        "# films\r\n",
        "\r\n",
        "# pobieram bezpośrednio z dysku google i zamieniam na df\r\n",
        "films = pd.read_csv('https://drive.google.com/uc?export=download&id=1Ofob2EV42qPeJSpIlhxnsEMAdEvnop7l', sep=';', encoding = \"ISO-8859-1\")\r\n",
        "films"
      ],
      "execution_count": 51,
      "outputs": [
        {
          "output_type": "execute_result",
          "data": {
            "text/html": [
              "<div>\n",
              "<style scoped>\n",
              "    .dataframe tbody tr th:only-of-type {\n",
              "        vertical-align: middle;\n",
              "    }\n",
              "\n",
              "    .dataframe tbody tr th {\n",
              "        vertical-align: top;\n",
              "    }\n",
              "\n",
              "    .dataframe thead th {\n",
              "        text-align: right;\n",
              "    }\n",
              "</style>\n",
              "<table border=\"1\" class=\"dataframe\">\n",
              "  <thead>\n",
              "    <tr style=\"text-align: right;\">\n",
              "      <th></th>\n",
              "      <th>Year</th>\n",
              "      <th>Length</th>\n",
              "      <th>Title</th>\n",
              "      <th>Subject</th>\n",
              "      <th>Actor</th>\n",
              "      <th>Actress</th>\n",
              "      <th>Director</th>\n",
              "      <th>Popularity</th>\n",
              "      <th>Awards</th>\n",
              "      <th>*Image</th>\n",
              "    </tr>\n",
              "  </thead>\n",
              "  <tbody>\n",
              "    <tr>\n",
              "      <th>0</th>\n",
              "      <td>INT</td>\n",
              "      <td>INT</td>\n",
              "      <td>STRING</td>\n",
              "      <td>CAT</td>\n",
              "      <td>CAT</td>\n",
              "      <td>CAT</td>\n",
              "      <td>CAT</td>\n",
              "      <td>INT</td>\n",
              "      <td>BOOL</td>\n",
              "      <td>STRING</td>\n",
              "    </tr>\n",
              "    <tr>\n",
              "      <th>1</th>\n",
              "      <td>1990</td>\n",
              "      <td>111</td>\n",
              "      <td>Tie Me Up! Tie Me Down!</td>\n",
              "      <td>Comedy</td>\n",
              "      <td>Banderas, Antonio</td>\n",
              "      <td>Abril, Victoria</td>\n",
              "      <td>Almodóvar, Pedro</td>\n",
              "      <td>68</td>\n",
              "      <td>No</td>\n",
              "      <td>NicholasCage.png</td>\n",
              "    </tr>\n",
              "    <tr>\n",
              "      <th>2</th>\n",
              "      <td>1991</td>\n",
              "      <td>113</td>\n",
              "      <td>High Heels</td>\n",
              "      <td>Comedy</td>\n",
              "      <td>Bosé, Miguel</td>\n",
              "      <td>Abril, Victoria</td>\n",
              "      <td>Almodóvar, Pedro</td>\n",
              "      <td>68</td>\n",
              "      <td>No</td>\n",
              "      <td>NicholasCage.png</td>\n",
              "    </tr>\n",
              "    <tr>\n",
              "      <th>3</th>\n",
              "      <td>1983</td>\n",
              "      <td>104</td>\n",
              "      <td>Dead Zone, The</td>\n",
              "      <td>Horror</td>\n",
              "      <td>Walken, Christopher</td>\n",
              "      <td>Adams, Brooke</td>\n",
              "      <td>Cronenberg, David</td>\n",
              "      <td>79</td>\n",
              "      <td>No</td>\n",
              "      <td>NicholasCage.png</td>\n",
              "    </tr>\n",
              "    <tr>\n",
              "      <th>4</th>\n",
              "      <td>1979</td>\n",
              "      <td>122</td>\n",
              "      <td>Cuba</td>\n",
              "      <td>Action</td>\n",
              "      <td>Connery, Sean</td>\n",
              "      <td>Adams, Brooke</td>\n",
              "      <td>Lester, Richard</td>\n",
              "      <td>6</td>\n",
              "      <td>No</td>\n",
              "      <td>seanConnery.png</td>\n",
              "    </tr>\n",
              "    <tr>\n",
              "      <th>...</th>\n",
              "      <td>...</td>\n",
              "      <td>...</td>\n",
              "      <td>...</td>\n",
              "      <td>...</td>\n",
              "      <td>...</td>\n",
              "      <td>...</td>\n",
              "      <td>...</td>\n",
              "      <td>...</td>\n",
              "      <td>...</td>\n",
              "      <td>...</td>\n",
              "    </tr>\n",
              "    <tr>\n",
              "      <th>1655</th>\n",
              "      <td>1932</td>\n",
              "      <td>226</td>\n",
              "      <td>Shadow of the Eagle, The</td>\n",
              "      <td>Action</td>\n",
              "      <td>Wayne, John</td>\n",
              "      <td>NaN</td>\n",
              "      <td>NaN</td>\n",
              "      <td>19</td>\n",
              "      <td>No</td>\n",
              "      <td>johnWayne.png</td>\n",
              "    </tr>\n",
              "    <tr>\n",
              "      <th>1656</th>\n",
              "      <td>1989</td>\n",
              "      <td>103</td>\n",
              "      <td>Blood &amp; Guns</td>\n",
              "      <td>Action</td>\n",
              "      <td>Welles, Orson</td>\n",
              "      <td>NaN</td>\n",
              "      <td>NaN</td>\n",
              "      <td>43</td>\n",
              "      <td>No</td>\n",
              "      <td>NicholasCage.png</td>\n",
              "    </tr>\n",
              "    <tr>\n",
              "      <th>1657</th>\n",
              "      <td>1988</td>\n",
              "      <td>78</td>\n",
              "      <td>Hot Money</td>\n",
              "      <td>Drama</td>\n",
              "      <td>Welles, Orson</td>\n",
              "      <td>NaN</td>\n",
              "      <td>NaN</td>\n",
              "      <td>19</td>\n",
              "      <td>No</td>\n",
              "      <td>NicholasCage.png</td>\n",
              "    </tr>\n",
              "    <tr>\n",
              "      <th>1658</th>\n",
              "      <td>1977</td>\n",
              "      <td>75</td>\n",
              "      <td>Comedy Tonight</td>\n",
              "      <td>Comedy</td>\n",
              "      <td>Williams, Robin</td>\n",
              "      <td>NaN</td>\n",
              "      <td>NaN</td>\n",
              "      <td>18</td>\n",
              "      <td>No</td>\n",
              "      <td>NicholasCage.png</td>\n",
              "    </tr>\n",
              "    <tr>\n",
              "      <th>1659</th>\n",
              "      <td>1991</td>\n",
              "      <td>65</td>\n",
              "      <td>Robin Williams</td>\n",
              "      <td>Comedy</td>\n",
              "      <td>Williams, Robin</td>\n",
              "      <td>NaN</td>\n",
              "      <td>NaN</td>\n",
              "      <td>4</td>\n",
              "      <td>No</td>\n",
              "      <td>NicholasCage.png</td>\n",
              "    </tr>\n",
              "  </tbody>\n",
              "</table>\n",
              "<p>1660 rows × 10 columns</p>\n",
              "</div>"
            ],
            "text/plain": [
              "      Year Length                     Title  ... Popularity Awards            *Image\n",
              "0      INT    INT                    STRING  ...        INT   BOOL            STRING\n",
              "1     1990    111   Tie Me Up! Tie Me Down!  ...         68     No  NicholasCage.png\n",
              "2     1991    113                High Heels  ...         68     No  NicholasCage.png\n",
              "3     1983    104            Dead Zone, The  ...         79     No  NicholasCage.png\n",
              "4     1979    122                      Cuba  ...          6     No   seanConnery.png\n",
              "...    ...    ...                       ...  ...        ...    ...               ...\n",
              "1655  1932    226  Shadow of the Eagle, The  ...         19     No     johnWayne.png\n",
              "1656  1989    103              Blood & Guns  ...         43     No  NicholasCage.png\n",
              "1657  1988     78                 Hot Money  ...         19     No  NicholasCage.png\n",
              "1658  1977     75            Comedy Tonight  ...         18     No  NicholasCage.png\n",
              "1659  1991     65            Robin Williams  ...          4     No  NicholasCage.png\n",
              "\n",
              "[1660 rows x 10 columns]"
            ]
          },
          "metadata": {
            "tags": []
          },
          "execution_count": 51
        }
      ]
    },
    {
      "cell_type": "markdown",
      "metadata": {
        "id": "AE-sgT1nKPUK"
      },
      "source": [
        "Plik jest już problematyczny od samego początku. Separatorem w tym pliku jest średnik ';', a nie tak jak to zwykle bywa w przypadku plików csv – przecinek oraz został zapisany w standardzie '”ISO-8859-1″. Jest to dość rzadkie. Na ogół pliki CSV są zapisywane w standardzie UTF-8 i ich odczyt nie stanowi problemu.\r\n",
        "\r\n",
        "Widzimy że pierwszy wiersz w pliku zawiera typ kolumn, tak więc ten wiersz jest interesujący, jednak do skasowania. Ostatnia kolumna jest *Image jest również do skasowania, nie przyda nam się."
      ]
    },
    {
      "cell_type": "code",
      "metadata": {
        "colab": {
          "base_uri": "https://localhost:8080/",
          "height": 503
        },
        "id": "M6pxaZVxKQuK",
        "outputId": "33b72c8e-f9fc-49b6-fb1d-772a63afc205"
      },
      "source": [
        "# Kasujemy pierwszy wiersz\r\n",
        "films = films.drop(0)\r\n",
        "\r\n",
        "# Kasujemy ostatnią kolumnę\r\n",
        "films = films.drop(columns=['*Image'])\r\n",
        "\r\n",
        "films"
      ],
      "execution_count": 52,
      "outputs": [
        {
          "output_type": "execute_result",
          "data": {
            "text/html": [
              "<div>\n",
              "<style scoped>\n",
              "    .dataframe tbody tr th:only-of-type {\n",
              "        vertical-align: middle;\n",
              "    }\n",
              "\n",
              "    .dataframe tbody tr th {\n",
              "        vertical-align: top;\n",
              "    }\n",
              "\n",
              "    .dataframe thead th {\n",
              "        text-align: right;\n",
              "    }\n",
              "</style>\n",
              "<table border=\"1\" class=\"dataframe\">\n",
              "  <thead>\n",
              "    <tr style=\"text-align: right;\">\n",
              "      <th></th>\n",
              "      <th>Year</th>\n",
              "      <th>Length</th>\n",
              "      <th>Title</th>\n",
              "      <th>Subject</th>\n",
              "      <th>Actor</th>\n",
              "      <th>Actress</th>\n",
              "      <th>Director</th>\n",
              "      <th>Popularity</th>\n",
              "      <th>Awards</th>\n",
              "    </tr>\n",
              "  </thead>\n",
              "  <tbody>\n",
              "    <tr>\n",
              "      <th>1</th>\n",
              "      <td>1990</td>\n",
              "      <td>111</td>\n",
              "      <td>Tie Me Up! Tie Me Down!</td>\n",
              "      <td>Comedy</td>\n",
              "      <td>Banderas, Antonio</td>\n",
              "      <td>Abril, Victoria</td>\n",
              "      <td>Almodóvar, Pedro</td>\n",
              "      <td>68</td>\n",
              "      <td>No</td>\n",
              "    </tr>\n",
              "    <tr>\n",
              "      <th>2</th>\n",
              "      <td>1991</td>\n",
              "      <td>113</td>\n",
              "      <td>High Heels</td>\n",
              "      <td>Comedy</td>\n",
              "      <td>Bosé, Miguel</td>\n",
              "      <td>Abril, Victoria</td>\n",
              "      <td>Almodóvar, Pedro</td>\n",
              "      <td>68</td>\n",
              "      <td>No</td>\n",
              "    </tr>\n",
              "    <tr>\n",
              "      <th>3</th>\n",
              "      <td>1983</td>\n",
              "      <td>104</td>\n",
              "      <td>Dead Zone, The</td>\n",
              "      <td>Horror</td>\n",
              "      <td>Walken, Christopher</td>\n",
              "      <td>Adams, Brooke</td>\n",
              "      <td>Cronenberg, David</td>\n",
              "      <td>79</td>\n",
              "      <td>No</td>\n",
              "    </tr>\n",
              "    <tr>\n",
              "      <th>4</th>\n",
              "      <td>1979</td>\n",
              "      <td>122</td>\n",
              "      <td>Cuba</td>\n",
              "      <td>Action</td>\n",
              "      <td>Connery, Sean</td>\n",
              "      <td>Adams, Brooke</td>\n",
              "      <td>Lester, Richard</td>\n",
              "      <td>6</td>\n",
              "      <td>No</td>\n",
              "    </tr>\n",
              "    <tr>\n",
              "      <th>5</th>\n",
              "      <td>1978</td>\n",
              "      <td>94</td>\n",
              "      <td>Days of Heaven</td>\n",
              "      <td>Drama</td>\n",
              "      <td>Gere, Richard</td>\n",
              "      <td>Adams, Brooke</td>\n",
              "      <td>Malick, Terrence</td>\n",
              "      <td>14</td>\n",
              "      <td>No</td>\n",
              "    </tr>\n",
              "    <tr>\n",
              "      <th>...</th>\n",
              "      <td>...</td>\n",
              "      <td>...</td>\n",
              "      <td>...</td>\n",
              "      <td>...</td>\n",
              "      <td>...</td>\n",
              "      <td>...</td>\n",
              "      <td>...</td>\n",
              "      <td>...</td>\n",
              "      <td>...</td>\n",
              "    </tr>\n",
              "    <tr>\n",
              "      <th>1655</th>\n",
              "      <td>1932</td>\n",
              "      <td>226</td>\n",
              "      <td>Shadow of the Eagle, The</td>\n",
              "      <td>Action</td>\n",
              "      <td>Wayne, John</td>\n",
              "      <td>NaN</td>\n",
              "      <td>NaN</td>\n",
              "      <td>19</td>\n",
              "      <td>No</td>\n",
              "    </tr>\n",
              "    <tr>\n",
              "      <th>1656</th>\n",
              "      <td>1989</td>\n",
              "      <td>103</td>\n",
              "      <td>Blood &amp; Guns</td>\n",
              "      <td>Action</td>\n",
              "      <td>Welles, Orson</td>\n",
              "      <td>NaN</td>\n",
              "      <td>NaN</td>\n",
              "      <td>43</td>\n",
              "      <td>No</td>\n",
              "    </tr>\n",
              "    <tr>\n",
              "      <th>1657</th>\n",
              "      <td>1988</td>\n",
              "      <td>78</td>\n",
              "      <td>Hot Money</td>\n",
              "      <td>Drama</td>\n",
              "      <td>Welles, Orson</td>\n",
              "      <td>NaN</td>\n",
              "      <td>NaN</td>\n",
              "      <td>19</td>\n",
              "      <td>No</td>\n",
              "    </tr>\n",
              "    <tr>\n",
              "      <th>1658</th>\n",
              "      <td>1977</td>\n",
              "      <td>75</td>\n",
              "      <td>Comedy Tonight</td>\n",
              "      <td>Comedy</td>\n",
              "      <td>Williams, Robin</td>\n",
              "      <td>NaN</td>\n",
              "      <td>NaN</td>\n",
              "      <td>18</td>\n",
              "      <td>No</td>\n",
              "    </tr>\n",
              "    <tr>\n",
              "      <th>1659</th>\n",
              "      <td>1991</td>\n",
              "      <td>65</td>\n",
              "      <td>Robin Williams</td>\n",
              "      <td>Comedy</td>\n",
              "      <td>Williams, Robin</td>\n",
              "      <td>NaN</td>\n",
              "      <td>NaN</td>\n",
              "      <td>4</td>\n",
              "      <td>No</td>\n",
              "    </tr>\n",
              "  </tbody>\n",
              "</table>\n",
              "<p>1659 rows × 9 columns</p>\n",
              "</div>"
            ],
            "text/plain": [
              "      Year Length  ... Popularity Awards\n",
              "1     1990    111  ...         68     No\n",
              "2     1991    113  ...         68     No\n",
              "3     1983    104  ...         79     No\n",
              "4     1979    122  ...          6     No\n",
              "5     1978     94  ...         14     No\n",
              "...    ...    ...  ...        ...    ...\n",
              "1655  1932    226  ...         19     No\n",
              "1656  1989    103  ...         43     No\n",
              "1657  1988     78  ...         19     No\n",
              "1658  1977     75  ...         18     No\n",
              "1659  1991     65  ...          4     No\n",
              "\n",
              "[1659 rows x 9 columns]"
            ]
          },
          "metadata": {
            "tags": []
          },
          "execution_count": 52
        }
      ]
    },
    {
      "cell_type": "markdown",
      "metadata": {
        "id": "NmKFrG4IKxYo"
      },
      "source": [
        "Zobaczmy jaka jest średnia długość filmu."
      ]
    },
    {
      "cell_type": "code",
      "metadata": {
        "id": "UGGkxHokLF-g"
      },
      "source": [
        "# films.Length.mean()"
      ],
      "execution_count": 53,
      "outputs": []
    },
    {
      "cell_type": "markdown",
      "metadata": {
        "id": "ZQxonSPHLZ7K"
      },
      "source": [
        "Operacja kończy się jednak błędem. Otrzymujemy informację o:\r\n",
        "\r\n",
        "'TypeError: can only concatenate str (not „int”) to str'. \r\n",
        "\r\n",
        "Świadczy to o problemie z typem danych. Czyli nasza kolumna Length nie jest rozpoznana przez Pandas jako liczby."
      ]
    },
    {
      "cell_type": "markdown",
      "metadata": {
        "id": "-RMpdxEPObmR"
      },
      "source": [
        "## **Typy danych w Pandas DataFrame**"
      ]
    },
    {
      "cell_type": "markdown",
      "metadata": {
        "id": "Ao-8lRdEOc-y"
      },
      "source": [
        "Na początku sprawdźmy jak Pandas widzi nasz zbiór danych. Możemy skorzystać z funkcji info() lub parametru dtypes:"
      ]
    },
    {
      "cell_type": "code",
      "metadata": {
        "colab": {
          "base_uri": "https://localhost:8080/"
        },
        "id": "1uTEGhlLOkf9",
        "outputId": "752bf7a7-2c05-43e1-a0ae-d380f347836f"
      },
      "source": [
        "films.info()"
      ],
      "execution_count": 54,
      "outputs": [
        {
          "output_type": "stream",
          "text": [
            "<class 'pandas.core.frame.DataFrame'>\n",
            "Int64Index: 1659 entries, 1 to 1659\n",
            "Data columns (total 9 columns):\n",
            " #   Column      Non-Null Count  Dtype \n",
            "---  ------      --------------  ----- \n",
            " 0   Year        1659 non-null   object\n",
            " 1   Length      1592 non-null   object\n",
            " 2   Title       1659 non-null   object\n",
            " 3   Subject     1657 non-null   object\n",
            " 4   Actor       1651 non-null   object\n",
            " 5   Actress     1281 non-null   object\n",
            " 6   Director    1406 non-null   object\n",
            " 7   Popularity  1653 non-null   object\n",
            " 8   Awards      1659 non-null   object\n",
            "dtypes: object(9)\n",
            "memory usage: 129.6+ KB\n"
          ],
          "name": "stdout"
        }
      ]
    },
    {
      "cell_type": "markdown",
      "metadata": {
        "id": "QTlzytRFO6v6"
      },
      "source": [
        "Widzimy że nasz zbiór zawiera trochę wartości pustych, ale przede wszystkim, że wszystkie kolumny są rozpoznane jako typ object.\r\n",
        "\r\n",
        "Python Pandas rozpoznaje następujące typy danych:\r\n",
        "\r\n",
        "Typ danych w DataFrame -- Odpowiednik w Python\r\n",
        "\r\n",
        "object ------------------------------> String (łańcuch znaków)\r\n",
        "\r\n",
        "int64 -------------------------------> Integer (liczba całkowita)\r\n",
        "\r\n",
        "float64 ---------------------------->\tFloat (liczba rzeczywiste)\r\n",
        "\r\n",
        "bool --------------------------------> bool (True lub False)\r\n",
        "\r\n",
        "Category -------------------------> NA\r\n",
        "\r\n",
        "datetime --------------------------> datetime\r\n",
        "\r\n",
        "\r\n",
        "Tak jak widzimy typy danych w Pandas są bardzo podobne do tych znanych nam z Python. Dodatkowo mamy do dyspozycji Category. No ale wróćmy do naszego problemu.\r\n",
        "\r\n",
        "Na kolumnie która została wczytana z pliku jako typ object (czyli zmienna przeznaczona do przechowywania tekstu) próbujemy wykonać operację matematyczną. Tym samym musimy zmienić typ naszej kolumny na taką która pozwoli nam na operacje matematyczne – int64 lub float64."
      ]
    },
    {
      "cell_type": "markdown",
      "metadata": {
        "id": "wDCz3hiDQSoy"
      },
      "source": [
        "## **Zamiana typów danych w Pandas DataFrame**"
      ]
    },
    {
      "cell_type": "markdown",
      "metadata": {
        "id": "ziqWHBd-QUEh"
      },
      "source": [
        "W Pandas mamy kilka możliwości zmiany typu danych. Niektóre z nich już poznaliśmy i zobaczmy ponownie a niektóre będą czymś nowym."
      ]
    },
    {
      "cell_type": "markdown",
      "metadata": {
        "id": "pB3kJVpnQXZZ"
      },
      "source": [
        "### **to_numeric()**"
      ]
    },
    {
      "cell_type": "markdown",
      "metadata": {
        "id": "Hi42v6uRQjVa"
      },
      "source": [
        "Jest to najprostszy sposób zamiany kolumn, które są rozpoznane jako typ object, a zawierają liczby, na typ danych numeryczny."
      ]
    },
    {
      "cell_type": "code",
      "metadata": {
        "colab": {
          "base_uri": "https://localhost:8080/"
        },
        "id": "nnu7q7F1Q7rR",
        "outputId": "0bd2536c-c41e-4a44-f2f6-52efc14fa5fd"
      },
      "source": [
        "films.Length = pd.to_numeric(films.Length)\r\n",
        "films.dtypes"
      ],
      "execution_count": 55,
      "outputs": [
        {
          "output_type": "execute_result",
          "data": {
            "text/plain": [
              "Year           object\n",
              "Length        float64\n",
              "Title          object\n",
              "Subject        object\n",
              "Actor          object\n",
              "Actress        object\n",
              "Director       object\n",
              "Popularity     object\n",
              "Awards         object\n",
              "dtype: object"
            ]
          },
          "metadata": {
            "tags": []
          },
          "execution_count": 55
        }
      ]
    },
    {
      "cell_type": "markdown",
      "metadata": {
        "id": "oh7Y-KhiRN8R"
      },
      "source": [
        "Tym samym, widzimy że typ danych kolumny lenght został zamieniony na float64. A my możemy wykonać operacje matematyczne na tej kolumnie, takie jak policzenie średniej długości trwania filmu w naszej bazie danych."
      ]
    },
    {
      "cell_type": "code",
      "metadata": {
        "colab": {
          "base_uri": "https://localhost:8080/"
        },
        "id": "98Pb5pS-RSg5",
        "outputId": "6bfb0774-8ae1-4c6e-e0e3-121297ef7cd2"
      },
      "source": [
        "films.Length.mean()"
      ],
      "execution_count": 56,
      "outputs": [
        {
          "output_type": "execute_result",
          "data": {
            "text/plain": [
              "105.17964824120602"
            ]
          },
          "metadata": {
            "tags": []
          },
          "execution_count": 56
        }
      ]
    },
    {
      "cell_type": "markdown",
      "metadata": {
        "id": "FDhwssAKRbNx"
      },
      "source": [
        "### **astype()**"
      ]
    },
    {
      "cell_type": "markdown",
      "metadata": {
        "id": "jdmigshkRcjC"
      },
      "source": [
        "Funkcja astype() jest troszkę starsza od funkcji to_numeric(), ale za to daje większe możliwości. Funkcja to_numeric, sama dobrała typ danych, ale ograniczała się tylko do zamiany object na liczby. astype() wymaga ręcznego podania typu danych który chcemy osiągnąć ale możemy próbować zamieniać dowolne typy danych na dowolne inne."
      ]
    },
    {
      "cell_type": "code",
      "metadata": {
        "colab": {
          "base_uri": "https://localhost:8080/"
        },
        "id": "QeH-TlwrRjrt",
        "outputId": "c281242e-b516-406e-fdbd-aba2525209ff"
      },
      "source": [
        "films.Popularity = films.Popularity.astype('float64')\r\n",
        "films.dtypes"
      ],
      "execution_count": 58,
      "outputs": [
        {
          "output_type": "execute_result",
          "data": {
            "text/plain": [
              "Year           object\n",
              "Length        float64\n",
              "Title          object\n",
              "Subject        object\n",
              "Actor          object\n",
              "Actress        object\n",
              "Director       object\n",
              "Popularity    float64\n",
              "Awards         object\n",
              "dtype: object"
            ]
          },
          "metadata": {
            "tags": []
          },
          "execution_count": 58
        }
      ]
    },
    {
      "cell_type": "markdown",
      "metadata": {
        "id": "BuL6HE6DRsFT"
      },
      "source": [
        "### **apply()**"
      ]
    },
    {
      "cell_type": "markdown",
      "metadata": {
        "id": "KJ98mjz1RtYY"
      },
      "source": [
        "Trzecim sposobem, na zmianę typu danych o którym powiemy, jest sposób najbardziej uniwersalny i potężny. Otóż możemy zastosować funkcję apply, która może czytać wartość w jednym formacie, a zwracać ją w zupełnie innych.\r\n",
        "\r\n",
        "Dla przykładu, pod lupę wezmę kolumnę Award. Czyli informację czy dany film dostał nagrodę czy też nie. Zamienie typ tej kolumny na bool, natomiast jeżeli dostał nagrodę (wartość Yes) to wpiszę True. W innym przypadku wpiszę wartość False:"
      ]
    },
    {
      "cell_type": "code",
      "metadata": {
        "colab": {
          "base_uri": "https://localhost:8080/"
        },
        "id": "ijwTlbMyR3o6",
        "outputId": "f044e876-fd81-4d0c-f010-daf35120ae59"
      },
      "source": [
        "def zamien(wartosc):\r\n",
        "    if wartosc == 'No': \r\n",
        "        return False\r\n",
        "    if wartosc == 'Yes': \r\n",
        "        return True\r\n",
        "    \r\n",
        "films.Awards = films.Awards.apply(zamien)\r\n",
        "films.dtypes"
      ],
      "execution_count": 59,
      "outputs": [
        {
          "output_type": "execute_result",
          "data": {
            "text/plain": [
              "Year           object\n",
              "Length        float64\n",
              "Title          object\n",
              "Subject        object\n",
              "Actor          object\n",
              "Actress        object\n",
              "Director       object\n",
              "Popularity    float64\n",
              "Awards           bool\n",
              "dtype: object"
            ]
          },
          "metadata": {
            "tags": []
          },
          "execution_count": 59
        }
      ]
    },
    {
      "cell_type": "markdown",
      "metadata": {
        "id": "h9wJNfnpSEvY"
      },
      "source": [
        "Rozwiązanie krótkie, czytelne, efektywne. Nasz zbiór wygląda teraz tak:"
      ]
    },
    {
      "cell_type": "code",
      "metadata": {
        "colab": {
          "base_uri": "https://localhost:8080/"
        },
        "id": "5iZNUvF4SFqR",
        "outputId": "1853d59a-5653-4577-e373-63c8c66fd6dc"
      },
      "source": [
        "films.Awards"
      ],
      "execution_count": 61,
      "outputs": [
        {
          "output_type": "execute_result",
          "data": {
            "text/plain": [
              "1       False\n",
              "2       False\n",
              "3       False\n",
              "4       False\n",
              "5       False\n",
              "        ...  \n",
              "1655    False\n",
              "1656    False\n",
              "1657    False\n",
              "1658    False\n",
              "1659    False\n",
              "Name: Awards, Length: 1659, dtype: bool"
            ]
          },
          "metadata": {
            "tags": []
          },
          "execution_count": 61
        }
      ]
    },
    {
      "cell_type": "markdown",
      "metadata": {
        "id": "lzNXGEenSNd1"
      },
      "source": [
        "## **Zmiana typów podczas wczytywania pliku CSV**"
      ]
    },
    {
      "cell_type": "markdown",
      "metadata": {
        "id": "dBvHcLgySO9Q"
      },
      "source": [
        "Powyżej zobaczyliśmy jak możemy poczyścić nasz zbiór danych usuwając kolumny, wiersze i nadając odpowiednie typy danych naszym kolumnom. Są to jak najbardziej słuszne rozwiązania. Jednak teraz, kiedy wiemy z jakimi problemami mieliśmy od czynienia, warto zadać sobie pytanie czy nie warto wykonać części z tych operacji na etapie czytania pliku?\r\n",
        "\r\n",
        "Okazuje się że z funkcją read_csv() jest to możliwe korzystając z dodatkowych parametrów takich jak:\r\n",
        "\r\n",
        "dtype, który zdefiniuje nam od razu typy kolumn,\r\n",
        "\r\n",
        "skiprows, który umożliwi nam ominięcie pierwszego, problematycznego wiersza.\r\n",
        "\r\n",
        "usecols, gdzie możemy podać interesujące nas kolumny\r\n",
        "\r\n",
        "converters, który umożliwia nam zastosowanie apply"
      ]
    },
    {
      "cell_type": "code",
      "metadata": {
        "colab": {
          "base_uri": "https://localhost:8080/",
          "height": 417
        },
        "id": "KPAxxtLeT9GS",
        "outputId": "1048ccd2-119e-46e6-aaaf-31f724654ff2"
      },
      "source": [
        "def zamien(wartosc):\r\n",
        "    if wartosc == 'No': return False\r\n",
        "    if wartosc == 'Yes': return True\r\n",
        "\r\n",
        "films = pd.read_csv('https://drive.google.com/uc?export=download&id=1Ofob2EV42qPeJSpIlhxnsEMAdEvnop7l', \r\n",
        "                    sep=';', \r\n",
        "                    encoding = \"ISO-8859-1\",\r\n",
        "                    skiprows=[1],\r\n",
        "                    dtype={'Length':'float64', 'Popularity':'float64'},\r\n",
        "                    usecols=['Year','Length','Title','Subject','Popularity','Awards'],\r\n",
        "                    converters={'Awards':zamien})\r\n",
        "\r\n",
        "films"
      ],
      "execution_count": 62,
      "outputs": [
        {
          "output_type": "execute_result",
          "data": {
            "text/html": [
              "<div>\n",
              "<style scoped>\n",
              "    .dataframe tbody tr th:only-of-type {\n",
              "        vertical-align: middle;\n",
              "    }\n",
              "\n",
              "    .dataframe tbody tr th {\n",
              "        vertical-align: top;\n",
              "    }\n",
              "\n",
              "    .dataframe thead th {\n",
              "        text-align: right;\n",
              "    }\n",
              "</style>\n",
              "<table border=\"1\" class=\"dataframe\">\n",
              "  <thead>\n",
              "    <tr style=\"text-align: right;\">\n",
              "      <th></th>\n",
              "      <th>Year</th>\n",
              "      <th>Length</th>\n",
              "      <th>Title</th>\n",
              "      <th>Subject</th>\n",
              "      <th>Popularity</th>\n",
              "      <th>Awards</th>\n",
              "    </tr>\n",
              "  </thead>\n",
              "  <tbody>\n",
              "    <tr>\n",
              "      <th>0</th>\n",
              "      <td>1990</td>\n",
              "      <td>111.0</td>\n",
              "      <td>Tie Me Up! Tie Me Down!</td>\n",
              "      <td>Comedy</td>\n",
              "      <td>68.0</td>\n",
              "      <td>False</td>\n",
              "    </tr>\n",
              "    <tr>\n",
              "      <th>1</th>\n",
              "      <td>1991</td>\n",
              "      <td>113.0</td>\n",
              "      <td>High Heels</td>\n",
              "      <td>Comedy</td>\n",
              "      <td>68.0</td>\n",
              "      <td>False</td>\n",
              "    </tr>\n",
              "    <tr>\n",
              "      <th>2</th>\n",
              "      <td>1983</td>\n",
              "      <td>104.0</td>\n",
              "      <td>Dead Zone, The</td>\n",
              "      <td>Horror</td>\n",
              "      <td>79.0</td>\n",
              "      <td>False</td>\n",
              "    </tr>\n",
              "    <tr>\n",
              "      <th>3</th>\n",
              "      <td>1979</td>\n",
              "      <td>122.0</td>\n",
              "      <td>Cuba</td>\n",
              "      <td>Action</td>\n",
              "      <td>6.0</td>\n",
              "      <td>False</td>\n",
              "    </tr>\n",
              "    <tr>\n",
              "      <th>4</th>\n",
              "      <td>1978</td>\n",
              "      <td>94.0</td>\n",
              "      <td>Days of Heaven</td>\n",
              "      <td>Drama</td>\n",
              "      <td>14.0</td>\n",
              "      <td>False</td>\n",
              "    </tr>\n",
              "    <tr>\n",
              "      <th>...</th>\n",
              "      <td>...</td>\n",
              "      <td>...</td>\n",
              "      <td>...</td>\n",
              "      <td>...</td>\n",
              "      <td>...</td>\n",
              "      <td>...</td>\n",
              "    </tr>\n",
              "    <tr>\n",
              "      <th>1654</th>\n",
              "      <td>1932</td>\n",
              "      <td>226.0</td>\n",
              "      <td>Shadow of the Eagle, The</td>\n",
              "      <td>Action</td>\n",
              "      <td>19.0</td>\n",
              "      <td>False</td>\n",
              "    </tr>\n",
              "    <tr>\n",
              "      <th>1655</th>\n",
              "      <td>1989</td>\n",
              "      <td>103.0</td>\n",
              "      <td>Blood &amp; Guns</td>\n",
              "      <td>Action</td>\n",
              "      <td>43.0</td>\n",
              "      <td>False</td>\n",
              "    </tr>\n",
              "    <tr>\n",
              "      <th>1656</th>\n",
              "      <td>1988</td>\n",
              "      <td>78.0</td>\n",
              "      <td>Hot Money</td>\n",
              "      <td>Drama</td>\n",
              "      <td>19.0</td>\n",
              "      <td>False</td>\n",
              "    </tr>\n",
              "    <tr>\n",
              "      <th>1657</th>\n",
              "      <td>1977</td>\n",
              "      <td>75.0</td>\n",
              "      <td>Comedy Tonight</td>\n",
              "      <td>Comedy</td>\n",
              "      <td>18.0</td>\n",
              "      <td>False</td>\n",
              "    </tr>\n",
              "    <tr>\n",
              "      <th>1658</th>\n",
              "      <td>1991</td>\n",
              "      <td>65.0</td>\n",
              "      <td>Robin Williams</td>\n",
              "      <td>Comedy</td>\n",
              "      <td>4.0</td>\n",
              "      <td>False</td>\n",
              "    </tr>\n",
              "  </tbody>\n",
              "</table>\n",
              "<p>1659 rows × 6 columns</p>\n",
              "</div>"
            ],
            "text/plain": [
              "      Year  Length                     Title Subject  Popularity  Awards\n",
              "0     1990   111.0   Tie Me Up! Tie Me Down!  Comedy        68.0   False\n",
              "1     1991   113.0                High Heels  Comedy        68.0   False\n",
              "2     1983   104.0            Dead Zone, The  Horror        79.0   False\n",
              "3     1979   122.0                      Cuba  Action         6.0   False\n",
              "4     1978    94.0            Days of Heaven   Drama        14.0   False\n",
              "...    ...     ...                       ...     ...         ...     ...\n",
              "1654  1932   226.0  Shadow of the Eagle, The  Action        19.0   False\n",
              "1655  1989   103.0              Blood & Guns  Action        43.0   False\n",
              "1656  1988    78.0                 Hot Money   Drama        19.0   False\n",
              "1657  1977    75.0            Comedy Tonight  Comedy        18.0   False\n",
              "1658  1991    65.0            Robin Williams  Comedy         4.0   False\n",
              "\n",
              "[1659 rows x 6 columns]"
            ]
          },
          "metadata": {
            "tags": []
          },
          "execution_count": 62
        }
      ]
    },
    {
      "cell_type": "code",
      "metadata": {
        "colab": {
          "base_uri": "https://localhost:8080/"
        },
        "id": "yfvhx1BVUWGo",
        "outputId": "cca3db99-12ad-4676-95b2-86a84b39cc9e"
      },
      "source": [
        "films.dtypes"
      ],
      "execution_count": 63,
      "outputs": [
        {
          "output_type": "execute_result",
          "data": {
            "text/plain": [
              "Year            int64\n",
              "Length        float64\n",
              "Title          object\n",
              "Subject        object\n",
              "Popularity    float64\n",
              "Awards           bool\n",
              "dtype: object"
            ]
          },
          "metadata": {
            "tags": []
          },
          "execution_count": 63
        }
      ]
    },
    {
      "cell_type": "markdown",
      "metadata": {
        "id": "92syVrTEUadR"
      },
      "source": [
        "Mało tego, dla tych który znają funkcje lambda, możemy uprościć nasz zapis do takiej postaci:\r\n",
        "\r\n"
      ]
    },
    {
      "cell_type": "code",
      "metadata": {
        "colab": {
          "base_uri": "https://localhost:8080/",
          "height": 417
        },
        "id": "fgkkSX0cUe3r",
        "outputId": "2dcda5e5-9688-4c19-eb63-281ccc8a9b68"
      },
      "source": [
        "films = pd.read_csv('https://drive.google.com/uc?export=download&id=1Ofob2EV42qPeJSpIlhxnsEMAdEvnop7l', \r\n",
        "                    sep=';', \r\n",
        "                    encoding = \"ISO-8859-1\",\r\n",
        "                    skiprows=[1],\r\n",
        "                    dtype={'Length':'float64', 'Popularity':'float64'},\r\n",
        "                    usecols=['Year','Length','Title','Subject','Popularity','Awards'],\r\n",
        "                    converters={'Awards':lambda x: True if x == 'Yes' else False})\r\n",
        "\r\n",
        "films"
      ],
      "execution_count": 64,
      "outputs": [
        {
          "output_type": "execute_result",
          "data": {
            "text/html": [
              "<div>\n",
              "<style scoped>\n",
              "    .dataframe tbody tr th:only-of-type {\n",
              "        vertical-align: middle;\n",
              "    }\n",
              "\n",
              "    .dataframe tbody tr th {\n",
              "        vertical-align: top;\n",
              "    }\n",
              "\n",
              "    .dataframe thead th {\n",
              "        text-align: right;\n",
              "    }\n",
              "</style>\n",
              "<table border=\"1\" class=\"dataframe\">\n",
              "  <thead>\n",
              "    <tr style=\"text-align: right;\">\n",
              "      <th></th>\n",
              "      <th>Year</th>\n",
              "      <th>Length</th>\n",
              "      <th>Title</th>\n",
              "      <th>Subject</th>\n",
              "      <th>Popularity</th>\n",
              "      <th>Awards</th>\n",
              "    </tr>\n",
              "  </thead>\n",
              "  <tbody>\n",
              "    <tr>\n",
              "      <th>0</th>\n",
              "      <td>1990</td>\n",
              "      <td>111.0</td>\n",
              "      <td>Tie Me Up! Tie Me Down!</td>\n",
              "      <td>Comedy</td>\n",
              "      <td>68.0</td>\n",
              "      <td>False</td>\n",
              "    </tr>\n",
              "    <tr>\n",
              "      <th>1</th>\n",
              "      <td>1991</td>\n",
              "      <td>113.0</td>\n",
              "      <td>High Heels</td>\n",
              "      <td>Comedy</td>\n",
              "      <td>68.0</td>\n",
              "      <td>False</td>\n",
              "    </tr>\n",
              "    <tr>\n",
              "      <th>2</th>\n",
              "      <td>1983</td>\n",
              "      <td>104.0</td>\n",
              "      <td>Dead Zone, The</td>\n",
              "      <td>Horror</td>\n",
              "      <td>79.0</td>\n",
              "      <td>False</td>\n",
              "    </tr>\n",
              "    <tr>\n",
              "      <th>3</th>\n",
              "      <td>1979</td>\n",
              "      <td>122.0</td>\n",
              "      <td>Cuba</td>\n",
              "      <td>Action</td>\n",
              "      <td>6.0</td>\n",
              "      <td>False</td>\n",
              "    </tr>\n",
              "    <tr>\n",
              "      <th>4</th>\n",
              "      <td>1978</td>\n",
              "      <td>94.0</td>\n",
              "      <td>Days of Heaven</td>\n",
              "      <td>Drama</td>\n",
              "      <td>14.0</td>\n",
              "      <td>False</td>\n",
              "    </tr>\n",
              "    <tr>\n",
              "      <th>...</th>\n",
              "      <td>...</td>\n",
              "      <td>...</td>\n",
              "      <td>...</td>\n",
              "      <td>...</td>\n",
              "      <td>...</td>\n",
              "      <td>...</td>\n",
              "    </tr>\n",
              "    <tr>\n",
              "      <th>1654</th>\n",
              "      <td>1932</td>\n",
              "      <td>226.0</td>\n",
              "      <td>Shadow of the Eagle, The</td>\n",
              "      <td>Action</td>\n",
              "      <td>19.0</td>\n",
              "      <td>False</td>\n",
              "    </tr>\n",
              "    <tr>\n",
              "      <th>1655</th>\n",
              "      <td>1989</td>\n",
              "      <td>103.0</td>\n",
              "      <td>Blood &amp; Guns</td>\n",
              "      <td>Action</td>\n",
              "      <td>43.0</td>\n",
              "      <td>False</td>\n",
              "    </tr>\n",
              "    <tr>\n",
              "      <th>1656</th>\n",
              "      <td>1988</td>\n",
              "      <td>78.0</td>\n",
              "      <td>Hot Money</td>\n",
              "      <td>Drama</td>\n",
              "      <td>19.0</td>\n",
              "      <td>False</td>\n",
              "    </tr>\n",
              "    <tr>\n",
              "      <th>1657</th>\n",
              "      <td>1977</td>\n",
              "      <td>75.0</td>\n",
              "      <td>Comedy Tonight</td>\n",
              "      <td>Comedy</td>\n",
              "      <td>18.0</td>\n",
              "      <td>False</td>\n",
              "    </tr>\n",
              "    <tr>\n",
              "      <th>1658</th>\n",
              "      <td>1991</td>\n",
              "      <td>65.0</td>\n",
              "      <td>Robin Williams</td>\n",
              "      <td>Comedy</td>\n",
              "      <td>4.0</td>\n",
              "      <td>False</td>\n",
              "    </tr>\n",
              "  </tbody>\n",
              "</table>\n",
              "<p>1659 rows × 6 columns</p>\n",
              "</div>"
            ],
            "text/plain": [
              "      Year  Length                     Title Subject  Popularity  Awards\n",
              "0     1990   111.0   Tie Me Up! Tie Me Down!  Comedy        68.0   False\n",
              "1     1991   113.0                High Heels  Comedy        68.0   False\n",
              "2     1983   104.0            Dead Zone, The  Horror        79.0   False\n",
              "3     1979   122.0                      Cuba  Action         6.0   False\n",
              "4     1978    94.0            Days of Heaven   Drama        14.0   False\n",
              "...    ...     ...                       ...     ...         ...     ...\n",
              "1654  1932   226.0  Shadow of the Eagle, The  Action        19.0   False\n",
              "1655  1989   103.0              Blood & Guns  Action        43.0   False\n",
              "1656  1988    78.0                 Hot Money   Drama        19.0   False\n",
              "1657  1977    75.0            Comedy Tonight  Comedy        18.0   False\n",
              "1658  1991    65.0            Robin Williams  Comedy         4.0   False\n",
              "\n",
              "[1659 rows x 6 columns]"
            ]
          },
          "metadata": {
            "tags": []
          },
          "execution_count": 64
        }
      ]
    },
    {
      "cell_type": "code",
      "metadata": {
        "colab": {
          "base_uri": "https://localhost:8080/"
        },
        "id": "dY1RolBlUq06",
        "outputId": "ae698a72-d486-467f-ac61-f68f96fc308c"
      },
      "source": [
        "films.dtypes"
      ],
      "execution_count": 65,
      "outputs": [
        {
          "output_type": "execute_result",
          "data": {
            "text/plain": [
              "Year            int64\n",
              "Length        float64\n",
              "Title          object\n",
              "Subject        object\n",
              "Popularity    float64\n",
              "Awards           bool\n",
              "dtype: object"
            ]
          },
          "metadata": {
            "tags": []
          },
          "execution_count": 65
        }
      ]
    }
  ]
}