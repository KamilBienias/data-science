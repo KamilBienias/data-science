{
  "nbformat": 4,
  "nbformat_minor": 0,
  "metadata": {
    "colab": {
      "name": "13_merge_i_concat.ipynb",
      "provenance": [],
      "collapsed_sections": [],
      "authorship_tag": "ABX9TyNbE4kqwGiiRWS+Wqd7Vcov",
      "include_colab_link": true
    },
    "kernelspec": {
      "name": "python3",
      "display_name": "Python 3"
    }
  },
  "cells": [
    {
      "cell_type": "markdown",
      "metadata": {
        "id": "view-in-github",
        "colab_type": "text"
      },
      "source": [
        "<a href=\"https://colab.research.google.com/github/KamilBienias/data-science/blob/main/training/analityk.edu.pl/pandas_tutorial/13_merge_i_concat.ipynb\" target=\"_parent\"><img src=\"https://colab.research.google.com/assets/colab-badge.svg\" alt=\"Open In Colab\"/></a>"
      ]
    },
    {
      "cell_type": "code",
      "metadata": {
        "id": "f_US4hJrvNzR"
      },
      "source": [
        "# https://analityk.edu.pl/python-pandas-tutorial-merge-i-concat/"
      ],
      "execution_count": null,
      "outputs": []
    },
    {
      "cell_type": "markdown",
      "metadata": {
        "id": "qCVFs1hjvXi3"
      },
      "source": [
        "# **Python Pandas Tutorial – merge i concat**"
      ]
    },
    {
      "cell_type": "markdown",
      "metadata": {
        "id": "sEdrZsRZvgh3"
      },
      "source": [
        "W tej lekcji naszego Pandas tutoriala, pokaże Wam jak możemy łączyć ze sobą zbiory. Jeżeli ktoś zna SQL to będzie kojarzyć te operacja jako union i join. Natomiast w Pandas mamy do dyspozycji dwie główne funkcje, nazywające się merge oraz concat. Do dzieła!\r\n",
        "Na początku przygotujemy sobie zbiory danych które następnie będziemy łączyć. 2 zbiory które zawierają listę osób oraz ich wiek oraz 1 zbiór który zawiera listę osób oraz ich miejsce zamieszkania."
      ]
    },
    {
      "cell_type": "code",
      "metadata": {
        "colab": {
          "base_uri": "https://localhost:8080/",
          "height": 172
        },
        "id": "Ee-w8zh2vyNY",
        "outputId": "8316b1fb-d9b4-4915-d203-748ecab42108"
      },
      "source": [
        "import pandas as pd\r\n",
        "\r\n",
        "age = pd.DataFrame({'Name':['Michał', 'Adam', 'Ewa', 'Jakub'],\r\n",
        "                           'Age':[39,28,19,32]})\r\n",
        "age"
      ],
      "execution_count": 3,
      "outputs": [
        {
          "output_type": "execute_result",
          "data": {
            "text/html": [
              "<div>\n",
              "<style scoped>\n",
              "    .dataframe tbody tr th:only-of-type {\n",
              "        vertical-align: middle;\n",
              "    }\n",
              "\n",
              "    .dataframe tbody tr th {\n",
              "        vertical-align: top;\n",
              "    }\n",
              "\n",
              "    .dataframe thead th {\n",
              "        text-align: right;\n",
              "    }\n",
              "</style>\n",
              "<table border=\"1\" class=\"dataframe\">\n",
              "  <thead>\n",
              "    <tr style=\"text-align: right;\">\n",
              "      <th></th>\n",
              "      <th>Name</th>\n",
              "      <th>Age</th>\n",
              "    </tr>\n",
              "  </thead>\n",
              "  <tbody>\n",
              "    <tr>\n",
              "      <th>0</th>\n",
              "      <td>Michał</td>\n",
              "      <td>39</td>\n",
              "    </tr>\n",
              "    <tr>\n",
              "      <th>1</th>\n",
              "      <td>Adam</td>\n",
              "      <td>28</td>\n",
              "    </tr>\n",
              "    <tr>\n",
              "      <th>2</th>\n",
              "      <td>Ewa</td>\n",
              "      <td>19</td>\n",
              "    </tr>\n",
              "    <tr>\n",
              "      <th>3</th>\n",
              "      <td>Jakub</td>\n",
              "      <td>32</td>\n",
              "    </tr>\n",
              "  </tbody>\n",
              "</table>\n",
              "</div>"
            ],
            "text/plain": [
              "     Name  Age\n",
              "0  Michał   39\n",
              "1    Adam   28\n",
              "2     Ewa   19\n",
              "3   Jakub   32"
            ]
          },
          "metadata": {
            "tags": []
          },
          "execution_count": 3
        }
      ]
    },
    {
      "cell_type": "code",
      "metadata": {
        "colab": {
          "base_uri": "https://localhost:8080/",
          "height": 79
        },
        "id": "QMpEZmiQwV4G",
        "outputId": "7e3b319b-995a-4017-c720-5db0544ef575"
      },
      "source": [
        "age2 = pd.DataFrame({'Name':['Mike'],\r\n",
        "                     'Age':[50]})\r\n",
        "age2"
      ],
      "execution_count": 4,
      "outputs": [
        {
          "output_type": "execute_result",
          "data": {
            "text/html": [
              "<div>\n",
              "<style scoped>\n",
              "    .dataframe tbody tr th:only-of-type {\n",
              "        vertical-align: middle;\n",
              "    }\n",
              "\n",
              "    .dataframe tbody tr th {\n",
              "        vertical-align: top;\n",
              "    }\n",
              "\n",
              "    .dataframe thead th {\n",
              "        text-align: right;\n",
              "    }\n",
              "</style>\n",
              "<table border=\"1\" class=\"dataframe\">\n",
              "  <thead>\n",
              "    <tr style=\"text-align: right;\">\n",
              "      <th></th>\n",
              "      <th>Name</th>\n",
              "      <th>Age</th>\n",
              "    </tr>\n",
              "  </thead>\n",
              "  <tbody>\n",
              "    <tr>\n",
              "      <th>0</th>\n",
              "      <td>Mike</td>\n",
              "      <td>50</td>\n",
              "    </tr>\n",
              "  </tbody>\n",
              "</table>\n",
              "</div>"
            ],
            "text/plain": [
              "   Name  Age\n",
              "0  Mike   50"
            ]
          },
          "metadata": {
            "tags": []
          },
          "execution_count": 4
        }
      ]
    },
    {
      "cell_type": "code",
      "metadata": {
        "colab": {
          "base_uri": "https://localhost:8080/",
          "height": 203
        },
        "id": "NeicvFuswhiT",
        "outputId": "4b3f6758-1df6-45eb-8bb2-0fe96976a747"
      },
      "source": [
        "city = pd.DataFrame({'Name':['Adam', 'Ewa', 'Ola', 'Krystian', 'Jacek'],\r\n",
        "                     'City':['Warszawa', 'Kraków', 'Poznań', 'Zakopane', 'Olsztyn']})\r\n",
        "city"
      ],
      "execution_count": 6,
      "outputs": [
        {
          "output_type": "execute_result",
          "data": {
            "text/html": [
              "<div>\n",
              "<style scoped>\n",
              "    .dataframe tbody tr th:only-of-type {\n",
              "        vertical-align: middle;\n",
              "    }\n",
              "\n",
              "    .dataframe tbody tr th {\n",
              "        vertical-align: top;\n",
              "    }\n",
              "\n",
              "    .dataframe thead th {\n",
              "        text-align: right;\n",
              "    }\n",
              "</style>\n",
              "<table border=\"1\" class=\"dataframe\">\n",
              "  <thead>\n",
              "    <tr style=\"text-align: right;\">\n",
              "      <th></th>\n",
              "      <th>Name</th>\n",
              "      <th>City</th>\n",
              "    </tr>\n",
              "  </thead>\n",
              "  <tbody>\n",
              "    <tr>\n",
              "      <th>0</th>\n",
              "      <td>Adam</td>\n",
              "      <td>Warszawa</td>\n",
              "    </tr>\n",
              "    <tr>\n",
              "      <th>1</th>\n",
              "      <td>Ewa</td>\n",
              "      <td>Kraków</td>\n",
              "    </tr>\n",
              "    <tr>\n",
              "      <th>2</th>\n",
              "      <td>Ola</td>\n",
              "      <td>Poznań</td>\n",
              "    </tr>\n",
              "    <tr>\n",
              "      <th>3</th>\n",
              "      <td>Krystian</td>\n",
              "      <td>Zakopane</td>\n",
              "    </tr>\n",
              "    <tr>\n",
              "      <th>4</th>\n",
              "      <td>Jacek</td>\n",
              "      <td>Olsztyn</td>\n",
              "    </tr>\n",
              "  </tbody>\n",
              "</table>\n",
              "</div>"
            ],
            "text/plain": [
              "       Name      City\n",
              "0      Adam  Warszawa\n",
              "1       Ewa    Kraków\n",
              "2       Ola    Poznań\n",
              "3  Krystian  Zakopane\n",
              "4     Jacek   Olsztyn"
            ]
          },
          "metadata": {
            "tags": []
          },
          "execution_count": 6
        }
      ]
    },
    {
      "cell_type": "markdown",
      "metadata": {
        "id": "uu6hiL1VxhpA"
      },
      "source": [
        "## **Pandas concat**"
      ]
    },
    {
      "cell_type": "markdown",
      "metadata": {
        "id": "iw5fc4g1xlVe"
      },
      "source": [
        "Na początku połączymy dwa pierwsze zbiory z wiekiem w jeden. Jeden pod drugim. Użyjemy do tego celu funkcji concat. Wystarczy podać listę zbiorów które chcemy połaczyć:"
      ]
    },
    {
      "cell_type": "code",
      "metadata": {
        "colab": {
          "base_uri": "https://localhost:8080/",
          "height": 203
        },
        "id": "jRCZoSj1xrh4",
        "outputId": "4a4b7aa2-f4d8-424b-a2db-b05fcc4181ec"
      },
      "source": [
        "age_new = pd.concat([age, age2])\r\n",
        "age_new"
      ],
      "execution_count": 7,
      "outputs": [
        {
          "output_type": "execute_result",
          "data": {
            "text/html": [
              "<div>\n",
              "<style scoped>\n",
              "    .dataframe tbody tr th:only-of-type {\n",
              "        vertical-align: middle;\n",
              "    }\n",
              "\n",
              "    .dataframe tbody tr th {\n",
              "        vertical-align: top;\n",
              "    }\n",
              "\n",
              "    .dataframe thead th {\n",
              "        text-align: right;\n",
              "    }\n",
              "</style>\n",
              "<table border=\"1\" class=\"dataframe\">\n",
              "  <thead>\n",
              "    <tr style=\"text-align: right;\">\n",
              "      <th></th>\n",
              "      <th>Name</th>\n",
              "      <th>Age</th>\n",
              "    </tr>\n",
              "  </thead>\n",
              "  <tbody>\n",
              "    <tr>\n",
              "      <th>0</th>\n",
              "      <td>Michał</td>\n",
              "      <td>39</td>\n",
              "    </tr>\n",
              "    <tr>\n",
              "      <th>1</th>\n",
              "      <td>Adam</td>\n",
              "      <td>28</td>\n",
              "    </tr>\n",
              "    <tr>\n",
              "      <th>2</th>\n",
              "      <td>Ewa</td>\n",
              "      <td>19</td>\n",
              "    </tr>\n",
              "    <tr>\n",
              "      <th>3</th>\n",
              "      <td>Jakub</td>\n",
              "      <td>32</td>\n",
              "    </tr>\n",
              "    <tr>\n",
              "      <th>0</th>\n",
              "      <td>Mike</td>\n",
              "      <td>50</td>\n",
              "    </tr>\n",
              "  </tbody>\n",
              "</table>\n",
              "</div>"
            ],
            "text/plain": [
              "     Name  Age\n",
              "0  Michał   39\n",
              "1    Adam   28\n",
              "2     Ewa   19\n",
              "3   Jakub   32\n",
              "0    Mike   50"
            ]
          },
          "metadata": {
            "tags": []
          },
          "execution_count": 7
        }
      ]
    },
    {
      "cell_type": "markdown",
      "metadata": {
        "id": "1BZHRRhux4ZV"
      },
      "source": [
        "Wszystko jest dobrze, ale przydała by nam się jeszcze informacja o tym który wiersz pochodzi z którego zbioru. Aby je oznakować możemy użyć parametru keys:"
      ]
    },
    {
      "cell_type": "code",
      "metadata": {
        "colab": {
          "base_uri": "https://localhost:8080/",
          "height": 203
        },
        "id": "e3K_S15Zx69N",
        "outputId": "dc85860c-53ca-43e5-d60f-bd7ce2e4c183"
      },
      "source": [
        "age_new = pd.concat([age, age2], keys=['age', 'age2'])\r\n",
        "age_new"
      ],
      "execution_count": 8,
      "outputs": [
        {
          "output_type": "execute_result",
          "data": {
            "text/html": [
              "<div>\n",
              "<style scoped>\n",
              "    .dataframe tbody tr th:only-of-type {\n",
              "        vertical-align: middle;\n",
              "    }\n",
              "\n",
              "    .dataframe tbody tr th {\n",
              "        vertical-align: top;\n",
              "    }\n",
              "\n",
              "    .dataframe thead th {\n",
              "        text-align: right;\n",
              "    }\n",
              "</style>\n",
              "<table border=\"1\" class=\"dataframe\">\n",
              "  <thead>\n",
              "    <tr style=\"text-align: right;\">\n",
              "      <th></th>\n",
              "      <th></th>\n",
              "      <th>Name</th>\n",
              "      <th>Age</th>\n",
              "    </tr>\n",
              "  </thead>\n",
              "  <tbody>\n",
              "    <tr>\n",
              "      <th rowspan=\"4\" valign=\"top\">age</th>\n",
              "      <th>0</th>\n",
              "      <td>Michał</td>\n",
              "      <td>39</td>\n",
              "    </tr>\n",
              "    <tr>\n",
              "      <th>1</th>\n",
              "      <td>Adam</td>\n",
              "      <td>28</td>\n",
              "    </tr>\n",
              "    <tr>\n",
              "      <th>2</th>\n",
              "      <td>Ewa</td>\n",
              "      <td>19</td>\n",
              "    </tr>\n",
              "    <tr>\n",
              "      <th>3</th>\n",
              "      <td>Jakub</td>\n",
              "      <td>32</td>\n",
              "    </tr>\n",
              "    <tr>\n",
              "      <th>age2</th>\n",
              "      <th>0</th>\n",
              "      <td>Mike</td>\n",
              "      <td>50</td>\n",
              "    </tr>\n",
              "  </tbody>\n",
              "</table>\n",
              "</div>"
            ],
            "text/plain": [
              "          Name  Age\n",
              "age  0  Michał   39\n",
              "     1    Adam   28\n",
              "     2     Ewa   19\n",
              "     3   Jakub   32\n",
              "age2 0    Mike   50"
            ]
          },
          "metadata": {
            "tags": []
          },
          "execution_count": 8
        }
      ]
    },
    {
      "cell_type": "code",
      "metadata": {
        "colab": {
          "base_uri": "https://localhost:8080/",
          "height": 203
        },
        "id": "pEHylv_2ybq1",
        "outputId": "20e07650-4e73-4874-ae6c-d9138ed8f1e3"
      },
      "source": [
        "# ustawiam indeksy po kolei\r\n",
        "age_moje = pd.concat([age, age2], ignore_index=True)\r\n",
        "age_moje"
      ],
      "execution_count": 10,
      "outputs": [
        {
          "output_type": "execute_result",
          "data": {
            "text/html": [
              "<div>\n",
              "<style scoped>\n",
              "    .dataframe tbody tr th:only-of-type {\n",
              "        vertical-align: middle;\n",
              "    }\n",
              "\n",
              "    .dataframe tbody tr th {\n",
              "        vertical-align: top;\n",
              "    }\n",
              "\n",
              "    .dataframe thead th {\n",
              "        text-align: right;\n",
              "    }\n",
              "</style>\n",
              "<table border=\"1\" class=\"dataframe\">\n",
              "  <thead>\n",
              "    <tr style=\"text-align: right;\">\n",
              "      <th></th>\n",
              "      <th>Name</th>\n",
              "      <th>Age</th>\n",
              "    </tr>\n",
              "  </thead>\n",
              "  <tbody>\n",
              "    <tr>\n",
              "      <th>0</th>\n",
              "      <td>Michał</td>\n",
              "      <td>39</td>\n",
              "    </tr>\n",
              "    <tr>\n",
              "      <th>1</th>\n",
              "      <td>Adam</td>\n",
              "      <td>28</td>\n",
              "    </tr>\n",
              "    <tr>\n",
              "      <th>2</th>\n",
              "      <td>Ewa</td>\n",
              "      <td>19</td>\n",
              "    </tr>\n",
              "    <tr>\n",
              "      <th>3</th>\n",
              "      <td>Jakub</td>\n",
              "      <td>32</td>\n",
              "    </tr>\n",
              "    <tr>\n",
              "      <th>4</th>\n",
              "      <td>Mike</td>\n",
              "      <td>50</td>\n",
              "    </tr>\n",
              "  </tbody>\n",
              "</table>\n",
              "</div>"
            ],
            "text/plain": [
              "     Name  Age\n",
              "0  Michał   39\n",
              "1    Adam   28\n",
              "2     Ewa   19\n",
              "3   Jakub   32\n",
              "4    Mike   50"
            ]
          },
          "metadata": {
            "tags": []
          },
          "execution_count": 10
        }
      ]
    },
    {
      "cell_type": "markdown",
      "metadata": {
        "id": "8pEq0bxZy2A3"
      },
      "source": [
        "## **Pandas merge**"
      ]
    },
    {
      "cell_type": "markdown",
      "metadata": {
        "id": "sCskr80ky3mF"
      },
      "source": [
        "W tym momencie mamy 2 zbiory. Jeden age_new z wiekem osób oraz drugi, który nazywa się city, z miejscem ich zamieszkania. Teraz naszym zadaniem jest przypisać do osób wiek oraz miejsce zamieszkania.\r\n",
        "\r\n",
        "Do tego celu, mamy do dyspozycji w Pandas funkcję merge.\r\n",
        "\r\n",
        "Problem jaki się pojawia jest taki, że w obydwu zbiorach tylko część osób jest taka sama. W związku z czym, jak powinien wyglądać nasz wynikowy zbiór danych? Czy powinien zawierać tylko i wyłącznie osoby które występują w obydwu zbiorach, czy może wszystkie osoby, natomiast tam gdzie brakuje informacji o miejscu zamieszkania lub wieku, powinniśmy mieć NaN?\r\n",
        "\r\n",
        "Funkcja merge pozwala nam wybór sposobu łączenia, zobaczmy:"
      ]
    },
    {
      "cell_type": "markdown",
      "metadata": {
        "id": "CxCH6KTFzUtr"
      },
      "source": [
        "### **Merge, inner, czyli tylko część wspólna**"
      ]
    },
    {
      "cell_type": "markdown",
      "metadata": {
        "id": "UhUnHjsczbUv"
      },
      "source": [
        "Funkcja merge przyjmuje kilka prostych argumentów. Najważniejsze z nich to 'on', gdzie podajemy klucz po którym chcemy połączyć dane, oraz 'how' który pozwala na wybór sposobu łączenia. Jeżeli ustawimy how=inner, wtedy będziemy łączyć tylko te dane które znajdują się w obydwu zbiorach:"
      ]
    },
    {
      "cell_type": "code",
      "metadata": {
        "colab": {
          "base_uri": "https://localhost:8080/",
          "height": 110
        },
        "id": "h0H-sAdizjeJ",
        "outputId": "606ae8bc-ecdc-4ca9-8462-945aac0d36e4"
      },
      "source": [
        "pd.merge(age_new, city, on='Name', how='inner')"
      ],
      "execution_count": 13,
      "outputs": [
        {
          "output_type": "execute_result",
          "data": {
            "text/html": [
              "<div>\n",
              "<style scoped>\n",
              "    .dataframe tbody tr th:only-of-type {\n",
              "        vertical-align: middle;\n",
              "    }\n",
              "\n",
              "    .dataframe tbody tr th {\n",
              "        vertical-align: top;\n",
              "    }\n",
              "\n",
              "    .dataframe thead th {\n",
              "        text-align: right;\n",
              "    }\n",
              "</style>\n",
              "<table border=\"1\" class=\"dataframe\">\n",
              "  <thead>\n",
              "    <tr style=\"text-align: right;\">\n",
              "      <th></th>\n",
              "      <th>Name</th>\n",
              "      <th>Age</th>\n",
              "      <th>City</th>\n",
              "    </tr>\n",
              "  </thead>\n",
              "  <tbody>\n",
              "    <tr>\n",
              "      <th>0</th>\n",
              "      <td>Adam</td>\n",
              "      <td>28</td>\n",
              "      <td>Warszawa</td>\n",
              "    </tr>\n",
              "    <tr>\n",
              "      <th>1</th>\n",
              "      <td>Ewa</td>\n",
              "      <td>19</td>\n",
              "      <td>Kraków</td>\n",
              "    </tr>\n",
              "  </tbody>\n",
              "</table>\n",
              "</div>"
            ],
            "text/plain": [
              "   Name  Age      City\n",
              "0  Adam   28  Warszawa\n",
              "1   Ewa   19    Kraków"
            ]
          },
          "metadata": {
            "tags": []
          },
          "execution_count": 13
        }
      ]
    },
    {
      "cell_type": "markdown",
      "metadata": {
        "id": "G7uY-wBtzrRe"
      },
      "source": [
        "Podaliśmy nasze zbiory danych, ustawiliśmy klucz po którym nastąpiło łączenie zbiorów na 'Name' oraz sposób łączenia na inner."
      ]
    },
    {
      "cell_type": "markdown",
      "metadata": {
        "id": "8DMEIwYSzv3W"
      },
      "source": [
        "### **Merge, outer, czyli wszystkie dane**"
      ]
    },
    {
      "cell_type": "markdown",
      "metadata": {
        "id": "tYGnxLAhz0cI"
      },
      "source": [
        "W drugą stronę, jeżeli ustawimy parametr how na outer, to otrzymamy wszystkie dane z obydwu zbiorów. Po prostu brakujące dane będą widoczne jako NaN:"
      ]
    },
    {
      "cell_type": "code",
      "metadata": {
        "colab": {
          "base_uri": "https://localhost:8080/",
          "height": 296
        },
        "id": "x0FjU5HR0DQy",
        "outputId": "a0948f24-ea42-42e2-8f25-e2383fc7e36b"
      },
      "source": [
        "pd.merge(age_new, city, on='Name', how='outer')"
      ],
      "execution_count": 14,
      "outputs": [
        {
          "output_type": "execute_result",
          "data": {
            "text/html": [
              "<div>\n",
              "<style scoped>\n",
              "    .dataframe tbody tr th:only-of-type {\n",
              "        vertical-align: middle;\n",
              "    }\n",
              "\n",
              "    .dataframe tbody tr th {\n",
              "        vertical-align: top;\n",
              "    }\n",
              "\n",
              "    .dataframe thead th {\n",
              "        text-align: right;\n",
              "    }\n",
              "</style>\n",
              "<table border=\"1\" class=\"dataframe\">\n",
              "  <thead>\n",
              "    <tr style=\"text-align: right;\">\n",
              "      <th></th>\n",
              "      <th>Name</th>\n",
              "      <th>Age</th>\n",
              "      <th>City</th>\n",
              "    </tr>\n",
              "  </thead>\n",
              "  <tbody>\n",
              "    <tr>\n",
              "      <th>0</th>\n",
              "      <td>Michał</td>\n",
              "      <td>39.0</td>\n",
              "      <td>NaN</td>\n",
              "    </tr>\n",
              "    <tr>\n",
              "      <th>1</th>\n",
              "      <td>Adam</td>\n",
              "      <td>28.0</td>\n",
              "      <td>Warszawa</td>\n",
              "    </tr>\n",
              "    <tr>\n",
              "      <th>2</th>\n",
              "      <td>Ewa</td>\n",
              "      <td>19.0</td>\n",
              "      <td>Kraków</td>\n",
              "    </tr>\n",
              "    <tr>\n",
              "      <th>3</th>\n",
              "      <td>Jakub</td>\n",
              "      <td>32.0</td>\n",
              "      <td>NaN</td>\n",
              "    </tr>\n",
              "    <tr>\n",
              "      <th>4</th>\n",
              "      <td>Mike</td>\n",
              "      <td>50.0</td>\n",
              "      <td>NaN</td>\n",
              "    </tr>\n",
              "    <tr>\n",
              "      <th>5</th>\n",
              "      <td>Ola</td>\n",
              "      <td>NaN</td>\n",
              "      <td>Poznań</td>\n",
              "    </tr>\n",
              "    <tr>\n",
              "      <th>6</th>\n",
              "      <td>Krystian</td>\n",
              "      <td>NaN</td>\n",
              "      <td>Zakopane</td>\n",
              "    </tr>\n",
              "    <tr>\n",
              "      <th>7</th>\n",
              "      <td>Jacek</td>\n",
              "      <td>NaN</td>\n",
              "      <td>Olsztyn</td>\n",
              "    </tr>\n",
              "  </tbody>\n",
              "</table>\n",
              "</div>"
            ],
            "text/plain": [
              "       Name   Age      City\n",
              "0    Michał  39.0       NaN\n",
              "1      Adam  28.0  Warszawa\n",
              "2       Ewa  19.0    Kraków\n",
              "3     Jakub  32.0       NaN\n",
              "4      Mike  50.0       NaN\n",
              "5       Ola   NaN    Poznań\n",
              "6  Krystian   NaN  Zakopane\n",
              "7     Jacek   NaN   Olsztyn"
            ]
          },
          "metadata": {
            "tags": []
          },
          "execution_count": 14
        }
      ]
    },
    {
      "cell_type": "markdown",
      "metadata": {
        "id": "iys_Q_Xt0ii5"
      },
      "source": [
        "### **Merge, left, czyli wszystkie dane z lewego zbiory danych**"
      ]
    },
    {
      "cell_type": "markdown",
      "metadata": {
        "id": "m0H1ep500mKx"
      },
      "source": [
        "Jeżeli ustawimy parametr how na left, to otrzymamy wszystkie dane z lewego zbioru danych, czyli tego który podamy jako pierwszy do funkcji merge, natomiast brakujące dane z prawego zbioru będą widoczne jako NaN:"
      ]
    },
    {
      "cell_type": "code",
      "metadata": {
        "colab": {
          "base_uri": "https://localhost:8080/",
          "height": 203
        },
        "id": "T3NZoeEy0qhn",
        "outputId": "96094b9c-3ed1-41c7-a59a-14601e05ca8f"
      },
      "source": [
        "pd.merge(age_new, city, on='Name', how='left')"
      ],
      "execution_count": 15,
      "outputs": [
        {
          "output_type": "execute_result",
          "data": {
            "text/html": [
              "<div>\n",
              "<style scoped>\n",
              "    .dataframe tbody tr th:only-of-type {\n",
              "        vertical-align: middle;\n",
              "    }\n",
              "\n",
              "    .dataframe tbody tr th {\n",
              "        vertical-align: top;\n",
              "    }\n",
              "\n",
              "    .dataframe thead th {\n",
              "        text-align: right;\n",
              "    }\n",
              "</style>\n",
              "<table border=\"1\" class=\"dataframe\">\n",
              "  <thead>\n",
              "    <tr style=\"text-align: right;\">\n",
              "      <th></th>\n",
              "      <th>Name</th>\n",
              "      <th>Age</th>\n",
              "      <th>City</th>\n",
              "    </tr>\n",
              "  </thead>\n",
              "  <tbody>\n",
              "    <tr>\n",
              "      <th>0</th>\n",
              "      <td>Michał</td>\n",
              "      <td>39</td>\n",
              "      <td>NaN</td>\n",
              "    </tr>\n",
              "    <tr>\n",
              "      <th>1</th>\n",
              "      <td>Adam</td>\n",
              "      <td>28</td>\n",
              "      <td>Warszawa</td>\n",
              "    </tr>\n",
              "    <tr>\n",
              "      <th>2</th>\n",
              "      <td>Ewa</td>\n",
              "      <td>19</td>\n",
              "      <td>Kraków</td>\n",
              "    </tr>\n",
              "    <tr>\n",
              "      <th>3</th>\n",
              "      <td>Jakub</td>\n",
              "      <td>32</td>\n",
              "      <td>NaN</td>\n",
              "    </tr>\n",
              "    <tr>\n",
              "      <th>4</th>\n",
              "      <td>Mike</td>\n",
              "      <td>50</td>\n",
              "      <td>NaN</td>\n",
              "    </tr>\n",
              "  </tbody>\n",
              "</table>\n",
              "</div>"
            ],
            "text/plain": [
              "     Name  Age      City\n",
              "0  Michał   39       NaN\n",
              "1    Adam   28  Warszawa\n",
              "2     Ewa   19    Kraków\n",
              "3   Jakub   32       NaN\n",
              "4    Mike   50       NaN"
            ]
          },
          "metadata": {
            "tags": []
          },
          "execution_count": 15
        }
      ]
    },
    {
      "cell_type": "markdown",
      "metadata": {
        "id": "8h0e-2ok0zu2"
      },
      "source": [
        "### **Merge, right, czyli wszystkie dane z prawego zbiory danych**"
      ]
    },
    {
      "cell_type": "markdown",
      "metadata": {
        "id": "wjl8mn8j04PI"
      },
      "source": [
        "Jeżeli ustawimy parametr how na right, to otrzymamy wszystkie dane z prawego zbioru danych, czyli tego który podamy jako drugi do funkcji merge, natomiast brakujące dane z lewego zbioru będą widoczne jako NaN:"
      ]
    },
    {
      "cell_type": "code",
      "metadata": {
        "id": "VFJMCqcM09b_"
      },
      "source": [
        "pd.merge(age_new, city, on='Name', how='right')"
      ],
      "execution_count": null,
      "outputs": []
    }
  ]
}