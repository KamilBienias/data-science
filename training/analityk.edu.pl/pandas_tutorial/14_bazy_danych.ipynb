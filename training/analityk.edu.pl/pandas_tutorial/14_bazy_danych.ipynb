{
  "nbformat": 4,
  "nbformat_minor": 0,
  "metadata": {
    "colab": {
      "name": "14_bazy_danych.ipynb",
      "provenance": [],
      "collapsed_sections": [],
      "authorship_tag": "ABX9TyNQmVpMQx4Y0ckeZamoS2Pm",
      "include_colab_link": true
    },
    "kernelspec": {
      "name": "python3",
      "display_name": "Python 3"
    }
  },
  "cells": [
    {
      "cell_type": "markdown",
      "metadata": {
        "id": "view-in-github",
        "colab_type": "text"
      },
      "source": [
        "<a href=\"https://colab.research.google.com/github/KamilBienias/data-science/blob/main/training/analityk.edu.pl/pandas_tutorial/14_bazy_danych.ipynb\" target=\"_parent\"><img src=\"https://colab.research.google.com/assets/colab-badge.svg\" alt=\"Open In Colab\"/></a>"
      ]
    },
    {
      "cell_type": "code",
      "metadata": {
        "id": "v3QUN1Sw2xje"
      },
      "source": [
        "# https://analityk.edu.pl/python-pandas-tutorial-praca-z-bazami-danych-i-sql/"
      ],
      "execution_count": 130,
      "outputs": []
    },
    {
      "cell_type": "markdown",
      "metadata": {
        "id": "ug89r2vw24Nb"
      },
      "source": [
        "# **Python Pandas Tutorial – praca z bazami danych i SQL**"
      ]
    },
    {
      "cell_type": "markdown",
      "metadata": {
        "id": "pXCcAmN12_pp"
      },
      "source": [
        "Do tej pory pracowaliśmy na danych pochodzących z plików, takich jak CSV czy XLS. Możliwości Pandas są jednak szersze. Bardzo dobrze współpracuje z bazami danych, których może odczytywać dane oraz może do nich zapisywać dane. Zobaczmy jak, na przykładnie bazy danych SQLite.\r\n",
        "Na początek przygotujmy prosty DataFrame"
      ]
    },
    {
      "cell_type": "code",
      "metadata": {
        "colab": {
          "base_uri": "https://localhost:8080/",
          "height": 417
        },
        "id": "3lI75BYL3KkG",
        "outputId": "548b3c24-889b-4f0e-fc29-f4dfda27b478"
      },
      "source": [
        "import pandas as pd\r\n",
        "\r\n",
        "df = pd.read_csv('https://drive.google.com/uc?export=download&id=1Ofob2EV42qPeJSpIlhxnsEMAdEvnop7l', \r\n",
        "                 sep=';', \r\n",
        "                 encoding = \"ISO-8859-1\",\r\n",
        "                 skiprows=[1],\r\n",
        "                 dtype={'Lenght':'float64', 'Popularity':'float64'},\r\n",
        "                 usecols=['Year', 'Title', 'Length', 'Popularity', 'Subject', 'Awards'],\r\n",
        "                 converters={'Awards':lambda x: True if x == 'Yes' else False})\r\n",
        "df"
      ],
      "execution_count": 131,
      "outputs": [
        {
          "output_type": "execute_result",
          "data": {
            "text/html": [
              "<div>\n",
              "<style scoped>\n",
              "    .dataframe tbody tr th:only-of-type {\n",
              "        vertical-align: middle;\n",
              "    }\n",
              "\n",
              "    .dataframe tbody tr th {\n",
              "        vertical-align: top;\n",
              "    }\n",
              "\n",
              "    .dataframe thead th {\n",
              "        text-align: right;\n",
              "    }\n",
              "</style>\n",
              "<table border=\"1\" class=\"dataframe\">\n",
              "  <thead>\n",
              "    <tr style=\"text-align: right;\">\n",
              "      <th></th>\n",
              "      <th>Year</th>\n",
              "      <th>Length</th>\n",
              "      <th>Title</th>\n",
              "      <th>Subject</th>\n",
              "      <th>Popularity</th>\n",
              "      <th>Awards</th>\n",
              "    </tr>\n",
              "  </thead>\n",
              "  <tbody>\n",
              "    <tr>\n",
              "      <th>0</th>\n",
              "      <td>1990</td>\n",
              "      <td>111.0</td>\n",
              "      <td>Tie Me Up! Tie Me Down!</td>\n",
              "      <td>Comedy</td>\n",
              "      <td>68.0</td>\n",
              "      <td>False</td>\n",
              "    </tr>\n",
              "    <tr>\n",
              "      <th>1</th>\n",
              "      <td>1991</td>\n",
              "      <td>113.0</td>\n",
              "      <td>High Heels</td>\n",
              "      <td>Comedy</td>\n",
              "      <td>68.0</td>\n",
              "      <td>False</td>\n",
              "    </tr>\n",
              "    <tr>\n",
              "      <th>2</th>\n",
              "      <td>1983</td>\n",
              "      <td>104.0</td>\n",
              "      <td>Dead Zone, The</td>\n",
              "      <td>Horror</td>\n",
              "      <td>79.0</td>\n",
              "      <td>False</td>\n",
              "    </tr>\n",
              "    <tr>\n",
              "      <th>3</th>\n",
              "      <td>1979</td>\n",
              "      <td>122.0</td>\n",
              "      <td>Cuba</td>\n",
              "      <td>Action</td>\n",
              "      <td>6.0</td>\n",
              "      <td>False</td>\n",
              "    </tr>\n",
              "    <tr>\n",
              "      <th>4</th>\n",
              "      <td>1978</td>\n",
              "      <td>94.0</td>\n",
              "      <td>Days of Heaven</td>\n",
              "      <td>Drama</td>\n",
              "      <td>14.0</td>\n",
              "      <td>False</td>\n",
              "    </tr>\n",
              "    <tr>\n",
              "      <th>...</th>\n",
              "      <td>...</td>\n",
              "      <td>...</td>\n",
              "      <td>...</td>\n",
              "      <td>...</td>\n",
              "      <td>...</td>\n",
              "      <td>...</td>\n",
              "    </tr>\n",
              "    <tr>\n",
              "      <th>1654</th>\n",
              "      <td>1932</td>\n",
              "      <td>226.0</td>\n",
              "      <td>Shadow of the Eagle, The</td>\n",
              "      <td>Action</td>\n",
              "      <td>19.0</td>\n",
              "      <td>False</td>\n",
              "    </tr>\n",
              "    <tr>\n",
              "      <th>1655</th>\n",
              "      <td>1989</td>\n",
              "      <td>103.0</td>\n",
              "      <td>Blood &amp; Guns</td>\n",
              "      <td>Action</td>\n",
              "      <td>43.0</td>\n",
              "      <td>False</td>\n",
              "    </tr>\n",
              "    <tr>\n",
              "      <th>1656</th>\n",
              "      <td>1988</td>\n",
              "      <td>78.0</td>\n",
              "      <td>Hot Money</td>\n",
              "      <td>Drama</td>\n",
              "      <td>19.0</td>\n",
              "      <td>False</td>\n",
              "    </tr>\n",
              "    <tr>\n",
              "      <th>1657</th>\n",
              "      <td>1977</td>\n",
              "      <td>75.0</td>\n",
              "      <td>Comedy Tonight</td>\n",
              "      <td>Comedy</td>\n",
              "      <td>18.0</td>\n",
              "      <td>False</td>\n",
              "    </tr>\n",
              "    <tr>\n",
              "      <th>1658</th>\n",
              "      <td>1991</td>\n",
              "      <td>65.0</td>\n",
              "      <td>Robin Williams</td>\n",
              "      <td>Comedy</td>\n",
              "      <td>4.0</td>\n",
              "      <td>False</td>\n",
              "    </tr>\n",
              "  </tbody>\n",
              "</table>\n",
              "<p>1659 rows × 6 columns</p>\n",
              "</div>"
            ],
            "text/plain": [
              "      Year  Length                     Title Subject  Popularity  Awards\n",
              "0     1990   111.0   Tie Me Up! Tie Me Down!  Comedy        68.0   False\n",
              "1     1991   113.0                High Heels  Comedy        68.0   False\n",
              "2     1983   104.0            Dead Zone, The  Horror        79.0   False\n",
              "3     1979   122.0                      Cuba  Action         6.0   False\n",
              "4     1978    94.0            Days of Heaven   Drama        14.0   False\n",
              "...    ...     ...                       ...     ...         ...     ...\n",
              "1654  1932   226.0  Shadow of the Eagle, The  Action        19.0   False\n",
              "1655  1989   103.0              Blood & Guns  Action        43.0   False\n",
              "1656  1988    78.0                 Hot Money   Drama        19.0   False\n",
              "1657  1977    75.0            Comedy Tonight  Comedy        18.0   False\n",
              "1658  1991    65.0            Robin Williams  Comedy         4.0   False\n",
              "\n",
              "[1659 rows x 6 columns]"
            ]
          },
          "metadata": {
            "tags": []
          },
          "execution_count": 131
        }
      ]
    },
    {
      "cell_type": "code",
      "metadata": {
        "colab": {
          "base_uri": "https://localhost:8080/"
        },
        "id": "qL2WAiOI4Att",
        "outputId": "27dcb0e9-38fe-4110-b322-cc35f32c05c5"
      },
      "source": [
        "df.dtypes"
      ],
      "execution_count": 132,
      "outputs": [
        {
          "output_type": "execute_result",
          "data": {
            "text/plain": [
              "Year            int64\n",
              "Length        float64\n",
              "Title          object\n",
              "Subject        object\n",
              "Popularity    float64\n",
              "Awards           bool\n",
              "dtype: object"
            ]
          },
          "metadata": {
            "tags": []
          },
          "execution_count": 132
        }
      ]
    },
    {
      "cell_type": "markdown",
      "metadata": {
        "id": "uGKYo6hf4Nk2"
      },
      "source": [
        "## **Zapis do bazy danych SQLite**"
      ]
    },
    {
      "cell_type": "markdown",
      "metadata": {
        "id": "lYKxw-7l4RMO"
      },
      "source": [
        "Aby zapisać dane z naszego DataFrame df, do bazy SQLite, process jest bardzo prosty.\r\n",
        "\r\n",
        "Importujemy bibliotekę sqlite3, otwieramy połączenie do bazy danych. Jeżeli nie istnieje, to zostanie stworzona. A następnie za pomocą funkcji to_sql zapisujemy dane:"
      ]
    },
    {
      "cell_type": "code",
      "metadata": {
        "id": "h3ALblG-4ZL3"
      },
      "source": [
        "import sqlite3 as sql\r\n",
        "import os\r\n",
        "\r\n",
        "# można podać jawnie ścieżkę\r\n",
        "# conn = sql.connect('c:/python/pandas/nazwa_bazy.sqlite')\r\n",
        "\r\n",
        "# sam tworzę ścieżkę\r\n",
        "base_path = os.path.join('baza_sqlite3')\r\n",
        "if not os.path.isdir(base_path):\r\n",
        "        os.makedirs(base_path)\r\n",
        "\r\n",
        "conn = sql.connect(os.path.join(base_path, 'nazwa_bazy.sqlite'))\r\n",
        "\r\n",
        "# zapisuje df do bazy new.sqlite jako tabelę o nazwie films\r\n",
        "df.to_sql('films', conn)"
      ],
      "execution_count": 133,
      "outputs": []
    },
    {
      "cell_type": "markdown",
      "metadata": {
        "id": "Nz6JEpBx93mv"
      },
      "source": [
        "## **Odczyt z bazy danych SQLite**"
      ]
    },
    {
      "cell_type": "markdown",
      "metadata": {
        "id": "4LUh0yoT98W_"
      },
      "source": [
        "Równie prosty jest odczyt danych z bazy danych. Użyjemy funkcji read_sql, natomiast pierwszym parametrem będzie kod SQL który chcemy wykonać i którego wyniki chcemy zapisać do naszego DataFrame:\r\n",
        "\r\n"
      ]
    },
    {
      "cell_type": "code",
      "metadata": {
        "colab": {
          "base_uri": "https://localhost:8080/",
          "height": 110
        },
        "id": "ZfpxmQMj-A2i",
        "outputId": "450972fb-b0e9-4023-f9ab-e7787d814be8"
      },
      "source": [
        "# można podać jawnie ścieżkę\r\n",
        "# conn = sql.connect('c:/python/pandas/nazwa_bazy.sqlite')\r\n",
        "\r\n",
        "conn = sql.connect(os.path.join(base_path, 'nazwa_bazy.sqlite'))\r\n",
        "movies_later_than_1995 = pd.read_sql(\"select * from films where Year > 1995\", conn)\r\n",
        "movies_later_than_1995"
      ],
      "execution_count": 134,
      "outputs": [
        {
          "output_type": "execute_result",
          "data": {
            "text/html": [
              "<div>\n",
              "<style scoped>\n",
              "    .dataframe tbody tr th:only-of-type {\n",
              "        vertical-align: middle;\n",
              "    }\n",
              "\n",
              "    .dataframe tbody tr th {\n",
              "        vertical-align: top;\n",
              "    }\n",
              "\n",
              "    .dataframe thead th {\n",
              "        text-align: right;\n",
              "    }\n",
              "</style>\n",
              "<table border=\"1\" class=\"dataframe\">\n",
              "  <thead>\n",
              "    <tr style=\"text-align: right;\">\n",
              "      <th></th>\n",
              "      <th>index</th>\n",
              "      <th>Year</th>\n",
              "      <th>Length</th>\n",
              "      <th>Title</th>\n",
              "      <th>Subject</th>\n",
              "      <th>Popularity</th>\n",
              "      <th>Awards</th>\n",
              "    </tr>\n",
              "  </thead>\n",
              "  <tbody>\n",
              "    <tr>\n",
              "      <th>0</th>\n",
              "      <td>81</td>\n",
              "      <td>1996</td>\n",
              "      <td>96.0</td>\n",
              "      <td>Island of Dr. Moreau, The</td>\n",
              "      <td>Horror</td>\n",
              "      <td>39.0</td>\n",
              "      <td>0</td>\n",
              "    </tr>\n",
              "    <tr>\n",
              "      <th>1</th>\n",
              "      <td>1209</td>\n",
              "      <td>1997</td>\n",
              "      <td>109.0</td>\n",
              "      <td>Alien: resurrection</td>\n",
              "      <td>Science Fiction</td>\n",
              "      <td>60.0</td>\n",
              "      <td>0</td>\n",
              "    </tr>\n",
              "  </tbody>\n",
              "</table>\n",
              "</div>"
            ],
            "text/plain": [
              "   index  Year  Length  ...          Subject Popularity  Awards\n",
              "0     81  1996    96.0  ...           Horror       39.0       0\n",
              "1   1209  1997   109.0  ...  Science Fiction       60.0       0\n",
              "\n",
              "[2 rows x 7 columns]"
            ]
          },
          "metadata": {
            "tags": []
          },
          "execution_count": 134
        }
      ]
    },
    {
      "cell_type": "markdown",
      "metadata": {
        "id": "Qj8FG2RT_Zj5"
      },
      "source": [
        "## **Mój trening**"
      ]
    },
    {
      "cell_type": "code",
      "metadata": {
        "colab": {
          "base_uri": "https://localhost:8080/",
          "height": 417
        },
        "id": "-qabCaZR_bnh",
        "outputId": "4e99bd87-d5ad-439f-f6b0-80bd20ae1934"
      },
      "source": [
        "# cała tabela films uporządkowana po roku (zamieniło False na 0 i True na 1)\r\n",
        "# whole_table = pd.read_sql(\"SELECT * FROM films ORDER BY Year\", conn)\r\n",
        "whole_table = pd.read_sql(\"SELECT * FROM films\", conn)\r\n",
        "whole_table"
      ],
      "execution_count": 135,
      "outputs": [
        {
          "output_type": "execute_result",
          "data": {
            "text/html": [
              "<div>\n",
              "<style scoped>\n",
              "    .dataframe tbody tr th:only-of-type {\n",
              "        vertical-align: middle;\n",
              "    }\n",
              "\n",
              "    .dataframe tbody tr th {\n",
              "        vertical-align: top;\n",
              "    }\n",
              "\n",
              "    .dataframe thead th {\n",
              "        text-align: right;\n",
              "    }\n",
              "</style>\n",
              "<table border=\"1\" class=\"dataframe\">\n",
              "  <thead>\n",
              "    <tr style=\"text-align: right;\">\n",
              "      <th></th>\n",
              "      <th>index</th>\n",
              "      <th>Year</th>\n",
              "      <th>Length</th>\n",
              "      <th>Title</th>\n",
              "      <th>Subject</th>\n",
              "      <th>Popularity</th>\n",
              "      <th>Awards</th>\n",
              "    </tr>\n",
              "  </thead>\n",
              "  <tbody>\n",
              "    <tr>\n",
              "      <th>0</th>\n",
              "      <td>0</td>\n",
              "      <td>1990</td>\n",
              "      <td>111.0</td>\n",
              "      <td>Tie Me Up! Tie Me Down!</td>\n",
              "      <td>Comedy</td>\n",
              "      <td>68.0</td>\n",
              "      <td>0</td>\n",
              "    </tr>\n",
              "    <tr>\n",
              "      <th>1</th>\n",
              "      <td>1</td>\n",
              "      <td>1991</td>\n",
              "      <td>113.0</td>\n",
              "      <td>High Heels</td>\n",
              "      <td>Comedy</td>\n",
              "      <td>68.0</td>\n",
              "      <td>0</td>\n",
              "    </tr>\n",
              "    <tr>\n",
              "      <th>2</th>\n",
              "      <td>2</td>\n",
              "      <td>1983</td>\n",
              "      <td>104.0</td>\n",
              "      <td>Dead Zone, The</td>\n",
              "      <td>Horror</td>\n",
              "      <td>79.0</td>\n",
              "      <td>0</td>\n",
              "    </tr>\n",
              "    <tr>\n",
              "      <th>3</th>\n",
              "      <td>3</td>\n",
              "      <td>1979</td>\n",
              "      <td>122.0</td>\n",
              "      <td>Cuba</td>\n",
              "      <td>Action</td>\n",
              "      <td>6.0</td>\n",
              "      <td>0</td>\n",
              "    </tr>\n",
              "    <tr>\n",
              "      <th>4</th>\n",
              "      <td>4</td>\n",
              "      <td>1978</td>\n",
              "      <td>94.0</td>\n",
              "      <td>Days of Heaven</td>\n",
              "      <td>Drama</td>\n",
              "      <td>14.0</td>\n",
              "      <td>0</td>\n",
              "    </tr>\n",
              "    <tr>\n",
              "      <th>...</th>\n",
              "      <td>...</td>\n",
              "      <td>...</td>\n",
              "      <td>...</td>\n",
              "      <td>...</td>\n",
              "      <td>...</td>\n",
              "      <td>...</td>\n",
              "      <td>...</td>\n",
              "    </tr>\n",
              "    <tr>\n",
              "      <th>1654</th>\n",
              "      <td>1654</td>\n",
              "      <td>1932</td>\n",
              "      <td>226.0</td>\n",
              "      <td>Shadow of the Eagle, The</td>\n",
              "      <td>Action</td>\n",
              "      <td>19.0</td>\n",
              "      <td>0</td>\n",
              "    </tr>\n",
              "    <tr>\n",
              "      <th>1655</th>\n",
              "      <td>1655</td>\n",
              "      <td>1989</td>\n",
              "      <td>103.0</td>\n",
              "      <td>Blood &amp; Guns</td>\n",
              "      <td>Action</td>\n",
              "      <td>43.0</td>\n",
              "      <td>0</td>\n",
              "    </tr>\n",
              "    <tr>\n",
              "      <th>1656</th>\n",
              "      <td>1656</td>\n",
              "      <td>1988</td>\n",
              "      <td>78.0</td>\n",
              "      <td>Hot Money</td>\n",
              "      <td>Drama</td>\n",
              "      <td>19.0</td>\n",
              "      <td>0</td>\n",
              "    </tr>\n",
              "    <tr>\n",
              "      <th>1657</th>\n",
              "      <td>1657</td>\n",
              "      <td>1977</td>\n",
              "      <td>75.0</td>\n",
              "      <td>Comedy Tonight</td>\n",
              "      <td>Comedy</td>\n",
              "      <td>18.0</td>\n",
              "      <td>0</td>\n",
              "    </tr>\n",
              "    <tr>\n",
              "      <th>1658</th>\n",
              "      <td>1658</td>\n",
              "      <td>1991</td>\n",
              "      <td>65.0</td>\n",
              "      <td>Robin Williams</td>\n",
              "      <td>Comedy</td>\n",
              "      <td>4.0</td>\n",
              "      <td>0</td>\n",
              "    </tr>\n",
              "  </tbody>\n",
              "</table>\n",
              "<p>1659 rows × 7 columns</p>\n",
              "</div>"
            ],
            "text/plain": [
              "      index  Year  Length                     Title Subject  Popularity  Awards\n",
              "0         0  1990   111.0   Tie Me Up! Tie Me Down!  Comedy        68.0       0\n",
              "1         1  1991   113.0                High Heels  Comedy        68.0       0\n",
              "2         2  1983   104.0            Dead Zone, The  Horror        79.0       0\n",
              "3         3  1979   122.0                      Cuba  Action         6.0       0\n",
              "4         4  1978    94.0            Days of Heaven   Drama        14.0       0\n",
              "...     ...   ...     ...                       ...     ...         ...     ...\n",
              "1654   1654  1932   226.0  Shadow of the Eagle, The  Action        19.0       0\n",
              "1655   1655  1989   103.0              Blood & Guns  Action        43.0       0\n",
              "1656   1656  1988    78.0                 Hot Money   Drama        19.0       0\n",
              "1657   1657  1977    75.0            Comedy Tonight  Comedy        18.0       0\n",
              "1658   1658  1991    65.0            Robin Williams  Comedy         4.0       0\n",
              "\n",
              "[1659 rows x 7 columns]"
            ]
          },
          "metadata": {
            "tags": []
          },
          "execution_count": 135
        }
      ]
    },
    {
      "cell_type": "code",
      "metadata": {
        "colab": {
          "base_uri": "https://localhost:8080/",
          "height": 141
        },
        "id": "9RkWNvROCKbY",
        "outputId": "c8691461-47d6-4f60-c156-319d52ee195f"
      },
      "source": [
        "# wstawiam nowy wiersz, ale jest błąd: if chunksize is not None: TypeError: 'NoneType' object is not iterable\r\n",
        "# pd.read_sql(\"INSERT INTO films (Year, Length, Title, Subject, Popularity) VALUES (1986, 98, 'Krótkie spięcie', 'Science Fiction', 80)\", conn)\r\n",
        "# conn.commit()\r\n",
        "\r\n",
        "# sprawdzam filmy science fiction z 1986\r\n",
        "films_from_1986 = pd.read_sql(\"\"\"SELECT * FROM films \r\n",
        "    WHERE Year == 1986 AND Subject == 'Science Fiction' \"\"\", conn)\r\n",
        "films_from_1986"
      ],
      "execution_count": 136,
      "outputs": [
        {
          "output_type": "execute_result",
          "data": {
            "text/html": [
              "<div>\n",
              "<style scoped>\n",
              "    .dataframe tbody tr th:only-of-type {\n",
              "        vertical-align: middle;\n",
              "    }\n",
              "\n",
              "    .dataframe tbody tr th {\n",
              "        vertical-align: top;\n",
              "    }\n",
              "\n",
              "    .dataframe thead th {\n",
              "        text-align: right;\n",
              "    }\n",
              "</style>\n",
              "<table border=\"1\" class=\"dataframe\">\n",
              "  <thead>\n",
              "    <tr style=\"text-align: right;\">\n",
              "      <th></th>\n",
              "      <th>index</th>\n",
              "      <th>Year</th>\n",
              "      <th>Length</th>\n",
              "      <th>Title</th>\n",
              "      <th>Subject</th>\n",
              "      <th>Popularity</th>\n",
              "      <th>Awards</th>\n",
              "    </tr>\n",
              "  </thead>\n",
              "  <tbody>\n",
              "    <tr>\n",
              "      <th>0</th>\n",
              "      <td>507</td>\n",
              "      <td>1986</td>\n",
              "      <td>110.0</td>\n",
              "      <td>Highlander</td>\n",
              "      <td>Science Fiction</td>\n",
              "      <td>8.0</td>\n",
              "      <td>0</td>\n",
              "    </tr>\n",
              "    <tr>\n",
              "      <th>1</th>\n",
              "      <td>1031</td>\n",
              "      <td>1986</td>\n",
              "      <td>89.0</td>\n",
              "      <td>Legend</td>\n",
              "      <td>Science Fiction</td>\n",
              "      <td>42.0</td>\n",
              "      <td>0</td>\n",
              "    </tr>\n",
              "    <tr>\n",
              "      <th>2</th>\n",
              "      <td>1207</td>\n",
              "      <td>1986</td>\n",
              "      <td>137.0</td>\n",
              "      <td>Aliens</td>\n",
              "      <td>Science Fiction</td>\n",
              "      <td>82.0</td>\n",
              "      <td>0</td>\n",
              "    </tr>\n",
              "  </tbody>\n",
              "</table>\n",
              "</div>"
            ],
            "text/plain": [
              "   index  Year  Length       Title          Subject  Popularity  Awards\n",
              "0    507  1986   110.0  Highlander  Science Fiction         8.0       0\n",
              "1   1031  1986    89.0      Legend  Science Fiction        42.0       0\n",
              "2   1207  1986   137.0      Aliens  Science Fiction        82.0       0"
            ]
          },
          "metadata": {
            "tags": []
          },
          "execution_count": 136
        }
      ]
    }
  ]
}