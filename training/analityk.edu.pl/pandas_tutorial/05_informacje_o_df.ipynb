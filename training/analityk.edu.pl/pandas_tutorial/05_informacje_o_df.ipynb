{
  "nbformat": 4,
  "nbformat_minor": 0,
  "metadata": {
    "colab": {
      "name": "05_informacje_o_df.ipynb",
      "provenance": [],
      "collapsed_sections": [],
      "authorship_tag": "ABX9TyM0qtcfIj8H0e8mmaCpB0zy",
      "include_colab_link": true
    },
    "kernelspec": {
      "name": "python3",
      "display_name": "Python 3"
    }
  },
  "cells": [
    {
      "cell_type": "markdown",
      "metadata": {
        "id": "view-in-github",
        "colab_type": "text"
      },
      "source": [
        "<a href=\"https://colab.research.google.com/github/KamilBienias/data-science/blob/main/training/analityk.edu.pl/pandas_tutorial/05_informacje_o_df.ipynb\" target=\"_parent\"><img src=\"https://colab.research.google.com/assets/colab-badge.svg\" alt=\"Open In Colab\"/></a>"
      ]
    },
    {
      "cell_type": "code",
      "metadata": {
        "id": "P09UkMNZj4Qq"
      },
      "source": [
        "# https://analityk.edu.pl/python-pandas-tutorial-szybki-przeglad-zawartosci-dataframe/"
      ],
      "execution_count": null,
      "outputs": []
    },
    {
      "cell_type": "markdown",
      "metadata": {
        "id": "YfyHn9MRmL29"
      },
      "source": [
        "# **Python Pandas Tutorial – szybki przegląd zawartości DataFrame**"
      ]
    },
    {
      "cell_type": "markdown",
      "metadata": {
        "id": "vazJ38rylvOu"
      },
      "source": [
        "W poprzednich lekcjach nauczyliśmy się tworzyć DataFrame. W tej lekcji zobaczymy jak szybko i łatwo możemy uzyskać podstawowe informacje na jego temat, takie jak liczba rekordów, typy kolumn, informacje o brakujących danych Czy też w drugą stronę – informacje o zduplikowanych rekordach. Zaczynajmy!\r\n",
        "Pod lupę weźmiemy zbiór danych lista miast, i na nim wykonamy wszystkie poniższe operacje."
      ]
    },
    {
      "cell_type": "code",
      "metadata": {
        "colab": {
          "base_uri": "https://localhost:8080/"
        },
        "id": "eOUre56llzq7",
        "outputId": "bfa2c2ee-3ad5-46d0-8d20-622b1b5e2561"
      },
      "source": [
        "# pobieram plik worldcities.csv\r\n",
        "!wget -O worldcities.csv \"https://drive.google.com/uc?export=download&id=1A0mhufhexmoLOlzbbfNS1MrcaCldmQaC\"\r\n",
        "\r\n",
        "import pandas as pd\r\n",
        "miasta = pd.read_csv('worldcities.csv')"
      ],
      "execution_count": 1,
      "outputs": [
        {
          "output_type": "stream",
          "text": [
            "--2021-01-19 07:51:15--  https://drive.google.com/uc?export=download&id=1A0mhufhexmoLOlzbbfNS1MrcaCldmQaC\n",
            "Resolving drive.google.com (drive.google.com)... 108.177.125.102, 108.177.125.113, 108.177.125.100, ...\n",
            "Connecting to drive.google.com (drive.google.com)|108.177.125.102|:443... connected.\n",
            "HTTP request sent, awaiting response... 302 Moved Temporarily\n",
            "Location: https://doc-0s-9o-docs.googleusercontent.com/docs/securesc/ha0ro937gcuc7l7deffksulhg5h7mbp1/tkr83bs6ss3jvr5n9cn5nmd5v518udiu/1611042675000/17661347493353663657/*/1A0mhufhexmoLOlzbbfNS1MrcaCldmQaC?e=download [following]\n",
            "Warning: wildcards not supported in HTTP.\n",
            "--2021-01-19 07:51:16--  https://doc-0s-9o-docs.googleusercontent.com/docs/securesc/ha0ro937gcuc7l7deffksulhg5h7mbp1/tkr83bs6ss3jvr5n9cn5nmd5v518udiu/1611042675000/17661347493353663657/*/1A0mhufhexmoLOlzbbfNS1MrcaCldmQaC?e=download\n",
            "Resolving doc-0s-9o-docs.googleusercontent.com (doc-0s-9o-docs.googleusercontent.com)... 74.125.203.132, 2404:6800:4008:c03::84\n",
            "Connecting to doc-0s-9o-docs.googleusercontent.com (doc-0s-9o-docs.googleusercontent.com)|74.125.203.132|:443... connected.\n",
            "HTTP request sent, awaiting response... 200 OK\n",
            "Length: unspecified [text/csv]\n",
            "Saving to: ‘worldcities.csv’\n",
            "\n",
            "worldcities.csv         [ <=>                ]   2.73M  --.-KB/s    in 0.02s   \n",
            "\n",
            "2021-01-19 07:51:17 (177 MB/s) - ‘worldcities.csv’ saved [2859311]\n",
            "\n"
          ],
          "name": "stdout"
        }
      ]
    },
    {
      "cell_type": "markdown",
      "metadata": {
        "id": "yzfYlSOpmQsT"
      },
      "source": [
        "## **Szybki podgląd DataFrame**"
      ]
    },
    {
      "cell_type": "markdown",
      "metadata": {
        "id": "DL8u2gfvoNl1"
      },
      "source": [
        "Skoro mamy już masz DataFrame to warto by było do niego zajrzeć. Najprościej jest to zrobić za pomoca funkcji head(), która wyświetli 5 pierwszych rekordów:"
      ]
    },
    {
      "cell_type": "code",
      "metadata": {
        "colab": {
          "base_uri": "https://localhost:8080/",
          "height": 203
        },
        "id": "Pqw65z-CoP6V",
        "outputId": "e3a8e5c6-3afe-4944-a2a8-f792e986b323"
      },
      "source": [
        "miasta.head()"
      ],
      "execution_count": 2,
      "outputs": [
        {
          "output_type": "execute_result",
          "data": {
            "text/html": [
              "<div>\n",
              "<style scoped>\n",
              "    .dataframe tbody tr th:only-of-type {\n",
              "        vertical-align: middle;\n",
              "    }\n",
              "\n",
              "    .dataframe tbody tr th {\n",
              "        vertical-align: top;\n",
              "    }\n",
              "\n",
              "    .dataframe thead th {\n",
              "        text-align: right;\n",
              "    }\n",
              "</style>\n",
              "<table border=\"1\" class=\"dataframe\">\n",
              "  <thead>\n",
              "    <tr style=\"text-align: right;\">\n",
              "      <th></th>\n",
              "      <th>city</th>\n",
              "      <th>city_ascii</th>\n",
              "      <th>lat</th>\n",
              "      <th>lng</th>\n",
              "      <th>country</th>\n",
              "      <th>iso2</th>\n",
              "      <th>iso3</th>\n",
              "      <th>admin_name</th>\n",
              "      <th>capital</th>\n",
              "      <th>population</th>\n",
              "      <th>id</th>\n",
              "    </tr>\n",
              "  </thead>\n",
              "  <tbody>\n",
              "    <tr>\n",
              "      <th>0</th>\n",
              "      <td>Tokyo</td>\n",
              "      <td>Tokyo</td>\n",
              "      <td>35.6897</td>\n",
              "      <td>139.6922</td>\n",
              "      <td>Japan</td>\n",
              "      <td>JP</td>\n",
              "      <td>JPN</td>\n",
              "      <td>Tōkyō</td>\n",
              "      <td>primary</td>\n",
              "      <td>37977000.0</td>\n",
              "      <td>1392685764</td>\n",
              "    </tr>\n",
              "    <tr>\n",
              "      <th>1</th>\n",
              "      <td>Jakarta</td>\n",
              "      <td>Jakarta</td>\n",
              "      <td>-6.2146</td>\n",
              "      <td>106.8451</td>\n",
              "      <td>Indonesia</td>\n",
              "      <td>ID</td>\n",
              "      <td>IDN</td>\n",
              "      <td>Jakarta</td>\n",
              "      <td>primary</td>\n",
              "      <td>34540000.0</td>\n",
              "      <td>1360771077</td>\n",
              "    </tr>\n",
              "    <tr>\n",
              "      <th>2</th>\n",
              "      <td>Delhi</td>\n",
              "      <td>Delhi</td>\n",
              "      <td>28.6600</td>\n",
              "      <td>77.2300</td>\n",
              "      <td>India</td>\n",
              "      <td>IN</td>\n",
              "      <td>IND</td>\n",
              "      <td>Delhi</td>\n",
              "      <td>admin</td>\n",
              "      <td>29617000.0</td>\n",
              "      <td>1356872604</td>\n",
              "    </tr>\n",
              "    <tr>\n",
              "      <th>3</th>\n",
              "      <td>Mumbai</td>\n",
              "      <td>Mumbai</td>\n",
              "      <td>18.9667</td>\n",
              "      <td>72.8333</td>\n",
              "      <td>India</td>\n",
              "      <td>IN</td>\n",
              "      <td>IND</td>\n",
              "      <td>Mahārāshtra</td>\n",
              "      <td>admin</td>\n",
              "      <td>23355000.0</td>\n",
              "      <td>1356226629</td>\n",
              "    </tr>\n",
              "    <tr>\n",
              "      <th>4</th>\n",
              "      <td>Manila</td>\n",
              "      <td>Manila</td>\n",
              "      <td>14.5958</td>\n",
              "      <td>120.9772</td>\n",
              "      <td>Philippines</td>\n",
              "      <td>PH</td>\n",
              "      <td>PHL</td>\n",
              "      <td>Manila</td>\n",
              "      <td>primary</td>\n",
              "      <td>23088000.0</td>\n",
              "      <td>1608618140</td>\n",
              "    </tr>\n",
              "  </tbody>\n",
              "</table>\n",
              "</div>"
            ],
            "text/plain": [
              "      city city_ascii      lat  ...  capital  population          id\n",
              "0    Tokyo      Tokyo  35.6897  ...  primary  37977000.0  1392685764\n",
              "1  Jakarta    Jakarta  -6.2146  ...  primary  34540000.0  1360771077\n",
              "2    Delhi      Delhi  28.6600  ...    admin  29617000.0  1356872604\n",
              "3   Mumbai     Mumbai  18.9667  ...    admin  23355000.0  1356226629\n",
              "4   Manila     Manila  14.5958  ...  primary  23088000.0  1608618140\n",
              "\n",
              "[5 rows x 11 columns]"
            ]
          },
          "metadata": {
            "tags": []
          },
          "execution_count": 2
        }
      ]
    },
    {
      "cell_type": "markdown",
      "metadata": {
        "id": "82sN6Dksoask"
      },
      "source": [
        "Analogiczny wynik otrzymalibyśmy stosując użycie nawiasów kwadratowych o których będziemy mówić więcej w kolejnych lekcjach:"
      ]
    },
    {
      "cell_type": "code",
      "metadata": {
        "colab": {
          "base_uri": "https://localhost:8080/",
          "height": 203
        },
        "id": "abvq9judocPl",
        "outputId": "b5d54af2-9625-400a-d6bb-668e8a32c849"
      },
      "source": [
        "miasta[:5]"
      ],
      "execution_count": 3,
      "outputs": [
        {
          "output_type": "execute_result",
          "data": {
            "text/html": [
              "<div>\n",
              "<style scoped>\n",
              "    .dataframe tbody tr th:only-of-type {\n",
              "        vertical-align: middle;\n",
              "    }\n",
              "\n",
              "    .dataframe tbody tr th {\n",
              "        vertical-align: top;\n",
              "    }\n",
              "\n",
              "    .dataframe thead th {\n",
              "        text-align: right;\n",
              "    }\n",
              "</style>\n",
              "<table border=\"1\" class=\"dataframe\">\n",
              "  <thead>\n",
              "    <tr style=\"text-align: right;\">\n",
              "      <th></th>\n",
              "      <th>city</th>\n",
              "      <th>city_ascii</th>\n",
              "      <th>lat</th>\n",
              "      <th>lng</th>\n",
              "      <th>country</th>\n",
              "      <th>iso2</th>\n",
              "      <th>iso3</th>\n",
              "      <th>admin_name</th>\n",
              "      <th>capital</th>\n",
              "      <th>population</th>\n",
              "      <th>id</th>\n",
              "    </tr>\n",
              "  </thead>\n",
              "  <tbody>\n",
              "    <tr>\n",
              "      <th>0</th>\n",
              "      <td>Tokyo</td>\n",
              "      <td>Tokyo</td>\n",
              "      <td>35.6897</td>\n",
              "      <td>139.6922</td>\n",
              "      <td>Japan</td>\n",
              "      <td>JP</td>\n",
              "      <td>JPN</td>\n",
              "      <td>Tōkyō</td>\n",
              "      <td>primary</td>\n",
              "      <td>37977000.0</td>\n",
              "      <td>1392685764</td>\n",
              "    </tr>\n",
              "    <tr>\n",
              "      <th>1</th>\n",
              "      <td>Jakarta</td>\n",
              "      <td>Jakarta</td>\n",
              "      <td>-6.2146</td>\n",
              "      <td>106.8451</td>\n",
              "      <td>Indonesia</td>\n",
              "      <td>ID</td>\n",
              "      <td>IDN</td>\n",
              "      <td>Jakarta</td>\n",
              "      <td>primary</td>\n",
              "      <td>34540000.0</td>\n",
              "      <td>1360771077</td>\n",
              "    </tr>\n",
              "    <tr>\n",
              "      <th>2</th>\n",
              "      <td>Delhi</td>\n",
              "      <td>Delhi</td>\n",
              "      <td>28.6600</td>\n",
              "      <td>77.2300</td>\n",
              "      <td>India</td>\n",
              "      <td>IN</td>\n",
              "      <td>IND</td>\n",
              "      <td>Delhi</td>\n",
              "      <td>admin</td>\n",
              "      <td>29617000.0</td>\n",
              "      <td>1356872604</td>\n",
              "    </tr>\n",
              "    <tr>\n",
              "      <th>3</th>\n",
              "      <td>Mumbai</td>\n",
              "      <td>Mumbai</td>\n",
              "      <td>18.9667</td>\n",
              "      <td>72.8333</td>\n",
              "      <td>India</td>\n",
              "      <td>IN</td>\n",
              "      <td>IND</td>\n",
              "      <td>Mahārāshtra</td>\n",
              "      <td>admin</td>\n",
              "      <td>23355000.0</td>\n",
              "      <td>1356226629</td>\n",
              "    </tr>\n",
              "    <tr>\n",
              "      <th>4</th>\n",
              "      <td>Manila</td>\n",
              "      <td>Manila</td>\n",
              "      <td>14.5958</td>\n",
              "      <td>120.9772</td>\n",
              "      <td>Philippines</td>\n",
              "      <td>PH</td>\n",
              "      <td>PHL</td>\n",
              "      <td>Manila</td>\n",
              "      <td>primary</td>\n",
              "      <td>23088000.0</td>\n",
              "      <td>1608618140</td>\n",
              "    </tr>\n",
              "  </tbody>\n",
              "</table>\n",
              "</div>"
            ],
            "text/plain": [
              "      city city_ascii      lat  ...  capital  population          id\n",
              "0    Tokyo      Tokyo  35.6897  ...  primary  37977000.0  1392685764\n",
              "1  Jakarta    Jakarta  -6.2146  ...  primary  34540000.0  1360771077\n",
              "2    Delhi      Delhi  28.6600  ...    admin  29617000.0  1356872604\n",
              "3   Mumbai     Mumbai  18.9667  ...    admin  23355000.0  1356226629\n",
              "4   Manila     Manila  14.5958  ...  primary  23088000.0  1608618140\n",
              "\n",
              "[5 rows x 11 columns]"
            ]
          },
          "metadata": {
            "tags": []
          },
          "execution_count": 3
        }
      ]
    },
    {
      "cell_type": "markdown",
      "metadata": {
        "id": "H3fRzDtqojWN"
      },
      "source": [
        "Oddzielając liczby znakiem dwukropka ':' definiujemy zakres wierszy jakie chcemy aby zostały nam wyświetlone. Zupełnie jak w przypadku listy.\r\n",
        "\r\n",
        "Jeżeli natomiast chcieli byśmy wyświetlić tylko 'ogon', czyli 5 ostatnich rekordów z naszego DataFrame, to możemy użyć funkcji tail()"
      ]
    },
    {
      "cell_type": "code",
      "metadata": {
        "colab": {
          "base_uri": "https://localhost:8080/",
          "height": 274
        },
        "id": "6Ccvp2YaomFj",
        "outputId": "dbb67a0a-f766-4c43-eb4d-4a9051d0c7ba"
      },
      "source": [
        "miasta.tail()"
      ],
      "execution_count": 4,
      "outputs": [
        {
          "output_type": "execute_result",
          "data": {
            "text/html": [
              "<div>\n",
              "<style scoped>\n",
              "    .dataframe tbody tr th:only-of-type {\n",
              "        vertical-align: middle;\n",
              "    }\n",
              "\n",
              "    .dataframe tbody tr th {\n",
              "        vertical-align: top;\n",
              "    }\n",
              "\n",
              "    .dataframe thead th {\n",
              "        text-align: right;\n",
              "    }\n",
              "</style>\n",
              "<table border=\"1\" class=\"dataframe\">\n",
              "  <thead>\n",
              "    <tr style=\"text-align: right;\">\n",
              "      <th></th>\n",
              "      <th>city</th>\n",
              "      <th>city_ascii</th>\n",
              "      <th>lat</th>\n",
              "      <th>lng</th>\n",
              "      <th>country</th>\n",
              "      <th>iso2</th>\n",
              "      <th>iso3</th>\n",
              "      <th>admin_name</th>\n",
              "      <th>capital</th>\n",
              "      <th>population</th>\n",
              "      <th>id</th>\n",
              "    </tr>\n",
              "  </thead>\n",
              "  <tbody>\n",
              "    <tr>\n",
              "      <th>26564</th>\n",
              "      <td>Nord</td>\n",
              "      <td>Nord</td>\n",
              "      <td>81.7166</td>\n",
              "      <td>-17.8000</td>\n",
              "      <td>Greenland</td>\n",
              "      <td>GL</td>\n",
              "      <td>GRL</td>\n",
              "      <td>Sermersooq</td>\n",
              "      <td>NaN</td>\n",
              "      <td>10.0</td>\n",
              "      <td>1304217709</td>\n",
              "    </tr>\n",
              "    <tr>\n",
              "      <th>26565</th>\n",
              "      <td>Timmiarmiut</td>\n",
              "      <td>Timmiarmiut</td>\n",
              "      <td>62.5333</td>\n",
              "      <td>-42.2167</td>\n",
              "      <td>Greenland</td>\n",
              "      <td>GL</td>\n",
              "      <td>GRL</td>\n",
              "      <td>Kujalleq</td>\n",
              "      <td>NaN</td>\n",
              "      <td>10.0</td>\n",
              "      <td>1304206491</td>\n",
              "    </tr>\n",
              "    <tr>\n",
              "      <th>26566</th>\n",
              "      <td>Cheremoshna</td>\n",
              "      <td>Cheremoshna</td>\n",
              "      <td>51.3894</td>\n",
              "      <td>30.0989</td>\n",
              "      <td>Ukraine</td>\n",
              "      <td>UA</td>\n",
              "      <td>UKR</td>\n",
              "      <td>Kyyivs’ka Oblast’</td>\n",
              "      <td>NaN</td>\n",
              "      <td>0.0</td>\n",
              "      <td>1804043438</td>\n",
              "    </tr>\n",
              "    <tr>\n",
              "      <th>26567</th>\n",
              "      <td>Ambarchik</td>\n",
              "      <td>Ambarchik</td>\n",
              "      <td>69.6510</td>\n",
              "      <td>162.3336</td>\n",
              "      <td>Russia</td>\n",
              "      <td>RU</td>\n",
              "      <td>RUS</td>\n",
              "      <td>Sakha (Yakutiya)</td>\n",
              "      <td>NaN</td>\n",
              "      <td>0.0</td>\n",
              "      <td>1643739159</td>\n",
              "    </tr>\n",
              "    <tr>\n",
              "      <th>26568</th>\n",
              "      <td>Nordvik</td>\n",
              "      <td>Nordvik</td>\n",
              "      <td>74.0165</td>\n",
              "      <td>111.5100</td>\n",
              "      <td>Russia</td>\n",
              "      <td>RU</td>\n",
              "      <td>RUS</td>\n",
              "      <td>Krasnoyarskiy Kray</td>\n",
              "      <td>NaN</td>\n",
              "      <td>0.0</td>\n",
              "      <td>1643587468</td>\n",
              "    </tr>\n",
              "  </tbody>\n",
              "</table>\n",
              "</div>"
            ],
            "text/plain": [
              "              city   city_ascii      lat  ...  capital population          id\n",
              "26564         Nord         Nord  81.7166  ...      NaN       10.0  1304217709\n",
              "26565  Timmiarmiut  Timmiarmiut  62.5333  ...      NaN       10.0  1304206491\n",
              "26566  Cheremoshna  Cheremoshna  51.3894  ...      NaN        0.0  1804043438\n",
              "26567    Ambarchik    Ambarchik  69.6510  ...      NaN        0.0  1643739159\n",
              "26568      Nordvik      Nordvik  74.0165  ...      NaN        0.0  1643587468\n",
              "\n",
              "[5 rows x 11 columns]"
            ]
          },
          "metadata": {
            "tags": []
          },
          "execution_count": 4
        }
      ]
    },
    {
      "cell_type": "markdown",
      "metadata": {
        "id": "AaMBgaProolr"
      },
      "source": [
        "Również bardzo łatwo możemy wyświetlić interesującą nas kolumnę. Wystarczy że w nawiasach kwadratowych podamy jej nazwę. Dla przykładu:"
      ]
    },
    {
      "cell_type": "code",
      "metadata": {
        "colab": {
          "base_uri": "https://localhost:8080/"
        },
        "id": "jqCWDD21ot_z",
        "outputId": "32dcff4c-5cfa-4c62-8239-f82dbf6d2a1b"
      },
      "source": [
        "miasta[\"city\"]"
      ],
      "execution_count": 5,
      "outputs": [
        {
          "output_type": "execute_result",
          "data": {
            "text/plain": [
              "0              Tokyo\n",
              "1            Jakarta\n",
              "2              Delhi\n",
              "3             Mumbai\n",
              "4             Manila\n",
              "            ...     \n",
              "26564           Nord\n",
              "26565    Timmiarmiut\n",
              "26566    Cheremoshna\n",
              "26567      Ambarchik\n",
              "26568        Nordvik\n",
              "Name: city, Length: 26569, dtype: object"
            ]
          },
          "metadata": {
            "tags": []
          },
          "execution_count": 5
        }
      ]
    },
    {
      "cell_type": "markdown",
      "metadata": {
        "id": "9U9y4JZcoztr"
      },
      "source": [
        "Aby szybko sprawdzić jakie wartości unikalne przyjmuje kolumna, wystarczy użyć funkcji unique():"
      ]
    },
    {
      "cell_type": "code",
      "metadata": {
        "colab": {
          "base_uri": "https://localhost:8080/"
        },
        "id": "a1iwFEAzo2FT",
        "outputId": "485e6443-b73a-4d12-93e7-84b5fc6d9b73"
      },
      "source": [
        "miasta[\"capital\"].unique()"
      ],
      "execution_count": 6,
      "outputs": [
        {
          "output_type": "execute_result",
          "data": {
            "text/plain": [
              "array(['primary', 'admin', nan, 'minor'], dtype=object)"
            ]
          },
          "metadata": {
            "tags": []
          },
          "execution_count": 6
        }
      ]
    },
    {
      "cell_type": "markdown",
      "metadata": {
        "id": "4Hr-RoaIpI7G"
      },
      "source": [
        "Jeżeli chcieli byśmy wyświetlić kilka konkretnych, to ich nazwy należy podać w liście:"
      ]
    },
    {
      "cell_type": "code",
      "metadata": {
        "colab": {
          "base_uri": "https://localhost:8080/",
          "height": 417
        },
        "id": "jNf2lkkjph2u",
        "outputId": "96c78d79-f48e-416d-b9f2-2c3ee951bb9d"
      },
      "source": [
        "miasta[[\"city\", \"iso3\"]]"
      ],
      "execution_count": 7,
      "outputs": [
        {
          "output_type": "execute_result",
          "data": {
            "text/html": [
              "<div>\n",
              "<style scoped>\n",
              "    .dataframe tbody tr th:only-of-type {\n",
              "        vertical-align: middle;\n",
              "    }\n",
              "\n",
              "    .dataframe tbody tr th {\n",
              "        vertical-align: top;\n",
              "    }\n",
              "\n",
              "    .dataframe thead th {\n",
              "        text-align: right;\n",
              "    }\n",
              "</style>\n",
              "<table border=\"1\" class=\"dataframe\">\n",
              "  <thead>\n",
              "    <tr style=\"text-align: right;\">\n",
              "      <th></th>\n",
              "      <th>city</th>\n",
              "      <th>iso3</th>\n",
              "    </tr>\n",
              "  </thead>\n",
              "  <tbody>\n",
              "    <tr>\n",
              "      <th>0</th>\n",
              "      <td>Tokyo</td>\n",
              "      <td>JPN</td>\n",
              "    </tr>\n",
              "    <tr>\n",
              "      <th>1</th>\n",
              "      <td>Jakarta</td>\n",
              "      <td>IDN</td>\n",
              "    </tr>\n",
              "    <tr>\n",
              "      <th>2</th>\n",
              "      <td>Delhi</td>\n",
              "      <td>IND</td>\n",
              "    </tr>\n",
              "    <tr>\n",
              "      <th>3</th>\n",
              "      <td>Mumbai</td>\n",
              "      <td>IND</td>\n",
              "    </tr>\n",
              "    <tr>\n",
              "      <th>4</th>\n",
              "      <td>Manila</td>\n",
              "      <td>PHL</td>\n",
              "    </tr>\n",
              "    <tr>\n",
              "      <th>...</th>\n",
              "      <td>...</td>\n",
              "      <td>...</td>\n",
              "    </tr>\n",
              "    <tr>\n",
              "      <th>26564</th>\n",
              "      <td>Nord</td>\n",
              "      <td>GRL</td>\n",
              "    </tr>\n",
              "    <tr>\n",
              "      <th>26565</th>\n",
              "      <td>Timmiarmiut</td>\n",
              "      <td>GRL</td>\n",
              "    </tr>\n",
              "    <tr>\n",
              "      <th>26566</th>\n",
              "      <td>Cheremoshna</td>\n",
              "      <td>UKR</td>\n",
              "    </tr>\n",
              "    <tr>\n",
              "      <th>26567</th>\n",
              "      <td>Ambarchik</td>\n",
              "      <td>RUS</td>\n",
              "    </tr>\n",
              "    <tr>\n",
              "      <th>26568</th>\n",
              "      <td>Nordvik</td>\n",
              "      <td>RUS</td>\n",
              "    </tr>\n",
              "  </tbody>\n",
              "</table>\n",
              "<p>26569 rows × 2 columns</p>\n",
              "</div>"
            ],
            "text/plain": [
              "              city iso3\n",
              "0            Tokyo  JPN\n",
              "1          Jakarta  IDN\n",
              "2            Delhi  IND\n",
              "3           Mumbai  IND\n",
              "4           Manila  PHL\n",
              "...            ...  ...\n",
              "26564         Nord  GRL\n",
              "26565  Timmiarmiut  GRL\n",
              "26566  Cheremoshna  UKR\n",
              "26567    Ambarchik  RUS\n",
              "26568      Nordvik  RUS\n",
              "\n",
              "[26569 rows x 2 columns]"
            ]
          },
          "metadata": {
            "tags": []
          },
          "execution_count": 7
        }
      ]
    },
    {
      "cell_type": "markdown",
      "metadata": {
        "id": "2wl48G3wpsq4"
      },
      "source": [
        "Alternatywnym sposobem jest podanie nazwy kolumny po kropce, tak jak tutaj:"
      ]
    },
    {
      "cell_type": "code",
      "metadata": {
        "colab": {
          "base_uri": "https://localhost:8080/"
        },
        "id": "cN0Gzz_2pwwS",
        "outputId": "39c642b5-45ff-43fe-f1ef-38821b4d4557"
      },
      "source": [
        "miasta.city"
      ],
      "execution_count": 9,
      "outputs": [
        {
          "output_type": "execute_result",
          "data": {
            "text/plain": [
              "0              Tokyo\n",
              "1            Jakarta\n",
              "2              Delhi\n",
              "3             Mumbai\n",
              "4             Manila\n",
              "            ...     \n",
              "26564           Nord\n",
              "26565    Timmiarmiut\n",
              "26566    Cheremoshna\n",
              "26567      Ambarchik\n",
              "26568        Nordvik\n",
              "Name: city, Length: 26569, dtype: object"
            ]
          },
          "metadata": {
            "tags": []
          },
          "execution_count": 9
        }
      ]
    },
    {
      "cell_type": "markdown",
      "metadata": {
        "id": "XNv96XGbp3pL"
      },
      "source": [
        "Jednak w ten sposób możemy odwołać się tylko do jednej kolumny jednocześnie, i to pod warunkiem że jej nazwa nie zawiera spacji. No i jeszcze gwóźdź tego paragrafu, czyli jak wyświetlić konkretne wiersze dla konkretnych kolumn? Oczywiście w poprzez podanie w jednych nawiasach [] zakresu wierszy, a w drugich [] listy kolumn:"
      ]
    },
    {
      "cell_type": "code",
      "metadata": {
        "colab": {
          "base_uri": "https://localhost:8080/",
          "height": 203
        },
        "id": "HyiA_YPDp-tC",
        "outputId": "e5c88563-3e22-4127-acdf-9e883d262b41"
      },
      "source": [
        "miasta[0:5][[\"city\"]]"
      ],
      "execution_count": 10,
      "outputs": [
        {
          "output_type": "execute_result",
          "data": {
            "text/html": [
              "<div>\n",
              "<style scoped>\n",
              "    .dataframe tbody tr th:only-of-type {\n",
              "        vertical-align: middle;\n",
              "    }\n",
              "\n",
              "    .dataframe tbody tr th {\n",
              "        vertical-align: top;\n",
              "    }\n",
              "\n",
              "    .dataframe thead th {\n",
              "        text-align: right;\n",
              "    }\n",
              "</style>\n",
              "<table border=\"1\" class=\"dataframe\">\n",
              "  <thead>\n",
              "    <tr style=\"text-align: right;\">\n",
              "      <th></th>\n",
              "      <th>city</th>\n",
              "    </tr>\n",
              "  </thead>\n",
              "  <tbody>\n",
              "    <tr>\n",
              "      <th>0</th>\n",
              "      <td>Tokyo</td>\n",
              "    </tr>\n",
              "    <tr>\n",
              "      <th>1</th>\n",
              "      <td>Jakarta</td>\n",
              "    </tr>\n",
              "    <tr>\n",
              "      <th>2</th>\n",
              "      <td>Delhi</td>\n",
              "    </tr>\n",
              "    <tr>\n",
              "      <th>3</th>\n",
              "      <td>Mumbai</td>\n",
              "    </tr>\n",
              "    <tr>\n",
              "      <th>4</th>\n",
              "      <td>Manila</td>\n",
              "    </tr>\n",
              "  </tbody>\n",
              "</table>\n",
              "</div>"
            ],
            "text/plain": [
              "      city\n",
              "0    Tokyo\n",
              "1  Jakarta\n",
              "2    Delhi\n",
              "3   Mumbai\n",
              "4   Manila"
            ]
          },
          "metadata": {
            "tags": []
          },
          "execution_count": 10
        }
      ]
    },
    {
      "cell_type": "code",
      "metadata": {
        "colab": {
          "base_uri": "https://localhost:8080/",
          "height": 203
        },
        "id": "Of_dJ9BiqDaK",
        "outputId": "ae627b95-faec-4643-90c4-b0c97c5a6b18"
      },
      "source": [
        "# inaczej, ale to w innym temacie poruszone.\r\n",
        "# Tutaj wiersze są liczone włącznie z ostatnim\r\n",
        "miasta.loc[0:4, [\"city\"]]"
      ],
      "execution_count": 16,
      "outputs": [
        {
          "output_type": "execute_result",
          "data": {
            "text/html": [
              "<div>\n",
              "<style scoped>\n",
              "    .dataframe tbody tr th:only-of-type {\n",
              "        vertical-align: middle;\n",
              "    }\n",
              "\n",
              "    .dataframe tbody tr th {\n",
              "        vertical-align: top;\n",
              "    }\n",
              "\n",
              "    .dataframe thead th {\n",
              "        text-align: right;\n",
              "    }\n",
              "</style>\n",
              "<table border=\"1\" class=\"dataframe\">\n",
              "  <thead>\n",
              "    <tr style=\"text-align: right;\">\n",
              "      <th></th>\n",
              "      <th>city</th>\n",
              "    </tr>\n",
              "  </thead>\n",
              "  <tbody>\n",
              "    <tr>\n",
              "      <th>0</th>\n",
              "      <td>Tokyo</td>\n",
              "    </tr>\n",
              "    <tr>\n",
              "      <th>1</th>\n",
              "      <td>Jakarta</td>\n",
              "    </tr>\n",
              "    <tr>\n",
              "      <th>2</th>\n",
              "      <td>Delhi</td>\n",
              "    </tr>\n",
              "    <tr>\n",
              "      <th>3</th>\n",
              "      <td>Mumbai</td>\n",
              "    </tr>\n",
              "    <tr>\n",
              "      <th>4</th>\n",
              "      <td>Manila</td>\n",
              "    </tr>\n",
              "  </tbody>\n",
              "</table>\n",
              "</div>"
            ],
            "text/plain": [
              "      city\n",
              "0    Tokyo\n",
              "1  Jakarta\n",
              "2    Delhi\n",
              "3   Mumbai\n",
              "4   Manila"
            ]
          },
          "metadata": {
            "tags": []
          },
          "execution_count": 16
        }
      ]
    },
    {
      "cell_type": "markdown",
      "metadata": {
        "id": "kXYOUJGdruNf"
      },
      "source": [
        "## **Wielkość, szerokość i typ danych w DataFrame**"
      ]
    },
    {
      "cell_type": "markdown",
      "metadata": {
        "id": "BaQ7ZmMvryJr"
      },
      "source": [
        "Potrafimy już zajrzeć do naszego DataFrame. Pora dowiedzieć się jak łatwo możemy uzyskać informację na temat jego formy.\r\n",
        "\r\n",
        "Mamy do dyspozycji 3 podstawowe funkcje które nam to bardzo ułatwią:"
      ]
    },
    {
      "cell_type": "markdown",
      "metadata": {
        "id": "384Ob8P7r4sS"
      },
      "source": [
        "### **shape**"
      ]
    },
    {
      "cell_type": "markdown",
      "metadata": {
        "id": "LccPJYy-r9L6"
      },
      "source": [
        "Zwraca informacje na temat liczby wierszy i liczby kolumn:"
      ]
    },
    {
      "cell_type": "code",
      "metadata": {
        "colab": {
          "base_uri": "https://localhost:8080/"
        },
        "id": "h8RxkjdmsAhs",
        "outputId": "14077bc0-b47e-4706-c458-36656eb6eaf3"
      },
      "source": [
        "miasta.shape"
      ],
      "execution_count": 17,
      "outputs": [
        {
          "output_type": "execute_result",
          "data": {
            "text/plain": [
              "(26569, 11)"
            ]
          },
          "metadata": {
            "tags": []
          },
          "execution_count": 17
        }
      ]
    },
    {
      "cell_type": "markdown",
      "metadata": {
        "id": "Yb-2K0eNsGqM"
      },
      "source": [
        "### **info()**"
      ]
    },
    {
      "cell_type": "markdown",
      "metadata": {
        "id": "zq3ok8P_sITi"
      },
      "source": [
        "Info() oferuje nam informacje na temat kolumn w naszym zbiorze, typu danych jaki jest w nich przechowywany oraz ilości rekordów które zawierają wartości. Czyli innych niż NaN"
      ]
    },
    {
      "cell_type": "code",
      "metadata": {
        "colab": {
          "base_uri": "https://localhost:8080/"
        },
        "id": "qLcPLmk7sMqu",
        "outputId": "bffe11b3-1c71-48f2-a5e6-f49f62731dca"
      },
      "source": [
        "miasta.info()"
      ],
      "execution_count": 18,
      "outputs": [
        {
          "output_type": "stream",
          "text": [
            "<class 'pandas.core.frame.DataFrame'>\n",
            "RangeIndex: 26569 entries, 0 to 26568\n",
            "Data columns (total 11 columns):\n",
            " #   Column      Non-Null Count  Dtype  \n",
            "---  ------      --------------  -----  \n",
            " 0   city        26569 non-null  object \n",
            " 1   city_ascii  26569 non-null  object \n",
            " 2   lat         26569 non-null  float64\n",
            " 3   lng         26569 non-null  float64\n",
            " 4   country     26569 non-null  object \n",
            " 5   iso2        26538 non-null  object \n",
            " 6   iso3        26569 non-null  object \n",
            " 7   admin_name  26493 non-null  object \n",
            " 8   capital     7626 non-null   object \n",
            " 9   population  25596 non-null  float64\n",
            " 10  id          26569 non-null  int64  \n",
            "dtypes: float64(3), int64(1), object(7)\n",
            "memory usage: 2.2+ MB\n"
          ],
          "name": "stdout"
        }
      ]
    },
    {
      "cell_type": "markdown",
      "metadata": {
        "id": "Vr43z-TksRza"
      },
      "source": [
        "### **describe()**"
      ]
    },
    {
      "cell_type": "markdown",
      "metadata": {
        "id": "vAF4tQCPsT30"
      },
      "source": [
        "I kolejne spojrzenie na kolumny, tym razem zawierające podstawowe statystyki dla kolumn przechowujących liczby."
      ]
    },
    {
      "cell_type": "code",
      "metadata": {
        "colab": {
          "base_uri": "https://localhost:8080/",
          "height": 296
        },
        "id": "f2_HhDjMsW_S",
        "outputId": "f88ef3b7-fe1a-44b3-cda1-d3dcbea29608"
      },
      "source": [
        "miasta.describe()"
      ],
      "execution_count": 19,
      "outputs": [
        {
          "output_type": "execute_result",
          "data": {
            "text/html": [
              "<div>\n",
              "<style scoped>\n",
              "    .dataframe tbody tr th:only-of-type {\n",
              "        vertical-align: middle;\n",
              "    }\n",
              "\n",
              "    .dataframe tbody tr th {\n",
              "        vertical-align: top;\n",
              "    }\n",
              "\n",
              "    .dataframe thead th {\n",
              "        text-align: right;\n",
              "    }\n",
              "</style>\n",
              "<table border=\"1\" class=\"dataframe\">\n",
              "  <thead>\n",
              "    <tr style=\"text-align: right;\">\n",
              "      <th></th>\n",
              "      <th>lat</th>\n",
              "      <th>lng</th>\n",
              "      <th>population</th>\n",
              "      <th>id</th>\n",
              "    </tr>\n",
              "  </thead>\n",
              "  <tbody>\n",
              "    <tr>\n",
              "      <th>count</th>\n",
              "      <td>26569.000000</td>\n",
              "      <td>26569.000000</td>\n",
              "      <td>2.559600e+04</td>\n",
              "      <td>2.656900e+04</td>\n",
              "    </tr>\n",
              "    <tr>\n",
              "      <th>mean</th>\n",
              "      <td>33.095264</td>\n",
              "      <td>-11.363860</td>\n",
              "      <td>1.623457e+05</td>\n",
              "      <td>1.556097e+09</td>\n",
              "    </tr>\n",
              "    <tr>\n",
              "      <th>std</th>\n",
              "      <td>22.393678</td>\n",
              "      <td>73.946817</td>\n",
              "      <td>8.996585e+05</td>\n",
              "      <td>2.873890e+08</td>\n",
              "    </tr>\n",
              "    <tr>\n",
              "      <th>min</th>\n",
              "      <td>-54.934100</td>\n",
              "      <td>-179.590000</td>\n",
              "      <td>0.000000e+00</td>\n",
              "      <td>1.004003e+09</td>\n",
              "    </tr>\n",
              "    <tr>\n",
              "      <th>25%</th>\n",
              "      <td>27.918300</td>\n",
              "      <td>-78.779400</td>\n",
              "      <td>9.246000e+03</td>\n",
              "      <td>1.276656e+09</td>\n",
              "    </tr>\n",
              "    <tr>\n",
              "      <th>50%</th>\n",
              "      <td>40.218800</td>\n",
              "      <td>-0.768900</td>\n",
              "      <td>2.007950e+04</td>\n",
              "      <td>1.643148e+09</td>\n",
              "    </tr>\n",
              "    <tr>\n",
              "      <th>75%</th>\n",
              "      <td>47.987800</td>\n",
              "      <td>29.683300</td>\n",
              "      <td>5.936925e+04</td>\n",
              "      <td>1.840005e+09</td>\n",
              "    </tr>\n",
              "    <tr>\n",
              "      <th>max</th>\n",
              "      <td>81.716600</td>\n",
              "      <td>179.366700</td>\n",
              "      <td>3.797700e+07</td>\n",
              "      <td>1.934000e+09</td>\n",
              "    </tr>\n",
              "  </tbody>\n",
              "</table>\n",
              "</div>"
            ],
            "text/plain": [
              "                lat           lng    population            id\n",
              "count  26569.000000  26569.000000  2.559600e+04  2.656900e+04\n",
              "mean      33.095264    -11.363860  1.623457e+05  1.556097e+09\n",
              "std       22.393678     73.946817  8.996585e+05  2.873890e+08\n",
              "min      -54.934100   -179.590000  0.000000e+00  1.004003e+09\n",
              "25%       27.918300    -78.779400  9.246000e+03  1.276656e+09\n",
              "50%       40.218800     -0.768900  2.007950e+04  1.643148e+09\n",
              "75%       47.987800     29.683300  5.936925e+04  1.840005e+09\n",
              "max       81.716600    179.366700  3.797700e+07  1.934000e+09"
            ]
          },
          "metadata": {
            "tags": []
          },
          "execution_count": 19
        }
      ]
    },
    {
      "cell_type": "markdown",
      "metadata": {
        "id": "sIG18Lg0sbJF"
      },
      "source": [
        "Funkcję describe możemy równiż wykonać na konkretnej kolumny. Nie musimy tego robić dla całego zbioru:"
      ]
    },
    {
      "cell_type": "code",
      "metadata": {
        "colab": {
          "base_uri": "https://localhost:8080/"
        },
        "id": "AcqKiO26scbK",
        "outputId": "1b652972-eb62-449a-bd35-38259b54ce16"
      },
      "source": [
        "miasta[\"population\"].describe()"
      ],
      "execution_count": 21,
      "outputs": [
        {
          "output_type": "execute_result",
          "data": {
            "text/plain": [
              "count    2.559600e+04\n",
              "mean     1.623457e+05\n",
              "std      8.996585e+05\n",
              "min      0.000000e+00\n",
              "25%      9.246000e+03\n",
              "50%      2.007950e+04\n",
              "75%      5.936925e+04\n",
              "max      3.797700e+07\n",
              "Name: population, dtype: float64"
            ]
          },
          "metadata": {
            "tags": []
          },
          "execution_count": 21
        }
      ]
    },
    {
      "cell_type": "markdown",
      "metadata": {
        "id": "RiYSpoKeslba"
      },
      "source": [
        "## **Puste wartości oraz duplikaty**"
      ]
    },
    {
      "cell_type": "markdown",
      "metadata": {
        "id": "ZB1cWpcJsnLx"
      },
      "source": [
        "Potrafimy już całkiem sporo. Jednak są jeszcze 2 czynności które praktycznie zawsze wykonuje się na samym początku po utworzeniu DataFrame. Mianowicie sprawdzenie czy nasz zbiór zawiera brakujące lub zduplikowane wartości."
      ]
    },
    {
      "cell_type": "markdown",
      "metadata": {
        "id": "aOMA_sKtst46"
      },
      "source": [
        "### **Brakujące wartości – NaN**"
      ]
    },
    {
      "cell_type": "markdown",
      "metadata": {
        "id": "nmUh4U20s2vW"
      },
      "source": [
        "Podstawowe informacje na temat brakujących danych mogliśmy otrzymać za pomocą funkcji info(). Jednak mamy do dyspozycji jeszcze inne, bardzo użyteczne funkcje. Pierwszą z nich jest isnull(). Za jej pomocą otrzymamy informację czy dana komórka jest pusta czy nie:"
      ]
    },
    {
      "cell_type": "code",
      "metadata": {
        "colab": {
          "base_uri": "https://localhost:8080/",
          "height": 417
        },
        "id": "962bwaEBs_NN",
        "outputId": "6f74bc4c-7b27-40f9-c1da-f4fd310cdbda"
      },
      "source": [
        "miasta.isnull()"
      ],
      "execution_count": 22,
      "outputs": [
        {
          "output_type": "execute_result",
          "data": {
            "text/html": [
              "<div>\n",
              "<style scoped>\n",
              "    .dataframe tbody tr th:only-of-type {\n",
              "        vertical-align: middle;\n",
              "    }\n",
              "\n",
              "    .dataframe tbody tr th {\n",
              "        vertical-align: top;\n",
              "    }\n",
              "\n",
              "    .dataframe thead th {\n",
              "        text-align: right;\n",
              "    }\n",
              "</style>\n",
              "<table border=\"1\" class=\"dataframe\">\n",
              "  <thead>\n",
              "    <tr style=\"text-align: right;\">\n",
              "      <th></th>\n",
              "      <th>city</th>\n",
              "      <th>city_ascii</th>\n",
              "      <th>lat</th>\n",
              "      <th>lng</th>\n",
              "      <th>country</th>\n",
              "      <th>iso2</th>\n",
              "      <th>iso3</th>\n",
              "      <th>admin_name</th>\n",
              "      <th>capital</th>\n",
              "      <th>population</th>\n",
              "      <th>id</th>\n",
              "    </tr>\n",
              "  </thead>\n",
              "  <tbody>\n",
              "    <tr>\n",
              "      <th>0</th>\n",
              "      <td>False</td>\n",
              "      <td>False</td>\n",
              "      <td>False</td>\n",
              "      <td>False</td>\n",
              "      <td>False</td>\n",
              "      <td>False</td>\n",
              "      <td>False</td>\n",
              "      <td>False</td>\n",
              "      <td>False</td>\n",
              "      <td>False</td>\n",
              "      <td>False</td>\n",
              "    </tr>\n",
              "    <tr>\n",
              "      <th>1</th>\n",
              "      <td>False</td>\n",
              "      <td>False</td>\n",
              "      <td>False</td>\n",
              "      <td>False</td>\n",
              "      <td>False</td>\n",
              "      <td>False</td>\n",
              "      <td>False</td>\n",
              "      <td>False</td>\n",
              "      <td>False</td>\n",
              "      <td>False</td>\n",
              "      <td>False</td>\n",
              "    </tr>\n",
              "    <tr>\n",
              "      <th>2</th>\n",
              "      <td>False</td>\n",
              "      <td>False</td>\n",
              "      <td>False</td>\n",
              "      <td>False</td>\n",
              "      <td>False</td>\n",
              "      <td>False</td>\n",
              "      <td>False</td>\n",
              "      <td>False</td>\n",
              "      <td>False</td>\n",
              "      <td>False</td>\n",
              "      <td>False</td>\n",
              "    </tr>\n",
              "    <tr>\n",
              "      <th>3</th>\n",
              "      <td>False</td>\n",
              "      <td>False</td>\n",
              "      <td>False</td>\n",
              "      <td>False</td>\n",
              "      <td>False</td>\n",
              "      <td>False</td>\n",
              "      <td>False</td>\n",
              "      <td>False</td>\n",
              "      <td>False</td>\n",
              "      <td>False</td>\n",
              "      <td>False</td>\n",
              "    </tr>\n",
              "    <tr>\n",
              "      <th>4</th>\n",
              "      <td>False</td>\n",
              "      <td>False</td>\n",
              "      <td>False</td>\n",
              "      <td>False</td>\n",
              "      <td>False</td>\n",
              "      <td>False</td>\n",
              "      <td>False</td>\n",
              "      <td>False</td>\n",
              "      <td>False</td>\n",
              "      <td>False</td>\n",
              "      <td>False</td>\n",
              "    </tr>\n",
              "    <tr>\n",
              "      <th>...</th>\n",
              "      <td>...</td>\n",
              "      <td>...</td>\n",
              "      <td>...</td>\n",
              "      <td>...</td>\n",
              "      <td>...</td>\n",
              "      <td>...</td>\n",
              "      <td>...</td>\n",
              "      <td>...</td>\n",
              "      <td>...</td>\n",
              "      <td>...</td>\n",
              "      <td>...</td>\n",
              "    </tr>\n",
              "    <tr>\n",
              "      <th>26564</th>\n",
              "      <td>False</td>\n",
              "      <td>False</td>\n",
              "      <td>False</td>\n",
              "      <td>False</td>\n",
              "      <td>False</td>\n",
              "      <td>False</td>\n",
              "      <td>False</td>\n",
              "      <td>False</td>\n",
              "      <td>True</td>\n",
              "      <td>False</td>\n",
              "      <td>False</td>\n",
              "    </tr>\n",
              "    <tr>\n",
              "      <th>26565</th>\n",
              "      <td>False</td>\n",
              "      <td>False</td>\n",
              "      <td>False</td>\n",
              "      <td>False</td>\n",
              "      <td>False</td>\n",
              "      <td>False</td>\n",
              "      <td>False</td>\n",
              "      <td>False</td>\n",
              "      <td>True</td>\n",
              "      <td>False</td>\n",
              "      <td>False</td>\n",
              "    </tr>\n",
              "    <tr>\n",
              "      <th>26566</th>\n",
              "      <td>False</td>\n",
              "      <td>False</td>\n",
              "      <td>False</td>\n",
              "      <td>False</td>\n",
              "      <td>False</td>\n",
              "      <td>False</td>\n",
              "      <td>False</td>\n",
              "      <td>False</td>\n",
              "      <td>True</td>\n",
              "      <td>False</td>\n",
              "      <td>False</td>\n",
              "    </tr>\n",
              "    <tr>\n",
              "      <th>26567</th>\n",
              "      <td>False</td>\n",
              "      <td>False</td>\n",
              "      <td>False</td>\n",
              "      <td>False</td>\n",
              "      <td>False</td>\n",
              "      <td>False</td>\n",
              "      <td>False</td>\n",
              "      <td>False</td>\n",
              "      <td>True</td>\n",
              "      <td>False</td>\n",
              "      <td>False</td>\n",
              "    </tr>\n",
              "    <tr>\n",
              "      <th>26568</th>\n",
              "      <td>False</td>\n",
              "      <td>False</td>\n",
              "      <td>False</td>\n",
              "      <td>False</td>\n",
              "      <td>False</td>\n",
              "      <td>False</td>\n",
              "      <td>False</td>\n",
              "      <td>False</td>\n",
              "      <td>True</td>\n",
              "      <td>False</td>\n",
              "      <td>False</td>\n",
              "    </tr>\n",
              "  </tbody>\n",
              "</table>\n",
              "<p>26569 rows × 11 columns</p>\n",
              "</div>"
            ],
            "text/plain": [
              "        city  city_ascii    lat    lng  ...  admin_name  capital  population     id\n",
              "0      False       False  False  False  ...       False    False       False  False\n",
              "1      False       False  False  False  ...       False    False       False  False\n",
              "2      False       False  False  False  ...       False    False       False  False\n",
              "3      False       False  False  False  ...       False    False       False  False\n",
              "4      False       False  False  False  ...       False    False       False  False\n",
              "...      ...         ...    ...    ...  ...         ...      ...         ...    ...\n",
              "26564  False       False  False  False  ...       False     True       False  False\n",
              "26565  False       False  False  False  ...       False     True       False  False\n",
              "26566  False       False  False  False  ...       False     True       False  False\n",
              "26567  False       False  False  False  ...       False     True       False  False\n",
              "26568  False       False  False  False  ...       False     True       False  False\n",
              "\n",
              "[26569 rows x 11 columns]"
            ]
          },
          "metadata": {
            "tags": []
          },
          "execution_count": 22
        }
      ]
    },
    {
      "cell_type": "markdown",
      "metadata": {
        "id": "d_12MxrKtJzV"
      },
      "source": [
        "Jeżeli zsumujemy wyniki, to otrzymamy informację o brakujących wartościach dla danej kolumny:"
      ]
    },
    {
      "cell_type": "code",
      "metadata": {
        "colab": {
          "base_uri": "https://localhost:8080/"
        },
        "id": "n-dJ0__rtK7y",
        "outputId": "a519a6dd-f91f-4a96-df5f-4452a6b3a4ed"
      },
      "source": [
        "miasta.isnull().sum()"
      ],
      "execution_count": 23,
      "outputs": [
        {
          "output_type": "execute_result",
          "data": {
            "text/plain": [
              "city              0\n",
              "city_ascii        0\n",
              "lat               0\n",
              "lng               0\n",
              "country           0\n",
              "iso2             31\n",
              "iso3              0\n",
              "admin_name       76\n",
              "capital       18943\n",
              "population      973\n",
              "id                0\n",
              "dtype: int64"
            ]
          },
          "metadata": {
            "tags": []
          },
          "execution_count": 23
        }
      ]
    },
    {
      "cell_type": "markdown",
      "metadata": {
        "id": "VIaDi_HZtSU6"
      },
      "source": [
        "Czyli na odwrót niż w przypadku informacji uzyskiwanych w przypadku funkcji info. Analogicznie mamy do dyspozycji funkcję notnull(), która zsymowana da nam wyniki takie same jak funkcja info():"
      ]
    },
    {
      "cell_type": "code",
      "metadata": {
        "colab": {
          "base_uri": "https://localhost:8080/"
        },
        "id": "WvEs9TgttWIN",
        "outputId": "dc4d2fe0-c14b-40e0-9821-2ec9b3b2786e"
      },
      "source": [
        "miasta.notnull().sum()"
      ],
      "execution_count": 24,
      "outputs": [
        {
          "output_type": "execute_result",
          "data": {
            "text/plain": [
              "city          26569\n",
              "city_ascii    26569\n",
              "lat           26569\n",
              "lng           26569\n",
              "country       26569\n",
              "iso2          26538\n",
              "iso3          26569\n",
              "admin_name    26493\n",
              "capital        7626\n",
              "population    25596\n",
              "id            26569\n",
              "dtype: int64"
            ]
          },
          "metadata": {
            "tags": []
          },
          "execution_count": 24
        }
      ]
    },
    {
      "cell_type": "markdown",
      "metadata": {
        "id": "G3wFB-2DtetU"
      },
      "source": [
        "### **Zduplikowane wartości**"
      ]
    },
    {
      "cell_type": "markdown",
      "metadata": {
        "id": "77WY2JkTtj3L"
      },
      "source": [
        "Na zakończenie tej lekcji, jeszcze jedna rzecz, mianowicie namierzenie zduplikowanych rekordów. Informację o tym czy takie rekordy mamy czy też nie, możemy uzyskać za pomocą funkcji duplicated(), natomiast pozbyć się ich możemy za pomocą funkcji drop_duplicates(). W naszym zbiorze nie ma zduplikowanych rekordów, tak wiec wartość będzie zero, jednak w kolejnych lekcjach już na takie natrafimy."
      ]
    },
    {
      "cell_type": "code",
      "metadata": {
        "colab": {
          "base_uri": "https://localhost:8080/"
        },
        "id": "ZsLIkMMqtsK6",
        "outputId": "23434520-2d34-451b-e145-335522b68160"
      },
      "source": [
        "miasta.duplicated()"
      ],
      "execution_count": 26,
      "outputs": [
        {
          "output_type": "execute_result",
          "data": {
            "text/plain": [
              "0        False\n",
              "1        False\n",
              "2        False\n",
              "3        False\n",
              "4        False\n",
              "         ...  \n",
              "26564    False\n",
              "26565    False\n",
              "26566    False\n",
              "26567    False\n",
              "26568    False\n",
              "Length: 26569, dtype: bool"
            ]
          },
          "metadata": {
            "tags": []
          },
          "execution_count": 26
        }
      ]
    },
    {
      "cell_type": "code",
      "metadata": {
        "colab": {
          "base_uri": "https://localhost:8080/"
        },
        "id": "NqjrG7adtyOi",
        "outputId": "3d3ff6a3-82e5-4d57-fcef-0a67ae20b690"
      },
      "source": [
        "miasta.duplicated().sum()"
      ],
      "execution_count": 27,
      "outputs": [
        {
          "output_type": "execute_result",
          "data": {
            "text/plain": [
              "0"
            ]
          },
          "metadata": {
            "tags": []
          },
          "execution_count": 27
        }
      ]
    },
    {
      "cell_type": "code",
      "metadata": {
        "colab": {
          "base_uri": "https://localhost:8080/",
          "height": 489
        },
        "id": "IUrLSaqit2Gq",
        "outputId": "420d1f12-7371-4224-cf99-819841ffa900"
      },
      "source": [
        "# i tak nie ma czego usuwać\r\n",
        "miasta.drop_duplicates()"
      ],
      "execution_count": 29,
      "outputs": [
        {
          "output_type": "execute_result",
          "data": {
            "text/html": [
              "<div>\n",
              "<style scoped>\n",
              "    .dataframe tbody tr th:only-of-type {\n",
              "        vertical-align: middle;\n",
              "    }\n",
              "\n",
              "    .dataframe tbody tr th {\n",
              "        vertical-align: top;\n",
              "    }\n",
              "\n",
              "    .dataframe thead th {\n",
              "        text-align: right;\n",
              "    }\n",
              "</style>\n",
              "<table border=\"1\" class=\"dataframe\">\n",
              "  <thead>\n",
              "    <tr style=\"text-align: right;\">\n",
              "      <th></th>\n",
              "      <th>city</th>\n",
              "      <th>city_ascii</th>\n",
              "      <th>lat</th>\n",
              "      <th>lng</th>\n",
              "      <th>country</th>\n",
              "      <th>iso2</th>\n",
              "      <th>iso3</th>\n",
              "      <th>admin_name</th>\n",
              "      <th>capital</th>\n",
              "      <th>population</th>\n",
              "      <th>id</th>\n",
              "    </tr>\n",
              "  </thead>\n",
              "  <tbody>\n",
              "    <tr>\n",
              "      <th>0</th>\n",
              "      <td>Tokyo</td>\n",
              "      <td>Tokyo</td>\n",
              "      <td>35.6897</td>\n",
              "      <td>139.6922</td>\n",
              "      <td>Japan</td>\n",
              "      <td>JP</td>\n",
              "      <td>JPN</td>\n",
              "      <td>Tōkyō</td>\n",
              "      <td>primary</td>\n",
              "      <td>37977000.0</td>\n",
              "      <td>1392685764</td>\n",
              "    </tr>\n",
              "    <tr>\n",
              "      <th>1</th>\n",
              "      <td>Jakarta</td>\n",
              "      <td>Jakarta</td>\n",
              "      <td>-6.2146</td>\n",
              "      <td>106.8451</td>\n",
              "      <td>Indonesia</td>\n",
              "      <td>ID</td>\n",
              "      <td>IDN</td>\n",
              "      <td>Jakarta</td>\n",
              "      <td>primary</td>\n",
              "      <td>34540000.0</td>\n",
              "      <td>1360771077</td>\n",
              "    </tr>\n",
              "    <tr>\n",
              "      <th>2</th>\n",
              "      <td>Delhi</td>\n",
              "      <td>Delhi</td>\n",
              "      <td>28.6600</td>\n",
              "      <td>77.2300</td>\n",
              "      <td>India</td>\n",
              "      <td>IN</td>\n",
              "      <td>IND</td>\n",
              "      <td>Delhi</td>\n",
              "      <td>admin</td>\n",
              "      <td>29617000.0</td>\n",
              "      <td>1356872604</td>\n",
              "    </tr>\n",
              "    <tr>\n",
              "      <th>3</th>\n",
              "      <td>Mumbai</td>\n",
              "      <td>Mumbai</td>\n",
              "      <td>18.9667</td>\n",
              "      <td>72.8333</td>\n",
              "      <td>India</td>\n",
              "      <td>IN</td>\n",
              "      <td>IND</td>\n",
              "      <td>Mahārāshtra</td>\n",
              "      <td>admin</td>\n",
              "      <td>23355000.0</td>\n",
              "      <td>1356226629</td>\n",
              "    </tr>\n",
              "    <tr>\n",
              "      <th>4</th>\n",
              "      <td>Manila</td>\n",
              "      <td>Manila</td>\n",
              "      <td>14.5958</td>\n",
              "      <td>120.9772</td>\n",
              "      <td>Philippines</td>\n",
              "      <td>PH</td>\n",
              "      <td>PHL</td>\n",
              "      <td>Manila</td>\n",
              "      <td>primary</td>\n",
              "      <td>23088000.0</td>\n",
              "      <td>1608618140</td>\n",
              "    </tr>\n",
              "    <tr>\n",
              "      <th>...</th>\n",
              "      <td>...</td>\n",
              "      <td>...</td>\n",
              "      <td>...</td>\n",
              "      <td>...</td>\n",
              "      <td>...</td>\n",
              "      <td>...</td>\n",
              "      <td>...</td>\n",
              "      <td>...</td>\n",
              "      <td>...</td>\n",
              "      <td>...</td>\n",
              "      <td>...</td>\n",
              "    </tr>\n",
              "    <tr>\n",
              "      <th>26564</th>\n",
              "      <td>Nord</td>\n",
              "      <td>Nord</td>\n",
              "      <td>81.7166</td>\n",
              "      <td>-17.8000</td>\n",
              "      <td>Greenland</td>\n",
              "      <td>GL</td>\n",
              "      <td>GRL</td>\n",
              "      <td>Sermersooq</td>\n",
              "      <td>NaN</td>\n",
              "      <td>10.0</td>\n",
              "      <td>1304217709</td>\n",
              "    </tr>\n",
              "    <tr>\n",
              "      <th>26565</th>\n",
              "      <td>Timmiarmiut</td>\n",
              "      <td>Timmiarmiut</td>\n",
              "      <td>62.5333</td>\n",
              "      <td>-42.2167</td>\n",
              "      <td>Greenland</td>\n",
              "      <td>GL</td>\n",
              "      <td>GRL</td>\n",
              "      <td>Kujalleq</td>\n",
              "      <td>NaN</td>\n",
              "      <td>10.0</td>\n",
              "      <td>1304206491</td>\n",
              "    </tr>\n",
              "    <tr>\n",
              "      <th>26566</th>\n",
              "      <td>Cheremoshna</td>\n",
              "      <td>Cheremoshna</td>\n",
              "      <td>51.3894</td>\n",
              "      <td>30.0989</td>\n",
              "      <td>Ukraine</td>\n",
              "      <td>UA</td>\n",
              "      <td>UKR</td>\n",
              "      <td>Kyyivs’ka Oblast’</td>\n",
              "      <td>NaN</td>\n",
              "      <td>0.0</td>\n",
              "      <td>1804043438</td>\n",
              "    </tr>\n",
              "    <tr>\n",
              "      <th>26567</th>\n",
              "      <td>Ambarchik</td>\n",
              "      <td>Ambarchik</td>\n",
              "      <td>69.6510</td>\n",
              "      <td>162.3336</td>\n",
              "      <td>Russia</td>\n",
              "      <td>RU</td>\n",
              "      <td>RUS</td>\n",
              "      <td>Sakha (Yakutiya)</td>\n",
              "      <td>NaN</td>\n",
              "      <td>0.0</td>\n",
              "      <td>1643739159</td>\n",
              "    </tr>\n",
              "    <tr>\n",
              "      <th>26568</th>\n",
              "      <td>Nordvik</td>\n",
              "      <td>Nordvik</td>\n",
              "      <td>74.0165</td>\n",
              "      <td>111.5100</td>\n",
              "      <td>Russia</td>\n",
              "      <td>RU</td>\n",
              "      <td>RUS</td>\n",
              "      <td>Krasnoyarskiy Kray</td>\n",
              "      <td>NaN</td>\n",
              "      <td>0.0</td>\n",
              "      <td>1643587468</td>\n",
              "    </tr>\n",
              "  </tbody>\n",
              "</table>\n",
              "<p>26569 rows × 11 columns</p>\n",
              "</div>"
            ],
            "text/plain": [
              "              city   city_ascii      lat  ...  capital  population          id\n",
              "0            Tokyo        Tokyo  35.6897  ...  primary  37977000.0  1392685764\n",
              "1          Jakarta      Jakarta  -6.2146  ...  primary  34540000.0  1360771077\n",
              "2            Delhi        Delhi  28.6600  ...    admin  29617000.0  1356872604\n",
              "3           Mumbai       Mumbai  18.9667  ...    admin  23355000.0  1356226629\n",
              "4           Manila       Manila  14.5958  ...  primary  23088000.0  1608618140\n",
              "...            ...          ...      ...  ...      ...         ...         ...\n",
              "26564         Nord         Nord  81.7166  ...      NaN        10.0  1304217709\n",
              "26565  Timmiarmiut  Timmiarmiut  62.5333  ...      NaN        10.0  1304206491\n",
              "26566  Cheremoshna  Cheremoshna  51.3894  ...      NaN         0.0  1804043438\n",
              "26567    Ambarchik    Ambarchik  69.6510  ...      NaN         0.0  1643739159\n",
              "26568      Nordvik      Nordvik  74.0165  ...      NaN         0.0  1643587468\n",
              "\n",
              "[26569 rows x 11 columns]"
            ]
          },
          "metadata": {
            "tags": []
          },
          "execution_count": 29
        }
      ]
    },
    {
      "cell_type": "markdown",
      "metadata": {
        "id": "gXgUL5TjuYKM"
      },
      "source": [
        "Ćwiczenia\r\n",
        "\r\n",
        "1. Należy wydrukować tylko i wyłącznie miasto oraz kraj, dla 10 pierwszych rekordów\r\n",
        "2. Jakie unikalne wartości zawiera kolumna Capital?\r\n",
        "3. Dla ilu miast brakuje informacji o ich populacji?"
      ]
    },
    {
      "cell_type": "code",
      "metadata": {
        "colab": {
          "base_uri": "https://localhost:8080/",
          "height": 358
        },
        "id": "5Vq7uyroufYz",
        "outputId": "1ce44c6b-372e-481b-947b-c2a04578df36"
      },
      "source": [
        "# 1.\r\n",
        "miasta[:10][[\"city\", \"country\"]]"
      ],
      "execution_count": 30,
      "outputs": [
        {
          "output_type": "execute_result",
          "data": {
            "text/html": [
              "<div>\n",
              "<style scoped>\n",
              "    .dataframe tbody tr th:only-of-type {\n",
              "        vertical-align: middle;\n",
              "    }\n",
              "\n",
              "    .dataframe tbody tr th {\n",
              "        vertical-align: top;\n",
              "    }\n",
              "\n",
              "    .dataframe thead th {\n",
              "        text-align: right;\n",
              "    }\n",
              "</style>\n",
              "<table border=\"1\" class=\"dataframe\">\n",
              "  <thead>\n",
              "    <tr style=\"text-align: right;\">\n",
              "      <th></th>\n",
              "      <th>city</th>\n",
              "      <th>country</th>\n",
              "    </tr>\n",
              "  </thead>\n",
              "  <tbody>\n",
              "    <tr>\n",
              "      <th>0</th>\n",
              "      <td>Tokyo</td>\n",
              "      <td>Japan</td>\n",
              "    </tr>\n",
              "    <tr>\n",
              "      <th>1</th>\n",
              "      <td>Jakarta</td>\n",
              "      <td>Indonesia</td>\n",
              "    </tr>\n",
              "    <tr>\n",
              "      <th>2</th>\n",
              "      <td>Delhi</td>\n",
              "      <td>India</td>\n",
              "    </tr>\n",
              "    <tr>\n",
              "      <th>3</th>\n",
              "      <td>Mumbai</td>\n",
              "      <td>India</td>\n",
              "    </tr>\n",
              "    <tr>\n",
              "      <th>4</th>\n",
              "      <td>Manila</td>\n",
              "      <td>Philippines</td>\n",
              "    </tr>\n",
              "    <tr>\n",
              "      <th>5</th>\n",
              "      <td>Shanghai</td>\n",
              "      <td>China</td>\n",
              "    </tr>\n",
              "    <tr>\n",
              "      <th>6</th>\n",
              "      <td>São Paulo</td>\n",
              "      <td>Brazil</td>\n",
              "    </tr>\n",
              "    <tr>\n",
              "      <th>7</th>\n",
              "      <td>Seoul</td>\n",
              "      <td>Korea, South</td>\n",
              "    </tr>\n",
              "    <tr>\n",
              "      <th>8</th>\n",
              "      <td>Mexico City</td>\n",
              "      <td>Mexico</td>\n",
              "    </tr>\n",
              "    <tr>\n",
              "      <th>9</th>\n",
              "      <td>Guangzhou</td>\n",
              "      <td>China</td>\n",
              "    </tr>\n",
              "  </tbody>\n",
              "</table>\n",
              "</div>"
            ],
            "text/plain": [
              "          city       country\n",
              "0        Tokyo         Japan\n",
              "1      Jakarta     Indonesia\n",
              "2        Delhi         India\n",
              "3       Mumbai         India\n",
              "4       Manila   Philippines\n",
              "5     Shanghai         China\n",
              "6    São Paulo        Brazil\n",
              "7        Seoul  Korea, South\n",
              "8  Mexico City        Mexico\n",
              "9    Guangzhou         China"
            ]
          },
          "metadata": {
            "tags": []
          },
          "execution_count": 30
        }
      ]
    },
    {
      "cell_type": "code",
      "metadata": {
        "colab": {
          "base_uri": "https://localhost:8080/"
        },
        "id": "mBX37tx4ur_W",
        "outputId": "20948f74-9904-4baf-8962-65a4e9863b4a"
      },
      "source": [
        "# 2.\r\n",
        "miasta[\"capital\"].unique()"
      ],
      "execution_count": 31,
      "outputs": [
        {
          "output_type": "execute_result",
          "data": {
            "text/plain": [
              "array(['primary', 'admin', nan, 'minor'], dtype=object)"
            ]
          },
          "metadata": {
            "tags": []
          },
          "execution_count": 31
        }
      ]
    },
    {
      "cell_type": "code",
      "metadata": {
        "colab": {
          "base_uri": "https://localhost:8080/"
        },
        "id": "Pv4ycDJquzza",
        "outputId": "87eb887b-4454-446e-f67d-86defe3dbb1c"
      },
      "source": [
        "# 3.\r\n",
        "miasta[\"population\"].isnull().sum()"
      ],
      "execution_count": 33,
      "outputs": [
        {
          "output_type": "execute_result",
          "data": {
            "text/plain": [
              "973"
            ]
          },
          "metadata": {
            "tags": []
          },
          "execution_count": 33
        }
      ]
    }
  ]
}