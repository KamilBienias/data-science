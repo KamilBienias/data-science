{
  "nbformat": 4,
  "nbformat_minor": 0,
  "metadata": {
    "colab": {
      "name": "reguły_asocjacyjne.ipynb",
      "provenance": [],
      "collapsed_sections": [],
      "authorship_tag": "ABX9TyP0fcZedl3ZgAk3Qi/MnZOj",
      "include_colab_link": true
    },
    "kernelspec": {
      "name": "python3",
      "display_name": "Python 3"
    }
  },
  "cells": [
    {
      "cell_type": "markdown",
      "metadata": {
        "id": "view-in-github",
        "colab_type": "text"
      },
      "source": [
        "<a href=\"https://colab.research.google.com/github/KamilBienias/data-science/blob/main/training/analityk.edu.pl/regu%C5%82y_asocjacyjne.ipynb\" target=\"_parent\"><img src=\"https://colab.research.google.com/assets/colab-badge.svg\" alt=\"Open In Colab\"/></a>"
      ]
    },
    {
      "cell_type": "code",
      "metadata": {
        "id": "Oed0sG4xehJi"
      },
      "source": [
        "# https://analityk.edu.pl/analiza-koszykowa-i-cross-selling-w-python/"
      ],
      "execution_count": null,
      "outputs": []
    },
    {
      "cell_type": "markdown",
      "metadata": {
        "id": "rlhoG2AneSN6"
      },
      "source": [
        "# Analiza koszykowa i cross selling w Python"
      ]
    },
    {
      "cell_type": "markdown",
      "metadata": {
        "id": "mKavpJNmeffC"
      },
      "source": [
        "Analiza koszykowa, opiera się o analizę historii zakupów w celu zrozumienia, jakie produktu kupowane są często razem. Tego typu reguły, są stosowane aby rekomendować, obecnym klientom, nabycie dodatkowych produktów i usług, które być może sami by nie kupili, ale podsuwając trafną sugestię, już tak. Poniżej zobaczymy, na czym to dokładnie polega, i jak taką analizę wykonać w Python.\r\n",
        " \r\n",
        "\r\n",
        "Każdy z nas, styka się z tym kilka razy dziennie. Klasyczny przykład, podawany od dawna, to Amazon. W momencie kiedy oglądamy produkty, lub dodamy je do koszyka, przedstawiane / rekomendowane są nam dodatkowe produkty do kupienia.\r\n",
        "\r\n",
        " \r\n",
        "\r\n",
        "Przykładowo, dodaliśmy do koszyka grzebień do włosów, tak więc może nam się wyświetlić oferta szamponu.\r\n",
        "\r\n",
        " \r\n",
        "\r\n",
        "Tego typu rekomendacje, nazywa się cross-selling. Czyli do sprzedażą. Cały mechanizm opiera się na analizie wcześniejszych zakupów, a dokładnie, produktów które były kupione razem. Jeżeli występuje częsta sytuacja, że klienci, którzy nabywają grzebienie, kupują również szampony, uzasadnione jest przedstawienie oferty kupna szamponu, dla tego kto ma w koszyku zakupowym grzebień.\r\n",
        "\r\n",
        " \r\n",
        "\r\n",
        "Takie reguły, nazywa się regułami asocjacyjnymi. Sklepy internetowe, czy też zakupu, to jedno z ich praktycznych zastosowań.\r\n",
        "\r\n",
        " \r\n",
        "\r\n",
        "Bardzo często, przedstawia się je w taki sposób:\r\n",
        "\r\n",
        " \r\n",
        "\r\n",
        "X -> Y\r\n",
        " \r\n",
        "\r\n",
        "(chleb) -> (mleko)\r\n",
        "\r\n",
        " \r\n",
        "\r\n",
        "(gazeta, zeszyt) -> (długopis)\r\n",
        "\r\n",
        " \r\n",
        "\r\n",
        "Pierwsza reguła, mówi, że jeżeli ktoś chce kupić chleb, to prawdopodobnie kupi też mleko. Druga, że jeżeli ktoś chce kupić gazetę i zeszyt, to prawdopodobnie kupi też długopis.\r\n",
        "\r\n",
        " "
      ]
    },
    {
      "cell_type": "markdown",
      "metadata": {
        "id": "FszH_tQUewyw"
      },
      "source": [
        "## Reguły asocjacyjne – podstawy"
      ]
    },
    {
      "cell_type": "markdown",
      "metadata": {
        "id": "qDEo12bWe0i6"
      },
      "source": [
        "Zanim zaczniemy poszukiwania, naszych reguł asocjacyjnych, na podstawie listy zakupów, musimy poznać kilka podstawowych pojęć z nimi związanych. W szczególności sposób oceny, czy znaleziona przez nas reguła, jest warta uwagi czy też nie.\r\n",
        "\r\n",
        " \r\n",
        "\r\n",
        "Dla uproszczenia, przyjmijmy, że mówimy o regule:\r\n",
        "\r\n",
        " \r\n",
        "\r\n",
        "(cukierki) -> (mleko)\r\n",
        "\r\n",
        " \r\n",
        "\r\n",
        "natomiast nasza historia zakupów wygląda następująco:"
      ]
    },
    {
      "cell_type": "code",
      "metadata": {
        "colab": {
          "base_uri": "https://localhost:8080/",
          "height": 358
        },
        "id": "IbswAH6xdf6p",
        "outputId": "85cf0323-97a4-4d52-ed79-0295176ae738"
      },
      "source": [
        "import pandas as pd\r\n",
        "\r\n",
        "lista = pd.DataFrame({\r\n",
        "        'mleko':[1,0,1,1,1,0,0,0,0,1],\r\n",
        "        'chleb':[1,1,0,0,0,1,1,1,1,0],\r\n",
        "        'ser':[0,1,0,0,0,0,1,1,1,1],\r\n",
        "        'woda':[0,0,1,1,0,1,0,0,0,0],\r\n",
        "        'cukierki':[0,0,1,0,0,1,0,0,0,1],\r\n",
        "        'jabłka':[1,0,0,0,0,1,1,1,0,1],\r\n",
        "        'gazeta':[1,0,1,1,0,0,0,1,1,0]})\r\n",
        "\r\n",
        "lista"
      ],
      "execution_count": 2,
      "outputs": [
        {
          "output_type": "execute_result",
          "data": {
            "text/html": [
              "<div>\n",
              "<style scoped>\n",
              "    .dataframe tbody tr th:only-of-type {\n",
              "        vertical-align: middle;\n",
              "    }\n",
              "\n",
              "    .dataframe tbody tr th {\n",
              "        vertical-align: top;\n",
              "    }\n",
              "\n",
              "    .dataframe thead th {\n",
              "        text-align: right;\n",
              "    }\n",
              "</style>\n",
              "<table border=\"1\" class=\"dataframe\">\n",
              "  <thead>\n",
              "    <tr style=\"text-align: right;\">\n",
              "      <th></th>\n",
              "      <th>mleko</th>\n",
              "      <th>chleb</th>\n",
              "      <th>ser</th>\n",
              "      <th>woda</th>\n",
              "      <th>cukierki</th>\n",
              "      <th>jabłka</th>\n",
              "      <th>gazeta</th>\n",
              "    </tr>\n",
              "  </thead>\n",
              "  <tbody>\n",
              "    <tr>\n",
              "      <th>0</th>\n",
              "      <td>1</td>\n",
              "      <td>1</td>\n",
              "      <td>0</td>\n",
              "      <td>0</td>\n",
              "      <td>0</td>\n",
              "      <td>1</td>\n",
              "      <td>1</td>\n",
              "    </tr>\n",
              "    <tr>\n",
              "      <th>1</th>\n",
              "      <td>0</td>\n",
              "      <td>1</td>\n",
              "      <td>1</td>\n",
              "      <td>0</td>\n",
              "      <td>0</td>\n",
              "      <td>0</td>\n",
              "      <td>0</td>\n",
              "    </tr>\n",
              "    <tr>\n",
              "      <th>2</th>\n",
              "      <td>1</td>\n",
              "      <td>0</td>\n",
              "      <td>0</td>\n",
              "      <td>1</td>\n",
              "      <td>1</td>\n",
              "      <td>0</td>\n",
              "      <td>1</td>\n",
              "    </tr>\n",
              "    <tr>\n",
              "      <th>3</th>\n",
              "      <td>1</td>\n",
              "      <td>0</td>\n",
              "      <td>0</td>\n",
              "      <td>1</td>\n",
              "      <td>0</td>\n",
              "      <td>0</td>\n",
              "      <td>1</td>\n",
              "    </tr>\n",
              "    <tr>\n",
              "      <th>4</th>\n",
              "      <td>1</td>\n",
              "      <td>0</td>\n",
              "      <td>0</td>\n",
              "      <td>0</td>\n",
              "      <td>0</td>\n",
              "      <td>0</td>\n",
              "      <td>0</td>\n",
              "    </tr>\n",
              "    <tr>\n",
              "      <th>5</th>\n",
              "      <td>0</td>\n",
              "      <td>1</td>\n",
              "      <td>0</td>\n",
              "      <td>1</td>\n",
              "      <td>1</td>\n",
              "      <td>1</td>\n",
              "      <td>0</td>\n",
              "    </tr>\n",
              "    <tr>\n",
              "      <th>6</th>\n",
              "      <td>0</td>\n",
              "      <td>1</td>\n",
              "      <td>1</td>\n",
              "      <td>0</td>\n",
              "      <td>0</td>\n",
              "      <td>1</td>\n",
              "      <td>0</td>\n",
              "    </tr>\n",
              "    <tr>\n",
              "      <th>7</th>\n",
              "      <td>0</td>\n",
              "      <td>1</td>\n",
              "      <td>1</td>\n",
              "      <td>0</td>\n",
              "      <td>0</td>\n",
              "      <td>1</td>\n",
              "      <td>1</td>\n",
              "    </tr>\n",
              "    <tr>\n",
              "      <th>8</th>\n",
              "      <td>0</td>\n",
              "      <td>1</td>\n",
              "      <td>1</td>\n",
              "      <td>0</td>\n",
              "      <td>0</td>\n",
              "      <td>0</td>\n",
              "      <td>1</td>\n",
              "    </tr>\n",
              "    <tr>\n",
              "      <th>9</th>\n",
              "      <td>1</td>\n",
              "      <td>0</td>\n",
              "      <td>1</td>\n",
              "      <td>0</td>\n",
              "      <td>1</td>\n",
              "      <td>1</td>\n",
              "      <td>0</td>\n",
              "    </tr>\n",
              "  </tbody>\n",
              "</table>\n",
              "</div>"
            ],
            "text/plain": [
              "   mleko  chleb  ser  woda  cukierki  jabłka  gazeta\n",
              "0      1      1    0     0         0       1       1\n",
              "1      0      1    1     0         0       0       0\n",
              "2      1      0    0     1         1       0       1\n",
              "3      1      0    0     1         0       0       1\n",
              "4      1      0    0     0         0       0       0\n",
              "5      0      1    0     1         1       1       0\n",
              "6      0      1    1     0         0       1       0\n",
              "7      0      1    1     0         0       1       1\n",
              "8      0      1    1     0         0       0       1\n",
              "9      1      0    1     0         1       1       0"
            ]
          },
          "metadata": {
            "tags": []
          },
          "execution_count": 2
        }
      ]
    },
    {
      "cell_type": "markdown",
      "metadata": {
        "id": "K-_9GtndfJPQ"
      },
      "source": [
        "Poszczególne wiersze, odpowiadają paragonowi. Natomiast 0 oraz 1 mówią o tym, czy na tym paragonie został zakupiony chleb, cukierki itd.\r\n",
        "\r\n",
        " \r\n",
        "\r\n",
        "Tak więc mamy 10 paragonów, czyli historię 10-ciu zakupów."
      ]
    },
    {
      "cell_type": "markdown",
      "metadata": {
        "id": "tLOGa9JCfJ-g"
      },
      "source": [
        "### support (wsparcie)"
      ]
    },
    {
      "cell_type": "markdown",
      "metadata": {
        "id": "fL_HdCgOfPpQ"
      },
      "source": [
        "support(cukierki,mleko) = (liczba transakcji w której występują razem cukierki i mleko) / (wszystkie transakcje)\r\n",
        "\r\n",
        " \r\n",
        "\r\n",
        "Jest to miara, która mówi nam, jak często mamy do czynienia z zakupami, których występują cukierki i mleko. Im większa liczba, bym częstsze zjawisko\r\n",
        "\r\n",
        " \r\n",
        "\r\n",
        "Wartość z zakresu (0,1)\r\n",
        "\r\n",
        " \r\n",
        "\r\n",
        "W naszym przypadku – support(cukierki->mleko) = 2/10 = 0.2"
      ]
    },
    {
      "cell_type": "markdown",
      "metadata": {
        "id": "y3dZGp4tfRMg"
      },
      "source": [
        "### confidence (zaufanie)"
      ]
    },
    {
      "cell_type": "markdown",
      "metadata": {
        "id": "Z-cRK1RlfWIw"
      },
      "source": [
        "confidence = support(cukierki,mleko) / support (cukierki)\r\n",
        "\r\n",
        "Krakowiak Paweł taką definicję napisał:\r\n",
        "\r\n",
        "confidence = (liczba transakcji w której występują razem cukierki i mleko) / (liczba transakcji w której występują cukierki)\r\n",
        "\r\n",
        "Miara, która mówi nam, czy kupno mleka, w przypadku kiedy były również kupowane cukierki, było przypadkiem czy nie. czym większa liczba, tym częściej ludzie którzy kupują cukierki, kupują również mleko. Jeżeli mała liczba, to znaczy, że ludzie którzy kupowali cukierki, często nie brali mleka.\r\n",
        "\r\n",
        " \r\n",
        "\r\n",
        "Wartość z zakresu (0,1)\r\n",
        "\r\n",
        " \r\n",
        "\r\n",
        "confidence (cukierki, mleko) = 0.2 / 0.3 = 0.66"
      ]
    },
    {
      "cell_type": "markdown",
      "metadata": {
        "id": "24YpP7S9fXxY"
      },
      "source": [
        "### lift (przyrost)"
      ]
    },
    {
      "cell_type": "markdown",
      "metadata": {
        "id": "lEcAvdfmfaCp"
      },
      "source": [
        "lift(cukierki, mleko) = support(cukierki,mleko) / (support(cukierki)*support(mleko))\r\n",
        "\r\n",
        "Krakowiak Paweł tak napisał:\r\n",
        "\r\n",
        "Ważność reguły:\r\n",
        "\r\n",
        "lift(A->B) = conf(A->B) / supp(B)\r\n",
        "\r\n",
        "Da się wyprowadzić stąd powyższ wzór.\r\n",
        "\r\n",
        "Miara, która mówi nam ile razy częściej, cukierki i mleko, występują razem, niż gdyby były statystycznie niezależne.\r\n",
        "\r\n",
        " \r\n",
        "liczba z zakresu od 0 do nieskończoności.\r\n",
        "\r\n",
        " \r\n",
        "Lift = 1 – całkowity brak zależności pomiędzy zakupem cukierków i mleka\r\n",
        "\r\n",
        " \r\n",
        "\r\n",
        "lift > 1 – pozytywna zależność\r\n",
        "\r\n",
        " \r\n",
        "\r\n",
        "lift(cukierki, mleko) = 0.2 / (0.3 * 0.5) = 1.33"
      ]
    },
    {
      "cell_type": "markdown",
      "metadata": {
        "id": "dAOHFEHChJiM"
      },
      "source": [
        "## Wyznaczanie reguł asocjacyjnych, w Python"
      ]
    },
    {
      "cell_type": "markdown",
      "metadata": {
        "id": "a3qnreXohKaw"
      },
      "source": [
        "Skoro znamy już teorię, czas przejść do praktyki. Jedną z bibliotek w Python, która pomoże nam odnaleźć reguły asocjacyjne, jest mlxtend. Posiada ona zaimplementowaną metodę Apriori. Najbardziej popularną metodę wyznaczana reguł asocjacyjnych.\r\n",
        "\r\n",
        "\r\n",
        "Instalacja oraz załadowanie bibliotek\r\n",
        "\r\n",
        " \r\n",
        "\r\n",
        "Na początku musimy zainstalować naszą bibliotekę.\r\n",
        "\r\n",
        " \r\n",
        "\r\n",
        "$ sudo pip install mlxtend\r\n",
        "\r\n",
        " \r\n",
        "\r\n",
        "Następnie ładujemy niezbędne biblioteki:\r\n"
      ]
    },
    {
      "cell_type": "code",
      "metadata": {
        "id": "EUDv_dRahcya"
      },
      "source": [
        "from mlxtend.frequent_patterns import apriori, association_rules"
      ],
      "execution_count": 3,
      "outputs": []
    },
    {
      "cell_type": "code",
      "metadata": {
        "colab": {
          "base_uri": "https://localhost:8080/",
          "height": 358
        },
        "id": "nxXJBx0lhoZA",
        "outputId": "083474c8-bb2d-48e5-ee96-1675547671cf"
      },
      "source": [
        "lista"
      ],
      "execution_count": 4,
      "outputs": [
        {
          "output_type": "execute_result",
          "data": {
            "text/html": [
              "<div>\n",
              "<style scoped>\n",
              "    .dataframe tbody tr th:only-of-type {\n",
              "        vertical-align: middle;\n",
              "    }\n",
              "\n",
              "    .dataframe tbody tr th {\n",
              "        vertical-align: top;\n",
              "    }\n",
              "\n",
              "    .dataframe thead th {\n",
              "        text-align: right;\n",
              "    }\n",
              "</style>\n",
              "<table border=\"1\" class=\"dataframe\">\n",
              "  <thead>\n",
              "    <tr style=\"text-align: right;\">\n",
              "      <th></th>\n",
              "      <th>mleko</th>\n",
              "      <th>chleb</th>\n",
              "      <th>ser</th>\n",
              "      <th>woda</th>\n",
              "      <th>cukierki</th>\n",
              "      <th>jabłka</th>\n",
              "      <th>gazeta</th>\n",
              "    </tr>\n",
              "  </thead>\n",
              "  <tbody>\n",
              "    <tr>\n",
              "      <th>0</th>\n",
              "      <td>1</td>\n",
              "      <td>1</td>\n",
              "      <td>0</td>\n",
              "      <td>0</td>\n",
              "      <td>0</td>\n",
              "      <td>1</td>\n",
              "      <td>1</td>\n",
              "    </tr>\n",
              "    <tr>\n",
              "      <th>1</th>\n",
              "      <td>0</td>\n",
              "      <td>1</td>\n",
              "      <td>1</td>\n",
              "      <td>0</td>\n",
              "      <td>0</td>\n",
              "      <td>0</td>\n",
              "      <td>0</td>\n",
              "    </tr>\n",
              "    <tr>\n",
              "      <th>2</th>\n",
              "      <td>1</td>\n",
              "      <td>0</td>\n",
              "      <td>0</td>\n",
              "      <td>1</td>\n",
              "      <td>1</td>\n",
              "      <td>0</td>\n",
              "      <td>1</td>\n",
              "    </tr>\n",
              "    <tr>\n",
              "      <th>3</th>\n",
              "      <td>1</td>\n",
              "      <td>0</td>\n",
              "      <td>0</td>\n",
              "      <td>1</td>\n",
              "      <td>0</td>\n",
              "      <td>0</td>\n",
              "      <td>1</td>\n",
              "    </tr>\n",
              "    <tr>\n",
              "      <th>4</th>\n",
              "      <td>1</td>\n",
              "      <td>0</td>\n",
              "      <td>0</td>\n",
              "      <td>0</td>\n",
              "      <td>0</td>\n",
              "      <td>0</td>\n",
              "      <td>0</td>\n",
              "    </tr>\n",
              "    <tr>\n",
              "      <th>5</th>\n",
              "      <td>0</td>\n",
              "      <td>1</td>\n",
              "      <td>0</td>\n",
              "      <td>1</td>\n",
              "      <td>1</td>\n",
              "      <td>1</td>\n",
              "      <td>0</td>\n",
              "    </tr>\n",
              "    <tr>\n",
              "      <th>6</th>\n",
              "      <td>0</td>\n",
              "      <td>1</td>\n",
              "      <td>1</td>\n",
              "      <td>0</td>\n",
              "      <td>0</td>\n",
              "      <td>1</td>\n",
              "      <td>0</td>\n",
              "    </tr>\n",
              "    <tr>\n",
              "      <th>7</th>\n",
              "      <td>0</td>\n",
              "      <td>1</td>\n",
              "      <td>1</td>\n",
              "      <td>0</td>\n",
              "      <td>0</td>\n",
              "      <td>1</td>\n",
              "      <td>1</td>\n",
              "    </tr>\n",
              "    <tr>\n",
              "      <th>8</th>\n",
              "      <td>0</td>\n",
              "      <td>1</td>\n",
              "      <td>1</td>\n",
              "      <td>0</td>\n",
              "      <td>0</td>\n",
              "      <td>0</td>\n",
              "      <td>1</td>\n",
              "    </tr>\n",
              "    <tr>\n",
              "      <th>9</th>\n",
              "      <td>1</td>\n",
              "      <td>0</td>\n",
              "      <td>1</td>\n",
              "      <td>0</td>\n",
              "      <td>1</td>\n",
              "      <td>1</td>\n",
              "      <td>0</td>\n",
              "    </tr>\n",
              "  </tbody>\n",
              "</table>\n",
              "</div>"
            ],
            "text/plain": [
              "   mleko  chleb  ser  woda  cukierki  jabłka  gazeta\n",
              "0      1      1    0     0         0       1       1\n",
              "1      0      1    1     0         0       0       0\n",
              "2      1      0    0     1         1       0       1\n",
              "3      1      0    0     1         0       0       1\n",
              "4      1      0    0     0         0       0       0\n",
              "5      0      1    0     1         1       1       0\n",
              "6      0      1    1     0         0       1       0\n",
              "7      0      1    1     0         0       1       1\n",
              "8      0      1    1     0         0       0       1\n",
              "9      1      0    1     0         1       1       0"
            ]
          },
          "metadata": {
            "tags": []
          },
          "execution_count": 4
        }
      ]
    },
    {
      "cell_type": "markdown",
      "metadata": {
        "id": "fbqRUt32htvo"
      },
      "source": [
        "Sprawdzamy częstotliwość występowania różnych kombinacji"
      ]
    },
    {
      "cell_type": "code",
      "metadata": {
        "colab": {
          "base_uri": "https://localhost:8080/",
          "height": 358
        },
        "id": "PdxitjkUhqP7",
        "outputId": "cf5593f7-240f-4f21-8834-d8ad0b45af78"
      },
      "source": [
        "freq_items = apriori(lista, min_support=0.2, use_colnames=True)\r\n",
        "freq_items.head(10)"
      ],
      "execution_count": 5,
      "outputs": [
        {
          "output_type": "execute_result",
          "data": {
            "text/html": [
              "<div>\n",
              "<style scoped>\n",
              "    .dataframe tbody tr th:only-of-type {\n",
              "        vertical-align: middle;\n",
              "    }\n",
              "\n",
              "    .dataframe tbody tr th {\n",
              "        vertical-align: top;\n",
              "    }\n",
              "\n",
              "    .dataframe thead th {\n",
              "        text-align: right;\n",
              "    }\n",
              "</style>\n",
              "<table border=\"1\" class=\"dataframe\">\n",
              "  <thead>\n",
              "    <tr style=\"text-align: right;\">\n",
              "      <th></th>\n",
              "      <th>support</th>\n",
              "      <th>itemsets</th>\n",
              "    </tr>\n",
              "  </thead>\n",
              "  <tbody>\n",
              "    <tr>\n",
              "      <th>0</th>\n",
              "      <td>0.5</td>\n",
              "      <td>(mleko)</td>\n",
              "    </tr>\n",
              "    <tr>\n",
              "      <th>1</th>\n",
              "      <td>0.6</td>\n",
              "      <td>(chleb)</td>\n",
              "    </tr>\n",
              "    <tr>\n",
              "      <th>2</th>\n",
              "      <td>0.5</td>\n",
              "      <td>(ser)</td>\n",
              "    </tr>\n",
              "    <tr>\n",
              "      <th>3</th>\n",
              "      <td>0.3</td>\n",
              "      <td>(woda)</td>\n",
              "    </tr>\n",
              "    <tr>\n",
              "      <th>4</th>\n",
              "      <td>0.3</td>\n",
              "      <td>(cukierki)</td>\n",
              "    </tr>\n",
              "    <tr>\n",
              "      <th>5</th>\n",
              "      <td>0.5</td>\n",
              "      <td>(jabłka)</td>\n",
              "    </tr>\n",
              "    <tr>\n",
              "      <th>6</th>\n",
              "      <td>0.5</td>\n",
              "      <td>(gazeta)</td>\n",
              "    </tr>\n",
              "    <tr>\n",
              "      <th>7</th>\n",
              "      <td>0.2</td>\n",
              "      <td>(mleko, woda)</td>\n",
              "    </tr>\n",
              "    <tr>\n",
              "      <th>8</th>\n",
              "      <td>0.2</td>\n",
              "      <td>(mleko, cukierki)</td>\n",
              "    </tr>\n",
              "    <tr>\n",
              "      <th>9</th>\n",
              "      <td>0.2</td>\n",
              "      <td>(mleko, jabłka)</td>\n",
              "    </tr>\n",
              "  </tbody>\n",
              "</table>\n",
              "</div>"
            ],
            "text/plain": [
              "   support           itemsets\n",
              "0      0.5            (mleko)\n",
              "1      0.6            (chleb)\n",
              "2      0.5              (ser)\n",
              "3      0.3             (woda)\n",
              "4      0.3         (cukierki)\n",
              "5      0.5           (jabłka)\n",
              "6      0.5           (gazeta)\n",
              "7      0.2      (mleko, woda)\n",
              "8      0.2  (mleko, cukierki)\n",
              "9      0.2    (mleko, jabłka)"
            ]
          },
          "metadata": {
            "tags": []
          },
          "execution_count": 5
        }
      ]
    },
    {
      "cell_type": "markdown",
      "metadata": {
        "id": "keoBLeb4h5Lq"
      },
      "source": [
        "sprawdzamy reguły asocjacyjne, których mamy zaufanie większe niż 65%"
      ]
    },
    {
      "cell_type": "code",
      "metadata": {
        "colab": {
          "base_uri": "https://localhost:8080/",
          "height": 220
        },
        "id": "HDT7xFT0h70Z",
        "outputId": "99e0a533-d999-4bea-95d6-7c1e5d32e893"
      },
      "source": [
        "rules = association_rules(freq_items, metric=\"confidence\", min_threshold=0.65)\r\n",
        "rules.head()\r\n",
        "# ważne koluny to 'antecedents', 'consequents', 'support', 'confidence', 'lift'"
      ],
      "execution_count": 6,
      "outputs": [
        {
          "output_type": "execute_result",
          "data": {
            "text/html": [
              "<div>\n",
              "<style scoped>\n",
              "    .dataframe tbody tr th:only-of-type {\n",
              "        vertical-align: middle;\n",
              "    }\n",
              "\n",
              "    .dataframe tbody tr th {\n",
              "        vertical-align: top;\n",
              "    }\n",
              "\n",
              "    .dataframe thead th {\n",
              "        text-align: right;\n",
              "    }\n",
              "</style>\n",
              "<table border=\"1\" class=\"dataframe\">\n",
              "  <thead>\n",
              "    <tr style=\"text-align: right;\">\n",
              "      <th></th>\n",
              "      <th>antecedents</th>\n",
              "      <th>consequents</th>\n",
              "      <th>antecedent support</th>\n",
              "      <th>consequent support</th>\n",
              "      <th>support</th>\n",
              "      <th>confidence</th>\n",
              "      <th>lift</th>\n",
              "      <th>leverage</th>\n",
              "      <th>conviction</th>\n",
              "    </tr>\n",
              "  </thead>\n",
              "  <tbody>\n",
              "    <tr>\n",
              "      <th>0</th>\n",
              "      <td>(woda)</td>\n",
              "      <td>(mleko)</td>\n",
              "      <td>0.3</td>\n",
              "      <td>0.5</td>\n",
              "      <td>0.2</td>\n",
              "      <td>0.666667</td>\n",
              "      <td>1.333333</td>\n",
              "      <td>0.05</td>\n",
              "      <td>1.5</td>\n",
              "    </tr>\n",
              "    <tr>\n",
              "      <th>1</th>\n",
              "      <td>(cukierki)</td>\n",
              "      <td>(mleko)</td>\n",
              "      <td>0.3</td>\n",
              "      <td>0.5</td>\n",
              "      <td>0.2</td>\n",
              "      <td>0.666667</td>\n",
              "      <td>1.333333</td>\n",
              "      <td>0.05</td>\n",
              "      <td>1.5</td>\n",
              "    </tr>\n",
              "    <tr>\n",
              "      <th>2</th>\n",
              "      <td>(ser)</td>\n",
              "      <td>(chleb)</td>\n",
              "      <td>0.5</td>\n",
              "      <td>0.6</td>\n",
              "      <td>0.4</td>\n",
              "      <td>0.800000</td>\n",
              "      <td>1.333333</td>\n",
              "      <td>0.10</td>\n",
              "      <td>2.0</td>\n",
              "    </tr>\n",
              "    <tr>\n",
              "      <th>3</th>\n",
              "      <td>(chleb)</td>\n",
              "      <td>(ser)</td>\n",
              "      <td>0.6</td>\n",
              "      <td>0.5</td>\n",
              "      <td>0.4</td>\n",
              "      <td>0.666667</td>\n",
              "      <td>1.333333</td>\n",
              "      <td>0.10</td>\n",
              "      <td>1.5</td>\n",
              "    </tr>\n",
              "    <tr>\n",
              "      <th>4</th>\n",
              "      <td>(jabłka)</td>\n",
              "      <td>(chleb)</td>\n",
              "      <td>0.5</td>\n",
              "      <td>0.6</td>\n",
              "      <td>0.4</td>\n",
              "      <td>0.800000</td>\n",
              "      <td>1.333333</td>\n",
              "      <td>0.10</td>\n",
              "      <td>2.0</td>\n",
              "    </tr>\n",
              "  </tbody>\n",
              "</table>\n",
              "</div>"
            ],
            "text/plain": [
              "  antecedents consequents  antecedent support  ...      lift  leverage  conviction\n",
              "0      (woda)     (mleko)                 0.3  ...  1.333333      0.05         1.5\n",
              "1  (cukierki)     (mleko)                 0.3  ...  1.333333      0.05         1.5\n",
              "2       (ser)     (chleb)                 0.5  ...  1.333333      0.10         2.0\n",
              "3     (chleb)       (ser)                 0.6  ...  1.333333      0.10         1.5\n",
              "4    (jabłka)     (chleb)                 0.5  ...  1.333333      0.10         2.0\n",
              "\n",
              "[5 rows x 9 columns]"
            ]
          },
          "metadata": {
            "tags": []
          },
          "execution_count": 6
        }
      ]
    },
    {
      "cell_type": "markdown",
      "metadata": {
        "id": "2xKY0psViYrA"
      },
      "source": [
        "Tak jak widzimy, pierwszy rekord, jest to reguła, którą wyliczyliśmy wcześniej 'ręcznie', z wartościami support, confidence oraz lift, równymi wartościom których się spodziewaliśmy."
      ]
    },
    {
      "cell_type": "code",
      "metadata": {
        "colab": {
          "base_uri": "https://localhost:8080/",
          "height": 636
        },
        "id": "cgFNOtgLibM5",
        "outputId": "ecb5848c-111d-45fd-9a42-ce77ab7a43d4"
      },
      "source": [
        "# wybieram ważne kolumny tak jak Paweł Krakowiak\r\n",
        "rules = rules.iloc[:, [0,1,4,5,6]]\r\n",
        "rules"
      ],
      "execution_count": 7,
      "outputs": [
        {
          "output_type": "execute_result",
          "data": {
            "text/html": [
              "<div>\n",
              "<style scoped>\n",
              "    .dataframe tbody tr th:only-of-type {\n",
              "        vertical-align: middle;\n",
              "    }\n",
              "\n",
              "    .dataframe tbody tr th {\n",
              "        vertical-align: top;\n",
              "    }\n",
              "\n",
              "    .dataframe thead th {\n",
              "        text-align: right;\n",
              "    }\n",
              "</style>\n",
              "<table border=\"1\" class=\"dataframe\">\n",
              "  <thead>\n",
              "    <tr style=\"text-align: right;\">\n",
              "      <th></th>\n",
              "      <th>antecedents</th>\n",
              "      <th>consequents</th>\n",
              "      <th>support</th>\n",
              "      <th>confidence</th>\n",
              "      <th>lift</th>\n",
              "    </tr>\n",
              "  </thead>\n",
              "  <tbody>\n",
              "    <tr>\n",
              "      <th>0</th>\n",
              "      <td>(woda)</td>\n",
              "      <td>(mleko)</td>\n",
              "      <td>0.2</td>\n",
              "      <td>0.666667</td>\n",
              "      <td>1.333333</td>\n",
              "    </tr>\n",
              "    <tr>\n",
              "      <th>1</th>\n",
              "      <td>(cukierki)</td>\n",
              "      <td>(mleko)</td>\n",
              "      <td>0.2</td>\n",
              "      <td>0.666667</td>\n",
              "      <td>1.333333</td>\n",
              "    </tr>\n",
              "    <tr>\n",
              "      <th>2</th>\n",
              "      <td>(ser)</td>\n",
              "      <td>(chleb)</td>\n",
              "      <td>0.4</td>\n",
              "      <td>0.800000</td>\n",
              "      <td>1.333333</td>\n",
              "    </tr>\n",
              "    <tr>\n",
              "      <th>3</th>\n",
              "      <td>(chleb)</td>\n",
              "      <td>(ser)</td>\n",
              "      <td>0.4</td>\n",
              "      <td>0.666667</td>\n",
              "      <td>1.333333</td>\n",
              "    </tr>\n",
              "    <tr>\n",
              "      <th>4</th>\n",
              "      <td>(jabłka)</td>\n",
              "      <td>(chleb)</td>\n",
              "      <td>0.4</td>\n",
              "      <td>0.800000</td>\n",
              "      <td>1.333333</td>\n",
              "    </tr>\n",
              "    <tr>\n",
              "      <th>5</th>\n",
              "      <td>(chleb)</td>\n",
              "      <td>(jabłka)</td>\n",
              "      <td>0.4</td>\n",
              "      <td>0.666667</td>\n",
              "      <td>1.333333</td>\n",
              "    </tr>\n",
              "    <tr>\n",
              "      <th>6</th>\n",
              "      <td>(woda)</td>\n",
              "      <td>(cukierki)</td>\n",
              "      <td>0.2</td>\n",
              "      <td>0.666667</td>\n",
              "      <td>2.222222</td>\n",
              "    </tr>\n",
              "    <tr>\n",
              "      <th>7</th>\n",
              "      <td>(cukierki)</td>\n",
              "      <td>(woda)</td>\n",
              "      <td>0.2</td>\n",
              "      <td>0.666667</td>\n",
              "      <td>2.222222</td>\n",
              "    </tr>\n",
              "    <tr>\n",
              "      <th>8</th>\n",
              "      <td>(woda)</td>\n",
              "      <td>(gazeta)</td>\n",
              "      <td>0.2</td>\n",
              "      <td>0.666667</td>\n",
              "      <td>1.333333</td>\n",
              "    </tr>\n",
              "    <tr>\n",
              "      <th>9</th>\n",
              "      <td>(cukierki)</td>\n",
              "      <td>(jabłka)</td>\n",
              "      <td>0.2</td>\n",
              "      <td>0.666667</td>\n",
              "      <td>1.333333</td>\n",
              "    </tr>\n",
              "    <tr>\n",
              "      <th>10</th>\n",
              "      <td>(mleko, woda)</td>\n",
              "      <td>(gazeta)</td>\n",
              "      <td>0.2</td>\n",
              "      <td>1.000000</td>\n",
              "      <td>2.000000</td>\n",
              "    </tr>\n",
              "    <tr>\n",
              "      <th>11</th>\n",
              "      <td>(mleko, gazeta)</td>\n",
              "      <td>(woda)</td>\n",
              "      <td>0.2</td>\n",
              "      <td>0.666667</td>\n",
              "      <td>2.222222</td>\n",
              "    </tr>\n",
              "    <tr>\n",
              "      <th>12</th>\n",
              "      <td>(woda, gazeta)</td>\n",
              "      <td>(mleko)</td>\n",
              "      <td>0.2</td>\n",
              "      <td>1.000000</td>\n",
              "      <td>2.000000</td>\n",
              "    </tr>\n",
              "    <tr>\n",
              "      <th>13</th>\n",
              "      <td>(woda)</td>\n",
              "      <td>(mleko, gazeta)</td>\n",
              "      <td>0.2</td>\n",
              "      <td>0.666667</td>\n",
              "      <td>2.222222</td>\n",
              "    </tr>\n",
              "    <tr>\n",
              "      <th>14</th>\n",
              "      <td>(ser, jabłka)</td>\n",
              "      <td>(chleb)</td>\n",
              "      <td>0.2</td>\n",
              "      <td>0.666667</td>\n",
              "      <td>1.111111</td>\n",
              "    </tr>\n",
              "    <tr>\n",
              "      <th>15</th>\n",
              "      <td>(ser, gazeta)</td>\n",
              "      <td>(chleb)</td>\n",
              "      <td>0.2</td>\n",
              "      <td>1.000000</td>\n",
              "      <td>1.666667</td>\n",
              "    </tr>\n",
              "    <tr>\n",
              "      <th>16</th>\n",
              "      <td>(chleb, gazeta)</td>\n",
              "      <td>(ser)</td>\n",
              "      <td>0.2</td>\n",
              "      <td>0.666667</td>\n",
              "      <td>1.333333</td>\n",
              "    </tr>\n",
              "    <tr>\n",
              "      <th>17</th>\n",
              "      <td>(jabłka, gazeta)</td>\n",
              "      <td>(chleb)</td>\n",
              "      <td>0.2</td>\n",
              "      <td>1.000000</td>\n",
              "      <td>1.666667</td>\n",
              "    </tr>\n",
              "    <tr>\n",
              "      <th>18</th>\n",
              "      <td>(chleb, gazeta)</td>\n",
              "      <td>(jabłka)</td>\n",
              "      <td>0.2</td>\n",
              "      <td>0.666667</td>\n",
              "      <td>1.333333</td>\n",
              "    </tr>\n",
              "  </tbody>\n",
              "</table>\n",
              "</div>"
            ],
            "text/plain": [
              "         antecedents      consequents  support  confidence      lift\n",
              "0             (woda)          (mleko)      0.2    0.666667  1.333333\n",
              "1         (cukierki)          (mleko)      0.2    0.666667  1.333333\n",
              "2              (ser)          (chleb)      0.4    0.800000  1.333333\n",
              "3            (chleb)            (ser)      0.4    0.666667  1.333333\n",
              "4           (jabłka)          (chleb)      0.4    0.800000  1.333333\n",
              "5            (chleb)         (jabłka)      0.4    0.666667  1.333333\n",
              "6             (woda)       (cukierki)      0.2    0.666667  2.222222\n",
              "7         (cukierki)           (woda)      0.2    0.666667  2.222222\n",
              "8             (woda)         (gazeta)      0.2    0.666667  1.333333\n",
              "9         (cukierki)         (jabłka)      0.2    0.666667  1.333333\n",
              "10     (mleko, woda)         (gazeta)      0.2    1.000000  2.000000\n",
              "11   (mleko, gazeta)           (woda)      0.2    0.666667  2.222222\n",
              "12    (woda, gazeta)          (mleko)      0.2    1.000000  2.000000\n",
              "13            (woda)  (mleko, gazeta)      0.2    0.666667  2.222222\n",
              "14     (ser, jabłka)          (chleb)      0.2    0.666667  1.111111\n",
              "15     (ser, gazeta)          (chleb)      0.2    1.000000  1.666667\n",
              "16   (chleb, gazeta)            (ser)      0.2    0.666667  1.333333\n",
              "17  (jabłka, gazeta)          (chleb)      0.2    1.000000  1.666667\n",
              "18   (chleb, gazeta)         (jabłka)      0.2    0.666667  1.333333"
            ]
          },
          "metadata": {
            "tags": []
          },
          "execution_count": 7
        }
      ]
    },
    {
      "cell_type": "markdown",
      "metadata": {
        "id": "gZliY6MGi6yM"
      },
      "source": [
        "wybieramy reguły asocjacyjne\r\n",
        "\r\n",
        " \r\n",
        "\r\n",
        "W rzeczywistości często wybieramy reguły, do których mamy duże przekonanie. Czyli preferujemy confidence, a nie support."
      ]
    },
    {
      "cell_type": "code",
      "metadata": {
        "colab": {
          "base_uri": "https://localhost:8080/",
          "height": 203
        },
        "id": "QWZsvPlXjAsj",
        "outputId": "0e51240e-f698-4587-e64d-9d42719eabc0"
      },
      "source": [
        "rules.sort_values(by='confidence', ascending=False).head()"
      ],
      "execution_count": 8,
      "outputs": [
        {
          "output_type": "execute_result",
          "data": {
            "text/html": [
              "<div>\n",
              "<style scoped>\n",
              "    .dataframe tbody tr th:only-of-type {\n",
              "        vertical-align: middle;\n",
              "    }\n",
              "\n",
              "    .dataframe tbody tr th {\n",
              "        vertical-align: top;\n",
              "    }\n",
              "\n",
              "    .dataframe thead th {\n",
              "        text-align: right;\n",
              "    }\n",
              "</style>\n",
              "<table border=\"1\" class=\"dataframe\">\n",
              "  <thead>\n",
              "    <tr style=\"text-align: right;\">\n",
              "      <th></th>\n",
              "      <th>antecedents</th>\n",
              "      <th>consequents</th>\n",
              "      <th>support</th>\n",
              "      <th>confidence</th>\n",
              "      <th>lift</th>\n",
              "    </tr>\n",
              "  </thead>\n",
              "  <tbody>\n",
              "    <tr>\n",
              "      <th>17</th>\n",
              "      <td>(jabłka, gazeta)</td>\n",
              "      <td>(chleb)</td>\n",
              "      <td>0.2</td>\n",
              "      <td>1.0</td>\n",
              "      <td>1.666667</td>\n",
              "    </tr>\n",
              "    <tr>\n",
              "      <th>15</th>\n",
              "      <td>(ser, gazeta)</td>\n",
              "      <td>(chleb)</td>\n",
              "      <td>0.2</td>\n",
              "      <td>1.0</td>\n",
              "      <td>1.666667</td>\n",
              "    </tr>\n",
              "    <tr>\n",
              "      <th>12</th>\n",
              "      <td>(woda, gazeta)</td>\n",
              "      <td>(mleko)</td>\n",
              "      <td>0.2</td>\n",
              "      <td>1.0</td>\n",
              "      <td>2.000000</td>\n",
              "    </tr>\n",
              "    <tr>\n",
              "      <th>10</th>\n",
              "      <td>(mleko, woda)</td>\n",
              "      <td>(gazeta)</td>\n",
              "      <td>0.2</td>\n",
              "      <td>1.0</td>\n",
              "      <td>2.000000</td>\n",
              "    </tr>\n",
              "    <tr>\n",
              "      <th>2</th>\n",
              "      <td>(ser)</td>\n",
              "      <td>(chleb)</td>\n",
              "      <td>0.4</td>\n",
              "      <td>0.8</td>\n",
              "      <td>1.333333</td>\n",
              "    </tr>\n",
              "  </tbody>\n",
              "</table>\n",
              "</div>"
            ],
            "text/plain": [
              "         antecedents consequents  support  confidence      lift\n",
              "17  (jabłka, gazeta)     (chleb)      0.2         1.0  1.666667\n",
              "15     (ser, gazeta)     (chleb)      0.2         1.0  1.666667\n",
              "12    (woda, gazeta)     (mleko)      0.2         1.0  2.000000\n",
              "10     (mleko, woda)    (gazeta)      0.2         1.0  2.000000\n",
              "2              (ser)     (chleb)      0.4         0.8  1.333333"
            ]
          },
          "metadata": {
            "tags": []
          },
          "execution_count": 8
        }
      ]
    },
    {
      "cell_type": "markdown",
      "metadata": {
        "id": "DvpTu-6OjMlX"
      },
      "source": [
        "Możemy pokusić się jeszcze o szybko wizualizację znalezionych reguł pod kątem confidence oraz lift"
      ]
    },
    {
      "cell_type": "code",
      "metadata": {
        "colab": {
          "base_uri": "https://localhost:8080/",
          "height": 826
        },
        "id": "pOsMAjrMjPCi",
        "outputId": "00626a4d-0487-4691-fe7b-42c548c9e03d"
      },
      "source": [
        "# tworzy kolumnę 'rule', która przechowuje zasady\r\n",
        "rules[\"rule\"] = rules[\"antecedents\"].apply(lambda x: ', '.join(list(x))).astype(\"unicode\") + \\\r\n",
        "        '->' + rules[\"consequents\"].apply(lambda x: ', '.join(list(x))).astype(\"unicode\") \r\n",
        "\r\n",
        "print(rules)\r\n",
        "\r\n",
        "import seaborn as sns\r\n",
        "import matplotlib.pyplot as plt\r\n",
        "\r\n",
        "sns.set_context('paper')\r\n",
        "sns.catplot(data=rules,\r\n",
        "           x = \"confidence\",\r\n",
        "           y = \"lift\",\r\n",
        "           ax = ax,\r\n",
        "           aspect = 1.5,\r\n",
        "           hue = \"rule\")\r\n",
        "\r\n",
        "plt.show()"
      ],
      "execution_count": 24,
      "outputs": [
        {
          "output_type": "stream",
          "text": [
            "         antecedents      consequents  ...      lift                   rule\n",
            "0             (woda)          (mleko)  ...  1.333333            woda->mleko\n",
            "1         (cukierki)          (mleko)  ...  1.333333        cukierki->mleko\n",
            "2              (ser)          (chleb)  ...  1.333333             ser->chleb\n",
            "3            (chleb)            (ser)  ...  1.333333             chleb->ser\n",
            "4           (jabłka)          (chleb)  ...  1.333333          jabłka->chleb\n",
            "5            (chleb)         (jabłka)  ...  1.333333          chleb->jabłka\n",
            "6             (woda)       (cukierki)  ...  2.222222         woda->cukierki\n",
            "7         (cukierki)           (woda)  ...  2.222222         cukierki->woda\n",
            "8             (woda)         (gazeta)  ...  1.333333           woda->gazeta\n",
            "9         (cukierki)         (jabłka)  ...  1.333333       cukierki->jabłka\n",
            "10     (mleko, woda)         (gazeta)  ...  2.000000    mleko, woda->gazeta\n",
            "11   (mleko, gazeta)           (woda)  ...  2.222222    mleko, gazeta->woda\n",
            "12    (woda, gazeta)          (mleko)  ...  2.000000    woda, gazeta->mleko\n",
            "13            (woda)  (mleko, gazeta)  ...  2.222222    woda->mleko, gazeta\n",
            "14     (ser, jabłka)          (chleb)  ...  1.111111     ser, jabłka->chleb\n",
            "15     (ser, gazeta)          (chleb)  ...  1.666667     ser, gazeta->chleb\n",
            "16   (chleb, gazeta)            (ser)  ...  1.333333     chleb, gazeta->ser\n",
            "17  (jabłka, gazeta)          (chleb)  ...  1.666667  jabłka, gazeta->chleb\n",
            "18   (chleb, gazeta)         (jabłka)  ...  1.333333  chleb, gazeta->jabłka\n",
            "\n",
            "[19 rows x 6 columns]\n"
          ],
          "name": "stdout"
        },
        {
          "output_type": "stream",
          "text": [
            "/usr/local/lib/python3.6/dist-packages/seaborn/categorical.py:3772: UserWarning: catplot is a figure-level function and does not accept target axes. You may wish to try stripplot\n",
            "  warnings.warn(msg, UserWarning)\n"
          ],
          "name": "stderr"
        },
        {
          "output_type": "display_data",
          "data": {
            "image/png": "[encoded data removed]",
            "text/plain": [
              "<Figure size 667.055x360 with 1 Axes>"
            ]
          },
          "metadata": {
            "tags": [],
            "needs_background": "light"
          }
        }
      ]
    }
  ]
}