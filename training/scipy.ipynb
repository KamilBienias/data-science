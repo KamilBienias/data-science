{
  "nbformat": 4,
  "nbformat_minor": 0,
  "metadata": {
    "colab": {
      "name": "scipy.ipynb",
      "provenance": [],
      "collapsed_sections": [],
      "authorship_tag": "ABX9TyMSdTvhw1BuyVxzzORINsKZ",
      "include_colab_link": true
    },
    "kernelspec": {
      "name": "python3",
      "display_name": "Python 3"
    },
    "language_info": {
      "name": "python"
    }
  },
  "cells": [
    {
      "cell_type": "markdown",
      "metadata": {
        "id": "view-in-github",
        "colab_type": "text"
      },
      "source": [
        "<a href=\"https://colab.research.google.com/github/KamilBienias/data-science/blob/main/training/scipy.ipynb\" target=\"_parent\"><img src=\"https://colab.research.google.com/assets/colab-badge.svg\" alt=\"Open In Colab\"/></a>"
      ]
    },
    {
      "cell_type": "markdown",
      "metadata": {
        "id": "ohTXAdSkQjd_"
      },
      "source": [
        "# **Testowanie hipotez**"
      ]
    },
    {
      "cell_type": "code",
      "metadata": {
        "id": "cgB0aqQaQn1i"
      },
      "source": [
        "# https://docs.scipy.org/doc/scipy/reference/generated/scipy.stats.ttest_ind.html\n",
        "\n",
        "# Oblicza T-test dla średnich dwóch niezależnych próbek.\n",
        "# Test dwustronny dla hipotezy H0, że niezależne próbki mają tą samą śrenią (wartość oczekiwaną).\n",
        "# Domyślnie zakłada że populacje mają tą samą wariancję equal_var=True"
      ],
      "execution_count": 14,
      "outputs": []
    },
    {
      "cell_type": "markdown",
      "metadata": {
        "id": "Cv5sasAFSglL"
      },
      "source": [
        "## T-test dwupróbkowy ttest_ind"
      ]
    },
    {
      "cell_type": "code",
      "metadata": {
        "colab": {
          "base_uri": "https://localhost:8080/"
        },
        "id": "FF4j25lCR5cj",
        "outputId": "ffa9f52d-a523-401a-c91c-8ab5271cf786"
      },
      "source": [
        "# https://www.w3schools.com/python/scipy_statistical_significance_tests.asp\n",
        "\n",
        "# Test dwustronny (two-sided) sprawdza czy jest znacząca różnica między średnimi\n",
        "# dwóch próbek i czy są z tego samego rozkładu.\n",
        "# Sprwdź czy dane wartości v1 i v2 są z tego samego rozkładu.\n",
        "\n",
        "import numpy as np\n",
        "from scipy.stats import ttest_ind\n",
        "\n",
        "# dwie próbki 100 elementowe z rozkładu N(0, 1)\n",
        "v1 = np.random.normal(size=100)\n",
        "v2 = np.random.normal(size=100)\n",
        "\n",
        "# pierwsza zwrócona wartość to statystyka t, a druga to p-value\n",
        "statystyka_t, wartosc_p = ttest_ind(v1, v2)\n",
        "print(\"Statystyka t:\", round(statystyka_t, 2))\n",
        "print(\"Wartość p:\", round(wartosc_p, 2))\n",
        "\n",
        "alpha = 0.05\n",
        "\n",
        "# jesli p-value jest mniejsza niż alfa\n",
        "if wartosc_p < alpha:\n",
        "    print(\"Odrzucamy H0 mówiącą o równości średnich,\")\n",
        "    print(\"czyli próbki są z różnych rokładów.\")\n",
        "else:\n",
        "    print(\"Nie ma podstaw do odrzucenia H0 mówiącej o równości średnich.\")"
      ],
      "execution_count": 15,
      "outputs": [
        {
          "output_type": "stream",
          "text": [
            "Statystyka t: -0.47\n",
            "Wartość p: 0.64\n",
            "Nie ma podstaw do odrzucenia H0 mówiącej o równości średnich.\n"
          ],
          "name": "stdout"
        }
      ]
    },
    {
      "cell_type": "markdown",
      "metadata": {
        "id": "GGG_277eVki9"
      },
      "source": [
        "## T-test jednopróbkowy ttest_1samp"
      ]
    },
    {
      "cell_type": "code",
      "metadata": {
        "colab": {
          "base_uri": "https://localhost:8080/"
        },
        "id": "lNYmfmnFWM4M",
        "outputId": "39a7fa80-39ca-4188-842c-b92a9078805f"
      },
      "source": [
        "# Test dwustronny (two-sided) dla hipotezy H0 mówiącej, że próbka niezależnych \n",
        "# obserwacji ma średnią równą podaną jako średnia populacji (parametr popmean).\n",
        "\n",
        "import numpy as np\n",
        "from scipy.stats import ttest_1samp\n",
        "\n",
        "# próbka 100 elementowa z rozkładu N(2, 4)\n",
        "# czyli o średniej = 2 i odchyleniu standarwowym = 4\n",
        "v = 2 + 4 * np.random.normal(size=100)\n",
        "\n",
        "population_mean = 6.0\n",
        "\n",
        "alpha = 0.05\n",
        "\n",
        "# pierwsza zwrócona wartość to statystyka t, a druga to p-value\n",
        "statystyka_t, wartosc_p = ttest_1samp(v, popmean=population_mean)\n",
        "print(\"Statystyka t:\", round(statystyka_t, 2))\n",
        "print(\"Wartość p:\", round(wartosc_p, 2))\n",
        "\n",
        "\n",
        "# jesli p-value jest mniejsza niż alfa\n",
        "if wartosc_p < alpha:\n",
        "    print(\"Odrzucamy H0 mówiącą o równości średnich,\")\n",
        "    print(\"czyli próbka jest z innego rokładu.\")\n",
        "else:\n",
        "    print(\"Nie ma podstaw do odrzucenia H0 mówiącej o równości średnich.\")"
      ],
      "execution_count": 16,
      "outputs": [
        {
          "output_type": "stream",
          "text": [
            "Statystyka t: -10.33\n",
            "Wartość p: 0.0\n",
            "Odrzucamy H0 mówiącą o równości średnich,\n",
            "czyli próbka jest z innego rokładu.\n"
          ],
          "name": "stdout"
        }
      ]
    },
    {
      "cell_type": "markdown",
      "metadata": {
        "id": "XgAOQRtB4pn7"
      },
      "source": [
        "## Test zgodności Kołmogorowa-Smirnowa"
      ]
    },
    {
      "cell_type": "code",
      "metadata": {
        "colab": {
          "base_uri": "https://localhost:8080/"
        },
        "id": "OK_uDxms4x3j",
        "outputId": "78f7d734-8899-4a61-bbb7-952050ba3d8c"
      },
      "source": [
        "# Test nieparametryczny używany do porównywania rozkładów\n",
        "# jednowymiarowych cech statystycznych. \n",
        "# Istnieją dwie główne wersje tego testu – dla 1 i dla 2 prób (ten dla jednej).\n",
        "# Dla jednej próby nazywany jest lambda-Kołmogorowa.\n",
        "\n",
        "import numpy as np\n",
        "from scipy.stats import kstest\n",
        "\n",
        "v = np.random.normal(size=100)\n",
        "\n",
        "statystyka, wartosc_p = kstest(v, 'norm')\n",
        "print(\"Statystyka t:\", round(statystyka, 2))\n",
        "print(\"Wartość p:\", round(wartosc_p, 2))\n",
        "\n",
        "\n",
        "# jesli p-value jest mniejsza niż alfa\n",
        "if wartosc_p < alpha:\n",
        "    print(\"Odrzucamy H0 mówiącą o równości rozkładów,\")\n",
        "    print(\"czyli próbka jest z innego rokładu.\")\n",
        "else:\n",
        "    print(\"Nie ma podstaw do odrzucenia H0 mówiącej o równości rozkładów.\")\n"
      ],
      "execution_count": 17,
      "outputs": [
        {
          "output_type": "stream",
          "text": [
            "Statystyka t: 0.1\n",
            "Wartość p: 0.29\n",
            "Nie ma podstaw do odrzucenia H0 mówiącej o równości rozkładów.\n"
          ],
          "name": "stdout"
        }
      ]
    }
  ]
}