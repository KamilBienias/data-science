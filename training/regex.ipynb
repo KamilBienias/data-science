{
  "nbformat": 4,
  "nbformat_minor": 0,
  "metadata": {
    "colab": {
      "name": "regex.ipynb",
      "provenance": [],
      "authorship_tag": "ABX9TyMSgpJSwng0kFAox7QqToq7",
      "include_colab_link": true
    },
    "kernelspec": {
      "name": "python3",
      "display_name": "Python 3"
    }
  },
  "cells": [
    {
      "cell_type": "markdown",
      "metadata": {
        "id": "view-in-github",
        "colab_type": "text"
      },
      "source": [
        "<a href=\"https://colab.research.google.com/github/KamilBienias/data-science/blob/main/training/regex.ipynb\" target=\"_parent\"><img src=\"https://colab.research.google.com/assets/colab-badge.svg\" alt=\"Open In Colab\"/></a>"
      ]
    },
    {
      "cell_type": "code",
      "metadata": {
        "id": "Ol-BQjLkhBa5",
        "colab": {
          "base_uri": "https://localhost:8080/"
        },
        "outputId": "a1a778e9-8f1f-466b-dc7b-106c3f3dcdb4"
      },
      "source": [
        "import re\n",
        "\n",
        "# takiego typu wyrazenie szukamy\n",
        "# W nawiasie jest wzor czyli pattern.\n",
        "# Z przodu r oznacza ze jest to wyrazenie regularne\n",
        "# \\w to word character, czyli male i duze litery, cyfry oraz podkreslnik\n",
        "# Plus na koncu oznacza co najmniej 1 element.\n",
        "# Chcemy przynajmniej jednoliterowe wyrazy\n",
        "WORD_RE = re.compile(r'[\\w]+')\n",
        "\n",
        "# uzywanie patternu\n",
        "words = WORD_RE.findall('Big data, hadoop and map reduce. (hello world!)')\n",
        "print(words)\n",
        "# zwroci liste slow:\n",
        "# ['Big', 'data', 'hadoop', 'and', 'map', 'reduce', 'hello', 'world']"
      ],
      "execution_count": 1,
      "outputs": [
        {
          "output_type": "stream",
          "text": [
            "['Big', 'data', 'hadoop', 'and', 'map', 'reduce', 'hello', 'world']\n"
          ],
          "name": "stdout"
        }
      ]
    }
  ]
}