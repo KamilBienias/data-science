{
  "nbformat": 4,
  "nbformat_minor": 0,
  "metadata": {
    "colab": {
      "name": "działania na kolumnach df.ipynb",
      "provenance": [],
      "collapsed_sections": [],
      "authorship_tag": "ABX9TyPubQ1dDT/U12HstIGSD0Da",
      "include_colab_link": true
    },
    "kernelspec": {
      "name": "python3",
      "display_name": "Python 3"
    }
  },
  "cells": [
    {
      "cell_type": "markdown",
      "metadata": {
        "id": "view-in-github",
        "colab_type": "text"
      },
      "source": [
        "<a href=\"https://colab.research.google.com/github/KamilBienias/data-science/blob/main/training/dzia%C5%82ania_na_kolumnach_df.ipynb\" target=\"_parent\"><img src=\"https://colab.research.google.com/assets/colab-badge.svg\" alt=\"Open In Colab\"/></a>"
      ]
    },
    {
      "cell_type": "code",
      "metadata": {
        "colab": {
          "base_uri": "https://localhost:8080/",
          "height": 141
        },
        "id": "XXiocSIfUHoO",
        "outputId": "c0640861-a055-4df4-aaf5-9028338be0a2"
      },
      "source": [
        "import pandas as pd\r\n",
        "\r\n",
        "df = pd.DataFrame({\r\n",
        "    \"name\": [\"Kamil\", \"John\", \"Alfred\"],\r\n",
        "    \"age\": [21, 42, 18],\r\n",
        "    \"is_married\": [True, False, True],\r\n",
        "    \"website\": [\"kamil-dash.pl\", \"john-django.com\", 'alfred-spring.pl']\r\n",
        "})\r\n",
        "\r\n",
        "df"
      ],
      "execution_count": 4,
      "outputs": [
        {
          "output_type": "execute_result",
          "data": {
            "text/html": [
              "<div>\n",
              "<style scoped>\n",
              "    .dataframe tbody tr th:only-of-type {\n",
              "        vertical-align: middle;\n",
              "    }\n",
              "\n",
              "    .dataframe tbody tr th {\n",
              "        vertical-align: top;\n",
              "    }\n",
              "\n",
              "    .dataframe thead th {\n",
              "        text-align: right;\n",
              "    }\n",
              "</style>\n",
              "<table border=\"1\" class=\"dataframe\">\n",
              "  <thead>\n",
              "    <tr style=\"text-align: right;\">\n",
              "      <th></th>\n",
              "      <th>name</th>\n",
              "      <th>age</th>\n",
              "      <th>is_married</th>\n",
              "      <th>website</th>\n",
              "    </tr>\n",
              "  </thead>\n",
              "  <tbody>\n",
              "    <tr>\n",
              "      <th>0</th>\n",
              "      <td>Kamil</td>\n",
              "      <td>21</td>\n",
              "      <td>True</td>\n",
              "      <td>kamil-dash.pl</td>\n",
              "    </tr>\n",
              "    <tr>\n",
              "      <th>1</th>\n",
              "      <td>John</td>\n",
              "      <td>42</td>\n",
              "      <td>False</td>\n",
              "      <td>john-django.com</td>\n",
              "    </tr>\n",
              "    <tr>\n",
              "      <th>2</th>\n",
              "      <td>Alfred</td>\n",
              "      <td>18</td>\n",
              "      <td>True</td>\n",
              "      <td>alfred-spring.pl</td>\n",
              "    </tr>\n",
              "  </tbody>\n",
              "</table>\n",
              "</div>"
            ],
            "text/plain": [
              "     name  age  is_married           website\n",
              "0   Kamil   21        True     kamil-dash.pl\n",
              "1    John   42       False   john-django.com\n",
              "2  Alfred   18        True  alfred-spring.pl"
            ]
          },
          "metadata": {
            "tags": []
          },
          "execution_count": 4
        }
      ]
    },
    {
      "cell_type": "code",
      "metadata": {
        "colab": {
          "base_uri": "https://localhost:8080/",
          "height": 141
        },
        "id": "U4Hmmf3IU0Ec",
        "outputId": "ee469cd4-61f6-422b-ca98-2d944fced087"
      },
      "source": [
        "# dodaje 5 do kolumny age\r\n",
        "df[\"age_5_years_later\"] = df[\"age\"].apply(lambda x: x + 5)\r\n",
        "df"
      ],
      "execution_count": 5,
      "outputs": [
        {
          "output_type": "execute_result",
          "data": {
            "text/html": [
              "<div>\n",
              "<style scoped>\n",
              "    .dataframe tbody tr th:only-of-type {\n",
              "        vertical-align: middle;\n",
              "    }\n",
              "\n",
              "    .dataframe tbody tr th {\n",
              "        vertical-align: top;\n",
              "    }\n",
              "\n",
              "    .dataframe thead th {\n",
              "        text-align: right;\n",
              "    }\n",
              "</style>\n",
              "<table border=\"1\" class=\"dataframe\">\n",
              "  <thead>\n",
              "    <tr style=\"text-align: right;\">\n",
              "      <th></th>\n",
              "      <th>name</th>\n",
              "      <th>age</th>\n",
              "      <th>is_married</th>\n",
              "      <th>website</th>\n",
              "      <th>age_5_years_later</th>\n",
              "    </tr>\n",
              "  </thead>\n",
              "  <tbody>\n",
              "    <tr>\n",
              "      <th>0</th>\n",
              "      <td>Kamil</td>\n",
              "      <td>21</td>\n",
              "      <td>True</td>\n",
              "      <td>kamil-dash.pl</td>\n",
              "      <td>26</td>\n",
              "    </tr>\n",
              "    <tr>\n",
              "      <th>1</th>\n",
              "      <td>John</td>\n",
              "      <td>42</td>\n",
              "      <td>False</td>\n",
              "      <td>john-django.com</td>\n",
              "      <td>47</td>\n",
              "    </tr>\n",
              "    <tr>\n",
              "      <th>2</th>\n",
              "      <td>Alfred</td>\n",
              "      <td>18</td>\n",
              "      <td>True</td>\n",
              "      <td>alfred-spring.pl</td>\n",
              "      <td>23</td>\n",
              "    </tr>\n",
              "  </tbody>\n",
              "</table>\n",
              "</div>"
            ],
            "text/plain": [
              "     name  age  is_married           website  age_5_years_later\n",
              "0   Kamil   21        True     kamil-dash.pl                 26\n",
              "1    John   42       False   john-django.com                 47\n",
              "2  Alfred   18        True  alfred-spring.pl                 23"
            ]
          },
          "metadata": {
            "tags": []
          },
          "execution_count": 5
        }
      ]
    },
    {
      "cell_type": "code",
      "metadata": {
        "colab": {
          "base_uri": "https://localhost:8080/",
          "height": 141
        },
        "id": "0pF8XnKoWTBU",
        "outputId": "8e09ee93-fce2-46e8-ef12-0d2b8b4221e4"
      },
      "source": [
        "# Jeśli żonaty to w nowej kolumnie 'years_in_marriage' wpisuje jego wiek pomniejszony o 10.\r\n",
        "# Jeśli singiel, to wyświetli się NaN.\r\n",
        "df[\"years_in_marriage\"] = df[\"age\"][df[\"is_married\"]==True].apply(lambda x: x - 10)\r\n",
        "# wpisanie 0 używając apply dla tych co mają False powodowało wświetlenie NaN dla pozostałych\r\n",
        "# df[\"years_in_marriage\"] = df[\"age\"][df[\"is_married\"]==False].apply(lambda x: 0)\r\n",
        "# Zamieniam NaN na 0\r\n",
        "df = df.fillna(value={\"years_in_marriage\": 0})\r\n",
        "df"
      ],
      "execution_count": 6,
      "outputs": [
        {
          "output_type": "execute_result",
          "data": {
            "text/html": [
              "<div>\n",
              "<style scoped>\n",
              "    .dataframe tbody tr th:only-of-type {\n",
              "        vertical-align: middle;\n",
              "    }\n",
              "\n",
              "    .dataframe tbody tr th {\n",
              "        vertical-align: top;\n",
              "    }\n",
              "\n",
              "    .dataframe thead th {\n",
              "        text-align: right;\n",
              "    }\n",
              "</style>\n",
              "<table border=\"1\" class=\"dataframe\">\n",
              "  <thead>\n",
              "    <tr style=\"text-align: right;\">\n",
              "      <th></th>\n",
              "      <th>name</th>\n",
              "      <th>age</th>\n",
              "      <th>is_married</th>\n",
              "      <th>website</th>\n",
              "      <th>age_5_years_later</th>\n",
              "      <th>years_in_marriage</th>\n",
              "    </tr>\n",
              "  </thead>\n",
              "  <tbody>\n",
              "    <tr>\n",
              "      <th>0</th>\n",
              "      <td>Kamil</td>\n",
              "      <td>21</td>\n",
              "      <td>True</td>\n",
              "      <td>kamil-dash.pl</td>\n",
              "      <td>26</td>\n",
              "      <td>11.0</td>\n",
              "    </tr>\n",
              "    <tr>\n",
              "      <th>1</th>\n",
              "      <td>John</td>\n",
              "      <td>42</td>\n",
              "      <td>False</td>\n",
              "      <td>john-django.com</td>\n",
              "      <td>47</td>\n",
              "      <td>0.0</td>\n",
              "    </tr>\n",
              "    <tr>\n",
              "      <th>2</th>\n",
              "      <td>Alfred</td>\n",
              "      <td>18</td>\n",
              "      <td>True</td>\n",
              "      <td>alfred-spring.pl</td>\n",
              "      <td>23</td>\n",
              "      <td>8.0</td>\n",
              "    </tr>\n",
              "  </tbody>\n",
              "</table>\n",
              "</div>"
            ],
            "text/plain": [
              "     name  age  ...  age_5_years_later years_in_marriage\n",
              "0   Kamil   21  ...                 26              11.0\n",
              "1    John   42  ...                 47               0.0\n",
              "2  Alfred   18  ...                 23               8.0\n",
              "\n",
              "[3 rows x 6 columns]"
            ]
          },
          "metadata": {
            "tags": []
          },
          "execution_count": 6
        }
      ]
    },
    {
      "cell_type": "code",
      "metadata": {
        "colab": {
          "base_uri": "https://localhost:8080/",
          "height": 141
        },
        "id": "cmccAzXDVWYI",
        "outputId": "d9e2188a-a85c-41ed-86b9-340ae8625c3b"
      },
      "source": [
        "# rozdziela adres strony od domeny\r\n",
        "new_df = df[\"website\"].str.split(\".\", expand=True)\r\n",
        "df[\"adres\"] = new_df[0]\r\n",
        "df[\"domena\"] = new_df[1]\r\n",
        "df"
      ],
      "execution_count": 7,
      "outputs": [
        {
          "output_type": "execute_result",
          "data": {
            "text/html": [
              "<div>\n",
              "<style scoped>\n",
              "    .dataframe tbody tr th:only-of-type {\n",
              "        vertical-align: middle;\n",
              "    }\n",
              "\n",
              "    .dataframe tbody tr th {\n",
              "        vertical-align: top;\n",
              "    }\n",
              "\n",
              "    .dataframe thead th {\n",
              "        text-align: right;\n",
              "    }\n",
              "</style>\n",
              "<table border=\"1\" class=\"dataframe\">\n",
              "  <thead>\n",
              "    <tr style=\"text-align: right;\">\n",
              "      <th></th>\n",
              "      <th>name</th>\n",
              "      <th>age</th>\n",
              "      <th>is_married</th>\n",
              "      <th>website</th>\n",
              "      <th>age_5_years_later</th>\n",
              "      <th>years_in_marriage</th>\n",
              "      <th>adres</th>\n",
              "      <th>domena</th>\n",
              "    </tr>\n",
              "  </thead>\n",
              "  <tbody>\n",
              "    <tr>\n",
              "      <th>0</th>\n",
              "      <td>Kamil</td>\n",
              "      <td>21</td>\n",
              "      <td>True</td>\n",
              "      <td>kamil-dash.pl</td>\n",
              "      <td>26</td>\n",
              "      <td>11.0</td>\n",
              "      <td>kamil-dash</td>\n",
              "      <td>pl</td>\n",
              "    </tr>\n",
              "    <tr>\n",
              "      <th>1</th>\n",
              "      <td>John</td>\n",
              "      <td>42</td>\n",
              "      <td>False</td>\n",
              "      <td>john-django.com</td>\n",
              "      <td>47</td>\n",
              "      <td>0.0</td>\n",
              "      <td>john-django</td>\n",
              "      <td>com</td>\n",
              "    </tr>\n",
              "    <tr>\n",
              "      <th>2</th>\n",
              "      <td>Alfred</td>\n",
              "      <td>18</td>\n",
              "      <td>True</td>\n",
              "      <td>alfred-spring.pl</td>\n",
              "      <td>23</td>\n",
              "      <td>8.0</td>\n",
              "      <td>alfred-spring</td>\n",
              "      <td>pl</td>\n",
              "    </tr>\n",
              "  </tbody>\n",
              "</table>\n",
              "</div>"
            ],
            "text/plain": [
              "     name  age  is_married  ... years_in_marriage          adres  domena\n",
              "0   Kamil   21        True  ...              11.0     kamil-dash      pl\n",
              "1    John   42       False  ...               0.0    john-django     com\n",
              "2  Alfred   18        True  ...               8.0  alfred-spring      pl\n",
              "\n",
              "[3 rows x 8 columns]"
            ]
          },
          "metadata": {
            "tags": []
          },
          "execution_count": 7
        }
      ]
    }
  ]
}