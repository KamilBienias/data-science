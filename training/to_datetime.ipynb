{
  "nbformat": 4,
  "nbformat_minor": 0,
  "metadata": {
    "colab": {
      "name": "to_datetime.ipynb",
      "provenance": [],
      "collapsed_sections": [],
      "authorship_tag": "ABX9TyNotjWJ7NaG1nyK9wyL57IV",
      "include_colab_link": true
    },
    "kernelspec": {
      "name": "python3",
      "display_name": "Python 3"
    }
  },
  "cells": [
    {
      "cell_type": "markdown",
      "metadata": {
        "id": "view-in-github",
        "colab_type": "text"
      },
      "source": [
        "<a href=\"https://colab.research.google.com/github/KamilBienias/data-science/blob/main/training/to_datetime.ipynb\" target=\"_parent\"><img src=\"https://colab.research.google.com/assets/colab-badge.svg\" alt=\"Open In Colab\"/></a>"
      ]
    },
    {
      "cell_type": "markdown",
      "metadata": {
        "id": "pMS1ssHMRDrp"
      },
      "source": [
        "# **to_datetime**"
      ]
    },
    {
      "cell_type": "code",
      "metadata": {
        "colab": {
          "base_uri": "https://localhost:8080/"
        },
        "id": "7l-L4FSqMIY2",
        "outputId": "43fe369a-d8ed-4448-8bcc-5a81bf1e01e6"
      },
      "source": [
        "print(\"now to dzisiejsza data i czas\")\r\n",
        "now = pd.to_datetime(\"now\")\r\n",
        "print(now)\r\n",
        "print(type(now))\r\n",
        "\r\n",
        "print()\r\n",
        "print(\"Tak samo jak now działa today\")\r\n",
        "today = pd.to_datetime(\"today\")\r\n",
        "print(today)\r\n",
        "print(type(today))\r\n",
        "\r\n",
        "print()\r\n",
        "print(\"Bieżący rok\")\r\n",
        "now = pd.to_datetime(\"now\")\r\n",
        "print(now.year)\r\n",
        "\r\n",
        "print()\r\n",
        "print(\"Bieżący miesiąc\")\r\n",
        "now = pd.to_datetime(\"now\")\r\n",
        "print(now.month)\r\n",
        "\r\n",
        "print()\r\n",
        "print(\"Bieżący dzień\")\r\n",
        "now = pd.to_datetime(\"now\")\r\n",
        "print(now.day)\r\n",
        "\r\n",
        "print()\r\n",
        "print(\"Bieżąca godzina\")\r\n",
        "print(now.hour)\r\n",
        "\r\n",
        "print()\r\n",
        "print(\"Bieżąca minuta\")\r\n",
        "print(now.minute)"
      ],
      "execution_count": 16,
      "outputs": [
        {
          "output_type": "stream",
          "text": [
            "now to dzisiejsza data i czas\n",
            "2021-03-16 08:58:08.975261\n",
            "<class 'pandas._libs.tslibs.timestamps.Timestamp'>\n",
            "\n",
            "Tak samo jak now działa today\n",
            "2021-03-16 08:58:08.976249\n",
            "<class 'pandas._libs.tslibs.timestamps.Timestamp'>\n",
            "\n",
            "Bieżący rok\n",
            "2021\n",
            "\n",
            "Bieżący miesiąc\n",
            "3\n",
            "\n",
            "Bieżący dzień\n",
            "16\n",
            "\n",
            "Bieżąca godzina\n",
            "8\n",
            "\n",
            "Bieżąca minuta\n",
            "58\n"
          ],
          "name": "stdout"
        }
      ]
    },
    {
      "cell_type": "code",
      "metadata": {
        "colab": {
          "base_uri": "https://localhost:8080/"
        },
        "id": "wFuDMyXHNy-W",
        "outputId": "08415cdf-62be-4b4e-e547-dd8e9b6e1219"
      },
      "source": [
        "df = pd.DataFrame({'year': [2015, 2016],\r\n",
        "                   'month': [2, 3],\r\n",
        "                   'day': [4, 5]})\r\n",
        "pd.to_datetime(df)"
      ],
      "execution_count": 9,
      "outputs": [
        {
          "output_type": "execute_result",
          "data": {
            "text/plain": [
              "0   2015-02-04\n",
              "1   2016-03-05\n",
              "dtype: datetime64[ns]"
            ]
          },
          "metadata": {
            "tags": []
          },
          "execution_count": 9
        }
      ]
    },
    {
      "cell_type": "markdown",
      "metadata": {
        "id": "jWH5pxkpRI8h"
      },
      "source": [
        "# **datetime (zdeprecjonowana)**"
      ]
    },
    {
      "cell_type": "code",
      "metadata": {
        "id": "JMGVaoSHN00F"
      },
      "source": [
        "import pandas as pd\r\n",
        "\r\n",
        "# zdeprecjonowana klasa pandas.datetime\r\n",
        "df = pd.DataFrame({\r\n",
        "    \"data_godzina\": [pd.datetime.now()],\r\n",
        "    \"data\": [pd.datetime.now().date()],\r\n",
        "    \"rok\": [pd.datetime.now().year],\r\n",
        "    \"miesiac\": [pd.datetime.now().month],\r\n",
        "    \"dzien\": [pd.datetime.now().day],\r\n",
        "    \"godzina\": [pd.datetime.now().hour],\r\n",
        "    \"minuta\": [pd.datetime.now().minute],\r\n",
        "})\r\n",
        "\r\n",
        "df"
      ],
      "execution_count": null,
      "outputs": []
    },
    {
      "cell_type": "code",
      "metadata": {
        "colab": {
          "base_uri": "https://localhost:8080/",
          "height": 79
        },
        "id": "V1RaxEMqR1nW",
        "outputId": "47ec5c1a-1b0f-41fc-dec8-20fd0aa07e9e"
      },
      "source": [
        "# dodam 2 dni do kolumny \"dzien\"\r\n",
        "df[\"dzien\"] = df[\"dzien\"] + 2\r\n",
        "df"
      ],
      "execution_count": 20,
      "outputs": [
        {
          "output_type": "execute_result",
          "data": {
            "text/html": [
              "<div>\n",
              "<style scoped>\n",
              "    .dataframe tbody tr th:only-of-type {\n",
              "        vertical-align: middle;\n",
              "    }\n",
              "\n",
              "    .dataframe tbody tr th {\n",
              "        vertical-align: top;\n",
              "    }\n",
              "\n",
              "    .dataframe thead th {\n",
              "        text-align: right;\n",
              "    }\n",
              "</style>\n",
              "<table border=\"1\" class=\"dataframe\">\n",
              "  <thead>\n",
              "    <tr style=\"text-align: right;\">\n",
              "      <th></th>\n",
              "      <th>data_godzina</th>\n",
              "      <th>data</th>\n",
              "      <th>rok</th>\n",
              "      <th>miesiac</th>\n",
              "      <th>dzien</th>\n",
              "      <th>godzina</th>\n",
              "      <th>minuta</th>\n",
              "    </tr>\n",
              "  </thead>\n",
              "  <tbody>\n",
              "    <tr>\n",
              "      <th>0</th>\n",
              "      <td>2021-03-16 09:00:21.109581</td>\n",
              "      <td>2021-03-16</td>\n",
              "      <td>2021</td>\n",
              "      <td>3</td>\n",
              "      <td>18</td>\n",
              "      <td>9</td>\n",
              "      <td>0</td>\n",
              "    </tr>\n",
              "  </tbody>\n",
              "</table>\n",
              "</div>"
            ],
            "text/plain": [
              "                data_godzina        data   rok  miesiac  dzien  godzina  minuta\n",
              "0 2021-03-16 09:00:21.109581  2021-03-16  2021        3     18        9       0"
            ]
          },
          "metadata": {
            "tags": []
          },
          "execution_count": 20
        }
      ]
    }
  ]
}