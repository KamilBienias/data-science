{
  "nbformat": 4,
  "nbformat_minor": 0,
  "metadata": {
    "colab": {
      "name": "to_datetime.ipynb",
      "provenance": [],
      "collapsed_sections": [],
      "authorship_tag": "ABX9TyNuFg6gDiwuNtb3m/xqQwQp",
      "include_colab_link": true
    },
    "kernelspec": {
      "name": "python3",
      "display_name": "Python 3"
    }
  },
  "cells": [
    {
      "cell_type": "markdown",
      "metadata": {
        "id": "view-in-github",
        "colab_type": "text"
      },
      "source": [
        "<a href=\"https://colab.research.google.com/github/KamilBienias/data-science/blob/main/training/to_datetime.ipynb\" target=\"_parent\"><img src=\"https://colab.research.google.com/assets/colab-badge.svg\" alt=\"Open In Colab\"/></a>"
      ]
    },
    {
      "cell_type": "markdown",
      "metadata": {
        "id": "pMS1ssHMRDrp"
      },
      "source": [
        "# **to_datetime i strftime**"
      ]
    },
    {
      "cell_type": "code",
      "metadata": {
        "colab": {
          "base_uri": "https://localhost:8080/"
        },
        "id": "7l-L4FSqMIY2",
        "outputId": "a6c41d21-efd4-47f1-f393-f32cbb7d09ab"
      },
      "source": [
        "import pandas as pd\n",
        "\n",
        "# stąd strftime\n",
        "# https://www.programiz.com/python-programming/datetime/strftime\n",
        "\n",
        "# tak samo jak now działa today\n",
        "# cała data z czasem jako Timestamp\n",
        "print(\"now to dzisiejsza data i czas\")\n",
        "now = pd.to_datetime(\"now\")\n",
        "print(now)\n",
        "print(type(now))\n",
        "# cała data i czas jako string (zmieniłem format wyświetlania)\n",
        "now_as_string = now.strftime(\"moja data %Y / %m / %d, moja godzina %H : %M : %S\")\n",
        "print(\"now_as_string:\", now_as_string)\n",
        "print(type(now_as_string))\n",
        "\n",
        "print()\n",
        "# rok jako int\n",
        "print(\"Bieżący rok\")\n",
        "now = pd.to_datetime(\"now\")\n",
        "print(now.year)\n",
        "print(type(now.year))\n",
        "# rok jako string (pierwszy sposób zamianiy, bo drugi pod spodem)\n",
        "year_as_string = str(now.year)\n",
        "print(\"year_as_string:\", year_as_string)\n",
        "print(type(year_as_string))\n",
        "\n",
        "print()\n",
        "# miesiąc jako int\n",
        "print(\"Bieżący miesiąc\")\n",
        "now = pd.to_datetime(\"now\")\n",
        "print(now.month)\n",
        "print(type(now.month))\n",
        "# miesiąc jako string\n",
        "month_as_string = now.strftime(\"%m\")\n",
        "print(\"month_as_string:\", month_as_string)\n",
        "print(type(year_as_string))\n",
        "\n",
        "print()\n",
        "# dzień jako int\n",
        "print(\"Bieżący dzień\")\n",
        "now = pd.to_datetime(\"now\")\n",
        "print(now.day)\n",
        "print(type(now.day))\n",
        "# dzień jako string\n",
        "day_as_string = now.strftime(\"%d\")\n",
        "print(\"day_as_string:\", day_as_string)\n",
        "print(type(day_as_string))\n",
        "\n",
        "print()\n",
        "# godzina jako int\n",
        "print(\"Bieżąca godzina\")\n",
        "print(now.hour)\n",
        "print(type(now.hour))\n",
        "\n",
        "print()\n",
        "print(\"Bieżąca minuta\")\n",
        "print(now.minute)\n",
        "print(type(now.year))"
      ],
      "execution_count": null,
      "outputs": [
        {
          "output_type": "stream",
          "text": [
            "now to dzisiejsza data i czas\n",
            "2021-03-16 14:43:17.620989\n",
            "<class 'pandas._libs.tslibs.timestamps.Timestamp'>\n",
            "now_as_string: moja data 2021 / 03 / 16, moja godzina 14 : 43 : 17\n",
            "<class 'str'>\n",
            "\n",
            "Bieżący rok\n",
            "2021\n",
            "<class 'int'>\n",
            "year_as_string: 2021\n",
            "<class 'str'>\n",
            "\n",
            "Bieżący miesiąc\n",
            "3\n",
            "<class 'int'>\n",
            "month_as_string: 03\n",
            "<class 'str'>\n",
            "\n",
            "Bieżący dzień\n",
            "16\n",
            "<class 'int'>\n",
            "day_as_string: 16\n",
            "<class 'str'>\n",
            "\n",
            "Bieżąca godzina\n",
            "14\n",
            "<class 'int'>\n",
            "\n",
            "Bieżąca minuta\n",
            "43\n",
            "<class 'int'>\n"
          ],
          "name": "stdout"
        }
      ]
    },
    {
      "cell_type": "code",
      "metadata": {
        "colab": {
          "base_uri": "https://localhost:8080/"
        },
        "id": "wFuDMyXHNy-W",
        "outputId": "c5ee3c10-fb2b-46cf-deae-9c3c9fd12d41"
      },
      "source": [
        "df = pd.DataFrame({'year': [2015, 2016],\n",
        "                   'month': [2, 3],\n",
        "                   'day': [4, 5]})\n",
        "pd.to_datetime(df)"
      ],
      "execution_count": null,
      "outputs": [
        {
          "output_type": "execute_result",
          "data": {
            "text/plain": [
              "0   2015-02-04\n",
              "1   2016-03-05\n",
              "dtype: datetime64[ns]"
            ]
          },
          "metadata": {
            "tags": []
          },
          "execution_count": 32
        }
      ]
    },
    {
      "cell_type": "markdown",
      "metadata": {
        "id": "jWH5pxkpRI8h"
      },
      "source": [
        "# **datetime (zdeprecjonowana)**"
      ]
    },
    {
      "cell_type": "code",
      "metadata": {
        "colab": {
          "base_uri": "https://localhost:8080/",
          "height": 346
        },
        "id": "JMGVaoSHN00F",
        "outputId": "4d0e84fc-d86a-4b87-aea5-601c9db87d35"
      },
      "source": [
        "# zdeprecjonowana klasa pandas.datetime\n",
        "df = pd.DataFrame({\n",
        "    \"data_godzina\": [pd.datetime.now()],\n",
        "    \"data\": [pd.datetime.now().date()],\n",
        "    \"rok\": [pd.datetime.now().year],\n",
        "    \"miesiac\": [pd.datetime.now().month],\n",
        "    \"dzien\": [pd.datetime.now().day],\n",
        "    \"godzina\": [pd.datetime.now().hour],\n",
        "    \"minuta\": [pd.datetime.now().minute],\n",
        "})\n",
        "\n",
        "df"
      ],
      "execution_count": null,
      "outputs": [
        {
          "output_type": "stream",
          "text": [
            "/usr/local/lib/python3.7/dist-packages/ipykernel_launcher.py:3: FutureWarning: The pandas.datetime class is deprecated and will be removed from pandas in a future version. Import from datetime module instead.\n",
            "  This is separate from the ipykernel package so we can avoid doing imports until\n",
            "/usr/local/lib/python3.7/dist-packages/ipykernel_launcher.py:4: FutureWarning: The pandas.datetime class is deprecated and will be removed from pandas in a future version. Import from datetime module instead.\n",
            "  after removing the cwd from sys.path.\n",
            "/usr/local/lib/python3.7/dist-packages/ipykernel_launcher.py:5: FutureWarning: The pandas.datetime class is deprecated and will be removed from pandas in a future version. Import from datetime module instead.\n",
            "  \"\"\"\n",
            "/usr/local/lib/python3.7/dist-packages/ipykernel_launcher.py:6: FutureWarning: The pandas.datetime class is deprecated and will be removed from pandas in a future version. Import from datetime module instead.\n",
            "  \n",
            "/usr/local/lib/python3.7/dist-packages/ipykernel_launcher.py:7: FutureWarning: The pandas.datetime class is deprecated and will be removed from pandas in a future version. Import from datetime module instead.\n",
            "  import sys\n",
            "/usr/local/lib/python3.7/dist-packages/ipykernel_launcher.py:8: FutureWarning: The pandas.datetime class is deprecated and will be removed from pandas in a future version. Import from datetime module instead.\n",
            "  \n",
            "/usr/local/lib/python3.7/dist-packages/ipykernel_launcher.py:9: FutureWarning: The pandas.datetime class is deprecated and will be removed from pandas in a future version. Import from datetime module instead.\n",
            "  if __name__ == '__main__':\n"
          ],
          "name": "stderr"
        },
        {
          "output_type": "execute_result",
          "data": {
            "text/html": [
              "<div>\n",
              "<style scoped>\n",
              "    .dataframe tbody tr th:only-of-type {\n",
              "        vertical-align: middle;\n",
              "    }\n",
              "\n",
              "    .dataframe tbody tr th {\n",
              "        vertical-align: top;\n",
              "    }\n",
              "\n",
              "    .dataframe thead th {\n",
              "        text-align: right;\n",
              "    }\n",
              "</style>\n",
              "<table border=\"1\" class=\"dataframe\">\n",
              "  <thead>\n",
              "    <tr style=\"text-align: right;\">\n",
              "      <th></th>\n",
              "      <th>data_godzina</th>\n",
              "      <th>data</th>\n",
              "      <th>rok</th>\n",
              "      <th>miesiac</th>\n",
              "      <th>dzien</th>\n",
              "      <th>godzina</th>\n",
              "      <th>minuta</th>\n",
              "    </tr>\n",
              "  </thead>\n",
              "  <tbody>\n",
              "    <tr>\n",
              "      <th>0</th>\n",
              "      <td>2021-03-16 14:43:17.817982</td>\n",
              "      <td>2021-03-16</td>\n",
              "      <td>2021</td>\n",
              "      <td>3</td>\n",
              "      <td>16</td>\n",
              "      <td>14</td>\n",
              "      <td>43</td>\n",
              "    </tr>\n",
              "  </tbody>\n",
              "</table>\n",
              "</div>"
            ],
            "text/plain": [
              "                data_godzina        data   rok  miesiac  dzien  godzina  minuta\n",
              "0 2021-03-16 14:43:17.817982  2021-03-16  2021        3     16       14      43"
            ]
          },
          "metadata": {
            "tags": []
          },
          "execution_count": 33
        }
      ]
    },
    {
      "cell_type": "code",
      "metadata": {
        "colab": {
          "base_uri": "https://localhost:8080/",
          "height": 79
        },
        "id": "V1RaxEMqR1nW",
        "outputId": "f4dfd7d8-7412-4128-e2dc-16278b47d72b"
      },
      "source": [
        "# dodam 2 dni do kolumny \"dzien\"\n",
        "df[\"dzien\"] = df[\"dzien\"] + 2\n",
        "df"
      ],
      "execution_count": null,
      "outputs": [
        {
          "output_type": "execute_result",
          "data": {
            "text/html": [
              "<div>\n",
              "<style scoped>\n",
              "    .dataframe tbody tr th:only-of-type {\n",
              "        vertical-align: middle;\n",
              "    }\n",
              "\n",
              "    .dataframe tbody tr th {\n",
              "        vertical-align: top;\n",
              "    }\n",
              "\n",
              "    .dataframe thead th {\n",
              "        text-align: right;\n",
              "    }\n",
              "</style>\n",
              "<table border=\"1\" class=\"dataframe\">\n",
              "  <thead>\n",
              "    <tr style=\"text-align: right;\">\n",
              "      <th></th>\n",
              "      <th>data_godzina</th>\n",
              "      <th>data</th>\n",
              "      <th>rok</th>\n",
              "      <th>miesiac</th>\n",
              "      <th>dzien</th>\n",
              "      <th>godzina</th>\n",
              "      <th>minuta</th>\n",
              "    </tr>\n",
              "  </thead>\n",
              "  <tbody>\n",
              "    <tr>\n",
              "      <th>0</th>\n",
              "      <td>2021-03-16 14:43:17.817982</td>\n",
              "      <td>2021-03-16</td>\n",
              "      <td>2021</td>\n",
              "      <td>3</td>\n",
              "      <td>18</td>\n",
              "      <td>14</td>\n",
              "      <td>43</td>\n",
              "    </tr>\n",
              "  </tbody>\n",
              "</table>\n",
              "</div>"
            ],
            "text/plain": [
              "                data_godzina        data   rok  miesiac  dzien  godzina  minuta\n",
              "0 2021-03-16 14:43:17.817982  2021-03-16  2021        3     18       14      43"
            ]
          },
          "metadata": {
            "tags": []
          },
          "execution_count": 34
        }
      ]
    },
    {
      "cell_type": "markdown",
      "metadata": {
        "id": "YKh1isrM1AFY"
      },
      "source": [
        "### z timestamp na datetime"
      ]
    },
    {
      "cell_type": "code",
      "metadata": {
        "colab": {
          "base_uri": "https://localhost:8080/"
        },
        "id": "BkFe07sJv__7",
        "outputId": "5678a10a-9c04-415e-a84f-14667c8acedf"
      },
      "source": [
        "# zamiana timestamp na datę\n",
        "import datetime\n",
        "# obciąłem ostatnie 3 zera żeby nie było milisekund\n",
        "timestamp = datetime.datetime.fromtimestamp(1496275200)\n",
        "print(timestamp.strftime('%Y-%m-%d %H:%M:%S'))"
      ],
      "execution_count": 11,
      "outputs": [
        {
          "output_type": "stream",
          "text": [
            "2017-06-01 00:00:00\n"
          ],
          "name": "stdout"
        }
      ]
    },
    {
      "cell_type": "code",
      "metadata": {
        "colab": {
          "base_uri": "https://localhost:8080/"
        },
        "id": "FswZyfNgwYlx",
        "outputId": "bad249a0-261b-47a8-8325-91274b6a9f30"
      },
      "source": [
        "# inaczej zamiana timestamp na datę\n",
        "import pandas as pd\n",
        "\n",
        "# aż do milisekundy która i tak nie jest uwzględniona\n",
        "pd.Timestamp(1496275200000, unit='ms')"
      ],
      "execution_count": 12,
      "outputs": [
        {
          "output_type": "execute_result",
          "data": {
            "text/plain": [
              "Timestamp('2017-06-01 00:00:00')"
            ]
          },
          "metadata": {
            "tags": []
          },
          "execution_count": 12
        }
      ]
    },
    {
      "cell_type": "code",
      "metadata": {
        "colab": {
          "base_uri": "https://localhost:8080/"
        },
        "id": "IfYoRQDlzO_4",
        "outputId": "8b00554e-f508-438d-ddaf-c3cc22156227"
      },
      "source": [
        "# zamienia timestamp na datę\n",
        "from datetime import datetime\n",
        "\n",
        "timestamp = 1496275200\n",
        "dt_object = datetime.fromtimestamp(timestamp)\n",
        "\n",
        "print(\"dt_object =\", dt_object)\n",
        "print(\"type(dt_object) =\", type(dt_object))"
      ],
      "execution_count": 15,
      "outputs": [
        {
          "output_type": "stream",
          "text": [
            "dt_object = 2017-06-01 00:00:00\n",
            "type(dt_object) = <class 'datetime.datetime'>\n"
          ],
          "name": "stdout"
        }
      ]
    },
    {
      "cell_type": "markdown",
      "metadata": {
        "id": "J7XeLXAV1FTv"
      },
      "source": [
        "### z datetime na timestamp"
      ]
    },
    {
      "cell_type": "code",
      "metadata": {
        "colab": {
          "base_uri": "https://localhost:8080/"
        },
        "id": "CXIFB2DI1ISf",
        "outputId": "2e1d55e8-6df7-4e16-c27a-87abbbe091dd"
      },
      "source": [
        "from datetime import datetime\n",
        "\n",
        "# current date and time\n",
        "now = datetime.now()\n",
        "\n",
        "timestamp = datetime.timestamp(now)\n",
        "print(\"timestamp teraz=\", timestamp)\n",
        "\n",
        "# date_string = \"2017-06-01 00:03:52\"\n",
        "date_string = \"2017-06-01\"\n",
        "date_dt = datetime.strptime(date_string, '%Y-%m-%d')\n",
        "print(\"date_dt =\", date_dt)\n",
        "timestamp2 = datetime.timestamp(date_dt)\n",
        "# bez round dawało jedno 0 po kropce\n",
        "print(\"timestamp date_dt =\", round(timestamp2))"
      ],
      "execution_count": 31,
      "outputs": [
        {
          "output_type": "stream",
          "text": [
            "timestamp teraz= 1619284456.366748\n",
            "date_dt = 2017-06-01 00:00:00\n",
            "timestamp date_dt = 1496275200\n"
          ],
          "name": "stdout"
        }
      ]
    }
  ]
}