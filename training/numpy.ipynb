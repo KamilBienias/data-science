{
  "nbformat": 4,
  "nbformat_minor": 0,
  "metadata": {
    "colab": {
      "name": "numpy.ipynb",
      "provenance": [],
      "collapsed_sections": [],
      "authorship_tag": "ABX9TyN1D2XAh27vTQVaZJx33fux",
      "include_colab_link": true
    },
    "kernelspec": {
      "name": "python3",
      "display_name": "Python 3"
    }
  },
  "cells": [
    {
      "cell_type": "markdown",
      "metadata": {
        "id": "view-in-github",
        "colab_type": "text"
      },
      "source": [
        "<a href=\"https://colab.research.google.com/github/KamilBienias/data-science/blob/main/training/numpy.ipynb\" target=\"_parent\"><img src=\"https://colab.research.google.com/assets/colab-badge.svg\" alt=\"Open In Colab\"/></a>"
      ]
    },
    {
      "cell_type": "markdown",
      "metadata": {
        "id": "8NJubDrG0lcH"
      },
      "source": [
        "# **numpy**"
      ]
    },
    {
      "cell_type": "code",
      "metadata": {
        "id": "QXF3PNNj_DDZ"
      },
      "source": [
        "# https://zadania24h.wordpress.com/2018/10/17/python-biblioteki-numpy-pandas-matplotlib/"
      ],
      "execution_count": 30,
      "outputs": []
    },
    {
      "cell_type": "markdown",
      "metadata": {
        "id": "dqgfznfg_LR1"
      },
      "source": [
        "### 1. Wygeneruj losową tablice 100 x 10, która będzie reprezentować 100 punktów w 10 wymiarowej przestrzeni. Napisz funkcję, która policzy odległość euklidesową pomiędzy każdą parą punktów, czy potrafisz zrobić to w jednej linijce, bez użycia żadnych pętli/wytworników pętli? Przypomnienie, dla dwóch wektorów xx i yy odległość euklidesową liczymy z podanego wzoru."
      ]
    },
    {
      "cell_type": "code",
      "metadata": {
        "colab": {
          "base_uri": "https://localhost:8080/"
        },
        "id": "HYIhLzFQ_amV",
        "outputId": "d4e4bdda-79b1-42d5-fdd4-001d421a1b07"
      },
      "source": [
        "import numpy as np\r\n",
        "\r\n",
        "# tablica o wartościach całkowitych od 0 do 4\r\n",
        "table = np.random.randint(5, size=(100, 10))\r\n",
        "print(\"table[:3] =\")\r\n",
        "print(table[:3])\r\n",
        "list_of_distances = []\r\n",
        "for i in range(len(table)):\r\n",
        "    for j in range(len(table)):\r\n",
        "        if j > i:\r\n",
        "            distance = np.linalg.norm(table[j] - table[i])\r\n",
        "            list_of_distances.append((i, j, distance))\r\n",
        "\r\n",
        "print(\"list_of_distances[:5] =\")\r\n",
        "print(list_of_distances[:5])\r\n",
        "print\r\n",
        "print(\"Tyle jest obliczonych odległości\")\r\n",
        "print(len(list_of_distances))\r\n",
        "print(\"Tyle jest obliczonych odległości (na piechotę)\")\r\n",
        "print(100*99/2)"
      ],
      "execution_count": 31,
      "outputs": [
        {
          "output_type": "stream",
          "text": [
            "table[:3] =\n",
            "[[2 2 2 4 3 4 3 0 0 0]\n",
            " [2 1 2 4 3 0 0 0 2 4]\n",
            " [1 2 3 0 0 2 1 2 1 2]]\n",
            "list_of_distances[:5] =\n",
            "[(0, 1, 6.782329983125268), (0, 2, 6.6332495807108), (0, 3, 6.244997998398398), (0, 4, 7.810249675906654), (0, 5, 6.244997998398398)]\n",
            "Tyle jest obliczonych odległości\n",
            "4950\n",
            "Tyle jest obliczonych odległości (na piechotę)\n",
            "4950.0\n"
          ],
          "name": "stdout"
        }
      ]
    },
    {
      "cell_type": "markdown",
      "metadata": {
        "id": "Ye_CzJzmIvVM"
      },
      "source": [
        "### 2. Wypełnij 100-elementową tablicę liczbami losowymi naturalnymi z zakresu [5,15] i policz liczbę wystąpień tych liczb. Która z tych liczb najczęściej występuje w tak wygenerowanej tablicy? Wskazówka: zobacz funkcje: bincount, argmax."
      ]
    },
    {
      "cell_type": "code",
      "metadata": {
        "colab": {
          "base_uri": "https://localhost:8080/"
        },
        "id": "crko1BQZI-Gi",
        "outputId": "3145958a-1c34-4749-d906-f10be0b0102a"
      },
      "source": [
        "import numpy as np\r\n",
        "\r\n",
        "# pierwszy argiment do min (zawarty), drugi to max (bez niego), trzeci to długość listy.\r\n",
        "# Jeśli size=(m, n) to tworzy listę m elementową, której każdy element jest listą n elementową\r\n",
        "table2 = np.random.randint(5, 16, size=100)\r\n",
        "print(table2)\r\n",
        "\r\n",
        "print()\r\n",
        "bin = np.bincount(table2)\r\n",
        "print(\"bin =\")\r\n",
        "print(bin)\r\n",
        "print(\"Oznacza:\")\r\n",
        "for i in range(len(bin)):\r\n",
        "    print(\"Liczba\", i, \"występuje tyle razy:\", bin[i])\r\n",
        "\r\n",
        "print()\r\n",
        "print(\"Liczba\", np.argmax(bin), \"powtarza się najczęściej, czyli\", bin[np.argmax(bin)], \"razy.\")"
      ],
      "execution_count": 41,
      "outputs": [
        {
          "output_type": "stream",
          "text": [
            "[15 10 11 14 11  6  7  6  7  8  8 13 10  6 14  8 11 13  8  8 14  9 11  5\n",
            " 11 15 14 14  6  5 12  8  6 10 10  5  6  5  7  6 13 14 10 13  8 13  5 11\n",
            " 14 12 11 12  5  9  6  7  5  9 11  8  5 15  8  6 13  9 13  9 12  6 11  9\n",
            " 11 11 11 10 10  7  7  8  6  8 15  7  7  6 14 15 10 14 15 13 12 10 15 15\n",
            "  9 12  5  5]\n",
            "\n",
            "bin =\n",
            "[ 0  0  0  0  0 10 12  8 11  7  9 12  6  8  9  8]\n",
            "Oznacza:\n",
            "Liczba 0 występuje tyle razy: 0\n",
            "Liczba 1 występuje tyle razy: 0\n",
            "Liczba 2 występuje tyle razy: 0\n",
            "Liczba 3 występuje tyle razy: 0\n",
            "Liczba 4 występuje tyle razy: 0\n",
            "Liczba 5 występuje tyle razy: 10\n",
            "Liczba 6 występuje tyle razy: 12\n",
            "Liczba 7 występuje tyle razy: 8\n",
            "Liczba 8 występuje tyle razy: 11\n",
            "Liczba 9 występuje tyle razy: 7\n",
            "Liczba 10 występuje tyle razy: 9\n",
            "Liczba 11 występuje tyle razy: 12\n",
            "Liczba 12 występuje tyle razy: 6\n",
            "Liczba 13 występuje tyle razy: 8\n",
            "Liczba 14 występuje tyle razy: 9\n",
            "Liczba 15 występuje tyle razy: 8\n",
            "\n",
            "Liczba 6 powtarza się najczęściej, czyli 12 razy.\n"
          ],
          "name": "stdout"
        }
      ]
    },
    {
      "cell_type": "code",
      "metadata": {
        "id": "Ky05zgwWazUN"
      },
      "source": [
        "# https://brain.fuw.edu.pl/edu/index.php/PPy3/NumPy"
      ],
      "execution_count": null,
      "outputs": []
    },
    {
      "cell_type": "markdown",
      "metadata": {
        "id": "9lpuGcpha4HF"
      },
      "source": [
        "### 1. Napisz funkcję zastap_zera(A, x), która zwraca tablicę utworzoną z tablicy A (o dowolnym kształcie) poprzez zastąpienie wszystkich elementów równych zero liczbą x. Sama tablica A powinna pozostać niezmieniona."
      ]
    },
    {
      "cell_type": "code",
      "metadata": {
        "colab": {
          "base_uri": "https://localhost:8080/"
        },
        "id": "4Tg96ak6a--c",
        "outputId": "3bfb81e3-46e9-494a-f5b7-7f26d54bd7ad"
      },
      "source": [
        "import numpy as np\r\n",
        "\r\n",
        "A = np.array([[4, 0, 2], [0, -3, 9]])\r\n",
        "print(\"A =\")\r\n",
        "print(A)\r\n",
        "\r\n",
        "amount_of_elements = sum([len(listInA) for listInA in A])\r\n",
        "print()\r\n",
        "print(\"Liczba elementów tablicy A =\", amount_of_elements)\r\n",
        "\r\n",
        "def zastap_zera(A, x):\r\n",
        "    # samo B = A nie tworzy kopii, bo zmieniając elementy z B zmienią się też z A\r\n",
        "    B = np.copy(A)\r\n",
        "    # przechodzi po numerach wierzy w B, czyli 0 i 1\r\n",
        "    for row_number in range(len(B)):\r\n",
        "        # w i-tym wierszu przechodzi po numerach jego elementów, czyli 0,1,2\r\n",
        "        for column_number in range(len(B[row_number])):\r\n",
        "            if B[row_number][column_number] == 0:\r\n",
        "                B[row_number][column_number] = x\r\n",
        "    return B\r\n",
        "\r\n",
        "B = zastap_zera(A, 15)\r\n",
        "\r\n",
        "print()\r\n",
        "print(\"B =\")\r\n",
        "print(B)\r\n",
        "\r\n",
        "print()\r\n",
        "print(\"A =\")\r\n",
        "print(A)"
      ],
      "execution_count": 66,
      "outputs": [
        {
          "output_type": "stream",
          "text": [
            "A =\n",
            "[[ 4  0  2]\n",
            " [ 0 -3  9]]\n",
            "\n",
            "Liczba elementów tablicy A = 6\n",
            "\n",
            "B =\n",
            "[[ 4 15  2]\n",
            " [15 -3  9]]\n",
            "\n",
            "A =\n",
            "[[ 4  0  2]\n",
            " [ 0 -3  9]]\n"
          ],
          "name": "stdout"
        }
      ]
    },
    {
      "cell_type": "markdown",
      "metadata": {
        "id": "Xd0N6Wtpk0iC"
      },
      "source": [
        "### 2. Napisz funkcję wysrodkuj(A), która modyfikuje tablicę A (o dowolnym kształcie) w taki sposób, że od każdego jej elementu odejmuje średnią arytmetyczną wszystkich elementów A."
      ]
    },
    {
      "cell_type": "code",
      "metadata": {
        "colab": {
          "base_uri": "https://localhost:8080/"
        },
        "id": "oZiUoOeqk-P7",
        "outputId": "71a7a08f-2afe-4de0-baf9-305b5d4d9d1a"
      },
      "source": [
        "import numpy as np\r\n",
        "\r\n",
        "A = np.array([[4, 0, 2], [0, -3, 9]])\r\n",
        "print(\"A =\")\r\n",
        "print(A)\r\n",
        "\r\n",
        "print()\r\n",
        "srednia = np.mean(A)\r\n",
        "print(\"Średnia ze wszystkich elementów =\", srednia)\r\n",
        "\r\n",
        "def wysrodkuj(A):\r\n",
        "    for row_number in range(len(A)):\r\n",
        "        for column_number in range(len(A[row_number])):\r\n",
        "            A[row_number][column_number] = A[row_number][column_number] - srednia\r\n",
        "    return A\r\n",
        "\r\n",
        "print()\r\n",
        "print(\"Tablica A po odjęciu średniej od każdego jej elementu\")\r\n",
        "A = wysrodkuj(A)\r\n",
        "print(A)"
      ],
      "execution_count": 67,
      "outputs": [
        {
          "output_type": "stream",
          "text": [
            "A =\n",
            "[[ 4  0  2]\n",
            " [ 0 -3  9]]\n",
            "\n",
            "Średnia ze wszystkich elementów = 2.0\n",
            "\n",
            "Tablica A po odjęciu średniej od każdego jej elementu\n",
            "[[ 2 -2  0]\n",
            " [-2 -5  7]]\n"
          ],
          "name": "stdout"
        }
      ]
    },
    {
      "cell_type": "markdown",
      "metadata": {
        "id": "8pX7H6VdmumU"
      },
      "source": [
        "### 3. Dla tablicy kwadratowej A (dowolnego rozmiaru większego niż 1) stworzyć tablicę jednowymiarową, której k-ty element to suma elementów k-tej kolumny tablicy A leżących poniżej głównej przekątnej."
      ]
    },
    {
      "cell_type": "code",
      "metadata": {
        "colab": {
          "base_uri": "https://localhost:8080/"
        },
        "id": "FVHNDlGpm4QT",
        "outputId": "12613016-d8b4-4033-f9fb-04ecaf63f35c"
      },
      "source": [
        "import numpy as np\r\n",
        "\r\n",
        "A = np.array([[5, 1, 3, 4], [2, 3, 6, 3], [7, 9, 1, 3], [8, 2, 4, 1]])\r\n",
        "print(\"A =\")\r\n",
        "print(A)\r\n",
        "\r\n",
        "sumy_kolumn = []\r\n",
        "# przechodzi po numerach kolumn\r\n",
        "for column_number in range(len(A)):\r\n",
        "    suma_kolumny = 0\r\n",
        "    # przechodzi po numerach wierszy\r\n",
        "    for row_number in range(len(A)):\r\n",
        "        suma_kolumny = suma_kolumny + A[row_number][column_number]\r\n",
        "    sumy_kolumn.append(suma_kolumny)\r\n",
        "\r\n",
        "print()\r\n",
        "print(\"Sumy wszystkich kolumn\")\r\n",
        "print(sumy_kolumn) \r\n",
        "\r\n",
        "sumy_kolumn_pod_przekatna = []\r\n",
        "# przechodzi po numerach kolumn\r\n",
        "for column_number in range(len(A)):\r\n",
        "    suma_kolumny = 0\r\n",
        "    # przechodzi po numerach wierszy\r\n",
        "    for row_number in range(len(A)):\r\n",
        "        if row_number > column_number:\r\n",
        "            suma_kolumny = suma_kolumny + A[row_number][column_number]\r\n",
        "    sumy_kolumn_pod_przekatna.append(suma_kolumny)\r\n",
        "\r\n",
        "print()\r\n",
        "print(\"Sumy wszystkich kolumn pod przekątną\")\r\n",
        "print(sumy_kolumn_pod_przekatna) "
      ],
      "execution_count": 70,
      "outputs": [
        {
          "output_type": "stream",
          "text": [
            "A =\n",
            "[[5 1 3 4]\n",
            " [2 3 6 3]\n",
            " [7 9 1 3]\n",
            " [8 2 4 1]]\n",
            "\n",
            "Sumy wszystkich kolumn\n",
            "[22, 15, 14, 11]\n",
            "\n",
            "Sumy wszystkich kolumn pod przekątną\n",
            "[17, 11, 4, 0]\n"
          ],
          "name": "stdout"
        }
      ]
    },
    {
      "cell_type": "markdown",
      "metadata": {
        "id": "VTjYnEX9tM5M"
      },
      "source": [
        "### 4. Napisz funkcję, która w minimalnej liczbie kroków tworzy (i zwraca) kwadratową tablicę NumPy zawierającą na przemian jedynki i zera, o dowolnym - zadanym przez argument wywołania - rozmiarze, w postaci:"
      ]
    },
    {
      "cell_type": "code",
      "metadata": {
        "colab": {
          "base_uri": "https://localhost:8080/"
        },
        "id": "AYQH28e-tPDa",
        "outputId": "dff3566f-3c27-41c6-e470-52ee515aa17b"
      },
      "source": [
        "def naprzemian(size):\r\n",
        "    A = np.zeros((size, size))\r\n",
        "    # przechodzi przez numery wierszy od 0 do size-1\r\n",
        "    for row_number in range(size):\r\n",
        "        # jeśli numer wiersza jest parzysty\r\n",
        "        if row_number % 2 == 0:\r\n",
        "            # przechodzi przez numery elementów w wierszu row_number\r\n",
        "            for element_number in range(size):\r\n",
        "                # jeśli numer elementu jest parzysty\r\n",
        "                if element_number % 2 == 0:\r\n",
        "                    # to wstawia jedynkę\r\n",
        "                    A[row_number][element_number] = 1\r\n",
        "        # jeśli numer wiersza jest nieparzysty\r\n",
        "        elif row_number % 2 == 1:\r\n",
        "            # przechodzi przez numery elementów w wierszu row_number\r\n",
        "            for element_number in range(size):\r\n",
        "                # jeśli numer elementu jest nieparzysty\r\n",
        "                if element_number % 2 == 1:\r\n",
        "                    # to wstawia jedynkę\r\n",
        "                    A[row_number][element_number] = 1\r\n",
        "    return A\r\n",
        "\r\n",
        "naprzemian(8)"
      ],
      "execution_count": 76,
      "outputs": [
        {
          "output_type": "execute_result",
          "data": {
            "text/plain": [
              "array([[1., 0., 1., 0., 1., 0., 1., 0.],\n",
              "       [0., 1., 0., 1., 0., 1., 0., 1.],\n",
              "       [1., 0., 1., 0., 1., 0., 1., 0.],\n",
              "       [0., 1., 0., 1., 0., 1., 0., 1.],\n",
              "       [1., 0., 1., 0., 1., 0., 1., 0.],\n",
              "       [0., 1., 0., 1., 0., 1., 0., 1.],\n",
              "       [1., 0., 1., 0., 1., 0., 1., 0.],\n",
              "       [0., 1., 0., 1., 0., 1., 0., 1.]])"
            ]
          },
          "metadata": {
            "tags": []
          },
          "execution_count": 76
        }
      ]
    }
  ]
}