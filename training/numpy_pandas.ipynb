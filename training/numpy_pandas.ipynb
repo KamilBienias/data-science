{
  "nbformat": 4,
  "nbformat_minor": 0,
  "metadata": {
    "colab": {
      "name": "numpy_pandas.ipynb",
      "provenance": [],
      "collapsed_sections": [],
      "authorship_tag": "ABX9TyO7dVQFYETh+s7a6LWCjnZw",
      "include_colab_link": true
    },
    "kernelspec": {
      "name": "python3",
      "display_name": "Python 3"
    }
  },
  "cells": [
    {
      "cell_type": "markdown",
      "metadata": {
        "id": "view-in-github",
        "colab_type": "text"
      },
      "source": [
        "<a href=\"https://colab.research.google.com/github/KamilBienias/data-science/blob/main/training/numpy_pandas.ipynb\" target=\"_parent\"><img src=\"https://colab.research.google.com/assets/colab-badge.svg\" alt=\"Open In Colab\"/></a>"
      ]
    },
    {
      "cell_type": "markdown",
      "metadata": {
        "id": "8NJubDrG0lcH"
      },
      "source": [
        "# **numpy**"
      ]
    },
    {
      "cell_type": "code",
      "metadata": {
        "id": "QXF3PNNj_DDZ"
      },
      "source": [
        "# https://zadania24h.wordpress.com/2018/10/17/python-biblioteki-numpy-pandas-matplotlib/"
      ],
      "execution_count": 1,
      "outputs": []
    },
    {
      "cell_type": "markdown",
      "metadata": {
        "id": "dqgfznfg_LR1"
      },
      "source": [
        "### 1. Wygeneruj losową tablice 100 x 10, która będzie reprezentować 100 punktów w 10 wymiarowej przestrzeni. Napisz funkcję, która policzy odległość euklidesową pomiędzy każdą parą punktów, czy potrafisz zrobić to w jednej linijce, bez użycia żadnych pętli/wytworników pętli? Przypomnienie, dla dwóch wektorów xx i yy odległość euklidesową liczymy z podanego wzoru."
      ]
    },
    {
      "cell_type": "code",
      "metadata": {
        "colab": {
          "base_uri": "https://localhost:8080/"
        },
        "id": "HYIhLzFQ_amV",
        "outputId": "09f5187b-1a23-4439-a5d9-51c468b8a859"
      },
      "source": [
        "import numpy as np\n",
        "\n",
        "# tablica o wartościach całkowitych od 0 do 4\n",
        "table = np.random.randint(5, size=(100, 10))\n",
        "print(\"table[:3] =\")\n",
        "print(table[:3])\n",
        "list_of_distances = []\n",
        "for i in range(len(table)):\n",
        "    for j in range(len(table)):\n",
        "        if j > i:\n",
        "            distance = np.linalg.norm(table[j] - table[i])\n",
        "            list_of_distances.append((i, j, distance))\n",
        "\n",
        "print(\"list_of_distances[:5] =\")\n",
        "print(list_of_distances[:5])\n",
        "print\n",
        "print(\"Tyle jest obliczonych odległości\")\n",
        "print(len(list_of_distances))\n",
        "print(\"Tyle jest obliczonych odległości (na piechotę)\")\n",
        "print(100*99/2)"
      ],
      "execution_count": 2,
      "outputs": [
        {
          "output_type": "stream",
          "text": [
            "table[:3] =\n",
            "[[1 1 3 3 2 4 3 0 0 4]\n",
            " [3 4 3 1 4 0 1 1 3 4]\n",
            " [4 0 2 2 3 2 3 2 0 0]]\n",
            "list_of_distances[:5] =\n",
            "[(0, 1, 7.14142842854285), (0, 2, 6.082762530298219), (0, 3, 6.324555320336759), (0, 4, 5.0), (0, 5, 6.48074069840786)]\n",
            "Tyle jest obliczonych odległości\n",
            "4950\n",
            "Tyle jest obliczonych odległości (na piechotę)\n",
            "4950.0\n"
          ],
          "name": "stdout"
        }
      ]
    },
    {
      "cell_type": "markdown",
      "metadata": {
        "id": "Ye_CzJzmIvVM"
      },
      "source": [
        "### 2. Wypełnij 100-elementową tablicę liczbami losowymi naturalnymi z zakresu [5,15] i policz liczbę wystąpień tych liczb. Która z tych liczb najczęściej występuje w tak wygenerowanej tablicy? Wskazówka: zobacz funkcje: bincount, argmax."
      ]
    },
    {
      "cell_type": "code",
      "metadata": {
        "colab": {
          "base_uri": "https://localhost:8080/"
        },
        "id": "crko1BQZI-Gi",
        "outputId": "eca8e7ca-db52-46f9-8b27-2fdd9c7baeda"
      },
      "source": [
        "import numpy as np\n",
        "\n",
        "# pierwszy argiment do min (zawarty), drugi to max (bez niego), trzeci to długość listy.\n",
        "# Jeśli size=(m, n) to tworzy listę m elementową, której każdy element jest listą n elementową\n",
        "table2 = np.random.randint(5, 16, size=100)\n",
        "print(table2)\n",
        "\n",
        "print()\n",
        "bin = np.bincount(table2)\n",
        "print(\"bin =\")\n",
        "print(bin)\n",
        "print(\"Oznacza:\")\n",
        "for i in range(len(bin)):\n",
        "    print(\"Liczba\", i, \"występuje tyle razy:\", bin[i])\n",
        "\n",
        "print()\n",
        "print(\"Liczba\", np.argmax(bin), \"powtarza się najczęściej, czyli\", bin[np.argmax(bin)], \"razy.\")"
      ],
      "execution_count": 3,
      "outputs": [
        {
          "output_type": "stream",
          "text": [
            "[15  9  5  7  8 10 13  7  8  9  8 13 13 12 10 12 15  9 10 12 10 13 11 12\n",
            " 13  7 13 15 12  8  8  9  5 12  6 15 10 11 14  7 11 10 15  6 13  6  6  7\n",
            " 10 12 10 14  8 14  6  8 11 10 13  9 14 10  7  9  7  9 15 10 14  7 10 15\n",
            "  8  7 11  7 14 15  5 13  8  9 11  5  5 13 13 10 15  7  6  8 11  7  9  6\n",
            "  5  8 12  7]\n",
            "\n",
            "bin =\n",
            "[ 0  0  0  0  0  6  7 13 11  9 13  7  8 11  6  9]\n",
            "Oznacza:\n",
            "Liczba 0 występuje tyle razy: 0\n",
            "Liczba 1 występuje tyle razy: 0\n",
            "Liczba 2 występuje tyle razy: 0\n",
            "Liczba 3 występuje tyle razy: 0\n",
            "Liczba 4 występuje tyle razy: 0\n",
            "Liczba 5 występuje tyle razy: 6\n",
            "Liczba 6 występuje tyle razy: 7\n",
            "Liczba 7 występuje tyle razy: 13\n",
            "Liczba 8 występuje tyle razy: 11\n",
            "Liczba 9 występuje tyle razy: 9\n",
            "Liczba 10 występuje tyle razy: 13\n",
            "Liczba 11 występuje tyle razy: 7\n",
            "Liczba 12 występuje tyle razy: 8\n",
            "Liczba 13 występuje tyle razy: 11\n",
            "Liczba 14 występuje tyle razy: 6\n",
            "Liczba 15 występuje tyle razy: 9\n",
            "\n",
            "Liczba 7 powtarza się najczęściej, czyli 13 razy.\n"
          ],
          "name": "stdout"
        }
      ]
    },
    {
      "cell_type": "code",
      "metadata": {
        "id": "Ky05zgwWazUN"
      },
      "source": [
        "# https://brain.fuw.edu.pl/edu/index.php/PPy3/NumPy"
      ],
      "execution_count": 4,
      "outputs": []
    },
    {
      "cell_type": "markdown",
      "metadata": {
        "id": "9lpuGcpha4HF"
      },
      "source": [
        "### 3. Napisz funkcję zastap_zera(A, x), która zwraca tablicę utworzoną z tablicy A (o dowolnym kształcie) poprzez zastąpienie wszystkich elementów równych zero liczbą x. Sama tablica A powinna pozostać niezmieniona."
      ]
    },
    {
      "cell_type": "code",
      "metadata": {
        "colab": {
          "base_uri": "https://localhost:8080/"
        },
        "id": "4Tg96ak6a--c",
        "outputId": "80b72a6a-3f81-4a1a-a96f-3dd125a41e72"
      },
      "source": [
        "import numpy as np\n",
        "\n",
        "A = np.array([[4, 0, 2], [0, -3, 9]])\n",
        "print(\"A =\")\n",
        "print(A)\n",
        "\n",
        "amount_of_elements = sum([len(listInA) for listInA in A])\n",
        "print()\n",
        "print(\"Liczba elementów tablicy A =\", amount_of_elements)\n",
        "\n",
        "def zastap_zera(A, x):\n",
        "    # samo B = A nie tworzy kopii, bo zmieniając elementy z B zmienią się też z A\n",
        "    B = np.copy(A)\n",
        "    # przechodzi po numerach wierzy w B, czyli 0 i 1\n",
        "    for row_number in range(len(B)):\n",
        "        # w i-tym wierszu przechodzi po numerach jego elementów, czyli 0,1,2\n",
        "        for column_number in range(len(B[row_number])):\n",
        "            if B[row_number][column_number] == 0:\n",
        "                B[row_number][column_number] = x\n",
        "    return B\n",
        "\n",
        "B = zastap_zera(A, 15)\n",
        "\n",
        "print()\n",
        "print(\"B =\")\n",
        "print(B)\n",
        "\n",
        "print()\n",
        "print(\"A =\")\n",
        "print(A)"
      ],
      "execution_count": 5,
      "outputs": [
        {
          "output_type": "stream",
          "text": [
            "A =\n",
            "[[ 4  0  2]\n",
            " [ 0 -3  9]]\n",
            "\n",
            "Liczba elementów tablicy A = 6\n",
            "\n",
            "B =\n",
            "[[ 4 15  2]\n",
            " [15 -3  9]]\n",
            "\n",
            "A =\n",
            "[[ 4  0  2]\n",
            " [ 0 -3  9]]\n"
          ],
          "name": "stdout"
        }
      ]
    },
    {
      "cell_type": "markdown",
      "metadata": {
        "id": "Xd0N6Wtpk0iC"
      },
      "source": [
        "### 4. Napisz funkcję wysrodkuj(A), która modyfikuje tablicę A (o dowolnym kształcie) w taki sposób, że od każdego jej elementu odejmuje średnią arytmetyczną wszystkich elementów A."
      ]
    },
    {
      "cell_type": "code",
      "metadata": {
        "colab": {
          "base_uri": "https://localhost:8080/"
        },
        "id": "oZiUoOeqk-P7",
        "outputId": "bdd80d37-3ce6-4381-8b81-ff9b31712803"
      },
      "source": [
        "import numpy as np\n",
        "\n",
        "A = np.array([[4, 0, 2], [0, -3, 9]])\n",
        "print(\"A =\")\n",
        "print(A)\n",
        "\n",
        "print()\n",
        "srednia = np.mean(A)\n",
        "print(\"Średnia ze wszystkich elementów =\", srednia)\n",
        "\n",
        "def wysrodkuj(A):\n",
        "    for row_number in range(len(A)):\n",
        "        for column_number in range(len(A[row_number])):\n",
        "            A[row_number][column_number] = A[row_number][column_number] - srednia\n",
        "    return A\n",
        "\n",
        "print()\n",
        "print(\"Tablica A po odjęciu średniej od każdego jej elementu\")\n",
        "A = wysrodkuj(A)\n",
        "print(A)"
      ],
      "execution_count": 6,
      "outputs": [
        {
          "output_type": "stream",
          "text": [
            "A =\n",
            "[[ 4  0  2]\n",
            " [ 0 -3  9]]\n",
            "\n",
            "Średnia ze wszystkich elementów = 2.0\n",
            "\n",
            "Tablica A po odjęciu średniej od każdego jej elementu\n",
            "[[ 2 -2  0]\n",
            " [-2 -5  7]]\n"
          ],
          "name": "stdout"
        }
      ]
    },
    {
      "cell_type": "markdown",
      "metadata": {
        "id": "8pX7H6VdmumU"
      },
      "source": [
        "### 5. Dla tablicy kwadratowej A (dowolnego rozmiaru większego niż 1) stworzyć tablicę jednowymiarową, której k-ty element to suma elementów k-tej kolumny tablicy A leżących poniżej głównej przekątnej."
      ]
    },
    {
      "cell_type": "code",
      "metadata": {
        "colab": {
          "base_uri": "https://localhost:8080/"
        },
        "id": "FVHNDlGpm4QT",
        "outputId": "2d83f59e-5389-4701-e3f9-7f4728547ca6"
      },
      "source": [
        "import numpy as np\n",
        "\n",
        "A = np.array([[5, 1, 3, 4], [2, 3, 6, 3], [7, 9, 1, 3], [8, 2, 4, 1]])\n",
        "print(\"A =\")\n",
        "print(A)\n",
        "\n",
        "sumy_kolumn = []\n",
        "# przechodzi po numerach kolumn\n",
        "for column_number in range(len(A)):\n",
        "    suma_kolumny = 0\n",
        "    # przechodzi po numerach wierszy\n",
        "    for row_number in range(len(A)):\n",
        "        suma_kolumny = suma_kolumny + A[row_number][column_number]\n",
        "    sumy_kolumn.append(suma_kolumny)\n",
        "\n",
        "print()\n",
        "print(\"Sumy wszystkich kolumn\")\n",
        "print(sumy_kolumn) \n",
        "\n",
        "sumy_kolumn_pod_przekatna = []\n",
        "# przechodzi po numerach kolumn\n",
        "for column_number in range(len(A)):\n",
        "    suma_kolumny = 0\n",
        "    # przechodzi po numerach wierszy\n",
        "    for row_number in range(len(A)):\n",
        "        if row_number > column_number:\n",
        "            suma_kolumny = suma_kolumny + A[row_number][column_number]\n",
        "    sumy_kolumn_pod_przekatna.append(suma_kolumny)\n",
        "\n",
        "print()\n",
        "print(\"Sumy wszystkich kolumn pod przekątną\")\n",
        "print(sumy_kolumn_pod_przekatna) "
      ],
      "execution_count": 7,
      "outputs": [
        {
          "output_type": "stream",
          "text": [
            "A =\n",
            "[[5 1 3 4]\n",
            " [2 3 6 3]\n",
            " [7 9 1 3]\n",
            " [8 2 4 1]]\n",
            "\n",
            "Sumy wszystkich kolumn\n",
            "[22, 15, 14, 11]\n",
            "\n",
            "Sumy wszystkich kolumn pod przekątną\n",
            "[17, 11, 4, 0]\n"
          ],
          "name": "stdout"
        }
      ]
    },
    {
      "cell_type": "markdown",
      "metadata": {
        "id": "VTjYnEX9tM5M"
      },
      "source": [
        "### 6. Napisz funkcję, która w minimalnej liczbie kroków tworzy (i zwraca) kwadratową tablicę NumPy zawierającą na przemian jedynki i zera, o dowolnym - zadanym przez argument wywołania - rozmiarze, w postaci:"
      ]
    },
    {
      "cell_type": "code",
      "metadata": {
        "colab": {
          "base_uri": "https://localhost:8080/"
        },
        "id": "AYQH28e-tPDa",
        "outputId": "3bd1fef6-42a4-4a1a-8105-38514026f26e"
      },
      "source": [
        "def naprzemian(size):\n",
        "    A = np.zeros((size, size))\n",
        "    # przechodzi przez numery wierszy od 0 do size-1\n",
        "    for row_number in range(size):\n",
        "        # jeśli numer wiersza jest parzysty\n",
        "        if row_number % 2 == 0:\n",
        "            # przechodzi przez numery elementów w wierszu row_number\n",
        "            for element_number in range(size):\n",
        "                # jeśli numer elementu jest parzysty\n",
        "                if element_number % 2 == 0:\n",
        "                    # to wstawia jedynkę\n",
        "                    A[row_number][element_number] = 1\n",
        "        # jeśli numer wiersza jest nieparzysty\n",
        "        elif row_number % 2 == 1:\n",
        "            # przechodzi przez numery elementów w wierszu row_number\n",
        "            for element_number in range(size):\n",
        "                # jeśli numer elementu jest nieparzysty\n",
        "                if element_number % 2 == 1:\n",
        "                    # to wstawia jedynkę\n",
        "                    A[row_number][element_number] = 1\n",
        "    return A\n",
        "\n",
        "naprzemian(8)"
      ],
      "execution_count": 8,
      "outputs": [
        {
          "output_type": "execute_result",
          "data": {
            "text/plain": [
              "array([[1., 0., 1., 0., 1., 0., 1., 0.],\n",
              "       [0., 1., 0., 1., 0., 1., 0., 1.],\n",
              "       [1., 0., 1., 0., 1., 0., 1., 0.],\n",
              "       [0., 1., 0., 1., 0., 1., 0., 1.],\n",
              "       [1., 0., 1., 0., 1., 0., 1., 0.],\n",
              "       [0., 1., 0., 1., 0., 1., 0., 1.],\n",
              "       [1., 0., 1., 0., 1., 0., 1., 0.],\n",
              "       [0., 1., 0., 1., 0., 1., 0., 1.]])"
            ]
          },
          "metadata": {
            "tags": []
          },
          "execution_count": 8
        }
      ]
    },
    {
      "cell_type": "markdown",
      "metadata": {
        "id": "huDwQOZXlxP1"
      },
      "source": [
        "### 7. (Moje) znajdź indeksy wyrazów równych 14"
      ]
    },
    {
      "cell_type": "code",
      "metadata": {
        "colab": {
          "base_uri": "https://localhost:8080/"
        },
        "id": "iBLz2q5plvlu",
        "outputId": "afe9d122-8a6b-456b-bf92-e3515853f648"
      },
      "source": [
        "import numpy as np\n",
        "\n",
        "tablica = np.array([6, 14, 54, -2, 14, 7])\n",
        "indeksy = np.where(tablica == 14)\n",
        "print(indeksy)\n",
        "print(indeksy[0])"
      ],
      "execution_count": 17,
      "outputs": [
        {
          "output_type": "stream",
          "text": [
            "(array([1, 4]),)\n",
            "[1 4]\n"
          ],
          "name": "stdout"
        }
      ]
    },
    {
      "cell_type": "markdown",
      "metadata": {
        "id": "oUhGTno_AJRV"
      },
      "source": [
        "# **pandas**"
      ]
    },
    {
      "cell_type": "code",
      "metadata": {
        "colab": {
          "base_uri": "https://localhost:8080/",
          "height": 141
        },
        "id": "p5KDdFMTAN3M",
        "outputId": "8a4e8b9b-aca1-4c77-a3de-25ed253ebb3a"
      },
      "source": [
        "import pandas as pd\n",
        "\n",
        "df = pd.DataFrame({\n",
        "    \"name\": [\"Kamil\", \"John\", \"Alfred\"],\n",
        "    \"age\": [21, 42, 18],\n",
        "    \"height\": [1.83, 1.96, 1.79],\n",
        "    \"weight\": [101.8, 75.2, 45.5],\n",
        "    \"is_married\": [True, False, True],\n",
        "    \"website\": [\"kamil-dash.pl\", \"john-django.com\", 'alfred-spring.pl']\n",
        "})\n",
        "\n",
        "df"
      ],
      "execution_count": 10,
      "outputs": [
        {
          "output_type": "execute_result",
          "data": {
            "text/html": [
              "<div>\n",
              "<style scoped>\n",
              "    .dataframe tbody tr th:only-of-type {\n",
              "        vertical-align: middle;\n",
              "    }\n",
              "\n",
              "    .dataframe tbody tr th {\n",
              "        vertical-align: top;\n",
              "    }\n",
              "\n",
              "    .dataframe thead th {\n",
              "        text-align: right;\n",
              "    }\n",
              "</style>\n",
              "<table border=\"1\" class=\"dataframe\">\n",
              "  <thead>\n",
              "    <tr style=\"text-align: right;\">\n",
              "      <th></th>\n",
              "      <th>name</th>\n",
              "      <th>age</th>\n",
              "      <th>height</th>\n",
              "      <th>weight</th>\n",
              "      <th>is_married</th>\n",
              "      <th>website</th>\n",
              "    </tr>\n",
              "  </thead>\n",
              "  <tbody>\n",
              "    <tr>\n",
              "      <th>0</th>\n",
              "      <td>Kamil</td>\n",
              "      <td>21</td>\n",
              "      <td>1.83</td>\n",
              "      <td>101.8</td>\n",
              "      <td>True</td>\n",
              "      <td>kamil-dash.pl</td>\n",
              "    </tr>\n",
              "    <tr>\n",
              "      <th>1</th>\n",
              "      <td>John</td>\n",
              "      <td>42</td>\n",
              "      <td>1.96</td>\n",
              "      <td>75.2</td>\n",
              "      <td>False</td>\n",
              "      <td>john-django.com</td>\n",
              "    </tr>\n",
              "    <tr>\n",
              "      <th>2</th>\n",
              "      <td>Alfred</td>\n",
              "      <td>18</td>\n",
              "      <td>1.79</td>\n",
              "      <td>45.5</td>\n",
              "      <td>True</td>\n",
              "      <td>alfred-spring.pl</td>\n",
              "    </tr>\n",
              "  </tbody>\n",
              "</table>\n",
              "</div>"
            ],
            "text/plain": [
              "     name  age  height  weight  is_married           website\n",
              "0   Kamil   21    1.83   101.8        True     kamil-dash.pl\n",
              "1    John   42    1.96    75.2       False   john-django.com\n",
              "2  Alfred   18    1.79    45.5        True  alfred-spring.pl"
            ]
          },
          "metadata": {
            "tags": []
          },
          "execution_count": 10
        }
      ]
    },
    {
      "cell_type": "markdown",
      "metadata": {
        "id": "Ai4dYK1YAUKt"
      },
      "source": [
        "### 1. Dodaje 5 do kolumny 'age'"
      ]
    },
    {
      "cell_type": "code",
      "metadata": {
        "colab": {
          "base_uri": "https://localhost:8080/",
          "height": 141
        },
        "id": "S1FW8tOrAX-x",
        "outputId": "04bdf253-fe5e-4bcb-d346-8e19e9f6f4fa"
      },
      "source": [
        "df[\"age_plus_5\"] = df[\"age\"].apply(lambda x: x + 5)\n",
        "df"
      ],
      "execution_count": 11,
      "outputs": [
        {
          "output_type": "execute_result",
          "data": {
            "text/html": [
              "<div>\n",
              "<style scoped>\n",
              "    .dataframe tbody tr th:only-of-type {\n",
              "        vertical-align: middle;\n",
              "    }\n",
              "\n",
              "    .dataframe tbody tr th {\n",
              "        vertical-align: top;\n",
              "    }\n",
              "\n",
              "    .dataframe thead th {\n",
              "        text-align: right;\n",
              "    }\n",
              "</style>\n",
              "<table border=\"1\" class=\"dataframe\">\n",
              "  <thead>\n",
              "    <tr style=\"text-align: right;\">\n",
              "      <th></th>\n",
              "      <th>name</th>\n",
              "      <th>age</th>\n",
              "      <th>height</th>\n",
              "      <th>weight</th>\n",
              "      <th>is_married</th>\n",
              "      <th>website</th>\n",
              "      <th>age_plus_5</th>\n",
              "    </tr>\n",
              "  </thead>\n",
              "  <tbody>\n",
              "    <tr>\n",
              "      <th>0</th>\n",
              "      <td>Kamil</td>\n",
              "      <td>21</td>\n",
              "      <td>1.83</td>\n",
              "      <td>101.8</td>\n",
              "      <td>True</td>\n",
              "      <td>kamil-dash.pl</td>\n",
              "      <td>26</td>\n",
              "    </tr>\n",
              "    <tr>\n",
              "      <th>1</th>\n",
              "      <td>John</td>\n",
              "      <td>42</td>\n",
              "      <td>1.96</td>\n",
              "      <td>75.2</td>\n",
              "      <td>False</td>\n",
              "      <td>john-django.com</td>\n",
              "      <td>47</td>\n",
              "    </tr>\n",
              "    <tr>\n",
              "      <th>2</th>\n",
              "      <td>Alfred</td>\n",
              "      <td>18</td>\n",
              "      <td>1.79</td>\n",
              "      <td>45.5</td>\n",
              "      <td>True</td>\n",
              "      <td>alfred-spring.pl</td>\n",
              "      <td>23</td>\n",
              "    </tr>\n",
              "  </tbody>\n",
              "</table>\n",
              "</div>"
            ],
            "text/plain": [
              "     name  age  height  weight  is_married           website  age_plus_5\n",
              "0   Kamil   21    1.83   101.8        True     kamil-dash.pl          26\n",
              "1    John   42    1.96    75.2       False   john-django.com          47\n",
              "2  Alfred   18    1.79    45.5        True  alfred-spring.pl          23"
            ]
          },
          "metadata": {
            "tags": []
          },
          "execution_count": 11
        }
      ]
    },
    {
      "cell_type": "markdown",
      "metadata": {
        "id": "XbaacK6AAqL6"
      },
      "source": [
        "### 2. Jeśli żonaty to w nowej kolumnie 'years_in_marriage' wpisuje jego wiek pomniejszony o 10. Jeśli singiel to 0."
      ]
    },
    {
      "cell_type": "code",
      "metadata": {
        "colab": {
          "base_uri": "https://localhost:8080/",
          "height": 141
        },
        "id": "lml7IUO6AvX1",
        "outputId": "c6e5249e-58be-4905-bba6-b6b316738df1"
      },
      "source": [
        "# Jeśli żonaty to w nowej kolumnie 'years_in_marriage' wpisuje jego wiek pomniejszony o 10.\n",
        "# Jeśli singiel, to wyświetli się NaN.\n",
        "df[\"years_in_marriage\"] = df[\"age\"][df[\"is_married\"]==True].apply(lambda x: x - 10)\n",
        "# wpisanie 0 używając apply dla tych co mają False powodowało wświetlenie NaN dla pozostałych\n",
        "# df[\"years_in_marriage\"] = df[\"age\"][df[\"is_married\"]==False].apply(lambda x: 0)\n",
        "# Zamieniam NaN na 0\n",
        "df = df.fillna(value={\"years_in_marriage\": 0})\n",
        "df"
      ],
      "execution_count": 12,
      "outputs": [
        {
          "output_type": "execute_result",
          "data": {
            "text/html": [
              "<div>\n",
              "<style scoped>\n",
              "    .dataframe tbody tr th:only-of-type {\n",
              "        vertical-align: middle;\n",
              "    }\n",
              "\n",
              "    .dataframe tbody tr th {\n",
              "        vertical-align: top;\n",
              "    }\n",
              "\n",
              "    .dataframe thead th {\n",
              "        text-align: right;\n",
              "    }\n",
              "</style>\n",
              "<table border=\"1\" class=\"dataframe\">\n",
              "  <thead>\n",
              "    <tr style=\"text-align: right;\">\n",
              "      <th></th>\n",
              "      <th>name</th>\n",
              "      <th>age</th>\n",
              "      <th>height</th>\n",
              "      <th>weight</th>\n",
              "      <th>is_married</th>\n",
              "      <th>website</th>\n",
              "      <th>age_plus_5</th>\n",
              "      <th>years_in_marriage</th>\n",
              "    </tr>\n",
              "  </thead>\n",
              "  <tbody>\n",
              "    <tr>\n",
              "      <th>0</th>\n",
              "      <td>Kamil</td>\n",
              "      <td>21</td>\n",
              "      <td>1.83</td>\n",
              "      <td>101.8</td>\n",
              "      <td>True</td>\n",
              "      <td>kamil-dash.pl</td>\n",
              "      <td>26</td>\n",
              "      <td>11.0</td>\n",
              "    </tr>\n",
              "    <tr>\n",
              "      <th>1</th>\n",
              "      <td>John</td>\n",
              "      <td>42</td>\n",
              "      <td>1.96</td>\n",
              "      <td>75.2</td>\n",
              "      <td>False</td>\n",
              "      <td>john-django.com</td>\n",
              "      <td>47</td>\n",
              "      <td>0.0</td>\n",
              "    </tr>\n",
              "    <tr>\n",
              "      <th>2</th>\n",
              "      <td>Alfred</td>\n",
              "      <td>18</td>\n",
              "      <td>1.79</td>\n",
              "      <td>45.5</td>\n",
              "      <td>True</td>\n",
              "      <td>alfred-spring.pl</td>\n",
              "      <td>23</td>\n",
              "      <td>8.0</td>\n",
              "    </tr>\n",
              "  </tbody>\n",
              "</table>\n",
              "</div>"
            ],
            "text/plain": [
              "     name  age  height  ...           website  age_plus_5 years_in_marriage\n",
              "0   Kamil   21    1.83  ...     kamil-dash.pl          26              11.0\n",
              "1    John   42    1.96  ...   john-django.com          47               0.0\n",
              "2  Alfred   18    1.79  ...  alfred-spring.pl          23               8.0\n",
              "\n",
              "[3 rows x 8 columns]"
            ]
          },
          "metadata": {
            "tags": []
          },
          "execution_count": 12
        }
      ]
    },
    {
      "cell_type": "markdown",
      "metadata": {
        "id": "w8AfJY08A5M_"
      },
      "source": [
        "### 3. Rozdziela adres strony od domeny"
      ]
    },
    {
      "cell_type": "code",
      "metadata": {
        "colab": {
          "base_uri": "https://localhost:8080/",
          "height": 141
        },
        "id": "M2b1_CUDA9ii",
        "outputId": "2cc6d415-bac1-4097-c47b-e1ab73f89913"
      },
      "source": [
        "new_df = df[\"website\"].str.split(\".\", expand=True)\n",
        "df[\"adres\"] = new_df[0]\n",
        "df[\"domena\"] = new_df[1]\n",
        "df"
      ],
      "execution_count": 13,
      "outputs": [
        {
          "output_type": "execute_result",
          "data": {
            "text/html": [
              "<div>\n",
              "<style scoped>\n",
              "    .dataframe tbody tr th:only-of-type {\n",
              "        vertical-align: middle;\n",
              "    }\n",
              "\n",
              "    .dataframe tbody tr th {\n",
              "        vertical-align: top;\n",
              "    }\n",
              "\n",
              "    .dataframe thead th {\n",
              "        text-align: right;\n",
              "    }\n",
              "</style>\n",
              "<table border=\"1\" class=\"dataframe\">\n",
              "  <thead>\n",
              "    <tr style=\"text-align: right;\">\n",
              "      <th></th>\n",
              "      <th>name</th>\n",
              "      <th>age</th>\n",
              "      <th>height</th>\n",
              "      <th>weight</th>\n",
              "      <th>is_married</th>\n",
              "      <th>website</th>\n",
              "      <th>age_plus_5</th>\n",
              "      <th>years_in_marriage</th>\n",
              "      <th>adres</th>\n",
              "      <th>domena</th>\n",
              "    </tr>\n",
              "  </thead>\n",
              "  <tbody>\n",
              "    <tr>\n",
              "      <th>0</th>\n",
              "      <td>Kamil</td>\n",
              "      <td>21</td>\n",
              "      <td>1.83</td>\n",
              "      <td>101.8</td>\n",
              "      <td>True</td>\n",
              "      <td>kamil-dash.pl</td>\n",
              "      <td>26</td>\n",
              "      <td>11.0</td>\n",
              "      <td>kamil-dash</td>\n",
              "      <td>pl</td>\n",
              "    </tr>\n",
              "    <tr>\n",
              "      <th>1</th>\n",
              "      <td>John</td>\n",
              "      <td>42</td>\n",
              "      <td>1.96</td>\n",
              "      <td>75.2</td>\n",
              "      <td>False</td>\n",
              "      <td>john-django.com</td>\n",
              "      <td>47</td>\n",
              "      <td>0.0</td>\n",
              "      <td>john-django</td>\n",
              "      <td>com</td>\n",
              "    </tr>\n",
              "    <tr>\n",
              "      <th>2</th>\n",
              "      <td>Alfred</td>\n",
              "      <td>18</td>\n",
              "      <td>1.79</td>\n",
              "      <td>45.5</td>\n",
              "      <td>True</td>\n",
              "      <td>alfred-spring.pl</td>\n",
              "      <td>23</td>\n",
              "      <td>8.0</td>\n",
              "      <td>alfred-spring</td>\n",
              "      <td>pl</td>\n",
              "    </tr>\n",
              "  </tbody>\n",
              "</table>\n",
              "</div>"
            ],
            "text/plain": [
              "     name  age  height  ...  years_in_marriage          adres domena\n",
              "0   Kamil   21    1.83  ...               11.0     kamil-dash     pl\n",
              "1    John   42    1.96  ...                0.0    john-django    com\n",
              "2  Alfred   18    1.79  ...                8.0  alfred-spring     pl\n",
              "\n",
              "[3 rows x 10 columns]"
            ]
          },
          "metadata": {
            "tags": []
          },
          "execution_count": 13
        }
      ]
    },
    {
      "cell_type": "markdown",
      "metadata": {
        "id": "wzvFiQgtBpt0"
      },
      "source": [
        "### 4. Oblicz BMI czyli masa/(wzrost^2). Jeśli < 18.5 to niedowaga, a jeśli > 25 to nadwaga."
      ]
    },
    {
      "cell_type": "code",
      "metadata": {
        "colab": {
          "base_uri": "https://localhost:8080/",
          "height": 141
        },
        "id": "BKPxmn92Bt7b",
        "outputId": "732394de-2052-4566-abf8-95e50a63439c"
      },
      "source": [
        "import numpy as np\n",
        "\n",
        "df['BMI'] = df['weight'] / (df['height'] * df['height'])\n",
        "df[\"Stan_zdrowia\"] = df[\"BMI\"].apply(lambda x: \"niedowaga\" if x<18.5 else (\"nadwaga\" if x>25 else \"prawidłowy\"))\n",
        "df[[\"height\", \"weight\", \"BMI\", \"Stan_zdrowia\"]]"
      ],
      "execution_count": 14,
      "outputs": [
        {
          "output_type": "execute_result",
          "data": {
            "text/html": [
              "<div>\n",
              "<style scoped>\n",
              "    .dataframe tbody tr th:only-of-type {\n",
              "        vertical-align: middle;\n",
              "    }\n",
              "\n",
              "    .dataframe tbody tr th {\n",
              "        vertical-align: top;\n",
              "    }\n",
              "\n",
              "    .dataframe thead th {\n",
              "        text-align: right;\n",
              "    }\n",
              "</style>\n",
              "<table border=\"1\" class=\"dataframe\">\n",
              "  <thead>\n",
              "    <tr style=\"text-align: right;\">\n",
              "      <th></th>\n",
              "      <th>height</th>\n",
              "      <th>weight</th>\n",
              "      <th>BMI</th>\n",
              "      <th>Stan_zdrowia</th>\n",
              "    </tr>\n",
              "  </thead>\n",
              "  <tbody>\n",
              "    <tr>\n",
              "      <th>0</th>\n",
              "      <td>1.83</td>\n",
              "      <td>101.8</td>\n",
              "      <td>30.398041</td>\n",
              "      <td>nadwaga</td>\n",
              "    </tr>\n",
              "    <tr>\n",
              "      <th>1</th>\n",
              "      <td>1.96</td>\n",
              "      <td>75.2</td>\n",
              "      <td>19.575177</td>\n",
              "      <td>prawidłowy</td>\n",
              "    </tr>\n",
              "    <tr>\n",
              "      <th>2</th>\n",
              "      <td>1.79</td>\n",
              "      <td>45.5</td>\n",
              "      <td>14.200556</td>\n",
              "      <td>niedowaga</td>\n",
              "    </tr>\n",
              "  </tbody>\n",
              "</table>\n",
              "</div>"
            ],
            "text/plain": [
              "   height  weight        BMI Stan_zdrowia\n",
              "0    1.83   101.8  30.398041      nadwaga\n",
              "1    1.96    75.2  19.575177   prawidłowy\n",
              "2    1.79    45.5  14.200556    niedowaga"
            ]
          },
          "metadata": {
            "tags": []
          },
          "execution_count": 14
        }
      ]
    },
    {
      "cell_type": "markdown",
      "metadata": {
        "id": "SSPELeQJLG_I"
      },
      "source": [
        "### 5. Mając df z niektórymi polami jako None stwórz kolumnę \"None_counts\", w której będzie liczba wystąpień None dla każdego wiersza. "
      ]
    },
    {
      "cell_type": "code",
      "metadata": {
        "colab": {
          "base_uri": "https://localhost:8080/"
        },
        "id": "liTIqpYSLGDT",
        "outputId": "c2ec52dc-623f-4cda-8821-faf8131898d1"
      },
      "source": [
        "import pandas as pd\n",
        "\n",
        "df = pd.DataFrame({\n",
        "    \"A\": [4, None, 6, 8, 13],\n",
        "    \"B\": [2, None, 5, None, 6],\n",
        "    \"C\": [None, 7, None, 8, 9]\n",
        "}, index=[\"wiersz1\", \"wiersz2\", \"wiersz3\", \"wiersz4\", \"wiersz5\"])\n",
        "print(df)\n",
        "\n",
        "print()\n",
        "df[\"None_counts\"] = df.apply(lambda x: sum(x.isna()), axis=1)\n",
        "print(df)\n"
      ],
      "execution_count": 15,
      "outputs": [
        {
          "output_type": "stream",
          "text": [
            "            A    B    C\n",
            "wiersz1   4.0  2.0  NaN\n",
            "wiersz2   NaN  NaN  7.0\n",
            "wiersz3   6.0  5.0  NaN\n",
            "wiersz4   8.0  NaN  8.0\n",
            "wiersz5  13.0  6.0  9.0\n",
            "\n",
            "            A    B    C  None_counts\n",
            "wiersz1   4.0  2.0  NaN            1\n",
            "wiersz2   NaN  NaN  7.0            2\n",
            "wiersz3   6.0  5.0  NaN            1\n",
            "wiersz4   8.0  NaN  8.0            1\n",
            "wiersz5  13.0  6.0  9.0            0\n"
          ],
          "name": "stdout"
        }
      ]
    },
    {
      "cell_type": "markdown",
      "metadata": {
        "id": "v_8U7jexWy3D"
      },
      "source": [
        "### 6. Mając df z niektórymi polami jako None stwórz wiersz \"srednia\", w którym będzie średnia dla każdej kolumny. "
      ]
    },
    {
      "cell_type": "code",
      "metadata": {
        "colab": {
          "base_uri": "https://localhost:8080/"
        },
        "id": "MRleQLP2W-BP",
        "outputId": "5103cf72-dd94-4915-f801-74546530d6bc"
      },
      "source": [
        "import pandas as pd\n",
        "import numpy as np\n",
        "\n",
        "df = pd.DataFrame({\n",
        "    \"A\": [4, None, 6, 8, 13],\n",
        "    \"B\": [2, None, 5, None, 6],\n",
        "    \"C\": [None, 7, None, 8, 9]\n",
        "}, index=[\"wiersz1\", \"wiersz2\", \"wiersz3\", \"wiersz4\", \"wiersz5\"])\n",
        "print(df)\n",
        "\n",
        "print()\n",
        "df.loc[\"srednia\"] = df.apply(np.mean)\n",
        "print(df)"
      ],
      "execution_count": 16,
      "outputs": [
        {
          "output_type": "stream",
          "text": [
            "            A    B    C\n",
            "wiersz1   4.0  2.0  NaN\n",
            "wiersz2   NaN  NaN  7.0\n",
            "wiersz3   6.0  5.0  NaN\n",
            "wiersz4   8.0  NaN  8.0\n",
            "wiersz5  13.0  6.0  9.0\n",
            "\n",
            "             A         B    C\n",
            "wiersz1   4.00  2.000000  NaN\n",
            "wiersz2    NaN       NaN  7.0\n",
            "wiersz3   6.00  5.000000  NaN\n",
            "wiersz4   8.00       NaN  8.0\n",
            "wiersz5  13.00  6.000000  9.0\n",
            "srednia   7.75  4.333333  8.0\n"
          ],
          "name": "stdout"
        }
      ]
    }
  ]
}