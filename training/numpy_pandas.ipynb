{
  "nbformat": 4,
  "nbformat_minor": 0,
  "metadata": {
    "colab": {
      "name": "numpy_pandas.ipynb",
      "provenance": [],
      "collapsed_sections": [],
      "authorship_tag": "ABX9TyM5s0LLd32Qr8htg5UCOsJ1",
      "include_colab_link": true
    },
    "kernelspec": {
      "name": "python3",
      "display_name": "Python 3"
    }
  },
  "cells": [
    {
      "cell_type": "markdown",
      "metadata": {
        "id": "view-in-github",
        "colab_type": "text"
      },
      "source": [
        "<a href=\"https://colab.research.google.com/github/KamilBienias/data-science/blob/main/training/numpy_pandas.ipynb\" target=\"_parent\"><img src=\"https://colab.research.google.com/assets/colab-badge.svg\" alt=\"Open In Colab\"/></a>"
      ]
    },
    {
      "cell_type": "markdown",
      "metadata": {
        "id": "8NJubDrG0lcH"
      },
      "source": [
        "# **numpy**"
      ]
    },
    {
      "cell_type": "code",
      "metadata": {
        "id": "QXF3PNNj_DDZ"
      },
      "source": [
        "# https://zadania24h.wordpress.com/2018/10/17/python-biblioteki-numpy-pandas-matplotlib/"
      ],
      "execution_count": 165,
      "outputs": []
    },
    {
      "cell_type": "markdown",
      "metadata": {
        "id": "dqgfznfg_LR1"
      },
      "source": [
        "### 1. Wygeneruj losową tablice 100 x 10, która będzie reprezentować 100 punktów w 10 wymiarowej przestrzeni. Napisz funkcję, która policzy odległość euklidesową pomiędzy każdą parą punktów, czy potrafisz zrobić to w jednej linijce, bez użycia żadnych pętli/wytworników pętli? Przypomnienie, dla dwóch wektorów xx i yy odległość euklidesową liczymy z podanego wzoru."
      ]
    },
    {
      "cell_type": "code",
      "metadata": {
        "colab": {
          "base_uri": "https://localhost:8080/"
        },
        "id": "HYIhLzFQ_amV",
        "outputId": "4de516a1-77c9-449a-ee9f-f87148fb2dd6"
      },
      "source": [
        "import numpy as np\r\n",
        "\r\n",
        "# tablica o wartościach całkowitych od 0 do 4\r\n",
        "table = np.random.randint(5, size=(100, 10))\r\n",
        "print(\"table[:3] =\")\r\n",
        "print(table[:3])\r\n",
        "list_of_distances = []\r\n",
        "for i in range(len(table)):\r\n",
        "    for j in range(len(table)):\r\n",
        "        if j > i:\r\n",
        "            distance = np.linalg.norm(table[j] - table[i])\r\n",
        "            list_of_distances.append((i, j, distance))\r\n",
        "\r\n",
        "print(\"list_of_distances[:5] =\")\r\n",
        "print(list_of_distances[:5])\r\n",
        "print\r\n",
        "print(\"Tyle jest obliczonych odległości\")\r\n",
        "print(len(list_of_distances))\r\n",
        "print(\"Tyle jest obliczonych odległości (na piechotę)\")\r\n",
        "print(100*99/2)"
      ],
      "execution_count": 166,
      "outputs": [
        {
          "output_type": "stream",
          "text": [
            "table[:3] =\n",
            "[[3 0 0 0 0 2 3 1 0 1]\n",
            " [0 0 3 1 4 4 3 3 1 3]\n",
            " [4 3 2 0 4 2 4 1 2 3]]\n",
            "list_of_distances[:5] =\n",
            "[(0, 1, 6.928203230275509), (0, 2, 6.244997998398398), (0, 3, 6.557438524302), (0, 4, 5.744562646538029), (0, 5, 6.6332495807108)]\n",
            "Tyle jest obliczonych odległości\n",
            "4950\n",
            "Tyle jest obliczonych odległości (na piechotę)\n",
            "4950.0\n"
          ],
          "name": "stdout"
        }
      ]
    },
    {
      "cell_type": "markdown",
      "metadata": {
        "id": "Ye_CzJzmIvVM"
      },
      "source": [
        "### 2. Wypełnij 100-elementową tablicę liczbami losowymi naturalnymi z zakresu [5,15] i policz liczbę wystąpień tych liczb. Która z tych liczb najczęściej występuje w tak wygenerowanej tablicy? Wskazówka: zobacz funkcje: bincount, argmax."
      ]
    },
    {
      "cell_type": "code",
      "metadata": {
        "colab": {
          "base_uri": "https://localhost:8080/"
        },
        "id": "crko1BQZI-Gi",
        "outputId": "24e2a683-a8d6-43a2-858a-aefa7168a650"
      },
      "source": [
        "import numpy as np\r\n",
        "\r\n",
        "# pierwszy argiment do min (zawarty), drugi to max (bez niego), trzeci to długość listy.\r\n",
        "# Jeśli size=(m, n) to tworzy listę m elementową, której każdy element jest listą n elementową\r\n",
        "table2 = np.random.randint(5, 16, size=100)\r\n",
        "print(table2)\r\n",
        "\r\n",
        "print()\r\n",
        "bin = np.bincount(table2)\r\n",
        "print(\"bin =\")\r\n",
        "print(bin)\r\n",
        "print(\"Oznacza:\")\r\n",
        "for i in range(len(bin)):\r\n",
        "    print(\"Liczba\", i, \"występuje tyle razy:\", bin[i])\r\n",
        "\r\n",
        "print()\r\n",
        "print(\"Liczba\", np.argmax(bin), \"powtarza się najczęściej, czyli\", bin[np.argmax(bin)], \"razy.\")"
      ],
      "execution_count": 167,
      "outputs": [
        {
          "output_type": "stream",
          "text": [
            "[ 8  6 13 13 14  6 13 12  5  6 12 15  7  7  6 10  6 11 11  7 14  8  7  9\n",
            " 12 12 10  5 14 12  6 11 10 13 13 15  9  8 15 10 14 11  9  7  6 11 15 13\n",
            " 10  7 12 13 10 12 11 14  8 13 11 12  8 13  7  6 15 12  8 10  5 11  8  9\n",
            " 10 11  8  8  7 12 15  8 12  8 12  9 10 14 11  6 13  6  5 10  8  5  7 11\n",
            "  8  5  7 12]\n",
            "\n",
            "bin =\n",
            "[ 0  0  0  0  0  6 10 10 13  5 10 11 13 10  6  6]\n",
            "Oznacza:\n",
            "Liczba 0 występuje tyle razy: 0\n",
            "Liczba 1 występuje tyle razy: 0\n",
            "Liczba 2 występuje tyle razy: 0\n",
            "Liczba 3 występuje tyle razy: 0\n",
            "Liczba 4 występuje tyle razy: 0\n",
            "Liczba 5 występuje tyle razy: 6\n",
            "Liczba 6 występuje tyle razy: 10\n",
            "Liczba 7 występuje tyle razy: 10\n",
            "Liczba 8 występuje tyle razy: 13\n",
            "Liczba 9 występuje tyle razy: 5\n",
            "Liczba 10 występuje tyle razy: 10\n",
            "Liczba 11 występuje tyle razy: 11\n",
            "Liczba 12 występuje tyle razy: 13\n",
            "Liczba 13 występuje tyle razy: 10\n",
            "Liczba 14 występuje tyle razy: 6\n",
            "Liczba 15 występuje tyle razy: 6\n",
            "\n",
            "Liczba 8 powtarza się najczęściej, czyli 13 razy.\n"
          ],
          "name": "stdout"
        }
      ]
    },
    {
      "cell_type": "code",
      "metadata": {
        "id": "Ky05zgwWazUN"
      },
      "source": [
        "# https://brain.fuw.edu.pl/edu/index.php/PPy3/NumPy"
      ],
      "execution_count": 168,
      "outputs": []
    },
    {
      "cell_type": "markdown",
      "metadata": {
        "id": "9lpuGcpha4HF"
      },
      "source": [
        "### 3. Napisz funkcję zastap_zera(A, x), która zwraca tablicę utworzoną z tablicy A (o dowolnym kształcie) poprzez zastąpienie wszystkich elementów równych zero liczbą x. Sama tablica A powinna pozostać niezmieniona."
      ]
    },
    {
      "cell_type": "code",
      "metadata": {
        "colab": {
          "base_uri": "https://localhost:8080/"
        },
        "id": "4Tg96ak6a--c",
        "outputId": "bd607345-2f46-46fb-f00d-a1486ffc2665"
      },
      "source": [
        "import numpy as np\r\n",
        "\r\n",
        "A = np.array([[4, 0, 2], [0, -3, 9]])\r\n",
        "print(\"A =\")\r\n",
        "print(A)\r\n",
        "\r\n",
        "amount_of_elements = sum([len(listInA) for listInA in A])\r\n",
        "print()\r\n",
        "print(\"Liczba elementów tablicy A =\", amount_of_elements)\r\n",
        "\r\n",
        "def zastap_zera(A, x):\r\n",
        "    # samo B = A nie tworzy kopii, bo zmieniając elementy z B zmienią się też z A\r\n",
        "    B = np.copy(A)\r\n",
        "    # przechodzi po numerach wierzy w B, czyli 0 i 1\r\n",
        "    for row_number in range(len(B)):\r\n",
        "        # w i-tym wierszu przechodzi po numerach jego elementów, czyli 0,1,2\r\n",
        "        for column_number in range(len(B[row_number])):\r\n",
        "            if B[row_number][column_number] == 0:\r\n",
        "                B[row_number][column_number] = x\r\n",
        "    return B\r\n",
        "\r\n",
        "B = zastap_zera(A, 15)\r\n",
        "\r\n",
        "print()\r\n",
        "print(\"B =\")\r\n",
        "print(B)\r\n",
        "\r\n",
        "print()\r\n",
        "print(\"A =\")\r\n",
        "print(A)"
      ],
      "execution_count": 169,
      "outputs": [
        {
          "output_type": "stream",
          "text": [
            "A =\n",
            "[[ 4  0  2]\n",
            " [ 0 -3  9]]\n",
            "\n",
            "Liczba elementów tablicy A = 6\n",
            "\n",
            "B =\n",
            "[[ 4 15  2]\n",
            " [15 -3  9]]\n",
            "\n",
            "A =\n",
            "[[ 4  0  2]\n",
            " [ 0 -3  9]]\n"
          ],
          "name": "stdout"
        }
      ]
    },
    {
      "cell_type": "markdown",
      "metadata": {
        "id": "Xd0N6Wtpk0iC"
      },
      "source": [
        "### 4. Napisz funkcję wysrodkuj(A), która modyfikuje tablicę A (o dowolnym kształcie) w taki sposób, że od każdego jej elementu odejmuje średnią arytmetyczną wszystkich elementów A."
      ]
    },
    {
      "cell_type": "code",
      "metadata": {
        "colab": {
          "base_uri": "https://localhost:8080/"
        },
        "id": "oZiUoOeqk-P7",
        "outputId": "f50bd4e6-38fd-4754-851b-2cea169f4700"
      },
      "source": [
        "import numpy as np\r\n",
        "\r\n",
        "A = np.array([[4, 0, 2], [0, -3, 9]])\r\n",
        "print(\"A =\")\r\n",
        "print(A)\r\n",
        "\r\n",
        "print()\r\n",
        "srednia = np.mean(A)\r\n",
        "print(\"Średnia ze wszystkich elementów =\", srednia)\r\n",
        "\r\n",
        "def wysrodkuj(A):\r\n",
        "    for row_number in range(len(A)):\r\n",
        "        for column_number in range(len(A[row_number])):\r\n",
        "            A[row_number][column_number] = A[row_number][column_number] - srednia\r\n",
        "    return A\r\n",
        "\r\n",
        "print()\r\n",
        "print(\"Tablica A po odjęciu średniej od każdego jej elementu\")\r\n",
        "A = wysrodkuj(A)\r\n",
        "print(A)"
      ],
      "execution_count": 170,
      "outputs": [
        {
          "output_type": "stream",
          "text": [
            "A =\n",
            "[[ 4  0  2]\n",
            " [ 0 -3  9]]\n",
            "\n",
            "Średnia ze wszystkich elementów = 2.0\n",
            "\n",
            "Tablica A po odjęciu średniej od każdego jej elementu\n",
            "[[ 2 -2  0]\n",
            " [-2 -5  7]]\n"
          ],
          "name": "stdout"
        }
      ]
    },
    {
      "cell_type": "markdown",
      "metadata": {
        "id": "8pX7H6VdmumU"
      },
      "source": [
        "### 5. Dla tablicy kwadratowej A (dowolnego rozmiaru większego niż 1) stworzyć tablicę jednowymiarową, której k-ty element to suma elementów k-tej kolumny tablicy A leżących poniżej głównej przekątnej."
      ]
    },
    {
      "cell_type": "code",
      "metadata": {
        "colab": {
          "base_uri": "https://localhost:8080/"
        },
        "id": "FVHNDlGpm4QT",
        "outputId": "85a9b776-3d9f-42f7-a3a0-ffb1686d2c2c"
      },
      "source": [
        "import numpy as np\r\n",
        "\r\n",
        "A = np.array([[5, 1, 3, 4], [2, 3, 6, 3], [7, 9, 1, 3], [8, 2, 4, 1]])\r\n",
        "print(\"A =\")\r\n",
        "print(A)\r\n",
        "\r\n",
        "sumy_kolumn = []\r\n",
        "# przechodzi po numerach kolumn\r\n",
        "for column_number in range(len(A)):\r\n",
        "    suma_kolumny = 0\r\n",
        "    # przechodzi po numerach wierszy\r\n",
        "    for row_number in range(len(A)):\r\n",
        "        suma_kolumny = suma_kolumny + A[row_number][column_number]\r\n",
        "    sumy_kolumn.append(suma_kolumny)\r\n",
        "\r\n",
        "print()\r\n",
        "print(\"Sumy wszystkich kolumn\")\r\n",
        "print(sumy_kolumn) \r\n",
        "\r\n",
        "sumy_kolumn_pod_przekatna = []\r\n",
        "# przechodzi po numerach kolumn\r\n",
        "for column_number in range(len(A)):\r\n",
        "    suma_kolumny = 0\r\n",
        "    # przechodzi po numerach wierszy\r\n",
        "    for row_number in range(len(A)):\r\n",
        "        if row_number > column_number:\r\n",
        "            suma_kolumny = suma_kolumny + A[row_number][column_number]\r\n",
        "    sumy_kolumn_pod_przekatna.append(suma_kolumny)\r\n",
        "\r\n",
        "print()\r\n",
        "print(\"Sumy wszystkich kolumn pod przekątną\")\r\n",
        "print(sumy_kolumn_pod_przekatna) "
      ],
      "execution_count": 171,
      "outputs": [
        {
          "output_type": "stream",
          "text": [
            "A =\n",
            "[[5 1 3 4]\n",
            " [2 3 6 3]\n",
            " [7 9 1 3]\n",
            " [8 2 4 1]]\n",
            "\n",
            "Sumy wszystkich kolumn\n",
            "[22, 15, 14, 11]\n",
            "\n",
            "Sumy wszystkich kolumn pod przekątną\n",
            "[17, 11, 4, 0]\n"
          ],
          "name": "stdout"
        }
      ]
    },
    {
      "cell_type": "markdown",
      "metadata": {
        "id": "VTjYnEX9tM5M"
      },
      "source": [
        "### 6. Napisz funkcję, która w minimalnej liczbie kroków tworzy (i zwraca) kwadratową tablicę NumPy zawierającą na przemian jedynki i zera, o dowolnym - zadanym przez argument wywołania - rozmiarze, w postaci:"
      ]
    },
    {
      "cell_type": "code",
      "metadata": {
        "colab": {
          "base_uri": "https://localhost:8080/"
        },
        "id": "AYQH28e-tPDa",
        "outputId": "d65e76ae-bb52-4e54-ed41-d6ed7fc76b66"
      },
      "source": [
        "def naprzemian(size):\r\n",
        "    A = np.zeros((size, size))\r\n",
        "    # przechodzi przez numery wierszy od 0 do size-1\r\n",
        "    for row_number in range(size):\r\n",
        "        # jeśli numer wiersza jest parzysty\r\n",
        "        if row_number % 2 == 0:\r\n",
        "            # przechodzi przez numery elementów w wierszu row_number\r\n",
        "            for element_number in range(size):\r\n",
        "                # jeśli numer elementu jest parzysty\r\n",
        "                if element_number % 2 == 0:\r\n",
        "                    # to wstawia jedynkę\r\n",
        "                    A[row_number][element_number] = 1\r\n",
        "        # jeśli numer wiersza jest nieparzysty\r\n",
        "        elif row_number % 2 == 1:\r\n",
        "            # przechodzi przez numery elementów w wierszu row_number\r\n",
        "            for element_number in range(size):\r\n",
        "                # jeśli numer elementu jest nieparzysty\r\n",
        "                if element_number % 2 == 1:\r\n",
        "                    # to wstawia jedynkę\r\n",
        "                    A[row_number][element_number] = 1\r\n",
        "    return A\r\n",
        "\r\n",
        "naprzemian(8)"
      ],
      "execution_count": 172,
      "outputs": [
        {
          "output_type": "execute_result",
          "data": {
            "text/plain": [
              "array([[1., 0., 1., 0., 1., 0., 1., 0.],\n",
              "       [0., 1., 0., 1., 0., 1., 0., 1.],\n",
              "       [1., 0., 1., 0., 1., 0., 1., 0.],\n",
              "       [0., 1., 0., 1., 0., 1., 0., 1.],\n",
              "       [1., 0., 1., 0., 1., 0., 1., 0.],\n",
              "       [0., 1., 0., 1., 0., 1., 0., 1.],\n",
              "       [1., 0., 1., 0., 1., 0., 1., 0.],\n",
              "       [0., 1., 0., 1., 0., 1., 0., 1.]])"
            ]
          },
          "metadata": {
            "tags": []
          },
          "execution_count": 172
        }
      ]
    },
    {
      "cell_type": "markdown",
      "metadata": {
        "id": "oUhGTno_AJRV"
      },
      "source": [
        "# **pandas**"
      ]
    },
    {
      "cell_type": "code",
      "metadata": {
        "colab": {
          "base_uri": "https://localhost:8080/",
          "height": 141
        },
        "id": "p5KDdFMTAN3M",
        "outputId": "808a7490-a1e4-4d73-de6a-51092513a8c3"
      },
      "source": [
        "import pandas as pd\r\n",
        "\r\n",
        "df = pd.DataFrame({\r\n",
        "    \"name\": [\"Kamil\", \"John\", \"Alfred\"],\r\n",
        "    \"age\": [21, 42, 18],\r\n",
        "    \"height\": [1.83, 1.96, 1.79],\r\n",
        "    \"weight\": [101.8, 75.2, 45.5],\r\n",
        "    \"is_married\": [True, False, True],\r\n",
        "    \"website\": [\"kamil-dash.pl\", \"john-django.com\", 'alfred-spring.pl']\r\n",
        "})\r\n",
        "\r\n",
        "df"
      ],
      "execution_count": 173,
      "outputs": [
        {
          "output_type": "execute_result",
          "data": {
            "text/html": [
              "<div>\n",
              "<style scoped>\n",
              "    .dataframe tbody tr th:only-of-type {\n",
              "        vertical-align: middle;\n",
              "    }\n",
              "\n",
              "    .dataframe tbody tr th {\n",
              "        vertical-align: top;\n",
              "    }\n",
              "\n",
              "    .dataframe thead th {\n",
              "        text-align: right;\n",
              "    }\n",
              "</style>\n",
              "<table border=\"1\" class=\"dataframe\">\n",
              "  <thead>\n",
              "    <tr style=\"text-align: right;\">\n",
              "      <th></th>\n",
              "      <th>name</th>\n",
              "      <th>age</th>\n",
              "      <th>height</th>\n",
              "      <th>weight</th>\n",
              "      <th>is_married</th>\n",
              "      <th>website</th>\n",
              "    </tr>\n",
              "  </thead>\n",
              "  <tbody>\n",
              "    <tr>\n",
              "      <th>0</th>\n",
              "      <td>Kamil</td>\n",
              "      <td>21</td>\n",
              "      <td>1.83</td>\n",
              "      <td>101.8</td>\n",
              "      <td>True</td>\n",
              "      <td>kamil-dash.pl</td>\n",
              "    </tr>\n",
              "    <tr>\n",
              "      <th>1</th>\n",
              "      <td>John</td>\n",
              "      <td>42</td>\n",
              "      <td>1.96</td>\n",
              "      <td>75.2</td>\n",
              "      <td>False</td>\n",
              "      <td>john-django.com</td>\n",
              "    </tr>\n",
              "    <tr>\n",
              "      <th>2</th>\n",
              "      <td>Alfred</td>\n",
              "      <td>18</td>\n",
              "      <td>1.79</td>\n",
              "      <td>45.5</td>\n",
              "      <td>True</td>\n",
              "      <td>alfred-spring.pl</td>\n",
              "    </tr>\n",
              "  </tbody>\n",
              "</table>\n",
              "</div>"
            ],
            "text/plain": [
              "     name  age  height  weight  is_married           website\n",
              "0   Kamil   21    1.83   101.8        True     kamil-dash.pl\n",
              "1    John   42    1.96    75.2       False   john-django.com\n",
              "2  Alfred   18    1.79    45.5        True  alfred-spring.pl"
            ]
          },
          "metadata": {
            "tags": []
          },
          "execution_count": 173
        }
      ]
    },
    {
      "cell_type": "markdown",
      "metadata": {
        "id": "Ai4dYK1YAUKt"
      },
      "source": [
        "### 1. Dodaje 5 do kolumny 'age'"
      ]
    },
    {
      "cell_type": "code",
      "metadata": {
        "colab": {
          "base_uri": "https://localhost:8080/",
          "height": 141
        },
        "id": "S1FW8tOrAX-x",
        "outputId": "cc0c129a-701e-40a5-dca7-9545cb25c4f4"
      },
      "source": [
        "df[\"age_plus_5\"] = df[\"age\"].apply(lambda x: x + 5)\r\n",
        "df"
      ],
      "execution_count": 174,
      "outputs": [
        {
          "output_type": "execute_result",
          "data": {
            "text/html": [
              "<div>\n",
              "<style scoped>\n",
              "    .dataframe tbody tr th:only-of-type {\n",
              "        vertical-align: middle;\n",
              "    }\n",
              "\n",
              "    .dataframe tbody tr th {\n",
              "        vertical-align: top;\n",
              "    }\n",
              "\n",
              "    .dataframe thead th {\n",
              "        text-align: right;\n",
              "    }\n",
              "</style>\n",
              "<table border=\"1\" class=\"dataframe\">\n",
              "  <thead>\n",
              "    <tr style=\"text-align: right;\">\n",
              "      <th></th>\n",
              "      <th>name</th>\n",
              "      <th>age</th>\n",
              "      <th>height</th>\n",
              "      <th>weight</th>\n",
              "      <th>is_married</th>\n",
              "      <th>website</th>\n",
              "      <th>age_plus_5</th>\n",
              "    </tr>\n",
              "  </thead>\n",
              "  <tbody>\n",
              "    <tr>\n",
              "      <th>0</th>\n",
              "      <td>Kamil</td>\n",
              "      <td>21</td>\n",
              "      <td>1.83</td>\n",
              "      <td>101.8</td>\n",
              "      <td>True</td>\n",
              "      <td>kamil-dash.pl</td>\n",
              "      <td>26</td>\n",
              "    </tr>\n",
              "    <tr>\n",
              "      <th>1</th>\n",
              "      <td>John</td>\n",
              "      <td>42</td>\n",
              "      <td>1.96</td>\n",
              "      <td>75.2</td>\n",
              "      <td>False</td>\n",
              "      <td>john-django.com</td>\n",
              "      <td>47</td>\n",
              "    </tr>\n",
              "    <tr>\n",
              "      <th>2</th>\n",
              "      <td>Alfred</td>\n",
              "      <td>18</td>\n",
              "      <td>1.79</td>\n",
              "      <td>45.5</td>\n",
              "      <td>True</td>\n",
              "      <td>alfred-spring.pl</td>\n",
              "      <td>23</td>\n",
              "    </tr>\n",
              "  </tbody>\n",
              "</table>\n",
              "</div>"
            ],
            "text/plain": [
              "     name  age  height  weight  is_married           website  age_plus_5\n",
              "0   Kamil   21    1.83   101.8        True     kamil-dash.pl          26\n",
              "1    John   42    1.96    75.2       False   john-django.com          47\n",
              "2  Alfred   18    1.79    45.5        True  alfred-spring.pl          23"
            ]
          },
          "metadata": {
            "tags": []
          },
          "execution_count": 174
        }
      ]
    },
    {
      "cell_type": "markdown",
      "metadata": {
        "id": "XbaacK6AAqL6"
      },
      "source": [
        "### 2. Jeśli żonaty to w nowej kolumnie 'years_in_marriage' wpisuje jego wiek pomniejszony o 10. Jeśli singiel to 0."
      ]
    },
    {
      "cell_type": "code",
      "metadata": {
        "colab": {
          "base_uri": "https://localhost:8080/",
          "height": 141
        },
        "id": "lml7IUO6AvX1",
        "outputId": "d551a15d-1fb8-456a-864f-6506a3846216"
      },
      "source": [
        "# Jeśli żonaty to w nowej kolumnie 'years_in_marriage' wpisuje jego wiek pomniejszony o 10.\r\n",
        "# Jeśli singiel, to wyświetli się NaN.\r\n",
        "df[\"years_in_marriage\"] = df[\"age\"][df[\"is_married\"]==True].apply(lambda x: x - 10)\r\n",
        "# wpisanie 0 używając apply dla tych co mają False powodowało wświetlenie NaN dla pozostałych\r\n",
        "# df[\"years_in_marriage\"] = df[\"age\"][df[\"is_married\"]==False].apply(lambda x: 0)\r\n",
        "# Zamieniam NaN na 0\r\n",
        "df = df.fillna(value={\"years_in_marriage\": 0})\r\n",
        "df"
      ],
      "execution_count": 175,
      "outputs": [
        {
          "output_type": "execute_result",
          "data": {
            "text/html": [
              "<div>\n",
              "<style scoped>\n",
              "    .dataframe tbody tr th:only-of-type {\n",
              "        vertical-align: middle;\n",
              "    }\n",
              "\n",
              "    .dataframe tbody tr th {\n",
              "        vertical-align: top;\n",
              "    }\n",
              "\n",
              "    .dataframe thead th {\n",
              "        text-align: right;\n",
              "    }\n",
              "</style>\n",
              "<table border=\"1\" class=\"dataframe\">\n",
              "  <thead>\n",
              "    <tr style=\"text-align: right;\">\n",
              "      <th></th>\n",
              "      <th>name</th>\n",
              "      <th>age</th>\n",
              "      <th>height</th>\n",
              "      <th>weight</th>\n",
              "      <th>is_married</th>\n",
              "      <th>website</th>\n",
              "      <th>age_plus_5</th>\n",
              "      <th>years_in_marriage</th>\n",
              "    </tr>\n",
              "  </thead>\n",
              "  <tbody>\n",
              "    <tr>\n",
              "      <th>0</th>\n",
              "      <td>Kamil</td>\n",
              "      <td>21</td>\n",
              "      <td>1.83</td>\n",
              "      <td>101.8</td>\n",
              "      <td>True</td>\n",
              "      <td>kamil-dash.pl</td>\n",
              "      <td>26</td>\n",
              "      <td>11.0</td>\n",
              "    </tr>\n",
              "    <tr>\n",
              "      <th>1</th>\n",
              "      <td>John</td>\n",
              "      <td>42</td>\n",
              "      <td>1.96</td>\n",
              "      <td>75.2</td>\n",
              "      <td>False</td>\n",
              "      <td>john-django.com</td>\n",
              "      <td>47</td>\n",
              "      <td>0.0</td>\n",
              "    </tr>\n",
              "    <tr>\n",
              "      <th>2</th>\n",
              "      <td>Alfred</td>\n",
              "      <td>18</td>\n",
              "      <td>1.79</td>\n",
              "      <td>45.5</td>\n",
              "      <td>True</td>\n",
              "      <td>alfred-spring.pl</td>\n",
              "      <td>23</td>\n",
              "      <td>8.0</td>\n",
              "    </tr>\n",
              "  </tbody>\n",
              "</table>\n",
              "</div>"
            ],
            "text/plain": [
              "     name  age  height  ...           website  age_plus_5 years_in_marriage\n",
              "0   Kamil   21    1.83  ...     kamil-dash.pl          26              11.0\n",
              "1    John   42    1.96  ...   john-django.com          47               0.0\n",
              "2  Alfred   18    1.79  ...  alfred-spring.pl          23               8.0\n",
              "\n",
              "[3 rows x 8 columns]"
            ]
          },
          "metadata": {
            "tags": []
          },
          "execution_count": 175
        }
      ]
    },
    {
      "cell_type": "markdown",
      "metadata": {
        "id": "w8AfJY08A5M_"
      },
      "source": [
        "### 3. Rozdziela adres strony od domeny"
      ]
    },
    {
      "cell_type": "code",
      "metadata": {
        "colab": {
          "base_uri": "https://localhost:8080/",
          "height": 141
        },
        "id": "M2b1_CUDA9ii",
        "outputId": "e4c657c9-2670-4687-e756-370c4c5ff373"
      },
      "source": [
        "new_df = df[\"website\"].str.split(\".\", expand=True)\r\n",
        "df[\"adres\"] = new_df[0]\r\n",
        "df[\"domena\"] = new_df[1]\r\n",
        "df"
      ],
      "execution_count": 176,
      "outputs": [
        {
          "output_type": "execute_result",
          "data": {
            "text/html": [
              "<div>\n",
              "<style scoped>\n",
              "    .dataframe tbody tr th:only-of-type {\n",
              "        vertical-align: middle;\n",
              "    }\n",
              "\n",
              "    .dataframe tbody tr th {\n",
              "        vertical-align: top;\n",
              "    }\n",
              "\n",
              "    .dataframe thead th {\n",
              "        text-align: right;\n",
              "    }\n",
              "</style>\n",
              "<table border=\"1\" class=\"dataframe\">\n",
              "  <thead>\n",
              "    <tr style=\"text-align: right;\">\n",
              "      <th></th>\n",
              "      <th>name</th>\n",
              "      <th>age</th>\n",
              "      <th>height</th>\n",
              "      <th>weight</th>\n",
              "      <th>is_married</th>\n",
              "      <th>website</th>\n",
              "      <th>age_plus_5</th>\n",
              "      <th>years_in_marriage</th>\n",
              "      <th>adres</th>\n",
              "      <th>domena</th>\n",
              "    </tr>\n",
              "  </thead>\n",
              "  <tbody>\n",
              "    <tr>\n",
              "      <th>0</th>\n",
              "      <td>Kamil</td>\n",
              "      <td>21</td>\n",
              "      <td>1.83</td>\n",
              "      <td>101.8</td>\n",
              "      <td>True</td>\n",
              "      <td>kamil-dash.pl</td>\n",
              "      <td>26</td>\n",
              "      <td>11.0</td>\n",
              "      <td>kamil-dash</td>\n",
              "      <td>pl</td>\n",
              "    </tr>\n",
              "    <tr>\n",
              "      <th>1</th>\n",
              "      <td>John</td>\n",
              "      <td>42</td>\n",
              "      <td>1.96</td>\n",
              "      <td>75.2</td>\n",
              "      <td>False</td>\n",
              "      <td>john-django.com</td>\n",
              "      <td>47</td>\n",
              "      <td>0.0</td>\n",
              "      <td>john-django</td>\n",
              "      <td>com</td>\n",
              "    </tr>\n",
              "    <tr>\n",
              "      <th>2</th>\n",
              "      <td>Alfred</td>\n",
              "      <td>18</td>\n",
              "      <td>1.79</td>\n",
              "      <td>45.5</td>\n",
              "      <td>True</td>\n",
              "      <td>alfred-spring.pl</td>\n",
              "      <td>23</td>\n",
              "      <td>8.0</td>\n",
              "      <td>alfred-spring</td>\n",
              "      <td>pl</td>\n",
              "    </tr>\n",
              "  </tbody>\n",
              "</table>\n",
              "</div>"
            ],
            "text/plain": [
              "     name  age  height  ...  years_in_marriage          adres domena\n",
              "0   Kamil   21    1.83  ...               11.0     kamil-dash     pl\n",
              "1    John   42    1.96  ...                0.0    john-django    com\n",
              "2  Alfred   18    1.79  ...                8.0  alfred-spring     pl\n",
              "\n",
              "[3 rows x 10 columns]"
            ]
          },
          "metadata": {
            "tags": []
          },
          "execution_count": 176
        }
      ]
    },
    {
      "cell_type": "markdown",
      "metadata": {
        "id": "wzvFiQgtBpt0"
      },
      "source": [
        "### 4. Oblicz BMI czyli masa/(wzrost^2). Jeśli < 18.5 to niedowaga, a jeśli > 25 to nadwaga."
      ]
    },
    {
      "cell_type": "code",
      "metadata": {
        "colab": {
          "base_uri": "https://localhost:8080/",
          "height": 141
        },
        "id": "BKPxmn92Bt7b",
        "outputId": "538c1bcc-2781-4692-9946-ded896dc8887"
      },
      "source": [
        "import numpy as np\r\n",
        "\r\n",
        "df['BMI'] = df['weight'] / (df['height'] * df['height'])\r\n",
        "df[\"Stan_zdrowia\"] = df[\"BMI\"].apply(lambda x: \"niedowaga\" if x<18.5 else (\"nadwaga\" if x>25 else \"prawidłowy\"))\r\n",
        "df[[\"height\", \"weight\", \"BMI\", \"Stan_zdrowia\"]]"
      ],
      "execution_count": 177,
      "outputs": [
        {
          "output_type": "execute_result",
          "data": {
            "text/html": [
              "<div>\n",
              "<style scoped>\n",
              "    .dataframe tbody tr th:only-of-type {\n",
              "        vertical-align: middle;\n",
              "    }\n",
              "\n",
              "    .dataframe tbody tr th {\n",
              "        vertical-align: top;\n",
              "    }\n",
              "\n",
              "    .dataframe thead th {\n",
              "        text-align: right;\n",
              "    }\n",
              "</style>\n",
              "<table border=\"1\" class=\"dataframe\">\n",
              "  <thead>\n",
              "    <tr style=\"text-align: right;\">\n",
              "      <th></th>\n",
              "      <th>height</th>\n",
              "      <th>weight</th>\n",
              "      <th>BMI</th>\n",
              "      <th>Stan_zdrowia</th>\n",
              "    </tr>\n",
              "  </thead>\n",
              "  <tbody>\n",
              "    <tr>\n",
              "      <th>0</th>\n",
              "      <td>1.83</td>\n",
              "      <td>101.8</td>\n",
              "      <td>30.398041</td>\n",
              "      <td>nadwaga</td>\n",
              "    </tr>\n",
              "    <tr>\n",
              "      <th>1</th>\n",
              "      <td>1.96</td>\n",
              "      <td>75.2</td>\n",
              "      <td>19.575177</td>\n",
              "      <td>prawidłowy</td>\n",
              "    </tr>\n",
              "    <tr>\n",
              "      <th>2</th>\n",
              "      <td>1.79</td>\n",
              "      <td>45.5</td>\n",
              "      <td>14.200556</td>\n",
              "      <td>niedowaga</td>\n",
              "    </tr>\n",
              "  </tbody>\n",
              "</table>\n",
              "</div>"
            ],
            "text/plain": [
              "   height  weight        BMI Stan_zdrowia\n",
              "0    1.83   101.8  30.398041      nadwaga\n",
              "1    1.96    75.2  19.575177   prawidłowy\n",
              "2    1.79    45.5  14.200556    niedowaga"
            ]
          },
          "metadata": {
            "tags": []
          },
          "execution_count": 177
        }
      ]
    }
  ]
}