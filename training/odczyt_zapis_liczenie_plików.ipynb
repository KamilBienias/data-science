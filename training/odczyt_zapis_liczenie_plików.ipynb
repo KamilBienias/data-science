{
  "nbformat": 4,
  "nbformat_minor": 0,
  "metadata": {
    "colab": {
      "name": "odczyt_zapis_liczenie_plików.ipynb",
      "provenance": [],
      "collapsed_sections": [],
      "authorship_tag": "ABX9TyOdkEOdKOkYkdsO7PHAoMjV",
      "include_colab_link": true
    },
    "kernelspec": {
      "name": "python3",
      "display_name": "Python 3"
    }
  },
  "cells": [
    {
      "cell_type": "markdown",
      "metadata": {
        "id": "view-in-github",
        "colab_type": "text"
      },
      "source": [
        "<a href=\"https://colab.research.google.com/github/KamilBienias/data-science/blob/main/training/odczyt_zapis_liczenie_plik%C3%B3w.ipynb\" target=\"_parent\"><img src=\"https://colab.research.google.com/assets/colab-badge.svg\" alt=\"Open In Colab\"/></a>"
      ]
    },
    {
      "cell_type": "code",
      "metadata": {
        "id": "ShOAdeFDGcWp"
      },
      "source": [
        "import os\r\n",
        "# tworzy ścieżkę nowego folderu, z którego będę brał dane,\r\n",
        "# biorąc pod uwagę system operacyjny win \\ lub linux /\r\n",
        "file_input_path = os.path.join(\"datasets\", \"my_folder\", \"input\")\r\n",
        "# tworzy folder (jeśli nie istnieje), do którego trzeba własnoręcznie skopiować plik\r\n",
        "if not os.path.isdir(file_input_path):\r\n",
        "        os.makedirs(file_input_path)"
      ],
      "execution_count": null,
      "outputs": []
    },
    {
      "cell_type": "code",
      "metadata": {
        "id": "IUlnEL9fHOv-"
      },
      "source": [
        "# odczyt ścieżki pliku znajdującego się w utworzonym powyżej folderze\r\n",
        "csv_path = os.path.join(file_input_path, \"my_file.csv\")\r\n",
        "# odczyt pliku i zapisanie go do DataFrame\r\n",
        "import pandas as pd\r\n",
        "df = pd.read_csv(csv_path)"
      ],
      "execution_count": null,
      "outputs": []
    },
    {
      "cell_type": "code",
      "metadata": {
        "id": "FookX6FVIDQt"
      },
      "source": [
        "# tworzy ścieżkę nowego folderu, do którego będę zapisywał dane,\r\n",
        "# biorąc pod uwagę system operacyjny win \\ lub linux /\r\n",
        "file_output_path = os.path.join(\"datasets\", \"my_folder\", \"output\")\r\n",
        "# zapis df do pliku csv z wymyśloną nazwą podaną w parametrze (bez kolumny indeksów)\r\n",
        "df.to_csv(os.path.join(file_output_path, output_file_name), index=False)"
      ],
      "execution_count": null,
      "outputs": []
    },
    {
      "cell_type": "code",
      "metadata": {
        "id": "F_Fq44VlpRL1"
      },
      "source": [
        "# sprawdza ile jest plików w poszczególnych folderach\r\n",
        "base_dir = './data/folders'\r\n",
        "\r\n",
        "# do słownika raw_number_of_files mapujemy nazwę klasy i liczbę plików w tym katalogu\r\n",
        "raw_number_of_files = {}\r\n",
        "# nazwy klas będą kluczami słownika\r\n",
        "folders = ['directory1', 'directory2', 'directory3', 'directory4']\r\n",
        "for dir in folders:\r\n",
        "    # os.listdir wylistuje pliki w katalogu na przykład ./data/folders/directory2\r\n",
        "    raw_number_of_files[dir] = len(os.listdir(os.path.join(base_dir, dir)))\r\n",
        "\r\n",
        "raw_number_of_files.items()"
      ],
      "execution_count": null,
      "outputs": []
    }
  ]
}