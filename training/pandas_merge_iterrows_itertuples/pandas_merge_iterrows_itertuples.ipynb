{
  "nbformat": 4,
  "nbformat_minor": 0,
  "metadata": {
    "colab": {
      "name": "pandas merge iterrows itertuples.ipynb",
      "provenance": [],
      "collapsed_sections": [],
      "authorship_tag": "ABX9TyPW6HhU+b0/zW+YVZ9apfAY",
      "include_colab_link": true
    },
    "kernelspec": {
      "name": "python3",
      "display_name": "Python 3"
    }
  },
  "cells": [
    {
      "cell_type": "markdown",
      "metadata": {
        "id": "view-in-github",
        "colab_type": "text"
      },
      "source": [
        "<a href=\"https://colab.research.google.com/github/KamilBienias/data-science/blob/main/training/pandas_merge_iterrows_itertuples/pandas_merge_iterrows_itertuples.ipynb\" target=\"_parent\"><img src=\"https://colab.research.google.com/assets/colab-badge.svg\" alt=\"Open In Colab\"/></a>"
      ]
    },
    {
      "cell_type": "code",
      "metadata": {
        "id": "1JpVRYcabII2"
      },
      "source": [
        "# https://github.com/AnalitykEduPL/Najwazniejsze-biblioteki-Python/blob/master/Pandas.ipynb\r\n",
        "import pandas as pd"
      ],
      "execution_count": null,
      "outputs": []
    },
    {
      "cell_type": "markdown",
      "metadata": {
        "id": "OyGRd-1PcVZz"
      },
      "source": [
        "# Pandas Series"
      ]
    },
    {
      "cell_type": "markdown",
      "metadata": {
        "id": "koQvYGYFca5C"
      },
      "source": [
        "Pandas Series, jest jednym z dwóch podstawowych typów danych w Pandas. Jest to typ, który reprezentuje jedną kolumnę. Spójrzmy na kilka operacji"
      ]
    },
    {
      "cell_type": "code",
      "metadata": {
        "id": "GNLbgGp5ci4a"
      },
      "source": [
        "a = pd.Series([-1,1,3,5,7])"
      ],
      "execution_count": null,
      "outputs": []
    },
    {
      "cell_type": "code",
      "metadata": {
        "colab": {
          "base_uri": "https://localhost:8080/"
        },
        "id": "hf3s_4VBcjXp",
        "outputId": "4b94438f-4343-47e4-a3cc-862c92d22054"
      },
      "source": [
        "a * 10"
      ],
      "execution_count": null,
      "outputs": [
        {
          "output_type": "execute_result",
          "data": {
            "text/plain": [
              "0   -10\n",
              "1    10\n",
              "2    30\n",
              "3    50\n",
              "4    70\n",
              "dtype: int64"
            ]
          },
          "metadata": {
            "tags": []
          },
          "execution_count": 26
        }
      ]
    },
    {
      "cell_type": "code",
      "metadata": {
        "colab": {
          "base_uri": "https://localhost:8080/"
        },
        "id": "3Vk8yUDLcngm",
        "outputId": "b3ae5376-010e-4d9b-c37c-3d1d0f78023c"
      },
      "source": [
        "a.abs()"
      ],
      "execution_count": null,
      "outputs": [
        {
          "output_type": "execute_result",
          "data": {
            "text/plain": [
              "0    1\n",
              "1    1\n",
              "2    3\n",
              "3    5\n",
              "4    7\n",
              "dtype: int64"
            ]
          },
          "metadata": {
            "tags": []
          },
          "execution_count": 27
        }
      ]
    },
    {
      "cell_type": "code",
      "metadata": {
        "colab": {
          "base_uri": "https://localhost:8080/"
        },
        "id": "HvsdqMbkcqsB",
        "outputId": "c809ed18-808a-418f-b03d-88f9c71fdf9f"
      },
      "source": [
        "a.describe()"
      ],
      "execution_count": null,
      "outputs": [
        {
          "output_type": "execute_result",
          "data": {
            "text/plain": [
              "count    5.000000\n",
              "mean     3.000000\n",
              "std      3.162278\n",
              "min     -1.000000\n",
              "25%      1.000000\n",
              "50%      3.000000\n",
              "75%      5.000000\n",
              "max      7.000000\n",
              "dtype: float64"
            ]
          },
          "metadata": {
            "tags": []
          },
          "execution_count": 28
        }
      ]
    },
    {
      "cell_type": "markdown",
      "metadata": {
        "id": "bwjUrYsQcvIN"
      },
      "source": [
        "\r\n",
        "Domyślnym indexem, są liczby, zaczynające sie od 0. Możemy to zmienić"
      ]
    },
    {
      "cell_type": "code",
      "metadata": {
        "colab": {
          "base_uri": "https://localhost:8080/"
        },
        "id": "7NpPbuDocvzB",
        "outputId": "17d5d5aa-5af1-40a1-ab51-7aaf4ce87d0a"
      },
      "source": [
        "a.index = ['Pierwsza','Druga','Trzecia','Czwarta','Piąta']\r\n",
        "a"
      ],
      "execution_count": null,
      "outputs": [
        {
          "output_type": "execute_result",
          "data": {
            "text/plain": [
              "Pierwsza   -1\n",
              "Druga       1\n",
              "Trzecia     3\n",
              "Czwarta     5\n",
              "Piąta       7\n",
              "dtype: int64"
            ]
          },
          "metadata": {
            "tags": []
          },
          "execution_count": 29
        }
      ]
    },
    {
      "cell_type": "code",
      "metadata": {
        "colab": {
          "base_uri": "https://localhost:8080/"
        },
        "id": "WC-AaBfgc1nx",
        "outputId": "d73dabb2-82d7-4210-fe9b-748ecc953d89"
      },
      "source": [
        "a['Piąta']"
      ],
      "execution_count": null,
      "outputs": [
        {
          "output_type": "execute_result",
          "data": {
            "text/plain": [
              "7"
            ]
          },
          "metadata": {
            "tags": []
          },
          "execution_count": 30
        }
      ]
    },
    {
      "cell_type": "markdown",
      "metadata": {
        "id": "h16RCHe_dJbZ"
      },
      "source": [
        "# Pandas DataFrame"
      ]
    },
    {
      "cell_type": "markdown",
      "metadata": {
        "id": "3VmXCctCdLVB"
      },
      "source": [
        "Drugim, po Pandas Series, podsawowym typem danych w Pandas, to DataFrame. Jest to typ wielo-kolumnowy, który możemy porównać do efektywniejszej tabeli w Excelu. To właśnie na nim będziemy wykonywać większość operacji w Pandas."
      ]
    },
    {
      "cell_type": "markdown",
      "metadata": {
        "id": "0YF15H5idPOh"
      },
      "source": [
        "## Tworzenie DataFrame"
      ]
    },
    {
      "cell_type": "markdown",
      "metadata": {
        "id": "GssG725jdR-r"
      },
      "source": [
        "### Na bazie listy"
      ]
    },
    {
      "cell_type": "markdown",
      "metadata": {
        "id": "GN2zVE77dWfo"
      },
      "source": [
        "DataFrame, można tworzyć na wiele sposobów. Pierwszy to, na bazie listy."
      ]
    },
    {
      "cell_type": "code",
      "metadata": {
        "colab": {
          "base_uri": "https://localhost:8080/"
        },
        "id": "PvqE5fYUdXjM",
        "outputId": "db0d4a79-8574-4636-e70b-add8d6d03b54"
      },
      "source": [
        "a = [['Ania',24],['Michał',9],['Darek',40],['Ewa',43]]\r\n",
        "df_a = pd.DataFrame(a)\r\n",
        "print(df_a)\r\n",
        "print()\r\n",
        "df_a.columns = 'Imię', 'Wiek'\r\n",
        "print(df_a)"
      ],
      "execution_count": null,
      "outputs": [
        {
          "output_type": "stream",
          "text": [
            "        0   1\n",
            "0    Ania  24\n",
            "1  Michał   9\n",
            "2   Darek  40\n",
            "3     Ewa  43\n",
            "\n",
            "     Imię  Wiek\n",
            "0    Ania    24\n",
            "1  Michał     9\n",
            "2   Darek    40\n",
            "3     Ewa    43\n"
          ],
          "name": "stdout"
        }
      ]
    },
    {
      "cell_type": "markdown",
      "metadata": {
        "id": "BNrNXzYvdxcY"
      },
      "source": [
        "### Na bazie słownika"
      ]
    },
    {
      "cell_type": "markdown",
      "metadata": {
        "id": "2W4BFgb7dy25"
      },
      "source": [
        "Możemy też, utworzyć DataFrame, na bazie słownika:"
      ]
    },
    {
      "cell_type": "code",
      "metadata": {
        "colab": {
          "base_uri": "https://localhost:8080/",
          "height": 201
        },
        "id": "Q69_DR-pd1Wc",
        "outputId": "10a58738-ed54-4073-e7a5-5ed76db877dd"
      },
      "source": [
        "b = {'Imię':['Ewa','Michał','Krzysiek','Kasia','Lucja'],\r\n",
        "     'Miasto':['Warszawa','Kraków','Gdańsk','Poznań','Łódź']\r\n",
        "     }\r\n",
        "df_b = pd.DataFrame(b)\r\n",
        "df_b"
      ],
      "execution_count": null,
      "outputs": [
        {
          "output_type": "execute_result",
          "data": {
            "text/html": [
              "<div>\n",
              "<style scoped>\n",
              "    .dataframe tbody tr th:only-of-type {\n",
              "        vertical-align: middle;\n",
              "    }\n",
              "\n",
              "    .dataframe tbody tr th {\n",
              "        vertical-align: top;\n",
              "    }\n",
              "\n",
              "    .dataframe thead th {\n",
              "        text-align: right;\n",
              "    }\n",
              "</style>\n",
              "<table border=\"1\" class=\"dataframe\">\n",
              "  <thead>\n",
              "    <tr style=\"text-align: right;\">\n",
              "      <th></th>\n",
              "      <th>Imię</th>\n",
              "      <th>Miasto</th>\n",
              "    </tr>\n",
              "  </thead>\n",
              "  <tbody>\n",
              "    <tr>\n",
              "      <th>0</th>\n",
              "      <td>Ewa</td>\n",
              "      <td>Warszawa</td>\n",
              "    </tr>\n",
              "    <tr>\n",
              "      <th>1</th>\n",
              "      <td>Michał</td>\n",
              "      <td>Kraków</td>\n",
              "    </tr>\n",
              "    <tr>\n",
              "      <th>2</th>\n",
              "      <td>Krzysiek</td>\n",
              "      <td>Gdańsk</td>\n",
              "    </tr>\n",
              "    <tr>\n",
              "      <th>3</th>\n",
              "      <td>Kasia</td>\n",
              "      <td>Poznań</td>\n",
              "    </tr>\n",
              "    <tr>\n",
              "      <th>4</th>\n",
              "      <td>Lucja</td>\n",
              "      <td>Łódź</td>\n",
              "    </tr>\n",
              "  </tbody>\n",
              "</table>\n",
              "</div>"
            ],
            "text/plain": [
              "       Imię    Miasto\n",
              "0       Ewa  Warszawa\n",
              "1    Michał    Kraków\n",
              "2  Krzysiek    Gdańsk\n",
              "3     Kasia    Poznań\n",
              "4     Lucja      Łódź"
            ]
          },
          "metadata": {
            "tags": []
          },
          "execution_count": 32
        }
      ]
    },
    {
      "cell_type": "markdown",
      "metadata": {
        "id": "OuLh_0s4eTRd"
      },
      "source": [
        "## Wczytywanie pliku"
      ]
    },
    {
      "cell_type": "markdown",
      "metadata": {
        "id": "P6XSQSMlebGZ"
      },
      "source": [
        "Bardzo często, będzie tworzyć nasz DataFrame na bazie pliku. Możemy bez problemu, wczytać pliki typu CSV, XLS, JSON i więcej\r\n",
        "\r\n",
        "Zwyczajowo, zmienna typu DataFrame, nazywana jest 'df'"
      ]
    },
    {
      "cell_type": "code",
      "metadata": {
        "colab": {
          "base_uri": "https://localhost:8080/"
        },
        "id": "8NDA2Gs0eb_B",
        "outputId": "1b18c44b-a3d5-4209-e70e-d3a73bde2109"
      },
      "source": [
        "df = pd.read_csv('http://analityk.edu.pl/wp-content/uploads/2020/01/Countries.csv')\r\n",
        "type(df)"
      ],
      "execution_count": null,
      "outputs": [
        {
          "output_type": "execute_result",
          "data": {
            "text/plain": [
              "pandas.core.frame.DataFrame"
            ]
          },
          "metadata": {
            "tags": []
          },
          "execution_count": 33
        }
      ]
    },
    {
      "cell_type": "markdown",
      "metadata": {
        "id": "GeRS9to4e8xa"
      },
      "source": [
        "## Przeglądanie DataFrame"
      ]
    },
    {
      "cell_type": "markdown",
      "metadata": {
        "id": "DVxadZxxfBJD"
      },
      "source": [
        "DataFrame, można przeglądać na wiele sposobów. Są one ważną podstawą, przed kolejnymi operacjami.\r\n",
        "\r\n",
        "Jeżeli chcemy wyświetlić 3 pierwsze wiersze:"
      ]
    },
    {
      "cell_type": "code",
      "metadata": {
        "colab": {
          "base_uri": "https://localhost:8080/",
          "height": 278
        },
        "id": "QK66QNDgfDNo",
        "outputId": "9fabc2b7-7731-4854-a5da-4f90851c1dc8"
      },
      "source": [
        "df[:3]"
      ],
      "execution_count": null,
      "outputs": [
        {
          "output_type": "execute_result",
          "data": {
            "text/html": [
              "<div>\n",
              "<style scoped>\n",
              "    .dataframe tbody tr th:only-of-type {\n",
              "        vertical-align: middle;\n",
              "    }\n",
              "\n",
              "    .dataframe tbody tr th {\n",
              "        vertical-align: top;\n",
              "    }\n",
              "\n",
              "    .dataframe thead th {\n",
              "        text-align: right;\n",
              "    }\n",
              "</style>\n",
              "<table border=\"1\" class=\"dataframe\">\n",
              "  <thead>\n",
              "    <tr style=\"text-align: right;\">\n",
              "      <th></th>\n",
              "      <th>Country</th>\n",
              "      <th>Region</th>\n",
              "      <th>Population</th>\n",
              "      <th>Area sq. mi.</th>\n",
              "      <th>Pop. Density sq. mi.</th>\n",
              "      <th>Coastline coast/area ratio</th>\n",
              "      <th>Net migration</th>\n",
              "      <th>Infant mortality per 1000 births</th>\n",
              "      <th>GDP</th>\n",
              "      <th>Literacy</th>\n",
              "      <th>Phones per 1000</th>\n",
              "      <th>Climate</th>\n",
              "      <th>Agriculture</th>\n",
              "      <th>Industry</th>\n",
              "      <th>Service</th>\n",
              "    </tr>\n",
              "  </thead>\n",
              "  <tbody>\n",
              "    <tr>\n",
              "      <th>0</th>\n",
              "      <td>Afghanistan</td>\n",
              "      <td>ASIA (EX. NEAR EAST)</td>\n",
              "      <td>31056997</td>\n",
              "      <td>647500</td>\n",
              "      <td>48,0</td>\n",
              "      <td>0,00</td>\n",
              "      <td>23,06</td>\n",
              "      <td>163,07</td>\n",
              "      <td>700.0</td>\n",
              "      <td>36,0</td>\n",
              "      <td>3,2</td>\n",
              "      <td>1</td>\n",
              "      <td>0,38</td>\n",
              "      <td>0,24</td>\n",
              "      <td>0,38</td>\n",
              "    </tr>\n",
              "    <tr>\n",
              "      <th>1</th>\n",
              "      <td>Albania</td>\n",
              "      <td>EASTERN EUROPE</td>\n",
              "      <td>3581655</td>\n",
              "      <td>28748</td>\n",
              "      <td>124,6</td>\n",
              "      <td>1,26</td>\n",
              "      <td>-4,93</td>\n",
              "      <td>21,52</td>\n",
              "      <td>4500.0</td>\n",
              "      <td>86,5</td>\n",
              "      <td>71,2</td>\n",
              "      <td>3</td>\n",
              "      <td>0,232</td>\n",
              "      <td>0,188</td>\n",
              "      <td>0,579</td>\n",
              "    </tr>\n",
              "    <tr>\n",
              "      <th>2</th>\n",
              "      <td>Algeria</td>\n",
              "      <td>NORTHERN AFRICA</td>\n",
              "      <td>32930091</td>\n",
              "      <td>2381740</td>\n",
              "      <td>13,8</td>\n",
              "      <td>0,04</td>\n",
              "      <td>-0,39</td>\n",
              "      <td>31</td>\n",
              "      <td>6000.0</td>\n",
              "      <td>70,0</td>\n",
              "      <td>78,1</td>\n",
              "      <td>1</td>\n",
              "      <td>0,101</td>\n",
              "      <td>0,6</td>\n",
              "      <td>0,298</td>\n",
              "    </tr>\n",
              "  </tbody>\n",
              "</table>\n",
              "</div>"
            ],
            "text/plain": [
              "        Country                               Region  ...  Industry  Service\n",
              "0  Afghanistan         ASIA (EX. NEAR EAST)           ...      0,24     0,38\n",
              "1      Albania   EASTERN EUROPE                       ...     0,188    0,579\n",
              "2      Algeria   NORTHERN AFRICA                      ...       0,6    0,298\n",
              "\n",
              "[3 rows x 15 columns]"
            ]
          },
          "metadata": {
            "tags": []
          },
          "execution_count": 34
        }
      ]
    },
    {
      "cell_type": "markdown",
      "metadata": {
        "id": "jk91-VBGfhay"
      },
      "source": [
        "Jeżeli chcemy wyświetlić konkretne kolumny, specyfikujemy ich nazwę w [], oddzielone po przecinku"
      ]
    },
    {
      "cell_type": "code",
      "metadata": {
        "colab": {
          "base_uri": "https://localhost:8080/",
          "height": 414
        },
        "id": "O-AIefYzfj4x",
        "outputId": "fc2e96a1-d490-4ed9-8876-b02cdeeeee57"
      },
      "source": [
        "df[['Country','Region']]"
      ],
      "execution_count": null,
      "outputs": [
        {
          "output_type": "execute_result",
          "data": {
            "text/html": [
              "<div>\n",
              "<style scoped>\n",
              "    .dataframe tbody tr th:only-of-type {\n",
              "        vertical-align: middle;\n",
              "    }\n",
              "\n",
              "    .dataframe tbody tr th {\n",
              "        vertical-align: top;\n",
              "    }\n",
              "\n",
              "    .dataframe thead th {\n",
              "        text-align: right;\n",
              "    }\n",
              "</style>\n",
              "<table border=\"1\" class=\"dataframe\">\n",
              "  <thead>\n",
              "    <tr style=\"text-align: right;\">\n",
              "      <th></th>\n",
              "      <th>Country</th>\n",
              "      <th>Region</th>\n",
              "    </tr>\n",
              "  </thead>\n",
              "  <tbody>\n",
              "    <tr>\n",
              "      <th>0</th>\n",
              "      <td>Afghanistan</td>\n",
              "      <td>ASIA (EX. NEAR EAST)</td>\n",
              "    </tr>\n",
              "    <tr>\n",
              "      <th>1</th>\n",
              "      <td>Albania</td>\n",
              "      <td>EASTERN EUROPE</td>\n",
              "    </tr>\n",
              "    <tr>\n",
              "      <th>2</th>\n",
              "      <td>Algeria</td>\n",
              "      <td>NORTHERN AFRICA</td>\n",
              "    </tr>\n",
              "    <tr>\n",
              "      <th>3</th>\n",
              "      <td>American Samoa</td>\n",
              "      <td>OCEANIA</td>\n",
              "    </tr>\n",
              "    <tr>\n",
              "      <th>4</th>\n",
              "      <td>Andorra</td>\n",
              "      <td>WESTERN EUROPE</td>\n",
              "    </tr>\n",
              "    <tr>\n",
              "      <th>...</th>\n",
              "      <td>...</td>\n",
              "      <td>...</td>\n",
              "    </tr>\n",
              "    <tr>\n",
              "      <th>222</th>\n",
              "      <td>West Bank</td>\n",
              "      <td>NEAR EAST</td>\n",
              "    </tr>\n",
              "    <tr>\n",
              "      <th>223</th>\n",
              "      <td>Western Sahara</td>\n",
              "      <td>NORTHERN AFRICA</td>\n",
              "    </tr>\n",
              "    <tr>\n",
              "      <th>224</th>\n",
              "      <td>Yemen</td>\n",
              "      <td>NEAR EAST</td>\n",
              "    </tr>\n",
              "    <tr>\n",
              "      <th>225</th>\n",
              "      <td>Zambia</td>\n",
              "      <td>SUB-SAHARAN AFRICA</td>\n",
              "    </tr>\n",
              "    <tr>\n",
              "      <th>226</th>\n",
              "      <td>Zimbabwe</td>\n",
              "      <td>SUB-SAHARAN AFRICA</td>\n",
              "    </tr>\n",
              "  </tbody>\n",
              "</table>\n",
              "<p>227 rows × 2 columns</p>\n",
              "</div>"
            ],
            "text/plain": [
              "             Country                               Region\n",
              "0       Afghanistan         ASIA (EX. NEAR EAST)         \n",
              "1           Albania   EASTERN EUROPE                     \n",
              "2           Algeria   NORTHERN AFRICA                    \n",
              "3    American Samoa   OCEANIA                            \n",
              "4           Andorra   WESTERN EUROPE                     \n",
              "..               ...                                  ...\n",
              "222       West Bank   NEAR EAST                          \n",
              "223  Western Sahara   NORTHERN AFRICA                    \n",
              "224           Yemen   NEAR EAST                          \n",
              "225          Zambia   SUB-SAHARAN AFRICA                 \n",
              "226        Zimbabwe   SUB-SAHARAN AFRICA                 \n",
              "\n",
              "[227 rows x 2 columns]"
            ]
          },
          "metadata": {
            "tags": []
          },
          "execution_count": 35
        }
      ]
    },
    {
      "cell_type": "markdown",
      "metadata": {
        "id": "Rt2jvO7SfsLK"
      },
      "source": [
        "Aby wyświetlić, 3 pierwsze wiersze i 3 pierwsze kolumny, przy użyciu liczb w przypadku wierszy i kolumn, używamy funkcji 'iloc'"
      ]
    },
    {
      "cell_type": "code",
      "metadata": {
        "colab": {
          "base_uri": "https://localhost:8080/",
          "height": 140
        },
        "id": "Wfhxw6BLftQp",
        "outputId": "157deddd-4f37-4e59-d6c1-78f3d88c3d0f"
      },
      "source": [
        "df.iloc[0:3, 0:3]"
      ],
      "execution_count": null,
      "outputs": [
        {
          "output_type": "execute_result",
          "data": {
            "text/html": [
              "<div>\n",
              "<style scoped>\n",
              "    .dataframe tbody tr th:only-of-type {\n",
              "        vertical-align: middle;\n",
              "    }\n",
              "\n",
              "    .dataframe tbody tr th {\n",
              "        vertical-align: top;\n",
              "    }\n",
              "\n",
              "    .dataframe thead th {\n",
              "        text-align: right;\n",
              "    }\n",
              "</style>\n",
              "<table border=\"1\" class=\"dataframe\">\n",
              "  <thead>\n",
              "    <tr style=\"text-align: right;\">\n",
              "      <th></th>\n",
              "      <th>Country</th>\n",
              "      <th>Region</th>\n",
              "      <th>Population</th>\n",
              "    </tr>\n",
              "  </thead>\n",
              "  <tbody>\n",
              "    <tr>\n",
              "      <th>0</th>\n",
              "      <td>Afghanistan</td>\n",
              "      <td>ASIA (EX. NEAR EAST)</td>\n",
              "      <td>31056997</td>\n",
              "    </tr>\n",
              "    <tr>\n",
              "      <th>1</th>\n",
              "      <td>Albania</td>\n",
              "      <td>EASTERN EUROPE</td>\n",
              "      <td>3581655</td>\n",
              "    </tr>\n",
              "    <tr>\n",
              "      <th>2</th>\n",
              "      <td>Algeria</td>\n",
              "      <td>NORTHERN AFRICA</td>\n",
              "      <td>32930091</td>\n",
              "    </tr>\n",
              "  </tbody>\n",
              "</table>\n",
              "</div>"
            ],
            "text/plain": [
              "        Country                               Region  Population\n",
              "0  Afghanistan         ASIA (EX. NEAR EAST)             31056997\n",
              "1      Albania   EASTERN EUROPE                          3581655\n",
              "2      Algeria   NORTHERN AFRICA                        32930091"
            ]
          },
          "metadata": {
            "tags": []
          },
          "execution_count": 36
        }
      ]
    },
    {
      "cell_type": "markdown",
      "metadata": {
        "id": "7Gmz34Bkhw5R"
      },
      "source": [
        "Jeżeli chcemy wyświetlić wartości DataFrame, przy użyciu liczb, w przypadku wierszy oraz nazw, w przypadku kolumn, musimu użyć funkcji 'loc'. Tutaj druga liczba z zakresu jest brana do wierszy"
      ]
    },
    {
      "cell_type": "code",
      "metadata": {
        "colab": {
          "base_uri": "https://localhost:8080/",
          "height": 140
        },
        "id": "CGjF2WOchxz2",
        "outputId": "cabd0c2e-637b-46b8-eb27-3c66905efefc"
      },
      "source": [
        "df.loc[0:2,['Country','Region','Population']]"
      ],
      "execution_count": null,
      "outputs": [
        {
          "output_type": "execute_result",
          "data": {
            "text/html": [
              "<div>\n",
              "<style scoped>\n",
              "    .dataframe tbody tr th:only-of-type {\n",
              "        vertical-align: middle;\n",
              "    }\n",
              "\n",
              "    .dataframe tbody tr th {\n",
              "        vertical-align: top;\n",
              "    }\n",
              "\n",
              "    .dataframe thead th {\n",
              "        text-align: right;\n",
              "    }\n",
              "</style>\n",
              "<table border=\"1\" class=\"dataframe\">\n",
              "  <thead>\n",
              "    <tr style=\"text-align: right;\">\n",
              "      <th></th>\n",
              "      <th>Country</th>\n",
              "      <th>Region</th>\n",
              "      <th>Population</th>\n",
              "    </tr>\n",
              "  </thead>\n",
              "  <tbody>\n",
              "    <tr>\n",
              "      <th>0</th>\n",
              "      <td>Afghanistan</td>\n",
              "      <td>ASIA (EX. NEAR EAST)</td>\n",
              "      <td>31056997</td>\n",
              "    </tr>\n",
              "    <tr>\n",
              "      <th>1</th>\n",
              "      <td>Albania</td>\n",
              "      <td>EASTERN EUROPE</td>\n",
              "      <td>3581655</td>\n",
              "    </tr>\n",
              "    <tr>\n",
              "      <th>2</th>\n",
              "      <td>Algeria</td>\n",
              "      <td>NORTHERN AFRICA</td>\n",
              "      <td>32930091</td>\n",
              "    </tr>\n",
              "  </tbody>\n",
              "</table>\n",
              "</div>"
            ],
            "text/plain": [
              "        Country                               Region  Population\n",
              "0  Afghanistan         ASIA (EX. NEAR EAST)             31056997\n",
              "1      Albania   EASTERN EUROPE                          3581655\n",
              "2      Algeria   NORTHERN AFRICA                        32930091"
            ]
          },
          "metadata": {
            "tags": []
          },
          "execution_count": 37
        }
      ]
    },
    {
      "cell_type": "markdown",
      "metadata": {
        "id": "Q7Ft87GdjL-o"
      },
      "source": [
        "## Podstawowe operacje"
      ]
    },
    {
      "cell_type": "markdown",
      "metadata": {
        "id": "t1N2mpshjPZ3"
      },
      "source": [
        "Na początku utwórzmy kopię zmiennej 'df', za pomocą funkcji copy(). Wybieramy tylko te kolumny, które nas interesują."
      ]
    },
    {
      "cell_type": "code",
      "metadata": {
        "colab": {
          "base_uri": "https://localhost:8080/",
          "height": 414
        },
        "id": "Fcfamw9MjQkm",
        "outputId": "347f4ad2-e10d-4f5b-9c44-03e3ac497a2c"
      },
      "source": [
        "df_pop = df[['Country', 'Region', 'Population', 'Phones per 1000']].copy()\r\n",
        "df_pop"
      ],
      "execution_count": null,
      "outputs": [
        {
          "output_type": "execute_result",
          "data": {
            "text/html": [
              "<div>\n",
              "<style scoped>\n",
              "    .dataframe tbody tr th:only-of-type {\n",
              "        vertical-align: middle;\n",
              "    }\n",
              "\n",
              "    .dataframe tbody tr th {\n",
              "        vertical-align: top;\n",
              "    }\n",
              "\n",
              "    .dataframe thead th {\n",
              "        text-align: right;\n",
              "    }\n",
              "</style>\n",
              "<table border=\"1\" class=\"dataframe\">\n",
              "  <thead>\n",
              "    <tr style=\"text-align: right;\">\n",
              "      <th></th>\n",
              "      <th>Country</th>\n",
              "      <th>Region</th>\n",
              "      <th>Population</th>\n",
              "      <th>Phones per 1000</th>\n",
              "    </tr>\n",
              "  </thead>\n",
              "  <tbody>\n",
              "    <tr>\n",
              "      <th>0</th>\n",
              "      <td>Afghanistan</td>\n",
              "      <td>ASIA (EX. NEAR EAST)</td>\n",
              "      <td>31056997</td>\n",
              "      <td>3,2</td>\n",
              "    </tr>\n",
              "    <tr>\n",
              "      <th>1</th>\n",
              "      <td>Albania</td>\n",
              "      <td>EASTERN EUROPE</td>\n",
              "      <td>3581655</td>\n",
              "      <td>71,2</td>\n",
              "    </tr>\n",
              "    <tr>\n",
              "      <th>2</th>\n",
              "      <td>Algeria</td>\n",
              "      <td>NORTHERN AFRICA</td>\n",
              "      <td>32930091</td>\n",
              "      <td>78,1</td>\n",
              "    </tr>\n",
              "    <tr>\n",
              "      <th>3</th>\n",
              "      <td>American Samoa</td>\n",
              "      <td>OCEANIA</td>\n",
              "      <td>57794</td>\n",
              "      <td>259,5</td>\n",
              "    </tr>\n",
              "    <tr>\n",
              "      <th>4</th>\n",
              "      <td>Andorra</td>\n",
              "      <td>WESTERN EUROPE</td>\n",
              "      <td>71201</td>\n",
              "      <td>497,2</td>\n",
              "    </tr>\n",
              "    <tr>\n",
              "      <th>...</th>\n",
              "      <td>...</td>\n",
              "      <td>...</td>\n",
              "      <td>...</td>\n",
              "      <td>...</td>\n",
              "    </tr>\n",
              "    <tr>\n",
              "      <th>222</th>\n",
              "      <td>West Bank</td>\n",
              "      <td>NEAR EAST</td>\n",
              "      <td>2460492</td>\n",
              "      <td>145,2</td>\n",
              "    </tr>\n",
              "    <tr>\n",
              "      <th>223</th>\n",
              "      <td>Western Sahara</td>\n",
              "      <td>NORTHERN AFRICA</td>\n",
              "      <td>273008</td>\n",
              "      <td>NaN</td>\n",
              "    </tr>\n",
              "    <tr>\n",
              "      <th>224</th>\n",
              "      <td>Yemen</td>\n",
              "      <td>NEAR EAST</td>\n",
              "      <td>21456188</td>\n",
              "      <td>37,2</td>\n",
              "    </tr>\n",
              "    <tr>\n",
              "      <th>225</th>\n",
              "      <td>Zambia</td>\n",
              "      <td>SUB-SAHARAN AFRICA</td>\n",
              "      <td>11502010</td>\n",
              "      <td>8,2</td>\n",
              "    </tr>\n",
              "    <tr>\n",
              "      <th>226</th>\n",
              "      <td>Zimbabwe</td>\n",
              "      <td>SUB-SAHARAN AFRICA</td>\n",
              "      <td>12236805</td>\n",
              "      <td>26,8</td>\n",
              "    </tr>\n",
              "  </tbody>\n",
              "</table>\n",
              "<p>227 rows × 4 columns</p>\n",
              "</div>"
            ],
            "text/plain": [
              "             Country  ... Phones per 1000\n",
              "0       Afghanistan   ...             3,2\n",
              "1           Albania   ...            71,2\n",
              "2           Algeria   ...            78,1\n",
              "3    American Samoa   ...           259,5\n",
              "4           Andorra   ...           497,2\n",
              "..               ...  ...             ...\n",
              "222       West Bank   ...           145,2\n",
              "223  Western Sahara   ...             NaN\n",
              "224           Yemen   ...            37,2\n",
              "225          Zambia   ...             8,2\n",
              "226        Zimbabwe   ...            26,8\n",
              "\n",
              "[227 rows x 4 columns]"
            ]
          },
          "metadata": {
            "tags": []
          },
          "execution_count": 38
        }
      ]
    },
    {
      "cell_type": "code",
      "metadata": {
        "colab": {
          "base_uri": "https://localhost:8080/"
        },
        "id": "VguWa0uZkiOn",
        "outputId": "3e015bdb-33b6-46c9-8863-7127b864473e"
      },
      "source": [
        "print(\"Kolumny w df\")\r\n",
        "print(df.columns)\r\n",
        "print()\r\n",
        "print(\"Kolumny w df_pop\")\r\n",
        "print(df_pop.columns)"
      ],
      "execution_count": null,
      "outputs": [
        {
          "output_type": "stream",
          "text": [
            "Kolumny w df\n",
            "Index(['Country', 'Region', 'Population', 'Area sq. mi.',\n",
            "       'Pop. Density sq. mi.', 'Coastline coast/area ratio', 'Net migration',\n",
            "       'Infant mortality per 1000 births', 'GDP', 'Literacy',\n",
            "       'Phones per 1000', 'Climate', 'Agriculture', 'Industry', 'Service'],\n",
            "      dtype='object')\n",
            "\n",
            "Kolumny w df_pop\n",
            "Index(['Country', 'Region', 'Population', 'Phones per 1000'], dtype='object')\n"
          ],
          "name": "stdout"
        }
      ]
    },
    {
      "cell_type": "code",
      "metadata": {
        "colab": {
          "base_uri": "https://localhost:8080/"
        },
        "id": "ngcjaL5fkzW5",
        "outputId": "781f1e7e-0d04-4f21-b913-6d1b45f03099"
      },
      "source": [
        "print(\"Czemu puste?\")\n",
        "#region_zambii = df.loc[df[\"Country\"]==\"Zambia\", \"Region\"]\n",
        "region_zambii = df.loc[225:225, [\"Region\", \"Country\"]]\n",
        "print(region_zambii)\n",
        "#print(df[\"Country\"].isin([\"Zambia\"]))"
      ],
      "execution_count": null,
      "outputs": [
        {
          "output_type": "stream",
          "text": [
            "Czemu puste?\n",
            "                                  Region  Country\n",
            "225  SUB-SAHARAN AFRICA                   Zambia \n"
          ],
          "name": "stdout"
        }
      ]
    },
    {
      "cell_type": "markdown",
      "metadata": {
        "id": "hbJ8Qz-RmRZS"
      },
      "source": [
        "W prosty sposób możemy wykonać operacje na całej kolumnie. Jak np. zawienić populację, aby była przedstawiona w milionach. Czyli dzielimy przez 1 000 000."
      ]
    },
    {
      "cell_type": "code",
      "metadata": {
        "colab": {
          "base_uri": "https://localhost:8080/"
        },
        "id": "wSDrNNDFmR_X",
        "outputId": "f3278df8-5966-43fc-b9e8-da26665ead9a"
      },
      "source": [
        "df_pop['Population'] /= 1000000\n",
        "print(\"Sam wybieram kolumny Country i Population\")\n",
        "print(df_pop[[\"Country\", \"Population\"]])\n",
        "print()\n",
        "print(\"Znowu puste.\")\n",
        "print(df_pop.loc[df_pop[\"Country\"] == \"Zambia\", [\"Country\", \"Population\"]])\n",
        "print(\"Ale jak wybiorę numer wiersza to działa.\")\n",
        "print(df_pop.loc[225:225, [\"Country\", \"Population\"]])"
      ],
      "execution_count": null,
      "outputs": [
        {
          "output_type": "stream",
          "text": [
            "Sam wybieram kolumny Country i Population\n",
            "             Country  Population\n",
            "0       Afghanistan    31.056997\n",
            "1           Albania     3.581655\n",
            "2           Algeria    32.930091\n",
            "3    American Samoa     0.057794\n",
            "4           Andorra     0.071201\n",
            "..               ...         ...\n",
            "222       West Bank     2.460492\n",
            "223  Western Sahara     0.273008\n",
            "224           Yemen    21.456188\n",
            "225          Zambia    11.502010\n",
            "226        Zimbabwe    12.236805\n",
            "\n",
            "[227 rows x 2 columns]\n",
            "\n",
            "Znowu puste.\n",
            "Empty DataFrame\n",
            "Columns: [Country, Population]\n",
            "Index: []\n",
            "Ale jak wybiorę numer wiersza to działa.\n",
            "     Country  Population\n",
            "225  Zambia     11.50201\n"
          ],
          "name": "stdout"
        }
      ]
    },
    {
      "cell_type": "markdown",
      "metadata": {
        "id": "vqRpGwRR6ZMe"
      },
      "source": [
        "Można też utworzyć nową kolumną"
      ]
    },
    {
      "cell_type": "code",
      "metadata": {
        "id": "IwkVKC-I6a8U"
      },
      "source": [
        "df_pop['Nowa kolumna'] = 1"
      ],
      "execution_count": null,
      "outputs": []
    },
    {
      "cell_type": "markdown",
      "metadata": {
        "id": "n7I2MnDy6iln"
      },
      "source": [
        "Popularną i pomocją funcją, jest funkcja 'head()', wyświetlająca 5 pierwszych wierszy."
      ]
    },
    {
      "cell_type": "code",
      "metadata": {
        "colab": {
          "base_uri": "https://localhost:8080/",
          "height": 201
        },
        "id": "8MDW1BKi6jkK",
        "outputId": "aa08edc9-d4c6-463a-875e-b31279ebe11b"
      },
      "source": [
        "df_pop.head()"
      ],
      "execution_count": null,
      "outputs": [
        {
          "output_type": "execute_result",
          "data": {
            "text/html": [
              "<div>\n",
              "<style scoped>\n",
              "    .dataframe tbody tr th:only-of-type {\n",
              "        vertical-align: middle;\n",
              "    }\n",
              "\n",
              "    .dataframe tbody tr th {\n",
              "        vertical-align: top;\n",
              "    }\n",
              "\n",
              "    .dataframe thead th {\n",
              "        text-align: right;\n",
              "    }\n",
              "</style>\n",
              "<table border=\"1\" class=\"dataframe\">\n",
              "  <thead>\n",
              "    <tr style=\"text-align: right;\">\n",
              "      <th></th>\n",
              "      <th>Country</th>\n",
              "      <th>Region</th>\n",
              "      <th>Population</th>\n",
              "      <th>Phones per 1000</th>\n",
              "      <th>Nowa kolumna</th>\n",
              "    </tr>\n",
              "  </thead>\n",
              "  <tbody>\n",
              "    <tr>\n",
              "      <th>0</th>\n",
              "      <td>Afghanistan</td>\n",
              "      <td>ASIA (EX. NEAR EAST)</td>\n",
              "      <td>31.056997</td>\n",
              "      <td>3,2</td>\n",
              "      <td>1</td>\n",
              "    </tr>\n",
              "    <tr>\n",
              "      <th>1</th>\n",
              "      <td>Albania</td>\n",
              "      <td>EASTERN EUROPE</td>\n",
              "      <td>3.581655</td>\n",
              "      <td>71,2</td>\n",
              "      <td>1</td>\n",
              "    </tr>\n",
              "    <tr>\n",
              "      <th>2</th>\n",
              "      <td>Algeria</td>\n",
              "      <td>NORTHERN AFRICA</td>\n",
              "      <td>32.930091</td>\n",
              "      <td>78,1</td>\n",
              "      <td>1</td>\n",
              "    </tr>\n",
              "    <tr>\n",
              "      <th>3</th>\n",
              "      <td>American Samoa</td>\n",
              "      <td>OCEANIA</td>\n",
              "      <td>0.057794</td>\n",
              "      <td>259,5</td>\n",
              "      <td>1</td>\n",
              "    </tr>\n",
              "    <tr>\n",
              "      <th>4</th>\n",
              "      <td>Andorra</td>\n",
              "      <td>WESTERN EUROPE</td>\n",
              "      <td>0.071201</td>\n",
              "      <td>497,2</td>\n",
              "      <td>1</td>\n",
              "    </tr>\n",
              "  </tbody>\n",
              "</table>\n",
              "</div>"
            ],
            "text/plain": [
              "           Country  ... Nowa kolumna\n",
              "0     Afghanistan   ...            1\n",
              "1         Albania   ...            1\n",
              "2         Algeria   ...            1\n",
              "3  American Samoa   ...            1\n",
              "4         Andorra   ...            1\n",
              "\n",
              "[5 rows x 5 columns]"
            ]
          },
          "metadata": {
            "tags": []
          },
          "execution_count": 43
        }
      ]
    },
    {
      "cell_type": "markdown",
      "metadata": {
        "id": "LcqUDpa-6tpf"
      },
      "source": [
        "# Iteracje for loop"
      ]
    },
    {
      "cell_type": "markdown",
      "metadata": {
        "id": "yNGBjSpO7ESq"
      },
      "source": [
        "Bez problemu, możemy przetwarzać, DataFrame, za pomocą pętli for. Możemy to efektywnie wykonać za pomocą 2 metod:"
      ]
    },
    {
      "cell_type": "markdown",
      "metadata": {
        "id": "_Ra7usgP7Ib7"
      },
      "source": [
        "## Metoda 1 - funkcja iterrows¶"
      ]
    },
    {
      "cell_type": "markdown",
      "metadata": {
        "id": "BKUlOA9z7Px5"
      },
      "source": [
        "Zwraca ona index oraz zawartość aktualnego wiersza. W poniższym przykładnie, dodatkowo tworzymy, nową kolumnę, oraz nadajemy jej wartość za pomoca funkcji loc, która umożliwia nam poruszanie się za pomocą numeru wiersza, oraz nazwy kolumny."
      ]
    },
    {
      "cell_type": "code",
      "metadata": {
        "colab": {
          "base_uri": "https://localhost:8080/"
        },
        "id": "zig2Jz1U7Sse",
        "outputId": "2483e8c0-05f1-4081-f44e-2f99fb637506"
      },
      "source": [
        "for index, row in df_pop.iterrows():\r\n",
        "    if row['Population'] > 100:\r\n",
        "        df_pop.loc[index,'Size'] = 'Big'\r\n",
        "        print (row['Country'], df_pop.loc[index,'Size'])"
      ],
      "execution_count": null,
      "outputs": [
        {
          "output_type": "stream",
          "text": [
            "Bangladesh  Big\n",
            "Brazil  Big\n",
            "China  Big\n",
            "India  Big\n",
            "Indonesia  Big\n",
            "Japan  Big\n",
            "Mexico  Big\n",
            "Nigeria  Big\n",
            "Pakistan  Big\n",
            "Russia  Big\n",
            "United States  Big\n"
          ],
          "name": "stdout"
        }
      ]
    },
    {
      "cell_type": "code",
      "metadata": {
        "colab": {
          "base_uri": "https://localhost:8080/",
          "height": 414
        },
        "id": "L7t9CQ-m7iqS",
        "outputId": "f3854347-3352-499a-e5f9-13ab15b12c9e"
      },
      "source": [
        "df_pop"
      ],
      "execution_count": null,
      "outputs": [
        {
          "output_type": "execute_result",
          "data": {
            "text/html": [
              "<div>\n",
              "<style scoped>\n",
              "    .dataframe tbody tr th:only-of-type {\n",
              "        vertical-align: middle;\n",
              "    }\n",
              "\n",
              "    .dataframe tbody tr th {\n",
              "        vertical-align: top;\n",
              "    }\n",
              "\n",
              "    .dataframe thead th {\n",
              "        text-align: right;\n",
              "    }\n",
              "</style>\n",
              "<table border=\"1\" class=\"dataframe\">\n",
              "  <thead>\n",
              "    <tr style=\"text-align: right;\">\n",
              "      <th></th>\n",
              "      <th>Country</th>\n",
              "      <th>Region</th>\n",
              "      <th>Population</th>\n",
              "      <th>Phones per 1000</th>\n",
              "      <th>Nowa kolumna</th>\n",
              "      <th>Size</th>\n",
              "    </tr>\n",
              "  </thead>\n",
              "  <tbody>\n",
              "    <tr>\n",
              "      <th>0</th>\n",
              "      <td>Afghanistan</td>\n",
              "      <td>ASIA (EX. NEAR EAST)</td>\n",
              "      <td>31.056997</td>\n",
              "      <td>3,2</td>\n",
              "      <td>1</td>\n",
              "      <td>NaN</td>\n",
              "    </tr>\n",
              "    <tr>\n",
              "      <th>1</th>\n",
              "      <td>Albania</td>\n",
              "      <td>EASTERN EUROPE</td>\n",
              "      <td>3.581655</td>\n",
              "      <td>71,2</td>\n",
              "      <td>1</td>\n",
              "      <td>NaN</td>\n",
              "    </tr>\n",
              "    <tr>\n",
              "      <th>2</th>\n",
              "      <td>Algeria</td>\n",
              "      <td>NORTHERN AFRICA</td>\n",
              "      <td>32.930091</td>\n",
              "      <td>78,1</td>\n",
              "      <td>1</td>\n",
              "      <td>NaN</td>\n",
              "    </tr>\n",
              "    <tr>\n",
              "      <th>3</th>\n",
              "      <td>American Samoa</td>\n",
              "      <td>OCEANIA</td>\n",
              "      <td>0.057794</td>\n",
              "      <td>259,5</td>\n",
              "      <td>1</td>\n",
              "      <td>NaN</td>\n",
              "    </tr>\n",
              "    <tr>\n",
              "      <th>4</th>\n",
              "      <td>Andorra</td>\n",
              "      <td>WESTERN EUROPE</td>\n",
              "      <td>0.071201</td>\n",
              "      <td>497,2</td>\n",
              "      <td>1</td>\n",
              "      <td>NaN</td>\n",
              "    </tr>\n",
              "    <tr>\n",
              "      <th>...</th>\n",
              "      <td>...</td>\n",
              "      <td>...</td>\n",
              "      <td>...</td>\n",
              "      <td>...</td>\n",
              "      <td>...</td>\n",
              "      <td>...</td>\n",
              "    </tr>\n",
              "    <tr>\n",
              "      <th>222</th>\n",
              "      <td>West Bank</td>\n",
              "      <td>NEAR EAST</td>\n",
              "      <td>2.460492</td>\n",
              "      <td>145,2</td>\n",
              "      <td>1</td>\n",
              "      <td>NaN</td>\n",
              "    </tr>\n",
              "    <tr>\n",
              "      <th>223</th>\n",
              "      <td>Western Sahara</td>\n",
              "      <td>NORTHERN AFRICA</td>\n",
              "      <td>0.273008</td>\n",
              "      <td>NaN</td>\n",
              "      <td>1</td>\n",
              "      <td>NaN</td>\n",
              "    </tr>\n",
              "    <tr>\n",
              "      <th>224</th>\n",
              "      <td>Yemen</td>\n",
              "      <td>NEAR EAST</td>\n",
              "      <td>21.456188</td>\n",
              "      <td>37,2</td>\n",
              "      <td>1</td>\n",
              "      <td>NaN</td>\n",
              "    </tr>\n",
              "    <tr>\n",
              "      <th>225</th>\n",
              "      <td>Zambia</td>\n",
              "      <td>SUB-SAHARAN AFRICA</td>\n",
              "      <td>11.502010</td>\n",
              "      <td>8,2</td>\n",
              "      <td>1</td>\n",
              "      <td>NaN</td>\n",
              "    </tr>\n",
              "    <tr>\n",
              "      <th>226</th>\n",
              "      <td>Zimbabwe</td>\n",
              "      <td>SUB-SAHARAN AFRICA</td>\n",
              "      <td>12.236805</td>\n",
              "      <td>26,8</td>\n",
              "      <td>1</td>\n",
              "      <td>NaN</td>\n",
              "    </tr>\n",
              "  </tbody>\n",
              "</table>\n",
              "<p>227 rows × 6 columns</p>\n",
              "</div>"
            ],
            "text/plain": [
              "             Country                               Region  ...  Nowa kolumna Size\n",
              "0       Afghanistan         ASIA (EX. NEAR EAST)           ...             1  NaN\n",
              "1           Albania   EASTERN EUROPE                       ...             1  NaN\n",
              "2           Algeria   NORTHERN AFRICA                      ...             1  NaN\n",
              "3    American Samoa   OCEANIA                              ...             1  NaN\n",
              "4           Andorra   WESTERN EUROPE                       ...             1  NaN\n",
              "..               ...                                  ...  ...           ...  ...\n",
              "222       West Bank   NEAR EAST                            ...             1  NaN\n",
              "223  Western Sahara   NORTHERN AFRICA                      ...             1  NaN\n",
              "224           Yemen   NEAR EAST                            ...             1  NaN\n",
              "225          Zambia   SUB-SAHARAN AFRICA                   ...             1  NaN\n",
              "226        Zimbabwe   SUB-SAHARAN AFRICA                   ...             1  NaN\n",
              "\n",
              "[227 rows x 6 columns]"
            ]
          },
          "metadata": {
            "tags": []
          },
          "execution_count": 45
        }
      ]
    },
    {
      "cell_type": "markdown",
      "metadata": {
        "id": "HCDF5LAj7p3-"
      },
      "source": [
        "## Metoda 2 - funkcja itertuples"
      ]
    },
    {
      "cell_type": "markdown",
      "metadata": {
        "id": "kDvUo8fj7rJE"
      },
      "source": [
        "zwraca nam ona krotkę, tak więc index, musimy z niej 'wyczytać'. Jest to metoda, która daje, taki sam efekt, jak powyższa, jednak jest wydajniejsza"
      ]
    },
    {
      "cell_type": "code",
      "metadata": {
        "colab": {
          "base_uri": "https://localhost:8080/"
        },
        "id": "uKpzdEMg7uBY",
        "outputId": "44622428-068d-40af-97ce-f9660f2d52af"
      },
      "source": [
        "for row in df_pop.itertuples():\r\n",
        "    if row.Population > 200:\r\n",
        "        print(row.Index, row.Country, row.Population)"
      ],
      "execution_count": null,
      "outputs": [
        {
          "output_type": "stream",
          "text": [
            "42 China  1313.973713\n",
            "94 India  1095.351995\n",
            "95 Indonesia  245.452739\n",
            "214 United States  298.444215\n"
          ],
          "name": "stdout"
        }
      ]
    },
    {
      "cell_type": "markdown",
      "metadata": {
        "id": "eo03UsWE75hX"
      },
      "source": [
        "# Filtrowanie DataFrame"
      ]
    },
    {
      "cell_type": "markdown",
      "metadata": {
        "id": "rAJhV6Oc7-Ch"
      },
      "source": [
        "## Za pomoca maski"
      ]
    },
    {
      "cell_type": "markdown",
      "metadata": {
        "id": "hn-Ruw7n8CUD"
      },
      "source": [
        "Podobnie, jak w przypadku NumPy, możemy utworzyć maskę logiczną, którą następnie nakładamy na DataFrame. Zobaczmy:\r\n",
        "\r\n",
        "Przykład maski, która posiada wartość True w przypadku populacji o konkretnej wartości:"
      ]
    },
    {
      "cell_type": "code",
      "metadata": {
        "colab": {
          "base_uri": "https://localhost:8080/"
        },
        "id": "6M9OJCLq8EyB",
        "outputId": "b83ab060-bcdd-4b3c-fb78-211ed3f508f8"
      },
      "source": [
        "df_pop.Population == 147.365352"
      ],
      "execution_count": null,
      "outputs": [
        {
          "output_type": "execute_result",
          "data": {
            "text/plain": [
              "0      False\n",
              "1      False\n",
              "2      False\n",
              "3      False\n",
              "4      False\n",
              "       ...  \n",
              "222    False\n",
              "223    False\n",
              "224    False\n",
              "225    False\n",
              "226    False\n",
              "Name: Population, Length: 227, dtype: bool"
            ]
          },
          "metadata": {
            "tags": []
          },
          "execution_count": 47
        }
      ]
    },
    {
      "cell_type": "code",
      "metadata": {
        "colab": {
          "base_uri": "https://localhost:8080/"
        },
        "id": "I016tIwA8UPa",
        "outputId": "c2981809-7678-4884-c35e-a4919b090fd6"
      },
      "source": [
        "# sam wyświetlam 16 wiersz, dla którego jest True\r\n",
        "print(df_pop.Population[16])"
      ],
      "execution_count": null,
      "outputs": [
        {
          "output_type": "stream",
          "text": [
            "147.365352\n"
          ],
          "name": "stdout"
        }
      ]
    },
    {
      "cell_type": "markdown",
      "metadata": {
        "id": "rOe4Q3QF8wVU"
      },
      "source": [
        "Nakładamy maskę na nasz DataFrame. Identyczny rezultat osiągniemy za pomocą pętli for, jednak maski są czytelniejsze i wydajniejsze. Poniższe 2 linijki są równoznaczne."
      ]
    },
    {
      "cell_type": "code",
      "metadata": {
        "colab": {
          "base_uri": "https://localhost:8080/",
          "height": 79
        },
        "id": "kpxajyAN8zBd",
        "outputId": "36e5e17c-a36c-47e4-ee29-e8ff106207c3"
      },
      "source": [
        "df_pop[df_pop.Population == 147.365352]\r\n",
        "df_pop[df_pop['Population'] == 147.365352]"
      ],
      "execution_count": null,
      "outputs": [
        {
          "output_type": "execute_result",
          "data": {
            "text/html": [
              "<div>\n",
              "<style scoped>\n",
              "    .dataframe tbody tr th:only-of-type {\n",
              "        vertical-align: middle;\n",
              "    }\n",
              "\n",
              "    .dataframe tbody tr th {\n",
              "        vertical-align: top;\n",
              "    }\n",
              "\n",
              "    .dataframe thead th {\n",
              "        text-align: right;\n",
              "    }\n",
              "</style>\n",
              "<table border=\"1\" class=\"dataframe\">\n",
              "  <thead>\n",
              "    <tr style=\"text-align: right;\">\n",
              "      <th></th>\n",
              "      <th>Country</th>\n",
              "      <th>Region</th>\n",
              "      <th>Population</th>\n",
              "      <th>Phones per 1000</th>\n",
              "      <th>Nowa kolumna</th>\n",
              "      <th>Size</th>\n",
              "    </tr>\n",
              "  </thead>\n",
              "  <tbody>\n",
              "    <tr>\n",
              "      <th>16</th>\n",
              "      <td>Bangladesh</td>\n",
              "      <td>ASIA (EX. NEAR EAST)</td>\n",
              "      <td>147.365352</td>\n",
              "      <td>7,3</td>\n",
              "      <td>1</td>\n",
              "      <td>Big</td>\n",
              "    </tr>\n",
              "  </tbody>\n",
              "</table>\n",
              "</div>"
            ],
            "text/plain": [
              "        Country                         Region  ...  Nowa kolumna Size\n",
              "16  Bangladesh   ASIA (EX. NEAR EAST)           ...             1  Big\n",
              "\n",
              "[1 rows x 6 columns]"
            ]
          },
          "metadata": {
            "tags": []
          },
          "execution_count": 49
        }
      ]
    },
    {
      "cell_type": "markdown",
      "metadata": {
        "id": "9qFpHKoX88ot"
      },
      "source": [
        "Możemy również łączyć wartunki. Tutaj jednak, musimy zadbać, aby obydwa, były ujęte w nawiasy ()"
      ]
    },
    {
      "cell_type": "code",
      "metadata": {
        "colab": {
          "base_uri": "https://localhost:8080/",
          "height": 201
        },
        "id": "ynlxPEBE89qk",
        "outputId": "cb7a0d10-3c94-478d-e9fc-b526b12d110c"
      },
      "source": [
        "df_pop[(df_pop['Population']>100) & (df_pop['Population']<150)]"
      ],
      "execution_count": null,
      "outputs": [
        {
          "output_type": "execute_result",
          "data": {
            "text/html": [
              "<div>\n",
              "<style scoped>\n",
              "    .dataframe tbody tr th:only-of-type {\n",
              "        vertical-align: middle;\n",
              "    }\n",
              "\n",
              "    .dataframe tbody tr th {\n",
              "        vertical-align: top;\n",
              "    }\n",
              "\n",
              "    .dataframe thead th {\n",
              "        text-align: right;\n",
              "    }\n",
              "</style>\n",
              "<table border=\"1\" class=\"dataframe\">\n",
              "  <thead>\n",
              "    <tr style=\"text-align: right;\">\n",
              "      <th></th>\n",
              "      <th>Country</th>\n",
              "      <th>Region</th>\n",
              "      <th>Population</th>\n",
              "      <th>Phones per 1000</th>\n",
              "      <th>Nowa kolumna</th>\n",
              "      <th>Size</th>\n",
              "    </tr>\n",
              "  </thead>\n",
              "  <tbody>\n",
              "    <tr>\n",
              "      <th>16</th>\n",
              "      <td>Bangladesh</td>\n",
              "      <td>ASIA (EX. NEAR EAST)</td>\n",
              "      <td>147.365352</td>\n",
              "      <td>7,3</td>\n",
              "      <td>1</td>\n",
              "      <td>Big</td>\n",
              "    </tr>\n",
              "    <tr>\n",
              "      <th>103</th>\n",
              "      <td>Japan</td>\n",
              "      <td>ASIA (EX. NEAR EAST)</td>\n",
              "      <td>127.463611</td>\n",
              "      <td>461,2</td>\n",
              "      <td>1</td>\n",
              "      <td>Big</td>\n",
              "    </tr>\n",
              "    <tr>\n",
              "      <th>135</th>\n",
              "      <td>Mexico</td>\n",
              "      <td>LATIN AMER. &amp; CARIB</td>\n",
              "      <td>107.449525</td>\n",
              "      <td>181,6</td>\n",
              "      <td>1</td>\n",
              "      <td>Big</td>\n",
              "    </tr>\n",
              "    <tr>\n",
              "      <th>152</th>\n",
              "      <td>Nigeria</td>\n",
              "      <td>SUB-SAHARAN AFRICA</td>\n",
              "      <td>131.859731</td>\n",
              "      <td>9,3</td>\n",
              "      <td>1</td>\n",
              "      <td>Big</td>\n",
              "    </tr>\n",
              "    <tr>\n",
              "      <th>169</th>\n",
              "      <td>Russia</td>\n",
              "      <td>C.W. OF IND. STATES</td>\n",
              "      <td>142.893540</td>\n",
              "      <td>280,6</td>\n",
              "      <td>1</td>\n",
              "      <td>Big</td>\n",
              "    </tr>\n",
              "  </tbody>\n",
              "</table>\n",
              "</div>"
            ],
            "text/plain": [
              "         Country                               Region  ...  Nowa kolumna Size\n",
              "16   Bangladesh         ASIA (EX. NEAR EAST)           ...             1  Big\n",
              "103       Japan         ASIA (EX. NEAR EAST)           ...             1  Big\n",
              "135      Mexico               LATIN AMER. & CARIB      ...             1  Big\n",
              "152     Nigeria   SUB-SAHARAN AFRICA                   ...             1  Big\n",
              "169      Russia                  C.W. OF IND. STATES   ...             1  Big\n",
              "\n",
              "[5 rows x 6 columns]"
            ]
          },
          "metadata": {
            "tags": []
          },
          "execution_count": 50
        }
      ]
    },
    {
      "cell_type": "markdown",
      "metadata": {
        "id": "C4tPuI1y9LKb"
      },
      "source": [
        "# Sumowanie, Grupowanie, oraz inne kalkulacje"
      ]
    },
    {
      "cell_type": "markdown",
      "metadata": {
        "id": "UWCx617F9Pm7"
      },
      "source": [
        "Każdy, kto jest zaznajomiony z SQL, jest również przyzwyczajony do grupowania danych, oraz wyliczania dla danej grupy sum, max, min itd. Zobaczmy jak możemy to samo osiągnąć z Pandas.\r\n",
        "\r\n",
        "Na początku, policzmy statystyki, całej kolumny - 'Population'"
      ]
    },
    {
      "cell_type": "code",
      "metadata": {
        "colab": {
          "base_uri": "https://localhost:8080/"
        },
        "id": "nj4nsLwi9QOD",
        "outputId": "93f2a366-707f-4c7b-fe17-6fa02ce2257b"
      },
      "source": [
        "print( df_pop['Population'].sum() )\r\n",
        "print( df_pop['Population'].max() )\r\n",
        "print( df_pop['Population'].min() )\r\n",
        "print( df_pop['Population'].mean() )"
      ],
      "execution_count": null,
      "outputs": [
        {
          "output_type": "stream",
          "text": [
            "6524.044551\n",
            "1313.973713\n",
            "0.007026\n",
            "28.74028436563877\n"
          ],
          "name": "stdout"
        }
      ]
    },
    {
      "cell_type": "markdown",
      "metadata": {
        "id": "iB_Q7oNp9Zx9"
      },
      "source": [
        "Następnie, dokonajmy grupowania, po kolumnie - 'Region', oraz policzmy te same statystyki, dla każdego z regionów, z osobna"
      ]
    },
    {
      "cell_type": "code",
      "metadata": {
        "colab": {
          "base_uri": "https://localhost:8080/"
        },
        "id": "vZVDsbts9b5T",
        "outputId": "8353e2cd-d44c-4829-b213-0912f4f2a068"
      },
      "source": [
        "print( df_pop.groupby('Region')['Population'].size() )\r\n",
        "print( df_pop.groupby('Region')['Population'].sum() )\r\n",
        "print( df_pop.groupby('Region')['Population'].min() )\r\n",
        "print( df_pop.groupby('Region')['Population'].max() )\r\n",
        "print( df_pop.groupby('Region')['Population'].mean() )"
      ],
      "execution_count": null,
      "outputs": [
        {
          "output_type": "stream",
          "text": [
            "Region\n",
            "ASIA (EX. NEAR EAST)                   28\n",
            "BALTICS                                 3\n",
            "C.W. OF IND. STATES                    12\n",
            "EASTERN EUROPE                         12\n",
            "LATIN AMER. & CARIB                    45\n",
            "NEAR EAST                              16\n",
            "NORTHERN AFRICA                         6\n",
            "NORTHERN AMERICA                        5\n",
            "OCEANIA                                21\n",
            "SUB-SAHARAN AFRICA                     51\n",
            "WESTERN EUROPE                         28\n",
            "Name: Population, dtype: int64\n",
            "Region\n",
            "ASIA (EX. NEAR EAST)                   3687.982236\n",
            "BALTICS                                   7.184974\n",
            "C.W. OF IND. STATES                     280.081548\n",
            "EASTERN EUROPE                          119.914717\n",
            "LATIN AMER. & CARIB                     561.824599\n",
            "NEAR EAST                               195.068377\n",
            "NORTHERN AFRICA                         161.407133\n",
            "NORTHERN AMERICA                        331.672307\n",
            "OCEANIA                                  33.131662\n",
            "SUB-SAHARAN AFRICA                      749.437000\n",
            "WESTERN EUROPE                          396.339998\n",
            "Name: Population, dtype: float64\n",
            "Region\n",
            "ASIA (EX. NEAR EAST)                   0.359008\n",
            "BALTICS                                1.324333\n",
            "C.W. OF IND. STATES                    2.976372\n",
            "EASTERN EUROPE                         2.010347\n",
            "LATIN AMER. & CARIB                    0.009439\n",
            "NEAR EAST                              0.698585\n",
            "NORTHERN AFRICA                        0.273008\n",
            "NORTHERN AMERICA                       0.007026\n",
            "OCEANIA                                0.011810\n",
            "SUB-SAHARAN AFRICA                     0.007502\n",
            "WESTERN EUROPE                         0.027928\n",
            "Name: Population, dtype: float64\n",
            "Region\n",
            "ASIA (EX. NEAR EAST)                   1313.973713\n",
            "BALTICS                                   3.585906\n",
            "C.W. OF IND. STATES                     142.893540\n",
            "EASTERN EUROPE                           38.536869\n",
            "LATIN AMER. & CARIB                     188.078227\n",
            "NEAR EAST                                70.413958\n",
            "NORTHERN AFRICA                          78.887007\n",
            "NORTHERN AMERICA                        298.444215\n",
            "OCEANIA                                  20.264082\n",
            "SUB-SAHARAN AFRICA                      131.859731\n",
            "WESTERN EUROPE                           82.422299\n",
            "Name: Population, dtype: float64\n",
            "Region\n",
            "ASIA (EX. NEAR EAST)                   131.713651\n",
            "BALTICS                                  2.394991\n",
            "C.W. OF IND. STATES                     23.340129\n",
            "EASTERN EUROPE                           9.992893\n",
            "LATIN AMER. & CARIB                     12.484991\n",
            "NEAR EAST                               12.191774\n",
            "NORTHERN AFRICA                         26.901189\n",
            "NORTHERN AMERICA                        66.334461\n",
            "OCEANIA                                  1.577698\n",
            "SUB-SAHARAN AFRICA                      14.694843\n",
            "WESTERN EUROPE                          14.155000\n",
            "Name: Population, dtype: float64\n"
          ],
          "name": "stdout"
        }
      ]
    },
    {
      "cell_type": "markdown",
      "metadata": {
        "id": "fFkB06IF9pFt"
      },
      "source": [
        "W powyższym przykładzie, uzyskaliśmy rządane wartości w osobnym DataFrame. Możemy policzyć interesujące nas wartości, i przypisać do kolumn w jednym DataFrame, za pomocą funkcji 'agg'"
      ]
    },
    {
      "cell_type": "code",
      "metadata": {
        "colab": {
          "base_uri": "https://localhost:8080/",
          "height": 416
        },
        "id": "0cNb6npE9sjb",
        "outputId": "b5c4ef89-7b11-41dc-c993-a69d57d7f346"
      },
      "source": [
        "df_pop.groupby('Region')['Population'].agg([min, max, sum])"
      ],
      "execution_count": null,
      "outputs": [
        {
          "output_type": "execute_result",
          "data": {
            "text/html": [
              "<div>\n",
              "<style scoped>\n",
              "    .dataframe tbody tr th:only-of-type {\n",
              "        vertical-align: middle;\n",
              "    }\n",
              "\n",
              "    .dataframe tbody tr th {\n",
              "        vertical-align: top;\n",
              "    }\n",
              "\n",
              "    .dataframe thead th {\n",
              "        text-align: right;\n",
              "    }\n",
              "</style>\n",
              "<table border=\"1\" class=\"dataframe\">\n",
              "  <thead>\n",
              "    <tr style=\"text-align: right;\">\n",
              "      <th></th>\n",
              "      <th>min</th>\n",
              "      <th>max</th>\n",
              "      <th>sum</th>\n",
              "    </tr>\n",
              "    <tr>\n",
              "      <th>Region</th>\n",
              "      <th></th>\n",
              "      <th></th>\n",
              "      <th></th>\n",
              "    </tr>\n",
              "  </thead>\n",
              "  <tbody>\n",
              "    <tr>\n",
              "      <th>ASIA (EX. NEAR EAST)</th>\n",
              "      <td>0.359008</td>\n",
              "      <td>1313.973713</td>\n",
              "      <td>3687.982236</td>\n",
              "    </tr>\n",
              "    <tr>\n",
              "      <th>BALTICS</th>\n",
              "      <td>1.324333</td>\n",
              "      <td>3.585906</td>\n",
              "      <td>7.184974</td>\n",
              "    </tr>\n",
              "    <tr>\n",
              "      <th>C.W. OF IND. STATES</th>\n",
              "      <td>2.976372</td>\n",
              "      <td>142.893540</td>\n",
              "      <td>280.081548</td>\n",
              "    </tr>\n",
              "    <tr>\n",
              "      <th>EASTERN EUROPE</th>\n",
              "      <td>2.010347</td>\n",
              "      <td>38.536869</td>\n",
              "      <td>119.914717</td>\n",
              "    </tr>\n",
              "    <tr>\n",
              "      <th>LATIN AMER. &amp; CARIB</th>\n",
              "      <td>0.009439</td>\n",
              "      <td>188.078227</td>\n",
              "      <td>561.824599</td>\n",
              "    </tr>\n",
              "    <tr>\n",
              "      <th>NEAR EAST</th>\n",
              "      <td>0.698585</td>\n",
              "      <td>70.413958</td>\n",
              "      <td>195.068377</td>\n",
              "    </tr>\n",
              "    <tr>\n",
              "      <th>NORTHERN AFRICA</th>\n",
              "      <td>0.273008</td>\n",
              "      <td>78.887007</td>\n",
              "      <td>161.407133</td>\n",
              "    </tr>\n",
              "    <tr>\n",
              "      <th>NORTHERN AMERICA</th>\n",
              "      <td>0.007026</td>\n",
              "      <td>298.444215</td>\n",
              "      <td>331.672307</td>\n",
              "    </tr>\n",
              "    <tr>\n",
              "      <th>OCEANIA</th>\n",
              "      <td>0.011810</td>\n",
              "      <td>20.264082</td>\n",
              "      <td>33.131662</td>\n",
              "    </tr>\n",
              "    <tr>\n",
              "      <th>SUB-SAHARAN AFRICA</th>\n",
              "      <td>0.007502</td>\n",
              "      <td>131.859731</td>\n",
              "      <td>749.437000</td>\n",
              "    </tr>\n",
              "    <tr>\n",
              "      <th>WESTERN EUROPE</th>\n",
              "      <td>0.027928</td>\n",
              "      <td>82.422299</td>\n",
              "      <td>396.339998</td>\n",
              "    </tr>\n",
              "  </tbody>\n",
              "</table>\n",
              "</div>"
            ],
            "text/plain": [
              "                                          min          max          sum\n",
              "Region                                                                 \n",
              "ASIA (EX. NEAR EAST)                 0.359008  1313.973713  3687.982236\n",
              "BALTICS                              1.324333     3.585906     7.184974\n",
              "C.W. OF IND. STATES                  2.976372   142.893540   280.081548\n",
              "EASTERN EUROPE                       2.010347    38.536869   119.914717\n",
              "LATIN AMER. & CARIB                  0.009439   188.078227   561.824599\n",
              "NEAR EAST                            0.698585    70.413958   195.068377\n",
              "NORTHERN AFRICA                      0.273008    78.887007   161.407133\n",
              "NORTHERN AMERICA                     0.007026   298.444215   331.672307\n",
              "OCEANIA                              0.011810    20.264082    33.131662\n",
              "SUB-SAHARAN AFRICA                   0.007502   131.859731   749.437000\n",
              "WESTERN EUROPE                       0.027928    82.422299   396.339998"
            ]
          },
          "metadata": {
            "tags": []
          },
          "execution_count": 53
        }
      ]
    },
    {
      "cell_type": "markdown",
      "metadata": {
        "id": "jE57lFOU9zGk"
      },
      "source": [
        "Jeżeli chcemy chcemy zapisać wyniki w kolumnach o konkretnych nazwach, możemy przekazać do funkcji agg, słownik:"
      ]
    },
    {
      "cell_type": "code",
      "metadata": {
        "colab": {
          "base_uri": "https://localhost:8080/",
          "height": 385
        },
        "id": "PGKoN7qO9z8k",
        "outputId": "34de7dd2-17c8-4190-8525-219d854c6248"
      },
      "source": [
        "df_pop.groupby('Region', as_index=False)['Population'].agg({\"Suma\":\"sum\", \"Max\":\"max\"})"
      ],
      "execution_count": null,
      "outputs": [
        {
          "output_type": "execute_result",
          "data": {
            "text/html": [
              "<div>\n",
              "<style scoped>\n",
              "    .dataframe tbody tr th:only-of-type {\n",
              "        vertical-align: middle;\n",
              "    }\n",
              "\n",
              "    .dataframe tbody tr th {\n",
              "        vertical-align: top;\n",
              "    }\n",
              "\n",
              "    .dataframe thead th {\n",
              "        text-align: right;\n",
              "    }\n",
              "</style>\n",
              "<table border=\"1\" class=\"dataframe\">\n",
              "  <thead>\n",
              "    <tr style=\"text-align: right;\">\n",
              "      <th></th>\n",
              "      <th>Region</th>\n",
              "      <th>Suma</th>\n",
              "      <th>Max</th>\n",
              "    </tr>\n",
              "  </thead>\n",
              "  <tbody>\n",
              "    <tr>\n",
              "      <th>0</th>\n",
              "      <td>ASIA (EX. NEAR EAST)</td>\n",
              "      <td>3687.982236</td>\n",
              "      <td>1313.973713</td>\n",
              "    </tr>\n",
              "    <tr>\n",
              "      <th>1</th>\n",
              "      <td>BALTICS</td>\n",
              "      <td>7.184974</td>\n",
              "      <td>3.585906</td>\n",
              "    </tr>\n",
              "    <tr>\n",
              "      <th>2</th>\n",
              "      <td>C.W. OF IND. STATES</td>\n",
              "      <td>280.081548</td>\n",
              "      <td>142.893540</td>\n",
              "    </tr>\n",
              "    <tr>\n",
              "      <th>3</th>\n",
              "      <td>EASTERN EUROPE</td>\n",
              "      <td>119.914717</td>\n",
              "      <td>38.536869</td>\n",
              "    </tr>\n",
              "    <tr>\n",
              "      <th>4</th>\n",
              "      <td>LATIN AMER. &amp; CARIB</td>\n",
              "      <td>561.824599</td>\n",
              "      <td>188.078227</td>\n",
              "    </tr>\n",
              "    <tr>\n",
              "      <th>5</th>\n",
              "      <td>NEAR EAST</td>\n",
              "      <td>195.068377</td>\n",
              "      <td>70.413958</td>\n",
              "    </tr>\n",
              "    <tr>\n",
              "      <th>6</th>\n",
              "      <td>NORTHERN AFRICA</td>\n",
              "      <td>161.407133</td>\n",
              "      <td>78.887007</td>\n",
              "    </tr>\n",
              "    <tr>\n",
              "      <th>7</th>\n",
              "      <td>NORTHERN AMERICA</td>\n",
              "      <td>331.672307</td>\n",
              "      <td>298.444215</td>\n",
              "    </tr>\n",
              "    <tr>\n",
              "      <th>8</th>\n",
              "      <td>OCEANIA</td>\n",
              "      <td>33.131662</td>\n",
              "      <td>20.264082</td>\n",
              "    </tr>\n",
              "    <tr>\n",
              "      <th>9</th>\n",
              "      <td>SUB-SAHARAN AFRICA</td>\n",
              "      <td>749.437000</td>\n",
              "      <td>131.859731</td>\n",
              "    </tr>\n",
              "    <tr>\n",
              "      <th>10</th>\n",
              "      <td>WESTERN EUROPE</td>\n",
              "      <td>396.339998</td>\n",
              "      <td>82.422299</td>\n",
              "    </tr>\n",
              "  </tbody>\n",
              "</table>\n",
              "</div>"
            ],
            "text/plain": [
              "                                 Region         Suma          Max\n",
              "0         ASIA (EX. NEAR EAST)           3687.982236  1313.973713\n",
              "1   BALTICS                                 7.184974     3.585906\n",
              "2                  C.W. OF IND. STATES    280.081548   142.893540\n",
              "3   EASTERN EUROPE                        119.914717    38.536869\n",
              "4               LATIN AMER. & CARIB       561.824599   188.078227\n",
              "5   NEAR EAST                             195.068377    70.413958\n",
              "6   NORTHERN AFRICA                       161.407133    78.887007\n",
              "7   NORTHERN AMERICA                      331.672307   298.444215\n",
              "8   OCEANIA                                33.131662    20.264082\n",
              "9   SUB-SAHARAN AFRICA                    749.437000   131.859731\n",
              "10  WESTERN EUROPE                        396.339998    82.422299"
            ]
          },
          "metadata": {
            "tags": []
          },
          "execution_count": 54
        }
      ]
    },
    {
      "cell_type": "markdown",
      "metadata": {
        "id": "Japgpv6h-Hh3"
      },
      "source": [
        "# Łączenie DataFrame - SQL Join"
      ]
    },
    {
      "cell_type": "markdown",
      "metadata": {
        "id": "hLBbsQ60-K9v"
      },
      "source": [
        "Bardzo szybko, dojdziemy do momentu, w którym mamy dwa, zbiory danych, które chcemy połączyć, za pomocą wspólnego klucza. W tym przypadku, mamy do dyspozycji funkcje 'merge'. Zdefiniujmy 2 DataFrame, po czym połączmy je na 4 sposoby:"
      ]
    },
    {
      "cell_type": "code",
      "metadata": {
        "colab": {
          "base_uri": "https://localhost:8080/",
          "height": 171
        },
        "id": "OLB_6IrX-QwD",
        "outputId": "cd42fc86-3ed6-446c-d43d-68fbc3eaa0ec"
      },
      "source": [
        "a = [['Ania',24],['Michał',9],['Darek',40],['Ewa',43]]\r\n",
        "df_a = pd.DataFrame(a)\r\n",
        "df_a.columns = 'Imię', 'Wiek'\r\n",
        "df_a"
      ],
      "execution_count": null,
      "outputs": [
        {
          "output_type": "execute_result",
          "data": {
            "text/html": [
              "<div>\n",
              "<style scoped>\n",
              "    .dataframe tbody tr th:only-of-type {\n",
              "        vertical-align: middle;\n",
              "    }\n",
              "\n",
              "    .dataframe tbody tr th {\n",
              "        vertical-align: top;\n",
              "    }\n",
              "\n",
              "    .dataframe thead th {\n",
              "        text-align: right;\n",
              "    }\n",
              "</style>\n",
              "<table border=\"1\" class=\"dataframe\">\n",
              "  <thead>\n",
              "    <tr style=\"text-align: right;\">\n",
              "      <th></th>\n",
              "      <th>Imię</th>\n",
              "      <th>Wiek</th>\n",
              "    </tr>\n",
              "  </thead>\n",
              "  <tbody>\n",
              "    <tr>\n",
              "      <th>0</th>\n",
              "      <td>Ania</td>\n",
              "      <td>24</td>\n",
              "    </tr>\n",
              "    <tr>\n",
              "      <th>1</th>\n",
              "      <td>Michał</td>\n",
              "      <td>9</td>\n",
              "    </tr>\n",
              "    <tr>\n",
              "      <th>2</th>\n",
              "      <td>Darek</td>\n",
              "      <td>40</td>\n",
              "    </tr>\n",
              "    <tr>\n",
              "      <th>3</th>\n",
              "      <td>Ewa</td>\n",
              "      <td>43</td>\n",
              "    </tr>\n",
              "  </tbody>\n",
              "</table>\n",
              "</div>"
            ],
            "text/plain": [
              "     Imię  Wiek\n",
              "0    Ania    24\n",
              "1  Michał     9\n",
              "2   Darek    40\n",
              "3     Ewa    43"
            ]
          },
          "metadata": {
            "tags": []
          },
          "execution_count": 55
        }
      ]
    },
    {
      "cell_type": "code",
      "metadata": {
        "colab": {
          "base_uri": "https://localhost:8080/",
          "height": 201
        },
        "id": "av__OtQ8-hqY",
        "outputId": "8758490f-d17e-4f90-e295-4699c02adea6"
      },
      "source": [
        "b = {'Imię':['Ewa','Michał','Krzysiek','Kasia','Lucja'],'Miasto':['Warszawa','Kraków','Gdańsk','Poznań','Łódź']}\r\n",
        "df_b = pd.DataFrame(b)\r\n",
        "df_b"
      ],
      "execution_count": null,
      "outputs": [
        {
          "output_type": "execute_result",
          "data": {
            "text/html": [
              "<div>\n",
              "<style scoped>\n",
              "    .dataframe tbody tr th:only-of-type {\n",
              "        vertical-align: middle;\n",
              "    }\n",
              "\n",
              "    .dataframe tbody tr th {\n",
              "        vertical-align: top;\n",
              "    }\n",
              "\n",
              "    .dataframe thead th {\n",
              "        text-align: right;\n",
              "    }\n",
              "</style>\n",
              "<table border=\"1\" class=\"dataframe\">\n",
              "  <thead>\n",
              "    <tr style=\"text-align: right;\">\n",
              "      <th></th>\n",
              "      <th>Imię</th>\n",
              "      <th>Miasto</th>\n",
              "    </tr>\n",
              "  </thead>\n",
              "  <tbody>\n",
              "    <tr>\n",
              "      <th>0</th>\n",
              "      <td>Ewa</td>\n",
              "      <td>Warszawa</td>\n",
              "    </tr>\n",
              "    <tr>\n",
              "      <th>1</th>\n",
              "      <td>Michał</td>\n",
              "      <td>Kraków</td>\n",
              "    </tr>\n",
              "    <tr>\n",
              "      <th>2</th>\n",
              "      <td>Krzysiek</td>\n",
              "      <td>Gdańsk</td>\n",
              "    </tr>\n",
              "    <tr>\n",
              "      <th>3</th>\n",
              "      <td>Kasia</td>\n",
              "      <td>Poznań</td>\n",
              "    </tr>\n",
              "    <tr>\n",
              "      <th>4</th>\n",
              "      <td>Lucja</td>\n",
              "      <td>Łódź</td>\n",
              "    </tr>\n",
              "  </tbody>\n",
              "</table>\n",
              "</div>"
            ],
            "text/plain": [
              "       Imię    Miasto\n",
              "0       Ewa  Warszawa\n",
              "1    Michał    Kraków\n",
              "2  Krzysiek    Gdańsk\n",
              "3     Kasia    Poznań\n",
              "4     Lucja      Łódź"
            ]
          },
          "metadata": {
            "tags": []
          },
          "execution_count": 56
        }
      ]
    },
    {
      "cell_type": "markdown",
      "metadata": {
        "id": "W3s9-9zN-q_E"
      },
      "source": [
        "### 1 - Uzyskanie części wspólnej:"
      ]
    },
    {
      "cell_type": "code",
      "metadata": {
        "colab": {
          "base_uri": "https://localhost:8080/",
          "height": 109
        },
        "id": "RmqCcusg-z4Z",
        "outputId": "8581b600-be5f-46ac-9c90-2acaff2f460f"
      },
      "source": [
        "pd.merge(df_a, df_b, on='Imię')"
      ],
      "execution_count": null,
      "outputs": [
        {
          "output_type": "execute_result",
          "data": {
            "text/html": [
              "<div>\n",
              "<style scoped>\n",
              "    .dataframe tbody tr th:only-of-type {\n",
              "        vertical-align: middle;\n",
              "    }\n",
              "\n",
              "    .dataframe tbody tr th {\n",
              "        vertical-align: top;\n",
              "    }\n",
              "\n",
              "    .dataframe thead th {\n",
              "        text-align: right;\n",
              "    }\n",
              "</style>\n",
              "<table border=\"1\" class=\"dataframe\">\n",
              "  <thead>\n",
              "    <tr style=\"text-align: right;\">\n",
              "      <th></th>\n",
              "      <th>Imię</th>\n",
              "      <th>Wiek</th>\n",
              "      <th>Miasto</th>\n",
              "    </tr>\n",
              "  </thead>\n",
              "  <tbody>\n",
              "    <tr>\n",
              "      <th>0</th>\n",
              "      <td>Michał</td>\n",
              "      <td>9</td>\n",
              "      <td>Kraków</td>\n",
              "    </tr>\n",
              "    <tr>\n",
              "      <th>1</th>\n",
              "      <td>Ewa</td>\n",
              "      <td>43</td>\n",
              "      <td>Warszawa</td>\n",
              "    </tr>\n",
              "  </tbody>\n",
              "</table>\n",
              "</div>"
            ],
            "text/plain": [
              "     Imię  Wiek    Miasto\n",
              "0  Michał     9    Kraków\n",
              "1     Ewa    43  Warszawa"
            ]
          },
          "metadata": {
            "tags": []
          },
          "execution_count": 57
        }
      ]
    },
    {
      "cell_type": "markdown",
      "metadata": {
        "id": "67WAxBsY-33q"
      },
      "source": [
        "### 2 - Wszystkie wiersze ze zbioru lewego, pasujące wiersze ze zbioru prawego"
      ]
    },
    {
      "cell_type": "code",
      "metadata": {
        "colab": {
          "base_uri": "https://localhost:8080/",
          "height": 171
        },
        "id": "3qjtmYSe-5wN",
        "outputId": "ed1d1bf1-5a13-4c5a-a527-6baa7aaeb031"
      },
      "source": [
        "pd.merge(df_a, df_b, on='Imię', how='left')"
      ],
      "execution_count": null,
      "outputs": [
        {
          "output_type": "execute_result",
          "data": {
            "text/html": [
              "<div>\n",
              "<style scoped>\n",
              "    .dataframe tbody tr th:only-of-type {\n",
              "        vertical-align: middle;\n",
              "    }\n",
              "\n",
              "    .dataframe tbody tr th {\n",
              "        vertical-align: top;\n",
              "    }\n",
              "\n",
              "    .dataframe thead th {\n",
              "        text-align: right;\n",
              "    }\n",
              "</style>\n",
              "<table border=\"1\" class=\"dataframe\">\n",
              "  <thead>\n",
              "    <tr style=\"text-align: right;\">\n",
              "      <th></th>\n",
              "      <th>Imię</th>\n",
              "      <th>Wiek</th>\n",
              "      <th>Miasto</th>\n",
              "    </tr>\n",
              "  </thead>\n",
              "  <tbody>\n",
              "    <tr>\n",
              "      <th>0</th>\n",
              "      <td>Ania</td>\n",
              "      <td>24</td>\n",
              "      <td>NaN</td>\n",
              "    </tr>\n",
              "    <tr>\n",
              "      <th>1</th>\n",
              "      <td>Michał</td>\n",
              "      <td>9</td>\n",
              "      <td>Kraków</td>\n",
              "    </tr>\n",
              "    <tr>\n",
              "      <th>2</th>\n",
              "      <td>Darek</td>\n",
              "      <td>40</td>\n",
              "      <td>NaN</td>\n",
              "    </tr>\n",
              "    <tr>\n",
              "      <th>3</th>\n",
              "      <td>Ewa</td>\n",
              "      <td>43</td>\n",
              "      <td>Warszawa</td>\n",
              "    </tr>\n",
              "  </tbody>\n",
              "</table>\n",
              "</div>"
            ],
            "text/plain": [
              "     Imię  Wiek    Miasto\n",
              "0    Ania    24       NaN\n",
              "1  Michał     9    Kraków\n",
              "2   Darek    40       NaN\n",
              "3     Ewa    43  Warszawa"
            ]
          },
          "metadata": {
            "tags": []
          },
          "execution_count": 58
        }
      ]
    },
    {
      "cell_type": "markdown",
      "metadata": {
        "id": "5u35yzrC_GI0"
      },
      "source": [
        "### 3 - Wszystkie wiersze ze zbioru prawego, pasujące wiersze ze zbioru lewego"
      ]
    },
    {
      "cell_type": "code",
      "metadata": {
        "colab": {
          "base_uri": "https://localhost:8080/",
          "height": 201
        },
        "id": "__j8_lN2_HdY",
        "outputId": "0f7adb67-06b2-4ebe-f7c3-45b757129f97"
      },
      "source": [
        "pd.merge(df_a, df_b, on='Imię', how='right')"
      ],
      "execution_count": null,
      "outputs": [
        {
          "output_type": "execute_result",
          "data": {
            "text/html": [
              "<div>\n",
              "<style scoped>\n",
              "    .dataframe tbody tr th:only-of-type {\n",
              "        vertical-align: middle;\n",
              "    }\n",
              "\n",
              "    .dataframe tbody tr th {\n",
              "        vertical-align: top;\n",
              "    }\n",
              "\n",
              "    .dataframe thead th {\n",
              "        text-align: right;\n",
              "    }\n",
              "</style>\n",
              "<table border=\"1\" class=\"dataframe\">\n",
              "  <thead>\n",
              "    <tr style=\"text-align: right;\">\n",
              "      <th></th>\n",
              "      <th>Imię</th>\n",
              "      <th>Wiek</th>\n",
              "      <th>Miasto</th>\n",
              "    </tr>\n",
              "  </thead>\n",
              "  <tbody>\n",
              "    <tr>\n",
              "      <th>0</th>\n",
              "      <td>Ewa</td>\n",
              "      <td>43.0</td>\n",
              "      <td>Warszawa</td>\n",
              "    </tr>\n",
              "    <tr>\n",
              "      <th>1</th>\n",
              "      <td>Michał</td>\n",
              "      <td>9.0</td>\n",
              "      <td>Kraków</td>\n",
              "    </tr>\n",
              "    <tr>\n",
              "      <th>2</th>\n",
              "      <td>Krzysiek</td>\n",
              "      <td>NaN</td>\n",
              "      <td>Gdańsk</td>\n",
              "    </tr>\n",
              "    <tr>\n",
              "      <th>3</th>\n",
              "      <td>Kasia</td>\n",
              "      <td>NaN</td>\n",
              "      <td>Poznań</td>\n",
              "    </tr>\n",
              "    <tr>\n",
              "      <th>4</th>\n",
              "      <td>Lucja</td>\n",
              "      <td>NaN</td>\n",
              "      <td>Łódź</td>\n",
              "    </tr>\n",
              "  </tbody>\n",
              "</table>\n",
              "</div>"
            ],
            "text/plain": [
              "       Imię  Wiek    Miasto\n",
              "0       Ewa  43.0  Warszawa\n",
              "1    Michał   9.0    Kraków\n",
              "2  Krzysiek   NaN    Gdańsk\n",
              "3     Kasia   NaN    Poznań\n",
              "4     Lucja   NaN      Łódź"
            ]
          },
          "metadata": {
            "tags": []
          },
          "execution_count": 59
        }
      ]
    },
    {
      "cell_type": "markdown",
      "metadata": {
        "id": "D0xHlo8R_UUk"
      },
      "source": [
        "### 4 - Wszystkie wiersze"
      ]
    },
    {
      "cell_type": "code",
      "metadata": {
        "colab": {
          "base_uri": "https://localhost:8080/",
          "height": 263
        },
        "id": "I7oJA3hO_V9u",
        "outputId": "ef6c06b1-0cb8-418b-8568-ce0d958ecef0"
      },
      "source": [
        "pd.merge(df_a, df_b, on='Imię', how='outer')"
      ],
      "execution_count": null,
      "outputs": [
        {
          "output_type": "execute_result",
          "data": {
            "text/html": [
              "<div>\n",
              "<style scoped>\n",
              "    .dataframe tbody tr th:only-of-type {\n",
              "        vertical-align: middle;\n",
              "    }\n",
              "\n",
              "    .dataframe tbody tr th {\n",
              "        vertical-align: top;\n",
              "    }\n",
              "\n",
              "    .dataframe thead th {\n",
              "        text-align: right;\n",
              "    }\n",
              "</style>\n",
              "<table border=\"1\" class=\"dataframe\">\n",
              "  <thead>\n",
              "    <tr style=\"text-align: right;\">\n",
              "      <th></th>\n",
              "      <th>Imię</th>\n",
              "      <th>Wiek</th>\n",
              "      <th>Miasto</th>\n",
              "    </tr>\n",
              "  </thead>\n",
              "  <tbody>\n",
              "    <tr>\n",
              "      <th>0</th>\n",
              "      <td>Ania</td>\n",
              "      <td>24.0</td>\n",
              "      <td>NaN</td>\n",
              "    </tr>\n",
              "    <tr>\n",
              "      <th>1</th>\n",
              "      <td>Michał</td>\n",
              "      <td>9.0</td>\n",
              "      <td>Kraków</td>\n",
              "    </tr>\n",
              "    <tr>\n",
              "      <th>2</th>\n",
              "      <td>Darek</td>\n",
              "      <td>40.0</td>\n",
              "      <td>NaN</td>\n",
              "    </tr>\n",
              "    <tr>\n",
              "      <th>3</th>\n",
              "      <td>Ewa</td>\n",
              "      <td>43.0</td>\n",
              "      <td>Warszawa</td>\n",
              "    </tr>\n",
              "    <tr>\n",
              "      <th>4</th>\n",
              "      <td>Krzysiek</td>\n",
              "      <td>NaN</td>\n",
              "      <td>Gdańsk</td>\n",
              "    </tr>\n",
              "    <tr>\n",
              "      <th>5</th>\n",
              "      <td>Kasia</td>\n",
              "      <td>NaN</td>\n",
              "      <td>Poznań</td>\n",
              "    </tr>\n",
              "    <tr>\n",
              "      <th>6</th>\n",
              "      <td>Lucja</td>\n",
              "      <td>NaN</td>\n",
              "      <td>Łódź</td>\n",
              "    </tr>\n",
              "  </tbody>\n",
              "</table>\n",
              "</div>"
            ],
            "text/plain": [
              "       Imię  Wiek    Miasto\n",
              "0      Ania  24.0       NaN\n",
              "1    Michał   9.0    Kraków\n",
              "2     Darek  40.0       NaN\n",
              "3       Ewa  43.0  Warszawa\n",
              "4  Krzysiek   NaN    Gdańsk\n",
              "5     Kasia   NaN    Poznań\n",
              "6     Lucja   NaN      Łódź"
            ]
          },
          "metadata": {
            "tags": []
          },
          "execution_count": 60
        }
      ]
    },
    {
      "cell_type": "markdown",
      "metadata": {
        "id": "Nhd2VKP1AJ8W"
      },
      "source": [
        "# Wykresy"
      ]
    },
    {
      "cell_type": "markdown",
      "metadata": {
        "id": "10nb8c3ZANck"
      },
      "source": [
        "Ostatnią rzeczą, o której wspomnimy to fakt, że Pandas współpracuje z biblioteką Matplotlib i umożliwia szybkie przygotowanie podstawowych wykresów. Prosty przykład, załączamy poniżej, jednak temat zostanie omówiony w osobnym artykule."
      ]
    },
    {
      "cell_type": "code",
      "metadata": {
        "colab": {
          "base_uri": "https://localhost:8080/",
          "height": 248
        },
        "id": "n2gGZCPoAOPj",
        "outputId": "1ce4bd8c-10d1-4d89-e470-f349da3a870f"
      },
      "source": [
        "import matplotlib.pyplot as plt\r\n",
        "df_pop.groupby('Region')['Population'].sum().plot(kind='pie')\r\n",
        "plt.show()"
      ],
      "execution_count": null,
      "outputs": [
        {
          "output_type": "display_data",
          "data": {
            "image/png": "[encoded data removed]",
            "text/plain": [
              "<Figure size 432x288 with 1 Axes>"
            ]
          },
          "metadata": {
            "tags": []
          }
        }
      ]
    }
  ]
}