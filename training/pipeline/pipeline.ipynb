{
  "nbformat": 4,
  "nbformat_minor": 0,
  "metadata": {
    "colab": {
      "name": "pipeline.ipynb",
      "provenance": [],
      "collapsed_sections": [],
      "authorship_tag": "ABX9TyPmSfNiw7KvARpwo4tXsNir",
      "include_colab_link": true
    },
    "kernelspec": {
      "name": "python3",
      "display_name": "Python 3"
    }
  },
  "cells": [
    {
      "cell_type": "markdown",
      "metadata": {
        "id": "view-in-github",
        "colab_type": "text"
      },
      "source": [
        "<a href=\"https://colab.research.google.com/github/KamilBienias/data-science/blob/main/training/pipeline/pipeline.ipynb\" target=\"_parent\"><img src=\"https://colab.research.google.com/assets/colab-badge.svg\" alt=\"Open In Colab\"/></a>"
      ]
    },
    {
      "cell_type": "code",
      "metadata": {
        "id": "RMAI_UklFHXs"
      },
      "source": [
        "# https://blog.prokulski.science/index.php/2020/10/10/pipeline-w-scikit-learn/\r\n",
        "\r\n",
        "# bez tego nie ma data science! ;)\r\n",
        "import pandas as pd\r\n",
        " \r\n",
        "# być może coś narysujemy\r\n",
        "import matplotlib.pyplot as plt\r\n",
        "import seaborn as sns\r\n",
        " \r\n",
        "import time"
      ],
      "execution_count": null,
      "outputs": []
    },
    {
      "cell_type": "code",
      "metadata": {
        "id": "EFDFr3y3FaiM",
        "colab": {
          "base_uri": "https://localhost:8080/"
        },
        "outputId": "d40de115-130b-467a-e89e-e6c18102ed5e"
      },
      "source": [
        "from sklearn.model_selection import train_test_split\r\n",
        " \r\n",
        "# modele\r\n",
        "from sklearn.dummy import DummyClassifier\r\n",
        "from sklearn.linear_model import LogisticRegression\r\n",
        "from sklearn.tree import ExtraTreeClassifier\r\n",
        "from sklearn.ensemble import RandomForestClassifier\r\n",
        "from sklearn.svm import SVC\r\n",
        "from sklearn.neighbors import KNeighborsClassifier\r\n",
        " \r\n",
        "# preprocessing\r\n",
        "## zmienne ciągłe\r\n",
        "from sklearn.preprocessing import StandardScaler, MinMaxScaler, Normalizer\r\n",
        "## zmienne kategoryczne\r\n",
        "from sklearn.preprocessing import OrdinalEncoder, OneHotEncoder\r\n",
        " \r\n",
        "# Pipeline\r\n",
        "from sklearn.pipeline import Pipeline\r\n",
        "from sklearn.compose import ColumnTransformer\r\n",
        " \r\n",
        "!pip install catboost\r\n",
        "# dodatkowe modele spoza sklearn\r\n",
        "from xgboost import XGBClassifier\r\n",
        "from catboost import CatBoostClassifier\r\n",
        "from lightgbm import LGBMClassifier"
      ],
      "execution_count": null,
      "outputs": [
        {
          "output_type": "stream",
          "text": [
            "Requirement already satisfied: catboost in /usr/local/lib/python3.6/dist-packages (0.24.3)\n",
            "Requirement already satisfied: scipy in /usr/local/lib/python3.6/dist-packages (from catboost) (1.4.1)\n",
            "Requirement already satisfied: matplotlib in /usr/local/lib/python3.6/dist-packages (from catboost) (3.2.2)\n",
            "Requirement already satisfied: plotly in /usr/local/lib/python3.6/dist-packages (from catboost) (4.4.1)\n",
            "Requirement already satisfied: numpy>=1.16.0 in /usr/local/lib/python3.6/dist-packages (from catboost) (1.19.4)\n",
            "Requirement already satisfied: graphviz in /usr/local/lib/python3.6/dist-packages (from catboost) (0.10.1)\n",
            "Requirement already satisfied: pandas>=0.24.0 in /usr/local/lib/python3.6/dist-packages (from catboost) (1.1.5)\n",
            "Requirement already satisfied: six in /usr/local/lib/python3.6/dist-packages (from catboost) (1.15.0)\n",
            "Requirement already satisfied: kiwisolver>=1.0.1 in /usr/local/lib/python3.6/dist-packages (from matplotlib->catboost) (1.3.1)\n",
            "Requirement already satisfied: cycler>=0.10 in /usr/local/lib/python3.6/dist-packages (from matplotlib->catboost) (0.10.0)\n",
            "Requirement already satisfied: python-dateutil>=2.1 in /usr/local/lib/python3.6/dist-packages (from matplotlib->catboost) (2.8.1)\n",
            "Requirement already satisfied: pyparsing!=2.0.4,!=2.1.2,!=2.1.6,>=2.0.1 in /usr/local/lib/python3.6/dist-packages (from matplotlib->catboost) (2.4.7)\n",
            "Requirement already satisfied: retrying>=1.3.3 in /usr/local/lib/python3.6/dist-packages (from plotly->catboost) (1.3.3)\n",
            "Requirement already satisfied: pytz>=2017.2 in /usr/local/lib/python3.6/dist-packages (from pandas>=0.24.0->catboost) (2018.9)\n"
          ],
          "name": "stdout"
        }
      ]
    },
    {
      "cell_type": "code",
      "metadata": {
        "colab": {
          "base_uri": "https://localhost:8080/"
        },
        "id": "SeL3qa63F6yL",
        "outputId": "d44fc16a-4ebf-40d0-86f5-dac319b31730"
      },
      "source": [
        "# dane nie mają nagłówka - sami sobie nadamy nazwy kolumn\r\n",
        "col_names= ['age', 'work_class', 'final_weight', 'education', 'education_num',\r\n",
        "            'marital_status', 'occupation', 'relationship', 'race', 'sex',\r\n",
        "            'capital_gain', 'capital_loss', 'hours_per_week', 'native_country',\r\n",
        "            'year_income']\r\n",
        "\r\n",
        "# sam tworzę folder data i z dysku google umieszczam w nim plik adult.data\r\n",
        "import os\r\n",
        "if not os.path.isdir(\"data\"):\r\n",
        "    os.makedirs(\"data\")\r\n",
        "\r\n",
        "# wczytujemy dane\r\n",
        "adult_dataset = pd.read_csv(\"data/adult.data\",\r\n",
        "                            engine='python', sep=', ', # tu jest przeciek i spacja!\r\n",
        "                            header=None, names=col_names,\r\n",
        "                            na_values=\"?\")\r\n",
        " \r\n",
        "# kolumna 'final_weight' do niczego się nie przyda, więc od razu ją usuwamy\r\n",
        "# wiadomo to z EDA, które tutaj pomijamy\r\n",
        "adult_dataset.drop('final_weight', axis=1, inplace=True)\r\n",
        " \r\n",
        "# usuwamy braki, żeby uprościć przykład\r\n",
        "adult_dataset.dropna(inplace=True)\r\n",
        "\r\n",
        "print(\"Usunąłem wiersz 8603 bo rzucał błąd że jest 16 kolumn zamiast 15.\")\r\n",
        "# sam pokazuję adult_dataset\r\n",
        "print(adult_dataset)"
      ],
      "execution_count": null,
      "outputs": [
        {
          "output_type": "stream",
          "text": [
            "Usunąłem wiersz 8603 bo rzucał błąd że jest 16 kolumn zamiast 15.\n",
            "       age        work_class  ... native_country  year_income\n",
            "0       39         State-gov  ...  United-States        <=50K\n",
            "1       50  Self-emp-not-inc  ...  United-States        <=50K\n",
            "2       38           Private  ...  United-States        <=50K\n",
            "3       53           Private  ...  United-States        <=50K\n",
            "4       28           Private  ...           Cuba        <=50K\n",
            "...    ...               ...  ...            ...          ...\n",
            "32555   27           Private  ...  United-States        <=50K\n",
            "32556   40           Private  ...  United-States         >50K\n",
            "32557   58           Private  ...  United-States        <=50K\n",
            "32558   22           Private  ...  United-States        <=50K\n",
            "32559   52      Self-emp-inc  ...  United-States         >50K\n",
            "\n",
            "[30161 rows x 14 columns]\n"
          ],
          "name": "stdout"
        }
      ]
    },
    {
      "cell_type": "code",
      "metadata": {
        "colab": {
          "base_uri": "https://localhost:8080/"
        },
        "id": "fxoLmQORKuE7",
        "outputId": "f67cc37f-e019-4feb-b8d3-ae922084a5b5"
      },
      "source": [
        "# Zobaczmy jakie mamy typy danych w kolumnach:\r\n",
        "adult_dataset.dtypes"
      ],
      "execution_count": null,
      "outputs": [
        {
          "output_type": "execute_result",
          "data": {
            "text/plain": [
              "age                int64\n",
              "work_class        object\n",
              "education         object\n",
              "education_num      int64\n",
              "marital_status    object\n",
              "occupation        object\n",
              "relationship      object\n",
              "race              object\n",
              "sex               object\n",
              "capital_gain       int64\n",
              "capital_loss       int64\n",
              "hours_per_week     int64\n",
              "native_country    object\n",
              "year_income       object\n",
              "dtype: object"
            ]
          },
          "metadata": {
            "tags": []
          },
          "execution_count": 40
        }
      ]
    },
    {
      "cell_type": "code",
      "metadata": {
        "id": "ZfLTERftN9md"
      },
      "source": [
        "# dzielimy dane na zbiór treningowy i testowy. \r\n",
        "# Przy okazji z całej ramki danych wyciągamy kolumnę year_income jako Y, a resztę jako X.\r\n",
        "\r\n",
        "X_train, X_test, y_train, y_test = train_test_split(adult_dataset.drop('year_income', axis=1),\r\n",
        "                                                    adult_dataset['year_income'],\r\n",
        "                                                    test_size=0.3,\r\n",
        "                                                    random_state=42)"
      ],
      "execution_count": null,
      "outputs": []
    },
    {
      "cell_type": "code",
      "metadata": {
        "colab": {
          "base_uri": "https://localhost:8080/"
        },
        "id": "ZNDVfVSBOdR1",
        "outputId": "644ad728-eb27-473d-8e1c-174ac23187b5"
      },
      "source": [
        "print(adult_dataset[\"year_income\"])"
      ],
      "execution_count": null,
      "outputs": [
        {
          "output_type": "stream",
          "text": [
            "0        <=50K\n",
            "1        <=50K\n",
            "2        <=50K\n",
            "3        <=50K\n",
            "4        <=50K\n",
            "         ...  \n",
            "32555    <=50K\n",
            "32556     >50K\n",
            "32557    <=50K\n",
            "32558    <=50K\n",
            "32559     >50K\n",
            "Name: year_income, Length: 30161, dtype: object\n"
          ],
          "name": "stdout"
        }
      ]
    },
    {
      "cell_type": "code",
      "metadata": {
        "colab": {
          "base_uri": "https://localhost:8080/"
        },
        "id": "xhFCtR5HPtZO",
        "outputId": "90df04ee-3729-41ba-fc16-534f751a3822"
      },
      "source": [
        "# lista kolumn numerycznych\r\n",
        "cols_numerical = X_train.select_dtypes(include=['int64', 'float64']).columns\r\n",
        "print(\"Ja: Nazwy kolumn numerycznych\")\r\n",
        "print(cols_numerical)\r\n",
        "print(\"Ja: Zawartość kolumn numerycznych\")\r\n",
        "print(X_train[cols_numerical])\r\n",
        " \r\n",
        "# transformer dla kolumn numerycznych\r\n",
        "transformer_numerical = Pipeline(steps = [\r\n",
        "    ('num_trans', StandardScaler())\r\n",
        "])\r\n",
        "\r\n",
        "# print(\"Ja: Zawartość kolumn numerycznych po wyskalowaniu\")\r\n",
        "# print(X_train[cols_numerical])"
      ],
      "execution_count": null,
      "outputs": [
        {
          "output_type": "stream",
          "text": [
            "Ja: Nazwy kolumn numerycznych\n",
            "Index(['age', 'education_num', 'capital_gain', 'capital_loss',\n",
            "       'hours_per_week'],\n",
            "      dtype='object')\n",
            "Ja: Zawartość kolumn numerycznych\n",
            "       age  education_num  capital_gain  capital_loss  hours_per_week\n",
            "29252   35              9             0             0              40\n",
            "14267   28             10             0             0              30\n",
            "26020   39             13             0             0              60\n",
            "24277   33              9             0             0              32\n",
            "4225    27              9             0             0              38\n",
            "...    ...            ...           ...           ...             ...\n",
            "32171   36             12             0             0              37\n",
            "5875    41             10          3103             0              40\n",
            "935     37              9             0             0              99\n",
            "17056   45              7             0             0              40\n",
            "25528   45             10             0             0              41\n",
            "\n",
            "[21112 rows x 5 columns]\n",
            "Ja: Zawartość kolumn numerycznych po wyskalowaniu\n",
            "       age  education_num  capital_gain  capital_loss  hours_per_week\n",
            "29252   35              9             0             0              40\n",
            "14267   28             10             0             0              30\n",
            "26020   39             13             0             0              60\n",
            "24277   33              9             0             0              32\n",
            "4225    27              9             0             0              38\n",
            "...    ...            ...           ...           ...             ...\n",
            "32171   36             12             0             0              37\n",
            "5875    41             10          3103             0              40\n",
            "935     37              9             0             0              99\n",
            "17056   45              7             0             0              40\n",
            "25528   45             10             0             0              41\n",
            "\n",
            "[21112 rows x 5 columns]\n"
          ],
          "name": "stdout"
        }
      ]
    },
    {
      "cell_type": "code",
      "metadata": {
        "id": "C1eYpj_LRyEN"
      },
      "source": [
        "# To samo robimy dla kolumn z wartościami kategorycznymi – budujemy mini-rurociąg \r\n",
        "# transformer_categorical, który w kroku cat_trans wywołuje OneHotEncoder().\r\n",
        "# lista kolmn kategorycznych\r\n",
        "cols_categorical = ['work_class', 'education', 'marital_status', 'occupation',\r\n",
        "                    'relationship', 'race', 'sex', 'native_country']\r\n",
        " \r\n",
        "# transformer dla kolumn numerycznych\r\n",
        "transformer_categorical = Pipeline(steps = [\r\n",
        "    ('cat_trans', OneHotEncoder())\r\n",
        "])"
      ],
      "execution_count": null,
      "outputs": []
    },
    {
      "cell_type": "markdown",
      "metadata": {
        "id": "y_hS-XLTSMo1"
      },
      "source": [
        "Z tych dwóch małych rurociągów zbudujemy większy – preprocessor. Właściwie to będzie to swego rodzaju rozgałęzienie – ColumnTransformer który jedne kolumny puści jednym mini-rurociągiem, a drugie – drugim. I znowu: tutaj może być kilka elementów, oddzielne przepływy dla konkretnych kolumn (bo może jedne ciągłe chcemy skalować w jeden sposób, a inne w inny? A może jedne zmienne chcemy uzupełnić średnią a inne medianą?) – mamy pełną swobodę."
      ]
    },
    {
      "cell_type": "code",
      "metadata": {
        "id": "STs5-LNgSPPc"
      },
      "source": [
        "# preprocesor danych\r\n",
        "preprocessor = ColumnTransformer(transformers = [\r\n",
        "    ('numerical', transformer_numerical, cols_numerical),\r\n",
        "    ('categorical', transformer_categorical, cols_categorical)\r\n",
        "])"
      ],
      "execution_count": null,
      "outputs": []
    },
    {
      "cell_type": "markdown",
      "metadata": {
        "id": "0ElaYL-9S8rM"
      },
      "source": [
        "Cała rura to złożenie odpowiednich elementów w całość – robiliśmy to już wyżej:"
      ]
    },
    {
      "cell_type": "code",
      "metadata": {
        "id": "-So4HeJzS9vr"
      },
      "source": [
        "pipe = Pipeline(steps = [\r\n",
        "                ('preprocessor', preprocessor),\r\n",
        "                ('classifier', RandomForestClassifier())\r\n",
        "            ])"
      ],
      "execution_count": null,
      "outputs": []
    },
    {
      "cell_type": "markdown",
      "metadata": {
        "id": "5Tca1kwJTPZb"
      },
      "source": [
        "Teraz cały proces wygląda następująco:\r\n",
        "\r\n",
        "najpierw preprocessing:\r\n",
        "dla kolumn liczbowych wykonywany jest StandardScaler()\r\n",
        "dla kolumn kategorycznych – OneHotEncoder()\r\n",
        "złożone dane przekazywane są do RandomForestClassifier()\r\n",
        "Proces trenuje się dokładne tak samo jak model – poprzez wywołanie metody .fit():"
      ]
    },
    {
      "cell_type": "code",
      "metadata": {
        "colab": {
          "base_uri": "https://localhost:8080/"
        },
        "id": "aAywt7_UTVLA",
        "outputId": "51f4a454-2c16-44d4-84e9-76c5ec7d8c45"
      },
      "source": [
        "pipe.fit(X_train, y_train)"
      ],
      "execution_count": null,
      "outputs": [
        {
          "output_type": "execute_result",
          "data": {
            "text/plain": [
              "Pipeline(memory=None,\n",
              "         steps=[('preprocessor',\n",
              "                 ColumnTransformer(n_jobs=None, remainder='drop',\n",
              "                                   sparse_threshold=0.3,\n",
              "                                   transformer_weights=None,\n",
              "                                   transformers=[('numerical',\n",
              "                                                  Pipeline(memory=None,\n",
              "                                                           steps=[('num_trans',\n",
              "                                                                   StandardScaler(copy=True,\n",
              "                                                                                  with_mean=True,\n",
              "                                                                                  with_std=True))],\n",
              "                                                           verbose=False),\n",
              "                                                  Index(['age', 'education_num', 'capital_gain', 'capital_loss',\n",
              "       'hours_per_wee...\n",
              "                 RandomForestClassifier(bootstrap=True, ccp_alpha=0.0,\n",
              "                                        class_weight=None, criterion='gini',\n",
              "                                        max_depth=None, max_features='auto',\n",
              "                                        max_leaf_nodes=None, max_samples=None,\n",
              "                                        min_impurity_decrease=0.0,\n",
              "                                        min_impurity_split=None,\n",
              "                                        min_samples_leaf=1, min_samples_split=2,\n",
              "                                        min_weight_fraction_leaf=0.0,\n",
              "                                        n_estimators=100, n_jobs=None,\n",
              "                                        oob_score=False, random_state=None,\n",
              "                                        verbose=0, warm_start=False))],\n",
              "         verbose=False)"
            ]
          },
          "metadata": {
            "tags": []
          },
          "execution_count": 47
        }
      ]
    },
    {
      "cell_type": "markdown",
      "metadata": {
        "id": "AXqlGC6KT4ae"
      },
      "source": [
        "Oczywiście predykcja działa tak samo jak zawsze:"
      ]
    },
    {
      "cell_type": "code",
      "metadata": {
        "colab": {
          "base_uri": "https://localhost:8080/"
        },
        "id": "_y3VaQtHT5YD",
        "outputId": "7c725d58-5cba-4b23-c084-ecf1e0f0af73"
      },
      "source": [
        "pipe.predict(X_test)"
      ],
      "execution_count": null,
      "outputs": [
        {
          "output_type": "execute_result",
          "data": {
            "text/plain": [
              "array(['<=50K', '<=50K', '<=50K', ..., '>50K', '<=50K', '<=50K'],\n",
              "      dtype=object)"
            ]
          },
          "metadata": {
            "tags": []
          },
          "execution_count": 48
        }
      ]
    },
    {
      "cell_type": "markdown",
      "metadata": {
        "id": "7d-1QGuKUEcH"
      },
      "source": [
        "Są też metody zwracające prawdopodobieństwo przypisania do każdej z klas .predict_proba() oraz jego logarytm .predict_log_proba()."
      ]
    },
    {
      "cell_type": "code",
      "metadata": {
        "colab": {
          "base_uri": "https://localhost:8080/"
        },
        "id": "xebACN8VUGec",
        "outputId": "cdc5ac5e-d554-470c-b189-25deaa5fe146"
      },
      "source": [
        "pipe.predict_proba(X_test)"
      ],
      "execution_count": null,
      "outputs": [
        {
          "output_type": "execute_result",
          "data": {
            "text/plain": [
              "array([[0.87      , 0.13      ],\n",
              "       [0.86285714, 0.13714286],\n",
              "       [1.        , 0.        ],\n",
              "       ...,\n",
              "       [0.24      , 0.76      ],\n",
              "       [1.        , 0.        ],\n",
              "       [0.99      , 0.01      ]])"
            ]
          },
          "metadata": {
            "tags": []
          },
          "execution_count": 49
        }
      ]
    },
    {
      "cell_type": "markdown",
      "metadata": {
        "id": "kvhcRqSzUWBl"
      },
      "source": [
        "Po wytrenowaniu na danych treningowych (cechy X_train, target y_train) możemy zobaczyć ocenę modelu na danych testowych (odpowiednio X_test i y_test):"
      ]
    },
    {
      "cell_type": "code",
      "metadata": {
        "colab": {
          "base_uri": "https://localhost:8080/"
        },
        "id": "kbM0ZVCcUcxk",
        "outputId": "8007f2ab-25e5-4cbb-d9e3-862b2bb8b92c"
      },
      "source": [
        "pipe.score(X_test, y_test)"
      ],
      "execution_count": null,
      "outputs": [
        {
          "output_type": "execute_result",
          "data": {
            "text/plain": [
              "0.8371090728257266"
            ]
          },
          "metadata": {
            "tags": []
          },
          "execution_count": 50
        }
      ]
    },
    {
      "cell_type": "markdown",
      "metadata": {
        "id": "YHMfxE8tUmzc"
      },
      "source": [
        "Mamy cały proces, każdy jego krok ma swoją nazwę, prawda? A może zamiast StandardScaler() lepszy będzie MinMaxScaler()? A może inna klasa modeli (zamiast lasów losowych np. XGBoost?). A gdyby sprawdzić każdy model z każdą transformacją? No to się robi sporo kodu… A nazwane kroki w procesie pozwalają na prostą podmiankę!\r\n",
        "\r\n",
        "Zdefiniujmy sobie przestrzeń poszukiwań najlepszego modelu i najlepszych transformacji:"
      ]
    },
    {
      "cell_type": "code",
      "metadata": {
        "id": "ce6pDafdUzI2"
      },
      "source": [
        "# klasyfikatory                            \r\n",
        "classifiers = [\r\n",
        "    DummyClassifier(strategy='stratified'),\r\n",
        "    LogisticRegression(max_iter=500), # można tutaj podać hiperparametry\r\n",
        "    KNeighborsClassifier(2), # 2 bo mamy dwie klasy\r\n",
        "    ExtraTreeClassifier(),\r\n",
        "    RandomForestClassifier(),\r\n",
        "    SVC(),\r\n",
        "    XGBClassifier(),\r\n",
        "    CatBoostClassifier(silent=True),\r\n",
        "    LGBMClassifier(verbose=-1)\r\n",
        "]\r\n",
        " \r\n",
        "# transformatory dla kolumn liczbowych\r\n",
        "scalers = [StandardScaler(), MinMaxScaler(), Normalizer()]\r\n",
        " \r\n",
        "# transformatory dla kolumn kategorycznych\r\n",
        "cat_transformers = [OrdinalEncoder(), OneHotEncoder()]"
      ],
      "execution_count": null,
      "outputs": []
    },
    {
      "cell_type": "markdown",
      "metadata": {
        "id": "5cTIO9prU727"
      },
      "source": [
        "Teraz w zagnieżdżonych pętlach możemy sprawdzić każdy z każdym podmieniając klasyfikatory i transformatory (cała pętla trochę się kręci):"
      ]
    },
    {
      "cell_type": "code",
      "metadata": {
        "colab": {
          "base_uri": "https://localhost:8080/"
        },
        "id": "6PNGL5WYU_Tz",
        "outputId": "f0ad193e-79d5-4346-8119-77ee222e0099"
      },
      "source": [
        "# miejsce na zebranie wyników\r\n",
        "models_df = pd.DataFrame()\r\n",
        " \r\n",
        "# przygotowujemy pipeline\r\n",
        "pipe = Pipeline(steps = [\r\n",
        "    ('preprocessor', preprocessor), # mniejszy pipeline\r\n",
        "    ('classifier', None) # to ustalimy za moment\r\n",
        "])\r\n",
        " \r\n",
        "# dla każdego typu modelu zmieniamy kolejne transformatory kolumn\r\n",
        "for model in classifiers:\r\n",
        "    for num_tr in scalers:\r\n",
        "        for cat_tr in cat_transformers:\r\n",
        "            # odpowiednio zmieniamy jego paramety - dobieramy transformatory\r\n",
        "            pipe_params = {\r\n",
        "                'preprocessor__numerical__num_trans': num_tr,\r\n",
        "                'preprocessor__categorical__cat_trans': cat_tr,\r\n",
        "                'classifier': model\r\n",
        "            }\r\n",
        "            pipe.set_params(**pipe_params)\r\n",
        " \r\n",
        "            # trenujemy tak przygotowany model (cały pipeline) mierząc ile to trwa\r\n",
        "            start_time = time.time()\r\n",
        "            pipe.fit(X_train, y_train)   \r\n",
        "            end_time = time.time()\r\n",
        " \r\n",
        "            # sprawdzamy jak wyszło\r\n",
        "            score = pipe.score(X_test, y_test)\r\n",
        " \r\n",
        "            # zbieramy w dict parametry dla Pipeline i wyniki\r\n",
        "            param_dict = {\r\n",
        "                        'model': model.__class__.__name__,\r\n",
        "                        'num_trans': num_tr.__class__.__name__,\r\n",
        "                        'cat_trans': cat_tr.__class__.__name__,\r\n",
        "                        'score': score,\r\n",
        "                        'time_elapsed': end_time - start_time\r\n",
        "            }\r\n",
        " \r\n",
        "            models_df = models_df.append(pd.DataFrame(param_dict, index=[0]))\r\n",
        " \r\n",
        "models_df.reset_index(drop=True, inplace=True)"
      ],
      "execution_count": null,
      "outputs": [
        {
          "output_type": "stream",
          "text": [
            "/usr/local/lib/python3.6/dist-packages/sklearn/linear_model/_logistic.py:940: ConvergenceWarning: lbfgs failed to converge (status=1):\n",
            "STOP: TOTAL NO. of ITERATIONS REACHED LIMIT.\n",
            "\n",
            "Increase the number of iterations (max_iter) or scale the data as shown in:\n",
            "    https://scikit-learn.org/stable/modules/preprocessing.html\n",
            "Please also refer to the documentation for alternative solver options:\n",
            "    https://scikit-learn.org/stable/modules/linear_model.html#logistic-regression\n",
            "  extra_warning_msg=_LOGISTIC_SOLVER_CONVERGENCE_MSG)\n"
          ],
          "name": "stderr"
        }
      ]
    },
    {
      "cell_type": "markdown",
      "metadata": {
        "id": "wUsigT7GVraf"
      },
      "source": [
        "Teraz w jednej tabeli mamy wszystkie interesujące dane, które mogą posłużyć nam chociażby do znalezienia najlepszego modelu:"
      ]
    },
    {
      "cell_type": "code",
      "metadata": {
        "colab": {
          "base_uri": "https://localhost:8080/",
          "height": 1000
        },
        "id": "sD6HfeSbXX-N",
        "outputId": "959a567e-6768-4a0c-d84c-47c30ecbe71c"
      },
      "source": [
        "models_df.sort_values('score', ascending=False)"
      ],
      "execution_count": null,
      "outputs": [
        {
          "output_type": "execute_result",
          "data": {
            "text/html": [
              "<div>\n",
              "<style scoped>\n",
              "    .dataframe tbody tr th:only-of-type {\n",
              "        vertical-align: middle;\n",
              "    }\n",
              "\n",
              "    .dataframe tbody tr th {\n",
              "        vertical-align: top;\n",
              "    }\n",
              "\n",
              "    .dataframe thead th {\n",
              "        text-align: right;\n",
              "    }\n",
              "</style>\n",
              "<table border=\"1\" class=\"dataframe\">\n",
              "  <thead>\n",
              "    <tr style=\"text-align: right;\">\n",
              "      <th></th>\n",
              "      <th>model</th>\n",
              "      <th>num_trans</th>\n",
              "      <th>cat_trans</th>\n",
              "      <th>score</th>\n",
              "      <th>time_elapsed</th>\n",
              "    </tr>\n",
              "  </thead>\n",
              "  <tbody>\n",
              "    <tr>\n",
              "      <th>44</th>\n",
              "      <td>CatBoostClassifier</td>\n",
              "      <td>MinMaxScaler</td>\n",
              "      <td>OrdinalEncoder</td>\n",
              "      <td>0.869709</td>\n",
              "      <td>12.097828</td>\n",
              "    </tr>\n",
              "    <tr>\n",
              "      <th>42</th>\n",
              "      <td>CatBoostClassifier</td>\n",
              "      <td>StandardScaler</td>\n",
              "      <td>OrdinalEncoder</td>\n",
              "      <td>0.869709</td>\n",
              "      <td>12.007660</td>\n",
              "    </tr>\n",
              "    <tr>\n",
              "      <th>50</th>\n",
              "      <td>LGBMClassifier</td>\n",
              "      <td>MinMaxScaler</td>\n",
              "      <td>OrdinalEncoder</td>\n",
              "      <td>0.869267</td>\n",
              "      <td>0.426246</td>\n",
              "    </tr>\n",
              "    <tr>\n",
              "      <th>48</th>\n",
              "      <td>LGBMClassifier</td>\n",
              "      <td>StandardScaler</td>\n",
              "      <td>OrdinalEncoder</td>\n",
              "      <td>0.869267</td>\n",
              "      <td>0.466290</td>\n",
              "    </tr>\n",
              "    <tr>\n",
              "      <th>43</th>\n",
              "      <td>CatBoostClassifier</td>\n",
              "      <td>StandardScaler</td>\n",
              "      <td>OneHotEncoder</td>\n",
              "      <td>0.867499</td>\n",
              "      <td>11.908157</td>\n",
              "    </tr>\n",
              "    <tr>\n",
              "      <th>45</th>\n",
              "      <td>CatBoostClassifier</td>\n",
              "      <td>MinMaxScaler</td>\n",
              "      <td>OneHotEncoder</td>\n",
              "      <td>0.867499</td>\n",
              "      <td>12.019762</td>\n",
              "    </tr>\n",
              "    <tr>\n",
              "      <th>51</th>\n",
              "      <td>LGBMClassifier</td>\n",
              "      <td>MinMaxScaler</td>\n",
              "      <td>OneHotEncoder</td>\n",
              "      <td>0.866947</td>\n",
              "      <td>0.430976</td>\n",
              "    </tr>\n",
              "    <tr>\n",
              "      <th>49</th>\n",
              "      <td>LGBMClassifier</td>\n",
              "      <td>StandardScaler</td>\n",
              "      <td>OneHotEncoder</td>\n",
              "      <td>0.866947</td>\n",
              "      <td>0.438989</td>\n",
              "    </tr>\n",
              "    <tr>\n",
              "      <th>39</th>\n",
              "      <td>XGBClassifier</td>\n",
              "      <td>MinMaxScaler</td>\n",
              "      <td>OneHotEncoder</td>\n",
              "      <td>0.863189</td>\n",
              "      <td>1.153286</td>\n",
              "    </tr>\n",
              "    <tr>\n",
              "      <th>37</th>\n",
              "      <td>XGBClassifier</td>\n",
              "      <td>StandardScaler</td>\n",
              "      <td>OneHotEncoder</td>\n",
              "      <td>0.860537</td>\n",
              "      <td>1.178221</td>\n",
              "    </tr>\n",
              "    <tr>\n",
              "      <th>36</th>\n",
              "      <td>XGBClassifier</td>\n",
              "      <td>StandardScaler</td>\n",
              "      <td>OrdinalEncoder</td>\n",
              "      <td>0.860316</td>\n",
              "      <td>1.232245</td>\n",
              "    </tr>\n",
              "    <tr>\n",
              "      <th>38</th>\n",
              "      <td>XGBClassifier</td>\n",
              "      <td>MinMaxScaler</td>\n",
              "      <td>OrdinalEncoder</td>\n",
              "      <td>0.860316</td>\n",
              "      <td>1.116616</td>\n",
              "    </tr>\n",
              "    <tr>\n",
              "      <th>46</th>\n",
              "      <td>CatBoostClassifier</td>\n",
              "      <td>Normalizer</td>\n",
              "      <td>OrdinalEncoder</td>\n",
              "      <td>0.857553</td>\n",
              "      <td>13.299775</td>\n",
              "    </tr>\n",
              "    <tr>\n",
              "      <th>47</th>\n",
              "      <td>CatBoostClassifier</td>\n",
              "      <td>Normalizer</td>\n",
              "      <td>OneHotEncoder</td>\n",
              "      <td>0.856780</td>\n",
              "      <td>13.148285</td>\n",
              "    </tr>\n",
              "    <tr>\n",
              "      <th>53</th>\n",
              "      <td>LGBMClassifier</td>\n",
              "      <td>Normalizer</td>\n",
              "      <td>OneHotEncoder</td>\n",
              "      <td>0.856669</td>\n",
              "      <td>0.496165</td>\n",
              "    </tr>\n",
              "    <tr>\n",
              "      <th>52</th>\n",
              "      <td>LGBMClassifier</td>\n",
              "      <td>Normalizer</td>\n",
              "      <td>OrdinalEncoder</td>\n",
              "      <td>0.856448</td>\n",
              "      <td>0.473917</td>\n",
              "    </tr>\n",
              "    <tr>\n",
              "      <th>40</th>\n",
              "      <td>XGBClassifier</td>\n",
              "      <td>Normalizer</td>\n",
              "      <td>OrdinalEncoder</td>\n",
              "      <td>0.852138</td>\n",
              "      <td>1.269415</td>\n",
              "    </tr>\n",
              "    <tr>\n",
              "      <th>31</th>\n",
              "      <td>SVC</td>\n",
              "      <td>StandardScaler</td>\n",
              "      <td>OneHotEncoder</td>\n",
              "      <td>0.851586</td>\n",
              "      <td>16.897502</td>\n",
              "    </tr>\n",
              "    <tr>\n",
              "      <th>41</th>\n",
              "      <td>XGBClassifier</td>\n",
              "      <td>Normalizer</td>\n",
              "      <td>OneHotEncoder</td>\n",
              "      <td>0.848934</td>\n",
              "      <td>1.217293</td>\n",
              "    </tr>\n",
              "    <tr>\n",
              "      <th>7</th>\n",
              "      <td>LogisticRegression</td>\n",
              "      <td>StandardScaler</td>\n",
              "      <td>OneHotEncoder</td>\n",
              "      <td>0.847939</td>\n",
              "      <td>0.940589</td>\n",
              "    </tr>\n",
              "    <tr>\n",
              "      <th>9</th>\n",
              "      <td>LogisticRegression</td>\n",
              "      <td>MinMaxScaler</td>\n",
              "      <td>OneHotEncoder</td>\n",
              "      <td>0.846613</td>\n",
              "      <td>0.738239</td>\n",
              "    </tr>\n",
              "    <tr>\n",
              "      <th>11</th>\n",
              "      <td>LogisticRegression</td>\n",
              "      <td>Normalizer</td>\n",
              "      <td>OneHotEncoder</td>\n",
              "      <td>0.841308</td>\n",
              "      <td>0.755491</td>\n",
              "    </tr>\n",
              "    <tr>\n",
              "      <th>28</th>\n",
              "      <td>RandomForestClassifier</td>\n",
              "      <td>Normalizer</td>\n",
              "      <td>OrdinalEncoder</td>\n",
              "      <td>0.841087</td>\n",
              "      <td>2.704021</td>\n",
              "    </tr>\n",
              "    <tr>\n",
              "      <th>29</th>\n",
              "      <td>RandomForestClassifier</td>\n",
              "      <td>Normalizer</td>\n",
              "      <td>OneHotEncoder</td>\n",
              "      <td>0.840756</td>\n",
              "      <td>14.388674</td>\n",
              "    </tr>\n",
              "    <tr>\n",
              "      <th>26</th>\n",
              "      <td>RandomForestClassifier</td>\n",
              "      <td>MinMaxScaler</td>\n",
              "      <td>OrdinalEncoder</td>\n",
              "      <td>0.840314</td>\n",
              "      <td>1.889654</td>\n",
              "    </tr>\n",
              "    <tr>\n",
              "      <th>24</th>\n",
              "      <td>RandomForestClassifier</td>\n",
              "      <td>StandardScaler</td>\n",
              "      <td>OrdinalEncoder</td>\n",
              "      <td>0.840203</td>\n",
              "      <td>1.886079</td>\n",
              "    </tr>\n",
              "    <tr>\n",
              "      <th>25</th>\n",
              "      <td>RandomForestClassifier</td>\n",
              "      <td>StandardScaler</td>\n",
              "      <td>OneHotEncoder</td>\n",
              "      <td>0.838988</td>\n",
              "      <td>16.159762</td>\n",
              "    </tr>\n",
              "    <tr>\n",
              "      <th>27</th>\n",
              "      <td>RandomForestClassifier</td>\n",
              "      <td>MinMaxScaler</td>\n",
              "      <td>OneHotEncoder</td>\n",
              "      <td>0.838546</td>\n",
              "      <td>14.621142</td>\n",
              "    </tr>\n",
              "    <tr>\n",
              "      <th>35</th>\n",
              "      <td>SVC</td>\n",
              "      <td>Normalizer</td>\n",
              "      <td>OneHotEncoder</td>\n",
              "      <td>0.836999</td>\n",
              "      <td>17.941927</td>\n",
              "    </tr>\n",
              "    <tr>\n",
              "      <th>33</th>\n",
              "      <td>SVC</td>\n",
              "      <td>MinMaxScaler</td>\n",
              "      <td>OneHotEncoder</td>\n",
              "      <td>0.836667</td>\n",
              "      <td>17.988952</td>\n",
              "    </tr>\n",
              "    <tr>\n",
              "      <th>6</th>\n",
              "      <td>LogisticRegression</td>\n",
              "      <td>StandardScaler</td>\n",
              "      <td>OrdinalEncoder</td>\n",
              "      <td>0.815560</td>\n",
              "      <td>0.868210</td>\n",
              "    </tr>\n",
              "    <tr>\n",
              "      <th>13</th>\n",
              "      <td>KNeighborsClassifier</td>\n",
              "      <td>StandardScaler</td>\n",
              "      <td>OneHotEncoder</td>\n",
              "      <td>0.812797</td>\n",
              "      <td>0.081949</td>\n",
              "    </tr>\n",
              "    <tr>\n",
              "      <th>8</th>\n",
              "      <td>LogisticRegression</td>\n",
              "      <td>MinMaxScaler</td>\n",
              "      <td>OrdinalEncoder</td>\n",
              "      <td>0.812244</td>\n",
              "      <td>1.952641</td>\n",
              "    </tr>\n",
              "    <tr>\n",
              "      <th>12</th>\n",
              "      <td>KNeighborsClassifier</td>\n",
              "      <td>StandardScaler</td>\n",
              "      <td>OrdinalEncoder</td>\n",
              "      <td>0.810808</td>\n",
              "      <td>0.555637</td>\n",
              "    </tr>\n",
              "    <tr>\n",
              "      <th>16</th>\n",
              "      <td>KNeighborsClassifier</td>\n",
              "      <td>Normalizer</td>\n",
              "      <td>OrdinalEncoder</td>\n",
              "      <td>0.809592</td>\n",
              "      <td>0.482933</td>\n",
              "    </tr>\n",
              "    <tr>\n",
              "      <th>17</th>\n",
              "      <td>KNeighborsClassifier</td>\n",
              "      <td>Normalizer</td>\n",
              "      <td>OneHotEncoder</td>\n",
              "      <td>0.808598</td>\n",
              "      <td>0.086401</td>\n",
              "    </tr>\n",
              "    <tr>\n",
              "      <th>15</th>\n",
              "      <td>KNeighborsClassifier</td>\n",
              "      <td>MinMaxScaler</td>\n",
              "      <td>OneHotEncoder</td>\n",
              "      <td>0.804398</td>\n",
              "      <td>0.083947</td>\n",
              "    </tr>\n",
              "    <tr>\n",
              "      <th>14</th>\n",
              "      <td>KNeighborsClassifier</td>\n",
              "      <td>MinMaxScaler</td>\n",
              "      <td>OrdinalEncoder</td>\n",
              "      <td>0.802520</td>\n",
              "      <td>0.493554</td>\n",
              "    </tr>\n",
              "    <tr>\n",
              "      <th>30</th>\n",
              "      <td>SVC</td>\n",
              "      <td>StandardScaler</td>\n",
              "      <td>OrdinalEncoder</td>\n",
              "      <td>0.801525</td>\n",
              "      <td>11.958824</td>\n",
              "    </tr>\n",
              "    <tr>\n",
              "      <th>19</th>\n",
              "      <td>ExtraTreeClassifier</td>\n",
              "      <td>StandardScaler</td>\n",
              "      <td>OneHotEncoder</td>\n",
              "      <td>0.797547</td>\n",
              "      <td>0.345903</td>\n",
              "    </tr>\n",
              "    <tr>\n",
              "      <th>18</th>\n",
              "      <td>ExtraTreeClassifier</td>\n",
              "      <td>StandardScaler</td>\n",
              "      <td>OrdinalEncoder</td>\n",
              "      <td>0.797436</td>\n",
              "      <td>0.103717</td>\n",
              "    </tr>\n",
              "    <tr>\n",
              "      <th>23</th>\n",
              "      <td>ExtraTreeClassifier</td>\n",
              "      <td>Normalizer</td>\n",
              "      <td>OneHotEncoder</td>\n",
              "      <td>0.797215</td>\n",
              "      <td>0.291859</td>\n",
              "    </tr>\n",
              "    <tr>\n",
              "      <th>21</th>\n",
              "      <td>ExtraTreeClassifier</td>\n",
              "      <td>MinMaxScaler</td>\n",
              "      <td>OneHotEncoder</td>\n",
              "      <td>0.796884</td>\n",
              "      <td>0.316981</td>\n",
              "    </tr>\n",
              "    <tr>\n",
              "      <th>20</th>\n",
              "      <td>ExtraTreeClassifier</td>\n",
              "      <td>MinMaxScaler</td>\n",
              "      <td>OrdinalEncoder</td>\n",
              "      <td>0.795668</td>\n",
              "      <td>0.088458</td>\n",
              "    </tr>\n",
              "    <tr>\n",
              "      <th>22</th>\n",
              "      <td>ExtraTreeClassifier</td>\n",
              "      <td>Normalizer</td>\n",
              "      <td>OrdinalEncoder</td>\n",
              "      <td>0.791027</td>\n",
              "      <td>0.088622</td>\n",
              "    </tr>\n",
              "    <tr>\n",
              "      <th>10</th>\n",
              "      <td>LogisticRegression</td>\n",
              "      <td>Normalizer</td>\n",
              "      <td>OrdinalEncoder</td>\n",
              "      <td>0.785059</td>\n",
              "      <td>1.884479</td>\n",
              "    </tr>\n",
              "    <tr>\n",
              "      <th>34</th>\n",
              "      <td>SVC</td>\n",
              "      <td>Normalizer</td>\n",
              "      <td>OrdinalEncoder</td>\n",
              "      <td>0.772019</td>\n",
              "      <td>14.030095</td>\n",
              "    </tr>\n",
              "    <tr>\n",
              "      <th>32</th>\n",
              "      <td>SVC</td>\n",
              "      <td>MinMaxScaler</td>\n",
              "      <td>OrdinalEncoder</td>\n",
              "      <td>0.748591</td>\n",
              "      <td>12.922575</td>\n",
              "    </tr>\n",
              "    <tr>\n",
              "      <th>3</th>\n",
              "      <td>DummyClassifier</td>\n",
              "      <td>MinMaxScaler</td>\n",
              "      <td>OneHotEncoder</td>\n",
              "      <td>0.630125</td>\n",
              "      <td>0.074320</td>\n",
              "    </tr>\n",
              "    <tr>\n",
              "      <th>1</th>\n",
              "      <td>DummyClassifier</td>\n",
              "      <td>StandardScaler</td>\n",
              "      <td>OneHotEncoder</td>\n",
              "      <td>0.627362</td>\n",
              "      <td>0.083104</td>\n",
              "    </tr>\n",
              "    <tr>\n",
              "      <th>2</th>\n",
              "      <td>DummyClassifier</td>\n",
              "      <td>MinMaxScaler</td>\n",
              "      <td>OrdinalEncoder</td>\n",
              "      <td>0.626589</td>\n",
              "      <td>0.061292</td>\n",
              "    </tr>\n",
              "    <tr>\n",
              "      <th>4</th>\n",
              "      <td>DummyClassifier</td>\n",
              "      <td>Normalizer</td>\n",
              "      <td>OrdinalEncoder</td>\n",
              "      <td>0.624931</td>\n",
              "      <td>0.056695</td>\n",
              "    </tr>\n",
              "    <tr>\n",
              "      <th>0</th>\n",
              "      <td>DummyClassifier</td>\n",
              "      <td>StandardScaler</td>\n",
              "      <td>OrdinalEncoder</td>\n",
              "      <td>0.624820</td>\n",
              "      <td>0.074116</td>\n",
              "    </tr>\n",
              "    <tr>\n",
              "      <th>5</th>\n",
              "      <td>DummyClassifier</td>\n",
              "      <td>Normalizer</td>\n",
              "      <td>OneHotEncoder</td>\n",
              "      <td>0.622942</td>\n",
              "      <td>0.068357</td>\n",
              "    </tr>\n",
              "  </tbody>\n",
              "</table>\n",
              "</div>"
            ],
            "text/plain": [
              "                     model       num_trans  ...     score  time_elapsed\n",
              "44      CatBoostClassifier    MinMaxScaler  ...  0.869709     12.097828\n",
              "42      CatBoostClassifier  StandardScaler  ...  0.869709     12.007660\n",
              "50          LGBMClassifier    MinMaxScaler  ...  0.869267      0.426246\n",
              "48          LGBMClassifier  StandardScaler  ...  0.869267      0.466290\n",
              "43      CatBoostClassifier  StandardScaler  ...  0.867499     11.908157\n",
              "45      CatBoostClassifier    MinMaxScaler  ...  0.867499     12.019762\n",
              "51          LGBMClassifier    MinMaxScaler  ...  0.866947      0.430976\n",
              "49          LGBMClassifier  StandardScaler  ...  0.866947      0.438989\n",
              "39           XGBClassifier    MinMaxScaler  ...  0.863189      1.153286\n",
              "37           XGBClassifier  StandardScaler  ...  0.860537      1.178221\n",
              "36           XGBClassifier  StandardScaler  ...  0.860316      1.232245\n",
              "38           XGBClassifier    MinMaxScaler  ...  0.860316      1.116616\n",
              "46      CatBoostClassifier      Normalizer  ...  0.857553     13.299775\n",
              "47      CatBoostClassifier      Normalizer  ...  0.856780     13.148285\n",
              "53          LGBMClassifier      Normalizer  ...  0.856669      0.496165\n",
              "52          LGBMClassifier      Normalizer  ...  0.856448      0.473917\n",
              "40           XGBClassifier      Normalizer  ...  0.852138      1.269415\n",
              "31                     SVC  StandardScaler  ...  0.851586     16.897502\n",
              "41           XGBClassifier      Normalizer  ...  0.848934      1.217293\n",
              "7       LogisticRegression  StandardScaler  ...  0.847939      0.940589\n",
              "9       LogisticRegression    MinMaxScaler  ...  0.846613      0.738239\n",
              "11      LogisticRegression      Normalizer  ...  0.841308      0.755491\n",
              "28  RandomForestClassifier      Normalizer  ...  0.841087      2.704021\n",
              "29  RandomForestClassifier      Normalizer  ...  0.840756     14.388674\n",
              "26  RandomForestClassifier    MinMaxScaler  ...  0.840314      1.889654\n",
              "24  RandomForestClassifier  StandardScaler  ...  0.840203      1.886079\n",
              "25  RandomForestClassifier  StandardScaler  ...  0.838988     16.159762\n",
              "27  RandomForestClassifier    MinMaxScaler  ...  0.838546     14.621142\n",
              "35                     SVC      Normalizer  ...  0.836999     17.941927\n",
              "33                     SVC    MinMaxScaler  ...  0.836667     17.988952\n",
              "6       LogisticRegression  StandardScaler  ...  0.815560      0.868210\n",
              "13    KNeighborsClassifier  StandardScaler  ...  0.812797      0.081949\n",
              "8       LogisticRegression    MinMaxScaler  ...  0.812244      1.952641\n",
              "12    KNeighborsClassifier  StandardScaler  ...  0.810808      0.555637\n",
              "16    KNeighborsClassifier      Normalizer  ...  0.809592      0.482933\n",
              "17    KNeighborsClassifier      Normalizer  ...  0.808598      0.086401\n",
              "15    KNeighborsClassifier    MinMaxScaler  ...  0.804398      0.083947\n",
              "14    KNeighborsClassifier    MinMaxScaler  ...  0.802520      0.493554\n",
              "30                     SVC  StandardScaler  ...  0.801525     11.958824\n",
              "19     ExtraTreeClassifier  StandardScaler  ...  0.797547      0.345903\n",
              "18     ExtraTreeClassifier  StandardScaler  ...  0.797436      0.103717\n",
              "23     ExtraTreeClassifier      Normalizer  ...  0.797215      0.291859\n",
              "21     ExtraTreeClassifier    MinMaxScaler  ...  0.796884      0.316981\n",
              "20     ExtraTreeClassifier    MinMaxScaler  ...  0.795668      0.088458\n",
              "22     ExtraTreeClassifier      Normalizer  ...  0.791027      0.088622\n",
              "10      LogisticRegression      Normalizer  ...  0.785059      1.884479\n",
              "34                     SVC      Normalizer  ...  0.772019     14.030095\n",
              "32                     SVC    MinMaxScaler  ...  0.748591     12.922575\n",
              "3          DummyClassifier    MinMaxScaler  ...  0.630125      0.074320\n",
              "1          DummyClassifier  StandardScaler  ...  0.627362      0.083104\n",
              "2          DummyClassifier    MinMaxScaler  ...  0.626589      0.061292\n",
              "4          DummyClassifier      Normalizer  ...  0.624931      0.056695\n",
              "0          DummyClassifier  StandardScaler  ...  0.624820      0.074116\n",
              "5          DummyClassifier      Normalizer  ...  0.622942      0.068357\n",
              "\n",
              "[54 rows x 5 columns]"
            ]
          },
          "metadata": {
            "tags": []
          },
          "execution_count": 53
        }
      ]
    },
    {
      "cell_type": "markdown",
      "metadata": {
        "id": "U1KHK6DkXmLi"
      },
      "source": [
        "Ale najlepszy może być w różnych kategoriach – nie tylko skuteczności, ale też na przykład czasu uczenia czy też stabilności wyniku. Zobaczmy podstawowe statystyki dla typów modeli:"
      ]
    },
    {
      "cell_type": "code",
      "metadata": {
        "colab": {
          "base_uri": "https://localhost:8080/",
          "height": 374
        },
        "id": "nFpDoNqcXsAQ",
        "outputId": "94854074-73a3-4a3d-cf08-27d7eba03f06"
      },
      "source": [
        "models_df[['model', 'score', 'time_elapsed']] \\\r\n",
        "    .groupby('model') \\\r\n",
        "    .aggregate({\r\n",
        "        'score': ['mean','std', 'min', 'max'],\r\n",
        "        'time_elapsed': ['mean','std', 'min', 'max']\r\n",
        "        }) \\\r\n",
        "    .reset_index() \\\r\n",
        "    .sort_values(('score', 'mean'), ascending=False)"
      ],
      "execution_count": null,
      "outputs": [
        {
          "output_type": "execute_result",
          "data": {
            "text/html": [
              "<div>\n",
              "<style scoped>\n",
              "    .dataframe tbody tr th:only-of-type {\n",
              "        vertical-align: middle;\n",
              "    }\n",
              "\n",
              "    .dataframe tbody tr th {\n",
              "        vertical-align: top;\n",
              "    }\n",
              "\n",
              "    .dataframe thead tr th {\n",
              "        text-align: left;\n",
              "    }\n",
              "</style>\n",
              "<table border=\"1\" class=\"dataframe\">\n",
              "  <thead>\n",
              "    <tr>\n",
              "      <th></th>\n",
              "      <th>model</th>\n",
              "      <th colspan=\"4\" halign=\"left\">score</th>\n",
              "      <th colspan=\"4\" halign=\"left\">time_elapsed</th>\n",
              "    </tr>\n",
              "    <tr>\n",
              "      <th></th>\n",
              "      <th></th>\n",
              "      <th>mean</th>\n",
              "      <th>std</th>\n",
              "      <th>min</th>\n",
              "      <th>max</th>\n",
              "      <th>mean</th>\n",
              "      <th>std</th>\n",
              "      <th>min</th>\n",
              "      <th>max</th>\n",
              "    </tr>\n",
              "  </thead>\n",
              "  <tbody>\n",
              "    <tr>\n",
              "      <th>0</th>\n",
              "      <td>CatBoostClassifier</td>\n",
              "      <td>0.864792</td>\n",
              "      <td>0.005994</td>\n",
              "      <td>0.856780</td>\n",
              "      <td>0.869709</td>\n",
              "      <td>12.413578</td>\n",
              "      <td>0.632479</td>\n",
              "      <td>11.908157</td>\n",
              "      <td>13.299775</td>\n",
              "    </tr>\n",
              "    <tr>\n",
              "      <th>4</th>\n",
              "      <td>LGBMClassifier</td>\n",
              "      <td>0.864258</td>\n",
              "      <td>0.006054</td>\n",
              "      <td>0.856448</td>\n",
              "      <td>0.869267</td>\n",
              "      <td>0.455431</td>\n",
              "      <td>0.027709</td>\n",
              "      <td>0.426246</td>\n",
              "      <td>0.496165</td>\n",
              "    </tr>\n",
              "    <tr>\n",
              "      <th>8</th>\n",
              "      <td>XGBClassifier</td>\n",
              "      <td>0.857572</td>\n",
              "      <td>0.005649</td>\n",
              "      <td>0.848934</td>\n",
              "      <td>0.863189</td>\n",
              "      <td>1.194513</td>\n",
              "      <td>0.055832</td>\n",
              "      <td>1.116616</td>\n",
              "      <td>1.269415</td>\n",
              "    </tr>\n",
              "    <tr>\n",
              "      <th>6</th>\n",
              "      <td>RandomForestClassifier</td>\n",
              "      <td>0.839982</td>\n",
              "      <td>0.001003</td>\n",
              "      <td>0.838546</td>\n",
              "      <td>0.841087</td>\n",
              "      <td>8.608222</td>\n",
              "      <td>7.096204</td>\n",
              "      <td>1.886079</td>\n",
              "      <td>16.159762</td>\n",
              "    </tr>\n",
              "    <tr>\n",
              "      <th>5</th>\n",
              "      <td>LogisticRegression</td>\n",
              "      <td>0.824787</td>\n",
              "      <td>0.024924</td>\n",
              "      <td>0.785059</td>\n",
              "      <td>0.847939</td>\n",
              "      <td>1.189941</td>\n",
              "      <td>0.569660</td>\n",
              "      <td>0.738239</td>\n",
              "      <td>1.952641</td>\n",
              "    </tr>\n",
              "    <tr>\n",
              "      <th>3</th>\n",
              "      <td>KNeighborsClassifier</td>\n",
              "      <td>0.808119</td>\n",
              "      <td>0.003917</td>\n",
              "      <td>0.802520</td>\n",
              "      <td>0.812797</td>\n",
              "      <td>0.297403</td>\n",
              "      <td>0.234984</td>\n",
              "      <td>0.081949</td>\n",
              "      <td>0.555637</td>\n",
              "    </tr>\n",
              "    <tr>\n",
              "      <th>7</th>\n",
              "      <td>SVC</td>\n",
              "      <td>0.807898</td>\n",
              "      <td>0.041057</td>\n",
              "      <td>0.748591</td>\n",
              "      <td>0.851586</td>\n",
              "      <td>15.289979</td>\n",
              "      <td>2.652920</td>\n",
              "      <td>11.958824</td>\n",
              "      <td>17.988952</td>\n",
              "    </tr>\n",
              "    <tr>\n",
              "      <th>2</th>\n",
              "      <td>ExtraTreeClassifier</td>\n",
              "      <td>0.795963</td>\n",
              "      <td>0.002512</td>\n",
              "      <td>0.791027</td>\n",
              "      <td>0.797547</td>\n",
              "      <td>0.205923</td>\n",
              "      <td>0.124352</td>\n",
              "      <td>0.088458</td>\n",
              "      <td>0.345903</td>\n",
              "    </tr>\n",
              "    <tr>\n",
              "      <th>1</th>\n",
              "      <td>DummyClassifier</td>\n",
              "      <td>0.626128</td>\n",
              "      <td>0.002490</td>\n",
              "      <td>0.622942</td>\n",
              "      <td>0.630125</td>\n",
              "      <td>0.069647</td>\n",
              "      <td>0.009614</td>\n",
              "      <td>0.056695</td>\n",
              "      <td>0.083104</td>\n",
              "    </tr>\n",
              "  </tbody>\n",
              "</table>\n",
              "</div>"
            ],
            "text/plain": [
              "                    model     score            ... time_elapsed                      \n",
              "                               mean       std  ...          std        min        max\n",
              "0      CatBoostClassifier  0.864792  0.005994  ...     0.632479  11.908157  13.299775\n",
              "4          LGBMClassifier  0.864258  0.006054  ...     0.027709   0.426246   0.496165\n",
              "8           XGBClassifier  0.857572  0.005649  ...     0.055832   1.116616   1.269415\n",
              "6  RandomForestClassifier  0.839982  0.001003  ...     7.096204   1.886079  16.159762\n",
              "5      LogisticRegression  0.824787  0.024924  ...     0.569660   0.738239   1.952641\n",
              "3    KNeighborsClassifier  0.808119  0.003917  ...     0.234984   0.081949   0.555637\n",
              "7                     SVC  0.807898  0.041057  ...     2.652920  11.958824  17.988952\n",
              "2     ExtraTreeClassifier  0.795963  0.002512  ...     0.124352   0.088458   0.345903\n",
              "1         DummyClassifier  0.626128  0.002490  ...     0.009614   0.056695   0.083104\n",
              "\n",
              "[9 rows x 9 columns]"
            ]
          },
          "metadata": {
            "tags": []
          },
          "execution_count": 54
        }
      ]
    },
    {
      "cell_type": "markdown",
      "metadata": {
        "id": "uPPBuJN2X6zj"
      },
      "source": [
        "Tutaj tak na prawdę nie mierzymy stabilności modelu – podajemy różnie przetworzone dane do tego samego modelu. Stabilność można zmierzyć puszczając na model fragmentaryczne dane, co można zautomatyzować poprzez KFold/RepeatedKFold (z sklearn.model_selection), ale dzisiaj nie o tym.\r\n",
        "\r\n",
        "Sprawdźmy który rodzaj modelu daje najlepszą skuteczność:"
      ]
    },
    {
      "cell_type": "code",
      "metadata": {
        "colab": {
          "base_uri": "https://localhost:8080/",
          "height": 296
        },
        "id": "QvVHcl7qYBMM",
        "outputId": "0308afb5-b461-4534-95e1-b3faba4b1917"
      },
      "source": [
        "sns.boxplot(data=models_df, x='score', y='model')"
      ],
      "execution_count": null,
      "outputs": [
        {
          "output_type": "execute_result",
          "data": {
            "text/plain": [
              "<matplotlib.axes._subplots.AxesSubplot at 0x7fdea23551d0>"
            ]
          },
          "metadata": {
            "tags": []
          },
          "execution_count": 55
        },
        {
          "output_type": "display_data",
          "data": {
            "image/png": "[encoded data removed]",
            "text/plain": [
              "<Figure size 432x288 with 1 Axes>"
            ]
          },
          "metadata": {
            "tags": [],
            "needs_background": "light"
          }
        }
      ]
    },
    {
      "cell_type": "markdown",
      "metadata": {
        "id": "SVRMP00lYGmj"
      },
      "source": [
        "Ostatnie trzy (XGBoost, LigthGBM i CatBoost) dają najlepsze wyniki i pewnie warto je brać pod uwagę w przyszłości.\r\n",
        "\r\n",
        "A czy są różnice pomiędzy transformatorami?"
      ]
    },
    {
      "cell_type": "code",
      "metadata": {
        "colab": {
          "base_uri": "https://localhost:8080/",
          "height": 296
        },
        "id": "7_32trt4YHNj",
        "outputId": "9708fcb9-5278-4029-da3b-562e03477d00"
      },
      "source": [
        "sns.boxplot(data=models_df, x='score', y='num_trans')"
      ],
      "execution_count": null,
      "outputs": [
        {
          "output_type": "execute_result",
          "data": {
            "text/plain": [
              "<matplotlib.axes._subplots.AxesSubplot at 0x7fdea10806a0>"
            ]
          },
          "metadata": {
            "tags": []
          },
          "execution_count": 56
        },
        {
          "output_type": "display_data",
          "data": {
            "image/png": "[encoded data removed]",
            "text/plain": [
              "<Figure size 432x288 with 1 Axes>"
            ]
          },
          "metadata": {
            "tags": [],
            "needs_background": "light"
          }
        }
      ]
    },
    {
      "cell_type": "code",
      "metadata": {
        "colab": {
          "base_uri": "https://localhost:8080/",
          "height": 296
        },
        "id": "6VQktGsFYQWd",
        "outputId": "493b5322-b6ea-4efb-8299-f0cc1028f121"
      },
      "source": [
        "sns.boxplot(data=models_df, x='score', y='cat_trans')"
      ],
      "execution_count": null,
      "outputs": [
        {
          "output_type": "execute_result",
          "data": {
            "text/plain": [
              "<matplotlib.axes._subplots.AxesSubplot at 0x7fdea12db898>"
            ]
          },
          "metadata": {
            "tags": []
          },
          "execution_count": 57
        },
        {
          "output_type": "display_data",
          "data": {
            "image/png": "[encoded data removed]",
            "text/plain": [
              "<Figure size 432x288 with 1 Axes>"
            ]
          },
          "metadata": {
            "tags": [],
            "needs_background": "light"
          }
        }
      ]
    },
    {
      "cell_type": "markdown",
      "metadata": {
        "id": "h6lQ2IkbYXvG"
      },
      "source": [
        "Przy tych danych wygląda, że właściwie nie ma większej różnicy (nie bijemy się tutaj o 0.01 punktu procentowego poprawy accuracy modelu). Może więc czas treningu jest istotny?"
      ]
    },
    {
      "cell_type": "code",
      "metadata": {
        "colab": {
          "base_uri": "https://localhost:8080/",
          "height": 297
        },
        "id": "INnKrqTuYbzq",
        "outputId": "f32d6a24-d739-4473-d8b2-c48f369c2344"
      },
      "source": [
        "sns.boxplot(data=models_df, x='time_elapsed', y='model')"
      ],
      "execution_count": null,
      "outputs": [
        {
          "output_type": "execute_result",
          "data": {
            "text/plain": [
              "<matplotlib.axes._subplots.AxesSubplot at 0x7fdea0dde5f8>"
            ]
          },
          "metadata": {
            "tags": []
          },
          "execution_count": 58
        },
        {
          "output_type": "display_data",
          "data": {
            "image/png": "[encoded data removed]",
            "text/plain": [
              "<Figure size 432x288 with 1 Axes>"
            ]
          },
          "metadata": {
            "tags": [],
            "needs_background": "light"
          }
        }
      ]
    },
    {
      "cell_type": "markdown",
      "metadata": {
        "id": "nzYjre7pYjZy"
      },
      "source": [
        "Mamy kilku liderów, ale z tych które dawały najlepsze wyniki warto wziąć pod uwagę XGBoosta i LightGBM.\r\n",
        "\r\n",
        "Dzięki przećwiczeniu kilku modeli mamy dwóch najbardziej efektywnych (czasowo) i efektownych (z najlepszym accuracy) kandydatów do dalszych prac. Wyszukanie ich to kilka linii kodu. Jeśli przyjdzie nam do głowy nowy model – dodajemy go do listy classifiers. Jeśli znajdziemy inny transformator – dopisujemy do listy scalers lub cat_transformers. Nie trzeba kopiować dużych kawałków kodu, nie trzeba właściwie pisać nowego kodu.\r\n",
        "\r\n",
        "Dokładnie tym samym sposobem możemy poszukać hyperparametrów dla konkretnego modelu i zestawu transformacji w pipeline. Ale to już w następnym odcinku."
      ]
    }
  ]
}