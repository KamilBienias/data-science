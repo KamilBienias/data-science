{
  "nbformat": 4,
  "nbformat_minor": 0,
  "metadata": {
    "colab": {
      "name": "pliki_tekstowe.ipynb",
      "provenance": [],
      "collapsed_sections": [],
      "authorship_tag": "ABX9TyMyZKiB9JSHOhFM7IKdz8Od",
      "include_colab_link": true
    },
    "kernelspec": {
      "name": "python3",
      "display_name": "Python 3"
    },
    "language_info": {
      "name": "python"
    }
  },
  "cells": [
    {
      "cell_type": "markdown",
      "metadata": {
        "id": "view-in-github",
        "colab_type": "text"
      },
      "source": [
        "<a href=\"https://colab.research.google.com/github/KamilBienias/data-science/blob/main/training/web_scraping/pliki_tekstowe.ipynb\" target=\"_parent\"><img src=\"https://colab.research.google.com/assets/colab-badge.svg\" alt=\"Open In Colab\"/></a>"
      ]
    },
    {
      "cell_type": "markdown",
      "metadata": {
        "id": "5jOeFpzIG81f"
      },
      "source": [
        "# **Liczenie linii zaczynających się od hashtag**"
      ]
    },
    {
      "cell_type": "code",
      "metadata": {
        "colab": {
          "base_uri": "https://localhost:8080/"
        },
        "id": "-mACJ6Ua-iDe",
        "outputId": "0942aacd-da04-471e-dcfb-fa13381507f4"
      },
      "source": [
        "from collections import Counter\n",
        "import re\n",
        "\n",
        "# pobieram plik tekstowy.txt\n",
        "!wget -O tekstowy.txt \"https://drive.google.com/uc?export=download&id=1VY8GJWxShoNujHA2qHSCGEv3sqZYcF3D\""
      ],
      "execution_count": null,
      "outputs": [
        {
          "output_type": "stream",
          "text": [
            "--2021-03-23 07:43:15--  https://drive.google.com/uc?export=download&id=1VY8GJWxShoNujHA2qHSCGEv3sqZYcF3D\n",
            "Resolving drive.google.com (drive.google.com)... 172.217.203.100, 172.217.203.139, 172.217.203.102, ...\n",
            "Connecting to drive.google.com (drive.google.com)|172.217.203.100|:443... connected.\n",
            "HTTP request sent, awaiting response... 302 Moved Temporarily\n",
            "Location: https://doc-08-9o-docs.googleusercontent.com/docs/securesc/ha0ro937gcuc7l7deffksulhg5h7mbp1/nqrbt70mfud6he6l1rdp1282d9tnrp8h/1616485350000/17661347493353663657/*/1VY8GJWxShoNujHA2qHSCGEv3sqZYcF3D?e=download [following]\n",
            "Warning: wildcards not supported in HTTP.\n",
            "--2021-03-23 07:43:15--  https://doc-08-9o-docs.googleusercontent.com/docs/securesc/ha0ro937gcuc7l7deffksulhg5h7mbp1/nqrbt70mfud6he6l1rdp1282d9tnrp8h/1616485350000/17661347493353663657/*/1VY8GJWxShoNujHA2qHSCGEv3sqZYcF3D?e=download\n",
            "Resolving doc-08-9o-docs.googleusercontent.com (doc-08-9o-docs.googleusercontent.com)... 172.217.204.132, 2607:f8b0:400c:c15::84\n",
            "Connecting to doc-08-9o-docs.googleusercontent.com (doc-08-9o-docs.googleusercontent.com)|172.217.204.132|:443... connected.\n",
            "HTTP request sent, awaiting response... 200 OK\n",
            "Length: 66 [text/plain]\n",
            "Saving to: ‘tekstowy.txt’\n",
            "\n",
            "tekstowy.txt        100%[===================>]      66  --.-KB/s    in 0s      \n",
            "\n",
            "2021-03-23 07:43:15 (2.33 MB/s) - ‘tekstowy.txt’ saved [66/66]\n",
            "\n"
          ],
          "name": "stdout"
        }
      ]
    },
    {
      "cell_type": "code",
      "metadata": {
        "colab": {
          "base_uri": "https://localhost:8080/"
        },
        "id": "z0xBtQVhAnNx",
        "outputId": "50e630a9-29eb-4eac-fb3b-c05cd478cbaa"
      },
      "source": [
        "starts_with_hash = 0\n",
        "# zlicza ile linijek z plik_tekstowy.txt zaczyna się od #\n",
        "with open('tekstowy.txt', 'r') as f:\n",
        "    for line in f:\n",
        "        if re.match(\"^#\", line):\n",
        "            starts_with_hash += 1\n",
        "\n",
        "print('tekstowy.txt ma', starts_with_hash, \"linijek zaczynających się od #\")"
      ],
      "execution_count": null,
      "outputs": [
        {
          "output_type": "stream",
          "text": [
            "tekstowy.txt ma 3 linijek zaczynających się od #\n"
          ],
          "name": "stdout"
        }
      ]
    },
    {
      "cell_type": "markdown",
      "metadata": {
        "id": "9DEgY34FHUp9"
      },
      "source": [
        "# **Liczenie domen w mailach**"
      ]
    },
    {
      "cell_type": "code",
      "metadata": {
        "colab": {
          "base_uri": "https://localhost:8080/"
        },
        "id": "wMhNwFZPBXkZ",
        "outputId": "51c7ead3-6bed-4a19-971f-2f8e25851f77"
      },
      "source": [
        "# pobieram plik email_adresses.txt\n",
        "!wget -O email_adresses.txt \"https://drive.google.com/uc?export=download&id=1HZTKTOeJcZfCmVnLsf1W53tU_-qGwF6_\""
      ],
      "execution_count": null,
      "outputs": [
        {
          "output_type": "stream",
          "text": [
            "--2021-03-23 07:43:16--  https://drive.google.com/uc?export=download&id=1HZTKTOeJcZfCmVnLsf1W53tU_-qGwF6_\n",
            "Resolving drive.google.com (drive.google.com)... 173.194.217.102, 173.194.217.138, 173.194.217.101, ...\n",
            "Connecting to drive.google.com (drive.google.com)|173.194.217.102|:443... connected.\n",
            "HTTP request sent, awaiting response... 302 Moved Temporarily\n",
            "Location: https://doc-14-9o-docs.googleusercontent.com/docs/securesc/ha0ro937gcuc7l7deffksulhg5h7mbp1/5uqdsepp9oul2pijobqnst46lu4kui5d/1616485350000/17661347493353663657/*/1HZTKTOeJcZfCmVnLsf1W53tU_-qGwF6_?e=download [following]\n",
            "Warning: wildcards not supported in HTTP.\n",
            "--2021-03-23 07:43:16--  https://doc-14-9o-docs.googleusercontent.com/docs/securesc/ha0ro937gcuc7l7deffksulhg5h7mbp1/5uqdsepp9oul2pijobqnst46lu4kui5d/1616485350000/17661347493353663657/*/1HZTKTOeJcZfCmVnLsf1W53tU_-qGwF6_?e=download\n",
            "Resolving doc-14-9o-docs.googleusercontent.com (doc-14-9o-docs.googleusercontent.com)... 172.217.204.132, 2607:f8b0:400c:c15::84\n",
            "Connecting to doc-14-9o-docs.googleusercontent.com (doc-14-9o-docs.googleusercontent.com)|172.217.204.132|:443... connected.\n",
            "HTTP request sent, awaiting response... 200 OK\n",
            "Length: 122 [text/plain]\n",
            "Saving to: ‘email_adresses.txt’\n",
            "\n",
            "email_adresses.txt  100%[===================>]     122  --.-KB/s    in 0s      \n",
            "\n",
            "2021-03-23 07:43:16 (4.29 MB/s) - ‘email_adresses.txt’ saved [122/122]\n",
            "\n"
          ],
          "name": "stdout"
        }
      ]
    },
    {
      "cell_type": "code",
      "metadata": {
        "colab": {
          "base_uri": "https://localhost:8080/"
        },
        "id": "oELOR-HTA0tx",
        "outputId": "8db797e6-0d40-4eb9-e50c-b7808881d950"
      },
      "source": [
        "# str 108 na górze\n",
        "def get_domain(email_adress):\n",
        "    \"\"\"Rozdziel na znaku @ i zwróć, to co znajduje się po nim.\"\"\"\n",
        "    return email_adress.lower().split(\"@\")[-1]\n",
        "\n",
        "with open(\"email_adresses.txt\", \"r\") as f:\n",
        "    domain_counts = Counter(get_domain(line.strip())\n",
        "                            for line in f if \"@\" in line)\n",
        "\n",
        "print(\"Domeny mailmowe z pliku email_adresses.txt\", domain_counts)"
      ],
      "execution_count": null,
      "outputs": [
        {
          "output_type": "stream",
          "text": [
            "Domeny mailmowe z pliku email_adresses.txt Counter({'gmail.com': 3, 'wp.pl': 2, 'mail.science.com': 1, 'mail.pl': 1})\n"
          ],
          "name": "stdout"
        }
      ]
    }
  ]
}