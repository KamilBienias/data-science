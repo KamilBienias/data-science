{
  "nbformat": 4,
  "nbformat_minor": 0,
  "metadata": {
    "colab": {
      "name": "stock_prices.ipynb",
      "provenance": [],
      "authorship_tag": "ABX9TyPBpqWMSvRFg0AReTs0nZhN",
      "include_colab_link": true
    },
    "kernelspec": {
      "name": "python3",
      "display_name": "Python 3"
    },
    "language_info": {
      "name": "python"
    }
  },
  "cells": [
    {
      "cell_type": "markdown",
      "metadata": {
        "id": "view-in-github",
        "colab_type": "text"
      },
      "source": [
        "<a href=\"https://colab.research.google.com/github/KamilBienias/data-science/blob/main/training/web_scraping/stock_prices.ipynb\" target=\"_parent\"><img src=\"https://colab.research.google.com/assets/colab-badge.svg\" alt=\"Open In Colab\"/></a>"
      ]
    },
    {
      "cell_type": "markdown",
      "metadata": {
        "id": "yr4KYRQ6KeEP"
      },
      "source": [
        "# **tab delimited stock prices**"
      ]
    },
    {
      "cell_type": "code",
      "metadata": {
        "colab": {
          "base_uri": "https://localhost:8080/"
        },
        "id": "72Q1UJb0Mijd",
        "outputId": "fc556e9e-2fb7-46fb-e7f8-50e5e79e58ba"
      },
      "source": [
        "import csv\n",
        "\n",
        "# pobieram plik tab_delimited_stock_prices.txt\n",
        "!wget -O tab_delimited_stock_prices.txt \"https://drive.google.com/uc?export=download&id=1nrWVaek0lAjXpshuykBlzdxjQEzHrxsd\""
      ],
      "execution_count": null,
      "outputs": [
        {
          "output_type": "stream",
          "text": [
            "--2021-03-23 08:30:55--  https://drive.google.com/uc?export=download&id=1nrWVaek0lAjXpshuykBlzdxjQEzHrxsd\n",
            "Resolving drive.google.com (drive.google.com)... 108.177.11.113, 108.177.11.138, 108.177.11.102, ...\n",
            "Connecting to drive.google.com (drive.google.com)|108.177.11.113|:443... connected.\n",
            "HTTP request sent, awaiting response... 302 Moved Temporarily\n",
            "Location: https://doc-0o-9o-docs.googleusercontent.com/docs/securesc/ha0ro937gcuc7l7deffksulhg5h7mbp1/7op9sja408hu99s3hd31kbrtedqrg1r0/1616488200000/17661347493353663657/*/1nrWVaek0lAjXpshuykBlzdxjQEzHrxsd?e=download [following]\n",
            "Warning: wildcards not supported in HTTP.\n",
            "--2021-03-23 08:30:55--  https://doc-0o-9o-docs.googleusercontent.com/docs/securesc/ha0ro937gcuc7l7deffksulhg5h7mbp1/7op9sja408hu99s3hd31kbrtedqrg1r0/1616488200000/17661347493353663657/*/1nrWVaek0lAjXpshuykBlzdxjQEzHrxsd?e=download\n",
            "Resolving doc-0o-9o-docs.googleusercontent.com (doc-0o-9o-docs.googleusercontent.com)... 173.194.215.132, 2607:f8b0:400c:c0c::84\n",
            "Connecting to doc-0o-9o-docs.googleusercontent.com (doc-0o-9o-docs.googleusercontent.com)|173.194.215.132|:443... connected.\n",
            "HTTP request sent, awaiting response... 200 OK\n",
            "Length: 120 [text/plain]\n",
            "Saving to: ‘tab_delimited_stock_prices.txt’\n",
            "\n",
            "tab_delimited_stock 100%[===================>]     120  --.-KB/s    in 0s      \n",
            "\n",
            "2021-03-23 08:30:55 (7.63 MB/s) - ‘tab_delimited_stock_prices.txt’ saved [120/120]\n",
            "\n"
          ],
          "name": "stdout"
        }
      ]
    },
    {
      "cell_type": "code",
      "metadata": {
        "colab": {
          "base_uri": "https://localhost:8080/"
        },
        "id": "Y0zbpsnZKMzq",
        "outputId": "dbdcd2be-482f-412f-eb66-bc6052a32a75"
      },
      "source": [
        "with open('tab_delimited_stock_prices.txt', 'r', encoding='utf8', newline='') as f:\n",
        "    reader = csv.reader(f, delimiter='\\t')\n",
        "    # reader = csv.reader(codecs.iterdecode(f, 'utf-8'), delimiter='\\t')\n",
        "    for row in reader:\n",
        "        date = row[0]\n",
        "        symbol = row[1]\n",
        "        closing_price = float(row[2])\n",
        "        print(date, symbol, closing_price)"
      ],
      "execution_count": null,
      "outputs": [
        {
          "output_type": "stream",
          "text": [
            "6/20/2014 AAPL 90.91\n",
            "6/20/2014 MSFT 41.68\n",
            "6/20/2014 FB 64.5\n",
            "6/19/2014 AAPL 91.86\n",
            "6/19/2014 MSFT 41.51\n",
            "6/19/2014 FB 64.34\n"
          ],
          "name": "stdout"
        }
      ]
    },
    {
      "cell_type": "markdown",
      "metadata": {
        "id": "oiDlPBS0QiKz"
      },
      "source": [
        "# **colon delimited stock prices**"
      ]
    },
    {
      "cell_type": "code",
      "metadata": {
        "colab": {
          "base_uri": "https://localhost:8080/"
        },
        "id": "UcoIIptYQ3zq",
        "outputId": "33d5317b-7b20-4754-80ea-6c296caee262"
      },
      "source": [
        "import csv\n",
        "\n",
        "# pobieram plik colon_delimited_stock_prices.txt\n",
        "!wget -O colon_delimited_stock_prices.txt \"https://drive.google.com/uc?export=download&id=1ighuwdb0_Ff_3xkke7DMQ7cWalHgiFCf\""
      ],
      "execution_count": null,
      "outputs": [
        {
          "output_type": "stream",
          "text": [
            "--2021-03-23 08:47:29--  https://drive.google.com/uc?export=download&id=1ighuwdb0_Ff_3xkke7DMQ7cWalHgiFCf\n",
            "Resolving drive.google.com (drive.google.com)... 172.217.204.139, 172.217.204.100, 172.217.204.102, ...\n",
            "Connecting to drive.google.com (drive.google.com)|172.217.204.139|:443... connected.\n",
            "HTTP request sent, awaiting response... 302 Moved Temporarily\n",
            "Location: https://doc-0g-9o-docs.googleusercontent.com/docs/securesc/ha0ro937gcuc7l7deffksulhg5h7mbp1/7sdqnn2k67belk1e227vj4497ktnnktm/1616489250000/17661347493353663657/*/1ighuwdb0_Ff_3xkke7DMQ7cWalHgiFCf?e=download [following]\n",
            "Warning: wildcards not supported in HTTP.\n",
            "--2021-03-23 08:47:30--  https://doc-0g-9o-docs.googleusercontent.com/docs/securesc/ha0ro937gcuc7l7deffksulhg5h7mbp1/7sdqnn2k67belk1e227vj4497ktnnktm/1616489250000/17661347493353663657/*/1ighuwdb0_Ff_3xkke7DMQ7cWalHgiFCf?e=download\n",
            "Resolving doc-0g-9o-docs.googleusercontent.com (doc-0g-9o-docs.googleusercontent.com)... 173.194.215.132, 2607:f8b0:400c:c0c::84\n",
            "Connecting to doc-0g-9o-docs.googleusercontent.com (doc-0g-9o-docs.googleusercontent.com)|173.194.215.132|:443... connected.\n",
            "HTTP request sent, awaiting response... 200 OK\n",
            "Length: 85 [text/plain]\n",
            "Saving to: ‘colon_delimited_stock_prices.txt’\n",
            "\n",
            "colon_delimited_sto 100%[===================>]      85  --.-KB/s    in 0s      \n",
            "\n",
            "2021-03-23 08:47:30 (3.00 MB/s) - ‘colon_delimited_stock_prices.txt’ saved [85/85]\n",
            "\n"
          ],
          "name": "stdout"
        }
      ]
    },
    {
      "cell_type": "code",
      "metadata": {
        "colab": {
          "base_uri": "https://localhost:8080/"
        },
        "id": "WZBOjsCjRR6z",
        "outputId": "04951500-df21-4c94-b992-fa5f3a9aabf7"
      },
      "source": [
        "with open('colon_delimited_stock_prices.txt', 'r', encoding='utf8', newline='') as f:\n",
        "    reader = csv.DictReader(f, delimiter=':')\n",
        "    # reader = csv.DictReader(codecs.iterdecode(f, 'utf-8'), delimiter=':')\n",
        "    for row in reader:\n",
        "        date = row[\"date\"]\n",
        "        symbol = row[\"symbol\"]\n",
        "        closing_price = float(row[\"closing_price\"])\n",
        "        print(date, symbol, closing_price)"
      ],
      "execution_count": null,
      "outputs": [
        {
          "output_type": "stream",
          "text": [
            "6/20/2014 AAPL 90.91\n",
            "6/20/2014 MSFT 41.68\n",
            "6/20/2014 FB 64.5\n"
          ],
          "name": "stdout"
        }
      ]
    },
    {
      "cell_type": "markdown",
      "metadata": {
        "id": "tq3SXvLJRvMN"
      },
      "source": [
        "# **zapis do comma_delimited_stock_prices.txt**"
      ]
    },
    {
      "cell_type": "code",
      "metadata": {
        "id": "ep9udeGbR1xS"
      },
      "source": [
        "today_prices = {'AAPL': 90.91, \n",
        "                'MSFT': 41.68, \n",
        "                'FB': 64.5 }\n",
        "\n",
        "with open('comma_delimited_stock_prices.txt', 'w', encoding='utf8', newline='') as f:\n",
        "    writer = csv.writer(f, delimiter=',')\n",
        "    for stock, price in today_prices.items():\n",
        "        writer.writerow([stock, price])"
      ],
      "execution_count": null,
      "outputs": []
    },
    {
      "cell_type": "code",
      "metadata": {
        "colab": {
          "base_uri": "https://localhost:8080/"
        },
        "id": "7jIE0-aDSXTj",
        "outputId": "198e350f-ba3b-4d25-efda-7f6b6af546bc"
      },
      "source": [
        "with open('comma_delimited_stock_prices.txt', 'r', encoding='utf8', newline='') as f:\n",
        "    reader = csv.reader(f, delimiter=',')\n",
        "    # reader = csv.reader(codecs.iterdecode(f, 'utf-8'), delimiter='\\t')\n",
        "    for row in reader:\n",
        "        symbol = row[0]\n",
        "        closing_price = float(row[1])\n",
        "        print(symbol, closing_price)"
      ],
      "execution_count": null,
      "outputs": [
        {
          "output_type": "stream",
          "text": [
            "AAPL 90.91\n",
            "MSFT 41.68\n",
            "FB 64.5\n"
          ],
          "name": "stdout"
        }
      ]
    }
  ]
}