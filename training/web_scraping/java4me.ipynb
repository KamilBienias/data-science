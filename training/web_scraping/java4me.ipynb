{
  "nbformat": 4,
  "nbformat_minor": 0,
  "metadata": {
    "colab": {
      "name": "java4me.ipynb",
      "provenance": [],
      "collapsed_sections": [],
      "authorship_tag": "ABX9TyNfwZZSF+p0HQ3fy4ZCSLo3",
      "include_colab_link": true
    },
    "kernelspec": {
      "name": "python3",
      "display_name": "Python 3"
    },
    "language_info": {
      "name": "python"
    }
  },
  "cells": [
    {
      "cell_type": "markdown",
      "metadata": {
        "id": "view-in-github",
        "colab_type": "text"
      },
      "source": [
        "<a href=\"https://colab.research.google.com/github/KamilBienias/data-science/blob/main/training/web_scraping/java4me.ipynb\" target=\"_parent\"><img src=\"https://colab.research.google.com/assets/colab-badge.svg\" alt=\"Open In Colab\"/></a>"
      ]
    },
    {
      "cell_type": "code",
      "metadata": {
        "id": "x4fxxZ3RS7Bt"
      },
      "source": [
        "from bs4 import BeautifulSoup\n",
        "import requests"
      ],
      "execution_count": null,
      "outputs": []
    },
    {
      "cell_type": "code",
      "metadata": {
        "colab": {
          "base_uri": "https://localhost:8080/"
        },
        "id": "GgRoYjiOTcQz",
        "outputId": "9df27e37-c4e1-4dcd-cf3d-9b4ec5a0cd9a"
      },
      "source": [
        "html = requests.get(\"http://www.java4me.prv.pl\").text\n",
        "soup = BeautifulSoup(html, 'html5lib')\n",
        "# drukuje całą stronę html\n",
        "# print(soup)  \n",
        "print(\"Drukuję pierwszy div o klasie square\")\n",
        "first_div = soup.find('div', {'class': 'square'})\n",
        "print(first_div)"
      ],
      "execution_count": null,
      "outputs": [
        {
          "output_type": "stream",
          "text": [
            "Drukuję pierwszy div o klasie square\n",
            "<div class=\"square\">\n",
            "\t\t\t<a class=\"tilelinkhtml5\" href=\"kim-jestem\">\n",
            "\t\t\t\t<div class=\"tile1\" id=\"who-am-i\"> \n",
            "\t\t\t\t\t<i class=\"icon-user\"></i><br/>Kim jestem?\n",
            "\t\t\t\t</div>\n",
            "\t\t\t</a>\n",
            "\t\t\t<a class=\"tilelinkhtml5\" href=\"java-projekty\">\n",
            "\t\t\t\t<div class=\"tile1\" id=\"java-projects\"> <!-- id przeniosÅem z  <a> do <div>, bo Selenium nie mogÅo go znaleÅºÄ-->\n",
            "\t\t\t\t\t<i class=\"icon-laptop\"></i><br/>Projekty\n",
            "\t\t\t\t</div>\n",
            "\t\t\t</a>\n",
            "\t\t\t<div style=\"clear:both;\"></div> <!-- pusty div niszczÄcy poziome ustawianie miÄdzy dwoma niebieskimi kafelkami---->\n",
            "\t\t\t\n",
            "\t\t\t<div class=\"tile2\">\n",
            "\t\t\t\t<a class=\"tilelink\" href=\"quiz.php\" id=\"quiz\"><img src=\"img/dymek.jpg\"/></a>\n",
            "\t\t\t</div>\n",
            "\t\t\t<!--\n",
            "\t\t\t<div class=\"tile3\">\n",
            "\t\t\t\t<a href=\"java-dla-mnie-teoria\" class=\"tilelink\" id=\"java-theory\"><img src=\"img/java.jpg\" /></a>\n",
            "\t\t\t</div>\n",
            "\t\t\t-->\n",
            "\t\t\t<div class=\"tile3\">\n",
            "\t\t\t\t\t<a class=\"tilelink\" href=\"ksiega-gosci\" id=\"guestbook\"><img src=\"img/ksiega.jpg\"/></a>\n",
            "\t\t\t\t</div>\n",
            "\t\t\t<div style=\"clear:both;\"></div>\n",
            "\t\t\t\n",
            "\t\t\t<div class=\"tile4\">\n",
            "\t\t\t\tÅ»ona do mÄÅ¼a programisty: <br/>- Poznajesz to dziecko na zdjÄciu?<br/>- Tak - odpowiada, nadal programujÄc.<br/> - Jutro o 16 odbierzesz je z przedszkola.\n",
            "\t\t\t</div>\n",
            "\t\t</div>\n"
          ],
          "name": "stdout"
        }
      ]
    },
    {
      "cell_type": "code",
      "metadata": {
        "colab": {
          "base_uri": "https://localhost:8080/"
        },
        "id": "VJB6A6WsTp3a",
        "outputId": "932712bb-c2ff-416d-822b-6ac8103566cc"
      },
      "source": [
        "html = requests.get(\"http://www.java4me.prv.pl\").text\n",
        "soup = BeautifulSoup(html, 'html5lib')\n",
        "print(\"Ze strony http://java4me.prv.pl/\")\n",
        "print(\"Drukuję div o atrybucie id równym who-am-i\")\n",
        "divs_with_id_who_am_i = [div for div in soup('div') if div.get('id') == \"who-am-i\"]\n",
        "print(divs_with_id_who_am_i)"
      ],
      "execution_count": null,
      "outputs": [
        {
          "output_type": "stream",
          "text": [
            "Ze strony http://java4me.prv.pl/\n",
            "Drukuję div o atrybucie id równym who-am-i\n",
            "[<div class=\"tile1\" id=\"who-am-i\"> \n",
            "\t\t\t\t\t<i class=\"icon-user\"></i><br/>Kim jestem?\n",
            "\t\t\t\t</div>]\n"
          ],
          "name": "stdout"
        }
      ]
    }
  ]
}