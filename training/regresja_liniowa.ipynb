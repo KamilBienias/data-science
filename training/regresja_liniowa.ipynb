{
  "nbformat": 4,
  "nbformat_minor": 0,
  "metadata": {
    "colab": {
      "name": "regresja liniowa.ipynb",
      "provenance": [],
      "authorship_tag": "ABX9TyOo34GTvzRUGogvwhnUqgtM",
      "include_colab_link": true
    },
    "kernelspec": {
      "name": "python3",
      "display_name": "Python 3"
    }
  },
  "cells": [
    {
      "cell_type": "markdown",
      "metadata": {
        "id": "view-in-github",
        "colab_type": "text"
      },
      "source": [
        "<a href=\"https://colab.research.google.com/github/KamilBienias/data-science/blob/main/training/regresja_liniowa.ipynb\" target=\"_parent\"><img src=\"https://colab.research.google.com/assets/colab-badge.svg\" alt=\"Open In Colab\"/></a>"
      ]
    },
    {
      "cell_type": "markdown",
      "metadata": {
        "id": "nt0xZovcrls4"
      },
      "source": [
        "# Przykład 1. Regresja liniowa dla zbioru Diabetes"
      ]
    },
    {
      "cell_type": "code",
      "metadata": {
        "colab": {
          "base_uri": "https://localhost:8080/",
          "height": 1000
        },
        "id": "ijG7m1SMlzzD",
        "outputId": "6bb693c2-2ab3-48f3-d0cf-39872c059aca"
      },
      "source": [
        "# https://ksopyla.com/machine-learning/modele-regresji-liniowej-z-scikit-learn/\r\n",
        "\r\n",
        "import matplotlib.pyplot as plt\r\n",
        "import numpy as np\r\n",
        "from sklearn import datasets, linear_model\r\n",
        "# Load the diabetes dataset\r\n",
        "diabetes = datasets.load_diabetes()\r\n",
        "# będzie 5 wierszy i 2 kolumny, a podwykresy będą dzielić ze sobą oś x i oś y\r\n",
        "# Przechowywane będą w tablicy axarr o wymiarach 5x2\r\n",
        "f, axarr = plt.subplots(5,2, sharex=True, sharey=True, figsize=(12,12))\r\n",
        "for i in range(0,5):\r\n",
        "    for j in range(0,2):\r\n",
        "        # Use only one feature\r\n",
        "        diabetes_X = diabetes.data[:, np.newaxis, i*2+j]\r\n",
        "        \r\n",
        "        # Split the data into training/testing sets\r\n",
        "        diabetes_X_train = diabetes_X[:-20]\r\n",
        "        diabetes_X_test = diabetes_X[-20:]\r\n",
        "        \r\n",
        "        # Split the targets into training/testing sets\r\n",
        "        diabetes_y_train = diabetes.target[:-20]\r\n",
        "        diabetes_y_test = diabetes.target[-20:]\r\n",
        "        \r\n",
        "        # Create linear regression object\r\n",
        "        regr = linear_model.LinearRegression()\r\n",
        "        \r\n",
        "        # Train the model using the training sets\r\n",
        "        regr.fit(diabetes_X_train, diabetes_y_train)\r\n",
        "        \r\n",
        "        # The coefficients\r\n",
        "        print('Coefficients: \\n', regr.coef_)\r\n",
        "        # The mean square error\r\n",
        "        print(\"Residual sum of squares: %.2f\"\r\n",
        "              % np.mean((regr.predict(diabetes_X_test) - diabetes_y_test) ** 2))\r\n",
        "        # Explained variance score: 1 is perfect prediction\r\n",
        "        print('Variance score: %.2f' % regr.score(diabetes_X_test, diabetes_y_test))\r\n",
        "        # próbowałem inaczej. Czytałem na https://www.kaggle.com/getting-started/27261,\r\n",
        "        # Jednak rzuca \r\n",
        "        # ValueError: Classification metrics can't handle a mix of multiclass and continuous targets\r\n",
        "        # from sklearn.metrics import classification_report\r\n",
        "        # print(classification_report(diabetes_y_test, regr.predict(diabetes_X_test)))\r\n",
        "        \r\n",
        "        print(\"-------------------------------------------------------\")\r\n",
        "        # Plot outputs\r\n",
        "        axarr[i,j].scatter(diabetes_X_test, diabetes_y_test,  color='red')\r\n",
        "        axarr[i,j].plot(diabetes_X_test, regr.predict(diabetes_X_test), color='blue', linewidth=1)\r\n",
        "        \r\n",
        "plt.show()"
      ],
      "execution_count": null,
      "outputs": [
        {
          "output_type": "stream",
          "text": [
            "Coefficients: \n",
            " [306.72757499]\n",
            "Residual sum of squares: 5472.26\n",
            "Variance score: -0.13\n",
            "-------------------------------------------------------\n",
            "Coefficients: \n",
            " [59.78480979]\n",
            "Residual sum of squares: 5501.91\n",
            "Variance score: -0.14\n",
            "-------------------------------------------------------\n",
            "Coefficients: \n",
            " [938.23786125]\n",
            "Residual sum of squares: 2548.07\n",
            "Variance score: 0.47\n",
            "-------------------------------------------------------\n",
            "Coefficients: \n",
            " [709.19471785]\n",
            "Residual sum of squares: 4058.41\n",
            "Variance score: 0.16\n",
            "-------------------------------------------------------\n",
            "Coefficients: \n",
            " [352.82770178]\n",
            "Residual sum of squares: 5608.70\n",
            "Variance score: -0.16\n",
            "-------------------------------------------------------\n",
            "Coefficients: \n",
            " [288.4846506]\n",
            "Residual sum of squares: 5564.14\n",
            "Variance score: -0.15\n",
            "-------------------------------------------------------\n",
            "Coefficients: \n",
            " [-647.34661414]\n",
            "Residual sum of squares: 4538.34\n",
            "Variance score: 0.06\n",
            "-------------------------------------------------------\n",
            "Coefficients: \n",
            " [701.12961061]\n",
            "Residual sum of squares: 4850.82\n",
            "Variance score: -0.00\n",
            "-------------------------------------------------------\n",
            "Coefficients: \n",
            " [900.39171612]\n",
            "Residual sum of squares: 2923.34\n",
            "Variance score: 0.39\n",
            "-------------------------------------------------------\n",
            "Coefficients: \n",
            " [630.53662695]\n",
            "Residual sum of squares: 5265.50\n",
            "Variance score: -0.09\n",
            "-------------------------------------------------------\n"
          ],
          "name": "stdout"
        },
        {
          "output_type": "display_data",
          "data": {
            "image/png": "[encoded data removed]",
            "text/plain": [
              "<Figure size 864x864 with 10 Axes>"
            ]
          },
          "metadata": {
            "tags": [],
            "needs_background": "light"
          }
        }
      ]
    },
    {
      "cell_type": "markdown",
      "metadata": {
        "id": "4CP04EcGswFX"
      },
      "source": [
        "# Przykład 2. Porównanie modeli regresji liniowej. Zbiór Boston House Pricing"
      ]
    },
    {
      "cell_type": "code",
      "metadata": {
        "colab": {
          "base_uri": "https://localhost:8080/"
        },
        "id": "YoSiH8p4tOp3",
        "outputId": "c8c6fc10-de7d-42ae-b141-85ec104cc7e0"
      },
      "source": [
        "import numpy as np\r\n",
        "import matplotlib.pyplot as plt\r\n",
        "from sklearn import datasets, linear_model as linm\r\n",
        "\r\n",
        "# Reggression models\r\n",
        "# http://scikit-learn.org/stable/modules/linear_model.html\r\n",
        "\r\n",
        "# Load the diabetes dataset\r\n",
        "boston = datasets.load_boston()\r\n",
        "# print description\r\n",
        "print(boston.DESCR)\r\n",
        "# get the data\r\n",
        "boston_X = boston.data\r\n",
        "print(\"Dane boston_X\", boston_X[:5])\r\n",
        "boston_Y = boston.target\r\n",
        "print(\"Targety boston_Y\", boston_Y[:5])\r\n",
        "# Split the data into training/testing sets\r\n",
        "boston_X_train = boston_X[:-50]\r\n",
        "boston_X_test = boston_X[-50:]\r\n",
        "\r\n",
        "# Split the targets into training/testing sets\r\n",
        "boston_y_train = boston_Y[:-50]\r\n",
        "boston_y_test = boston_Y[-50:]"
      ],
      "execution_count": null,
      "outputs": [
        {
          "output_type": "stream",
          "text": [
            ".. _boston_dataset:\n",
            "\n",
            "Boston house prices dataset\n",
            "---------------------------\n",
            "\n",
            "**Data Set Characteristics:**  \n",
            "\n",
            "    :Number of Instances: 506 \n",
            "\n",
            "    :Number of Attributes: 13 numeric/categorical predictive. Median Value (attribute 14) is usually the target.\n",
            "\n",
            "    :Attribute Information (in order):\n",
            "        - CRIM     per capita crime rate by town\n",
            "        - ZN       proportion of residential land zoned for lots over 25,000 sq.ft.\n",
            "        - INDUS    proportion of non-retail business acres per town\n",
            "        - CHAS     Charles River dummy variable (= 1 if tract bounds river; 0 otherwise)\n",
            "        - NOX      nitric oxides concentration (parts per 10 million)\n",
            "        - RM       average number of rooms per dwelling\n",
            "        - AGE      proportion of owner-occupied units built prior to 1940\n",
            "        - DIS      weighted distances to five Boston employment centres\n",
            "        - RAD      index of accessibility to radial highways\n",
            "        - TAX      full-value property-tax rate per $10,000\n",
            "        - PTRATIO  pupil-teacher ratio by town\n",
            "        - B        1000(Bk - 0.63)^2 where Bk is the proportion of blacks by town\n",
            "        - LSTAT    % lower status of the population\n",
            "        - MEDV     Median value of owner-occupied homes in $1000's\n",
            "\n",
            "    :Missing Attribute Values: None\n",
            "\n",
            "    :Creator: Harrison, D. and Rubinfeld, D.L.\n",
            "\n",
            "This is a copy of UCI ML housing dataset.\n",
            "https://archive.ics.uci.edu/ml/machine-learning-databases/housing/\n",
            "\n",
            "\n",
            "This dataset was taken from the StatLib library which is maintained at Carnegie Mellon University.\n",
            "\n",
            "The Boston house-price data of Harrison, D. and Rubinfeld, D.L. 'Hedonic\n",
            "prices and the demand for clean air', J. Environ. Economics & Management,\n",
            "vol.5, 81-102, 1978.   Used in Belsley, Kuh & Welsch, 'Regression diagnostics\n",
            "...', Wiley, 1980.   N.B. Various transformations are used in the table on\n",
            "pages 244-261 of the latter.\n",
            "\n",
            "The Boston house-price data has been used in many machine learning papers that address regression\n",
            "problems.   \n",
            "     \n",
            ".. topic:: References\n",
            "\n",
            "   - Belsley, Kuh & Welsch, 'Regression diagnostics: Identifying Influential Data and Sources of Collinearity', Wiley, 1980. 244-261.\n",
            "   - Quinlan,R. (1993). Combining Instance-Based and Model-Based Learning. In Proceedings on the Tenth International Conference of Machine Learning, 236-243, University of Massachusetts, Amherst. Morgan Kaufmann.\n",
            "\n",
            "Dane boston_X [[6.3200e-03 1.8000e+01 2.3100e+00 0.0000e+00 5.3800e-01 6.5750e+00\n",
            "  6.5200e+01 4.0900e+00 1.0000e+00 2.9600e+02 1.5300e+01 3.9690e+02\n",
            "  4.9800e+00]\n",
            " [2.7310e-02 0.0000e+00 7.0700e+00 0.0000e+00 4.6900e-01 6.4210e+00\n",
            "  7.8900e+01 4.9671e+00 2.0000e+00 2.4200e+02 1.7800e+01 3.9690e+02\n",
            "  9.1400e+00]\n",
            " [2.7290e-02 0.0000e+00 7.0700e+00 0.0000e+00 4.6900e-01 7.1850e+00\n",
            "  6.1100e+01 4.9671e+00 2.0000e+00 2.4200e+02 1.7800e+01 3.9283e+02\n",
            "  4.0300e+00]\n",
            " [3.2370e-02 0.0000e+00 2.1800e+00 0.0000e+00 4.5800e-01 6.9980e+00\n",
            "  4.5800e+01 6.0622e+00 3.0000e+00 2.2200e+02 1.8700e+01 3.9463e+02\n",
            "  2.9400e+00]\n",
            " [6.9050e-02 0.0000e+00 2.1800e+00 0.0000e+00 4.5800e-01 7.1470e+00\n",
            "  5.4200e+01 6.0622e+00 3.0000e+00 2.2200e+02 1.8700e+01 3.9690e+02\n",
            "  5.3300e+00]]\n",
            "Targety boston_Y [24.  21.6 34.7 33.4 36.2]\n"
          ],
          "name": "stdout"
        }
      ]
    },
    {
      "cell_type": "code",
      "metadata": {
        "colab": {
          "base_uri": "https://localhost:8080/"
        },
        "id": "-cTyxg8EuZmN",
        "outputId": "6bab2e0d-51ca-4d0c-f111-f412440d007c"
      },
      "source": [
        "# chcemy dokonać porównania różnych typów regresji. \r\n",
        "# W tym celu deklarujemy słownik zawierający obiekty rozpatrywanych typów regresji:\r\n",
        "#  LinearRegression, Ridge, Lasso, ElasticNet. \r\n",
        "# Następnie w pętli dla każdego obliczamy błąd i zapamiętujemy w zmiennej fit_results.\r\n",
        "regressors = {}\r\n",
        "regressors['LinReg'] = linm.LinearRegression()\r\n",
        "regressors['Ridge'] = linm.Ridge(alpha = .5)\r\n",
        "regressors['Lasso'] = linm.Lasso(alpha = 5.1)\r\n",
        "regressors['ElNet'] = linm.ElasticNet(alpha = .5, l1_ratio=0.5)\r\n",
        "\r\n",
        "fit_results={}\r\n",
        "\r\n",
        "\r\n",
        "for key in regressors:\r\n",
        "    # Train the model using the training sets\r\n",
        "    regr = regressors[key]\r\n",
        "    regr.fit(boston_X_train, boston_y_train)\r\n",
        "    # mean square error\r\n",
        "    mse = np.mean((regr.predict(boston_X_test) - boston_y_test) ** 2)\r\n",
        "    w = regr.coef_\r\n",
        "    # l1 norm\r\n",
        "    wl1 = np.sum(np.abs(w))\r\n",
        "    # l2 norm\r\n",
        "    wl2 = np.sqrt(np.sum(w**2))\r\n",
        "    fit_results[key]= {'mse': mse, 'wl2': wl2, 'wl1': wl1, 'w': w}\r\n",
        "    print(\"{}\\n----------\\n  mse={}\\n  wl1={}\\n  wl2={}\\n  w={}\\n \".format(key,mse,wl1,wl2,w))"
      ],
      "execution_count": null,
      "outputs": [
        {
          "output_type": "stream",
          "text": [
            "LinReg\n",
            "----------\n",
            "  mse=10.960410679422896\n",
            "  wl1=27.446447711060653\n",
            "  wl2=18.30257967932398\n",
            "  w=[-1.05618627e-01  4.91381113e-02  3.21540897e-02  2.51293737e+00\n",
            " -1.76280019e+01  3.81765978e+00  1.05792271e-02 -1.43608998e+00\n",
            "  3.61498721e-01 -1.54712068e-02 -9.12347239e-01  9.85932090e-03\n",
            " -5.55092176e-01]\n",
            " \n",
            "Ridge\n",
            "----------\n",
            "  mse=11.195127507244049\n",
            "  wl1=22.455522943462515\n",
            "  wl2=13.721374175259088\n",
            "  w=[-1.02102273e-01  5.02013578e-02  8.80018592e-03  2.44957291e+00\n",
            " -1.28232742e+01  3.84148840e+00  6.44215775e-03 -1.37722226e+00\n",
            "  3.53296950e-01 -1.62693966e-02 -8.55851103e-01  9.89548869e-03\n",
            " -5.61106278e-01]\n",
            " \n",
            "Lasso\n",
            "----------\n",
            "  mse=15.166420470206356\n",
            "  wl1=0.8815286487451348\n",
            "  wl2=0.7836759400442244\n",
            "  w=[-0.          0.04108094 -0.          0.          0.          0.\n",
            "  0.04466578 -0.          0.         -0.00861893 -0.          0.0059101\n",
            " -0.7812529 ]\n",
            " \n",
            "ElNet\n",
            "----------\n",
            "  mse=13.894251181932823\n",
            "  wl1=4.906963287634067\n",
            "  wl2=2.348667810255262\n",
            "  w=[-0.08762685  0.05765551 -0.03325711  0.         -0.          1.79323781\n",
            "  0.01817113 -1.0161469   0.3820772  -0.02093352 -0.75754858  0.00875724\n",
            " -0.73155144]\n",
            " \n"
          ],
          "name": "stdout"
        }
      ]
    },
    {
      "cell_type": "code",
      "metadata": {
        "colab": {
          "base_uri": "https://localhost:8080/",
          "height": 468
        },
        "id": "EWutY8Evutxl",
        "outputId": "f60d5b17-d8c5-4b21-dc14-7c8ce12dd4aa"
      },
      "source": [
        "# Na końcu wyświetlmy obliczone błędy regresji na wykresie,\r\n",
        "# tak aby łatwo można było dokonać porównania. \r\n",
        "# W pętli pobieramy uprzednio obliczone wartości i rysujemy w postaci wykresu słupkowego. \r\n",
        "# Dla każdego typu regresji mamy trzy parametry (mse, wl1, wl2), \r\n",
        "# które odkładamy na w postaci trzech słupków. Każdy typ regresji otrzymał inny kolor.\r\n",
        "groups = 3\r\n",
        "index = np.arange(groups)\r\n",
        "bar_width = .2\r\n",
        "opacity = 0.4\r\n",
        "\r\n",
        "fig, ax = plt.subplots(figsize=(15,9))\r\n",
        "\r\n",
        "t=0\r\n",
        "for key in regressors:\r\n",
        "    results = fit_results[key]\r\n",
        "    res_val = (results['mse'],results['wl1'],results['wl2'])\r\n",
        "    plt.bar(index + bar_width*t, res_val, bar_width,\r\n",
        "                 alpha=opacity,\r\n",
        "                # rzucał błąd bo zły wimiar\r\n",
        "                #  color=np.random.rand(3,1),\r\n",
        "                 color=np.random.rand(1,3),\r\n",
        "                # przykładowe ustalone kolory\r\n",
        "                #  color=np.array([0.01253564, 0.02546434, 0.03452345]),\r\n",
        "                 label=key\r\n",
        "    )\r\n",
        "    t+=1\r\n",
        "\r\n",
        "#plt.xlabel('Modele regresji')\r\n",
        "plt.title('Porownanie modeli regresji: MSE, wl1, wl2')\r\n",
        "plt.xticks(index + (t-2)*bar_width, ('MSE', 'wl1', 'wl2'))\r\n",
        "plt.legend()\r\n",
        "\r\n",
        "plt.tight_layout()\r\n",
        "plt.show()"
      ],
      "execution_count": null,
      "outputs": [
        {
          "output_type": "display_data",
          "data": {
            "image/png": "[encoded data removed]",
            "text/plain": [
              "<Figure size 1080x648 with 1 Axes>"
            ]
          },
          "metadata": {
            "tags": [],
            "needs_background": "light"
          }
        }
      ]
    },
    {
      "cell_type": "code",
      "metadata": {
        "id": "6koKP0_vu6D9"
      },
      "source": [
        "# W wyniku otrzymamy diagram dokonujący porównania trzech wartości:\r\n",
        "\r\n",
        "# MSE – mean square error, czyli błędu dopasowania,\r\n",
        "# wl1 – wartość normy l1 wektora w,\r\n",
        "# wl2 – wartość normy l2 wektora w\r\n",
        "\r\n",
        "\r\n",
        "\r\n",
        "# Na powyższym wykresie mamy zobrazowany trzy rozpatrywane parametry MSE,\r\n",
        "# normę l1 i l2 dla każdego typu regresji: ElasticNet(zielony), Linear regression (czerwony), \r\n",
        "# Ridge regression (szary), Lasso (żółty).\r\n",
        "\r\n",
        "# Pokazuje on kilka istotnych informacji, które mogą posłużyć do wyboru modelu. \r\n",
        "# Po pierwsze, zależy nam na tym, aby MSE był jak najmniejszy. \r\n",
        "# W naszym przykładzie najmniejszą wartość osiągnęła Liniowa Regresja (kolor czerwony), \r\n",
        "# tuż za nią Ridge (szary).\r\n",
        "\r\n",
        "# Warto także zwrócić uwagą na dwa pozostałe policzone parametry, normy l1 i l2 \r\n",
        "# charakteryzujące znaleziony wektor ‘w’. Ze względu na stabilność numeryczną zależy nam, \r\n",
        "# aby wartości tego wektora nie były duże (norma l2 mała). \r\n",
        "# Pod względem tego kryterium lepiej wypada ElasticNet i Lasso.\r\n",
        "\r\n",
        "# Natomiast w przypadku gdy mamy do czynienia z danymi wielowymiarowymi chcielibyśmy, \r\n",
        "# aby wektor ‘w’ był rzadki (norma l1 mała). \r\n",
        "# W tym przypadku Lasso (kolor żółty) i ElasticNet (zielony) promują rozwiązania rzadkie."
      ],
      "execution_count": null,
      "outputs": []
    }
  ]
}