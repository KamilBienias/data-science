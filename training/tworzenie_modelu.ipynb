{
  "nbformat": 4,
  "nbformat_minor": 0,
  "metadata": {
    "colab": {
      "name": "tworzenie modelu.ipynb",
      "provenance": [],
      "collapsed_sections": [],
      "authorship_tag": "ABX9TyPfvkqjhWsj7qJ9UPpOZrcU",
      "include_colab_link": true
    },
    "kernelspec": {
      "name": "python3",
      "display_name": "Python 3"
    }
  },
  "cells": [
    {
      "cell_type": "markdown",
      "metadata": {
        "id": "view-in-github",
        "colab_type": "text"
      },
      "source": [
        "<a href=\"https://colab.research.google.com/github/KamilBienias/data-science/blob/main/training/tworzenie_modelu.ipynb\" target=\"_parent\"><img src=\"https://colab.research.google.com/assets/colab-badge.svg\" alt=\"Open In Colab\"/></a>"
      ]
    },
    {
      "cell_type": "code",
      "metadata": {
        "id": "T_u9XlRB9UGd"
      },
      "source": [
        "import pandas as pd\r\n",
        "\r\n",
        "# zapis z csv do df\r\n",
        "df = pd.read_csv('file_name.csv')\r\n",
        "\r\n",
        "# podgląd danych\r\n",
        "df.head()\r\n",
        "\r\n",
        "# statystyki danych numerycznych\r\n",
        "df.describe().apply(lambda x: round(x, 2))\r\n",
        "\r\n",
        "# statystyki danych tekstowych. Można też include=\"category\"\r\n",
        "df.describe(include=\"object\")\r\n",
        "\r\n",
        "# samo df.isnull() zwraca w tabeli True tam gdzie jest brak danych\r\n",
        "df.isnull().sum()\r\n",
        "\r\n",
        "# takie kolumny warto zostawić\r\n",
        "selected_vars = [var1, var4, ...]\r\n",
        "\r\n",
        "# z df wycina kolumny spośród selected_vars\r\n",
        "df_selected = df[selected_vars]\r\n",
        "\r\n",
        "# oddziela dane od targetu, gdy target jest ostatnią koumną\r\n",
        "X = df_selected[df_selected.columns[:-1]]\r\n",
        "# pobiera ostatnią kolumnę target jako Series\r\n",
        "y = df_selected[df_selected.columns[-1]]\r\n",
        "\r\n",
        "\r\n",
        "# oddziela dane od targetu, gdy target nie jest ostatnią kolumną\r\n",
        "# Lista nazw wszystkich kolumn\r\n",
        "all_columns_names = list(df.columns)\r\n",
        "print(all_columns_names)\r\n",
        "# Lista nazw kolumn z atrybutami\r\n",
        "data_columns_names = [column_name for column_name in all_columns_names if column_name != \"target_name\"]\r\n",
        "print(data_columns_names)\r\n",
        "# df zawierająca kolumny z atrybutami\r\n",
        "X = df[data_columns_names]\r\n",
        "print(X)\r\n",
        "# wydobywa target jako Series, gdy nie jest on ostatnią kolumną\r\n",
        "y = df[\"target_name\"]\r\n",
        "print(y)\r\n",
        "\r\n",
        "\r\n",
        "# Zamiana wartości tekstowych na numeryczne (bo sklearn tylko liczby przyjmuje do modeli).\r\n",
        "# Parametr drop_first=True usuwa pierwszą kolumnę, którą jest \"no\" i zostawia \"yes\"\r\n",
        "# Można też z sklearn OneHotEncoding\r\n",
        "X = pd.get_dummies(X, drop_first=True)\r\n",
        "\r\n",
        "from sklearn.model_selection import train_test_split\r\n",
        "# dzieli dane. Można stratify=tagret\r\n",
        "# domyślnie X_test zajmuje 25% całego X (można zmienić np test_size=0.2)\r\n",
        "X_train, X_test, y_train, y_test = train_test_split(X, y)\r\n",
        "\r\n",
        "# skalowanie cech numerycznych\r\n",
        "from sklearn.preprocessing import StandardScaler\r\n",
        "scaler = StandardScaler()\r\n",
        "# dopasowuję tylko do danych treningowych, żeby zapobiec wyciekowi danych ze zbioru testowego\r\n",
        "scaler.fit(X_train)\r\n",
        "\r\n",
        "# ale już transformuje dane treningowe i testowe\r\n",
        "X_train = scaler.transform(X_train)\r\n",
        "X_test = scaler.transform(X_test)\r\n",
        "\r\n",
        "from sklearn.linear_model import LogisticRegression\r\n",
        "# obiekt klasyfikatora lub regresora\r\n",
        "# na przykładzie regresji logistycznej, która jest tak naprawdę klasyfikatorem\r\n",
        "log_reg = LogisticRegression()\r\n",
        "\r\n",
        "# nauczenie modelu\r\n",
        "log_reg.fit(X_train, y_train)\r\n",
        "\r\n",
        "# klasyfikatory mają score accuracy a regresory R2\r\n",
        "log_reg.score(X_test, y_test)\r\n",
        "\r\n",
        "from sklearn.model_selection import GridSearchCV"
      ],
      "execution_count": null,
      "outputs": []
    }
  ]
}