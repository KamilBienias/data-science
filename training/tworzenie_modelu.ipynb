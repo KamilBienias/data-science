{
  "nbformat": 4,
  "nbformat_minor": 0,
  "metadata": {
    "colab": {
      "name": "tworzenie modelu.ipynb",
      "provenance": [],
      "collapsed_sections": [],
      "authorship_tag": "ABX9TyMIdWjm2NQc8cZqFnojDpDb",
      "include_colab_link": true
    },
    "kernelspec": {
      "name": "python3",
      "display_name": "Python 3"
    }
  },
  "cells": [
    {
      "cell_type": "markdown",
      "metadata": {
        "id": "view-in-github",
        "colab_type": "text"
      },
      "source": [
        "<a href=\"https://colab.research.google.com/github/KamilBienias/data-science/blob/main/training/tworzenie_modelu.ipynb\" target=\"_parent\"><img src=\"https://colab.research.google.com/assets/colab-badge.svg\" alt=\"Open In Colab\"/></a>"
      ]
    },
    {
      "cell_type": "code",
      "metadata": {
        "id": "T_u9XlRB9UGd"
      },
      "source": [
        "import pandas as pd\r\n",
        "from sklearn.model_selection import train_test_split\r\n",
        "from sklearn.linear_model import LogisticRegression\r\n",
        "from sklearn.model_selection import GridSearchCV\r\n",
        "\r\n",
        "# zapis z csv do df\r\n",
        "df = pd.read_csv('file_name.csv')\r\n",
        "\r\n",
        "# podgląd danych\r\n",
        "print(df.head())\r\n",
        "\r\n",
        "# statystyki danych numerycznych\r\n",
        "df.describe().apply(lambda x: round(x, 2))\r\n",
        "\r\n",
        "# statystyki danych tekstowych\r\n",
        "df.describe(include=\"object\")\r\n",
        "\r\n",
        "# samo df.isnull() zwraca w tabeli True tam gdzie jest brak danych\r\n",
        "df.isnull().sum()\r\n",
        "\r\n",
        "# takie kolumny warto zostawić\r\n",
        "selected_vars = [var1, var4, ...]\r\n",
        "\r\n",
        "# z df wycina kolumny spośród selected_vars\r\n",
        "df_selected = df[selected_vars]\r\n",
        "\r\n",
        "# oddziela dane od targetu\r\n",
        "X = df_selected[df_selected.columns[:-1]]\r\n",
        "# pobiera ostatnią kolumnę jako target\r\n",
        "moje_y = df_selected[df_selected.columns[-1]]\r\n",
        "\r\n",
        "# Zamiana wartości tekstowych na numeryczne (bo sklearn tylko liczby przyjmuje do modeli).\r\n",
        "# Parametr drop_first=True usuwa pierwszą kolumnę, którą jest \"no\" i zostawia \"yes\"\r\n",
        "# Można też z sklearn OneHotEncoding\r\n",
        "X = pd.get_dummies(X, drop_first=True)\r\n",
        "\r\n",
        "# dzieli dane. Można stratify= ???\r\n",
        "# domyślnie X_test zajmuje 25% całego X (można zmienić np test_size=0.2)\r\n",
        "X_train, X_test, y_train, y_test = train_test_split(X, y)\r\n",
        "\r\n",
        "\r\n",
        "\r\n",
        "# obiekt klasyfikatora lub regresora\r\n",
        "# na przykładzie regresji logistycznej, która jest tak naprawdę klasyfikatorem\r\n",
        "log_reg = LogisticRegression()\r\n",
        "\r\n",
        "# nauczenie modelu\r\n",
        "log_reg.fit(X_train, y_train)\r\n",
        "\r\n",
        "# klasyfikatory mają score\r\n",
        "log_reg.score(X_test, y_test)\r\n",
        "\r\n"
      ],
      "execution_count": null,
      "outputs": []
    }
  ]
}