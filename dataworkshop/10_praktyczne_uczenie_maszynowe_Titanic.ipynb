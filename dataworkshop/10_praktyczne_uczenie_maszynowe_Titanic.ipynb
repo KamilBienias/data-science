{
  "nbformat": 4,
  "nbformat_minor": 0,
  "metadata": {
    "colab": {
      "name": "10_praktyczne_uczenie_maszynowe_Titanic.ipynb",
      "provenance": [],
      "collapsed_sections": [],
      "authorship_tag": "ABX9TyNg/yIpO+nxC8gYezSWYXRf",
      "include_colab_link": true
    },
    "kernelspec": {
      "name": "python3",
      "display_name": "Python 3"
    }
  },
  "cells": [
    {
      "cell_type": "markdown",
      "metadata": {
        "id": "view-in-github",
        "colab_type": "text"
      },
      "source": [
        "<a href=\"https://colab.research.google.com/github/KamilBienias/data-science/blob/main/dataworkshop/10_praktyczne_uczenie_maszynowe_Titanic.ipynb\" target=\"_parent\"><img src=\"https://colab.research.google.com/assets/colab-badge.svg\" alt=\"Open In Colab\"/></a>"
      ]
    },
    {
      "cell_type": "markdown",
      "metadata": {
        "id": "5jGGi22Yd2JX"
      },
      "source": [
        "# **Z jego pliku understand_business_data.ipynb**"
      ]
    },
    {
      "cell_type": "code",
      "metadata": {
        "colab": {
          "base_uri": "https://localhost:8080/"
        },
        "id": "xst-dUSLw63M",
        "outputId": "3c5f84c5-fbae-4402-d583-130f3a344bdc"
      },
      "source": [
        "# https://github.com/dataworkshop/webinar-titanic/tree/master/notebooks\n",
        "print(\"Sposób odczytu pliku wziąłem z książki 'Uczenie maszynowe' rozdz.2 ćw 3\")\n",
        "print(\"Jednak dorzuciłem foldery input i output.\")\n",
        " \n",
        "import os\n",
        " \n",
        "TITANIC_INPUT_PATH = os.path.join(\"datasets\", \"titanic\", \"input\")\n",
        "TITANIC_OUTPUT_PATH = os.path.join(\"datasets\", \"titanic\", \"output\")\n",
        " \n",
        "import pandas as pd\n",
        " \n",
        "def load_titanic_data(filename, titanic_path=TITANIC_INPUT_PATH):\n",
        "    # te dwie linijki wziąłem z kodu z rozdziału 2 (początek)\n",
        "    if not os.path.isdir(titanic_path):\n",
        "        os.makedirs(titanic_path)\n",
        "    csv_path = os.path.join(titanic_path, filename)\n",
        "    return pd.read_csv(csv_path)\n",
        " \n",
        "df_train = load_titanic_data(\"train.csv\")\n",
        "df_test = load_titanic_data(\"test.csv\")"
      ],
      "execution_count": null,
      "outputs": [
        {
          "output_type": "stream",
          "text": [
            "Sposób odczytu pliku wziąłem z książki 'Uczenie maszynowe' rozdz.2 ćw 3\n",
            "Jednak dorzuciłem foldery input i output.\n"
          ],
          "name": "stdout"
        }
      ]
    },
    {
      "cell_type": "code",
      "metadata": {
        "colab": {
          "base_uri": "https://localhost:8080/"
        },
        "id": "GXh-Uw1czuv7",
        "outputId": "91869b8d-f19e-4d9d-cbc2-9285eb1edccd"
      },
      "source": [
        "print(\"train rozmiar\", df_train.shape)\n",
        "print(\"test rozmiar\", df_test.shape)\n",
        "print(\"test nie ma kolumny Survived, którą mam przewidzieć\")"
      ],
      "execution_count": null,
      "outputs": [
        {
          "output_type": "stream",
          "text": [
            "train rozmiar (891, 12)\n",
            "test rozmiar (418, 11)\n",
            "test nie ma kolumny Survived, którą mam przewidzieć\n"
          ],
          "name": "stdout"
        }
      ]
    },
    {
      "cell_type": "code",
      "metadata": {
        "id": "Twt854fM0XrQ",
        "colab": {
          "base_uri": "https://localhost:8080/"
        },
        "outputId": "b4d0d3e6-6a06-439c-a2be-6bb111c01d33"
      },
      "source": [
        "print(\"Tyle jest wszstkich wierszy. Sumuję pierwsze liczby z krotek.\")\n",
        "print(df_train.shape[0] + df_test.shape[0])"
      ],
      "execution_count": null,
      "outputs": [
        {
          "output_type": "stream",
          "text": [
            "Tyle jest wszstkich wierszy. Sumuję pierwsze liczby z krotek.\n",
            "1309\n"
          ],
          "name": "stdout"
        }
      ]
    },
    {
      "cell_type": "code",
      "metadata": {
        "id": "T1Xk5Voj05pY",
        "colab": {
          "base_uri": "https://localhost:8080/"
        },
        "outputId": "bd437f66-9096-46cd-f42b-67d9aac1cd0d"
      },
      "source": [
        "df_train.info()"
      ],
      "execution_count": null,
      "outputs": [
        {
          "output_type": "stream",
          "text": [
            "<class 'pandas.core.frame.DataFrame'>\n",
            "RangeIndex: 891 entries, 0 to 890\n",
            "Data columns (total 12 columns):\n",
            " #   Column       Non-Null Count  Dtype  \n",
            "---  ------       --------------  -----  \n",
            " 0   PassengerId  891 non-null    int64  \n",
            " 1   Survived     891 non-null    int64  \n",
            " 2   Pclass       891 non-null    int64  \n",
            " 3   Name         891 non-null    object \n",
            " 4   Sex          891 non-null    object \n",
            " 5   Age          714 non-null    float64\n",
            " 6   SibSp        891 non-null    int64  \n",
            " 7   Parch        891 non-null    int64  \n",
            " 8   Ticket       891 non-null    object \n",
            " 9   Fare         891 non-null    float64\n",
            " 10  Cabin        204 non-null    object \n",
            " 11  Embarked     889 non-null    object \n",
            "dtypes: float64(2), int64(5), object(5)\n",
            "memory usage: 83.7+ KB\n"
          ],
          "name": "stdout"
        }
      ]
    },
    {
      "cell_type": "code",
      "metadata": {
        "id": "aiiNYIRjSynl",
        "colab": {
          "base_uri": "https://localhost:8080/",
          "height": 492
        },
        "outputId": "b0e2f562-4020-4065-d097-52aad58d3627"
      },
      "source": [
        "df_train.head()"
      ],
      "execution_count": null,
      "outputs": [
        {
          "output_type": "execute_result",
          "data": {
            "text/html": [
              "<div>\n",
              "<style scoped>\n",
              "    .dataframe tbody tr th:only-of-type {\n",
              "        vertical-align: middle;\n",
              "    }\n",
              "\n",
              "    .dataframe tbody tr th {\n",
              "        vertical-align: top;\n",
              "    }\n",
              "\n",
              "    .dataframe thead th {\n",
              "        text-align: right;\n",
              "    }\n",
              "</style>\n",
              "<table border=\"1\" class=\"dataframe\">\n",
              "  <thead>\n",
              "    <tr style=\"text-align: right;\">\n",
              "      <th></th>\n",
              "      <th>PassengerId</th>\n",
              "      <th>Survived</th>\n",
              "      <th>Pclass</th>\n",
              "      <th>Name</th>\n",
              "      <th>Sex</th>\n",
              "      <th>Age</th>\n",
              "      <th>SibSp</th>\n",
              "      <th>Parch</th>\n",
              "      <th>Ticket</th>\n",
              "      <th>Fare</th>\n",
              "      <th>Cabin</th>\n",
              "      <th>Embarked</th>\n",
              "    </tr>\n",
              "  </thead>\n",
              "  <tbody>\n",
              "    <tr>\n",
              "      <th>0</th>\n",
              "      <td>1</td>\n",
              "      <td>0</td>\n",
              "      <td>3</td>\n",
              "      <td>Braund, Mr. Owen Harris</td>\n",
              "      <td>male</td>\n",
              "      <td>22.0</td>\n",
              "      <td>1</td>\n",
              "      <td>0</td>\n",
              "      <td>A/5 21171</td>\n",
              "      <td>7.2500</td>\n",
              "      <td>NaN</td>\n",
              "      <td>S</td>\n",
              "    </tr>\n",
              "    <tr>\n",
              "      <th>1</th>\n",
              "      <td>2</td>\n",
              "      <td>1</td>\n",
              "      <td>1</td>\n",
              "      <td>Cumings, Mrs. John Bradley (Florence Briggs Th...</td>\n",
              "      <td>female</td>\n",
              "      <td>38.0</td>\n",
              "      <td>1</td>\n",
              "      <td>0</td>\n",
              "      <td>PC 17599</td>\n",
              "      <td>71.2833</td>\n",
              "      <td>C85</td>\n",
              "      <td>C</td>\n",
              "    </tr>\n",
              "    <tr>\n",
              "      <th>2</th>\n",
              "      <td>3</td>\n",
              "      <td>1</td>\n",
              "      <td>3</td>\n",
              "      <td>Heikkinen, Miss. Laina</td>\n",
              "      <td>female</td>\n",
              "      <td>26.0</td>\n",
              "      <td>0</td>\n",
              "      <td>0</td>\n",
              "      <td>STON/O2. 3101282</td>\n",
              "      <td>7.9250</td>\n",
              "      <td>NaN</td>\n",
              "      <td>S</td>\n",
              "    </tr>\n",
              "    <tr>\n",
              "      <th>3</th>\n",
              "      <td>4</td>\n",
              "      <td>1</td>\n",
              "      <td>1</td>\n",
              "      <td>Futrelle, Mrs. Jacques Heath (Lily May Peel)</td>\n",
              "      <td>female</td>\n",
              "      <td>35.0</td>\n",
              "      <td>1</td>\n",
              "      <td>0</td>\n",
              "      <td>113803</td>\n",
              "      <td>53.1000</td>\n",
              "      <td>C123</td>\n",
              "      <td>S</td>\n",
              "    </tr>\n",
              "    <tr>\n",
              "      <th>4</th>\n",
              "      <td>5</td>\n",
              "      <td>0</td>\n",
              "      <td>3</td>\n",
              "      <td>Allen, Mr. William Henry</td>\n",
              "      <td>male</td>\n",
              "      <td>35.0</td>\n",
              "      <td>0</td>\n",
              "      <td>0</td>\n",
              "      <td>373450</td>\n",
              "      <td>8.0500</td>\n",
              "      <td>NaN</td>\n",
              "      <td>S</td>\n",
              "    </tr>\n",
              "  </tbody>\n",
              "</table>\n",
              "</div>"
            ],
            "text/plain": [
              "   PassengerId  Survived  Pclass  ...     Fare Cabin  Embarked\n",
              "0            1         0       3  ...   7.2500   NaN         S\n",
              "1            2         1       1  ...  71.2833   C85         C\n",
              "2            3         1       3  ...   7.9250   NaN         S\n",
              "3            4         1       1  ...  53.1000  C123         S\n",
              "4            5         0       3  ...   8.0500   NaN         S\n",
              "\n",
              "[5 rows x 12 columns]"
            ]
          },
          "metadata": {
            "tags": []
          },
          "execution_count": 1578
        }
      ]
    },
    {
      "cell_type": "markdown",
      "metadata": {
        "id": "W6Xwg3cxY5BN"
      },
      "source": [
        "Features¶\n",
        "PassengerId - A numerical id assigned to each passenger\n",
        "\n",
        "Survived - Whether the passenger survived (1), or didn't (0). Target variable.\n",
        "\n",
        "Pclass - Ticket class (1st = Upper, 2nd = Middle, 3rd = Lower)\n",
        "\n",
        "Name - The name of the passenger\n",
        "\n",
        "Sex - The gender of the passenger (male or female)\n",
        "\n",
        "Age - The age of the passenger\n",
        "\n",
        "SibSp - # of siblings (brother, sister, stepbrother, stepsister) / spouses (husband, wife [mistresses and fiancés were ignored]) aboard the Titanic rodzeństwo i małżonkowie\n",
        "\n",
        "Parch (parents i children)- # of parents (mother, father) / children (daughter, son, stepdaughter, stepson) aboard the Titanic. Note: Some children travelled only with a nanny, therefore parch=0 for them..\n",
        "\n",
        "Ticket - The ticket number of the passenger\n",
        "\n",
        "Fare - How much the passenger paid for the ticker\n",
        "\n",
        "Cabin - Cabin number\n",
        "\n",
        "Embarked - Where the passenger boarded the \n",
        "Titanic Port of Embarkation (C = Cherbourg, Q = Queenstown, S = Southampton)"
      ]
    },
    {
      "cell_type": "code",
      "metadata": {
        "id": "6XecwhhYWPAv",
        "colab": {
          "base_uri": "https://localhost:8080/"
        },
        "outputId": "255fe82d-eefd-4061-f267-a63ea03186c8"
      },
      "source": [
        "print(\"Tyle osób przeżyło ze względu na klasę i wiek.\")\n",
        "print(df_train.groupby([\"Pclass\", \"Sex\"])[\"Survived\"].value_counts())\n",
        "\n",
        "print()\n",
        "print(\"Tyle osób przeżyło procentowo.\")\n",
        "print(df_train.groupby([\"Pclass\", \"Sex\"])[\"Survived\"].value_counts(normalize=True))"
      ],
      "execution_count": null,
      "outputs": [
        {
          "output_type": "stream",
          "text": [
            "Tyle osób przeżyło ze względu na klasę i wiek.\n",
            "Pclass  Sex     Survived\n",
            "1       female  1            91\n",
            "                0             3\n",
            "        male    0            77\n",
            "                1            45\n",
            "2       female  1            70\n",
            "                0             6\n",
            "        male    0            91\n",
            "                1            17\n",
            "3       female  0            72\n",
            "                1            72\n",
            "        male    0           300\n",
            "                1            47\n",
            "Name: Survived, dtype: int64\n",
            "\n",
            "Tyle osób przeżyło procentowo.\n",
            "Pclass  Sex     Survived\n",
            "1       female  1           0.968085\n",
            "                0           0.031915\n",
            "        male    0           0.631148\n",
            "                1           0.368852\n",
            "2       female  1           0.921053\n",
            "                0           0.078947\n",
            "        male    0           0.842593\n",
            "                1           0.157407\n",
            "3       female  0           0.500000\n",
            "                1           0.500000\n",
            "        male    0           0.864553\n",
            "                1           0.135447\n",
            "Name: Survived, dtype: float64\n"
          ],
          "name": "stdout"
        }
      ]
    },
    {
      "cell_type": "markdown",
      "metadata": {
        "id": "08vT3yLWYWkW"
      },
      "source": [
        "## Train vs Test"
      ]
    },
    {
      "cell_type": "code",
      "metadata": {
        "id": "gEhlGHxjYqN0",
        "colab": {
          "base_uri": "https://localhost:8080/"
        },
        "outputId": "f49fe214-e66c-4b07-dd1b-85ed9126fcd6"
      },
      "source": [
        "print(\"Sprawdzamy czy zbiór testowy i treningowy się różnią (im mniej tym lepiej).\")\n",
        "print(\"Na podstawie tylko niektórych cech.\")\n",
        "\n",
        "describe_fields = [\"Age\", \"Fare\", \"Pclass\", \"SibSp\", \"Parch\"]\n",
        "\n",
        "print()\n",
        "print(\"Train: males\")\n",
        "print(df_train[df_train[\"Sex\"] == \"male\"][describe_fields].describe())\n",
        "\n",
        "print()\n",
        "print(\"Test: males\")\n",
        "print(df_test[df_test[\"Sex\"] == \"male\"][describe_fields].describe())\n",
        "\n",
        "print()\n",
        "print(\"Train: females\")\n",
        "print(df_train[df_train[\"Sex\"] == \"female\"][describe_fields].describe())\n",
        "\n",
        "print()\n",
        "print(\"Test: females\")\n",
        "print(df_test[df_test[\"Sex\"] == \"female\"][describe_fields].describe())"
      ],
      "execution_count": null,
      "outputs": [
        {
          "output_type": "stream",
          "text": [
            "Sprawdzamy czy zbiór testowy i treningowy się różnią (im mniej tym lepiej).\n",
            "Na podstawie tylko niektórych cech.\n",
            "\n",
            "Train: males\n",
            "              Age        Fare      Pclass       SibSp       Parch\n",
            "count  453.000000  577.000000  577.000000  577.000000  577.000000\n",
            "mean    30.726645   25.523893    2.389948    0.429809    0.235702\n",
            "std     14.678201   43.138263    0.813580    1.061811    0.612294\n",
            "min      0.420000    0.000000    1.000000    0.000000    0.000000\n",
            "25%     21.000000    7.895800    2.000000    0.000000    0.000000\n",
            "50%     29.000000   10.500000    3.000000    0.000000    0.000000\n",
            "75%     39.000000   26.550000    3.000000    0.000000    0.000000\n",
            "max     80.000000  512.329200    3.000000    8.000000    5.000000\n",
            "\n",
            "Test: males\n",
            "              Age        Fare      Pclass       SibSp       Parch\n",
            "count  205.000000  265.000000  266.000000  266.000000  266.000000\n",
            "mean    30.272732   27.527877    2.334586    0.379699    0.274436\n",
            "std     13.389528   41.079423    0.808497    0.843735    0.883745\n",
            "min      0.330000    0.000000    1.000000    0.000000    0.000000\n",
            "25%     22.000000    7.854200    2.000000    0.000000    0.000000\n",
            "50%     27.000000   13.000000    3.000000    0.000000    0.000000\n",
            "75%     40.000000   26.550000    3.000000    1.000000    0.000000\n",
            "max     67.000000  262.375000    3.000000    8.000000    9.000000\n",
            "\n",
            "Train: females\n",
            "              Age        Fare      Pclass       SibSp       Parch\n",
            "count  261.000000  314.000000  314.000000  314.000000  314.000000\n",
            "mean    27.915709   44.479818    2.159236    0.694268    0.649682\n",
            "std     14.110146   57.997698    0.857290    1.156520    1.022846\n",
            "min      0.750000    6.750000    1.000000    0.000000    0.000000\n",
            "25%     18.000000   12.071875    1.000000    0.000000    0.000000\n",
            "50%     27.000000   23.000000    2.000000    0.000000    0.000000\n",
            "75%     37.000000   55.000000    3.000000    1.000000    1.000000\n",
            "max     63.000000  512.329200    3.000000    8.000000    6.000000\n",
            "\n",
            "Test: females\n",
            "              Age        Fare      Pclass       SibSp       Parch\n",
            "count  127.000000  152.000000  152.000000  152.000000  152.000000\n",
            "mean    30.272362   49.747699    2.144737    0.565789    0.598684\n",
            "std     15.428613   73.108716    0.887051    0.974313    1.105434\n",
            "min      0.170000    6.950000    1.000000    0.000000    0.000000\n",
            "25%     20.500000    8.626050    1.000000    0.000000    0.000000\n",
            "50%     27.000000   21.512500    2.000000    0.000000    0.000000\n",
            "75%     38.500000   55.441700    3.000000    1.000000    1.000000\n",
            "max     76.000000  512.329200    3.000000    8.000000    9.000000\n"
          ],
          "name": "stdout"
        }
      ]
    },
    {
      "cell_type": "markdown",
      "metadata": {
        "id": "awOra-N_do4V"
      },
      "source": [
        "# **Z jego pliku basic_model.ipynb**"
      ]
    },
    {
      "cell_type": "code",
      "metadata": {
        "id": "tD39gQ4keMh1"
      },
      "source": [
        "import pandas as pd\n",
        "from sklearn.dummy import DummyClassifier  # zwraca średnią wartość z tych którzy przeżyją\n",
        "from sklearn.metrics import accuracy_score"
      ],
      "execution_count": null,
      "outputs": []
    },
    {
      "cell_type": "code",
      "metadata": {
        "id": "4OXn1BvoeT_0",
        "colab": {
          "base_uri": "https://localhost:8080/"
        },
        "outputId": "52d8820b-0de0-4b72-e0f4-d9e2992d0a00"
      },
      "source": [
        "print(\"Funkcja sample losuje tyle wierszy ile podam w argumencie\")\n",
        "print(df_train.sample(10))"
      ],
      "execution_count": null,
      "outputs": [
        {
          "output_type": "stream",
          "text": [
            "Funkcja sample losuje tyle wierszy ile podam w argumencie\n",
            "     PassengerId  Survived  Pclass  ...     Fare Cabin  Embarked\n",
            "646          647         0       3  ...   7.8958   NaN         S\n",
            "244          245         0       3  ...   7.2250   NaN         C\n",
            "577          578         1       1  ...  55.9000   E44         S\n",
            "725          726         0       3  ...   8.6625   NaN         S\n",
            "229          230         0       3  ...  25.4667   NaN         S\n",
            "549          550         1       2  ...  36.7500   NaN         S\n",
            "529          530         0       2  ...  11.5000   NaN         S\n",
            "133          134         1       2  ...  26.0000   NaN         S\n",
            "231          232         0       3  ...   7.7750   NaN         S\n",
            "652          653         0       3  ...   8.4333   NaN         S\n",
            "\n",
            "[10 rows x 12 columns]\n"
          ],
          "name": "stdout"
        }
      ]
    },
    {
      "cell_type": "code",
      "metadata": {
        "id": "j_9n5-7ffdJB",
        "colab": {
          "base_uri": "https://localhost:8080/"
        },
        "outputId": "a33c86e8-53d5-4e23-afa7-a581694a1e09"
      },
      "source": [
        "print(\"Tablica X z cechami. Wyświetlam 5 początkowych\")\n",
        "X = df_train[[\"Pclass\"]].values\n",
        "print(X[:5])\n",
        "print(type(X))\n",
        "\n",
        "print()\n",
        "print(\"Zmienna docelowa y. Wyświetlam 5 początkowych.\")\n",
        "y = df_train[\"Survived\"].values\n",
        "print(y[:5])\n",
        "print(type(y))"
      ],
      "execution_count": null,
      "outputs": [
        {
          "output_type": "stream",
          "text": [
            "Tablica X z cechami. Wyświetlam 5 początkowych\n",
            "[[3]\n",
            " [1]\n",
            " [3]\n",
            " [1]\n",
            " [3]]\n",
            "<class 'numpy.ndarray'>\n",
            "\n",
            "Zmienna docelowa y. Wyświetlam 5 początkowych.\n",
            "[0 1 1 1 0]\n",
            "<class 'numpy.ndarray'>\n"
          ],
          "name": "stdout"
        }
      ]
    },
    {
      "cell_type": "code",
      "metadata": {
        "id": "5RJuc_RtgaDy",
        "colab": {
          "base_uri": "https://localhost:8080/"
        },
        "outputId": "44bb1a2f-57c5-4359-80b1-8ae884e5c3a4"
      },
      "source": [
        "print(\"Tworzy instancję modelu.\")\n",
        "model = DummyClassifier()\n",
        "print(\"Trenuje model.\")\n",
        "model.fit(X,y)\n",
        "print(\"Predykcja czy osoba przeżyje czy nie - na podstawie klasy którą podróżował.\")\n",
        "y_pred = model.predict(X)\n",
        "\n",
        "print(\"Wynik przewidywania y_pred w porównaniu do wartości prawidłowej y\")\n",
        "print(\"Używam metryki accuracy, która mówi jak często model trafia\")\n",
        "score = accuracy_score(y, y_pred)\n",
        "print(\"score: %.2f\" % score)\n",
        "print(\"To słaby wynik, ale najpierw warto robić ten basic model, bo on porównuje z innymi.\")\n",
        "print(\"Jeśli ten jest dobry, to nie ma sensu robić innego i walczyć o 0,1%.\")"
      ],
      "execution_count": null,
      "outputs": [
        {
          "output_type": "stream",
          "text": [
            "Tworzy instancję modelu.\n",
            "Trenuje model.\n",
            "Predykcja czy osoba przeżyje czy nie - na podstawie klasy którą podróżował.\n",
            "Wynik przewidywania y_pred w porównaniu do wartości prawidłowej y\n",
            "Używam metryki accuracy, która mówi jak często model trafia\n",
            "score: 0.51\n",
            "To słaby wynik, ale najpierw warto robić ten basic model, bo on porównuje z innymi.\n",
            "Jeśli ten jest dobry, to nie ma sensu robić innego i walczyć o 0,1%.\n"
          ],
          "name": "stdout"
        },
        {
          "output_type": "stream",
          "text": [
            "/usr/local/lib/python3.6/dist-packages/sklearn/dummy.py:132: FutureWarning: The default value of strategy will change from stratified to prior in 0.24.\n",
            "  \"stratified to prior in 0.24.\", FutureWarning)\n"
          ],
          "name": "stderr"
        }
      ]
    },
    {
      "cell_type": "markdown",
      "metadata": {
        "id": "H2hqhqwTizuB"
      },
      "source": [
        "## **Prediction**"
      ]
    },
    {
      "cell_type": "code",
      "metadata": {
        "id": "3bu5nDMMi13p",
        "colab": {
          "base_uri": "https://localhost:8080/"
        },
        "outputId": "86ec59c4-f556-4c6f-a541-14bf88b149e0"
      },
      "source": [
        "print(\"Predykcja na zbiorze test. Równeż biorę tylko klasę pasażera.\")\n",
        "\n",
        "X = df_test[[\"Pclass\"]].values\n",
        "\n",
        "print(\"Taki jest wynik, czyli prognozy o przeżyciu lub nie.\")\n",
        "print(model.predict(X))\n",
        "\n",
        "print()\n",
        "print(\"W df_test tworzę nową kolumnę 'Survived' w df_test\")\n",
        "print(\"i przypisuję do niej prognozowane wyniki\")\n",
        "df_test[\"Survived\"] = model.predict(X)\n",
        "\n",
        "print(\"Zapisuję dwie kolumny do pliku csv. Robię index=False, żeby nie dodawał kolumny indeksów.\")\n",
        "if not os.path.isdir(TITANIC_OUTPUT_PATH):  # jeśli nie ma folderu datasets/titanic/output\n",
        "        os.makedirs(TITANIC_OUTPUT_PATH)  # to go tworzy\n",
        "# zapisuje dwie kolumny do pliku dummy.csv w tym folderze (bez kolumny indeksów)\n",
        "df_test[[\"PassengerId\", \"Survived\"]].to_csv(os.path.join(TITANIC_OUTPUT_PATH, 'dummy.csv'), index=False)"
      ],
      "execution_count": null,
      "outputs": [
        {
          "output_type": "stream",
          "text": [
            "Predykcja na zbiorze test. Równeż biorę tylko klasę pasażera.\n",
            "Taki jest wynik, czyli prognozy o przeżyciu lub nie.\n",
            "[0 0 1 0 0 0 1 0 1 0 1 0 0 1 0 0 0 0 1 0 0 1 1 0 0 1 1 0 0 1 1 1 0 0 1 0 0\n",
            " 1 1 0 0 0 1 0 0 0 0 0 0 0 0 0 0 0 0 1 1 1 0 1 1 0 0 1 0 0 0 0 0 0 1 1 0 1\n",
            " 1 0 0 0 0 0 0 0 1 0 1 0 1 1 1 1 1 1 1 0 0 0 1 1 0 0 1 0 0 1 1 0 0 1 0 0 0\n",
            " 0 1 0 1 0 0 1 0 0 0 0 1 1 0 1 1 1 1 0 1 1 0 0 1 1 0 1 0 0 0 1 0 0 1 1 1 0\n",
            " 0 0 1 0 0 0 1 1 0 1 1 0 1 0 1 0 0 1 1 0 1 1 0 1 0 0 0 0 0 1 1 0 0 1 0 1 1\n",
            " 1 1 1 1 0 0 1 0 1 1 0 1 1 0 0 0 0 0 0 0 0 1 0 0 0 1 0 0 1 1 0 0 0 1 0 0 1\n",
            " 1 0 0 1 1 1 1 0 0 1 1 0 1 0 1 0 1 0 1 0 0 0 0 0 1 0 0 1 0 1 1 0 1 0 1 0 1\n",
            " 0 0 0 0 0 0 0 0 0 0 0 0 0 0 0 0 0 0 1 1 0 0 1 0 1 0 0 0 1 0 0 0 0 0 0 0 0\n",
            " 0 0 1 1 0 1 0 1 1 1 0 1 1 1 0 0 0 0 0 0 0 0 0 0 0 1 0 1 0 0 0 0 1 0 1 1 1\n",
            " 1 0 0 0 1 1 0 0 1 1 0 1 1 0 0 0 0 1 1 0 0 0 1 0 0 0 1 1 0 0 1 0 0 0 1 0 1\n",
            " 0 1 1 1 0 1 1 0 0 1 1 1 0 0 0 0 0 0 0 1 1 0 0 1 0 0 0 1 0 1 0 1 1 0 0 1 1\n",
            " 0 1 1 0 1 0 0 1 0 1 1]\n",
            "\n",
            "W df_test tworzę nową kolumnę 'Survived' w df_test\n",
            "i przypisuję do niej prognozowane wyniki\n",
            "Zapisuję dwie kolumny do pliku csv. Robię index=False, żeby nie dodawał kolumny indeksów.\n"
          ],
          "name": "stdout"
        }
      ]
    },
    {
      "cell_type": "markdown",
      "metadata": {
        "id": "rBGQpQMa2WrN"
      },
      "source": [
        "# **Z jego pliku feature_engineering.ipynb**"
      ]
    },
    {
      "cell_type": "code",
      "metadata": {
        "id": "HMV1yNAaSUJo"
      },
      "source": [
        "import pandas as pd\n",
        "import numpy as np\n",
        "np.random.seed(2018)\n",
        "\n",
        "from sklearn.linear_model import LogisticRegression\n",
        "from sklearn.linear_model import SGDClassifier \n",
        "from sklearn.tree import DecisionTreeClassifier\n",
        "from sklearn.ensemble import RandomForestClassifier\n",
        "from sklearn.ensemble import ExtraTreesClassifier\n",
        "\n",
        "from sklearn.model_selection import cross_validate\n",
        "\n",
        "import xgboost as xgb\n",
        "\n",
        "import matplotlib.pyplot as plt\n",
        "%matplotlib inline"
      ],
      "execution_count": null,
      "outputs": []
    },
    {
      "cell_type": "code",
      "metadata": {
        "id": "7Bd7ZwLGD1ep",
        "colab": {
          "base_uri": "https://localhost:8080/"
        },
        "outputId": "ee879d82-1ec7-40f1-9ef6-c7f7aba87101"
      },
      "source": [
        "print(\"Połączy dwie tabele w jedną. Indeksy zostają z każdej z df\")\n",
        "df_all = pd.concat([df_train, df_test])\n",
        "print(df_all)\n",
        "print(\"Rozmiar\")\n",
        "print(df_all.shape)\n",
        "print(\"Nazwy kolumn\")\n",
        "print(df_all.columns)\n",
        "print(\"Indeksy df_all\")\n",
        "print(df_all.index)\n",
        "print(\"Indeksy df_train\")\n",
        "print(df_train.index)\n",
        "print(\"Indeksy df_test\")\n",
        "print(df_test.index)"
      ],
      "execution_count": null,
      "outputs": [
        {
          "output_type": "stream",
          "text": [
            "Połączy dwie tabele w jedną. Indeksy zostają z każdej z df\n",
            "     PassengerId  Survived  Pclass  ...      Fare Cabin  Embarked\n",
            "0              1         0       3  ...    7.2500   NaN         S\n",
            "1              2         1       1  ...   71.2833   C85         C\n",
            "2              3         1       3  ...    7.9250   NaN         S\n",
            "3              4         1       1  ...   53.1000  C123         S\n",
            "4              5         0       3  ...    8.0500   NaN         S\n",
            "..           ...       ...     ...  ...       ...   ...       ...\n",
            "413         1305         0       3  ...    8.0500   NaN         S\n",
            "414         1306         1       1  ...  108.9000  C105         C\n",
            "415         1307         1       3  ...    7.2500   NaN         S\n",
            "416         1308         1       3  ...    8.0500   NaN         S\n",
            "417         1309         0       3  ...   22.3583   NaN         C\n",
            "\n",
            "[1309 rows x 12 columns]\n",
            "Rozmiar\n",
            "(1309, 12)\n",
            "Nazwy kolumn\n",
            "Index(['PassengerId', 'Survived', 'Pclass', 'Name', 'Sex', 'Age', 'SibSp',\n",
            "       'Parch', 'Ticket', 'Fare', 'Cabin', 'Embarked'],\n",
            "      dtype='object')\n",
            "Indeksy df_all\n",
            "Int64Index([  0,   1,   2,   3,   4,   5,   6,   7,   8,   9,\n",
            "            ...\n",
            "            408, 409, 410, 411, 412, 413, 414, 415, 416, 417],\n",
            "           dtype='int64', length=1309)\n",
            "Indeksy df_train\n",
            "RangeIndex(start=0, stop=891, step=1)\n",
            "Indeksy df_test\n",
            "RangeIndex(start=0, stop=418, step=1)\n"
          ],
          "name": "stdout"
        }
      ]
    },
    {
      "cell_type": "code",
      "metadata": {
        "id": "e3-ocVwFETg2",
        "colab": {
          "base_uri": "https://localhost:8080/",
          "height": 831
        },
        "outputId": "bf552123-07bd-4296-c291-a53d5f4393b9"
      },
      "source": [
        "df_train.sample(10)"
      ],
      "execution_count": null,
      "outputs": [
        {
          "output_type": "execute_result",
          "data": {
            "text/html": [
              "<div>\n",
              "<style scoped>\n",
              "    .dataframe tbody tr th:only-of-type {\n",
              "        vertical-align: middle;\n",
              "    }\n",
              "\n",
              "    .dataframe tbody tr th {\n",
              "        vertical-align: top;\n",
              "    }\n",
              "\n",
              "    .dataframe thead th {\n",
              "        text-align: right;\n",
              "    }\n",
              "</style>\n",
              "<table border=\"1\" class=\"dataframe\">\n",
              "  <thead>\n",
              "    <tr style=\"text-align: right;\">\n",
              "      <th></th>\n",
              "      <th>PassengerId</th>\n",
              "      <th>Survived</th>\n",
              "      <th>Pclass</th>\n",
              "      <th>Name</th>\n",
              "      <th>Sex</th>\n",
              "      <th>Age</th>\n",
              "      <th>SibSp</th>\n",
              "      <th>Parch</th>\n",
              "      <th>Ticket</th>\n",
              "      <th>Fare</th>\n",
              "      <th>Cabin</th>\n",
              "      <th>Embarked</th>\n",
              "    </tr>\n",
              "  </thead>\n",
              "  <tbody>\n",
              "    <tr>\n",
              "      <th>438</th>\n",
              "      <td>439</td>\n",
              "      <td>0</td>\n",
              "      <td>1</td>\n",
              "      <td>Fortune, Mr. Mark</td>\n",
              "      <td>male</td>\n",
              "      <td>64.0</td>\n",
              "      <td>1</td>\n",
              "      <td>4</td>\n",
              "      <td>19950</td>\n",
              "      <td>263.0000</td>\n",
              "      <td>C23 C25 C27</td>\n",
              "      <td>S</td>\n",
              "    </tr>\n",
              "    <tr>\n",
              "      <th>283</th>\n",
              "      <td>284</td>\n",
              "      <td>1</td>\n",
              "      <td>3</td>\n",
              "      <td>Dorking, Mr. Edward Arthur</td>\n",
              "      <td>male</td>\n",
              "      <td>19.0</td>\n",
              "      <td>0</td>\n",
              "      <td>0</td>\n",
              "      <td>A/5. 10482</td>\n",
              "      <td>8.0500</td>\n",
              "      <td>NaN</td>\n",
              "      <td>S</td>\n",
              "    </tr>\n",
              "    <tr>\n",
              "      <th>607</th>\n",
              "      <td>608</td>\n",
              "      <td>1</td>\n",
              "      <td>1</td>\n",
              "      <td>Daniel, Mr. Robert Williams</td>\n",
              "      <td>male</td>\n",
              "      <td>27.0</td>\n",
              "      <td>0</td>\n",
              "      <td>0</td>\n",
              "      <td>113804</td>\n",
              "      <td>30.5000</td>\n",
              "      <td>NaN</td>\n",
              "      <td>S</td>\n",
              "    </tr>\n",
              "    <tr>\n",
              "      <th>153</th>\n",
              "      <td>154</td>\n",
              "      <td>0</td>\n",
              "      <td>3</td>\n",
              "      <td>van Billiard, Mr. Austin Blyler</td>\n",
              "      <td>male</td>\n",
              "      <td>40.5</td>\n",
              "      <td>0</td>\n",
              "      <td>2</td>\n",
              "      <td>A/5. 851</td>\n",
              "      <td>14.5000</td>\n",
              "      <td>NaN</td>\n",
              "      <td>S</td>\n",
              "    </tr>\n",
              "    <tr>\n",
              "      <th>177</th>\n",
              "      <td>178</td>\n",
              "      <td>0</td>\n",
              "      <td>1</td>\n",
              "      <td>Isham, Miss. Ann Elizabeth</td>\n",
              "      <td>female</td>\n",
              "      <td>50.0</td>\n",
              "      <td>0</td>\n",
              "      <td>0</td>\n",
              "      <td>PC 17595</td>\n",
              "      <td>28.7125</td>\n",
              "      <td>C49</td>\n",
              "      <td>C</td>\n",
              "    </tr>\n",
              "    <tr>\n",
              "      <th>783</th>\n",
              "      <td>784</td>\n",
              "      <td>0</td>\n",
              "      <td>3</td>\n",
              "      <td>Johnston, Mr. Andrew G</td>\n",
              "      <td>male</td>\n",
              "      <td>NaN</td>\n",
              "      <td>1</td>\n",
              "      <td>2</td>\n",
              "      <td>W./C. 6607</td>\n",
              "      <td>23.4500</td>\n",
              "      <td>NaN</td>\n",
              "      <td>S</td>\n",
              "    </tr>\n",
              "    <tr>\n",
              "      <th>482</th>\n",
              "      <td>483</td>\n",
              "      <td>0</td>\n",
              "      <td>3</td>\n",
              "      <td>Rouse, Mr. Richard Henry</td>\n",
              "      <td>male</td>\n",
              "      <td>50.0</td>\n",
              "      <td>0</td>\n",
              "      <td>0</td>\n",
              "      <td>A/5 3594</td>\n",
              "      <td>8.0500</td>\n",
              "      <td>NaN</td>\n",
              "      <td>S</td>\n",
              "    </tr>\n",
              "    <tr>\n",
              "      <th>582</th>\n",
              "      <td>583</td>\n",
              "      <td>0</td>\n",
              "      <td>2</td>\n",
              "      <td>Downton, Mr. William James</td>\n",
              "      <td>male</td>\n",
              "      <td>54.0</td>\n",
              "      <td>0</td>\n",
              "      <td>0</td>\n",
              "      <td>28403</td>\n",
              "      <td>26.0000</td>\n",
              "      <td>NaN</td>\n",
              "      <td>S</td>\n",
              "    </tr>\n",
              "    <tr>\n",
              "      <th>424</th>\n",
              "      <td>425</td>\n",
              "      <td>0</td>\n",
              "      <td>3</td>\n",
              "      <td>Rosblom, Mr. Viktor Richard</td>\n",
              "      <td>male</td>\n",
              "      <td>18.0</td>\n",
              "      <td>1</td>\n",
              "      <td>1</td>\n",
              "      <td>370129</td>\n",
              "      <td>20.2125</td>\n",
              "      <td>NaN</td>\n",
              "      <td>S</td>\n",
              "    </tr>\n",
              "    <tr>\n",
              "      <th>79</th>\n",
              "      <td>80</td>\n",
              "      <td>1</td>\n",
              "      <td>3</td>\n",
              "      <td>Dowdell, Miss. Elizabeth</td>\n",
              "      <td>female</td>\n",
              "      <td>30.0</td>\n",
              "      <td>0</td>\n",
              "      <td>0</td>\n",
              "      <td>364516</td>\n",
              "      <td>12.4750</td>\n",
              "      <td>NaN</td>\n",
              "      <td>S</td>\n",
              "    </tr>\n",
              "  </tbody>\n",
              "</table>\n",
              "</div>"
            ],
            "text/plain": [
              "     PassengerId  Survived  Pclass  ...      Fare        Cabin  Embarked\n",
              "438          439         0       1  ...  263.0000  C23 C25 C27         S\n",
              "283          284         1       3  ...    8.0500          NaN         S\n",
              "607          608         1       1  ...   30.5000          NaN         S\n",
              "153          154         0       3  ...   14.5000          NaN         S\n",
              "177          178         0       1  ...   28.7125          C49         C\n",
              "783          784         0       3  ...   23.4500          NaN         S\n",
              "482          483         0       3  ...    8.0500          NaN         S\n",
              "582          583         0       2  ...   26.0000          NaN         S\n",
              "424          425         0       3  ...   20.2125          NaN         S\n",
              "79            80         1       3  ...   12.4750          NaN         S\n",
              "\n",
              "[10 rows x 12 columns]"
            ]
          },
          "metadata": {
            "tags": []
          },
          "execution_count": 1588
        }
      ]
    },
    {
      "cell_type": "code",
      "metadata": {
        "id": "gVgvdLX-HPfh",
        "colab": {
          "base_uri": "https://localhost:8080/",
          "height": 219
        },
        "outputId": "ebfd6162-666d-4aac-c232-db3a5aec5b8a"
      },
      "source": [
        "print(\"Cechy, które są int lub float z df_train\")\n",
        "df_train.select_dtypes(include=[np.int, np.float]).head()"
      ],
      "execution_count": null,
      "outputs": [
        {
          "output_type": "stream",
          "text": [
            "Cechy, które są int lub float z df_train\n"
          ],
          "name": "stdout"
        },
        {
          "output_type": "execute_result",
          "data": {
            "text/html": [
              "<div>\n",
              "<style scoped>\n",
              "    .dataframe tbody tr th:only-of-type {\n",
              "        vertical-align: middle;\n",
              "    }\n",
              "\n",
              "    .dataframe tbody tr th {\n",
              "        vertical-align: top;\n",
              "    }\n",
              "\n",
              "    .dataframe thead th {\n",
              "        text-align: right;\n",
              "    }\n",
              "</style>\n",
              "<table border=\"1\" class=\"dataframe\">\n",
              "  <thead>\n",
              "    <tr style=\"text-align: right;\">\n",
              "      <th></th>\n",
              "      <th>PassengerId</th>\n",
              "      <th>Survived</th>\n",
              "      <th>Pclass</th>\n",
              "      <th>Age</th>\n",
              "      <th>SibSp</th>\n",
              "      <th>Parch</th>\n",
              "      <th>Fare</th>\n",
              "    </tr>\n",
              "  </thead>\n",
              "  <tbody>\n",
              "    <tr>\n",
              "      <th>0</th>\n",
              "      <td>1</td>\n",
              "      <td>0</td>\n",
              "      <td>3</td>\n",
              "      <td>22.0</td>\n",
              "      <td>1</td>\n",
              "      <td>0</td>\n",
              "      <td>7.2500</td>\n",
              "    </tr>\n",
              "    <tr>\n",
              "      <th>1</th>\n",
              "      <td>2</td>\n",
              "      <td>1</td>\n",
              "      <td>1</td>\n",
              "      <td>38.0</td>\n",
              "      <td>1</td>\n",
              "      <td>0</td>\n",
              "      <td>71.2833</td>\n",
              "    </tr>\n",
              "    <tr>\n",
              "      <th>2</th>\n",
              "      <td>3</td>\n",
              "      <td>1</td>\n",
              "      <td>3</td>\n",
              "      <td>26.0</td>\n",
              "      <td>0</td>\n",
              "      <td>0</td>\n",
              "      <td>7.9250</td>\n",
              "    </tr>\n",
              "    <tr>\n",
              "      <th>3</th>\n",
              "      <td>4</td>\n",
              "      <td>1</td>\n",
              "      <td>1</td>\n",
              "      <td>35.0</td>\n",
              "      <td>1</td>\n",
              "      <td>0</td>\n",
              "      <td>53.1000</td>\n",
              "    </tr>\n",
              "    <tr>\n",
              "      <th>4</th>\n",
              "      <td>5</td>\n",
              "      <td>0</td>\n",
              "      <td>3</td>\n",
              "      <td>35.0</td>\n",
              "      <td>0</td>\n",
              "      <td>0</td>\n",
              "      <td>8.0500</td>\n",
              "    </tr>\n",
              "  </tbody>\n",
              "</table>\n",
              "</div>"
            ],
            "text/plain": [
              "   PassengerId  Survived  Pclass   Age  SibSp  Parch     Fare\n",
              "0            1         0       3  22.0      1      0   7.2500\n",
              "1            2         1       1  38.0      1      0  71.2833\n",
              "2            3         1       3  26.0      0      0   7.9250\n",
              "3            4         1       1  35.0      1      0  53.1000\n",
              "4            5         0       3  35.0      0      0   8.0500"
            ]
          },
          "metadata": {
            "tags": []
          },
          "execution_count": 1589
        }
      ]
    },
    {
      "cell_type": "code",
      "metadata": {
        "id": "h8IUt7PxIl_m",
        "colab": {
          "base_uri": "https://localhost:8080/"
        },
        "outputId": "eb126fae-2df2-4c13-bf88-4ce833126e72"
      },
      "source": [
        "print(\"Sam oswajam się z funkcją factorize.\")\n",
        "print(\"Unikalne wartości kolumny płeć.\")\n",
        "print(df_all[\"Sex\"].unique())\n",
        "print(\"Konwertuję płeć do wartości numerycznej, funkcją factorize.\")\n",
        "print(\"Zwraca ona dwa wektory. Pierwszy to wartości numeryczne a drugi to labele.\")\n",
        "print(pd.factorize(df_all[\"Sex\"]))\n",
        "print(\"Ale nam potrzebny tylko pierwszy wektor.\")\n",
        "print(pd.factorize(df_all[\"Sex\"])[0])\n",
        "moja_nazwa_sex_po_faktoryzacji = pd.factorize(df_all[\"Sex\"])[0]\n",
        "print(moja_nazwa_sex_po_faktoryzacji)\n",
        "print(\"Wyświetlam obok siebie kolumny Sex oraz nową sfaktoryzowaną (pierwsze 10)\")\n",
        "porownane_sex = zip(df_all[\"Sex\"].values, moja_nazwa_sex_po_faktoryzacji)\n",
        "print(list(porownane_sex)[:10])\n",
        "print(\"Male to 0, a female to 1.\")\n",
        "\n",
        "print()\n",
        "print(\"Unikalne wartości kolumny port. Zdarzyły się w train dwie wartości nan czyli brak info.\")\n",
        "print(df_all[\"Embarked\"].unique())\n",
        "print(\"Konwertuję port i do wartości numerycznej, funkcją factorize.\")\n",
        "print(\"Zwraca ona dwa wektory. Pierwszy to wartości numeryczne a drugi to labele.\")\n",
        "print(pd.factorize(df_all[\"Embarked\"]))\n",
        "print(\"Ale nam potrzebny tylko pierwszy wektor.\")\n",
        "print(pd.factorize(df_all[\"Embarked\"])[0])\n",
        "print(\"moja_nazwa_embarked_po_faktoryzacji\")\n",
        "moja_nazwa_embarked_po_faktoryzacji = pd.factorize(df_all[\"Embarked\"])[0]\n",
        "print(moja_nazwa_embarked_po_faktoryzacji)\n",
        "print(\"Wyświetlam obok siebie kolumny Embarked oraz nową sfaktoryzowaną (pierwsze 10)\")\n",
        "porownane_embarked = zip(df_all[\"Embarked\"].values, moja_nazwa_embarked_po_faktoryzacji)\n",
        "print(list(porownane_embarked)[:10])\n",
        "print(\"S czyli Southampton to 0.\") \n",
        "print(\"C czyli Cherbourg to 1.\")\n",
        "print(\"Q czyli Queenstown to 2.\")"
      ],
      "execution_count": null,
      "outputs": [
        {
          "output_type": "stream",
          "text": [
            "Sam oswajam się z funkcją factorize.\n",
            "Unikalne wartości kolumny płeć.\n",
            "['male' 'female']\n",
            "Konwertuję płeć do wartości numerycznej, funkcją factorize.\n",
            "Zwraca ona dwa wektory. Pierwszy to wartości numeryczne a drugi to labele.\n",
            "(array([0, 1, 1, ..., 0, 0, 0]), Index(['male', 'female'], dtype='object'))\n",
            "Ale nam potrzebny tylko pierwszy wektor.\n",
            "[0 1 1 ... 0 0 0]\n",
            "[0 1 1 ... 0 0 0]\n",
            "Wyświetlam obok siebie kolumny Sex oraz nową sfaktoryzowaną (pierwsze 10)\n",
            "[('male', 0), ('female', 1), ('female', 1), ('female', 1), ('male', 0), ('male', 0), ('male', 0), ('male', 0), ('female', 1), ('female', 1)]\n",
            "Male to 0, a female to 1.\n",
            "\n",
            "Unikalne wartości kolumny port. Zdarzyły się w train dwie wartości nan czyli brak info.\n",
            "['S' 'C' 'Q' nan]\n",
            "Konwertuję port i do wartości numerycznej, funkcją factorize.\n",
            "Zwraca ona dwa wektory. Pierwszy to wartości numeryczne a drugi to labele.\n",
            "(array([0, 1, 0, ..., 0, 0, 1]), Index(['S', 'C', 'Q'], dtype='object'))\n",
            "Ale nam potrzebny tylko pierwszy wektor.\n",
            "[0 1 0 ... 0 0 1]\n",
            "moja_nazwa_embarked_po_faktoryzacji\n",
            "[0 1 0 ... 0 0 1]\n",
            "Wyświetlam obok siebie kolumny Embarked oraz nową sfaktoryzowaną (pierwsze 10)\n",
            "[('S', 0), ('C', 1), ('S', 0), ('S', 0), ('S', 0), ('Q', 2), ('S', 0), ('S', 0), ('S', 0), ('C', 1)]\n",
            "S czyli Southampton to 0.\n",
            "C czyli Cherbourg to 1.\n",
            "Q czyli Queenstown to 2.\n"
          ],
          "name": "stdout"
        }
      ]
    },
    {
      "cell_type": "code",
      "metadata": {
        "id": "9u4hdX9UKHYH",
        "colab": {
          "base_uri": "https://localhost:8080/"
        },
        "outputId": "6f352614-c31e-4645-db32-0739b5e14157"
      },
      "source": [
        "print(\"Nie chcemy używać PassangerId, bo nie ma wpływu na przeżycie.\")\n",
        "print(\"Nie chcemy też Survived bo to nasz cel. One będą na black_list.\")\n",
        "\n",
        "print(\"Definicja funkcji pobierającej cechy numeryczne, ale oprócz tych z black_list.\")\n",
        "def get_feats(df):\n",
        "    feats = df.select_dtypes(include=[np.int]).columns.values\n",
        "    black_list = ['PassengerId', 'Survived']\n",
        "\n",
        "    return [feat for feat in feats if feat not in black_list]\n",
        "\n",
        "\n",
        "print(\"Zamiana cech słownych takich jak płeć i port na numeryczne.\")\n",
        "print(\"Dodaje dwie nowe cechy sex_cat i embarked_cat (cat jak category) do df_all\")\n",
        "def feature_engineering(df):\n",
        "    df['sex_cat'] = pd.factorize(df['Sex'])[0]  # płeć zamieniam numer 0,1\n",
        "    df['embarked_cat'] = pd.factorize(df[\"Embarked\"])[0]  # port zamieniam na numer 0,1,2\n",
        "\n",
        "    return df\n",
        "\n",
        "\n",
        "print(\"Cztery modele. Zwraca listę krotek.\")\n",
        "def get_models():\n",
        "    return [\n",
        "        ('lr', LogisticRegression()),\n",
        "        ('dt', DecisionTreeClassifier()),\n",
        "        ('rf', RandomForestClassifier()),\n",
        "        ('et', ExtraTreesClassifier()),\n",
        "    ]"
      ],
      "execution_count": null,
      "outputs": [
        {
          "output_type": "stream",
          "text": [
            "Nie chcemy używać PassangerId, bo nie ma wpływu na przeżycie.\n",
            "Nie chcemy też Survived bo to nasz cel. One będą na black_list.\n",
            "Definicja funkcji pobierającej cechy numeryczne, ale oprócz tych z black_list.\n",
            "Zamiana cech słownych takich jak płeć i port na numeryczne.\n",
            "Dodaje dwie nowe cechy sex_cat i embarked_cat (cat jak category) do df_all\n",
            "Cztery modele. Zwraca listę krotek.\n"
          ],
          "name": "stdout"
        }
      ]
    },
    {
      "cell_type": "code",
      "metadata": {
        "id": "Zy6m4ffqRQ7o",
        "colab": {
          "base_uri": "https://localhost:8080/"
        },
        "outputId": "e9c08e86-5a84-4e44-e1a7-a5ea4d3fbb14"
      },
      "source": [
        "print(\"Wizualizacja wyniku\")\n",
        "def plot_result(model_name, result, ylim=(0, 1.)):\n",
        "    # rzucał key-error, bo nie ma takiego klucza w słowniku result, \n",
        "    # ale pomogła rada z github:\n",
        "    # /Users/vova/miniconda3/lib/python3.6/site-packages/sklearn/utils/deprecation.py:122: \n",
        "    # FutureWarning: You are accessing a training score ('train_score'), \n",
        "    # which will not be available by default any more in 0.21. \n",
        "    # If you need training scores, please set return_train_score=True\n",
        "    # warnings.warn(*warn_args, **warn_kwargs)\n",
        "    # Ja mam sklearn wersję 0.22.2.post1, więc u mnie depreciated\n",
        "\n",
        "    mean_train = np.round( np.mean(result['train_score']), 2 ) \n",
        "    mean_test = np.round( np.mean(result['test_score']), 2 )\n",
        "    \n",
        "    plt.title('{0}: cross validation\\nmean-train-acc:{1}\\nmean-test-acc:{2}'.format(model_name, mean_train, mean_test))\n",
        "    # rzucał key-error, ale już ok\n",
        "    plt.plot( result['train_score'], 'r-o', label=\"train\" )  # r to red, a o to kropka\n",
        "    plt.plot( result['test_score'], 'g-o', label=\"test\" ) # g to green, a o to kropka\n",
        "    plt.legend(loc='best')\n",
        "    plt.ylabel('Accuracy')\n",
        "    plt.xlabel('# of fold')\n",
        "    plt.ylim(*ylim)\n",
        "    plt.show()"
      ],
      "execution_count": null,
      "outputs": [
        {
          "output_type": "stream",
          "text": [
            "Wizualizacja wyniku\n"
          ],
          "name": "stdout"
        }
      ]
    },
    {
      "cell_type": "code",
      "metadata": {
        "id": "UtaEYHGloQjb",
        "colab": {
          "base_uri": "https://localhost:8080/",
          "height": 52
        },
        "outputId": "40802d93-21ef-4e12-9919-87949a709a66"
      },
      "source": [
        "print(\"Sprawdzam wersję sklearn, bo był błąd KeyError: 'train_score' w słowniku result.\")\n",
        "import sklearn\n",
        "sklearn.__version__"
      ],
      "execution_count": null,
      "outputs": [
        {
          "output_type": "stream",
          "text": [
            "Sprawdzam wersję sklearn, bo był błąd KeyError: 'train_score' w słowniku result.\n"
          ],
          "name": "stdout"
        },
        {
          "output_type": "execute_result",
          "data": {
            "application/vnd.google.colaboratory.intrinsic+json": {
              "type": "string"
            },
            "text/plain": [
              "'0.22.2.post1'"
            ]
          },
          "metadata": {
            "tags": []
          },
          "execution_count": 1593
        }
      ]
    },
    {
      "cell_type": "code",
      "metadata": {
        "id": "B8FiVz9-RXcv",
        "colab": {
          "base_uri": "https://localhost:8080/",
          "height": 1000
        },
        "outputId": "43a7e6cf-28ee-41da-fcc6-a644e8be12e9"
      },
      "source": [
        "print(\"Bierze df_train i dorzuca do niej nowe cechy sex_cat i embarked_cat.\")\n",
        "print(\"Wynik zwraca do df.\")\n",
        "df = feature_engineering(df_train)\n",
        "print(\"Pobiera z df cechy numeryczne, ale oprócz PassengerId i Survived.\")\n",
        "print(\"Wynik powinien zapisać do listy, więc utworzyłem taką listę.\")\n",
        "moja_lista_dobrych_cech_numerycznych = get_feats(df)\n",
        "print(moja_lista_dobrych_cech_numerycznych)\n",
        "\n",
        "\n",
        "print(\"Przypomnienie df_train\")\n",
        "print(df_train)\n",
        "\n",
        "print()\n",
        "print(\"Takie cechy będą w numpy.ndarray o nazwie X\")\n",
        "print(get_feats(df_train))\n",
        "X = df_train[ get_feats(df_train) ].values\n",
        "print()\n",
        "print(\"X =\")\n",
        "print(X)\n",
        "print(\"type(X)\", type(X))\n",
        "\n",
        "print()\n",
        "print(\"Natomiast w numpy.ndarray o nazwie y jest cecha Survived\")\n",
        "y = df_train[ 'Survived' ].values\n",
        "print()\n",
        "print(\"y =\")\n",
        "print(y)\n",
        "print(\"type(y)\", type(y))\n",
        "\n",
        "print()\n",
        "print(\"Bada model w zależności od pięciu cech.\")\n",
        "print(\"Wtedy dummy badał tylko w zależności od klasy pasażera.\")\n",
        "for model_name, model in get_models():\n",
        "    result = cross_validate(model, X, y, scoring='accuracy', cv=3, return_train_score=True)\n",
        "    print(model_name)\n",
        "    print(\"To wyświetlanie sam dodałem\")\n",
        "    for key, value in result.items():\n",
        "        print(key, value)\n",
        "\n",
        "    print(\"mean train score\")\n",
        "    print(result[\"train_score\"].mean())\n",
        "    print(\"mean test score\")\n",
        "    print(result[\"test_score\"].mean())\n",
        "\n",
        "    print(\"Typ zmiennej result\")\n",
        "    print(type(result))\n",
        "\n",
        "    plot_result(model_name, result)"
      ],
      "execution_count": null,
      "outputs": [
        {
          "output_type": "stream",
          "text": [
            "Bierze df_train i dorzuca do niej nowe cechy sex_cat i embarked_cat.\n",
            "Wynik zwraca do df.\n",
            "Pobiera z df cechy numeryczne, ale oprócz PassengerId i Survived.\n",
            "Wynik powinien zapisać do listy, więc utworzyłem taką listę.\n",
            "['Pclass', 'SibSp', 'Parch', 'sex_cat', 'embarked_cat']\n",
            "Przypomnienie df_train\n",
            "     PassengerId  Survived  Pclass  ... Embarked sex_cat  embarked_cat\n",
            "0              1         0       3  ...        S       0             0\n",
            "1              2         1       1  ...        C       1             1\n",
            "2              3         1       3  ...        S       1             0\n",
            "3              4         1       1  ...        S       1             0\n",
            "4              5         0       3  ...        S       0             0\n",
            "..           ...       ...     ...  ...      ...     ...           ...\n",
            "886          887         0       2  ...        S       0             0\n",
            "887          888         1       1  ...        S       1             0\n",
            "888          889         0       3  ...        S       1             0\n",
            "889          890         1       1  ...        C       0             1\n",
            "890          891         0       3  ...        Q       0             2\n",
            "\n",
            "[891 rows x 14 columns]\n",
            "\n",
            "Takie cechy będą w numpy.ndarray o nazwie X\n",
            "['Pclass', 'SibSp', 'Parch', 'sex_cat', 'embarked_cat']\n",
            "\n",
            "X =\n",
            "[[3 1 0 0 0]\n",
            " [1 1 0 1 1]\n",
            " [3 0 0 1 0]\n",
            " ...\n",
            " [3 1 2 1 0]\n",
            " [1 0 0 0 1]\n",
            " [3 0 0 0 2]]\n",
            "type(X) <class 'numpy.ndarray'>\n",
            "\n",
            "Natomiast w numpy.ndarray o nazwie y jest cecha Survived\n",
            "\n",
            "y =\n",
            "[0 1 1 1 0 0 0 0 1 1 1 1 0 0 0 1 0 1 0 1 0 1 1 1 0 1 0 0 1 0 0 1 1 0 0 0 1\n",
            " 0 0 1 0 0 0 1 1 0 0 1 0 0 0 0 1 1 0 1 1 0 1 0 0 1 0 0 0 1 1 0 1 0 0 0 0 0\n",
            " 1 0 0 0 1 1 0 1 1 0 1 1 0 0 1 0 0 0 0 0 0 0 0 1 1 0 0 0 0 0 0 0 1 1 0 1 0\n",
            " 0 0 0 0 0 0 0 0 0 0 0 0 1 0 1 0 1 1 0 0 0 0 1 0 0 1 0 0 0 0 1 1 0 0 0 1 0\n",
            " 0 0 0 1 0 0 0 0 1 0 0 0 0 1 0 0 0 1 1 0 0 0 0 0 1 0 0 0 0 0 0 0 0 0 0 1 1\n",
            " 0 1 1 0 0 1 0 1 1 1 1 0 0 1 0 0 0 0 0 1 0 0 1 1 1 0 1 0 0 0 1 1 0 1 0 1 0\n",
            " 0 0 1 0 1 0 0 0 1 0 0 1 0 0 0 1 0 0 0 1 0 0 0 0 0 1 1 0 0 0 0 0 0 1 1 1 1\n",
            " 1 0 1 0 0 0 0 0 1 1 1 0 1 1 0 1 1 0 0 0 1 0 0 0 1 0 0 1 0 1 1 1 1 0 0 0 0\n",
            " 0 0 1 1 1 1 0 1 0 1 1 1 0 1 1 1 0 0 0 1 1 0 1 1 0 0 1 1 0 1 0 1 1 1 1 0 0\n",
            " 0 1 0 0 1 1 0 1 1 0 0 0 1 1 1 1 0 0 0 0 0 0 0 1 0 1 1 0 0 0 0 0 0 1 1 1 1\n",
            " 1 0 0 0 0 1 1 0 0 0 1 1 0 1 0 0 0 1 0 1 1 1 0 1 1 0 0 0 0 1 1 0 0 0 0 0 0\n",
            " 1 0 0 0 0 1 0 1 0 1 1 0 0 0 0 0 0 0 0 1 1 0 1 1 1 1 0 0 1 0 1 0 0 1 0 0 1\n",
            " 1 1 1 1 1 1 0 0 0 1 0 1 0 1 1 0 1 0 0 0 0 0 0 0 0 1 0 0 1 1 0 0 0 0 0 1 0\n",
            " 0 0 1 1 0 1 0 0 1 0 0 0 0 0 0 1 0 0 0 0 0 0 0 1 0 1 1 0 1 1 0 1 1 0 0 1 0\n",
            " 1 0 1 0 0 1 0 0 1 0 0 0 1 0 0 1 0 1 0 1 0 1 1 0 0 1 0 0 1 1 0 1 1 0 0 1 1\n",
            " 0 1 0 1 1 0 0 0 0 0 0 0 0 0 1 1 1 1 1 0 0 1 1 0 1 1 1 0 0 0 1 0 1 0 0 0 1\n",
            " 0 0 0 0 1 0 0 1 1 0 0 0 1 0 0 1 1 1 0 0 1 0 0 1 0 0 1 0 0 1 1 0 0 0 0 1 0\n",
            " 0 1 0 1 0 0 1 0 0 0 0 0 1 0 1 1 1 0 1 0 1 0 1 0 1 0 0 0 0 0 0 1 0 0 0 1 0\n",
            " 0 0 0 1 1 0 0 1 0 0 0 1 0 1 0 1 0 0 0 0 0 0 0 1 1 1 1 0 0 0 0 1 0 0 1 1 0\n",
            " 0 0 0 1 1 1 1 1 0 1 0 0 0 1 1 0 0 1 0 0 0 1 0 1 1 0 0 1 0 0 0 0 0 0 1 0 0\n",
            " 1 0 1 0 1 0 0 1 0 0 1 1 0 0 1 1 0 0 0 1 0 0 1 1 0 1 0 0 0 0 0 0 0 0 1 0 0\n",
            " 1 0 1 1 1 0 0 0 0 1 0 1 0 0 0 0 0 0 0 1 1 0 0 0 1 1 1 1 0 0 0 0 1 0 0 0 0\n",
            " 0 0 0 0 0 0 1 1 0 1 0 0 0 1 1 1 1 1 0 0 0 1 0 0 1 1 0 0 1 0 0 0 0 0 0 1 0\n",
            " 0 0 1 0 1 1 1 1 0 0 0 1 0 0 1 1 0 0 1 0 1 0 0 1 1 0 0 0 1 1 0 0 0 0 0 0 1\n",
            " 0 1 0]\n",
            "type(y) <class 'numpy.ndarray'>\n",
            "\n",
            "Bada model w zależności od pięciu cech.\n",
            "Wtedy dummy badał tylko w zależności od klasy pasażera.\n",
            "lr\n",
            "To wyświetlanie sam dodałem\n",
            "fit_time [0.00468969 0.0044241  0.00468087]\n",
            "score_time [0.00037742 0.00033975 0.0003376 ]\n",
            "test_score [0.77777778 0.7979798  0.78787879]\n",
            "train_score [0.81144781 0.78956229 0.80639731]\n",
            "mean train score\n",
            "0.8024691358024691\n",
            "mean test score\n",
            "0.7878787878787877\n",
            "Typ zmiennej result\n",
            "<class 'dict'>\n"
          ],
          "name": "stdout"
        },
        {
          "output_type": "display_data",
          "data": {
            "image/png": "[encoded data removed]",
            "text/plain": [
              "<Figure size 432x288 with 1 Axes>"
            ]
          },
          "metadata": {
            "tags": [],
            "needs_background": "light"
          }
        },
        {
          "output_type": "stream",
          "text": [
            "dt\n",
            "To wyświetlanie sam dodałem\n",
            "fit_time [0.0016048  0.00115824 0.00069284]\n",
            "score_time [0.0007     0.00083494 0.00034142]\n",
            "test_score [0.77777778 0.7979798  0.77441077]\n",
            "train_score [0.85016835 0.83501684 0.84343434]\n",
            "mean train score\n",
            "0.8428731762065095\n",
            "mean test score\n",
            "0.7833894500561168\n",
            "Typ zmiennej result\n",
            "<class 'dict'>\n"
          ],
          "name": "stdout"
        },
        {
          "output_type": "display_data",
          "data": {
            "image/png": "[encoded data removed]",
            "text/plain": [
              "<Figure size 432x288 with 1 Axes>"
            ]
          },
          "metadata": {
            "tags": [],
            "needs_background": "light"
          }
        },
        {
          "output_type": "stream",
          "text": [
            "rf\n",
            "To wyświetlanie sam dodałem\n",
            "fit_time [0.15443611 0.13610744 0.14107656]\n",
            "score_time [0.0144124  0.01052141 0.01062322]\n",
            "test_score [0.77104377 0.77441077 0.78787879]\n",
            "train_score [0.85016835 0.83501684 0.84343434]\n",
            "mean train score\n",
            "0.8428731762065095\n",
            "mean test score\n",
            "0.7777777777777777\n",
            "Typ zmiennej result\n",
            "<class 'dict'>\n"
          ],
          "name": "stdout"
        },
        {
          "output_type": "display_data",
          "data": {
            "image/png": "[encoded data removed]",
            "text/plain": [
              "<Figure size 432x288 with 1 Axes>"
            ]
          },
          "metadata": {
            "tags": [],
            "needs_background": "light"
          }
        },
        {
          "output_type": "stream",
          "text": [
            "et\n",
            "To wyświetlanie sam dodałem\n",
            "fit_time [0.10983467 0.10631967 0.10586023]\n",
            "score_time [0.01089239 0.01074314 0.0107429 ]\n",
            "test_score [0.77441077 0.7979798  0.79124579]\n",
            "train_score [0.85016835 0.83501684 0.84343434]\n",
            "mean train score\n",
            "0.8428731762065095\n",
            "mean test score\n",
            "0.787878787878788\n",
            "Typ zmiennej result\n",
            "<class 'dict'>\n"
          ],
          "name": "stdout"
        },
        {
          "output_type": "display_data",
          "data": {
            "image/png": "[encoded data removed]",
            "text/plain": [
              "<Figure size 432x288 with 1 Axes>"
            ]
          },
          "metadata": {
            "tags": [],
            "needs_background": "light"
          }
        }
      ]
    },
    {
      "cell_type": "code",
      "metadata": {
        "id": "I3QRB9h6GPfC"
      },
      "source": [
        "def make_prediction(df_train, df_test, model, output_file_name):\n",
        "    \n",
        "    # Dodaje dwie nowe cechy sex_cat i embarked_cat\n",
        "    # (cat jak category) do df_train i zwraca train.\n",
        "    train = feature_engineering(df_train)\n",
        "    # Dodaje dwie nowe cechy sex_cat i embarked_cat\n",
        "    # (cat jak category) do df_test i zwraca test.\n",
        "    test = feature_engineering(df_test)\n",
        "\n",
        "    # pobiera z train tylko cechy numeryczne (oprócz PassgngerId i Survived) \n",
        "    feats = get_feats(train)\n",
        "\n",
        "    # do X_train bierze tylko wyselekcjonowane cechy numeryczne\n",
        "    X_train = train[feats].values\n",
        "    # sam dopisałem żeby wyświetlał X_train\n",
        "    print()\n",
        "    print(\"X_train z funkcji make_prediction\")\n",
        "    print(X_train)\n",
        "    y_train = train['Survived'].values\n",
        "    # sam dopisałem żeby wyświetlał y_train\n",
        "    print()\n",
        "    print(\"y_train z funkcji make_prediction\")\n",
        "    print(y_train)\n",
        "    X_test = test[feats]\n",
        "    # sam dopisałem żeby wyświetlał X_test\n",
        "    print()\n",
        "    print(\"X_test z funkcji make_prediction\")\n",
        "    print(X_test)\n",
        "\n",
        "    print(model)\n",
        "    model.fit(X_train, y_train)\n",
        "\n",
        "    # przypisuje wyniki predykcji zbioru testowego do nowej kolumny z zbiorze test\n",
        "    test['Survived'] = model.predict(X_test)\n",
        "    # zapisuje dwie kolumny z wyników prognoz do plików csv (bez kolumny indeksów)\n",
        "    test[ ['PassengerId', 'Survived'] ].to_csv(os.path.join(TITANIC_OUTPUT_PATH, output_file_name), index=False)"
      ],
      "execution_count": null,
      "outputs": []
    },
    {
      "cell_type": "markdown",
      "metadata": {
        "id": "x6JF6tcW8KQh"
      },
      "source": [
        "## **Linear model**"
      ]
    },
    {
      "cell_type": "code",
      "metadata": {
        "colab": {
          "base_uri": "https://localhost:8080/"
        },
        "id": "84GvQmrB8U-t",
        "outputId": "694c3781-07f0-4e7a-d0a3-ba7841f7cb84"
      },
      "source": [
        "make_prediction(df_train, df_test, LogisticRegression(), 'linear.csv')"
      ],
      "execution_count": null,
      "outputs": [
        {
          "output_type": "stream",
          "text": [
            "\n",
            "X_train z funkcji make_prediction\n",
            "[[3 1 0 0 0]\n",
            " [1 1 0 1 1]\n",
            " [3 0 0 1 0]\n",
            " ...\n",
            " [3 1 2 1 0]\n",
            " [1 0 0 0 1]\n",
            " [3 0 0 0 2]]\n",
            "\n",
            "y_train z funkcji make_prediction\n",
            "[0 1 1 1 0 0 0 0 1 1 1 1 0 0 0 1 0 1 0 1 0 1 1 1 0 1 0 0 1 0 0 1 1 0 0 0 1\n",
            " 0 0 1 0 0 0 1 1 0 0 1 0 0 0 0 1 1 0 1 1 0 1 0 0 1 0 0 0 1 1 0 1 0 0 0 0 0\n",
            " 1 0 0 0 1 1 0 1 1 0 1 1 0 0 1 0 0 0 0 0 0 0 0 1 1 0 0 0 0 0 0 0 1 1 0 1 0\n",
            " 0 0 0 0 0 0 0 0 0 0 0 0 1 0 1 0 1 1 0 0 0 0 1 0 0 1 0 0 0 0 1 1 0 0 0 1 0\n",
            " 0 0 0 1 0 0 0 0 1 0 0 0 0 1 0 0 0 1 1 0 0 0 0 0 1 0 0 0 0 0 0 0 0 0 0 1 1\n",
            " 0 1 1 0 0 1 0 1 1 1 1 0 0 1 0 0 0 0 0 1 0 0 1 1 1 0 1 0 0 0 1 1 0 1 0 1 0\n",
            " 0 0 1 0 1 0 0 0 1 0 0 1 0 0 0 1 0 0 0 1 0 0 0 0 0 1 1 0 0 0 0 0 0 1 1 1 1\n",
            " 1 0 1 0 0 0 0 0 1 1 1 0 1 1 0 1 1 0 0 0 1 0 0 0 1 0 0 1 0 1 1 1 1 0 0 0 0\n",
            " 0 0 1 1 1 1 0 1 0 1 1 1 0 1 1 1 0 0 0 1 1 0 1 1 0 0 1 1 0 1 0 1 1 1 1 0 0\n",
            " 0 1 0 0 1 1 0 1 1 0 0 0 1 1 1 1 0 0 0 0 0 0 0 1 0 1 1 0 0 0 0 0 0 1 1 1 1\n",
            " 1 0 0 0 0 1 1 0 0 0 1 1 0 1 0 0 0 1 0 1 1 1 0 1 1 0 0 0 0 1 1 0 0 0 0 0 0\n",
            " 1 0 0 0 0 1 0 1 0 1 1 0 0 0 0 0 0 0 0 1 1 0 1 1 1 1 0 0 1 0 1 0 0 1 0 0 1\n",
            " 1 1 1 1 1 1 0 0 0 1 0 1 0 1 1 0 1 0 0 0 0 0 0 0 0 1 0 0 1 1 0 0 0 0 0 1 0\n",
            " 0 0 1 1 0 1 0 0 1 0 0 0 0 0 0 1 0 0 0 0 0 0 0 1 0 1 1 0 1 1 0 1 1 0 0 1 0\n",
            " 1 0 1 0 0 1 0 0 1 0 0 0 1 0 0 1 0 1 0 1 0 1 1 0 0 1 0 0 1 1 0 1 1 0 0 1 1\n",
            " 0 1 0 1 1 0 0 0 0 0 0 0 0 0 1 1 1 1 1 0 0 1 1 0 1 1 1 0 0 0 1 0 1 0 0 0 1\n",
            " 0 0 0 0 1 0 0 1 1 0 0 0 1 0 0 1 1 1 0 0 1 0 0 1 0 0 1 0 0 1 1 0 0 0 0 1 0\n",
            " 0 1 0 1 0 0 1 0 0 0 0 0 1 0 1 1 1 0 1 0 1 0 1 0 1 0 0 0 0 0 0 1 0 0 0 1 0\n",
            " 0 0 0 1 1 0 0 1 0 0 0 1 0 1 0 1 0 0 0 0 0 0 0 1 1 1 1 0 0 0 0 1 0 0 1 1 0\n",
            " 0 0 0 1 1 1 1 1 0 1 0 0 0 1 1 0 0 1 0 0 0 1 0 1 1 0 0 1 0 0 0 0 0 0 1 0 0\n",
            " 1 0 1 0 1 0 0 1 0 0 1 1 0 0 1 1 0 0 0 1 0 0 1 1 0 1 0 0 0 0 0 0 0 0 1 0 0\n",
            " 1 0 1 1 1 0 0 0 0 1 0 1 0 0 0 0 0 0 0 1 1 0 0 0 1 1 1 1 0 0 0 0 1 0 0 0 0\n",
            " 0 0 0 0 0 0 1 1 0 1 0 0 0 1 1 1 1 1 0 0 0 1 0 0 1 1 0 0 1 0 0 0 0 0 0 1 0\n",
            " 0 0 1 0 1 1 1 1 0 0 0 1 0 0 1 1 0 0 1 0 1 0 0 1 1 0 0 0 1 1 0 0 0 0 0 0 1\n",
            " 0 1 0]\n",
            "\n",
            "X_test z funkcji make_prediction\n",
            "     Pclass  SibSp  Parch  sex_cat  embarked_cat\n",
            "0         3      0      0        0             0\n",
            "1         3      1      0        1             1\n",
            "2         2      0      0        0             0\n",
            "3         3      0      0        0             1\n",
            "4         3      1      1        1             1\n",
            "..      ...    ...    ...      ...           ...\n",
            "413       3      0      0        0             1\n",
            "414       1      0      0        1             2\n",
            "415       3      0      0        0             1\n",
            "416       3      0      0        0             1\n",
            "417       3      1      1        0             2\n",
            "\n",
            "[418 rows x 5 columns]\n",
            "LogisticRegression(C=1.0, class_weight=None, dual=False, fit_intercept=True,\n",
            "                   intercept_scaling=1, l1_ratio=None, max_iter=100,\n",
            "                   multi_class='auto', n_jobs=None, penalty='l2',\n",
            "                   random_state=None, solver='lbfgs', tol=0.0001, verbose=0,\n",
            "                   warm_start=False)\n"
          ],
          "name": "stdout"
        }
      ]
    },
    {
      "cell_type": "markdown",
      "metadata": {
        "id": "YtKT_WB09RsG"
      },
      "source": [
        "## **Random forest**"
      ]
    },
    {
      "cell_type": "code",
      "metadata": {
        "colab": {
          "base_uri": "https://localhost:8080/",
          "height": 1000
        },
        "id": "tYk9ptJz-CBn",
        "outputId": "2e67cf6c-447a-4306-cc67-095c96dd8f01"
      },
      "source": [
        "print(\"Dla głębokości 2,4,6,8\")\n",
        "for max_depth in range(2, 10, 2):\n",
        "    model = RandomForestClassifier(max_depth=max_depth, n_estimators=15)\n",
        "    # dopisałem return_train_score=True bo był key error dla train_score\n",
        "    result = cross_validate(model, X, y, scoring='accuracy', cv=3, return_train_score=True)\n",
        "    # wywołuję zdefiniowaną funkcję plot_result\n",
        "    plot_result(\"Decision Tree: max_depth=%s\" % max_depth, result)"
      ],
      "execution_count": null,
      "outputs": [
        {
          "output_type": "stream",
          "text": [
            "Dla głębokości 2,4,6,8\n"
          ],
          "name": "stdout"
        },
        {
          "output_type": "display_data",
          "data": {
            "image/png": "[encoded data removed]",
            "text/plain": [
              "<Figure size 432x288 with 1 Axes>"
            ]
          },
          "metadata": {
            "tags": [],
            "needs_background": "light"
          }
        },
        {
          "output_type": "display_data",
          "data": {
            "image/png": "[encoded data removed]",
            "text/plain": [
              "<Figure size 432x288 with 1 Axes>"
            ]
          },
          "metadata": {
            "tags": [],
            "needs_background": "light"
          }
        },
        {
          "output_type": "display_data",
          "data": {
            "image/png": "[encoded data removed]",
            "text/plain": [
              "<Figure size 432x288 with 1 Axes>"
            ]
          },
          "metadata": {
            "tags": [],
            "needs_background": "light"
          }
        },
        {
          "output_type": "display_data",
          "data": {
            "image/png": "[encoded data removed]",
            "text/plain": [
              "<Figure size 432x288 with 1 Axes>"
            ]
          },
          "metadata": {
            "tags": [],
            "needs_background": "light"
          }
        }
      ]
    },
    {
      "cell_type": "code",
      "metadata": {
        "colab": {
          "base_uri": "https://localhost:8080/",
          "height": 958
        },
        "id": "JfKqYKwJLmWM",
        "outputId": "d323bde5-1a14-4978-ab13-9f0d7aa19911"
      },
      "source": [
        "print(\"Dla głębokości 3,4,5\")\n",
        "for max_depth in range(3, 6, 1):\n",
        "    model = RandomForestClassifier(max_depth=max_depth, n_estimators=15)\n",
        "    # dopisałem return_train_score=True bo był key error dla train_score\n",
        "    result = cross_validate(model, X, y, scoring='accuracy', cv=3, return_train_score=True)\n",
        "    # wywołuję zdefiniowaną funkcję plot_result\n",
        "    plot_result(\"Decision Tree: max_depth=%s\" % max_depth, result)"
      ],
      "execution_count": null,
      "outputs": [
        {
          "output_type": "stream",
          "text": [
            "Dla głębokości 3,4,5\n"
          ],
          "name": "stdout"
        },
        {
          "output_type": "display_data",
          "data": {
            "image/png": "[encoded data removed]",
            "text/plain": [
              "<Figure size 432x288 with 1 Axes>"
            ]
          },
          "metadata": {
            "tags": [],
            "needs_background": "light"
          }
        },
        {
          "output_type": "display_data",
          "data": {
            "image/png": "[encoded data removed]",
            "text/plain": [
              "<Figure size 432x288 with 1 Axes>"
            ]
          },
          "metadata": {
            "tags": [],
            "needs_background": "light"
          }
        },
        {
          "output_type": "display_data",
          "data": {
            "image/png": "[encoded data removed]",
            "text/plain": [
              "<Figure size 432x288 with 1 Axes>"
            ]
          },
          "metadata": {
            "tags": [],
            "needs_background": "light"
          }
        }
      ]
    },
    {
      "cell_type": "code",
      "metadata": {
        "colab": {
          "base_uri": "https://localhost:8080/"
        },
        "id": "1EiOTFv8MAoe",
        "outputId": "73927c7f-80f8-4a20-a9c9-16f02550a40e"
      },
      "source": [
        "print(\"Zapis do pliku fr_md4_ne15.csv\")\n",
        "model = RandomForestClassifier(max_depth=4, n_estimators=15, random_state=2018)\n",
        "make_prediction(df_train, df_test, model, 'rf_md4_ne15.csv')"
      ],
      "execution_count": null,
      "outputs": [
        {
          "output_type": "stream",
          "text": [
            "Zapis do pliku fr_md4_ne15.csv\n",
            "\n",
            "X_train z funkcji make_prediction\n",
            "[[3 1 0 0 0]\n",
            " [1 1 0 1 1]\n",
            " [3 0 0 1 0]\n",
            " ...\n",
            " [3 1 2 1 0]\n",
            " [1 0 0 0 1]\n",
            " [3 0 0 0 2]]\n",
            "\n",
            "y_train z funkcji make_prediction\n",
            "[0 1 1 1 0 0 0 0 1 1 1 1 0 0 0 1 0 1 0 1 0 1 1 1 0 1 0 0 1 0 0 1 1 0 0 0 1\n",
            " 0 0 1 0 0 0 1 1 0 0 1 0 0 0 0 1 1 0 1 1 0 1 0 0 1 0 0 0 1 1 0 1 0 0 0 0 0\n",
            " 1 0 0 0 1 1 0 1 1 0 1 1 0 0 1 0 0 0 0 0 0 0 0 1 1 0 0 0 0 0 0 0 1 1 0 1 0\n",
            " 0 0 0 0 0 0 0 0 0 0 0 0 1 0 1 0 1 1 0 0 0 0 1 0 0 1 0 0 0 0 1 1 0 0 0 1 0\n",
            " 0 0 0 1 0 0 0 0 1 0 0 0 0 1 0 0 0 1 1 0 0 0 0 0 1 0 0 0 0 0 0 0 0 0 0 1 1\n",
            " 0 1 1 0 0 1 0 1 1 1 1 0 0 1 0 0 0 0 0 1 0 0 1 1 1 0 1 0 0 0 1 1 0 1 0 1 0\n",
            " 0 0 1 0 1 0 0 0 1 0 0 1 0 0 0 1 0 0 0 1 0 0 0 0 0 1 1 0 0 0 0 0 0 1 1 1 1\n",
            " 1 0 1 0 0 0 0 0 1 1 1 0 1 1 0 1 1 0 0 0 1 0 0 0 1 0 0 1 0 1 1 1 1 0 0 0 0\n",
            " 0 0 1 1 1 1 0 1 0 1 1 1 0 1 1 1 0 0 0 1 1 0 1 1 0 0 1 1 0 1 0 1 1 1 1 0 0\n",
            " 0 1 0 0 1 1 0 1 1 0 0 0 1 1 1 1 0 0 0 0 0 0 0 1 0 1 1 0 0 0 0 0 0 1 1 1 1\n",
            " 1 0 0 0 0 1 1 0 0 0 1 1 0 1 0 0 0 1 0 1 1 1 0 1 1 0 0 0 0 1 1 0 0 0 0 0 0\n",
            " 1 0 0 0 0 1 0 1 0 1 1 0 0 0 0 0 0 0 0 1 1 0 1 1 1 1 0 0 1 0 1 0 0 1 0 0 1\n",
            " 1 1 1 1 1 1 0 0 0 1 0 1 0 1 1 0 1 0 0 0 0 0 0 0 0 1 0 0 1 1 0 0 0 0 0 1 0\n",
            " 0 0 1 1 0 1 0 0 1 0 0 0 0 0 0 1 0 0 0 0 0 0 0 1 0 1 1 0 1 1 0 1 1 0 0 1 0\n",
            " 1 0 1 0 0 1 0 0 1 0 0 0 1 0 0 1 0 1 0 1 0 1 1 0 0 1 0 0 1 1 0 1 1 0 0 1 1\n",
            " 0 1 0 1 1 0 0 0 0 0 0 0 0 0 1 1 1 1 1 0 0 1 1 0 1 1 1 0 0 0 1 0 1 0 0 0 1\n",
            " 0 0 0 0 1 0 0 1 1 0 0 0 1 0 0 1 1 1 0 0 1 0 0 1 0 0 1 0 0 1 1 0 0 0 0 1 0\n",
            " 0 1 0 1 0 0 1 0 0 0 0 0 1 0 1 1 1 0 1 0 1 0 1 0 1 0 0 0 0 0 0 1 0 0 0 1 0\n",
            " 0 0 0 1 1 0 0 1 0 0 0 1 0 1 0 1 0 0 0 0 0 0 0 1 1 1 1 0 0 0 0 1 0 0 1 1 0\n",
            " 0 0 0 1 1 1 1 1 0 1 0 0 0 1 1 0 0 1 0 0 0 1 0 1 1 0 0 1 0 0 0 0 0 0 1 0 0\n",
            " 1 0 1 0 1 0 0 1 0 0 1 1 0 0 1 1 0 0 0 1 0 0 1 1 0 1 0 0 0 0 0 0 0 0 1 0 0\n",
            " 1 0 1 1 1 0 0 0 0 1 0 1 0 0 0 0 0 0 0 1 1 0 0 0 1 1 1 1 0 0 0 0 1 0 0 0 0\n",
            " 0 0 0 0 0 0 1 1 0 1 0 0 0 1 1 1 1 1 0 0 0 1 0 0 1 1 0 0 1 0 0 0 0 0 0 1 0\n",
            " 0 0 1 0 1 1 1 1 0 0 0 1 0 0 1 1 0 0 1 0 1 0 0 1 1 0 0 0 1 1 0 0 0 0 0 0 1\n",
            " 0 1 0]\n",
            "\n",
            "X_test z funkcji make_prediction\n",
            "     Pclass  SibSp  Parch  sex_cat  embarked_cat\n",
            "0         3      0      0        0             0\n",
            "1         3      1      0        1             1\n",
            "2         2      0      0        0             0\n",
            "3         3      0      0        0             1\n",
            "4         3      1      1        1             1\n",
            "..      ...    ...    ...      ...           ...\n",
            "413       3      0      0        0             1\n",
            "414       1      0      0        1             2\n",
            "415       3      0      0        0             1\n",
            "416       3      0      0        0             1\n",
            "417       3      1      1        0             2\n",
            "\n",
            "[418 rows x 5 columns]\n",
            "RandomForestClassifier(bootstrap=True, ccp_alpha=0.0, class_weight=None,\n",
            "                       criterion='gini', max_depth=4, max_features='auto',\n",
            "                       max_leaf_nodes=None, max_samples=None,\n",
            "                       min_impurity_decrease=0.0, min_impurity_split=None,\n",
            "                       min_samples_leaf=1, min_samples_split=2,\n",
            "                       min_weight_fraction_leaf=0.0, n_estimators=15,\n",
            "                       n_jobs=None, oob_score=False, random_state=2018,\n",
            "                       verbose=0, warm_start=False)\n"
          ],
          "name": "stdout"
        }
      ]
    },
    {
      "cell_type": "markdown",
      "metadata": {
        "id": "sMoRYcIyMabR"
      },
      "source": [
        "## **Feature Engineering**"
      ]
    },
    {
      "cell_type": "markdown",
      "metadata": {
        "id": "99SyQFmpMn1z"
      },
      "source": [
        "### **Titles**"
      ]
    },
    {
      "cell_type": "code",
      "metadata": {
        "id": "rkK-oxh7NXuK",
        "colab": {
          "base_uri": "https://localhost:8080/"
        },
        "outputId": "adeac3fc-8eca-45d3-b989-306e06cc4445"
      },
      "source": [
        "print(\"Przypomninie kolumny Name\")\n",
        "df_train[\"Name\"]"
      ],
      "execution_count": null,
      "outputs": [
        {
          "output_type": "stream",
          "text": [
            "Przypomninie kolumny Name\n"
          ],
          "name": "stdout"
        },
        {
          "output_type": "execute_result",
          "data": {
            "text/plain": [
              "0                                Braund, Mr. Owen Harris\n",
              "1      Cumings, Mrs. John Bradley (Florence Briggs Th...\n",
              "2                                 Heikkinen, Miss. Laina\n",
              "3           Futrelle, Mrs. Jacques Heath (Lily May Peel)\n",
              "4                               Allen, Mr. William Henry\n",
              "                             ...                        \n",
              "886                                Montvila, Rev. Juozas\n",
              "887                         Graham, Miss. Margaret Edith\n",
              "888             Johnston, Miss. Catherine Helen \"Carrie\"\n",
              "889                                Behr, Mr. Karl Howell\n",
              "890                                  Dooley, Mr. Patrick\n",
              "Name: Name, Length: 891, dtype: object"
            ]
          },
          "metadata": {
            "tags": []
          },
          "execution_count": 1600
        }
      ]
    },
    {
      "cell_type": "code",
      "metadata": {
        "colab": {
          "base_uri": "https://localhost:8080/"
        },
        "id": "lFJf4wK-Mxao",
        "outputId": "995206c9-6583-432a-ff09-51641a35efa8"
      },
      "source": [
        "print(\"Tytuły honorowe w df_train\")\n",
        "df_train['Name'].map(lambda x: x.split(',')[1].split('.')[0].lower() ).value_counts()"
      ],
      "execution_count": null,
      "outputs": [
        {
          "output_type": "stream",
          "text": [
            "Tytuły honorowe w df_train\n"
          ],
          "name": "stdout"
        },
        {
          "output_type": "execute_result",
          "data": {
            "text/plain": [
              " mr              517\n",
              " miss            182\n",
              " mrs             125\n",
              " master           40\n",
              " dr                7\n",
              " rev               6\n",
              " major             2\n",
              " mlle              2\n",
              " col               2\n",
              " don               1\n",
              " lady              1\n",
              " jonkheer          1\n",
              " sir               1\n",
              " mme               1\n",
              " the countess      1\n",
              " ms                1\n",
              " capt              1\n",
              "Name: Name, dtype: int64"
            ]
          },
          "metadata": {
            "tags": []
          },
          "execution_count": 1601
        }
      ]
    },
    {
      "cell_type": "code",
      "metadata": {
        "id": "gXYGSqtMNCXT",
        "colab": {
          "base_uri": "https://localhost:8080/"
        },
        "outputId": "a87d3d18-1536-4f0b-8c90-518c7eafa838"
      },
      "source": [
        "print(\"Tytuły honorowe w df_test\")\n",
        "df_test['Name'].map(lambda x: x.split(',')[1].split('.')[0].lower() ).value_counts()\n",
        "print(\"Jest tytuł dona, którego nie ma w df_train. Dlatego trzeba połączyć w df_all.\")"
      ],
      "execution_count": null,
      "outputs": [
        {
          "output_type": "stream",
          "text": [
            "Tytuły honorowe w df_test\n",
            "Jest tytuł dona, którego nie ma w df_train. Dlatego trzeba połączyć w df_all.\n"
          ],
          "name": "stdout"
        }
      ]
    },
    {
      "cell_type": "code",
      "metadata": {
        "colab": {
          "base_uri": "https://localhost:8080/"
        },
        "id": "1XQ9ErV2Wxvx",
        "outputId": "85182ccb-39f7-42a6-aa1d-1d827a7bcf2e"
      },
      "source": [
        "print(\"Tytuły honorowe w df_all\")\n",
        "df_all['Name'].map(lambda x: x.split(',')[1].split('.')[0].lower() ).value_counts()"
      ],
      "execution_count": null,
      "outputs": [
        {
          "output_type": "stream",
          "text": [
            "Tytuły honorowe w df_all\n"
          ],
          "name": "stdout"
        },
        {
          "output_type": "execute_result",
          "data": {
            "text/plain": [
              " mr              757\n",
              " miss            260\n",
              " mrs             197\n",
              " master           61\n",
              " dr                8\n",
              " rev               8\n",
              " col               4\n",
              " mlle              2\n",
              " ms                2\n",
              " major             2\n",
              " capt              1\n",
              " don               1\n",
              " sir               1\n",
              " lady              1\n",
              " jonkheer          1\n",
              " mme               1\n",
              " the countess      1\n",
              " dona              1\n",
              "Name: Name, dtype: int64"
            ]
          },
          "metadata": {
            "tags": []
          },
          "execution_count": 1603
        }
      ]
    },
    {
      "cell_type": "code",
      "metadata": {
        "colab": {
          "base_uri": "https://localhost:8080/"
        },
        "id": "QXqE6IIzXTUu",
        "outputId": "b88b8407-de5a-4e51-d011-0ac45ade8874"
      },
      "source": [
        "popular_titles = [\"mr\", \"miss\", \"mrs\", \"master\", \"dr\", \"rev\"]\n",
        "df_all['Name'].map(lambda x: x.split(',')[1].split('.')[0].lower().strip() ).map(lambda x: x if x in popular_titles else \"other\").value_counts()"
      ],
      "execution_count": null,
      "outputs": [
        {
          "output_type": "execute_result",
          "data": {
            "text/plain": [
              "mr        757\n",
              "miss      260\n",
              "mrs       197\n",
              "master     61\n",
              "other      18\n",
              "dr          8\n",
              "rev         8\n",
              "Name: Name, dtype: int64"
            ]
          },
          "metadata": {
            "tags": []
          },
          "execution_count": 1604
        }
      ]
    },
    {
      "cell_type": "code",
      "metadata": {
        "id": "SWNSwrh4Xg2n"
      },
      "source": [
        "def feature_title(df):\n",
        "    # Tworzy nową kolumnę title\n",
        "    df['title'] = df['Name'].map(lambda x: x.split(',')[1].split('.')[0].lower().strip() )\n",
        "    popular_titles = [\"mr\", \"miss\", \"mrs\", \"master\", \"dr\", \"rev\"]\n",
        "    # rzadkie tytuły wrzuca do other\n",
        "    df['title_norm'] = df['title'].map(lambda x: x if x in popular_titles else \"other\")\n",
        "    # koduje tytuły na cyfry\n",
        "    df['title_norm_cat'] = pd.factorize( df['title_norm'] )[0]  \n",
        "    \n",
        "    return df"
      ],
      "execution_count": null,
      "outputs": []
    },
    {
      "cell_type": "code",
      "metadata": {
        "colab": {
          "base_uri": "https://localhost:8080/"
        },
        "id": "tHf52qU2Y7WV",
        "outputId": "bfabd0f2-d50f-4b90-978c-fea2be251094"
      },
      "source": [
        "df = feature_title(df_all)\n",
        "# rozkład wartości kolumny title_norm\n",
        "df['title_norm'].value_counts()"
      ],
      "execution_count": null,
      "outputs": [
        {
          "output_type": "execute_result",
          "data": {
            "text/plain": [
              "mr        757\n",
              "miss      260\n",
              "mrs       197\n",
              "master     61\n",
              "other      18\n",
              "dr          8\n",
              "rev         8\n",
              "Name: title_norm, dtype: int64"
            ]
          },
          "metadata": {
            "tags": []
          },
          "execution_count": 1606
        }
      ]
    },
    {
      "cell_type": "markdown",
      "metadata": {
        "id": "BgNbl7TfZD4I"
      },
      "source": [
        "### **Cabin**"
      ]
    },
    {
      "cell_type": "code",
      "metadata": {
        "colab": {
          "base_uri": "https://localhost:8080/"
        },
        "id": "PtAOM0Z2ZJXV",
        "outputId": "b6f6a1a5-01ea-4fb0-cd9e-19315b8adf85"
      },
      "source": [
        "# jeśli pasażer w cabin ma nan, to wpisz missing. Jeśli ma kabinę to pobierz pierwszą literę\n",
        "# Następnie wyświetl rozkład poprzez value_counts()\n",
        "df_all['Cabin'].map(lambda x: 'missing' if str(x) == 'nan' else x[0] ).value_counts()"
      ],
      "execution_count": null,
      "outputs": [
        {
          "output_type": "execute_result",
          "data": {
            "text/plain": [
              "missing    1014\n",
              "C            94\n",
              "B            65\n",
              "D            46\n",
              "E            41\n",
              "A            22\n",
              "F            21\n",
              "G             5\n",
              "T             1\n",
              "Name: Cabin, dtype: int64"
            ]
          },
          "metadata": {
            "tags": []
          },
          "execution_count": 1607
        }
      ]
    },
    {
      "cell_type": "markdown",
      "metadata": {
        "id": "T2bIZX70Z9W3"
      },
      "source": [
        "### **Family relationships**"
      ]
    },
    {
      "cell_type": "code",
      "metadata": {
        "colab": {
          "base_uri": "https://localhost:8080/"
        },
        "id": "TPoOWdf9Z-6j",
        "outputId": "2918dc28-bd82-44e6-edf5-eba137c0e451"
      },
      "source": [
        "# suma parents, children, sibliding i spouse. Rozkład tej sumy\n",
        "df_all.apply(lambda x: x['Parch'] + x['SibSp'], axis=1).value_counts()"
      ],
      "execution_count": null,
      "outputs": [
        {
          "output_type": "execute_result",
          "data": {
            "text/plain": [
              "0     790\n",
              "1     235\n",
              "2     159\n",
              "3      43\n",
              "5      25\n",
              "4      22\n",
              "6      16\n",
              "10     11\n",
              "7       8\n",
              "dtype: int64"
            ]
          },
          "metadata": {
            "tags": []
          },
          "execution_count": 1608
        }
      ]
    },
    {
      "cell_type": "markdown",
      "metadata": {
        "id": "dqwoqLaecEcU"
      },
      "source": [
        "### **Age**"
      ]
    },
    {
      "cell_type": "code",
      "metadata": {
        "colab": {
          "base_uri": "https://localhost:8080/"
        },
        "id": "2mwDhIaFcGYD",
        "outputId": "85997235-05e3-41dc-9cf3-287fd7cf5324"
      },
      "source": [
        "print(df_all.shape)\n",
        "print(df_all.Age.describe())\n",
        "print(\"Obliczyłem jest osób, u których nie podano wieku\")\n",
        "print(df_all.shape[0], \"-\", df_all.Age.describe()[0], \"=\", df_all.shape[0]-df_all.Age.describe()[0])"
      ],
      "execution_count": null,
      "outputs": [
        {
          "output_type": "stream",
          "text": [
            "(1309, 15)\n",
            "count    1046.000000\n",
            "mean       29.881138\n",
            "std        14.413493\n",
            "min         0.170000\n",
            "25%        21.000000\n",
            "50%        28.000000\n",
            "75%        39.000000\n",
            "max        80.000000\n",
            "Name: Age, dtype: float64\n",
            "Obliczyłem jest osób, u których nie podano wieku\n",
            "1309 - 1046.0 = 263.0\n"
          ],
          "name": "stdout"
        }
      ]
    },
    {
      "cell_type": "code",
      "metadata": {
        "colab": {
          "base_uri": "https://localhost:8080/"
        },
        "id": "t7FzXkhcdYWn",
        "outputId": "3764d9dd-cfba-4da8-fed1-6f29dc69325e"
      },
      "source": [
        "print(\"Dodaje trzy kolumny o tytułach.\")\n",
        "df = feature_title(df_all)\n",
        "print(df)\n",
        "\n",
        "print()\n",
        "print(\"Rozkład kolumny wiek. Jest dużo pustych.\")\n",
        "print(\"On chce wypełnić je medianami dla danego tytułu honorowego.\")\n",
        "print(df[\"Age\"].value_counts())\n",
        "print(df.info())\n",
        "\n",
        "print()\n",
        "print(\"Kolumna title_norm ma tytuły mr, miss, mrs, master, dr, rev, other.\")\n",
        "print(\"Grupuje tytuły z title_norm po wieku i liczy dla nich średnią i medianę.\")\n",
        "print(\"Następnie wyniki mediany wieku zapisuje do słownika.\")\n",
        "print(\"Nazwał missing_ages bo tymi wartościami wypełni brakujące lata wśród osób o danym tytule.\")\n",
        "missing_ages = df.groupby('title_norm')['Age'].agg([np.mean, np.median]).to_dict()['median']\n",
        "print(missing_ages)\n",
        "\n",
        "print()\n",
        "print(\"Zapisuje nową kolumnę Age, w której puste lata są wypełnione medianami dla danego tytułu honorowego.\")\n",
        "df['Age'] = df.apply( lambda x: x['Age'] if str(x['Age']) != 'nan' else missing_ages[x['title_norm']], axis=1)\n",
        "print(df[\"Age\"])\n",
        "\n",
        "print()\n",
        "print(\"Rozkład kolumny wiek. Już nie ma pustych\")\n",
        "print(df[\"Age\"].value_counts())\n",
        "print(df.info())"
      ],
      "execution_count": null,
      "outputs": [
        {
          "output_type": "stream",
          "text": [
            "Dodaje trzy kolumny o tytułach.\n",
            "     PassengerId  Survived  Pclass  ...   title title_norm  title_norm_cat\n",
            "0              1         0       3  ...      mr         mr               0\n",
            "1              2         1       1  ...     mrs        mrs               1\n",
            "2              3         1       3  ...    miss       miss               2\n",
            "3              4         1       1  ...     mrs        mrs               1\n",
            "4              5         0       3  ...      mr         mr               0\n",
            "..           ...       ...     ...  ...     ...        ...             ...\n",
            "413         1305         0       3  ...      mr         mr               0\n",
            "414         1306         1       1  ...    dona      other               4\n",
            "415         1307         1       3  ...      mr         mr               0\n",
            "416         1308         1       3  ...      mr         mr               0\n",
            "417         1309         0       3  ...  master     master               3\n",
            "\n",
            "[1309 rows x 15 columns]\n",
            "\n",
            "Rozkład kolumny wiek. Jest dużo pustych.\n",
            "On chce wypełnić je medianami dla danego tytułu honorowego.\n",
            "24.00    47\n",
            "22.00    43\n",
            "21.00    41\n",
            "30.00    40\n",
            "18.00    39\n",
            "         ..\n",
            "76.00     1\n",
            "22.50     1\n",
            "74.00     1\n",
            "80.00     1\n",
            "0.67      1\n",
            "Name: Age, Length: 98, dtype: int64\n",
            "<class 'pandas.core.frame.DataFrame'>\n",
            "Int64Index: 1309 entries, 0 to 417\n",
            "Data columns (total 15 columns):\n",
            " #   Column          Non-Null Count  Dtype  \n",
            "---  ------          --------------  -----  \n",
            " 0   PassengerId     1309 non-null   int64  \n",
            " 1   Survived        1309 non-null   int64  \n",
            " 2   Pclass          1309 non-null   int64  \n",
            " 3   Name            1309 non-null   object \n",
            " 4   Sex             1309 non-null   object \n",
            " 5   Age             1046 non-null   float64\n",
            " 6   SibSp           1309 non-null   int64  \n",
            " 7   Parch           1309 non-null   int64  \n",
            " 8   Ticket          1309 non-null   object \n",
            " 9   Fare            1308 non-null   float64\n",
            " 10  Cabin           295 non-null    object \n",
            " 11  Embarked        1307 non-null   object \n",
            " 12  title           1309 non-null   object \n",
            " 13  title_norm      1309 non-null   object \n",
            " 14  title_norm_cat  1309 non-null   int64  \n",
            "dtypes: float64(2), int64(6), object(7)\n",
            "memory usage: 163.6+ KB\n",
            "None\n",
            "\n",
            "Kolumna title_norm ma tytuły mr, miss, mrs, master, dr, rev, other.\n",
            "Grupuje tytuły z title_norm po wieku i liczy dla nich średnią i medianę.\n",
            "Następnie wyniki mediany wieku zapisuje do słownika.\n",
            "Nazwał missing_ages bo tymi wartościami wypełni brakujące lata wśród osób o danym tytule.\n",
            "{'dr': 49.0, 'master': 4.0, 'miss': 22.0, 'mr': 29.0, 'mrs': 35.5, 'other': 45.0, 'rev': 41.5}\n",
            "\n",
            "Zapisuje nową kolumnę Age, w której puste lata są wypełnione medianami dla danego tytułu honorowego.\n",
            "0      22.0\n",
            "1      38.0\n",
            "2      26.0\n",
            "3      35.0\n",
            "4      35.0\n",
            "       ... \n",
            "413    29.0\n",
            "414    39.0\n",
            "415    38.5\n",
            "416    29.0\n",
            "417     4.0\n",
            "Name: Age, Length: 1309, dtype: float64\n",
            "\n",
            "Rozkład kolumny wiek. Już nie ma pustych\n",
            "29.00    206\n",
            "22.00     93\n",
            "24.00     47\n",
            "21.00     41\n",
            "30.00     40\n",
            "        ... \n",
            "23.50      1\n",
            "22.50      1\n",
            "74.00      1\n",
            "24.50      1\n",
            "0.67       1\n",
            "Name: Age, Length: 99, dtype: int64\n",
            "<class 'pandas.core.frame.DataFrame'>\n",
            "Int64Index: 1309 entries, 0 to 417\n",
            "Data columns (total 15 columns):\n",
            " #   Column          Non-Null Count  Dtype  \n",
            "---  ------          --------------  -----  \n",
            " 0   PassengerId     1309 non-null   int64  \n",
            " 1   Survived        1309 non-null   int64  \n",
            " 2   Pclass          1309 non-null   int64  \n",
            " 3   Name            1309 non-null   object \n",
            " 4   Sex             1309 non-null   object \n",
            " 5   Age             1309 non-null   float64\n",
            " 6   SibSp           1309 non-null   int64  \n",
            " 7   Parch           1309 non-null   int64  \n",
            " 8   Ticket          1309 non-null   object \n",
            " 9   Fare            1308 non-null   float64\n",
            " 10  Cabin           295 non-null    object \n",
            " 11  Embarked        1307 non-null   object \n",
            " 12  title           1309 non-null   object \n",
            " 13  title_norm      1309 non-null   object \n",
            " 14  title_norm_cat  1309 non-null   int64  \n",
            "dtypes: float64(2), int64(6), object(7)\n",
            "memory usage: 203.6+ KB\n",
            "None\n"
          ],
          "name": "stdout"
        }
      ]
    },
    {
      "cell_type": "code",
      "metadata": {
        "colab": {
          "base_uri": "https://localhost:8080/"
        },
        "id": "d2rpcOW9FONy",
        "outputId": "9d970ab3-733d-4b31-e2f4-d099a5a306c8"
      },
      "source": [
        "print(\"Przedziały wiekowe\")\r\n",
        "age_bins = [0, 1, 3, 5, 9, 15, 20, 40, 60, 100]\r\n",
        "pd.cut(df[\"Age\"], bins=age_bins).astype(object).value_counts()"
      ],
      "execution_count": null,
      "outputs": [
        {
          "output_type": "stream",
          "text": [
            "Przedziały wiekowe\n"
          ],
          "name": "stdout"
        },
        {
          "output_type": "execute_result",
          "data": {
            "text/plain": [
              "(20, 40]     824\n",
              "(40, 60]     196\n",
              "(15, 20]     133\n",
              "(9, 15]       33\n",
              "(60, 100]     33\n",
              "(5, 9]        26\n",
              "(3, 5]        23\n",
              "(0, 1]        22\n",
              "(1, 3]        19\n",
              "Name: Age, dtype: int64"
            ]
          },
          "metadata": {
            "tags": []
          },
          "execution_count": 1611
        }
      ]
    },
    {
      "cell_type": "markdown",
      "metadata": {
        "id": "yV76TWhRFeUr"
      },
      "source": [
        "### **Fare**"
      ]
    },
    {
      "cell_type": "code",
      "metadata": {
        "colab": {
          "base_uri": "https://localhost:8080/"
        },
        "id": "mO7iczkmFkfM",
        "outputId": "314ee758-18f3-4dae-813a-1e78f91ea10a"
      },
      "source": [
        "print(\"Rozkład opłat za bilet\")\r\n",
        "print(df_all.shape)\r\n",
        "print(df[\"Fare\"].value_counts())\r\n",
        "print(df_all['Fare'].describe())"
      ],
      "execution_count": null,
      "outputs": [
        {
          "output_type": "stream",
          "text": [
            "Rozkład opłat za bilet\n",
            "(1309, 15)\n",
            "8.0500     60\n",
            "13.0000    59\n",
            "7.7500     55\n",
            "26.0000    50\n",
            "7.8958     49\n",
            "           ..\n",
            "33.5000     1\n",
            "7.8000      1\n",
            "26.3875     1\n",
            "15.5792     1\n",
            "7.1417      1\n",
            "Name: Fare, Length: 281, dtype: int64\n",
            "count    1308.000000\n",
            "mean       33.295479\n",
            "std        51.758668\n",
            "min         0.000000\n",
            "25%         7.895800\n",
            "50%        14.454200\n",
            "75%        31.275000\n",
            "max       512.329200\n",
            "Name: Fare, dtype: float64\n"
          ],
          "name": "stdout"
        }
      ]
    },
    {
      "cell_type": "code",
      "metadata": {
        "colab": {
          "base_uri": "https://localhost:8080/",
          "height": 282
        },
        "id": "BBNuvIgAF0LU",
        "outputId": "1cda367b-6854-46ed-fc9b-d2d626ce01bc"
      },
      "source": [
        "print(\"Histogram dla 100 klas\")\r\n",
        "df_all['Fare'].hist(bins=100);"
      ],
      "execution_count": null,
      "outputs": [
        {
          "output_type": "stream",
          "text": [
            "Histogram dla 100 klas\n"
          ],
          "name": "stdout"
        },
        {
          "output_type": "display_data",
          "data": {
            "image/png": "[encoded data removed]",
            "text/plain": [
              "<Figure size 432x288 with 1 Axes>"
            ]
          },
          "metadata": {
            "tags": [],
            "needs_background": "light"
          }
        }
      ]
    },
    {
      "cell_type": "code",
      "metadata": {
        "colab": {
          "base_uri": "https://localhost:8080/",
          "height": 300
        },
        "id": "8b9s-TEFGZ7d",
        "outputId": "33a9c480-1fde-498e-d152-f6ad16cb70d4"
      },
      "source": [
        "print(\"Skala logarytmiczna\")\r\n",
        "np.log2( df_all['Fare'] + 1 ).hist(bins=100)"
      ],
      "execution_count": null,
      "outputs": [
        {
          "output_type": "stream",
          "text": [
            "Skala logarytmiczna\n"
          ],
          "name": "stdout"
        },
        {
          "output_type": "execute_result",
          "data": {
            "text/plain": [
              "<matplotlib.axes._subplots.AxesSubplot at 0x7fcd5f1d5518>"
            ]
          },
          "metadata": {
            "tags": []
          },
          "execution_count": 1614
        },
        {
          "output_type": "display_data",
          "data": {
            "image/png": "[encoded data removed]",
            "text/plain": [
              "<Figure size 432x288 with 1 Axes>"
            ]
          },
          "metadata": {
            "tags": [],
            "needs_background": "light"
          }
        }
      ]
    },
    {
      "cell_type": "markdown",
      "metadata": {
        "id": "M77QD9oxGl7-"
      },
      "source": [
        "### **Cabin**"
      ]
    },
    {
      "cell_type": "code",
      "metadata": {
        "colab": {
          "base_uri": "https://localhost:8080/"
        },
        "id": "kxm23bMsGpCq",
        "outputId": "75e296df-df27-4c71-8965-7e9eacc91202"
      },
      "source": [
        "df = df_all.copy()\r\n",
        "# unikalne wartości kabin\r\n",
        "print(df['Cabin'].unique())\r\n",
        "print()\r\n",
        "# jeśli nie ma kabiny to wpisz missing, a jeśli ma to pobierz pierwszą literę\r\n",
        "df['cabin_norm'] = df['Cabin'].map(lambda x: 'missing' if str(x) == 'nan' else x[0] )\r\n",
        "print(df[\"cabin_norm\"])\r\n",
        "print()\r\n",
        "# rozkład nowej kolumny\r\n",
        "print(df.cabin_norm.value_counts())"
      ],
      "execution_count": null,
      "outputs": [
        {
          "output_type": "stream",
          "text": [
            "[nan 'C85' 'C123' 'E46' 'G6' 'C103' 'D56' 'A6' 'C23 C25 C27' 'B78' 'D33'\n",
            " 'B30' 'C52' 'B28' 'C83' 'F33' 'F G73' 'E31' 'A5' 'D10 D12' 'D26' 'C110'\n",
            " 'B58 B60' 'E101' 'F E69' 'D47' 'B86' 'F2' 'C2' 'E33' 'B19' 'A7' 'C49'\n",
            " 'F4' 'A32' 'B4' 'B80' 'A31' 'D36' 'D15' 'C93' 'C78' 'D35' 'C87' 'B77'\n",
            " 'E67' 'B94' 'C125' 'C99' 'C118' 'D7' 'A19' 'B49' 'D' 'C22 C26' 'C106'\n",
            " 'C65' 'E36' 'C54' 'B57 B59 B63 B66' 'C7' 'E34' 'C32' 'B18' 'C124' 'C91'\n",
            " 'E40' 'T' 'C128' 'D37' 'B35' 'E50' 'C82' 'B96 B98' 'E10' 'E44' 'A34'\n",
            " 'C104' 'C111' 'C92' 'E38' 'D21' 'E12' 'E63' 'A14' 'B37' 'C30' 'D20' 'B79'\n",
            " 'E25' 'D46' 'B73' 'C95' 'B38' 'B39' 'B22' 'C86' 'C70' 'A16' 'C101' 'C68'\n",
            " 'A10' 'E68' 'B41' 'A20' 'D19' 'D50' 'D9' 'A23' 'B50' 'A26' 'D48' 'E58'\n",
            " 'C126' 'B71' 'B51 B53 B55' 'D49' 'B5' 'B20' 'F G63' 'C62 C64' 'E24' 'C90'\n",
            " 'C45' 'E8' 'B101' 'D45' 'C46' 'D30' 'E121' 'D11' 'E77' 'F38' 'B3' 'D6'\n",
            " 'B82 B84' 'D17' 'A36' 'B102' 'B69' 'E49' 'C47' 'D28' 'E17' 'A24' 'C50'\n",
            " 'B42' 'C148' 'B45' 'B36' 'A21' 'D34' 'A9' 'C31' 'B61' 'C53' 'D43' 'C130'\n",
            " 'C132' 'C55 C57' 'C116' 'F' 'A29' 'C6' 'C28' 'C51' 'C97' 'D22' 'B10'\n",
            " 'E45' 'E52' 'A11' 'B11' 'C80' 'C89' 'F E46' 'B26' 'F E57' 'A18' 'E60'\n",
            " 'E39 E41' 'B52 B54 B56' 'C39' 'B24' 'D40' 'D38' 'C105']\n",
            "\n",
            "0      missing\n",
            "1            C\n",
            "2      missing\n",
            "3            C\n",
            "4      missing\n",
            "        ...   \n",
            "413    missing\n",
            "414          C\n",
            "415    missing\n",
            "416    missing\n",
            "417    missing\n",
            "Name: cabin_norm, Length: 1309, dtype: object\n",
            "\n",
            "missing    1014\n",
            "C            94\n",
            "B            65\n",
            "D            46\n",
            "E            41\n",
            "A            22\n",
            "F            21\n",
            "G             5\n",
            "T             1\n",
            "Name: cabin_norm, dtype: int64\n"
          ],
          "name": "stdout"
        }
      ]
    },
    {
      "cell_type": "markdown",
      "metadata": {
        "id": "pCgkecGJH5se"
      },
      "source": [
        "### **Ticket**"
      ]
    },
    {
      "cell_type": "code",
      "metadata": {
        "colab": {
          "base_uri": "https://localhost:8080/"
        },
        "id": "gKHNo3beH-TX",
        "outputId": "ad43a5bb-b24a-4324-eee1-ec95d6162db4"
      },
      "source": [
        "df['Ticket'].value_counts()"
      ],
      "execution_count": null,
      "outputs": [
        {
          "output_type": "execute_result",
          "data": {
            "text/plain": [
              "CA. 2343             11\n",
              "1601                  8\n",
              "CA 2144               8\n",
              "3101295               7\n",
              "347077                7\n",
              "                     ..\n",
              "345364                1\n",
              "STON/O 2. 3101273     1\n",
              "STON/O 2. 3101286     1\n",
              "65306                 1\n",
              "233866                1\n",
              "Name: Ticket, Length: 929, dtype: int64"
            ]
          },
          "metadata": {
            "tags": []
          },
          "execution_count": 1616
        }
      ]
    },
    {
      "cell_type": "code",
      "metadata": {
        "colab": {
          "base_uri": "https://localhost:8080/",
          "height": 862
        },
        "id": "0Ls4mvflIGYJ",
        "outputId": "c0223ca5-da0f-4842-9ee6-92e3a5641049"
      },
      "source": [
        "df[ df.Ticket == 'CA. 2343' ]"
      ],
      "execution_count": null,
      "outputs": [
        {
          "output_type": "execute_result",
          "data": {
            "text/html": [
              "<div>\n",
              "<style scoped>\n",
              "    .dataframe tbody tr th:only-of-type {\n",
              "        vertical-align: middle;\n",
              "    }\n",
              "\n",
              "    .dataframe tbody tr th {\n",
              "        vertical-align: top;\n",
              "    }\n",
              "\n",
              "    .dataframe thead th {\n",
              "        text-align: right;\n",
              "    }\n",
              "</style>\n",
              "<table border=\"1\" class=\"dataframe\">\n",
              "  <thead>\n",
              "    <tr style=\"text-align: right;\">\n",
              "      <th></th>\n",
              "      <th>PassengerId</th>\n",
              "      <th>Survived</th>\n",
              "      <th>Pclass</th>\n",
              "      <th>Name</th>\n",
              "      <th>Sex</th>\n",
              "      <th>Age</th>\n",
              "      <th>SibSp</th>\n",
              "      <th>Parch</th>\n",
              "      <th>Ticket</th>\n",
              "      <th>Fare</th>\n",
              "      <th>Cabin</th>\n",
              "      <th>Embarked</th>\n",
              "      <th>title</th>\n",
              "      <th>title_norm</th>\n",
              "      <th>title_norm_cat</th>\n",
              "      <th>cabin_norm</th>\n",
              "    </tr>\n",
              "  </thead>\n",
              "  <tbody>\n",
              "    <tr>\n",
              "      <th>159</th>\n",
              "      <td>160</td>\n",
              "      <td>0</td>\n",
              "      <td>3</td>\n",
              "      <td>Sage, Master. Thomas Henry</td>\n",
              "      <td>male</td>\n",
              "      <td>4.0</td>\n",
              "      <td>8</td>\n",
              "      <td>2</td>\n",
              "      <td>CA. 2343</td>\n",
              "      <td>69.55</td>\n",
              "      <td>NaN</td>\n",
              "      <td>S</td>\n",
              "      <td>master</td>\n",
              "      <td>master</td>\n",
              "      <td>3</td>\n",
              "      <td>missing</td>\n",
              "    </tr>\n",
              "    <tr>\n",
              "      <th>180</th>\n",
              "      <td>181</td>\n",
              "      <td>0</td>\n",
              "      <td>3</td>\n",
              "      <td>Sage, Miss. Constance Gladys</td>\n",
              "      <td>female</td>\n",
              "      <td>22.0</td>\n",
              "      <td>8</td>\n",
              "      <td>2</td>\n",
              "      <td>CA. 2343</td>\n",
              "      <td>69.55</td>\n",
              "      <td>NaN</td>\n",
              "      <td>S</td>\n",
              "      <td>miss</td>\n",
              "      <td>miss</td>\n",
              "      <td>2</td>\n",
              "      <td>missing</td>\n",
              "    </tr>\n",
              "    <tr>\n",
              "      <th>201</th>\n",
              "      <td>202</td>\n",
              "      <td>0</td>\n",
              "      <td>3</td>\n",
              "      <td>Sage, Mr. Frederick</td>\n",
              "      <td>male</td>\n",
              "      <td>29.0</td>\n",
              "      <td>8</td>\n",
              "      <td>2</td>\n",
              "      <td>CA. 2343</td>\n",
              "      <td>69.55</td>\n",
              "      <td>NaN</td>\n",
              "      <td>S</td>\n",
              "      <td>mr</td>\n",
              "      <td>mr</td>\n",
              "      <td>0</td>\n",
              "      <td>missing</td>\n",
              "    </tr>\n",
              "    <tr>\n",
              "      <th>324</th>\n",
              "      <td>325</td>\n",
              "      <td>0</td>\n",
              "      <td>3</td>\n",
              "      <td>Sage, Mr. George John Jr</td>\n",
              "      <td>male</td>\n",
              "      <td>29.0</td>\n",
              "      <td>8</td>\n",
              "      <td>2</td>\n",
              "      <td>CA. 2343</td>\n",
              "      <td>69.55</td>\n",
              "      <td>NaN</td>\n",
              "      <td>S</td>\n",
              "      <td>mr</td>\n",
              "      <td>mr</td>\n",
              "      <td>0</td>\n",
              "      <td>missing</td>\n",
              "    </tr>\n",
              "    <tr>\n",
              "      <th>792</th>\n",
              "      <td>793</td>\n",
              "      <td>0</td>\n",
              "      <td>3</td>\n",
              "      <td>Sage, Miss. Stella Anna</td>\n",
              "      <td>female</td>\n",
              "      <td>22.0</td>\n",
              "      <td>8</td>\n",
              "      <td>2</td>\n",
              "      <td>CA. 2343</td>\n",
              "      <td>69.55</td>\n",
              "      <td>NaN</td>\n",
              "      <td>S</td>\n",
              "      <td>miss</td>\n",
              "      <td>miss</td>\n",
              "      <td>2</td>\n",
              "      <td>missing</td>\n",
              "    </tr>\n",
              "    <tr>\n",
              "      <th>846</th>\n",
              "      <td>847</td>\n",
              "      <td>0</td>\n",
              "      <td>3</td>\n",
              "      <td>Sage, Mr. Douglas Bullen</td>\n",
              "      <td>male</td>\n",
              "      <td>29.0</td>\n",
              "      <td>8</td>\n",
              "      <td>2</td>\n",
              "      <td>CA. 2343</td>\n",
              "      <td>69.55</td>\n",
              "      <td>NaN</td>\n",
              "      <td>S</td>\n",
              "      <td>mr</td>\n",
              "      <td>mr</td>\n",
              "      <td>0</td>\n",
              "      <td>missing</td>\n",
              "    </tr>\n",
              "    <tr>\n",
              "      <th>863</th>\n",
              "      <td>864</td>\n",
              "      <td>0</td>\n",
              "      <td>3</td>\n",
              "      <td>Sage, Miss. Dorothy Edith \"Dolly\"</td>\n",
              "      <td>female</td>\n",
              "      <td>22.0</td>\n",
              "      <td>8</td>\n",
              "      <td>2</td>\n",
              "      <td>CA. 2343</td>\n",
              "      <td>69.55</td>\n",
              "      <td>NaN</td>\n",
              "      <td>S</td>\n",
              "      <td>miss</td>\n",
              "      <td>miss</td>\n",
              "      <td>2</td>\n",
              "      <td>missing</td>\n",
              "    </tr>\n",
              "    <tr>\n",
              "      <th>188</th>\n",
              "      <td>1080</td>\n",
              "      <td>0</td>\n",
              "      <td>3</td>\n",
              "      <td>Sage, Miss. Ada</td>\n",
              "      <td>female</td>\n",
              "      <td>22.0</td>\n",
              "      <td>8</td>\n",
              "      <td>2</td>\n",
              "      <td>CA. 2343</td>\n",
              "      <td>69.55</td>\n",
              "      <td>NaN</td>\n",
              "      <td>S</td>\n",
              "      <td>miss</td>\n",
              "      <td>miss</td>\n",
              "      <td>2</td>\n",
              "      <td>missing</td>\n",
              "    </tr>\n",
              "    <tr>\n",
              "      <th>342</th>\n",
              "      <td>1234</td>\n",
              "      <td>1</td>\n",
              "      <td>3</td>\n",
              "      <td>Sage, Mr. John George</td>\n",
              "      <td>male</td>\n",
              "      <td>29.0</td>\n",
              "      <td>1</td>\n",
              "      <td>9</td>\n",
              "      <td>CA. 2343</td>\n",
              "      <td>69.55</td>\n",
              "      <td>NaN</td>\n",
              "      <td>S</td>\n",
              "      <td>mr</td>\n",
              "      <td>mr</td>\n",
              "      <td>0</td>\n",
              "      <td>missing</td>\n",
              "    </tr>\n",
              "    <tr>\n",
              "      <th>360</th>\n",
              "      <td>1252</td>\n",
              "      <td>0</td>\n",
              "      <td>3</td>\n",
              "      <td>Sage, Master. William Henry</td>\n",
              "      <td>male</td>\n",
              "      <td>14.5</td>\n",
              "      <td>8</td>\n",
              "      <td>2</td>\n",
              "      <td>CA. 2343</td>\n",
              "      <td>69.55</td>\n",
              "      <td>NaN</td>\n",
              "      <td>S</td>\n",
              "      <td>master</td>\n",
              "      <td>master</td>\n",
              "      <td>3</td>\n",
              "      <td>missing</td>\n",
              "    </tr>\n",
              "    <tr>\n",
              "      <th>365</th>\n",
              "      <td>1257</td>\n",
              "      <td>0</td>\n",
              "      <td>3</td>\n",
              "      <td>Sage, Mrs. John (Annie Bullen)</td>\n",
              "      <td>female</td>\n",
              "      <td>35.5</td>\n",
              "      <td>1</td>\n",
              "      <td>9</td>\n",
              "      <td>CA. 2343</td>\n",
              "      <td>69.55</td>\n",
              "      <td>NaN</td>\n",
              "      <td>S</td>\n",
              "      <td>mrs</td>\n",
              "      <td>mrs</td>\n",
              "      <td>1</td>\n",
              "      <td>missing</td>\n",
              "    </tr>\n",
              "  </tbody>\n",
              "</table>\n",
              "</div>"
            ],
            "text/plain": [
              "     PassengerId  Survived  Pclass  ... title_norm title_norm_cat  cabin_norm\n",
              "159          160         0       3  ...     master              3     missing\n",
              "180          181         0       3  ...       miss              2     missing\n",
              "201          202         0       3  ...         mr              0     missing\n",
              "324          325         0       3  ...         mr              0     missing\n",
              "792          793         0       3  ...       miss              2     missing\n",
              "846          847         0       3  ...         mr              0     missing\n",
              "863          864         0       3  ...       miss              2     missing\n",
              "188         1080         0       3  ...       miss              2     missing\n",
              "342         1234         1       3  ...         mr              0     missing\n",
              "360         1252         0       3  ...     master              3     missing\n",
              "365         1257         0       3  ...        mrs              1     missing\n",
              "\n",
              "[11 rows x 16 columns]"
            ]
          },
          "metadata": {
            "tags": []
          },
          "execution_count": 1617
        }
      ]
    },
    {
      "cell_type": "markdown",
      "metadata": {
        "id": "w-26RQ7eIMHi"
      },
      "source": [
        "### **Last name**"
      ]
    },
    {
      "cell_type": "code",
      "metadata": {
        "colab": {
          "base_uri": "https://localhost:8080/"
        },
        "id": "yILkxDqhIO8l",
        "outputId": "d0f55be7-cfc7-4e4d-808d-603784f53d6e"
      },
      "source": [
        "print(\"Przypomnienie Name\")\r\n",
        "print(df_all[\"Name\"])\r\n",
        "\r\n",
        "print()\r\n",
        "print(\"Same nazwiska\")\r\n",
        "print(df_all['Name'].map(lambda x: x.split(',')[0]).value_counts())"
      ],
      "execution_count": null,
      "outputs": [
        {
          "output_type": "stream",
          "text": [
            "Przypomnienie Name\n",
            "0                                Braund, Mr. Owen Harris\n",
            "1      Cumings, Mrs. John Bradley (Florence Briggs Th...\n",
            "2                                 Heikkinen, Miss. Laina\n",
            "3           Futrelle, Mrs. Jacques Heath (Lily May Peel)\n",
            "4                               Allen, Mr. William Henry\n",
            "                             ...                        \n",
            "413                                   Spector, Mr. Woolf\n",
            "414                         Oliva y Ocana, Dona. Fermina\n",
            "415                         Saether, Mr. Simon Sivertsen\n",
            "416                                  Ware, Mr. Frederick\n",
            "417                             Peter, Master. Michael J\n",
            "Name: Name, Length: 1309, dtype: object\n",
            "\n",
            "Same nazwiska\n",
            "Sage            11\n",
            "Andersson       11\n",
            "Asplund          8\n",
            "Goodwin          8\n",
            "Davies           7\n",
            "                ..\n",
            "Trout            1\n",
            "Sivola           1\n",
            "Van der hoef     1\n",
            "Nourney          1\n",
            "Barber           1\n",
            "Name: Name, Length: 875, dtype: int64\n"
          ],
          "name": "stdout"
        }
      ]
    },
    {
      "cell_type": "code",
      "metadata": {
        "colab": {
          "base_uri": "https://localhost:8080/",
          "height": 777
        },
        "id": "eWjWaZoJIrdF",
        "outputId": "48bb5950-6642-4b88-fc0f-563d8eaa4999"
      },
      "source": [
        "df_all[ df_all.Name.map(lambda x: x.split(',')[0] == 'Andersson' ) ]"
      ],
      "execution_count": null,
      "outputs": [
        {
          "output_type": "execute_result",
          "data": {
            "text/html": [
              "<div>\n",
              "<style scoped>\n",
              "    .dataframe tbody tr th:only-of-type {\n",
              "        vertical-align: middle;\n",
              "    }\n",
              "\n",
              "    .dataframe tbody tr th {\n",
              "        vertical-align: top;\n",
              "    }\n",
              "\n",
              "    .dataframe thead th {\n",
              "        text-align: right;\n",
              "    }\n",
              "</style>\n",
              "<table border=\"1\" class=\"dataframe\">\n",
              "  <thead>\n",
              "    <tr style=\"text-align: right;\">\n",
              "      <th></th>\n",
              "      <th>PassengerId</th>\n",
              "      <th>Survived</th>\n",
              "      <th>Pclass</th>\n",
              "      <th>Name</th>\n",
              "      <th>Sex</th>\n",
              "      <th>Age</th>\n",
              "      <th>SibSp</th>\n",
              "      <th>Parch</th>\n",
              "      <th>Ticket</th>\n",
              "      <th>Fare</th>\n",
              "      <th>Cabin</th>\n",
              "      <th>Embarked</th>\n",
              "      <th>title</th>\n",
              "      <th>title_norm</th>\n",
              "      <th>title_norm_cat</th>\n",
              "    </tr>\n",
              "  </thead>\n",
              "  <tbody>\n",
              "    <tr>\n",
              "      <th>13</th>\n",
              "      <td>14</td>\n",
              "      <td>0</td>\n",
              "      <td>3</td>\n",
              "      <td>Andersson, Mr. Anders Johan</td>\n",
              "      <td>male</td>\n",
              "      <td>39.0</td>\n",
              "      <td>1</td>\n",
              "      <td>5</td>\n",
              "      <td>347082</td>\n",
              "      <td>31.2750</td>\n",
              "      <td>NaN</td>\n",
              "      <td>S</td>\n",
              "      <td>mr</td>\n",
              "      <td>mr</td>\n",
              "      <td>0</td>\n",
              "    </tr>\n",
              "    <tr>\n",
              "      <th>68</th>\n",
              "      <td>69</td>\n",
              "      <td>1</td>\n",
              "      <td>3</td>\n",
              "      <td>Andersson, Miss. Erna Alexandra</td>\n",
              "      <td>female</td>\n",
              "      <td>17.0</td>\n",
              "      <td>4</td>\n",
              "      <td>2</td>\n",
              "      <td>3101281</td>\n",
              "      <td>7.9250</td>\n",
              "      <td>NaN</td>\n",
              "      <td>S</td>\n",
              "      <td>miss</td>\n",
              "      <td>miss</td>\n",
              "      <td>2</td>\n",
              "    </tr>\n",
              "    <tr>\n",
              "      <th>119</th>\n",
              "      <td>120</td>\n",
              "      <td>0</td>\n",
              "      <td>3</td>\n",
              "      <td>Andersson, Miss. Ellis Anna Maria</td>\n",
              "      <td>female</td>\n",
              "      <td>2.0</td>\n",
              "      <td>4</td>\n",
              "      <td>2</td>\n",
              "      <td>347082</td>\n",
              "      <td>31.2750</td>\n",
              "      <td>NaN</td>\n",
              "      <td>S</td>\n",
              "      <td>miss</td>\n",
              "      <td>miss</td>\n",
              "      <td>2</td>\n",
              "    </tr>\n",
              "    <tr>\n",
              "      <th>146</th>\n",
              "      <td>147</td>\n",
              "      <td>1</td>\n",
              "      <td>3</td>\n",
              "      <td>Andersson, Mr. August Edvard (\"Wennerstrom\")</td>\n",
              "      <td>male</td>\n",
              "      <td>27.0</td>\n",
              "      <td>0</td>\n",
              "      <td>0</td>\n",
              "      <td>350043</td>\n",
              "      <td>7.7958</td>\n",
              "      <td>NaN</td>\n",
              "      <td>S</td>\n",
              "      <td>mr</td>\n",
              "      <td>mr</td>\n",
              "      <td>0</td>\n",
              "    </tr>\n",
              "    <tr>\n",
              "      <th>541</th>\n",
              "      <td>542</td>\n",
              "      <td>0</td>\n",
              "      <td>3</td>\n",
              "      <td>Andersson, Miss. Ingeborg Constanzia</td>\n",
              "      <td>female</td>\n",
              "      <td>9.0</td>\n",
              "      <td>4</td>\n",
              "      <td>2</td>\n",
              "      <td>347082</td>\n",
              "      <td>31.2750</td>\n",
              "      <td>NaN</td>\n",
              "      <td>S</td>\n",
              "      <td>miss</td>\n",
              "      <td>miss</td>\n",
              "      <td>2</td>\n",
              "    </tr>\n",
              "    <tr>\n",
              "      <th>542</th>\n",
              "      <td>543</td>\n",
              "      <td>0</td>\n",
              "      <td>3</td>\n",
              "      <td>Andersson, Miss. Sigrid Elisabeth</td>\n",
              "      <td>female</td>\n",
              "      <td>11.0</td>\n",
              "      <td>4</td>\n",
              "      <td>2</td>\n",
              "      <td>347082</td>\n",
              "      <td>31.2750</td>\n",
              "      <td>NaN</td>\n",
              "      <td>S</td>\n",
              "      <td>miss</td>\n",
              "      <td>miss</td>\n",
              "      <td>2</td>\n",
              "    </tr>\n",
              "    <tr>\n",
              "      <th>610</th>\n",
              "      <td>611</td>\n",
              "      <td>0</td>\n",
              "      <td>3</td>\n",
              "      <td>Andersson, Mrs. Anders Johan (Alfrida Konstant...</td>\n",
              "      <td>female</td>\n",
              "      <td>39.0</td>\n",
              "      <td>1</td>\n",
              "      <td>5</td>\n",
              "      <td>347082</td>\n",
              "      <td>31.2750</td>\n",
              "      <td>NaN</td>\n",
              "      <td>S</td>\n",
              "      <td>mrs</td>\n",
              "      <td>mrs</td>\n",
              "      <td>1</td>\n",
              "    </tr>\n",
              "    <tr>\n",
              "      <th>813</th>\n",
              "      <td>814</td>\n",
              "      <td>0</td>\n",
              "      <td>3</td>\n",
              "      <td>Andersson, Miss. Ebba Iris Alfrida</td>\n",
              "      <td>female</td>\n",
              "      <td>6.0</td>\n",
              "      <td>4</td>\n",
              "      <td>2</td>\n",
              "      <td>347082</td>\n",
              "      <td>31.2750</td>\n",
              "      <td>NaN</td>\n",
              "      <td>S</td>\n",
              "      <td>miss</td>\n",
              "      <td>miss</td>\n",
              "      <td>2</td>\n",
              "    </tr>\n",
              "    <tr>\n",
              "      <th>850</th>\n",
              "      <td>851</td>\n",
              "      <td>0</td>\n",
              "      <td>3</td>\n",
              "      <td>Andersson, Master. Sigvard Harald Elias</td>\n",
              "      <td>male</td>\n",
              "      <td>4.0</td>\n",
              "      <td>4</td>\n",
              "      <td>2</td>\n",
              "      <td>347082</td>\n",
              "      <td>31.2750</td>\n",
              "      <td>NaN</td>\n",
              "      <td>S</td>\n",
              "      <td>master</td>\n",
              "      <td>master</td>\n",
              "      <td>3</td>\n",
              "    </tr>\n",
              "    <tr>\n",
              "      <th>214</th>\n",
              "      <td>1106</td>\n",
              "      <td>1</td>\n",
              "      <td>3</td>\n",
              "      <td>Andersson, Miss. Ida Augusta Margareta</td>\n",
              "      <td>female</td>\n",
              "      <td>38.0</td>\n",
              "      <td>4</td>\n",
              "      <td>2</td>\n",
              "      <td>347091</td>\n",
              "      <td>7.7750</td>\n",
              "      <td>NaN</td>\n",
              "      <td>S</td>\n",
              "      <td>miss</td>\n",
              "      <td>miss</td>\n",
              "      <td>2</td>\n",
              "    </tr>\n",
              "    <tr>\n",
              "      <th>320</th>\n",
              "      <td>1212</td>\n",
              "      <td>1</td>\n",
              "      <td>3</td>\n",
              "      <td>Andersson, Mr. Johan Samuel</td>\n",
              "      <td>male</td>\n",
              "      <td>26.0</td>\n",
              "      <td>0</td>\n",
              "      <td>0</td>\n",
              "      <td>347075</td>\n",
              "      <td>7.7750</td>\n",
              "      <td>NaN</td>\n",
              "      <td>S</td>\n",
              "      <td>mr</td>\n",
              "      <td>mr</td>\n",
              "      <td>0</td>\n",
              "    </tr>\n",
              "  </tbody>\n",
              "</table>\n",
              "</div>"
            ],
            "text/plain": [
              "     PassengerId  Survived  Pclass  ...   title title_norm  title_norm_cat\n",
              "13            14         0       3  ...      mr         mr               0\n",
              "68            69         1       3  ...    miss       miss               2\n",
              "119          120         0       3  ...    miss       miss               2\n",
              "146          147         1       3  ...      mr         mr               0\n",
              "541          542         0       3  ...    miss       miss               2\n",
              "542          543         0       3  ...    miss       miss               2\n",
              "610          611         0       3  ...     mrs        mrs               1\n",
              "813          814         0       3  ...    miss       miss               2\n",
              "850          851         0       3  ...  master     master               3\n",
              "214         1106         1       3  ...    miss       miss               2\n",
              "320         1212         1       3  ...      mr         mr               0\n",
              "\n",
              "[11 rows x 15 columns]"
            ]
          },
          "metadata": {
            "tags": []
          },
          "execution_count": 1619
        }
      ]
    },
    {
      "cell_type": "markdown",
      "metadata": {
        "id": "O6dIeCRcJC-x"
      },
      "source": [
        "## **XGBoost**"
      ]
    },
    {
      "cell_type": "code",
      "metadata": {
        "colab": {
          "base_uri": "https://localhost:8080/",
          "height": 325
        },
        "id": "OYoqlXqyJHf9",
        "outputId": "3e06341a-63d2-407b-c7b7-52373890c2cb"
      },
      "source": [
        "model = xgb.XGBClassifier(max_depth=3, n_estimators=15, subsample=0.8, random_state=2018)\r\n",
        "# był ker error więc dopisałem return_train_score=True\r\n",
        "result = cross_validate(model, X, y, scoring='accuracy', cv=3, return_train_score=True)\r\n",
        "plot_result(\"Random Forest: max_depth=%s\" % max_depth, result, ylim=(0.7, 0.9))"
      ],
      "execution_count": null,
      "outputs": [
        {
          "output_type": "display_data",
          "data": {
            "image/png": "[encoded data removed]",
            "text/plain": [
              "<Figure size 432x288 with 1 Axes>"
            ]
          },
          "metadata": {
            "tags": [],
            "needs_background": "light"
          }
        }
      ]
    },
    {
      "cell_type": "markdown",
      "metadata": {
        "id": "bgBZgHRJZh9W"
      },
      "source": [
        "# **Moje badanie czy dana osoba przeżyje**"
      ]
    },
    {
      "cell_type": "code",
      "metadata": {
        "colab": {
          "base_uri": "https://localhost:8080/"
        },
        "id": "qoPNuyro4BkQ",
        "outputId": "597393d5-2e31-48ea-b34a-2def4ca45dc5"
      },
      "source": [
        "print(\"Od nowa wczytuję zbiór treningowy.\")\r\n",
        "df_train = load_titanic_data(\"train.csv\")\r\n",
        "print(df_train)\r\n",
        "\r\n",
        "print()\r\n",
        "print(\"Od nowa wczytuję zbiór testowy.\")\r\n",
        "df_test = load_titanic_data(\"test.csv\")\r\n",
        "print(df_test)"
      ],
      "execution_count": null,
      "outputs": [
        {
          "output_type": "stream",
          "text": [
            "Od nowa wczytuję zbiór treningowy.\n",
            "     PassengerId  Survived  Pclass  ...     Fare Cabin  Embarked\n",
            "0              1         0       3  ...   7.2500   NaN         S\n",
            "1              2         1       1  ...  71.2833   C85         C\n",
            "2              3         1       3  ...   7.9250   NaN         S\n",
            "3              4         1       1  ...  53.1000  C123         S\n",
            "4              5         0       3  ...   8.0500   NaN         S\n",
            "..           ...       ...     ...  ...      ...   ...       ...\n",
            "886          887         0       2  ...  13.0000   NaN         S\n",
            "887          888         1       1  ...  30.0000   B42         S\n",
            "888          889         0       3  ...  23.4500   NaN         S\n",
            "889          890         1       1  ...  30.0000  C148         C\n",
            "890          891         0       3  ...   7.7500   NaN         Q\n",
            "\n",
            "[891 rows x 12 columns]\n",
            "\n",
            "Od nowa wczytuję zbiór testowy.\n",
            "     PassengerId  Pclass  ... Cabin Embarked\n",
            "0            892       3  ...   NaN        Q\n",
            "1            893       3  ...   NaN        S\n",
            "2            894       2  ...   NaN        Q\n",
            "3            895       3  ...   NaN        S\n",
            "4            896       3  ...   NaN        S\n",
            "..           ...     ...  ...   ...      ...\n",
            "413         1305       3  ...   NaN        S\n",
            "414         1306       1  ...  C105        C\n",
            "415         1307       3  ...   NaN        S\n",
            "416         1308       3  ...   NaN        S\n",
            "417         1309       3  ...   NaN        C\n",
            "\n",
            "[418 rows x 11 columns]\n"
          ],
          "name": "stdout"
        }
      ]
    },
    {
      "cell_type": "code",
      "metadata": {
        "colab": {
          "base_uri": "https://localhost:8080/"
        },
        "id": "BD62pvLsc7CW",
        "outputId": "b0d3c327-5719-475e-ab2c-7bf4aa2a1f2e"
      },
      "source": [
        "print(\"Kolumny zbioru df_train\")\n",
        "print(df_train.columns)\n",
        " \n",
        "# print()\n",
        "# print(\"Opłaty pasażerów z 2 klasy.\")\n",
        "# print(df_train[\"Fare\"][df_train[\"Pclass\"] == 2])\n",
        " \n",
        "# print()\n",
        "# print(\"Rozkład opłat pasażerów z 2 klasy.\")\n",
        "# print(df_train[\"Fare\"][df_train[\"Pclass\"] == 2].value_counts())\n",
        " \n",
        "# print()\n",
        "# print(\"Rozkład kabin pasażerów z 2 klasy.\")\n",
        "# print(df_train[\"Cabin\"][df_train[\"Pclass\"] == 2].value_counts())\n",
        " \n",
        "passenger_class = 1\n",
        "print(\"Rozkłady wszystkich cech pasażerów z\", passenger_class, \"klasy.\")\n",
        "for column_name in df_train.columns:\n",
        "    print()\n",
        "    print(\"Rozkład\", column_name, \"pasażerów z\", passenger_class, \"klasy o płci male.\")\n",
        "    print(df_train[column_name][df_train[\"Pclass\"] == passenger_class][df_train[\"Sex\"] == \"male\"].value_counts())\n",
        "    print()\n",
        "    print(\"Rozkład\", column_name, \"pasażerów z\", passenger_class, \"klasy o płci female.\")\n",
        "    print(df_train[column_name][df_train[\"Pclass\"] == passenger_class][df_train[\"Sex\"] == \"female\"].value_counts())"
      ],
      "execution_count": null,
      "outputs": [
        {
          "output_type": "stream",
          "text": [
            "Kolumny zbioru df_train\n",
            "Index(['PassengerId', 'Survived', 'Pclass', 'Name', 'Sex', 'Age', 'SibSp',\n",
            "       'Parch', 'Ticket', 'Fare', 'Cabin', 'Embarked'],\n",
            "      dtype='object')\n",
            "Rozkłady wszystkich cech pasażerów z 1 klasy.\n",
            "\n",
            "Rozkład PassengerId pasażerów z 1 klasy o płci male.\n",
            "767    1\n",
            "573    1\n",
            "93     1\n",
            "65     1\n",
            "439    1\n",
            "      ..\n",
            "691    1\n",
            "695    1\n",
            "186    1\n",
            "699    1\n",
            "513    1\n",
            "Name: PassengerId, Length: 122, dtype: int64\n",
            "\n",
            "Rozkład PassengerId pasażerów z 1 klasy o płci female.\n",
            "766    1\n",
            "854    1\n",
            "32     1\n",
            "821    1\n",
            "291    1\n",
            "      ..\n",
            "592    1\n",
            "338    1\n",
            "514    1\n",
            "830    1\n",
            "384    1\n",
            "Name: PassengerId, Length: 94, dtype: int64\n",
            "\n",
            "Rozkład Survived pasażerów z 1 klasy o płci male.\n",
            "0    77\n",
            "1    45\n",
            "Name: Survived, dtype: int64\n",
            "\n",
            "Rozkład Survived pasażerów z 1 klasy o płci female.\n",
            "1    91\n",
            "0     3\n",
            "Name: Survived, dtype: int64\n",
            "\n",
            "Rozkład Pclass pasażerów z 1 klasy o płci male.\n",
            "1    122\n",
            "Name: Pclass, dtype: int64\n",
            "\n",
            "Rozkład Pclass pasażerów z 1 klasy o płci female.\n",
            "1    94\n",
            "Name: Pclass, dtype: int64\n",
            "\n",
            "Rozkład Name pasażerów z 1 klasy o płci male.\n",
            "Harper, Mr. Henry Sleeper                        1\n",
            "Frolicher-Stehli, Mr. Maxmillian                 1\n",
            "Robbins, Mr. Victor                              1\n",
            "Bradley, Mr. George (\"George Arthur Brayton\")    1\n",
            "Cairns, Mr. Alexander                            1\n",
            "                                                ..\n",
            "Daniel, Mr. Robert Williams                      1\n",
            "Chambers, Mr. Norman Campbell                    1\n",
            "Hawksford, Mr. Walter James                      1\n",
            "Taussig, Mr. Emil                                1\n",
            "Rood, Mr. Hugh Roscoe                            1\n",
            "Name: Name, Length: 122, dtype: int64\n",
            "\n",
            "Rozkład Name pasażerów z 1 klasy o płci female.\n",
            "Kenyon, Mrs. Frederick R (Marion)                    1\n",
            "Burns, Miss. Elizabeth Margaret                      1\n",
            "Astor, Mrs. John Jacob (Madeleine Talmadge Force)    1\n",
            "Lurette, Miss. Elise                                 1\n",
            "Lines, Miss. Mary Conover                            1\n",
            "                                                    ..\n",
            "Ryerson, Miss. Emily Borie                           1\n",
            "Serepeca, Miss. Augusta                              1\n",
            "Bowerman, Miss. Elsie Edith                          1\n",
            "Francatelli, Miss. Laura Mabel                       1\n",
            "Chambers, Mrs. Norman Campbell (Bertha Griggs)       1\n",
            "Name: Name, Length: 94, dtype: int64\n",
            "\n",
            "Rozkład Sex pasażerów z 1 klasy o płci male.\n",
            "male    122\n",
            "Name: Sex, dtype: int64\n",
            "\n",
            "Rozkład Sex pasażerów z 1 klasy o płci female.\n",
            "female    94\n",
            "Name: Sex, dtype: int64\n",
            "\n",
            "Rozkład Age pasażerów z 1 klasy o płci male.\n",
            "36.00    6\n",
            "47.00    4\n",
            "27.00    4\n",
            "45.00    4\n",
            "28.00    4\n",
            "40.00    3\n",
            "31.00    3\n",
            "37.00    3\n",
            "56.00    3\n",
            "49.00    3\n",
            "48.00    3\n",
            "38.00    3\n",
            "50.00    3\n",
            "35.00    3\n",
            "42.00    3\n",
            "51.00    2\n",
            "25.00    2\n",
            "52.00    2\n",
            "62.00    2\n",
            "61.00    2\n",
            "29.00    2\n",
            "54.00    2\n",
            "64.00    2\n",
            "24.00    2\n",
            "58.00    2\n",
            "71.00    2\n",
            "46.00    2\n",
            "60.00    2\n",
            "65.00    2\n",
            "19.00    2\n",
            "21.00    1\n",
            "23.00    1\n",
            "26.00    1\n",
            "44.00    1\n",
            "45.50    1\n",
            "33.00    1\n",
            "4.00     1\n",
            "34.00    1\n",
            "30.00    1\n",
            "0.92     1\n",
            "55.00    1\n",
            "18.00    1\n",
            "17.00    1\n",
            "80.00    1\n",
            "32.00    1\n",
            "70.00    1\n",
            "11.00    1\n",
            "39.00    1\n",
            "22.00    1\n",
            "Name: Age, dtype: int64\n",
            "\n",
            "Rozkład Age pasażerów z 1 klasy o płci female.\n",
            "35.0    6\n",
            "30.0    5\n",
            "24.0    5\n",
            "39.0    4\n",
            "22.0    4\n",
            "16.0    3\n",
            "58.0    3\n",
            "19.0    3\n",
            "18.0    3\n",
            "36.0    3\n",
            "33.0    3\n",
            "38.0    3\n",
            "48.0    2\n",
            "21.0    2\n",
            "54.0    2\n",
            "31.0    2\n",
            "44.0    2\n",
            "49.0    2\n",
            "23.0    2\n",
            "17.0    2\n",
            "50.0    2\n",
            "52.0    2\n",
            "40.0    2\n",
            "51.0    1\n",
            "29.0    1\n",
            "43.0    1\n",
            "62.0    1\n",
            "45.0    1\n",
            "32.0    1\n",
            "2.0     1\n",
            "63.0    1\n",
            "26.0    1\n",
            "25.0    1\n",
            "15.0    1\n",
            "47.0    1\n",
            "41.0    1\n",
            "60.0    1\n",
            "42.0    1\n",
            "53.0    1\n",
            "14.0    1\n",
            "56.0    1\n",
            "Name: Age, dtype: int64\n",
            "\n",
            "Rozkład SibSp pasażerów z 1 klasy o płci male.\n",
            "0    88\n",
            "1    31\n",
            "2     2\n",
            "3     1\n",
            "Name: SibSp, dtype: int64\n",
            "\n",
            "Rozkład SibSp pasażerów z 1 klasy o płci female.\n",
            "0    49\n",
            "1    40\n",
            "2     3\n",
            "3     2\n",
            "Name: SibSp, dtype: int64\n",
            "\n",
            "Rozkład Parch pasażerów z 1 klasy o płci male.\n",
            "0    99\n",
            "1    14\n",
            "2     8\n",
            "4     1\n",
            "Name: Parch, dtype: int64\n",
            "\n",
            "Rozkład Parch pasażerów z 1 klasy o płci female.\n",
            "0    64\n",
            "1    17\n",
            "2    13\n",
            "Name: Parch, dtype: int64\n",
            "\n",
            "Rozkład Ticket pasażerów z 1 klasy o płci male.\n",
            "110465      2\n",
            "19950       2\n",
            "PC 17572    2\n",
            "17421       2\n",
            "113760      2\n",
            "           ..\n",
            "693         1\n",
            "113509      1\n",
            "PC 17759    1\n",
            "113501      1\n",
            "PC 17612    1\n",
            "Name: Ticket, Length: 114, dtype: int64\n",
            "\n",
            "Rozkład Ticket pasażerów z 1 klasy o płci female.\n",
            "113781      3\n",
            "13502       3\n",
            "110152      3\n",
            "24160       3\n",
            "PC 17757    3\n",
            "           ..\n",
            "11769       1\n",
            "PC 17610    1\n",
            "17474       1\n",
            "PC 17611    1\n",
            "19996       1\n",
            "Name: Ticket, Length: 66, dtype: int64\n",
            "\n",
            "Rozkład Fare pasażerów z 1 klasy o płci male.\n",
            "26.5500     14\n",
            "52.0000      5\n",
            "0.0000       5\n",
            "30.5000      5\n",
            "35.5000      4\n",
            "            ..\n",
            "113.2750     1\n",
            "47.1000      1\n",
            "34.0208      1\n",
            "133.6500     1\n",
            "91.0792      1\n",
            "Name: Fare, Length: 70, dtype: int64\n",
            "\n",
            "Rozkład Fare pasażerów z 1 klasy o płci female.\n",
            "77.9583     3\n",
            "227.5250    3\n",
            "151.5500    3\n",
            "86.5000     3\n",
            "211.3375    3\n",
            "           ..\n",
            "71.2833     1\n",
            "28.7125     1\n",
            "83.4750     1\n",
            "52.5542     1\n",
            "91.0792     1\n",
            "Name: Fare, Length: 61, dtype: int64\n",
            "\n",
            "Rozkład Cabin pasażerów z 1 klasy o płci male.\n",
            "D26            2\n",
            "E24            2\n",
            "C124           2\n",
            "C52            2\n",
            "B51 B53 B55    2\n",
            "              ..\n",
            "E58            1\n",
            "C95            1\n",
            "A14            1\n",
            "D6             1\n",
            "B86            1\n",
            "Name: Cabin, Length: 87, dtype: int64\n",
            "\n",
            "Rozkład Cabin pasażerów z 1 klasy o płci female.\n",
            "C23 C25 C27    2\n",
            "B35            2\n",
            "B18            2\n",
            "C125           2\n",
            "B5             2\n",
            "              ..\n",
            "E36            1\n",
            "C126           1\n",
            "C83            1\n",
            "C78            1\n",
            "B42            1\n",
            "Name: Cabin, Length: 67, dtype: int64\n",
            "\n",
            "Rozkład Embarked pasażerów z 1 klasy o płci male.\n",
            "S    79\n",
            "C    42\n",
            "Q     1\n",
            "Name: Embarked, dtype: int64\n",
            "\n",
            "Rozkład Embarked pasażerów z 1 klasy o płci female.\n",
            "S    48\n",
            "C    43\n",
            "Q     1\n",
            "Name: Embarked, dtype: int64\n"
          ],
          "name": "stdout"
        }
      ]
    },
    {
      "cell_type": "code",
      "metadata": {
        "colab": {
          "base_uri": "https://localhost:8080/"
        },
        "id": "OZplKerpdMMP",
        "outputId": "8bc5ab5c-f496-4439-d96f-179bc1c58461"
      },
      "source": [
        "passengers_dict = {\n",
        "    \"PassengerId\": [1310, 1311, 1312, 1313, 1314],\n",
        "    \"Pclass\": [1, 1, 1, 2, 1],\n",
        "    \"Name\": [\"Aniston, Mrs. Jeny\", \"Lopez, Mrs. Jenifer\", \"Madonna, Mrs. Irina\", \"NN Mrs. K\", \"Bond Mr. James\"],\n",
        "    \"Sex\": [\"female\", \"female\", \"female\", \"female\" ,\"male\"],\n",
        "    \"Age\": [35.0, 24.0, 40.0, 28.5, 31.0],\n",
        "    \"SibSp\": [0, 1, 1, 2, 0],\n",
        "    \"Parch\": [0, 2, 1, 0, 1],\n",
        "    \"Ticket\": [347077, 52243, 32131, 5355, 37389],\n",
        "    \"Fare\": [13.0, 34.0, 23.0, 30.0, 29.0],\n",
        "    \"Cabin\": [\"C125\", \"E36\", \"C83\", \"E36\", \"C83\"],\n",
        "    \"Embarked\": [\"S\", \"Q\", \"C\", \"Q\", \"C\"]\n",
        "}\n",
        "    \n",
        "print(\"Słownik\")\n",
        "print(passengers_dict)\n",
        " \n",
        "print()\n",
        "df_passengers = pd.DataFrame(data = passengers_dict)\n",
        "print(\"DataFrame\")\n",
        "print(df_passengers)"
      ],
      "execution_count": null,
      "outputs": [
        {
          "output_type": "stream",
          "text": [
            "Słownik\n",
            "{'PassengerId': [1310, 1311, 1312, 1313, 1314], 'Pclass': [1, 1, 1, 2, 1], 'Name': ['Aniston, Mrs. Jeny', 'Lopez, Mrs. Jenifer', 'Madonna, Mrs. Irina', 'NN Mrs. K', 'Bond Mr. James'], 'Sex': ['female', 'female', 'female', 'female', 'male'], 'Age': [35.0, 24.0, 40.0, 28.5, 31.0], 'SibSp': [0, 1, 1, 2, 0], 'Parch': [0, 2, 1, 0, 1], 'Ticket': [347077, 52243, 32131, 5355, 37389], 'Fare': [13.0, 34.0, 23.0, 30.0, 29.0], 'Cabin': ['C125', 'E36', 'C83', 'E36', 'C83'], 'Embarked': ['S', 'Q', 'C', 'Q', 'C']}\n",
            "\n",
            "DataFrame\n",
            "   PassengerId  Pclass                 Name  ...  Fare  Cabin  Embarked\n",
            "0         1310       1   Aniston, Mrs. Jeny  ...  13.0   C125         S\n",
            "1         1311       1  Lopez, Mrs. Jenifer  ...  34.0    E36         Q\n",
            "2         1312       1  Madonna, Mrs. Irina  ...  23.0    C83         C\n",
            "3         1313       2            NN Mrs. K  ...  30.0    E36         Q\n",
            "4         1314       1       Bond Mr. James  ...  29.0    C83         C\n",
            "\n",
            "[5 rows x 11 columns]\n"
          ],
          "name": "stdout"
        }
      ]
    },
    {
      "cell_type": "code",
      "metadata": {
        "colab": {
          "base_uri": "https://localhost:8080/"
        },
        "id": "5i2Z__h4czNa",
        "outputId": "f7778ec8-07d3-427b-c0f3-a8f20b05ae2d"
      },
      "source": [
        "print(df_train)  # wyjściowy zbiór treningowy się nie zmienił\r\n",
        "print(df_train.info())\r\n",
        "make_prediction(df_train, df_passengers, LogisticRegression(), 'moje_linear_passengers.csv')"
      ],
      "execution_count": null,
      "outputs": [
        {
          "output_type": "stream",
          "text": [
            "     PassengerId  Survived  Pclass  ...     Fare Cabin  Embarked\n",
            "0              1         0       3  ...   7.2500   NaN         S\n",
            "1              2         1       1  ...  71.2833   C85         C\n",
            "2              3         1       3  ...   7.9250   NaN         S\n",
            "3              4         1       1  ...  53.1000  C123         S\n",
            "4              5         0       3  ...   8.0500   NaN         S\n",
            "..           ...       ...     ...  ...      ...   ...       ...\n",
            "886          887         0       2  ...  13.0000   NaN         S\n",
            "887          888         1       1  ...  30.0000   B42         S\n",
            "888          889         0       3  ...  23.4500   NaN         S\n",
            "889          890         1       1  ...  30.0000  C148         C\n",
            "890          891         0       3  ...   7.7500   NaN         Q\n",
            "\n",
            "[891 rows x 12 columns]\n",
            "<class 'pandas.core.frame.DataFrame'>\n",
            "RangeIndex: 891 entries, 0 to 890\n",
            "Data columns (total 12 columns):\n",
            " #   Column       Non-Null Count  Dtype  \n",
            "---  ------       --------------  -----  \n",
            " 0   PassengerId  891 non-null    int64  \n",
            " 1   Survived     891 non-null    int64  \n",
            " 2   Pclass       891 non-null    int64  \n",
            " 3   Name         891 non-null    object \n",
            " 4   Sex          891 non-null    object \n",
            " 5   Age          714 non-null    float64\n",
            " 6   SibSp        891 non-null    int64  \n",
            " 7   Parch        891 non-null    int64  \n",
            " 8   Ticket       891 non-null    object \n",
            " 9   Fare         891 non-null    float64\n",
            " 10  Cabin        204 non-null    object \n",
            " 11  Embarked     889 non-null    object \n",
            "dtypes: float64(2), int64(5), object(5)\n",
            "memory usage: 83.7+ KB\n",
            "None\n",
            "\n",
            "X_train z funkcji make_prediction\n",
            "[[3 1 0 0 0]\n",
            " [1 1 0 1 1]\n",
            " [3 0 0 1 0]\n",
            " ...\n",
            " [3 1 2 1 0]\n",
            " [1 0 0 0 1]\n",
            " [3 0 0 0 2]]\n",
            "\n",
            "y_train z funkcji make_prediction\n",
            "[0 1 1 1 0 0 0 0 1 1 1 1 0 0 0 1 0 1 0 1 0 1 1 1 0 1 0 0 1 0 0 1 1 0 0 0 1\n",
            " 0 0 1 0 0 0 1 1 0 0 1 0 0 0 0 1 1 0 1 1 0 1 0 0 1 0 0 0 1 1 0 1 0 0 0 0 0\n",
            " 1 0 0 0 1 1 0 1 1 0 1 1 0 0 1 0 0 0 0 0 0 0 0 1 1 0 0 0 0 0 0 0 1 1 0 1 0\n",
            " 0 0 0 0 0 0 0 0 0 0 0 0 1 0 1 0 1 1 0 0 0 0 1 0 0 1 0 0 0 0 1 1 0 0 0 1 0\n",
            " 0 0 0 1 0 0 0 0 1 0 0 0 0 1 0 0 0 1 1 0 0 0 0 0 1 0 0 0 0 0 0 0 0 0 0 1 1\n",
            " 0 1 1 0 0 1 0 1 1 1 1 0 0 1 0 0 0 0 0 1 0 0 1 1 1 0 1 0 0 0 1 1 0 1 0 1 0\n",
            " 0 0 1 0 1 0 0 0 1 0 0 1 0 0 0 1 0 0 0 1 0 0 0 0 0 1 1 0 0 0 0 0 0 1 1 1 1\n",
            " 1 0 1 0 0 0 0 0 1 1 1 0 1 1 0 1 1 0 0 0 1 0 0 0 1 0 0 1 0 1 1 1 1 0 0 0 0\n",
            " 0 0 1 1 1 1 0 1 0 1 1 1 0 1 1 1 0 0 0 1 1 0 1 1 0 0 1 1 0 1 0 1 1 1 1 0 0\n",
            " 0 1 0 0 1 1 0 1 1 0 0 0 1 1 1 1 0 0 0 0 0 0 0 1 0 1 1 0 0 0 0 0 0 1 1 1 1\n",
            " 1 0 0 0 0 1 1 0 0 0 1 1 0 1 0 0 0 1 0 1 1 1 0 1 1 0 0 0 0 1 1 0 0 0 0 0 0\n",
            " 1 0 0 0 0 1 0 1 0 1 1 0 0 0 0 0 0 0 0 1 1 0 1 1 1 1 0 0 1 0 1 0 0 1 0 0 1\n",
            " 1 1 1 1 1 1 0 0 0 1 0 1 0 1 1 0 1 0 0 0 0 0 0 0 0 1 0 0 1 1 0 0 0 0 0 1 0\n",
            " 0 0 1 1 0 1 0 0 1 0 0 0 0 0 0 1 0 0 0 0 0 0 0 1 0 1 1 0 1 1 0 1 1 0 0 1 0\n",
            " 1 0 1 0 0 1 0 0 1 0 0 0 1 0 0 1 0 1 0 1 0 1 1 0 0 1 0 0 1 1 0 1 1 0 0 1 1\n",
            " 0 1 0 1 1 0 0 0 0 0 0 0 0 0 1 1 1 1 1 0 0 1 1 0 1 1 1 0 0 0 1 0 1 0 0 0 1\n",
            " 0 0 0 0 1 0 0 1 1 0 0 0 1 0 0 1 1 1 0 0 1 0 0 1 0 0 1 0 0 1 1 0 0 0 0 1 0\n",
            " 0 1 0 1 0 0 1 0 0 0 0 0 1 0 1 1 1 0 1 0 1 0 1 0 1 0 0 0 0 0 0 1 0 0 0 1 0\n",
            " 0 0 0 1 1 0 0 1 0 0 0 1 0 1 0 1 0 0 0 0 0 0 0 1 1 1 1 0 0 0 0 1 0 0 1 1 0\n",
            " 0 0 0 1 1 1 1 1 0 1 0 0 0 1 1 0 0 1 0 0 0 1 0 1 1 0 0 1 0 0 0 0 0 0 1 0 0\n",
            " 1 0 1 0 1 0 0 1 0 0 1 1 0 0 1 1 0 0 0 1 0 0 1 1 0 1 0 0 0 0 0 0 0 0 1 0 0\n",
            " 1 0 1 1 1 0 0 0 0 1 0 1 0 0 0 0 0 0 0 1 1 0 0 0 1 1 1 1 0 0 0 0 1 0 0 0 0\n",
            " 0 0 0 0 0 0 1 1 0 1 0 0 0 1 1 1 1 1 0 0 0 1 0 0 1 1 0 0 1 0 0 0 0 0 0 1 0\n",
            " 0 0 1 0 1 1 1 1 0 0 0 1 0 0 1 1 0 0 1 0 1 0 0 1 1 0 0 0 1 1 0 0 0 0 0 0 1\n",
            " 0 1 0]\n",
            "\n",
            "X_test z funkcji make_prediction\n",
            "   Pclass  SibSp  Parch  sex_cat  embarked_cat\n",
            "0       1      0      0        0             0\n",
            "1       1      1      2        0             1\n",
            "2       1      1      1        0             2\n",
            "3       2      2      0        0             1\n",
            "4       1      0      1        1             2\n",
            "LogisticRegression(C=1.0, class_weight=None, dual=False, fit_intercept=True,\n",
            "                   intercept_scaling=1, l1_ratio=None, max_iter=100,\n",
            "                   multi_class='auto', n_jobs=None, penalty='l2',\n",
            "                   random_state=None, solver='lbfgs', tol=0.0001, verbose=0,\n",
            "                   warm_start=False)\n"
          ],
          "name": "stdout"
        }
      ]
    }
  ]
}