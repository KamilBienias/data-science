{
  "nbformat": 4,
  "nbformat_minor": 0,
  "metadata": {
    "colab": {
      "name": "01_concat.ipynb",
      "provenance": [],
      "collapsed_sections": [],
      "authorship_tag": "ABX9TyPbf43ARKfs/zObbKOTxnTs",
      "include_colab_link": true
    },
    "kernelspec": {
      "name": "python3",
      "display_name": "Python 3"
    }
  },
  "cells": [
    {
      "cell_type": "markdown",
      "metadata": {
        "id": "view-in-github",
        "colab_type": "text"
      },
      "source": [
        "<a href=\"https://colab.research.google.com/github/KamilBienias/data-science/blob/main/kursPawe%C5%82Krakowiak/pandas_course/05_merge_join_concatenate/01_concat.ipynb\" target=\"_parent\"><img src=\"https://colab.research.google.com/assets/colab-badge.svg\" alt=\"Open In Colab\"/></a>"
      ]
    },
    {
      "cell_type": "code",
      "metadata": {
        "id": "8JaYhh3o2CB9"
      },
      "source": [
        "# -*- coding: utf-8 -*-\n",
        "\n",
        "\"\"\"\n",
        "@author: krakowiakpawel9@gmail.com\n",
        "@site: e-smartdata.org\n",
        "\"\"\"\n",
        "\n",
        "import numpy as np\n",
        "import pandas as pd"
      ],
      "execution_count": 17,
      "outputs": []
    },
    {
      "cell_type": "code",
      "metadata": {
        "colab": {
          "base_uri": "https://localhost:8080/"
        },
        "id": "s_uzZO8CliI8",
        "outputId": "d46b3a9d-428a-4d46-d2a9-268093fa5e7b"
      },
      "source": [
        "print(\"Trzy DataFrame z rozkładu jednostajnego (uniform) o wartościach z przedziału [0,1),\")\n",
        "print(\"czyli U[0,1). Każda ma rozmiar 10 wierszy na 4 kolumny.\")\n",
        "\n",
        "df1 = pd.DataFrame(np.random.rand(10, 4), columns=list('abcd'))\n",
        "print()\n",
        "print(\"df1 = \")\n",
        "print(df1)\n",
        "\n",
        "df2 = pd.DataFrame(np.random.rand(10, 4), columns=list('abcd'))\n",
        "print()\n",
        "print(\"df2 = \")\n",
        "print(df2)\n",
        "\n",
        "df3 = pd.DataFrame(np.random.rand(10, 4), columns=list('abcd'))\n",
        "print()\n",
        "print(\"df3 = \")\n",
        "print(df3)"
      ],
      "execution_count": 18,
      "outputs": [
        {
          "output_type": "stream",
          "text": [
            "Trzy DataFrame z rozkładu jednostajnego (uniform) o wartościach z przedziału [0,1),\n",
            "czyli U[0,1). Każda ma rozmiar 10 wierszy na 4 kolumny.\n",
            "\n",
            "df1 = \n",
            "          a         b         c         d\n",
            "0  0.030166  0.949321  0.422683  0.142173\n",
            "1  0.380288  0.853673  0.856570  0.914807\n",
            "2  0.056983  0.836601  0.599516  0.138396\n",
            "3  0.708525  0.680188  0.070790  0.227238\n",
            "4  0.454330  0.396916  0.723305  0.361549\n",
            "5  0.217804  0.066069  0.391667  0.401514\n",
            "6  0.663664  0.636550  0.928856  0.593711\n",
            "7  0.139019  0.741013  0.583708  0.764533\n",
            "8  0.704795  0.727986  0.730930  0.047175\n",
            "9  0.183562  0.265831  0.843108  0.567763\n",
            "\n",
            "df2 = \n",
            "          a         b         c         d\n",
            "0  0.606874  0.122205  0.398354  0.494062\n",
            "1  0.252972  0.539714  0.692718  0.239538\n",
            "2  0.361124  0.631076  0.638780  0.661553\n",
            "3  0.245448  0.472042  0.748557  0.613912\n",
            "4  0.893709  0.310504  0.068378  0.453471\n",
            "5  0.691689  0.416212  0.745243  0.522603\n",
            "6  0.519319  0.612826  0.588183  0.524767\n",
            "7  0.590725  0.682882  0.377796  0.718651\n",
            "8  0.261160  0.990943  0.418865  0.852637\n",
            "9  0.835679  0.676153  0.532469  0.737526\n",
            "\n",
            "df3 = \n",
            "          a         b         c         d\n",
            "0  0.297315  0.113644  0.201115  0.417766\n",
            "1  0.286172  0.162886  0.678612  0.011119\n",
            "2  0.406527  0.818367  0.790007  0.188742\n",
            "3  0.333330  0.192970  0.509375  0.251090\n",
            "4  0.887934  0.681411  0.339093  0.731186\n",
            "5  0.991537  0.534234  0.837247  0.426490\n",
            "6  0.403478  0.506883  0.701651  0.473169\n",
            "7  0.976960  0.841819  0.058980  0.458725\n",
            "8  0.964632  0.407169  0.842590  0.784675\n",
            "9  0.212927  0.386994  0.305131  0.717221\n"
          ],
          "name": "stdout"
        }
      ]
    },
    {
      "cell_type": "code",
      "metadata": {
        "colab": {
          "base_uri": "https://localhost:8080/"
        },
        "id": "ixWNaHwNll6M",
        "outputId": "253bf53e-c18c-40b5-b715-dc4f115718ca"
      },
      "source": [
        "print(\"Series o nazwie x, która zawiera 10 liczb z rozkładu U[0,1).\")\n",
        "s = pd.Series(np.random.rand(10), name='x')\n",
        "print(\"s = \")\n",
        "print(s)"
      ],
      "execution_count": 19,
      "outputs": [
        {
          "output_type": "stream",
          "text": [
            "Series o nazwie x, która zawiera 10 liczb z rozkładu U[0,1).\n",
            "s = \n",
            "0    0.548145\n",
            "1    0.448404\n",
            "2    0.413037\n",
            "3    0.130629\n",
            "4    0.619229\n",
            "5    0.744581\n",
            "6    0.266167\n",
            "7    0.094878\n",
            "8    0.904780\n",
            "9    0.100740\n",
            "Name: x, dtype: float64\n"
          ],
          "name": "stdout"
        }
      ]
    },
    {
      "cell_type": "code",
      "metadata": {
        "colab": {
          "base_uri": "https://localhost:8080/"
        },
        "id": "9q54IuZfltcy",
        "outputId": "e675498b-ecdb-4b90-cd5a-220ccf0aa96a"
      },
      "source": [
        "# %% concat bez pamiętania indeksów\n",
        "print()\n",
        "df = pd.concat([df1, df2, df3], ignore_index=True)\n",
        "print(\"Domyślnie łączy po wierszach axis=0.\")\n",
        "print(\"Parametr ignore_index=True ignoruje indeksy ze składowych df.\")\n",
        "print(\"Domyślnie ignore_index=False czyli pobiera indeksy ze składowych df1,df2,df3.\")\n",
        "print(\"df =\")\n",
        "print(df)"
      ],
      "execution_count": 20,
      "outputs": [
        {
          "output_type": "stream",
          "text": [
            "\n",
            "Domyślnie łączy po wierszach axis=0.\n",
            "Parametr ignore_index=True ignoruje indeksy ze składowych df.\n",
            "Domyślnie ignore_index=False czyli pobiera indeksy ze składowych df1,df2,df3.\n",
            "df =\n",
            "           a         b         c         d\n",
            "0   0.030166  0.949321  0.422683  0.142173\n",
            "1   0.380288  0.853673  0.856570  0.914807\n",
            "2   0.056983  0.836601  0.599516  0.138396\n",
            "3   0.708525  0.680188  0.070790  0.227238\n",
            "4   0.454330  0.396916  0.723305  0.361549\n",
            "5   0.217804  0.066069  0.391667  0.401514\n",
            "6   0.663664  0.636550  0.928856  0.593711\n",
            "7   0.139019  0.741013  0.583708  0.764533\n",
            "8   0.704795  0.727986  0.730930  0.047175\n",
            "9   0.183562  0.265831  0.843108  0.567763\n",
            "10  0.606874  0.122205  0.398354  0.494062\n",
            "11  0.252972  0.539714  0.692718  0.239538\n",
            "12  0.361124  0.631076  0.638780  0.661553\n",
            "13  0.245448  0.472042  0.748557  0.613912\n",
            "14  0.893709  0.310504  0.068378  0.453471\n",
            "15  0.691689  0.416212  0.745243  0.522603\n",
            "16  0.519319  0.612826  0.588183  0.524767\n",
            "17  0.590725  0.682882  0.377796  0.718651\n",
            "18  0.261160  0.990943  0.418865  0.852637\n",
            "19  0.835679  0.676153  0.532469  0.737526\n",
            "20  0.297315  0.113644  0.201115  0.417766\n",
            "21  0.286172  0.162886  0.678612  0.011119\n",
            "22  0.406527  0.818367  0.790007  0.188742\n",
            "23  0.333330  0.192970  0.509375  0.251090\n",
            "24  0.887934  0.681411  0.339093  0.731186\n",
            "25  0.991537  0.534234  0.837247  0.426490\n",
            "26  0.403478  0.506883  0.701651  0.473169\n",
            "27  0.976960  0.841819  0.058980  0.458725\n",
            "28  0.964632  0.407169  0.842590  0.784675\n",
            "29  0.212927  0.386994  0.305131  0.717221\n"
          ],
          "name": "stdout"
        }
      ]
    },
    {
      "cell_type": "code",
      "metadata": {
        "colab": {
          "base_uri": "https://localhost:8080/"
        },
        "id": "BKQApTn7lykM",
        "outputId": "293804bf-d800-4ad4-8125-e2df52a88480"
      },
      "source": [
        "# %%\n",
        "print()\n",
        "df = pd.concat([df1, df2, df3])\n",
        "df.reset_index()\n",
        "print(\"Domyślnie jest ignore_index=False więc indeksy zachowa z początkowych df.\")\n",
        "print(\"Tutaj nie działa reset_index() bo ta metoda bierze wcześniej ustalone indeksy\")\n",
        "print(\"i robi z nich kolumnę, a jako indeksy bierze liczby 0,1,2,...\")\n",
        "print(\"U nas wcześniej były tylko 0,1,2,... więc nie ma co resetować\")\n",
        "print(\"df =\")\n",
        "print(df)"
      ],
      "execution_count": 21,
      "outputs": [
        {
          "output_type": "stream",
          "text": [
            "\n",
            "Domyślnie jest ignore_index=False więc indeksy zachowa z początkowych df.\n",
            "Tutaj nie działa reset_index() bo ta metoda bierze wcześniej ustalone indeksy\n",
            "i robi z nich kolumnę, a jako indeksy bierze liczby 0,1,2,...\n",
            "U nas wcześniej były tylko 0,1,2,... więc nie ma co resetować\n",
            "df =\n",
            "          a         b         c         d\n",
            "0  0.030166  0.949321  0.422683  0.142173\n",
            "1  0.380288  0.853673  0.856570  0.914807\n",
            "2  0.056983  0.836601  0.599516  0.138396\n",
            "3  0.708525  0.680188  0.070790  0.227238\n",
            "4  0.454330  0.396916  0.723305  0.361549\n",
            "5  0.217804  0.066069  0.391667  0.401514\n",
            "6  0.663664  0.636550  0.928856  0.593711\n",
            "7  0.139019  0.741013  0.583708  0.764533\n",
            "8  0.704795  0.727986  0.730930  0.047175\n",
            "9  0.183562  0.265831  0.843108  0.567763\n",
            "0  0.606874  0.122205  0.398354  0.494062\n",
            "1  0.252972  0.539714  0.692718  0.239538\n",
            "2  0.361124  0.631076  0.638780  0.661553\n",
            "3  0.245448  0.472042  0.748557  0.613912\n",
            "4  0.893709  0.310504  0.068378  0.453471\n",
            "5  0.691689  0.416212  0.745243  0.522603\n",
            "6  0.519319  0.612826  0.588183  0.524767\n",
            "7  0.590725  0.682882  0.377796  0.718651\n",
            "8  0.261160  0.990943  0.418865  0.852637\n",
            "9  0.835679  0.676153  0.532469  0.737526\n",
            "0  0.297315  0.113644  0.201115  0.417766\n",
            "1  0.286172  0.162886  0.678612  0.011119\n",
            "2  0.406527  0.818367  0.790007  0.188742\n",
            "3  0.333330  0.192970  0.509375  0.251090\n",
            "4  0.887934  0.681411  0.339093  0.731186\n",
            "5  0.991537  0.534234  0.837247  0.426490\n",
            "6  0.403478  0.506883  0.701651  0.473169\n",
            "7  0.976960  0.841819  0.058980  0.458725\n",
            "8  0.964632  0.407169  0.842590  0.784675\n",
            "9  0.212927  0.386994  0.305131  0.717221\n"
          ],
          "name": "stdout"
        }
      ]
    },
    {
      "cell_type": "code",
      "metadata": {
        "colab": {
          "base_uri": "https://localhost:8080/"
        },
        "id": "qe64uCbZl9qf",
        "outputId": "6e5fdb5a-3d18-4818-8101-32fd7b92801e"
      },
      "source": [
        "# moje\n",
        "print()\n",
        "print(\"Sam robię df ze swoimi indeksami, żeby potem je zresetować.\")\n",
        "moje_indeksy = ['A', 'B', 'C', 'D', 'E']\n",
        "moje_df = pd.DataFrame(data=np.random.randn(5,3), \n",
        "                       index=moje_indeksy,\n",
        "                       columns=[\"Pierwsza\", \"Druga\", \"Trzecia\"])\n",
        "print(\"moje_df =\")\n",
        "print(moje_df)\n",
        "print()\n",
        "print(\"Po resecie indeksów\")\n",
        "moje_df_po_resecie = moje_df.reset_index()\n",
        "print(\"moje_df_po_resecie =\")\n",
        "print(moje_df_po_resecie)\n",
        "\n",
        "print()\n",
        "print(\"Po resecie indeksów i drop=True, czyli w ogóle usuwa wcześniej ustawiony indeks.\")\n",
        "moje_df_po_resecie_drop_true = moje_df.reset_index(drop=True)\n",
        "print(\"moje_df_po_resecie_drop_true =\")\n",
        "print(moje_df_po_resecie_drop_true)"
      ],
      "execution_count": 22,
      "outputs": [
        {
          "output_type": "stream",
          "text": [
            "\n",
            "Sam robię df ze swoimi indeksami, żeby potem je zresetować.\n",
            "moje_df =\n",
            "   Pierwsza     Druga   Trzecia\n",
            "A -1.577475  0.006931  0.393283\n",
            "B -0.135233  0.708777  0.158277\n",
            "C  0.628840  0.721079 -1.395565\n",
            "D -1.883184  0.971759  0.268608\n",
            "E -2.443375 -0.537171  1.012546\n",
            "\n",
            "Po resecie indeksów\n",
            "moje_df_po_resecie =\n",
            "  index  Pierwsza     Druga   Trzecia\n",
            "0     A -1.577475  0.006931  0.393283\n",
            "1     B -0.135233  0.708777  0.158277\n",
            "2     C  0.628840  0.721079 -1.395565\n",
            "3     D -1.883184  0.971759  0.268608\n",
            "4     E -2.443375 -0.537171  1.012546\n",
            "\n",
            "Po resecie indeksów i drop=True, czyli w ogóle usuwa wcześniej ustawiony indeks.\n",
            "moje_df_po_resecie_drop_true =\n",
            "   Pierwsza     Druga   Trzecia\n",
            "0 -1.577475  0.006931  0.393283\n",
            "1 -0.135233  0.708777  0.158277\n",
            "2  0.628840  0.721079 -1.395565\n",
            "3 -1.883184  0.971759  0.268608\n",
            "4 -2.443375 -0.537171  1.012546\n"
          ],
          "name": "stdout"
        }
      ]
    },
    {
      "cell_type": "code",
      "metadata": {
        "colab": {
          "base_uri": "https://localhost:8080/"
        },
        "id": "JRR4m80jmNg3",
        "outputId": "c9f8ff23-e220-4e17-dba7-4968f3681b3c"
      },
      "source": [
        "# %% kolumny df1 to a,b,c,d\n",
        "print()\n",
        "df1 = pd.DataFrame(np.random.rand(10, 4), columns=list('abcd'))\n",
        "print(\"df1 o kolumnach a,b,c,d\")\n",
        "print(\"df1 =\")\n",
        "print(df1)\n",
        "\n",
        "# %% kolumny df1 to e,f,g,h\n",
        "print()\n",
        "df2 = pd.DataFrame(np.random.rand(10, 4), columns=list('efgh'))\n",
        "print(\"df2 o kolumnach e,f,g,h\")\n",
        "print(\"df2 =\")\n",
        "print(df2)"
      ],
      "execution_count": 23,
      "outputs": [
        {
          "output_type": "stream",
          "text": [
            "\n",
            "df1 o kolumnach a,b,c,d\n",
            "df1 =\n",
            "          a         b         c         d\n",
            "0  0.642521  0.789602  0.792409  0.875932\n",
            "1  0.333054  0.569246  0.104272  0.778716\n",
            "2  0.918450  0.473108  0.643973  0.993106\n",
            "3  0.320657  0.591423  0.481258  0.549208\n",
            "4  0.878696  0.938952  0.233833  0.611901\n",
            "5  0.891479  0.703772  0.345132  0.811088\n",
            "6  0.437850  0.348010  0.516337  0.933949\n",
            "7  0.120800  0.204964  0.800580  0.640592\n",
            "8  0.350574  0.488601  0.670753  0.580252\n",
            "9  0.523331  0.911314  0.835745  0.087371\n",
            "\n",
            "df2 o kolumnach e,f,g,h\n",
            "df2 =\n",
            "          e         f         g         h\n",
            "0  0.510326  0.714631  0.085819  0.832100\n",
            "1  0.923070  0.659489  0.844309  0.061199\n",
            "2  0.034451  0.708781  0.192297  0.830001\n",
            "3  0.260343  0.698061  0.548750  0.758154\n",
            "4  0.694430  0.935200  0.509296  0.806229\n",
            "5  0.652161  0.998936  0.913674  0.193949\n",
            "6  0.959036  0.301084  0.637048  0.645774\n",
            "7  0.653127  0.153900  0.974905  0.766991\n",
            "8  0.823665  0.369939  0.790115  0.546803\n",
            "9  0.188122  0.480002  0.942260  0.163738\n"
          ],
          "name": "stdout"
        }
      ]
    },
    {
      "cell_type": "code",
      "metadata": {
        "colab": {
          "base_uri": "https://localhost:8080/"
        },
        "id": "ZiPwLD41mo-5",
        "outputId": "fae5759c-9653-47d0-aeb1-9b6537d3af9a"
      },
      "source": [
        "print()\n",
        "print(\"Domyślnie łączy po wierszach axis=0. Tam gdzie nie ma wartości to wstawia NaN.\")\n",
        "# sam dodałem keys (czyli najbardziej zewnętrzny hierarchiczny indeks)\n",
        "# sam dodałem names (czyli nazwy hierarchicznego indeksu oraz zwykłego indeksu)\n",
        "df = pd.concat([df1, df2], keys=[\"df1_hierarch\", \"df2_hierarch\"], names=[\"index_hierarch\", \"index_zwykly\"])\n",
        "print(\"df =\")\n",
        "print(df)"
      ],
      "execution_count": 24,
      "outputs": [
        {
          "output_type": "stream",
          "text": [
            "\n",
            "Domyślnie łączy po wierszach axis=0. Tam gdzie nie ma wartości to wstawia NaN.\n",
            "df =\n",
            "                                    a         b  ...         g         h\n",
            "index_hierarch index_zwykly                      ...                    \n",
            "df1_hierarch   0             0.642521  0.789602  ...       NaN       NaN\n",
            "               1             0.333054  0.569246  ...       NaN       NaN\n",
            "               2             0.918450  0.473108  ...       NaN       NaN\n",
            "               3             0.320657  0.591423  ...       NaN       NaN\n",
            "               4             0.878696  0.938952  ...       NaN       NaN\n",
            "               5             0.891479  0.703772  ...       NaN       NaN\n",
            "               6             0.437850  0.348010  ...       NaN       NaN\n",
            "               7             0.120800  0.204964  ...       NaN       NaN\n",
            "               8             0.350574  0.488601  ...       NaN       NaN\n",
            "               9             0.523331  0.911314  ...       NaN       NaN\n",
            "df2_hierarch   0                  NaN       NaN  ...  0.085819  0.832100\n",
            "               1                  NaN       NaN  ...  0.844309  0.061199\n",
            "               2                  NaN       NaN  ...  0.192297  0.830001\n",
            "               3                  NaN       NaN  ...  0.548750  0.758154\n",
            "               4                  NaN       NaN  ...  0.509296  0.806229\n",
            "               5                  NaN       NaN  ...  0.913674  0.193949\n",
            "               6                  NaN       NaN  ...  0.637048  0.645774\n",
            "               7                  NaN       NaN  ...  0.974905  0.766991\n",
            "               8                  NaN       NaN  ...  0.790115  0.546803\n",
            "               9                  NaN       NaN  ...  0.942260  0.163738\n",
            "\n",
            "[20 rows x 8 columns]\n"
          ],
          "name": "stdout"
        }
      ]
    },
    {
      "cell_type": "code",
      "metadata": {
        "colab": {
          "base_uri": "https://localhost:8080/"
        },
        "id": "03fFmEpxmtNL",
        "outputId": "4b05ede3-e7b9-400f-a5c8-6f134c6e43b5"
      },
      "source": [
        "print()\n",
        "print(\"Łączenie po kolumnach, bo axis=1\")\n",
        "df = pd.concat([df1, df2], axis=1)\n",
        "print(\"df =\")\n",
        "print(df)"
      ],
      "execution_count": 25,
      "outputs": [
        {
          "output_type": "stream",
          "text": [
            "\n",
            "Łączenie po kolumnach, bo axis=1\n",
            "df =\n",
            "          a         b         c  ...         f         g         h\n",
            "0  0.642521  0.789602  0.792409  ...  0.714631  0.085819  0.832100\n",
            "1  0.333054  0.569246  0.104272  ...  0.659489  0.844309  0.061199\n",
            "2  0.918450  0.473108  0.643973  ...  0.708781  0.192297  0.830001\n",
            "3  0.320657  0.591423  0.481258  ...  0.698061  0.548750  0.758154\n",
            "4  0.878696  0.938952  0.233833  ...  0.935200  0.509296  0.806229\n",
            "5  0.891479  0.703772  0.345132  ...  0.998936  0.913674  0.193949\n",
            "6  0.437850  0.348010  0.516337  ...  0.301084  0.637048  0.645774\n",
            "7  0.120800  0.204964  0.800580  ...  0.153900  0.974905  0.766991\n",
            "8  0.350574  0.488601  0.670753  ...  0.369939  0.790115  0.546803\n",
            "9  0.523331  0.911314  0.835745  ...  0.480002  0.942260  0.163738\n",
            "\n",
            "[10 rows x 8 columns]\n"
          ],
          "name": "stdout"
        }
      ]
    },
    {
      "cell_type": "code",
      "metadata": {
        "colab": {
          "base_uri": "https://localhost:8080/"
        },
        "id": "Xm9zW1zcmz3I",
        "outputId": "c90ee68b-399a-4db4-edf0-6b51c314ec82"
      },
      "source": [
        "# %%\n",
        "print()\n",
        "print(\"Co drugi element z df1\")\n",
        "df1 = df1[::2]\n",
        "print(\"df1 =\")\n",
        "print(df1)"
      ],
      "execution_count": 26,
      "outputs": [
        {
          "output_type": "stream",
          "text": [
            "\n",
            "Co drugi element z df1\n",
            "df1 =\n",
            "          a         b         c         d\n",
            "0  0.642521  0.789602  0.792409  0.875932\n",
            "2  0.918450  0.473108  0.643973  0.993106\n",
            "4  0.878696  0.938952  0.233833  0.611901\n",
            "6  0.437850  0.348010  0.516337  0.933949\n",
            "8  0.350574  0.488601  0.670753  0.580252\n"
          ],
          "name": "stdout"
        }
      ]
    },
    {
      "cell_type": "code",
      "metadata": {
        "colab": {
          "base_uri": "https://localhost:8080/"
        },
        "id": "ypELygHVm3nE",
        "outputId": "71030c42-aee3-4a39-f6b3-73acf37b2faf"
      },
      "source": [
        "print()\n",
        "print(\"Przypomnienie df2 =\")\n",
        "print(df2)"
      ],
      "execution_count": 27,
      "outputs": [
        {
          "output_type": "stream",
          "text": [
            "\n",
            "Przypomnienie df2 =\n",
            "          e         f         g         h\n",
            "0  0.510326  0.714631  0.085819  0.832100\n",
            "1  0.923070  0.659489  0.844309  0.061199\n",
            "2  0.034451  0.708781  0.192297  0.830001\n",
            "3  0.260343  0.698061  0.548750  0.758154\n",
            "4  0.694430  0.935200  0.509296  0.806229\n",
            "5  0.652161  0.998936  0.913674  0.193949\n",
            "6  0.959036  0.301084  0.637048  0.645774\n",
            "7  0.653127  0.153900  0.974905  0.766991\n",
            "8  0.823665  0.369939  0.790115  0.546803\n",
            "9  0.188122  0.480002  0.942260  0.163738\n"
          ],
          "name": "stdout"
        }
      ]
    },
    {
      "cell_type": "code",
      "metadata": {
        "colab": {
          "base_uri": "https://localhost:8080/"
        },
        "id": "-DUqa_bLm8S2",
        "outputId": "8d0890d1-98c2-418d-cf16-d3a04b25af31"
      },
      "source": [
        "print()\n",
        "print(\"Łączenie po kolumnach używając join='outer'\")\n",
        "df = pd.concat([df1,  df2], axis=1, join='outer')\n",
        "print(\"df =\")\n",
        "print(df)"
      ],
      "execution_count": 28,
      "outputs": [
        {
          "output_type": "stream",
          "text": [
            "\n",
            "Łączenie po kolumnach używając join='outer'\n",
            "df =\n",
            "          a         b         c  ...         f         g         h\n",
            "0  0.642521  0.789602  0.792409  ...  0.714631  0.085819  0.832100\n",
            "1       NaN       NaN       NaN  ...  0.659489  0.844309  0.061199\n",
            "2  0.918450  0.473108  0.643973  ...  0.708781  0.192297  0.830001\n",
            "3       NaN       NaN       NaN  ...  0.698061  0.548750  0.758154\n",
            "4  0.878696  0.938952  0.233833  ...  0.935200  0.509296  0.806229\n",
            "5       NaN       NaN       NaN  ...  0.998936  0.913674  0.193949\n",
            "6  0.437850  0.348010  0.516337  ...  0.301084  0.637048  0.645774\n",
            "7       NaN       NaN       NaN  ...  0.153900  0.974905  0.766991\n",
            "8  0.350574  0.488601  0.670753  ...  0.369939  0.790115  0.546803\n",
            "9       NaN       NaN       NaN  ...  0.480002  0.942260  0.163738\n",
            "\n",
            "[10 rows x 8 columns]\n"
          ],
          "name": "stdout"
        }
      ]
    },
    {
      "cell_type": "code",
      "metadata": {
        "colab": {
          "base_uri": "https://localhost:8080/"
        },
        "id": "LwaRB6BIm_Wa",
        "outputId": "b01e858e-4d04-414b-926f-4666eb9dfbf3"
      },
      "source": [
        "print()\n",
        "print(\"Łączenie po kolumnach używając join='inner'\")\n",
        "df = pd.concat([df1, df2], axis=1, join='inner')\n",
        "print(\"df =\")\n",
        "print(df)"
      ],
      "execution_count": 29,
      "outputs": [
        {
          "output_type": "stream",
          "text": [
            "\n",
            "Łączenie po kolumnach używając join='inner'\n",
            "df =\n",
            "          a         b         c  ...         f         g         h\n",
            "0  0.642521  0.789602  0.792409  ...  0.714631  0.085819  0.832100\n",
            "2  0.918450  0.473108  0.643973  ...  0.708781  0.192297  0.830001\n",
            "4  0.878696  0.938952  0.233833  ...  0.935200  0.509296  0.806229\n",
            "6  0.437850  0.348010  0.516337  ...  0.301084  0.637048  0.645774\n",
            "8  0.350574  0.488601  0.670753  ...  0.369939  0.790115  0.546803\n",
            "\n",
            "[5 rows x 8 columns]\n"
          ],
          "name": "stdout"
        }
      ]
    },
    {
      "cell_type": "code",
      "metadata": {
        "colab": {
          "base_uri": "https://localhost:8080/"
        },
        "id": "7Y2bqZwKnBU5",
        "outputId": "af7681a3-7e24-488c-ab0b-002f07be8f0e"
      },
      "source": [
        "print()\n",
        "print(\"Przypomnienie s=\")\n",
        "print(s)"
      ],
      "execution_count": 30,
      "outputs": [
        {
          "output_type": "stream",
          "text": [
            "\n",
            "Przypomnienie s=\n",
            "0    0.548145\n",
            "1    0.448404\n",
            "2    0.413037\n",
            "3    0.130629\n",
            "4    0.619229\n",
            "5    0.744581\n",
            "6    0.266167\n",
            "7    0.094878\n",
            "8    0.904780\n",
            "9    0.100740\n",
            "Name: x, dtype: float64\n"
          ],
          "name": "stdout"
        }
      ]
    },
    {
      "cell_type": "code",
      "metadata": {
        "colab": {
          "base_uri": "https://localhost:8080/"
        },
        "id": "46_qnpeDnDU1",
        "outputId": "26d267d2-77e8-4734-a240-a5dc0b005001"
      },
      "source": [
        "# %% łączenie Series i DataFrame po wierszach\n",
        "print(\"append Series to DataFrame\")\n",
        "print(pd.concat([df1, s]))"
      ],
      "execution_count": 31,
      "outputs": [
        {
          "output_type": "stream",
          "text": [
            "append Series to DataFrame\n",
            "          a         b         c         d         0\n",
            "0  0.642521  0.789602  0.792409  0.875932       NaN\n",
            "2  0.918450  0.473108  0.643973  0.993106       NaN\n",
            "4  0.878696  0.938952  0.233833  0.611901       NaN\n",
            "6  0.437850  0.348010  0.516337  0.933949       NaN\n",
            "8  0.350574  0.488601  0.670753  0.580252       NaN\n",
            "0       NaN       NaN       NaN       NaN  0.548145\n",
            "1       NaN       NaN       NaN       NaN  0.448404\n",
            "2       NaN       NaN       NaN       NaN  0.413037\n",
            "3       NaN       NaN       NaN       NaN  0.130629\n",
            "4       NaN       NaN       NaN       NaN  0.619229\n",
            "5       NaN       NaN       NaN       NaN  0.744581\n",
            "6       NaN       NaN       NaN       NaN  0.266167\n",
            "7       NaN       NaN       NaN       NaN  0.094878\n",
            "8       NaN       NaN       NaN       NaN  0.904780\n",
            "9       NaN       NaN       NaN       NaN  0.100740\n"
          ],
          "name": "stdout"
        }
      ]
    },
    {
      "cell_type": "code",
      "metadata": {
        "colab": {
          "base_uri": "https://localhost:8080/"
        },
        "id": "v0m8W4S5nK10",
        "outputId": "fdd5add7-5f78-4c6e-b0cc-c29d447a6432"
      },
      "source": [
        "# %% łączenie Series i DataFrame po kolumnach\n",
        "print(\"Po kolumnach. Wtedy nazwą kolumny jest nazwa Series, czyli x.\")\n",
        "print(pd.concat([df1, s], axis=1))"
      ],
      "execution_count": 32,
      "outputs": [
        {
          "output_type": "stream",
          "text": [
            "Po kolumnach. Wtedy nazwą kolumny jest nazwa Series, czyli x.\n",
            "          a         b         c         d         x\n",
            "0  0.642521  0.789602  0.792409  0.875932  0.548145\n",
            "1       NaN       NaN       NaN       NaN  0.448404\n",
            "2  0.918450  0.473108  0.643973  0.993106  0.413037\n",
            "3       NaN       NaN       NaN       NaN  0.130629\n",
            "4  0.878696  0.938952  0.233833  0.611901  0.619229\n",
            "5       NaN       NaN       NaN       NaN  0.744581\n",
            "6  0.437850  0.348010  0.516337  0.933949  0.266167\n",
            "7       NaN       NaN       NaN       NaN  0.094878\n",
            "8  0.350574  0.488601  0.670753  0.580252  0.904780\n",
            "9       NaN       NaN       NaN       NaN  0.100740\n"
          ],
          "name": "stdout"
        }
      ]
    },
    {
      "cell_type": "code",
      "metadata": {
        "colab": {
          "base_uri": "https://localhost:8080/"
        },
        "id": "LHNCzKEpnNdu",
        "outputId": "ef9f20de-b9d6-41e8-fc45-6dbd05282036"
      },
      "source": [
        "# %%\n",
        "print(\"Kolumny df1\")\n",
        "print(df1.columns)"
      ],
      "execution_count": 33,
      "outputs": [
        {
          "output_type": "stream",
          "text": [
            "Kolumny df1\n",
            "Index(['a', 'b', 'c', 'd'], dtype='object')\n"
          ],
          "name": "stdout"
        }
      ]
    },
    {
      "cell_type": "code",
      "metadata": {
        "colab": {
          "base_uri": "https://localhost:8080/"
        },
        "id": "chk7fIAKnbFP",
        "outputId": "0ce94b03-335f-40e8-e84a-d44173a0f7fe"
      },
      "source": [
        "# na nowo przypisuje te same kolumny do df2\n",
        "df2.columns = ['e', 'f', 'g', 'h']\n",
        "print(df2)"
      ],
      "execution_count": 34,
      "outputs": [
        {
          "output_type": "stream",
          "text": [
            "          e         f         g         h\n",
            "0  0.510326  0.714631  0.085819  0.832100\n",
            "1  0.923070  0.659489  0.844309  0.061199\n",
            "2  0.034451  0.708781  0.192297  0.830001\n",
            "3  0.260343  0.698061  0.548750  0.758154\n",
            "4  0.694430  0.935200  0.509296  0.806229\n",
            "5  0.652161  0.998936  0.913674  0.193949\n",
            "6  0.959036  0.301084  0.637048  0.645774\n",
            "7  0.653127  0.153900  0.974905  0.766991\n",
            "8  0.823665  0.369939  0.790115  0.546803\n",
            "9  0.188122  0.480002  0.942260  0.163738\n"
          ],
          "name": "stdout"
        }
      ]
    },
    {
      "cell_type": "code",
      "metadata": {
        "colab": {
          "base_uri": "https://localhost:8080/"
        },
        "id": "mGDbeXF0lari",
        "outputId": "8fc9379a-470d-4377-d291-e92dbf264b6f"
      },
      "source": [
        "# łączenie df1 i df2 pod kolumnach\n",
        "df = pd.concat([df1, df2], axis=1)\n",
        "print(\"df =\")\n",
        "print(df)"
      ],
      "execution_count": 35,
      "outputs": [
        {
          "output_type": "stream",
          "text": [
            "df =\n",
            "          a         b         c  ...         f         g         h\n",
            "0  0.642521  0.789602  0.792409  ...  0.714631  0.085819  0.832100\n",
            "1       NaN       NaN       NaN  ...  0.659489  0.844309  0.061199\n",
            "2  0.918450  0.473108  0.643973  ...  0.708781  0.192297  0.830001\n",
            "3       NaN       NaN       NaN  ...  0.698061  0.548750  0.758154\n",
            "4  0.878696  0.938952  0.233833  ...  0.935200  0.509296  0.806229\n",
            "5       NaN       NaN       NaN  ...  0.998936  0.913674  0.193949\n",
            "6  0.437850  0.348010  0.516337  ...  0.301084  0.637048  0.645774\n",
            "7       NaN       NaN       NaN  ...  0.153900  0.974905  0.766991\n",
            "8  0.350574  0.488601  0.670753  ...  0.369939  0.790115  0.546803\n",
            "9       NaN       NaN       NaN  ...  0.480002  0.942260  0.163738\n",
            "\n",
            "[10 rows x 8 columns]\n"
          ],
          "name": "stdout"
        }
      ]
    }
  ]
}