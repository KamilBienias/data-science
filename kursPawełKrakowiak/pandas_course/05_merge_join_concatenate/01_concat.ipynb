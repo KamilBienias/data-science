{
  "nbformat": 4,
  "nbformat_minor": 0,
  "metadata": {
    "colab": {
      "name": "01_concat.ipynb",
      "provenance": [],
      "collapsed_sections": [],
      "authorship_tag": "ABX9TyMRKEwfySo+8aKBi/c7Lkml",
      "include_colab_link": true
    },
    "kernelspec": {
      "name": "python3",
      "display_name": "Python 3"
    }
  },
  "cells": [
    {
      "cell_type": "markdown",
      "metadata": {
        "id": "view-in-github",
        "colab_type": "text"
      },
      "source": [
        "<a href=\"https://colab.research.google.com/github/KamilBienias/data-science/blob/main/kursPawe%C5%82Krakowiak/pandas_course/05_merge_join_concatenate/01_concat.ipynb\" target=\"_parent\"><img src=\"https://colab.research.google.com/assets/colab-badge.svg\" alt=\"Open In Colab\"/></a>"
      ]
    },
    {
      "cell_type": "code",
      "metadata": {
        "id": "8JaYhh3o2CB9"
      },
      "source": [
        "# -*- coding: utf-8 -*-\r\n",
        "\r\n",
        "\"\"\"\r\n",
        "@author: krakowiakpawel9@gmail.com\r\n",
        "@site: e-smartdata.org\r\n",
        "\"\"\"\r\n",
        "\r\n",
        "import numpy as np\r\n",
        "import pandas as pd"
      ],
      "execution_count": 1,
      "outputs": []
    },
    {
      "cell_type": "code",
      "metadata": {
        "colab": {
          "base_uri": "https://localhost:8080/"
        },
        "id": "s_uzZO8CliI8",
        "outputId": "2751d5ef-06b9-423d-85f3-750de0d42916"
      },
      "source": [
        "print(\"Trzy DataFrame z rozkładu jednostajnego (uniform) o wartościach z przedziału [0,1),\")\r\n",
        "print(\"czyli U[0,1). Każda ma rozmiar 10 wierszy na 4 kolumny.\")\r\n",
        "\r\n",
        "df1 = pd.DataFrame(np.random.rand(10, 4), columns=list('abcd'))\r\n",
        "print()\r\n",
        "print(\"df1 = \")\r\n",
        "print(df1)\r\n",
        "\r\n",
        "df2 = pd.DataFrame(np.random.rand(10, 4), columns=list('abcd'))\r\n",
        "print()\r\n",
        "print(\"df2 = \")\r\n",
        "print(df2)\r\n",
        "\r\n",
        "df3 = pd.DataFrame(np.random.rand(10, 4), columns=list('abcd'))\r\n",
        "print()\r\n",
        "print(\"df3 = \")\r\n",
        "print(df3)"
      ],
      "execution_count": 2,
      "outputs": [
        {
          "output_type": "stream",
          "text": [
            "Trzy DataFrame z rozkładu jednostajnego (uniform) o wartościach z przedziału [0,1),\n",
            "czyli U[0,1). Każda ma rozmiar 10 wierszy na 4 kolumny.\n",
            "\n",
            "df1 = \n",
            "          a         b         c         d\n",
            "0  0.677042  0.452462  0.150955  0.702708\n",
            "1  0.888250  0.895695  0.303549  0.756282\n",
            "2  0.873549  0.006901  0.029535  0.983469\n",
            "3  0.395971  0.741815  0.312813  0.265957\n",
            "4  0.691468  0.802493  0.427986  0.315133\n",
            "5  0.414420  0.939456  0.275817  0.067023\n",
            "6  0.447126  0.811695  0.240195  0.566456\n",
            "7  0.205144  0.077627  0.084269  0.868197\n",
            "8  0.547196  0.120749  0.780912  0.486129\n",
            "9  0.084513  0.470887  0.760694  0.391995\n",
            "\n",
            "df2 = \n",
            "          a         b         c         d\n",
            "0  0.662239  0.996904  0.844564  0.449484\n",
            "1  0.654217  0.962428  0.635746  0.762780\n",
            "2  0.131577  0.753619  0.728266  0.550705\n",
            "3  0.385351  0.624848  0.216264  0.532771\n",
            "4  0.204892  0.245655  0.687302  0.274938\n",
            "5  0.802673  0.661805  0.000759  0.793828\n",
            "6  0.096253  0.528702  0.090313  0.387211\n",
            "7  0.301891  0.945327  0.609079  0.929754\n",
            "8  0.035928  0.004308  0.160418  0.807653\n",
            "9  0.006976  0.785180  0.288267  0.456486\n",
            "\n",
            "df3 = \n",
            "          a         b         c         d\n",
            "0  0.050701  0.617132  0.916762  0.673325\n",
            "1  0.810132  0.135169  0.529520  0.500348\n",
            "2  0.201753  0.158768  0.926523  0.045762\n",
            "3  0.035711  0.387118  0.065983  0.113168\n",
            "4  0.391209  0.666198  0.492017  0.937504\n",
            "5  0.452914  0.552260  0.070812  0.629981\n",
            "6  0.963451  0.387390  0.150498  0.998861\n",
            "7  0.480451  0.970848  0.786405  0.349897\n",
            "8  0.613963  0.149701  0.624655  0.975348\n",
            "9  0.108193  0.544655  0.142135  0.108049\n"
          ],
          "name": "stdout"
        }
      ]
    },
    {
      "cell_type": "code",
      "metadata": {
        "colab": {
          "base_uri": "https://localhost:8080/"
        },
        "id": "ixWNaHwNll6M",
        "outputId": "85160ca0-23fa-4d95-ec5d-3e2b4a6d6f0f"
      },
      "source": [
        "print(\"Series o nazwie x, która zawiera 10 liczb z rozkładu U[0,1).\")\r\n",
        "s = pd.Series(np.random.rand(10), name='x')\r\n",
        "print(\"s = \")\r\n",
        "print(s)"
      ],
      "execution_count": 3,
      "outputs": [
        {
          "output_type": "stream",
          "text": [
            "Series o nazwie x, która zawiera 10 liczb z rozkładu U[0,1).\n",
            "s = \n",
            "0    0.004693\n",
            "1    0.638234\n",
            "2    0.778071\n",
            "3    0.562976\n",
            "4    0.756678\n",
            "5    0.300422\n",
            "6    0.482250\n",
            "7    0.997123\n",
            "8    0.798458\n",
            "9    0.281996\n",
            "Name: x, dtype: float64\n"
          ],
          "name": "stdout"
        }
      ]
    },
    {
      "cell_type": "code",
      "metadata": {
        "colab": {
          "base_uri": "https://localhost:8080/"
        },
        "id": "9q54IuZfltcy",
        "outputId": "ba4bc6b0-f035-40b1-a0d8-5d8118509d7c"
      },
      "source": [
        "# %% concat bez pamiętania indeksów\r\n",
        "print()\r\n",
        "df = pd.concat([df1, df2, df3], ignore_index=True)\r\n",
        "print(\"Domyślnie łączy po wierszach axis=0.\")\r\n",
        "print(\"Parametr ignore_index=True ignoruje indeksy ze składowych df.\")\r\n",
        "print(\"Domyślnie ignore_index=False czyli pobiera indeksy ze składowych df1,df2,df3.\")\r\n",
        "print(\"df =\")\r\n",
        "print(df)"
      ],
      "execution_count": 4,
      "outputs": [
        {
          "output_type": "stream",
          "text": [
            "\n",
            "Domyślnie łączy po wierszach axis=0.\n",
            "Parametr ignore_index=True ignoruje indeksy ze składowych df.\n",
            "Domyślnie ignore_index=False czyli pobiera indeksy ze składowych df1,df2,df3.\n",
            "df =\n",
            "           a         b         c         d\n",
            "0   0.677042  0.452462  0.150955  0.702708\n",
            "1   0.888250  0.895695  0.303549  0.756282\n",
            "2   0.873549  0.006901  0.029535  0.983469\n",
            "3   0.395971  0.741815  0.312813  0.265957\n",
            "4   0.691468  0.802493  0.427986  0.315133\n",
            "5   0.414420  0.939456  0.275817  0.067023\n",
            "6   0.447126  0.811695  0.240195  0.566456\n",
            "7   0.205144  0.077627  0.084269  0.868197\n",
            "8   0.547196  0.120749  0.780912  0.486129\n",
            "9   0.084513  0.470887  0.760694  0.391995\n",
            "10  0.662239  0.996904  0.844564  0.449484\n",
            "11  0.654217  0.962428  0.635746  0.762780\n",
            "12  0.131577  0.753619  0.728266  0.550705\n",
            "13  0.385351  0.624848  0.216264  0.532771\n",
            "14  0.204892  0.245655  0.687302  0.274938\n",
            "15  0.802673  0.661805  0.000759  0.793828\n",
            "16  0.096253  0.528702  0.090313  0.387211\n",
            "17  0.301891  0.945327  0.609079  0.929754\n",
            "18  0.035928  0.004308  0.160418  0.807653\n",
            "19  0.006976  0.785180  0.288267  0.456486\n",
            "20  0.050701  0.617132  0.916762  0.673325\n",
            "21  0.810132  0.135169  0.529520  0.500348\n",
            "22  0.201753  0.158768  0.926523  0.045762\n",
            "23  0.035711  0.387118  0.065983  0.113168\n",
            "24  0.391209  0.666198  0.492017  0.937504\n",
            "25  0.452914  0.552260  0.070812  0.629981\n",
            "26  0.963451  0.387390  0.150498  0.998861\n",
            "27  0.480451  0.970848  0.786405  0.349897\n",
            "28  0.613963  0.149701  0.624655  0.975348\n",
            "29  0.108193  0.544655  0.142135  0.108049\n"
          ],
          "name": "stdout"
        }
      ]
    },
    {
      "cell_type": "code",
      "metadata": {
        "colab": {
          "base_uri": "https://localhost:8080/"
        },
        "id": "BKQApTn7lykM",
        "outputId": "654b535f-5ff7-4b25-985d-53c28a056380"
      },
      "source": [
        "# %%\r\n",
        "print()\r\n",
        "df = pd.concat([df1, df2, df3])\r\n",
        "df.reset_index()\r\n",
        "print(\"Domyślnie jest ignore_index=False więc indeksy zachowa z początkowych df.\")\r\n",
        "print(\"Tutaj nie działa reset_index() bo ta metoda bierze wcześniej ustalone indeksy\")\r\n",
        "print(\"i robi z nich kolumnę, a jako indeksy bierze liczby 0,1,2,...\")\r\n",
        "print(\"U nas wcześniej były tylko 0,1,2,... więc nie ma co resetować\")\r\n",
        "print(\"df =\")\r\n",
        "print(df)"
      ],
      "execution_count": 5,
      "outputs": [
        {
          "output_type": "stream",
          "text": [
            "\n",
            "Domyślnie jest ignore_index=False więc indeksy zachowa z początkowych df.\n",
            "Tutaj nie działa reset_index() bo ta metoda bierze wcześniej ustalone indeksy\n",
            "i robi z nich kolumnę, a jako indeksy bierze liczby 0,1,2,...\n",
            "U nas wcześniej były tylko 0,1,2,... więc nie ma co resetować\n",
            "df =\n",
            "          a         b         c         d\n",
            "0  0.677042  0.452462  0.150955  0.702708\n",
            "1  0.888250  0.895695  0.303549  0.756282\n",
            "2  0.873549  0.006901  0.029535  0.983469\n",
            "3  0.395971  0.741815  0.312813  0.265957\n",
            "4  0.691468  0.802493  0.427986  0.315133\n",
            "5  0.414420  0.939456  0.275817  0.067023\n",
            "6  0.447126  0.811695  0.240195  0.566456\n",
            "7  0.205144  0.077627  0.084269  0.868197\n",
            "8  0.547196  0.120749  0.780912  0.486129\n",
            "9  0.084513  0.470887  0.760694  0.391995\n",
            "0  0.662239  0.996904  0.844564  0.449484\n",
            "1  0.654217  0.962428  0.635746  0.762780\n",
            "2  0.131577  0.753619  0.728266  0.550705\n",
            "3  0.385351  0.624848  0.216264  0.532771\n",
            "4  0.204892  0.245655  0.687302  0.274938\n",
            "5  0.802673  0.661805  0.000759  0.793828\n",
            "6  0.096253  0.528702  0.090313  0.387211\n",
            "7  0.301891  0.945327  0.609079  0.929754\n",
            "8  0.035928  0.004308  0.160418  0.807653\n",
            "9  0.006976  0.785180  0.288267  0.456486\n",
            "0  0.050701  0.617132  0.916762  0.673325\n",
            "1  0.810132  0.135169  0.529520  0.500348\n",
            "2  0.201753  0.158768  0.926523  0.045762\n",
            "3  0.035711  0.387118  0.065983  0.113168\n",
            "4  0.391209  0.666198  0.492017  0.937504\n",
            "5  0.452914  0.552260  0.070812  0.629981\n",
            "6  0.963451  0.387390  0.150498  0.998861\n",
            "7  0.480451  0.970848  0.786405  0.349897\n",
            "8  0.613963  0.149701  0.624655  0.975348\n",
            "9  0.108193  0.544655  0.142135  0.108049\n"
          ],
          "name": "stdout"
        }
      ]
    },
    {
      "cell_type": "code",
      "metadata": {
        "colab": {
          "base_uri": "https://localhost:8080/"
        },
        "id": "qe64uCbZl9qf",
        "outputId": "3f393cba-58bd-4e82-e0fb-194960616cc3"
      },
      "source": [
        "# moje\r\n",
        "print()\r\n",
        "print(\"Sam robię df ze swoimi indeksami, żeby potem je zresetować.\")\r\n",
        "moje_indeksy = ['A', 'B', 'C', 'D', 'E']\r\n",
        "moje_df = pd.DataFrame(data=np.random.randn(5,3), \r\n",
        "                       index=moje_indeksy,\r\n",
        "                       columns=[\"Pierwsza\", \"Druga\", \"Trzecia\"])\r\n",
        "print(\"moje_df =\")\r\n",
        "print(moje_df)\r\n",
        "print()\r\n",
        "print(\"Po resecie indeksów\")\r\n",
        "moje_df_po_resecie = moje_df.reset_index()\r\n",
        "print(\"moje_df_po_resecie =\")\r\n",
        "print(moje_df_po_resecie)\r\n",
        "\r\n",
        "print()\r\n",
        "print(\"Po resecie indeksów i drop=True, czyli w ogóle usuwa wcześniej ustawiony indeks.\")\r\n",
        "moje_df_po_resecie_drop_true = moje_df.reset_index(drop=True)\r\n",
        "print(\"moje_df_po_resecie_drop_true =\")\r\n",
        "print(moje_df_po_resecie_drop_true)"
      ],
      "execution_count": 6,
      "outputs": [
        {
          "output_type": "stream",
          "text": [
            "\n",
            "Sam robię df ze swoimi indeksami, żeby potem je zresetować.\n",
            "moje_df =\n",
            "   Pierwsza     Druga   Trzecia\n",
            "A  0.579543 -0.129689  0.347371\n",
            "B  0.088428  0.819645 -0.502958\n",
            "C  0.871076 -1.652194  0.192992\n",
            "D  0.226394 -0.607706  0.359438\n",
            "E -1.517297 -0.940607 -0.307230\n",
            "\n",
            "Po resecie indeksów\n",
            "moje_df_po_resecie =\n",
            "  index  Pierwsza     Druga   Trzecia\n",
            "0     A  0.579543 -0.129689  0.347371\n",
            "1     B  0.088428  0.819645 -0.502958\n",
            "2     C  0.871076 -1.652194  0.192992\n",
            "3     D  0.226394 -0.607706  0.359438\n",
            "4     E -1.517297 -0.940607 -0.307230\n",
            "\n",
            "Po resecie indeksów i drop=True, czyli w ogóle usuwa wcześniej ustawiony indeks.\n",
            "moje_df_po_resecie_drop_true =\n",
            "   Pierwsza     Druga   Trzecia\n",
            "0  0.579543 -0.129689  0.347371\n",
            "1  0.088428  0.819645 -0.502958\n",
            "2  0.871076 -1.652194  0.192992\n",
            "3  0.226394 -0.607706  0.359438\n",
            "4 -1.517297 -0.940607 -0.307230\n"
          ],
          "name": "stdout"
        }
      ]
    },
    {
      "cell_type": "code",
      "metadata": {
        "colab": {
          "base_uri": "https://localhost:8080/"
        },
        "id": "JRR4m80jmNg3",
        "outputId": "3be23f84-2a21-41c5-d652-ef1b26e0cf33"
      },
      "source": [
        "# %% kolumny df1 to a,b,c,d\r\n",
        "print()\r\n",
        "df1 = pd.DataFrame(np.random.rand(10, 4), columns=list('abcd'))\r\n",
        "print(\"df1 o kolumnach a,b,c,d\")\r\n",
        "print(\"df1 =\")\r\n",
        "print(df1)\r\n",
        "\r\n",
        "# %% kolumny df1 to e,f,g,h\r\n",
        "print()\r\n",
        "df2 = pd.DataFrame(np.random.rand(10, 4), columns=list('efgh'))\r\n",
        "print(\"df2 o kolumnach e,f,g,h\")\r\n",
        "print(\"df2 =\")\r\n",
        "print(df2)"
      ],
      "execution_count": 7,
      "outputs": [
        {
          "output_type": "stream",
          "text": [
            "\n",
            "df1 o kolumnach a,b,c,d\n",
            "df1 =\n",
            "          a         b         c         d\n",
            "0  0.052868  0.246904  0.645289  0.254025\n",
            "1  0.936844  0.379120  0.286878  0.488741\n",
            "2  0.112736  0.623736  0.415929  0.885680\n",
            "3  0.815966  0.518962  0.352745  0.591223\n",
            "4  0.586910  0.715945  0.608319  0.349909\n",
            "5  0.741581  0.771001  0.400236  0.974928\n",
            "6  0.536751  0.338554  0.950855  0.479593\n",
            "7  0.111810  0.249714  0.166668  0.431431\n",
            "8  0.342511  0.090196  0.097058  0.049249\n",
            "9  0.545270  0.484510  0.746423  0.914583\n",
            "\n",
            "df2 o kolumnach e,f,g,h\n",
            "df2 =\n",
            "          e         f         g         h\n",
            "0  0.737610  0.194934  0.942832  0.568837\n",
            "1  0.069496  0.235669  0.650947  0.292099\n",
            "2  0.225742  0.508011  0.170454  0.275638\n",
            "3  0.481450  0.044526  0.460531  0.259788\n",
            "4  0.838919  0.444575  0.567537  0.455080\n",
            "5  0.589351  0.220590  0.871749  0.633056\n",
            "6  0.734959  0.252807  0.832522  0.909799\n",
            "7  0.248849  0.228936  0.940663  0.383401\n",
            "8  0.761823  0.145390  0.573314  0.340201\n",
            "9  0.793432  0.403233  0.453397  0.067331\n"
          ],
          "name": "stdout"
        }
      ]
    },
    {
      "cell_type": "code",
      "metadata": {
        "colab": {
          "base_uri": "https://localhost:8080/"
        },
        "id": "ZiPwLD41mo-5",
        "outputId": "06295ecd-04ee-428d-dac8-324bd7364bd8"
      },
      "source": [
        "print()\r\n",
        "print(\"Domyślnie łączy po wierszach axis=0. Tam gdzie nie ma wartości to wstawia NaN.\")\r\n",
        "df = pd.concat([df1, df2])\r\n",
        "print(\"df =\")\r\n",
        "print(df)"
      ],
      "execution_count": 8,
      "outputs": [
        {
          "output_type": "stream",
          "text": [
            "\n",
            "Domyślnie łączy po wierszach axis=0. Tam gdzie nie ma wartości to wstawia NaN.\n",
            "df =\n",
            "          a         b         c  ...         f         g         h\n",
            "0  0.052868  0.246904  0.645289  ...       NaN       NaN       NaN\n",
            "1  0.936844  0.379120  0.286878  ...       NaN       NaN       NaN\n",
            "2  0.112736  0.623736  0.415929  ...       NaN       NaN       NaN\n",
            "3  0.815966  0.518962  0.352745  ...       NaN       NaN       NaN\n",
            "4  0.586910  0.715945  0.608319  ...       NaN       NaN       NaN\n",
            "5  0.741581  0.771001  0.400236  ...       NaN       NaN       NaN\n",
            "6  0.536751  0.338554  0.950855  ...       NaN       NaN       NaN\n",
            "7  0.111810  0.249714  0.166668  ...       NaN       NaN       NaN\n",
            "8  0.342511  0.090196  0.097058  ...       NaN       NaN       NaN\n",
            "9  0.545270  0.484510  0.746423  ...       NaN       NaN       NaN\n",
            "0       NaN       NaN       NaN  ...  0.194934  0.942832  0.568837\n",
            "1       NaN       NaN       NaN  ...  0.235669  0.650947  0.292099\n",
            "2       NaN       NaN       NaN  ...  0.508011  0.170454  0.275638\n",
            "3       NaN       NaN       NaN  ...  0.044526  0.460531  0.259788\n",
            "4       NaN       NaN       NaN  ...  0.444575  0.567537  0.455080\n",
            "5       NaN       NaN       NaN  ...  0.220590  0.871749  0.633056\n",
            "6       NaN       NaN       NaN  ...  0.252807  0.832522  0.909799\n",
            "7       NaN       NaN       NaN  ...  0.228936  0.940663  0.383401\n",
            "8       NaN       NaN       NaN  ...  0.145390  0.573314  0.340201\n",
            "9       NaN       NaN       NaN  ...  0.403233  0.453397  0.067331\n",
            "\n",
            "[20 rows x 8 columns]\n"
          ],
          "name": "stdout"
        }
      ]
    },
    {
      "cell_type": "code",
      "metadata": {
        "colab": {
          "base_uri": "https://localhost:8080/"
        },
        "id": "03fFmEpxmtNL",
        "outputId": "b41ebefd-f911-423b-91de-bae5945d6a8e"
      },
      "source": [
        "print()\r\n",
        "print(\"Łączenie po kolumnach, bo axis=1\")\r\n",
        "df = pd.concat([df1, df2], axis=1)\r\n",
        "print(\"df =\")\r\n",
        "print(df)"
      ],
      "execution_count": 9,
      "outputs": [
        {
          "output_type": "stream",
          "text": [
            "\n",
            "Łączenie po kolumnach, bo axis=1\n",
            "df =\n",
            "          a         b         c  ...         f         g         h\n",
            "0  0.052868  0.246904  0.645289  ...  0.194934  0.942832  0.568837\n",
            "1  0.936844  0.379120  0.286878  ...  0.235669  0.650947  0.292099\n",
            "2  0.112736  0.623736  0.415929  ...  0.508011  0.170454  0.275638\n",
            "3  0.815966  0.518962  0.352745  ...  0.044526  0.460531  0.259788\n",
            "4  0.586910  0.715945  0.608319  ...  0.444575  0.567537  0.455080\n",
            "5  0.741581  0.771001  0.400236  ...  0.220590  0.871749  0.633056\n",
            "6  0.536751  0.338554  0.950855  ...  0.252807  0.832522  0.909799\n",
            "7  0.111810  0.249714  0.166668  ...  0.228936  0.940663  0.383401\n",
            "8  0.342511  0.090196  0.097058  ...  0.145390  0.573314  0.340201\n",
            "9  0.545270  0.484510  0.746423  ...  0.403233  0.453397  0.067331\n",
            "\n",
            "[10 rows x 8 columns]\n"
          ],
          "name": "stdout"
        }
      ]
    },
    {
      "cell_type": "code",
      "metadata": {
        "colab": {
          "base_uri": "https://localhost:8080/"
        },
        "id": "Xm9zW1zcmz3I",
        "outputId": "bbd0b73e-622f-4983-d024-9a81650207bb"
      },
      "source": [
        "# %%\r\n",
        "print()\r\n",
        "print(\"Co drugi element z df1\")\r\n",
        "df1 = df1[::2]\r\n",
        "print(\"df1 =\")\r\n",
        "print(df1)"
      ],
      "execution_count": 10,
      "outputs": [
        {
          "output_type": "stream",
          "text": [
            "\n",
            "Co drugi element z df1\n",
            "df1 =\n",
            "          a         b         c         d\n",
            "0  0.052868  0.246904  0.645289  0.254025\n",
            "2  0.112736  0.623736  0.415929  0.885680\n",
            "4  0.586910  0.715945  0.608319  0.349909\n",
            "6  0.536751  0.338554  0.950855  0.479593\n",
            "8  0.342511  0.090196  0.097058  0.049249\n"
          ],
          "name": "stdout"
        }
      ]
    },
    {
      "cell_type": "code",
      "metadata": {
        "colab": {
          "base_uri": "https://localhost:8080/"
        },
        "id": "ypELygHVm3nE",
        "outputId": "aa55cd43-fb9f-4783-fa89-9612e0e8a2ce"
      },
      "source": [
        "print()\r\n",
        "print(\"Przypomnienie df2 =\")\r\n",
        "print(df2)"
      ],
      "execution_count": 11,
      "outputs": [
        {
          "output_type": "stream",
          "text": [
            "\n",
            "Przypomnienie df2 =\n",
            "          e         f         g         h\n",
            "0  0.737610  0.194934  0.942832  0.568837\n",
            "1  0.069496  0.235669  0.650947  0.292099\n",
            "2  0.225742  0.508011  0.170454  0.275638\n",
            "3  0.481450  0.044526  0.460531  0.259788\n",
            "4  0.838919  0.444575  0.567537  0.455080\n",
            "5  0.589351  0.220590  0.871749  0.633056\n",
            "6  0.734959  0.252807  0.832522  0.909799\n",
            "7  0.248849  0.228936  0.940663  0.383401\n",
            "8  0.761823  0.145390  0.573314  0.340201\n",
            "9  0.793432  0.403233  0.453397  0.067331\n"
          ],
          "name": "stdout"
        }
      ]
    },
    {
      "cell_type": "code",
      "metadata": {
        "colab": {
          "base_uri": "https://localhost:8080/"
        },
        "id": "-DUqa_bLm8S2",
        "outputId": "198782cd-3b70-4dab-d17a-d988f9a02d99"
      },
      "source": [
        "print()\r\n",
        "print(\"Łączenie po kolumnach używając join='outer'\")\r\n",
        "df = pd.concat([df1,  df2], axis=1, join='outer')\r\n",
        "print(\"df =\")\r\n",
        "print(df)"
      ],
      "execution_count": 12,
      "outputs": [
        {
          "output_type": "stream",
          "text": [
            "\n",
            "Łączenie po kolumnach używając join='outer'\n",
            "df =\n",
            "          a         b         c  ...         f         g         h\n",
            "0  0.052868  0.246904  0.645289  ...  0.194934  0.942832  0.568837\n",
            "1       NaN       NaN       NaN  ...  0.235669  0.650947  0.292099\n",
            "2  0.112736  0.623736  0.415929  ...  0.508011  0.170454  0.275638\n",
            "3       NaN       NaN       NaN  ...  0.044526  0.460531  0.259788\n",
            "4  0.586910  0.715945  0.608319  ...  0.444575  0.567537  0.455080\n",
            "5       NaN       NaN       NaN  ...  0.220590  0.871749  0.633056\n",
            "6  0.536751  0.338554  0.950855  ...  0.252807  0.832522  0.909799\n",
            "7       NaN       NaN       NaN  ...  0.228936  0.940663  0.383401\n",
            "8  0.342511  0.090196  0.097058  ...  0.145390  0.573314  0.340201\n",
            "9       NaN       NaN       NaN  ...  0.403233  0.453397  0.067331\n",
            "\n",
            "[10 rows x 8 columns]\n"
          ],
          "name": "stdout"
        }
      ]
    },
    {
      "cell_type": "code",
      "metadata": {
        "colab": {
          "base_uri": "https://localhost:8080/"
        },
        "id": "LwaRB6BIm_Wa",
        "outputId": "1eaaf9b5-95d8-41bf-e5d5-12063366559f"
      },
      "source": [
        "print()\r\n",
        "print(\"Łączenie po kolumnach używając join='inner'\")\r\n",
        "df = pd.concat([df1, df2], axis=1, join='inner')\r\n",
        "print(\"df =\")\r\n",
        "print(df)"
      ],
      "execution_count": 13,
      "outputs": [
        {
          "output_type": "stream",
          "text": [
            "\n",
            "Łączenie po kolumnach używając join='inner'\n",
            "df =\n",
            "          a         b         c  ...         f         g         h\n",
            "0  0.052868  0.246904  0.645289  ...  0.194934  0.942832  0.568837\n",
            "2  0.112736  0.623736  0.415929  ...  0.508011  0.170454  0.275638\n",
            "4  0.586910  0.715945  0.608319  ...  0.444575  0.567537  0.455080\n",
            "6  0.536751  0.338554  0.950855  ...  0.252807  0.832522  0.909799\n",
            "8  0.342511  0.090196  0.097058  ...  0.145390  0.573314  0.340201\n",
            "\n",
            "[5 rows x 8 columns]\n"
          ],
          "name": "stdout"
        }
      ]
    },
    {
      "cell_type": "code",
      "metadata": {
        "colab": {
          "base_uri": "https://localhost:8080/"
        },
        "id": "7Y2bqZwKnBU5",
        "outputId": "870e0340-d79b-402b-bcdc-b819a0fb65ae"
      },
      "source": [
        "print()\r\n",
        "print(\"Przypomnienie s=\")\r\n",
        "print(s)"
      ],
      "execution_count": 14,
      "outputs": [
        {
          "output_type": "stream",
          "text": [
            "\n",
            "Przypomnienie s=\n",
            "0    0.004693\n",
            "1    0.638234\n",
            "2    0.778071\n",
            "3    0.562976\n",
            "4    0.756678\n",
            "5    0.300422\n",
            "6    0.482250\n",
            "7    0.997123\n",
            "8    0.798458\n",
            "9    0.281996\n",
            "Name: x, dtype: float64\n"
          ],
          "name": "stdout"
        }
      ]
    },
    {
      "cell_type": "code",
      "metadata": {
        "colab": {
          "base_uri": "https://localhost:8080/"
        },
        "id": "46_qnpeDnDU1",
        "outputId": "21e3c0c9-0c05-4c16-b366-38a21f913dfe"
      },
      "source": [
        "# %% łączenie Series i DataFrame po wierszach\r\n",
        "print(\"append Series to DataFrame\")\r\n",
        "print(pd.concat([df1, s]))"
      ],
      "execution_count": 15,
      "outputs": [
        {
          "output_type": "stream",
          "text": [
            "\n",
            "append Series to DataFrame\n",
            "          a         b         c         d         0\n",
            "0  0.052868  0.246904  0.645289  0.254025       NaN\n",
            "2  0.112736  0.623736  0.415929  0.885680       NaN\n",
            "4  0.586910  0.715945  0.608319  0.349909       NaN\n",
            "6  0.536751  0.338554  0.950855  0.479593       NaN\n",
            "8  0.342511  0.090196  0.097058  0.049249       NaN\n",
            "0       NaN       NaN       NaN       NaN  0.004693\n",
            "1       NaN       NaN       NaN       NaN  0.638234\n",
            "2       NaN       NaN       NaN       NaN  0.778071\n",
            "3       NaN       NaN       NaN       NaN  0.562976\n",
            "4       NaN       NaN       NaN       NaN  0.756678\n",
            "5       NaN       NaN       NaN       NaN  0.300422\n",
            "6       NaN       NaN       NaN       NaN  0.482250\n",
            "7       NaN       NaN       NaN       NaN  0.997123\n",
            "8       NaN       NaN       NaN       NaN  0.798458\n",
            "9       NaN       NaN       NaN       NaN  0.281996\n"
          ],
          "name": "stdout"
        }
      ]
    },
    {
      "cell_type": "code",
      "metadata": {
        "colab": {
          "base_uri": "https://localhost:8080/"
        },
        "id": "v0m8W4S5nK10",
        "outputId": "ebd0c4f6-cc7f-41fd-f0bf-2e8d10617fe0"
      },
      "source": [
        "# %% łączenie Series i DataFrame po kolumnach\r\n",
        "print(\"Po kolumnach. Wtedy nazwą kolumny jest nazwa Series, czyli x.\")\r\n",
        "print(pd.concat([df1, s], axis=1))"
      ],
      "execution_count": 16,
      "outputs": [
        {
          "output_type": "stream",
          "text": [
            "Po kolumnach. Wtedy nazwą kolumny jest nazwa Series, czyli x.\n",
            "          a         b         c         d         x\n",
            "0  0.052868  0.246904  0.645289  0.254025  0.004693\n",
            "1       NaN       NaN       NaN       NaN  0.638234\n",
            "2  0.112736  0.623736  0.415929  0.885680  0.778071\n",
            "3       NaN       NaN       NaN       NaN  0.562976\n",
            "4  0.586910  0.715945  0.608319  0.349909  0.756678\n",
            "5       NaN       NaN       NaN       NaN  0.300422\n",
            "6  0.536751  0.338554  0.950855  0.479593  0.482250\n",
            "7       NaN       NaN       NaN       NaN  0.997123\n",
            "8  0.342511  0.090196  0.097058  0.049249  0.798458\n",
            "9       NaN       NaN       NaN       NaN  0.281996\n"
          ],
          "name": "stdout"
        }
      ]
    },
    {
      "cell_type": "code",
      "metadata": {
        "colab": {
          "base_uri": "https://localhost:8080/"
        },
        "id": "LHNCzKEpnNdu",
        "outputId": "917dfcbc-d94e-4a7a-8f64-4c05ab802b88"
      },
      "source": [
        "# %%\r\n",
        "print(\"Kolumny df1\")\r\n",
        "print(df1.columns)"
      ],
      "execution_count": 17,
      "outputs": [
        {
          "output_type": "stream",
          "text": [
            "Kolumny df1\n",
            "Index(['a', 'b', 'c', 'd'], dtype='object')\n"
          ],
          "name": "stdout"
        }
      ]
    },
    {
      "cell_type": "code",
      "metadata": {
        "colab": {
          "base_uri": "https://localhost:8080/"
        },
        "id": "chk7fIAKnbFP",
        "outputId": "656008d3-76c1-4cde-9854-c0b672b89735"
      },
      "source": [
        "# na nowo przypisuje te same kolumny do df2\r\n",
        "df2.columns = ['e', 'f', 'g', 'h']\r\n",
        "print(df2)"
      ],
      "execution_count": 18,
      "outputs": [
        {
          "output_type": "stream",
          "text": [
            "          e         f         g         h\n",
            "0  0.737610  0.194934  0.942832  0.568837\n",
            "1  0.069496  0.235669  0.650947  0.292099\n",
            "2  0.225742  0.508011  0.170454  0.275638\n",
            "3  0.481450  0.044526  0.460531  0.259788\n",
            "4  0.838919  0.444575  0.567537  0.455080\n",
            "5  0.589351  0.220590  0.871749  0.633056\n",
            "6  0.734959  0.252807  0.832522  0.909799\n",
            "7  0.248849  0.228936  0.940663  0.383401\n",
            "8  0.761823  0.145390  0.573314  0.340201\n",
            "9  0.793432  0.403233  0.453397  0.067331\n"
          ],
          "name": "stdout"
        }
      ]
    },
    {
      "cell_type": "code",
      "metadata": {
        "colab": {
          "base_uri": "https://localhost:8080/"
        },
        "id": "mGDbeXF0lari",
        "outputId": "9a2ffe32-a418-4541-ad62-f88e24884e7a"
      },
      "source": [
        "# łączenie df1 i df2 pod kolumnach\r\n",
        "df = pd.concat([df1, df2], axis=1)\r\n",
        "print(\"df =\")\r\n",
        "print(df)"
      ],
      "execution_count": 19,
      "outputs": [
        {
          "output_type": "stream",
          "text": [
            "df =\n",
            "          a         b         c  ...         f         g         h\n",
            "0  0.052868  0.246904  0.645289  ...  0.194934  0.942832  0.568837\n",
            "1       NaN       NaN       NaN  ...  0.235669  0.650947  0.292099\n",
            "2  0.112736  0.623736  0.415929  ...  0.508011  0.170454  0.275638\n",
            "3       NaN       NaN       NaN  ...  0.044526  0.460531  0.259788\n",
            "4  0.586910  0.715945  0.608319  ...  0.444575  0.567537  0.455080\n",
            "5       NaN       NaN       NaN  ...  0.220590  0.871749  0.633056\n",
            "6  0.536751  0.338554  0.950855  ...  0.252807  0.832522  0.909799\n",
            "7       NaN       NaN       NaN  ...  0.228936  0.940663  0.383401\n",
            "8  0.342511  0.090196  0.097058  ...  0.145390  0.573314  0.340201\n",
            "9       NaN       NaN       NaN  ...  0.403233  0.453397  0.067331\n",
            "\n",
            "[10 rows x 8 columns]\n"
          ],
          "name": "stdout"
        }
      ]
    }
  ]
}