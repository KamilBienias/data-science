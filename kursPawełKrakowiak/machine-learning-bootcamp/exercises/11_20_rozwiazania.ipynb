{
  "nbformat": 4,
  "nbformat_minor": 0,
  "metadata": {
    "colab": {
      "name": "11-20_rozwiazania.ipynb",
      "provenance": [],
      "collapsed_sections": [],
      "include_colab_link": true
    },
    "kernelspec": {
      "name": "python3",
      "display_name": "Python 3"
    }
  },
  "cells": [
    {
      "cell_type": "markdown",
      "metadata": {
        "id": "view-in-github",
        "colab_type": "text"
      },
      "source": [
        "<a href=\"https://colab.research.google.com/github/KamilBienias/data-science/blob/main/kursPawe%C5%82Krakowiak/machine-learning-bootcamp/exercises/11_20_rozwiazania.ipynb\" target=\"_parent\"><img src=\"https://colab.research.google.com/assets/colab-badge.svg\" alt=\"Open In Colab\"/></a>"
      ]
    },
    {
      "cell_type": "markdown",
      "metadata": {
        "id": "EljKpWJI3HwN"
      },
      "source": [
        "## 11-20 Ćwiczenia"
      ]
    },
    {
      "cell_type": "markdown",
      "metadata": {
        "id": "8LxZw4Ai3N1e"
      },
      "source": [
        "### Ćwiczenie 11\n",
        "Podany jest poniższy obiekt *DataFrame df*:\n",
        "```\n",
        "   weight weight_cut\n",
        "0    75.0      light\n",
        "1    78.5     normal\n",
        "2    85.0      heavy\n",
        "3    91.0      heavy\n",
        "4    84.5      heavy\n",
        "5    83.0      heavy\n",
        "6    68.0      light\n",
        "```\n",
        "Dokonaj kodowania 0-1 obiektu *df* (dokładnie zmiennej *weight_cut*) dzięki funkcji *pd.get_dummies()*. Wynik wydrukuj do konsoli.\n",
        "\n",
        "**Oczekiwany wynik:**\n",
        "```\n",
        "   weight  weight_cut_light  weight_cut_normal  weight_cut_heavy\n",
        "0    75.0                 1                  0                 0\n",
        "1    78.5                 0                  1                 0\n",
        "2    85.0                 0                  0                 1\n",
        "3    91.0                 0                  0                 1\n",
        "4    84.5                 0                  0                 1\n",
        "5    83.0                 0                  0                 1\n",
        "6    68.0                 1                  0                 0\n",
        "```"
      ]
    },
    {
      "cell_type": "code",
      "metadata": {
        "id": "_QxaNOMp3FWM",
        "colab": {
          "base_uri": "https://localhost:8080/"
        },
        "outputId": "af1b62a3-02a8-4cbd-91b0-acf4f7d1ffe2"
      },
      "source": [
        "import pandas as pd\n",
        " \n",
        " \n",
        "df = pd.DataFrame(data={'weight': [75., 78.5, 85., 91., 84.5, 83., 68.]})\n",
        "df['weight_cut'] = pd.cut(df['weight'], bins=(60, 75, 80, 95), labels=['light', 'normal', 'heavy'])\n",
        "df = pd.get_dummies(df)\n",
        "print(df)"
      ],
      "execution_count": 1,
      "outputs": [
        {
          "output_type": "stream",
          "text": [
            "   weight  weight_cut_light  weight_cut_normal  weight_cut_heavy\n",
            "0    75.0                 1                  0                 0\n",
            "1    78.5                 0                  1                 0\n",
            "2    85.0                 0                  0                 1\n",
            "3    91.0                 0                  0                 1\n",
            "4    84.5                 0                  0                 1\n",
            "5    83.0                 0                  0                 1\n",
            "6    68.0                 1                  0                 0\n"
          ],
          "name": "stdout"
        }
      ]
    },
    {
      "cell_type": "markdown",
      "metadata": {
        "id": "C66fCkYD3OfR"
      },
      "source": [
        "### Ćwiczenie 12\n",
        "Podany jest poniższy obiekt *DataFrame df*:\n",
        "```\n",
        "               currency\n",
        "0            [PLN, USD]\n",
        "1  [EUR, USD, PLN, CAD]\n",
        "2                 [GBP]\n",
        "3       [JPY, CZK, HUF]\n",
        "4                    []\n",
        "```\n",
        "Do obiektu *df* przypisz nową kolumnę o nazwie *number*, która przyjmie liczbę elementów listy w kolumnie *currency*. Wynik wydrukuj do konsoli.\n",
        "\n",
        "**Oczekiwany wynik:**\n",
        "```\n",
        "               currency  number\n",
        "0            [PLN, USD]       2\n",
        "1  [EUR, USD, PLN, CAD]       4\n",
        "2                 [GBP]       1\n",
        "3       [JPY, CZK, HUF]       3\n",
        "4                    []       0\n",
        "```"
      ]
    },
    {
      "cell_type": "code",
      "metadata": {
        "id": "9ZYheT933Otj",
        "colab": {
          "base_uri": "https://localhost:8080/"
        },
        "outputId": "4d7f27fd-98f0-4385-c450-eda120dc30b3"
      },
      "source": [
        "import pandas as pd\n",
        "\n",
        "\n",
        "data_dict = {\n",
        "    'currency': [['PLN', 'USD'], ['EUR', 'USD', 'PLN', 'CAD'], ['GBP'], ['JPY', 'CZK', 'HUF'], []]\n",
        "}\n",
        "df = pd.DataFrame(data=data_dict)\n",
        "df['number'] = df['currency'].apply(len)\n",
        "print(df)"
      ],
      "execution_count": 2,
      "outputs": [
        {
          "output_type": "stream",
          "text": [
            "               currency  number\n",
            "0            [PLN, USD]       2\n",
            "1  [EUR, USD, PLN, CAD]       4\n",
            "2                 [GBP]       1\n",
            "3       [JPY, CZK, HUF]       3\n",
            "4                    []       0\n"
          ],
          "name": "stdout"
        }
      ]
    },
    {
      "cell_type": "markdown",
      "metadata": {
        "id": "_CK8WDcn3PDc"
      },
      "source": [
        "### Ćwiczenie 13\n",
        "Podany jest poniższy obiekt *DataFrame df*:\n",
        "```\n",
        "               currency\n",
        "0            [PLN, USD]\n",
        "1  [EUR, USD, PLN, CAD]\n",
        "2                 [GBP]\n",
        "3       [JPY, CZK, HUF]\n",
        "4                    []\n",
        "```\n",
        "Przypisz do obiektu *df* nową kolumnę o nazwie *PLN_flag*, która przyjmie wartość 1, gdy waluta `'PLN'` będzie w liście w kolumnie *currency* i przeciwnie 0. Wynik wydrukuj do konsoli.\n",
        "\n",
        "**Oczekiwany wynik:**\n",
        "```\n",
        "               currency  PLN_flag\n",
        "0            [PLN, USD]         1\n",
        "1  [EUR, USD, PLN, CAD]         1\n",
        "2                 [GBP]         0\n",
        "3       [JPY, CZK, HUF]         0\n",
        "4                    []         0\n",
        "```"
      ]
    },
    {
      "cell_type": "code",
      "metadata": {
        "id": "GV4fEkcG3PQf",
        "colab": {
          "base_uri": "https://localhost:8080/"
        },
        "outputId": "d846dd42-a1c8-453a-ace6-599363982d69"
      },
      "source": [
        "import pandas as pd\n",
        "\n",
        "\n",
        "data_dict = {\n",
        "    'currency': [['PLN', 'USD'], ['EUR', 'USD', 'PLN', 'CAD'], ['GBP'], ['JPY', 'CZK', 'HUF'], []]\n",
        "}\n",
        "df = pd.DataFrame(data=data_dict)\n",
        "df['PLN_flag'] = df['currency'].apply(lambda item: 1 if 'PLN' in item else 0)\n",
        "print(df)"
      ],
      "execution_count": 3,
      "outputs": [
        {
          "output_type": "stream",
          "text": [
            "               currency  PLN_flag\n",
            "0            [PLN, USD]         1\n",
            "1  [EUR, USD, PLN, CAD]         1\n",
            "2                 [GBP]         0\n",
            "3       [JPY, CZK, HUF]         0\n",
            "4                    []         0\n"
          ],
          "name": "stdout"
        }
      ]
    },
    {
      "cell_type": "markdown",
      "metadata": {
        "id": "vLN_5jUJ3Pi8"
      },
      "source": [
        "### Ćwiczenie 14\n",
        "Podany jest poniższy obiekt *DataFrame df*:\n",
        "```\n",
        "              hashtags\n",
        "0          #good#vibes\n",
        "1  #hot#summer#holiday\n",
        "2         #street#food\n",
        "3             #workout\n",
        "```\n",
        "Podziel wartości zmiennej *hashtags* względem znaku hash `#` używając metody *pd.Series.str.split()* z parametrem `expand=True`. Otrzymasz cztery kolumny. Przykładowo dla wiersza drugiego:\n",
        "```\n",
        "'#hot#summer#holiday'\n",
        "```\n",
        "odpowiednio:\n",
        "```\n",
        "['', 'hot', 'summer', 'holiday']\n",
        "```\n",
        "Usuń pierwszą kolumnę z tak otrzymanego obiektu (pierwsza kolumna zawiera puste stringi). Następnie przypisz nazwy pozostałych kolumn odpowiednio:\n",
        "\n",
        "* *hashtag1*\n",
        "* *hashtag2*\n",
        "* *hashtag3*\n",
        "\n",
        "Postać końcową obiektu *df* wydrukuj do konsoli.\n",
        "\n",
        "**Oczekiwany wynik:**\n",
        "```\n",
        "  hashtag1 hashtag2 hashtag3\n",
        "0     good    vibes     None\n",
        "1      hot   summer  holiday\n",
        "2   street     food     None\n",
        "3  workout     None     None\n",
        "```"
      ]
    },
    {
      "cell_type": "code",
      "metadata": {
        "id": "KZYkLEE83P04",
        "colab": {
          "base_uri": "https://localhost:8080/"
        },
        "outputId": "4808890a-263b-497c-c98e-9b0098eedd41"
      },
      "source": [
        "df = pd.DataFrame(data={'hashtags': ['#good#vibes', '#hot#summer#holiday', '#street#food', '#workout']})\n",
        "df = df['hashtags'].str.split('#', expand=True)\n",
        "# można też: \n",
        "# df = df.drop([0], axis=1)\n",
        "df = df.drop(columns=[0])\n",
        "df.columns = ['hashtag1', 'hashtag2', 'hashtag3']\n",
        "print(df)"
      ],
      "execution_count": 18,
      "outputs": [
        {
          "output_type": "stream",
          "text": [
            "  hashtag1 hashtag2 hashtag3\n",
            "0     good    vibes     None\n",
            "1      hot   summer  holiday\n",
            "2   street     food     None\n",
            "3  workout     None     None\n"
          ],
          "name": "stdout"
        }
      ]
    },
    {
      "cell_type": "markdown",
      "metadata": {
        "id": "JeGRBdCo3QJe"
      },
      "source": [
        "### Ćwiczenie 15\n",
        "Podany jest poniższy obiekt *df*:\n",
        "```\n",
        "  hashtag1 hashtag2 hashtag3\n",
        "0     good    vibes     None\n",
        "1      hot   summer  holiday\n",
        "2   street     food     None\n",
        "3  workout     None     None\n",
        "```\n",
        "Utwórz nową kolumnę o nazwie *missing* w obiekcie *df* i przypisz do niej liczbę brakujących hashtagów dla każdego wiersza. Przykładowo, wiersz pierwszy -> 1, wiersz drugi -> 0, wiersz trzeci -> 1, itd. \n",
        "\n",
        "W odpowiedzi wydrukuj obiekt *df* do konsoli.\n",
        "\n",
        "**Oczekiwany wynik:**\n",
        "```\n",
        "  hashtag1 hashtag2 hashtag3  missing\n",
        "0     good    vibes     None        1\n",
        "1      hot   summer  holiday        0\n",
        "2   street     food     None        1\n",
        "3  workout     None     None        2\n",
        "```"
      ]
    },
    {
      "cell_type": "code",
      "metadata": {
        "id": "NL40jUKd3QWD",
        "colab": {
          "base_uri": "https://localhost:8080/"
        },
        "outputId": "df961d4a-2f38-47ec-aac0-d359b970edf2"
      },
      "source": [
        "import pandas as pd\n",
        "\n",
        "\n",
        "df = pd.DataFrame(data={'hashtags': ['#good#vibes', '#hot#summer#holiday', '#street#food', '#workout']})\n",
        "df = df['hashtags'].str.split('#', expand=True)\n",
        "df = df.drop(columns=[0])\n",
        "df.columns = ['hashtag1', 'hashtag2', 'hashtag3']\n",
        "# można też: \n",
        "# df[\"missing\"] = df.apply(lambda x: sum(x.isna()), axis=1)\n",
        "df['missing'] = df.isnull().sum(axis=1)\n",
        "print(df)"
      ],
      "execution_count": 17,
      "outputs": [
        {
          "output_type": "stream",
          "text": [
            "  hashtag1 hashtag2 hashtag3  missing\n",
            "0     good    vibes     None        1\n",
            "1      hot   summer  holiday        0\n",
            "2   street     food     None        1\n",
            "3  workout     None     None        2\n"
          ],
          "name": "stdout"
        }
      ]
    },
    {
      "cell_type": "markdown",
      "metadata": {
        "id": "2o2P9Wiw3QpK"
      },
      "source": [
        "### Ćwiczenie 16\n",
        "Podany jest poniższy obiekt *df*:\n",
        "```\n",
        "   investments\n",
        "0  100_000_000\n",
        "1      100_000\n",
        "2   30_000_000\n",
        "3  100_500_000\n",
        "```\n",
        "Przygotuj zmienną *investments* do modelu, tzn. przekształć ją odpowiednio na typ *int*. Wynik wydrukuj do konsoli.\n",
        "\n",
        "**Oczekiwany wynik:**\n",
        "```\n",
        "   investments\n",
        "0    100000000\n",
        "1       100000\n",
        "2     30000000\n",
        "3    100500000\n",
        "```"
      ]
    },
    {
      "cell_type": "code",
      "metadata": {
        "id": "f1znbpRR3Q1Z",
        "colab": {
          "base_uri": "https://localhost:8080/"
        },
        "outputId": "8e119526-2854-495d-9bb9-ba763b306a31"
      },
      "source": [
        "import pandas as pd\n",
        "\n",
        "\n",
        "df = pd.DataFrame(data={'investments': ['100_000_000', '100_000', '30_000_000', '100_500_000']})\n",
        "df['investments'] = df['investments'].str.replace('_', '').astype(int)\n",
        "print(df)"
      ],
      "execution_count": 28,
      "outputs": [
        {
          "output_type": "stream",
          "text": [
            "   investments\n",
            "0    100000000\n",
            "1       100000\n",
            "2     30000000\n",
            "3    100500000\n"
          ],
          "name": "stdout"
        }
      ]
    },
    {
      "cell_type": "markdown",
      "metadata": {
        "id": "d42sEj_E3RI4"
      },
      "source": [
        "### Ćwiczenie 17\n",
        "Załaduj zbiór danych IRIS do zmiennej *data* wykorzystując bibliotekę *scikit-learn* oraz funkcję *load_iris()*. Następnie wyświetl wszystkie klucze zmiennej *data*.\n",
        "\n",
        "**Wskazówka:**\n",
        "\n",
        "Więcej na temat funkcji *load_iris()*: https://scikit-learn.org/stable/modules/generated/sklearn.datasets.load_iris.html\n",
        "\n",
        "**Oczekiwany wynik:**\n",
        "```\n",
        "dict_keys(['data', 'target', 'frame', 'target_names', 'DESCR', 'feature_names', 'filename'])\n",
        "```"
      ]
    },
    {
      "cell_type": "code",
      "metadata": {
        "id": "Fd0VVd753RZT",
        "colab": {
          "base_uri": "https://localhost:8080/"
        },
        "outputId": "8931678f-10e5-4b64-9d07-56157dd3d731"
      },
      "source": [
        "from sklearn.datasets import load_iris\n",
        "\n",
        "\n",
        "data = load_iris()\n",
        "print(data.keys())"
      ],
      "execution_count": 29,
      "outputs": [
        {
          "output_type": "stream",
          "text": [
            "dict_keys(['data', 'target', 'target_names', 'DESCR', 'feature_names', 'filename'])\n"
          ],
          "name": "stdout"
        }
      ]
    },
    {
      "cell_type": "markdown",
      "metadata": {
        "id": "ofA1WwBN3Swo"
      },
      "source": [
        "### Ćwiczenie 18\n",
        "Załadowano zbiór IRIS wykorzystując bibliotekę *scikit-learn* do zmiennej *data*.\n",
        "\n",
        "Wyświetl nazwy zmiennych oraz nazwy klas w zbiorze IRIS tak jak pokazano poniżej.\n",
        "\n",
        "**Oczekiwany wynik:**\n",
        "```\n",
        "['sepal length (cm)', 'sepal width (cm)', 'petal length (cm)', 'petal width (cm)']\n",
        "['setosa' 'versicolor' 'virginica']\n",
        "```"
      ]
    },
    {
      "cell_type": "code",
      "metadata": {
        "id": "9vfOoo_C3TI3",
        "colab": {
          "base_uri": "https://localhost:8080/"
        },
        "outputId": "efdd5a9e-516a-4ae9-e408-7a377c4e0e98"
      },
      "source": [
        "from sklearn.datasets import load_iris\n",
        "\n",
        "\n",
        "data = load_iris()\n",
        "print(data['feature_names'])\n",
        "print(data['target_names'])"
      ],
      "execution_count": 30,
      "outputs": [
        {
          "output_type": "stream",
          "text": [
            "['sepal length (cm)', 'sepal width (cm)', 'petal length (cm)', 'petal width (cm)']\n",
            "['setosa' 'versicolor' 'virginica']\n"
          ],
          "name": "stdout"
        }
      ]
    },
    {
      "cell_type": "markdown",
      "metadata": {
        "id": "qBLgFppP3Tbw"
      },
      "source": [
        "### Ćwiczenie 19\n",
        "Poniżej załadowano zbiór IRIS wykorzystując bibliotekę *scikit-learn* do zmiennej *data_raw*. Do zmiennej *data* przypisz dane (tablica *numpy*) zbioru IRIS. Do zmiennej *target* przypisz wartości zmiennej docelowej (*target*) ze zbioru IRIS. Wydrukuj kształt zmiennych: *data* oraz *target* do konsoli.\n",
        "\n",
        "**Oczekiwany wynik:**\n",
        "```\n",
        "(150, 4)\n",
        "(150,)\n",
        "```"
      ]
    },
    {
      "cell_type": "code",
      "metadata": {
        "id": "Salee-Tw3TpX",
        "colab": {
          "base_uri": "https://localhost:8080/"
        },
        "outputId": "ebcbb714-bd4c-419f-ce3e-e6fe80572ce8"
      },
      "source": [
        "from sklearn.datasets import load_iris\n",
        "\n",
        "\n",
        "data_raw = load_iris()\n",
        "data = data_raw['data']\n",
        "target = data_raw['target']\n",
        "print(data.shape)\n",
        "print(target.shape)\n",
        "\n",
        "print(\"Typy\")\n",
        "print(type(data))\n",
        "print(type(target))"
      ],
      "execution_count": 33,
      "outputs": [
        {
          "output_type": "stream",
          "text": [
            "(150, 4)\n",
            "(150,)\n",
            "Typy\n",
            "<class 'numpy.ndarray'>\n",
            "<class 'numpy.ndarray'>\n"
          ],
          "name": "stdout"
        }
      ]
    },
    {
      "cell_type": "markdown",
      "metadata": {
        "id": "YnYmTPZN3UFI"
      },
      "source": [
        "### Ćwiczenie 20\n",
        "Poniżej załadowano zbiór IRIS wykorzystując bibliotekę *scikit-learn* do zmiennej *data_raw*. Do zmiennej *data* przypisano dane zbioru IRIS. Do zmiennej *target* przypisano wartości zmiennej docelowej ze zbioru IRIS. Wykorzystując bibliotekę *scikit-learn* oraz funkcję *train_test_split()* podziel dane na zbiór treningowy (*data_train, target_train*) i testowy (*data_test, target_test*). Ustal rozmiar zbioru testowego na 30% próbek. \n",
        "\n",
        "W odpowiedzi wyświetl rozmiar zbiorów:\n",
        "\n",
        "* data_train\n",
        "* target_train\n",
        "* data_test\n",
        "* target_test\n",
        "\n",
        "**Wskazówka:**\n",
        "\n",
        "Więcej o funkcji *train_test_split()*: https://scikit-learn.org/stable/modules/generated/sklearn.model_selection.train_test_split.html\n",
        "\n",
        "**Oczekiwany wynik:**\n",
        "```\n",
        "data_train shape: (105, 4)\n",
        "target_train shape: (105,)\n",
        "data_test shape: (45, 4)\n",
        "target_test shape: (45,)\n",
        "```"
      ]
    },
    {
      "cell_type": "code",
      "metadata": {
        "id": "YhP8bweE3UWg",
        "colab": {
          "base_uri": "https://localhost:8080/"
        },
        "outputId": "e88b05e7-9c5c-4aee-9c85-f71c9317c1fc"
      },
      "source": [
        "from sklearn.datasets import load_iris\n",
        "from sklearn.model_selection import train_test_split\n",
        "\n",
        "\n",
        "data_raw = load_iris()\n",
        "data = data_raw['data']\n",
        "target = data_raw['target']\n",
        "data_train, data_test, target_train, target_test = train_test_split(data, target, test_size=0.3)\n",
        "print(f'data_train shape: {data_train.shape}')\n",
        "print(f'target_train shape: {target_train.shape}')\n",
        "print(f'data_test shape: {data_test.shape}')\n",
        "print(f'target_test shape: {target_test.shape}')"
      ],
      "execution_count": 34,
      "outputs": [
        {
          "output_type": "stream",
          "text": [
            "data_train shape: (105, 4)\n",
            "target_train shape: (105,)\n",
            "data_test shape: (45, 4)\n",
            "target_test shape: (45,)\n"
          ],
          "name": "stdout"
        }
      ]
    },
    {
      "cell_type": "code",
      "metadata": {
        "id": "Ot3M9_eHCggg"
      },
      "source": [
        ""
      ],
      "execution_count": null,
      "outputs": []
    }
  ]
}