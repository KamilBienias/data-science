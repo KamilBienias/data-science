{
  "nbformat": 4,
  "nbformat_minor": 0,
  "metadata": {
    "colab": {
      "name": "01-10_rozwiazania.ipynb",
      "provenance": [],
      "collapsed_sections": [],
      "include_colab_link": true
    },
    "kernelspec": {
      "name": "python3",
      "display_name": "Python 3"
    }
  },
  "cells": [
    {
      "cell_type": "markdown",
      "metadata": {
        "id": "view-in-github",
        "colab_type": "text"
      },
      "source": [
        "<a href=\"https://colab.research.google.com/github/KamilBienias/data-science/blob/main/kursPawe%C5%82Krakowiak/machine-learning-bootcamp/exercises/01_10_rozwiazania.ipynb\" target=\"_parent\"><img src=\"https://colab.research.google.com/assets/colab-badge.svg\" alt=\"Open In Colab\"/></a>"
      ]
    },
    {
      "cell_type": "markdown",
      "metadata": {
        "id": "e3IsSLQlqcv7"
      },
      "source": [
        "## 01-10 Ćwiczenia"
      ]
    },
    {
      "cell_type": "markdown",
      "metadata": {
        "id": "K4yBb_XDqfVU"
      },
      "source": [
        "### Ćwiczenie 1\n",
        "\n",
        "Z poniższego słownika data utwórz obiekt *DataFrame* i przypisz do zmiennej *df*. Następnie zapoznaj się z obiektem *df* i sprawdź liczbę braków danych dla poszczególnych zmiennych. Podaj procent braków. Wynik zaokrąglij do drugiego miejsca po przecinku i wydrukuj do konsoli tak jak pokazano poniżej.\n",
        "\n",
        "**Oczekiwany rezultat:**\n",
        "```\n",
        "size      0.17\n",
        "color     0.00\n",
        "gender    0.17\n",
        "price     0.17\n",
        "weight    0.33\n",
        "bought    0.00\n",
        "dtype: float64\n",
        "```"
      ]
    },
    {
      "cell_type": "code",
      "metadata": {
        "id": "ov_w9P8QqZkh",
        "colab": {
          "base_uri": "https://localhost:8080/"
        },
        "outputId": "b8181084-64a2-4fd8-d580-8af62087b4c4"
      },
      "source": [
        "import numpy as np\n",
        "import pandas as pd\n",
        "\n",
        "\n",
        "data = {\n",
        "    'size': ['XL', 'L', 'M', np.nan, 'M', 'M'],\n",
        "    'color': ['red', 'green', 'blue', 'green', 'red', 'green'],\n",
        "    'gender': ['female', 'male', np.nan, 'female', 'female', 'male'],\n",
        "    'price': [199.0, 89.0, np.nan, 129.0, 79.0, 89.0],\n",
        "    'weight': [500, 450, 300, np.nan, 410, np.nan],\n",
        "    'bought': ['yes', 'no', 'yes', 'no', 'yes', 'no']\n",
        "}\n",
        "\n",
        "df = pd.DataFrame(data=data)\n",
        "print(\"Tak wygląda na df z i flagi czy komórka ma wartość null\")\n",
        "print(df.isnull())\n",
        "print()\n",
        "print(\"Ilość nulli w każdej kolumnie\")\n",
        "print(df.isnull().sum())\n",
        "print()\n",
        "print(\"Wyświetlenie jaką część każdej kolumny stanowią nulle\")\n",
        "print(np.round(df.isnull().sum() / len(df), 2))"
      ],
      "execution_count": null,
      "outputs": [
        {
          "output_type": "stream",
          "text": [
            "Tak wygląda na df z i flagi czy komórka ma wartość null\n",
            "    size  color  gender  price  weight  bought\n",
            "0  False  False   False  False   False   False\n",
            "1  False  False   False  False   False   False\n",
            "2  False  False    True   True   False   False\n",
            "3   True  False   False  False    True   False\n",
            "4  False  False   False  False   False   False\n",
            "5  False  False   False  False    True   False\n",
            "\n",
            "Ilość nulli w każdej kolumnie\n",
            "size      1\n",
            "color     0\n",
            "gender    1\n",
            "price     1\n",
            "weight    2\n",
            "bought    0\n",
            "dtype: int64\n",
            "\n",
            "Wyświetlenie jaką część każdej kolumny stanowią nulle\n",
            "size      0.17\n",
            "color     0.00\n",
            "gender    0.17\n",
            "price     0.17\n",
            "weight    0.33\n",
            "bought    0.00\n",
            "dtype: float64\n"
          ],
          "name": "stdout"
        }
      ]
    },
    {
      "cell_type": "markdown",
      "metadata": {
        "id": "5xdMWjkPqhKo"
      },
      "source": [
        "### Ćwiczenie 2\n",
        "Podany jest obiekt *DataFrame df* określony poniżej:\n",
        "```\n",
        "  size  color  gender  price  weight bought\n",
        "0   XL    red  female  199.0   500.0    yes\n",
        "1    L  green    male   89.0   450.0     no\n",
        "2    M   blue     NaN    NaN   300.0    yes\n",
        "3  NaN  green  female  129.0     NaN     no\n",
        "4    M    red  female   79.0   410.0    yes\n",
        "5    M  green    male   89.0     NaN     no\n",
        "```\n",
        "Wykorzystując bibliotekę do uczenia maszynowego *scikit-learn* oraz klasę *SimpleImputer* uzupełnij braki danych dla zmiennej *weight* wartością średnią. Zmiany przypisz na stałe do obiektu *df*. W odpowiedzi wydrukuj obiekt *df* do konsoli.\n",
        "\n",
        "**Wskazówka:**\n",
        "\n",
        "Więcej na temat klasy *SimpleImputer*: https://scikit-learn.org/stable/modules/generated/sklearn.impute.SimpleImputer.html\n",
        "\n",
        "**Oczekiwany wynik:**\n",
        "```\n",
        "  size  color  gender  price  weight bought\n",
        "0   XL    red  female  199.0   500.0    yes\n",
        "1    L  green    male   89.0   450.0     no\n",
        "2    M   blue     NaN    NaN   300.0    yes\n",
        "3  NaN  green  female  129.0   415.0     no\n",
        "4    M    red  female   79.0   410.0    yes\n",
        "5    M  green    male   89.0   415.0     no\n",
        "```"
      ]
    },
    {
      "cell_type": "code",
      "metadata": {
        "id": "N4-KYtVqqhcp",
        "colab": {
          "base_uri": "https://localhost:8080/"
        },
        "outputId": "8cc05f94-df82-49ee-a8c4-b8961e005715"
      },
      "source": [
        "import numpy as np\n",
        "import pandas as pd\n",
        "from sklearn.impute import SimpleImputer\n",
        "\n",
        "\n",
        "data = {\n",
        "    'size': ['XL', 'L', 'M', np.nan, 'M', 'M'],\n",
        "    'color': ['red', 'green', 'blue', 'green', 'red', 'green'],\n",
        "    'gender': ['female', 'male', np.nan, 'female', 'female', 'male'],\n",
        "    'price': [199.0, 89.0, np.nan, 129.0, 79.0, 89.0],\n",
        "    'weight': [500, 450, 300, np.nan, 410, np.nan],\n",
        "    'bought': ['yes', 'no', 'yes', 'no', 'yes', 'no']\n",
        "}\n",
        "\n",
        "df = pd.DataFrame(data=data)\n",
        "# możliwe wartości jakie mogę wstawić do paramatru strategy:\n",
        "# strategy: 'mean', 'median', 'most_frequent', 'constant'\n",
        "imputer = SimpleImputer(missing_values=np.nan, strategy='mean')\n",
        "# dopasowanie i transformacja kolumny weight\n",
        "df[['weight']] = imputer.fit_transform(df[['weight']])\n",
        "print(df)"
      ],
      "execution_count": null,
      "outputs": [
        {
          "output_type": "stream",
          "text": [
            "  size  color  gender  price  weight bought\n",
            "0   XL    red  female  199.0   500.0    yes\n",
            "1    L  green    male   89.0   450.0     no\n",
            "2    M   blue     NaN    NaN   300.0    yes\n",
            "3  NaN  green  female  129.0   415.0     no\n",
            "4    M    red  female   79.0   410.0    yes\n",
            "5    M  green    male   89.0   415.0     no\n"
          ],
          "name": "stdout"
        }
      ]
    },
    {
      "cell_type": "markdown",
      "metadata": {
        "id": "43yEpvAtqhzh"
      },
      "source": [
        "### Ćwiczenie 3\n",
        "Poniżej podany jest obiekt *DataFrame df*:\n",
        "```\n",
        "  size  color  gender  price  weight bought\n",
        "0   XL    red  female  199.0   500.0    yes\n",
        "1    L  green    male   89.0   450.0     no\n",
        "2    M   blue     NaN    NaN   300.0    yes\n",
        "3  NaN  green  female  129.0     NaN     no\n",
        "4    M    red  female   79.0   410.0    yes\n",
        "5    M  green    male   89.0     NaN     no\n",
        "```\n",
        "Braki danych dla zmiennej *weight* zastąpiono średnią wartością tej zmiennej wykorzystując klasę *SimpleImputer* z biblioteki *scikit-learn*. Wyświetl wartość średnią wstawioną w miejsce braków dla zmiennej *weight* (wykorzystaj instancję klasy *SimpleImputer*).\n",
        "\n",
        "**Wskazówka:** \n",
        "\n",
        "Więcej na temat klasy *SimpleImputer*: https://scikit-learn.org/stable/modules/generated/sklearn.impute.SimpleImputer.html\n",
        "\n",
        "**Oczekiwany wynik:**\n",
        "```\n",
        "415.0\n",
        "```"
      ]
    },
    {
      "cell_type": "code",
      "metadata": {
        "id": "_Mav--sKqiKD",
        "colab": {
          "base_uri": "https://localhost:8080/"
        },
        "outputId": "b0fc6024-275f-4511-ef5b-581d8e9c4a83"
      },
      "source": [
        "import numpy as np\n",
        "import pandas as pd\n",
        "from sklearn.impute import SimpleImputer\n",
        "\n",
        "\n",
        "data = {\n",
        "    'size': ['XL', 'L', 'M', np.nan, 'M', 'M'],\n",
        "    'color': ['red', 'green', 'blue', 'green', 'red', 'green'],\n",
        "    'gender': ['female', 'male', np.nan, 'female', 'female', 'male'],\n",
        "    'price': [199.0, 89.0, np.nan, 129.0, 79.0, 89.0],\n",
        "    'weight': [500, 450, 300, np.nan, 410, np.nan],\n",
        "    'bought': ['yes', 'no', 'yes', 'no', 'yes', 'no']\n",
        "}\n",
        "\n",
        "df = pd.DataFrame(data=data)\n",
        "imputer = SimpleImputer(missing_values=np.nan, strategy='mean')\n",
        "df[['weight']] = imputer.fit_transform(df[['weight']])\n",
        "print(\"Cała lista statystyk jest atrybutem obiektu imputer\")\n",
        "print(imputer.statistics_)\n",
        "print(\"Wybranie pierwszej statystyki\")\n",
        "print(imputer.statistics_[0])\n",
        "\n",
        "print()\n",
        "print(\"Sam wymyśliłem żeby brakującą cenę zastąpić przez medianę cen\")\n",
        "imputer_price = SimpleImputer(missing_values=np.nan, strategy='median')\n",
        "df[[\"price\"]] = imputer_price.fit_transform(df[[\"price\"]])\n",
        "print(\"Cała lista statystyk jest atrybutem obiektu imputer\")\n",
        "print(imputer_price.statistics_)\n",
        "print(\"Wybranie pierwszej statystyki\")\n",
        "print(imputer_price.statistics_[0])\n",
        "\n",
        "print()\n",
        "print(df)"
      ],
      "execution_count": null,
      "outputs": [
        {
          "output_type": "stream",
          "text": [
            "Cała lista statystyk jest atrybutem obiektu imputer\n",
            "[415.]\n",
            "Wybranie pierwszej statystyki\n",
            "415.0\n",
            "\n",
            "Sam wymyśliłem żeby brakującą cenę zastąpić przez medianę cen\n",
            "Cała lista statystyk jest atrybutem obiektu imputer\n",
            "[89.]\n",
            "Wybranie pierwszej statystyki\n",
            "89.0\n",
            "\n",
            "  size  color  gender  price  weight bought\n",
            "0   XL    red  female  199.0   500.0    yes\n",
            "1    L  green    male   89.0   450.0     no\n",
            "2    M   blue     NaN   89.0   300.0    yes\n",
            "3  NaN  green  female  129.0   415.0     no\n",
            "4    M    red  female   79.0   410.0    yes\n",
            "5    M  green    male   89.0   415.0     no\n"
          ],
          "name": "stdout"
        }
      ]
    },
    {
      "cell_type": "markdown",
      "metadata": {
        "id": "NHkKIb4PqifR"
      },
      "source": [
        "### Ćwiczenie 4\n",
        "Poniżej podany jest obiekt *DataFrame df*:\n",
        "```\n",
        "  size  color  gender  price  weight bought\n",
        "0   XL    red  female  199.0   500.0    yes\n",
        "1    L  green    male   89.0   450.0     no\n",
        "2    M   blue     NaN    NaN   300.0    yes\n",
        "3  NaN  green  female  129.0     NaN     no\n",
        "4    M    red  female   79.0   410.0    yes\n",
        "5    M  green    male   89.0     NaN     no\n",
        "```\n",
        "Wykorzystując bibliotekę do uczenia maszynowego *scikit-learn* oraz klasę *SimpleImputer* uzupełnij braki danych dla zmiennej *price* stałą wartością 99.0. Zmiany przypisz na stałe do obiektu *df*. W odpowiedzi wydrukuj obiekt *df* do konsoli.\n",
        "\n",
        "**Wskazówka:** \n",
        "\n",
        "Więcej na temat klasy *SimpleImputer*: https://scikit-learn.org/stable/modules/generated/sklearn.impute.SimpleImputer.html\n",
        "\n",
        "**Oczekiwany wynik:**\n",
        "```\n",
        "  size  color  gender  price  weight bought\n",
        "0   XL    red  female  199.0   500.0    yes\n",
        "1    L  green    male   89.0   450.0     no\n",
        "2    M   blue     NaN   99.0   300.0    yes\n",
        "3  NaN  green  female  129.0     NaN     no\n",
        "4    M    red  female   79.0   410.0    yes\n",
        "5    M  green    male   89.0     NaN     no\n",
        "```"
      ]
    },
    {
      "cell_type": "code",
      "metadata": {
        "id": "aBcH_J-iqi4F",
        "colab": {
          "base_uri": "https://localhost:8080/"
        },
        "outputId": "e59447ff-8792-4139-814a-1b3b4e7e8345"
      },
      "source": [
        "import numpy as np\n",
        "import pandas as pd\n",
        "from sklearn.impute import SimpleImputer\n",
        "\n",
        "\n",
        "data = {\n",
        "    'size': ['XL', 'L', 'M', np.nan, 'M', 'M'],\n",
        "    'color': ['red', 'green', 'blue', 'green', 'red', 'green'],\n",
        "    'gender': ['female', 'male', np.nan, 'female', 'female', 'male'],\n",
        "    'price': [199.0, 89.0, np.nan, 129.0, 79.0, 89.0],\n",
        "    'weight': [500, 450, 300, np.nan, 410, np.nan],\n",
        "    'bought': ['yes', 'no', 'yes', 'no', 'yes', 'no']\n",
        "}\n",
        "\n",
        "df = pd.DataFrame(data=data)\n",
        "imputer = SimpleImputer(missing_values=np.nan, strategy='constant', fill_value=99.0)\n",
        "df[['price']] = imputer.fit_transform(df[['price']])\n",
        "print(df)"
      ],
      "execution_count": null,
      "outputs": [
        {
          "output_type": "stream",
          "text": [
            "  size  color  gender  price  weight bought\n",
            "0   XL    red  female  199.0   500.0    yes\n",
            "1    L  green    male   89.0   450.0     no\n",
            "2    M   blue     NaN   99.0   300.0    yes\n",
            "3  NaN  green  female  129.0     NaN     no\n",
            "4    M    red  female   79.0   410.0    yes\n",
            "5    M  green    male   89.0     NaN     no\n"
          ],
          "name": "stdout"
        }
      ]
    },
    {
      "cell_type": "markdown",
      "metadata": {
        "id": "SFYTKeJBqjRQ"
      },
      "source": [
        "### Ćwiczenie 5\n",
        "Poniżej podany jest obiekt *DataFrame df:*\n",
        "```\n",
        "  size  color  gender  price  weight bought\n",
        "0   XL    red  female  199.0   500.0    yes\n",
        "1    L  green    male   89.0   450.0     no\n",
        "2    M   blue     NaN    NaN   300.0    yes\n",
        "3  NaN  green  female  129.0     NaN     no\n",
        "4    M    red  female   79.0   410.0    yes\n",
        "5    M  green    male   89.0     NaN     no\n",
        "```\n",
        "Wykorzystując bibliotekę do uczenia maszynowego *scikit-learn* oraz klasę *SimpleImputer* uzupełnij braki danych dla zmiennej *size* najczęściej pojawiającym się elementem tej zmiennej. Zmiany przypisz na stałe do obiektu *df*. W odpowiedzi wydrukuj obiekt *df* do konsoli.\n",
        "\n",
        "**Wskazówka:**\n",
        "\n",
        "Więcej na temat klasy *SimpleImputer*: https://scikit-learn.org/stable/modules/generated/sklearn.impute.SimpleImputer.html\n",
        "\n",
        "**Oczekiwany wynik:**\n",
        "```\n",
        "  size  color  gender  price  weight bought\n",
        "0   XL    red  female  199.0   500.0    yes\n",
        "1    L  green    male   89.0   450.0     no\n",
        "2    M   blue     NaN    NaN   300.0    yes\n",
        "3    M  green  female  129.0     NaN     no\n",
        "4    M    red  female   79.0   410.0    yes\n",
        "5    M  green    male   89.0     NaN     no\n",
        "```"
      ]
    },
    {
      "cell_type": "code",
      "metadata": {
        "id": "6ViQNzF_qjem",
        "colab": {
          "base_uri": "https://localhost:8080/"
        },
        "outputId": "366e25a0-a6f2-4f9a-b1ab-66361f394a70"
      },
      "source": [
        "import numpy as np\n",
        "import pandas as pd\n",
        "from sklearn.impute import SimpleImputer\n",
        "\n",
        "\n",
        "data = {\n",
        "    'size': ['XL', 'L', 'M', np.nan, 'M', 'M'],\n",
        "    'color': ['red', 'green', 'blue', 'green', 'red', 'green'],\n",
        "    'gender': ['female', 'male', np.nan, 'female', 'female', 'male'],\n",
        "    'price': [199.0, 89.0, np.nan, 129.0, 79.0, 89.0],\n",
        "    'weight': [500, 450, 300, np.nan, 410, np.nan],\n",
        "    'bought': ['yes', 'no', 'yes', 'no', 'yes', 'no']\n",
        "}\n",
        "\n",
        "df = pd.DataFrame(data=data)\n",
        "imputer = SimpleImputer(missing_values=np.nan, strategy='most_frequent')\n",
        "df[['size']] = imputer.fit_transform(df[['size']])\n",
        "print(df)"
      ],
      "execution_count": null,
      "outputs": [
        {
          "output_type": "stream",
          "text": [
            "  size  color  gender  price  weight bought\n",
            "0   XL    red  female  199.0   500.0    yes\n",
            "1    L  green    male   89.0   450.0     no\n",
            "2    M   blue     NaN    NaN   300.0    yes\n",
            "3    M  green  female  129.0     NaN     no\n",
            "4    M    red  female   79.0   410.0    yes\n",
            "5    M  green    male   89.0     NaN     no\n"
          ],
          "name": "stdout"
        }
      ]
    },
    {
      "cell_type": "markdown",
      "metadata": {
        "id": "V0qFFYdLqjzQ"
      },
      "source": [
        "### Ćwiczenie 6\n",
        "Podany jest poniższy obiekt *DataFrame:*\n",
        "```\n",
        "  size  color  gender  price  weight bought\n",
        "0   XL    red  female  199.0   500.0    yes\n",
        "1    L  green    male   89.0   450.0     no\n",
        "2    M   blue     NaN    NaN   300.0    yes\n",
        "3  NaN  green  female  129.0     NaN     no\n",
        "4    M    red  female   79.0   410.0    yes\n",
        "5    M  green    male   89.0     NaN     no\n",
        "```\n",
        "Wytnij wszystkie wiersze obiektu *df* dla których zmienna *weight* nie przyjmuje wartość *np.nan*. Na tak otrzymanym obiekcie policz wartość średnią dla kolumn numerycznych *price* oraz *weight*. Wynik wydrukuj do konsoli.\n",
        "\n",
        "**Oczekiwany wynik:**\n",
        "```\n",
        "price     122.333333\n",
        "weight    415.000000\n",
        "dtype: float64\n",
        "```"
      ]
    },
    {
      "cell_type": "code",
      "metadata": {
        "id": "6td2HHpgqkCk",
        "colab": {
          "base_uri": "https://localhost:8080/"
        },
        "outputId": "a0172ec8-caa3-448c-db02-4f626112ad91"
      },
      "source": [
        "import numpy as np\n",
        "import pandas as pd\n",
        "from sklearn.impute import SimpleImputer\n",
        "\n",
        "\n",
        "data = {\n",
        "    'size': ['XL', 'L', 'M', np.nan, 'M', 'M'],\n",
        "    'color': ['red', 'green', 'blue', 'green', 'red', 'green'],\n",
        "    'gender': ['female', 'male', np.nan, 'female', 'female', 'male'],\n",
        "    'price': [199.0, 89.0, np.nan, 129.0, 79.0, 89.0],\n",
        "    'weight': [500, 450, 300, np.nan, 410, np.nan],\n",
        "    'bought': ['yes', 'no', 'yes', 'no', 'yes', 'no']\n",
        "}\n",
        "\n",
        "df = pd.DataFrame(data=data)\n",
        "print(\"Sprawdza braki danych w kolumnie weight. Zwraca maskę logiczną\")\n",
        "print(pd.isnull(df['weight']))\n",
        "print()\n",
        "print(\"Korzystając z maski zwraca wiersze, w których występują braki w kolumnie weight\")\n",
        "print(df[pd.isnull(df['weight'])])\n",
        "print()\n",
        "print(\"Sam wyświetlam średnią z kolumn, w których nie ma braków w kolumnie 'weight'\")\n",
        "print(df[~pd.isnull(df['weight'])].mean())\n",
        "\n",
        "print()\n",
        "print(\"Szybki sposób\")\n",
        "print(df[~df['weight'].isnull()].mean())"
      ],
      "execution_count": null,
      "outputs": [
        {
          "output_type": "stream",
          "text": [
            "Sprawdza braki danych w kolumnie weight. Zwraca maskę logiczną\n",
            "0    False\n",
            "1    False\n",
            "2    False\n",
            "3     True\n",
            "4    False\n",
            "5     True\n",
            "Name: weight, dtype: bool\n",
            "\n",
            "Korzystając z maski zwraca wiersze, w których występują braki w kolumnie weight\n",
            "  size  color  gender  price  weight bought\n",
            "3  NaN  green  female  129.0     NaN     no\n",
            "5    M  green    male   89.0     NaN     no\n",
            "\n",
            "Sam wyświetlam średnią z kolumn, w których nie ma braków w kolumnie 'weight'\n",
            "price     122.333333\n",
            "weight    415.000000\n",
            "dtype: float64\n",
            "\n",
            "Szybki sposób\n",
            "price     122.333333\n",
            "weight    415.000000\n",
            "dtype: float64\n"
          ],
          "name": "stdout"
        }
      ]
    },
    {
      "cell_type": "markdown",
      "metadata": {
        "id": "R_NKEulDqkVh"
      },
      "source": [
        "### Ćwiczenie 7\n",
        "Podany jest poniższy obiekt *DataFrame df*:\n",
        "```\n",
        "  size  color  gender  price  weight bought\n",
        "0   XL    red  female  199.0   500.0    yes\n",
        "1    L  green    male   89.0   450.0     no\n",
        "2    M   blue     NaN    NaN   300.0    yes\n",
        "3  NaN  green  female  129.0     NaN     no\n",
        "4    M    red  female   79.0   410.0    yes\n",
        "5    M  green    male   89.0     NaN     no\n",
        "```\n",
        "Wydobądź z obiektu *df* zmienne typu *object*. Następnie uzupełnij wszystkie braki dla tych zmiennych wartością `'empty'`. Przypisz wynik do zmiennej *df_object*. Wydrukuj zmienną *df_object* do konsoli.\n",
        "\n",
        "**Oczekiwany wynik:**\n",
        "```\n",
        "    size  color  gender bought\n",
        "0     XL    red  female    yes\n",
        "1      L  green    male     no\n",
        "2      M   blue   empty    yes\n",
        "3  empty  green  female     no\n",
        "4      M    red  female    yes\n",
        "5      M  green    male     no\n",
        "```"
      ]
    },
    {
      "cell_type": "code",
      "metadata": {
        "id": "fMyP_x2mqkhg",
        "colab": {
          "base_uri": "https://localhost:8080/"
        },
        "outputId": "4e314a71-4e3b-4144-9c1b-126ee33eee62"
      },
      "source": [
        "import numpy as np\n",
        "import pandas as pd\n",
        "from sklearn.impute import SimpleImputer\n",
        "\n",
        "\n",
        "data = {\n",
        "    'size': ['XL', 'L', 'M', np.nan, 'M', 'M'],\n",
        "    'color': ['red', 'green', 'blue', 'green', 'red', 'green'],\n",
        "    'gender': ['female', 'male', np.nan, 'female', 'female', 'male'],\n",
        "    'price': [199.0, 89.0, np.nan, 129.0, 79.0, 89.0],\n",
        "    'weight': [500, 450, 300, np.nan, 410, np.nan],\n",
        "    'bought': ['yes', 'no', 'yes', 'no', 'yes', 'no']\n",
        "}\n",
        "\n",
        "df = pd.DataFrame(data=data)\n",
        "\n",
        "print(\"Typy kolum\")\n",
        "print(df.dtypes)\n",
        "\n",
        "print()\n",
        "print(\"Wybiera kolumny o typie 'object'\")\n",
        "print(df.select_dtypes(include='object'))\n",
        "\n",
        "print()\n",
        "print(\"W typach tekstowych uzupełnia NaN jako empty\")\n",
        "df_object = df.select_dtypes(include=['object']).fillna('empty')\n",
        "print(df_object)"
      ],
      "execution_count": null,
      "outputs": [
        {
          "output_type": "stream",
          "text": [
            "Typy kolum\n",
            "size       object\n",
            "color      object\n",
            "gender     object\n",
            "price     float64\n",
            "weight    float64\n",
            "bought     object\n",
            "dtype: object\n",
            "\n",
            "Wybiera kolumny o typie 'object'\n",
            "  size  color  gender bought\n",
            "0   XL    red  female    yes\n",
            "1    L  green    male     no\n",
            "2    M   blue     NaN    yes\n",
            "3  NaN  green  female     no\n",
            "4    M    red  female    yes\n",
            "5    M  green    male     no\n",
            "\n",
            "W typach tekstowych uzupełnia NaN jako empty\n",
            "    size  color  gender bought\n",
            "0     XL    red  female    yes\n",
            "1      L  green    male     no\n",
            "2      M   blue   empty    yes\n",
            "3  empty  green  female     no\n",
            "4      M    red  female    yes\n",
            "5      M  green    male     no\n"
          ],
          "name": "stdout"
        }
      ]
    },
    {
      "cell_type": "markdown",
      "metadata": {
        "id": "arlK42S4qlA_"
      },
      "source": [
        "### Ćwiczenie 8\n",
        "Podany jest poniższy obiekt *DataFrame*:\n",
        "```\n",
        "df = pd.DataFrame(data={'weight': [75., 78.5, 85., 91., 84.5, 83., 68.]})\n",
        "```\n",
        "Dokonaj dyskretyzacji zmiennej *weight* na 3 przedziały o równej szerokości. Wynik przypisz do nowej kolumny *weight_cut*. Wydrukuj obiekt *df* do konsoli.\n",
        "\n",
        "**Oczekiwany wynik:**\n",
        "```\n",
        "   weight        weight_cut\n",
        "0    75.0  (67.977, 75.667]\n",
        "1    78.5  (75.667, 83.333]\n",
        "2    85.0    (83.333, 91.0]\n",
        "3    91.0    (83.333, 91.0]\n",
        "4    84.5    (83.333, 91.0]\n",
        "5    83.0  (75.667, 83.333]\n",
        "6    68.0  (67.977, 75.667]\n",
        "```"
      ]
    },
    {
      "cell_type": "code",
      "metadata": {
        "id": "eJjq6lUxqlP7",
        "colab": {
          "base_uri": "https://localhost:8080/"
        },
        "outputId": "050e8c98-c362-4d3a-c416-efd6ecaf176b"
      },
      "source": [
        "import pandas as pd\n",
        "\n",
        "\n",
        "df = pd.DataFrame(data={'weight': [75., 78.5, 85., 91., 84.5, 83., 68.]})\n",
        "df['weight_cut'] = pd.cut(df['weight'], bins=3)\n",
        "print(df)"
      ],
      "execution_count": null,
      "outputs": [
        {
          "output_type": "stream",
          "text": [
            "   weight        weight_cut\n",
            "0    75.0  (67.977, 75.667]\n",
            "1    78.5  (75.667, 83.333]\n",
            "2    85.0    (83.333, 91.0]\n",
            "3    91.0    (83.333, 91.0]\n",
            "4    84.5    (83.333, 91.0]\n",
            "5    83.0  (75.667, 83.333]\n",
            "6    68.0  (67.977, 75.667]\n"
          ],
          "name": "stdout"
        }
      ]
    },
    {
      "cell_type": "markdown",
      "metadata": {
        "id": "w5bdjbbNqlk_"
      },
      "source": [
        "### Ćwiczenie 9\n",
        "Podany jest poniższy obiekt *DataFrame*:\n",
        "```\n",
        "df = pd.DataFrame(data={'weight': [75., 78.5, 85., 91., 84.5, 83., 68.]})\n",
        "```\n",
        "Dokonaj dyskretyzacji zmiennej *weight* na 3 przedziały o zadanej postaci:\n",
        "\n",
        "* (60, 75]\n",
        "* (75, 80]\n",
        "* (80, 95]\n",
        "\n",
        "Wynik przypisz do nowej kolumny *weight_cut*. W odpowiedzi wydrukuj obiekt *df* do konsoli.\n",
        "\n",
        "**Oczekiwany wynik:**\n",
        "```\n",
        "   weight weight_cut\n",
        "0    75.0   (60, 75]\n",
        "1    78.5   (75, 80]\n",
        "2    85.0   (80, 95]\n",
        "3    91.0   (80, 95]\n",
        "4    84.5   (80, 95]\n",
        "5    83.0   (80, 95]\n",
        "6    68.0   (60, 75]\n",
        "```"
      ]
    },
    {
      "cell_type": "code",
      "metadata": {
        "id": "rvsl86uzql4j",
        "colab": {
          "base_uri": "https://localhost:8080/"
        },
        "outputId": "75d82d3e-db3a-4aed-8776-8a8ad2de96fa"
      },
      "source": [
        "import pandas as pd\n",
        "\n",
        "\n",
        "df = pd.DataFrame(data={'weight': [75., 78.5, 85., 91., 84.5, 83., 68.]})\n",
        "df['weight_cut'] = pd.cut(df['weight'], bins=(60, 75, 80, 95))\n",
        "print(df)"
      ],
      "execution_count": 1,
      "outputs": [
        {
          "output_type": "stream",
          "text": [
            "   weight weight_cut\n",
            "0    75.0   (60, 75]\n",
            "1    78.5   (75, 80]\n",
            "2    85.0   (80, 95]\n",
            "3    91.0   (80, 95]\n",
            "4    84.5   (80, 95]\n",
            "5    83.0   (80, 95]\n",
            "6    68.0   (60, 75]\n"
          ],
          "name": "stdout"
        }
      ]
    },
    {
      "cell_type": "markdown",
      "metadata": {
        "id": "JFfZX7YDqmNN"
      },
      "source": [
        "### Ćwiczenie 10\n",
        "Podany jest poniższy obiekt *DataFrame*:\n",
        "```\n",
        "df = pd.DataFrame(data={'weight': [75., 78.5, 85., 91., 84.5, 83., 68.]})\n",
        "```\n",
        "Dokonaj dyskretyzacji zmiennej *weight* na 3 przedziały o zadanej postaci:\n",
        "\n",
        "* (60, 75]\n",
        "* (75, 80]\n",
        "* (80, 95]\n",
        "\n",
        "oraz przypisz im odpowiednio etykiety:\n",
        "\n",
        "* *light*\n",
        "* *normal*\n",
        "* *heavy*\n",
        "\n",
        "Wynik przypisz do nowej kolumny *height_cut*. Wydrukuj obiekt *df* do konsoli.\n",
        "\n",
        "**Oczekiwany wynik:**\n",
        "```\n",
        "   weight weight_cut\n",
        "0    75.0      light\n",
        "1    78.5     normal\n",
        "2    85.0      heavy\n",
        "3    91.0      heavy\n",
        "4    84.5      heavy\n",
        "5    83.0      heavy\n",
        "6    68.0      light\n",
        "```"
      ]
    },
    {
      "cell_type": "code",
      "metadata": {
        "id": "X_j3UQ9kqmp2",
        "colab": {
          "base_uri": "https://localhost:8080/"
        },
        "outputId": "13e56033-58b5-4c06-e5de-1543ed405999"
      },
      "source": [
        "import pandas as pd\n",
        "\n",
        "\n",
        "df = pd.DataFrame(data={'weight': [75., 78.5, 85., 91., 84.5, 83., 68.]})\n",
        "df['weight_cut'] = pd.cut(df['weight'], bins=(60, 75, 80, 95), labels=['light', 'normal', 'heavy'])\n",
        "print(df)"
      ],
      "execution_count": 2,
      "outputs": [
        {
          "output_type": "stream",
          "text": [
            "   weight weight_cut\n",
            "0    75.0      light\n",
            "1    78.5     normal\n",
            "2    85.0      heavy\n",
            "3    91.0      heavy\n",
            "4    84.5      heavy\n",
            "5    83.0      heavy\n",
            "6    68.0      light\n"
          ],
          "name": "stdout"
        }
      ]
    },
    {
      "cell_type": "code",
      "metadata": {
        "id": "DgEYs5jg2_Kx"
      },
      "source": [
        ""
      ],
      "execution_count": null,
      "outputs": []
    }
  ]
}