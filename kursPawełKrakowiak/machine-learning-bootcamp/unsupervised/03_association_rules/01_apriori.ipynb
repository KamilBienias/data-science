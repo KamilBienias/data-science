{
  "nbformat": 4,
  "nbformat_minor": 0,
  "metadata": {
    "colab": {
      "name": "01_apriori.ipynb",
      "provenance": [],
      "collapsed_sections": [],
      "include_colab_link": true
    },
    "kernelspec": {
      "name": "python3",
      "display_name": "Python 3"
    }
  },
  "cells": [
    {
      "cell_type": "markdown",
      "metadata": {
        "id": "view-in-github",
        "colab_type": "text"
      },
      "source": [
        "<a href=\"https://colab.research.google.com/github/KamilBienias/data-science/blob/main/kursPawe%C5%82Krakowiak/machine-learning-bootcamp/unsupervised/03_association_rules/01_apriori.ipynb\" target=\"_parent\"><img src=\"https://colab.research.google.com/assets/colab-badge.svg\" alt=\"Open In Colab\"/></a>"
      ]
    },
    {
      "cell_type": "markdown",
      "metadata": {
        "id": "C80St0V-_VIi"
      },
      "source": [
        "### scikit-learn\n",
        "Strona biblioteki: [https://scikit-learn.org](https://scikit-learn.org)  \n",
        "\n",
        "Dokumentacja/User Guide: [https://scikit-learn.org/stable/user_guide.html](https://scikit-learn.org/stable/user_guide.html)\n",
        "\n",
        "Podstawowa biblioteka do uczenia maszynowego w języku Python.\n",
        "\n",
        "Aby zainstalować bibliotekę scikit-learn, użyj polecenia poniżej:\n",
        "```\n",
        "!pip install scikit-learn\n",
        "```\n",
        "Aby zaktualizować do najnowszej wersji bibliotekę scikit-learn, użyj polecenia poniżej:\n",
        "```\n",
        "!pip install --upgrade scikit-learn\n",
        "```\n",
        "Kurs stworzony w oparciu o wersję `0.22.1`\n",
        "\n",
        "### Spis treści:\n",
        "1. [Import bibliotek](#0)\n",
        "2. [Wygenerowanie danych](#1)\n",
        "3. [Przygotowanie danych](#2)\n",
        "4. [Algorytm Apriori](#3)\n",
        "\n",
        "\n"
      ]
    },
    {
      "cell_type": "markdown",
      "metadata": {
        "id": "dCogYvFX_YD4"
      },
      "source": [
        "### <a name='0'></a> Import bibliotek"
      ]
    },
    {
      "cell_type": "code",
      "metadata": {
        "id": "ellsFMdyLsf9",
        "colab": {
          "base_uri": "https://localhost:8080/"
        },
        "outputId": "63920900-57e0-45c3-8437-f126ba1e2a3f"
      },
      "source": [
        "print(\"############################################################\")\n",
        "print(\"Etap12. Odcinek: Reguły asocjacyjne - algorytm Apriori - ćwiczenie 1\")\n",
        "\n",
        "# Wykład:\n",
        "\n",
        "# Niech:\n",
        "# P - zbiór wszystkich dostępnych produktów\n",
        "# T - baza transakcji\n",
        "#  A i B - produkty\n",
        "# n - liczba produktów\n",
        "# A->B reguła\n",
        "\n",
        "# Wsparcie produktu:\n",
        "# support(A, T) = (liczba transakcji w których jest A) / (liczba wszystkich transakcji z bazy T)\n",
        "\n",
        "# Wsparcie reguły:\n",
        "# support(A->B, T) = (liczba transakcji w których jest A i B) / (liczba wszystkich transakcji z bazy T)\n",
        "# w skrócie supp(A->B)\n",
        "\n",
        "# Zaufanie (wiarygodność) reguły. Mówi na ile ta reguła się sprawdza mając jej poprzednik:\n",
        "# confidence(A->B, T) = (liczba transakcji w których jest A i B) / (liczba transakcji w których jest A)\n",
        "# w skrócie conf(A->B)\n",
        "# Wśród klientów kupujących A taka część kupuje też B\n",
        "\n",
        "# Ważność reguły:\n",
        "# lift(A->B) = conf(A->B) / supp(B)\n",
        "\n",
        "# Algorytm Apriori:\n",
        "# 1) Określenie minimalnego poziomu wsparcia i wiarygodności reguły\n",
        "# 2) Pozostawienie reguł mających nie mniejszy poziom wspacia niż minimalny poziom\n",
        "# 3) Pozostawienie reguł mających wiarygodność nie miniejszą niż minimalny poziom\n",
        "# 4) Posortowanie reguł według malejącej wartości lift\n",
        "\n",
        "import pandas as pd\n",
        "import numpy as np"
      ],
      "execution_count": 1,
      "outputs": [
        {
          "output_type": "stream",
          "text": [
            "############################################################\n",
            "Etap12. Odcinek: Reguły asocjacyjne - algorytm Apriori - ćwiczenie 1\n"
          ],
          "name": "stdout"
        }
      ]
    },
    {
      "cell_type": "markdown",
      "metadata": {
        "id": "UNy5CvqdJ42f"
      },
      "source": [
        "### <a name='1'></a> Wygenerowanie danych"
      ]
    },
    {
      "cell_type": "code",
      "metadata": {
        "id": "IU4x2k1_gzad",
        "colab": {
          "base_uri": "https://localhost:8080/",
          "height": 172
        },
        "outputId": "61fcfd0d-f725-43df-fa03-fa1a15ea1c66"
      },
      "source": [
        "data = {'produkty': ['chleb jajka mleko', 'mleko ser', 'chleb masło ser', 'chleb jajka']}\n",
        "\n",
        "transactions = pd.DataFrame(data=data, index=[1, 2, 3, 4])\n",
        "transactions"
      ],
      "execution_count": 2,
      "outputs": [
        {
          "output_type": "execute_result",
          "data": {
            "text/html": [
              "<div>\n",
              "<style scoped>\n",
              "    .dataframe tbody tr th:only-of-type {\n",
              "        vertical-align: middle;\n",
              "    }\n",
              "\n",
              "    .dataframe tbody tr th {\n",
              "        vertical-align: top;\n",
              "    }\n",
              "\n",
              "    .dataframe thead th {\n",
              "        text-align: right;\n",
              "    }\n",
              "</style>\n",
              "<table border=\"1\" class=\"dataframe\">\n",
              "  <thead>\n",
              "    <tr style=\"text-align: right;\">\n",
              "      <th></th>\n",
              "      <th>produkty</th>\n",
              "    </tr>\n",
              "  </thead>\n",
              "  <tbody>\n",
              "    <tr>\n",
              "      <th>1</th>\n",
              "      <td>chleb jajka mleko</td>\n",
              "    </tr>\n",
              "    <tr>\n",
              "      <th>2</th>\n",
              "      <td>mleko ser</td>\n",
              "    </tr>\n",
              "    <tr>\n",
              "      <th>3</th>\n",
              "      <td>chleb masło ser</td>\n",
              "    </tr>\n",
              "    <tr>\n",
              "      <th>4</th>\n",
              "      <td>chleb jajka</td>\n",
              "    </tr>\n",
              "  </tbody>\n",
              "</table>\n",
              "</div>"
            ],
            "text/plain": [
              "            produkty\n",
              "1  chleb jajka mleko\n",
              "2          mleko ser\n",
              "3    chleb masło ser\n",
              "4        chleb jajka"
            ]
          },
          "metadata": {
            "tags": []
          },
          "execution_count": 2
        }
      ]
    },
    {
      "cell_type": "markdown",
      "metadata": {
        "id": "6G_2sk25J8oV"
      },
      "source": [
        "### <a name='2'></a> Przygotowanie danych"
      ]
    },
    {
      "cell_type": "code",
      "metadata": {
        "id": "Duy4bfJxnayw",
        "colab": {
          "base_uri": "https://localhost:8080/",
          "height": 172
        },
        "outputId": "07986008-f784-4877-a1f3-a9520232b99d"
      },
      "source": [
        "# rozwinięcie kolumny do obiektu DataFrame\n",
        "expand = transactions['produkty'].str.split(expand=True)\n",
        "expand"
      ],
      "execution_count": 3,
      "outputs": [
        {
          "output_type": "execute_result",
          "data": {
            "text/html": [
              "<div>\n",
              "<style scoped>\n",
              "    .dataframe tbody tr th:only-of-type {\n",
              "        vertical-align: middle;\n",
              "    }\n",
              "\n",
              "    .dataframe tbody tr th {\n",
              "        vertical-align: top;\n",
              "    }\n",
              "\n",
              "    .dataframe thead th {\n",
              "        text-align: right;\n",
              "    }\n",
              "</style>\n",
              "<table border=\"1\" class=\"dataframe\">\n",
              "  <thead>\n",
              "    <tr style=\"text-align: right;\">\n",
              "      <th></th>\n",
              "      <th>0</th>\n",
              "      <th>1</th>\n",
              "      <th>2</th>\n",
              "    </tr>\n",
              "  </thead>\n",
              "  <tbody>\n",
              "    <tr>\n",
              "      <th>1</th>\n",
              "      <td>chleb</td>\n",
              "      <td>jajka</td>\n",
              "      <td>mleko</td>\n",
              "    </tr>\n",
              "    <tr>\n",
              "      <th>2</th>\n",
              "      <td>mleko</td>\n",
              "      <td>ser</td>\n",
              "      <td>None</td>\n",
              "    </tr>\n",
              "    <tr>\n",
              "      <th>3</th>\n",
              "      <td>chleb</td>\n",
              "      <td>masło</td>\n",
              "      <td>ser</td>\n",
              "    </tr>\n",
              "    <tr>\n",
              "      <th>4</th>\n",
              "      <td>chleb</td>\n",
              "      <td>jajka</td>\n",
              "      <td>None</td>\n",
              "    </tr>\n",
              "  </tbody>\n",
              "</table>\n",
              "</div>"
            ],
            "text/plain": [
              "       0      1      2\n",
              "1  chleb  jajka  mleko\n",
              "2  mleko    ser   None\n",
              "3  chleb  masło    ser\n",
              "4  chleb  jajka   None"
            ]
          },
          "metadata": {
            "tags": []
          },
          "execution_count": 3
        }
      ]
    },
    {
      "cell_type": "code",
      "metadata": {
        "id": "fIH5BHwFoyje",
        "colab": {
          "base_uri": "https://localhost:8080/"
        },
        "outputId": "a58b4d06-e16e-4c52-9d35-ad5e09bea992"
      },
      "source": [
        "# wydobycie nazw wszystkich produktów\n",
        "products = []\n",
        "for col in expand.columns:\n",
        "    for product in expand[col].unique():\n",
        "        if product is not None and product not in products:\n",
        "            products.append(product)\n",
        "\n",
        "products.sort()\n",
        "print(products)"
      ],
      "execution_count": 4,
      "outputs": [
        {
          "output_type": "stream",
          "text": [
            "['chleb', 'jajka', 'masło', 'mleko', 'ser']\n"
          ],
          "name": "stdout"
        }
      ]
    },
    {
      "cell_type": "code",
      "metadata": {
        "id": "vUSDyS41qkZq",
        "colab": {
          "base_uri": "https://localhost:8080/"
        },
        "outputId": "9599839a-852c-4216-d015-738a4e554de9"
      },
      "source": [
        "# wierszy tyle co transakcji czyli len(transactions)\n",
        "# kolumn tyle co produktów czyli len(products)\n",
        "# macierz samych zer\n",
        "transactions_encoded = np.zeros((len(transactions), len(products)), dtype='int8')\n",
        "transactions_encoded"
      ],
      "execution_count": 5,
      "outputs": [
        {
          "output_type": "execute_result",
          "data": {
            "text/plain": [
              "array([[0, 0, 0, 0, 0],\n",
              "       [0, 0, 0, 0, 0],\n",
              "       [0, 0, 0, 0, 0],\n",
              "       [0, 0, 0, 0, 0]], dtype=int8)"
            ]
          },
          "metadata": {
            "tags": []
          },
          "execution_count": 5
        }
      ]
    },
    {
      "cell_type": "code",
      "metadata": {
        "id": "U9pv1aNIq7O1",
        "colab": {
          "base_uri": "https://localhost:8080/"
        },
        "outputId": "2cfff9f9-90f3-4ad8-9019-4c89d587fa8f"
      },
      "source": [
        "# kodowanie 0-1\n",
        "for row in zip(range(len(transactions)), transactions_encoded, expand.values):\n",
        "    for idx, product in enumerate(products):\n",
        "        if product in row[2]:\n",
        "            transactions_encoded[row[0], idx] = 1\n",
        "\n",
        "transactions_encoded"
      ],
      "execution_count": 6,
      "outputs": [
        {
          "output_type": "execute_result",
          "data": {
            "text/plain": [
              "array([[1, 1, 0, 1, 0],\n",
              "       [0, 0, 0, 1, 1],\n",
              "       [1, 0, 1, 0, 1],\n",
              "       [1, 1, 0, 0, 0]], dtype=int8)"
            ]
          },
          "metadata": {
            "tags": []
          },
          "execution_count": 6
        }
      ]
    },
    {
      "cell_type": "code",
      "metadata": {
        "id": "pGagzLz6tmiM",
        "colab": {
          "base_uri": "https://localhost:8080/",
          "height": 172
        },
        "outputId": "6fccaa88-6993-49c5-ac5a-6d72cffd2ec3"
      },
      "source": [
        "transactions_encoded_df = pd.DataFrame(transactions_encoded, columns=products)\n",
        "transactions_encoded_df"
      ],
      "execution_count": 7,
      "outputs": [
        {
          "output_type": "execute_result",
          "data": {
            "text/html": [
              "<div>\n",
              "<style scoped>\n",
              "    .dataframe tbody tr th:only-of-type {\n",
              "        vertical-align: middle;\n",
              "    }\n",
              "\n",
              "    .dataframe tbody tr th {\n",
              "        vertical-align: top;\n",
              "    }\n",
              "\n",
              "    .dataframe thead th {\n",
              "        text-align: right;\n",
              "    }\n",
              "</style>\n",
              "<table border=\"1\" class=\"dataframe\">\n",
              "  <thead>\n",
              "    <tr style=\"text-align: right;\">\n",
              "      <th></th>\n",
              "      <th>chleb</th>\n",
              "      <th>jajka</th>\n",
              "      <th>masło</th>\n",
              "      <th>mleko</th>\n",
              "      <th>ser</th>\n",
              "    </tr>\n",
              "  </thead>\n",
              "  <tbody>\n",
              "    <tr>\n",
              "      <th>0</th>\n",
              "      <td>1</td>\n",
              "      <td>1</td>\n",
              "      <td>0</td>\n",
              "      <td>1</td>\n",
              "      <td>0</td>\n",
              "    </tr>\n",
              "    <tr>\n",
              "      <th>1</th>\n",
              "      <td>0</td>\n",
              "      <td>0</td>\n",
              "      <td>0</td>\n",
              "      <td>1</td>\n",
              "      <td>1</td>\n",
              "    </tr>\n",
              "    <tr>\n",
              "      <th>2</th>\n",
              "      <td>1</td>\n",
              "      <td>0</td>\n",
              "      <td>1</td>\n",
              "      <td>0</td>\n",
              "      <td>1</td>\n",
              "    </tr>\n",
              "    <tr>\n",
              "      <th>3</th>\n",
              "      <td>1</td>\n",
              "      <td>1</td>\n",
              "      <td>0</td>\n",
              "      <td>0</td>\n",
              "      <td>0</td>\n",
              "    </tr>\n",
              "  </tbody>\n",
              "</table>\n",
              "</div>"
            ],
            "text/plain": [
              "   chleb  jajka  masło  mleko  ser\n",
              "0      1      1      0      1    0\n",
              "1      0      0      0      1    1\n",
              "2      1      0      1      0    1\n",
              "3      1      1      0      0    0"
            ]
          },
          "metadata": {
            "tags": []
          },
          "execution_count": 7
        }
      ]
    },
    {
      "cell_type": "markdown",
      "metadata": {
        "id": "Spzk6mebKIqZ"
      },
      "source": [
        "### <a name='3'></a> Algorytm Apriori"
      ]
    },
    {
      "cell_type": "code",
      "metadata": {
        "id": "kv6VZ96-Lzws",
        "colab": {
          "base_uri": "https://localhost:8080/",
          "height": 1000
        },
        "outputId": "7aa6df25-8b03-4dda-f677-1ea89d315233"
      },
      "source": [
        "from mlxtend.frequent_patterns import apriori, association_rules\n",
        "\n",
        "# Liczy support\n",
        "# Ustawił min_support=0.0 żeby zobaczyć wszystkie możliwe kombinacje\n",
        "# use_colnames=True używa kolumn jako nazwy produktów\n",
        "supports = apriori(transactions_encoded_df, min_support=0.0, use_colnames=True)\n",
        "supports"
      ],
      "execution_count": 8,
      "outputs": [
        {
          "output_type": "execute_result",
          "data": {
            "text/html": [
              "<div>\n",
              "<style scoped>\n",
              "    .dataframe tbody tr th:only-of-type {\n",
              "        vertical-align: middle;\n",
              "    }\n",
              "\n",
              "    .dataframe tbody tr th {\n",
              "        vertical-align: top;\n",
              "    }\n",
              "\n",
              "    .dataframe thead th {\n",
              "        text-align: right;\n",
              "    }\n",
              "</style>\n",
              "<table border=\"1\" class=\"dataframe\">\n",
              "  <thead>\n",
              "    <tr style=\"text-align: right;\">\n",
              "      <th></th>\n",
              "      <th>support</th>\n",
              "      <th>itemsets</th>\n",
              "    </tr>\n",
              "  </thead>\n",
              "  <tbody>\n",
              "    <tr>\n",
              "      <th>0</th>\n",
              "      <td>0.75</td>\n",
              "      <td>(chleb)</td>\n",
              "    </tr>\n",
              "    <tr>\n",
              "      <th>1</th>\n",
              "      <td>0.50</td>\n",
              "      <td>(jajka)</td>\n",
              "    </tr>\n",
              "    <tr>\n",
              "      <th>2</th>\n",
              "      <td>0.25</td>\n",
              "      <td>(masło)</td>\n",
              "    </tr>\n",
              "    <tr>\n",
              "      <th>3</th>\n",
              "      <td>0.50</td>\n",
              "      <td>(mleko)</td>\n",
              "    </tr>\n",
              "    <tr>\n",
              "      <th>4</th>\n",
              "      <td>0.50</td>\n",
              "      <td>(ser)</td>\n",
              "    </tr>\n",
              "    <tr>\n",
              "      <th>5</th>\n",
              "      <td>0.50</td>\n",
              "      <td>(jajka, chleb)</td>\n",
              "    </tr>\n",
              "    <tr>\n",
              "      <th>6</th>\n",
              "      <td>0.25</td>\n",
              "      <td>(masło, chleb)</td>\n",
              "    </tr>\n",
              "    <tr>\n",
              "      <th>7</th>\n",
              "      <td>0.25</td>\n",
              "      <td>(mleko, chleb)</td>\n",
              "    </tr>\n",
              "    <tr>\n",
              "      <th>8</th>\n",
              "      <td>0.25</td>\n",
              "      <td>(ser, chleb)</td>\n",
              "    </tr>\n",
              "    <tr>\n",
              "      <th>9</th>\n",
              "      <td>0.00</td>\n",
              "      <td>(masło, jajka)</td>\n",
              "    </tr>\n",
              "    <tr>\n",
              "      <th>10</th>\n",
              "      <td>0.25</td>\n",
              "      <td>(jajka, mleko)</td>\n",
              "    </tr>\n",
              "    <tr>\n",
              "      <th>11</th>\n",
              "      <td>0.00</td>\n",
              "      <td>(ser, jajka)</td>\n",
              "    </tr>\n",
              "    <tr>\n",
              "      <th>12</th>\n",
              "      <td>0.00</td>\n",
              "      <td>(masło, mleko)</td>\n",
              "    </tr>\n",
              "    <tr>\n",
              "      <th>13</th>\n",
              "      <td>0.25</td>\n",
              "      <td>(ser, masło)</td>\n",
              "    </tr>\n",
              "    <tr>\n",
              "      <th>14</th>\n",
              "      <td>0.25</td>\n",
              "      <td>(ser, mleko)</td>\n",
              "    </tr>\n",
              "    <tr>\n",
              "      <th>15</th>\n",
              "      <td>0.00</td>\n",
              "      <td>(masło, jajka, chleb)</td>\n",
              "    </tr>\n",
              "    <tr>\n",
              "      <th>16</th>\n",
              "      <td>0.25</td>\n",
              "      <td>(jajka, mleko, chleb)</td>\n",
              "    </tr>\n",
              "    <tr>\n",
              "      <th>17</th>\n",
              "      <td>0.00</td>\n",
              "      <td>(ser, jajka, chleb)</td>\n",
              "    </tr>\n",
              "    <tr>\n",
              "      <th>18</th>\n",
              "      <td>0.00</td>\n",
              "      <td>(masło, mleko, chleb)</td>\n",
              "    </tr>\n",
              "    <tr>\n",
              "      <th>19</th>\n",
              "      <td>0.25</td>\n",
              "      <td>(ser, masło, chleb)</td>\n",
              "    </tr>\n",
              "    <tr>\n",
              "      <th>20</th>\n",
              "      <td>0.00</td>\n",
              "      <td>(ser, mleko, chleb)</td>\n",
              "    </tr>\n",
              "    <tr>\n",
              "      <th>21</th>\n",
              "      <td>0.00</td>\n",
              "      <td>(masło, jajka, mleko)</td>\n",
              "    </tr>\n",
              "    <tr>\n",
              "      <th>22</th>\n",
              "      <td>0.00</td>\n",
              "      <td>(ser, masło, jajka)</td>\n",
              "    </tr>\n",
              "    <tr>\n",
              "      <th>23</th>\n",
              "      <td>0.00</td>\n",
              "      <td>(ser, jajka, mleko)</td>\n",
              "    </tr>\n",
              "    <tr>\n",
              "      <th>24</th>\n",
              "      <td>0.00</td>\n",
              "      <td>(ser, masło, mleko)</td>\n",
              "    </tr>\n",
              "    <tr>\n",
              "      <th>25</th>\n",
              "      <td>0.00</td>\n",
              "      <td>(masło, jajka, mleko, chleb)</td>\n",
              "    </tr>\n",
              "    <tr>\n",
              "      <th>26</th>\n",
              "      <td>0.00</td>\n",
              "      <td>(ser, masło, jajka, chleb)</td>\n",
              "    </tr>\n",
              "    <tr>\n",
              "      <th>27</th>\n",
              "      <td>0.00</td>\n",
              "      <td>(ser, jajka, mleko, chleb)</td>\n",
              "    </tr>\n",
              "    <tr>\n",
              "      <th>28</th>\n",
              "      <td>0.00</td>\n",
              "      <td>(ser, masło, mleko, chleb)</td>\n",
              "    </tr>\n",
              "    <tr>\n",
              "      <th>29</th>\n",
              "      <td>0.00</td>\n",
              "      <td>(ser, masło, jajka, mleko)</td>\n",
              "    </tr>\n",
              "    <tr>\n",
              "      <th>30</th>\n",
              "      <td>0.00</td>\n",
              "      <td>(ser, mleko, chleb, masło, jajka)</td>\n",
              "    </tr>\n",
              "  </tbody>\n",
              "</table>\n",
              "</div>"
            ],
            "text/plain": [
              "    support                           itemsets\n",
              "0      0.75                            (chleb)\n",
              "1      0.50                            (jajka)\n",
              "2      0.25                            (masło)\n",
              "3      0.50                            (mleko)\n",
              "4      0.50                              (ser)\n",
              "5      0.50                     (jajka, chleb)\n",
              "6      0.25                     (masło, chleb)\n",
              "7      0.25                     (mleko, chleb)\n",
              "8      0.25                       (ser, chleb)\n",
              "9      0.00                     (masło, jajka)\n",
              "10     0.25                     (jajka, mleko)\n",
              "11     0.00                       (ser, jajka)\n",
              "12     0.00                     (masło, mleko)\n",
              "13     0.25                       (ser, masło)\n",
              "14     0.25                       (ser, mleko)\n",
              "15     0.00              (masło, jajka, chleb)\n",
              "16     0.25              (jajka, mleko, chleb)\n",
              "17     0.00                (ser, jajka, chleb)\n",
              "18     0.00              (masło, mleko, chleb)\n",
              "19     0.25                (ser, masło, chleb)\n",
              "20     0.00                (ser, mleko, chleb)\n",
              "21     0.00              (masło, jajka, mleko)\n",
              "22     0.00                (ser, masło, jajka)\n",
              "23     0.00                (ser, jajka, mleko)\n",
              "24     0.00                (ser, masło, mleko)\n",
              "25     0.00       (masło, jajka, mleko, chleb)\n",
              "26     0.00         (ser, masło, jajka, chleb)\n",
              "27     0.00         (ser, jajka, mleko, chleb)\n",
              "28     0.00         (ser, masło, mleko, chleb)\n",
              "29     0.00         (ser, masło, jajka, mleko)\n",
              "30     0.00  (ser, mleko, chleb, masło, jajka)"
            ]
          },
          "metadata": {
            "tags": []
          },
          "execution_count": 8
        }
      ]
    },
    {
      "cell_type": "code",
      "metadata": {
        "id": "nmM-mhS8H7tl",
        "colab": {
          "base_uri": "https://localhost:8080/",
          "height": 203
        },
        "outputId": "be0bb9aa-166d-41b5-e5e5-6b22f38a581e"
      },
      "source": [
        "# min_support=0.3\n",
        "supports = apriori(transactions_encoded_df, min_support=0.3, use_colnames=True)\n",
        "supports"
      ],
      "execution_count": 9,
      "outputs": [
        {
          "output_type": "execute_result",
          "data": {
            "text/html": [
              "<div>\n",
              "<style scoped>\n",
              "    .dataframe tbody tr th:only-of-type {\n",
              "        vertical-align: middle;\n",
              "    }\n",
              "\n",
              "    .dataframe tbody tr th {\n",
              "        vertical-align: top;\n",
              "    }\n",
              "\n",
              "    .dataframe thead th {\n",
              "        text-align: right;\n",
              "    }\n",
              "</style>\n",
              "<table border=\"1\" class=\"dataframe\">\n",
              "  <thead>\n",
              "    <tr style=\"text-align: right;\">\n",
              "      <th></th>\n",
              "      <th>support</th>\n",
              "      <th>itemsets</th>\n",
              "    </tr>\n",
              "  </thead>\n",
              "  <tbody>\n",
              "    <tr>\n",
              "      <th>0</th>\n",
              "      <td>0.75</td>\n",
              "      <td>(chleb)</td>\n",
              "    </tr>\n",
              "    <tr>\n",
              "      <th>1</th>\n",
              "      <td>0.50</td>\n",
              "      <td>(jajka)</td>\n",
              "    </tr>\n",
              "    <tr>\n",
              "      <th>2</th>\n",
              "      <td>0.50</td>\n",
              "      <td>(mleko)</td>\n",
              "    </tr>\n",
              "    <tr>\n",
              "      <th>3</th>\n",
              "      <td>0.50</td>\n",
              "      <td>(ser)</td>\n",
              "    </tr>\n",
              "    <tr>\n",
              "      <th>4</th>\n",
              "      <td>0.50</td>\n",
              "      <td>(jajka, chleb)</td>\n",
              "    </tr>\n",
              "  </tbody>\n",
              "</table>\n",
              "</div>"
            ],
            "text/plain": [
              "   support        itemsets\n",
              "0     0.75         (chleb)\n",
              "1     0.50         (jajka)\n",
              "2     0.50         (mleko)\n",
              "3     0.50           (ser)\n",
              "4     0.50  (jajka, chleb)"
            ]
          },
          "metadata": {
            "tags": []
          },
          "execution_count": 9
        }
      ]
    },
    {
      "cell_type": "code",
      "metadata": {
        "id": "uAPM-GcJMEDE",
        "colab": {
          "base_uri": "https://localhost:8080/",
          "height": 110
        },
        "outputId": "5416a73e-12dd-4e9e-be4e-c4509886e1d7"
      },
      "source": [
        "# supports to co wyszło z funkcji apriori\n",
        "# antecedent to poprzednik, a consequent to następnik\n",
        "rules = association_rules(supports, metric='confidence', min_threshold=0.65)\n",
        "# bierze tylko niektóre kolumny bo funkcja association_rules zwraca dużo informacji\n",
        "rules = rules.iloc[:, [0, 1, 4, 5, 6]]\n",
        "rules"
      ],
      "execution_count": 10,
      "outputs": [
        {
          "output_type": "execute_result",
          "data": {
            "text/html": [
              "<div>\n",
              "<style scoped>\n",
              "    .dataframe tbody tr th:only-of-type {\n",
              "        vertical-align: middle;\n",
              "    }\n",
              "\n",
              "    .dataframe tbody tr th {\n",
              "        vertical-align: top;\n",
              "    }\n",
              "\n",
              "    .dataframe thead th {\n",
              "        text-align: right;\n",
              "    }\n",
              "</style>\n",
              "<table border=\"1\" class=\"dataframe\">\n",
              "  <thead>\n",
              "    <tr style=\"text-align: right;\">\n",
              "      <th></th>\n",
              "      <th>antecedents</th>\n",
              "      <th>consequents</th>\n",
              "      <th>support</th>\n",
              "      <th>confidence</th>\n",
              "      <th>lift</th>\n",
              "    </tr>\n",
              "  </thead>\n",
              "  <tbody>\n",
              "    <tr>\n",
              "      <th>0</th>\n",
              "      <td>(jajka)</td>\n",
              "      <td>(chleb)</td>\n",
              "      <td>0.5</td>\n",
              "      <td>1.000000</td>\n",
              "      <td>1.333333</td>\n",
              "    </tr>\n",
              "    <tr>\n",
              "      <th>1</th>\n",
              "      <td>(chleb)</td>\n",
              "      <td>(jajka)</td>\n",
              "      <td>0.5</td>\n",
              "      <td>0.666667</td>\n",
              "      <td>1.333333</td>\n",
              "    </tr>\n",
              "  </tbody>\n",
              "</table>\n",
              "</div>"
            ],
            "text/plain": [
              "  antecedents consequents  support  confidence      lift\n",
              "0     (jajka)     (chleb)      0.5    1.000000  1.333333\n",
              "1     (chleb)     (jajka)      0.5    0.666667  1.333333"
            ]
          },
          "metadata": {
            "tags": []
          },
          "execution_count": 10
        }
      ]
    },
    {
      "cell_type": "code",
      "metadata": {
        "id": "hD2gVH27Mced",
        "colab": {
          "base_uri": "https://localhost:8080/",
          "height": 110
        },
        "outputId": "69be24b0-b716-4f79-eb21-2a622e1bc61c"
      },
      "source": [
        "# sortowanie względem lift\r\n",
        "rules.sort_values(by='lift', ascending=False)"
      ],
      "execution_count": 11,
      "outputs": [
        {
          "output_type": "execute_result",
          "data": {
            "text/html": [
              "<div>\n",
              "<style scoped>\n",
              "    .dataframe tbody tr th:only-of-type {\n",
              "        vertical-align: middle;\n",
              "    }\n",
              "\n",
              "    .dataframe tbody tr th {\n",
              "        vertical-align: top;\n",
              "    }\n",
              "\n",
              "    .dataframe thead th {\n",
              "        text-align: right;\n",
              "    }\n",
              "</style>\n",
              "<table border=\"1\" class=\"dataframe\">\n",
              "  <thead>\n",
              "    <tr style=\"text-align: right;\">\n",
              "      <th></th>\n",
              "      <th>antecedents</th>\n",
              "      <th>consequents</th>\n",
              "      <th>support</th>\n",
              "      <th>confidence</th>\n",
              "      <th>lift</th>\n",
              "    </tr>\n",
              "  </thead>\n",
              "  <tbody>\n",
              "    <tr>\n",
              "      <th>0</th>\n",
              "      <td>(jajka)</td>\n",
              "      <td>(chleb)</td>\n",
              "      <td>0.5</td>\n",
              "      <td>1.000000</td>\n",
              "      <td>1.333333</td>\n",
              "    </tr>\n",
              "    <tr>\n",
              "      <th>1</th>\n",
              "      <td>(chleb)</td>\n",
              "      <td>(jajka)</td>\n",
              "      <td>0.5</td>\n",
              "      <td>0.666667</td>\n",
              "      <td>1.333333</td>\n",
              "    </tr>\n",
              "  </tbody>\n",
              "</table>\n",
              "</div>"
            ],
            "text/plain": [
              "  antecedents consequents  support  confidence      lift\n",
              "0     (jajka)     (chleb)      0.5    1.000000  1.333333\n",
              "1     (chleb)     (jajka)      0.5    0.666667  1.333333"
            ]
          },
          "metadata": {
            "tags": []
          },
          "execution_count": 11
        }
      ]
    },
    {
      "cell_type": "code",
      "metadata": {
        "id": "ReUV5x69OirF"
      },
      "source": [
        ""
      ],
      "execution_count": null,
      "outputs": []
    }
  ]
}