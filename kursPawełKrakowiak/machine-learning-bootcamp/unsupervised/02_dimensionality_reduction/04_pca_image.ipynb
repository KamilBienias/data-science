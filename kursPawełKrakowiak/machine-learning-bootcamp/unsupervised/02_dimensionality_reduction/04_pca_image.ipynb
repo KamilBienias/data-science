{
  "nbformat": 4,
  "nbformat_minor": 0,
  "metadata": {
    "colab": {
      "name": "04_pca_image.ipynb",
      "provenance": [],
      "collapsed_sections": [],
      "include_colab_link": true
    },
    "kernelspec": {
      "name": "python3",
      "display_name": "Python 3"
    }
  },
  "cells": [
    {
      "cell_type": "markdown",
      "metadata": {
        "id": "view-in-github",
        "colab_type": "text"
      },
      "source": [
        "<a href=\"https://colab.research.google.com/github/KamilBienias/data-science/blob/main/kursPawe%C5%82Krakowiak/machine-learning-bootcamp/unsupervised/02_dimensionality_reduction/04_pca_image.ipynb\" target=\"_parent\"><img src=\"https://colab.research.google.com/assets/colab-badge.svg\" alt=\"Open In Colab\"/></a>"
      ]
    },
    {
      "cell_type": "markdown",
      "metadata": {
        "id": "C80St0V-_VIi"
      },
      "source": [
        "* @author: krakowiakpawel9@gmail.com  \n",
        "* @site: e-smartdata.org\n",
        "\n",
        "### scikit-learn\n",
        "Strona biblioteki: [https://scikit-learn.org](https://scikit-learn.org)  \n",
        "\n",
        "Dokumentacja/User Guide: [https://scikit-learn.org/stable/user_guide.html](https://scikit-learn.org/stable/user_guide.html)\n",
        "\n",
        "Podstawowa biblioteka do uczenia maszynowego w języku Python.\n",
        "\n",
        "Aby zainstalować bibliotekę scikit-learn, użyj polecenia poniżej:\n",
        "```\n",
        "!pip install scikit-learn\n",
        "```\n",
        "Aby zaktualizować do najnowszej wersji bibliotekę scikit-learn, użyj polecenia poniżej:\n",
        "```\n",
        "!pip install --upgrade scikit-learn\n",
        "```\n",
        "Kurs stworzony w oparciu o wersję `0.22.1`\n",
        "\n",
        "### Spis treści:\n",
        "1. [Import bibliotek](#0)\n",
        "2. [Wygenerowanie danych](#1)\n",
        "3. [PCA](#2)\n",
        "4. [Porównanie procentu wyjaśnionej wariancji](#3)\n",
        "\n",
        "\n"
      ]
    },
    {
      "cell_type": "markdown",
      "metadata": {
        "id": "dCogYvFX_YD4"
      },
      "source": [
        "### <a name='0'></a> Import bibliotek"
      ]
    },
    {
      "cell_type": "code",
      "metadata": {
        "id": "FaeKiLVo73ZU",
        "colab": {
          "base_uri": "https://localhost:8080/"
        },
        "outputId": "ef9d4c38-1b9b-43c8-8b84-459004123fa9"
      },
      "source": [
        "print(\"############################################################\")\n",
        "print(\"Etap9. Odcinek: PCA - Analiza Głównych Składowych - rekonstrukcja obrazu\")\n",
        "\n",
        "# Cel: odwraca działanie metody pca dzięku inverse_tranfsorm.\n",
        "\n",
        "import pandas as pd\n",
        "import matplotlib.pyplot as plt\n",
        "import plotly.graph_objects as go\n",
        "from keras.datasets import mnist"
      ],
      "execution_count": 1,
      "outputs": [
        {
          "output_type": "stream",
          "text": [
            "############################################################\n",
            "Etap9. Odcinek: PCA - Analiza Głównych Składowych - rekonstrukcja obrazu\n"
          ],
          "name": "stdout"
        }
      ]
    },
    {
      "cell_type": "markdown",
      "metadata": {
        "id": "1SwI9CDJrhJ5"
      },
      "source": [
        "### <a name='1'></a> Wygenerowanie danych"
      ]
    },
    {
      "cell_type": "code",
      "metadata": {
        "id": "57SjabeI76fg",
        "colab": {
          "base_uri": "https://localhost:8080/"
        },
        "outputId": "1c8e6bd2-7b92-4d44-bbf7-48c39959c136"
      },
      "source": [
        "(X_train, y_train), (X_test, y_test) = mnist.load_data()\n",
        "\n",
        "print(f'X_train shape: {X_train.shape}')\n",
        "print(f'X_test shape: {X_test.shape}')\n",
        "print(f'y_train shape: {y_train.shape}')\n",
        "print(f'y_test shape: {y_test.shape}')"
      ],
      "execution_count": 2,
      "outputs": [
        {
          "output_type": "stream",
          "text": [
            "Downloading data from https://storage.googleapis.com/tensorflow/tf-keras-datasets/mnist.npz\n",
            "11493376/11490434 [==============================] - 0s 0us/step\n",
            "X_train shape: (60000, 28, 28)\n",
            "X_test shape: (10000, 28, 28)\n",
            "y_train shape: (60000,)\n",
            "y_test shape: (10000,)\n"
          ],
          "name": "stdout"
        }
      ]
    },
    {
      "cell_type": "markdown",
      "metadata": {
        "id": "39NxMjVGrQMg"
      },
      "source": [
        "Obcięcie obrazów do pierwszych 5000"
      ]
    },
    {
      "cell_type": "code",
      "metadata": {
        "id": "4wudSVPW7_cq"
      },
      "source": [
        "X_train = X_train[:5000]\n",
        "y_train = y_train[:5000]"
      ],
      "execution_count": 3,
      "outputs": []
    },
    {
      "cell_type": "markdown",
      "metadata": {
        "id": "xJyakvJBrUeC"
      },
      "source": [
        "Wizualizacja kilku obrazów"
      ]
    },
    {
      "cell_type": "code",
      "metadata": {
        "id": "GV0s21Mz8BsV",
        "colab": {
          "base_uri": "https://localhost:8080/",
          "height": 434
        },
        "outputId": "090a824e-72be-401c-fe29-da172d3f1174"
      },
      "source": [
        "plt.figure(figsize=(12, 8))\n",
        "for i in range(8):\n",
        "    plt.subplot(240 + i + 1)\n",
        "    plt.imshow(X_train[i], cmap='gray_r')\n",
        "    plt.title(y_train[i], color='white', fontsize=17)\n",
        "    plt.axis('off')\n",
        "plt.show()"
      ],
      "execution_count": 4,
      "outputs": [
        {
          "output_type": "display_data",
          "data": {
            "image/png": "[encoded data removed]",
            "text/plain": [
              "<Figure size 864x576 with 8 Axes>"
            ]
          },
          "metadata": {
            "tags": [],
            "needs_background": "light"
          }
        }
      ]
    },
    {
      "cell_type": "markdown",
      "metadata": {
        "id": "MspS8pVerbrM"
      },
      "source": [
        "Wypłaszczenie obrazów"
      ]
    },
    {
      "cell_type": "code",
      "metadata": {
        "id": "3cSTyWQu-vYm",
        "colab": {
          "base_uri": "https://localhost:8080/"
        },
        "outputId": "0cfdd367-10b1-47b9-cf19-1805c78a9840"
      },
      "source": [
        "X_train = X_train.reshape(-1, 28 * 28)\n",
        "X_train.shape"
      ],
      "execution_count": 5,
      "outputs": [
        {
          "output_type": "execute_result",
          "data": {
            "text/plain": [
              "(5000, 784)"
            ]
          },
          "metadata": {
            "tags": []
          },
          "execution_count": 5
        }
      ]
    },
    {
      "cell_type": "code",
      "metadata": {
        "id": "AvA3qXlyFT-Q"
      },
      "source": [
        "# standaryzacja\r\n",
        "X_train = X_train / 255."
      ],
      "execution_count": 6,
      "outputs": []
    },
    {
      "cell_type": "markdown",
      "metadata": {
        "id": "VPmdt2uprlIT"
      },
      "source": [
        "### <a name='2'></a> PCA"
      ]
    },
    {
      "cell_type": "code",
      "metadata": {
        "id": "cPNUUm6J8hma",
        "colab": {
          "base_uri": "https://localhost:8080/"
        },
        "outputId": "23ecb3ef-6dd2-4d96-ef49-1650bed86eff"
      },
      "source": [
        "from sklearn.decomposition import PCA\n",
        "\n",
        "# chcemy 95% wyjaśnionej wariancji\n",
        "pca = PCA(n_components=0.95)\n",
        "X_train_pca = pca.fit_transform(X_train)\n",
        "X_train_pca.shape\n",
        "# po rozmiarze widać że trzeba 148 komponentów, ale można też jawnie sprawdzić"
      ],
      "execution_count": 7,
      "outputs": [
        {
          "output_type": "execute_result",
          "data": {
            "text/plain": [
              "(5000, 148)"
            ]
          },
          "metadata": {
            "tags": []
          },
          "execution_count": 7
        }
      ]
    },
    {
      "cell_type": "code",
      "metadata": {
        "colab": {
          "base_uri": "https://localhost:8080/"
        },
        "id": "22vrxtuRyiuI",
        "outputId": "2692a000-b801-4a3d-fd23-68fb4d743aa9"
      },
      "source": [
        "pca.components_"
      ],
      "execution_count": 11,
      "outputs": [
        {
          "output_type": "execute_result",
          "data": {
            "text/plain": [
              "array([[ 1.65438309e-19,  1.38777878e-17, -1.66533454e-16, ...,\n",
              "        -0.00000000e+00, -0.00000000e+00, -0.00000000e+00],\n",
              "       [ 7.00113927e-19,  0.00000000e+00, -2.22044605e-16, ...,\n",
              "         0.00000000e+00,  0.00000000e+00,  0.00000000e+00],\n",
              "       [-7.40226078e-20, -3.46944695e-18,  6.93889390e-18, ...,\n",
              "         0.00000000e+00,  0.00000000e+00,  0.00000000e+00],\n",
              "       ...,\n",
              "       [ 5.86332089e-18, -1.45716772e-16,  3.50414142e-16, ...,\n",
              "         0.00000000e+00,  0.00000000e+00,  0.00000000e+00],\n",
              "       [ 3.09816683e-17, -2.08166817e-16,  5.13478149e-16, ...,\n",
              "         0.00000000e+00,  0.00000000e+00,  0.00000000e+00],\n",
              "       [ 1.72883568e-18, -2.08166817e-16, -2.05564732e-16, ...,\n",
              "        -0.00000000e+00, -0.00000000e+00, -0.00000000e+00]])"
            ]
          },
          "metadata": {
            "tags": []
          },
          "execution_count": 11
        }
      ]
    },
    {
      "cell_type": "code",
      "metadata": {
        "colab": {
          "base_uri": "https://localhost:8080/"
        },
        "id": "lcnzyni_xp1V",
        "outputId": "b6266587-3752-41e9-b3e2-48ca10e406f7"
      },
      "source": [
        "# każdy ze 148 komponentów ma długość 784, bo to wypłaszczone piksele 28 * 28\r\n",
        "pca.components_.shape"
      ],
      "execution_count": 10,
      "outputs": [
        {
          "output_type": "execute_result",
          "data": {
            "text/plain": [
              "(148, 784)"
            ]
          },
          "metadata": {
            "tags": []
          },
          "execution_count": 10
        }
      ]
    },
    {
      "cell_type": "markdown",
      "metadata": {
        "id": "Lo6DlVw4tCHQ"
      },
      "source": [
        "Wyjaśniona wariancja"
      ]
    },
    {
      "cell_type": "code",
      "metadata": {
        "id": "1pwmSz2y-lRa",
        "colab": {
          "base_uri": "https://localhost:8080/",
          "height": 417
        },
        "outputId": "4cf9ee47-6c71-4790-9c24-f29672b38597"
      },
      "source": [
        "results = pd.DataFrame(data={'explained_variance_ratio': pca.explained_variance_ratio_})\n",
        "results['cumulative'] = results['explained_variance_ratio'].cumsum()\n",
        "results['component'] = results.index + 1\n",
        "results"
      ],
      "execution_count": 12,
      "outputs": [
        {
          "output_type": "execute_result",
          "data": {
            "text/html": [
              "<div>\n",
              "<style scoped>\n",
              "    .dataframe tbody tr th:only-of-type {\n",
              "        vertical-align: middle;\n",
              "    }\n",
              "\n",
              "    .dataframe tbody tr th {\n",
              "        vertical-align: top;\n",
              "    }\n",
              "\n",
              "    .dataframe thead th {\n",
              "        text-align: right;\n",
              "    }\n",
              "</style>\n",
              "<table border=\"1\" class=\"dataframe\">\n",
              "  <thead>\n",
              "    <tr style=\"text-align: right;\">\n",
              "      <th></th>\n",
              "      <th>explained_variance_ratio</th>\n",
              "      <th>cumulative</th>\n",
              "      <th>component</th>\n",
              "    </tr>\n",
              "  </thead>\n",
              "  <tbody>\n",
              "    <tr>\n",
              "      <th>0</th>\n",
              "      <td>0.098676</td>\n",
              "      <td>0.098676</td>\n",
              "      <td>1</td>\n",
              "    </tr>\n",
              "    <tr>\n",
              "      <th>1</th>\n",
              "      <td>0.074045</td>\n",
              "      <td>0.172721</td>\n",
              "      <td>2</td>\n",
              "    </tr>\n",
              "    <tr>\n",
              "      <th>2</th>\n",
              "      <td>0.061277</td>\n",
              "      <td>0.233998</td>\n",
              "      <td>3</td>\n",
              "    </tr>\n",
              "    <tr>\n",
              "      <th>3</th>\n",
              "      <td>0.054053</td>\n",
              "      <td>0.288051</td>\n",
              "      <td>4</td>\n",
              "    </tr>\n",
              "    <tr>\n",
              "      <th>4</th>\n",
              "      <td>0.047376</td>\n",
              "      <td>0.335427</td>\n",
              "      <td>5</td>\n",
              "    </tr>\n",
              "    <tr>\n",
              "      <th>...</th>\n",
              "      <td>...</td>\n",
              "      <td>...</td>\n",
              "      <td>...</td>\n",
              "    </tr>\n",
              "    <tr>\n",
              "      <th>143</th>\n",
              "      <td>0.000497</td>\n",
              "      <td>0.948219</td>\n",
              "      <td>144</td>\n",
              "    </tr>\n",
              "    <tr>\n",
              "      <th>144</th>\n",
              "      <td>0.000491</td>\n",
              "      <td>0.948711</td>\n",
              "      <td>145</td>\n",
              "    </tr>\n",
              "    <tr>\n",
              "      <th>145</th>\n",
              "      <td>0.000482</td>\n",
              "      <td>0.949193</td>\n",
              "      <td>146</td>\n",
              "    </tr>\n",
              "    <tr>\n",
              "      <th>146</th>\n",
              "      <td>0.000473</td>\n",
              "      <td>0.949665</td>\n",
              "      <td>147</td>\n",
              "    </tr>\n",
              "    <tr>\n",
              "      <th>147</th>\n",
              "      <td>0.000465</td>\n",
              "      <td>0.950131</td>\n",
              "      <td>148</td>\n",
              "    </tr>\n",
              "  </tbody>\n",
              "</table>\n",
              "<p>148 rows × 3 columns</p>\n",
              "</div>"
            ],
            "text/plain": [
              "     explained_variance_ratio  cumulative  component\n",
              "0                    0.098676    0.098676          1\n",
              "1                    0.074045    0.172721          2\n",
              "2                    0.061277    0.233998          3\n",
              "3                    0.054053    0.288051          4\n",
              "4                    0.047376    0.335427          5\n",
              "..                        ...         ...        ...\n",
              "143                  0.000497    0.948219        144\n",
              "144                  0.000491    0.948711        145\n",
              "145                  0.000482    0.949193        146\n",
              "146                  0.000473    0.949665        147\n",
              "147                  0.000465    0.950131        148\n",
              "\n",
              "[148 rows x 3 columns]"
            ]
          },
          "metadata": {
            "tags": []
          },
          "execution_count": 12
        }
      ]
    },
    {
      "cell_type": "code",
      "metadata": {
        "id": "Oy7eyrpc-0Ay",
        "colab": {
          "base_uri": "https://localhost:8080/",
          "height": 562
        },
        "outputId": "09276a81-74bf-4296-cf19-ee2e90decfc9"
      },
      "source": [
        "fig = go.Figure(data=[go.Bar(x=results['component'], y=results['explained_variance_ratio'], name='explained_variance_ratio'),\n",
        "                      go.Scatter(x=results['component'], y=results['cumulative'], name='cumulative')],\n",
        "                layout=go.Layout(title='PCA - 3 components', width=900, template='plotly_dark'))\n",
        "fig.show()"
      ],
      "execution_count": 13,
      "outputs": [
        {
          "output_type": "display_data",
          "data": {
            "text/html": [
              "<html>\n",
              "<head><meta charset=\"utf-8\" /></head>\n",
              "<body>\n",
              "    <div>\n",
              "            <script src=\"https://cdnjs.cloudflare.com/ajax/libs/mathjax/2.7.5/MathJax.js?config=TeX-AMS-MML_SVG\"></script><script type=\"text/javascript\">if (window.MathJax) {MathJax.Hub.Config({SVG: {font: \"STIX-Web\"}});}</script>\n",
              "                <script type=\"text/javascript\">window.PlotlyConfig = {MathJaxConfig: 'local'};</script>\n",
              "        <script src=\"https://cdn.plot.ly/plotly-latest.min.js\"></script>    \n",
              "            <div id=\"fcdf196a-a10d-4aeb-826f-ce4eee3868b0\" class=\"plotly-graph-div\" style=\"height:525px; width:950px;\"></div>\n",
              "            <script type=\"text/javascript\">\n",
              "                \n",
              "                    window.PLOTLYENV=window.PLOTLYENV || {};\n",
              "                    \n",
              "                if (document.getElementById(\"fcdf196a-a10d-4aeb-826f-ce4eee3868b0\")) {\n",
              "                    Plotly.newPlot(\n",
              "                        'fcdf196a-a10d-4aeb-826f-ce4eee3868b0',\n",
              "                        [{\"name\": \"explained_variance_ratio\", \"type\": \"bar\", \"x\": [1, 2, 3, 4, 5, 6, 7, 8, 9, 10, 11, 12, 13, 14, 15, 16, 17, 18, 19, 20, 21, 22, 23, 24, 25, 26, 27, 28, 29, 30, 31, 32, 33, 34, 35, 36, 37, 38, 39, 40, 41, 42, 43, 44, 45, 46, 47, 48, 49, 50, 51, 52, 53, 54, 55, 56, 57, 58, 59, 60, 61, 62, 63, 64, 65, 66, 67, 68, 69, 70, 71, 72, 73, 74, 75, 76, 77, 78, 79, 80, 81, 82, 83, 84, 85, 86, 87, 88, 89, 90, 91, 92, 93, 94, 95, 96, 97, 98, 99, 100, 101, 102, 103, 104, 105, 106, 107, 108, 109, 110, 111, 112, 113, 114, 115, 116, 117, 118, 119, 120, 121, 122, 123, 124, 125, 126, 127, 128, 129, 130, 131, 132, 133, 134, 135, 136, 137, 138, 139, 140, 141, 142, 143, 144, 145, 146, 147, 148], \"y\": [0.09867566055532997, 0.07404545996315014, 0.06127704912249798, 0.05405319462773718, 0.04737567162325971, 0.04419003468533518, 0.03370100962655816, 0.02912435034096526, 0.0277273015703159, 0.023302222656613338, 0.02179107964326564, 0.020163512975765786, 0.01704494040696469, 0.016370949620687747, 0.01615895741135503, 0.015575119680701828, 0.012986754030336122, 0.012629633819517391, 0.01212691967021707, 0.011514327280470856, 0.010496350615768788, 0.009851131054011426, 0.009604409334383886, 0.009203409144663768, 0.0087428302952284, 0.008721647396404408, 0.008068022759053934, 0.007563626075035463, 0.007365206354312964, 0.006808993678497476, 0.006695501258649429, 0.006184416818487692, 0.006048475792429997, 0.005807266682910441, 0.005485729754201568, 0.0052606880350480325, 0.0051411208141015985, 0.004864453614902749, 0.004773905749649953, 0.004633984633124725, 0.004456226932432463, 0.004186793747175793, 0.004090857419083089, 0.004033073957534017, 0.0038349963238159227, 0.0037595922030720747, 0.003505275008413664, 0.0034692459592461206, 0.0034112282457685393, 0.003231581964702318, 0.003185234917598831, 0.0031635916472891566, 0.0030238806381256596, 0.0029219081845280816, 0.0028336835697631603, 0.0027754400019065406, 0.0026495672022237553, 0.002555720012760364, 0.002502262126034484, 0.002460167987511217, 0.0023276207092035434, 0.0023071155107027, 0.0022707022821519085, 0.0022121448318526524, 0.002122754736282676, 0.0020737123019462815, 0.002010560282290842, 0.001965564830869687, 0.0019137592187029732, 0.0018817105927449935, 0.0018350051260509347, 0.001780148106944502, 0.001706543888715595, 0.001689128092491287, 0.0016351492825989686, 0.0016250301042467325, 0.0015823130053155198, 0.0014857299073590385, 0.0014688430187377141, 0.001445478588921422, 0.0014077364614455657, 0.001388020958611811, 0.0013679615962093217, 0.0013284267994644612, 0.0012961464778945466, 0.001273012846963107, 0.0012584677056758308, 0.0012460410125564282, 0.0011869480200877459, 0.0011732185328178636, 0.0011585656817650032, 0.0011199984166024824, 0.0011093713695077474, 0.0010833701295020468, 0.0010625590830207296, 0.0010385461570150145, 0.001022134463657055, 0.0010069269777130594, 0.000994482090905421, 0.0009716289628184081, 0.0009392458358851951, 0.0009269139879349951, 0.0009044115124657823, 0.0008986141098695249, 0.0008845387560447594, 0.0008739738720128506, 0.0008575321206365187, 0.000850952183688168, 0.0008349726951313919, 0.0008072162133100357, 0.0007876869069713537, 0.0007789858635499531, 0.0007689212298037276, 0.0007572451378954474, 0.0007448569428485161, 0.0007213828776679323, 0.0007174063144442906, 0.0007066461400105324, 0.0006977850028298065, 0.0006881656880490261, 0.0006784711940862616, 0.0006747084883035807, 0.0006637986099307086, 0.0006539048913845128, 0.0006423136488365837, 0.0006317837655029523, 0.000628575360125955, 0.0006213539962169315, 0.0006113927868586342, 0.0006067059838473515, 0.0005988520952375106, 0.000590616576774351, 0.0005817158507699234, 0.000577097299569065, 0.0005658926008124251, 0.000557859777991067, 0.0005497760570918638, 0.0005342024818231255, 0.0005231426707675109, 0.0005206465354056894, 0.0005180678900593187, 0.0005072081143199993, 0.0004991541098070201, 0.000496517110415663, 0.0004912593205233577, 0.0004819136141935018, 0.00047283763524705866, 0.00046535639359743627]}, {\"name\": \"cumulative\", \"type\": \"scatter\", \"x\": [1, 2, 3, 4, 5, 6, 7, 8, 9, 10, 11, 12, 13, 14, 15, 16, 17, 18, 19, 20, 21, 22, 23, 24, 25, 26, 27, 28, 29, 30, 31, 32, 33, 34, 35, 36, 37, 38, 39, 40, 41, 42, 43, 44, 45, 46, 47, 48, 49, 50, 51, 52, 53, 54, 55, 56, 57, 58, 59, 60, 61, 62, 63, 64, 65, 66, 67, 68, 69, 70, 71, 72, 73, 74, 75, 76, 77, 78, 79, 80, 81, 82, 83, 84, 85, 86, 87, 88, 89, 90, 91, 92, 93, 94, 95, 96, 97, 98, 99, 100, 101, 102, 103, 104, 105, 106, 107, 108, 109, 110, 111, 112, 113, 114, 115, 116, 117, 118, 119, 120, 121, 122, 123, 124, 125, 126, 127, 128, 129, 130, 131, 132, 133, 134, 135, 136, 137, 138, 139, 140, 141, 142, 143, 144, 145, 146, 147, 148], \"y\": [0.09867566055532997, 0.1727211205184801, 0.23399816964097808, 0.28805136426871525, 0.335427035891975, 0.37961707057731015, 0.4133180802038683, 0.44244243054483356, 0.47016973211514945, 0.4934719547717628, 0.5152630344150284, 0.5354265473907942, 0.5524714877977589, 0.5688424374184466, 0.5850013948298016, 0.6005765145105034, 0.6135632685408395, 0.626192902360357, 0.638319822030574, 0.6498341493110449, 0.6603304999268137, 0.6701816309808252, 0.6797860403152091, 0.6889894494598728, 0.6977322797551012, 0.7064539271515056, 0.7145219499105595, 0.722085575985595, 0.7294507823399079, 0.7362597760184054, 0.7429552772770549, 0.7491396940955426, 0.7551881698879725, 0.760995436570883, 0.7664811663250846, 0.7717418543601325, 0.7768829751742341, 0.7817474287891368, 0.7865213345387868, 0.7911553191719115, 0.7956115461043439, 0.7997983398515197, 0.8038891972706028, 0.8079222712281369, 0.8117572675519528, 0.8155168597550249, 0.8190221347634385, 0.8224913807226847, 0.8259026089684532, 0.8291341909331555, 0.8323194258507544, 0.8354830174980435, 0.8385068981361692, 0.8414288063206973, 0.8442624898904605, 0.847037929892367, 0.8496874970945908, 0.8522432171073512, 0.8547454792333856, 0.8572056472208969, 0.8595332679301004, 0.8618403834408032, 0.864111085722955, 0.8663232305548076, 0.8684459852910903, 0.8705196975930366, 0.8725302578753275, 0.8744958227061972, 0.8764095819249001, 0.8782912925176452, 0.8801262976436961, 0.8819064457506406, 0.8836129896393562, 0.8853021177318475, 0.8869372670144465, 0.8885622971186933, 0.8901446101240088, 0.8916303400313679, 0.8930991830501056, 0.894544661639027, 0.8959523981004726, 0.8973404190590843, 0.8987083806552937, 0.9000368074547581, 0.9013329539326527, 0.9026059667796158, 0.9038644344852916, 0.9051104754978481, 0.9062974235179359, 0.9074706420507537, 0.9086292077325187, 0.9097492061491211, 0.9108585775186289, 0.9119419476481309, 0.9130045067311516, 0.9140430528881667, 0.9150651873518237, 0.9160721143295368, 0.9170665964204423, 0.9180382253832607, 0.918977471219146, 0.919904385207081, 0.9208087967195467, 0.9217074108294163, 0.9225919495854611, 0.9234659234574739, 0.9243234555781105, 0.9251744077617986, 0.92600938045693, 0.9268165966702401, 0.9276042835772115, 0.9283832694407614, 0.9291521906705652, 0.9299094358084606, 0.9306542927513092, 0.9313756756289772, 0.9320930819434214, 0.9327997280834319, 0.9334975130862617, 0.9341856787743108, 0.9348641499683971, 0.9355388584567006, 0.9362026570666313, 0.9368565619580158, 0.9374988756068524, 0.9381306593723554, 0.9387592347324814, 0.9393805887286982, 0.9399919815155569, 0.9405986874994042, 0.9411975395946417, 0.9417881561714161, 0.942369872022186, 0.9429469693217551, 0.9435128619225676, 0.9440707217005586, 0.9446204977576504, 0.9451547002394736, 0.945677842910241, 0.9461984894456468, 0.9467165573357061, 0.9472237654500262, 0.9477229195598332, 0.9482194366702489, 0.9487106959907723, 0.9491926096049658, 0.9496654472402128, 0.9501308036338103]}],\n",
              "                        {\"template\": {\"data\": {\"bar\": [{\"error_x\": {\"color\": \"#f2f5fa\"}, \"error_y\": {\"color\": \"#f2f5fa\"}, \"marker\": {\"line\": {\"color\": \"rgb(17,17,17)\", \"width\": 0.5}}, \"type\": \"bar\"}], \"barpolar\": [{\"marker\": {\"line\": {\"color\": \"rgb(17,17,17)\", \"width\": 0.5}}, \"type\": \"barpolar\"}], \"carpet\": [{\"aaxis\": {\"endlinecolor\": \"#A2B1C6\", \"gridcolor\": \"#506784\", \"linecolor\": \"#506784\", \"minorgridcolor\": \"#506784\", \"startlinecolor\": \"#A2B1C6\"}, \"baxis\": {\"endlinecolor\": \"#A2B1C6\", \"gridcolor\": \"#506784\", \"linecolor\": \"#506784\", \"minorgridcolor\": \"#506784\", \"startlinecolor\": \"#A2B1C6\"}, \"type\": \"carpet\"}], \"choropleth\": [{\"colorbar\": {\"outlinewidth\": 0, \"ticks\": \"\"}, \"type\": \"choropleth\"}], \"contour\": [{\"colorbar\": {\"outlinewidth\": 0, \"ticks\": \"\"}, \"colorscale\": [[0.0, \"#0d0887\"], [0.1111111111111111, \"#46039f\"], [0.2222222222222222, \"#7201a8\"], [0.3333333333333333, \"#9c179e\"], [0.4444444444444444, \"#bd3786\"], [0.5555555555555556, \"#d8576b\"], [0.6666666666666666, \"#ed7953\"], [0.7777777777777778, \"#fb9f3a\"], [0.8888888888888888, \"#fdca26\"], [1.0, \"#f0f921\"]], \"type\": \"contour\"}], \"contourcarpet\": [{\"colorbar\": {\"outlinewidth\": 0, \"ticks\": \"\"}, \"type\": \"contourcarpet\"}], \"heatmap\": [{\"colorbar\": {\"outlinewidth\": 0, \"ticks\": \"\"}, \"colorscale\": [[0.0, \"#0d0887\"], [0.1111111111111111, \"#46039f\"], [0.2222222222222222, \"#7201a8\"], [0.3333333333333333, \"#9c179e\"], [0.4444444444444444, \"#bd3786\"], [0.5555555555555556, \"#d8576b\"], [0.6666666666666666, \"#ed7953\"], [0.7777777777777778, \"#fb9f3a\"], [0.8888888888888888, \"#fdca26\"], [1.0, \"#f0f921\"]], \"type\": \"heatmap\"}], \"heatmapgl\": [{\"colorbar\": {\"outlinewidth\": 0, \"ticks\": \"\"}, \"colorscale\": [[0.0, \"#0d0887\"], [0.1111111111111111, \"#46039f\"], [0.2222222222222222, \"#7201a8\"], [0.3333333333333333, \"#9c179e\"], [0.4444444444444444, \"#bd3786\"], [0.5555555555555556, \"#d8576b\"], [0.6666666666666666, \"#ed7953\"], [0.7777777777777778, \"#fb9f3a\"], [0.8888888888888888, \"#fdca26\"], [1.0, \"#f0f921\"]], \"type\": \"heatmapgl\"}], \"histogram\": [{\"marker\": {\"colorbar\": {\"outlinewidth\": 0, \"ticks\": \"\"}}, \"type\": \"histogram\"}], \"histogram2d\": [{\"colorbar\": {\"outlinewidth\": 0, \"ticks\": \"\"}, \"colorscale\": [[0.0, \"#0d0887\"], [0.1111111111111111, \"#46039f\"], [0.2222222222222222, \"#7201a8\"], [0.3333333333333333, \"#9c179e\"], [0.4444444444444444, \"#bd3786\"], [0.5555555555555556, \"#d8576b\"], [0.6666666666666666, \"#ed7953\"], [0.7777777777777778, \"#fb9f3a\"], [0.8888888888888888, \"#fdca26\"], [1.0, \"#f0f921\"]], \"type\": \"histogram2d\"}], \"histogram2dcontour\": [{\"colorbar\": {\"outlinewidth\": 0, \"ticks\": \"\"}, \"colorscale\": [[0.0, \"#0d0887\"], [0.1111111111111111, \"#46039f\"], [0.2222222222222222, \"#7201a8\"], [0.3333333333333333, \"#9c179e\"], [0.4444444444444444, \"#bd3786\"], [0.5555555555555556, \"#d8576b\"], [0.6666666666666666, \"#ed7953\"], [0.7777777777777778, \"#fb9f3a\"], [0.8888888888888888, \"#fdca26\"], [1.0, \"#f0f921\"]], \"type\": \"histogram2dcontour\"}], \"mesh3d\": [{\"colorbar\": {\"outlinewidth\": 0, \"ticks\": \"\"}, \"type\": \"mesh3d\"}], \"parcoords\": [{\"line\": {\"colorbar\": {\"outlinewidth\": 0, \"ticks\": \"\"}}, \"type\": \"parcoords\"}], \"pie\": [{\"automargin\": true, \"type\": \"pie\"}], \"scatter\": [{\"marker\": {\"line\": {\"color\": \"#283442\"}}, \"type\": \"scatter\"}], \"scatter3d\": [{\"line\": {\"colorbar\": {\"outlinewidth\": 0, \"ticks\": \"\"}}, \"marker\": {\"colorbar\": {\"outlinewidth\": 0, \"ticks\": \"\"}}, \"type\": \"scatter3d\"}], \"scattercarpet\": [{\"marker\": {\"colorbar\": {\"outlinewidth\": 0, \"ticks\": \"\"}}, \"type\": \"scattercarpet\"}], \"scattergeo\": [{\"marker\": {\"colorbar\": {\"outlinewidth\": 0, \"ticks\": \"\"}}, \"type\": \"scattergeo\"}], \"scattergl\": [{\"marker\": {\"line\": {\"color\": \"#283442\"}}, \"type\": \"scattergl\"}], \"scattermapbox\": [{\"marker\": {\"colorbar\": {\"outlinewidth\": 0, \"ticks\": \"\"}}, \"type\": \"scattermapbox\"}], \"scatterpolar\": [{\"marker\": {\"colorbar\": {\"outlinewidth\": 0, \"ticks\": \"\"}}, \"type\": \"scatterpolar\"}], \"scatterpolargl\": [{\"marker\": {\"colorbar\": {\"outlinewidth\": 0, \"ticks\": \"\"}}, \"type\": \"scatterpolargl\"}], \"scatterternary\": [{\"marker\": {\"colorbar\": {\"outlinewidth\": 0, \"ticks\": \"\"}}, \"type\": \"scatterternary\"}], \"surface\": [{\"colorbar\": {\"outlinewidth\": 0, \"ticks\": \"\"}, \"colorscale\": [[0.0, \"#0d0887\"], [0.1111111111111111, \"#46039f\"], [0.2222222222222222, \"#7201a8\"], [0.3333333333333333, \"#9c179e\"], [0.4444444444444444, \"#bd3786\"], [0.5555555555555556, \"#d8576b\"], [0.6666666666666666, \"#ed7953\"], [0.7777777777777778, \"#fb9f3a\"], [0.8888888888888888, \"#fdca26\"], [1.0, \"#f0f921\"]], \"type\": \"surface\"}], \"table\": [{\"cells\": {\"fill\": {\"color\": \"#506784\"}, \"line\": {\"color\": \"rgb(17,17,17)\"}}, \"header\": {\"fill\": {\"color\": \"#2a3f5f\"}, \"line\": {\"color\": \"rgb(17,17,17)\"}}, \"type\": \"table\"}]}, \"layout\": {\"annotationdefaults\": {\"arrowcolor\": \"#f2f5fa\", \"arrowhead\": 0, \"arrowwidth\": 1}, \"coloraxis\": {\"colorbar\": {\"outlinewidth\": 0, \"ticks\": \"\"}}, \"colorscale\": {\"diverging\": [[0, \"#8e0152\"], [0.1, \"#c51b7d\"], [0.2, \"#de77ae\"], [0.3, \"#f1b6da\"], [0.4, \"#fde0ef\"], [0.5, \"#f7f7f7\"], [0.6, \"#e6f5d0\"], [0.7, \"#b8e186\"], [0.8, \"#7fbc41\"], [0.9, \"#4d9221\"], [1, \"#276419\"]], \"sequential\": [[0.0, \"#0d0887\"], [0.1111111111111111, \"#46039f\"], [0.2222222222222222, \"#7201a8\"], [0.3333333333333333, \"#9c179e\"], [0.4444444444444444, \"#bd3786\"], [0.5555555555555556, \"#d8576b\"], [0.6666666666666666, \"#ed7953\"], [0.7777777777777778, \"#fb9f3a\"], [0.8888888888888888, \"#fdca26\"], [1.0, \"#f0f921\"]], \"sequentialminus\": [[0.0, \"#0d0887\"], [0.1111111111111111, \"#46039f\"], [0.2222222222222222, \"#7201a8\"], [0.3333333333333333, \"#9c179e\"], [0.4444444444444444, \"#bd3786\"], [0.5555555555555556, \"#d8576b\"], [0.6666666666666666, \"#ed7953\"], [0.7777777777777778, \"#fb9f3a\"], [0.8888888888888888, \"#fdca26\"], [1.0, \"#f0f921\"]]}, \"colorway\": [\"#636efa\", \"#EF553B\", \"#00cc96\", \"#ab63fa\", \"#FFA15A\", \"#19d3f3\", \"#FF6692\", \"#B6E880\", \"#FF97FF\", \"#FECB52\"], \"font\": {\"color\": \"#f2f5fa\"}, \"geo\": {\"bgcolor\": \"rgb(17,17,17)\", \"lakecolor\": \"rgb(17,17,17)\", \"landcolor\": \"rgb(17,17,17)\", \"showlakes\": true, \"showland\": true, \"subunitcolor\": \"#506784\"}, \"hoverlabel\": {\"align\": \"left\"}, \"hovermode\": \"closest\", \"mapbox\": {\"style\": \"dark\"}, \"paper_bgcolor\": \"rgb(17,17,17)\", \"plot_bgcolor\": \"rgb(17,17,17)\", \"polar\": {\"angularaxis\": {\"gridcolor\": \"#506784\", \"linecolor\": \"#506784\", \"ticks\": \"\"}, \"bgcolor\": \"rgb(17,17,17)\", \"radialaxis\": {\"gridcolor\": \"#506784\", \"linecolor\": \"#506784\", \"ticks\": \"\"}}, \"scene\": {\"xaxis\": {\"backgroundcolor\": \"rgb(17,17,17)\", \"gridcolor\": \"#506784\", \"gridwidth\": 2, \"linecolor\": \"#506784\", \"showbackground\": true, \"ticks\": \"\", \"zerolinecolor\": \"#C8D4E3\"}, \"yaxis\": {\"backgroundcolor\": \"rgb(17,17,17)\", \"gridcolor\": \"#506784\", \"gridwidth\": 2, \"linecolor\": \"#506784\", \"showbackground\": true, \"ticks\": \"\", \"zerolinecolor\": \"#C8D4E3\"}, \"zaxis\": {\"backgroundcolor\": \"rgb(17,17,17)\", \"gridcolor\": \"#506784\", \"gridwidth\": 2, \"linecolor\": \"#506784\", \"showbackground\": true, \"ticks\": \"\", \"zerolinecolor\": \"#C8D4E3\"}}, \"shapedefaults\": {\"line\": {\"color\": \"#f2f5fa\"}}, \"sliderdefaults\": {\"bgcolor\": \"#C8D4E3\", \"bordercolor\": \"rgb(17,17,17)\", \"borderwidth\": 1, \"tickwidth\": 0}, \"ternary\": {\"aaxis\": {\"gridcolor\": \"#506784\", \"linecolor\": \"#506784\", \"ticks\": \"\"}, \"baxis\": {\"gridcolor\": \"#506784\", \"linecolor\": \"#506784\", \"ticks\": \"\"}, \"bgcolor\": \"rgb(17,17,17)\", \"caxis\": {\"gridcolor\": \"#506784\", \"linecolor\": \"#506784\", \"ticks\": \"\"}}, \"title\": {\"x\": 0.05}, \"updatemenudefaults\": {\"bgcolor\": \"#506784\", \"borderwidth\": 0}, \"xaxis\": {\"automargin\": true, \"gridcolor\": \"#283442\", \"linecolor\": \"#506784\", \"ticks\": \"\", \"title\": {\"standoff\": 15}, \"zerolinecolor\": \"#283442\", \"zerolinewidth\": 2}, \"yaxis\": {\"automargin\": true, \"gridcolor\": \"#283442\", \"linecolor\": \"#506784\", \"ticks\": \"\", \"title\": {\"standoff\": 15}, \"zerolinecolor\": \"#283442\", \"zerolinewidth\": 2}}}, \"title\": {\"text\": \"PCA - 3 components\"}, \"width\": 950},\n",
              "                        {\"responsive\": true}\n",
              "                    ).then(function(){\n",
              "                            \n",
              "var gd = document.getElementById('fcdf196a-a10d-4aeb-826f-ce4eee3868b0');\n",
              "var x = new MutationObserver(function (mutations, observer) {{\n",
              "        var display = window.getComputedStyle(gd).display;\n",
              "        if (!display || display === 'none') {{\n",
              "            console.log([gd, 'removed!']);\n",
              "            Plotly.purge(gd);\n",
              "            observer.disconnect();\n",
              "        }}\n",
              "}});\n",
              "\n",
              "// Listen for the removal of the full notebook cells\n",
              "var notebookContainer = gd.closest('#notebook-container');\n",
              "if (notebookContainer) {{\n",
              "    x.observe(notebookContainer, {childList: true});\n",
              "}}\n",
              "\n",
              "// Listen for the clearing of the current output cell\n",
              "var outputEl = gd.closest('.output');\n",
              "if (outputEl) {{\n",
              "    x.observe(outputEl, {childList: true});\n",
              "}}\n",
              "\n",
              "                        })\n",
              "                };\n",
              "                \n",
              "            </script>\n",
              "        </div>\n",
              "</body>\n",
              "</html>"
            ]
          },
          "metadata": {
            "tags": []
          }
        }
      ]
    },
    {
      "cell_type": "code",
      "metadata": {
        "colab": {
          "base_uri": "https://localhost:8080/",
          "height": 680
        },
        "id": "K6ZanYF5y19v",
        "outputId": "06b2dc16-7deb-477d-f96e-0bf2c2ba18cc"
      },
      "source": [
        "# sam robię w matplotlib bo na github nie widać plotly\r\n",
        "import matplotlib.pyplot as plt\r\n",
        "fig = plt.figure(figsize=(16.0,12.0))\r\n",
        "ax = fig.add_subplot(111)\r\n",
        "ax.bar(results['component'], results['explained_variance_ratio'],\r\n",
        "label='explained variance ratio')\r\n",
        "ax.plot(results['component'], results['cumulative'], marker='o', label='cumulative explained variance', c=\"red\")\r\n",
        "plt.legend(loc='center right')\r\n",
        "plt.show()"
      ],
      "execution_count": 15,
      "outputs": [
        {
          "output_type": "display_data",
          "data": {
            "image/png": "[encoded data removed]",
            "text/plain": [
              "<Figure size 1152x864 with 1 Axes>"
            ]
          },
          "metadata": {
            "tags": [],
            "needs_background": "light"
          }
        }
      ]
    },
    {
      "cell_type": "code",
      "metadata": {
        "id": "omeZlE1c-5J0",
        "colab": {
          "base_uri": "https://localhost:8080/"
        },
        "outputId": "aebf79e4-12fd-43b5-f3d2-b76de7b2ba72"
      },
      "source": [
        "X_train_pca[0].shape"
      ],
      "execution_count": 16,
      "outputs": [
        {
          "output_type": "execute_result",
          "data": {
            "text/plain": [
              "(148,)"
            ]
          },
          "metadata": {
            "tags": []
          },
          "execution_count": 16
        }
      ]
    },
    {
      "cell_type": "code",
      "metadata": {
        "id": "lUzbHmQR_D-K",
        "colab": {
          "base_uri": "https://localhost:8080/"
        },
        "outputId": "9eb70042-e16e-427f-b5e0-532367ff5746"
      },
      "source": [
        "# odwraca działanie metody pca dzięku inverse_tranfsorm. Z pozwotem ze 148 pikseli na 748\n",
        "approx = pca.inverse_transform(X_train_pca)\n",
        "approx[0].shape"
      ],
      "execution_count": 17,
      "outputs": [
        {
          "output_type": "execute_result",
          "data": {
            "text/plain": [
              "(784,)"
            ]
          },
          "metadata": {
            "tags": []
          },
          "execution_count": 17
        }
      ]
    },
    {
      "cell_type": "markdown",
      "metadata": {
        "id": "JxRQoMWwtKLP"
      },
      "source": [
        "Wizualizacja"
      ]
    },
    {
      "cell_type": "code",
      "metadata": {
        "id": "6c_Rii8e_t5G",
        "colab": {
          "base_uri": "https://localhost:8080/",
          "height": 236
        },
        "outputId": "8acbcdaa-9004-438c-b721-e3baef1df619"
      },
      "source": [
        "# tak różni się aproksymowane zdjęcie od normalnego\n",
        "\n",
        "plt.subplot(121)\n",
        "plt.imshow(X_train[0].reshape(28, 28), cmap='gray_r', interpolation='nearest')\n",
        "plt.xlabel('784 components', color='white', fontsize=14)\n",
        "plt.title('Original image', color='white', fontsize=16)\n",
        "\n",
        "plt.subplot(122)\n",
        "plt.imshow(approx[0].reshape(28, 28), cmap='gray_r', interpolation='nearest')\n",
        "plt.xlabel(f'{pca.n_components_} components', color='white', fontsize=14)\n",
        "plt.title('95% variance', color='white', fontsize=16)\n",
        "plt.show()"
      ],
      "execution_count": 18,
      "outputs": [
        {
          "output_type": "display_data",
          "data": {
            "image/png": "[encoded data removed]",
            "text/plain": [
              "<Figure size 432x288 with 2 Axes>"
            ]
          },
          "metadata": {
            "tags": [],
            "needs_background": "light"
          }
        }
      ]
    },
    {
      "cell_type": "markdown",
      "metadata": {
        "id": "0LwlOgtxtqmP"
      },
      "source": [
        "### <a name='3'></a> Porównanie procentu wyjaśnionej wariancji"
      ]
    },
    {
      "cell_type": "code",
      "metadata": {
        "id": "dkpnETtsBqfB"
      },
      "source": [
        "def make_pca(n_components, data, idx=0):\n",
        "\n",
        "    pca = PCA(n_components=n_components)\n",
        "    data_pca = pca.fit_transform(data)\n",
        "\n",
        "    approx = pca.inverse_transform(data_pca)\n",
        "\n",
        "    plt.imshow(approx[idx].reshape(28, 28), cmap='gray_r', interpolation='nearest')\n",
        "    plt.xlabel(f'{pca.n_components_} components', color='white', fontsize=12)\n",
        "    plt.title(f'{str(n_components)} var', color='white', fontsize=15)"
      ],
      "execution_count": 23,
      "outputs": []
    },
    {
      "cell_type": "markdown",
      "metadata": {
        "id": "UNKlh7HgtP-H"
      },
      "source": [
        "Wizualizacja: 5"
      ]
    },
    {
      "cell_type": "code",
      "metadata": {
        "id": "WCjyFACjEUZX",
        "colab": {
          "base_uri": "https://localhost:8080/",
          "height": 174
        },
        "outputId": "03435c77-69e1-4ac8-9f7f-0ae74c763d11"
      },
      "source": [
        "plt.figure(figsize=(16, 10))\n",
        "for i, val in enumerate([0.99, 0.95, 0.90, 0.85, 0.8, 0.75, 0.7, 0.5]):\n",
        "    plt.subplot(180 + i + 1)\n",
        "    make_pca(val, X_train)\n",
        "plt.show()"
      ],
      "execution_count": 24,
      "outputs": [
        {
          "output_type": "display_data",
          "data": {
            "image/png": "[encoded data removed]",
            "text/plain": [
              "<Figure size 1152x720 with 8 Axes>"
            ]
          },
          "metadata": {
            "tags": [],
            "needs_background": "light"
          }
        }
      ]
    },
    {
      "cell_type": "markdown",
      "metadata": {
        "id": "CBKrP8eItUnf"
      },
      "source": [
        "Wizualizacja: 0"
      ]
    },
    {
      "cell_type": "code",
      "metadata": {
        "id": "PacLK-h1DfUf",
        "colab": {
          "base_uri": "https://localhost:8080/",
          "height": 174
        },
        "outputId": "7f830c1d-3b2d-4dc2-9352-9b0f71b311b3"
      },
      "source": [
        "plt.figure(figsize=(16, 10))\n",
        "for i, val in enumerate([0.99, 0.95, 0.90, 0.85, 0.8, 0.75, 0.7, 0.5]):\n",
        "    plt.subplot(180 + i + 1)\n",
        "    make_pca(val, X_train, idx=1)\n",
        "plt.show()"
      ],
      "execution_count": 25,
      "outputs": [
        {
          "output_type": "display_data",
          "data": {
            "image/png": "[encoded data removed]",
            "text/plain": [
              "<Figure size 1152x720 with 8 Axes>"
            ]
          },
          "metadata": {
            "tags": [],
            "needs_background": "light"
          }
        }
      ]
    },
    {
      "cell_type": "markdown",
      "metadata": {
        "id": "gwp-w_z9tVMJ"
      },
      "source": [
        "Wizualizacja: 9"
      ]
    },
    {
      "cell_type": "code",
      "metadata": {
        "id": "Cc8o_T7_GqvD",
        "colab": {
          "base_uri": "https://localhost:8080/",
          "height": 174
        },
        "outputId": "2aca1f8e-a680-46ff-d63a-1867fe17a170"
      },
      "source": [
        "plt.figure(figsize=(16, 10))\n",
        "for i, val in enumerate([0.99, 0.95, 0.90, 0.85, 0.8, 0.75, 0.7, 0.5]):\n",
        "    plt.subplot(180 + i + 1)\n",
        "    make_pca(val, X_train, idx=4)\n",
        "plt.show()"
      ],
      "execution_count": 26,
      "outputs": [
        {
          "output_type": "display_data",
          "data": {
            "image/png": "[encoded data removed]",
            "text/plain": [
              "<Figure size 1152x720 with 8 Axes>"
            ]
          },
          "metadata": {
            "tags": [],
            "needs_background": "light"
          }
        }
      ]
    },
    {
      "cell_type": "code",
      "metadata": {
        "id": "owd1ynPvHwR8"
      },
      "source": [
        ""
      ],
      "execution_count": null,
      "outputs": []
    }
  ]
}