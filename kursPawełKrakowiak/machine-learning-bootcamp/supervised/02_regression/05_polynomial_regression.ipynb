{
  "nbformat": 4,
  "nbformat_minor": 0,
  "metadata": {
    "colab": {
      "name": "05_polynomial_regression.ipynb",
      "provenance": [],
      "collapsed_sections": [],
      "include_colab_link": true
    },
    "kernelspec": {
      "name": "python3",
      "display_name": "Python 3"
    }
  },
  "cells": [
    {
      "cell_type": "markdown",
      "metadata": {
        "id": "view-in-github",
        "colab_type": "text"
      },
      "source": [
        "<a href=\"https://colab.research.google.com/github/KamilBienias/data-science/blob/main/kursPawe%C5%82Krakowiak/machine-learning-bootcamp/supervised/02_regression/05_polynomial_regression.ipynb\" target=\"_parent\"><img src=\"https://colab.research.google.com/assets/colab-badge.svg\" alt=\"Open In Colab\"/></a>"
      ]
    },
    {
      "cell_type": "markdown",
      "metadata": {
        "id": "QMwZ7ve8NXSN"
      },
      "source": [
        "### scikit-learn\n",
        "Strona biblioteki: [https://scikit-learn.org](https://scikit-learn.org)  \n",
        "\n",
        "Dokumentacja/User Guide: [https://scikit-learn.org/stable/user_guide.html](https://scikit-learn.org/stable/user_guide.html)\n",
        "\n",
        "Podstawowa biblioteka do uczenia maszynowego w języku Python.\n",
        "\n",
        "Aby zainstalować bibliotekę scikit-learn, użyj polecenia poniżej:\n",
        "```\n",
        "!pip install scikit-learn\n",
        "```\n",
        "Aby zaktualizować do najnowszej wersji bibliotekę scikit-learn, użyj polecenia poniżej:\n",
        "```\n",
        "!pip install --upgrade scikit-learn\n",
        "```\n",
        "Kurs stworzony w oparciu o wersję `0.22.1`\n",
        "\n",
        "### Spis treści:\n",
        "1. [Import bibliotek](#0)\n",
        "2. [Polynomial Regression - Regresja Wielomianowa](#1)\n",
        "3. [Wygenerowanie danych](#2)\n",
        "4. [Model liniowy](#3)\n",
        "5. [Ekstrakcja cech wielomianowych - stopień 2](#4)\n",
        "6. [Dopasowanie modelu](#5)\n",
        "7. [Ekstrakcja cech wielomianowych - stopień 3](#6)\n",
        "8. [Dopasowanie modelu](#7)\n",
        "9. [Porównanie metryk](#8)"
      ]
    },
    {
      "cell_type": "markdown",
      "metadata": {
        "id": "Yxg7QeJHFrec"
      },
      "source": [
        "### <a name='0'></a> Import bibliotek"
      ]
    },
    {
      "cell_type": "code",
      "metadata": {
        "id": "do5ULTJPN0St",
        "colab": {
          "base_uri": "https://localhost:8080/",
          "height": 70
        },
        "outputId": "d7ad3f0d-820d-43e6-cb74-d1ed5b67a2a1"
      },
      "source": [
        "print(\"############################################################\")\n",
        "print(\"Etap7. Odcinek: Regresja wielomianowa - ćwiczenie\")\n",
        "\n",
        "# Wykład:\n",
        "\n",
        "# Model regresji wielomianowej jest w klasie liniowej.\n",
        "\n",
        "import numpy as np\n",
        "import pandas as pd\n",
        "import matplotlib.pyplot as plt\n",
        "import seaborn as sns\n",
        "import plotly.express as px\n",
        "import sklearn\n",
        "\n",
        "np.random.seed(42)\n",
        "np.set_printoptions(precision=6, suppress=True)\n",
        "sns.set(font_scale=1.3)\n",
        "sklearn.__version__"
      ],
      "execution_count": 14,
      "outputs": [
        {
          "output_type": "stream",
          "text": [
            "############################################################\n",
            "Etap7. Odcinek: Regresja wielomianowa - ćwiczenie\n"
          ],
          "name": "stdout"
        },
        {
          "output_type": "execute_result",
          "data": {
            "application/vnd.google.colaboratory.intrinsic+json": {
              "type": "string"
            },
            "text/plain": [
              "'0.22.2.post1'"
            ]
          },
          "metadata": {
            "tags": []
          },
          "execution_count": 14
        }
      ]
    },
    {
      "cell_type": "markdown",
      "metadata": {
        "id": "m6t9_XjVn6nC"
      },
      "source": [
        "### <a name='1'></a> Polynomial Regression - Regresja Wielomianowa\n",
        "Powszechnym wzorcem stosowanym w uczeniu maszynowym jest użycie modeli liniowych wytrenowanych na nieliniowych funkcjach danych. Podejscie to utrzymuje szybkie działanie metod liniowych i zarazem umożliwia stosowanie metod liniowych dla znacznie szerszego zakresu danych.\n",
        "\n",
        "Przykładowo, prosta regresja liniowa może zostać zastosowana przez skonstruowanie cech wielomianowych do modelów nieliniowych.\n",
        "\n",
        "To implikuje fakt, iż nasz model regresji wielomianowej znajduje się w klasie modeli liniowych i może być rozwiązany za pomocą tych samych technik. \n",
        "\n",
        "### Rozważmy model regresji liniowej: $Y=w_0+w_1X_1$\n"
      ]
    },
    {
      "cell_type": "markdown",
      "metadata": {
        "id": "n2ja6_EfGDXf"
      },
      "source": [
        "### <a name='2'></a> Wygenerowanie danych"
      ]
    },
    {
      "cell_type": "code",
      "metadata": {
        "id": "hkcj5Yb_VhrK",
        "colab": {
          "base_uri": "https://localhost:8080/",
          "height": 418
        },
        "outputId": "7c3d5620-7267-4be2-8b44-c0c27c0821b2"
      },
      "source": [
        "# 40 liczb od -10 do 9.5 w odstępach co 0.5\n",
        "X = np.arange(-10, 10, 0.5)\n",
        "# nie mogę użyć range bo start, stop i step mają być w niej całkowite\n",
        "# X = range(-10, 10, 0.5)\n",
        "# szumem jest 40 liczb z rozkładu N(0,80)\n",
        "noise = 80 * np.random.randn(40)\n",
        "# y to wielomian stopnia 3\n",
        "y = -X**3 + 10*X**2 - 2*X + 3 + noise\n",
        "X = X.reshape(40, 1)\n",
        "\n",
        "plt.figure(figsize=(8, 6))\n",
        "plt.title('Regresja wielomianowa')\n",
        "plt.xlabel('cecha x')\n",
        "plt.ylabel('zmienna docelowa')\n",
        "plt.scatter(X, y, label='cecha x')\n",
        "plt.legend()\n",
        "plt.show()"
      ],
      "execution_count": 15,
      "outputs": [
        {
          "output_type": "display_data",
          "data": {
            "image/png": "[encoded data removed]",
            "text/plain": [
              "<Figure size 576x432 with 1 Axes>"
            ]
          },
          "metadata": {
            "tags": []
          }
        }
      ]
    },
    {
      "cell_type": "markdown",
      "metadata": {
        "id": "vWHoQCctGLLD"
      },
      "source": [
        "### <a name='3'></a> Model liniowy"
      ]
    },
    {
      "cell_type": "code",
      "metadata": {
        "id": "I3e2ln52FaBn",
        "colab": {
          "base_uri": "https://localhost:8080/",
          "height": 418
        },
        "outputId": "3983bb04-d1ff-4159-eef5-7326d15bc6b0"
      },
      "source": [
        "from sklearn.linear_model import LinearRegression\n",
        "\n",
        "regressor = LinearRegression()\n",
        "# bez dzielenia na train i test (dla uproszczenia)\n",
        "regressor.fit(X, y)\n",
        "# predykcja na podstawie modelu liniowego\n",
        "y_pred_lin = regressor.predict(X)\n",
        "\n",
        "plt.figure(figsize=(8, 6))\n",
        "plt.title('Regresja wielomianowa')\n",
        "plt.xlabel('cecha x')\n",
        "plt.ylabel('zmienna docelowa')\n",
        "plt.scatter(X, y, label='cecha x')\n",
        "plt.plot(X, y_pred_lin, c='red', label='regresja liniowa')\n",
        "plt.legend()\n",
        "plt.show()"
      ],
      "execution_count": 16,
      "outputs": [
        {
          "output_type": "display_data",
          "data": {
            "image/png": "[encoded data removed]",
            "text/plain": [
              "<Figure size 576x432 with 1 Axes>"
            ]
          },
          "metadata": {
            "tags": []
          }
        }
      ]
    },
    {
      "cell_type": "code",
      "metadata": {
        "id": "u-NJxTVMF9WQ",
        "colab": {
          "base_uri": "https://localhost:8080/"
        },
        "outputId": "331cb18c-6712-4404-9d41-96e3b42dcc0b"
      },
      "source": [
        "from sklearn.metrics import r2_score\n",
        "\n",
        "r2_score(y, y_pred_lin)"
      ],
      "execution_count": 17,
      "outputs": [
        {
          "output_type": "execute_result",
          "data": {
            "text/plain": [
              "0.5342822962632471"
            ]
          },
          "metadata": {
            "tags": []
          },
          "execution_count": 17
        }
      ]
    },
    {
      "cell_type": "markdown",
      "metadata": {
        "id": "HiBChJPbGJaW"
      },
      "source": [
        "Model jest niedouczony (underfitting). Potrzebujemy zwiekszyć złożoność modelu dla naszego problemu.\n",
        "\n",
        "Rozważmy model regresji liniowej:\n",
        "$$Y = w_0 + w_1 X_1$$\n",
        "Dodając cechy wielomianowe otrzymujemy:\n",
        "$$Y = w_0 + w_1 X_1 +w_2X_1^2 $$\n",
        "Wyobraźmy sobie teraz nastepujące podstawienie:\n",
        "$$Z = [1, X_1, X_1^2]$$\n",
        "Wrzucając to z powrotem do naszego modelu otrzymujemy prosty model liniowy:\n",
        "$$Y = w_0 + w_1 Z_1 + w_2 Z_2$$"
      ]
    },
    {
      "cell_type": "markdown",
      "metadata": {
        "id": "DUfA_V18P8_q"
      },
      "source": [
        "###  <a name='4'></a> Ekstrakcja cech wielomianowych - stopień 2"
      ]
    },
    {
      "cell_type": "code",
      "metadata": {
        "id": "dcStk2a6Dy-w",
        "colab": {
          "base_uri": "https://localhost:8080/"
        },
        "outputId": "26cf855a-b3bc-427d-811d-3c206ebedf11"
      },
      "source": [
        "print(\"Typ X: \", type(X))\n",
        "print(\"X przed zapisem do df jest listą list =\")\n",
        "print(X)\n",
        "\n",
        "print()\n",
        "print(\"Dlatego trzeba połączyć te listy w jedną używając ravel i dopiero zapisać do df.\")\n",
        "print(\"X.ravel() =\")\n",
        "print(X.ravel())\n",
        "\n",
        "print()\n",
        "print(\"Ten sam rezultat co X.reshape(-1) =\")\n",
        "print(X.reshape(-1))\n",
        "\n",
        "print()\n",
        "print(\"df =\")\n",
        "df = pd.DataFrame(data={'X': X.ravel()})\n",
        "print(df.head(10))"
      ],
      "execution_count": 9,
      "outputs": [
        {
          "output_type": "stream",
          "text": [
            "Typ X:  <class 'numpy.ndarray'>\n",
            "X przed zapisem do df jest listą list =\n",
            "[[-10. ]\n",
            " [ -9.5]\n",
            " [ -9. ]\n",
            " [ -8.5]\n",
            " [ -8. ]\n",
            " [ -7.5]\n",
            " [ -7. ]\n",
            " [ -6.5]\n",
            " [ -6. ]\n",
            " [ -5.5]\n",
            " [ -5. ]\n",
            " [ -4.5]\n",
            " [ -4. ]\n",
            " [ -3.5]\n",
            " [ -3. ]\n",
            " [ -2.5]\n",
            " [ -2. ]\n",
            " [ -1.5]\n",
            " [ -1. ]\n",
            " [ -0.5]\n",
            " [  0. ]\n",
            " [  0.5]\n",
            " [  1. ]\n",
            " [  1.5]\n",
            " [  2. ]\n",
            " [  2.5]\n",
            " [  3. ]\n",
            " [  3.5]\n",
            " [  4. ]\n",
            " [  4.5]\n",
            " [  5. ]\n",
            " [  5.5]\n",
            " [  6. ]\n",
            " [  6.5]\n",
            " [  7. ]\n",
            " [  7.5]\n",
            " [  8. ]\n",
            " [  8.5]\n",
            " [  9. ]\n",
            " [  9.5]]\n",
            "\n",
            "Dlatego trzeba połączyć te listy w jedną używając ravel i dopiero zapisać do df.\n",
            "X.ravel() =\n",
            "[-10.   -9.5  -9.   -8.5  -8.   -7.5  -7.   -6.5  -6.   -5.5  -5.   -4.5\n",
            "  -4.   -3.5  -3.   -2.5  -2.   -1.5  -1.   -0.5   0.    0.5   1.    1.5\n",
            "   2.    2.5   3.    3.5   4.    4.5   5.    5.5   6.    6.5   7.    7.5\n",
            "   8.    8.5   9.    9.5]\n",
            "\n",
            "Ten sam rezultat co X.reshape(-1) =\n",
            "[-10.   -9.5  -9.   -8.5  -8.   -7.5  -7.   -6.5  -6.   -5.5  -5.   -4.5\n",
            "  -4.   -3.5  -3.   -2.5  -2.   -1.5  -1.   -0.5   0.    0.5   1.    1.5\n",
            "   2.    2.5   3.    3.5   4.    4.5   5.    5.5   6.    6.5   7.    7.5\n",
            "   8.    8.5   9.    9.5]\n",
            "\n",
            "df =\n",
            "      X\n",
            "0 -10.0\n",
            "1  -9.5\n",
            "2  -9.0\n",
            "3  -8.5\n",
            "4  -8.0\n",
            "5  -7.5\n",
            "6  -7.0\n",
            "7  -6.5\n",
            "8  -6.0\n",
            "9  -5.5\n"
          ],
          "name": "stdout"
        }
      ]
    },
    {
      "cell_type": "code",
      "metadata": {
        "id": "uR-M0toazuiH",
        "colab": {
          "base_uri": "https://localhost:8080/"
        },
        "outputId": "ac79b76a-9f81-4802-f32a-c62a6af11258"
      },
      "source": [
        "from sklearn.preprocessing import PolynomialFeatures\n",
        "\n",
        "poly = PolynomialFeatures(degree=2)\n",
        "# tworzy kolumny 1, X, X^2\n",
        "X_poly_2 = poly.fit_transform(X)\n",
        "X_poly_2"
      ],
      "execution_count": null,
      "outputs": [
        {
          "output_type": "execute_result",
          "data": {
            "text/plain": [
              "array([[  1.  , -10.  , 100.  ],\n",
              "       [  1.  ,  -9.5 ,  90.25],\n",
              "       [  1.  ,  -9.  ,  81.  ],\n",
              "       [  1.  ,  -8.5 ,  72.25],\n",
              "       [  1.  ,  -8.  ,  64.  ],\n",
              "       [  1.  ,  -7.5 ,  56.25],\n",
              "       [  1.  ,  -7.  ,  49.  ],\n",
              "       [  1.  ,  -6.5 ,  42.25],\n",
              "       [  1.  ,  -6.  ,  36.  ],\n",
              "       [  1.  ,  -5.5 ,  30.25],\n",
              "       [  1.  ,  -5.  ,  25.  ],\n",
              "       [  1.  ,  -4.5 ,  20.25],\n",
              "       [  1.  ,  -4.  ,  16.  ],\n",
              "       [  1.  ,  -3.5 ,  12.25],\n",
              "       [  1.  ,  -3.  ,   9.  ],\n",
              "       [  1.  ,  -2.5 ,   6.25],\n",
              "       [  1.  ,  -2.  ,   4.  ],\n",
              "       [  1.  ,  -1.5 ,   2.25],\n",
              "       [  1.  ,  -1.  ,   1.  ],\n",
              "       [  1.  ,  -0.5 ,   0.25],\n",
              "       [  1.  ,   0.  ,   0.  ],\n",
              "       [  1.  ,   0.5 ,   0.25],\n",
              "       [  1.  ,   1.  ,   1.  ],\n",
              "       [  1.  ,   1.5 ,   2.25],\n",
              "       [  1.  ,   2.  ,   4.  ],\n",
              "       [  1.  ,   2.5 ,   6.25],\n",
              "       [  1.  ,   3.  ,   9.  ],\n",
              "       [  1.  ,   3.5 ,  12.25],\n",
              "       [  1.  ,   4.  ,  16.  ],\n",
              "       [  1.  ,   4.5 ,  20.25],\n",
              "       [  1.  ,   5.  ,  25.  ],\n",
              "       [  1.  ,   5.5 ,  30.25],\n",
              "       [  1.  ,   6.  ,  36.  ],\n",
              "       [  1.  ,   6.5 ,  42.25],\n",
              "       [  1.  ,   7.  ,  49.  ],\n",
              "       [  1.  ,   7.5 ,  56.25],\n",
              "       [  1.  ,   8.  ,  64.  ],\n",
              "       [  1.  ,   8.5 ,  72.25],\n",
              "       [  1.  ,   9.  ,  81.  ],\n",
              "       [  1.  ,   9.5 ,  90.25]])"
            ]
          },
          "metadata": {
            "tags": []
          },
          "execution_count": 6
        }
      ]
    },
    {
      "cell_type": "code",
      "metadata": {
        "id": "1RqD1PkzE_5k",
        "colab": {
          "base_uri": "https://localhost:8080/",
          "height": 265
        },
        "outputId": "5f36aa89-0988-433a-d9b9-cccec8e8ed4b"
      },
      "source": [
        "X_poly.shape"
      ],
      "execution_count": null,
      "outputs": [
        {
          "output_type": "error",
          "ename": "NameError",
          "evalue": "ignored",
          "traceback": [
            "\u001b[0;31m---------------------------------------------------------------------------\u001b[0m",
            "\u001b[0;31mNameError\u001b[0m                                 Traceback (most recent call last)",
            "\u001b[0;32m<ipython-input-7-59931766f09c>\u001b[0m in \u001b[0;36m<module>\u001b[0;34m()\u001b[0m\n\u001b[0;32m----> 1\u001b[0;31m \u001b[0mX_poly\u001b[0m\u001b[0;34m.\u001b[0m\u001b[0mshape\u001b[0m\u001b[0;34m\u001b[0m\u001b[0;34m\u001b[0m\u001b[0m\n\u001b[0m",
            "\u001b[0;31mNameError\u001b[0m: name 'X_poly' is not defined"
          ]
        }
      ]
    },
    {
      "cell_type": "code",
      "metadata": {
        "id": "G0OHi2IpE2iP"
      },
      "source": [
        "df = pd.DataFrame(X_poly)\n",
        "df.columns = ['1', 'x', 'x^2']\n",
        "df.head(10)"
      ],
      "execution_count": null,
      "outputs": []
    },
    {
      "cell_type": "markdown",
      "metadata": {
        "id": "fnK60kycQRMg"
      },
      "source": [
        "###  <a name='5'></a> Dopasowanie modelu"
      ]
    },
    {
      "cell_type": "code",
      "metadata": {
        "id": "cjfNBfGBwR2a"
      },
      "source": [
        "regressor_poly_2 = LinearRegression()\n",
        "regressor_poly_2.fit(X_poly, y)\n",
        "\n",
        "y_pred_2 = regressor_poly_2.predict(X_poly)\n",
        "\n",
        "plt.figure(figsize=(8, 6))\n",
        "plt.title('Regresja wielomianowa')\n",
        "plt.xlabel('cecha x')\n",
        "plt.ylabel('zmienna docelowa')\n",
        "plt.scatter(X, y, label='cecha x')\n",
        "plt.plot(X, y_pred_lin, c='red', label='regresja liniowa')\n",
        "plt.plot(X, y_pred_2, c='green', label='regresja wielomianowa, st. 2')\n",
        "plt.legend()\n",
        "plt.show()"
      ],
      "execution_count": null,
      "outputs": []
    },
    {
      "cell_type": "code",
      "metadata": {
        "id": "51nd0N6FylLq"
      },
      "source": [
        "r2_score(y, y_pred_2)"
      ],
      "execution_count": null,
      "outputs": []
    },
    {
      "cell_type": "markdown",
      "metadata": {
        "id": "0UEP3RwmRO5b"
      },
      "source": [
        "###  <a name='6'></a> Ekstrakcja cech wielomianowych - stopień 3"
      ]
    },
    {
      "cell_type": "code",
      "metadata": {
        "id": "bfB52p8bPz0K"
      },
      "source": [
        "poly = PolynomialFeatures(degree=3)\n",
        "\n",
        "# znowu jedną kolumnę X transformuję. Tym razem na kolumny 1, X, X^2, X^3\n",
        "X_poly_3 = poly.fit_transform(X)\n",
        "X_poly_3"
      ],
      "execution_count": null,
      "outputs": []
    },
    {
      "cell_type": "markdown",
      "metadata": {
        "id": "BOB19D4xRYQy"
      },
      "source": [
        "###  <a name='7'></a> Dopasowanie modelu"
      ]
    },
    {
      "cell_type": "code",
      "metadata": {
        "id": "MvCSaSLjQcem"
      },
      "source": [
        "regressor_poly_3 = LinearRegression()\n",
        "regressor_poly_3.fit(X_poly_3, y)\n",
        "\n",
        "y_pred_3 = regressor_poly_3.predict(X_poly_3)\n",
        "\n",
        "plt.figure(figsize=(8, 6))\n",
        "plt.title('Regresja wielomianowa')\n",
        "plt.xlabel('cecha x')\n",
        "plt.ylabel('zmienna docelowa')\n",
        "plt.scatter(X, y, label='cecha x')\n",
        "plt.plot(X, y_pred_lin, c='red', label='regresja liniowa')\n",
        "plt.plot(X, y_pred_2, c='green', label='regresja wielomianowa, st. 2')\n",
        "plt.plot(X, y_pred_3, c='orange', label='regresja wielomianowa, st. 3')\n",
        "plt.legend()\n",
        "plt.show()"
      ],
      "execution_count": null,
      "outputs": []
    },
    {
      "cell_type": "code",
      "metadata": {
        "id": "TPndVZM9RDdy"
      },
      "source": [
        "r2_score(y, y_pred_3)"
      ],
      "execution_count": null,
      "outputs": []
    },
    {
      "cell_type": "code",
      "metadata": {
        "id": "GsIapMeCo46G"
      },
      "source": [
        "# przypomnienie\r\n",
        "r2_score(y, y_pred_lin)"
      ],
      "execution_count": null,
      "outputs": []
    },
    {
      "cell_type": "markdown",
      "metadata": {
        "id": "LzlFgfRALb83"
      },
      "source": [
        "###  <a name='8'></a> Porównanie metryk"
      ]
    },
    {
      "cell_type": "code",
      "metadata": {
        "id": "fD77Zt7fKmDU"
      },
      "source": [
        "# mae to mean absolute error czyli średni błąd absolutny\n",
        "from sklearn.metrics import mean_absolute_error as mae\n",
        "from sklearn.metrics import mean_squared_error as mse"
      ],
      "execution_count": null,
      "outputs": []
    },
    {
      "cell_type": "code",
      "metadata": {
        "id": "swKMdNUlI7Jk"
      },
      "source": [
        "results = pd.DataFrame(data={\n",
        "    'name': ['regresja liniowa', 'regresja wielomianowa st. 2', 'regresja wielomianowa st. 3'],\n",
        "    'r2_score': [r2_score(y, y_pred_lin), r2_score(y, y_pred_2), r2_score(y, y_pred_3)],\n",
        "    'mae': [mae(y, y_pred_lin), mae(y, y_pred_2), mae(y, y_pred_3)],\n",
        "    'mse': [mse(y, y_pred_lin), mse(y, y_pred_2), mse(y, y_pred_3)],\n",
        "    'rmse': [np.sqrt(mse(y, y_pred_lin)), np.sqrt(mse(y, y_pred_2)), np.sqrt(mse(y, y_pred_3))]    \n",
        "    })\n",
        "results"
      ],
      "execution_count": null,
      "outputs": []
    },
    {
      "cell_type": "code",
      "metadata": {
        "id": "BD413tJZJBhR"
      },
      "source": [
        "px.bar(results, x='name', y='r2_score', width=700, title='Regresja wielomianowa - R2_score')"
      ],
      "execution_count": null,
      "outputs": []
    },
    {
      "cell_type": "code",
      "metadata": {
        "id": "zdK3JpH9JIrE"
      },
      "source": [
        "px.bar(results, x='name', y='mae', width=700, title='Regresja wielomianowa - mean absolute error')"
      ],
      "execution_count": null,
      "outputs": []
    },
    {
      "cell_type": "code",
      "metadata": {
        "id": "qJyVRukFK0EK"
      },
      "source": [
        "px.bar(results, x='name', y='mse', width=700, title='Regresja wielomianowa - mean squared error')"
      ],
      "execution_count": null,
      "outputs": []
    },
    {
      "cell_type": "code",
      "metadata": {
        "id": "a9xHCvZ9LCDq"
      },
      "source": [
        "px.bar(results, x='name', y='rmse', width=700, title='Regresja wielomianowa - root mean squared error')"
      ],
      "execution_count": null,
      "outputs": []
    },
    {
      "cell_type": "code",
      "metadata": {
        "id": "TuiQXHAFLQxO"
      },
      "source": [
        ""
      ],
      "execution_count": null,
      "outputs": []
    }
  ]
}