{
  "nbformat": 4,
  "nbformat_minor": 0,
  "metadata": {
    "colab": {
      "name": "03_temp_random_forest_nie_uruchamiać.ipynb",
      "provenance": [],
      "collapsed_sections": [],
      "include_colab_link": true
    },
    "kernelspec": {
      "name": "python3",
      "display_name": "Python 3"
    }
  },
  "cells": [
    {
      "cell_type": "markdown",
      "metadata": {
        "id": "view-in-github",
        "colab_type": "text"
      },
      "source": [
        "<a href=\"https://colab.research.google.com/github/KamilBienias/data-science/blob/main/kursPawe%C5%82Krakowiak/ML-decision-trees-and-random-forests/decision_trees/regression/03_temp_random_forest_nie_uruchamia%C4%87.ipynb\" target=\"_parent\"><img src=\"https://colab.research.google.com/assets/colab-badge.svg\" alt=\"Open In Colab\"/></a>"
      ]
    },
    {
      "cell_type": "markdown",
      "metadata": {
        "id": "RZuh_5JoZBQT"
      },
      "source": [
        "* @author: krakowiakpawel9@gmail.com  \n",
        "* @site: e-smartdata.org"
      ]
    },
    {
      "cell_type": "code",
      "metadata": {
        "id": "N9kHmWCHyCYT"
      },
      "source": [
        "# Nie uruchamiać kodu, bo nie da się pobrać pliku csv.\n",
        "# Poza tym nie ma filmu\n",
        "\n",
        "import pandas as pd\n",
        "import matplotlib.pyplot as plt\n",
        "import seaborn as sns\n",
        "sns.set()\n",
        "# https://towardsdatascience.com/random-forest-in-python-24d0893d51c0"
      ],
      "execution_count": null,
      "outputs": []
    },
    {
      "cell_type": "code",
      "metadata": {
        "id": "MSv-wYyVusWf"
      },
      "source": [
        "df = pd.read_csv('temps.csv')"
      ],
      "execution_count": null,
      "outputs": []
    },
    {
      "cell_type": "code",
      "metadata": {
        "id": "h475tMqTBeei"
      },
      "source": [
        "def farenheit_to_celsius(farenheit):\n",
        "    celsius = (farenheit - 32.) * 1.8\n",
        "    return celsius"
      ],
      "execution_count": null,
      "outputs": []
    },
    {
      "cell_type": "code",
      "metadata": {
        "id": "THFktoTeuzKb",
        "colab": {
          "base_uri": "https://localhost:8080/",
          "height": 217
        },
        "outputId": "e05003a8-a8b3-4eab-84b7-d7f031856fc1"
      },
      "source": [
        "df.head()"
      ],
      "execution_count": null,
      "outputs": [
        {
          "output_type": "execute_result",
          "data": {
            "text/html": [
              "<div>\n",
              "<style scoped>\n",
              "    .dataframe tbody tr th:only-of-type {\n",
              "        vertical-align: middle;\n",
              "    }\n",
              "\n",
              "    .dataframe tbody tr th {\n",
              "        vertical-align: top;\n",
              "    }\n",
              "\n",
              "    .dataframe thead th {\n",
              "        text-align: right;\n",
              "    }\n",
              "</style>\n",
              "<table border=\"1\" class=\"dataframe\">\n",
              "  <thead>\n",
              "    <tr style=\"text-align: right;\">\n",
              "      <th></th>\n",
              "      <th>year</th>\n",
              "      <th>month</th>\n",
              "      <th>day</th>\n",
              "      <th>week</th>\n",
              "      <th>temp_2</th>\n",
              "      <th>temp_1</th>\n",
              "      <th>average</th>\n",
              "      <th>actual</th>\n",
              "      <th>forecast_noaa</th>\n",
              "      <th>forecast_acc</th>\n",
              "      <th>forecast_under</th>\n",
              "      <th>friend</th>\n",
              "    </tr>\n",
              "  </thead>\n",
              "  <tbody>\n",
              "    <tr>\n",
              "      <th>0</th>\n",
              "      <td>2016</td>\n",
              "      <td>1</td>\n",
              "      <td>1</td>\n",
              "      <td>Fri</td>\n",
              "      <td>45</td>\n",
              "      <td>45</td>\n",
              "      <td>45.6</td>\n",
              "      <td>45</td>\n",
              "      <td>43</td>\n",
              "      <td>50</td>\n",
              "      <td>44</td>\n",
              "      <td>29</td>\n",
              "    </tr>\n",
              "    <tr>\n",
              "      <th>1</th>\n",
              "      <td>2016</td>\n",
              "      <td>1</td>\n",
              "      <td>2</td>\n",
              "      <td>Sat</td>\n",
              "      <td>44</td>\n",
              "      <td>45</td>\n",
              "      <td>45.7</td>\n",
              "      <td>44</td>\n",
              "      <td>41</td>\n",
              "      <td>50</td>\n",
              "      <td>44</td>\n",
              "      <td>61</td>\n",
              "    </tr>\n",
              "    <tr>\n",
              "      <th>2</th>\n",
              "      <td>2016</td>\n",
              "      <td>1</td>\n",
              "      <td>3</td>\n",
              "      <td>Sun</td>\n",
              "      <td>45</td>\n",
              "      <td>44</td>\n",
              "      <td>45.8</td>\n",
              "      <td>41</td>\n",
              "      <td>43</td>\n",
              "      <td>46</td>\n",
              "      <td>47</td>\n",
              "      <td>56</td>\n",
              "    </tr>\n",
              "    <tr>\n",
              "      <th>3</th>\n",
              "      <td>2016</td>\n",
              "      <td>1</td>\n",
              "      <td>4</td>\n",
              "      <td>Mon</td>\n",
              "      <td>44</td>\n",
              "      <td>41</td>\n",
              "      <td>45.9</td>\n",
              "      <td>40</td>\n",
              "      <td>44</td>\n",
              "      <td>48</td>\n",
              "      <td>46</td>\n",
              "      <td>53</td>\n",
              "    </tr>\n",
              "    <tr>\n",
              "      <th>4</th>\n",
              "      <td>2016</td>\n",
              "      <td>1</td>\n",
              "      <td>5</td>\n",
              "      <td>Tues</td>\n",
              "      <td>41</td>\n",
              "      <td>40</td>\n",
              "      <td>46.0</td>\n",
              "      <td>44</td>\n",
              "      <td>46</td>\n",
              "      <td>46</td>\n",
              "      <td>46</td>\n",
              "      <td>41</td>\n",
              "    </tr>\n",
              "  </tbody>\n",
              "</table>\n",
              "</div>"
            ],
            "text/plain": [
              "   year  month  day  week  ...  forecast_noaa  forecast_acc  forecast_under  friend\n",
              "0  2016      1    1   Fri  ...             43            50              44      29\n",
              "1  2016      1    2   Sat  ...             41            50              44      61\n",
              "2  2016      1    3   Sun  ...             43            46              47      56\n",
              "3  2016      1    4   Mon  ...             44            48              46      53\n",
              "4  2016      1    5  Tues  ...             46            46              46      41\n",
              "\n",
              "[5 rows x 12 columns]"
            ]
          },
          "metadata": {
            "tags": []
          },
          "execution_count": 4
        }
      ]
    },
    {
      "cell_type": "code",
      "metadata": {
        "id": "CM01Vdi2Ccy8",
        "colab": {
          "base_uri": "https://localhost:8080/",
          "height": 318
        },
        "outputId": "62f01f64-4fec-4edc-e7d6-d73c3ad3395a"
      },
      "source": [
        "df.info()"
      ],
      "execution_count": null,
      "outputs": [
        {
          "output_type": "stream",
          "text": [
            "<class 'pandas.core.frame.DataFrame'>\n",
            "RangeIndex: 348 entries, 0 to 347\n",
            "Data columns (total 12 columns):\n",
            "year              348 non-null int64\n",
            "month             348 non-null int64\n",
            "day               348 non-null int64\n",
            "week              348 non-null object\n",
            "temp_2            348 non-null int64\n",
            "temp_1            348 non-null int64\n",
            "average           348 non-null float64\n",
            "actual            348 non-null int64\n",
            "forecast_noaa     348 non-null int64\n",
            "forecast_acc      348 non-null int64\n",
            "forecast_under    348 non-null int64\n",
            "friend            348 non-null int64\n",
            "dtypes: float64(1), int64(10), object(1)\n",
            "memory usage: 32.7+ KB\n"
          ],
          "name": "stdout"
        }
      ]
    },
    {
      "cell_type": "code",
      "metadata": {
        "id": "fDevw_jUB8-p"
      },
      "source": [
        "far_cols = ['temp_2', 'temp_1', 'average', 'actual', 'forecast_noaa', 'forecast_acc', 'forecast_under']\n",
        "\n",
        "for col in df.columns:\n",
        "    if col in far_cols:\n",
        "        df[col] = df[col].apply(farenheit_to_celsius)"
      ],
      "execution_count": null,
      "outputs": []
    },
    {
      "cell_type": "code",
      "metadata": {
        "id": "ObOqAZVJC_6y",
        "colab": {
          "base_uri": "https://localhost:8080/",
          "height": 217
        },
        "outputId": "62da1d18-89fe-436a-f72e-5696332e177e"
      },
      "source": [
        "df.head()"
      ],
      "execution_count": null,
      "outputs": [
        {
          "output_type": "execute_result",
          "data": {
            "text/html": [
              "<div>\n",
              "<style scoped>\n",
              "    .dataframe tbody tr th:only-of-type {\n",
              "        vertical-align: middle;\n",
              "    }\n",
              "\n",
              "    .dataframe tbody tr th {\n",
              "        vertical-align: top;\n",
              "    }\n",
              "\n",
              "    .dataframe thead th {\n",
              "        text-align: right;\n",
              "    }\n",
              "</style>\n",
              "<table border=\"1\" class=\"dataframe\">\n",
              "  <thead>\n",
              "    <tr style=\"text-align: right;\">\n",
              "      <th></th>\n",
              "      <th>year</th>\n",
              "      <th>month</th>\n",
              "      <th>day</th>\n",
              "      <th>week</th>\n",
              "      <th>temp_2</th>\n",
              "      <th>temp_1</th>\n",
              "      <th>average</th>\n",
              "      <th>actual</th>\n",
              "      <th>forecast_noaa</th>\n",
              "      <th>forecast_acc</th>\n",
              "      <th>forecast_under</th>\n",
              "      <th>friend</th>\n",
              "    </tr>\n",
              "  </thead>\n",
              "  <tbody>\n",
              "    <tr>\n",
              "      <th>0</th>\n",
              "      <td>2016</td>\n",
              "      <td>1</td>\n",
              "      <td>1</td>\n",
              "      <td>Fri</td>\n",
              "      <td>23.4</td>\n",
              "      <td>23.4</td>\n",
              "      <td>24.48</td>\n",
              "      <td>23.4</td>\n",
              "      <td>19.8</td>\n",
              "      <td>32.4</td>\n",
              "      <td>21.6</td>\n",
              "      <td>29</td>\n",
              "    </tr>\n",
              "    <tr>\n",
              "      <th>1</th>\n",
              "      <td>2016</td>\n",
              "      <td>1</td>\n",
              "      <td>2</td>\n",
              "      <td>Sat</td>\n",
              "      <td>21.6</td>\n",
              "      <td>23.4</td>\n",
              "      <td>24.66</td>\n",
              "      <td>21.6</td>\n",
              "      <td>16.2</td>\n",
              "      <td>32.4</td>\n",
              "      <td>21.6</td>\n",
              "      <td>61</td>\n",
              "    </tr>\n",
              "    <tr>\n",
              "      <th>2</th>\n",
              "      <td>2016</td>\n",
              "      <td>1</td>\n",
              "      <td>3</td>\n",
              "      <td>Sun</td>\n",
              "      <td>23.4</td>\n",
              "      <td>21.6</td>\n",
              "      <td>24.84</td>\n",
              "      <td>16.2</td>\n",
              "      <td>19.8</td>\n",
              "      <td>25.2</td>\n",
              "      <td>27.0</td>\n",
              "      <td>56</td>\n",
              "    </tr>\n",
              "    <tr>\n",
              "      <th>3</th>\n",
              "      <td>2016</td>\n",
              "      <td>1</td>\n",
              "      <td>4</td>\n",
              "      <td>Mon</td>\n",
              "      <td>21.6</td>\n",
              "      <td>16.2</td>\n",
              "      <td>25.02</td>\n",
              "      <td>14.4</td>\n",
              "      <td>21.6</td>\n",
              "      <td>28.8</td>\n",
              "      <td>25.2</td>\n",
              "      <td>53</td>\n",
              "    </tr>\n",
              "    <tr>\n",
              "      <th>4</th>\n",
              "      <td>2016</td>\n",
              "      <td>1</td>\n",
              "      <td>5</td>\n",
              "      <td>Tues</td>\n",
              "      <td>16.2</td>\n",
              "      <td>14.4</td>\n",
              "      <td>25.20</td>\n",
              "      <td>21.6</td>\n",
              "      <td>25.2</td>\n",
              "      <td>25.2</td>\n",
              "      <td>25.2</td>\n",
              "      <td>41</td>\n",
              "    </tr>\n",
              "  </tbody>\n",
              "</table>\n",
              "</div>"
            ],
            "text/plain": [
              "   year  month  day  week  ...  forecast_noaa  forecast_acc  forecast_under  friend\n",
              "0  2016      1    1   Fri  ...           19.8          32.4            21.6      29\n",
              "1  2016      1    2   Sat  ...           16.2          32.4            21.6      61\n",
              "2  2016      1    3   Sun  ...           19.8          25.2            27.0      56\n",
              "3  2016      1    4   Mon  ...           21.6          28.8            25.2      53\n",
              "4  2016      1    5  Tues  ...           25.2          25.2            25.2      41\n",
              "\n",
              "[5 rows x 12 columns]"
            ]
          },
          "metadata": {
            "tags": []
          },
          "execution_count": 7
        }
      ]
    },
    {
      "cell_type": "code",
      "metadata": {
        "id": "jh50TE_XDMU6",
        "colab": {
          "base_uri": "https://localhost:8080/",
          "height": 307
        },
        "outputId": "4bb612c1-c018-4a23-c0e6-9381986c3a01"
      },
      "source": [
        "df.describe()"
      ],
      "execution_count": null,
      "outputs": [
        {
          "output_type": "execute_result",
          "data": {
            "text/html": [
              "<div>\n",
              "<style scoped>\n",
              "    .dataframe tbody tr th:only-of-type {\n",
              "        vertical-align: middle;\n",
              "    }\n",
              "\n",
              "    .dataframe tbody tr th {\n",
              "        vertical-align: top;\n",
              "    }\n",
              "\n",
              "    .dataframe thead th {\n",
              "        text-align: right;\n",
              "    }\n",
              "</style>\n",
              "<table border=\"1\" class=\"dataframe\">\n",
              "  <thead>\n",
              "    <tr style=\"text-align: right;\">\n",
              "      <th></th>\n",
              "      <th>year</th>\n",
              "      <th>month</th>\n",
              "      <th>day</th>\n",
              "      <th>temp_2</th>\n",
              "      <th>temp_1</th>\n",
              "      <th>average</th>\n",
              "      <th>actual</th>\n",
              "      <th>forecast_noaa</th>\n",
              "      <th>forecast_acc</th>\n",
              "      <th>forecast_under</th>\n",
              "      <th>friend</th>\n",
              "    </tr>\n",
              "  </thead>\n",
              "  <tbody>\n",
              "    <tr>\n",
              "      <th>count</th>\n",
              "      <td>348.0</td>\n",
              "      <td>348.000000</td>\n",
              "      <td>348.000000</td>\n",
              "      <td>348.000000</td>\n",
              "      <td>348.000000</td>\n",
              "      <td>348.000000</td>\n",
              "      <td>348.000000</td>\n",
              "      <td>348.000000</td>\n",
              "      <td>348.000000</td>\n",
              "      <td>348.000000</td>\n",
              "      <td>348.000000</td>\n",
              "    </tr>\n",
              "    <tr>\n",
              "      <th>mean</th>\n",
              "      <td>2016.0</td>\n",
              "      <td>6.477011</td>\n",
              "      <td>15.514368</td>\n",
              "      <td>55.174138</td>\n",
              "      <td>55.262069</td>\n",
              "      <td>49.969138</td>\n",
              "      <td>54.977586</td>\n",
              "      <td>45.429310</td>\n",
              "      <td>54.672414</td>\n",
              "      <td>49.991379</td>\n",
              "      <td>60.034483</td>\n",
              "    </tr>\n",
              "    <tr>\n",
              "      <th>std</th>\n",
              "      <td>0.0</td>\n",
              "      <td>3.498380</td>\n",
              "      <td>8.772982</td>\n",
              "      <td>21.897717</td>\n",
              "      <td>21.816976</td>\n",
              "      <td>18.949152</td>\n",
              "      <td>21.229463</td>\n",
              "      <td>19.090343</td>\n",
              "      <td>18.988886</td>\n",
              "      <td>19.269460</td>\n",
              "      <td>15.626179</td>\n",
              "    </tr>\n",
              "    <tr>\n",
              "      <th>min</th>\n",
              "      <td>2016.0</td>\n",
              "      <td>1.000000</td>\n",
              "      <td>1.000000</td>\n",
              "      <td>5.400000</td>\n",
              "      <td>5.400000</td>\n",
              "      <td>23.580000</td>\n",
              "      <td>5.400000</td>\n",
              "      <td>16.200000</td>\n",
              "      <td>25.200000</td>\n",
              "      <td>21.600000</td>\n",
              "      <td>28.000000</td>\n",
              "    </tr>\n",
              "    <tr>\n",
              "      <th>25%</th>\n",
              "      <td>2016.0</td>\n",
              "      <td>3.000000</td>\n",
              "      <td>8.000000</td>\n",
              "      <td>39.600000</td>\n",
              "      <td>39.600000</td>\n",
              "      <td>32.355000</td>\n",
              "      <td>39.600000</td>\n",
              "      <td>28.800000</td>\n",
              "      <td>37.800000</td>\n",
              "      <td>32.400000</td>\n",
              "      <td>47.750000</td>\n",
              "    </tr>\n",
              "    <tr>\n",
              "      <th>50%</th>\n",
              "      <td>2016.0</td>\n",
              "      <td>6.000000</td>\n",
              "      <td>15.000000</td>\n",
              "      <td>54.900000</td>\n",
              "      <td>54.900000</td>\n",
              "      <td>47.160000</td>\n",
              "      <td>54.900000</td>\n",
              "      <td>43.200000</td>\n",
              "      <td>52.200000</td>\n",
              "      <td>46.800000</td>\n",
              "      <td>60.000000</td>\n",
              "    </tr>\n",
              "    <tr>\n",
              "      <th>75%</th>\n",
              "      <td>2016.0</td>\n",
              "      <td>10.000000</td>\n",
              "      <td>23.000000</td>\n",
              "      <td>70.200000</td>\n",
              "      <td>70.200000</td>\n",
              "      <td>66.645000</td>\n",
              "      <td>70.200000</td>\n",
              "      <td>61.200000</td>\n",
              "      <td>72.000000</td>\n",
              "      <td>66.600000</td>\n",
              "      <td>71.000000</td>\n",
              "    </tr>\n",
              "    <tr>\n",
              "      <th>max</th>\n",
              "      <td>2016.0</td>\n",
              "      <td>12.000000</td>\n",
              "      <td>31.000000</td>\n",
              "      <td>153.000000</td>\n",
              "      <td>153.000000</td>\n",
              "      <td>81.720000</td>\n",
              "      <td>108.000000</td>\n",
              "      <td>81.000000</td>\n",
              "      <td>90.000000</td>\n",
              "      <td>84.600000</td>\n",
              "      <td>95.000000</td>\n",
              "    </tr>\n",
              "  </tbody>\n",
              "</table>\n",
              "</div>"
            ],
            "text/plain": [
              "         year       month         day  ...  forecast_acc  forecast_under      friend\n",
              "count   348.0  348.000000  348.000000  ...    348.000000      348.000000  348.000000\n",
              "mean   2016.0    6.477011   15.514368  ...     54.672414       49.991379   60.034483\n",
              "std       0.0    3.498380    8.772982  ...     18.988886       19.269460   15.626179\n",
              "min    2016.0    1.000000    1.000000  ...     25.200000       21.600000   28.000000\n",
              "25%    2016.0    3.000000    8.000000  ...     37.800000       32.400000   47.750000\n",
              "50%    2016.0    6.000000   15.000000  ...     52.200000       46.800000   60.000000\n",
              "75%    2016.0   10.000000   23.000000  ...     72.000000       66.600000   71.000000\n",
              "max    2016.0   12.000000   31.000000  ...     90.000000       84.600000   95.000000\n",
              "\n",
              "[8 rows x 11 columns]"
            ]
          },
          "metadata": {
            "tags": []
          },
          "execution_count": 8
        }
      ]
    },
    {
      "cell_type": "code",
      "metadata": {
        "id": "LLeCtseGu0FD",
        "colab": {
          "base_uri": "https://localhost:8080/",
          "height": 427
        },
        "outputId": "0487183c-44e3-48b9-df44-3227ce4ca32d"
      },
      "source": [
        "df.groupby('month').mean().reset_index()"
      ],
      "execution_count": null,
      "outputs": [
        {
          "output_type": "execute_result",
          "data": {
            "text/html": [
              "<div>\n",
              "<style scoped>\n",
              "    .dataframe tbody tr th:only-of-type {\n",
              "        vertical-align: middle;\n",
              "    }\n",
              "\n",
              "    .dataframe tbody tr th {\n",
              "        vertical-align: top;\n",
              "    }\n",
              "\n",
              "    .dataframe thead th {\n",
              "        text-align: right;\n",
              "    }\n",
              "</style>\n",
              "<table border=\"1\" class=\"dataframe\">\n",
              "  <thead>\n",
              "    <tr style=\"text-align: right;\">\n",
              "      <th></th>\n",
              "      <th>month</th>\n",
              "      <th>year</th>\n",
              "      <th>day</th>\n",
              "      <th>temp_2</th>\n",
              "      <th>temp_1</th>\n",
              "      <th>average</th>\n",
              "      <th>actual</th>\n",
              "      <th>forecast_noaa</th>\n",
              "      <th>forecast_acc</th>\n",
              "      <th>forecast_under</th>\n",
              "      <th>friend</th>\n",
              "    </tr>\n",
              "  </thead>\n",
              "  <tbody>\n",
              "    <tr>\n",
              "      <th>0</th>\n",
              "      <td>1</td>\n",
              "      <td>2016.0</td>\n",
              "      <td>16.000000</td>\n",
              "      <td>31.587097</td>\n",
              "      <td>31.819355</td>\n",
              "      <td>27.371613</td>\n",
              "      <td>31.935484</td>\n",
              "      <td>22.703226</td>\n",
              "      <td>31.935484</td>\n",
              "      <td>27.232258</td>\n",
              "      <td>49.290323</td>\n",
              "    </tr>\n",
              "    <tr>\n",
              "      <th>1</th>\n",
              "      <td>2</td>\n",
              "      <td>2016.0</td>\n",
              "      <td>14.576923</td>\n",
              "      <td>39.184615</td>\n",
              "      <td>39.807692</td>\n",
              "      <td>32.240769</td>\n",
              "      <td>40.223077</td>\n",
              "      <td>27.761538</td>\n",
              "      <td>36.623077</td>\n",
              "      <td>32.607692</td>\n",
              "      <td>47.692308</td>\n",
              "    </tr>\n",
              "    <tr>\n",
              "      <th>2</th>\n",
              "      <td>3</td>\n",
              "      <td>2016.0</td>\n",
              "      <td>16.000000</td>\n",
              "      <td>43.200000</td>\n",
              "      <td>44.070968</td>\n",
              "      <td>39.071613</td>\n",
              "      <td>45.174194</td>\n",
              "      <td>33.851613</td>\n",
              "      <td>43.722581</td>\n",
              "      <td>38.787097</td>\n",
              "      <td>55.193548</td>\n",
              "    </tr>\n",
              "    <tr>\n",
              "      <th>3</th>\n",
              "      <td>4</td>\n",
              "      <td>2016.0</td>\n",
              "      <td>15.500000</td>\n",
              "      <td>62.400000</td>\n",
              "      <td>61.980000</td>\n",
              "      <td>47.694000</td>\n",
              "      <td>61.680000</td>\n",
              "      <td>43.200000</td>\n",
              "      <td>52.980000</td>\n",
              "      <td>47.640000</td>\n",
              "      <td>57.366667</td>\n",
              "    </tr>\n",
              "    <tr>\n",
              "      <th>4</th>\n",
              "      <td>5</td>\n",
              "      <td>2016.0</td>\n",
              "      <td>16.000000</td>\n",
              "      <td>65.729032</td>\n",
              "      <td>66.309677</td>\n",
              "      <td>58.848387</td>\n",
              "      <td>66.948387</td>\n",
              "      <td>54.348387</td>\n",
              "      <td>63.464516</td>\n",
              "      <td>58.470968</td>\n",
              "      <td>67.096774</td>\n",
              "    </tr>\n",
              "    <tr>\n",
              "      <th>5</th>\n",
              "      <td>6</td>\n",
              "      <td>2016.0</td>\n",
              "      <td>15.500000</td>\n",
              "      <td>74.040000</td>\n",
              "      <td>74.220000</td>\n",
              "      <td>68.208000</td>\n",
              "      <td>73.860000</td>\n",
              "      <td>62.700000</td>\n",
              "      <td>72.720000</td>\n",
              "      <td>68.160000</td>\n",
              "      <td>72.500000</td>\n",
              "    </tr>\n",
              "    <tr>\n",
              "      <th>6</th>\n",
              "      <td>7</td>\n",
              "      <td>2016.0</td>\n",
              "      <td>16.000000</td>\n",
              "      <td>79.490323</td>\n",
              "      <td>79.606452</td>\n",
              "      <td>78.840000</td>\n",
              "      <td>79.606452</td>\n",
              "      <td>74.787097</td>\n",
              "      <td>82.974194</td>\n",
              "      <td>79.374194</td>\n",
              "      <td>77.032258</td>\n",
              "    </tr>\n",
              "    <tr>\n",
              "      <th>7</th>\n",
              "      <td>8</td>\n",
              "      <td>2016.0</td>\n",
              "      <td>11.421053</td>\n",
              "      <td>82.800000</td>\n",
              "      <td>82.705263</td>\n",
              "      <td>80.526316</td>\n",
              "      <td>82.421053</td>\n",
              "      <td>76.547368</td>\n",
              "      <td>84.410526</td>\n",
              "      <td>81.568421</td>\n",
              "      <td>75.526316</td>\n",
              "    </tr>\n",
              "    <tr>\n",
              "      <th>8</th>\n",
              "      <td>9</td>\n",
              "      <td>2016.0</td>\n",
              "      <td>16.500000</td>\n",
              "      <td>69.750000</td>\n",
              "      <td>69.171429</td>\n",
              "      <td>68.830714</td>\n",
              "      <td>68.978571</td>\n",
              "      <td>63.835714</td>\n",
              "      <td>73.992857</td>\n",
              "      <td>68.914286</td>\n",
              "      <td>71.000000</td>\n",
              "    </tr>\n",
              "    <tr>\n",
              "      <th>9</th>\n",
              "      <td>10</td>\n",
              "      <td>2016.0</td>\n",
              "      <td>15.533333</td>\n",
              "      <td>54.360000</td>\n",
              "      <td>57.420000</td>\n",
              "      <td>50.130000</td>\n",
              "      <td>54.000000</td>\n",
              "      <td>45.900000</td>\n",
              "      <td>55.080000</td>\n",
              "      <td>50.160000</td>\n",
              "      <td>56.666667</td>\n",
              "    </tr>\n",
              "    <tr>\n",
              "      <th>10</th>\n",
              "      <td>11</td>\n",
              "      <td>2016.0</td>\n",
              "      <td>15.500000</td>\n",
              "      <td>48.840000</td>\n",
              "      <td>44.940000</td>\n",
              "      <td>34.020000</td>\n",
              "      <td>44.520000</td>\n",
              "      <td>29.940000</td>\n",
              "      <td>38.640000</td>\n",
              "      <td>33.480000</td>\n",
              "      <td>48.133333</td>\n",
              "    </tr>\n",
              "    <tr>\n",
              "      <th>11</th>\n",
              "      <td>12</td>\n",
              "      <td>2016.0</td>\n",
              "      <td>16.000000</td>\n",
              "      <td>20.845161</td>\n",
              "      <td>21.135484</td>\n",
              "      <td>24.648387</td>\n",
              "      <td>20.438710</td>\n",
              "      <td>20.554839</td>\n",
              "      <td>30.019355</td>\n",
              "      <td>24.735484</td>\n",
              "      <td>47.806452</td>\n",
              "    </tr>\n",
              "  </tbody>\n",
              "</table>\n",
              "</div>"
            ],
            "text/plain": [
              "    month    year        day  ...  forecast_acc  forecast_under     friend\n",
              "0       1  2016.0  16.000000  ...     31.935484       27.232258  49.290323\n",
              "1       2  2016.0  14.576923  ...     36.623077       32.607692  47.692308\n",
              "2       3  2016.0  16.000000  ...     43.722581       38.787097  55.193548\n",
              "3       4  2016.0  15.500000  ...     52.980000       47.640000  57.366667\n",
              "4       5  2016.0  16.000000  ...     63.464516       58.470968  67.096774\n",
              "5       6  2016.0  15.500000  ...     72.720000       68.160000  72.500000\n",
              "6       7  2016.0  16.000000  ...     82.974194       79.374194  77.032258\n",
              "7       8  2016.0  11.421053  ...     84.410526       81.568421  75.526316\n",
              "8       9  2016.0  16.500000  ...     73.992857       68.914286  71.000000\n",
              "9      10  2016.0  15.533333  ...     55.080000       50.160000  56.666667\n",
              "10     11  2016.0  15.500000  ...     38.640000       33.480000  48.133333\n",
              "11     12  2016.0  16.000000  ...     30.019355       24.735484  47.806452\n",
              "\n",
              "[12 rows x 11 columns]"
            ]
          },
          "metadata": {
            "tags": []
          },
          "execution_count": 9
        }
      ]
    },
    {
      "cell_type": "code",
      "metadata": {
        "id": "jfz_3a4UvClO",
        "colab": {
          "base_uri": "https://localhost:8080/",
          "height": 34
        },
        "outputId": "16d6c1a3-d26a-4d9b-8d42-614fdfb6e768"
      },
      "source": [
        "df.shape"
      ],
      "execution_count": null,
      "outputs": [
        {
          "output_type": "execute_result",
          "data": {
            "text/plain": [
              "(348, 12)"
            ]
          },
          "metadata": {
            "tags": []
          },
          "execution_count": 10
        }
      ]
    },
    {
      "cell_type": "code",
      "metadata": {
        "id": "H9LyHNqM__Qs",
        "colab": {
          "base_uri": "https://localhost:8080/",
          "height": 247
        },
        "outputId": "22e6816a-d247-4af5-d3c0-70d5674ea979"
      },
      "source": [
        "df.isnull().sum()"
      ],
      "execution_count": null,
      "outputs": [
        {
          "output_type": "execute_result",
          "data": {
            "text/plain": [
              "year              0\n",
              "month             0\n",
              "day               0\n",
              "week              0\n",
              "temp_2            0\n",
              "temp_1            0\n",
              "average           0\n",
              "actual            0\n",
              "forecast_noaa     0\n",
              "forecast_acc      0\n",
              "forecast_under    0\n",
              "friend            0\n",
              "dtype: int64"
            ]
          },
          "metadata": {
            "tags": []
          },
          "execution_count": 11
        }
      ]
    },
    {
      "cell_type": "code",
      "metadata": {
        "id": "LqixefhXAceq",
        "colab": {
          "base_uri": "https://localhost:8080/",
          "height": 291
        },
        "outputId": "628651d1-100f-4a4d-a14f-ca4003708c90"
      },
      "source": [
        "plt.plot(df['actual'])"
      ],
      "execution_count": null,
      "outputs": [
        {
          "output_type": "execute_result",
          "data": {
            "text/plain": [
              "[<matplotlib.lines.Line2D at 0x7f05fe8b7e80>]"
            ]
          },
          "metadata": {
            "tags": []
          },
          "execution_count": 12
        },
        {
          "output_type": "display_data",
          "data": {
            "image/png": "[encoded data removed]",
            "text/plain": [
              "<Figure size 432x288 with 1 Axes>"
            ]
          },
          "metadata": {
            "tags": []
          }
        }
      ]
    },
    {
      "cell_type": "code",
      "metadata": {
        "id": "D9A1F2sHACrs",
        "colab": {
          "base_uri": "https://localhost:8080/",
          "height": 308
        },
        "outputId": "ccef5076-0c43-4e47-ef89-9caf2c55d643"
      },
      "source": [
        "pd.pivot_table(df, values='actual', index='month').plot()"
      ],
      "execution_count": null,
      "outputs": [
        {
          "output_type": "execute_result",
          "data": {
            "text/plain": [
              "<matplotlib.axes._subplots.AxesSubplot at 0x7f05fe88e358>"
            ]
          },
          "metadata": {
            "tags": []
          },
          "execution_count": 13
        },
        {
          "output_type": "display_data",
          "data": {
            "image/png": "[encoded data removed]",
            "text/plain": [
              "<Figure size 432x288 with 1 Axes>"
            ]
          },
          "metadata": {
            "tags": []
          }
        }
      ]
    },
    {
      "cell_type": "code",
      "metadata": {
        "id": "PM46stl1BPgk"
      },
      "source": [
        "target = df.pop('actual')"
      ],
      "execution_count": null,
      "outputs": []
    },
    {
      "cell_type": "code",
      "metadata": {
        "id": "Vf_SaZPkDc_P"
      },
      "source": [
        "df = pd.get_dummies(df, drop_first=True)"
      ],
      "execution_count": null,
      "outputs": []
    },
    {
      "cell_type": "code",
      "metadata": {
        "id": "R4CuKNMOEAUs"
      },
      "source": [
        "from sklearn.model_selection import train_test_split\n",
        "\n",
        "X_train, X_test, y_train, y_test = train_test_split(df, target)"
      ],
      "execution_count": null,
      "outputs": []
    },
    {
      "cell_type": "code",
      "metadata": {
        "id": "8enZTe5bFYpa",
        "colab": {
          "base_uri": "https://localhost:8080/",
          "height": 34
        },
        "outputId": "4fba4e81-0466-4efb-88cb-99a6fa614151"
      },
      "source": [
        "baseline_preds = X_test.average\n",
        "baseline_errors = abs(baseline_preds - y_test)\n",
        "baseline_errors.mean()"
      ],
      "execution_count": null,
      "outputs": [
        {
          "output_type": "execute_result",
          "data": {
            "text/plain": [
              "9.190344827586209"
            ]
          },
          "metadata": {
            "tags": []
          },
          "execution_count": 17
        }
      ]
    },
    {
      "cell_type": "code",
      "metadata": {
        "id": "zKxkyGXEGLon",
        "colab": {
          "base_uri": "https://localhost:8080/",
          "height": 141
        },
        "outputId": "2b5409e7-231b-4bcd-f46d-1757cfa4b9ac"
      },
      "source": [
        "from sklearn.ensemble import RandomForestRegressor\n",
        "\n",
        "rf = RandomForestRegressor(n_estimators=100)\n",
        "rf.fit(X_train, y_train)\n"
      ],
      "execution_count": null,
      "outputs": [
        {
          "output_type": "execute_result",
          "data": {
            "text/plain": [
              "RandomForestRegressor(bootstrap=True, criterion='mse', max_depth=None,\n",
              "                      max_features='auto', max_leaf_nodes=None,\n",
              "                      min_impurity_decrease=0.0, min_impurity_split=None,\n",
              "                      min_samples_leaf=1, min_samples_split=2,\n",
              "                      min_weight_fraction_leaf=0.0, n_estimators=100,\n",
              "                      n_jobs=None, oob_score=False, random_state=None,\n",
              "                      verbose=0, warm_start=False)"
            ]
          },
          "metadata": {
            "tags": []
          },
          "execution_count": 18
        }
      ]
    },
    {
      "cell_type": "code",
      "metadata": {
        "id": "kMUe49JJGbvU",
        "colab": {
          "base_uri": "https://localhost:8080/",
          "height": 34
        },
        "outputId": "59f9bbfb-c289-42c7-957b-eeecaa9a8479"
      },
      "source": [
        "y_pred = rf.predict(X_test)\n",
        "\n",
        "errors = abs(y_pred - y_test)\n",
        "errors.mean()"
      ],
      "execution_count": null,
      "outputs": [
        {
          "output_type": "execute_result",
          "data": {
            "text/plain": [
              "6.698896551724138"
            ]
          },
          "metadata": {
            "tags": []
          },
          "execution_count": 19
        }
      ]
    },
    {
      "cell_type": "code",
      "metadata": {
        "id": "0fXJ2PwyGvxY",
        "colab": {
          "base_uri": "https://localhost:8080/",
          "height": 34
        },
        "outputId": "acd2a089-aba8-4959-a4b8-a52d80fe67dd"
      },
      "source": [
        "import numpy as np\n",
        "mape = 100 * (errors / y_test)\n",
        "accuracy = 100 - np.mean(mape)\n",
        "accuracy"
      ],
      "execution_count": null,
      "outputs": [
        {
          "output_type": "execute_result",
          "data": {
            "text/plain": [
              "86.42179809240878"
            ]
          },
          "metadata": {
            "tags": []
          },
          "execution_count": 20
        }
      ]
    },
    {
      "cell_type": "code",
      "metadata": {
        "id": "lJxvXciAIX5G",
        "colab": {
          "base_uri": "https://localhost:8080/",
          "height": 87
        },
        "outputId": "35afa4c9-ae62-468d-e937-6a89de428631"
      },
      "source": [
        "rf.feature_importances_"
      ],
      "execution_count": null,
      "outputs": [
        {
          "output_type": "execute_result",
          "data": {
            "text/plain": [
              "array([0.        , 0.00541835, 0.01845092, 0.01467038, 0.28001948,\n",
              "       0.56931365, 0.0093319 , 0.0525946 , 0.01152676, 0.02603841,\n",
              "       0.00169672, 0.00220351, 0.00230676, 0.00155343, 0.00234274,\n",
              "       0.00253239])"
            ]
          },
          "metadata": {
            "tags": []
          },
          "execution_count": 21
        }
      ]
    },
    {
      "cell_type": "code",
      "metadata": {
        "id": "3NA7xamsIvq4",
        "colab": {
          "base_uri": "https://localhost:8080/",
          "height": 87
        },
        "outputId": "91f4a74d-9954-47ed-873b-5a720afd3079"
      },
      "source": [
        "df.columns"
      ],
      "execution_count": null,
      "outputs": [
        {
          "output_type": "execute_result",
          "data": {
            "text/plain": [
              "Index(['year', 'month', 'day', 'temp_2', 'temp_1', 'average', 'forecast_noaa',\n",
              "       'forecast_acc', 'forecast_under', 'friend', 'week_Mon', 'week_Sat',\n",
              "       'week_Sun', 'week_Thurs', 'week_Tues', 'week_Wed'],\n",
              "      dtype='object')"
            ]
          },
          "metadata": {
            "tags": []
          },
          "execution_count": 22
        }
      ]
    },
    {
      "cell_type": "code",
      "metadata": {
        "id": "26vxY9I6I3Xo",
        "colab": {
          "base_uri": "https://localhost:8080/",
          "height": 301
        },
        "outputId": "17405dc2-91bf-4d96-e704-8d99084a7e40"
      },
      "source": [
        "for i in sorted(zip(rf.feature_importances_, df.columns))[::-1]:\n",
        "    print(i)"
      ],
      "execution_count": null,
      "outputs": [
        {
          "output_type": "stream",
          "text": [
            "(0.5693136513132495, 'average')\n",
            "(0.28001947989408565, 'temp_1')\n",
            "(0.05259459667913645, 'forecast_acc')\n",
            "(0.02603841493265531, 'friend')\n",
            "(0.01845092212132658, 'day')\n",
            "(0.014670379754425167, 'temp_2')\n",
            "(0.011526760172606877, 'forecast_under')\n",
            "(0.009331899821981574, 'forecast_noaa')\n",
            "(0.005418347887895387, 'month')\n",
            "(0.002532391895976739, 'week_Wed')\n",
            "(0.002342735596570967, 'week_Tues')\n",
            "(0.0023067590881821784, 'week_Sun')\n",
            "(0.002203513180463886, 'week_Sat')\n",
            "(0.0016967219847282876, 'week_Mon')\n",
            "(0.0015534256767154705, 'week_Thurs')\n",
            "(0.0, 'year')\n"
          ],
          "name": "stdout"
        }
      ]
    },
    {
      "cell_type": "code",
      "metadata": {
        "id": "B0Ytj5BAI70Q",
        "colab": {
          "base_uri": "https://localhost:8080/",
          "height": 364
        },
        "outputId": "66db62e3-fe7f-4e5d-fbc1-ab2a103c6c30"
      },
      "source": [
        "pd.DataFrame(rf.feature_importances_, index=df.columns).plot(kind='bar')"
      ],
      "execution_count": null,
      "outputs": [
        {
          "output_type": "execute_result",
          "data": {
            "text/plain": [
              "<matplotlib.axes._subplots.AxesSubplot at 0x7f05f58794a8>"
            ]
          },
          "metadata": {
            "tags": []
          },
          "execution_count": 33
        },
        {
          "output_type": "display_data",
          "data": {
            "image/png": "[encoded data removed]",
            "text/plain": [
              "<Figure size 432x288 with 1 Axes>"
            ]
          },
          "metadata": {
            "tags": []
          }
        }
      ]
    },
    {
      "cell_type": "code",
      "metadata": {
        "id": "8FMDIQyaLWpg"
      },
      "source": [
        ""
      ],
      "execution_count": null,
      "outputs": []
    }
  ]
}