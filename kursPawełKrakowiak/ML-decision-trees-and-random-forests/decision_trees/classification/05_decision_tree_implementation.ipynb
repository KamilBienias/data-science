{
  "nbformat": 4,
  "nbformat_minor": 0,
  "metadata": {
    "colab": {
      "name": "05_decision_tree_implementation.ipynb",
      "provenance": [],
      "collapsed_sections": [],
      "authorship_tag": "ABX9TyPvgxEWUFG8cPZLD+HVkyxx",
      "include_colab_link": true
    },
    "kernelspec": {
      "name": "python3",
      "display_name": "Python 3"
    }
  },
  "cells": [
    {
      "cell_type": "markdown",
      "metadata": {
        "id": "view-in-github",
        "colab_type": "text"
      },
      "source": [
        "<a href=\"https://colab.research.google.com/github/KamilBienias/data-science/blob/main/kursPawe%C5%82Krakowiak/ML-decision-trees-and-random-forests/decision_trees/classification/05_decision_tree_implementation.ipynb\" target=\"_parent\"><img src=\"https://colab.research.google.com/assets/colab-badge.svg\" alt=\"Open In Colab\"/></a>"
      ]
    },
    {
      "cell_type": "markdown",
      "metadata": {
        "id": "ZPWfOa8c2AQF"
      },
      "source": [
        "## Implementacja drzewa decyzyjnego"
      ]
    },
    {
      "cell_type": "code",
      "metadata": {
        "id": "aVjcEJLaUUTv"
      },
      "source": [
        "import numpy as np\n",
        "import pandas as pd"
      ],
      "execution_count": null,
      "outputs": []
    },
    {
      "cell_type": "markdown",
      "metadata": {
        "id": "JC7rLSZ42FAb"
      },
      "source": [
        "### Wygenerowanie zbioru danych"
      ]
    },
    {
      "cell_type": "code",
      "metadata": {
        "id": "k4b4ENGUUn-2",
        "colab": {
          "base_uri": "https://localhost:8080/"
        },
        "outputId": "e5dec5f8-581a-40fb-d689-15246dc0ae49"
      },
      "source": [
        "print(\"#############################################\")\n",
        "print(\"Etap5. Odcinek1: Implementacja drzewa decyzyjnego. Lekkie wprowadzenie cz.1\")\n",
        "\n",
        "dataset = {'Dochód':['niski','średni','średni','średni','średni','wysoki','niski','wysoki','średni','niski'],\n",
        "       'Wiek':[25, 36, 36, 25 ,28, 28, 25, 25, 36 ,36],\n",
        "       'Wiarygodność':['niska','średnia','wysoka','niska','średnia','wysoka','niska','wysoka','średnia','średnia'],\n",
        "       'Pożyczka':['Nie','Tak','Tak','Nie','Tak','Tak','Nie','Tak','Tak','Nie']}"
      ],
      "execution_count": null,
      "outputs": [
        {
          "output_type": "stream",
          "text": [
            "#############################################\n",
            "Etap5. Odcinek1: Implementacja drzewa decyzyjnego. Lekkie wprowadzenie cz.1\n"
          ],
          "name": "stdout"
        }
      ]
    },
    {
      "cell_type": "code",
      "metadata": {
        "id": "-00oIlsVUxCO",
        "colab": {
          "base_uri": "https://localhost:8080/",
          "height": 372
        },
        "outputId": "6ad8212d-1cf3-4a64-b9c2-a1b278b3af95"
      },
      "source": [
        "print(\"Zamieniam słownik na obiekt DataFrame\")\n",
        "df = pd.DataFrame(dataset)\n",
        "df"
      ],
      "execution_count": null,
      "outputs": [
        {
          "output_type": "stream",
          "text": [
            "Zamieniam słownik na obiekt DataFrame\n"
          ],
          "name": "stdout"
        },
        {
          "output_type": "execute_result",
          "data": {
            "text/html": [
              "<div>\n",
              "<style scoped>\n",
              "    .dataframe tbody tr th:only-of-type {\n",
              "        vertical-align: middle;\n",
              "    }\n",
              "\n",
              "    .dataframe tbody tr th {\n",
              "        vertical-align: top;\n",
              "    }\n",
              "\n",
              "    .dataframe thead th {\n",
              "        text-align: right;\n",
              "    }\n",
              "</style>\n",
              "<table border=\"1\" class=\"dataframe\">\n",
              "  <thead>\n",
              "    <tr style=\"text-align: right;\">\n",
              "      <th></th>\n",
              "      <th>Dochód</th>\n",
              "      <th>Wiek</th>\n",
              "      <th>Wiarygodność</th>\n",
              "      <th>Pożyczka</th>\n",
              "    </tr>\n",
              "  </thead>\n",
              "  <tbody>\n",
              "    <tr>\n",
              "      <th>0</th>\n",
              "      <td>niski</td>\n",
              "      <td>25</td>\n",
              "      <td>niska</td>\n",
              "      <td>Nie</td>\n",
              "    </tr>\n",
              "    <tr>\n",
              "      <th>1</th>\n",
              "      <td>średni</td>\n",
              "      <td>36</td>\n",
              "      <td>średnia</td>\n",
              "      <td>Tak</td>\n",
              "    </tr>\n",
              "    <tr>\n",
              "      <th>2</th>\n",
              "      <td>średni</td>\n",
              "      <td>36</td>\n",
              "      <td>wysoka</td>\n",
              "      <td>Tak</td>\n",
              "    </tr>\n",
              "    <tr>\n",
              "      <th>3</th>\n",
              "      <td>średni</td>\n",
              "      <td>25</td>\n",
              "      <td>niska</td>\n",
              "      <td>Nie</td>\n",
              "    </tr>\n",
              "    <tr>\n",
              "      <th>4</th>\n",
              "      <td>średni</td>\n",
              "      <td>28</td>\n",
              "      <td>średnia</td>\n",
              "      <td>Tak</td>\n",
              "    </tr>\n",
              "    <tr>\n",
              "      <th>5</th>\n",
              "      <td>wysoki</td>\n",
              "      <td>28</td>\n",
              "      <td>wysoka</td>\n",
              "      <td>Tak</td>\n",
              "    </tr>\n",
              "    <tr>\n",
              "      <th>6</th>\n",
              "      <td>niski</td>\n",
              "      <td>25</td>\n",
              "      <td>niska</td>\n",
              "      <td>Nie</td>\n",
              "    </tr>\n",
              "    <tr>\n",
              "      <th>7</th>\n",
              "      <td>wysoki</td>\n",
              "      <td>25</td>\n",
              "      <td>wysoka</td>\n",
              "      <td>Tak</td>\n",
              "    </tr>\n",
              "    <tr>\n",
              "      <th>8</th>\n",
              "      <td>średni</td>\n",
              "      <td>36</td>\n",
              "      <td>średnia</td>\n",
              "      <td>Tak</td>\n",
              "    </tr>\n",
              "    <tr>\n",
              "      <th>9</th>\n",
              "      <td>niski</td>\n",
              "      <td>36</td>\n",
              "      <td>średnia</td>\n",
              "      <td>Nie</td>\n",
              "    </tr>\n",
              "  </tbody>\n",
              "</table>\n",
              "</div>"
            ],
            "text/plain": [
              "   Dochód  Wiek Wiarygodność Pożyczka\n",
              "0   niski    25        niska      Nie\n",
              "1  średni    36      średnia      Tak\n",
              "2  średni    36       wysoka      Tak\n",
              "3  średni    25        niska      Nie\n",
              "4  średni    28      średnia      Tak\n",
              "5  wysoki    28       wysoka      Tak\n",
              "6   niski    25        niska      Nie\n",
              "7  wysoki    25       wysoka      Tak\n",
              "8  średni    36      średnia      Tak\n",
              "9   niski    36      średnia      Nie"
            ]
          },
          "metadata": {
            "tags": []
          },
          "execution_count": 3
        }
      ]
    },
    {
      "cell_type": "markdown",
      "metadata": {
        "id": "0tOJqusiuXXX"
      },
      "source": [
        "### Entropia:\n",
        "### $$E = - \\sum_{i=1}^{N}p_{i} \\cdot log_{2}p_{i}$$\n",
        "\n",
        "gdzie $p_{i}$ jest proporcją  liczby elementów w tej grupie podziału do liczby elementów w grupie przed podziałem, czyli udziałem danej klasy w poszczególnym węźle"
      ]
    },
    {
      "cell_type": "markdown",
      "metadata": {
        "id": "vt8K3-Rk5VYN"
      },
      "source": [
        "### Łagodne wprowadzenie"
      ]
    },
    {
      "cell_type": "code",
      "metadata": {
        "id": "dcgWxr-KWOsv",
        "colab": {
          "base_uri": "https://localhost:8080/"
        },
        "outputId": "f53d5553-e785-41f7-f626-749379f74eeb"
      },
      "source": [
        "print(\"Entropia dla korzenia (root). Na początku 0, bo trzaba jakąś wartość przypisać\")\n",
        "entropy_node = 0\n",
        "print(\"Wartości unikalne ze zmiennej Pożyczka\")\n",
        "values = df.Pożyczka.unique()\n",
        "print(values)\n",
        "\n",
        "print(\"Rozkład zmiennej Pożyczka\")\n",
        "print(df.Pożyczka.value_counts())\n",
        "\n",
        "print(\"Ilość wartości Nie\")\n",
        "print(df.Pożyczka.value_counts()[\"Nie\"])\n",
        "print(\"Udział wartości Nie w całym DataFrame\")\n",
        "print(df.Pożyczka.value_counts()[\"Nie\"] / len(df.Pożyczka))\n",
        "\n",
        "print(\"Ilość wartości Tak\")\n",
        "print(df.Pożyczka.value_counts()[\"Tak\"])\n",
        "print(\"Udział wartości Tak w całym DataFrame\")\n",
        "print(df.Pożyczka.value_counts()[\"Tak\"] / len(df.Pożyczka))\n",
        "\n",
        "print(\"Liczę udziały p_i dla atrybutu Pożyczka, a potem przypisuję je do zmiennej fraction.\")\n",
        "for value in values:\n",
        "    fraction = df.Pożyczka.value_counts()[value] / len(df.Pożyczka)\n",
        "    entropy_node += -fraction * np.log2(fraction) \n",
        "\n",
        "print(\"Entropia dla zmiennej Pożyczka (naszego targetu)\", entropy_node)\n"
      ],
      "execution_count": null,
      "outputs": [
        {
          "output_type": "stream",
          "text": [
            "Entropia dla korzenia (root). Na początku 0, bo trzaba jakąś wartość przypisać\n",
            "Wartości unikalne ze zmiennej Pożyczka\n",
            "['Nie' 'Tak']\n",
            "Rozkład zmiennej Pożyczka\n",
            "Tak    6\n",
            "Nie    4\n",
            "Name: Pożyczka, dtype: int64\n",
            "Ilość wartości Nie\n",
            "4\n",
            "Udział wartości Nie w całym DataFrame\n",
            "0.4\n",
            "Ilość wartości Tak\n",
            "6\n",
            "Udział wartości Tak w całym DataFrame\n",
            "0.6\n",
            "Liczę udziały p_i dla atrybutu Pożyczka, a potem przypisuję je do zmiennej fraction.\n",
            "Entropia dla zmiennej Pożyczka (naszego targetu) 0.9709505944546686\n"
          ],
          "name": "stdout"
        }
      ]
    },
    {
      "cell_type": "code",
      "metadata": {
        "id": "k6W9C7snZ2H-",
        "colab": {
          "base_uri": "https://localhost:8080/"
        },
        "outputId": "108448ad-e5e7-48fc-bc0a-58d65a5b3072"
      },
      "source": [
        "print(\"#############################################\")\n",
        "print(\"Etap5. Odcinek2: Implementacja drzewa decyzyjnego. Lekkie wprowadzenie cz.2\")\n",
        "\n",
        "print(\"Zarys.\")\n",
        "print(\"1. Obliczenie entropii dla zmiennej docelowej\")\n",
        "print(\"1.1 Obliczenie entropii dla każdego atrybutu\")\n",
        "print(\"1.2 Znalezienie atrybutu o największym zysku informacyjnym\")\n",
        "print(\"1.3 Podział względem tego atrybutu\")\n",
        "print(\"1.4 Dopóki podzbiory nie będą 'czyste' powrót do kroku 1.1\")"
      ],
      "execution_count": null,
      "outputs": [
        {
          "output_type": "stream",
          "text": [
            "#############################################\n",
            "Etap5. Odcinek2: Implementacja drzewa decyzyjnego. Lekkie wprowadzenie cz.2\n",
            "Zarys.\n",
            "1. Obliczenie entropii dla zmiennej docelowej\n",
            "1.1 Obliczenie entropii dla każdego atrybutu\n",
            "1.2 Znalezienie atrybutu o największym zysku informacyjnym\n",
            "1.3 Podział względem tego atrybutu\n",
            "1.4 Dopóki podzbiory nie będą 'czyste' powrót do kroku 1.1\n"
          ],
          "name": "stdout"
        }
      ]
    },
    {
      "cell_type": "code",
      "metadata": {
        "id": "WANDCiNWDcQZ",
        "colab": {
          "base_uri": "https://localhost:8080/",
          "height": 354
        },
        "outputId": "40dca79d-b570-4423-aaaa-5d2aa3d0f51b"
      },
      "source": [
        "df"
      ],
      "execution_count": null,
      "outputs": [
        {
          "output_type": "execute_result",
          "data": {
            "text/html": [
              "<div>\n",
              "<style scoped>\n",
              "    .dataframe tbody tr th:only-of-type {\n",
              "        vertical-align: middle;\n",
              "    }\n",
              "\n",
              "    .dataframe tbody tr th {\n",
              "        vertical-align: top;\n",
              "    }\n",
              "\n",
              "    .dataframe thead th {\n",
              "        text-align: right;\n",
              "    }\n",
              "</style>\n",
              "<table border=\"1\" class=\"dataframe\">\n",
              "  <thead>\n",
              "    <tr style=\"text-align: right;\">\n",
              "      <th></th>\n",
              "      <th>Dochód</th>\n",
              "      <th>Wiek</th>\n",
              "      <th>Wiarygodność</th>\n",
              "      <th>Pożyczka</th>\n",
              "    </tr>\n",
              "  </thead>\n",
              "  <tbody>\n",
              "    <tr>\n",
              "      <th>0</th>\n",
              "      <td>niski</td>\n",
              "      <td>25</td>\n",
              "      <td>niska</td>\n",
              "      <td>Nie</td>\n",
              "    </tr>\n",
              "    <tr>\n",
              "      <th>1</th>\n",
              "      <td>średni</td>\n",
              "      <td>36</td>\n",
              "      <td>średnia</td>\n",
              "      <td>Tak</td>\n",
              "    </tr>\n",
              "    <tr>\n",
              "      <th>2</th>\n",
              "      <td>średni</td>\n",
              "      <td>36</td>\n",
              "      <td>wysoka</td>\n",
              "      <td>Tak</td>\n",
              "    </tr>\n",
              "    <tr>\n",
              "      <th>3</th>\n",
              "      <td>średni</td>\n",
              "      <td>25</td>\n",
              "      <td>niska</td>\n",
              "      <td>Nie</td>\n",
              "    </tr>\n",
              "    <tr>\n",
              "      <th>4</th>\n",
              "      <td>średni</td>\n",
              "      <td>28</td>\n",
              "      <td>średnia</td>\n",
              "      <td>Tak</td>\n",
              "    </tr>\n",
              "    <tr>\n",
              "      <th>5</th>\n",
              "      <td>wysoki</td>\n",
              "      <td>28</td>\n",
              "      <td>wysoka</td>\n",
              "      <td>Tak</td>\n",
              "    </tr>\n",
              "    <tr>\n",
              "      <th>6</th>\n",
              "      <td>niski</td>\n",
              "      <td>25</td>\n",
              "      <td>niska</td>\n",
              "      <td>Nie</td>\n",
              "    </tr>\n",
              "    <tr>\n",
              "      <th>7</th>\n",
              "      <td>wysoki</td>\n",
              "      <td>25</td>\n",
              "      <td>wysoka</td>\n",
              "      <td>Tak</td>\n",
              "    </tr>\n",
              "    <tr>\n",
              "      <th>8</th>\n",
              "      <td>średni</td>\n",
              "      <td>36</td>\n",
              "      <td>średnia</td>\n",
              "      <td>Tak</td>\n",
              "    </tr>\n",
              "    <tr>\n",
              "      <th>9</th>\n",
              "      <td>niski</td>\n",
              "      <td>36</td>\n",
              "      <td>średnia</td>\n",
              "      <td>Nie</td>\n",
              "    </tr>\n",
              "  </tbody>\n",
              "</table>\n",
              "</div>"
            ],
            "text/plain": [
              "   Dochód  Wiek Wiarygodność Pożyczka\n",
              "0   niski    25        niska      Nie\n",
              "1  średni    36      średnia      Tak\n",
              "2  średni    36       wysoka      Tak\n",
              "3  średni    25        niska      Nie\n",
              "4  średni    28      średnia      Tak\n",
              "5  wysoki    28       wysoka      Tak\n",
              "6   niski    25        niska      Nie\n",
              "7  wysoki    25       wysoka      Tak\n",
              "8  średni    36      średnia      Tak\n",
              "9   niski    36      średnia      Nie"
            ]
          },
          "metadata": {
            "tags": []
          },
          "execution_count": 6
        }
      ]
    },
    {
      "cell_type": "code",
      "metadata": {
        "id": "Hihjw3zADZFe",
        "colab": {
          "base_uri": "https://localhost:8080/"
        },
        "outputId": "f902691b-e310-4ada-89dc-33e21568b239"
      },
      "source": [
        "print(\"Punkt 1, czyli entropia dla zmiennej docelowej target był zrobiony wcześniej: \" + str(entropy_node))\n",
        "print(\"Robię punkt 1.1, czyli obliczam entropię dla każdej zmiennej (atrybutu) objaśniającego\")\n",
        "\n",
        "print(\"Przykładowo weźmy Wiarygodność\")\n",
        "attribute = 'Wiarygodność'\n",
        "target_variables = df.Pożyczka.unique()\n",
        "print(\"target_variables =\",target_variables)\n",
        "print(\"Do zmiennej variables przypisuję unikalne wartości atrybutu (w tym wypadku atrybut Wiarygodność)\")\n",
        "variables = df[attribute].unique()\n",
        "print(variables)\n",
        "print(\"Inicjalizuję zmienną przechowywującą entropię dla atrybutu (wartość początkowa niech będzie 0)\")\n",
        "entropy_attribute = 0\n",
        "print(\"\\nBiorę wiersze, w których atrybut Wiarygodność wynosi 'niska' oraz nie dostał pożyczki\")\n",
        "print(df[df[attribute] == 'niska'][df['Pożyczka'] == 'Nie'])\n",
        "print(\"\\nBiorę wiersze, w których atrybut Wiarygodność wynosi 'średnia'\")\n",
        "print(df[df[attribute] == 'średnia'])\n",
        "print(\"\\nBiorę wiersze, w których atrybut Wiarygodność wynosi 'średnia' oraz nie dostał pożyczki\")\n",
        "print(df[df[attribute] == 'średnia'][df[\"Pożyczka\"] == \"Nie\"])\n",
        "\n",
        "epsilon = np.finfo(float).eps # najmniejsza liczba typu float (po to żeby nie dzielić przez zero)\n",
        "entropy_attribute = 0\n",
        "\n",
        "def calc_entropy(attribute):\n",
        "    \"\"\"\n",
        "    Funkcja obliczająca entropię dla wskazanego atrybutu (zmiennej).\n",
        "    \"\"\"\n",
        "    target_variables = df.Pożyczka.unique()\n",
        "    variables = df[attribute].unique()\n",
        "    entropy_attribute = 0\n",
        "\n",
        "    # Przechodzę przez wszystkie wartości atrybutu\n",
        "    for variable in variables:\n",
        "        entropy_each_feature = 0\n",
        "        # dla każdej wartości ze zbioru \"Tak\" i \"Nie\"\n",
        "        for target_variable in target_variables:\n",
        "            # num to skrót od numerable, czyli licznik ułamka. Jest to liczba wierszy po wycięciu\n",
        "            num = len(df[df[attribute] == variable][df.Pożyczka == target_variable]) \n",
        "            # den to denominator czyli mianownik ułamka\n",
        "            den = len(df[df[attribute] == variable])\n",
        "            fraction = num / (den + epsilon)\n",
        "            entropy_each_feature += -(fraction * np.log2(fraction + epsilon))\n",
        "        # liczę średnią ważoną entropii\n",
        "        num_attr = len(df[attribute][df[attribute] == variable]) # ilość unikalnych wartości w atrybucie\n",
        "        den_attr = len(df)\n",
        "        fraction_attr = num_attr / den_attr\n",
        "        entropy_attribute += -(fraction_attr * entropy_each_feature)\n",
        "    entropy_attribute = abs(entropy_attribute)\n",
        "    return entropy_attribute"
      ],
      "execution_count": null,
      "outputs": [
        {
          "output_type": "stream",
          "text": [
            "Punkt 1, czyli entropia dla zmiennej docelowej target był zrobiony wcześniej: 0.9709505944546686\n",
            "Robię punkt 1.1, czyli obliczam entropię dla każdej zmiennej (atrybutu) objaśniającego\n",
            "Przykładowo weźmy Wiarygodność\n",
            "target_variables = ['Nie' 'Tak']\n",
            "Do zmiennej variables przypisuję unikalne wartości atrybutu (w tym wypadku atrybut Wiarygodność)\n",
            "['niska' 'średnia' 'wysoka']\n",
            "Inicjalizuję zmienną przechowywującą entropię dla atrybutu (wartość początkowa niech będzie 0)\n",
            "\n",
            "Biorę wiersze, w których atrybut Wiarygodność wynosi 'niska' oraz nie dostał pożyczki\n",
            "   Dochód  Wiek Wiarygodność Pożyczka\n",
            "0   niski    25        niska      Nie\n",
            "3  średni    25        niska      Nie\n",
            "6   niski    25        niska      Nie\n",
            "\n",
            "Biorę wiersze, w których atrybut Wiarygodność wynosi 'średnia'\n",
            "   Dochód  Wiek Wiarygodność Pożyczka\n",
            "1  średni    36      średnia      Tak\n",
            "4  średni    28      średnia      Tak\n",
            "8  średni    36      średnia      Tak\n",
            "9   niski    36      średnia      Nie\n",
            "\n",
            "Biorę wiersze, w których atrybut Wiarygodność wynosi 'średnia' oraz nie dostał pożyczki\n",
            "  Dochód  Wiek Wiarygodność Pożyczka\n",
            "9  niski    36      średnia      Nie\n"
          ],
          "name": "stdout"
        },
        {
          "output_type": "stream",
          "text": [
            "/usr/local/lib/python3.6/dist-packages/ipykernel_launcher.py:14: UserWarning: Boolean Series key will be reindexed to match DataFrame index.\n",
            "  \n",
            "/usr/local/lib/python3.6/dist-packages/ipykernel_launcher.py:18: UserWarning: Boolean Series key will be reindexed to match DataFrame index.\n"
          ],
          "name": "stderr"
        }
      ]
    },
    {
      "cell_type": "code",
      "metadata": {
        "id": "70Swlt2wedc_",
        "colab": {
          "base_uri": "https://localhost:8080/"
        },
        "outputId": "d1e48f4c-b96e-4627-a8e7-12e1fe245aee"
      },
      "source": [
        "entropy_Dochod = calc_entropy('Dochód')\n",
        "entropy_Wiek = calc_entropy('Wiek')\n",
        "entropy_Wiarygodnosc = calc_entropy('Wiarygodność')\n",
        "# funkcją cacl_entropy() nie mogę liczyć entropi dla targetu bo wychodzi bez sensu wynik 3.2034265038149176e-16\n",
        "# entropy_Pożyczka = calc_entropy(\"Pożyczka\")\n",
        "\n",
        "print('Entropia Dochód', entropy_Dochod)\n",
        "print('Entropia Wiek', entropy_Wiek)\n",
        "print('Entropia Wiarygodność', entropy_Wiarygodnosc)\n",
        "# print('Entropia Pożyczka', entropy_Pożyczka)\n",
        "print(\"Najczystszym zbiorem jest zbiór Wiarygodność bo ma najmniejszą entropię\")"
      ],
      "execution_count": null,
      "outputs": [
        {
          "output_type": "stream",
          "text": [
            "Entropia Dochód 0.3609640474436807\n",
            "Entropia Wiek 0.6490224995673056\n",
            "Entropia Wiarygodność 0.32451124978365264\n",
            "Najczystszym zbiorem jest zbiór Wiarygodność bo ma najmniejszą entropię\n"
          ],
          "name": "stdout"
        },
        {
          "output_type": "stream",
          "text": [
            "/usr/local/lib/python3.6/dist-packages/ipykernel_launcher.py:37: UserWarning: Boolean Series key will be reindexed to match DataFrame index.\n",
            "/usr/local/lib/python3.6/dist-packages/ipykernel_launcher.py:37: UserWarning: Boolean Series key will be reindexed to match DataFrame index.\n",
            "/usr/local/lib/python3.6/dist-packages/ipykernel_launcher.py:37: UserWarning: Boolean Series key will be reindexed to match DataFrame index.\n",
            "/usr/local/lib/python3.6/dist-packages/ipykernel_launcher.py:37: UserWarning: Boolean Series key will be reindexed to match DataFrame index.\n",
            "/usr/local/lib/python3.6/dist-packages/ipykernel_launcher.py:37: UserWarning: Boolean Series key will be reindexed to match DataFrame index.\n",
            "/usr/local/lib/python3.6/dist-packages/ipykernel_launcher.py:37: UserWarning: Boolean Series key will be reindexed to match DataFrame index.\n",
            "/usr/local/lib/python3.6/dist-packages/ipykernel_launcher.py:37: UserWarning: Boolean Series key will be reindexed to match DataFrame index.\n",
            "/usr/local/lib/python3.6/dist-packages/ipykernel_launcher.py:37: UserWarning: Boolean Series key will be reindexed to match DataFrame index.\n"
          ],
          "name": "stderr"
        }
      ]
    },
    {
      "cell_type": "code",
      "metadata": {
        "id": "awSZrQ0IgVvN",
        "colab": {
          "base_uri": "https://localhost:8080/"
        },
        "outputId": "3d42767b-d95d-48e1-96ef-83298bfddad5"
      },
      "source": [
        "# to było na github\n",
        "print(\"1.2 Znalezienie atrybutu o największym zysku informacyjnym\")\n",
        "def information_gain(entropy_node, entropy_attribute):\n",
        "    \"\"\"\n",
        "    Funkcja zwracająca zysk informacyjny.\n",
        "    \"\"\"\n",
        "    # entropia przed - entropia po\n",
        "    return entropy_node - entropy_attribute\n",
        "\n",
        "ig_Dochod = information_gain(entropy_node, entropy_Dochod)\n",
        "ig_Wiek = information_gain(entropy_node, entropy_Wiek)\n",
        "ig_Wiarygodnosc = information_gain(entropy_node, entropy_Wiarygodnosc)\n",
        "\n",
        "print('Zysk informacyjny {}: {}'.format('Dochód', round(ig_Dochod, 4)))\n",
        "print('Zysk informacyjny {}: {}'.format('Wiek', round(ig_Wiek, 4)))\n",
        "print('Zysk informacyjny {}: {}'.format('Wiarygodność', round(ig_Wiarygodnosc, 4)))"
      ],
      "execution_count": null,
      "outputs": [
        {
          "output_type": "stream",
          "text": [
            "1.2 Znalezienie atrybutu o największym zysku informacyjnym\n",
            "Zysk informacyjny Dochód: 0.61\n",
            "Zysk informacyjny Wiek: 0.3219\n",
            "Zysk informacyjny Wiarygodność: 0.6464\n"
          ],
          "name": "stdout"
        }
      ]
    },
    {
      "cell_type": "code",
      "metadata": {
        "id": "CxZGMr-Kf2cD",
        "colab": {
          "base_uri": "https://localhost:8080/"
        },
        "outputId": "579c9209-19b3-4bb0-c5f6-bdb414c67a10"
      },
      "source": [
        "print(\"#############################################\")\n",
        "print(\"Etap5. Odcinek3: Implementacja drzewa decyzyjnego - cz.1\")"
      ],
      "execution_count": null,
      "outputs": [
        {
          "output_type": "stream",
          "text": [
            "#############################################\n",
            "Etap5. Odcinek3: Implementacja drzewa decyzyjnego - cz.1\n"
          ],
          "name": "stdout"
        }
      ]
    },
    {
      "cell_type": "markdown",
      "metadata": {
        "id": "V9LcOmAPiiyn"
      },
      "source": [
        "### Implementacja prostego drzewa decyzyjnego"
      ]
    },
    {
      "cell_type": "markdown",
      "metadata": {
        "id": "rqvyb9YqjAme"
      },
      "source": [
        "$\\cdot$ funkcja licząca entropię zmiennej objaśnianej (targetu) \n",
        "\n",
        "$\\cdot$ funkcja licząca entropię dla konkretnego atrybutu\n",
        "\n",
        "$\\cdot$ funkcja zwracająca atrybut z najwyższym zyskiem informacyjnym\n",
        "\n",
        "$\\cdot$ funkcja zwracająca podzbiór po podziale danego węzła\n",
        "\n",
        "$\\cdot$ funkcja budująca drzewo"
      ]
    },
    {
      "cell_type": "code",
      "metadata": {
        "id": "Dowi9_tkObdd",
        "colab": {
          "base_uri": "https://localhost:8080/"
        },
        "outputId": "75d5a550-0e90-4100-83ef-e47756fae19d"
      },
      "source": [
        "print(\"Kolumny w df\")\n",
        "print(df.keys())\n",
        "print(\"Ostatnia kolumna z df\")\n",
        "print(df.keys()[-1])"
      ],
      "execution_count": null,
      "outputs": [
        {
          "output_type": "stream",
          "text": [
            "Kolumny w df\n",
            "Index(['Dochód', 'Wiek', 'Wiarygodność', 'Pożyczka'], dtype='object')\n",
            "Ostatnia kolumna z df\n",
            "Pożyczka\n"
          ],
          "name": "stdout"
        }
      ]
    },
    {
      "cell_type": "code",
      "metadata": {
        "id": "OlmPa_5SkDI7",
        "colab": {
          "base_uri": "https://localhost:8080/"
        },
        "outputId": "c51d00c8-8476-40b4-d59f-eb5cca92690b"
      },
      "source": [
        "print(\"Funkcja licząca entropię zmiennej objaśnianej (targetu).\")\n",
        "print(\"Uogólniona tak, aby ostatnia kolumna była brana jako zmienna objaśniana (target).\")\n",
        "\n",
        "def find_entropy(df):\n",
        "    \"\"\"\n",
        "    Funkcja zwracająca entropię zmiennej objaśnianej (target).\n",
        "    \"\"\"\n",
        "    # zwraca ostatnią kolumnę\n",
        "    label = df.keys()[-1]\n",
        "    # inicjaluzuję zmienną entropy\n",
        "    entropy = 0\n",
        "    # unikalne wartości z kolumny target (u nas \"Tak\" lub \"Nie\")\n",
        "    values = df[label].unique() \n",
        "    for value in values:\n",
        "        fraction = df[label].value_counts()[value] / len(df[label])\n",
        "        entropy += -fraction * np.log2(fraction) \n",
        "    return entropy"
      ],
      "execution_count": null,
      "outputs": [
        {
          "output_type": "stream",
          "text": [
            "Funkcja licząca entropię zmiennej objaśnianej (targetu).\n",
            "Uogólniona tak, aby ostatnia kolumna była brana jako zmienna objaśniana (target).\n"
          ],
          "name": "stdout"
        }
      ]
    },
    {
      "cell_type": "code",
      "metadata": {
        "colab": {
          "base_uri": "https://localhost:8080/"
        },
        "id": "9Kj72gOLzSWD",
        "outputId": "2387d6f4-3638-480d-e457-76d90f360978"
      },
      "source": [
        "print(\"Wywołuję funkcję find_entropy dla mojej df\")\n",
        "find_entropy(df)"
      ],
      "execution_count": null,
      "outputs": [
        {
          "output_type": "stream",
          "text": [
            "Wywołuję funkcję find_entropy dla mojej df\n"
          ],
          "name": "stdout"
        },
        {
          "output_type": "execute_result",
          "data": {
            "text/plain": [
              "0.9709505944546686"
            ]
          },
          "metadata": {
            "tags": []
          },
          "execution_count": 13
        }
      ]
    },
    {
      "cell_type": "code",
      "metadata": {
        "colab": {
          "base_uri": "https://localhost:8080/"
        },
        "id": "_rP-Eg8czm1J",
        "outputId": "5fd0c04f-03e7-4d91-a416-bbf362b43cf2"
      },
      "source": [
        "print(\"#############################################\")\n",
        "print(\"Etap5. Odcinek4: Implementacja drzewa decyzyjnego - cz.2\")\n",
        "\n",
        "print(\"Definicja funkcji liczącej entropię dla dowolnego atrybutu\")\n",
        "def find_entropy_attribute(df, attribute):\n",
        "    \"\"\"\n",
        "    Funkcja zwraca entropię dla wskazanego atrybutu.\n",
        "    \"\"\"\n",
        "    label = df.keys()[-1]\n",
        "    target_variables = df[label].unique()\n",
        "    variables = df[attribute].unique()\n",
        "    entropy_attribute = 0\n",
        "\n",
        "    # Przechodzę przez wszystkie wartości atrybutu\n",
        "    for variable in variables:\n",
        "        entropy_each_feature = 0\n",
        "        # dla każdej wartości ze zbioru \"Tak\" i \"Nie\"\n",
        "        for target_variable in target_variables:\n",
        "            # num to skrót od numerable, czyli licznik ułamka. Jest to liczba wierszy po wycięciu\n",
        "            num = len(df[df[attribute] == variable][df[label] == target_variable]) \n",
        "            # den to denominator czyli mianownik ułamka\n",
        "            den = len(df[df[attribute] == variable])\n",
        "            fraction = num / (den + epsilon)\n",
        "            entropy_each_feature += -(fraction * np.log2(fraction + epsilon))\n",
        "        # liczę średnią ważoną entropii\n",
        "        num_attr = len(df[attribute][df[attribute] == variable])\n",
        "        den_attr = len(df)\n",
        "        fraction_attr = num_attr / den_attr\n",
        "        entropy_attribute += -(fraction_attr * entropy_each_feature)\n",
        "    entropy_attribute = abs(entropy_attribute)\n",
        "    return entropy_attribute"
      ],
      "execution_count": null,
      "outputs": [
        {
          "output_type": "stream",
          "text": [
            "#############################################\n",
            "Etap5. Odcinek4: Implementacja drzewa decyzyjnego - cz.2\n",
            "Definicja funkcji liczącej entropię dla dowolnego atrybutu\n"
          ],
          "name": "stdout"
        }
      ]
    },
    {
      "cell_type": "code",
      "metadata": {
        "colab": {
          "base_uri": "https://localhost:8080/"
        },
        "id": "Vzar4GL01W95",
        "outputId": "99e00de6-62e9-4372-dc03-9631e3539518"
      },
      "source": [
        "print(\"Entropia dla zmiennej Dochód\", find_entropy_attribute(df, \"Dochód\"))\n",
        "print(\"Entropia dla zmiennej Wiek\", find_entropy_attribute(df, \"Wiek\"))\n",
        "print(\"Entropia dla zmiennej Wiarygodność\", find_entropy_attribute(df, \"Wiarygodność\"))"
      ],
      "execution_count": null,
      "outputs": [
        {
          "output_type": "stream",
          "text": [
            "Entropia dla zmiennej Dochód 0.3609640474436807\n",
            "Entropia dla zmiennej Wiek 0.6490224995673056\n",
            "Entropia dla zmiennej Wiarygodność 0.32451124978365264\n"
          ],
          "name": "stdout"
        },
        {
          "output_type": "stream",
          "text": [
            "/usr/local/lib/python3.6/dist-packages/ipykernel_launcher.py:20: UserWarning: Boolean Series key will be reindexed to match DataFrame index.\n",
            "/usr/local/lib/python3.6/dist-packages/ipykernel_launcher.py:20: UserWarning: Boolean Series key will be reindexed to match DataFrame index.\n",
            "/usr/local/lib/python3.6/dist-packages/ipykernel_launcher.py:20: UserWarning: Boolean Series key will be reindexed to match DataFrame index.\n",
            "/usr/local/lib/python3.6/dist-packages/ipykernel_launcher.py:20: UserWarning: Boolean Series key will be reindexed to match DataFrame index.\n",
            "/usr/local/lib/python3.6/dist-packages/ipykernel_launcher.py:20: UserWarning: Boolean Series key will be reindexed to match DataFrame index.\n",
            "/usr/local/lib/python3.6/dist-packages/ipykernel_launcher.py:20: UserWarning: Boolean Series key will be reindexed to match DataFrame index.\n",
            "/usr/local/lib/python3.6/dist-packages/ipykernel_launcher.py:20: UserWarning: Boolean Series key will be reindexed to match DataFrame index.\n",
            "/usr/local/lib/python3.6/dist-packages/ipykernel_launcher.py:20: UserWarning: Boolean Series key will be reindexed to match DataFrame index.\n"
          ],
          "name": "stderr"
        }
      ]
    },
    {
      "cell_type": "code",
      "metadata": {
        "colab": {
          "base_uri": "https://localhost:8080/"
        },
        "id": "F4mOcfcW2ecg",
        "outputId": "fbedd974-03f9-4abc-8d8f-c580c2b58c51"
      },
      "source": [
        "print(\"Definicja funkcji zwracającej atrybut o największym zysku informacyjnym\")\n",
        "def find_winner(df):\n",
        "    \"\"\"\n",
        "    Funkcja zwraca nazwę atrybutu według, którego nastąpi podział (atrybut\n",
        "    posiadający największy zysk informacyjny).\n",
        "    \"\"\"\n",
        "    # pusta lista information gain\n",
        "    IG = []\n",
        "    # przechodzę po nazwach wszystkich zmienych oprócz zmiennej targetowej label\n",
        "    for key in df.keys()[:-1]:\n",
        "        IG.append(find_entropy(df) - find_entropy_attribute(df, key))\n",
        "    # zwraca atrybut o największym zysku informacyjnym\n",
        "    return df.keys()[:-1][np.argmax(IG)]"
      ],
      "execution_count": null,
      "outputs": [
        {
          "output_type": "stream",
          "text": [
            "Definicja funkcji zwracającej atrybut o największym zysku informacyjnym\n"
          ],
          "name": "stdout"
        }
      ]
    },
    {
      "cell_type": "code",
      "metadata": {
        "colab": {
          "base_uri": "https://localhost:8080/"
        },
        "id": "MvrStrjLG25w",
        "outputId": "aad75220-ca08-459c-efe0-414fd7df2f29"
      },
      "source": [
        "print(\"Znajduję atrybut o największym zysku informacyjnym\")\n",
        "print(find_winner(df))"
      ],
      "execution_count": null,
      "outputs": [
        {
          "output_type": "stream",
          "text": [
            "Znajduję atrybut o największym zysku informacyjnym\n",
            "Wiarygodność\n"
          ],
          "name": "stdout"
        },
        {
          "output_type": "stream",
          "text": [
            "/usr/local/lib/python3.6/dist-packages/ipykernel_launcher.py:20: UserWarning: Boolean Series key will be reindexed to match DataFrame index.\n",
            "/usr/local/lib/python3.6/dist-packages/ipykernel_launcher.py:20: UserWarning: Boolean Series key will be reindexed to match DataFrame index.\n",
            "/usr/local/lib/python3.6/dist-packages/ipykernel_launcher.py:20: UserWarning: Boolean Series key will be reindexed to match DataFrame index.\n",
            "/usr/local/lib/python3.6/dist-packages/ipykernel_launcher.py:20: UserWarning: Boolean Series key will be reindexed to match DataFrame index.\n",
            "/usr/local/lib/python3.6/dist-packages/ipykernel_launcher.py:20: UserWarning: Boolean Series key will be reindexed to match DataFrame index.\n",
            "/usr/local/lib/python3.6/dist-packages/ipykernel_launcher.py:20: UserWarning: Boolean Series key will be reindexed to match DataFrame index.\n",
            "/usr/local/lib/python3.6/dist-packages/ipykernel_launcher.py:20: UserWarning: Boolean Series key will be reindexed to match DataFrame index.\n",
            "/usr/local/lib/python3.6/dist-packages/ipykernel_launcher.py:20: UserWarning: Boolean Series key will be reindexed to match DataFrame index.\n"
          ],
          "name": "stderr"
        }
      ]
    },
    {
      "cell_type": "code",
      "metadata": {
        "colab": {
          "base_uri": "https://localhost:8080/"
        },
        "id": "_KFysEqFHLBj",
        "outputId": "5d6fc17c-dd29-4cce-c2c9-30bc0d485b86"
      },
      "source": [
        "print(\"Definicja funkcji, która zwraca podzbiór po podziale danego węzła\")\n",
        "def get_subtable(df, node, value):\n",
        "    # zwraca część wyciętego obiektu df tam gdzie węzeł przyjmuje wartość value i resetuje index\n",
        "    return df[df[node] == value].reset_index(drop=True)"
      ],
      "execution_count": null,
      "outputs": [
        {
          "output_type": "stream",
          "text": [
            "Definicja funkcji, która zwraca podzbiór po podziale danego węzła\n"
          ],
          "name": "stdout"
        }
      ]
    },
    {
      "cell_type": "code",
      "metadata": {
        "colab": {
          "base_uri": "https://localhost:8080/",
          "height": 157
        },
        "id": "W-u-qEt2pfA7",
        "outputId": "56f7c616-8da0-4b46-8dc5-d4c3c545ced1"
      },
      "source": [
        "print(\"Wywołanie funkcji get_subtable\")\n",
        "get_subtable(df, \"Dochód\", \"niski\")"
      ],
      "execution_count": null,
      "outputs": [
        {
          "output_type": "stream",
          "text": [
            "Wywołanie funkcji get_subtable\n"
          ],
          "name": "stdout"
        },
        {
          "output_type": "execute_result",
          "data": {
            "text/html": [
              "<div>\n",
              "<style scoped>\n",
              "    .dataframe tbody tr th:only-of-type {\n",
              "        vertical-align: middle;\n",
              "    }\n",
              "\n",
              "    .dataframe tbody tr th {\n",
              "        vertical-align: top;\n",
              "    }\n",
              "\n",
              "    .dataframe thead th {\n",
              "        text-align: right;\n",
              "    }\n",
              "</style>\n",
              "<table border=\"1\" class=\"dataframe\">\n",
              "  <thead>\n",
              "    <tr style=\"text-align: right;\">\n",
              "      <th></th>\n",
              "      <th>Dochód</th>\n",
              "      <th>Wiek</th>\n",
              "      <th>Wiarygodność</th>\n",
              "      <th>Pożyczka</th>\n",
              "    </tr>\n",
              "  </thead>\n",
              "  <tbody>\n",
              "    <tr>\n",
              "      <th>0</th>\n",
              "      <td>niski</td>\n",
              "      <td>25</td>\n",
              "      <td>niska</td>\n",
              "      <td>Nie</td>\n",
              "    </tr>\n",
              "    <tr>\n",
              "      <th>1</th>\n",
              "      <td>niski</td>\n",
              "      <td>25</td>\n",
              "      <td>niska</td>\n",
              "      <td>Nie</td>\n",
              "    </tr>\n",
              "    <tr>\n",
              "      <th>2</th>\n",
              "      <td>niski</td>\n",
              "      <td>36</td>\n",
              "      <td>średnia</td>\n",
              "      <td>Nie</td>\n",
              "    </tr>\n",
              "  </tbody>\n",
              "</table>\n",
              "</div>"
            ],
            "text/plain": [
              "  Dochód  Wiek Wiarygodność Pożyczka\n",
              "0  niski    25        niska      Nie\n",
              "1  niski    25        niska      Nie\n",
              "2  niski    36      średnia      Nie"
            ]
          },
          "metadata": {
            "tags": []
          },
          "execution_count": 19
        }
      ]
    },
    {
      "cell_type": "code",
      "metadata": {
        "colab": {
          "base_uri": "https://localhost:8080/"
        },
        "id": "rR1hGWC5p1qK",
        "outputId": "53e27751-e272-4513-a242-5cefc9ebaf4d"
      },
      "source": [
        "print(\"#############################################\")\n",
        "print(\"Etap5. Odcinek5: Implementacja drzewa decyzyjnego - cz.3\")\n",
        "\n",
        "print(\"Definiuję funkcję budującą drzewo.\")\n",
        "\n",
        "print(\"Wstępne:\")\n",
        "print(\"Zmienna targetu\")\n",
        "label = df.keys()[-1]\n",
        "print(label)\n",
        "\n",
        "print()\n",
        "print(\"Atrybut z największą wartością zysku informacyjnego\")\n",
        "node = find_winner(df)\n",
        "print(node)\n",
        "\n",
        "print()\n",
        "print(\"Unikalne wartości dla atrybutu o najwyższym zysku informacyjnym\")\n",
        "attr_values = df[node].unique()\n",
        "print(attr_values)\n",
        "\n",
        "print()\n",
        "print(\"Pusty słownik.\")\n",
        "tree ={}\n",
        "print(\"Przypisuję atrybut z największym IG jako klucz w słowniku tree\")\n",
        "tree[node] = {}\n",
        "print(tree)\n",
        "\n",
        "print()\n",
        "print(\"Wycina podtabelę\")\n",
        "for value in attr_values:\n",
        "    subtable = get_subtable(df, node, value)\n",
        "    print(node, \"ma wartość\", value)\n",
        "    print(subtable)\n",
        "    # return_counts = True aby dostać obie wartości\n",
        "    # zwraca liczebność Tak i Nie\n",
        "    class_value, counts = np.unique(subtable[label], return_counts=True)\n",
        "\n",
        "    if len(counts) == 1:\n",
        "        tree[node][value] = class_value[0]\n",
        "    else:\n",
        "        tree[node][value] = build_tree(subtable)\n",
        "\n",
        "print()\n",
        "print(\"Parametr tree jest słownikiem, który będzie pamiętał jak wygląda drzewo\")\n",
        "def build_tree(df, tree=None):\n",
        "    pass"
      ],
      "execution_count": null,
      "outputs": [
        {
          "output_type": "stream",
          "text": [
            "#############################################\n",
            "Etap5. Odcinek5: Implementacja drzewa decyzyjnego - cz.3\n",
            "Definiuję funkcję budującą drzewo.\n",
            "Wstępne:\n",
            "Zmienna targetu\n",
            "Pożyczka\n",
            "\n",
            "Atrybut z największą wartością zysku informacyjnego\n",
            "Wiarygodność\n",
            "\n",
            "Unikalne wartości dla atrybutu o najwyższym zysku informacyjnym\n",
            "['niska' 'średnia' 'wysoka']\n",
            "\n",
            "Pusty słownik.\n",
            "Przypisuję atrybut z największym IG jako klucz w słowniku tree\n",
            "{'Wiarygodność': {}}\n",
            "\n",
            "Wycina podtabelę\n",
            "Wiarygodność ma wartość niska\n",
            "   Dochód  Wiek Wiarygodność Pożyczka\n",
            "0   niski    25        niska      Nie\n",
            "1  średni    25        niska      Nie\n",
            "2   niski    25        niska      Nie\n",
            "Wiarygodność ma wartość średnia\n",
            "   Dochód  Wiek Wiarygodność Pożyczka\n",
            "0  średni    36      średnia      Tak\n",
            "1  średni    28      średnia      Tak\n",
            "2  średni    36      średnia      Tak\n",
            "3   niski    36      średnia      Nie\n",
            "Wiarygodność ma wartość wysoka\n",
            "   Dochód  Wiek Wiarygodność Pożyczka\n",
            "0  średni    36       wysoka      Tak\n",
            "1  wysoki    28       wysoka      Tak\n",
            "2  wysoki    25       wysoka      Tak\n",
            "\n",
            "Parametr tree jest słownikiem, który będzie pamiętał jak wygląda drzewo\n"
          ],
          "name": "stdout"
        },
        {
          "output_type": "stream",
          "text": [
            "/usr/local/lib/python3.6/dist-packages/ipykernel_launcher.py:20: UserWarning: Boolean Series key will be reindexed to match DataFrame index.\n",
            "/usr/local/lib/python3.6/dist-packages/ipykernel_launcher.py:20: UserWarning: Boolean Series key will be reindexed to match DataFrame index.\n",
            "/usr/local/lib/python3.6/dist-packages/ipykernel_launcher.py:20: UserWarning: Boolean Series key will be reindexed to match DataFrame index.\n",
            "/usr/local/lib/python3.6/dist-packages/ipykernel_launcher.py:20: UserWarning: Boolean Series key will be reindexed to match DataFrame index.\n",
            "/usr/local/lib/python3.6/dist-packages/ipykernel_launcher.py:20: UserWarning: Boolean Series key will be reindexed to match DataFrame index.\n",
            "/usr/local/lib/python3.6/dist-packages/ipykernel_launcher.py:20: UserWarning: Boolean Series key will be reindexed to match DataFrame index.\n",
            "/usr/local/lib/python3.6/dist-packages/ipykernel_launcher.py:20: UserWarning: Boolean Series key will be reindexed to match DataFrame index.\n",
            "/usr/local/lib/python3.6/dist-packages/ipykernel_launcher.py:20: UserWarning: Boolean Series key will be reindexed to match DataFrame index.\n"
          ],
          "name": "stderr"
        }
      ]
    },
    {
      "cell_type": "code",
      "metadata": {
        "id": "oHjjz8RRcG1K"
      },
      "source": [
        "def build_tree(df, tree=None):\r\n",
        "    \r\n",
        "    label = df.keys()[-1]\r\n",
        "    \r\n",
        "    # atrybut z największą wartością zysku informacyjnego\r\n",
        "    node = find_winner(df)\r\n",
        "    \r\n",
        "    # unikalne wartości dla wskazanego atrybutu\r\n",
        "    att_values = np.unique(df[node])\r\n",
        "    \r\n",
        "    # utworzenie pustego słownika do przechowania drzewa \r\n",
        "    if tree is None:\r\n",
        "        tree = {}\r\n",
        "        tree[node] = {}\r\n",
        "    \r\n",
        "    # wykonujemy pętlę aby zbudować drzewo, jeśli podzbiór jest czysty\r\n",
        "    # zatrzymujemy działanie pętli\r\n",
        "    for value in att_values:\r\n",
        "        \r\n",
        "        subtable = get_subtable(df, node, value)\r\n",
        "        class_value, counts = np.unique(subtable[label], return_counts=True)\r\n",
        "        \r\n",
        "        if len(counts) == 1:\r\n",
        "            tree[node][value] = class_value[0]\r\n",
        "        else:\r\n",
        "            tree[node][value] = build_tree(subtable)\r\n",
        "            \r\n",
        "    return tree"
      ],
      "execution_count": null,
      "outputs": []
    },
    {
      "cell_type": "code",
      "metadata": {
        "colab": {
          "base_uri": "https://localhost:8080/"
        },
        "id": "pXYlFlltcPm2",
        "outputId": "40563ec5-5f5c-4c39-a569-3a186823e490"
      },
      "source": [
        "tree = build_tree(df)\r\n",
        "tree"
      ],
      "execution_count": null,
      "outputs": [
        {
          "output_type": "stream",
          "text": [
            "/usr/local/lib/python3.6/dist-packages/ipykernel_launcher.py:20: UserWarning: Boolean Series key will be reindexed to match DataFrame index.\n",
            "/usr/local/lib/python3.6/dist-packages/ipykernel_launcher.py:20: UserWarning: Boolean Series key will be reindexed to match DataFrame index.\n",
            "/usr/local/lib/python3.6/dist-packages/ipykernel_launcher.py:20: UserWarning: Boolean Series key will be reindexed to match DataFrame index.\n",
            "/usr/local/lib/python3.6/dist-packages/ipykernel_launcher.py:20: UserWarning: Boolean Series key will be reindexed to match DataFrame index.\n",
            "/usr/local/lib/python3.6/dist-packages/ipykernel_launcher.py:20: UserWarning: Boolean Series key will be reindexed to match DataFrame index.\n",
            "/usr/local/lib/python3.6/dist-packages/ipykernel_launcher.py:20: UserWarning: Boolean Series key will be reindexed to match DataFrame index.\n",
            "/usr/local/lib/python3.6/dist-packages/ipykernel_launcher.py:20: UserWarning: Boolean Series key will be reindexed to match DataFrame index.\n",
            "/usr/local/lib/python3.6/dist-packages/ipykernel_launcher.py:20: UserWarning: Boolean Series key will be reindexed to match DataFrame index.\n",
            "/usr/local/lib/python3.6/dist-packages/ipykernel_launcher.py:20: UserWarning: Boolean Series key will be reindexed to match DataFrame index.\n",
            "/usr/local/lib/python3.6/dist-packages/ipykernel_launcher.py:20: UserWarning: Boolean Series key will be reindexed to match DataFrame index.\n",
            "/usr/local/lib/python3.6/dist-packages/ipykernel_launcher.py:20: UserWarning: Boolean Series key will be reindexed to match DataFrame index.\n",
            "/usr/local/lib/python3.6/dist-packages/ipykernel_launcher.py:20: UserWarning: Boolean Series key will be reindexed to match DataFrame index.\n"
          ],
          "name": "stderr"
        },
        {
          "output_type": "execute_result",
          "data": {
            "text/plain": [
              "{'Wiarygodność': {'niska': 'Nie',\n",
              "  'wysoka': 'Tak',\n",
              "  'średnia': {'Dochód': {'niski': 'Nie', 'średni': 'Tak'}}}}"
            ]
          },
          "metadata": {
            "tags": []
          },
          "execution_count": 26
        }
      ]
    },
    {
      "cell_type": "code",
      "metadata": {
        "colab": {
          "base_uri": "https://localhost:8080/"
        },
        "id": "S8YWjyqecTre",
        "outputId": "5caca49f-043f-432d-b80c-842781bb5d75"
      },
      "source": [
        "print(\"Ładniejszy wygląd\")\r\n",
        "import pprint\r\n",
        "pprint.pprint(tree)\r\n",
        "print(\"Jeśli wiarygodność jest niska to nie przyznaje pożyczki.\")\r\n",
        "print(\"Jeśli wiarygodność jest wysoka to przyznaje pożyczkę.\")\r\n",
        "print(\"Jeśli wiarygodność jest średnia to kolejna decyzja: patrzymy na dochód.\")\r\n",
        "print(\"Jeśli jest niski to nie udzielono, a jeśli jest śreni to przyznaje.\")"
      ],
      "execution_count": null,
      "outputs": [
        {
          "output_type": "stream",
          "text": [
            "Ładniejszy wygląd\n",
            "{'Wiarygodność': {'niska': 'Nie',\n",
            "                  'wysoka': 'Tak',\n",
            "                  'średnia': {'Dochód': {'niski': 'Nie', 'średni': 'Tak'}}}}\n"
          ],
          "name": "stdout"
        }
      ]
    },
    {
      "cell_type": "markdown",
      "metadata": {
        "id": "g2cGzROtdx6v"
      },
      "source": [
        "## Predykcja na podstawie zbudowanego modelu¶"
      ]
    },
    {
      "cell_type": "code",
      "metadata": {
        "colab": {
          "base_uri": "https://localhost:8080/"
        },
        "id": "cxOfbE1ndh3_",
        "outputId": "d1d3ef33-54c1-4c63-b414-06faaf869905"
      },
      "source": [
        "print(\"#############################################\")\r\n",
        "print(\"Etap5. Odcinek6: Predykcja na podstawie modelu\")\r\n",
        "\r\n",
        "print()\r\n",
        "print(\"Wyrywam próbkę danych z modelu. Szósty indeks\")\r\n",
        "sample = df.iloc[6]\r\n",
        "print(sample)"
      ],
      "execution_count": null,
      "outputs": [
        {
          "output_type": "stream",
          "text": [
            "#############################################\n",
            "Etap5. Odcinek6: Predykcja na podstawie modelu\n",
            "\n",
            "Wyrywam próbkę danych z modelu. Szósty indeks\n",
            "Dochód          niski\n",
            "Wiek               25\n",
            "Wiarygodność    niska\n",
            "Pożyczka          Nie\n",
            "Name: 6, dtype: object\n"
          ],
          "name": "stdout"
        }
      ]
    },
    {
      "cell_type": "code",
      "metadata": {
        "colab": {
          "base_uri": "https://localhost:8080/"
        },
        "id": "YFjPIrXHfiBS",
        "outputId": "0ed30afb-001b-4a01-f76c-9b14b81d8a4b"
      },
      "source": [
        "tree.keys()"
      ],
      "execution_count": null,
      "outputs": [
        {
          "output_type": "execute_result",
          "data": {
            "text/plain": [
              "dict_keys(['Wiarygodność'])"
            ]
          },
          "metadata": {
            "tags": []
          },
          "execution_count": 31
        }
      ]
    },
    {
      "cell_type": "code",
      "metadata": {
        "id": "IOF-JmZ5fOQN"
      },
      "source": [
        "print()\r\n",
        "def predict(inst, tree):\r\n",
        "    \r\n",
        "    for nodes in tree.keys():\r\n",
        "        \r\n",
        "        value = inst[nodes]\r\n",
        "        tree = tree[nodes][value]\r\n",
        "        prediction = 0\r\n",
        "        \r\n",
        "        if type(tree) is dict:\r\n",
        "            prediction = predict(inst, tree)\r\n",
        "        else:\r\n",
        "            prediction = tree\r\n",
        "            break\r\n",
        "    return prediction"
      ],
      "execution_count": null,
      "outputs": []
    },
    {
      "cell_type": "code",
      "metadata": {
        "colab": {
          "base_uri": "https://localhost:8080/",
          "height": 35
        },
        "id": "cSYkxjfbgAre",
        "outputId": "41a57ed6-400f-4e48-c09e-066c8f29600b"
      },
      "source": [
        "predict(sample, tree)\r\n",
        "print(\"Czyli zgadza się bo historycznie nie została mu udzielona pożyczka\")"
      ],
      "execution_count": null,
      "outputs": [
        {
          "output_type": "execute_result",
          "data": {
            "application/vnd.google.colaboratory.intrinsic+json": {
              "type": "string"
            },
            "text/plain": [
              "'Nie'"
            ]
          },
          "metadata": {
            "tags": []
          },
          "execution_count": 32
        }
      ]
    }
  ]
}