{
  "nbformat": 4,
  "nbformat_minor": 0,
  "metadata": {
    "colab": {
      "name": "03_Information_Gain.ipynb",
      "provenance": [],
      "collapsed_sections": [],
      "authorship_tag": "ABX9TyOkFVtACaIcwtTzDyILZpFL",
      "include_colab_link": true
    },
    "kernelspec": {
      "name": "python3",
      "display_name": "Python 3"
    }
  },
  "cells": [
    {
      "cell_type": "markdown",
      "metadata": {
        "id": "view-in-github",
        "colab_type": "text"
      },
      "source": [
        "<a href=\"https://colab.research.google.com/github/KamilBienias/data-science/blob/main/kursPawe%C5%82Krakowiak/ML-decision-trees-and-random-forests/decision_trees/classification/03_Information_Gain.ipynb\" target=\"_parent\"><img src=\"https://colab.research.google.com/assets/colab-badge.svg\" alt=\"Open In Colab\"/></a>"
      ]
    },
    {
      "cell_type": "markdown",
      "metadata": {
        "id": "ZlFAzdEiAbrW"
      },
      "source": [
        "# **Etap4. Odcinek2: Zysk informacyjny**"
      ]
    },
    {
      "cell_type": "code",
      "metadata": {
        "id": "XnFEkzcP0Jx6",
        "colab": {
          "base_uri": "https://localhost:8080/"
        },
        "outputId": "ac107165-7823-4ab0-c363-928fbaa4aa64"
      },
      "source": [
        "print(\"#############################################\")\n",
        "print(\"Etap4. Odcinek2: Zysk informacyjny.\")\n",
        "\n",
        "print(\"Zysk informacyjny to miara dzięki której wiem, które zmienne wybrać jako następne do podziału zbioru.\")\n",
        "print(\"Jest liczony w oparciu o kryterium podziału, czyli albo wskaźnik Giniego albo entropię.\")\n",
        "print(\"Obliczymy w oparciu o entropię.\")\n",
        "\n",
        "import numpy as np\n",
        "import matplotlib.pyplot as plt\n",
        "import seaborn as sns\n",
        "sns.set()"
      ],
      "execution_count": null,
      "outputs": [
        {
          "output_type": "stream",
          "text": [
            "#############################################\n",
            "Etap4. Odcinek2: Zysk informacyjny.\n",
            "Zysk informacyjny to miara dzięki której wiem, które zmienne wybrać jako następne do podziału zbioru.\n",
            "Jest liczony w oparciu o kryterium podziału, czyli albo wskaźnik Giniego albo entropię.\n",
            "Obliczymy w oparciu o entropię.\n"
          ],
          "name": "stdout"
        }
      ]
    },
    {
      "cell_type": "code",
      "metadata": {
        "id": "16iFscKr1SfW",
        "colab": {
          "base_uri": "https://localhost:8080/"
        },
        "outputId": "36e334db-0b8b-4628-e572-3b05111cc17a"
      },
      "source": [
        "print(\"Tutaj x oznacza udział klasy w i-tym węźle, czyli jest ułamkiem.\")\n",
        "print(\"A właściwie x jest listą ułamków.\")\n",
        "def entropy(x):\n",
        "  return -np.sum(x * np.log2(x))"
      ],
      "execution_count": null,
      "outputs": [
        {
          "output_type": "stream",
          "text": [
            "Tutaj x oznacza udział klasy w i-tym węźle, czyli jest ułamkiem.\n",
            "A właściwie x jest listą ułamków.\n"
          ],
          "name": "stdout"
        }
      ]
    },
    {
      "cell_type": "code",
      "metadata": {
        "id": "8BjEkXpLxotb",
        "colab": {
          "base_uri": "https://localhost:8080/"
        },
        "outputId": "efe1a39f-5117-46c5-cc57-174ebd243e7c"
      },
      "source": [
        "print(\"\\nPrzykłady obliczania entropii dla dwóch klas (klasyfikacja binarna).\")\n",
        "print(\"Im bardziej pierwsza klasa zwiększa swój udział tym bardziej entropia spada.\")\n",
        "print(entropy([0.5, 0.5]))\n",
        "print(entropy([0.8, 0.2]))\n",
        "print(entropy([0.95, 0.05]))"
      ],
      "execution_count": null,
      "outputs": [
        {
          "output_type": "stream",
          "text": [
            "\n",
            "Przykłady obliczania entropii dla dwóch klas (klasyfikacja binarna).\n",
            "Im bardziej pierwsza klasa zwiększa swój udział tym bardziej entropia spada.\n",
            "1.0\n",
            "0.7219280948873623\n",
            "0.28639695711595625\n"
          ],
          "name": "stdout"
        }
      ]
    },
    {
      "cell_type": "code",
      "metadata": {
        "id": "zRj9wQQT7vKz",
        "colab": {
          "base_uri": "https://localhost:8080/"
        },
        "outputId": "79775e00-58d9-4eba-99e1-eabf0732a2d9"
      },
      "source": [
        "print(\"Niech p oznacza udział pierwszej klasy w próbce.\")\n",
        "p = np.arange(0.01, 1.0, 0.01)\n",
        "print(\"p =\", p)\n",
        "print(\"Niech q oznacza udział drugiej klasy w próbce.\")\n",
        "q = 1 - p\n",
        "print(\"q =\", q)\n",
        "pq = np.c_[p, q]\n",
        "print(\"Lista par udziałów pierwszej i drugiej klasy w danej próbce =\")\n",
        "print(pq[:5])"
      ],
      "execution_count": null,
      "outputs": [
        {
          "output_type": "stream",
          "text": [
            "Niech p oznacza udział pierwszej klasy w próbce.\n",
            "p = [0.01 0.02 0.03 0.04 0.05 0.06 0.07 0.08 0.09 0.1  0.11 0.12 0.13 0.14\n",
            " 0.15 0.16 0.17 0.18 0.19 0.2  0.21 0.22 0.23 0.24 0.25 0.26 0.27 0.28\n",
            " 0.29 0.3  0.31 0.32 0.33 0.34 0.35 0.36 0.37 0.38 0.39 0.4  0.41 0.42\n",
            " 0.43 0.44 0.45 0.46 0.47 0.48 0.49 0.5  0.51 0.52 0.53 0.54 0.55 0.56\n",
            " 0.57 0.58 0.59 0.6  0.61 0.62 0.63 0.64 0.65 0.66 0.67 0.68 0.69 0.7\n",
            " 0.71 0.72 0.73 0.74 0.75 0.76 0.77 0.78 0.79 0.8  0.81 0.82 0.83 0.84\n",
            " 0.85 0.86 0.87 0.88 0.89 0.9  0.91 0.92 0.93 0.94 0.95 0.96 0.97 0.98\n",
            " 0.99]\n",
            "Niech q oznacza udział drugiej klasy w próbce.\n",
            "q = [0.99 0.98 0.97 0.96 0.95 0.94 0.93 0.92 0.91 0.9  0.89 0.88 0.87 0.86\n",
            " 0.85 0.84 0.83 0.82 0.81 0.8  0.79 0.78 0.77 0.76 0.75 0.74 0.73 0.72\n",
            " 0.71 0.7  0.69 0.68 0.67 0.66 0.65 0.64 0.63 0.62 0.61 0.6  0.59 0.58\n",
            " 0.57 0.56 0.55 0.54 0.53 0.52 0.51 0.5  0.49 0.48 0.47 0.46 0.45 0.44\n",
            " 0.43 0.42 0.41 0.4  0.39 0.38 0.37 0.36 0.35 0.34 0.33 0.32 0.31 0.3\n",
            " 0.29 0.28 0.27 0.26 0.25 0.24 0.23 0.22 0.21 0.2  0.19 0.18 0.17 0.16\n",
            " 0.15 0.14 0.13 0.12 0.11 0.1  0.09 0.08 0.07 0.06 0.05 0.04 0.03 0.02\n",
            " 0.01]\n",
            "Lista par udziałów pierwszej i drugiej klasy w danej próbce =\n",
            "[[0.01 0.99]\n",
            " [0.02 0.98]\n",
            " [0.03 0.97]\n",
            " [0.04 0.96]\n",
            " [0.05 0.95]]\n"
          ],
          "name": "stdout"
        }
      ]
    },
    {
      "cell_type": "code",
      "metadata": {
        "id": "7o2cDOwD84nq",
        "colab": {
          "base_uri": "https://localhost:8080/"
        },
        "outputId": "37c57961-116d-4520-d2df-e1c749a6ddc2"
      },
      "source": [
        "entropies = [entropy(pair) for pair in pq]\n",
        "print(\"Entropie dla wszystkich par z tablicy pq\")\n",
        "entropies"
      ],
      "execution_count": null,
      "outputs": [
        {
          "output_type": "stream",
          "text": [
            "Entropie dla wszystkich par z tablicy pq\n"
          ],
          "name": "stdout"
        },
        {
          "output_type": "execute_result",
          "data": {
            "text/plain": [
              "[0.08079313589591118,\n",
              " 0.14144054254182067,\n",
              " 0.1943918578315762,\n",
              " 0.24229218908241482,\n",
              " 0.28639695711595625,\n",
              " 0.32744491915447627,\n",
              " 0.3659236509002231,\n",
              " 0.4021791902022728,\n",
              " 0.43646981706410287,\n",
              " 0.4689955935892812,\n",
              " 0.499915958164528,\n",
              " 0.5293608652873644,\n",
              " 0.5574381850279891,\n",
              " 0.584238811642856,\n",
              " 0.6098403047164005,\n",
              " 0.6343095546405662,\n",
              " 0.6577047787442195,\n",
              " 0.6800770457282799,\n",
              " 0.7014714598838974,\n",
              " 0.7219280948873623,\n",
              " 0.7414827399312737,\n",
              " 0.7601675029619657,\n",
              " 0.7780113035465377,\n",
              " 0.7950402793845222,\n",
              " 0.8112781244591328,\n",
              " 0.8267463724926178,\n",
              " 0.8414646362081757,\n",
              " 0.8554508105601307,\n",
              " 0.8687212463394046,\n",
              " 0.8812908992306927,\n",
              " 0.8931734583778567,\n",
              " 0.9043814577244939,\n",
              " 0.9149263727797275,\n",
              " 0.9248187049730301,\n",
              " 0.9340680553754911,\n",
              " 0.9426831892554923,\n",
              " 0.9506720926870659,\n",
              " 0.9580420222262995,\n",
              " 0.9647995485050872,\n",
              " 0.9709505944546686,\n",
              " 0.976500468757824,\n",
              " 0.9814538950336537,\n",
              " 0.9858150371789198,\n",
              " 0.9895875212220556,\n",
              " 0.9927744539878083,\n",
              " 0.9953784388202257,\n",
              " 0.9974015885677396,\n",
              " 0.9988455359952018,\n",
              " 0.9997114417528099,\n",
              " 1.0,\n",
              " 0.9997114417528099,\n",
              " 0.9988455359952018,\n",
              " 0.9974015885677396,\n",
              " 0.9953784388202257,\n",
              " 0.9927744539878083,\n",
              " 0.9895875212220556,\n",
              " 0.9858150371789198,\n",
              " 0.9814538950336534,\n",
              " 0.976500468757824,\n",
              " 0.9709505944546686,\n",
              " 0.9647995485050872,\n",
              " 0.9580420222262995,\n",
              " 0.9506720926870659,\n",
              " 0.9426831892554921,\n",
              " 0.9340680553754911,\n",
              " 0.92481870497303,\n",
              " 0.9149263727797274,\n",
              " 0.9043814577244937,\n",
              " 0.8931734583778567,\n",
              " 0.8812908992306926,\n",
              " 0.8687212463394045,\n",
              " 0.8554508105601307,\n",
              " 0.8414646362081757,\n",
              " 0.8267463724926178,\n",
              " 0.8112781244591328,\n",
              " 0.7950402793845223,\n",
              " 0.7780113035465376,\n",
              " 0.7601675029619656,\n",
              " 0.7414827399312736,\n",
              " 0.7219280948873623,\n",
              " 0.7014714598838974,\n",
              " 0.6800770457282796,\n",
              " 0.6577047787442193,\n",
              " 0.6343095546405659,\n",
              " 0.6098403047164005,\n",
              " 0.584238811642856,\n",
              " 0.5574381850279891,\n",
              " 0.5293608652873644,\n",
              " 0.49991595816452794,\n",
              " 0.46899559358928117,\n",
              " 0.4364698170641028,\n",
              " 0.40217919020227266,\n",
              " 0.36592365090022305,\n",
              " 0.327444919154476,\n",
              " 0.2863969571159558,\n",
              " 0.2422921890824144,\n",
              " 0.1943918578315763,\n",
              " 0.14144054254182076,\n",
              " 0.08079313589591124]"
            ]
          },
          "metadata": {
            "tags": []
          },
          "execution_count": 24
        }
      ]
    },
    {
      "cell_type": "code",
      "metadata": {
        "id": "KnJ2_sF0_dUr",
        "colab": {
          "base_uri": "https://localhost:8080/",
          "height": 302
        },
        "outputId": "bd185466-aead-422d-b948-b01de1bfcf7f"
      },
      "source": [
        "print(\"Wykres entropii w zależności od p\")\n",
        "plt.plot(p, entropies)"
      ],
      "execution_count": null,
      "outputs": [
        {
          "output_type": "stream",
          "text": [
            "Wykres entropii w zależności od p\n"
          ],
          "name": "stdout"
        },
        {
          "output_type": "execute_result",
          "data": {
            "text/plain": [
              "[<matplotlib.lines.Line2D at 0x7fefc461a630>]"
            ]
          },
          "metadata": {
            "tags": []
          },
          "execution_count": 25
        },
        {
          "output_type": "display_data",
          "data": {
            "image/png": "[encoded data removed]",
            "text/plain": [
              "<Figure size 432x288 with 1 Axes>"
            ]
          },
          "metadata": {
            "tags": []
          }
        }
      ]
    },
    {
      "cell_type": "markdown",
      "metadata": {
        "id": "gxnIyr6pAjcf"
      },
      "source": [
        "# **Etap4. Odcinek3: Zysk informacyjny - przykład**"
      ]
    },
    {
      "cell_type": "code",
      "metadata": {
        "id": "OVbvqk_5_jRk",
        "colab": {
          "base_uri": "https://localhost:8080/"
        },
        "outputId": "79d3b83a-135b-436d-b3d8-bc6d628749a1"
      },
      "source": [
        "print(\"#############################################\")\n",
        "print(\"Etap4. Odcinek3: Zysk informacyjny - przykład.\")\n",
        "\n",
        "print(\"W tabeli historyczne info czy bank udzielił pożyczki czy nie\")"
      ],
      "execution_count": null,
      "outputs": [
        {
          "output_type": "stream",
          "text": [
            "#############################################\n",
            "Etap4. Odcinek3: Zysk informacyjny - przykład.\n",
            "W tabeli historyczne info czy bank udzielił pożyczki czy nie\n"
          ],
          "name": "stdout"
        }
      ]
    },
    {
      "cell_type": "markdown",
      "metadata": {
        "id": "mpXQxwex03XI"
      },
      "source": [
        "### Rozważmy dane\n",
        "\n",
        "| ID | Dochód | Liczba osób w gospodarstwie | Wiarygodność | Udzielenie pożyczki |\n",
        "|----|--------|-----------------------------|--------------|---------------------|\n",
        "| 1  | niski  | 1                           | niska        | 0                   |\n",
        "| 2  | niski  | 3                           | niska        | 0                   |\n",
        "| 3  | średni | 4                           | niska        | 0                   |\n",
        "| 4  | wysoki | 3                           | średnia      | 0                   |\n",
        "| 5  | wysoki | 4                           | wysoka       | 1                   |\n",
        "| 6  | niski  | 4                           | niska        | 0                   |\n",
        "| 7  | średni | 2                           | średnia      | 1                   |\n",
        "| 8  | wysoki | 3                           | wysoka       | 1                   |\n",
        "| 9  | średni | 5                           | niska        | 0                   |\n",
        "| 10 | średni | 1                           | wysoka       | 1                   |\n",
        "\n",
        "\n",
        "Rozkład zmiennej Udzienie pożyczki:\n",
        "\n",
        "| Udzielenie pożyczki | 0    | 1    |\n",
        "|---------------------|------|------|\n",
        "| $p_{i}$               | 6/10 | 4/10 |\n",
        "\n",
        "\n",
        "Wzór na entropię:\n",
        "### dla $p_{i}>0$ mamy $E = - \\sum_{i=1}^{n}p_{i} \\cdot log_{2}p_{i}$\n",
        "\n",
        "Entropia po podziale:\n",
        "\n",
        "###  $E_{after}  = \\sum_{i=1}^{m} \\frac{S_{i}}{S}Entropia(S_{i})$\n",
        "\n",
        "gdzie \n",
        "$S$ - podział,\n",
        "$m$ - liczba podziałów\n",
        "\n"
      ]
    },
    {
      "cell_type": "code",
      "metadata": {
        "id": "AHx2Ly13Eqs9",
        "colab": {
          "base_uri": "https://localhost:8080/"
        },
        "outputId": "0703d65d-ae7a-4aea-de0e-601f07c3bed6"
      },
      "source": [
        "print(\"Entropia przed podziałem dla zmiennej 'Udzielenie pożyczki'.\")\n",
        "print(\"Jest blisko 1 bo wartości 6/10 i 4/10 są blisko rozłożenia po połowie 5/10 i 5/10.\")\n",
        "entropia = -(6/10 * np.log2(6/10) + (4/10) * np.log2(4/10))\n",
        "entropia"
      ],
      "execution_count": null,
      "outputs": [
        {
          "output_type": "stream",
          "text": [
            "Entropia przed podziałem dla zmiennej 'Udzielenie pożyczki'.\n",
            "Jest blisko 1 bo wartości 6/10 i 4/10 są blisko rozłożenia po połowie 5/10 i 5/10.\n"
          ],
          "name": "stdout"
        },
        {
          "output_type": "execute_result",
          "data": {
            "text/plain": [
              "0.9709505944546686"
            ]
          },
          "metadata": {
            "tags": []
          },
          "execution_count": 27
        }
      ]
    },
    {
      "cell_type": "markdown",
      "metadata": {
        "id": "IrsytMNL7Ik7"
      },
      "source": [
        "### Rozkład zmiennej `Wiarygodność`.\n",
        "Udział oznacza ile było takich wiarygodności w stosunku do wszystkich. Kolumna \"udzielenie pożyczki = 0\" to prawdopodobieństwo wylosowania klienta o danej wiarygodności, któremu nie udzielono pożyczki (analogicznie kolumna \"udzielenie pożyczki = 1\" oznacza, że mu udzielono)\n",
        "\n",
        "|         | udział | udzielenie pożyczki = 0 | udzielenie pożyczki = 1 |  Entropia obliczenia moje z definicji\n",
        "|---------|--------|-------------------------|-------------------------|--------|\n",
        "| niska   | 5/10   | 1                       | 0                       |  $0 = 1 \\cdot log_{2}1$\n",
        "| średnia | 2/10   | 1/2                     | 1/2                     | $1 = \\frac{1}{2} \\cdot log_{2}({\\frac{1}{2}}) + \\frac{1}{2} \\cdot log_{2}({\\frac{1}{2}})$\n",
        "| wysoka  | 3/10   | 0                       | 1                       | $0 = 1 \\cdot log_{2}1$\n",
        "\n",
        "Entropia po podziale"
      ]
    },
    {
      "cell_type": "code",
      "metadata": {
        "id": "DWZHnk4mLitw",
        "colab": {
          "base_uri": "https://localhost:8080/"
        },
        "outputId": "4f8949bf-1e92-4879-8764-9b7924361134"
      },
      "source": [
        "print(\"Żeby policzyć entropię po podziale danej zmiennej, to mnożę udział przez entropię\")\n",
        "print(\"a potem dodaję te iloczyny.\")\n",
        "entropia_wiarygodnosc = 5/10 * 0 + 2/10 * 1 + 3/10 * 0\n",
        "entropia_wiarygodnosc"
      ],
      "execution_count": null,
      "outputs": [
        {
          "output_type": "stream",
          "text": [
            "Żeby policzyć entropię po podziale danej zmiennej, to mnożę udział przez entropię\n",
            "a potem dodaję te iloczyny.\n"
          ],
          "name": "stdout"
        },
        {
          "output_type": "execute_result",
          "data": {
            "text/plain": [
              "0.2"
            ]
          },
          "metadata": {
            "tags": []
          },
          "execution_count": 28
        }
      ]
    },
    {
      "cell_type": "code",
      "metadata": {
        "id": "IyYkwHGMMTTt",
        "colab": {
          "base_uri": "https://localhost:8080/"
        },
        "outputId": "e3c246c0-c546-41d4-8f97-3f821d1824d0"
      },
      "source": [
        "print(\"Aby wiedzieć po której zmiennej podzielić zbiór muszę zrobić powyższe kroki dla każdego atrybutu\")\n",
        "print(\"Teraz dla dochodu. Nie będziemy dla wszystkich atrybutów liczyć\")"
      ],
      "execution_count": null,
      "outputs": [
        {
          "output_type": "stream",
          "text": [
            "Aby wiedzieć po której zmiennej podzielić zbiór muszę zrobić powyższe kroki dla każdego atrybutu\n",
            "Teraz dla dochodu. Nie będziemy dla wszystkich atrybutów liczyć\n"
          ],
          "name": "stdout"
        }
      ]
    },
    {
      "cell_type": "markdown",
      "metadata": {
        "id": "j8vPopSj76no"
      },
      "source": [
        "### Rozkład zmiennej  `Dochód`\n",
        "\n",
        "|        | udział | udzielenie pożyczki = 0 | udzielenie pożyczki = 1 | Entropia obliczenia moje z definicji............\n",
        "|--------|--------|-------------------------|-------------------------|----------|\n",
        "| niski  | 3/10   | 1                       | 0                       |$0 = 1 \\cdot log_{2}1$\n",
        "| sredni | 4/10   | 2/4                     | 2/4                     |$1 = \\frac{2}{4} \\cdot log_{2}({\\frac{2}{4}}) + \\frac{2}{4} \\cdot log_{2}({\\frac{2}{4}})$\n",
        "| wysoki | 3/10   | 1/3                     | 2/3                     | $0.9183 = \\frac{1}{3} \\cdot log_{2}({\\frac{1}{3}}) + \\frac{2}{3} \\cdot log_{2}({\\frac{2}{3}})$\n",
        "\n",
        "Entropia po podziale"
      ]
    },
    {
      "cell_type": "code",
      "metadata": {
        "id": "urkNfgXFPbi1",
        "colab": {
          "base_uri": "https://localhost:8080/"
        },
        "outputId": "406449d7-27c9-4e9a-8ca4-de612c660e24"
      },
      "source": [
        "entropia_dochod = 3/10 * 0 + 4/10 * 1 + 3/10 * 0.9183\n",
        "entropia_dochod"
      ],
      "execution_count": null,
      "outputs": [
        {
          "output_type": "execute_result",
          "data": {
            "text/plain": [
              "0.67549"
            ]
          },
          "metadata": {
            "tags": []
          },
          "execution_count": 30
        }
      ]
    },
    {
      "cell_type": "markdown",
      "metadata": {
        "id": "lsKWqx_t85ra"
      },
      "source": [
        "### Zysk Informacyjny\n",
        "\n",
        "$IG (Information\\ Gain) = Entropia\\ przed\\ podziałem - Entropia\\ po\\ podziale$"
      ]
    },
    {
      "cell_type": "code",
      "metadata": {
        "id": "eiPICqUwQWMj",
        "colab": {
          "base_uri": "https://localhost:8080/"
        },
        "outputId": "022c3ce0-d855-41ac-ab96-df0b0e84e8ba"
      },
      "source": [
        "ig_wiarygodnosc = entropia - entropia_wiarygodnosc\n",
        "ig_dochod = entropia - entropia_dochod\n",
        "\n",
        "print('Zysk informacyjny (IG): wiarygodność:', ig_wiarygodnosc)\n",
        "print('Zysk informacyjny (IG): dochód:', ig_dochod)"
      ],
      "execution_count": null,
      "outputs": [
        {
          "output_type": "stream",
          "text": [
            "Zysk informacyjny (IG): wiarygodność: 0.7709505944546686\n",
            "Zysk informacyjny (IG): dochód: 0.29546059445466855\n"
          ],
          "name": "stdout"
        }
      ]
    },
    {
      "cell_type": "code",
      "metadata": {
        "id": "ETGXlJ1wRHE0",
        "colab": {
          "base_uri": "https://localhost:8080/"
        },
        "outputId": "72fbfad6-2822-4179-c7e0-be3f508d854d"
      },
      "source": [
        "print(\"Ja obliczam zysk informacyjny dla zmiennej 'Liczba osób w gospodarstwie'.\")"
      ],
      "execution_count": null,
      "outputs": [
        {
          "output_type": "stream",
          "text": [
            "Ja obliczam zysk informacyjny dla zmiennej 'Liczba osób w gospodarstwie'.\n"
          ],
          "name": "stdout"
        }
      ]
    },
    {
      "cell_type": "markdown",
      "metadata": {
        "id": "cG667MF6TyXJ"
      },
      "source": [
        "### Rozkład zmiennej  `Liczba osób w gospodarstwie`\n",
        "\n",
        "|        | udział | udzielenie pożyczki = 0 | udzielenie pożyczki = 1 | Entropia obliczenia moje z definicji............\n",
        "|--------|--------|-------------------------|-------------------------|----------|\n",
        "| 1  | 2/10   | 1/2                       | 1/2                       |$1 = \\frac{1}{2} \\cdot log_{2}\\frac{1}{2} + \\frac{1}{2} \\cdot log_2\\frac{1}{2}$\n",
        "| 2 | 1/10   | 0                     | 1                     |$0 = 1 \\cdot log_{2}1$\n",
        "| 3 | 3/10   | 2/3                     | 1/3                     | $0.9183 = \\frac{2}{3} \\cdot log_{2}({\\frac{2}{3}}) + \\frac{1}{3} \\cdot log_{2}({\\frac{1}{3}})$\n",
        "| 4 | 3/10   | 2/3                     | 1/3                     | $0.9183 = \\frac{2}{3} \\cdot log_{2}({\\frac{2}{3}}) + \\frac{1}{3} \\cdot log_{2}({\\frac{1}{3}})$\n",
        "| 5 | 1/10   | 1                     | 0                     | $0 = 1 \\cdot log_{2}1$\n",
        "\n",
        "Entropia po podziale"
      ]
    },
    {
      "cell_type": "code",
      "metadata": {
        "id": "VY8AOGTRXE4s",
        "colab": {
          "base_uri": "https://localhost:8080/"
        },
        "outputId": "0a427eed-fbd4-4c29-f6a2-37866c91f603"
      },
      "source": [
        "entropia_liczba_osob_w_gospodarstwie = 2/10 * 1 + 1/10 * 0 + 3/10 * 0.9183 + 3/10 * 0.9183 + 1/10 * 0\n",
        "entropia_liczba_osob_w_gospodarstwie"
      ],
      "execution_count": null,
      "outputs": [
        {
          "output_type": "execute_result",
          "data": {
            "text/plain": [
              "0.75098"
            ]
          },
          "metadata": {
            "tags": []
          },
          "execution_count": 33
        }
      ]
    },
    {
      "cell_type": "code",
      "metadata": {
        "id": "4EhdUUCRYiu3",
        "colab": {
          "base_uri": "https://localhost:8080/"
        },
        "outputId": "b1ffde55-bca3-48d2-dec3-5169be51f3c5"
      },
      "source": [
        "ig_liczba_osob_w_gospodarstwie = entropia - entropia_liczba_osob_w_gospodarstwie\n",
        "print('Zysk informacyjny (IG): liczba osów w gospodarstwie:', ig_liczba_osob_w_gospodarstwie)\n",
        "print(\"Największy zysk informacyjny jest dla wiarygodności więc dorzucam tą zmienną do podziału\")"
      ],
      "execution_count": null,
      "outputs": [
        {
          "output_type": "stream",
          "text": [
            "Zysk informacyjny (IG): liczba osów w gospodarstwie: 0.2199705944546686\n",
            "Największy zysk informacyjny jest dla wiarygodności więc dorzucam tą zmienną do podziału\n"
          ],
          "name": "stdout"
        }
      ]
    }
  ]
}