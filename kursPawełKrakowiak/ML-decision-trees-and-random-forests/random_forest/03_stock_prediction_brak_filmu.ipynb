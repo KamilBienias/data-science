{
  "nbformat": 4,
  "nbformat_minor": 0,
  "metadata": {
    "colab": {
      "name": "03_stock_prediction_brak_filmu.ipynb",
      "provenance": [],
      "collapsed_sections": [],
      "include_colab_link": true
    },
    "kernelspec": {
      "name": "python3",
      "display_name": "Python 3"
    }
  },
  "cells": [
    {
      "cell_type": "markdown",
      "metadata": {
        "id": "view-in-github",
        "colab_type": "text"
      },
      "source": [
        "<a href=\"https://colab.research.google.com/github/KamilBienias/data-science/blob/main/kursPawe%C5%82Krakowiak/ML-decision-trees-and-random-forests/random_forest/03_stock_prediction_brak_filmu.ipynb\" target=\"_parent\"><img src=\"https://colab.research.google.com/assets/colab-badge.svg\" alt=\"Open In Colab\"/></a>"
      ]
    },
    {
      "cell_type": "markdown",
      "metadata": {
        "id": "8KIkvwgjZXQ1"
      },
      "source": [
        "* @author: krakowiakpawel9@gmail.com  \n",
        "* @site: e-smartdata.org"
      ]
    },
    {
      "cell_type": "code",
      "metadata": {
        "id": "0Rasdp5zGnQn",
        "colab": {
          "base_uri": "https://localhost:8080/"
        },
        "outputId": "db37cce5-f2bd-4bbc-aca0-b8ef11190507"
      },
      "source": [
        "print(\"#############################################\")\r\n",
        "print(\"Etap9. Odcinek brak\")\r\n",
        "\r\n",
        "import pandas_datareader"
      ],
      "execution_count": 345,
      "outputs": [
        {
          "output_type": "stream",
          "text": [
            "#############################################\n",
            "Etap9. Odcinek brak\n"
          ],
          "name": "stdout"
        }
      ]
    },
    {
      "cell_type": "code",
      "metadata": {
        "id": "ZPOPc9sVHadc"
      },
      "source": [
        "data = pandas_datareader.stooq.StooqDailyReader('AMZN').read()"
      ],
      "execution_count": 346,
      "outputs": []
    },
    {
      "cell_type": "code",
      "metadata": {
        "id": "ncPe4WPyHlNN"
      },
      "source": [
        "df = data.copy()"
      ],
      "execution_count": 347,
      "outputs": []
    },
    {
      "cell_type": "code",
      "metadata": {
        "id": "WByJRkhWH-vX",
        "colab": {
          "base_uri": "https://localhost:8080/",
          "height": 232
        },
        "outputId": "7303b37d-7559-47e1-f7b2-453ee14a4049"
      },
      "source": [
        "df.head()"
      ],
      "execution_count": 348,
      "outputs": [
        {
          "output_type": "execute_result",
          "data": {
            "text/html": [
              "<div>\n",
              "<style scoped>\n",
              "    .dataframe tbody tr th:only-of-type {\n",
              "        vertical-align: middle;\n",
              "    }\n",
              "\n",
              "    .dataframe tbody tr th {\n",
              "        vertical-align: top;\n",
              "    }\n",
              "\n",
              "    .dataframe thead th {\n",
              "        text-align: right;\n",
              "    }\n",
              "</style>\n",
              "<table border=\"1\" class=\"dataframe\">\n",
              "  <thead>\n",
              "    <tr style=\"text-align: right;\">\n",
              "      <th></th>\n",
              "      <th>Open</th>\n",
              "      <th>High</th>\n",
              "      <th>Low</th>\n",
              "      <th>Close</th>\n",
              "      <th>Volume</th>\n",
              "    </tr>\n",
              "    <tr>\n",
              "      <th>Date</th>\n",
              "      <th></th>\n",
              "      <th></th>\n",
              "      <th></th>\n",
              "      <th></th>\n",
              "      <th></th>\n",
              "    </tr>\n",
              "  </thead>\n",
              "  <tbody>\n",
              "    <tr>\n",
              "      <th>2021-01-05</th>\n",
              "      <td>3166.01</td>\n",
              "      <td>3223.3800</td>\n",
              "      <td>3165.060</td>\n",
              "      <td>3218.51</td>\n",
              "      <td>2655548</td>\n",
              "    </tr>\n",
              "    <tr>\n",
              "      <th>2021-01-04</th>\n",
              "      <td>3270.00</td>\n",
              "      <td>3272.0000</td>\n",
              "      <td>3144.020</td>\n",
              "      <td>3186.63</td>\n",
              "      <td>4411449</td>\n",
              "    </tr>\n",
              "    <tr>\n",
              "      <th>2020-12-31</th>\n",
              "      <td>3275.00</td>\n",
              "      <td>3282.9219</td>\n",
              "      <td>3241.200</td>\n",
              "      <td>3256.93</td>\n",
              "      <td>2957206</td>\n",
              "    </tr>\n",
              "    <tr>\n",
              "      <th>2020-12-30</th>\n",
              "      <td>3341.00</td>\n",
              "      <td>3342.1000</td>\n",
              "      <td>3282.470</td>\n",
              "      <td>3285.85</td>\n",
              "      <td>3209310</td>\n",
              "    </tr>\n",
              "    <tr>\n",
              "      <th>2020-12-29</th>\n",
              "      <td>3309.94</td>\n",
              "      <td>3350.6500</td>\n",
              "      <td>3281.223</td>\n",
              "      <td>3322.00</td>\n",
              "      <td>4872933</td>\n",
              "    </tr>\n",
              "  </tbody>\n",
              "</table>\n",
              "</div>"
            ],
            "text/plain": [
              "               Open       High       Low    Close   Volume\n",
              "Date                                                      \n",
              "2021-01-05  3166.01  3223.3800  3165.060  3218.51  2655548\n",
              "2021-01-04  3270.00  3272.0000  3144.020  3186.63  4411449\n",
              "2020-12-31  3275.00  3282.9219  3241.200  3256.93  2957206\n",
              "2020-12-30  3341.00  3342.1000  3282.470  3285.85  3209310\n",
              "2020-12-29  3309.94  3350.6500  3281.223  3322.00  4872933"
            ]
          },
          "metadata": {
            "tags": []
          },
          "execution_count": 348
        }
      ]
    },
    {
      "cell_type": "code",
      "metadata": {
        "id": "8ccKKogTM9oe",
        "colab": {
          "base_uri": "https://localhost:8080/",
          "height": 232
        },
        "outputId": "4f1f6f74-98e8-4a34-b51a-9575041f4bbd"
      },
      "source": [
        "df.tail()"
      ],
      "execution_count": 349,
      "outputs": [
        {
          "output_type": "execute_result",
          "data": {
            "text/html": [
              "<div>\n",
              "<style scoped>\n",
              "    .dataframe tbody tr th:only-of-type {\n",
              "        vertical-align: middle;\n",
              "    }\n",
              "\n",
              "    .dataframe tbody tr th {\n",
              "        vertical-align: top;\n",
              "    }\n",
              "\n",
              "    .dataframe thead th {\n",
              "        text-align: right;\n",
              "    }\n",
              "</style>\n",
              "<table border=\"1\" class=\"dataframe\">\n",
              "  <thead>\n",
              "    <tr style=\"text-align: right;\">\n",
              "      <th></th>\n",
              "      <th>Open</th>\n",
              "      <th>High</th>\n",
              "      <th>Low</th>\n",
              "      <th>Close</th>\n",
              "      <th>Volume</th>\n",
              "    </tr>\n",
              "    <tr>\n",
              "      <th>Date</th>\n",
              "      <th></th>\n",
              "      <th></th>\n",
              "      <th></th>\n",
              "      <th></th>\n",
              "      <th></th>\n",
              "    </tr>\n",
              "  </thead>\n",
              "  <tbody>\n",
              "    <tr>\n",
              "      <th>2016-01-14</th>\n",
              "      <td>580.25</td>\n",
              "      <td>602.25</td>\n",
              "      <td>569.880</td>\n",
              "      <td>593.00</td>\n",
              "      <td>6069839</td>\n",
              "    </tr>\n",
              "    <tr>\n",
              "      <th>2016-01-13</th>\n",
              "      <td>620.88</td>\n",
              "      <td>620.88</td>\n",
              "      <td>579.160</td>\n",
              "      <td>581.81</td>\n",
              "      <td>5996350</td>\n",
              "    </tr>\n",
              "    <tr>\n",
              "      <th>2016-01-12</th>\n",
              "      <td>625.25</td>\n",
              "      <td>625.99</td>\n",
              "      <td>612.242</td>\n",
              "      <td>617.89</td>\n",
              "      <td>4094644</td>\n",
              "    </tr>\n",
              "    <tr>\n",
              "      <th>2016-01-11</th>\n",
              "      <td>612.48</td>\n",
              "      <td>619.85</td>\n",
              "      <td>598.570</td>\n",
              "      <td>617.74</td>\n",
              "      <td>4891551</td>\n",
              "    </tr>\n",
              "    <tr>\n",
              "      <th>2016-01-08</th>\n",
              "      <td>619.66</td>\n",
              "      <td>624.14</td>\n",
              "      <td>606.000</td>\n",
              "      <td>607.05</td>\n",
              "      <td>5238293</td>\n",
              "    </tr>\n",
              "  </tbody>\n",
              "</table>\n",
              "</div>"
            ],
            "text/plain": [
              "              Open    High      Low   Close   Volume\n",
              "Date                                                \n",
              "2016-01-14  580.25  602.25  569.880  593.00  6069839\n",
              "2016-01-13  620.88  620.88  579.160  581.81  5996350\n",
              "2016-01-12  625.25  625.99  612.242  617.89  4094644\n",
              "2016-01-11  612.48  619.85  598.570  617.74  4891551\n",
              "2016-01-08  619.66  624.14  606.000  607.05  5238293"
            ]
          },
          "metadata": {
            "tags": []
          },
          "execution_count": 349
        }
      ]
    },
    {
      "cell_type": "code",
      "metadata": {
        "colab": {
          "base_uri": "https://localhost:8080/"
        },
        "id": "a5alp9ZI9uRu",
        "outputId": "2f2104f4-b66b-493d-d821-378888bf48a2"
      },
      "source": [
        "df.index"
      ],
      "execution_count": 350,
      "outputs": [
        {
          "output_type": "execute_result",
          "data": {
            "text/plain": [
              "DatetimeIndex(['2021-01-05', '2021-01-04', '2020-12-31', '2020-12-30',\n",
              "               '2020-12-29', '2020-12-28', '2020-12-24', '2020-12-23',\n",
              "               '2020-12-22', '2020-12-21',\n",
              "               ...\n",
              "               '2016-01-22', '2016-01-21', '2016-01-20', '2016-01-19',\n",
              "               '2016-01-15', '2016-01-14', '2016-01-13', '2016-01-12',\n",
              "               '2016-01-11', '2016-01-08'],\n",
              "              dtype='datetime64[ns]', name='Date', length=1257, freq=None)"
            ]
          },
          "metadata": {
            "tags": []
          },
          "execution_count": 350
        }
      ]
    },
    {
      "cell_type": "code",
      "metadata": {
        "id": "Ce2YgUUeH_16",
        "colab": {
          "base_uri": "https://localhost:8080/",
          "height": 293
        },
        "outputId": "e452d391-74ae-43cf-98c2-f37dc5a600b8"
      },
      "source": [
        "df.describe().apply(lambda x: round(x, 2))"
      ],
      "execution_count": 351,
      "outputs": [
        {
          "output_type": "execute_result",
          "data": {
            "text/html": [
              "<div>\n",
              "<style scoped>\n",
              "    .dataframe tbody tr th:only-of-type {\n",
              "        vertical-align: middle;\n",
              "    }\n",
              "\n",
              "    .dataframe tbody tr th {\n",
              "        vertical-align: top;\n",
              "    }\n",
              "\n",
              "    .dataframe thead th {\n",
              "        text-align: right;\n",
              "    }\n",
              "</style>\n",
              "<table border=\"1\" class=\"dataframe\">\n",
              "  <thead>\n",
              "    <tr style=\"text-align: right;\">\n",
              "      <th></th>\n",
              "      <th>Open</th>\n",
              "      <th>High</th>\n",
              "      <th>Low</th>\n",
              "      <th>Close</th>\n",
              "      <th>Volume</th>\n",
              "    </tr>\n",
              "  </thead>\n",
              "  <tbody>\n",
              "    <tr>\n",
              "      <th>count</th>\n",
              "      <td>1257.00</td>\n",
              "      <td>1257.00</td>\n",
              "      <td>1257.00</td>\n",
              "      <td>1257.00</td>\n",
              "      <td>1257.00</td>\n",
              "    </tr>\n",
              "    <tr>\n",
              "      <th>mean</th>\n",
              "      <td>1563.18</td>\n",
              "      <td>1579.47</td>\n",
              "      <td>1544.48</td>\n",
              "      <td>1562.76</td>\n",
              "      <td>4297747.27</td>\n",
              "    </tr>\n",
              "    <tr>\n",
              "      <th>std</th>\n",
              "      <td>748.35</td>\n",
              "      <td>758.52</td>\n",
              "      <td>736.13</td>\n",
              "      <td>747.35</td>\n",
              "      <td>2151940.46</td>\n",
              "    </tr>\n",
              "    <tr>\n",
              "      <th>min</th>\n",
              "      <td>478.01</td>\n",
              "      <td>493.50</td>\n",
              "      <td>474.00</td>\n",
              "      <td>482.07</td>\n",
              "      <td>881337.00</td>\n",
              "    </tr>\n",
              "    <tr>\n",
              "      <th>25%</th>\n",
              "      <td>899.63</td>\n",
              "      <td>903.65</td>\n",
              "      <td>890.28</td>\n",
              "      <td>898.28</td>\n",
              "      <td>2849491.00</td>\n",
              "    </tr>\n",
              "    <tr>\n",
              "      <th>50%</th>\n",
              "      <td>1613.92</td>\n",
              "      <td>1626.00</td>\n",
              "      <td>1595.15</td>\n",
              "      <td>1610.15</td>\n",
              "      <td>3717544.00</td>\n",
              "    </tr>\n",
              "    <tr>\n",
              "      <th>75%</th>\n",
              "      <td>1885.89</td>\n",
              "      <td>1902.50</td>\n",
              "      <td>1866.02</td>\n",
              "      <td>1886.03</td>\n",
              "      <td>5185539.00</td>\n",
              "    </tr>\n",
              "    <tr>\n",
              "      <th>max</th>\n",
              "      <td>3547.00</td>\n",
              "      <td>3552.25</td>\n",
              "      <td>3486.68</td>\n",
              "      <td>3531.45</td>\n",
              "      <td>16552598.00</td>\n",
              "    </tr>\n",
              "  </tbody>\n",
              "</table>\n",
              "</div>"
            ],
            "text/plain": [
              "          Open     High      Low    Close       Volume\n",
              "count  1257.00  1257.00  1257.00  1257.00      1257.00\n",
              "mean   1563.18  1579.47  1544.48  1562.76   4297747.27\n",
              "std     748.35   758.52   736.13   747.35   2151940.46\n",
              "min     478.01   493.50   474.00   482.07    881337.00\n",
              "25%     899.63   903.65   890.28   898.28   2849491.00\n",
              "50%    1613.92  1626.00  1595.15  1610.15   3717544.00\n",
              "75%    1885.89  1902.50  1866.02  1886.03   5185539.00\n",
              "max    3547.00  3552.25  3486.68  3531.45  16552598.00"
            ]
          },
          "metadata": {
            "tags": []
          },
          "execution_count": 351
        }
      ]
    },
    {
      "cell_type": "code",
      "metadata": {
        "id": "RZ4GXWnoIBfH",
        "colab": {
          "base_uri": "https://localhost:8080/"
        },
        "outputId": "ed5a94cc-6fff-4ccc-906c-58a87d089b3d"
      },
      "source": [
        "df = df.dropna()\n",
        "df.isnull().sum()"
      ],
      "execution_count": 352,
      "outputs": [
        {
          "output_type": "execute_result",
          "data": {
            "text/plain": [
              "Open      0\n",
              "High      0\n",
              "Low       0\n",
              "Close     0\n",
              "Volume    0\n",
              "dtype: int64"
            ]
          },
          "metadata": {
            "tags": []
          },
          "execution_count": 352
        }
      ]
    },
    {
      "cell_type": "code",
      "metadata": {
        "id": "iWl50AUwPSlM"
      },
      "source": [
        "df = df.sort_index()"
      ],
      "execution_count": 353,
      "outputs": []
    },
    {
      "cell_type": "code",
      "metadata": {
        "colab": {
          "base_uri": "https://localhost:8080/"
        },
        "id": "95Y8dXsdJQsR",
        "outputId": "f4c437aa-e460-4b11-9edc-f0ce5d79e1b1"
      },
      "source": [
        "df.index"
      ],
      "execution_count": 354,
      "outputs": [
        {
          "output_type": "execute_result",
          "data": {
            "text/plain": [
              "DatetimeIndex(['2016-01-08', '2016-01-11', '2016-01-12', '2016-01-13',\n",
              "               '2016-01-14', '2016-01-15', '2016-01-19', '2016-01-20',\n",
              "               '2016-01-21', '2016-01-22',\n",
              "               ...\n",
              "               '2020-12-21', '2020-12-22', '2020-12-23', '2020-12-24',\n",
              "               '2020-12-28', '2020-12-29', '2020-12-30', '2020-12-31',\n",
              "               '2021-01-04', '2021-01-05'],\n",
              "              dtype='datetime64[ns]', name='Date', length=1257, freq=None)"
            ]
          },
          "metadata": {
            "tags": []
          },
          "execution_count": 354
        }
      ]
    },
    {
      "cell_type": "code",
      "metadata": {
        "id": "bQnOABmVTBTF",
        "colab": {
          "base_uri": "https://localhost:8080/"
        },
        "outputId": "dd4fe7cc-b178-4867-f948-a69a05eba90c"
      },
      "source": [
        "# ten wiersz df = df.reset_index() był ujęty w komentarz, ale wtedy był błąd\n",
        "# bo nie było kolumny df[\"Date\"] więc nie mógł działały linijki z tworzeniem\n",
        "# df_train i df_test \n",
        "# Po zresetowaniu indeksu nie będzie nim już cecha \"Date\" ale liczby 0,1,...,1256\n",
        "df = df.reset_index()\n",
        "print(df)\n",
        "print(df.index)\n",
        "df_train = df[df['Date'] < '2018-01-01']\n",
        "df_test = df[df['Date'] > '2018-01-01']"
      ],
      "execution_count": 355,
      "outputs": [
        {
          "output_type": "stream",
          "text": [
            "           Date     Open       High       Low    Close   Volume\n",
            "0    2016-01-08   619.66   624.1400   606.000   607.05  5238293\n",
            "1    2016-01-11   612.48   619.8500   598.570   617.74  4891551\n",
            "2    2016-01-12   625.25   625.9900   612.242   617.89  4094644\n",
            "3    2016-01-13   620.88   620.8800   579.160   581.81  5996350\n",
            "4    2016-01-14   580.25   602.2500   569.880   593.00  6069839\n",
            "...         ...      ...        ...       ...      ...      ...\n",
            "1252 2020-12-29  3309.94  3350.6500  3281.223  3322.00  4872933\n",
            "1253 2020-12-30  3341.00  3342.1000  3282.470  3285.85  3209310\n",
            "1254 2020-12-31  3275.00  3282.9219  3241.200  3256.93  2957206\n",
            "1255 2021-01-04  3270.00  3272.0000  3144.020  3186.63  4411449\n",
            "1256 2021-01-05  3166.01  3223.3800  3165.060  3218.51  2655548\n",
            "\n",
            "[1257 rows x 6 columns]\n",
            "RangeIndex(start=0, stop=1257, step=1)\n"
          ],
          "name": "stdout"
        }
      ]
    },
    {
      "cell_type": "code",
      "metadata": {
        "id": "hVYALwvVIL6P",
        "colab": {
          "base_uri": "https://localhost:8080/",
          "height": 560
        },
        "outputId": "81820b2b-f542-4f0b-a72b-709cbb14e2e5"
      },
      "source": [
        "close = df_train['Close']\n",
        "volume = df['Volume']\n",
        "\n",
        "import matplotlib.pyplot as plt\n",
        "import seaborn as sns\n",
        "sns.set()\n",
        "\n",
        "# sam powiększyłem rozmiar wykresu\n",
        "plt.figure(figsize=(16,12))\n",
        "plt.plot(df_train['Date'], close)\n",
        "plt.yscale('log')"
      ],
      "execution_count": 356,
      "outputs": [
        {
          "output_type": "display_data",
          "data": {
            "image/png": "[encoded data removed]",
            "text/plain": [
              "<Figure size 1152x864 with 1 Axes>"
            ]
          },
          "metadata": {
            "tags": []
          }
        }
      ]
    },
    {
      "cell_type": "code",
      "metadata": {
        "id": "BrJHQz9pPK-z",
        "colab": {
          "base_uri": "https://localhost:8080/"
        },
        "outputId": "9db37c34-4fc7-448f-e85b-a8a1aaa1fd7c"
      },
      "source": [
        "from sklearn.ensemble import RandomForestRegressor\n",
        "\n",
        "forest = RandomForestRegressor(n_estimators=30, min_samples_leaf=30)\n",
        "# zamienia kolumnę Date na tablicę z numpy, a potem zmienia jej kształt\n",
        "# żeby miała jedną kolumnę. W dokumentacji radzą to_numpy() zamiast values\n",
        "forest.fit(df_train['Date'].values.reshape(-1, 1), close)"
      ],
      "execution_count": 357,
      "outputs": [
        {
          "output_type": "execute_result",
          "data": {
            "text/plain": [
              "RandomForestRegressor(bootstrap=True, ccp_alpha=0.0, criterion='mse',\n",
              "                      max_depth=None, max_features='auto', max_leaf_nodes=None,\n",
              "                      max_samples=None, min_impurity_decrease=0.0,\n",
              "                      min_impurity_split=None, min_samples_leaf=30,\n",
              "                      min_samples_split=2, min_weight_fraction_leaf=0.0,\n",
              "                      n_estimators=30, n_jobs=None, oob_score=False,\n",
              "                      random_state=None, verbose=0, warm_start=False)"
            ]
          },
          "metadata": {
            "tags": []
          },
          "execution_count": 357
        }
      ]
    },
    {
      "cell_type": "code",
      "metadata": {
        "colab": {
          "base_uri": "https://localhost:8080/"
        },
        "id": "uW1TNEGADljI",
        "outputId": "61e1cd9f-0877-4653-92ad-87d170d7095c"
      },
      "source": [
        "# sam sprawdzam predykcję na zbiorze testowym\r\n",
        "forest.predict(df_test['Date'].values.reshape(-1, 1))[:10]"
      ],
      "execution_count": 358,
      "outputs": [
        {
          "output_type": "execute_result",
          "data": {
            "text/plain": [
              "array([1135.53362441, 1135.53362441, 1135.53362441, 1135.53362441,\n",
              "       1135.53362441, 1135.53362441, 1135.53362441, 1135.53362441,\n",
              "       1135.53362441, 1135.53362441])"
            ]
          },
          "metadata": {
            "tags": []
          },
          "execution_count": 358
        }
      ]
    },
    {
      "cell_type": "code",
      "metadata": {
        "colab": {
          "base_uri": "https://localhost:8080/"
        },
        "id": "xVf5VAyUFCLO",
        "outputId": "c351c0e9-0b6f-421d-f131-66a933ef7f85"
      },
      "source": [
        "# sam sprawdzam predykcję na zbiorze treningowym\r\n",
        "forest.predict(df_train['Date'].values.reshape(-1, 1))[:10]"
      ],
      "execution_count": 359,
      "outputs": [
        {
          "output_type": "execute_result",
          "data": {
            "text/plain": [
              "array([583.49009527, 583.49009527, 583.49009527, 583.49009527,\n",
              "       583.49009527, 583.49009527, 583.49009527, 583.49009527,\n",
              "       583.49009527, 583.49009527])"
            ]
          },
          "metadata": {
            "tags": []
          },
          "execution_count": 359
        }
      ]
    },
    {
      "cell_type": "code",
      "metadata": {
        "id": "TxHnN0KfRLUO",
        "colab": {
          "base_uri": "https://localhost:8080/",
          "height": 611
        },
        "outputId": "f38b3ae6-9e87-4bb6-f1a1-c4c8d50d1d24"
      },
      "source": [
        "plt.figure(figsize=(12, 10))\n",
        "# sam dodałem labele i legendę. \n",
        "# Czemu wykres dla test_predict jest poziomy?\n",
        "plt.plot(df_test['Date'], forest.predict(df_test['Date'].values.reshape(-1, 1)), label=\"test_predict\")\n",
        "plt.plot(df_train['Date'], close, label=\"train_true_data\")\n",
        "plt.plot(df_test['Date'], df_test['Close'], label=\"test_true_data\")\n",
        "plt.yscale('log')\n",
        "plt.legend()"
      ],
      "execution_count": 360,
      "outputs": [
        {
          "output_type": "execute_result",
          "data": {
            "text/plain": [
              "<matplotlib.legend.Legend at 0x7fbc70612be0>"
            ]
          },
          "metadata": {
            "tags": []
          },
          "execution_count": 360
        },
        {
          "output_type": "display_data",
          "data": {
            "image/png": "[encoded data removed]",
            "text/plain": [
              "<Figure size 864x720 with 1 Axes>"
            ]
          },
          "metadata": {
            "tags": []
          }
        }
      ]
    },
    {
      "cell_type": "code",
      "metadata": {
        "id": "mvmAKZW6R0jw",
        "colab": {
          "base_uri": "https://localhost:8080/"
        },
        "outputId": "3fbf7fc9-d484-419e-c79a-4560d10acc1f"
      },
      "source": [
        "# sam sprawdziłem score. Jest ujemny bo źle prognozuje\r\n",
        "forest.score(df_test['Date'].values.reshape(-1, 1), df_test[\"Close\"])"
      ],
      "execution_count": 361,
      "outputs": [
        {
          "output_type": "execute_result",
          "data": {
            "text/plain": [
              "-2.493310076666494"
            ]
          },
          "metadata": {
            "tags": []
          },
          "execution_count": 361
        }
      ]
    },
    {
      "cell_type": "code",
      "metadata": {
        "colab": {
          "base_uri": "https://localhost:8080/",
          "height": 605
        },
        "id": "_uAXV2-5JGMV",
        "outputId": "70b1ce00-e5e8-4214-f20f-0fd64290e394"
      },
      "source": [
        "# sam robię grid search\r\n",
        "from sklearn.model_selection import GridSearchCV\r\n",
        "from sklearn.ensemble import RandomForestRegressor\r\n",
        "\r\n",
        "\r\n",
        "param_grid = [{'n_estimators': range(1, 31),\r\n",
        "              'min_samples_leaf': [1, 2, 3, 4, 5, 6, 7, 10, 15, 30]}]\r\n",
        "\r\n",
        "reg = RandomForestRegressor()\r\n",
        "\r\n",
        "# metryka r kwadrat odejmuje prawdziwą wartość od przewidzianej,\r\n",
        "# potem podnosi do kwadratu i uśrednia (ona jest wariantem MSE)\r\n",
        "gs = GridSearchCV(reg, param_grid=param_grid, scoring='r2', n_jobs=-1)\r\n",
        "gs.fit(df_train['Date'].values.reshape(-1, 1), close)\r\n",
        "\r\n",
        "model = gs.best_estimator_\r\n",
        "print(model)\r\n",
        "print(\"Najlepsze parametry wybrane z param_grid\", gs.best_params_)\r\n",
        "print(\"Wynik\", gs.score(df_test['Date'].values.reshape(-1, 1), df_test[\"Close\"]))\r\n",
        "\r\n",
        "plt.figure(figsize=(12, 7))\r\n",
        "# sam dodałem labele i legendę. \r\n",
        "# Czemu nadal wykres dla test_predict jest poziomy (trochę wyżej niż poprzedni)?\r\n",
        "plt.plot(df_test['Date'], model.predict(df_test['Date'].values.reshape(-1, 1)), label=\"test_predict\")\r\n",
        "plt.plot(df_train['Date'], close, label=\"train_true_data\")\r\n",
        "plt.plot(df_test['Date'], df_test['Close'], label=\"test_true_data\")\r\n",
        "plt.yscale('log')\r\n",
        "plt.legend()"
      ],
      "execution_count": 362,
      "outputs": [
        {
          "output_type": "stream",
          "text": [
            "RandomForestRegressor(bootstrap=True, ccp_alpha=0.0, criterion='mse',\n",
            "                      max_depth=None, max_features='auto', max_leaf_nodes=None,\n",
            "                      max_samples=None, min_impurity_decrease=0.0,\n",
            "                      min_impurity_split=None, min_samples_leaf=5,\n",
            "                      min_samples_split=2, min_weight_fraction_leaf=0.0,\n",
            "                      n_estimators=2, n_jobs=None, oob_score=False,\n",
            "                      random_state=None, verbose=0, warm_start=False)\n",
            "Najlepsze parametry wybrane z param_grid {'min_samples_leaf': 5, 'n_estimators': 2}\n",
            "Wynik -2.256344119245335\n"
          ],
          "name": "stdout"
        },
        {
          "output_type": "execute_result",
          "data": {
            "text/plain": [
              "<matplotlib.legend.Legend at 0x7fbc6f02ac50>"
            ]
          },
          "metadata": {
            "tags": []
          },
          "execution_count": 362
        },
        {
          "output_type": "display_data",
          "data": {
            "image/png": "[encoded data removed]",
            "text/plain": [
              "<Figure size 864x504 with 1 Axes>"
            ]
          },
          "metadata": {
            "tags": []
          }
        }
      ]
    },
    {
      "cell_type": "code",
      "metadata": {
        "id": "4_kzfbX2lgoL"
      },
      "source": [
        "# to nie działa bo wyskakuje\r\n",
        "# AttributeError: 'RandomForestRegressor' object has no attribute 'tree_'\r\n",
        "\r\n",
        "# from sklearn.tree import export_graphviz\r\n",
        "# from sklearn.externals.six import StringIO\r\n",
        "# from IPython.display import Image\r\n",
        "# import pydotplus\r\n",
        "\r\n",
        "# dot_data = StringIO()\r\n",
        "# export_graphviz(model, out_file=dot_data,\r\n",
        "#                filled=True, rounded=True,\r\n",
        "#                special_characters=True,\r\n",
        "#                feature_names=['first'],\r\n",
        "#                class_names=[1, 0])\r\n",
        "# graph = pydotplus.graph_from_dot_data(dot_data.getvalue())\r\n",
        "# graph.write_png('graph.png')\r\n",
        "# Image(graph.create_png())"
      ],
      "execution_count": 363,
      "outputs": []
    }
  ]
}