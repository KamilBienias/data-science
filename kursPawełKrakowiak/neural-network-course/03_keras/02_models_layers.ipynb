{
  "nbformat": 4,
  "nbformat_minor": 0,
  "metadata": {
    "colab": {
      "name": "02_models_layers.ipynb",
      "provenance": [],
      "collapsed_sections": [],
      "include_colab_link": true
    },
    "kernelspec": {
      "name": "python3",
      "display_name": "Python 3"
    }
  },
  "cells": [
    {
      "cell_type": "markdown",
      "metadata": {
        "id": "view-in-github",
        "colab_type": "text"
      },
      "source": [
        "<a href=\"https://colab.research.google.com/github/KamilBienias/data-science/blob/main/kursPawe%C5%82Krakowiak/neural-network-course/03_keras/02_models_layers.ipynb\" target=\"_parent\"><img src=\"https://colab.research.google.com/assets/colab-badge.svg\" alt=\"Open In Colab\"/></a>"
      ]
    },
    {
      "cell_type": "markdown",
      "metadata": {
        "id": "2pcjQyULGHOU"
      },
      "source": [
        "### Warstwy w bibliotece Keras"
      ]
    },
    {
      "cell_type": "code",
      "metadata": {
        "id": "ozTByixeE6qy",
        "colab": {
          "base_uri": "https://localhost:8080/",
          "height": 35
        },
        "outputId": "16fc50d3-7201-44bd-ca56-fd60d3a7d648"
      },
      "source": [
        "# ######################################################\n",
        "# Etap 7. Odcinek: Praca z modelami w bibliotece Keras cz. 2.\n",
        "\n",
        "%tensorflow_version 2.x\n",
        "import numpy as np\n",
        "import plotly.express as px\n",
        "\n",
        "import tensorflow as tf\n",
        "from tensorflow.keras.datasets.mnist import load_data\n",
        "from tensorflow.keras.models import Sequential\n",
        "from tensorflow.keras.layers import Flatten, Dense, Dropout\n",
        "tf.__version__"
      ],
      "execution_count": null,
      "outputs": [
        {
          "output_type": "execute_result",
          "data": {
            "application/vnd.google.colaboratory.intrinsic+json": {
              "type": "string"
            },
            "text/plain": [
              "'2.4.1'"
            ]
          },
          "metadata": {
            "tags": []
          },
          "execution_count": 1
        }
      ]
    },
    {
      "cell_type": "code",
      "metadata": {
        "id": "4dJSEcqtFhnA",
        "colab": {
          "base_uri": "https://localhost:8080/"
        },
        "outputId": "6f49ce2d-ded7-4824-9ec1-9541ef305e71"
      },
      "source": [
        "(X_train, y_train), (X_test, y_test) = load_data()"
      ],
      "execution_count": null,
      "outputs": [
        {
          "output_type": "stream",
          "text": [
            "Downloading data from https://storage.googleapis.com/tensorflow/tf-keras-datasets/mnist.npz\n",
            "11493376/11490434 [==============================] - 0s 0us/step\n"
          ],
          "name": "stdout"
        }
      ]
    },
    {
      "cell_type": "code",
      "metadata": {
        "id": "sJlywk6UFlBq",
        "colab": {
          "base_uri": "https://localhost:8080/"
        },
        "outputId": "1eebc771-6511-4132-e348-03842cd672f6"
      },
      "source": [
        "print(f'X_train shape: {X_train.shape}')\n",
        "print(f'y_train shape: {y_train.shape}')\n",
        "print(f'X_test shape: {X_test.shape}')\n",
        "print(f'y_test shape: {y_test.shape}')"
      ],
      "execution_count": null,
      "outputs": [
        {
          "output_type": "stream",
          "text": [
            "X_train shape: (60000, 28, 28)\n",
            "y_train shape: (60000,)\n",
            "X_test shape: (10000, 28, 28)\n",
            "y_test shape: (10000,)\n"
          ],
          "name": "stdout"
        }
      ]
    },
    {
      "cell_type": "code",
      "metadata": {
        "id": "JF5UVnaHFooz"
      },
      "source": [
        "# standaryzacja danych\n",
        "X_train = X_train / 255.\n",
        "X_test = X_test / 255."
      ],
      "execution_count": null,
      "outputs": []
    },
    {
      "cell_type": "code",
      "metadata": {
        "id": "8iWwV3QaFZGn",
        "colab": {
          "base_uri": "https://localhost:8080/"
        },
        "outputId": "35895be9-4692-4c74-cf26-c6aa54019030"
      },
      "source": [
        "model = Sequential()\n",
        "# warstwa Flatten wypłaszcza input i robi listę długości 784\n",
        "model.add(Flatten(input_shape=(28, 28)))\n",
        "model.add(Dense(units=128, activation='relu'))\n",
        "# warstwa Dropout służy do regularyzacji modelu,\n",
        "# bo gdy model złożony to może się przeuczyć.\n",
        "# Chcemy pominiąć 20% neuronów z obecnej warstwy Dense (przy każdej epoce losuje 20% i je odrzuca)\n",
        "model.add(Dropout(0.2))\n",
        "# 10 neuronów bo 10 klas\n",
        "model.add(Dense(units=10, activation='softmax'))\n",
        "\n",
        "# najpierw było optimizers ale był błąd\n",
        "model.compile(optimizer='adam',\n",
        "              # najpierw było loss='sparse_categorical_crossentropy'\n",
        "              loss='categorical_crossentropy',\n",
        "              metrics=['accuracy'])\n",
        "\n",
        "model.summary()"
      ],
      "execution_count": null,
      "outputs": [
        {
          "output_type": "stream",
          "text": [
            "Model: \"sequential\"\n",
            "_________________________________________________________________\n",
            "Layer (type)                 Output Shape              Param #   \n",
            "=================================================================\n",
            "flatten (Flatten)            (None, 784)               0         \n",
            "_________________________________________________________________\n",
            "dense (Dense)                (None, 128)               100480    \n",
            "_________________________________________________________________\n",
            "dropout (Dropout)            (None, 128)               0         \n",
            "_________________________________________________________________\n",
            "dense_1 (Dense)              (None, 10)                1290      \n",
            "=================================================================\n",
            "Total params: 101,770\n",
            "Trainable params: 101,770\n",
            "Non-trainable params: 0\n",
            "_________________________________________________________________\n"
          ],
          "name": "stdout"
        }
      ]
    },
    {
      "cell_type": "code",
      "metadata": {
        "colab": {
          "base_uri": "https://localhost:8080/"
        },
        "id": "Cuk3eIEySVAP",
        "outputId": "3a26e0ce-0c79-4aaf-ca33-469942265969"
      },
      "source": [
        "# to było na filmie\n",
        "from tensorflow.keras.utils import to_categorical\n",
        "y_train = to_categorical(y_train, num_classes=10)\n",
        "y_train"
      ],
      "execution_count": null,
      "outputs": [
        {
          "output_type": "execute_result",
          "data": {
            "text/plain": [
              "array([[0., 0., 0., ..., 0., 0., 0.],\n",
              "       [1., 0., 0., ..., 0., 0., 0.],\n",
              "       [0., 0., 0., ..., 0., 0., 0.],\n",
              "       ...,\n",
              "       [0., 0., 0., ..., 0., 0., 0.],\n",
              "       [0., 0., 0., ..., 0., 0., 0.],\n",
              "       [0., 0., 0., ..., 0., 1., 0.]], dtype=float32)"
            ]
          },
          "metadata": {
            "tags": []
          },
          "execution_count": 6
        }
      ]
    },
    {
      "cell_type": "code",
      "metadata": {
        "id": "din61ptDFZYE",
        "colab": {
          "base_uri": "https://localhost:8080/"
        },
        "outputId": "b10b93b5-e933-4c77-f5b1-217ef2ab80e8"
      },
      "source": [
        "model.fit(X_train, y_train, epochs=10, validation_split=0.2, batch_size=32)"
      ],
      "execution_count": null,
      "outputs": [
        {
          "output_type": "stream",
          "text": [
            "Epoch 1/10\n",
            "1500/1500 [==============================] - 4s 2ms/step - loss: 0.5322 - accuracy: 0.8429 - val_loss: 0.1606 - val_accuracy: 0.9542\n",
            "Epoch 2/10\n",
            "1500/1500 [==============================] - 3s 2ms/step - loss: 0.1641 - accuracy: 0.9512 - val_loss: 0.1181 - val_accuracy: 0.9662\n",
            "Epoch 3/10\n",
            "1500/1500 [==============================] - 3s 2ms/step - loss: 0.1174 - accuracy: 0.9629 - val_loss: 0.1036 - val_accuracy: 0.9696\n",
            "Epoch 4/10\n",
            "1500/1500 [==============================] - 3s 2ms/step - loss: 0.0919 - accuracy: 0.9726 - val_loss: 0.0967 - val_accuracy: 0.9723\n",
            "Epoch 5/10\n",
            "1500/1500 [==============================] - 3s 2ms/step - loss: 0.0756 - accuracy: 0.9763 - val_loss: 0.0860 - val_accuracy: 0.9749\n",
            "Epoch 6/10\n",
            "1500/1500 [==============================] - 3s 2ms/step - loss: 0.0658 - accuracy: 0.9801 - val_loss: 0.0806 - val_accuracy: 0.9761\n",
            "Epoch 7/10\n",
            "1500/1500 [==============================] - 3s 2ms/step - loss: 0.0608 - accuracy: 0.9809 - val_loss: 0.0765 - val_accuracy: 0.9783\n",
            "Epoch 8/10\n",
            "1500/1500 [==============================] - 3s 2ms/step - loss: 0.0540 - accuracy: 0.9816 - val_loss: 0.0780 - val_accuracy: 0.9795\n",
            "Epoch 9/10\n",
            "1500/1500 [==============================] - 3s 2ms/step - loss: 0.0484 - accuracy: 0.9845 - val_loss: 0.0822 - val_accuracy: 0.9766\n",
            "Epoch 10/10\n",
            "1500/1500 [==============================] - 3s 2ms/step - loss: 0.0457 - accuracy: 0.9849 - val_loss: 0.0841 - val_accuracy: 0.9778\n"
          ],
          "name": "stdout"
        },
        {
          "output_type": "execute_result",
          "data": {
            "text/plain": [
              "<tensorflow.python.keras.callbacks.History at 0x7f38bc4ac908>"
            ]
          },
          "metadata": {
            "tags": []
          },
          "execution_count": 7
        }
      ]
    },
    {
      "cell_type": "markdown",
      "metadata": {
        "id": "GUMtejHELNzA"
      },
      "source": [
        "### Model"
      ]
    },
    {
      "cell_type": "code",
      "metadata": {
        "id": "a8_6klaXFy4e",
        "colab": {
          "base_uri": "https://localhost:8080/"
        },
        "outputId": "174eaa58-bbf5-468d-84bc-d6f81f7eb5b9"
      },
      "source": [
        "# lista warstw w modelu\n",
        "model.layers"
      ],
      "execution_count": null,
      "outputs": [
        {
          "output_type": "execute_result",
          "data": {
            "text/plain": [
              "[<tensorflow.python.keras.layers.core.Flatten at 0x7f38fa246d30>,\n",
              " <tensorflow.python.keras.layers.core.Dense at 0x7f38fa246c18>,\n",
              " <tensorflow.python.keras.layers.core.Dropout at 0x7f38fa1c8b70>,\n",
              " <tensorflow.python.keras.layers.core.Dense at 0x7f38fa1ca5c0>]"
            ]
          },
          "metadata": {
            "tags": []
          },
          "execution_count": 8
        }
      ]
    },
    {
      "cell_type": "code",
      "metadata": {
        "id": "RH5-flGeGE65",
        "colab": {
          "base_uri": "https://localhost:8080/"
        },
        "outputId": "03a04bee-b495-449f-8dd9-8fb1094c60f6"
      },
      "source": [
        "# lista tensorów wejściowych do modelu\n",
        "# tensor ma wymiary 28 na 28, bo pierwszy parametr None to ilość próbek w zbiorze,\n",
        "# czyli 60000 w zbiorze treningowym\n",
        "model.inputs"
      ],
      "execution_count": null,
      "outputs": [
        {
          "output_type": "execute_result",
          "data": {
            "text/plain": [
              "[<KerasTensor: shape=(None, 28, 28) dtype=float32 (created by layer 'flatten_input')>]"
            ]
          },
          "metadata": {
            "tags": []
          },
          "execution_count": 9
        }
      ]
    },
    {
      "cell_type": "code",
      "metadata": {
        "id": "IQUNt0jBGOEo",
        "colab": {
          "base_uri": "https://localhost:8080/"
        },
        "outputId": "fb8c185c-1ce5-459e-f62e-bc5afb68cc0d"
      },
      "source": [
        "# lista tensorów wyjściowych z modelu\n",
        "# 10 bo 10 klas\n",
        "model.outputs"
      ],
      "execution_count": null,
      "outputs": [
        {
          "output_type": "execute_result",
          "data": {
            "text/plain": [
              "[<KerasTensor: shape=(None, 10) dtype=float32 (created by layer 'dense_1')>]"
            ]
          },
          "metadata": {
            "tags": []
          },
          "execution_count": 10
        }
      ]
    },
    {
      "cell_type": "code",
      "metadata": {
        "id": "YndooAmHGde4",
        "colab": {
          "base_uri": "https://localhost:8080/"
        },
        "outputId": "4a498f5f-0517-476a-fd58-a1973ce71d0a"
      },
      "source": [
        "# słownik zwierający konfigurację modelu\n",
        "model.get_config()"
      ],
      "execution_count": null,
      "outputs": [
        {
          "output_type": "execute_result",
          "data": {
            "text/plain": [
              "{'layers': [{'class_name': 'InputLayer',\n",
              "   'config': {'batch_input_shape': (None, 28, 28),\n",
              "    'dtype': 'float32',\n",
              "    'name': 'flatten_input',\n",
              "    'ragged': False,\n",
              "    'sparse': False}},\n",
              "  {'class_name': 'Flatten',\n",
              "   'config': {'batch_input_shape': (None, 28, 28),\n",
              "    'data_format': 'channels_last',\n",
              "    'dtype': 'float32',\n",
              "    'name': 'flatten',\n",
              "    'trainable': True}},\n",
              "  {'class_name': 'Dense',\n",
              "   'config': {'activation': 'relu',\n",
              "    'activity_regularizer': None,\n",
              "    'bias_constraint': None,\n",
              "    'bias_initializer': {'class_name': 'Zeros', 'config': {}},\n",
              "    'bias_regularizer': None,\n",
              "    'dtype': 'float32',\n",
              "    'kernel_constraint': None,\n",
              "    'kernel_initializer': {'class_name': 'GlorotUniform',\n",
              "     'config': {'seed': None}},\n",
              "    'kernel_regularizer': None,\n",
              "    'name': 'dense',\n",
              "    'trainable': True,\n",
              "    'units': 128,\n",
              "    'use_bias': True}},\n",
              "  {'class_name': 'Dropout',\n",
              "   'config': {'dtype': 'float32',\n",
              "    'name': 'dropout',\n",
              "    'noise_shape': None,\n",
              "    'rate': 0.2,\n",
              "    'seed': None,\n",
              "    'trainable': True}},\n",
              "  {'class_name': 'Dense',\n",
              "   'config': {'activation': 'softmax',\n",
              "    'activity_regularizer': None,\n",
              "    'bias_constraint': None,\n",
              "    'bias_initializer': {'class_name': 'Zeros', 'config': {}},\n",
              "    'bias_regularizer': None,\n",
              "    'dtype': 'float32',\n",
              "    'kernel_constraint': None,\n",
              "    'kernel_initializer': {'class_name': 'GlorotUniform',\n",
              "     'config': {'seed': None}},\n",
              "    'kernel_regularizer': None,\n",
              "    'name': 'dense_1',\n",
              "    'trainable': True,\n",
              "    'units': 10,\n",
              "    'use_bias': True}}],\n",
              " 'name': 'sequential'}"
            ]
          },
          "metadata": {
            "tags": []
          },
          "execution_count": 11
        }
      ]
    },
    {
      "cell_type": "code",
      "metadata": {
        "id": "fy3UQ-YkGlK6",
        "colab": {
          "base_uri": "https://localhost:8080/"
        },
        "outputId": "92ccbc75-80f7-4302-f6ea-927cafa089c5"
      },
      "source": [
        "# lista wszystkich tensorów wag\n",
        "# wagi wytrenowane\n",
        "model.get_weights()"
      ],
      "execution_count": null,
      "outputs": [
        {
          "output_type": "execute_result",
          "data": {
            "text/plain": [
              "[array([[-0.01967241,  0.05615553,  0.05983103, ..., -0.00128789,\n",
              "          0.05945117,  0.0727256 ],\n",
              "        [ 0.01169319, -0.04253736,  0.02578551, ..., -0.00692762,\n",
              "         -0.08075635,  0.00560265],\n",
              "        [ 0.01848761, -0.05349627, -0.03585329, ..., -0.0649955 ,\n",
              "         -0.06342903, -0.0308286 ],\n",
              "        ...,\n",
              "        [-0.00277356, -0.05385303,  0.04051745, ..., -0.0016587 ,\n",
              "         -0.03673815, -0.04995334],\n",
              "        [ 0.04620592,  0.01421145,  0.01693546, ...,  0.00490852,\n",
              "         -0.0649741 ,  0.03665233],\n",
              "        [ 0.0552518 ,  0.07444712,  0.02950458, ...,  0.0809646 ,\n",
              "         -0.05964206, -0.01893767]], dtype=float32),\n",
              " array([-9.52978134e-02,  8.80560428e-02,  1.48597419e-01,  5.68890907e-02,\n",
              "         3.57601941e-01, -7.66510814e-02,  1.82228580e-01, -1.85984354e-02,\n",
              "         1.45568654e-01,  2.80583240e-02,  5.62554821e-02,  1.92369241e-02,\n",
              "         1.55804053e-01, -2.10287794e-01,  1.29075497e-01,  6.09799959e-02,\n",
              "         1.09897114e-01,  1.29530758e-01, -1.37340399e-02, -2.79300749e-01,\n",
              "         1.10995136e-01, -1.89678431e-01,  1.21653870e-01,  8.40874538e-02,\n",
              "        -4.70233113e-02,  7.33812377e-02, -8.88774097e-02, -2.80616782e-03,\n",
              "         2.39200033e-02, -1.55470315e-02, -1.74320102e-01, -4.09131590e-03,\n",
              "         1.39837101e-01, -1.66865587e-01, -9.79801118e-02, -1.38311358e-02,\n",
              "         1.63443252e-01,  1.41877815e-01, -3.17903645e-02,  7.90704489e-02,\n",
              "        -5.44364378e-02,  4.00176793e-02, -9.58930105e-02,  6.25213087e-02,\n",
              "         7.30466917e-02, -1.84413157e-02, -1.57462597e-01, -3.20771933e-02,\n",
              "        -9.39404517e-02,  1.67820826e-02, -5.59538323e-03, -3.00609303e-04,\n",
              "         3.55998613e-02,  2.10014075e-01, -1.37212515e-01, -1.19459510e-01,\n",
              "        -5.46755791e-02,  9.70032737e-02,  1.51281044e-01, -9.44314618e-03,\n",
              "        -3.56719345e-02,  1.70585215e-01,  1.41709387e-01,  5.40002203e-03,\n",
              "        -1.33819684e-01, -9.53862667e-02, -9.12517384e-02,  2.08516661e-02,\n",
              "         3.10650587e-01, -3.20699736e-02, -9.55080763e-02,  5.48422262e-02,\n",
              "        -2.27927566e-01,  3.49655151e-02,  1.22379489e-01,  1.52227029e-01,\n",
              "        -1.11478105e-01,  1.29067257e-01, -6.92192614e-02,  1.24108016e-01,\n",
              "         5.49182482e-02, -1.35425061e-01, -2.07424551e-01,  9.86668840e-02,\n",
              "        -1.22956568e-02,  3.02864581e-01,  7.25393817e-02, -6.87252358e-02,\n",
              "         1.49795040e-01, -7.67652616e-02, -8.28762073e-03,  4.52573821e-02,\n",
              "        -7.22931251e-02, -1.27384648e-01,  2.29957387e-01,  7.57680014e-02,\n",
              "         2.17878614e-02, -6.24656864e-02, -1.16005637e-01,  4.47293334e-02,\n",
              "         1.37014737e-04,  1.51762292e-01,  6.67382404e-02,  4.90130521e-02,\n",
              "         4.48801778e-02,  1.99351758e-01, -7.71370903e-02,  1.92599803e-01,\n",
              "        -9.55087543e-02, -1.13722146e-03, -1.53594166e-01,  2.11128026e-01,\n",
              "         9.88461226e-02, -1.35572493e-01, -6.48611113e-02,  8.49243701e-02,\n",
              "        -7.48007298e-02,  5.84581122e-02, -2.61548329e-02, -7.77348205e-02,\n",
              "         9.17194784e-02,  9.44369063e-02, -9.21230540e-02,  3.55209038e-02,\n",
              "         4.29754816e-02, -8.09995532e-02,  4.97692078e-02,  7.32048154e-02],\n",
              "       dtype=float32),\n",
              " array([[-0.4597703 , -0.24555416,  0.18034431, ...,  0.08730388,\n",
              "         -0.07879536,  0.29957473],\n",
              "        [-0.22887374,  0.17501628, -0.16023315, ...,  0.317411  ,\n",
              "         -0.27122867,  0.12917086],\n",
              "        [-0.26016733,  0.21209186, -0.44457608, ..., -0.01032571,\n",
              "          0.2156383 ,  0.19371901],\n",
              "        ...,\n",
              "        [ 0.09760343, -0.02709004,  0.07120042, ...,  0.10906268,\n",
              "          0.02271188,  0.14711443],\n",
              "        [-0.4401939 ,  0.40898508, -0.7179593 , ...,  0.07153813,\n",
              "         -0.32470506,  0.09147186],\n",
              "        [ 0.27256465, -0.05781014, -0.38611546, ..., -0.75244933,\n",
              "          0.15941915, -0.503977  ]], dtype=float32),\n",
              " array([-0.03741146, -0.09503371, -0.20318592, -0.09582417,  0.14175126,\n",
              "        -0.08884341,  0.05358405, -0.0095736 ,  0.27823168,  0.00342525],\n",
              "       dtype=float32)]"
            ]
          },
          "metadata": {
            "tags": []
          },
          "execution_count": 12
        }
      ]
    },
    {
      "cell_type": "code",
      "metadata": {
        "id": "SXEvl0IIG0J8",
        "colab": {
          "base_uri": "https://localhost:8080/"
        },
        "outputId": "4cb069b4-ea55-4f1c-8467-c9ebf9eaa3f2"
      },
      "source": [
        "# rozmiar wag pierwszej tablicy\n",
        "# Wprowadzamy obrazek 28x28=784 - to po zastosowaniu warstwy Flatten.\n",
        "# Natomiast w warstwie Dense jest 128 ukrytych neuronów.\n",
        "model.get_weights()[0].shape"
      ],
      "execution_count": null,
      "outputs": [
        {
          "output_type": "execute_result",
          "data": {
            "text/plain": [
              "(784, 128)"
            ]
          },
          "metadata": {
            "tags": []
          },
          "execution_count": 13
        }
      ]
    },
    {
      "cell_type": "code",
      "metadata": {
        "id": "rA7tCjJ9HBna",
        "colab": {
          "base_uri": "https://localhost:8080/"
        },
        "outputId": "66aac8c6-bc33-412e-ed48-bff819d5da79"
      },
      "source": [
        "# tu z Dense idzie do Dropout, więc wymiar zostaje\n",
        "model.get_weights()[1].shape"
      ],
      "execution_count": null,
      "outputs": [
        {
          "output_type": "execute_result",
          "data": {
            "text/plain": [
              "(128,)"
            ]
          },
          "metadata": {
            "tags": []
          },
          "execution_count": 14
        }
      ]
    },
    {
      "cell_type": "code",
      "metadata": {
        "id": "T0J_y0KpHD1Z",
        "colab": {
          "base_uri": "https://localhost:8080/"
        },
        "outputId": "ad0adf24-7c53-41c1-f1ab-014f4c8b8ad3"
      },
      "source": [
        "# po Dropout jest Dense, która ma 10 neuronów wynikowych\n",
        "model.get_weights()[2].shape"
      ],
      "execution_count": null,
      "outputs": [
        {
          "output_type": "execute_result",
          "data": {
            "text/plain": [
              "(128, 10)"
            ]
          },
          "metadata": {
            "tags": []
          },
          "execution_count": 15
        }
      ]
    },
    {
      "cell_type": "code",
      "metadata": {
        "id": "_WfJ59IYHFdE",
        "colab": {
          "base_uri": "https://localhost:8080/"
        },
        "outputId": "ab5a54c2-11de-49d6-da31-3de87e3190b6"
      },
      "source": [
        "# rozmiar outputu\n",
        "model.get_weights()[3].shape"
      ],
      "execution_count": null,
      "outputs": [
        {
          "output_type": "execute_result",
          "data": {
            "text/plain": [
              "(10,)"
            ]
          },
          "metadata": {
            "tags": []
          },
          "execution_count": 16
        }
      ]
    },
    {
      "cell_type": "markdown",
      "metadata": {
        "id": "3ATjZrQXIKvx"
      },
      "source": [
        "### *to_json()*"
      ]
    },
    {
      "cell_type": "code",
      "metadata": {
        "id": "J0WKD-HKHHtM",
        "colab": {
          "base_uri": "https://localhost:8080/"
        },
        "outputId": "ada62bc0-f7b9-461d-f0c5-0f958fbde296"
      },
      "source": [
        "# zapis do json\n",
        "model_json = model.to_json()\n",
        "\n",
        "import json\n",
        "parsed = json.loads(model_json)\n",
        "print(json.dumps(parsed, indent=4))"
      ],
      "execution_count": null,
      "outputs": [
        {
          "output_type": "stream",
          "text": [
            "{\n",
            "    \"class_name\": \"Sequential\",\n",
            "    \"config\": {\n",
            "        \"name\": \"sequential\",\n",
            "        \"layers\": [\n",
            "            {\n",
            "                \"class_name\": \"InputLayer\",\n",
            "                \"config\": {\n",
            "                    \"batch_input_shape\": [\n",
            "                        null,\n",
            "                        28,\n",
            "                        28\n",
            "                    ],\n",
            "                    \"dtype\": \"float32\",\n",
            "                    \"sparse\": false,\n",
            "                    \"ragged\": false,\n",
            "                    \"name\": \"flatten_input\"\n",
            "                }\n",
            "            },\n",
            "            {\n",
            "                \"class_name\": \"Flatten\",\n",
            "                \"config\": {\n",
            "                    \"name\": \"flatten\",\n",
            "                    \"trainable\": true,\n",
            "                    \"batch_input_shape\": [\n",
            "                        null,\n",
            "                        28,\n",
            "                        28\n",
            "                    ],\n",
            "                    \"dtype\": \"float32\",\n",
            "                    \"data_format\": \"channels_last\"\n",
            "                }\n",
            "            },\n",
            "            {\n",
            "                \"class_name\": \"Dense\",\n",
            "                \"config\": {\n",
            "                    \"name\": \"dense\",\n",
            "                    \"trainable\": true,\n",
            "                    \"dtype\": \"float32\",\n",
            "                    \"units\": 128,\n",
            "                    \"activation\": \"relu\",\n",
            "                    \"use_bias\": true,\n",
            "                    \"kernel_initializer\": {\n",
            "                        \"class_name\": \"GlorotUniform\",\n",
            "                        \"config\": {\n",
            "                            \"seed\": null\n",
            "                        }\n",
            "                    },\n",
            "                    \"bias_initializer\": {\n",
            "                        \"class_name\": \"Zeros\",\n",
            "                        \"config\": {}\n",
            "                    },\n",
            "                    \"kernel_regularizer\": null,\n",
            "                    \"bias_regularizer\": null,\n",
            "                    \"activity_regularizer\": null,\n",
            "                    \"kernel_constraint\": null,\n",
            "                    \"bias_constraint\": null\n",
            "                }\n",
            "            },\n",
            "            {\n",
            "                \"class_name\": \"Dropout\",\n",
            "                \"config\": {\n",
            "                    \"name\": \"dropout\",\n",
            "                    \"trainable\": true,\n",
            "                    \"dtype\": \"float32\",\n",
            "                    \"rate\": 0.2,\n",
            "                    \"noise_shape\": null,\n",
            "                    \"seed\": null\n",
            "                }\n",
            "            },\n",
            "            {\n",
            "                \"class_name\": \"Dense\",\n",
            "                \"config\": {\n",
            "                    \"name\": \"dense_1\",\n",
            "                    \"trainable\": true,\n",
            "                    \"dtype\": \"float32\",\n",
            "                    \"units\": 10,\n",
            "                    \"activation\": \"softmax\",\n",
            "                    \"use_bias\": true,\n",
            "                    \"kernel_initializer\": {\n",
            "                        \"class_name\": \"GlorotUniform\",\n",
            "                        \"config\": {\n",
            "                            \"seed\": null\n",
            "                        }\n",
            "                    },\n",
            "                    \"bias_initializer\": {\n",
            "                        \"class_name\": \"Zeros\",\n",
            "                        \"config\": {}\n",
            "                    },\n",
            "                    \"kernel_regularizer\": null,\n",
            "                    \"bias_regularizer\": null,\n",
            "                    \"activity_regularizer\": null,\n",
            "                    \"kernel_constraint\": null,\n",
            "                    \"bias_constraint\": null\n",
            "                }\n",
            "            }\n",
            "        ]\n",
            "    },\n",
            "    \"keras_version\": \"2.4.0\",\n",
            "    \"backend\": \"tensorflow\"\n",
            "}\n"
          ],
          "name": "stdout"
        }
      ]
    },
    {
      "cell_type": "code",
      "metadata": {
        "id": "tSNM-VzWHl37",
        "colab": {
          "base_uri": "https://localhost:8080/"
        },
        "outputId": "8b143f26-033b-4b0f-e851-3a4e69556cff"
      },
      "source": [
        "from tensorflow.keras.models import model_from_json\n",
        "\n",
        "# model z pliku json\n",
        "model2 = model_from_json(model_json)\n",
        "model2.summary()"
      ],
      "execution_count": null,
      "outputs": [
        {
          "output_type": "stream",
          "text": [
            "Model: \"sequential\"\n",
            "_________________________________________________________________\n",
            "Layer (type)                 Output Shape              Param #   \n",
            "=================================================================\n",
            "flatten (Flatten)            (None, 784)               0         \n",
            "_________________________________________________________________\n",
            "dense (Dense)                (None, 128)               100480    \n",
            "_________________________________________________________________\n",
            "dropout (Dropout)            (None, 128)               0         \n",
            "_________________________________________________________________\n",
            "dense_1 (Dense)              (None, 10)                1290      \n",
            "=================================================================\n",
            "Total params: 101,770\n",
            "Trainable params: 101,770\n",
            "Non-trainable params: 0\n",
            "_________________________________________________________________\n"
          ],
          "name": "stdout"
        }
      ]
    },
    {
      "cell_type": "markdown",
      "metadata": {
        "id": "lfP7uGlIIlQ1"
      },
      "source": [
        "### *to_yaml()*"
      ]
    },
    {
      "cell_type": "code",
      "metadata": {
        "id": "tgbTFbJvIHMR",
        "colab": {
          "base_uri": "https://localhost:8080/"
        },
        "outputId": "9ca58833-d176-4aeb-d47b-cbaca072c020"
      },
      "source": [
        "model_yaml = model.to_yaml()\n",
        "print(model_yaml)"
      ],
      "execution_count": null,
      "outputs": [
        {
          "output_type": "stream",
          "text": [
            "backend: tensorflow\n",
            "class_name: Sequential\n",
            "config:\n",
            "  layers:\n",
            "  - class_name: InputLayer\n",
            "    config:\n",
            "      batch_input_shape: !!python/tuple [null, 28, 28]\n",
            "      dtype: float32\n",
            "      name: flatten_input\n",
            "      ragged: false\n",
            "      sparse: false\n",
            "  - class_name: Flatten\n",
            "    config:\n",
            "      batch_input_shape: !!python/tuple [null, 28, 28]\n",
            "      data_format: channels_last\n",
            "      dtype: float32\n",
            "      name: flatten\n",
            "      trainable: true\n",
            "  - class_name: Dense\n",
            "    config:\n",
            "      activation: relu\n",
            "      activity_regularizer: null\n",
            "      bias_constraint: null\n",
            "      bias_initializer:\n",
            "        class_name: Zeros\n",
            "        config: {}\n",
            "      bias_regularizer: null\n",
            "      dtype: float32\n",
            "      kernel_constraint: null\n",
            "      kernel_initializer:\n",
            "        class_name: GlorotUniform\n",
            "        config: {seed: null}\n",
            "      kernel_regularizer: null\n",
            "      name: dense\n",
            "      trainable: true\n",
            "      units: 128\n",
            "      use_bias: true\n",
            "  - class_name: Dropout\n",
            "    config: {dtype: float32, name: dropout, noise_shape: null, rate: 0.2, seed: null,\n",
            "      trainable: true}\n",
            "  - class_name: Dense\n",
            "    config:\n",
            "      activation: softmax\n",
            "      activity_regularizer: null\n",
            "      bias_constraint: null\n",
            "      bias_initializer:\n",
            "        class_name: Zeros\n",
            "        config: {}\n",
            "      bias_regularizer: null\n",
            "      dtype: float32\n",
            "      kernel_constraint: null\n",
            "      kernel_initializer:\n",
            "        class_name: GlorotUniform\n",
            "        config: {seed: null}\n",
            "      kernel_regularizer: null\n",
            "      name: dense_1\n",
            "      trainable: true\n",
            "      units: 10\n",
            "      use_bias: true\n",
            "  name: sequential\n",
            "keras_version: 2.4.0\n",
            "\n"
          ],
          "name": "stdout"
        }
      ]
    },
    {
      "cell_type": "code",
      "metadata": {
        "id": "rG2Ax0YhISvw",
        "colab": {
          "base_uri": "https://localhost:8080/"
        },
        "outputId": "625a872e-910e-480f-8028-b351d6a800f6"
      },
      "source": [
        "from tensorflow.keras.models import model_from_yaml\n",
        "\n",
        "model3 = model_from_yaml(model_yaml)\n",
        "model3.summary()"
      ],
      "execution_count": null,
      "outputs": [
        {
          "output_type": "stream",
          "text": [
            "Model: \"sequential\"\n",
            "_________________________________________________________________\n",
            "Layer (type)                 Output Shape              Param #   \n",
            "=================================================================\n",
            "flatten (Flatten)            (None, 784)               0         \n",
            "_________________________________________________________________\n",
            "dense (Dense)                (None, 128)               100480    \n",
            "_________________________________________________________________\n",
            "dropout (Dropout)            (None, 128)               0         \n",
            "_________________________________________________________________\n",
            "dense_1 (Dense)              (None, 10)                1290      \n",
            "=================================================================\n",
            "Total params: 101,770\n",
            "Trainable params: 101,770\n",
            "Non-trainable params: 0\n",
            "_________________________________________________________________\n"
          ],
          "name": "stdout"
        }
      ]
    },
    {
      "cell_type": "markdown",
      "metadata": {
        "id": "euHeJdPILRFf"
      },
      "source": [
        "### Warstwy"
      ]
    },
    {
      "cell_type": "code",
      "metadata": {
        "id": "zldniNPzIjhf",
        "colab": {
          "base_uri": "https://localhost:8080/"
        },
        "outputId": "4311903c-c2d3-41c9-89e4-6ce1678dd7a2"
      },
      "source": [
        "# ######################################################\n",
        "# Etap 7. Odcinek: Praca z warstwami w bibliotece Keras.\n",
        "\n",
        "# wycina element [1] z model.layers i przypisuje do zmiennej dense_layer\n",
        "dense_layer = model.layers[1]\n",
        "dense_layer"
      ],
      "execution_count": null,
      "outputs": [
        {
          "output_type": "execute_result",
          "data": {
            "text/plain": [
              "<tensorflow.python.keras.layers.core.Dense at 0x7f38fa246c18>"
            ]
          },
          "metadata": {
            "tags": []
          },
          "execution_count": 21
        }
      ]
    },
    {
      "cell_type": "code",
      "metadata": {
        "id": "li1Mrwh9LXsd",
        "colab": {
          "base_uri": "https://localhost:8080/"
        },
        "outputId": "469e0b3e-435a-45bb-a1f9-40114dfc26ea"
      },
      "source": [
        "# atrybut input, który zwraca tensor wchodzący do tej warstwy, jego wymiar i typ danych\n",
        "dense_layer.input"
      ],
      "execution_count": null,
      "outputs": [
        {
          "output_type": "execute_result",
          "data": {
            "text/plain": [
              "<KerasTensor: shape=(None, 784) dtype=float32 (created by layer 'flatten')>"
            ]
          },
          "metadata": {
            "tags": []
          },
          "execution_count": 22
        }
      ]
    },
    {
      "cell_type": "code",
      "metadata": {
        "id": "KKpD9adNLoeM",
        "colab": {
          "base_uri": "https://localhost:8080/"
        },
        "outputId": "fa430aa3-cdb0-4cfd-82d5-7b813672e4e6"
      },
      "source": [
        "# atrybut input_spape zwraca tylko wymiar\n",
        "dense_layer.input_shape"
      ],
      "execution_count": null,
      "outputs": [
        {
          "output_type": "execute_result",
          "data": {
            "text/plain": [
              "(None, 784)"
            ]
          },
          "metadata": {
            "tags": []
          },
          "execution_count": 23
        }
      ]
    },
    {
      "cell_type": "code",
      "metadata": {
        "id": "qGUY5sE2LmJO",
        "colab": {
          "base_uri": "https://localhost:8080/"
        },
        "outputId": "4fff34c9-bc16-4f34-e29f-d94d5967fa83"
      },
      "source": [
        "dense_layer.output"
      ],
      "execution_count": null,
      "outputs": [
        {
          "output_type": "execute_result",
          "data": {
            "text/plain": [
              "<KerasTensor: shape=(None, 128) dtype=float32 (created by layer 'dense')>"
            ]
          },
          "metadata": {
            "tags": []
          },
          "execution_count": 24
        }
      ]
    },
    {
      "cell_type": "code",
      "metadata": {
        "id": "v2G4HnU_LtUU",
        "colab": {
          "base_uri": "https://localhost:8080/"
        },
        "outputId": "71773837-ac03-47fc-9426-c3e23f93d7f4"
      },
      "source": [
        "dense_layer.output_shape"
      ],
      "execution_count": null,
      "outputs": [
        {
          "output_type": "execute_result",
          "data": {
            "text/plain": [
              "(None, 128)"
            ]
          },
          "metadata": {
            "tags": []
          },
          "execution_count": 25
        }
      ]
    },
    {
      "cell_type": "code",
      "metadata": {
        "id": "C8i_OrOPXunH",
        "colab": {
          "base_uri": "https://localhost:8080/"
        },
        "outputId": "8fc7cc07-3c51-44b4-a723-cd864c52a711"
      },
      "source": [
        "# True oznacza że warstwa jest wskazana do uczenia się.\n",
        "# U nas wszystkie warstwy się trenują (nic nie zamrażaliśmy)\n",
        "dense_layer.trainable"
      ],
      "execution_count": null,
      "outputs": [
        {
          "output_type": "execute_result",
          "data": {
            "text/plain": [
              "True"
            ]
          },
          "metadata": {
            "tags": []
          },
          "execution_count": 26
        }
      ]
    },
    {
      "cell_type": "markdown",
      "metadata": {
        "id": "JvlEFDUxM3k1"
      },
      "source": [
        "### Podstawowe rodzaje warstw\n",
        "* **Dense** - warstwa gęsto połączona, wynik operacji $output = activation(dot(input, weights) + bias)$\n",
        "* **Activation** - stosuje funkcję aktywacji\n",
        "* **Dropout** - porzuca wskazaną część neuronów w warstwie (regularyzuje model)\n",
        "* **Flatten** - wypłaszcza dane wejściowe\n",
        "* **Input** - warstwa wejściowa, parametr *shape* określa rozmiar danych wejściowych"
      ]
    },
    {
      "cell_type": "code",
      "metadata": {
        "id": "Bwlg0MIBMERe",
        "colab": {
          "base_uri": "https://localhost:8080/"
        },
        "outputId": "6c51bf88-82f5-45f6-fdb4-4b7b701c9650"
      },
      "source": [
        "from tensorflow.keras.layers import Dense \n",
        "# parametr activation powoduje że nie muszę stosować dalej warstwy Activation\n",
        "dense = Dense(units=1, activation='relu')\n",
        "dense"
      ],
      "execution_count": null,
      "outputs": [
        {
          "output_type": "execute_result",
          "data": {
            "text/plain": [
              "<tensorflow.python.keras.layers.core.Dense at 0x7f38fa22b828>"
            ]
          },
          "metadata": {
            "tags": []
          },
          "execution_count": 28
        }
      ]
    },
    {
      "cell_type": "code",
      "metadata": {
        "id": "cY2cgjfzNB2O",
        "colab": {
          "base_uri": "https://localhost:8080/"
        },
        "outputId": "f6dac9e5-90f7-4290-ceda-96cfcdd35ca2"
      },
      "source": [
        "from tensorflow.keras.layers import Activation\n",
        "\n",
        "# tutaj jawnie implementowana\n",
        "activation = Activation(activation='relu')\n",
        "activation"
      ],
      "execution_count": null,
      "outputs": [
        {
          "output_type": "execute_result",
          "data": {
            "text/plain": [
              "<tensorflow.python.keras.layers.core.Activation at 0x7f38fc227438>"
            ]
          },
          "metadata": {
            "tags": []
          },
          "execution_count": 29
        }
      ]
    },
    {
      "cell_type": "code",
      "metadata": {
        "id": "rpKRRtpOOQ6R",
        "colab": {
          "base_uri": "https://localhost:8080/"
        },
        "outputId": "76370f51-f136-4fc1-a482-a163c37c3e3f"
      },
      "source": [
        "from tensorflow.keras.layers import Dropout\n",
        "\n",
        "# porzucamy 30% neuronów (regularyzacja modelu)\n",
        "dropout = Dropout(rate=0.3)\n",
        "dropout"
      ],
      "execution_count": null,
      "outputs": [
        {
          "output_type": "execute_result",
          "data": {
            "text/plain": [
              "<tensorflow.python.keras.layers.core.Dropout at 0x7f38b8c2feb8>"
            ]
          },
          "metadata": {
            "tags": []
          },
          "execution_count": 30
        }
      ]
    },
    {
      "cell_type": "code",
      "metadata": {
        "id": "ddfbiZbWOkgx",
        "colab": {
          "base_uri": "https://localhost:8080/"
        },
        "outputId": "dd47bf83-0778-4140-aac6-e214a1f2831c"
      },
      "source": [
        "from tensorflow.keras.layers import Flatten\n",
        "\n",
        "# wypłaszcza input\n",
        "flatten = Flatten()\n",
        "flatten"
      ],
      "execution_count": null,
      "outputs": [
        {
          "output_type": "execute_result",
          "data": {
            "text/plain": [
              "<tensorflow.python.keras.layers.core.Flatten at 0x7f38b8c2f438>"
            ]
          },
          "metadata": {
            "tags": []
          },
          "execution_count": 31
        }
      ]
    },
    {
      "cell_type": "code",
      "metadata": {
        "id": "OydKXqofO-Kb"
      },
      "source": [
        "from tensorflow.keras.layers import Input\n",
        "\n",
        "# nie jest obligatoryjna, gdy w pierwszej warstwie podam parametr input_shape\n",
        "input = Input(shape=(150,))\n",
        "input"
      ],
      "execution_count": null,
      "outputs": []
    },
    {
      "cell_type": "markdown",
      "metadata": {
        "id": "Kxq5yz6auskY"
      },
      "source": [
        "**Odtąd nie ma na filmie**"
      ]
    },
    {
      "cell_type": "markdown",
      "metadata": {
        "id": "bcoSi5H2QACR"
      },
      "source": [
        "### Warstwy konwolucyjne + max pooling\n",
        "* **Conv1D** - 1D warstwa konwolucyjna\n",
        "* **Conv2D** - 2D warstwa konwolucyjna\n",
        "* **MaxPooling1D** - operacja max pooling 1D\n",
        "* **MaxPooling2D** - operacja max pooling 2D"
      ]
    },
    {
      "cell_type": "code",
      "metadata": {
        "id": "1aVhaU5OQDcx"
      },
      "source": [
        "from tensorflow.keras.layers import Conv1D\n",
        "\n",
        "# filters - liczba filtrów zastosowana na etapie konwolucji\n",
        "# kernel_size - długość okna konwolucji\n",
        "conv1d = Conv1D(filters=64, kernel_size=3)\n",
        "conv1d"
      ],
      "execution_count": null,
      "outputs": []
    },
    {
      "cell_type": "code",
      "metadata": {
        "id": "S19G2l0mQk_S"
      },
      "source": [
        "from tensorflow.keras.layers import Conv2D\n",
        "\n",
        "# filters - liczba filtrów zastosowana na etapie konwolucji\n",
        "# kernel_size - wielkość okna konwolucji\n",
        "conv2d = Conv2D(filters=64, kernel_size=(3, 3))\n",
        "conv2d"
      ],
      "execution_count": null,
      "outputs": []
    },
    {
      "cell_type": "code",
      "metadata": {
        "id": "Om1DncmZRH4O"
      },
      "source": [
        "from tensorflow.keras.layers import MaxPooling1D\n",
        "\n",
        "# pool_size - rozmiar okna max pooling\n",
        "maxpooling1d = MaxPooling1D(pool_size=2)\n",
        "maxpooling1d"
      ],
      "execution_count": null,
      "outputs": []
    },
    {
      "cell_type": "code",
      "metadata": {
        "id": "VIRLPBZZRgd7"
      },
      "source": [
        "from tensorflow.keras.layers import MaxPooling2D\n",
        "\n",
        "# pool_size - rozmiar okna max pooling\n",
        "maxpooling2d = MaxPooling2D(pool_size=(2, 2))\n",
        "maxpooling2d"
      ],
      "execution_count": null,
      "outputs": []
    },
    {
      "cell_type": "markdown",
      "metadata": {
        "id": "sUmlAwyTTwrT"
      },
      "source": [
        "### Warstwy rekurencyjne\n",
        "* **RNN** - bazowa warstwa rekurencyjna\n",
        "* **SimpleRNN** - w pełni połączona warstwa rekurencyjna\n",
        "* **LSTM** - Long-Short-Term Memory"
      ]
    },
    {
      "cell_type": "code",
      "metadata": {
        "id": "WIEO64sgR76w"
      },
      "source": [
        "from tensorflow.keras.layers import RNN\n",
        "from tensorflow.keras.layers import SimpleRNN\n",
        "from tensorflow.keras.layers import LSTM"
      ],
      "execution_count": null,
      "outputs": []
    },
    {
      "cell_type": "markdown",
      "metadata": {
        "id": "8ZYDdGkfg356"
      },
      "source": [
        "### Warstwa osadzeń\n",
        "* **Embedding** - warstwa osadzeń, przekształca wartości całkowite na gęste wektory osadzeń. Stosowana tylko jako pierwsza warstwa modelu"
      ]
    },
    {
      "cell_type": "code",
      "metadata": {
        "id": "qulTBIaET-Oa"
      },
      "source": [
        "from tensorflow.keras.layers import Embedding\n",
        "\n",
        "# input_dim - rozmiar słownika, maksymalny indeks w słowniku + 1\n",
        "# output_dim - wymiar osazdenia\n",
        "# input_length - długość sekwencji, jeśli jest stała\n",
        "embedding = Embedding(input_dim=1000, output_dim=64, input_length=10)"
      ],
      "execution_count": null,
      "outputs": []
    },
    {
      "cell_type": "code",
      "metadata": {
        "id": "Od8KKVhkhKEm"
      },
      "source": [
        ""
      ],
      "execution_count": null,
      "outputs": []
    }
  ]
}