{
  "nbformat": 4,
  "nbformat_minor": 0,
  "metadata": {
    "colab": {
      "name": "01_intro.ipynb",
      "provenance": [],
      "collapsed_sections": [],
      "include_colab_link": true
    },
    "kernelspec": {
      "name": "python3",
      "display_name": "Python 3"
    }
  },
  "cells": [
    {
      "cell_type": "markdown",
      "metadata": {
        "id": "view-in-github",
        "colab_type": "text"
      },
      "source": [
        "<a href=\"https://colab.research.google.com/github/KamilBienias/data-science/blob/main/kursPawe%C5%82Krakowiak/neural-network-course/03_keras/01_intro.ipynb\" target=\"_parent\"><img src=\"https://colab.research.google.com/assets/colab-badge.svg\" alt=\"Open In Colab\"/></a>"
      ]
    },
    {
      "cell_type": "markdown",
      "metadata": {
        "id": "tC7wD4aySZKb"
      },
      "source": [
        "### Model sekwencjny (Sequential Model):\n",
        "1. [Wprowadzenie - pierwszy model](#a0)\n",
        "2. [Funkcje aktywacji](#a1)\n",
        "3. [Kompilacja modelu](#a2)\n",
        "4. [Trenowanie modelu](#a3)\n",
        "5. [Przykład - klasyfikacja binarna](#a4)\n",
        "6. [Przykład - klasyfikacja wieloklasowa](#a5)\n",
        "7. [Przykład - regresja](#a6)\n",
        "\n",
        "\n",
        "\n",
        "Załadowanie biblioteki tensorflow\n"
      ]
    },
    {
      "cell_type": "code",
      "metadata": {
        "id": "3SPURJyPQOpj",
        "colab": {
          "base_uri": "https://localhost:8080/",
          "height": 35
        },
        "outputId": "641ddec8-5dc8-4821-9034-6f0fbde61dce"
      },
      "source": [
        "# ######################################################\n",
        "# Etap 7. Odcinek: Biblioteka Keras - Wprowadzenie.\n",
        "\n",
        "%tensorflow_version 2.x\n",
        "import tensorflow as tf\n",
        "import numpy as np\n",
        "import pandas as pd\n",
        "import plotly.express as px\n",
        "tf.__version__"
      ],
      "execution_count": 2,
      "outputs": [
        {
          "output_type": "execute_result",
          "data": {
            "application/vnd.google.colaboratory.intrinsic+json": {
              "type": "string"
            },
            "text/plain": [
              "'2.4.1'"
            ]
          },
          "metadata": {
            "tags": []
          },
          "execution_count": 2
        }
      ]
    },
    {
      "cell_type": "markdown",
      "metadata": {
        "id": "x0HF8UIRTBmC"
      },
      "source": [
        "### <a name='a0'></a>Wprowadzenie - pierwszy model\n",
        "Model sekwencyjny to nic innego jak liniowy stos warstw."
      ]
    },
    {
      "cell_type": "code",
      "metadata": {
        "id": "y5qY8AQsTeGX",
        "colab": {
          "base_uri": "https://localhost:8080/"
        },
        "outputId": "84bca0e9-d6c1-431f-cc23-5eb18f8ec59e"
      },
      "source": [
        "# utworzenie instancji klasy Sequential\n",
        "from tensorflow.keras.models import Sequential\n",
        "\n",
        "model = Sequential()\n",
        "print(model)"
      ],
      "execution_count": 3,
      "outputs": [
        {
          "output_type": "stream",
          "text": [
            "<tensorflow.python.keras.engine.sequential.Sequential object at 0x7fb9f05a2160>\n"
          ],
          "name": "stdout"
        }
      ]
    },
    {
      "cell_type": "markdown",
      "metadata": {
        "id": "yqtUKjKaTyxQ"
      },
      "source": [
        "Podstawowym elementem składowym modelu są warstwy. Aby dodać najbardziej standardową warstwę - warstwę gęsto połączoną należy użyć warstwy **Dense**. Aby dodać warstwę do modelu należy użyć metody *.add()*"
      ]
    },
    {
      "cell_type": "code",
      "metadata": {
        "id": "CiMQRZUMTv8f"
      },
      "source": [
        "from tensorflow.keras.layers import Dense\n",
        "\n",
        "# Nie trzeba jawnie definiować warstwy wejściowej.\n",
        "# Wystarczy przy pierwszej podanej wartstwie podać parametr input_shape,\n",
        "# nasze dane wejściowe niech mają 10 cech (kolumn).\n",
        "# Parametr units to liczba neuronów w wartstwie ukrytej. \n",
        "model.add(Dense(units=4, input_shape=(10,)))"
      ],
      "execution_count": 4,
      "outputs": []
    },
    {
      "cell_type": "markdown",
      "metadata": {
        "id": "s4q14zW-XOU4"
      },
      "source": [
        "Wyświetlenie podsumowania modelu: metoda *.summary()*"
      ]
    },
    {
      "cell_type": "code",
      "metadata": {
        "id": "HAReYZ98UXtC",
        "colab": {
          "base_uri": "https://localhost:8080/"
        },
        "outputId": "a6ed91ff-16da-40cd-f1df-80c0caac4f23"
      },
      "source": [
        "# None to ilość próbek, czyli ilość danych wejściowych. \r\n",
        "# Ilość parametrów w dense_1 to 44, bo wzór:\r\n",
        "# Param = (input_shape + 1) * units = (10+1)*4 = 44\r\n",
        "# Tą 1 dodaje się bo bias\r\n",
        "model.summary()"
      ],
      "execution_count": 5,
      "outputs": [
        {
          "output_type": "stream",
          "text": [
            "Model: \"sequential\"\n",
            "_________________________________________________________________\n",
            "Layer (type)                 Output Shape              Param #   \n",
            "=================================================================\n",
            "dense (Dense)                (None, 4)                 44        \n",
            "=================================================================\n",
            "Total params: 44\n",
            "Trainable params: 44\n",
            "Non-trainable params: 0\n",
            "_________________________________________________________________\n"
          ],
          "name": "stdout"
        }
      ]
    },
    {
      "cell_type": "markdown",
      "metadata": {
        "id": "izZi_Eu2Xjcl"
      },
      "source": [
        "Dodanie kolejnej warstwy"
      ]
    },
    {
      "cell_type": "code",
      "metadata": {
        "id": "HD17lS82Uk7Y",
        "colab": {
          "base_uri": "https://localhost:8080/"
        },
        "outputId": "66f259a6-4853-496c-cbd6-eccee8190d76"
      },
      "source": [
        "# do kolejnej wartsty nie podawać rozmiaru danych wejściowych,\n",
        "# bo keras się domyśli. Ta druga warstwa ukryta ma 2 neurony, bo units=2\n",
        "model.add(Dense(units=2))\n",
        "\n",
        "model.summary()\n",
        "# teraz w dense_2 jest (4+1)*2=10 parametrów"
      ],
      "execution_count": 6,
      "outputs": [
        {
          "output_type": "stream",
          "text": [
            "Model: \"sequential\"\n",
            "_________________________________________________________________\n",
            "Layer (type)                 Output Shape              Param #   \n",
            "=================================================================\n",
            "dense (Dense)                (None, 4)                 44        \n",
            "_________________________________________________________________\n",
            "dense_1 (Dense)              (None, 2)                 10        \n",
            "=================================================================\n",
            "Total params: 54\n",
            "Trainable params: 54\n",
            "Non-trainable params: 0\n",
            "_________________________________________________________________\n"
          ],
          "name": "stdout"
        }
      ]
    },
    {
      "cell_type": "markdown",
      "metadata": {
        "id": "yh_gui1wZCH2"
      },
      "source": [
        "### <a name='a1'></a>Funkcje aktywacji\n",
        "Istotnym elemenem sieci neuronowych jest dobór odpowiednich funkcji aktywacji. Funkcje aktywacji jak sama nazwa wskazuje są odpowiedzialne za aktywowanie odpowiednich neuronów podczas procesu uczenia.\n",
        "\n",
        "Jeżeli nie określimy podczas dodawania warstwy funkcji aktywacji, domyślnie stosowana jest liniowa funkcja aktywacji, tzn. $a(x)=x$ czyli tak naprawdę nic się nie dzieje.\n",
        "\n",
        "Warstwa z liniową funkcją aktywacji może uczyć się tylko liniowych przekształceń danych wejściowych. Dlatego stosuje się różne funkcje aktywacji aby rozwiązywać problemy nieliniowe.\n",
        "\n",
        "Dokumentacja keras z funkcjami aktwacji:\n",
        "[Keras: Funkcje aktywacji](https://keras.io/activations/)"
      ]
    },
    {
      "cell_type": "code",
      "metadata": {
        "id": "obfM5ho7ZmMy",
        "colab": {
          "base_uri": "https://localhost:8080/",
          "height": 203
        },
        "outputId": "ccc8eccc-24d9-4c4d-e603-29fd4bc107f9"
      },
      "source": [
        "# importuje funkcję liniową a(x) (identycznościową)\n",
        "from tensorflow.keras.activations import linear\n",
        "\n",
        "random_data = sorted(np.random.randn(200))\n",
        "data = pd.DataFrame({'data': random_data, 'linear': linear(random_data)})\n",
        "data.head()"
      ],
      "execution_count": 7,
      "outputs": [
        {
          "output_type": "execute_result",
          "data": {
            "text/html": [
              "<div>\n",
              "<style scoped>\n",
              "    .dataframe tbody tr th:only-of-type {\n",
              "        vertical-align: middle;\n",
              "    }\n",
              "\n",
              "    .dataframe tbody tr th {\n",
              "        vertical-align: top;\n",
              "    }\n",
              "\n",
              "    .dataframe thead th {\n",
              "        text-align: right;\n",
              "    }\n",
              "</style>\n",
              "<table border=\"1\" class=\"dataframe\">\n",
              "  <thead>\n",
              "    <tr style=\"text-align: right;\">\n",
              "      <th></th>\n",
              "      <th>data</th>\n",
              "      <th>linear</th>\n",
              "    </tr>\n",
              "  </thead>\n",
              "  <tbody>\n",
              "    <tr>\n",
              "      <th>0</th>\n",
              "      <td>-2.762310</td>\n",
              "      <td>-2.762310</td>\n",
              "    </tr>\n",
              "    <tr>\n",
              "      <th>1</th>\n",
              "      <td>-2.707523</td>\n",
              "      <td>-2.707523</td>\n",
              "    </tr>\n",
              "    <tr>\n",
              "      <th>2</th>\n",
              "      <td>-2.125510</td>\n",
              "      <td>-2.125510</td>\n",
              "    </tr>\n",
              "    <tr>\n",
              "      <th>3</th>\n",
              "      <td>-1.932152</td>\n",
              "      <td>-1.932152</td>\n",
              "    </tr>\n",
              "    <tr>\n",
              "      <th>4</th>\n",
              "      <td>-1.905046</td>\n",
              "      <td>-1.905046</td>\n",
              "    </tr>\n",
              "  </tbody>\n",
              "</table>\n",
              "</div>"
            ],
            "text/plain": [
              "       data    linear\n",
              "0 -2.762310 -2.762310\n",
              "1 -2.707523 -2.707523\n",
              "2 -2.125510 -2.125510\n",
              "3 -1.932152 -1.932152\n",
              "4 -1.905046 -1.905046"
            ]
          },
          "metadata": {
            "tags": []
          },
          "execution_count": 7
        }
      ]
    },
    {
      "cell_type": "code",
      "metadata": {
        "id": "SsbhlfGgesjV",
        "colab": {
          "base_uri": "https://localhost:8080/",
          "height": 542
        },
        "outputId": "aaaee31d-9ae6-4d87-8b06-d3affbd73013"
      },
      "source": [
        "px.line(data, x='data', y='linear', width=800, range_y=[-2, 2])"
      ],
      "execution_count": 8,
      "outputs": [
        {
          "output_type": "display_data",
          "data": {
            "text/html": [
              "<html>\n",
              "<head><meta charset=\"utf-8\" /></head>\n",
              "<body>\n",
              "    <div>\n",
              "            <script src=\"https://cdnjs.cloudflare.com/ajax/libs/mathjax/2.7.5/MathJax.js?config=TeX-AMS-MML_SVG\"></script><script type=\"text/javascript\">if (window.MathJax) {MathJax.Hub.Config({SVG: {font: \"STIX-Web\"}});}</script>\n",
              "                <script type=\"text/javascript\">window.PlotlyConfig = {MathJaxConfig: 'local'};</script>\n",
              "        <script src=\"https://cdn.plot.ly/plotly-latest.min.js\"></script>    \n",
              "            <div id=\"aad0800d-0d41-43b7-963b-0169acab76a3\" class=\"plotly-graph-div\" style=\"height:525px; width:800px;\"></div>\n",
              "            <script type=\"text/javascript\">\n",
              "                \n",
              "                    window.PLOTLYENV=window.PLOTLYENV || {};\n",
              "                    \n",
              "                if (document.getElementById(\"aad0800d-0d41-43b7-963b-0169acab76a3\")) {\n",
              "                    Plotly.newPlot(\n",
              "                        'aad0800d-0d41-43b7-963b-0169acab76a3',\n",
              "                        [{\"hoverlabel\": {\"namelength\": 0}, \"hovertemplate\": \"data=%{x}<br>linear=%{y}\", \"legendgroup\": \"\", \"line\": {\"color\": \"#636efa\", \"dash\": \"solid\"}, \"mode\": \"lines\", \"name\": \"\", \"showlegend\": false, \"type\": \"scatter\", \"x\": [-2.7623101887937995, -2.7075234314930183, -2.1255103048765265, -1.932151915103832, -1.9050457731774548, -1.8790736060387094, -1.7997116973453373, -1.6919824003438166, -1.6011243761253426, -1.5918757362509681, -1.554460981916344, -1.536515141729633, -1.5244805790977927, -1.5060655192553656, -1.492899803917683, -1.4081371778690701, -1.3999053233602952, -1.349285604047609, -1.339268242731042, -1.3313413811322694, -1.2669311063690043, -1.2288579808590967, -1.187925485826264, -1.174791790900019, -1.1735855003430937, -1.172270965909411, -1.1482735534784394, -1.1472960831671504, -1.1328239640697553, -1.1256944235316029, -1.1225899421300325, -1.0879971930361323, -1.0860724562535795, -1.0679483679729613, -1.0619735893353446, -1.059451657967127, -1.0121170278188827, -1.0077130040267748, -0.9971680945720256, -0.9817939931354543, -0.977515101190015, -0.96914985481558, -0.9232514383556012, -0.8992708182462549, -0.8715182427242395, -0.8524436052530644, -0.8437458315166078, -0.8094115780806175, -0.802615549988629, -0.7505544773146503, -0.7502094875842503, -0.7356552063463784, -0.7095407485394538, -0.7077871083434474, -0.6825820574485651, -0.652061522394586, -0.6389972213641872, -0.6231848108436187, -0.604512373807819, -0.6023039125007106, -0.571530866497556, -0.5642388558974654, -0.5610724584862115, -0.5560588101143124, -0.554325807926804, -0.5476443581651544, -0.5336543531678127, -0.5081355720898754, -0.4992892770069046, -0.4951022823002244, -0.4884584681526931, -0.48071527511643136, -0.4133100662303814, -0.3911718247711904, -0.3736485328111191, -0.3735828825734467, -0.3700463871649676, -0.3693820049611935, -0.31664548998502756, -0.31363084108805367, -0.30676845148066156, -0.2906146356903461, -0.28997500082143834, -0.27651202627545446, -0.2671947111501219, -0.2598416078851724, -0.236333412934837, -0.23033005503552967, -0.2296779400680529, -0.22876798067022502, -0.2196412115952789, -0.20068140466710713, -0.20008752615779338, -0.19990399311600499, -0.19969973751716355, -0.19615140111422869, -0.1804838430614808, -0.1614996125805968, -0.13427526301542725, -0.10297706133268864, -0.0999471107320764, -0.08486091751468319, -0.08073599627157577, -0.0728376096184009, -0.060560879927397275, -0.05853349245484414, -0.03483902332099604, -0.026700579638709313, -0.016470801989741154, -0.011415897783658238, 0.010645902108263128, 0.02490718193771605, 0.027501684522571415, 0.03665202469833121, 0.05443010834748738, 0.0625014453343239, 0.06291296328946179, 0.07049017378735468, 0.08128431089973448, 0.08680953648130847, 0.09443192298173016, 0.1104590961075359, 0.11250161042543676, 0.13269190150932364, 0.135983836683739, 0.16641873735653934, 0.17345585556552434, 0.18303349818027007, 0.19139206699591552, 0.2265086616074254, 0.22839163645217744, 0.24378074592128265, 0.2564243930591163, 0.2699562891939324, 0.2730014661063207, 0.3227197754872287, 0.3395164842646524, 0.3505810947087951, 0.36438942745488967, 0.40251591434059547, 0.40456189164158585, 0.4077757402003787, 0.4295179551589199, 0.4599645992233803, 0.4692558598967048, 0.4909890813642885, 0.4957654097312762, 0.5634839241199194, 0.60141416128677, 0.6099922017173266, 0.6363020679266069, 0.6559292158263227, 0.6672747766433046, 0.6893168532156518, 0.6958053168614444, 0.696496418288854, 0.7929816424449667, 0.8278161606905333, 0.8406200220775244, 0.8469672647643183, 0.8587531430776641, 0.8708670176275233, 0.8852186887848952, 0.8945356704155326, 0.8964531067433386, 0.9129588018306882, 0.9184561444645439, 0.9352698552945953, 0.9367089755980252, 0.9591254143009234, 0.9789373871216461, 0.9910613352989033, 1.0210362603413157, 1.0444657963113289, 1.0584734380761014, 1.0776915100108202, 1.1176601658568255, 1.1287542782287883, 1.172577928382274, 1.212232517889325, 1.2329546171326167, 1.2404354733213927, 1.246998878408444, 1.3027137728899256, 1.3097624758754907, 1.340631824907344, 1.3663369479761536, 1.401854171256322, 1.6079969051918883, 1.6919301145100503, 1.8219189814679277, 1.824061670495359, 1.8737099082771425, 1.919285828224625, 1.9530456787704127, 2.0305590523834423, 2.103740560984635, 2.39382348425369, 2.6663788117081744, 3.052236320663284], \"xaxis\": \"x\", \"y\": [-2.7623101887937995, -2.7075234314930183, -2.1255103048765265, -1.932151915103832, -1.9050457731774548, -1.8790736060387094, -1.7997116973453373, -1.6919824003438166, -1.6011243761253426, -1.5918757362509681, -1.554460981916344, -1.536515141729633, -1.5244805790977927, -1.5060655192553656, -1.492899803917683, -1.4081371778690701, -1.3999053233602952, -1.349285604047609, -1.339268242731042, -1.3313413811322694, -1.2669311063690043, -1.2288579808590967, -1.187925485826264, -1.174791790900019, -1.1735855003430937, -1.172270965909411, -1.1482735534784394, -1.1472960831671504, -1.1328239640697553, -1.1256944235316029, -1.1225899421300325, -1.0879971930361323, -1.0860724562535795, -1.0679483679729613, -1.0619735893353446, -1.059451657967127, -1.0121170278188827, -1.0077130040267748, -0.9971680945720256, -0.9817939931354543, -0.977515101190015, -0.96914985481558, -0.9232514383556012, -0.8992708182462549, -0.8715182427242395, -0.8524436052530644, -0.8437458315166078, -0.8094115780806175, -0.802615549988629, -0.7505544773146503, -0.7502094875842503, -0.7356552063463784, -0.7095407485394538, -0.7077871083434474, -0.6825820574485651, -0.652061522394586, -0.6389972213641872, -0.6231848108436187, -0.604512373807819, -0.6023039125007106, -0.571530866497556, -0.5642388558974654, -0.5610724584862115, -0.5560588101143124, -0.554325807926804, -0.5476443581651544, -0.5336543531678127, -0.5081355720898754, -0.4992892770069046, -0.4951022823002244, -0.4884584681526931, -0.48071527511643136, -0.4133100662303814, -0.3911718247711904, -0.3736485328111191, -0.3735828825734467, -0.3700463871649676, -0.3693820049611935, -0.31664548998502756, -0.31363084108805367, -0.30676845148066156, -0.2906146356903461, -0.28997500082143834, -0.27651202627545446, -0.2671947111501219, -0.2598416078851724, -0.236333412934837, -0.23033005503552967, -0.2296779400680529, -0.22876798067022502, -0.2196412115952789, -0.20068140466710713, -0.20008752615779338, -0.19990399311600499, -0.19969973751716355, -0.19615140111422869, -0.1804838430614808, -0.1614996125805968, -0.13427526301542725, -0.10297706133268864, -0.0999471107320764, -0.08486091751468319, -0.08073599627157577, -0.0728376096184009, -0.060560879927397275, -0.05853349245484414, -0.03483902332099604, -0.026700579638709313, -0.016470801989741154, -0.011415897783658238, 0.010645902108263128, 0.02490718193771605, 0.027501684522571415, 0.03665202469833121, 0.05443010834748738, 0.0625014453343239, 0.06291296328946179, 0.07049017378735468, 0.08128431089973448, 0.08680953648130847, 0.09443192298173016, 0.1104590961075359, 0.11250161042543676, 0.13269190150932364, 0.135983836683739, 0.16641873735653934, 0.17345585556552434, 0.18303349818027007, 0.19139206699591552, 0.2265086616074254, 0.22839163645217744, 0.24378074592128265, 0.2564243930591163, 0.2699562891939324, 0.2730014661063207, 0.3227197754872287, 0.3395164842646524, 0.3505810947087951, 0.36438942745488967, 0.40251591434059547, 0.40456189164158585, 0.4077757402003787, 0.4295179551589199, 0.4599645992233803, 0.4692558598967048, 0.4909890813642885, 0.4957654097312762, 0.5634839241199194, 0.60141416128677, 0.6099922017173266, 0.6363020679266069, 0.6559292158263227, 0.6672747766433046, 0.6893168532156518, 0.6958053168614444, 0.696496418288854, 0.7929816424449667, 0.8278161606905333, 0.8406200220775244, 0.8469672647643183, 0.8587531430776641, 0.8708670176275233, 0.8852186887848952, 0.8945356704155326, 0.8964531067433386, 0.9129588018306882, 0.9184561444645439, 0.9352698552945953, 0.9367089755980252, 0.9591254143009234, 0.9789373871216461, 0.9910613352989033, 1.0210362603413157, 1.0444657963113289, 1.0584734380761014, 1.0776915100108202, 1.1176601658568255, 1.1287542782287883, 1.172577928382274, 1.212232517889325, 1.2329546171326167, 1.2404354733213927, 1.246998878408444, 1.3027137728899256, 1.3097624758754907, 1.340631824907344, 1.3663369479761536, 1.401854171256322, 1.6079969051918883, 1.6919301145100503, 1.8219189814679277, 1.824061670495359, 1.8737099082771425, 1.919285828224625, 1.9530456787704127, 2.0305590523834423, 2.103740560984635, 2.39382348425369, 2.6663788117081744, 3.052236320663284], \"yaxis\": \"y\"}],\n",
              "                        {\"legend\": {\"tracegroupgap\": 0}, \"margin\": {\"t\": 60}, \"template\": {\"data\": {\"bar\": [{\"error_x\": {\"color\": \"#2a3f5f\"}, \"error_y\": {\"color\": \"#2a3f5f\"}, \"marker\": {\"line\": {\"color\": \"#E5ECF6\", \"width\": 0.5}}, \"type\": \"bar\"}], \"barpolar\": [{\"marker\": {\"line\": {\"color\": \"#E5ECF6\", \"width\": 0.5}}, \"type\": \"barpolar\"}], \"carpet\": [{\"aaxis\": {\"endlinecolor\": \"#2a3f5f\", \"gridcolor\": \"white\", \"linecolor\": \"white\", \"minorgridcolor\": \"white\", \"startlinecolor\": \"#2a3f5f\"}, \"baxis\": {\"endlinecolor\": \"#2a3f5f\", \"gridcolor\": \"white\", \"linecolor\": \"white\", \"minorgridcolor\": \"white\", \"startlinecolor\": \"#2a3f5f\"}, \"type\": \"carpet\"}], \"choropleth\": [{\"colorbar\": {\"outlinewidth\": 0, \"ticks\": \"\"}, \"type\": \"choropleth\"}], \"contour\": [{\"colorbar\": {\"outlinewidth\": 0, \"ticks\": \"\"}, \"colorscale\": [[0.0, \"#0d0887\"], [0.1111111111111111, \"#46039f\"], [0.2222222222222222, \"#7201a8\"], [0.3333333333333333, \"#9c179e\"], [0.4444444444444444, \"#bd3786\"], [0.5555555555555556, \"#d8576b\"], [0.6666666666666666, \"#ed7953\"], [0.7777777777777778, \"#fb9f3a\"], [0.8888888888888888, \"#fdca26\"], [1.0, \"#f0f921\"]], \"type\": \"contour\"}], \"contourcarpet\": [{\"colorbar\": {\"outlinewidth\": 0, \"ticks\": \"\"}, \"type\": \"contourcarpet\"}], \"heatmap\": [{\"colorbar\": {\"outlinewidth\": 0, \"ticks\": \"\"}, \"colorscale\": [[0.0, \"#0d0887\"], [0.1111111111111111, \"#46039f\"], [0.2222222222222222, \"#7201a8\"], [0.3333333333333333, \"#9c179e\"], [0.4444444444444444, \"#bd3786\"], [0.5555555555555556, \"#d8576b\"], [0.6666666666666666, \"#ed7953\"], [0.7777777777777778, \"#fb9f3a\"], [0.8888888888888888, \"#fdca26\"], [1.0, \"#f0f921\"]], \"type\": \"heatmap\"}], \"heatmapgl\": [{\"colorbar\": {\"outlinewidth\": 0, \"ticks\": \"\"}, \"colorscale\": [[0.0, \"#0d0887\"], [0.1111111111111111, \"#46039f\"], [0.2222222222222222, \"#7201a8\"], [0.3333333333333333, \"#9c179e\"], [0.4444444444444444, \"#bd3786\"], [0.5555555555555556, \"#d8576b\"], [0.6666666666666666, \"#ed7953\"], [0.7777777777777778, \"#fb9f3a\"], [0.8888888888888888, \"#fdca26\"], [1.0, \"#f0f921\"]], \"type\": \"heatmapgl\"}], \"histogram\": [{\"marker\": {\"colorbar\": {\"outlinewidth\": 0, \"ticks\": \"\"}}, \"type\": \"histogram\"}], \"histogram2d\": [{\"colorbar\": {\"outlinewidth\": 0, \"ticks\": \"\"}, \"colorscale\": [[0.0, \"#0d0887\"], [0.1111111111111111, \"#46039f\"], [0.2222222222222222, \"#7201a8\"], [0.3333333333333333, \"#9c179e\"], [0.4444444444444444, \"#bd3786\"], [0.5555555555555556, \"#d8576b\"], [0.6666666666666666, \"#ed7953\"], [0.7777777777777778, \"#fb9f3a\"], [0.8888888888888888, \"#fdca26\"], [1.0, \"#f0f921\"]], \"type\": \"histogram2d\"}], \"histogram2dcontour\": [{\"colorbar\": {\"outlinewidth\": 0, \"ticks\": \"\"}, \"colorscale\": [[0.0, \"#0d0887\"], [0.1111111111111111, \"#46039f\"], [0.2222222222222222, \"#7201a8\"], [0.3333333333333333, \"#9c179e\"], [0.4444444444444444, \"#bd3786\"], [0.5555555555555556, \"#d8576b\"], [0.6666666666666666, \"#ed7953\"], [0.7777777777777778, \"#fb9f3a\"], [0.8888888888888888, \"#fdca26\"], [1.0, \"#f0f921\"]], \"type\": \"histogram2dcontour\"}], \"mesh3d\": [{\"colorbar\": {\"outlinewidth\": 0, \"ticks\": \"\"}, \"type\": \"mesh3d\"}], \"parcoords\": [{\"line\": {\"colorbar\": {\"outlinewidth\": 0, \"ticks\": \"\"}}, \"type\": \"parcoords\"}], \"pie\": [{\"automargin\": true, \"type\": \"pie\"}], \"scatter\": [{\"marker\": {\"colorbar\": {\"outlinewidth\": 0, \"ticks\": \"\"}}, \"type\": \"scatter\"}], \"scatter3d\": [{\"line\": {\"colorbar\": {\"outlinewidth\": 0, \"ticks\": \"\"}}, \"marker\": {\"colorbar\": {\"outlinewidth\": 0, \"ticks\": \"\"}}, \"type\": \"scatter3d\"}], \"scattercarpet\": [{\"marker\": {\"colorbar\": {\"outlinewidth\": 0, \"ticks\": \"\"}}, \"type\": \"scattercarpet\"}], \"scattergeo\": [{\"marker\": {\"colorbar\": {\"outlinewidth\": 0, \"ticks\": \"\"}}, \"type\": \"scattergeo\"}], \"scattergl\": [{\"marker\": {\"colorbar\": {\"outlinewidth\": 0, \"ticks\": \"\"}}, \"type\": \"scattergl\"}], \"scattermapbox\": [{\"marker\": {\"colorbar\": {\"outlinewidth\": 0, \"ticks\": \"\"}}, \"type\": \"scattermapbox\"}], \"scatterpolar\": [{\"marker\": {\"colorbar\": {\"outlinewidth\": 0, \"ticks\": \"\"}}, \"type\": \"scatterpolar\"}], \"scatterpolargl\": [{\"marker\": {\"colorbar\": {\"outlinewidth\": 0, \"ticks\": \"\"}}, \"type\": \"scatterpolargl\"}], \"scatterternary\": [{\"marker\": {\"colorbar\": {\"outlinewidth\": 0, \"ticks\": \"\"}}, \"type\": \"scatterternary\"}], \"surface\": [{\"colorbar\": {\"outlinewidth\": 0, \"ticks\": \"\"}, \"colorscale\": [[0.0, \"#0d0887\"], [0.1111111111111111, \"#46039f\"], [0.2222222222222222, \"#7201a8\"], [0.3333333333333333, \"#9c179e\"], [0.4444444444444444, \"#bd3786\"], [0.5555555555555556, \"#d8576b\"], [0.6666666666666666, \"#ed7953\"], [0.7777777777777778, \"#fb9f3a\"], [0.8888888888888888, \"#fdca26\"], [1.0, \"#f0f921\"]], \"type\": \"surface\"}], \"table\": [{\"cells\": {\"fill\": {\"color\": \"#EBF0F8\"}, \"line\": {\"color\": \"white\"}}, \"header\": {\"fill\": {\"color\": \"#C8D4E3\"}, \"line\": {\"color\": \"white\"}}, \"type\": \"table\"}]}, \"layout\": {\"annotationdefaults\": {\"arrowcolor\": \"#2a3f5f\", \"arrowhead\": 0, \"arrowwidth\": 1}, \"coloraxis\": {\"colorbar\": {\"outlinewidth\": 0, \"ticks\": \"\"}}, \"colorscale\": {\"diverging\": [[0, \"#8e0152\"], [0.1, \"#c51b7d\"], [0.2, \"#de77ae\"], [0.3, \"#f1b6da\"], [0.4, \"#fde0ef\"], [0.5, \"#f7f7f7\"], [0.6, \"#e6f5d0\"], [0.7, \"#b8e186\"], [0.8, \"#7fbc41\"], [0.9, \"#4d9221\"], [1, \"#276419\"]], \"sequential\": [[0.0, \"#0d0887\"], [0.1111111111111111, \"#46039f\"], [0.2222222222222222, \"#7201a8\"], [0.3333333333333333, \"#9c179e\"], [0.4444444444444444, \"#bd3786\"], [0.5555555555555556, \"#d8576b\"], [0.6666666666666666, \"#ed7953\"], [0.7777777777777778, \"#fb9f3a\"], [0.8888888888888888, \"#fdca26\"], [1.0, \"#f0f921\"]], \"sequentialminus\": [[0.0, \"#0d0887\"], [0.1111111111111111, \"#46039f\"], [0.2222222222222222, \"#7201a8\"], [0.3333333333333333, \"#9c179e\"], [0.4444444444444444, \"#bd3786\"], [0.5555555555555556, \"#d8576b\"], [0.6666666666666666, \"#ed7953\"], [0.7777777777777778, \"#fb9f3a\"], [0.8888888888888888, \"#fdca26\"], [1.0, \"#f0f921\"]]}, \"colorway\": [\"#636efa\", \"#EF553B\", \"#00cc96\", \"#ab63fa\", \"#FFA15A\", \"#19d3f3\", \"#FF6692\", \"#B6E880\", \"#FF97FF\", \"#FECB52\"], \"font\": {\"color\": \"#2a3f5f\"}, \"geo\": {\"bgcolor\": \"white\", \"lakecolor\": \"white\", \"landcolor\": \"#E5ECF6\", \"showlakes\": true, \"showland\": true, \"subunitcolor\": \"white\"}, \"hoverlabel\": {\"align\": \"left\"}, \"hovermode\": \"closest\", \"mapbox\": {\"style\": \"light\"}, \"paper_bgcolor\": \"white\", \"plot_bgcolor\": \"#E5ECF6\", \"polar\": {\"angularaxis\": {\"gridcolor\": \"white\", \"linecolor\": \"white\", \"ticks\": \"\"}, \"bgcolor\": \"#E5ECF6\", \"radialaxis\": {\"gridcolor\": \"white\", \"linecolor\": \"white\", \"ticks\": \"\"}}, \"scene\": {\"xaxis\": {\"backgroundcolor\": \"#E5ECF6\", \"gridcolor\": \"white\", \"gridwidth\": 2, \"linecolor\": \"white\", \"showbackground\": true, \"ticks\": \"\", \"zerolinecolor\": \"white\"}, \"yaxis\": {\"backgroundcolor\": \"#E5ECF6\", \"gridcolor\": \"white\", \"gridwidth\": 2, \"linecolor\": \"white\", \"showbackground\": true, \"ticks\": \"\", \"zerolinecolor\": \"white\"}, \"zaxis\": {\"backgroundcolor\": \"#E5ECF6\", \"gridcolor\": \"white\", \"gridwidth\": 2, \"linecolor\": \"white\", \"showbackground\": true, \"ticks\": \"\", \"zerolinecolor\": \"white\"}}, \"shapedefaults\": {\"line\": {\"color\": \"#2a3f5f\"}}, \"ternary\": {\"aaxis\": {\"gridcolor\": \"white\", \"linecolor\": \"white\", \"ticks\": \"\"}, \"baxis\": {\"gridcolor\": \"white\", \"linecolor\": \"white\", \"ticks\": \"\"}, \"bgcolor\": \"#E5ECF6\", \"caxis\": {\"gridcolor\": \"white\", \"linecolor\": \"white\", \"ticks\": \"\"}}, \"title\": {\"x\": 0.05}, \"xaxis\": {\"automargin\": true, \"gridcolor\": \"white\", \"linecolor\": \"white\", \"ticks\": \"\", \"title\": {\"standoff\": 15}, \"zerolinecolor\": \"white\", \"zerolinewidth\": 2}, \"yaxis\": {\"automargin\": true, \"gridcolor\": \"white\", \"linecolor\": \"white\", \"ticks\": \"\", \"title\": {\"standoff\": 15}, \"zerolinecolor\": \"white\", \"zerolinewidth\": 2}}}, \"width\": 800, \"xaxis\": {\"anchor\": \"y\", \"domain\": [0.0, 1.0], \"title\": {\"text\": \"data\"}}, \"yaxis\": {\"anchor\": \"x\", \"domain\": [0.0, 1.0], \"range\": [-2, 2], \"title\": {\"text\": \"linear\"}}},\n",
              "                        {\"responsive\": true}\n",
              "                    ).then(function(){\n",
              "                            \n",
              "var gd = document.getElementById('aad0800d-0d41-43b7-963b-0169acab76a3');\n",
              "var x = new MutationObserver(function (mutations, observer) {{\n",
              "        var display = window.getComputedStyle(gd).display;\n",
              "        if (!display || display === 'none') {{\n",
              "            console.log([gd, 'removed!']);\n",
              "            Plotly.purge(gd);\n",
              "            observer.disconnect();\n",
              "        }}\n",
              "}});\n",
              "\n",
              "// Listen for the removal of the full notebook cells\n",
              "var notebookContainer = gd.closest('#notebook-container');\n",
              "if (notebookContainer) {{\n",
              "    x.observe(notebookContainer, {childList: true});\n",
              "}}\n",
              "\n",
              "// Listen for the clearing of the current output cell\n",
              "var outputEl = gd.closest('.output');\n",
              "if (outputEl) {{\n",
              "    x.observe(outputEl, {childList: true});\n",
              "}}\n",
              "\n",
              "                        })\n",
              "                };\n",
              "                \n",
              "            </script>\n",
              "        </div>\n",
              "</body>\n",
              "</html>"
            ]
          },
          "metadata": {
            "tags": []
          }
        }
      ]
    },
    {
      "cell_type": "code",
      "metadata": {
        "id": "xGsRlPQde7Qc",
        "colab": {
          "base_uri": "https://localhost:8080/",
          "height": 203
        },
        "outputId": "45f48640-399b-48cd-e07d-6d2261003d49"
      },
      "source": [
        "from tensorflow.keras.activations import sigmoid\n",
        "\n",
        "data = pd.DataFrame({'data': random_data, 'sigmoid': sigmoid(random_data)})\n",
        "data.head()"
      ],
      "execution_count": 9,
      "outputs": [
        {
          "output_type": "execute_result",
          "data": {
            "text/html": [
              "<div>\n",
              "<style scoped>\n",
              "    .dataframe tbody tr th:only-of-type {\n",
              "        vertical-align: middle;\n",
              "    }\n",
              "\n",
              "    .dataframe tbody tr th {\n",
              "        vertical-align: top;\n",
              "    }\n",
              "\n",
              "    .dataframe thead th {\n",
              "        text-align: right;\n",
              "    }\n",
              "</style>\n",
              "<table border=\"1\" class=\"dataframe\">\n",
              "  <thead>\n",
              "    <tr style=\"text-align: right;\">\n",
              "      <th></th>\n",
              "      <th>data</th>\n",
              "      <th>sigmoid</th>\n",
              "    </tr>\n",
              "  </thead>\n",
              "  <tbody>\n",
              "    <tr>\n",
              "      <th>0</th>\n",
              "      <td>-2.762310</td>\n",
              "      <td>0.059395</td>\n",
              "    </tr>\n",
              "    <tr>\n",
              "      <th>1</th>\n",
              "      <td>-2.707523</td>\n",
              "      <td>0.062531</td>\n",
              "    </tr>\n",
              "    <tr>\n",
              "      <th>2</th>\n",
              "      <td>-2.125510</td>\n",
              "      <td>0.106642</td>\n",
              "    </tr>\n",
              "    <tr>\n",
              "      <th>3</th>\n",
              "      <td>-1.932152</td>\n",
              "      <td>0.126513</td>\n",
              "    </tr>\n",
              "    <tr>\n",
              "      <th>4</th>\n",
              "      <td>-1.905046</td>\n",
              "      <td>0.129538</td>\n",
              "    </tr>\n",
              "  </tbody>\n",
              "</table>\n",
              "</div>"
            ],
            "text/plain": [
              "       data   sigmoid\n",
              "0 -2.762310  0.059395\n",
              "1 -2.707523  0.062531\n",
              "2 -2.125510  0.106642\n",
              "3 -1.932152  0.126513\n",
              "4 -1.905046  0.129538"
            ]
          },
          "metadata": {
            "tags": []
          },
          "execution_count": 9
        }
      ]
    },
    {
      "cell_type": "code",
      "metadata": {
        "id": "DbWCwhXifvXx",
        "colab": {
          "base_uri": "https://localhost:8080/",
          "height": 542
        },
        "outputId": "89de1ced-6ce5-43f8-862c-a9a265698c9b"
      },
      "source": [
        "px.line(data, x='data', y='sigmoid', width=800, range_y=[-0.5, 1.5])"
      ],
      "execution_count": 10,
      "outputs": [
        {
          "output_type": "display_data",
          "data": {
            "text/html": [
              "<html>\n",
              "<head><meta charset=\"utf-8\" /></head>\n",
              "<body>\n",
              "    <div>\n",
              "            <script src=\"https://cdnjs.cloudflare.com/ajax/libs/mathjax/2.7.5/MathJax.js?config=TeX-AMS-MML_SVG\"></script><script type=\"text/javascript\">if (window.MathJax) {MathJax.Hub.Config({SVG: {font: \"STIX-Web\"}});}</script>\n",
              "                <script type=\"text/javascript\">window.PlotlyConfig = {MathJaxConfig: 'local'};</script>\n",
              "        <script src=\"https://cdn.plot.ly/plotly-latest.min.js\"></script>    \n",
              "            <div id=\"8259c889-19af-4098-9a87-2ba229dbe6aa\" class=\"plotly-graph-div\" style=\"height:525px; width:800px;\"></div>\n",
              "            <script type=\"text/javascript\">\n",
              "                \n",
              "                    window.PLOTLYENV=window.PLOTLYENV || {};\n",
              "                    \n",
              "                if (document.getElementById(\"8259c889-19af-4098-9a87-2ba229dbe6aa\")) {\n",
              "                    Plotly.newPlot(\n",
              "                        '8259c889-19af-4098-9a87-2ba229dbe6aa',\n",
              "                        [{\"hoverlabel\": {\"namelength\": 0}, \"hovertemplate\": \"data=%{x}<br>sigmoid=%{y}\", \"legendgroup\": \"\", \"line\": {\"color\": \"#636efa\", \"dash\": \"solid\"}, \"mode\": \"lines\", \"name\": \"\", \"showlegend\": false, \"type\": \"scatter\", \"x\": [-2.7623101887937995, -2.7075234314930183, -2.1255103048765265, -1.932151915103832, -1.9050457731774548, -1.8790736060387094, -1.7997116973453373, -1.6919824003438166, -1.6011243761253426, -1.5918757362509681, -1.554460981916344, -1.536515141729633, -1.5244805790977927, -1.5060655192553656, -1.492899803917683, -1.4081371778690701, -1.3999053233602952, -1.349285604047609, -1.339268242731042, -1.3313413811322694, -1.2669311063690043, -1.2288579808590967, -1.187925485826264, -1.174791790900019, -1.1735855003430937, -1.172270965909411, -1.1482735534784394, -1.1472960831671504, -1.1328239640697553, -1.1256944235316029, -1.1225899421300325, -1.0879971930361323, -1.0860724562535795, -1.0679483679729613, -1.0619735893353446, -1.059451657967127, -1.0121170278188827, -1.0077130040267748, -0.9971680945720256, -0.9817939931354543, -0.977515101190015, -0.96914985481558, -0.9232514383556012, -0.8992708182462549, -0.8715182427242395, -0.8524436052530644, -0.8437458315166078, -0.8094115780806175, -0.802615549988629, -0.7505544773146503, -0.7502094875842503, -0.7356552063463784, -0.7095407485394538, -0.7077871083434474, -0.6825820574485651, -0.652061522394586, -0.6389972213641872, -0.6231848108436187, -0.604512373807819, -0.6023039125007106, -0.571530866497556, -0.5642388558974654, -0.5610724584862115, -0.5560588101143124, -0.554325807926804, -0.5476443581651544, -0.5336543531678127, -0.5081355720898754, -0.4992892770069046, -0.4951022823002244, -0.4884584681526931, -0.48071527511643136, -0.4133100662303814, -0.3911718247711904, -0.3736485328111191, -0.3735828825734467, -0.3700463871649676, -0.3693820049611935, -0.31664548998502756, -0.31363084108805367, -0.30676845148066156, -0.2906146356903461, -0.28997500082143834, -0.27651202627545446, -0.2671947111501219, -0.2598416078851724, -0.236333412934837, -0.23033005503552967, -0.2296779400680529, -0.22876798067022502, -0.2196412115952789, -0.20068140466710713, -0.20008752615779338, -0.19990399311600499, -0.19969973751716355, -0.19615140111422869, -0.1804838430614808, -0.1614996125805968, -0.13427526301542725, -0.10297706133268864, -0.0999471107320764, -0.08486091751468319, -0.08073599627157577, -0.0728376096184009, -0.060560879927397275, -0.05853349245484414, -0.03483902332099604, -0.026700579638709313, -0.016470801989741154, -0.011415897783658238, 0.010645902108263128, 0.02490718193771605, 0.027501684522571415, 0.03665202469833121, 0.05443010834748738, 0.0625014453343239, 0.06291296328946179, 0.07049017378735468, 0.08128431089973448, 0.08680953648130847, 0.09443192298173016, 0.1104590961075359, 0.11250161042543676, 0.13269190150932364, 0.135983836683739, 0.16641873735653934, 0.17345585556552434, 0.18303349818027007, 0.19139206699591552, 0.2265086616074254, 0.22839163645217744, 0.24378074592128265, 0.2564243930591163, 0.2699562891939324, 0.2730014661063207, 0.3227197754872287, 0.3395164842646524, 0.3505810947087951, 0.36438942745488967, 0.40251591434059547, 0.40456189164158585, 0.4077757402003787, 0.4295179551589199, 0.4599645992233803, 0.4692558598967048, 0.4909890813642885, 0.4957654097312762, 0.5634839241199194, 0.60141416128677, 0.6099922017173266, 0.6363020679266069, 0.6559292158263227, 0.6672747766433046, 0.6893168532156518, 0.6958053168614444, 0.696496418288854, 0.7929816424449667, 0.8278161606905333, 0.8406200220775244, 0.8469672647643183, 0.8587531430776641, 0.8708670176275233, 0.8852186887848952, 0.8945356704155326, 0.8964531067433386, 0.9129588018306882, 0.9184561444645439, 0.9352698552945953, 0.9367089755980252, 0.9591254143009234, 0.9789373871216461, 0.9910613352989033, 1.0210362603413157, 1.0444657963113289, 1.0584734380761014, 1.0776915100108202, 1.1176601658568255, 1.1287542782287883, 1.172577928382274, 1.212232517889325, 1.2329546171326167, 1.2404354733213927, 1.246998878408444, 1.3027137728899256, 1.3097624758754907, 1.340631824907344, 1.3663369479761536, 1.401854171256322, 1.6079969051918883, 1.6919301145100503, 1.8219189814679277, 1.824061670495359, 1.8737099082771425, 1.919285828224625, 1.9530456787704127, 2.0305590523834423, 2.103740560984635, 2.39382348425369, 2.6663788117081744, 3.052236320663284], \"xaxis\": \"x\", \"y\": [0.05939517032363805, 0.06253087252100849, 0.1066419677166158, 0.12651258692564424, 0.12953845752897344, 0.13249531730265732, 0.14188616341630716, 0.1555153130606332, 0.16782452645501983, 0.16912015762282434, 0.17444289737721602, 0.17704244179757567, 0.17880267869076344, 0.18152261512920112, 0.183486881595321, 0.19652803858601145, 0.197831135624112, 0.20598719133799245, 0.20763042153092023, 0.20893757160706505, 0.21978304866758946, 0.22638136829170624, 0.23363016627174907, 0.23598993796635212, 0.23620749983124528, 0.2364447418443562, 0.24080456682720988, 0.24098331099979092, 0.24364032493566745, 0.2449565547814478, 0.245531191960003, 0.2519956075835692, 0.25235858172596387, 0.25579344360827905, 0.25693247989373985, 0.2574142575164771, 0.26656574944350764, 0.26742765800380364, 0.26949857196231236, 0.2725359612759203, 0.2733851200539365, 0.27504998660490615, 0.28429585480133807, 0.2892003674959596, 0.29493848550511254, 0.2989205069193273, 0.30074645556433816, 0.30801589901458215, 0.3094663055531382, 0.32070049499880743, 0.3207756562422125, 0.32395496019984216, 0.32970032591603643, 0.33008799260403177, 0.3356852579876461, 0.3425251284508716, 0.34547325403789925, 0.34905746290297696, 0.35331201358815745, 0.3538167719598248, 0.36088366048703285, 0.3625672386858177, 0.3632993498507149, 0.36445986450668805, 0.36486137205814717, 0.3664111083903443, 0.3696649722288071, 0.3756306925557079, 0.3777077058708539, 0.3786923390754582, 0.38025678034228666, 0.3820832376591217, 0.39811869557458546, 0.40343523960200206, 0.40765970247604977, 0.4076755553496778, 0.4085298128403273, 0.40869035939217324, 0.42149348447557355, 0.42222874005151534, 0.4239037185469097, 0.4278534007381397, 0.4280099872923158, 0.431309105903517, 0.4335959185525398, 0.435402644885694, 0.4411901203401921, 0.44267071487685766, 0.44283160635634145, 0.4430561339181713, 0.44530938709526585, 0.4499973494731927, 0.45014433860743025, 0.45018976609608086, 0.450240323739716, 0.4511187762509116, 0.4550011239843146, 0.4597126238450477, 0.4664815301907188, 0.47427846050747563, 0.4750340018546852, 0.47879749302863195, 0.4798269575722273, 0.48179864388153026, 0.4848644057029907, 0.48537080349033107, 0.49129112502382527, 0.4933252516329415, 0.49588239259003314, 0.4971460565484914, 0.5026614503907719, 0.5062264735958256, 0.5068749878155622, 0.5091619805360319, 0.5136041685686192, 0.5156202767039532, 0.5157230551231065, 0.5176152500681064, 0.5203098964300801, 0.5216887654746438, 0.5235904529150094, 0.5275867304338169, 0.5280957757435386, 0.5331243874877711, 0.5339436692105695, 0.5415089287030682, 0.5432555659565025, 0.5456310541283991, 0.5477024900508055, 0.5563862908955974, 0.5568509983734353, 0.560645143260871, 0.5637571261672573, 0.5670821739948217, 0.5678296116098254, 0.5799869388973893, 0.5840730664033842, 0.586758485774242, 0.5901025738400976, 0.5992919852016779, 0.5997832084817925, 0.6005544233486201, 0.6057585547020536, 0.6130057780575235, 0.6152076132927586, 0.6203394069412349, 0.6214636719427422, 0.6372582692472812, 0.6459797773586923, 0.6479390231848946, 0.6539170603163471, 0.6583453512855524, 0.6608926677824948, 0.6658149401218022, 0.6672571016987708, 0.6674105257953457, 0.6884711882098953, 0.6958929705774463, 0.6985957837473922, 0.6999305703291974, 0.7024000843903964, 0.704926074300313, 0.7079024931935427, 0.7098252881339375, 0.7102200699626375, 0.7136052433460427, 0.7147274300862941, 0.7181432007652032, 0.7184344067362007, 0.7229466643311087, 0.7268973198439873, 0.7292975049657038, 0.7351744012636008, 0.7397107649314462, 0.7423987092723235, 0.7460568745053817, 0.7535544433543359, 0.7556089322930072, 0.7636106722551739, 0.7706937289715434, 0.7743352829631456, 0.7756398056075029, 0.7767799203508281, 0.7862913522943407, 0.7874734067822422, 0.7925938256137243, 0.796787687684642, 0.8024779526857518, 0.8331330972927026, 0.8444778201014266, 0.8607962303096, 0.8610527819052776, 0.8668869614622658, 0.8720587730855314, 0.8757783624992352, 0.8839684312620482, 0.8912662102781919, 0.9163550990955551, 0.9350133420176653, 0.9548789767273786], \"yaxis\": \"y\"}],\n",
              "                        {\"legend\": {\"tracegroupgap\": 0}, \"margin\": {\"t\": 60}, \"template\": {\"data\": {\"bar\": [{\"error_x\": {\"color\": \"#2a3f5f\"}, \"error_y\": {\"color\": \"#2a3f5f\"}, \"marker\": {\"line\": {\"color\": \"#E5ECF6\", \"width\": 0.5}}, \"type\": \"bar\"}], \"barpolar\": [{\"marker\": {\"line\": {\"color\": \"#E5ECF6\", \"width\": 0.5}}, \"type\": \"barpolar\"}], \"carpet\": [{\"aaxis\": {\"endlinecolor\": \"#2a3f5f\", \"gridcolor\": \"white\", \"linecolor\": \"white\", \"minorgridcolor\": \"white\", \"startlinecolor\": \"#2a3f5f\"}, \"baxis\": {\"endlinecolor\": \"#2a3f5f\", \"gridcolor\": \"white\", \"linecolor\": \"white\", \"minorgridcolor\": \"white\", \"startlinecolor\": \"#2a3f5f\"}, \"type\": \"carpet\"}], \"choropleth\": [{\"colorbar\": {\"outlinewidth\": 0, \"ticks\": \"\"}, \"type\": \"choropleth\"}], \"contour\": [{\"colorbar\": {\"outlinewidth\": 0, \"ticks\": \"\"}, \"colorscale\": [[0.0, \"#0d0887\"], [0.1111111111111111, \"#46039f\"], [0.2222222222222222, \"#7201a8\"], [0.3333333333333333, \"#9c179e\"], [0.4444444444444444, \"#bd3786\"], [0.5555555555555556, \"#d8576b\"], [0.6666666666666666, \"#ed7953\"], [0.7777777777777778, \"#fb9f3a\"], [0.8888888888888888, \"#fdca26\"], [1.0, \"#f0f921\"]], \"type\": \"contour\"}], \"contourcarpet\": [{\"colorbar\": {\"outlinewidth\": 0, \"ticks\": \"\"}, \"type\": \"contourcarpet\"}], \"heatmap\": [{\"colorbar\": {\"outlinewidth\": 0, \"ticks\": \"\"}, \"colorscale\": [[0.0, \"#0d0887\"], [0.1111111111111111, \"#46039f\"], [0.2222222222222222, \"#7201a8\"], [0.3333333333333333, \"#9c179e\"], [0.4444444444444444, \"#bd3786\"], [0.5555555555555556, \"#d8576b\"], [0.6666666666666666, \"#ed7953\"], [0.7777777777777778, \"#fb9f3a\"], [0.8888888888888888, \"#fdca26\"], [1.0, \"#f0f921\"]], \"type\": \"heatmap\"}], \"heatmapgl\": [{\"colorbar\": {\"outlinewidth\": 0, \"ticks\": \"\"}, \"colorscale\": [[0.0, \"#0d0887\"], [0.1111111111111111, \"#46039f\"], [0.2222222222222222, \"#7201a8\"], [0.3333333333333333, \"#9c179e\"], [0.4444444444444444, \"#bd3786\"], [0.5555555555555556, \"#d8576b\"], [0.6666666666666666, \"#ed7953\"], [0.7777777777777778, \"#fb9f3a\"], [0.8888888888888888, \"#fdca26\"], [1.0, \"#f0f921\"]], \"type\": \"heatmapgl\"}], \"histogram\": [{\"marker\": {\"colorbar\": {\"outlinewidth\": 0, \"ticks\": \"\"}}, \"type\": \"histogram\"}], \"histogram2d\": [{\"colorbar\": {\"outlinewidth\": 0, \"ticks\": \"\"}, \"colorscale\": [[0.0, \"#0d0887\"], [0.1111111111111111, \"#46039f\"], [0.2222222222222222, \"#7201a8\"], [0.3333333333333333, \"#9c179e\"], [0.4444444444444444, \"#bd3786\"], [0.5555555555555556, \"#d8576b\"], [0.6666666666666666, \"#ed7953\"], [0.7777777777777778, \"#fb9f3a\"], [0.8888888888888888, \"#fdca26\"], [1.0, \"#f0f921\"]], \"type\": \"histogram2d\"}], \"histogram2dcontour\": [{\"colorbar\": {\"outlinewidth\": 0, \"ticks\": \"\"}, \"colorscale\": [[0.0, \"#0d0887\"], [0.1111111111111111, \"#46039f\"], [0.2222222222222222, \"#7201a8\"], [0.3333333333333333, \"#9c179e\"], [0.4444444444444444, \"#bd3786\"], [0.5555555555555556, \"#d8576b\"], [0.6666666666666666, \"#ed7953\"], [0.7777777777777778, \"#fb9f3a\"], [0.8888888888888888, \"#fdca26\"], [1.0, \"#f0f921\"]], \"type\": \"histogram2dcontour\"}], \"mesh3d\": [{\"colorbar\": {\"outlinewidth\": 0, \"ticks\": \"\"}, \"type\": \"mesh3d\"}], \"parcoords\": [{\"line\": {\"colorbar\": {\"outlinewidth\": 0, \"ticks\": \"\"}}, \"type\": \"parcoords\"}], \"pie\": [{\"automargin\": true, \"type\": \"pie\"}], \"scatter\": [{\"marker\": {\"colorbar\": {\"outlinewidth\": 0, \"ticks\": \"\"}}, \"type\": \"scatter\"}], \"scatter3d\": [{\"line\": {\"colorbar\": {\"outlinewidth\": 0, \"ticks\": \"\"}}, \"marker\": {\"colorbar\": {\"outlinewidth\": 0, \"ticks\": \"\"}}, \"type\": \"scatter3d\"}], \"scattercarpet\": [{\"marker\": {\"colorbar\": {\"outlinewidth\": 0, \"ticks\": \"\"}}, \"type\": \"scattercarpet\"}], \"scattergeo\": [{\"marker\": {\"colorbar\": {\"outlinewidth\": 0, \"ticks\": \"\"}}, \"type\": \"scattergeo\"}], \"scattergl\": [{\"marker\": {\"colorbar\": {\"outlinewidth\": 0, \"ticks\": \"\"}}, \"type\": \"scattergl\"}], \"scattermapbox\": [{\"marker\": {\"colorbar\": {\"outlinewidth\": 0, \"ticks\": \"\"}}, \"type\": \"scattermapbox\"}], \"scatterpolar\": [{\"marker\": {\"colorbar\": {\"outlinewidth\": 0, \"ticks\": \"\"}}, \"type\": \"scatterpolar\"}], \"scatterpolargl\": [{\"marker\": {\"colorbar\": {\"outlinewidth\": 0, \"ticks\": \"\"}}, \"type\": \"scatterpolargl\"}], \"scatterternary\": [{\"marker\": {\"colorbar\": {\"outlinewidth\": 0, \"ticks\": \"\"}}, \"type\": \"scatterternary\"}], \"surface\": [{\"colorbar\": {\"outlinewidth\": 0, \"ticks\": \"\"}, \"colorscale\": [[0.0, \"#0d0887\"], [0.1111111111111111, \"#46039f\"], [0.2222222222222222, \"#7201a8\"], [0.3333333333333333, \"#9c179e\"], [0.4444444444444444, \"#bd3786\"], [0.5555555555555556, \"#d8576b\"], [0.6666666666666666, \"#ed7953\"], [0.7777777777777778, \"#fb9f3a\"], [0.8888888888888888, \"#fdca26\"], [1.0, \"#f0f921\"]], \"type\": \"surface\"}], \"table\": [{\"cells\": {\"fill\": {\"color\": \"#EBF0F8\"}, \"line\": {\"color\": \"white\"}}, \"header\": {\"fill\": {\"color\": \"#C8D4E3\"}, \"line\": {\"color\": \"white\"}}, \"type\": \"table\"}]}, \"layout\": {\"annotationdefaults\": {\"arrowcolor\": \"#2a3f5f\", \"arrowhead\": 0, \"arrowwidth\": 1}, \"coloraxis\": {\"colorbar\": {\"outlinewidth\": 0, \"ticks\": \"\"}}, \"colorscale\": {\"diverging\": [[0, \"#8e0152\"], [0.1, \"#c51b7d\"], [0.2, \"#de77ae\"], [0.3, \"#f1b6da\"], [0.4, \"#fde0ef\"], [0.5, \"#f7f7f7\"], [0.6, \"#e6f5d0\"], [0.7, \"#b8e186\"], [0.8, \"#7fbc41\"], [0.9, \"#4d9221\"], [1, \"#276419\"]], \"sequential\": [[0.0, \"#0d0887\"], [0.1111111111111111, \"#46039f\"], [0.2222222222222222, \"#7201a8\"], [0.3333333333333333, \"#9c179e\"], [0.4444444444444444, \"#bd3786\"], [0.5555555555555556, \"#d8576b\"], [0.6666666666666666, \"#ed7953\"], [0.7777777777777778, \"#fb9f3a\"], [0.8888888888888888, \"#fdca26\"], [1.0, \"#f0f921\"]], \"sequentialminus\": [[0.0, \"#0d0887\"], [0.1111111111111111, \"#46039f\"], [0.2222222222222222, \"#7201a8\"], [0.3333333333333333, \"#9c179e\"], [0.4444444444444444, \"#bd3786\"], [0.5555555555555556, \"#d8576b\"], [0.6666666666666666, \"#ed7953\"], [0.7777777777777778, \"#fb9f3a\"], [0.8888888888888888, \"#fdca26\"], [1.0, \"#f0f921\"]]}, \"colorway\": [\"#636efa\", \"#EF553B\", \"#00cc96\", \"#ab63fa\", \"#FFA15A\", \"#19d3f3\", \"#FF6692\", \"#B6E880\", \"#FF97FF\", \"#FECB52\"], \"font\": {\"color\": \"#2a3f5f\"}, \"geo\": {\"bgcolor\": \"white\", \"lakecolor\": \"white\", \"landcolor\": \"#E5ECF6\", \"showlakes\": true, \"showland\": true, \"subunitcolor\": \"white\"}, \"hoverlabel\": {\"align\": \"left\"}, \"hovermode\": \"closest\", \"mapbox\": {\"style\": \"light\"}, \"paper_bgcolor\": \"white\", \"plot_bgcolor\": \"#E5ECF6\", \"polar\": {\"angularaxis\": {\"gridcolor\": \"white\", \"linecolor\": \"white\", \"ticks\": \"\"}, \"bgcolor\": \"#E5ECF6\", \"radialaxis\": {\"gridcolor\": \"white\", \"linecolor\": \"white\", \"ticks\": \"\"}}, \"scene\": {\"xaxis\": {\"backgroundcolor\": \"#E5ECF6\", \"gridcolor\": \"white\", \"gridwidth\": 2, \"linecolor\": \"white\", \"showbackground\": true, \"ticks\": \"\", \"zerolinecolor\": \"white\"}, \"yaxis\": {\"backgroundcolor\": \"#E5ECF6\", \"gridcolor\": \"white\", \"gridwidth\": 2, \"linecolor\": \"white\", \"showbackground\": true, \"ticks\": \"\", \"zerolinecolor\": \"white\"}, \"zaxis\": {\"backgroundcolor\": \"#E5ECF6\", \"gridcolor\": \"white\", \"gridwidth\": 2, \"linecolor\": \"white\", \"showbackground\": true, \"ticks\": \"\", \"zerolinecolor\": \"white\"}}, \"shapedefaults\": {\"line\": {\"color\": \"#2a3f5f\"}}, \"ternary\": {\"aaxis\": {\"gridcolor\": \"white\", \"linecolor\": \"white\", \"ticks\": \"\"}, \"baxis\": {\"gridcolor\": \"white\", \"linecolor\": \"white\", \"ticks\": \"\"}, \"bgcolor\": \"#E5ECF6\", \"caxis\": {\"gridcolor\": \"white\", \"linecolor\": \"white\", \"ticks\": \"\"}}, \"title\": {\"x\": 0.05}, \"xaxis\": {\"automargin\": true, \"gridcolor\": \"white\", \"linecolor\": \"white\", \"ticks\": \"\", \"title\": {\"standoff\": 15}, \"zerolinecolor\": \"white\", \"zerolinewidth\": 2}, \"yaxis\": {\"automargin\": true, \"gridcolor\": \"white\", \"linecolor\": \"white\", \"ticks\": \"\", \"title\": {\"standoff\": 15}, \"zerolinecolor\": \"white\", \"zerolinewidth\": 2}}}, \"width\": 800, \"xaxis\": {\"anchor\": \"y\", \"domain\": [0.0, 1.0], \"title\": {\"text\": \"data\"}}, \"yaxis\": {\"anchor\": \"x\", \"domain\": [0.0, 1.0], \"range\": [-0.5, 1.5], \"title\": {\"text\": \"sigmoid\"}}},\n",
              "                        {\"responsive\": true}\n",
              "                    ).then(function(){\n",
              "                            \n",
              "var gd = document.getElementById('8259c889-19af-4098-9a87-2ba229dbe6aa');\n",
              "var x = new MutationObserver(function (mutations, observer) {{\n",
              "        var display = window.getComputedStyle(gd).display;\n",
              "        if (!display || display === 'none') {{\n",
              "            console.log([gd, 'removed!']);\n",
              "            Plotly.purge(gd);\n",
              "            observer.disconnect();\n",
              "        }}\n",
              "}});\n",
              "\n",
              "// Listen for the removal of the full notebook cells\n",
              "var notebookContainer = gd.closest('#notebook-container');\n",
              "if (notebookContainer) {{\n",
              "    x.observe(notebookContainer, {childList: true});\n",
              "}}\n",
              "\n",
              "// Listen for the clearing of the current output cell\n",
              "var outputEl = gd.closest('.output');\n",
              "if (outputEl) {{\n",
              "    x.observe(outputEl, {childList: true});\n",
              "}}\n",
              "\n",
              "                        })\n",
              "                };\n",
              "                \n",
              "            </script>\n",
              "        </div>\n",
              "</body>\n",
              "</html>"
            ]
          },
          "metadata": {
            "tags": []
          }
        }
      ]
    },
    {
      "cell_type": "code",
      "metadata": {
        "id": "bX8_Bg2OfyLi",
        "colab": {
          "base_uri": "https://localhost:8080/",
          "height": 203
        },
        "outputId": "c28a01cc-bcfa-4ee7-f305-4530925754ff"
      },
      "source": [
        "from tensorflow.keras.activations import relu\n",
        "\n",
        "data = pd.DataFrame({'data': random_data, 'relu': relu(random_data)})\n",
        "data.head()"
      ],
      "execution_count": 11,
      "outputs": [
        {
          "output_type": "execute_result",
          "data": {
            "text/html": [
              "<div>\n",
              "<style scoped>\n",
              "    .dataframe tbody tr th:only-of-type {\n",
              "        vertical-align: middle;\n",
              "    }\n",
              "\n",
              "    .dataframe tbody tr th {\n",
              "        vertical-align: top;\n",
              "    }\n",
              "\n",
              "    .dataframe thead th {\n",
              "        text-align: right;\n",
              "    }\n",
              "</style>\n",
              "<table border=\"1\" class=\"dataframe\">\n",
              "  <thead>\n",
              "    <tr style=\"text-align: right;\">\n",
              "      <th></th>\n",
              "      <th>data</th>\n",
              "      <th>relu</th>\n",
              "    </tr>\n",
              "  </thead>\n",
              "  <tbody>\n",
              "    <tr>\n",
              "      <th>0</th>\n",
              "      <td>-2.762310</td>\n",
              "      <td>0.0</td>\n",
              "    </tr>\n",
              "    <tr>\n",
              "      <th>1</th>\n",
              "      <td>-2.707523</td>\n",
              "      <td>0.0</td>\n",
              "    </tr>\n",
              "    <tr>\n",
              "      <th>2</th>\n",
              "      <td>-2.125510</td>\n",
              "      <td>0.0</td>\n",
              "    </tr>\n",
              "    <tr>\n",
              "      <th>3</th>\n",
              "      <td>-1.932152</td>\n",
              "      <td>0.0</td>\n",
              "    </tr>\n",
              "    <tr>\n",
              "      <th>4</th>\n",
              "      <td>-1.905046</td>\n",
              "      <td>0.0</td>\n",
              "    </tr>\n",
              "  </tbody>\n",
              "</table>\n",
              "</div>"
            ],
            "text/plain": [
              "       data  relu\n",
              "0 -2.762310   0.0\n",
              "1 -2.707523   0.0\n",
              "2 -2.125510   0.0\n",
              "3 -1.932152   0.0\n",
              "4 -1.905046   0.0"
            ]
          },
          "metadata": {
            "tags": []
          },
          "execution_count": 11
        }
      ]
    },
    {
      "cell_type": "code",
      "metadata": {
        "id": "vXV-1MECgWyz",
        "colab": {
          "base_uri": "https://localhost:8080/",
          "height": 542
        },
        "outputId": "d711b3b0-1ac3-4df1-a59c-c9bd10cb8cce"
      },
      "source": [
        "px.line(data, x='data', y='relu', width=800, range_y=[-0.5, 1.5])"
      ],
      "execution_count": 12,
      "outputs": [
        {
          "output_type": "display_data",
          "data": {
            "text/html": [
              "<html>\n",
              "<head><meta charset=\"utf-8\" /></head>\n",
              "<body>\n",
              "    <div>\n",
              "            <script src=\"https://cdnjs.cloudflare.com/ajax/libs/mathjax/2.7.5/MathJax.js?config=TeX-AMS-MML_SVG\"></script><script type=\"text/javascript\">if (window.MathJax) {MathJax.Hub.Config({SVG: {font: \"STIX-Web\"}});}</script>\n",
              "                <script type=\"text/javascript\">window.PlotlyConfig = {MathJaxConfig: 'local'};</script>\n",
              "        <script src=\"https://cdn.plot.ly/plotly-latest.min.js\"></script>    \n",
              "            <div id=\"d482a9e4-9123-414e-9f13-b02ab02f0ec5\" class=\"plotly-graph-div\" style=\"height:525px; width:800px;\"></div>\n",
              "            <script type=\"text/javascript\">\n",
              "                \n",
              "                    window.PLOTLYENV=window.PLOTLYENV || {};\n",
              "                    \n",
              "                if (document.getElementById(\"d482a9e4-9123-414e-9f13-b02ab02f0ec5\")) {\n",
              "                    Plotly.newPlot(\n",
              "                        'd482a9e4-9123-414e-9f13-b02ab02f0ec5',\n",
              "                        [{\"hoverlabel\": {\"namelength\": 0}, \"hovertemplate\": \"data=%{x}<br>relu=%{y}\", \"legendgroup\": \"\", \"line\": {\"color\": \"#636efa\", \"dash\": \"solid\"}, \"mode\": \"lines\", \"name\": \"\", \"showlegend\": false, \"type\": \"scatter\", \"x\": [-2.7623101887937995, -2.7075234314930183, -2.1255103048765265, -1.932151915103832, -1.9050457731774548, -1.8790736060387094, -1.7997116973453373, -1.6919824003438166, -1.6011243761253426, -1.5918757362509681, -1.554460981916344, -1.536515141729633, -1.5244805790977927, -1.5060655192553656, -1.492899803917683, -1.4081371778690701, -1.3999053233602952, -1.349285604047609, -1.339268242731042, -1.3313413811322694, -1.2669311063690043, -1.2288579808590967, -1.187925485826264, -1.174791790900019, -1.1735855003430937, -1.172270965909411, -1.1482735534784394, -1.1472960831671504, -1.1328239640697553, -1.1256944235316029, -1.1225899421300325, -1.0879971930361323, -1.0860724562535795, -1.0679483679729613, -1.0619735893353446, -1.059451657967127, -1.0121170278188827, -1.0077130040267748, -0.9971680945720256, -0.9817939931354543, -0.977515101190015, -0.96914985481558, -0.9232514383556012, -0.8992708182462549, -0.8715182427242395, -0.8524436052530644, -0.8437458315166078, -0.8094115780806175, -0.802615549988629, -0.7505544773146503, -0.7502094875842503, -0.7356552063463784, -0.7095407485394538, -0.7077871083434474, -0.6825820574485651, -0.652061522394586, -0.6389972213641872, -0.6231848108436187, -0.604512373807819, -0.6023039125007106, -0.571530866497556, -0.5642388558974654, -0.5610724584862115, -0.5560588101143124, -0.554325807926804, -0.5476443581651544, -0.5336543531678127, -0.5081355720898754, -0.4992892770069046, -0.4951022823002244, -0.4884584681526931, -0.48071527511643136, -0.4133100662303814, -0.3911718247711904, -0.3736485328111191, -0.3735828825734467, -0.3700463871649676, -0.3693820049611935, -0.31664548998502756, -0.31363084108805367, -0.30676845148066156, -0.2906146356903461, -0.28997500082143834, -0.27651202627545446, -0.2671947111501219, -0.2598416078851724, -0.236333412934837, -0.23033005503552967, -0.2296779400680529, -0.22876798067022502, -0.2196412115952789, -0.20068140466710713, -0.20008752615779338, -0.19990399311600499, -0.19969973751716355, -0.19615140111422869, -0.1804838430614808, -0.1614996125805968, -0.13427526301542725, -0.10297706133268864, -0.0999471107320764, -0.08486091751468319, -0.08073599627157577, -0.0728376096184009, -0.060560879927397275, -0.05853349245484414, -0.03483902332099604, -0.026700579638709313, -0.016470801989741154, -0.011415897783658238, 0.010645902108263128, 0.02490718193771605, 0.027501684522571415, 0.03665202469833121, 0.05443010834748738, 0.0625014453343239, 0.06291296328946179, 0.07049017378735468, 0.08128431089973448, 0.08680953648130847, 0.09443192298173016, 0.1104590961075359, 0.11250161042543676, 0.13269190150932364, 0.135983836683739, 0.16641873735653934, 0.17345585556552434, 0.18303349818027007, 0.19139206699591552, 0.2265086616074254, 0.22839163645217744, 0.24378074592128265, 0.2564243930591163, 0.2699562891939324, 0.2730014661063207, 0.3227197754872287, 0.3395164842646524, 0.3505810947087951, 0.36438942745488967, 0.40251591434059547, 0.40456189164158585, 0.4077757402003787, 0.4295179551589199, 0.4599645992233803, 0.4692558598967048, 0.4909890813642885, 0.4957654097312762, 0.5634839241199194, 0.60141416128677, 0.6099922017173266, 0.6363020679266069, 0.6559292158263227, 0.6672747766433046, 0.6893168532156518, 0.6958053168614444, 0.696496418288854, 0.7929816424449667, 0.8278161606905333, 0.8406200220775244, 0.8469672647643183, 0.8587531430776641, 0.8708670176275233, 0.8852186887848952, 0.8945356704155326, 0.8964531067433386, 0.9129588018306882, 0.9184561444645439, 0.9352698552945953, 0.9367089755980252, 0.9591254143009234, 0.9789373871216461, 0.9910613352989033, 1.0210362603413157, 1.0444657963113289, 1.0584734380761014, 1.0776915100108202, 1.1176601658568255, 1.1287542782287883, 1.172577928382274, 1.212232517889325, 1.2329546171326167, 1.2404354733213927, 1.246998878408444, 1.3027137728899256, 1.3097624758754907, 1.340631824907344, 1.3663369479761536, 1.401854171256322, 1.6079969051918883, 1.6919301145100503, 1.8219189814679277, 1.824061670495359, 1.8737099082771425, 1.919285828224625, 1.9530456787704127, 2.0305590523834423, 2.103740560984635, 2.39382348425369, 2.6663788117081744, 3.052236320663284], \"xaxis\": \"x\", \"y\": [0.0, 0.0, 0.0, 0.0, 0.0, 0.0, 0.0, 0.0, 0.0, 0.0, 0.0, 0.0, 0.0, 0.0, 0.0, 0.0, 0.0, 0.0, 0.0, 0.0, 0.0, 0.0, 0.0, 0.0, 0.0, 0.0, 0.0, 0.0, 0.0, 0.0, 0.0, 0.0, 0.0, 0.0, 0.0, 0.0, 0.0, 0.0, 0.0, 0.0, 0.0, 0.0, 0.0, 0.0, 0.0, 0.0, 0.0, 0.0, 0.0, 0.0, 0.0, 0.0, 0.0, 0.0, 0.0, 0.0, 0.0, 0.0, 0.0, 0.0, 0.0, 0.0, 0.0, 0.0, 0.0, 0.0, 0.0, 0.0, 0.0, 0.0, 0.0, 0.0, 0.0, 0.0, 0.0, 0.0, 0.0, 0.0, 0.0, 0.0, 0.0, 0.0, 0.0, 0.0, 0.0, 0.0, 0.0, 0.0, 0.0, 0.0, 0.0, 0.0, 0.0, 0.0, 0.0, 0.0, 0.0, 0.0, 0.0, 0.0, 0.0, 0.0, 0.0, 0.0, 0.0, 0.0, 0.0, 0.0, 0.0, 0.0, 0.010645902108263128, 0.02490718193771605, 0.027501684522571415, 0.03665202469833121, 0.05443010834748738, 0.0625014453343239, 0.06291296328946179, 0.07049017378735468, 0.08128431089973448, 0.08680953648130847, 0.09443192298173016, 0.1104590961075359, 0.11250161042543676, 0.13269190150932364, 0.135983836683739, 0.16641873735653934, 0.17345585556552434, 0.18303349818027007, 0.19139206699591552, 0.2265086616074254, 0.22839163645217744, 0.24378074592128265, 0.2564243930591163, 0.2699562891939324, 0.2730014661063207, 0.3227197754872287, 0.3395164842646524, 0.3505810947087951, 0.36438942745488967, 0.40251591434059547, 0.40456189164158585, 0.4077757402003787, 0.4295179551589199, 0.4599645992233803, 0.4692558598967048, 0.4909890813642885, 0.4957654097312762, 0.5634839241199194, 0.60141416128677, 0.6099922017173266, 0.6363020679266069, 0.6559292158263227, 0.6672747766433046, 0.6893168532156518, 0.6958053168614444, 0.696496418288854, 0.7929816424449667, 0.8278161606905333, 0.8406200220775244, 0.8469672647643183, 0.8587531430776641, 0.8708670176275233, 0.8852186887848952, 0.8945356704155326, 0.8964531067433386, 0.9129588018306882, 0.9184561444645439, 0.9352698552945953, 0.9367089755980252, 0.9591254143009234, 0.9789373871216461, 0.9910613352989033, 1.0210362603413157, 1.0444657963113289, 1.0584734380761014, 1.0776915100108202, 1.1176601658568255, 1.1287542782287883, 1.172577928382274, 1.212232517889325, 1.2329546171326167, 1.2404354733213927, 1.246998878408444, 1.3027137728899256, 1.3097624758754907, 1.340631824907344, 1.3663369479761536, 1.401854171256322, 1.6079969051918883, 1.6919301145100503, 1.8219189814679277, 1.824061670495359, 1.8737099082771425, 1.919285828224625, 1.9530456787704127, 2.0305590523834423, 2.103740560984635, 2.39382348425369, 2.6663788117081744, 3.052236320663284], \"yaxis\": \"y\"}],\n",
              "                        {\"legend\": {\"tracegroupgap\": 0}, \"margin\": {\"t\": 60}, \"template\": {\"data\": {\"bar\": [{\"error_x\": {\"color\": \"#2a3f5f\"}, \"error_y\": {\"color\": \"#2a3f5f\"}, \"marker\": {\"line\": {\"color\": \"#E5ECF6\", \"width\": 0.5}}, \"type\": \"bar\"}], \"barpolar\": [{\"marker\": {\"line\": {\"color\": \"#E5ECF6\", \"width\": 0.5}}, \"type\": \"barpolar\"}], \"carpet\": [{\"aaxis\": {\"endlinecolor\": \"#2a3f5f\", \"gridcolor\": \"white\", \"linecolor\": \"white\", \"minorgridcolor\": \"white\", \"startlinecolor\": \"#2a3f5f\"}, \"baxis\": {\"endlinecolor\": \"#2a3f5f\", \"gridcolor\": \"white\", \"linecolor\": \"white\", \"minorgridcolor\": \"white\", \"startlinecolor\": \"#2a3f5f\"}, \"type\": \"carpet\"}], \"choropleth\": [{\"colorbar\": {\"outlinewidth\": 0, \"ticks\": \"\"}, \"type\": \"choropleth\"}], \"contour\": [{\"colorbar\": {\"outlinewidth\": 0, \"ticks\": \"\"}, \"colorscale\": [[0.0, \"#0d0887\"], [0.1111111111111111, \"#46039f\"], [0.2222222222222222, \"#7201a8\"], [0.3333333333333333, \"#9c179e\"], [0.4444444444444444, \"#bd3786\"], [0.5555555555555556, \"#d8576b\"], [0.6666666666666666, \"#ed7953\"], [0.7777777777777778, \"#fb9f3a\"], [0.8888888888888888, \"#fdca26\"], [1.0, \"#f0f921\"]], \"type\": \"contour\"}], \"contourcarpet\": [{\"colorbar\": {\"outlinewidth\": 0, \"ticks\": \"\"}, \"type\": \"contourcarpet\"}], \"heatmap\": [{\"colorbar\": {\"outlinewidth\": 0, \"ticks\": \"\"}, \"colorscale\": [[0.0, \"#0d0887\"], [0.1111111111111111, \"#46039f\"], [0.2222222222222222, \"#7201a8\"], [0.3333333333333333, \"#9c179e\"], [0.4444444444444444, \"#bd3786\"], [0.5555555555555556, \"#d8576b\"], [0.6666666666666666, \"#ed7953\"], [0.7777777777777778, \"#fb9f3a\"], [0.8888888888888888, \"#fdca26\"], [1.0, \"#f0f921\"]], \"type\": \"heatmap\"}], \"heatmapgl\": [{\"colorbar\": {\"outlinewidth\": 0, \"ticks\": \"\"}, \"colorscale\": [[0.0, \"#0d0887\"], [0.1111111111111111, \"#46039f\"], [0.2222222222222222, \"#7201a8\"], [0.3333333333333333, \"#9c179e\"], [0.4444444444444444, \"#bd3786\"], [0.5555555555555556, \"#d8576b\"], [0.6666666666666666, \"#ed7953\"], [0.7777777777777778, \"#fb9f3a\"], [0.8888888888888888, \"#fdca26\"], [1.0, \"#f0f921\"]], \"type\": \"heatmapgl\"}], \"histogram\": [{\"marker\": {\"colorbar\": {\"outlinewidth\": 0, \"ticks\": \"\"}}, \"type\": \"histogram\"}], \"histogram2d\": [{\"colorbar\": {\"outlinewidth\": 0, \"ticks\": \"\"}, \"colorscale\": [[0.0, \"#0d0887\"], [0.1111111111111111, \"#46039f\"], [0.2222222222222222, \"#7201a8\"], [0.3333333333333333, \"#9c179e\"], [0.4444444444444444, \"#bd3786\"], [0.5555555555555556, \"#d8576b\"], [0.6666666666666666, \"#ed7953\"], [0.7777777777777778, \"#fb9f3a\"], [0.8888888888888888, \"#fdca26\"], [1.0, \"#f0f921\"]], \"type\": \"histogram2d\"}], \"histogram2dcontour\": [{\"colorbar\": {\"outlinewidth\": 0, \"ticks\": \"\"}, \"colorscale\": [[0.0, \"#0d0887\"], [0.1111111111111111, \"#46039f\"], [0.2222222222222222, \"#7201a8\"], [0.3333333333333333, \"#9c179e\"], [0.4444444444444444, \"#bd3786\"], [0.5555555555555556, \"#d8576b\"], [0.6666666666666666, \"#ed7953\"], [0.7777777777777778, \"#fb9f3a\"], [0.8888888888888888, \"#fdca26\"], [1.0, \"#f0f921\"]], \"type\": \"histogram2dcontour\"}], \"mesh3d\": [{\"colorbar\": {\"outlinewidth\": 0, \"ticks\": \"\"}, \"type\": \"mesh3d\"}], \"parcoords\": [{\"line\": {\"colorbar\": {\"outlinewidth\": 0, \"ticks\": \"\"}}, \"type\": \"parcoords\"}], \"pie\": [{\"automargin\": true, \"type\": \"pie\"}], \"scatter\": [{\"marker\": {\"colorbar\": {\"outlinewidth\": 0, \"ticks\": \"\"}}, \"type\": \"scatter\"}], \"scatter3d\": [{\"line\": {\"colorbar\": {\"outlinewidth\": 0, \"ticks\": \"\"}}, \"marker\": {\"colorbar\": {\"outlinewidth\": 0, \"ticks\": \"\"}}, \"type\": \"scatter3d\"}], \"scattercarpet\": [{\"marker\": {\"colorbar\": {\"outlinewidth\": 0, \"ticks\": \"\"}}, \"type\": \"scattercarpet\"}], \"scattergeo\": [{\"marker\": {\"colorbar\": {\"outlinewidth\": 0, \"ticks\": \"\"}}, \"type\": \"scattergeo\"}], \"scattergl\": [{\"marker\": {\"colorbar\": {\"outlinewidth\": 0, \"ticks\": \"\"}}, \"type\": \"scattergl\"}], \"scattermapbox\": [{\"marker\": {\"colorbar\": {\"outlinewidth\": 0, \"ticks\": \"\"}}, \"type\": \"scattermapbox\"}], \"scatterpolar\": [{\"marker\": {\"colorbar\": {\"outlinewidth\": 0, \"ticks\": \"\"}}, \"type\": \"scatterpolar\"}], \"scatterpolargl\": [{\"marker\": {\"colorbar\": {\"outlinewidth\": 0, \"ticks\": \"\"}}, \"type\": \"scatterpolargl\"}], \"scatterternary\": [{\"marker\": {\"colorbar\": {\"outlinewidth\": 0, \"ticks\": \"\"}}, \"type\": \"scatterternary\"}], \"surface\": [{\"colorbar\": {\"outlinewidth\": 0, \"ticks\": \"\"}, \"colorscale\": [[0.0, \"#0d0887\"], [0.1111111111111111, \"#46039f\"], [0.2222222222222222, \"#7201a8\"], [0.3333333333333333, \"#9c179e\"], [0.4444444444444444, \"#bd3786\"], [0.5555555555555556, \"#d8576b\"], [0.6666666666666666, \"#ed7953\"], [0.7777777777777778, \"#fb9f3a\"], [0.8888888888888888, \"#fdca26\"], [1.0, \"#f0f921\"]], \"type\": \"surface\"}], \"table\": [{\"cells\": {\"fill\": {\"color\": \"#EBF0F8\"}, \"line\": {\"color\": \"white\"}}, \"header\": {\"fill\": {\"color\": \"#C8D4E3\"}, \"line\": {\"color\": \"white\"}}, \"type\": \"table\"}]}, \"layout\": {\"annotationdefaults\": {\"arrowcolor\": \"#2a3f5f\", \"arrowhead\": 0, \"arrowwidth\": 1}, \"coloraxis\": {\"colorbar\": {\"outlinewidth\": 0, \"ticks\": \"\"}}, \"colorscale\": {\"diverging\": [[0, \"#8e0152\"], [0.1, \"#c51b7d\"], [0.2, \"#de77ae\"], [0.3, \"#f1b6da\"], [0.4, \"#fde0ef\"], [0.5, \"#f7f7f7\"], [0.6, \"#e6f5d0\"], [0.7, \"#b8e186\"], [0.8, \"#7fbc41\"], [0.9, \"#4d9221\"], [1, \"#276419\"]], \"sequential\": [[0.0, \"#0d0887\"], [0.1111111111111111, \"#46039f\"], [0.2222222222222222, \"#7201a8\"], [0.3333333333333333, \"#9c179e\"], [0.4444444444444444, \"#bd3786\"], [0.5555555555555556, \"#d8576b\"], [0.6666666666666666, \"#ed7953\"], [0.7777777777777778, \"#fb9f3a\"], [0.8888888888888888, \"#fdca26\"], [1.0, \"#f0f921\"]], \"sequentialminus\": [[0.0, \"#0d0887\"], [0.1111111111111111, \"#46039f\"], [0.2222222222222222, \"#7201a8\"], [0.3333333333333333, \"#9c179e\"], [0.4444444444444444, \"#bd3786\"], [0.5555555555555556, \"#d8576b\"], [0.6666666666666666, \"#ed7953\"], [0.7777777777777778, \"#fb9f3a\"], [0.8888888888888888, \"#fdca26\"], [1.0, \"#f0f921\"]]}, \"colorway\": [\"#636efa\", \"#EF553B\", \"#00cc96\", \"#ab63fa\", \"#FFA15A\", \"#19d3f3\", \"#FF6692\", \"#B6E880\", \"#FF97FF\", \"#FECB52\"], \"font\": {\"color\": \"#2a3f5f\"}, \"geo\": {\"bgcolor\": \"white\", \"lakecolor\": \"white\", \"landcolor\": \"#E5ECF6\", \"showlakes\": true, \"showland\": true, \"subunitcolor\": \"white\"}, \"hoverlabel\": {\"align\": \"left\"}, \"hovermode\": \"closest\", \"mapbox\": {\"style\": \"light\"}, \"paper_bgcolor\": \"white\", \"plot_bgcolor\": \"#E5ECF6\", \"polar\": {\"angularaxis\": {\"gridcolor\": \"white\", \"linecolor\": \"white\", \"ticks\": \"\"}, \"bgcolor\": \"#E5ECF6\", \"radialaxis\": {\"gridcolor\": \"white\", \"linecolor\": \"white\", \"ticks\": \"\"}}, \"scene\": {\"xaxis\": {\"backgroundcolor\": \"#E5ECF6\", \"gridcolor\": \"white\", \"gridwidth\": 2, \"linecolor\": \"white\", \"showbackground\": true, \"ticks\": \"\", \"zerolinecolor\": \"white\"}, \"yaxis\": {\"backgroundcolor\": \"#E5ECF6\", \"gridcolor\": \"white\", \"gridwidth\": 2, \"linecolor\": \"white\", \"showbackground\": true, \"ticks\": \"\", \"zerolinecolor\": \"white\"}, \"zaxis\": {\"backgroundcolor\": \"#E5ECF6\", \"gridcolor\": \"white\", \"gridwidth\": 2, \"linecolor\": \"white\", \"showbackground\": true, \"ticks\": \"\", \"zerolinecolor\": \"white\"}}, \"shapedefaults\": {\"line\": {\"color\": \"#2a3f5f\"}}, \"ternary\": {\"aaxis\": {\"gridcolor\": \"white\", \"linecolor\": \"white\", \"ticks\": \"\"}, \"baxis\": {\"gridcolor\": \"white\", \"linecolor\": \"white\", \"ticks\": \"\"}, \"bgcolor\": \"#E5ECF6\", \"caxis\": {\"gridcolor\": \"white\", \"linecolor\": \"white\", \"ticks\": \"\"}}, \"title\": {\"x\": 0.05}, \"xaxis\": {\"automargin\": true, \"gridcolor\": \"white\", \"linecolor\": \"white\", \"ticks\": \"\", \"title\": {\"standoff\": 15}, \"zerolinecolor\": \"white\", \"zerolinewidth\": 2}, \"yaxis\": {\"automargin\": true, \"gridcolor\": \"white\", \"linecolor\": \"white\", \"ticks\": \"\", \"title\": {\"standoff\": 15}, \"zerolinecolor\": \"white\", \"zerolinewidth\": 2}}}, \"width\": 800, \"xaxis\": {\"anchor\": \"y\", \"domain\": [0.0, 1.0], \"title\": {\"text\": \"data\"}}, \"yaxis\": {\"anchor\": \"x\", \"domain\": [0.0, 1.0], \"range\": [-0.5, 1.5], \"title\": {\"text\": \"relu\"}}},\n",
              "                        {\"responsive\": true}\n",
              "                    ).then(function(){\n",
              "                            \n",
              "var gd = document.getElementById('d482a9e4-9123-414e-9f13-b02ab02f0ec5');\n",
              "var x = new MutationObserver(function (mutations, observer) {{\n",
              "        var display = window.getComputedStyle(gd).display;\n",
              "        if (!display || display === 'none') {{\n",
              "            console.log([gd, 'removed!']);\n",
              "            Plotly.purge(gd);\n",
              "            observer.disconnect();\n",
              "        }}\n",
              "}});\n",
              "\n",
              "// Listen for the removal of the full notebook cells\n",
              "var notebookContainer = gd.closest('#notebook-container');\n",
              "if (notebookContainer) {{\n",
              "    x.observe(notebookContainer, {childList: true});\n",
              "}}\n",
              "\n",
              "// Listen for the clearing of the current output cell\n",
              "var outputEl = gd.closest('.output');\n",
              "if (outputEl) {{\n",
              "    x.observe(outputEl, {childList: true});\n",
              "}}\n",
              "\n",
              "                        })\n",
              "                };\n",
              "                \n",
              "            </script>\n",
              "        </div>\n",
              "</body>\n",
              "</html>"
            ]
          },
          "metadata": {
            "tags": []
          }
        }
      ]
    },
    {
      "cell_type": "code",
      "metadata": {
        "id": "5AF9VX1OgZNg",
        "colab": {
          "base_uri": "https://localhost:8080/",
          "height": 203
        },
        "outputId": "725ea0be-c1a9-48c7-b712-e6e4cb6f36b6"
      },
      "source": [
        "from tensorflow.keras.activations import tanh\n",
        "\n",
        "data = pd.DataFrame({'data': random_data, 'tanh': tanh(random_data)})\n",
        "data.head()"
      ],
      "execution_count": 13,
      "outputs": [
        {
          "output_type": "execute_result",
          "data": {
            "text/html": [
              "<div>\n",
              "<style scoped>\n",
              "    .dataframe tbody tr th:only-of-type {\n",
              "        vertical-align: middle;\n",
              "    }\n",
              "\n",
              "    .dataframe tbody tr th {\n",
              "        vertical-align: top;\n",
              "    }\n",
              "\n",
              "    .dataframe thead th {\n",
              "        text-align: right;\n",
              "    }\n",
              "</style>\n",
              "<table border=\"1\" class=\"dataframe\">\n",
              "  <thead>\n",
              "    <tr style=\"text-align: right;\">\n",
              "      <th></th>\n",
              "      <th>data</th>\n",
              "      <th>tanh</th>\n",
              "    </tr>\n",
              "  </thead>\n",
              "  <tbody>\n",
              "    <tr>\n",
              "      <th>0</th>\n",
              "      <td>-2.762310</td>\n",
              "      <td>-0.992057</td>\n",
              "    </tr>\n",
              "    <tr>\n",
              "      <th>1</th>\n",
              "      <td>-2.707523</td>\n",
              "      <td>-0.991141</td>\n",
              "    </tr>\n",
              "    <tr>\n",
              "      <th>2</th>\n",
              "      <td>-2.125510</td>\n",
              "      <td>-0.971901</td>\n",
              "    </tr>\n",
              "    <tr>\n",
              "      <th>3</th>\n",
              "      <td>-1.932152</td>\n",
              "      <td>-0.958907</td>\n",
              "    </tr>\n",
              "    <tr>\n",
              "      <th>4</th>\n",
              "      <td>-1.905046</td>\n",
              "      <td>-0.956667</td>\n",
              "    </tr>\n",
              "  </tbody>\n",
              "</table>\n",
              "</div>"
            ],
            "text/plain": [
              "       data      tanh\n",
              "0 -2.762310 -0.992057\n",
              "1 -2.707523 -0.991141\n",
              "2 -2.125510 -0.971901\n",
              "3 -1.932152 -0.958907\n",
              "4 -1.905046 -0.956667"
            ]
          },
          "metadata": {
            "tags": []
          },
          "execution_count": 13
        }
      ]
    },
    {
      "cell_type": "code",
      "metadata": {
        "id": "60dxCfJpghZR",
        "colab": {
          "base_uri": "https://localhost:8080/",
          "height": 542
        },
        "outputId": "f7b9ce8b-7e86-4ead-dc60-6eaffffa3b82"
      },
      "source": [
        "px.line(data, x='data', y='tanh', width=800, range_y=[-1.5, 1.5])"
      ],
      "execution_count": 14,
      "outputs": [
        {
          "output_type": "display_data",
          "data": {
            "text/html": [
              "<html>\n",
              "<head><meta charset=\"utf-8\" /></head>\n",
              "<body>\n",
              "    <div>\n",
              "            <script src=\"https://cdnjs.cloudflare.com/ajax/libs/mathjax/2.7.5/MathJax.js?config=TeX-AMS-MML_SVG\"></script><script type=\"text/javascript\">if (window.MathJax) {MathJax.Hub.Config({SVG: {font: \"STIX-Web\"}});}</script>\n",
              "                <script type=\"text/javascript\">window.PlotlyConfig = {MathJaxConfig: 'local'};</script>\n",
              "        <script src=\"https://cdn.plot.ly/plotly-latest.min.js\"></script>    \n",
              "            <div id=\"263b2b22-2142-4177-9e3d-fa5e2a27c2c5\" class=\"plotly-graph-div\" style=\"height:525px; width:800px;\"></div>\n",
              "            <script type=\"text/javascript\">\n",
              "                \n",
              "                    window.PLOTLYENV=window.PLOTLYENV || {};\n",
              "                    \n",
              "                if (document.getElementById(\"263b2b22-2142-4177-9e3d-fa5e2a27c2c5\")) {\n",
              "                    Plotly.newPlot(\n",
              "                        '263b2b22-2142-4177-9e3d-fa5e2a27c2c5',\n",
              "                        [{\"hoverlabel\": {\"namelength\": 0}, \"hovertemplate\": \"data=%{x}<br>tanh=%{y}\", \"legendgroup\": \"\", \"line\": {\"color\": \"#636efa\", \"dash\": \"solid\"}, \"mode\": \"lines\", \"name\": \"\", \"showlegend\": false, \"type\": \"scatter\", \"x\": [-2.7623101887937995, -2.7075234314930183, -2.1255103048765265, -1.932151915103832, -1.9050457731774548, -1.8790736060387094, -1.7997116973453373, -1.6919824003438166, -1.6011243761253426, -1.5918757362509681, -1.554460981916344, -1.536515141729633, -1.5244805790977927, -1.5060655192553656, -1.492899803917683, -1.4081371778690701, -1.3999053233602952, -1.349285604047609, -1.339268242731042, -1.3313413811322694, -1.2669311063690043, -1.2288579808590967, -1.187925485826264, -1.174791790900019, -1.1735855003430937, -1.172270965909411, -1.1482735534784394, -1.1472960831671504, -1.1328239640697553, -1.1256944235316029, -1.1225899421300325, -1.0879971930361323, -1.0860724562535795, -1.0679483679729613, -1.0619735893353446, -1.059451657967127, -1.0121170278188827, -1.0077130040267748, -0.9971680945720256, -0.9817939931354543, -0.977515101190015, -0.96914985481558, -0.9232514383556012, -0.8992708182462549, -0.8715182427242395, -0.8524436052530644, -0.8437458315166078, -0.8094115780806175, -0.802615549988629, -0.7505544773146503, -0.7502094875842503, -0.7356552063463784, -0.7095407485394538, -0.7077871083434474, -0.6825820574485651, -0.652061522394586, -0.6389972213641872, -0.6231848108436187, -0.604512373807819, -0.6023039125007106, -0.571530866497556, -0.5642388558974654, -0.5610724584862115, -0.5560588101143124, -0.554325807926804, -0.5476443581651544, -0.5336543531678127, -0.5081355720898754, -0.4992892770069046, -0.4951022823002244, -0.4884584681526931, -0.48071527511643136, -0.4133100662303814, -0.3911718247711904, -0.3736485328111191, -0.3735828825734467, -0.3700463871649676, -0.3693820049611935, -0.31664548998502756, -0.31363084108805367, -0.30676845148066156, -0.2906146356903461, -0.28997500082143834, -0.27651202627545446, -0.2671947111501219, -0.2598416078851724, -0.236333412934837, -0.23033005503552967, -0.2296779400680529, -0.22876798067022502, -0.2196412115952789, -0.20068140466710713, -0.20008752615779338, -0.19990399311600499, -0.19969973751716355, -0.19615140111422869, -0.1804838430614808, -0.1614996125805968, -0.13427526301542725, -0.10297706133268864, -0.0999471107320764, -0.08486091751468319, -0.08073599627157577, -0.0728376096184009, -0.060560879927397275, -0.05853349245484414, -0.03483902332099604, -0.026700579638709313, -0.016470801989741154, -0.011415897783658238, 0.010645902108263128, 0.02490718193771605, 0.027501684522571415, 0.03665202469833121, 0.05443010834748738, 0.0625014453343239, 0.06291296328946179, 0.07049017378735468, 0.08128431089973448, 0.08680953648130847, 0.09443192298173016, 0.1104590961075359, 0.11250161042543676, 0.13269190150932364, 0.135983836683739, 0.16641873735653934, 0.17345585556552434, 0.18303349818027007, 0.19139206699591552, 0.2265086616074254, 0.22839163645217744, 0.24378074592128265, 0.2564243930591163, 0.2699562891939324, 0.2730014661063207, 0.3227197754872287, 0.3395164842646524, 0.3505810947087951, 0.36438942745488967, 0.40251591434059547, 0.40456189164158585, 0.4077757402003787, 0.4295179551589199, 0.4599645992233803, 0.4692558598967048, 0.4909890813642885, 0.4957654097312762, 0.5634839241199194, 0.60141416128677, 0.6099922017173266, 0.6363020679266069, 0.6559292158263227, 0.6672747766433046, 0.6893168532156518, 0.6958053168614444, 0.696496418288854, 0.7929816424449667, 0.8278161606905333, 0.8406200220775244, 0.8469672647643183, 0.8587531430776641, 0.8708670176275233, 0.8852186887848952, 0.8945356704155326, 0.8964531067433386, 0.9129588018306882, 0.9184561444645439, 0.9352698552945953, 0.9367089755980252, 0.9591254143009234, 0.9789373871216461, 0.9910613352989033, 1.0210362603413157, 1.0444657963113289, 1.0584734380761014, 1.0776915100108202, 1.1176601658568255, 1.1287542782287883, 1.172577928382274, 1.212232517889325, 1.2329546171326167, 1.2404354733213927, 1.246998878408444, 1.3027137728899256, 1.3097624758754907, 1.340631824907344, 1.3663369479761536, 1.401854171256322, 1.6079969051918883, 1.6919301145100503, 1.8219189814679277, 1.824061670495359, 1.8737099082771425, 1.919285828224625, 1.9530456787704127, 2.0305590523834423, 2.103740560984635, 2.39382348425369, 2.6663788117081744, 3.052236320663284], \"xaxis\": \"x\", \"y\": [-0.9920569079342348, -0.9911411555278171, -0.9719010351069993, -0.9589069870111702, -0.9566673485331713, -0.9544096422430891, -0.9467761485409875, -0.9343992396803852, -0.9218376281739867, -0.9204364338804853, -0.9145185415789051, -0.9115329211673671, -0.9094753111129663, -0.9062383351157135, -0.9038569237461956, -0.8870979002062813, -0.8853311818983102, -0.873884563075709, -0.8714963760969603, -0.8695767921931559, -0.8529637097495517, -0.8422477525862931, -0.829934371745945, -0.8258022454645986, -0.8254182015853153, -0.8249988246526363, -0.8171813357234587, -0.8168563462634028, -0.8119835464136821, -0.8095405337709469, -0.8084679001967199, -0.7961459817104872, -0.795440155588345, -0.7886870136921506, -0.7864180450104854, -0.7854539003874094, -0.7666362205057494, -0.7648144393648417, -0.7604022608896148, -0.7538414610801191, -0.7519881982064169, -0.7483304597083837, -0.7274319551153321, -0.7159426334624789, -0.7021446899642596, -0.6923439107041929, -0.6877880085428331, -0.6692655294167543, -0.6654964684418299, -0.6354796291940022, -0.6352739130784869, -0.6265129612019806, -0.6103887674867449, -0.6092873109453288, -0.5931954397760886, -0.5730561338810312, -0.5642163856456835, -0.553341585431417, -0.5402526877743871, -0.5386869510432182, -0.5164826665629167, -0.5111157135966536, -0.5087727194814184, -0.5050473809793576, -0.5037552910051281, -0.4987526250863574, -0.48816953872471613, -0.468491254881093, -0.4615580272283152, -0.4582566515890998, -0.4529920819213533, -0.44681626734584196, -0.3912796013765823, -0.3723700082589002, -0.35717891658104645, -0.3571216404462217, -0.3540322861939484, -0.353451040267047, -0.30647061388312724, -0.30373659590373386, -0.297494389348821, -0.28270042517258775, -0.2821118032647152, -0.2696738186075398, -0.261012583715831, -0.25414737716434976, -0.23202952753771625, -0.22634152181882747, -0.22572272376977762, -0.22485895030456537, -0.2161760665612606, -0.19803009123568144, -0.1974594351713345, -0.1972830517345761, -0.19708673797874393, -0.19367385784739652, -0.1785493267622565, -0.16011002379974798, -0.13347405334512547, -0.1026145996811197, -0.0996156304676552, -0.08465779748633424, -0.08056103193457197, -0.0727090735028475, -0.06048695028211563, -0.05846673538158925, -0.034824934785166586, -0.026694236313391375, -0.016469312711449816, -0.01141540189255004, 0.010645499941234302, 0.024902032678328308, 0.027494753053925115, 0.03663562109141393, 0.05437641975840761, 0.06242018645053955, 0.06283009046427797, 0.070373653328556, 0.08110576384008171, 0.08659212926566667, 0.09415222524064207, 0.11001203291947503, 0.11202937130319021, 0.13191857250371777, 0.13515180397777735, 0.1648992351133393, 0.17173695424421032, 0.18101657069501992, 0.18908885262371955, 0.22271277924644203, 0.22450160440928812, 0.23906362825550856, 0.2509481172548198, 0.26358416201342616, 0.2664154890098818, 0.311964082602783, 0.3270456636721986, 0.3368907882758103, 0.3490744870338517, 0.38209961575910584, 0.38384551281500484, 0.3865824555806438, 0.4049183780656126, 0.43005535835371134, 0.43759786748977353, 0.4550011013568212, 0.4587803635937947, 0.5105577844724591, 0.5380550883840549, 0.5441216094186826, 0.5623764142063538, 0.5756479451490528, 0.5831843769927012, 0.5975429557454631, 0.6016984943349475, 0.6021392053234308, 0.6600948146538008, 0.6793016450504318, 0.6861373271736884, 0.6894817765609423, 0.6956147026623886, 0.7018143725143119, 0.7090241096006282, 0.7136267649024424, 0.7145664346141563, 0.7225493572882917, 0.7251662397342231, 0.7330414282557846, 0.7337065355407743, 0.7438865027078904, 0.7526055403100717, 0.7578145163907045, 0.7702882738568803, 0.7796454489435773, 0.7850788933370714, 0.7923414588630948, 0.8067535070564866, 0.8105924856649281, 0.8250968365637305, 0.8373479220584372, 0.8434342114155527, 0.8455797491059256, 0.8474399354761811, 0.8624201429217246, 0.8642153002501217, 0.8718239200773134, 0.8778546917886043, 0.8857517745753484, 0.9228634725493929, 0.9343926043853016, 0.9490294086824111, 0.9492418379326227, 0.9539292702891887, 0.9578584219055778, 0.9605556101103665, 0.9661241842566373, 0.9706689347178071, 0.983473618696169, 0.9903849869492742, 0.9955442319459734], \"yaxis\": \"y\"}],\n",
              "                        {\"legend\": {\"tracegroupgap\": 0}, \"margin\": {\"t\": 60}, \"template\": {\"data\": {\"bar\": [{\"error_x\": {\"color\": \"#2a3f5f\"}, \"error_y\": {\"color\": \"#2a3f5f\"}, \"marker\": {\"line\": {\"color\": \"#E5ECF6\", \"width\": 0.5}}, \"type\": \"bar\"}], \"barpolar\": [{\"marker\": {\"line\": {\"color\": \"#E5ECF6\", \"width\": 0.5}}, \"type\": \"barpolar\"}], \"carpet\": [{\"aaxis\": {\"endlinecolor\": \"#2a3f5f\", \"gridcolor\": \"white\", \"linecolor\": \"white\", \"minorgridcolor\": \"white\", \"startlinecolor\": \"#2a3f5f\"}, \"baxis\": {\"endlinecolor\": \"#2a3f5f\", \"gridcolor\": \"white\", \"linecolor\": \"white\", \"minorgridcolor\": \"white\", \"startlinecolor\": \"#2a3f5f\"}, \"type\": \"carpet\"}], \"choropleth\": [{\"colorbar\": {\"outlinewidth\": 0, \"ticks\": \"\"}, \"type\": \"choropleth\"}], \"contour\": [{\"colorbar\": {\"outlinewidth\": 0, \"ticks\": \"\"}, \"colorscale\": [[0.0, \"#0d0887\"], [0.1111111111111111, \"#46039f\"], [0.2222222222222222, \"#7201a8\"], [0.3333333333333333, \"#9c179e\"], [0.4444444444444444, \"#bd3786\"], [0.5555555555555556, \"#d8576b\"], [0.6666666666666666, \"#ed7953\"], [0.7777777777777778, \"#fb9f3a\"], [0.8888888888888888, \"#fdca26\"], [1.0, \"#f0f921\"]], \"type\": \"contour\"}], \"contourcarpet\": [{\"colorbar\": {\"outlinewidth\": 0, \"ticks\": \"\"}, \"type\": \"contourcarpet\"}], \"heatmap\": [{\"colorbar\": {\"outlinewidth\": 0, \"ticks\": \"\"}, \"colorscale\": [[0.0, \"#0d0887\"], [0.1111111111111111, \"#46039f\"], [0.2222222222222222, \"#7201a8\"], [0.3333333333333333, \"#9c179e\"], [0.4444444444444444, \"#bd3786\"], [0.5555555555555556, \"#d8576b\"], [0.6666666666666666, \"#ed7953\"], [0.7777777777777778, \"#fb9f3a\"], [0.8888888888888888, \"#fdca26\"], [1.0, \"#f0f921\"]], \"type\": \"heatmap\"}], \"heatmapgl\": [{\"colorbar\": {\"outlinewidth\": 0, \"ticks\": \"\"}, \"colorscale\": [[0.0, \"#0d0887\"], [0.1111111111111111, \"#46039f\"], [0.2222222222222222, \"#7201a8\"], [0.3333333333333333, \"#9c179e\"], [0.4444444444444444, \"#bd3786\"], [0.5555555555555556, \"#d8576b\"], [0.6666666666666666, \"#ed7953\"], [0.7777777777777778, \"#fb9f3a\"], [0.8888888888888888, \"#fdca26\"], [1.0, \"#f0f921\"]], \"type\": \"heatmapgl\"}], \"histogram\": [{\"marker\": {\"colorbar\": {\"outlinewidth\": 0, \"ticks\": \"\"}}, \"type\": \"histogram\"}], \"histogram2d\": [{\"colorbar\": {\"outlinewidth\": 0, \"ticks\": \"\"}, \"colorscale\": [[0.0, \"#0d0887\"], [0.1111111111111111, \"#46039f\"], [0.2222222222222222, \"#7201a8\"], [0.3333333333333333, \"#9c179e\"], [0.4444444444444444, \"#bd3786\"], [0.5555555555555556, \"#d8576b\"], [0.6666666666666666, \"#ed7953\"], [0.7777777777777778, \"#fb9f3a\"], [0.8888888888888888, \"#fdca26\"], [1.0, \"#f0f921\"]], \"type\": \"histogram2d\"}], \"histogram2dcontour\": [{\"colorbar\": {\"outlinewidth\": 0, \"ticks\": \"\"}, \"colorscale\": [[0.0, \"#0d0887\"], [0.1111111111111111, \"#46039f\"], [0.2222222222222222, \"#7201a8\"], [0.3333333333333333, \"#9c179e\"], [0.4444444444444444, \"#bd3786\"], [0.5555555555555556, \"#d8576b\"], [0.6666666666666666, \"#ed7953\"], [0.7777777777777778, \"#fb9f3a\"], [0.8888888888888888, \"#fdca26\"], [1.0, \"#f0f921\"]], \"type\": \"histogram2dcontour\"}], \"mesh3d\": [{\"colorbar\": {\"outlinewidth\": 0, \"ticks\": \"\"}, \"type\": \"mesh3d\"}], \"parcoords\": [{\"line\": {\"colorbar\": {\"outlinewidth\": 0, \"ticks\": \"\"}}, \"type\": \"parcoords\"}], \"pie\": [{\"automargin\": true, \"type\": \"pie\"}], \"scatter\": [{\"marker\": {\"colorbar\": {\"outlinewidth\": 0, \"ticks\": \"\"}}, \"type\": \"scatter\"}], \"scatter3d\": [{\"line\": {\"colorbar\": {\"outlinewidth\": 0, \"ticks\": \"\"}}, \"marker\": {\"colorbar\": {\"outlinewidth\": 0, \"ticks\": \"\"}}, \"type\": \"scatter3d\"}], \"scattercarpet\": [{\"marker\": {\"colorbar\": {\"outlinewidth\": 0, \"ticks\": \"\"}}, \"type\": \"scattercarpet\"}], \"scattergeo\": [{\"marker\": {\"colorbar\": {\"outlinewidth\": 0, \"ticks\": \"\"}}, \"type\": \"scattergeo\"}], \"scattergl\": [{\"marker\": {\"colorbar\": {\"outlinewidth\": 0, \"ticks\": \"\"}}, \"type\": \"scattergl\"}], \"scattermapbox\": [{\"marker\": {\"colorbar\": {\"outlinewidth\": 0, \"ticks\": \"\"}}, \"type\": \"scattermapbox\"}], \"scatterpolar\": [{\"marker\": {\"colorbar\": {\"outlinewidth\": 0, \"ticks\": \"\"}}, \"type\": \"scatterpolar\"}], \"scatterpolargl\": [{\"marker\": {\"colorbar\": {\"outlinewidth\": 0, \"ticks\": \"\"}}, \"type\": \"scatterpolargl\"}], \"scatterternary\": [{\"marker\": {\"colorbar\": {\"outlinewidth\": 0, \"ticks\": \"\"}}, \"type\": \"scatterternary\"}], \"surface\": [{\"colorbar\": {\"outlinewidth\": 0, \"ticks\": \"\"}, \"colorscale\": [[0.0, \"#0d0887\"], [0.1111111111111111, \"#46039f\"], [0.2222222222222222, \"#7201a8\"], [0.3333333333333333, \"#9c179e\"], [0.4444444444444444, \"#bd3786\"], [0.5555555555555556, \"#d8576b\"], [0.6666666666666666, \"#ed7953\"], [0.7777777777777778, \"#fb9f3a\"], [0.8888888888888888, \"#fdca26\"], [1.0, \"#f0f921\"]], \"type\": \"surface\"}], \"table\": [{\"cells\": {\"fill\": {\"color\": \"#EBF0F8\"}, \"line\": {\"color\": \"white\"}}, \"header\": {\"fill\": {\"color\": \"#C8D4E3\"}, \"line\": {\"color\": \"white\"}}, \"type\": \"table\"}]}, \"layout\": {\"annotationdefaults\": {\"arrowcolor\": \"#2a3f5f\", \"arrowhead\": 0, \"arrowwidth\": 1}, \"coloraxis\": {\"colorbar\": {\"outlinewidth\": 0, \"ticks\": \"\"}}, \"colorscale\": {\"diverging\": [[0, \"#8e0152\"], [0.1, \"#c51b7d\"], [0.2, \"#de77ae\"], [0.3, \"#f1b6da\"], [0.4, \"#fde0ef\"], [0.5, \"#f7f7f7\"], [0.6, \"#e6f5d0\"], [0.7, \"#b8e186\"], [0.8, \"#7fbc41\"], [0.9, \"#4d9221\"], [1, \"#276419\"]], \"sequential\": [[0.0, \"#0d0887\"], [0.1111111111111111, \"#46039f\"], [0.2222222222222222, \"#7201a8\"], [0.3333333333333333, \"#9c179e\"], [0.4444444444444444, \"#bd3786\"], [0.5555555555555556, \"#d8576b\"], [0.6666666666666666, \"#ed7953\"], [0.7777777777777778, \"#fb9f3a\"], [0.8888888888888888, \"#fdca26\"], [1.0, \"#f0f921\"]], \"sequentialminus\": [[0.0, \"#0d0887\"], [0.1111111111111111, \"#46039f\"], [0.2222222222222222, \"#7201a8\"], [0.3333333333333333, \"#9c179e\"], [0.4444444444444444, \"#bd3786\"], [0.5555555555555556, \"#d8576b\"], [0.6666666666666666, \"#ed7953\"], [0.7777777777777778, \"#fb9f3a\"], [0.8888888888888888, \"#fdca26\"], [1.0, \"#f0f921\"]]}, \"colorway\": [\"#636efa\", \"#EF553B\", \"#00cc96\", \"#ab63fa\", \"#FFA15A\", \"#19d3f3\", \"#FF6692\", \"#B6E880\", \"#FF97FF\", \"#FECB52\"], \"font\": {\"color\": \"#2a3f5f\"}, \"geo\": {\"bgcolor\": \"white\", \"lakecolor\": \"white\", \"landcolor\": \"#E5ECF6\", \"showlakes\": true, \"showland\": true, \"subunitcolor\": \"white\"}, \"hoverlabel\": {\"align\": \"left\"}, \"hovermode\": \"closest\", \"mapbox\": {\"style\": \"light\"}, \"paper_bgcolor\": \"white\", \"plot_bgcolor\": \"#E5ECF6\", \"polar\": {\"angularaxis\": {\"gridcolor\": \"white\", \"linecolor\": \"white\", \"ticks\": \"\"}, \"bgcolor\": \"#E5ECF6\", \"radialaxis\": {\"gridcolor\": \"white\", \"linecolor\": \"white\", \"ticks\": \"\"}}, \"scene\": {\"xaxis\": {\"backgroundcolor\": \"#E5ECF6\", \"gridcolor\": \"white\", \"gridwidth\": 2, \"linecolor\": \"white\", \"showbackground\": true, \"ticks\": \"\", \"zerolinecolor\": \"white\"}, \"yaxis\": {\"backgroundcolor\": \"#E5ECF6\", \"gridcolor\": \"white\", \"gridwidth\": 2, \"linecolor\": \"white\", \"showbackground\": true, \"ticks\": \"\", \"zerolinecolor\": \"white\"}, \"zaxis\": {\"backgroundcolor\": \"#E5ECF6\", \"gridcolor\": \"white\", \"gridwidth\": 2, \"linecolor\": \"white\", \"showbackground\": true, \"ticks\": \"\", \"zerolinecolor\": \"white\"}}, \"shapedefaults\": {\"line\": {\"color\": \"#2a3f5f\"}}, \"ternary\": {\"aaxis\": {\"gridcolor\": \"white\", \"linecolor\": \"white\", \"ticks\": \"\"}, \"baxis\": {\"gridcolor\": \"white\", \"linecolor\": \"white\", \"ticks\": \"\"}, \"bgcolor\": \"#E5ECF6\", \"caxis\": {\"gridcolor\": \"white\", \"linecolor\": \"white\", \"ticks\": \"\"}}, \"title\": {\"x\": 0.05}, \"xaxis\": {\"automargin\": true, \"gridcolor\": \"white\", \"linecolor\": \"white\", \"ticks\": \"\", \"title\": {\"standoff\": 15}, \"zerolinecolor\": \"white\", \"zerolinewidth\": 2}, \"yaxis\": {\"automargin\": true, \"gridcolor\": \"white\", \"linecolor\": \"white\", \"ticks\": \"\", \"title\": {\"standoff\": 15}, \"zerolinecolor\": \"white\", \"zerolinewidth\": 2}}}, \"width\": 800, \"xaxis\": {\"anchor\": \"y\", \"domain\": [0.0, 1.0], \"title\": {\"text\": \"data\"}}, \"yaxis\": {\"anchor\": \"x\", \"domain\": [0.0, 1.0], \"range\": [-1.5, 1.5], \"title\": {\"text\": \"tanh\"}}},\n",
              "                        {\"responsive\": true}\n",
              "                    ).then(function(){\n",
              "                            \n",
              "var gd = document.getElementById('263b2b22-2142-4177-9e3d-fa5e2a27c2c5');\n",
              "var x = new MutationObserver(function (mutations, observer) {{\n",
              "        var display = window.getComputedStyle(gd).display;\n",
              "        if (!display || display === 'none') {{\n",
              "            console.log([gd, 'removed!']);\n",
              "            Plotly.purge(gd);\n",
              "            observer.disconnect();\n",
              "        }}\n",
              "}});\n",
              "\n",
              "// Listen for the removal of the full notebook cells\n",
              "var notebookContainer = gd.closest('#notebook-container');\n",
              "if (notebookContainer) {{\n",
              "    x.observe(notebookContainer, {childList: true});\n",
              "}}\n",
              "\n",
              "// Listen for the clearing of the current output cell\n",
              "var outputEl = gd.closest('.output');\n",
              "if (outputEl) {{\n",
              "    x.observe(outputEl, {childList: true});\n",
              "}}\n",
              "\n",
              "                        })\n",
              "                };\n",
              "                \n",
              "            </script>\n",
              "        </div>\n",
              "</body>\n",
              "</html>"
            ]
          },
          "metadata": {
            "tags": []
          }
        }
      ]
    },
    {
      "cell_type": "code",
      "metadata": {
        "id": "hUCtW1HMgjkV",
        "colab": {
          "base_uri": "https://localhost:8080/"
        },
        "outputId": "80806e8a-d532-44b7-c73d-5644ffd9c1b2"
      },
      "source": [
        "# model od nowa\n",
        "model = Sequential()\n",
        "# input_shape musi być jako tupla bo ma być iterowalna.\n",
        "# U nas 10 cech wejściowych\n",
        "model.add(Dense(units=8, activation='relu', input_shape=(10,)))\n",
        "# wartstwa output ma 1 neuron\n",
        "model.add(Dense(units=1, activation='sigmoid'))\n",
        "model.summary()"
      ],
      "execution_count": 15,
      "outputs": [
        {
          "output_type": "stream",
          "text": [
            "Model: \"sequential_1\"\n",
            "_________________________________________________________________\n",
            "Layer (type)                 Output Shape              Param #   \n",
            "=================================================================\n",
            "dense_2 (Dense)              (None, 8)                 88        \n",
            "_________________________________________________________________\n",
            "dense_3 (Dense)              (None, 1)                 9         \n",
            "=================================================================\n",
            "Total params: 97\n",
            "Trainable params: 97\n",
            "Non-trainable params: 0\n",
            "_________________________________________________________________\n"
          ],
          "name": "stdout"
        }
      ]
    },
    {
      "cell_type": "markdown",
      "metadata": {
        "id": "NNWU1zbwimbx"
      },
      "source": [
        "### <a name='a2'></a>Kompilacja modelu\n",
        "Przed rozpoczęciem trenowania sieci należy odpowiednio skonfigurować proces uczenia. W tym kroku określamy:\n",
        "* rodzaj optymalizatora ([Keras - Optymalizatory](https://keras.io/optimizers/)) \n",
        "* funkcję straty ([Keras - Funkcje Straty](https://keras.io/losses/))\n",
        "* metryki, które będziemy obserwować podczas trenowania sieci ([Keras - Metryki](https://keras.io/metrics/))"
      ]
    },
    {
      "cell_type": "code",
      "metadata": {
        "id": "oBRtQd7diI0e"
      },
      "source": [
        "# klasyfikacja binarna. Wtedy koniecznie loss='binary_crossentropy'\n",
        "model.compile(optimizer='rmsprop',\n",
        "              loss='binary_crossentropy',\n",
        "              metrics=['accuracy'])\n",
        "\n",
        "# klasyfikacja wieloklasowa. Wtedy koniecznie loss='categorical_crossentropy'\n",
        "model.compile(optimizer='rmsprop',\n",
        "              loss='categorical_crossentropy',\n",
        "              metrics=['accuracy'])\n",
        "\n",
        "# regresja. Wtedy można loss='mse' lub loss='mae'. \n",
        "model.compile(optimizer='rmsprop',\n",
        "              loss='mse')"
      ],
      "execution_count": 16,
      "outputs": []
    },
    {
      "cell_type": "markdown",
      "metadata": {
        "id": "TqsJw4K-knNP"
      },
      "source": [
        "### <a name='a3'></a>Trenowanie modelu\n",
        "Za dane wejściowe do modelu należy przekazać Numpy arrays:\n",
        "* **epochs** - krotność przejścia danych przez sieć w procesie uczenia\n",
        "* **batch_size** - rozmiar wsadu po którym następuje aktualizacja wag\n",
        "* **validation_split** - część danych treningowych, które zostaną wykorzystane jako zbiór walidacyjny\n",
        "* **validation_data** - (x_val, y_val) - dane wykorzystane do walidacji modelu"
      ]
    },
    {
      "cell_type": "code",
      "metadata": {
        "id": "HBn1AzzGkS2h"
      },
      "source": [
        "# model.fit(data, labels, epochs=10, batch_size=32)\n",
        "# model.fit(data, labels, epochs=10, batch_size=32, validation_split=0.2)\n",
        "# model.fit(data, labels, epochs=10, batch_size=32, validation_data=(x_val, y_val))"
      ],
      "execution_count": null,
      "outputs": []
    },
    {
      "cell_type": "markdown",
      "metadata": {
        "id": "8fmOZzNywvx6"
      },
      "source": [
        "### <a name='a4'></a> Przykład - klasyfikacja binarna"
      ]
    },
    {
      "cell_type": "code",
      "metadata": {
        "id": "gELP58XdwKSj",
        "colab": {
          "base_uri": "https://localhost:8080/"
        },
        "outputId": "5cac75a5-5ddf-4c64-a177-b69f492f5305"
      },
      "source": [
        "# ######################################################\n",
        "# Etap 7. Odcinek: Praca z modelami w bibliotece Keras.\n",
        "\n",
        "# 1000 list po 150 liczb z rozkładu N(0,1) w każdej liście\n",
        "data = np.random.randn(1000, 150)\n",
        "# są dwie klasy 0 i 1, bo klasyfikacja binarna\n",
        "labels = np.random.randint(2, size=(1000, 1))\n",
        "\n",
        "print(data.shape)\n",
        "print(labels.shape)"
      ],
      "execution_count": 17,
      "outputs": [
        {
          "output_type": "stream",
          "text": [
            "(1000, 150)\n",
            "(1000, 1)\n"
          ],
          "name": "stdout"
        }
      ]
    },
    {
      "cell_type": "code",
      "metadata": {
        "id": "B_ItRZ5EwcdR",
        "colab": {
          "base_uri": "https://localhost:8080/"
        },
        "outputId": "590a8549-fbcf-45dd-a80e-6f669664bf0e"
      },
      "source": [
        "data[:3]"
      ],
      "execution_count": 18,
      "outputs": [
        {
          "output_type": "execute_result",
          "data": {
            "text/plain": [
              "array([[ 0.22524385,  0.82340765, -0.31145081,  1.62016711,  0.01979965,\n",
              "        -0.07805478, -0.25551812, -0.16139485,  1.53153695,  0.72862926,\n",
              "         1.97308309,  0.30906109,  0.36024795,  0.58845595,  0.21010228,\n",
              "        -0.55102812, -0.62760446, -1.02834831,  0.9143662 ,  0.55002389,\n",
              "        -0.1548795 , -1.22930835, -0.38467203,  1.02857361,  1.4787169 ,\n",
              "        -0.11347062,  0.24086258, -1.30372195,  0.36832882,  0.06242807,\n",
              "         0.33889059,  0.04232403,  0.94504531,  0.31377791,  0.23326129,\n",
              "         1.3153132 ,  0.70469214,  0.72937925, -0.73650206,  1.84928624,\n",
              "         0.78864103,  0.27848125, -0.67908961, -0.64089373,  0.27226556,\n",
              "        -1.24342683,  0.31192525,  0.1162281 ,  0.57138901, -1.11677529,\n",
              "        -0.83182872, -1.30713301,  0.02902337,  0.21589382,  0.75897637,\n",
              "         0.76083362,  0.26042158,  0.18907206, -1.7853969 ,  2.17388078,\n",
              "        -1.76483782,  0.37121577,  1.72725582,  0.41280171, -1.62579231,\n",
              "        -2.032144  , -0.85958432,  2.47385891, -1.1067417 , -0.40332766,\n",
              "        -0.8250681 ,  0.24955128,  0.01521547,  0.09978089,  0.28805743,\n",
              "        -0.03709869,  0.42755116, -0.00424933,  0.14169414, -2.01588176,\n",
              "        -1.22134673, -0.29697225, -0.16661308, -1.69174834, -0.86556609,\n",
              "        -0.13975339, -0.30828145,  1.75644316, -0.1150329 , -0.51446025,\n",
              "        -1.22609451,  1.47142884,  0.21353173,  1.18205231,  2.09544212,\n",
              "        -0.05866863,  0.03499143, -0.54574516, -2.05358412,  2.78545281,\n",
              "        -0.30378409,  0.22346479,  0.14373078,  1.67581613,  0.29211906,\n",
              "        -0.35610013,  1.07478965,  1.88523771, -1.01824377, -1.95647107,\n",
              "         0.46931477,  0.01632228, -0.71984916, -0.90429262, -0.65316377,\n",
              "         2.11649059, -1.59227249,  1.87426117, -0.32885422,  0.2480364 ,\n",
              "         0.12468698, -0.87940019,  1.49064401, -1.59113088,  0.33288171,\n",
              "        -0.71819816, -1.54418685, -1.43136131,  0.04596851,  0.63329571,\n",
              "        -0.84936661,  1.27031707,  0.12144597,  0.23448892, -0.26670142,\n",
              "        -1.15757854,  1.98391738, -0.45805534,  0.93521634,  1.77953537,\n",
              "        -0.18411159, -0.06277793,  0.76728419, -1.9277519 , -0.26176028,\n",
              "        -0.88398703, -0.97975445,  0.04287706,  2.73045771,  1.51622856],\n",
              "       [ 1.10306466,  0.75520957, -1.81865225, -0.45953391, -0.85362541,\n",
              "        -1.9062865 ,  0.60103118, -0.12770121,  0.79388743, -0.63956011,\n",
              "         1.75733144,  0.312108  ,  0.2886044 , -0.27996601, -0.64998092,\n",
              "        -1.23748417, -0.72662726,  0.25617603, -0.59092567, -1.09853266,\n",
              "        -1.79486824,  0.0486559 , -1.64747604, -0.5819371 ,  2.88756911,\n",
              "        -0.55199295, -0.2037781 , -1.3154506 , -0.87332632,  0.25652711,\n",
              "        -2.01195506, -1.39179728,  2.85014464,  0.14190847,  2.43415492,\n",
              "         0.13761865, -0.24102174, -0.17809759, -0.86534883, -0.99190456,\n",
              "         0.12081799,  1.53815963, -0.06763084,  0.4436175 ,  0.59391466,\n",
              "         0.0033154 , -1.05897937, -0.57551494,  0.36030084, -2.44948509,\n",
              "         1.71728525, -1.01573517, -1.81349291,  0.66320966,  0.07167388,\n",
              "        -0.02830553,  2.63048359,  1.21703319, -0.93305511, -1.06587393,\n",
              "        -0.18654339,  0.67138942, -1.89053563,  1.19936047, -0.18493925,\n",
              "        -0.84290683,  0.09113224,  1.25088737,  0.11296433, -0.58412731,\n",
              "        -2.26446134,  0.52986927, -1.50913642,  1.50537111,  0.624998  ,\n",
              "        -0.49789816, -0.18746882, -0.30697486,  1.47113535,  0.26128382,\n",
              "         0.6221786 ,  1.14733273,  1.77495119,  1.21046844,  0.2515242 ,\n",
              "         0.01739194, -0.50009776,  1.69130875, -0.45935901, -0.35700459,\n",
              "        -0.06477218, -0.04133878, -0.07752144, -0.53288459,  0.28731783,\n",
              "        -1.01037161,  0.29631514,  0.84302828, -0.71397629,  1.17296165,\n",
              "        -0.36513867,  0.7245601 ,  1.57342366, -0.03382645,  0.9451522 ,\n",
              "         0.62619732, -0.7570141 ,  0.20104587,  1.40673102, -1.09042243,\n",
              "        -2.49662176, -0.4653123 ,  0.68452845,  1.01055594, -0.72670704,\n",
              "        -0.29096729,  1.46787089, -0.33264233,  1.95452368, -0.0731962 ,\n",
              "         0.38629341,  1.45047116,  0.05016074, -0.46160387,  0.7100331 ,\n",
              "         0.76491263,  0.26000601, -1.27521396,  1.66951481,  0.85466756,\n",
              "        -1.48244176, -0.1848694 ,  0.46880121, -1.38438228, -0.72290355,\n",
              "         0.60203057,  0.7542475 ,  0.26114575, -0.17246652,  0.91508991,\n",
              "         1.15993512, -1.06511855,  0.70590328, -0.0564124 , -0.17596659,\n",
              "         0.60491759, -0.28884257,  0.59921167, -0.67223565,  1.66723912],\n",
              "       [ 0.97877166,  1.1363102 , -0.38054134, -0.0510994 ,  0.41059641,\n",
              "        -1.60441436,  0.3973767 ,  0.1263222 , -0.70002322,  0.66125533,\n",
              "        -1.37998025,  2.79302135, -0.09425955, -0.03002851,  0.15039331,\n",
              "         0.30390844,  0.75710142,  0.78703392,  0.0310666 ,  0.43587655,\n",
              "         1.14930787,  1.353558  ,  0.90167852, -0.55955715, -2.41399451,\n",
              "        -0.32176562, -0.4186712 , -0.34983584,  0.43379481,  0.14521778,\n",
              "        -0.4834942 , -0.34446223,  1.3628738 , -1.11225136,  0.6882084 ,\n",
              "         0.19439836,  1.77418466,  0.6190232 , -0.87148658,  0.62036618,\n",
              "         0.17557923, -0.895268  ,  1.66547946,  0.79679755, -0.11697514,\n",
              "        -1.17025462, -0.0085836 , -1.13484667, -1.1941776 , -0.67722508,\n",
              "        -0.41289068,  0.4684992 , -0.95179988, -1.66156834, -0.90064701,\n",
              "        -1.23587565,  1.0005441 ,  1.94798973,  0.35090621, -0.9423109 ,\n",
              "        -0.86636931,  0.20418522,  0.88082349, -1.03486611,  0.03027311,\n",
              "        -0.24825497,  0.67302906, -1.34745248,  1.41871014,  0.4059886 ,\n",
              "         0.36229169,  0.66420461, -0.94414852,  0.97836732,  0.29694566,\n",
              "        -1.75778733,  0.06161747,  0.25449765,  0.6404887 ,  1.69624518,\n",
              "         0.80663429,  1.32723245, -0.71255824,  1.13875118,  0.2196467 ,\n",
              "         0.27253199,  1.11426244,  1.40196835,  0.08996425,  1.16060771,\n",
              "         0.98531212, -0.14448723, -0.46852274, -1.1085279 , -0.64253019,\n",
              "         0.31479832,  0.46226277, -1.10751198,  0.71213944,  1.73060291,\n",
              "        -1.2658413 ,  2.31610869,  0.90842341, -0.47574893,  0.77508916,\n",
              "        -0.89007301, -0.33474734, -0.33196442,  0.94564965, -0.32082903,\n",
              "        -1.99318604, -2.1507442 ,  0.63788967,  1.77661577,  1.51346229,\n",
              "         0.75522107,  2.23316057, -0.396942  , -1.3437028 , -0.7280217 ,\n",
              "         1.0427063 , -0.34440813, -1.03190427,  0.28017363,  1.39900416,\n",
              "         0.89042937,  0.28499116,  0.08339035, -1.01560205,  0.33060109,\n",
              "        -0.28315302,  0.47864629,  1.18555699,  0.23412152,  0.36536661,\n",
              "        -1.16701647,  0.07201167, -0.31751278, -0.35985567, -0.18187916,\n",
              "         2.16163976, -1.46718903, -0.64693669,  0.67029251, -1.08472091,\n",
              "        -0.93845519, -0.70633401,  0.54283031, -0.7689896 ,  1.60812266]])"
            ]
          },
          "metadata": {
            "tags": []
          },
          "execution_count": 18
        }
      ]
    },
    {
      "cell_type": "code",
      "metadata": {
        "id": "2AKkBXaZwmNq",
        "colab": {
          "base_uri": "https://localhost:8080/"
        },
        "outputId": "0bc2a447-58a1-45d4-ba61-44dec4cd8b71"
      },
      "source": [
        "# klasy 0 lub 1\r\n",
        "labels[:10]"
      ],
      "execution_count": 20,
      "outputs": [
        {
          "output_type": "execute_result",
          "data": {
            "text/plain": [
              "array([[1],\n",
              "       [0],\n",
              "       [1],\n",
              "       [0],\n",
              "       [1],\n",
              "       [0],\n",
              "       [0],\n",
              "       [1],\n",
              "       [1],\n",
              "       [0]])"
            ]
          },
          "metadata": {
            "tags": []
          },
          "execution_count": 20
        }
      ]
    },
    {
      "cell_type": "code",
      "metadata": {
        "id": "3YmwwLjZwpvE",
        "colab": {
          "base_uri": "https://localhost:8080/"
        },
        "outputId": "5da4b33a-8cb7-4f58-9eb6-5b1f231a5fd3"
      },
      "source": [
        "model = Sequential()\n",
        "# często liczba neuronów w warstwie jest potęgą 2.\n",
        "# activation='relu' aby model uczył się nieliniowych rozwiązań.\n",
        "# Mamy 150 zmiennych (kolumn) czyli wartstwa wejściowa ma 150 wejść\n",
        "model.add(Dense(units=32, activation='relu', input_shape=(150,)))\n",
        "# warstwa wyjściowa ma 1 neuron bo chcemy wartość p-twa przynależności do danej klasy.\n",
        "# activation='sigmoid' zamieni dane, które otrzyma na wartości p-twa\n",
        "model.add(Dense(1, activation='sigmoid'))\n",
        "\n",
        "model.compile(optimizer='rmsprop',\n",
        "              loss='binary_crossentropy',  # koniecznia ta funkcja straty\n",
        "              metrics=['accuracy'])\n",
        "\n",
        "# trenowanie modelu. Metoda fit zwraca obiekt klasy History.\n",
        "# Na dole jest info o tym.\n",
        "model.fit(data, labels, epochs=20)"
      ],
      "execution_count": 21,
      "outputs": [
        {
          "output_type": "stream",
          "text": [
            "Epoch 1/20\n",
            "32/32 [==============================] - 1s 1ms/step - loss: 0.8341 - accuracy: 0.5043\n",
            "Epoch 2/20\n",
            "32/32 [==============================] - 0s 1ms/step - loss: 0.7230 - accuracy: 0.5470\n",
            "Epoch 3/20\n",
            "32/32 [==============================] - 0s 1ms/step - loss: 0.6564 - accuracy: 0.6074\n",
            "Epoch 4/20\n",
            "32/32 [==============================] - 0s 1ms/step - loss: 0.6103 - accuracy: 0.6306\n",
            "Epoch 5/20\n",
            "32/32 [==============================] - 0s 1ms/step - loss: 0.5587 - accuracy: 0.7104\n",
            "Epoch 6/20\n",
            "32/32 [==============================] - 0s 1ms/step - loss: 0.5327 - accuracy: 0.7548\n",
            "Epoch 7/20\n",
            "32/32 [==============================] - 0s 1ms/step - loss: 0.5226 - accuracy: 0.7703\n",
            "Epoch 8/20\n",
            "32/32 [==============================] - 0s 1ms/step - loss: 0.4892 - accuracy: 0.8059\n",
            "Epoch 9/20\n",
            "32/32 [==============================] - 0s 1ms/step - loss: 0.4626 - accuracy: 0.8307\n",
            "Epoch 10/20\n",
            "32/32 [==============================] - 0s 1ms/step - loss: 0.4384 - accuracy: 0.8630\n",
            "Epoch 11/20\n",
            "32/32 [==============================] - 0s 1ms/step - loss: 0.4224 - accuracy: 0.8757\n",
            "Epoch 12/20\n",
            "32/32 [==============================] - 0s 1ms/step - loss: 0.4082 - accuracy: 0.8820\n",
            "Epoch 13/20\n",
            "32/32 [==============================] - 0s 1ms/step - loss: 0.3598 - accuracy: 0.9325\n",
            "Epoch 14/20\n",
            "32/32 [==============================] - 0s 1ms/step - loss: 0.3731 - accuracy: 0.9104\n",
            "Epoch 15/20\n",
            "32/32 [==============================] - 0s 1ms/step - loss: 0.3375 - accuracy: 0.9418\n",
            "Epoch 16/20\n",
            "32/32 [==============================] - 0s 1ms/step - loss: 0.3207 - accuracy: 0.9430\n",
            "Epoch 17/20\n",
            "32/32 [==============================] - 0s 1ms/step - loss: 0.2917 - accuracy: 0.9627\n",
            "Epoch 18/20\n",
            "32/32 [==============================] - 0s 1ms/step - loss: 0.2679 - accuracy: 0.9731\n",
            "Epoch 19/20\n",
            "32/32 [==============================] - 0s 1ms/step - loss: 0.2671 - accuracy: 0.9696\n",
            "Epoch 20/20\n",
            "32/32 [==============================] - 0s 1ms/step - loss: 0.2485 - accuracy: 0.9815\n"
          ],
          "name": "stdout"
        },
        {
          "output_type": "execute_result",
          "data": {
            "text/plain": [
              "<tensorflow.python.keras.callbacks.History at 0x7fb9eb06d978>"
            ]
          },
          "metadata": {
            "tags": []
          },
          "execution_count": 21
        }
      ]
    },
    {
      "cell_type": "code",
      "metadata": {
        "id": "5X_mtwLfy2d9",
        "colab": {
          "base_uri": "https://localhost:8080/",
          "height": 737
        },
        "outputId": "a20c9dd0-b084-4b81-a9b4-9e8b609abc20"
      },
      "source": [
        "model = Sequential()\n",
        "model.add(Dense(units=32, activation='relu', input_shape=(150,)))\n",
        "model.add(Dense(1, activation='sigmoid'))\n",
        "\n",
        "model.compile(optimizer='rmsprop',\n",
        "              loss='binary_crossentropy',\n",
        "              metrics=['accuracy'])\n",
        "\n",
        "# mogę dodać rozmiar wsadu czyli batch_size.\n",
        "# Wagi będą aktualizowane co 30 próbek.\n",
        "model.fit(data, labels, epochs=20, batch_size=30)"
      ],
      "execution_count": null,
      "outputs": [
        {
          "output_type": "stream",
          "text": [
            "Train on 1000 samples\n",
            "Epoch 1/20\n",
            "1000/1000 [==============================] - 1s 504us/sample - loss: 0.8355 - accuracy: 0.5140\n",
            "Epoch 2/20\n",
            "1000/1000 [==============================] - 0s 71us/sample - loss: 0.7114 - accuracy: 0.5630\n",
            "Epoch 3/20\n",
            "1000/1000 [==============================] - 0s 70us/sample - loss: 0.6549 - accuracy: 0.6020\n",
            "Epoch 4/20\n",
            "1000/1000 [==============================] - 0s 74us/sample - loss: 0.6130 - accuracy: 0.6460\n",
            "Epoch 5/20\n",
            "1000/1000 [==============================] - 0s 73us/sample - loss: 0.5789 - accuracy: 0.6900\n",
            "Epoch 6/20\n",
            "1000/1000 [==============================] - 0s 70us/sample - loss: 0.5491 - accuracy: 0.7310\n",
            "Epoch 7/20\n",
            "1000/1000 [==============================] - 0s 70us/sample - loss: 0.5218 - accuracy: 0.7550\n",
            "Epoch 8/20\n",
            "1000/1000 [==============================] - 0s 75us/sample - loss: 0.4976 - accuracy: 0.7780\n",
            "Epoch 9/20\n",
            "1000/1000 [==============================] - 0s 65us/sample - loss: 0.4733 - accuracy: 0.8080\n",
            "Epoch 10/20\n",
            "1000/1000 [==============================] - 0s 66us/sample - loss: 0.4508 - accuracy: 0.8240\n",
            "Epoch 11/20\n",
            "1000/1000 [==============================] - 0s 61us/sample - loss: 0.4289 - accuracy: 0.8490\n",
            "Epoch 12/20\n",
            "1000/1000 [==============================] - 0s 65us/sample - loss: 0.4064 - accuracy: 0.8580\n",
            "Epoch 13/20\n",
            "1000/1000 [==============================] - 0s 67us/sample - loss: 0.3849 - accuracy: 0.8750\n",
            "Epoch 14/20\n",
            "1000/1000 [==============================] - 0s 69us/sample - loss: 0.3625 - accuracy: 0.8980\n",
            "Epoch 15/20\n",
            "1000/1000 [==============================] - 0s 66us/sample - loss: 0.3411 - accuracy: 0.9120\n",
            "Epoch 16/20\n",
            "1000/1000 [==============================] - 0s 66us/sample - loss: 0.3204 - accuracy: 0.9270\n",
            "Epoch 17/20\n",
            "1000/1000 [==============================] - 0s 67us/sample - loss: 0.3004 - accuracy: 0.9430\n",
            "Epoch 18/20\n",
            "1000/1000 [==============================] - 0s 69us/sample - loss: 0.2795 - accuracy: 0.9590\n",
            "Epoch 19/20\n",
            "1000/1000 [==============================] - 0s 67us/sample - loss: 0.2609 - accuracy: 0.9660\n",
            "Epoch 20/20\n",
            "1000/1000 [==============================] - 0s 67us/sample - loss: 0.2408 - accuracy: 0.9770\n"
          ],
          "name": "stdout"
        },
        {
          "output_type": "execute_result",
          "data": {
            "text/plain": [
              "<tensorflow.python.keras.callbacks.History at 0x7fdf5a402f60>"
            ]
          },
          "metadata": {
            "tags": []
          },
          "execution_count": 20
        }
      ]
    },
    {
      "cell_type": "code",
      "metadata": {
        "id": "xj5leE1dxK0-",
        "colab": {
          "base_uri": "https://localhost:8080/"
        },
        "outputId": "79912122-ad0e-4460-e7bf-da896f74cff6"
      },
      "source": [
        "model = Sequential()\n",
        "model.add(Dense(units=32, activation='relu', input_shape=(150,)))\n",
        "model.add(Dense(1, activation='sigmoid'))\n",
        "\n",
        "model.compile(optimizer='rmsprop',\n",
        "              loss='binary_crossentropy',\n",
        "              metrics=['accuracy'])\n",
        "\n",
        "# 20% danych treningowych będzie zbiorem walidacyjnym.\n",
        "# Doszły wartości val_loss i val_accuracy. Te metryki bardziej nas interesują,\n",
        "# bo to wyniki na danych których model nie widział\n",
        "model.fit(data, labels, epochs=20, batch_size=32, validation_split=0.2)"
      ],
      "execution_count": 22,
      "outputs": [
        {
          "output_type": "stream",
          "text": [
            "Epoch 1/20\n",
            "25/25 [==============================] - 1s 19ms/step - loss: 0.8141 - accuracy: 0.5118 - val_loss: 0.7672 - val_accuracy: 0.5100\n",
            "Epoch 2/20\n",
            "25/25 [==============================] - 0s 3ms/step - loss: 0.7107 - accuracy: 0.5681 - val_loss: 0.7556 - val_accuracy: 0.5000\n",
            "Epoch 3/20\n",
            "25/25 [==============================] - 0s 3ms/step - loss: 0.6503 - accuracy: 0.6312 - val_loss: 0.7510 - val_accuracy: 0.4850\n",
            "Epoch 4/20\n",
            "25/25 [==============================] - 0s 3ms/step - loss: 0.6298 - accuracy: 0.6563 - val_loss: 0.7502 - val_accuracy: 0.5000\n",
            "Epoch 5/20\n",
            "25/25 [==============================] - 0s 3ms/step - loss: 0.5889 - accuracy: 0.6915 - val_loss: 0.7506 - val_accuracy: 0.4900\n",
            "Epoch 6/20\n",
            "25/25 [==============================] - 0s 3ms/step - loss: 0.5670 - accuracy: 0.7266 - val_loss: 0.7526 - val_accuracy: 0.4950\n",
            "Epoch 7/20\n",
            "25/25 [==============================] - 0s 3ms/step - loss: 0.5486 - accuracy: 0.7446 - val_loss: 0.7561 - val_accuracy: 0.4950\n",
            "Epoch 8/20\n",
            "25/25 [==============================] - 0s 3ms/step - loss: 0.5253 - accuracy: 0.7672 - val_loss: 0.7616 - val_accuracy: 0.5100\n",
            "Epoch 9/20\n",
            "25/25 [==============================] - 0s 3ms/step - loss: 0.4943 - accuracy: 0.8060 - val_loss: 0.7673 - val_accuracy: 0.4950\n",
            "Epoch 10/20\n",
            "25/25 [==============================] - 0s 3ms/step - loss: 0.4647 - accuracy: 0.8334 - val_loss: 0.7736 - val_accuracy: 0.5200\n",
            "Epoch 11/20\n",
            "25/25 [==============================] - 0s 3ms/step - loss: 0.4409 - accuracy: 0.8576 - val_loss: 0.7822 - val_accuracy: 0.5200\n",
            "Epoch 12/20\n",
            "25/25 [==============================] - 0s 3ms/step - loss: 0.4202 - accuracy: 0.8611 - val_loss: 0.7885 - val_accuracy: 0.5200\n",
            "Epoch 13/20\n",
            "25/25 [==============================] - 0s 3ms/step - loss: 0.4075 - accuracy: 0.8913 - val_loss: 0.7978 - val_accuracy: 0.5350\n",
            "Epoch 14/20\n",
            "25/25 [==============================] - 0s 3ms/step - loss: 0.3870 - accuracy: 0.9056 - val_loss: 0.8071 - val_accuracy: 0.5400\n",
            "Epoch 15/20\n",
            "25/25 [==============================] - 0s 3ms/step - loss: 0.3614 - accuracy: 0.9121 - val_loss: 0.8149 - val_accuracy: 0.5450\n",
            "Epoch 16/20\n",
            "25/25 [==============================] - 0s 3ms/step - loss: 0.3380 - accuracy: 0.9319 - val_loss: 0.8260 - val_accuracy: 0.5350\n",
            "Epoch 17/20\n",
            "25/25 [==============================] - 0s 3ms/step - loss: 0.3154 - accuracy: 0.9414 - val_loss: 0.8375 - val_accuracy: 0.5400\n",
            "Epoch 18/20\n",
            "25/25 [==============================] - 0s 3ms/step - loss: 0.2998 - accuracy: 0.9382 - val_loss: 0.8474 - val_accuracy: 0.5350\n",
            "Epoch 19/20\n",
            "25/25 [==============================] - 0s 3ms/step - loss: 0.2733 - accuracy: 0.9573 - val_loss: 0.8564 - val_accuracy: 0.5400\n",
            "Epoch 20/20\n",
            "25/25 [==============================] - 0s 3ms/step - loss: 0.2550 - accuracy: 0.9738 - val_loss: 0.8684 - val_accuracy: 0.5450\n"
          ],
          "name": "stdout"
        },
        {
          "output_type": "execute_result",
          "data": {
            "text/plain": [
              "<tensorflow.python.keras.callbacks.History at 0x7fb9eaa7dba8>"
            ]
          },
          "metadata": {
            "tags": []
          },
          "execution_count": 22
        }
      ]
    },
    {
      "cell_type": "code",
      "metadata": {
        "id": "N8O4byzjzHJC",
        "colab": {
          "base_uri": "https://localhost:8080/"
        },
        "outputId": "3287598b-923d-4515-ada9-c110d53a9abc"
      },
      "source": [
        "model = Sequential()\n",
        "model.add(Dense(units=32, activation='relu', input_shape=(150,)))\n",
        "model.add(Dense(1, activation='sigmoid'))\n",
        "\n",
        "model.compile(optimizer='rmsprop',\n",
        "              loss='binary_crossentropy',\n",
        "              metrics=['accuracy'])\n",
        "\n",
        "# verbose=0 pozwala unikać tego co się wyświetla i zwraca tylko obiekt History\n",
        "model.fit(data, labels, epochs=20, batch_size=32, validation_split=0.2, verbose=0)"
      ],
      "execution_count": 23,
      "outputs": [
        {
          "output_type": "execute_result",
          "data": {
            "text/plain": [
              "<tensorflow.python.keras.callbacks.History at 0x7fb9eb43bc50>"
            ]
          },
          "metadata": {
            "tags": []
          },
          "execution_count": 23
        }
      ]
    },
    {
      "cell_type": "code",
      "metadata": {
        "id": "suJlatlYzQOD"
      },
      "source": [
        "model = Sequential()\n",
        "model.add(Dense(units=32, activation='relu', input_shape=(150,)))\n",
        "model.add(Dense(1, activation='sigmoid'))\n",
        "\n",
        "model.compile(optimizer='rmsprop',\n",
        "              loss='binary_crossentropy',\n",
        "              metrics=['accuracy'])\n",
        "\n",
        "# przypisuje wynik metod fit do zmiennej history\n",
        "history = model.fit(data, labels, epochs=20, batch_size=32, validation_split=0.2, verbose=0)"
      ],
      "execution_count": 25,
      "outputs": []
    },
    {
      "cell_type": "code",
      "metadata": {
        "id": "InFcS0sgzkf6",
        "colab": {
          "base_uri": "https://localhost:8080/"
        },
        "outputId": "85cf07ff-56cf-48fa-8730-be9164566946"
      },
      "source": [
        "metrics = history.history\n",
        "metrics.keys()"
      ],
      "execution_count": 26,
      "outputs": [
        {
          "output_type": "execute_result",
          "data": {
            "text/plain": [
              "dict_keys(['loss', 'accuracy', 'val_loss', 'val_accuracy'])"
            ]
          },
          "metadata": {
            "tags": []
          },
          "execution_count": 26
        }
      ]
    },
    {
      "cell_type": "code",
      "metadata": {
        "id": "d9bUtGmXzzoY",
        "colab": {
          "base_uri": "https://localhost:8080/"
        },
        "outputId": "ea43ee5c-305e-4301-b5bf-268497e17732"
      },
      "source": [
        "model = Sequential()\n",
        "model.add(Dense(units=32, activation='relu', input_shape=(150,)))\n",
        "model.add(Dense(1, activation='sigmoid'))\n",
        "\n",
        "model.compile(optimizer='rmsprop',\n",
        "              loss='binary_crossentropy',\n",
        "              metrics=['accuracy'])\n",
        "\n",
        "history = model.fit(data, labels, epochs=20, batch_size=32, validation_split=0.2, verbose=1)"
      ],
      "execution_count": 27,
      "outputs": [
        {
          "output_type": "stream",
          "text": [
            "Epoch 1/20\n",
            "25/25 [==============================] - 1s 9ms/step - loss: 0.7926 - accuracy: 0.5036 - val_loss: 0.7478 - val_accuracy: 0.5600\n",
            "Epoch 2/20\n",
            "25/25 [==============================] - 0s 3ms/step - loss: 0.7164 - accuracy: 0.5498 - val_loss: 0.7443 - val_accuracy: 0.5350\n",
            "Epoch 3/20\n",
            "25/25 [==============================] - 0s 3ms/step - loss: 0.6667 - accuracy: 0.6023 - val_loss: 0.7433 - val_accuracy: 0.5200\n",
            "Epoch 4/20\n",
            "25/25 [==============================] - 0s 3ms/step - loss: 0.6218 - accuracy: 0.6683 - val_loss: 0.7428 - val_accuracy: 0.5250\n",
            "Epoch 5/20\n",
            "25/25 [==============================] - 0s 3ms/step - loss: 0.5765 - accuracy: 0.7123 - val_loss: 0.7441 - val_accuracy: 0.5250\n",
            "Epoch 6/20\n",
            "25/25 [==============================] - 0s 3ms/step - loss: 0.5636 - accuracy: 0.7304 - val_loss: 0.7478 - val_accuracy: 0.5200\n",
            "Epoch 7/20\n",
            "25/25 [==============================] - 0s 4ms/step - loss: 0.5283 - accuracy: 0.7828 - val_loss: 0.7525 - val_accuracy: 0.5000\n",
            "Epoch 8/20\n",
            "25/25 [==============================] - 0s 3ms/step - loss: 0.4990 - accuracy: 0.8141 - val_loss: 0.7574 - val_accuracy: 0.5000\n",
            "Epoch 9/20\n",
            "25/25 [==============================] - 0s 3ms/step - loss: 0.4691 - accuracy: 0.8364 - val_loss: 0.7674 - val_accuracy: 0.5150\n",
            "Epoch 10/20\n",
            "25/25 [==============================] - 0s 3ms/step - loss: 0.4623 - accuracy: 0.8448 - val_loss: 0.7725 - val_accuracy: 0.5150\n",
            "Epoch 11/20\n",
            "25/25 [==============================] - 0s 3ms/step - loss: 0.4287 - accuracy: 0.8749 - val_loss: 0.7816 - val_accuracy: 0.5300\n",
            "Epoch 12/20\n",
            "25/25 [==============================] - 0s 3ms/step - loss: 0.3840 - accuracy: 0.9119 - val_loss: 0.7887 - val_accuracy: 0.5200\n",
            "Epoch 13/20\n",
            "25/25 [==============================] - 0s 3ms/step - loss: 0.3841 - accuracy: 0.9199 - val_loss: 0.7980 - val_accuracy: 0.5300\n",
            "Epoch 14/20\n",
            "25/25 [==============================] - 0s 3ms/step - loss: 0.3501 - accuracy: 0.9231 - val_loss: 0.8081 - val_accuracy: 0.5250\n",
            "Epoch 15/20\n",
            "25/25 [==============================] - 0s 3ms/step - loss: 0.3250 - accuracy: 0.9343 - val_loss: 0.8178 - val_accuracy: 0.5350\n",
            "Epoch 16/20\n",
            "25/25 [==============================] - 0s 3ms/step - loss: 0.3201 - accuracy: 0.9371 - val_loss: 0.8313 - val_accuracy: 0.5350\n",
            "Epoch 17/20\n",
            "25/25 [==============================] - 0s 3ms/step - loss: 0.2961 - accuracy: 0.9486 - val_loss: 0.8439 - val_accuracy: 0.5250\n",
            "Epoch 18/20\n",
            "25/25 [==============================] - 0s 3ms/step - loss: 0.2639 - accuracy: 0.9600 - val_loss: 0.8491 - val_accuracy: 0.5450\n",
            "Epoch 19/20\n",
            "25/25 [==============================] - 0s 3ms/step - loss: 0.2572 - accuracy: 0.9795 - val_loss: 0.8645 - val_accuracy: 0.5400\n",
            "Epoch 20/20\n",
            "25/25 [==============================] - 0s 3ms/step - loss: 0.2300 - accuracy: 0.9729 - val_loss: 0.8712 - val_accuracy: 0.5400\n"
          ],
          "name": "stdout"
        }
      ]
    },
    {
      "cell_type": "code",
      "metadata": {
        "id": "b1xtUueg0Tr9"
      },
      "source": [
        "# tworzy dane testowe\n",
        "# 5 próbek po 150 cech w każdej\n",
        "test_data = np.random.randn(5, 150)\n",
        "# 5 labeli\n",
        "test_labels = np.random.randint(2, size=(5, 1))"
      ],
      "execution_count": 29,
      "outputs": []
    },
    {
      "cell_type": "code",
      "metadata": {
        "id": "MIODWVx90nDf",
        "colab": {
          "base_uri": "https://localhost:8080/"
        },
        "outputId": "72e3e35c-4c60-45eb-ceec-c8518551ac75"
      },
      "source": [
        "# funkcja predict zwraca p-two przynależności do danej klasy.\r\n",
        "# Tam gdzie wartości > 0.5 to przypisujemny do klasy 1\r\n",
        "# a tam gdzie < 0.5 to do klasy 0. Czyli na przykład [0.17643541] to klasa 0,\r\n",
        "# a [0.17643541] to klasa 1.\r\n",
        "model.predict(test_data)*"
      ],
      "execution_count": 30,
      "outputs": [
        {
          "output_type": "execute_result",
          "data": {
            "text/plain": [
              "array([[0.17643541],\n",
              "       [0.32152855],\n",
              "       [0.22700277],\n",
              "       [0.47679415],\n",
              "       [0.64433014]], dtype=float32)"
            ]
          },
          "metadata": {
            "tags": []
          },
          "execution_count": 30
        }
      ]
    },
    {
      "cell_type": "code",
      "metadata": {
        "id": "Pkv50Web0usG",
        "colab": {
          "base_uri": "https://localhost:8080/"
        },
        "outputId": "0069ddbe-4bad-4e6c-ee23-9a164c744c47"
      },
      "source": [
        "# funkcja predict działa tak samo jak predict_proba (predict probabilities)\r\n",
        "model.predict_proba(test_data)"
      ],
      "execution_count": 31,
      "outputs": [
        {
          "output_type": "stream",
          "text": [
            "/usr/local/lib/python3.6/dist-packages/tensorflow/python/keras/engine/sequential.py:425: UserWarning:\n",
            "\n",
            "`model.predict_proba()` is deprecated and will be removed after 2021-01-01. Please use `model.predict()` instead.\n",
            "\n"
          ],
          "name": "stderr"
        },
        {
          "output_type": "execute_result",
          "data": {
            "text/plain": [
              "array([[0.17643541],\n",
              "       [0.32152855],\n",
              "       [0.22700277],\n",
              "       [0.47679415],\n",
              "       [0.64433014]], dtype=float32)"
            ]
          },
          "metadata": {
            "tags": []
          },
          "execution_count": 31
        }
      ]
    },
    {
      "cell_type": "code",
      "metadata": {
        "id": "c142k6Ev14k5",
        "colab": {
          "base_uri": "https://localhost:8080/"
        },
        "outputId": "ad7ea885-dd2c-425e-9f8d-0a29b192e5d2"
      },
      "source": [
        "model.predict_classes(test_data)"
      ],
      "execution_count": 32,
      "outputs": [
        {
          "output_type": "stream",
          "text": [
            "/usr/local/lib/python3.6/dist-packages/tensorflow/python/keras/engine/sequential.py:450: UserWarning:\n",
            "\n",
            "`model.predict_classes()` is deprecated and will be removed after 2021-01-01. Please use instead:* `np.argmax(model.predict(x), axis=-1)`,   if your model does multi-class classification   (e.g. if it uses a `softmax` last-layer activation).* `(model.predict(x) > 0.5).astype(\"int32\")`,   if your model does binary classification   (e.g. if it uses a `sigmoid` last-layer activation).\n",
            "\n"
          ],
          "name": "stderr"
        },
        {
          "output_type": "execute_result",
          "data": {
            "text/plain": [
              "array([[0],\n",
              "       [0],\n",
              "       [0],\n",
              "       [0],\n",
              "       [1]], dtype=int32)"
            ]
          },
          "metadata": {
            "tags": []
          },
          "execution_count": 32
        }
      ]
    },
    {
      "cell_type": "code",
      "metadata": {
        "id": "AOIhjKe418cH"
      },
      "source": [
        ""
      ],
      "execution_count": null,
      "outputs": []
    },
    {
      "cell_type": "markdown",
      "metadata": {
        "id": "AZymszuI28k-"
      },
      "source": [
        "### <a name='a5'></a> Przykład - klasyfikacja wieloklasowa"
      ]
    },
    {
      "cell_type": "code",
      "metadata": {
        "id": "tWIc_gVG2-_L"
      },
      "source": [
        "data = np.random.random((1000, 150))\n",
        "# teraz 10 klas\n",
        "labels = np.random.randint(10, size=(1000, 1))"
      ],
      "execution_count": 33,
      "outputs": []
    },
    {
      "cell_type": "code",
      "metadata": {
        "id": "fnKrv8Mk3HSs",
        "colab": {
          "base_uri": "https://localhost:8080/"
        },
        "outputId": "26cef38e-1b06-4508-ee39-eec95e6e95bd"
      },
      "source": [
        "print(data.shape)\n",
        "print(labels.shape)"
      ],
      "execution_count": 34,
      "outputs": [
        {
          "output_type": "stream",
          "text": [
            "(1000, 150)\n",
            "(1000, 1)\n"
          ],
          "name": "stdout"
        }
      ]
    },
    {
      "cell_type": "code",
      "metadata": {
        "id": "GEY2kQdz3Fi2",
        "colab": {
          "base_uri": "https://localhost:8080/"
        },
        "outputId": "f6e83fd6-2b76-4225-adbe-9f190e327f7c"
      },
      "source": [
        "data[:3]"
      ],
      "execution_count": 35,
      "outputs": [
        {
          "output_type": "execute_result",
          "data": {
            "text/plain": [
              "array([[0.78323415, 0.0255039 , 0.01179862, 0.66858866, 0.30826742,\n",
              "        0.67047761, 0.36563791, 0.65941634, 0.20300033, 0.43433942,\n",
              "        0.46892031, 0.68620496, 0.34510762, 0.97361419, 0.20054708,\n",
              "        0.80637089, 0.17701616, 0.05817144, 0.82183755, 0.89656723,\n",
              "        0.98583075, 0.16589413, 0.18438051, 0.95165059, 0.20370399,\n",
              "        0.41055979, 0.22586619, 0.56380348, 0.65537096, 0.83458969,\n",
              "        0.94093739, 0.38888292, 0.98088405, 0.71720742, 0.67345047,\n",
              "        0.01512395, 0.73372856, 0.36255462, 0.98120677, 0.54213643,\n",
              "        0.02797919, 0.61688359, 0.68847936, 0.09077178, 0.02470348,\n",
              "        0.55838436, 0.45848496, 0.3293772 , 0.72819366, 0.68964172,\n",
              "        0.71728084, 0.21927016, 0.83995851, 0.59060747, 0.96854564,\n",
              "        0.00624297, 0.78349805, 0.67438311, 0.71395015, 0.54315193,\n",
              "        0.36796653, 0.4714374 , 0.37379809, 0.64677079, 0.93646138,\n",
              "        0.81748603, 0.47882899, 0.32775483, 0.38225223, 0.16614604,\n",
              "        0.64430283, 0.55020776, 0.27467536, 0.09308753, 0.54472822,\n",
              "        0.91621208, 0.49127963, 0.70390958, 0.97242202, 0.52228062,\n",
              "        0.09111617, 0.26492192, 0.67369831, 0.85340717, 0.03887887,\n",
              "        0.32844591, 0.55055801, 0.1555308 , 0.52501962, 0.75089053,\n",
              "        0.67102273, 0.48742267, 0.96360182, 0.90262293, 0.0792401 ,\n",
              "        0.75216001, 0.48584381, 0.71429785, 0.61257853, 0.69015373,\n",
              "        0.8380854 , 0.42442643, 0.70676053, 0.00711525, 0.08298713,\n",
              "        0.39293188, 0.11868479, 0.5727259 , 0.5649042 , 0.5604289 ,\n",
              "        0.48396969, 0.20796027, 0.40616245, 0.48898794, 0.2482526 ,\n",
              "        0.39292255, 0.19608082, 0.58527505, 0.52126154, 0.8837089 ,\n",
              "        0.56437633, 0.9613144 , 0.27064403, 0.26202158, 0.17780656,\n",
              "        0.57539705, 0.00119453, 0.49185872, 0.79579321, 0.08004682,\n",
              "        0.0078183 , 0.75890129, 0.1960102 , 0.15463335, 0.5625199 ,\n",
              "        0.54917021, 0.10277227, 0.5971555 , 0.40678265, 0.70360731,\n",
              "        0.37437468, 0.63498522, 0.11783203, 0.57382252, 0.23396514,\n",
              "        0.96623018, 0.60659377, 0.64089425, 0.47534367, 0.78832748],\n",
              "       [0.97541981, 0.38370787, 0.00739087, 0.19783317, 0.64236099,\n",
              "        0.17837741, 0.19248197, 0.93636399, 0.35408936, 0.03535744,\n",
              "        0.86430479, 0.4584026 , 0.33352198, 0.82546537, 0.04954909,\n",
              "        0.72666471, 0.58581161, 0.06073279, 0.73215272, 0.80163166,\n",
              "        0.38016167, 0.36179018, 0.19901252, 0.04622707, 0.60232637,\n",
              "        0.79739899, 0.32935691, 0.01780872, 0.53535053, 0.1838148 ,\n",
              "        0.4919258 , 0.26701765, 0.39863665, 0.95908374, 0.57371011,\n",
              "        0.33761292, 0.1200654 , 0.89383554, 0.04304039, 0.93511371,\n",
              "        0.39812136, 0.53711655, 0.73511799, 0.37628816, 0.38097216,\n",
              "        0.98621396, 0.2344223 , 0.79573309, 0.3501293 , 0.44533524,\n",
              "        0.15644403, 0.87329953, 0.58343027, 0.1123098 , 0.55976892,\n",
              "        0.34018914, 0.25636055, 0.77739549, 0.76564781, 0.0305661 ,\n",
              "        0.84621731, 0.81494572, 0.47630712, 0.12617485, 0.46163818,\n",
              "        0.11962673, 0.80812116, 0.89112146, 0.60992702, 0.88629161,\n",
              "        0.54695212, 0.44132926, 0.12273269, 0.51188967, 0.84678006,\n",
              "        0.6789773 , 0.56622118, 0.35066445, 0.04148478, 0.48696269,\n",
              "        0.03613071, 0.64610518, 0.56588623, 0.90334585, 0.14662075,\n",
              "        0.86724652, 0.94979363, 0.11387295, 0.22949583, 0.25290269,\n",
              "        0.64761577, 0.23783237, 0.36572192, 0.47253415, 0.65897292,\n",
              "        0.954297  , 0.29555517, 0.51763727, 0.06732454, 0.50774235,\n",
              "        0.39549739, 0.61059385, 0.65118821, 0.65542391, 0.80203661,\n",
              "        0.27109782, 0.46435806, 0.65661523, 0.48617221, 0.3926403 ,\n",
              "        0.55895123, 0.64488023, 0.46422424, 0.94909779, 0.63237902,\n",
              "        0.33521518, 0.22689465, 0.94156807, 0.51459175, 0.40797894,\n",
              "        0.85826861, 0.36340442, 0.92061438, 0.94313157, 0.4082743 ,\n",
              "        0.74762434, 0.83708799, 0.67980442, 0.86139812, 0.36904245,\n",
              "        0.08726457, 0.53587372, 0.46477478, 0.05080649, 0.81707033,\n",
              "        0.22284945, 0.27480334, 0.53060694, 0.46747059, 0.76218703,\n",
              "        0.9585427 , 0.39053698, 0.11920036, 0.41132059, 0.71040944,\n",
              "        0.0063694 , 0.35021536, 0.5697155 , 0.45790369, 0.15673347],\n",
              "       [0.5895851 , 0.25356834, 0.09936832, 0.16339175, 0.76196563,\n",
              "        0.12737583, 0.43998401, 0.20968687, 0.65396437, 0.39231364,\n",
              "        0.44439811, 0.11730061, 0.09470573, 0.60454717, 0.70904179,\n",
              "        0.25723532, 0.48943839, 0.32820068, 0.93923851, 0.32540216,\n",
              "        0.21694025, 0.72230167, 0.74024405, 0.94441591, 0.74279015,\n",
              "        0.69380204, 0.8254028 , 0.13263624, 0.93030649, 0.50147821,\n",
              "        0.07097071, 0.34368869, 0.61151126, 0.37994439, 0.59146327,\n",
              "        0.33772028, 0.37590965, 0.04582836, 0.15024351, 0.90870559,\n",
              "        0.04520772, 0.68491196, 0.57670273, 0.78808239, 0.02370844,\n",
              "        0.336781  , 0.39764461, 0.81767937, 0.76013253, 0.93316375,\n",
              "        0.54105795, 0.02735424, 0.02015792, 0.81298475, 0.56164183,\n",
              "        0.61902589, 0.4282039 , 0.29837522, 0.15534875, 0.05171658,\n",
              "        0.21751423, 0.27282974, 0.01121476, 0.85869178, 0.26063909,\n",
              "        0.41359086, 0.22584504, 0.72451281, 0.88710334, 0.48310229,\n",
              "        0.38084453, 0.59718942, 0.94938028, 0.38599844, 0.36246337,\n",
              "        0.64762838, 0.33122538, 0.89563103, 0.82396907, 0.26013968,\n",
              "        0.79573416, 0.75976914, 0.65118806, 0.92516951, 0.6902654 ,\n",
              "        0.95682583, 0.04126743, 0.40376382, 0.2443976 , 0.67318896,\n",
              "        0.32054067, 0.21042824, 0.60021285, 0.60405918, 0.92230184,\n",
              "        0.33107168, 0.16955033, 0.6496694 , 0.02197372, 0.72558255,\n",
              "        0.49750009, 0.28480759, 0.27464948, 0.8200343 , 0.61153498,\n",
              "        0.960755  , 0.22491413, 0.72790223, 0.50917891, 0.4506838 ,\n",
              "        0.33638485, 0.96645359, 0.48848169, 0.39079766, 0.1364339 ,\n",
              "        0.64034183, 0.73242959, 0.84778559, 0.74115894, 0.8533497 ,\n",
              "        0.90678792, 0.96255849, 0.5901921 , 0.41338658, 0.84607377,\n",
              "        0.88597749, 0.53387682, 0.15135435, 0.40757644, 0.46887487,\n",
              "        0.40104232, 0.78483221, 0.94430827, 0.63727976, 0.52591752,\n",
              "        0.68342676, 0.67503891, 0.78318845, 0.50363787, 0.13166174,\n",
              "        0.16845562, 0.19371607, 0.75630685, 0.56075868, 0.65208247,\n",
              "        0.75315418, 0.44517823, 0.90405937, 0.45680287, 0.65772447]])"
            ]
          },
          "metadata": {
            "tags": []
          },
          "execution_count": 35
        }
      ]
    },
    {
      "cell_type": "code",
      "metadata": {
        "id": "-UM9ArPU3GZm",
        "colab": {
          "base_uri": "https://localhost:8080/"
        },
        "outputId": "278180cf-0e7d-455f-9270-9a129e1ec894"
      },
      "source": [
        "labels[:10]"
      ],
      "execution_count": 36,
      "outputs": [
        {
          "output_type": "execute_result",
          "data": {
            "text/plain": [
              "array([[0],\n",
              "       [6],\n",
              "       [7],\n",
              "       [3],\n",
              "       [2],\n",
              "       [5],\n",
              "       [7],\n",
              "       [2],\n",
              "       [6],\n",
              "       [1]])"
            ]
          },
          "metadata": {
            "tags": []
          },
          "execution_count": 36
        }
      ]
    },
    {
      "cell_type": "code",
      "metadata": {
        "id": "llauNV3D3OFK",
        "colab": {
          "base_uri": "https://localhost:8080/"
        },
        "outputId": "19e5bda7-af3e-4e82-8463-ee1af4b39ccc"
      },
      "source": [
        "from tensorflow.keras.utils import to_categorical\n",
        "# funkcja to_categorical przekonwertuje labele na listy zero-jedynkowe\n",
        "labels = to_categorical(labels, num_classes=10)\n",
        "labels"
      ],
      "execution_count": 37,
      "outputs": [
        {
          "output_type": "execute_result",
          "data": {
            "text/plain": [
              "array([[1., 0., 0., ..., 0., 0., 0.],\n",
              "       [0., 0., 0., ..., 0., 0., 0.],\n",
              "       [0., 0., 0., ..., 1., 0., 0.],\n",
              "       ...,\n",
              "       [0., 0., 0., ..., 0., 0., 0.],\n",
              "       [0., 0., 0., ..., 1., 0., 0.],\n",
              "       [1., 0., 0., ..., 0., 0., 0.]], dtype=float32)"
            ]
          },
          "metadata": {
            "tags": []
          },
          "execution_count": 37
        }
      ]
    },
    {
      "cell_type": "code",
      "metadata": {
        "id": "vORrZXRz7HUp",
        "colab": {
          "base_uri": "https://localhost:8080/"
        },
        "outputId": "81c58961-7432-41d2-8bbe-cf19ee561761"
      },
      "source": [
        "# na przykład gdy druga lista wynosi [0., 0., 0., 0., 0., 0., 1., 0., 0., 0.]\r\n",
        "# to oznacza liczbę 6\r\n",
        "labels[1]"
      ],
      "execution_count": 38,
      "outputs": [
        {
          "output_type": "execute_result",
          "data": {
            "text/plain": [
              "array([0., 0., 0., 0., 0., 0., 1., 0., 0., 0.], dtype=float32)"
            ]
          },
          "metadata": {
            "tags": []
          },
          "execution_count": 38
        }
      ]
    },
    {
      "cell_type": "code",
      "metadata": {
        "id": "k03Mdkup5yZ1",
        "colab": {
          "base_uri": "https://localhost:8080/"
        },
        "outputId": "b64032c6-2c2f-4b7d-d6f9-185f3c07343d"
      },
      "source": [
        "model = Sequential()\n",
        "model.add(Dense(units=32, activation='relu', input_shape=(150,)))\n",
        "# neuronów tyle ile mamy klas.\n",
        "# Funkcja softmax pozwala zwrócić p-two przynależności do tych klas\n",
        "model.add(Dense(units=10, activation='softmax'))\n",
        "\n",
        "model.compile(optimizer='rmsprop',\n",
        "              loss='categorical_crossentropy',\n",
        "              metrics=['accuracy'])\n",
        "\n",
        "model.fit(data, labels, batch_size=32, epochs=30, validation_split=0.2)"
      ],
      "execution_count": 39,
      "outputs": [
        {
          "output_type": "stream",
          "text": [
            "Epoch 1/30\n",
            "25/25 [==============================] - 1s 9ms/step - loss: 2.3335 - accuracy: 0.1110 - val_loss: 2.3003 - val_accuracy: 0.1300\n",
            "Epoch 2/30\n",
            "25/25 [==============================] - 0s 3ms/step - loss: 2.2939 - accuracy: 0.1270 - val_loss: 2.3057 - val_accuracy: 0.1150\n",
            "Epoch 3/30\n",
            "25/25 [==============================] - 0s 3ms/step - loss: 2.2742 - accuracy: 0.1199 - val_loss: 2.3083 - val_accuracy: 0.1100\n",
            "Epoch 4/30\n",
            "25/25 [==============================] - 0s 4ms/step - loss: 2.2738 - accuracy: 0.1362 - val_loss: 2.3138 - val_accuracy: 0.0950\n",
            "Epoch 5/30\n",
            "25/25 [==============================] - 0s 3ms/step - loss: 2.2763 - accuracy: 0.1368 - val_loss: 2.3157 - val_accuracy: 0.1250\n",
            "Epoch 6/30\n",
            "25/25 [==============================] - 0s 3ms/step - loss: 2.2499 - accuracy: 0.1542 - val_loss: 2.3073 - val_accuracy: 0.1150\n",
            "Epoch 7/30\n",
            "25/25 [==============================] - 0s 3ms/step - loss: 2.2509 - accuracy: 0.1519 - val_loss: 2.3108 - val_accuracy: 0.1200\n",
            "Epoch 8/30\n",
            "25/25 [==============================] - 0s 3ms/step - loss: 2.2288 - accuracy: 0.2070 - val_loss: 2.3160 - val_accuracy: 0.1050\n",
            "Epoch 9/30\n",
            "25/25 [==============================] - 0s 3ms/step - loss: 2.2104 - accuracy: 0.2086 - val_loss: 2.3253 - val_accuracy: 0.1000\n",
            "Epoch 10/30\n",
            "25/25 [==============================] - 0s 3ms/step - loss: 2.2107 - accuracy: 0.1774 - val_loss: 2.3202 - val_accuracy: 0.0800\n",
            "Epoch 11/30\n",
            "25/25 [==============================] - 0s 3ms/step - loss: 2.1888 - accuracy: 0.2232 - val_loss: 2.3303 - val_accuracy: 0.0550\n",
            "Epoch 12/30\n",
            "25/25 [==============================] - 0s 3ms/step - loss: 2.1763 - accuracy: 0.2375 - val_loss: 2.3366 - val_accuracy: 0.0800\n",
            "Epoch 13/30\n",
            "25/25 [==============================] - 0s 3ms/step - loss: 2.1822 - accuracy: 0.2157 - val_loss: 2.3383 - val_accuracy: 0.0850\n",
            "Epoch 14/30\n",
            "25/25 [==============================] - 0s 3ms/step - loss: 2.1480 - accuracy: 0.2341 - val_loss: 2.3348 - val_accuracy: 0.0750\n",
            "Epoch 15/30\n",
            "25/25 [==============================] - 0s 11ms/step - loss: 2.1535 - accuracy: 0.2354 - val_loss: 2.3496 - val_accuracy: 0.1000\n",
            "Epoch 16/30\n",
            "25/25 [==============================] - 0s 3ms/step - loss: 2.1362 - accuracy: 0.2629 - val_loss: 2.3505 - val_accuracy: 0.0650\n",
            "Epoch 17/30\n",
            "25/25 [==============================] - 0s 3ms/step - loss: 2.1213 - accuracy: 0.2689 - val_loss: 2.3600 - val_accuracy: 0.0750\n",
            "Epoch 18/30\n",
            "25/25 [==============================] - 0s 4ms/step - loss: 2.0776 - accuracy: 0.3092 - val_loss: 2.3662 - val_accuracy: 0.0800\n",
            "Epoch 19/30\n",
            "25/25 [==============================] - 0s 3ms/step - loss: 2.0807 - accuracy: 0.2938 - val_loss: 2.3562 - val_accuracy: 0.0950\n",
            "Epoch 20/30\n",
            "25/25 [==============================] - 0s 3ms/step - loss: 2.0669 - accuracy: 0.3528 - val_loss: 2.3758 - val_accuracy: 0.0700\n",
            "Epoch 21/30\n",
            "25/25 [==============================] - 0s 3ms/step - loss: 2.0731 - accuracy: 0.3008 - val_loss: 2.3762 - val_accuracy: 0.0850\n",
            "Epoch 22/30\n",
            "25/25 [==============================] - 0s 3ms/step - loss: 2.0609 - accuracy: 0.3286 - val_loss: 2.3911 - val_accuracy: 0.0600\n",
            "Epoch 23/30\n",
            "25/25 [==============================] - 0s 3ms/step - loss: 2.0530 - accuracy: 0.3158 - val_loss: 2.3926 - val_accuracy: 0.0850\n",
            "Epoch 24/30\n",
            "25/25 [==============================] - 0s 3ms/step - loss: 2.0275 - accuracy: 0.3373 - val_loss: 2.4023 - val_accuracy: 0.1000\n",
            "Epoch 25/30\n",
            "25/25 [==============================] - 0s 3ms/step - loss: 1.9674 - accuracy: 0.3557 - val_loss: 2.3879 - val_accuracy: 0.0900\n",
            "Epoch 26/30\n",
            "25/25 [==============================] - 0s 4ms/step - loss: 2.0058 - accuracy: 0.3551 - val_loss: 2.4034 - val_accuracy: 0.0800\n",
            "Epoch 27/30\n",
            "25/25 [==============================] - 0s 3ms/step - loss: 1.9856 - accuracy: 0.3239 - val_loss: 2.4063 - val_accuracy: 0.0800\n",
            "Epoch 28/30\n",
            "25/25 [==============================] - 0s 3ms/step - loss: 1.9705 - accuracy: 0.3594 - val_loss: 2.4035 - val_accuracy: 0.0850\n",
            "Epoch 29/30\n",
            "25/25 [==============================] - 0s 3ms/step - loss: 1.9367 - accuracy: 0.3945 - val_loss: 2.4264 - val_accuracy: 0.1050\n",
            "Epoch 30/30\n",
            "25/25 [==============================] - 0s 3ms/step - loss: 1.9488 - accuracy: 0.3803 - val_loss: 2.4215 - val_accuracy: 0.0850\n"
          ],
          "name": "stdout"
        },
        {
          "output_type": "execute_result",
          "data": {
            "text/plain": [
              "<tensorflow.python.keras.callbacks.History at 0x7fb9e3459978>"
            ]
          },
          "metadata": {
            "tags": []
          },
          "execution_count": 39
        }
      ]
    },
    {
      "cell_type": "code",
      "metadata": {
        "id": "apTq9u_O63vu",
        "colab": {
          "base_uri": "https://localhost:8080/"
        },
        "outputId": "a7d8fd69-7c1c-43da-9203-ebfd68118fa9"
      },
      "source": [
        "test_data = np.random.random((10, 150))\n",
        "# dla każdej próbki wektor długości 10 z p-twami przynależności do poszczególnej klasy.\n",
        "# Tam gdzie p-two najwyższe, to do tej klasy zostnie przypisana próbka.\n",
        "model.predict(test_data)"
      ],
      "execution_count": 40,
      "outputs": [
        {
          "output_type": "execute_result",
          "data": {
            "text/plain": [
              "array([[0.07045627, 0.23586144, 0.02904801, 0.08006576, 0.26272058,\n",
              "        0.04720489, 0.1459829 , 0.04409807, 0.04077771, 0.0437843 ],\n",
              "       [0.04768011, 0.22445527, 0.08131329, 0.14248304, 0.20981674,\n",
              "        0.0523602 , 0.10710092, 0.05029355, 0.03251868, 0.05197823],\n",
              "       [0.01628052, 0.2168705 , 0.170518  , 0.0571672 , 0.06755725,\n",
              "        0.09694082, 0.20739794, 0.01600729, 0.0711379 , 0.0801226 ],\n",
              "       [0.11671582, 0.06626239, 0.15857537, 0.08358145, 0.20708127,\n",
              "        0.06999322, 0.15911245, 0.03758769, 0.03963159, 0.06145867],\n",
              "       [0.04587272, 0.12613493, 0.08729503, 0.10691224, 0.13946286,\n",
              "        0.19022901, 0.12736343, 0.04608225, 0.05661784, 0.07402962],\n",
              "       [0.1581612 , 0.06737335, 0.07602661, 0.11582807, 0.1084618 ,\n",
              "        0.07639979, 0.07004075, 0.13598773, 0.06911908, 0.12260166],\n",
              "       [0.06137703, 0.16819672, 0.14443237, 0.08216718, 0.04740322,\n",
              "        0.21006203, 0.04515247, 0.09478693, 0.02699184, 0.1194301 ],\n",
              "       [0.0789526 , 0.15648599, 0.15243767, 0.12669523, 0.07843107,\n",
              "        0.13132878, 0.06132083, 0.07861576, 0.06034944, 0.07538267],\n",
              "       [0.17738678, 0.05427609, 0.08772802, 0.08626564, 0.12720333,\n",
              "        0.0856992 , 0.09965888, 0.06812736, 0.04513063, 0.1685241 ],\n",
              "       [0.15057655, 0.06443398, 0.1332355 , 0.16243845, 0.08583651,\n",
              "        0.11470702, 0.09518848, 0.03274788, 0.03302674, 0.12780893]],\n",
              "      dtype=float32)"
            ]
          },
          "metadata": {
            "tags": []
          },
          "execution_count": 40
        }
      ]
    },
    {
      "cell_type": "code",
      "metadata": {
        "id": "Pd6vGftg8SHk",
        "colab": {
          "base_uri": "https://localhost:8080/"
        },
        "outputId": "00d7f4d8-9914-44af-9101-19dad8ff55e9"
      },
      "source": [
        "# przewidziane klasy\r\n",
        "model.predict_classes(test_data)"
      ],
      "execution_count": 41,
      "outputs": [
        {
          "output_type": "stream",
          "text": [
            "/usr/local/lib/python3.6/dist-packages/tensorflow/python/keras/engine/sequential.py:450: UserWarning:\n",
            "\n",
            "`model.predict_classes()` is deprecated and will be removed after 2021-01-01. Please use instead:* `np.argmax(model.predict(x), axis=-1)`,   if your model does multi-class classification   (e.g. if it uses a `softmax` last-layer activation).* `(model.predict(x) > 0.5).astype(\"int32\")`,   if your model does binary classification   (e.g. if it uses a `sigmoid` last-layer activation).\n",
            "\n"
          ],
          "name": "stderr"
        },
        {
          "output_type": "execute_result",
          "data": {
            "text/plain": [
              "array([4, 1, 1, 4, 5, 0, 5, 1, 0, 3])"
            ]
          },
          "metadata": {
            "tags": []
          },
          "execution_count": 41
        }
      ]
    },
    {
      "cell_type": "markdown",
      "metadata": {
        "id": "FZuyR0UW8fP2"
      },
      "source": [
        "### <a name='a6'></a> Przykład - regresja"
      ]
    },
    {
      "cell_type": "code",
      "metadata": {
        "id": "Uj04-RVU8WNh"
      },
      "source": [
        "# dane to 1000 próbek i 150 liczb w każdej próbce z rozkładu jednostajnego U(0,1) \n",
        "# czyli z przedziału (0,1)\n",
        "data = np.random.random((1000, 150))\n",
        "# labele to 1000 liczb z rozkładu jednostajnego U(0,50), czyli z przedziału (0,50)\n",
        "# Czyli już to są ciągłe wartości\n",
        "labels = 50 * np.random.random(1000)"
      ],
      "execution_count": 42,
      "outputs": []
    },
    {
      "cell_type": "code",
      "metadata": {
        "id": "nzjtUUE38pj4",
        "colab": {
          "base_uri": "https://localhost:8080/"
        },
        "outputId": "cac0f081-20d4-43d6-a372-b44f8efee208"
      },
      "source": [
        "# pierwsze 3 próbki, po 150 cech w każdej próbce\r\n",
        "data[:3]"
      ],
      "execution_count": 44,
      "outputs": [
        {
          "output_type": "execute_result",
          "data": {
            "text/plain": [
              "array([[0.93039107, 0.87871847, 0.87943923, 0.23029392, 0.92462355,\n",
              "        0.7471006 , 0.49802824, 0.96498018, 0.70362733, 0.8592457 ,\n",
              "        0.2722082 , 0.05040313, 0.7624297 , 0.38987293, 0.79006158,\n",
              "        0.26088318, 0.8229753 , 0.73231732, 0.30395526, 0.00131049,\n",
              "        0.62140726, 0.56842562, 0.97605632, 0.59144721, 0.5107196 ,\n",
              "        0.52944263, 0.23738964, 0.01461417, 0.23769062, 0.49292143,\n",
              "        0.26117576, 0.6788783 , 0.26367681, 0.16835774, 0.65082042,\n",
              "        0.33946951, 0.36490385, 0.1439133 , 0.42730295, 0.90308998,\n",
              "        0.72078537, 0.71010536, 0.03236132, 0.49296547, 0.90570667,\n",
              "        0.84678979, 0.30424041, 0.47319842, 0.65222239, 0.16758264,\n",
              "        0.86305991, 0.29808536, 0.98047031, 0.16287792, 0.89384153,\n",
              "        0.58076195, 0.50207889, 0.2878743 , 0.22041037, 0.04599868,\n",
              "        0.2656977 , 0.16105866, 0.35016142, 0.90735084, 0.59606302,\n",
              "        0.23005038, 0.01238927, 0.75210044, 0.48210542, 0.79442372,\n",
              "        0.53036646, 0.29861608, 0.14784297, 0.02192878, 0.26873704,\n",
              "        0.90464096, 0.54524767, 0.89257457, 0.91794354, 0.0585167 ,\n",
              "        0.43597097, 0.3045696 , 0.50836203, 0.882295  , 0.12283662,\n",
              "        0.8325485 , 0.18856341, 0.44503197, 0.91682601, 0.90630108,\n",
              "        0.96118955, 0.47248477, 0.29851567, 0.88474171, 0.78669771,\n",
              "        0.71479547, 0.01118511, 0.89505083, 0.67395792, 0.77826707,\n",
              "        0.89745327, 0.05435192, 0.42592694, 0.28314278, 0.16918112,\n",
              "        0.27485725, 0.75769452, 0.85378546, 0.48868633, 0.41634993,\n",
              "        0.77073165, 0.06279452, 0.11021486, 0.68883404, 0.13296794,\n",
              "        0.99988267, 0.51199425, 0.99669927, 0.94668441, 0.00698293,\n",
              "        0.69915008, 0.54477834, 0.96208949, 0.13154294, 0.26957204,\n",
              "        0.57736354, 0.28067247, 0.01904818, 0.98804518, 0.55331504,\n",
              "        0.39724752, 0.52961725, 0.87934606, 0.04974848, 0.47004665,\n",
              "        0.98554359, 0.54687299, 0.73836113, 0.22747141, 0.09507853,\n",
              "        0.47709696, 0.66884913, 0.61439558, 0.15110146, 0.45958463,\n",
              "        0.38135601, 0.03949001, 0.0535695 , 0.22533382, 0.74332095],\n",
              "       [0.332725  , 0.93111973, 0.30513673, 0.51071717, 0.71303302,\n",
              "        0.24479295, 0.45685741, 0.31709471, 0.05200572, 0.96594612,\n",
              "        0.78679384, 0.76981233, 0.58277288, 0.82290908, 0.31174813,\n",
              "        0.94596227, 0.25389457, 0.26770863, 0.49777233, 0.31662506,\n",
              "        0.94576687, 0.479999  , 0.44611363, 0.20127561, 0.01251318,\n",
              "        0.57279204, 0.6070744 , 0.7958961 , 0.99367236, 0.25186076,\n",
              "        0.5843342 , 0.87939791, 0.73694545, 0.56904936, 0.00505648,\n",
              "        0.12942321, 0.84900332, 0.25243689, 0.11827247, 0.05268887,\n",
              "        0.05581435, 0.52870936, 0.63551202, 0.07743726, 0.1538185 ,\n",
              "        0.57527191, 0.65612023, 0.02652715, 0.16160714, 0.40861691,\n",
              "        0.15686817, 0.06935062, 0.06145294, 0.09201301, 0.86085751,\n",
              "        0.32954787, 0.87892646, 0.72313601, 0.7616599 , 0.15766126,\n",
              "        0.18711502, 0.72323372, 0.90057994, 0.20857723, 0.6640704 ,\n",
              "        0.20681412, 0.10960866, 0.71468485, 0.484594  , 0.709927  ,\n",
              "        0.62630489, 0.18142055, 0.96527008, 0.3473263 , 0.35123843,\n",
              "        0.18650769, 0.15879218, 0.55628724, 0.87777248, 0.06890254,\n",
              "        0.32451247, 0.32736256, 0.92851318, 0.33719169, 0.43826769,\n",
              "        0.48701376, 0.75852059, 0.93980825, 0.03177888, 0.87716519,\n",
              "        0.44489702, 0.70352902, 0.75494551, 0.13873013, 0.87033205,\n",
              "        0.19063906, 0.17104229, 0.24651346, 0.49496106, 0.68936148,\n",
              "        0.07071979, 0.18628939, 0.74267852, 0.54814854, 0.24857354,\n",
              "        0.17508056, 0.87639429, 0.85589874, 0.50341091, 0.84890629,\n",
              "        0.47961448, 0.80258128, 0.53285616, 0.07370516, 0.47301795,\n",
              "        0.39985108, 0.20878666, 0.03334924, 0.45512636, 0.56765018,\n",
              "        0.80933439, 0.60846587, 0.29710301, 0.81107743, 0.09917426,\n",
              "        0.50300913, 0.73154909, 0.60352122, 0.23804821, 0.83132984,\n",
              "        0.99788124, 0.06043215, 0.38147257, 0.87321019, 0.33972636,\n",
              "        0.8718358 , 0.69087082, 0.35088058, 0.97533529, 0.56370417,\n",
              "        0.14241816, 0.79659036, 0.12190446, 0.25961228, 0.16561087,\n",
              "        0.42048951, 0.21037971, 0.34689233, 0.21072026, 0.68923569],\n",
              "       [0.01478183, 0.51193565, 0.6416819 , 0.6398356 , 0.9977325 ,\n",
              "        0.62848119, 0.79232437, 0.38746465, 0.16645732, 0.40486727,\n",
              "        0.43621357, 0.18604984, 0.12682652, 0.96420449, 0.52162445,\n",
              "        0.33520947, 0.82176137, 0.73558543, 0.94854632, 0.91265859,\n",
              "        0.83079655, 0.12162769, 0.01737703, 0.35927969, 0.04970454,\n",
              "        0.58606902, 0.6286633 , 0.17833007, 0.52908462, 0.16865926,\n",
              "        0.41817971, 0.93317609, 0.22101232, 0.6674408 , 0.75384573,\n",
              "        0.60875167, 0.87373896, 0.70051443, 0.54532651, 0.37761057,\n",
              "        0.27342189, 0.65849147, 0.74550875, 0.61375591, 0.8557478 ,\n",
              "        0.31367594, 0.3350106 , 0.05215144, 0.81531046, 0.22439128,\n",
              "        0.43099132, 0.14472637, 0.52956655, 0.72711955, 0.96847066,\n",
              "        0.51387579, 0.48027826, 0.574125  , 0.63597914, 0.81968752,\n",
              "        0.18465491, 0.04598189, 0.63753116, 0.28711649, 0.60181034,\n",
              "        0.39138736, 0.08621492, 0.20115973, 0.96246385, 0.94413632,\n",
              "        0.31282402, 0.28258008, 0.03937988, 0.31260725, 0.92054832,\n",
              "        0.90707325, 0.04069982, 0.43565304, 0.12752646, 0.20358947,\n",
              "        0.05850377, 0.45557286, 0.94120119, 0.70527562, 0.08830923,\n",
              "        0.14623793, 0.12471565, 0.43607552, 0.61562252, 0.51864153,\n",
              "        0.93767624, 0.19141079, 0.51080143, 0.34940693, 0.7511447 ,\n",
              "        0.81099222, 0.8679156 , 0.36183863, 0.83365752, 0.4824431 ,\n",
              "        0.13954475, 0.6057739 , 0.65284083, 0.34445065, 0.70229582,\n",
              "        0.87488692, 0.61365019, 0.64524658, 0.27480039, 0.74953914,\n",
              "        0.61902475, 0.16564791, 0.30475683, 0.76673898, 0.47809397,\n",
              "        0.04023129, 0.38374305, 0.94900511, 0.89522056, 0.44714995,\n",
              "        0.56692411, 0.12067481, 0.48953713, 0.51495583, 0.94451841,\n",
              "        0.78506844, 0.6316357 , 0.79962737, 0.21815858, 0.38867998,\n",
              "        0.91338253, 0.5779382 , 0.16773914, 0.25354671, 0.53908766,\n",
              "        0.27072824, 0.35086346, 0.37621667, 0.9352808 , 0.55984074,\n",
              "        0.79442309, 0.87305719, 0.78045207, 0.129552  , 0.87809581,\n",
              "        0.96632454, 0.83175772, 0.1844291 , 0.85951109, 0.59109724]])"
            ]
          },
          "metadata": {
            "tags": []
          },
          "execution_count": 44
        }
      ]
    },
    {
      "cell_type": "code",
      "metadata": {
        "id": "G9T_X5kr8qht",
        "colab": {
          "base_uri": "https://localhost:8080/"
        },
        "outputId": "c949e8a5-0f81-4e86-a906-09a004e88e35"
      },
      "source": [
        "labels[:10]"
      ],
      "execution_count": 45,
      "outputs": [
        {
          "output_type": "execute_result",
          "data": {
            "text/plain": [
              "array([12.2376462 ,  7.34984909,  4.72351777, 27.79622211, 35.45494339,\n",
              "       17.18490062, 35.0863021 , 47.93613287, 29.53286487,  7.85463053])"
            ]
          },
          "metadata": {
            "tags": []
          },
          "execution_count": 45
        }
      ]
    },
    {
      "cell_type": "code",
      "metadata": {
        "id": "M3MEGPvy8rqz",
        "colab": {
          "base_uri": "https://localhost:8080/"
        },
        "outputId": "6590aa1a-ad06-4c61-d77e-796d6b988dde"
      },
      "source": [
        "model = Sequential()\n",
        "model.add(Dense(units=32, activation='relu', input_shape=(150,)))\n",
        "# 1 neuron bo chcemy przwidywaną wartość ciągłą.\n",
        "# Funkcja aktywacji domyślnie jest liniowa a(x)\n",
        "model.add(Dense(units=1))\n",
        "\n",
        "model.compile(optimizer='rmsprop',\n",
        "              loss='mse')\n",
        "\n",
        "model.fit(data, labels, epochs=30, batch_size=32, validation_split=0.2)"
      ],
      "execution_count": 46,
      "outputs": [
        {
          "output_type": "stream",
          "text": [
            "Epoch 1/30\n",
            "25/25 [==============================] - 0s 8ms/step - loss: 671.5061 - val_loss: 424.4634\n",
            "Epoch 2/30\n",
            "25/25 [==============================] - 0s 3ms/step - loss: 320.1439 - val_loss: 231.4867\n",
            "Epoch 3/30\n",
            "25/25 [==============================] - 0s 3ms/step - loss: 240.5469 - val_loss: 193.1378\n",
            "Epoch 4/30\n",
            "25/25 [==============================] - 0s 3ms/step - loss: 225.3478 - val_loss: 191.0755\n",
            "Epoch 5/30\n",
            "25/25 [==============================] - 0s 3ms/step - loss: 215.7509 - val_loss: 190.6980\n",
            "Epoch 6/30\n",
            "25/25 [==============================] - 0s 3ms/step - loss: 214.1038 - val_loss: 188.4960\n",
            "Epoch 7/30\n",
            "25/25 [==============================] - 0s 3ms/step - loss: 208.7536 - val_loss: 196.7604\n",
            "Epoch 8/30\n",
            "25/25 [==============================] - 0s 3ms/step - loss: 218.8714 - val_loss: 191.3250\n",
            "Epoch 9/30\n",
            "25/25 [==============================] - 0s 3ms/step - loss: 211.6386 - val_loss: 187.4020\n",
            "Epoch 10/30\n",
            "25/25 [==============================] - 0s 3ms/step - loss: 210.3236 - val_loss: 187.4778\n",
            "Epoch 11/30\n",
            "25/25 [==============================] - 0s 3ms/step - loss: 225.3004 - val_loss: 189.9601\n",
            "Epoch 12/30\n",
            "25/25 [==============================] - 0s 3ms/step - loss: 218.6334 - val_loss: 187.2144\n",
            "Epoch 13/30\n",
            "25/25 [==============================] - 0s 3ms/step - loss: 214.4556 - val_loss: 189.7469\n",
            "Epoch 14/30\n",
            "25/25 [==============================] - 0s 4ms/step - loss: 215.1142 - val_loss: 186.4492\n",
            "Epoch 15/30\n",
            "25/25 [==============================] - 0s 3ms/step - loss: 219.2777 - val_loss: 187.0808\n",
            "Epoch 16/30\n",
            "25/25 [==============================] - 0s 3ms/step - loss: 207.0281 - val_loss: 186.9674\n",
            "Epoch 17/30\n",
            "25/25 [==============================] - 0s 3ms/step - loss: 209.0365 - val_loss: 188.0761\n",
            "Epoch 18/30\n",
            "25/25 [==============================] - 0s 3ms/step - loss: 204.8374 - val_loss: 187.1244\n",
            "Epoch 19/30\n",
            "25/25 [==============================] - 0s 10ms/step - loss: 207.6747 - val_loss: 195.1032\n",
            "Epoch 20/30\n",
            "25/25 [==============================] - 0s 3ms/step - loss: 208.9845 - val_loss: 184.7705\n",
            "Epoch 21/30\n",
            "25/25 [==============================] - 0s 3ms/step - loss: 196.9784 - val_loss: 185.3795\n",
            "Epoch 22/30\n",
            "25/25 [==============================] - 0s 3ms/step - loss: 200.9648 - val_loss: 184.0492\n",
            "Epoch 23/30\n",
            "25/25 [==============================] - 0s 3ms/step - loss: 211.2873 - val_loss: 190.3209\n",
            "Epoch 24/30\n",
            "25/25 [==============================] - 0s 3ms/step - loss: 200.1131 - val_loss: 185.2205\n",
            "Epoch 25/30\n",
            "25/25 [==============================] - 0s 3ms/step - loss: 199.3414 - val_loss: 186.7575\n",
            "Epoch 26/30\n",
            "25/25 [==============================] - 0s 3ms/step - loss: 203.8829 - val_loss: 186.6234\n",
            "Epoch 27/30\n",
            "25/25 [==============================] - 0s 3ms/step - loss: 218.6160 - val_loss: 188.6288\n",
            "Epoch 28/30\n",
            "25/25 [==============================] - 0s 4ms/step - loss: 196.1113 - val_loss: 185.9898\n",
            "Epoch 29/30\n",
            "25/25 [==============================] - 0s 3ms/step - loss: 205.4455 - val_loss: 186.7263\n",
            "Epoch 30/30\n",
            "25/25 [==============================] - 0s 3ms/step - loss: 198.4532 - val_loss: 187.8193\n"
          ],
          "name": "stdout"
        },
        {
          "output_type": "execute_result",
          "data": {
            "text/plain": [
              "<tensorflow.python.keras.callbacks.History at 0x7fb9eaa83710>"
            ]
          },
          "metadata": {
            "tags": []
          },
          "execution_count": 46
        }
      ]
    },
    {
      "cell_type": "code",
      "metadata": {
        "id": "jLUGCiun-ePp",
        "colab": {
          "base_uri": "https://localhost:8080/"
        },
        "outputId": "8abeaad3-3e1c-488b-e0ed-c29a79f994b1"
      },
      "source": [
        "model = Sequential()\n",
        "model.add(Dense(units=32, activation='relu', input_shape=(150,)))\n",
        "model.add(Dense(units=1))\n",
        "\n",
        "model.compile(optimizer='rmsprop',\n",
        "              loss='mae',\n",
        "              metrics=['mse'])\n",
        "\n",
        "model.fit(data, labels, epochs=30, batch_size=32, validation_split=0.2)"
      ],
      "execution_count": 47,
      "outputs": [
        {
          "output_type": "stream",
          "text": [
            "Epoch 1/30\n",
            "25/25 [==============================] - 1s 8ms/step - loss: 22.3192 - mse: 703.4715 - val_loss: 18.0328 - val_mse: 456.5960\n",
            "Epoch 2/30\n",
            "25/25 [==============================] - 0s 3ms/step - loss: 15.8601 - mse: 370.4224 - val_loss: 14.1166 - val_mse: 267.0532\n",
            "Epoch 3/30\n",
            "25/25 [==============================] - 0s 4ms/step - loss: 13.3946 - mse: 245.3792 - val_loss: 12.4568 - val_mse: 200.2270\n",
            "Epoch 4/30\n",
            "25/25 [==============================] - 0s 3ms/step - loss: 12.6718 - mse: 212.2326 - val_loss: 12.2241 - val_mse: 193.1539\n",
            "Epoch 5/30\n",
            "25/25 [==============================] - 0s 3ms/step - loss: 13.0933 - mse: 225.3273 - val_loss: 12.0728 - val_mse: 189.5040\n",
            "Epoch 6/30\n",
            "25/25 [==============================] - 0s 3ms/step - loss: 13.0384 - mse: 224.1393 - val_loss: 12.0117 - val_mse: 188.2601\n",
            "Epoch 7/30\n",
            "25/25 [==============================] - 0s 3ms/step - loss: 12.8627 - mse: 216.7516 - val_loss: 12.1375 - val_mse: 190.7274\n",
            "Epoch 8/30\n",
            "25/25 [==============================] - 0s 3ms/step - loss: 12.7361 - mse: 215.0837 - val_loss: 12.0536 - val_mse: 188.8468\n",
            "Epoch 9/30\n",
            "25/25 [==============================] - 0s 4ms/step - loss: 13.0952 - mse: 225.2004 - val_loss: 12.0207 - val_mse: 188.1665\n",
            "Epoch 10/30\n",
            "25/25 [==============================] - 0s 4ms/step - loss: 13.0102 - mse: 225.3304 - val_loss: 12.2929 - val_mse: 194.2912\n",
            "Epoch 11/30\n",
            "25/25 [==============================] - 0s 3ms/step - loss: 12.8661 - mse: 219.1639 - val_loss: 12.2323 - val_mse: 192.4474\n",
            "Epoch 12/30\n",
            "25/25 [==============================] - 0s 3ms/step - loss: 12.6906 - mse: 214.7466 - val_loss: 12.2245 - val_mse: 192.2080\n",
            "Epoch 13/30\n",
            "25/25 [==============================] - 0s 3ms/step - loss: 13.0174 - mse: 224.3637 - val_loss: 12.2264 - val_mse: 192.0753\n",
            "Epoch 14/30\n",
            "25/25 [==============================] - 0s 3ms/step - loss: 13.0517 - mse: 225.6409 - val_loss: 12.2717 - val_mse: 193.1108\n",
            "Epoch 15/30\n",
            "25/25 [==============================] - 0s 3ms/step - loss: 12.4319 - mse: 207.8314 - val_loss: 12.1504 - val_mse: 190.1600\n",
            "Epoch 16/30\n",
            "25/25 [==============================] - 0s 3ms/step - loss: 12.4073 - mse: 210.9199 - val_loss: 12.0866 - val_mse: 188.7534\n",
            "Epoch 17/30\n",
            "25/25 [==============================] - 0s 3ms/step - loss: 12.6013 - mse: 215.3742 - val_loss: 12.3320 - val_mse: 194.3127\n",
            "Epoch 18/30\n",
            "25/25 [==============================] - 0s 3ms/step - loss: 12.3220 - mse: 206.5636 - val_loss: 12.1073 - val_mse: 188.7886\n",
            "Epoch 19/30\n",
            "25/25 [==============================] - 0s 3ms/step - loss: 12.2321 - mse: 200.3107 - val_loss: 12.2884 - val_mse: 192.8210\n",
            "Epoch 20/30\n",
            "25/25 [==============================] - 0s 3ms/step - loss: 12.5006 - mse: 209.9633 - val_loss: 12.1047 - val_mse: 188.4550\n",
            "Epoch 21/30\n",
            "25/25 [==============================] - 0s 3ms/step - loss: 12.9110 - mse: 217.5798 - val_loss: 12.1915 - val_mse: 190.1536\n",
            "Epoch 22/30\n",
            "25/25 [==============================] - 0s 3ms/step - loss: 12.5324 - mse: 211.2893 - val_loss: 12.2253 - val_mse: 190.8224\n",
            "Epoch 23/30\n",
            "25/25 [==============================] - 0s 3ms/step - loss: 12.9518 - mse: 222.4232 - val_loss: 12.1715 - val_mse: 189.4293\n",
            "Epoch 24/30\n",
            "25/25 [==============================] - 0s 3ms/step - loss: 12.4494 - mse: 207.3268 - val_loss: 12.0001 - val_mse: 186.4704\n",
            "Epoch 25/30\n",
            "25/25 [==============================] - 0s 3ms/step - loss: 12.7786 - mse: 216.4174 - val_loss: 12.2397 - val_mse: 190.7392\n",
            "Epoch 26/30\n",
            "25/25 [==============================] - 0s 3ms/step - loss: 12.5988 - mse: 211.6925 - val_loss: 11.9610 - val_mse: 185.9363\n",
            "Epoch 27/30\n",
            "25/25 [==============================] - 0s 3ms/step - loss: 12.5195 - mse: 212.9003 - val_loss: 12.2973 - val_mse: 192.1459\n",
            "Epoch 28/30\n",
            "25/25 [==============================] - 0s 11ms/step - loss: 12.6943 - mse: 214.0543 - val_loss: 12.1113 - val_mse: 187.7258\n",
            "Epoch 29/30\n",
            "25/25 [==============================] - 0s 3ms/step - loss: 12.3382 - mse: 208.2941 - val_loss: 11.9049 - val_mse: 185.6608\n",
            "Epoch 30/30\n",
            "25/25 [==============================] - 0s 3ms/step - loss: 12.1711 - mse: 204.4761 - val_loss: 12.1422 - val_mse: 188.1556\n"
          ],
          "name": "stdout"
        },
        {
          "output_type": "execute_result",
          "data": {
            "text/plain": [
              "<tensorflow.python.keras.callbacks.History at 0x7fb9ea5d1e48>"
            ]
          },
          "metadata": {
            "tags": []
          },
          "execution_count": 47
        }
      ]
    },
    {
      "cell_type": "code",
      "metadata": {
        "id": "0T9od2mo9KAF",
        "colab": {
          "base_uri": "https://localhost:8080/"
        },
        "outputId": "d7af8911-d0a5-468f-d841-008ed2312f40"
      },
      "source": [
        "# 10 próbek testowych, każda o wymiarze 150\n",
        "test_data = np.random.random((10, 150))\n",
        "\n",
        "model.predict(test_data)"
      ],
      "execution_count": 48,
      "outputs": [
        {
          "output_type": "execute_result",
          "data": {
            "text/plain": [
              "array([[24.573427],\n",
              "       [28.470768],\n",
              "       [30.131481],\n",
              "       [23.567585],\n",
              "       [25.895725],\n",
              "       [24.743126],\n",
              "       [28.2812  ],\n",
              "       [26.498436],\n",
              "       [24.990889],\n",
              "       [21.373272]], dtype=float32)"
            ]
          },
          "metadata": {
            "tags": []
          },
          "execution_count": 48
        }
      ]
    }
  ]
}