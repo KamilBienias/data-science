{
  "nbformat": 4,
  "nbformat_minor": 0,
  "metadata": {
    "colab": {
      "name": "03_overfitting_underfitting.ipynb",
      "provenance": [],
      "collapsed_sections": [
        "pxWvfp5_p2Ic"
      ],
      "include_colab_link": true
    },
    "kernelspec": {
      "name": "python3",
      "display_name": "Python 3"
    }
  },
  "cells": [
    {
      "cell_type": "markdown",
      "metadata": {
        "id": "view-in-github",
        "colab_type": "text"
      },
      "source": [
        "<a href=\"https://colab.research.google.com/github/KamilBienias/data-science/blob/main/kursPawe%C5%82Krakowiak/neural-network-course/03_keras/03_overfitting_underfitting.ipynb\" target=\"_parent\"><img src=\"https://colab.research.google.com/assets/colab-badge.svg\" alt=\"Open In Colab\"/></a>"
      ]
    },
    {
      "cell_type": "markdown",
      "metadata": {
        "id": "5gjFu2l9IMsj"
      },
      "source": [
        "### Główne problemy uczenia maszynowego: przeuczenie (overfitting) oraz niedouczenie (underfitting)\n",
        "\n",
        ">Celem tego notebook'a jest pokazanie przykładów zbyt dobrego dopasowanie modelu do danych uczących (przeuczenie) oraz zbyt słabego dopasowania modelu do danych uczących (niedouczenie).\n",
        ">\n",
        ">Wykorzystamy zbiór z bilioteki Keras składający się z 50000 recenzji filmów oznaczonych sentymentem: pozytywny/negatywny. Recenzje są wstępnie przetworzone, a każda recenzja jest zakodowana jako sekwencja indeksów słów. Słowa są indeksowane według ogólnej częstotliwości w zbiorze danych. Na przykład liczba 5 oznacza piąte najczęściej pojawiające się słowo w danych. Liczba 0 nie oznacza określonego słowa.\n",
        "\n",
        "### Spis treści\n",
        "1. [Import bibliotek](#a1)\n",
        "2. [Załadowanie i przygotowanie danych](#a2)\n",
        "3. [Budowa modelu bazowego](#a3)\n",
        "4. [Budowa 'mniejszego' modelu](#a4)    \n",
        "5. [Budowa 'większego' modelu](#a5)\n",
        "6. [Porównanie wydajności modeli](#a6)\n",
        "7. [Metody regularyzacji](#a7)"
      ]
    },
    {
      "cell_type": "markdown",
      "metadata": {
        "id": "cri2nNhKnulf"
      },
      "source": [
        "### <a name='a1'></a> 1. Import bibliotek"
      ]
    },
    {
      "cell_type": "code",
      "metadata": {
        "id": "IqX0mhs4EXOo",
        "colab": {
          "base_uri": "https://localhost:8080/",
          "height": 35
        },
        "outputId": "13cc1a8e-b7e4-4b8b-f751-117ec9f7b56d"
      },
      "source": [
        "# ######################################################\n",
        "# Etap 7. Odcinek: Główne problemy uczenia głębokiego - przeuczenie i niedouczenie.\n",
        "\n",
        "%tensorflow_version 2.x\n",
        "import numpy as np\n",
        "import pandas as pd\n",
        "import matplotlib.pyplot as plt\n",
        "import seaborn as sns\n",
        "import pickle\n",
        "\n",
        "import tensorflow as tf\n",
        "from tensorflow.keras.datasets import imdb\n",
        "from tensorflow.keras.datasets.imdb import get_word_index\n",
        "from tensorflow.keras.utils import get_file\n",
        "from tensorflow.keras.models import Sequential\n",
        "from tensorflow.keras.layers import Dense\n",
        "\n",
        "sns.set()\n",
        "tf.__version__"
      ],
      "execution_count": 1,
      "outputs": [
        {
          "output_type": "execute_result",
          "data": {
            "application/vnd.google.colaboratory.intrinsic+json": {
              "type": "string"
            },
            "text/plain": [
              "'2.4.1'"
            ]
          },
          "metadata": {
            "tags": []
          },
          "execution_count": 1
        }
      ]
    },
    {
      "cell_type": "markdown",
      "metadata": {
        "id": "i2yxQLXlt1TF"
      },
      "source": [
        "### <a name='a2'></a> 2. Załadowanie i przygotowanie danych"
      ]
    },
    {
      "cell_type": "code",
      "metadata": {
        "id": "vtZaKvwvivjE",
        "colab": {
          "base_uri": "https://localhost:8080/"
        },
        "outputId": "45372a8e-f4f9-46ee-b68d-667dd5b4d868"
      },
      "source": [
        "NUM_WORDS = 10000   # 10000 najczęściej pojawiających się słów\n",
        "INDEX_FROM = 3\n",
        "\n",
        "(train_data, train_labels), (test_data, test_labels) = imdb.load_data(num_words=NUM_WORDS, index_from=INDEX_FROM)"
      ],
      "execution_count": 2,
      "outputs": [
        {
          "output_type": "stream",
          "text": [
            "Downloading data from https://storage.googleapis.com/tensorflow/tf-keras-datasets/imdb.npz\n",
            "17465344/17464789 [==============================] - 0s 0us/step\n"
          ],
          "name": "stdout"
        },
        {
          "output_type": "stream",
          "text": [
            "<string>:6: VisibleDeprecationWarning: Creating an ndarray from ragged nested sequences (which is a list-or-tuple of lists-or-tuples-or ndarrays with different lengths or shapes) is deprecated. If you meant to do this, you must specify 'dtype=object' when creating the ndarray\n",
            "/usr/local/lib/python3.6/dist-packages/tensorflow/python/keras/datasets/imdb.py:159: VisibleDeprecationWarning: Creating an ndarray from ragged nested sequences (which is a list-or-tuple of lists-or-tuples-or ndarrays with different lengths or shapes) is deprecated. If you meant to do this, you must specify 'dtype=object' when creating the ndarray\n",
            "  x_train, y_train = np.array(xs[:idx]), np.array(labels[:idx])\n",
            "/usr/local/lib/python3.6/dist-packages/tensorflow/python/keras/datasets/imdb.py:160: VisibleDeprecationWarning: Creating an ndarray from ragged nested sequences (which is a list-or-tuple of lists-or-tuples-or ndarrays with different lengths or shapes) is deprecated. If you meant to do this, you must specify 'dtype=object' when creating the ndarray\n",
            "  x_test, y_test = np.array(xs[idx:]), np.array(labels[idx:])\n"
          ],
          "name": "stderr"
        }
      ]
    },
    {
      "cell_type": "code",
      "metadata": {
        "id": "BcjKpHzUlGmg",
        "colab": {
          "base_uri": "https://localhost:8080/"
        },
        "outputId": "60e8bbae-ddb7-4c19-eec2-846589751e7e"
      },
      "source": [
        "print(f'train_data shape: {train_data.shape}')\n",
        "print(f'test_data shape: {test_data.shape}')"
      ],
      "execution_count": 3,
      "outputs": [
        {
          "output_type": "stream",
          "text": [
            "train_data shape: (25000,)\n",
            "test_data shape: (25000,)\n"
          ],
          "name": "stdout"
        }
      ]
    },
    {
      "cell_type": "code",
      "metadata": {
        "id": "KMwYNwfFlJqb",
        "colab": {
          "base_uri": "https://localhost:8080/"
        },
        "outputId": "37c8f7f6-eead-4e48-f1f4-b8d7961b9884"
      },
      "source": [
        "# pierwsza recenzja\r\n",
        "# Na przykład druga liczba 14 oznacza słowo, które pojawiło się na 14 miejscu\r\n",
        "# pod względem częstości (w całym zbiorze wszystkich recenzji)\r\n",
        "print(train_data[0])"
      ],
      "execution_count": 4,
      "outputs": [
        {
          "output_type": "stream",
          "text": [
            "[1, 14, 22, 16, 43, 530, 973, 1622, 1385, 65, 458, 4468, 66, 3941, 4, 173, 36, 256, 5, 25, 100, 43, 838, 112, 50, 670, 2, 9, 35, 480, 284, 5, 150, 4, 172, 112, 167, 2, 336, 385, 39, 4, 172, 4536, 1111, 17, 546, 38, 13, 447, 4, 192, 50, 16, 6, 147, 2025, 19, 14, 22, 4, 1920, 4613, 469, 4, 22, 71, 87, 12, 16, 43, 530, 38, 76, 15, 13, 1247, 4, 22, 17, 515, 17, 12, 16, 626, 18, 2, 5, 62, 386, 12, 8, 316, 8, 106, 5, 4, 2223, 5244, 16, 480, 66, 3785, 33, 4, 130, 12, 16, 38, 619, 5, 25, 124, 51, 36, 135, 48, 25, 1415, 33, 6, 22, 12, 215, 28, 77, 52, 5, 14, 407, 16, 82, 2, 8, 4, 107, 117, 5952, 15, 256, 4, 2, 7, 3766, 5, 723, 36, 71, 43, 530, 476, 26, 400, 317, 46, 7, 4, 2, 1029, 13, 104, 88, 4, 381, 15, 297, 98, 32, 2071, 56, 26, 141, 6, 194, 7486, 18, 4, 226, 22, 21, 134, 476, 26, 480, 5, 144, 30, 5535, 18, 51, 36, 28, 224, 92, 25, 104, 4, 226, 65, 16, 38, 1334, 88, 12, 16, 283, 5, 16, 4472, 113, 103, 32, 15, 16, 5345, 19, 178, 32]\n"
          ],
          "name": "stdout"
        }
      ]
    },
    {
      "cell_type": "code",
      "metadata": {
        "id": "oXwGOxCxoctr",
        "colab": {
          "base_uri": "https://localhost:8080/"
        },
        "outputId": "2035b34a-83b9-44ee-821d-5b1dae33693b"
      },
      "source": [
        "# ta funkcja mapuje każdą liczbę całkowitą na słowo\n",
        "word_to_idx = get_word_index()\n",
        "word_to_idx = {k:(v + INDEX_FROM) for k, v in word_to_idx.items()}\n",
        "word_to_idx['<PAD>'] = 0\n",
        "word_to_idx['<START>'] = 1\n",
        "word_to_idx['<UNK>'] = 2  # unknown nieznany, prawdopodobnie wypadło z listy 10000 pierwszych słowek\n",
        "word_to_idx['<UNUSED>'] = 3  # unused nieużywany\n",
        "idx_to_word = {v: k for k, v in word_to_idx.items()}\n",
        "list(idx_to_word.items())[:10]\n",
        "print(' '.join(idx_to_word[idx] for idx in train_data[0]))\n",
        "# to nasza recenzja odpowiadająca liście train_data[0]\n",
        "# Właśnie drugie słowo to 'film', które jest na 14 miejscu pod względem częstości"
      ],
      "execution_count": 5,
      "outputs": [
        {
          "output_type": "stream",
          "text": [
            "Downloading data from https://storage.googleapis.com/tensorflow/tf-keras-datasets/imdb_word_index.json\n",
            "1646592/1641221 [==============================] - 0s 0us/step\n",
            "<START> this film was just brilliant casting location scenery story direction everyone's really suited the part they played and you could just imagine being there robert <UNK> is an amazing actor and now the same being director <UNK> father came from the same scottish island as myself so i loved the fact there was a real connection with this film the witty remarks throughout the film were great it was just brilliant so much that i bought the film as soon as it was released for <UNK> and would recommend it to everyone to watch and the fly fishing was amazing really cried at the end it was so sad and you know what they say if you cry at a film it must have been good and this definitely was also <UNK> to the two little boy's that played the <UNK> of norman and paul they were just brilliant children are often left out of the <UNK> list i think because the stars that play them all grown up are such a big profile for the whole film but these children are amazing and should be praised for what they have done don't you think the whole story was so lovely because it was true and was someone's life after all that was shared with us all\n"
          ],
          "name": "stdout"
        }
      ]
    },
    {
      "cell_type": "code",
      "metadata": {
        "id": "_xk9cposwRLn",
        "colab": {
          "base_uri": "https://localhost:8080/"
        },
        "outputId": "88fb2e73-1959-4779-854d-4972c72249bb"
      },
      "source": [
        "# klasa 1 - pozytywna\r\n",
        "# klasa 0 - negatywna\r\n",
        "train_labels[:10]"
      ],
      "execution_count": 6,
      "outputs": [
        {
          "output_type": "execute_result",
          "data": {
            "text/plain": [
              "array([1, 0, 0, 1, 0, 0, 1, 0, 1, 0])"
            ]
          },
          "metadata": {
            "tags": []
          },
          "execution_count": 6
        }
      ]
    },
    {
      "cell_type": "code",
      "metadata": {
        "id": "_gfaRdc1lb5t",
        "colab": {
          "base_uri": "https://localhost:8080/"
        },
        "outputId": "0bc4ca0a-85ee-48b0-946e-5817c857d4fd"
      },
      "source": [
        "# funkcja wrzucająca dane do sieci. Kodowanie 0-1. Tworzymy macierz o wymiarze\n",
        "# liczba sekwencji na wymiar naszego kodowania. \n",
        "def multi_hot_sequences(sequences, dimension):\n",
        "    results = np.zeros((len(sequences), dimension))\n",
        "    for i, word_indices in enumerate(sequences):\n",
        "        results[i, word_indices] = 1.0\n",
        "    return results\n",
        "\n",
        "# dimension to liczba przekazanych słów czyli wcześniejsze NUM_WORDS=10000\n",
        "train_data = multi_hot_sequences(train_data, dimension=NUM_WORDS)\n",
        "test_data = multi_hot_sequences(test_data, dimension=NUM_WORDS)\n",
        "# 25000 próbek i 10000 słów\n",
        "train_data.shape\n",
        "# każda próbka ma wstawić 0 lub 1 - w zależności czy zawiera słowo znajdujące się \n",
        "# wśród 10000 najczęstszych słów."
      ],
      "execution_count": 8,
      "outputs": [
        {
          "output_type": "execute_result",
          "data": {
            "text/plain": [
              "(25000, 10000)"
            ]
          },
          "metadata": {
            "tags": []
          },
          "execution_count": 8
        }
      ]
    },
    {
      "cell_type": "code",
      "metadata": {
        "id": "r-bMuwGogsyR",
        "colab": {
          "base_uri": "https://localhost:8080/"
        },
        "outputId": "0b2e31aa-135c-40d4-b1f1-828fa63d8ed0"
      },
      "source": [
        "test_data.shape"
      ],
      "execution_count": 9,
      "outputs": [
        {
          "output_type": "execute_result",
          "data": {
            "text/plain": [
              "(25000, 10000)"
            ]
          },
          "metadata": {
            "tags": []
          },
          "execution_count": 9
        }
      ]
    },
    {
      "cell_type": "markdown",
      "metadata": {
        "id": "t_iRWKUpt_-u"
      },
      "source": [
        "### <a name='a3'></a> 3. Budowa modelu bazowego"
      ]
    },
    {
      "cell_type": "code",
      "metadata": {
        "id": "-0OZaNVamj3z",
        "colab": {
          "base_uri": "https://localhost:8080/"
        },
        "outputId": "e76c858c-6f43-420f-e12d-8930f14f673f"
      },
      "source": [
        "# ######################################################\n",
        "# Etap 7. Odcinek: Główne problemy uczenia głębokiego - przeuczenie i niedouczenie cz. 2.\n",
        "\n",
        "baseline_model = Sequential()\n",
        "# warstwą wejściową jest 10000 słów dobranych ze zbioru danych\n",
        "baseline_model.add(Dense(16, activation='relu', input_shape=(NUM_WORDS,)))\n",
        "baseline_model.add(Dense(16, activation='relu'))\n",
        "# model klasyfikacji binarnej więc 1 neuron (albo recenzja pozytywna albo negatywna)\n",
        "# funkcja sigmoid zwraca p-two\n",
        "baseline_model.add(Dense(1, activation='sigmoid'))\n",
        "\n",
        "baseline_model.compile(optimizer='adam',\n",
        "                       loss='binary_crossentropy',\n",
        "                       metrics=['accuracy', 'binary_crossentropy'])\n",
        "\n",
        "baseline_model.summary()"
      ],
      "execution_count": 10,
      "outputs": [
        {
          "output_type": "stream",
          "text": [
            "Model: \"sequential\"\n",
            "_________________________________________________________________\n",
            "Layer (type)                 Output Shape              Param #   \n",
            "=================================================================\n",
            "dense (Dense)                (None, 16)                160016    \n",
            "_________________________________________________________________\n",
            "dense_1 (Dense)              (None, 16)                272       \n",
            "_________________________________________________________________\n",
            "dense_2 (Dense)              (None, 1)                 17        \n",
            "=================================================================\n",
            "Total params: 160,305\n",
            "Trainable params: 160,305\n",
            "Non-trainable params: 0\n",
            "_________________________________________________________________\n"
          ],
          "name": "stdout"
        }
      ]
    },
    {
      "cell_type": "code",
      "metadata": {
        "id": "NE2qPSgQn_ss",
        "colab": {
          "base_uri": "https://localhost:8080/"
        },
        "outputId": "0557ee60-859f-4491-abe4-f6fdc0e7609c"
      },
      "source": [
        "# trenowanie modelu\r\n",
        "# Rozmiar danych wejściowych batch_size=512 po którym następuje aktualizacja wag\r\n",
        "baseline_history = baseline_model.fit(train_data, train_labels, epochs=20, batch_size=512, validation_data=(test_data, test_labels))\r\n",
        "# na zbiorze treningowym accuracy: 1.0000 więc model się przeuczył"
      ],
      "execution_count": 11,
      "outputs": [
        {
          "output_type": "stream",
          "text": [
            "Epoch 1/20\n",
            "49/49 [==============================] - 4s 62ms/step - loss: 0.5901 - accuracy: 0.7259 - binary_crossentropy: 0.5901 - val_loss: 0.3412 - val_accuracy: 0.8758 - val_binary_crossentropy: 0.3412\n",
            "Epoch 2/20\n",
            "49/49 [==============================] - 2s 40ms/step - loss: 0.2667 - accuracy: 0.9091 - binary_crossentropy: 0.2667 - val_loss: 0.2837 - val_accuracy: 0.8880 - val_binary_crossentropy: 0.2837\n",
            "Epoch 3/20\n",
            "49/49 [==============================] - 2s 39ms/step - loss: 0.1871 - accuracy: 0.9380 - binary_crossentropy: 0.1871 - val_loss: 0.2957 - val_accuracy: 0.8807 - val_binary_crossentropy: 0.2957\n",
            "Epoch 4/20\n",
            "49/49 [==============================] - 2s 39ms/step - loss: 0.1471 - accuracy: 0.9498 - binary_crossentropy: 0.1471 - val_loss: 0.3055 - val_accuracy: 0.8816 - val_binary_crossentropy: 0.3055\n",
            "Epoch 5/20\n",
            "49/49 [==============================] - 2s 38ms/step - loss: 0.1200 - accuracy: 0.9638 - binary_crossentropy: 0.1200 - val_loss: 0.3330 - val_accuracy: 0.8761 - val_binary_crossentropy: 0.3330\n",
            "Epoch 6/20\n",
            "49/49 [==============================] - 2s 39ms/step - loss: 0.0971 - accuracy: 0.9710 - binary_crossentropy: 0.0971 - val_loss: 0.3620 - val_accuracy: 0.8726 - val_binary_crossentropy: 0.3620\n",
            "Epoch 7/20\n",
            "49/49 [==============================] - 2s 40ms/step - loss: 0.0812 - accuracy: 0.9780 - binary_crossentropy: 0.0812 - val_loss: 0.3977 - val_accuracy: 0.8684 - val_binary_crossentropy: 0.3977\n",
            "Epoch 8/20\n",
            "49/49 [==============================] - 2s 38ms/step - loss: 0.0632 - accuracy: 0.9855 - binary_crossentropy: 0.0632 - val_loss: 0.4441 - val_accuracy: 0.8648 - val_binary_crossentropy: 0.4441\n",
            "Epoch 9/20\n",
            "49/49 [==============================] - 2s 39ms/step - loss: 0.0528 - accuracy: 0.9883 - binary_crossentropy: 0.0528 - val_loss: 0.4775 - val_accuracy: 0.8626 - val_binary_crossentropy: 0.4775\n",
            "Epoch 10/20\n",
            "49/49 [==============================] - 2s 39ms/step - loss: 0.0414 - accuracy: 0.9920 - binary_crossentropy: 0.0414 - val_loss: 0.5166 - val_accuracy: 0.8598 - val_binary_crossentropy: 0.5166\n",
            "Epoch 11/20\n",
            "49/49 [==============================] - 2s 38ms/step - loss: 0.0310 - accuracy: 0.9952 - binary_crossentropy: 0.0310 - val_loss: 0.5544 - val_accuracy: 0.8590 - val_binary_crossentropy: 0.5544\n",
            "Epoch 12/20\n",
            "49/49 [==============================] - 2s 39ms/step - loss: 0.0247 - accuracy: 0.9964 - binary_crossentropy: 0.0247 - val_loss: 0.5974 - val_accuracy: 0.8567 - val_binary_crossentropy: 0.5974\n",
            "Epoch 13/20\n",
            "49/49 [==============================] - 2s 50ms/step - loss: 0.0190 - accuracy: 0.9979 - binary_crossentropy: 0.0190 - val_loss: 0.6379 - val_accuracy: 0.8556 - val_binary_crossentropy: 0.6379\n",
            "Epoch 14/20\n",
            "49/49 [==============================] - 2s 44ms/step - loss: 0.0139 - accuracy: 0.9992 - binary_crossentropy: 0.0139 - val_loss: 0.6718 - val_accuracy: 0.8559 - val_binary_crossentropy: 0.6718\n",
            "Epoch 15/20\n",
            "49/49 [==============================] - 2s 40ms/step - loss: 0.0105 - accuracy: 0.9995 - binary_crossentropy: 0.0105 - val_loss: 0.7068 - val_accuracy: 0.8556 - val_binary_crossentropy: 0.7068\n",
            "Epoch 16/20\n",
            "49/49 [==============================] - 2s 39ms/step - loss: 0.0081 - accuracy: 0.9998 - binary_crossentropy: 0.0081 - val_loss: 0.7396 - val_accuracy: 0.8545 - val_binary_crossentropy: 0.7396\n",
            "Epoch 17/20\n",
            "49/49 [==============================] - 2s 39ms/step - loss: 0.0066 - accuracy: 0.9998 - binary_crossentropy: 0.0066 - val_loss: 0.7689 - val_accuracy: 0.8536 - val_binary_crossentropy: 0.7689\n",
            "Epoch 18/20\n",
            "49/49 [==============================] - 2s 39ms/step - loss: 0.0054 - accuracy: 0.9998 - binary_crossentropy: 0.0054 - val_loss: 0.7972 - val_accuracy: 0.8539 - val_binary_crossentropy: 0.7972\n",
            "Epoch 19/20\n",
            "49/49 [==============================] - 2s 39ms/step - loss: 0.0043 - accuracy: 1.0000 - binary_crossentropy: 0.0043 - val_loss: 0.8239 - val_accuracy: 0.8534 - val_binary_crossentropy: 0.8239\n",
            "Epoch 20/20\n",
            "49/49 [==============================] - 2s 40ms/step - loss: 0.0037 - accuracy: 1.0000 - binary_crossentropy: 0.0037 - val_loss: 0.8486 - val_accuracy: 0.8534 - val_binary_crossentropy: 0.8486\n"
          ],
          "name": "stdout"
        }
      ]
    },
    {
      "cell_type": "markdown",
      "metadata": {
        "id": "p-m0wWCsuILj"
      },
      "source": [
        "### <a name='a4'></a> 3. Budowa 'mniejszego' modelu"
      ]
    },
    {
      "cell_type": "code",
      "metadata": {
        "id": "vLnLXLxNoQFS",
        "colab": {
          "base_uri": "https://localhost:8080/"
        },
        "outputId": "0a97443c-876e-4037-829b-f448945a0ec9"
      },
      "source": [
        "# różni się tym że ma mniej neuronów w warstwach ukrytych\n",
        "smaller_model = Sequential()\n",
        "smaller_model.add(Dense(4, activation='relu', input_shape=(NUM_WORDS,)))\n",
        "smaller_model.add(Dense(4, activation='relu'))\n",
        "smaller_model.add(Dense(1, activation='sigmoid'))\n",
        "\n",
        "smaller_model.compile(optimizer='adam',\n",
        "                       loss='binary_crossentropy',\n",
        "                       metrics=['accuracy', 'binary_crossentropy'])\n",
        "\n",
        "smaller_model.summary()"
      ],
      "execution_count": 12,
      "outputs": [
        {
          "output_type": "stream",
          "text": [
            "Model: \"sequential_1\"\n",
            "_________________________________________________________________\n",
            "Layer (type)                 Output Shape              Param #   \n",
            "=================================================================\n",
            "dense_3 (Dense)              (None, 4)                 40004     \n",
            "_________________________________________________________________\n",
            "dense_4 (Dense)              (None, 4)                 20        \n",
            "_________________________________________________________________\n",
            "dense_5 (Dense)              (None, 1)                 5         \n",
            "=================================================================\n",
            "Total params: 40,029\n",
            "Trainable params: 40,029\n",
            "Non-trainable params: 0\n",
            "_________________________________________________________________\n"
          ],
          "name": "stdout"
        }
      ]
    },
    {
      "cell_type": "code",
      "metadata": {
        "id": "l-VmkwMXpcUj",
        "colab": {
          "base_uri": "https://localhost:8080/"
        },
        "outputId": "2ef2dd12-dc44-4d8a-d0fb-0ceeffdf7714"
      },
      "source": [
        "smaller_history = smaller_model.fit(train_data, train_labels, epochs=20, batch_size=512, validation_data=(test_data, test_labels))"
      ],
      "execution_count": 13,
      "outputs": [
        {
          "output_type": "stream",
          "text": [
            "Epoch 1/20\n",
            "49/49 [==============================] - 3s 55ms/step - loss: 0.6704 - accuracy: 0.5674 - binary_crossentropy: 0.6704 - val_loss: 0.5634 - val_accuracy: 0.8388 - val_binary_crossentropy: 0.5634\n",
            "Epoch 2/20\n",
            "49/49 [==============================] - 2s 37ms/step - loss: 0.5074 - accuracy: 0.8569 - binary_crossentropy: 0.5074 - val_loss: 0.4010 - val_accuracy: 0.8688 - val_binary_crossentropy: 0.4010\n",
            "Epoch 3/20\n",
            "49/49 [==============================] - 2s 41ms/step - loss: 0.3363 - accuracy: 0.8994 - binary_crossentropy: 0.3363 - val_loss: 0.3205 - val_accuracy: 0.8822 - val_binary_crossentropy: 0.3205\n",
            "Epoch 4/20\n",
            "49/49 [==============================] - 2s 44ms/step - loss: 0.2466 - accuracy: 0.9233 - binary_crossentropy: 0.2466 - val_loss: 0.2941 - val_accuracy: 0.8882 - val_binary_crossentropy: 0.2941\n",
            "Epoch 5/20\n",
            "49/49 [==============================] - 2s 39ms/step - loss: 0.2057 - accuracy: 0.9351 - binary_crossentropy: 0.2057 - val_loss: 0.2871 - val_accuracy: 0.8876 - val_binary_crossentropy: 0.2871\n",
            "Epoch 6/20\n",
            "49/49 [==============================] - 2s 36ms/step - loss: 0.1737 - accuracy: 0.9454 - binary_crossentropy: 0.1737 - val_loss: 0.2878 - val_accuracy: 0.8856 - val_binary_crossentropy: 0.2878\n",
            "Epoch 7/20\n",
            "49/49 [==============================] - 2s 37ms/step - loss: 0.1517 - accuracy: 0.9539 - binary_crossentropy: 0.1517 - val_loss: 0.2969 - val_accuracy: 0.8812 - val_binary_crossentropy: 0.2969\n",
            "Epoch 8/20\n",
            "49/49 [==============================] - 2s 37ms/step - loss: 0.1372 - accuracy: 0.9582 - binary_crossentropy: 0.1372 - val_loss: 0.3025 - val_accuracy: 0.8795 - val_binary_crossentropy: 0.3025\n",
            "Epoch 9/20\n",
            "49/49 [==============================] - 2s 37ms/step - loss: 0.1216 - accuracy: 0.9658 - binary_crossentropy: 0.1216 - val_loss: 0.3116 - val_accuracy: 0.8796 - val_binary_crossentropy: 0.3116\n",
            "Epoch 10/20\n",
            "49/49 [==============================] - 2s 37ms/step - loss: 0.1130 - accuracy: 0.9679 - binary_crossentropy: 0.1130 - val_loss: 0.3241 - val_accuracy: 0.8769 - val_binary_crossentropy: 0.3241\n",
            "Epoch 11/20\n",
            "49/49 [==============================] - 3s 53ms/step - loss: 0.1015 - accuracy: 0.9718 - binary_crossentropy: 0.1015 - val_loss: 0.3367 - val_accuracy: 0.8747 - val_binary_crossentropy: 0.3367\n",
            "Epoch 12/20\n",
            "49/49 [==============================] - 2s 38ms/step - loss: 0.0914 - accuracy: 0.9764 - binary_crossentropy: 0.0914 - val_loss: 0.3507 - val_accuracy: 0.8733 - val_binary_crossentropy: 0.3507\n",
            "Epoch 13/20\n",
            "49/49 [==============================] - 2s 37ms/step - loss: 0.0843 - accuracy: 0.9796 - binary_crossentropy: 0.0843 - val_loss: 0.3663 - val_accuracy: 0.8712 - val_binary_crossentropy: 0.3663\n",
            "Epoch 14/20\n",
            "49/49 [==============================] - 2s 40ms/step - loss: 0.0783 - accuracy: 0.9815 - binary_crossentropy: 0.0783 - val_loss: 0.3824 - val_accuracy: 0.8687 - val_binary_crossentropy: 0.3824\n",
            "Epoch 15/20\n",
            "49/49 [==============================] - 2s 40ms/step - loss: 0.0717 - accuracy: 0.9839 - binary_crossentropy: 0.0717 - val_loss: 0.3991 - val_accuracy: 0.8673 - val_binary_crossentropy: 0.3991\n",
            "Epoch 16/20\n",
            "49/49 [==============================] - 2s 37ms/step - loss: 0.0651 - accuracy: 0.9866 - binary_crossentropy: 0.0651 - val_loss: 0.4160 - val_accuracy: 0.8653 - val_binary_crossentropy: 0.4160\n",
            "Epoch 17/20\n",
            "49/49 [==============================] - 2s 36ms/step - loss: 0.0592 - accuracy: 0.9895 - binary_crossentropy: 0.0592 - val_loss: 0.4330 - val_accuracy: 0.8650 - val_binary_crossentropy: 0.4330\n",
            "Epoch 18/20\n",
            "49/49 [==============================] - 2s 37ms/step - loss: 0.0571 - accuracy: 0.9894 - binary_crossentropy: 0.0571 - val_loss: 0.4524 - val_accuracy: 0.8619 - val_binary_crossentropy: 0.4524\n",
            "Epoch 19/20\n",
            "49/49 [==============================] - 2s 36ms/step - loss: 0.0518 - accuracy: 0.9905 - binary_crossentropy: 0.0518 - val_loss: 0.4690 - val_accuracy: 0.8620 - val_binary_crossentropy: 0.4690\n",
            "Epoch 20/20\n",
            "49/49 [==============================] - 2s 36ms/step - loss: 0.0482 - accuracy: 0.9925 - binary_crossentropy: 0.0482 - val_loss: 0.4868 - val_accuracy: 0.8607 - val_binary_crossentropy: 0.4868\n"
          ],
          "name": "stdout"
        }
      ]
    },
    {
      "cell_type": "markdown",
      "metadata": {
        "id": "syavjQj1uQ5l"
      },
      "source": [
        "### <a name='a5'></a> 4. Budowa 'większego' modelu"
      ]
    },
    {
      "cell_type": "code",
      "metadata": {
        "id": "B8ye7dUApiAt",
        "colab": {
          "base_uri": "https://localhost:8080/"
        },
        "outputId": "3570d9d1-73c9-4874-ebbb-45dc5c49aa33"
      },
      "source": [
        "bigger_model = Sequential()\n",
        "bigger_model.add(Dense(512, activation='relu', input_shape=(NUM_WORDS,)))\n",
        "bigger_model.add(Dense(512, activation='relu'))\n",
        "bigger_model.add(Dense(1, activation='sigmoid'))\n",
        "\n",
        "bigger_model.compile(optimizer='adam',\n",
        "                       loss='binary_crossentropy',\n",
        "                       metrics=['accuracy', 'binary_crossentropy'])\n",
        "\n",
        "bigger_model.summary()"
      ],
      "execution_count": 14,
      "outputs": [
        {
          "output_type": "stream",
          "text": [
            "Model: \"sequential_2\"\n",
            "_________________________________________________________________\n",
            "Layer (type)                 Output Shape              Param #   \n",
            "=================================================================\n",
            "dense_6 (Dense)              (None, 512)               5120512   \n",
            "_________________________________________________________________\n",
            "dense_7 (Dense)              (None, 512)               262656    \n",
            "_________________________________________________________________\n",
            "dense_8 (Dense)              (None, 1)                 513       \n",
            "=================================================================\n",
            "Total params: 5,383,681\n",
            "Trainable params: 5,383,681\n",
            "Non-trainable params: 0\n",
            "_________________________________________________________________\n"
          ],
          "name": "stdout"
        }
      ]
    },
    {
      "cell_type": "code",
      "metadata": {
        "id": "n9v8QJMEpqGT",
        "colab": {
          "base_uri": "https://localhost:8080/"
        },
        "outputId": "00b63b1b-4c9e-4fea-8d04-ee47c8350a0a"
      },
      "source": [
        "bigger_history = bigger_model.fit(train_data, train_labels, epochs=20, batch_size=512, validation_data=(test_data, test_labels))"
      ],
      "execution_count": 15,
      "outputs": [
        {
          "output_type": "stream",
          "text": [
            "Epoch 1/20\n",
            "49/49 [==============================] - 16s 325ms/step - loss: 0.4308 - accuracy: 0.7919 - binary_crossentropy: 0.4308 - val_loss: 0.2917 - val_accuracy: 0.8816 - val_binary_crossentropy: 0.2917\n",
            "Epoch 2/20\n",
            "49/49 [==============================] - 15s 308ms/step - loss: 0.1423 - accuracy: 0.9525 - binary_crossentropy: 0.1423 - val_loss: 0.3371 - val_accuracy: 0.8751 - val_binary_crossentropy: 0.3371\n",
            "Epoch 3/20\n",
            "49/49 [==============================] - 15s 312ms/step - loss: 0.0453 - accuracy: 0.9888 - binary_crossentropy: 0.0453 - val_loss: 0.4664 - val_accuracy: 0.8654 - val_binary_crossentropy: 0.4664\n",
            "Epoch 4/20\n",
            "49/49 [==============================] - 15s 309ms/step - loss: 0.0082 - accuracy: 0.9991 - binary_crossentropy: 0.0082 - val_loss: 0.5838 - val_accuracy: 0.8691 - val_binary_crossentropy: 0.5838\n",
            "Epoch 5/20\n",
            "49/49 [==============================] - 15s 311ms/step - loss: 0.0011 - accuracy: 1.0000 - binary_crossentropy: 0.0011 - val_loss: 0.6874 - val_accuracy: 0.8664 - val_binary_crossentropy: 0.6874\n",
            "Epoch 6/20\n",
            "49/49 [==============================] - 15s 311ms/step - loss: 5.6192e-04 - accuracy: 0.9999 - binary_crossentropy: 5.6192e-04 - val_loss: 0.7234 - val_accuracy: 0.8695 - val_binary_crossentropy: 0.7234\n",
            "Epoch 7/20\n",
            "49/49 [==============================] - 15s 308ms/step - loss: 4.5936e-04 - accuracy: 1.0000 - binary_crossentropy: 4.5936e-04 - val_loss: 0.7459 - val_accuracy: 0.8689 - val_binary_crossentropy: 0.7459\n",
            "Epoch 8/20\n",
            "49/49 [==============================] - 15s 310ms/step - loss: 1.2244e-04 - accuracy: 1.0000 - binary_crossentropy: 1.2244e-04 - val_loss: 0.7719 - val_accuracy: 0.8690 - val_binary_crossentropy: 0.7719\n",
            "Epoch 9/20\n",
            "49/49 [==============================] - 15s 310ms/step - loss: 8.4806e-05 - accuracy: 1.0000 - binary_crossentropy: 8.4806e-05 - val_loss: 0.7931 - val_accuracy: 0.8690 - val_binary_crossentropy: 0.7931\n",
            "Epoch 10/20\n",
            "49/49 [==============================] - 15s 308ms/step - loss: 6.7311e-05 - accuracy: 1.0000 - binary_crossentropy: 6.7311e-05 - val_loss: 0.8097 - val_accuracy: 0.8694 - val_binary_crossentropy: 0.8097\n",
            "Epoch 11/20\n",
            "49/49 [==============================] - 15s 308ms/step - loss: 5.3226e-05 - accuracy: 1.0000 - binary_crossentropy: 5.3226e-05 - val_loss: 0.8258 - val_accuracy: 0.8690 - val_binary_crossentropy: 0.8258\n",
            "Epoch 12/20\n",
            "49/49 [==============================] - 15s 310ms/step - loss: 4.3998e-05 - accuracy: 1.0000 - binary_crossentropy: 4.3998e-05 - val_loss: 0.8394 - val_accuracy: 0.8695 - val_binary_crossentropy: 0.8394\n",
            "Epoch 13/20\n",
            "49/49 [==============================] - 15s 308ms/step - loss: 3.6685e-05 - accuracy: 1.0000 - binary_crossentropy: 3.6685e-05 - val_loss: 0.8505 - val_accuracy: 0.8697 - val_binary_crossentropy: 0.8505\n",
            "Epoch 14/20\n",
            "49/49 [==============================] - 15s 310ms/step - loss: 3.2368e-05 - accuracy: 1.0000 - binary_crossentropy: 3.2368e-05 - val_loss: 0.8624 - val_accuracy: 0.8696 - val_binary_crossentropy: 0.8624\n",
            "Epoch 15/20\n",
            "49/49 [==============================] - 15s 307ms/step - loss: 2.7148e-05 - accuracy: 1.0000 - binary_crossentropy: 2.7148e-05 - val_loss: 0.8723 - val_accuracy: 0.8696 - val_binary_crossentropy: 0.8723\n",
            "Epoch 16/20\n",
            "49/49 [==============================] - 15s 308ms/step - loss: 2.3590e-05 - accuracy: 1.0000 - binary_crossentropy: 2.3590e-05 - val_loss: 0.8815 - val_accuracy: 0.8697 - val_binary_crossentropy: 0.8815\n",
            "Epoch 17/20\n",
            "49/49 [==============================] - 15s 309ms/step - loss: 2.1282e-05 - accuracy: 1.0000 - binary_crossentropy: 2.1282e-05 - val_loss: 0.8916 - val_accuracy: 0.8696 - val_binary_crossentropy: 0.8916\n",
            "Epoch 18/20\n",
            "49/49 [==============================] - 15s 311ms/step - loss: 1.8190e-05 - accuracy: 1.0000 - binary_crossentropy: 1.8190e-05 - val_loss: 0.9002 - val_accuracy: 0.8695 - val_binary_crossentropy: 0.9002\n",
            "Epoch 19/20\n",
            "49/49 [==============================] - 15s 310ms/step - loss: 1.5940e-05 - accuracy: 1.0000 - binary_crossentropy: 1.5940e-05 - val_loss: 0.9087 - val_accuracy: 0.8698 - val_binary_crossentropy: 0.9087\n",
            "Epoch 20/20\n",
            "49/49 [==============================] - 15s 309ms/step - loss: 1.4086e-05 - accuracy: 1.0000 - binary_crossentropy: 1.4086e-05 - val_loss: 0.9162 - val_accuracy: 0.8698 - val_binary_crossentropy: 0.9162\n"
          ],
          "name": "stdout"
        }
      ]
    },
    {
      "cell_type": "code",
      "metadata": {
        "id": "JyVN8AuFqJn1",
        "colab": {
          "base_uri": "https://localhost:8080/",
          "height": 203
        },
        "outputId": "3efd8b27-07fa-49e4-f84c-fb30637fd0e8"
      },
      "source": [
        "# atrybut history pozwala pokazać wszystkie trenowane parametry\n",
        "hist = pd.DataFrame(baseline_history.history)\n",
        "hist['epoch'] = baseline_history.epoch\n",
        "hist.head()"
      ],
      "execution_count": 16,
      "outputs": [
        {
          "output_type": "execute_result",
          "data": {
            "text/html": [
              "<div>\n",
              "<style scoped>\n",
              "    .dataframe tbody tr th:only-of-type {\n",
              "        vertical-align: middle;\n",
              "    }\n",
              "\n",
              "    .dataframe tbody tr th {\n",
              "        vertical-align: top;\n",
              "    }\n",
              "\n",
              "    .dataframe thead th {\n",
              "        text-align: right;\n",
              "    }\n",
              "</style>\n",
              "<table border=\"1\" class=\"dataframe\">\n",
              "  <thead>\n",
              "    <tr style=\"text-align: right;\">\n",
              "      <th></th>\n",
              "      <th>loss</th>\n",
              "      <th>accuracy</th>\n",
              "      <th>binary_crossentropy</th>\n",
              "      <th>val_loss</th>\n",
              "      <th>val_accuracy</th>\n",
              "      <th>val_binary_crossentropy</th>\n",
              "      <th>epoch</th>\n",
              "    </tr>\n",
              "  </thead>\n",
              "  <tbody>\n",
              "    <tr>\n",
              "      <th>0</th>\n",
              "      <td>0.491047</td>\n",
              "      <td>0.80908</td>\n",
              "      <td>0.491047</td>\n",
              "      <td>0.341198</td>\n",
              "      <td>0.87580</td>\n",
              "      <td>0.341198</td>\n",
              "      <td>0</td>\n",
              "    </tr>\n",
              "    <tr>\n",
              "      <th>1</th>\n",
              "      <td>0.253614</td>\n",
              "      <td>0.91112</td>\n",
              "      <td>0.253614</td>\n",
              "      <td>0.283733</td>\n",
              "      <td>0.88796</td>\n",
              "      <td>0.283733</td>\n",
              "      <td>1</td>\n",
              "    </tr>\n",
              "    <tr>\n",
              "      <th>2</th>\n",
              "      <td>0.185782</td>\n",
              "      <td>0.93540</td>\n",
              "      <td>0.185782</td>\n",
              "      <td>0.295697</td>\n",
              "      <td>0.88072</td>\n",
              "      <td>0.295697</td>\n",
              "      <td>2</td>\n",
              "    </tr>\n",
              "    <tr>\n",
              "      <th>3</th>\n",
              "      <td>0.149800</td>\n",
              "      <td>0.94856</td>\n",
              "      <td>0.149800</td>\n",
              "      <td>0.305526</td>\n",
              "      <td>0.88164</td>\n",
              "      <td>0.305526</td>\n",
              "      <td>3</td>\n",
              "    </tr>\n",
              "    <tr>\n",
              "      <th>4</th>\n",
              "      <td>0.123908</td>\n",
              "      <td>0.95968</td>\n",
              "      <td>0.123908</td>\n",
              "      <td>0.332999</td>\n",
              "      <td>0.87608</td>\n",
              "      <td>0.332999</td>\n",
              "      <td>4</td>\n",
              "    </tr>\n",
              "  </tbody>\n",
              "</table>\n",
              "</div>"
            ],
            "text/plain": [
              "       loss  accuracy  ...  val_binary_crossentropy  epoch\n",
              "0  0.491047   0.80908  ...                 0.341198      0\n",
              "1  0.253614   0.91112  ...                 0.283733      1\n",
              "2  0.185782   0.93540  ...                 0.295697      2\n",
              "3  0.149800   0.94856  ...                 0.305526      3\n",
              "4  0.123908   0.95968  ...                 0.332999      4\n",
              "\n",
              "[5 rows x 7 columns]"
            ]
          },
          "metadata": {
            "tags": []
          },
          "execution_count": 16
        }
      ]
    },
    {
      "cell_type": "markdown",
      "metadata": {
        "id": "qrOXVS70ujJz"
      },
      "source": [
        "### <a name='a6'></a> 5. Porównanie wydajności modeli"
      ]
    },
    {
      "cell_type": "code",
      "metadata": {
        "id": "pxWvfp5_p2Ic",
        "colab": {
          "base_uri": "https://localhost:8080/",
          "height": 542
        },
        "outputId": "05c81b88-bde5-40aa-efdc-4a975b973fd5"
      },
      "source": [
        "import plotly.graph_objects as go\n",
        "\n",
        "fig = go.Figure()\n",
        "for name, history in zip(['smaller', 'baseline', 'bigger'], [smaller_history, baseline_history, bigger_history]):\n",
        "    hist = pd.DataFrame(history.history)\n",
        "    hist['epoch'] = history.epoch\n",
        "    fig.add_trace(go.Scatter(x=hist['epoch'], y=hist['binary_crossentropy'], name=name + '_binary_crossentropy', mode='lines+markers'))\n",
        "    fig.add_trace(go.Scatter(x=hist['epoch'], y=hist['val_binary_crossentropy'], name=name + '_val_binary_crossentropy', mode='lines+markers'))\n",
        "    fig.update_layout(xaxis_title='Epoki', yaxis_title='binary_crossentropy')\n",
        "fig.show()\n",
        "# model baseline:\n",
        "# zielona to funkcja straty na zbiorze treningowym (model ma zadanie ją minimalizować)\n",
        "# fioletowa to funkcja straty na zbiorze walidacyjnym już od 3 epoki zaczyna rosnąć\n",
        "# czyli model zaczyna się przeuczać bo gorzej sobie radzi\n",
        "# na zbiorze walidacyjnym (na danych których nie widział), czyli overfitting.\n",
        "# Dlatego warto zakończyć trenowanie po 3 epoce.\n",
        "\n",
        "# model smaller:\n",
        "# ma większą stratę na zbiorze treningowym niż baseline bo ma mniejszą architekturę.\n",
        "# Ale na walidacyjnym też ma mniejszą stratę - zaczyna ona rosnąć po 4 epoce czyli wtedy\n",
        "# warto skończyć trenowanie\n",
        "\n",
        "# bigger:\n",
        "# model bardzo szybko się przeuczył na zbiorze treningowym. Strata walidacyjna od razu zaczęła\n",
        "# rosnąć. Dlatego niedobry model\n",
        "\n",
        "# Wybierać model który ma najmniejszą stratę walidacyjną. Czyli wybrać smaller"
      ],
      "execution_count": 17,
      "outputs": [
        {
          "output_type": "display_data",
          "data": {
            "text/html": [
              "<html>\n",
              "<head><meta charset=\"utf-8\" /></head>\n",
              "<body>\n",
              "    <div>\n",
              "            <script src=\"https://cdnjs.cloudflare.com/ajax/libs/mathjax/2.7.5/MathJax.js?config=TeX-AMS-MML_SVG\"></script><script type=\"text/javascript\">if (window.MathJax) {MathJax.Hub.Config({SVG: {font: \"STIX-Web\"}});}</script>\n",
              "                <script type=\"text/javascript\">window.PlotlyConfig = {MathJaxConfig: 'local'};</script>\n",
              "        <script src=\"https://cdn.plot.ly/plotly-latest.min.js\"></script>    \n",
              "            <div id=\"afaf7e8e-bfa1-42ed-9e95-4d6ef27092d2\" class=\"plotly-graph-div\" style=\"height:525px; width:100%;\"></div>\n",
              "            <script type=\"text/javascript\">\n",
              "                \n",
              "                    window.PLOTLYENV=window.PLOTLYENV || {};\n",
              "                    \n",
              "                if (document.getElementById(\"afaf7e8e-bfa1-42ed-9e95-4d6ef27092d2\")) {\n",
              "                    Plotly.newPlot(\n",
              "                        'afaf7e8e-bfa1-42ed-9e95-4d6ef27092d2',\n",
              "                        [{\"mode\": \"lines+markers\", \"name\": \"smaller_binary_crossentropy\", \"type\": \"scatter\", \"x\": [0, 1, 2, 3, 4, 5, 6, 7, 8, 9, 10, 11, 12, 13, 14, 15, 16, 17, 18, 19], \"y\": [0.6380696296691895, 0.46704402565956116, 0.3130452036857605, 0.2397383600473404, 0.2005256712436676, 0.17448076605796814, 0.15464213490486145, 0.1390860676765442, 0.12577666342258453, 0.11475875228643417, 0.10427678376436234, 0.09572481364011765, 0.08802583813667297, 0.08074501156806946, 0.0742146372795105, 0.06801946461200714, 0.06229137256741524, 0.05744065344333649, 0.05300244688987732, 0.04856082424521446]}, {\"mode\": \"lines+markers\", \"name\": \"smaller_val_binary_crossentropy\", \"type\": \"scatter\", \"x\": [0, 1, 2, 3, 4, 5, 6, 7, 8, 9, 10, 11, 12, 13, 14, 15, 16, 17, 18, 19], \"y\": [0.5634442567825317, 0.40100666880607605, 0.3204960227012634, 0.29413068294525146, 0.2870616912841797, 0.2877635657787323, 0.2969339191913605, 0.3025257885456085, 0.31155088543891907, 0.32413214445114136, 0.3366992473602295, 0.3506723940372467, 0.3662744164466858, 0.38241779804229736, 0.3990573585033417, 0.4159746468067169, 0.4329807758331299, 0.45236000418663025, 0.4689682424068451, 0.48681485652923584]}, {\"mode\": \"lines+markers\", \"name\": \"baseline_binary_crossentropy\", \"type\": \"scatter\", \"x\": [0, 1, 2, 3, 4, 5, 6, 7, 8, 9, 10, 11, 12, 13, 14, 15, 16, 17, 18, 19], \"y\": [0.4910472631454468, 0.25361397862434387, 0.18578247725963593, 0.14979998767375946, 0.12390843033790588, 0.10228658467531204, 0.08417313545942307, 0.06892590969800949, 0.056434400379657745, 0.043296001851558685, 0.033315371721982956, 0.025242062285542488, 0.019031178206205368, 0.01425326056778431, 0.010910543613135815, 0.008392189629375935, 0.0067203594371676445, 0.0054206764325499535, 0.00442518899217248, 0.0037106014788150787]}, {\"mode\": \"lines+markers\", \"name\": \"baseline_val_binary_crossentropy\", \"type\": \"scatter\", \"x\": [0, 1, 2, 3, 4, 5, 6, 7, 8, 9, 10, 11, 12, 13, 14, 15, 16, 17, 18, 19], \"y\": [0.34119829535484314, 0.28373271226882935, 0.2956973910331726, 0.3055260479450226, 0.33299851417541504, 0.36201679706573486, 0.3977223038673401, 0.44414612650871277, 0.4774864912033081, 0.5165812373161316, 0.5543936491012573, 0.5973510146141052, 0.6379150152206421, 0.6718412637710571, 0.7068275213241577, 0.7395681738853455, 0.7688760757446289, 0.7971543669700623, 0.8239492177963257, 0.8485546708106995]}, {\"mode\": \"lines+markers\", \"name\": \"bigger_binary_crossentropy\", \"type\": \"scatter\", \"x\": [0, 1, 2, 3, 4, 5, 6, 7, 8, 9, 10, 11, 12, 13, 14, 15, 16, 17, 18, 19], \"y\": [0.34302446246147156, 0.13754914700984955, 0.04308678209781647, 0.007263971492648125, 0.000956034695263952, 0.00048007359146140516, 0.0006228942074812949, 0.00011452998296590522, 8.258278830908239e-05, 6.412369111785665e-05, 5.1825565606122836e-05, 4.2827185097848997e-05, 3.60217563866172e-05, 3.074248161283322e-05, 2.6556816010270268e-05, 2.3171895008999854e-05, 2.03899726329837e-05, 1.803531267796643e-05, 1.606156183697749e-05, 1.4380605534825008e-05]}, {\"mode\": \"lines+markers\", \"name\": \"bigger_val_binary_crossentropy\", \"type\": \"scatter\", \"x\": [0, 1, 2, 3, 4, 5, 6, 7, 8, 9, 10, 11, 12, 13, 14, 15, 16, 17, 18, 19], \"y\": [0.291724294424057, 0.3370509743690491, 0.466413676738739, 0.5837862491607666, 0.6874132752418518, 0.7234175205230713, 0.7458954453468323, 0.7718501687049866, 0.7931172847747803, 0.809725284576416, 0.825813889503479, 0.8393695950508118, 0.8505114316940308, 0.8623934388160706, 0.8723390698432922, 0.8814563155174255, 0.8915723562240601, 0.9001959562301636, 0.9086750149726868, 0.9161756038665771]}],\n",
              "                        {\"template\": {\"data\": {\"bar\": [{\"error_x\": {\"color\": \"#2a3f5f\"}, \"error_y\": {\"color\": \"#2a3f5f\"}, \"marker\": {\"line\": {\"color\": \"#E5ECF6\", \"width\": 0.5}}, \"type\": \"bar\"}], \"barpolar\": [{\"marker\": {\"line\": {\"color\": \"#E5ECF6\", \"width\": 0.5}}, \"type\": \"barpolar\"}], \"carpet\": [{\"aaxis\": {\"endlinecolor\": \"#2a3f5f\", \"gridcolor\": \"white\", \"linecolor\": \"white\", \"minorgridcolor\": \"white\", \"startlinecolor\": \"#2a3f5f\"}, \"baxis\": {\"endlinecolor\": \"#2a3f5f\", \"gridcolor\": \"white\", \"linecolor\": \"white\", \"minorgridcolor\": \"white\", \"startlinecolor\": \"#2a3f5f\"}, \"type\": \"carpet\"}], \"choropleth\": [{\"colorbar\": {\"outlinewidth\": 0, \"ticks\": \"\"}, \"type\": \"choropleth\"}], \"contour\": [{\"colorbar\": {\"outlinewidth\": 0, \"ticks\": \"\"}, \"colorscale\": [[0.0, \"#0d0887\"], [0.1111111111111111, \"#46039f\"], [0.2222222222222222, \"#7201a8\"], [0.3333333333333333, \"#9c179e\"], [0.4444444444444444, \"#bd3786\"], [0.5555555555555556, \"#d8576b\"], [0.6666666666666666, \"#ed7953\"], [0.7777777777777778, \"#fb9f3a\"], [0.8888888888888888, \"#fdca26\"], [1.0, \"#f0f921\"]], \"type\": \"contour\"}], \"contourcarpet\": [{\"colorbar\": {\"outlinewidth\": 0, \"ticks\": \"\"}, \"type\": \"contourcarpet\"}], \"heatmap\": [{\"colorbar\": {\"outlinewidth\": 0, \"ticks\": \"\"}, \"colorscale\": [[0.0, \"#0d0887\"], [0.1111111111111111, \"#46039f\"], [0.2222222222222222, \"#7201a8\"], [0.3333333333333333, \"#9c179e\"], [0.4444444444444444, \"#bd3786\"], [0.5555555555555556, \"#d8576b\"], [0.6666666666666666, \"#ed7953\"], [0.7777777777777778, \"#fb9f3a\"], [0.8888888888888888, \"#fdca26\"], [1.0, \"#f0f921\"]], \"type\": \"heatmap\"}], \"heatmapgl\": [{\"colorbar\": {\"outlinewidth\": 0, \"ticks\": \"\"}, \"colorscale\": [[0.0, \"#0d0887\"], [0.1111111111111111, \"#46039f\"], [0.2222222222222222, \"#7201a8\"], [0.3333333333333333, \"#9c179e\"], [0.4444444444444444, \"#bd3786\"], [0.5555555555555556, \"#d8576b\"], [0.6666666666666666, \"#ed7953\"], [0.7777777777777778, \"#fb9f3a\"], [0.8888888888888888, \"#fdca26\"], [1.0, \"#f0f921\"]], \"type\": \"heatmapgl\"}], \"histogram\": [{\"marker\": {\"colorbar\": {\"outlinewidth\": 0, \"ticks\": \"\"}}, \"type\": \"histogram\"}], \"histogram2d\": [{\"colorbar\": {\"outlinewidth\": 0, \"ticks\": \"\"}, \"colorscale\": [[0.0, \"#0d0887\"], [0.1111111111111111, \"#46039f\"], [0.2222222222222222, \"#7201a8\"], [0.3333333333333333, \"#9c179e\"], [0.4444444444444444, \"#bd3786\"], [0.5555555555555556, \"#d8576b\"], [0.6666666666666666, \"#ed7953\"], [0.7777777777777778, \"#fb9f3a\"], [0.8888888888888888, \"#fdca26\"], [1.0, \"#f0f921\"]], \"type\": \"histogram2d\"}], \"histogram2dcontour\": [{\"colorbar\": {\"outlinewidth\": 0, \"ticks\": \"\"}, \"colorscale\": [[0.0, \"#0d0887\"], [0.1111111111111111, \"#46039f\"], [0.2222222222222222, \"#7201a8\"], [0.3333333333333333, \"#9c179e\"], [0.4444444444444444, \"#bd3786\"], [0.5555555555555556, \"#d8576b\"], [0.6666666666666666, \"#ed7953\"], [0.7777777777777778, \"#fb9f3a\"], [0.8888888888888888, \"#fdca26\"], [1.0, \"#f0f921\"]], \"type\": \"histogram2dcontour\"}], \"mesh3d\": [{\"colorbar\": {\"outlinewidth\": 0, \"ticks\": \"\"}, \"type\": \"mesh3d\"}], \"parcoords\": [{\"line\": {\"colorbar\": {\"outlinewidth\": 0, \"ticks\": \"\"}}, \"type\": \"parcoords\"}], \"pie\": [{\"automargin\": true, \"type\": \"pie\"}], \"scatter\": [{\"marker\": {\"colorbar\": {\"outlinewidth\": 0, \"ticks\": \"\"}}, \"type\": \"scatter\"}], \"scatter3d\": [{\"line\": {\"colorbar\": {\"outlinewidth\": 0, \"ticks\": \"\"}}, \"marker\": {\"colorbar\": {\"outlinewidth\": 0, \"ticks\": \"\"}}, \"type\": \"scatter3d\"}], \"scattercarpet\": [{\"marker\": {\"colorbar\": {\"outlinewidth\": 0, \"ticks\": \"\"}}, \"type\": \"scattercarpet\"}], \"scattergeo\": [{\"marker\": {\"colorbar\": {\"outlinewidth\": 0, \"ticks\": \"\"}}, \"type\": \"scattergeo\"}], \"scattergl\": [{\"marker\": {\"colorbar\": {\"outlinewidth\": 0, \"ticks\": \"\"}}, \"type\": \"scattergl\"}], \"scattermapbox\": [{\"marker\": {\"colorbar\": {\"outlinewidth\": 0, \"ticks\": \"\"}}, \"type\": \"scattermapbox\"}], \"scatterpolar\": [{\"marker\": {\"colorbar\": {\"outlinewidth\": 0, \"ticks\": \"\"}}, \"type\": \"scatterpolar\"}], \"scatterpolargl\": [{\"marker\": {\"colorbar\": {\"outlinewidth\": 0, \"ticks\": \"\"}}, \"type\": \"scatterpolargl\"}], \"scatterternary\": [{\"marker\": {\"colorbar\": {\"outlinewidth\": 0, \"ticks\": \"\"}}, \"type\": \"scatterternary\"}], \"surface\": [{\"colorbar\": {\"outlinewidth\": 0, \"ticks\": \"\"}, \"colorscale\": [[0.0, \"#0d0887\"], [0.1111111111111111, \"#46039f\"], [0.2222222222222222, \"#7201a8\"], [0.3333333333333333, \"#9c179e\"], [0.4444444444444444, \"#bd3786\"], [0.5555555555555556, \"#d8576b\"], [0.6666666666666666, \"#ed7953\"], [0.7777777777777778, \"#fb9f3a\"], [0.8888888888888888, \"#fdca26\"], [1.0, \"#f0f921\"]], \"type\": \"surface\"}], \"table\": [{\"cells\": {\"fill\": {\"color\": \"#EBF0F8\"}, \"line\": {\"color\": \"white\"}}, \"header\": {\"fill\": {\"color\": \"#C8D4E3\"}, \"line\": {\"color\": \"white\"}}, \"type\": \"table\"}]}, \"layout\": {\"annotationdefaults\": {\"arrowcolor\": \"#2a3f5f\", \"arrowhead\": 0, \"arrowwidth\": 1}, \"coloraxis\": {\"colorbar\": {\"outlinewidth\": 0, \"ticks\": \"\"}}, \"colorscale\": {\"diverging\": [[0, \"#8e0152\"], [0.1, \"#c51b7d\"], [0.2, \"#de77ae\"], [0.3, \"#f1b6da\"], [0.4, \"#fde0ef\"], [0.5, \"#f7f7f7\"], [0.6, \"#e6f5d0\"], [0.7, \"#b8e186\"], [0.8, \"#7fbc41\"], [0.9, \"#4d9221\"], [1, \"#276419\"]], \"sequential\": [[0.0, \"#0d0887\"], [0.1111111111111111, \"#46039f\"], [0.2222222222222222, \"#7201a8\"], [0.3333333333333333, \"#9c179e\"], [0.4444444444444444, \"#bd3786\"], [0.5555555555555556, \"#d8576b\"], [0.6666666666666666, \"#ed7953\"], [0.7777777777777778, \"#fb9f3a\"], [0.8888888888888888, \"#fdca26\"], [1.0, \"#f0f921\"]], \"sequentialminus\": [[0.0, \"#0d0887\"], [0.1111111111111111, \"#46039f\"], [0.2222222222222222, \"#7201a8\"], [0.3333333333333333, \"#9c179e\"], [0.4444444444444444, \"#bd3786\"], [0.5555555555555556, \"#d8576b\"], [0.6666666666666666, \"#ed7953\"], [0.7777777777777778, \"#fb9f3a\"], [0.8888888888888888, \"#fdca26\"], [1.0, \"#f0f921\"]]}, \"colorway\": [\"#636efa\", \"#EF553B\", \"#00cc96\", \"#ab63fa\", \"#FFA15A\", \"#19d3f3\", \"#FF6692\", \"#B6E880\", \"#FF97FF\", \"#FECB52\"], \"font\": {\"color\": \"#2a3f5f\"}, \"geo\": {\"bgcolor\": \"white\", \"lakecolor\": \"white\", \"landcolor\": \"#E5ECF6\", \"showlakes\": true, \"showland\": true, \"subunitcolor\": \"white\"}, \"hoverlabel\": {\"align\": \"left\"}, \"hovermode\": \"closest\", \"mapbox\": {\"style\": \"light\"}, \"paper_bgcolor\": \"white\", \"plot_bgcolor\": \"#E5ECF6\", \"polar\": {\"angularaxis\": {\"gridcolor\": \"white\", \"linecolor\": \"white\", \"ticks\": \"\"}, \"bgcolor\": \"#E5ECF6\", \"radialaxis\": {\"gridcolor\": \"white\", \"linecolor\": \"white\", \"ticks\": \"\"}}, \"scene\": {\"xaxis\": {\"backgroundcolor\": \"#E5ECF6\", \"gridcolor\": \"white\", \"gridwidth\": 2, \"linecolor\": \"white\", \"showbackground\": true, \"ticks\": \"\", \"zerolinecolor\": \"white\"}, \"yaxis\": {\"backgroundcolor\": \"#E5ECF6\", \"gridcolor\": \"white\", \"gridwidth\": 2, \"linecolor\": \"white\", \"showbackground\": true, \"ticks\": \"\", \"zerolinecolor\": \"white\"}, \"zaxis\": {\"backgroundcolor\": \"#E5ECF6\", \"gridcolor\": \"white\", \"gridwidth\": 2, \"linecolor\": \"white\", \"showbackground\": true, \"ticks\": \"\", \"zerolinecolor\": \"white\"}}, \"shapedefaults\": {\"line\": {\"color\": \"#2a3f5f\"}}, \"ternary\": {\"aaxis\": {\"gridcolor\": \"white\", \"linecolor\": \"white\", \"ticks\": \"\"}, \"baxis\": {\"gridcolor\": \"white\", \"linecolor\": \"white\", \"ticks\": \"\"}, \"bgcolor\": \"#E5ECF6\", \"caxis\": {\"gridcolor\": \"white\", \"linecolor\": \"white\", \"ticks\": \"\"}}, \"title\": {\"x\": 0.05}, \"xaxis\": {\"automargin\": true, \"gridcolor\": \"white\", \"linecolor\": \"white\", \"ticks\": \"\", \"title\": {\"standoff\": 15}, \"zerolinecolor\": \"white\", \"zerolinewidth\": 2}, \"yaxis\": {\"automargin\": true, \"gridcolor\": \"white\", \"linecolor\": \"white\", \"ticks\": \"\", \"title\": {\"standoff\": 15}, \"zerolinecolor\": \"white\", \"zerolinewidth\": 2}}}, \"xaxis\": {\"title\": {\"text\": \"Epoki\"}}, \"yaxis\": {\"title\": {\"text\": \"binary_crossentropy\"}}},\n",
              "                        {\"responsive\": true}\n",
              "                    ).then(function(){\n",
              "                            \n",
              "var gd = document.getElementById('afaf7e8e-bfa1-42ed-9e95-4d6ef27092d2');\n",
              "var x = new MutationObserver(function (mutations, observer) {{\n",
              "        var display = window.getComputedStyle(gd).display;\n",
              "        if (!display || display === 'none') {{\n",
              "            console.log([gd, 'removed!']);\n",
              "            Plotly.purge(gd);\n",
              "            observer.disconnect();\n",
              "        }}\n",
              "}});\n",
              "\n",
              "// Listen for the removal of the full notebook cells\n",
              "var notebookContainer = gd.closest('#notebook-container');\n",
              "if (notebookContainer) {{\n",
              "    x.observe(notebookContainer, {childList: true});\n",
              "}}\n",
              "\n",
              "// Listen for the clearing of the current output cell\n",
              "var outputEl = gd.closest('.output');\n",
              "if (outputEl) {{\n",
              "    x.observe(outputEl, {childList: true});\n",
              "}}\n",
              "\n",
              "                        })\n",
              "                };\n",
              "                \n",
              "            </script>\n",
              "        </div>\n",
              "</body>\n",
              "</html>"
            ]
          },
          "metadata": {
            "tags": []
          }
        }
      ]
    },
    {
      "cell_type": "markdown",
      "metadata": {
        "id": "mFFZaviHuyUh"
      },
      "source": [
        "### <a name='a7'></a> 6. Metody regularyzacji"
      ]
    },
    {
      "cell_type": "code",
      "metadata": {
        "id": "wgv455fqqsFz",
        "colab": {
          "base_uri": "https://localhost:8080/"
        },
        "outputId": "5e40108d-844c-4eb9-fe1c-fa0780222414"
      },
      "source": [
        "# ######################################################\n",
        "# Etap 7. Odcinek: Metody regularyzacji modeli.\n",
        "\n",
        "# Jednym ze sposobów zapobiegania przeuczania jest dodanie warstwy Dropout,\n",
        "# która porzuca część neuronów w warstwach ukrytych.\n",
        "\n",
        "# Inną techniką jest dodanie funkcji regulatora do macierzy wag jądra poprzez \n",
        "# parametr kernel_regularizer\n",
        "\n",
        "from tensorflow.keras.regularizers import l2\n",
        "\n",
        "l2_model = Sequential()\n",
        "# w kernel_regularizer wybrana metryka l2\n",
        "l2_model.add(Dense(16, kernel_regularizer=l2(0.001), activation='relu', input_shape=(NUM_WORDS,)))\n",
        "l2_model.add(Dense(16, kernel_regularizer=l2(0.01), activation='relu'))\n",
        "l2_model.add(Dense(1, activation='sigmoid'))\n",
        "\n",
        "l2_model.compile(optimizer='adam',\n",
        "                 loss='binary_crossentropy',\n",
        "                 metrics=['accuracy', 'binary_crossentropy'])\n",
        "\n",
        "l2_model.summary()"
      ],
      "execution_count": 18,
      "outputs": [
        {
          "output_type": "stream",
          "text": [
            "Model: \"sequential_3\"\n",
            "_________________________________________________________________\n",
            "Layer (type)                 Output Shape              Param #   \n",
            "=================================================================\n",
            "dense_9 (Dense)              (None, 16)                160016    \n",
            "_________________________________________________________________\n",
            "dense_10 (Dense)             (None, 16)                272       \n",
            "_________________________________________________________________\n",
            "dense_11 (Dense)             (None, 1)                 17        \n",
            "=================================================================\n",
            "Total params: 160,305\n",
            "Trainable params: 160,305\n",
            "Non-trainable params: 0\n",
            "_________________________________________________________________\n"
          ],
          "name": "stdout"
        }
      ]
    },
    {
      "cell_type": "code",
      "metadata": {
        "id": "8N5Cw0JcwNA0",
        "colab": {
          "base_uri": "https://localhost:8080/"
        },
        "outputId": "60acc367-3938-4c13-c837-b1cdee4bf8c0"
      },
      "source": [
        "l2_model_history = l2_model.fit(train_data, train_labels, epochs=20, batch_size=512, validation_data=(test_data, test_labels))"
      ],
      "execution_count": 19,
      "outputs": [
        {
          "output_type": "stream",
          "text": [
            "Epoch 1/20\n",
            "49/49 [==============================] - 4s 75ms/step - loss: 0.7954 - accuracy: 0.6883 - binary_crossentropy: 0.6050 - val_loss: 0.5303 - val_accuracy: 0.8723 - val_binary_crossentropy: 0.3658\n",
            "Epoch 2/20\n",
            "49/49 [==============================] - 2s 41ms/step - loss: 0.4587 - accuracy: 0.9019 - binary_crossentropy: 0.2971 - val_loss: 0.4447 - val_accuracy: 0.8869 - val_binary_crossentropy: 0.2928\n",
            "Epoch 3/20\n",
            "49/49 [==============================] - 2s 41ms/step - loss: 0.3645 - accuracy: 0.9290 - binary_crossentropy: 0.2157 - val_loss: 0.4214 - val_accuracy: 0.8863 - val_binary_crossentropy: 0.2830\n",
            "Epoch 4/20\n",
            "49/49 [==============================] - 2s 40ms/step - loss: 0.3206 - accuracy: 0.9396 - binary_crossentropy: 0.1848 - val_loss: 0.4135 - val_accuracy: 0.8844 - val_binary_crossentropy: 0.2856\n",
            "Epoch 5/20\n",
            "49/49 [==============================] - 2s 41ms/step - loss: 0.2909 - accuracy: 0.9478 - binary_crossentropy: 0.1652 - val_loss: 0.4085 - val_accuracy: 0.8834 - val_binary_crossentropy: 0.2893\n",
            "Epoch 6/20\n",
            "49/49 [==============================] - 2s 41ms/step - loss: 0.2709 - accuracy: 0.9526 - binary_crossentropy: 0.1533 - val_loss: 0.4077 - val_accuracy: 0.8801 - val_binary_crossentropy: 0.2953\n",
            "Epoch 7/20\n",
            "49/49 [==============================] - 2s 41ms/step - loss: 0.2620 - accuracy: 0.9533 - binary_crossentropy: 0.1506 - val_loss: 0.4076 - val_accuracy: 0.8793 - val_binary_crossentropy: 0.2997\n",
            "Epoch 8/20\n",
            "49/49 [==============================] - 2s 41ms/step - loss: 0.2516 - accuracy: 0.9526 - binary_crossentropy: 0.1446 - val_loss: 0.4125 - val_accuracy: 0.8764 - val_binary_crossentropy: 0.3085\n",
            "Epoch 9/20\n",
            "49/49 [==============================] - 2s 41ms/step - loss: 0.2407 - accuracy: 0.9579 - binary_crossentropy: 0.1374 - val_loss: 0.4107 - val_accuracy: 0.8760 - val_binary_crossentropy: 0.3097\n",
            "Epoch 10/20\n",
            "49/49 [==============================] - 2s 41ms/step - loss: 0.2304 - accuracy: 0.9613 - binary_crossentropy: 0.1298 - val_loss: 0.4135 - val_accuracy: 0.8757 - val_binary_crossentropy: 0.3146\n",
            "Epoch 11/20\n",
            "49/49 [==============================] - 2s 41ms/step - loss: 0.2232 - accuracy: 0.9656 - binary_crossentropy: 0.1247 - val_loss: 0.4189 - val_accuracy: 0.8742 - val_binary_crossentropy: 0.3217\n",
            "Epoch 12/20\n",
            "49/49 [==============================] - 2s 41ms/step - loss: 0.2179 - accuracy: 0.9659 - binary_crossentropy: 0.1208 - val_loss: 0.4233 - val_accuracy: 0.8720 - val_binary_crossentropy: 0.3273\n",
            "Epoch 13/20\n",
            "49/49 [==============================] - 2s 40ms/step - loss: 0.2182 - accuracy: 0.9625 - binary_crossentropy: 0.1224 - val_loss: 0.4221 - val_accuracy: 0.8723 - val_binary_crossentropy: 0.3273\n",
            "Epoch 14/20\n",
            "49/49 [==============================] - 2s 40ms/step - loss: 0.2097 - accuracy: 0.9676 - binary_crossentropy: 0.1148 - val_loss: 0.4332 - val_accuracy: 0.8708 - val_binary_crossentropy: 0.3390\n",
            "Epoch 15/20\n",
            "49/49 [==============================] - 2s 40ms/step - loss: 0.2046 - accuracy: 0.9676 - binary_crossentropy: 0.1104 - val_loss: 0.4355 - val_accuracy: 0.8693 - val_binary_crossentropy: 0.3419\n",
            "Epoch 16/20\n",
            "49/49 [==============================] - 2s 40ms/step - loss: 0.2012 - accuracy: 0.9691 - binary_crossentropy: 0.1077 - val_loss: 0.4488 - val_accuracy: 0.8656 - val_binary_crossentropy: 0.3559\n",
            "Epoch 17/20\n",
            "49/49 [==============================] - 2s 41ms/step - loss: 0.2000 - accuracy: 0.9688 - binary_crossentropy: 0.1069 - val_loss: 0.4424 - val_accuracy: 0.8683 - val_binary_crossentropy: 0.3504\n",
            "Epoch 18/20\n",
            "49/49 [==============================] - 2s 40ms/step - loss: 0.1943 - accuracy: 0.9708 - binary_crossentropy: 0.1024 - val_loss: 0.4461 - val_accuracy: 0.8672 - val_binary_crossentropy: 0.3548\n",
            "Epoch 19/20\n",
            "49/49 [==============================] - 2s 40ms/step - loss: 0.1940 - accuracy: 0.9701 - binary_crossentropy: 0.1026 - val_loss: 0.4568 - val_accuracy: 0.8659 - val_binary_crossentropy: 0.3657\n",
            "Epoch 20/20\n",
            "49/49 [==============================] - 2s 40ms/step - loss: 0.1911 - accuracy: 0.9693 - binary_crossentropy: 0.1000 - val_loss: 0.4525 - val_accuracy: 0.8678 - val_binary_crossentropy: 0.3622\n"
          ],
          "name": "stdout"
        }
      ]
    },
    {
      "cell_type": "code",
      "metadata": {
        "id": "nmrr_vzHwSJP",
        "colab": {
          "base_uri": "https://localhost:8080/",
          "height": 542
        },
        "outputId": "b3bd5490-5129-497d-b3df-d1d050cc0136"
      },
      "source": [
        "fig = go.Figure()\n",
        "for name, history in zip(['baseline', 'l2'], [baseline_history, l2_model_history]):\n",
        "    hist = pd.DataFrame(history.history)\n",
        "    hist['epoch'] = history.epoch\n",
        "    fig.add_trace(go.Scatter(x=hist['epoch'], y=hist['binary_crossentropy'], name=name + '_binary_crossentropy', mode='lines+markers'))\n",
        "    fig.add_trace(go.Scatter(x=hist['epoch'], y=hist['val_binary_crossentropy'], name=name + '_val_binary_crossentropy', mode='lines+markers'))\n",
        "    fig.update_layout(xaxis_title='Epoki', yaxis_title='binary_crossentropy')\n",
        "fig.show()\n",
        "\n",
        "# w modelu regularyzowanym l2_model_history strata na zbiorze walidacyjnym (fioletowy) \n",
        "# jest mniejsza niż na odpowiadającym mu zbiorze nieregularyzowanym (wcześniejszym - pomarańczowy)"
      ],
      "execution_count": 20,
      "outputs": [
        {
          "output_type": "display_data",
          "data": {
            "text/html": [
              "<html>\n",
              "<head><meta charset=\"utf-8\" /></head>\n",
              "<body>\n",
              "    <div>\n",
              "            <script src=\"https://cdnjs.cloudflare.com/ajax/libs/mathjax/2.7.5/MathJax.js?config=TeX-AMS-MML_SVG\"></script><script type=\"text/javascript\">if (window.MathJax) {MathJax.Hub.Config({SVG: {font: \"STIX-Web\"}});}</script>\n",
              "                <script type=\"text/javascript\">window.PlotlyConfig = {MathJaxConfig: 'local'};</script>\n",
              "        <script src=\"https://cdn.plot.ly/plotly-latest.min.js\"></script>    \n",
              "            <div id=\"10b054eb-0daa-47ae-bd42-8cced0ced3c2\" class=\"plotly-graph-div\" style=\"height:525px; width:100%;\"></div>\n",
              "            <script type=\"text/javascript\">\n",
              "                \n",
              "                    window.PLOTLYENV=window.PLOTLYENV || {};\n",
              "                    \n",
              "                if (document.getElementById(\"10b054eb-0daa-47ae-bd42-8cced0ced3c2\")) {\n",
              "                    Plotly.newPlot(\n",
              "                        '10b054eb-0daa-47ae-bd42-8cced0ced3c2',\n",
              "                        [{\"mode\": \"lines+markers\", \"name\": \"baseline_binary_crossentropy\", \"type\": \"scatter\", \"x\": [0, 1, 2, 3, 4, 5, 6, 7, 8, 9, 10, 11, 12, 13, 14, 15, 16, 17, 18, 19], \"y\": [0.4910472631454468, 0.25361397862434387, 0.18578247725963593, 0.14979998767375946, 0.12390843033790588, 0.10228658467531204, 0.08417313545942307, 0.06892590969800949, 0.056434400379657745, 0.043296001851558685, 0.033315371721982956, 0.025242062285542488, 0.019031178206205368, 0.01425326056778431, 0.010910543613135815, 0.008392189629375935, 0.0067203594371676445, 0.0054206764325499535, 0.00442518899217248, 0.0037106014788150787]}, {\"mode\": \"lines+markers\", \"name\": \"baseline_val_binary_crossentropy\", \"type\": \"scatter\", \"x\": [0, 1, 2, 3, 4, 5, 6, 7, 8, 9, 10, 11, 12, 13, 14, 15, 16, 17, 18, 19], \"y\": [0.34119829535484314, 0.28373271226882935, 0.2956973910331726, 0.3055260479450226, 0.33299851417541504, 0.36201679706573486, 0.3977223038673401, 0.44414612650871277, 0.4774864912033081, 0.5165812373161316, 0.5543936491012573, 0.5973510146141052, 0.6379150152206421, 0.6718412637710571, 0.7068275213241577, 0.7395681738853455, 0.7688760757446289, 0.7971543669700623, 0.8239492177963257, 0.8485546708106995]}, {\"mode\": \"lines+markers\", \"name\": \"l2_binary_crossentropy\", \"type\": \"scatter\", \"x\": [0, 1, 2, 3, 4, 5, 6, 7, 8, 9, 10, 11, 12, 13, 14, 15, 16, 17, 18, 19], \"y\": [0.5146623253822327, 0.27778127789497375, 0.2163441777229309, 0.18985667824745178, 0.1741369664669037, 0.16411016881465912, 0.1559334248304367, 0.14882344007492065, 0.1444290578365326, 0.1389644742012024, 0.13592374324798584, 0.13193483650684357, 0.12969647347927094, 0.12548942863941193, 0.12234058231115341, 0.12049436569213867, 0.11513449996709824, 0.11396898329257965, 0.1113285943865776, 0.1087660863995552]}, {\"mode\": \"lines+markers\", \"name\": \"l2_val_binary_crossentropy\", \"type\": \"scatter\", \"x\": [0, 1, 2, 3, 4, 5, 6, 7, 8, 9, 10, 11, 12, 13, 14, 15, 16, 17, 18, 19], \"y\": [0.36577847599983215, 0.2927788197994232, 0.28299301862716675, 0.28560441732406616, 0.289307177066803, 0.29528284072875977, 0.29967382550239563, 0.3085327446460724, 0.3096749484539032, 0.3146253824234009, 0.3217010200023651, 0.3273310363292694, 0.3272503912448883, 0.33904239535331726, 0.3419354259967804, 0.3558692932128906, 0.35040655732154846, 0.35484498739242554, 0.3657018840312958, 0.3622230887413025]}],\n",
              "                        {\"template\": {\"data\": {\"bar\": [{\"error_x\": {\"color\": \"#2a3f5f\"}, \"error_y\": {\"color\": \"#2a3f5f\"}, \"marker\": {\"line\": {\"color\": \"#E5ECF6\", \"width\": 0.5}}, \"type\": \"bar\"}], \"barpolar\": [{\"marker\": {\"line\": {\"color\": \"#E5ECF6\", \"width\": 0.5}}, \"type\": \"barpolar\"}], \"carpet\": [{\"aaxis\": {\"endlinecolor\": \"#2a3f5f\", \"gridcolor\": \"white\", \"linecolor\": \"white\", \"minorgridcolor\": \"white\", \"startlinecolor\": \"#2a3f5f\"}, \"baxis\": {\"endlinecolor\": \"#2a3f5f\", \"gridcolor\": \"white\", \"linecolor\": \"white\", \"minorgridcolor\": \"white\", \"startlinecolor\": \"#2a3f5f\"}, \"type\": \"carpet\"}], \"choropleth\": [{\"colorbar\": {\"outlinewidth\": 0, \"ticks\": \"\"}, \"type\": \"choropleth\"}], \"contour\": [{\"colorbar\": {\"outlinewidth\": 0, \"ticks\": \"\"}, \"colorscale\": [[0.0, \"#0d0887\"], [0.1111111111111111, \"#46039f\"], [0.2222222222222222, \"#7201a8\"], [0.3333333333333333, \"#9c179e\"], [0.4444444444444444, \"#bd3786\"], [0.5555555555555556, \"#d8576b\"], [0.6666666666666666, \"#ed7953\"], [0.7777777777777778, \"#fb9f3a\"], [0.8888888888888888, \"#fdca26\"], [1.0, \"#f0f921\"]], \"type\": \"contour\"}], \"contourcarpet\": [{\"colorbar\": {\"outlinewidth\": 0, \"ticks\": \"\"}, \"type\": \"contourcarpet\"}], \"heatmap\": [{\"colorbar\": {\"outlinewidth\": 0, \"ticks\": \"\"}, \"colorscale\": [[0.0, \"#0d0887\"], [0.1111111111111111, \"#46039f\"], [0.2222222222222222, \"#7201a8\"], [0.3333333333333333, \"#9c179e\"], [0.4444444444444444, \"#bd3786\"], [0.5555555555555556, \"#d8576b\"], [0.6666666666666666, \"#ed7953\"], [0.7777777777777778, \"#fb9f3a\"], [0.8888888888888888, \"#fdca26\"], [1.0, \"#f0f921\"]], \"type\": \"heatmap\"}], \"heatmapgl\": [{\"colorbar\": {\"outlinewidth\": 0, \"ticks\": \"\"}, \"colorscale\": [[0.0, \"#0d0887\"], [0.1111111111111111, \"#46039f\"], [0.2222222222222222, \"#7201a8\"], [0.3333333333333333, \"#9c179e\"], [0.4444444444444444, \"#bd3786\"], [0.5555555555555556, \"#d8576b\"], [0.6666666666666666, \"#ed7953\"], [0.7777777777777778, \"#fb9f3a\"], [0.8888888888888888, \"#fdca26\"], [1.0, \"#f0f921\"]], \"type\": \"heatmapgl\"}], \"histogram\": [{\"marker\": {\"colorbar\": {\"outlinewidth\": 0, \"ticks\": \"\"}}, \"type\": \"histogram\"}], \"histogram2d\": [{\"colorbar\": {\"outlinewidth\": 0, \"ticks\": \"\"}, \"colorscale\": [[0.0, \"#0d0887\"], [0.1111111111111111, \"#46039f\"], [0.2222222222222222, \"#7201a8\"], [0.3333333333333333, \"#9c179e\"], [0.4444444444444444, \"#bd3786\"], [0.5555555555555556, \"#d8576b\"], [0.6666666666666666, \"#ed7953\"], [0.7777777777777778, \"#fb9f3a\"], [0.8888888888888888, \"#fdca26\"], [1.0, \"#f0f921\"]], \"type\": \"histogram2d\"}], \"histogram2dcontour\": [{\"colorbar\": {\"outlinewidth\": 0, \"ticks\": \"\"}, \"colorscale\": [[0.0, \"#0d0887\"], [0.1111111111111111, \"#46039f\"], [0.2222222222222222, \"#7201a8\"], [0.3333333333333333, \"#9c179e\"], [0.4444444444444444, \"#bd3786\"], [0.5555555555555556, \"#d8576b\"], [0.6666666666666666, \"#ed7953\"], [0.7777777777777778, \"#fb9f3a\"], [0.8888888888888888, \"#fdca26\"], [1.0, \"#f0f921\"]], \"type\": \"histogram2dcontour\"}], \"mesh3d\": [{\"colorbar\": {\"outlinewidth\": 0, \"ticks\": \"\"}, \"type\": \"mesh3d\"}], \"parcoords\": [{\"line\": {\"colorbar\": {\"outlinewidth\": 0, \"ticks\": \"\"}}, \"type\": \"parcoords\"}], \"pie\": [{\"automargin\": true, \"type\": \"pie\"}], \"scatter\": [{\"marker\": {\"colorbar\": {\"outlinewidth\": 0, \"ticks\": \"\"}}, \"type\": \"scatter\"}], \"scatter3d\": [{\"line\": {\"colorbar\": {\"outlinewidth\": 0, \"ticks\": \"\"}}, \"marker\": {\"colorbar\": {\"outlinewidth\": 0, \"ticks\": \"\"}}, \"type\": \"scatter3d\"}], \"scattercarpet\": [{\"marker\": {\"colorbar\": {\"outlinewidth\": 0, \"ticks\": \"\"}}, \"type\": \"scattercarpet\"}], \"scattergeo\": [{\"marker\": {\"colorbar\": {\"outlinewidth\": 0, \"ticks\": \"\"}}, \"type\": \"scattergeo\"}], \"scattergl\": [{\"marker\": {\"colorbar\": {\"outlinewidth\": 0, \"ticks\": \"\"}}, \"type\": \"scattergl\"}], \"scattermapbox\": [{\"marker\": {\"colorbar\": {\"outlinewidth\": 0, \"ticks\": \"\"}}, \"type\": \"scattermapbox\"}], \"scatterpolar\": [{\"marker\": {\"colorbar\": {\"outlinewidth\": 0, \"ticks\": \"\"}}, \"type\": \"scatterpolar\"}], \"scatterpolargl\": [{\"marker\": {\"colorbar\": {\"outlinewidth\": 0, \"ticks\": \"\"}}, \"type\": \"scatterpolargl\"}], \"scatterternary\": [{\"marker\": {\"colorbar\": {\"outlinewidth\": 0, \"ticks\": \"\"}}, \"type\": \"scatterternary\"}], \"surface\": [{\"colorbar\": {\"outlinewidth\": 0, \"ticks\": \"\"}, \"colorscale\": [[0.0, \"#0d0887\"], [0.1111111111111111, \"#46039f\"], [0.2222222222222222, \"#7201a8\"], [0.3333333333333333, \"#9c179e\"], [0.4444444444444444, \"#bd3786\"], [0.5555555555555556, \"#d8576b\"], [0.6666666666666666, \"#ed7953\"], [0.7777777777777778, \"#fb9f3a\"], [0.8888888888888888, \"#fdca26\"], [1.0, \"#f0f921\"]], \"type\": \"surface\"}], \"table\": [{\"cells\": {\"fill\": {\"color\": \"#EBF0F8\"}, \"line\": {\"color\": \"white\"}}, \"header\": {\"fill\": {\"color\": \"#C8D4E3\"}, \"line\": {\"color\": \"white\"}}, \"type\": \"table\"}]}, \"layout\": {\"annotationdefaults\": {\"arrowcolor\": \"#2a3f5f\", \"arrowhead\": 0, \"arrowwidth\": 1}, \"coloraxis\": {\"colorbar\": {\"outlinewidth\": 0, \"ticks\": \"\"}}, \"colorscale\": {\"diverging\": [[0, \"#8e0152\"], [0.1, \"#c51b7d\"], [0.2, \"#de77ae\"], [0.3, \"#f1b6da\"], [0.4, \"#fde0ef\"], [0.5, \"#f7f7f7\"], [0.6, \"#e6f5d0\"], [0.7, \"#b8e186\"], [0.8, \"#7fbc41\"], [0.9, \"#4d9221\"], [1, \"#276419\"]], \"sequential\": [[0.0, \"#0d0887\"], [0.1111111111111111, \"#46039f\"], [0.2222222222222222, \"#7201a8\"], [0.3333333333333333, \"#9c179e\"], [0.4444444444444444, \"#bd3786\"], [0.5555555555555556, \"#d8576b\"], [0.6666666666666666, \"#ed7953\"], [0.7777777777777778, \"#fb9f3a\"], [0.8888888888888888, \"#fdca26\"], [1.0, \"#f0f921\"]], \"sequentialminus\": [[0.0, \"#0d0887\"], [0.1111111111111111, \"#46039f\"], [0.2222222222222222, \"#7201a8\"], [0.3333333333333333, \"#9c179e\"], [0.4444444444444444, \"#bd3786\"], [0.5555555555555556, \"#d8576b\"], [0.6666666666666666, \"#ed7953\"], [0.7777777777777778, \"#fb9f3a\"], [0.8888888888888888, \"#fdca26\"], [1.0, \"#f0f921\"]]}, \"colorway\": [\"#636efa\", \"#EF553B\", \"#00cc96\", \"#ab63fa\", \"#FFA15A\", \"#19d3f3\", \"#FF6692\", \"#B6E880\", \"#FF97FF\", \"#FECB52\"], \"font\": {\"color\": \"#2a3f5f\"}, \"geo\": {\"bgcolor\": \"white\", \"lakecolor\": \"white\", \"landcolor\": \"#E5ECF6\", \"showlakes\": true, \"showland\": true, \"subunitcolor\": \"white\"}, \"hoverlabel\": {\"align\": \"left\"}, \"hovermode\": \"closest\", \"mapbox\": {\"style\": \"light\"}, \"paper_bgcolor\": \"white\", \"plot_bgcolor\": \"#E5ECF6\", \"polar\": {\"angularaxis\": {\"gridcolor\": \"white\", \"linecolor\": \"white\", \"ticks\": \"\"}, \"bgcolor\": \"#E5ECF6\", \"radialaxis\": {\"gridcolor\": \"white\", \"linecolor\": \"white\", \"ticks\": \"\"}}, \"scene\": {\"xaxis\": {\"backgroundcolor\": \"#E5ECF6\", \"gridcolor\": \"white\", \"gridwidth\": 2, \"linecolor\": \"white\", \"showbackground\": true, \"ticks\": \"\", \"zerolinecolor\": \"white\"}, \"yaxis\": {\"backgroundcolor\": \"#E5ECF6\", \"gridcolor\": \"white\", \"gridwidth\": 2, \"linecolor\": \"white\", \"showbackground\": true, \"ticks\": \"\", \"zerolinecolor\": \"white\"}, \"zaxis\": {\"backgroundcolor\": \"#E5ECF6\", \"gridcolor\": \"white\", \"gridwidth\": 2, \"linecolor\": \"white\", \"showbackground\": true, \"ticks\": \"\", \"zerolinecolor\": \"white\"}}, \"shapedefaults\": {\"line\": {\"color\": \"#2a3f5f\"}}, \"ternary\": {\"aaxis\": {\"gridcolor\": \"white\", \"linecolor\": \"white\", \"ticks\": \"\"}, \"baxis\": {\"gridcolor\": \"white\", \"linecolor\": \"white\", \"ticks\": \"\"}, \"bgcolor\": \"#E5ECF6\", \"caxis\": {\"gridcolor\": \"white\", \"linecolor\": \"white\", \"ticks\": \"\"}}, \"title\": {\"x\": 0.05}, \"xaxis\": {\"automargin\": true, \"gridcolor\": \"white\", \"linecolor\": \"white\", \"ticks\": \"\", \"title\": {\"standoff\": 15}, \"zerolinecolor\": \"white\", \"zerolinewidth\": 2}, \"yaxis\": {\"automargin\": true, \"gridcolor\": \"white\", \"linecolor\": \"white\", \"ticks\": \"\", \"title\": {\"standoff\": 15}, \"zerolinecolor\": \"white\", \"zerolinewidth\": 2}}}, \"xaxis\": {\"title\": {\"text\": \"Epoki\"}}, \"yaxis\": {\"title\": {\"text\": \"binary_crossentropy\"}}},\n",
              "                        {\"responsive\": true}\n",
              "                    ).then(function(){\n",
              "                            \n",
              "var gd = document.getElementById('10b054eb-0daa-47ae-bd42-8cced0ced3c2');\n",
              "var x = new MutationObserver(function (mutations, observer) {{\n",
              "        var display = window.getComputedStyle(gd).display;\n",
              "        if (!display || display === 'none') {{\n",
              "            console.log([gd, 'removed!']);\n",
              "            Plotly.purge(gd);\n",
              "            observer.disconnect();\n",
              "        }}\n",
              "}});\n",
              "\n",
              "// Listen for the removal of the full notebook cells\n",
              "var notebookContainer = gd.closest('#notebook-container');\n",
              "if (notebookContainer) {{\n",
              "    x.observe(notebookContainer, {childList: true});\n",
              "}}\n",
              "\n",
              "// Listen for the clearing of the current output cell\n",
              "var outputEl = gd.closest('.output');\n",
              "if (outputEl) {{\n",
              "    x.observe(outputEl, {childList: true});\n",
              "}}\n",
              "\n",
              "                        })\n",
              "                };\n",
              "                \n",
              "            </script>\n",
              "        </div>\n",
              "</body>\n",
              "</html>"
            ]
          },
          "metadata": {
            "tags": []
          }
        }
      ]
    },
    {
      "cell_type": "code",
      "metadata": {
        "id": "gIQnJCzQxD4P",
        "colab": {
          "base_uri": "https://localhost:8080/"
        },
        "outputId": "0b5d9a7a-24c2-46b5-a71d-64d1c6dcb989"
      },
      "source": [
        "from tensorflow.keras.layers import Dropout\n",
        "\n",
        "dropout_model = Sequential()\n",
        "dropout_model.add(Dense(16, activation='relu', input_shape=(NUM_WORDS,)))\n",
        "dropout_model.add(Dropout(0.5))\n",
        "dropout_model.add(Dense(16, activation='relu'))\n",
        "dropout_model.add(Dropout(0.5))\n",
        "dropout_model.add(Dense(1, activation='sigmoid'))\n",
        "\n",
        "dropout_model.compile(optimizer='adam',\n",
        "                 loss='binary_crossentropy',\n",
        "                 metrics=['accuracy', 'binary_crossentropy'])\n",
        "\n",
        "dropout_model.summary()"
      ],
      "execution_count": 21,
      "outputs": [
        {
          "output_type": "stream",
          "text": [
            "Model: \"sequential_4\"\n",
            "_________________________________________________________________\n",
            "Layer (type)                 Output Shape              Param #   \n",
            "=================================================================\n",
            "dense_12 (Dense)             (None, 16)                160016    \n",
            "_________________________________________________________________\n",
            "dropout (Dropout)            (None, 16)                0         \n",
            "_________________________________________________________________\n",
            "dense_13 (Dense)             (None, 16)                272       \n",
            "_________________________________________________________________\n",
            "dropout_1 (Dropout)          (None, 16)                0         \n",
            "_________________________________________________________________\n",
            "dense_14 (Dense)             (None, 1)                 17        \n",
            "=================================================================\n",
            "Total params: 160,305\n",
            "Trainable params: 160,305\n",
            "Non-trainable params: 0\n",
            "_________________________________________________________________\n"
          ],
          "name": "stdout"
        }
      ]
    },
    {
      "cell_type": "code",
      "metadata": {
        "id": "tvBinOCuyMu_",
        "colab": {
          "base_uri": "https://localhost:8080/"
        },
        "outputId": "b9b0352b-d060-441f-8a9f-4c2b115b516e"
      },
      "source": [
        "dropout_history = dropout_model.fit(train_data, train_labels, epochs=20, batch_size=512, validation_data=(test_data, test_labels))"
      ],
      "execution_count": 22,
      "outputs": [
        {
          "output_type": "stream",
          "text": [
            "Epoch 1/20\n",
            "49/49 [==============================] - 3s 55ms/step - loss: 0.6661 - accuracy: 0.5764 - binary_crossentropy: 0.6661 - val_loss: 0.5302 - val_accuracy: 0.8276 - val_binary_crossentropy: 0.5302\n",
            "Epoch 2/20\n",
            "49/49 [==============================] - 2s 37ms/step - loss: 0.5143 - accuracy: 0.7801 - binary_crossentropy: 0.5143 - val_loss: 0.3908 - val_accuracy: 0.8775 - val_binary_crossentropy: 0.3908\n",
            "Epoch 3/20\n",
            "49/49 [==============================] - 2s 37ms/step - loss: 0.3948 - accuracy: 0.8586 - binary_crossentropy: 0.3948 - val_loss: 0.3111 - val_accuracy: 0.8866 - val_binary_crossentropy: 0.3111\n",
            "Epoch 4/20\n",
            "49/49 [==============================] - 2s 38ms/step - loss: 0.3267 - accuracy: 0.8890 - binary_crossentropy: 0.3267 - val_loss: 0.2949 - val_accuracy: 0.8872 - val_binary_crossentropy: 0.2949\n",
            "Epoch 5/20\n",
            "49/49 [==============================] - 2s 37ms/step - loss: 0.2749 - accuracy: 0.9102 - binary_crossentropy: 0.2749 - val_loss: 0.2863 - val_accuracy: 0.8876 - val_binary_crossentropy: 0.2863\n",
            "Epoch 6/20\n",
            "49/49 [==============================] - 2s 38ms/step - loss: 0.2446 - accuracy: 0.9228 - binary_crossentropy: 0.2446 - val_loss: 0.2882 - val_accuracy: 0.8862 - val_binary_crossentropy: 0.2882\n",
            "Epoch 7/20\n",
            "49/49 [==============================] - 2s 37ms/step - loss: 0.2078 - accuracy: 0.9356 - binary_crossentropy: 0.2078 - val_loss: 0.3055 - val_accuracy: 0.8847 - val_binary_crossentropy: 0.3055\n",
            "Epoch 8/20\n",
            "49/49 [==============================] - 2s 37ms/step - loss: 0.1952 - accuracy: 0.9383 - binary_crossentropy: 0.1952 - val_loss: 0.3209 - val_accuracy: 0.8826 - val_binary_crossentropy: 0.3209\n",
            "Epoch 9/20\n",
            "49/49 [==============================] - 2s 37ms/step - loss: 0.1709 - accuracy: 0.9461 - binary_crossentropy: 0.1709 - val_loss: 0.3319 - val_accuracy: 0.8818 - val_binary_crossentropy: 0.3319\n",
            "Epoch 10/20\n",
            "49/49 [==============================] - 2s 37ms/step - loss: 0.1619 - accuracy: 0.9495 - binary_crossentropy: 0.1619 - val_loss: 0.3395 - val_accuracy: 0.8808 - val_binary_crossentropy: 0.3395\n",
            "Epoch 11/20\n",
            "49/49 [==============================] - 2s 36ms/step - loss: 0.1546 - accuracy: 0.9496 - binary_crossentropy: 0.1546 - val_loss: 0.3808 - val_accuracy: 0.8799 - val_binary_crossentropy: 0.3808\n",
            "Epoch 12/20\n",
            "49/49 [==============================] - 2s 39ms/step - loss: 0.1357 - accuracy: 0.9552 - binary_crossentropy: 0.1357 - val_loss: 0.3946 - val_accuracy: 0.8776 - val_binary_crossentropy: 0.3946\n",
            "Epoch 13/20\n",
            "49/49 [==============================] - 2s 38ms/step - loss: 0.1268 - accuracy: 0.9568 - binary_crossentropy: 0.1268 - val_loss: 0.3974 - val_accuracy: 0.8774 - val_binary_crossentropy: 0.3974\n",
            "Epoch 14/20\n",
            "49/49 [==============================] - 2s 41ms/step - loss: 0.1206 - accuracy: 0.9608 - binary_crossentropy: 0.1206 - val_loss: 0.4200 - val_accuracy: 0.8770 - val_binary_crossentropy: 0.4200\n",
            "Epoch 15/20\n",
            "49/49 [==============================] - 2s 38ms/step - loss: 0.1113 - accuracy: 0.9626 - binary_crossentropy: 0.1113 - val_loss: 0.4570 - val_accuracy: 0.8764 - val_binary_crossentropy: 0.4570\n",
            "Epoch 16/20\n",
            "49/49 [==============================] - 2s 37ms/step - loss: 0.1121 - accuracy: 0.9611 - binary_crossentropy: 0.1121 - val_loss: 0.4505 - val_accuracy: 0.8767 - val_binary_crossentropy: 0.4505\n",
            "Epoch 17/20\n",
            "49/49 [==============================] - 2s 38ms/step - loss: 0.1031 - accuracy: 0.9636 - binary_crossentropy: 0.1031 - val_loss: 0.4855 - val_accuracy: 0.8753 - val_binary_crossentropy: 0.4855\n",
            "Epoch 18/20\n",
            "49/49 [==============================] - 2s 37ms/step - loss: 0.0958 - accuracy: 0.9666 - binary_crossentropy: 0.0958 - val_loss: 0.4848 - val_accuracy: 0.8763 - val_binary_crossentropy: 0.4848\n",
            "Epoch 19/20\n",
            "49/49 [==============================] - 2s 38ms/step - loss: 0.0911 - accuracy: 0.9668 - binary_crossentropy: 0.0911 - val_loss: 0.5198 - val_accuracy: 0.8748 - val_binary_crossentropy: 0.5198\n",
            "Epoch 20/20\n",
            "49/49 [==============================] - 2s 37ms/step - loss: 0.0892 - accuracy: 0.9665 - binary_crossentropy: 0.0892 - val_loss: 0.5178 - val_accuracy: 0.8752 - val_binary_crossentropy: 0.5178\n"
          ],
          "name": "stdout"
        }
      ]
    },
    {
      "cell_type": "code",
      "metadata": {
        "id": "sZ9nYw_SyXt7",
        "colab": {
          "base_uri": "https://localhost:8080/",
          "height": 542
        },
        "outputId": "74d7d689-6119-446c-b176-eeabb00585bd"
      },
      "source": [
        "fig = go.Figure()\n",
        "for name, history in zip(['baseline', 'dropout'], [baseline_history, dropout_history]):\n",
        "    hist = pd.DataFrame(history.history)\n",
        "    hist['epoch'] = history.epoch\n",
        "    fig.add_trace(go.Scatter(x=hist['epoch'], y=hist['binary_crossentropy'], name=name + '_binary_crossentropy', mode='lines+markers'))\n",
        "    fig.add_trace(go.Scatter(x=hist['epoch'], y=hist['val_binary_crossentropy'], name=name + '_val_binary_crossentropy', mode='lines+markers'))\n",
        "    fig.update_layout(xaxis_title='Epoki', yaxis_title='binary_crossentropy')\n",
        "fig.show()"
      ],
      "execution_count": 23,
      "outputs": [
        {
          "output_type": "display_data",
          "data": {
            "text/html": [
              "<html>\n",
              "<head><meta charset=\"utf-8\" /></head>\n",
              "<body>\n",
              "    <div>\n",
              "            <script src=\"https://cdnjs.cloudflare.com/ajax/libs/mathjax/2.7.5/MathJax.js?config=TeX-AMS-MML_SVG\"></script><script type=\"text/javascript\">if (window.MathJax) {MathJax.Hub.Config({SVG: {font: \"STIX-Web\"}});}</script>\n",
              "                <script type=\"text/javascript\">window.PlotlyConfig = {MathJaxConfig: 'local'};</script>\n",
              "        <script src=\"https://cdn.plot.ly/plotly-latest.min.js\"></script>    \n",
              "            <div id=\"113c1555-41c6-49af-b26b-dad1fa782e05\" class=\"plotly-graph-div\" style=\"height:525px; width:100%;\"></div>\n",
              "            <script type=\"text/javascript\">\n",
              "                \n",
              "                    window.PLOTLYENV=window.PLOTLYENV || {};\n",
              "                    \n",
              "                if (document.getElementById(\"113c1555-41c6-49af-b26b-dad1fa782e05\")) {\n",
              "                    Plotly.newPlot(\n",
              "                        '113c1555-41c6-49af-b26b-dad1fa782e05',\n",
              "                        [{\"mode\": \"lines+markers\", \"name\": \"baseline_binary_crossentropy\", \"type\": \"scatter\", \"x\": [0, 1, 2, 3, 4, 5, 6, 7, 8, 9, 10, 11, 12, 13, 14, 15, 16, 17, 18, 19], \"y\": [0.4910472631454468, 0.25361397862434387, 0.18578247725963593, 0.14979998767375946, 0.12390843033790588, 0.10228658467531204, 0.08417313545942307, 0.06892590969800949, 0.056434400379657745, 0.043296001851558685, 0.033315371721982956, 0.025242062285542488, 0.019031178206205368, 0.01425326056778431, 0.010910543613135815, 0.008392189629375935, 0.0067203594371676445, 0.0054206764325499535, 0.00442518899217248, 0.0037106014788150787]}, {\"mode\": \"lines+markers\", \"name\": \"baseline_val_binary_crossentropy\", \"type\": \"scatter\", \"x\": [0, 1, 2, 3, 4, 5, 6, 7, 8, 9, 10, 11, 12, 13, 14, 15, 16, 17, 18, 19], \"y\": [0.34119829535484314, 0.28373271226882935, 0.2956973910331726, 0.3055260479450226, 0.33299851417541504, 0.36201679706573486, 0.3977223038673401, 0.44414612650871277, 0.4774864912033081, 0.5165812373161316, 0.5543936491012573, 0.5973510146141052, 0.6379150152206421, 0.6718412637710571, 0.7068275213241577, 0.7395681738853455, 0.7688760757446289, 0.7971543669700623, 0.8239492177963257, 0.8485546708106995]}, {\"mode\": \"lines+markers\", \"name\": \"dropout_binary_crossentropy\", \"type\": \"scatter\", \"x\": [0, 1, 2, 3, 4, 5, 6, 7, 8, 9, 10, 11, 12, 13, 14, 15, 16, 17, 18, 19], \"y\": [0.6320171356201172, 0.4862041771411896, 0.38015031814575195, 0.315322607755661, 0.26939815282821655, 0.24116146564483643, 0.21222877502441406, 0.19288216531276703, 0.1762218177318573, 0.16171853244304657, 0.15141834318637848, 0.13641051948070526, 0.12782853841781616, 0.12004782259464264, 0.11506414413452148, 0.10788660496473312, 0.10122441500425339, 0.09511242806911469, 0.09299620985984802, 0.09044735133647919]}, {\"mode\": \"lines+markers\", \"name\": \"dropout_val_binary_crossentropy\", \"type\": \"scatter\", \"x\": [0, 1, 2, 3, 4, 5, 6, 7, 8, 9, 10, 11, 12, 13, 14, 15, 16, 17, 18, 19], \"y\": [0.5302047729492188, 0.390796959400177, 0.31114262342453003, 0.294911652803421, 0.28628653287887573, 0.2881900370121002, 0.3054823577404022, 0.3208911418914795, 0.33191031217575073, 0.33954358100891113, 0.3807696998119354, 0.39461764693260193, 0.3974262475967407, 0.4199802279472351, 0.4570026695728302, 0.45052090287208557, 0.4854563772678375, 0.4847918450832367, 0.519777238368988, 0.5177881121635437]}],\n",
              "                        {\"template\": {\"data\": {\"bar\": [{\"error_x\": {\"color\": \"#2a3f5f\"}, \"error_y\": {\"color\": \"#2a3f5f\"}, \"marker\": {\"line\": {\"color\": \"#E5ECF6\", \"width\": 0.5}}, \"type\": \"bar\"}], \"barpolar\": [{\"marker\": {\"line\": {\"color\": \"#E5ECF6\", \"width\": 0.5}}, \"type\": \"barpolar\"}], \"carpet\": [{\"aaxis\": {\"endlinecolor\": \"#2a3f5f\", \"gridcolor\": \"white\", \"linecolor\": \"white\", \"minorgridcolor\": \"white\", \"startlinecolor\": \"#2a3f5f\"}, \"baxis\": {\"endlinecolor\": \"#2a3f5f\", \"gridcolor\": \"white\", \"linecolor\": \"white\", \"minorgridcolor\": \"white\", \"startlinecolor\": \"#2a3f5f\"}, \"type\": \"carpet\"}], \"choropleth\": [{\"colorbar\": {\"outlinewidth\": 0, \"ticks\": \"\"}, \"type\": \"choropleth\"}], \"contour\": [{\"colorbar\": {\"outlinewidth\": 0, \"ticks\": \"\"}, \"colorscale\": [[0.0, \"#0d0887\"], [0.1111111111111111, \"#46039f\"], [0.2222222222222222, \"#7201a8\"], [0.3333333333333333, \"#9c179e\"], [0.4444444444444444, \"#bd3786\"], [0.5555555555555556, \"#d8576b\"], [0.6666666666666666, \"#ed7953\"], [0.7777777777777778, \"#fb9f3a\"], [0.8888888888888888, \"#fdca26\"], [1.0, \"#f0f921\"]], \"type\": \"contour\"}], \"contourcarpet\": [{\"colorbar\": {\"outlinewidth\": 0, \"ticks\": \"\"}, \"type\": \"contourcarpet\"}], \"heatmap\": [{\"colorbar\": {\"outlinewidth\": 0, \"ticks\": \"\"}, \"colorscale\": [[0.0, \"#0d0887\"], [0.1111111111111111, \"#46039f\"], [0.2222222222222222, \"#7201a8\"], [0.3333333333333333, \"#9c179e\"], [0.4444444444444444, \"#bd3786\"], [0.5555555555555556, \"#d8576b\"], [0.6666666666666666, \"#ed7953\"], [0.7777777777777778, \"#fb9f3a\"], [0.8888888888888888, \"#fdca26\"], [1.0, \"#f0f921\"]], \"type\": \"heatmap\"}], \"heatmapgl\": [{\"colorbar\": {\"outlinewidth\": 0, \"ticks\": \"\"}, \"colorscale\": [[0.0, \"#0d0887\"], [0.1111111111111111, \"#46039f\"], [0.2222222222222222, \"#7201a8\"], [0.3333333333333333, \"#9c179e\"], [0.4444444444444444, \"#bd3786\"], [0.5555555555555556, \"#d8576b\"], [0.6666666666666666, \"#ed7953\"], [0.7777777777777778, \"#fb9f3a\"], [0.8888888888888888, \"#fdca26\"], [1.0, \"#f0f921\"]], \"type\": \"heatmapgl\"}], \"histogram\": [{\"marker\": {\"colorbar\": {\"outlinewidth\": 0, \"ticks\": \"\"}}, \"type\": \"histogram\"}], \"histogram2d\": [{\"colorbar\": {\"outlinewidth\": 0, \"ticks\": \"\"}, \"colorscale\": [[0.0, \"#0d0887\"], [0.1111111111111111, \"#46039f\"], [0.2222222222222222, \"#7201a8\"], [0.3333333333333333, \"#9c179e\"], [0.4444444444444444, \"#bd3786\"], [0.5555555555555556, \"#d8576b\"], [0.6666666666666666, \"#ed7953\"], [0.7777777777777778, \"#fb9f3a\"], [0.8888888888888888, \"#fdca26\"], [1.0, \"#f0f921\"]], \"type\": \"histogram2d\"}], \"histogram2dcontour\": [{\"colorbar\": {\"outlinewidth\": 0, \"ticks\": \"\"}, \"colorscale\": [[0.0, \"#0d0887\"], [0.1111111111111111, \"#46039f\"], [0.2222222222222222, \"#7201a8\"], [0.3333333333333333, \"#9c179e\"], [0.4444444444444444, \"#bd3786\"], [0.5555555555555556, \"#d8576b\"], [0.6666666666666666, \"#ed7953\"], [0.7777777777777778, \"#fb9f3a\"], [0.8888888888888888, \"#fdca26\"], [1.0, \"#f0f921\"]], \"type\": \"histogram2dcontour\"}], \"mesh3d\": [{\"colorbar\": {\"outlinewidth\": 0, \"ticks\": \"\"}, \"type\": \"mesh3d\"}], \"parcoords\": [{\"line\": {\"colorbar\": {\"outlinewidth\": 0, \"ticks\": \"\"}}, \"type\": \"parcoords\"}], \"pie\": [{\"automargin\": true, \"type\": \"pie\"}], \"scatter\": [{\"marker\": {\"colorbar\": {\"outlinewidth\": 0, \"ticks\": \"\"}}, \"type\": \"scatter\"}], \"scatter3d\": [{\"line\": {\"colorbar\": {\"outlinewidth\": 0, \"ticks\": \"\"}}, \"marker\": {\"colorbar\": {\"outlinewidth\": 0, \"ticks\": \"\"}}, \"type\": \"scatter3d\"}], \"scattercarpet\": [{\"marker\": {\"colorbar\": {\"outlinewidth\": 0, \"ticks\": \"\"}}, \"type\": \"scattercarpet\"}], \"scattergeo\": [{\"marker\": {\"colorbar\": {\"outlinewidth\": 0, \"ticks\": \"\"}}, \"type\": \"scattergeo\"}], \"scattergl\": [{\"marker\": {\"colorbar\": {\"outlinewidth\": 0, \"ticks\": \"\"}}, \"type\": \"scattergl\"}], \"scattermapbox\": [{\"marker\": {\"colorbar\": {\"outlinewidth\": 0, \"ticks\": \"\"}}, \"type\": \"scattermapbox\"}], \"scatterpolar\": [{\"marker\": {\"colorbar\": {\"outlinewidth\": 0, \"ticks\": \"\"}}, \"type\": \"scatterpolar\"}], \"scatterpolargl\": [{\"marker\": {\"colorbar\": {\"outlinewidth\": 0, \"ticks\": \"\"}}, \"type\": \"scatterpolargl\"}], \"scatterternary\": [{\"marker\": {\"colorbar\": {\"outlinewidth\": 0, \"ticks\": \"\"}}, \"type\": \"scatterternary\"}], \"surface\": [{\"colorbar\": {\"outlinewidth\": 0, \"ticks\": \"\"}, \"colorscale\": [[0.0, \"#0d0887\"], [0.1111111111111111, \"#46039f\"], [0.2222222222222222, \"#7201a8\"], [0.3333333333333333, \"#9c179e\"], [0.4444444444444444, \"#bd3786\"], [0.5555555555555556, \"#d8576b\"], [0.6666666666666666, \"#ed7953\"], [0.7777777777777778, \"#fb9f3a\"], [0.8888888888888888, \"#fdca26\"], [1.0, \"#f0f921\"]], \"type\": \"surface\"}], \"table\": [{\"cells\": {\"fill\": {\"color\": \"#EBF0F8\"}, \"line\": {\"color\": \"white\"}}, \"header\": {\"fill\": {\"color\": \"#C8D4E3\"}, \"line\": {\"color\": \"white\"}}, \"type\": \"table\"}]}, \"layout\": {\"annotationdefaults\": {\"arrowcolor\": \"#2a3f5f\", \"arrowhead\": 0, \"arrowwidth\": 1}, \"coloraxis\": {\"colorbar\": {\"outlinewidth\": 0, \"ticks\": \"\"}}, \"colorscale\": {\"diverging\": [[0, \"#8e0152\"], [0.1, \"#c51b7d\"], [0.2, \"#de77ae\"], [0.3, \"#f1b6da\"], [0.4, \"#fde0ef\"], [0.5, \"#f7f7f7\"], [0.6, \"#e6f5d0\"], [0.7, \"#b8e186\"], [0.8, \"#7fbc41\"], [0.9, \"#4d9221\"], [1, \"#276419\"]], \"sequential\": [[0.0, \"#0d0887\"], [0.1111111111111111, \"#46039f\"], [0.2222222222222222, \"#7201a8\"], [0.3333333333333333, \"#9c179e\"], [0.4444444444444444, \"#bd3786\"], [0.5555555555555556, \"#d8576b\"], [0.6666666666666666, \"#ed7953\"], [0.7777777777777778, \"#fb9f3a\"], [0.8888888888888888, \"#fdca26\"], [1.0, \"#f0f921\"]], \"sequentialminus\": [[0.0, \"#0d0887\"], [0.1111111111111111, \"#46039f\"], [0.2222222222222222, \"#7201a8\"], [0.3333333333333333, \"#9c179e\"], [0.4444444444444444, \"#bd3786\"], [0.5555555555555556, \"#d8576b\"], [0.6666666666666666, \"#ed7953\"], [0.7777777777777778, \"#fb9f3a\"], [0.8888888888888888, \"#fdca26\"], [1.0, \"#f0f921\"]]}, \"colorway\": [\"#636efa\", \"#EF553B\", \"#00cc96\", \"#ab63fa\", \"#FFA15A\", \"#19d3f3\", \"#FF6692\", \"#B6E880\", \"#FF97FF\", \"#FECB52\"], \"font\": {\"color\": \"#2a3f5f\"}, \"geo\": {\"bgcolor\": \"white\", \"lakecolor\": \"white\", \"landcolor\": \"#E5ECF6\", \"showlakes\": true, \"showland\": true, \"subunitcolor\": \"white\"}, \"hoverlabel\": {\"align\": \"left\"}, \"hovermode\": \"closest\", \"mapbox\": {\"style\": \"light\"}, \"paper_bgcolor\": \"white\", \"plot_bgcolor\": \"#E5ECF6\", \"polar\": {\"angularaxis\": {\"gridcolor\": \"white\", \"linecolor\": \"white\", \"ticks\": \"\"}, \"bgcolor\": \"#E5ECF6\", \"radialaxis\": {\"gridcolor\": \"white\", \"linecolor\": \"white\", \"ticks\": \"\"}}, \"scene\": {\"xaxis\": {\"backgroundcolor\": \"#E5ECF6\", \"gridcolor\": \"white\", \"gridwidth\": 2, \"linecolor\": \"white\", \"showbackground\": true, \"ticks\": \"\", \"zerolinecolor\": \"white\"}, \"yaxis\": {\"backgroundcolor\": \"#E5ECF6\", \"gridcolor\": \"white\", \"gridwidth\": 2, \"linecolor\": \"white\", \"showbackground\": true, \"ticks\": \"\", \"zerolinecolor\": \"white\"}, \"zaxis\": {\"backgroundcolor\": \"#E5ECF6\", \"gridcolor\": \"white\", \"gridwidth\": 2, \"linecolor\": \"white\", \"showbackground\": true, \"ticks\": \"\", \"zerolinecolor\": \"white\"}}, \"shapedefaults\": {\"line\": {\"color\": \"#2a3f5f\"}}, \"ternary\": {\"aaxis\": {\"gridcolor\": \"white\", \"linecolor\": \"white\", \"ticks\": \"\"}, \"baxis\": {\"gridcolor\": \"white\", \"linecolor\": \"white\", \"ticks\": \"\"}, \"bgcolor\": \"#E5ECF6\", \"caxis\": {\"gridcolor\": \"white\", \"linecolor\": \"white\", \"ticks\": \"\"}}, \"title\": {\"x\": 0.05}, \"xaxis\": {\"automargin\": true, \"gridcolor\": \"white\", \"linecolor\": \"white\", \"ticks\": \"\", \"title\": {\"standoff\": 15}, \"zerolinecolor\": \"white\", \"zerolinewidth\": 2}, \"yaxis\": {\"automargin\": true, \"gridcolor\": \"white\", \"linecolor\": \"white\", \"ticks\": \"\", \"title\": {\"standoff\": 15}, \"zerolinecolor\": \"white\", \"zerolinewidth\": 2}}}, \"xaxis\": {\"title\": {\"text\": \"Epoki\"}}, \"yaxis\": {\"title\": {\"text\": \"binary_crossentropy\"}}},\n",
              "                        {\"responsive\": true}\n",
              "                    ).then(function(){\n",
              "                            \n",
              "var gd = document.getElementById('113c1555-41c6-49af-b26b-dad1fa782e05');\n",
              "var x = new MutationObserver(function (mutations, observer) {{\n",
              "        var display = window.getComputedStyle(gd).display;\n",
              "        if (!display || display === 'none') {{\n",
              "            console.log([gd, 'removed!']);\n",
              "            Plotly.purge(gd);\n",
              "            observer.disconnect();\n",
              "        }}\n",
              "}});\n",
              "\n",
              "// Listen for the removal of the full notebook cells\n",
              "var notebookContainer = gd.closest('#notebook-container');\n",
              "if (notebookContainer) {{\n",
              "    x.observe(notebookContainer, {childList: true});\n",
              "}}\n",
              "\n",
              "// Listen for the clearing of the current output cell\n",
              "var outputEl = gd.closest('.output');\n",
              "if (outputEl) {{\n",
              "    x.observe(outputEl, {childList: true});\n",
              "}}\n",
              "\n",
              "                        })\n",
              "                };\n",
              "                \n",
              "            </script>\n",
              "        </div>\n",
              "</body>\n",
              "</html>"
            ]
          },
          "metadata": {
            "tags": []
          }
        }
      ]
    },
    {
      "cell_type": "code",
      "metadata": {
        "id": "yu_trUxhyrK-",
        "colab": {
          "base_uri": "https://localhost:8080/"
        },
        "outputId": "70164a21-750f-469e-f215-fb277fce6abc"
      },
      "source": [
        "# sam: łączę obie techniki regularyzacji\r\n",
        "\r\n",
        "from tensorflow.keras.regularizers import l2\r\n",
        "from tensorflow.keras.layers import Dropout\r\n",
        "\r\n",
        "l2_and_dropout_model = Sequential()\r\n",
        "# w kernel_regularizer wybrana metryka l2\r\n",
        "l2_and_dropout_model.add(Dense(16, kernel_regularizer=l2(0.001), activation='relu', input_shape=(NUM_WORDS,)))\r\n",
        "dropout_model.add(Dropout(0.5))\r\n",
        "l2_and_dropout_model.add(Dense(16, kernel_regularizer=l2(0.01), activation='relu'))\r\n",
        "dropout_model.add(Dropout(0.5))\r\n",
        "l2_and_dropout_model.add(Dense(1, activation='sigmoid'))\r\n",
        "\r\n",
        "l2_and_dropout_model.compile(optimizer='adam',\r\n",
        "                 loss='binary_crossentropy',\r\n",
        "                 metrics=['accuracy', 'binary_crossentropy'])\r\n",
        "\r\n",
        "l2_and_dropout_model.summary()"
      ],
      "execution_count": 24,
      "outputs": [
        {
          "output_type": "stream",
          "text": [
            "Model: \"sequential_5\"\n",
            "_________________________________________________________________\n",
            "Layer (type)                 Output Shape              Param #   \n",
            "=================================================================\n",
            "dense_15 (Dense)             (None, 16)                160016    \n",
            "_________________________________________________________________\n",
            "dense_16 (Dense)             (None, 16)                272       \n",
            "_________________________________________________________________\n",
            "dense_17 (Dense)             (None, 1)                 17        \n",
            "=================================================================\n",
            "Total params: 160,305\n",
            "Trainable params: 160,305\n",
            "Non-trainable params: 0\n",
            "_________________________________________________________________\n"
          ],
          "name": "stdout"
        }
      ]
    },
    {
      "cell_type": "code",
      "metadata": {
        "colab": {
          "base_uri": "https://localhost:8080/"
        },
        "id": "8n5KKMEL-gFv",
        "outputId": "0d398a8a-5266-419c-86ea-95dabc41e967"
      },
      "source": [
        "l2_and_dropout_history = l2_and_dropout_model.fit(train_data, train_labels, epochs=20, batch_size=512, validation_data=(test_data, test_labels))"
      ],
      "execution_count": 25,
      "outputs": [
        {
          "output_type": "stream",
          "text": [
            "Epoch 1/20\n",
            "49/49 [==============================] - 3s 48ms/step - loss: 0.7802 - accuracy: 0.6858 - binary_crossentropy: 0.5935 - val_loss: 0.5187 - val_accuracy: 0.8737 - val_binary_crossentropy: 0.3561\n",
            "Epoch 2/20\n",
            "49/49 [==============================] - 2s 39ms/step - loss: 0.4454 - accuracy: 0.9066 - binary_crossentropy: 0.2860 - val_loss: 0.4420 - val_accuracy: 0.8867 - val_binary_crossentropy: 0.2940\n",
            "Epoch 3/20\n",
            "49/49 [==============================] - 2s 38ms/step - loss: 0.3570 - accuracy: 0.9296 - binary_crossentropy: 0.2126 - val_loss: 0.4185 - val_accuracy: 0.8860 - val_binary_crossentropy: 0.2850\n",
            "Epoch 4/20\n",
            "49/49 [==============================] - 2s 37ms/step - loss: 0.3112 - accuracy: 0.9415 - binary_crossentropy: 0.1806 - val_loss: 0.4111 - val_accuracy: 0.8827 - val_binary_crossentropy: 0.2890\n",
            "Epoch 5/20\n",
            "49/49 [==============================] - 2s 38ms/step - loss: 0.2869 - accuracy: 0.9470 - binary_crossentropy: 0.1672 - val_loss: 0.4057 - val_accuracy: 0.8814 - val_binary_crossentropy: 0.2925\n",
            "Epoch 6/20\n",
            "49/49 [==============================] - 2s 44ms/step - loss: 0.2730 - accuracy: 0.9511 - binary_crossentropy: 0.1613 - val_loss: 0.4006 - val_accuracy: 0.8814 - val_binary_crossentropy: 0.2933\n",
            "Epoch 7/20\n",
            "49/49 [==============================] - 2s 45ms/step - loss: 0.2519 - accuracy: 0.9551 - binary_crossentropy: 0.1457 - val_loss: 0.4066 - val_accuracy: 0.8779 - val_binary_crossentropy: 0.3039\n",
            "Epoch 8/20\n",
            "49/49 [==============================] - 2s 40ms/step - loss: 0.2431 - accuracy: 0.9578 - binary_crossentropy: 0.1413 - val_loss: 0.4022 - val_accuracy: 0.8778 - val_binary_crossentropy: 0.3033\n",
            "Epoch 9/20\n",
            "49/49 [==============================] - 2s 41ms/step - loss: 0.2323 - accuracy: 0.9602 - binary_crossentropy: 0.1339 - val_loss: 0.4038 - val_accuracy: 0.8773 - val_binary_crossentropy: 0.3073\n",
            "Epoch 10/20\n",
            "49/49 [==============================] - 3s 59ms/step - loss: 0.2290 - accuracy: 0.9595 - binary_crossentropy: 0.1328 - val_loss: 0.4133 - val_accuracy: 0.8738 - val_binary_crossentropy: 0.3182\n",
            "Epoch 11/20\n",
            "49/49 [==============================] - 5s 110ms/step - loss: 0.2209 - accuracy: 0.9629 - binary_crossentropy: 0.1261 - val_loss: 0.4180 - val_accuracy: 0.8726 - val_binary_crossentropy: 0.3242\n",
            "Epoch 12/20\n",
            "49/49 [==============================] - 3s 63ms/step - loss: 0.2159 - accuracy: 0.9653 - binary_crossentropy: 0.1222 - val_loss: 0.4170 - val_accuracy: 0.8744 - val_binary_crossentropy: 0.3242\n",
            "Epoch 13/20\n",
            "49/49 [==============================] - 2s 42ms/step - loss: 0.2106 - accuracy: 0.9653 - binary_crossentropy: 0.1180 - val_loss: 0.4275 - val_accuracy: 0.8703 - val_binary_crossentropy: 0.3356\n",
            "Epoch 14/20\n",
            "49/49 [==============================] - 2s 41ms/step - loss: 0.2086 - accuracy: 0.9659 - binary_crossentropy: 0.1165 - val_loss: 0.4281 - val_accuracy: 0.8710 - val_binary_crossentropy: 0.3366\n",
            "Epoch 15/20\n",
            "49/49 [==============================] - 2s 41ms/step - loss: 0.2023 - accuracy: 0.9673 - binary_crossentropy: 0.1110 - val_loss: 0.4322 - val_accuracy: 0.8703 - val_binary_crossentropy: 0.3415\n",
            "Epoch 16/20\n",
            "49/49 [==============================] - 2s 39ms/step - loss: 0.1968 - accuracy: 0.9687 - binary_crossentropy: 0.1062 - val_loss: 0.4365 - val_accuracy: 0.8684 - val_binary_crossentropy: 0.3467\n",
            "Epoch 17/20\n",
            "49/49 [==============================] - 2s 40ms/step - loss: 0.1912 - accuracy: 0.9722 - binary_crossentropy: 0.1014 - val_loss: 0.4412 - val_accuracy: 0.8686 - val_binary_crossentropy: 0.3519\n",
            "Epoch 18/20\n",
            "49/49 [==============================] - 2s 41ms/step - loss: 0.1894 - accuracy: 0.9710 - binary_crossentropy: 0.1002 - val_loss: 0.4486 - val_accuracy: 0.8665 - val_binary_crossentropy: 0.3599\n",
            "Epoch 19/20\n",
            "49/49 [==============================] - 2s 40ms/step - loss: 0.1888 - accuracy: 0.9708 - binary_crossentropy: 0.1002 - val_loss: 0.4499 - val_accuracy: 0.8680 - val_binary_crossentropy: 0.3617\n",
            "Epoch 20/20\n",
            "49/49 [==============================] - 2s 38ms/step - loss: 0.1840 - accuracy: 0.9730 - binary_crossentropy: 0.0958 - val_loss: 0.4562 - val_accuracy: 0.8656 - val_binary_crossentropy: 0.3687\n"
          ],
          "name": "stdout"
        }
      ]
    },
    {
      "cell_type": "code",
      "metadata": {
        "colab": {
          "base_uri": "https://localhost:8080/",
          "height": 542
        },
        "id": "WZEEMzF6-qEl",
        "outputId": "f43df3e4-b829-437b-c1c8-9f961fc55222"
      },
      "source": [
        "fig = go.Figure()\r\n",
        "for name, history in zip(['baseline', 'l2_and_dropout'], [baseline_history, l2_and_dropout_history]):\r\n",
        "    hist = pd.DataFrame(history.history)\r\n",
        "    hist['epoch'] = history.epoch\r\n",
        "    fig.add_trace(go.Scatter(x=hist['epoch'], y=hist['binary_crossentropy'], name=name + '_binary_crossentropy', mode='lines+markers'))\r\n",
        "    fig.add_trace(go.Scatter(x=hist['epoch'], y=hist['val_binary_crossentropy'], name=name + '_val_binary_crossentropy', mode='lines+markers'))\r\n",
        "    fig.update_layout(xaxis_title='Epoki', yaxis_title='binary_crossentropy')\r\n",
        "fig.show()"
      ],
      "execution_count": 26,
      "outputs": [
        {
          "output_type": "display_data",
          "data": {
            "text/html": [
              "<html>\n",
              "<head><meta charset=\"utf-8\" /></head>\n",
              "<body>\n",
              "    <div>\n",
              "            <script src=\"https://cdnjs.cloudflare.com/ajax/libs/mathjax/2.7.5/MathJax.js?config=TeX-AMS-MML_SVG\"></script><script type=\"text/javascript\">if (window.MathJax) {MathJax.Hub.Config({SVG: {font: \"STIX-Web\"}});}</script>\n",
              "                <script type=\"text/javascript\">window.PlotlyConfig = {MathJaxConfig: 'local'};</script>\n",
              "        <script src=\"https://cdn.plot.ly/plotly-latest.min.js\"></script>    \n",
              "            <div id=\"53b15752-1469-4d9a-9755-10bf6c5d7e03\" class=\"plotly-graph-div\" style=\"height:525px; width:100%;\"></div>\n",
              "            <script type=\"text/javascript\">\n",
              "                \n",
              "                    window.PLOTLYENV=window.PLOTLYENV || {};\n",
              "                    \n",
              "                if (document.getElementById(\"53b15752-1469-4d9a-9755-10bf6c5d7e03\")) {\n",
              "                    Plotly.newPlot(\n",
              "                        '53b15752-1469-4d9a-9755-10bf6c5d7e03',\n",
              "                        [{\"mode\": \"lines+markers\", \"name\": \"baseline_binary_crossentropy\", \"type\": \"scatter\", \"x\": [0, 1, 2, 3, 4, 5, 6, 7, 8, 9, 10, 11, 12, 13, 14, 15, 16, 17, 18, 19], \"y\": [0.4910472631454468, 0.25361397862434387, 0.18578247725963593, 0.14979998767375946, 0.12390843033790588, 0.10228658467531204, 0.08417313545942307, 0.06892590969800949, 0.056434400379657745, 0.043296001851558685, 0.033315371721982956, 0.025242062285542488, 0.019031178206205368, 0.01425326056778431, 0.010910543613135815, 0.008392189629375935, 0.0067203594371676445, 0.0054206764325499535, 0.00442518899217248, 0.0037106014788150787]}, {\"mode\": \"lines+markers\", \"name\": \"baseline_val_binary_crossentropy\", \"type\": \"scatter\", \"x\": [0, 1, 2, 3, 4, 5, 6, 7, 8, 9, 10, 11, 12, 13, 14, 15, 16, 17, 18, 19], \"y\": [0.34119829535484314, 0.28373271226882935, 0.2956973910331726, 0.3055260479450226, 0.33299851417541504, 0.36201679706573486, 0.3977223038673401, 0.44414612650871277, 0.4774864912033081, 0.5165812373161316, 0.5543936491012573, 0.5973510146141052, 0.6379150152206421, 0.6718412637710571, 0.7068275213241577, 0.7395681738853455, 0.7688760757446289, 0.7971543669700623, 0.8239492177963257, 0.8485546708106995]}, {\"mode\": \"lines+markers\", \"name\": \"l2_and_dropout_binary_crossentropy\", \"type\": \"scatter\", \"x\": [0, 1, 2, 3, 4, 5, 6, 7, 8, 9, 10, 11, 12, 13, 14, 15, 16, 17, 18, 19], \"y\": [0.5006842017173767, 0.27229100465774536, 0.2145693600177765, 0.18874593079090118, 0.17393861711025238, 0.1635541170835495, 0.15501420199871063, 0.14829295873641968, 0.14345042407512665, 0.14163577556610107, 0.1358439028263092, 0.1306259036064148, 0.12844863533973694, 0.12733440101146698, 0.12039341032505035, 0.11697080731391907, 0.11382719874382019, 0.11160926520824432, 0.10933487117290497, 0.10702425986528397]}, {\"mode\": \"lines+markers\", \"name\": \"l2_and_dropout_val_binary_crossentropy\", \"type\": \"scatter\", \"x\": [0, 1, 2, 3, 4, 5, 6, 7, 8, 9, 10, 11, 12, 13, 14, 15, 16, 17, 18, 19], \"y\": [0.3561140298843384, 0.2940075695514679, 0.28495100140571594, 0.2890391945838928, 0.29249316453933716, 0.2932703197002411, 0.3039455711841583, 0.3033221364021301, 0.30727747082710266, 0.3181978762149811, 0.32424190640449524, 0.32420724630355835, 0.33557605743408203, 0.33659735321998596, 0.34152042865753174, 0.346708744764328, 0.35185864567756653, 0.3599430322647095, 0.3617295026779175, 0.3687129318714142]}],\n",
              "                        {\"template\": {\"data\": {\"bar\": [{\"error_x\": {\"color\": \"#2a3f5f\"}, \"error_y\": {\"color\": \"#2a3f5f\"}, \"marker\": {\"line\": {\"color\": \"#E5ECF6\", \"width\": 0.5}}, \"type\": \"bar\"}], \"barpolar\": [{\"marker\": {\"line\": {\"color\": \"#E5ECF6\", \"width\": 0.5}}, \"type\": \"barpolar\"}], \"carpet\": [{\"aaxis\": {\"endlinecolor\": \"#2a3f5f\", \"gridcolor\": \"white\", \"linecolor\": \"white\", \"minorgridcolor\": \"white\", \"startlinecolor\": \"#2a3f5f\"}, \"baxis\": {\"endlinecolor\": \"#2a3f5f\", \"gridcolor\": \"white\", \"linecolor\": \"white\", \"minorgridcolor\": \"white\", \"startlinecolor\": \"#2a3f5f\"}, \"type\": \"carpet\"}], \"choropleth\": [{\"colorbar\": {\"outlinewidth\": 0, \"ticks\": \"\"}, \"type\": \"choropleth\"}], \"contour\": [{\"colorbar\": {\"outlinewidth\": 0, \"ticks\": \"\"}, \"colorscale\": [[0.0, \"#0d0887\"], [0.1111111111111111, \"#46039f\"], [0.2222222222222222, \"#7201a8\"], [0.3333333333333333, \"#9c179e\"], [0.4444444444444444, \"#bd3786\"], [0.5555555555555556, \"#d8576b\"], [0.6666666666666666, \"#ed7953\"], [0.7777777777777778, \"#fb9f3a\"], [0.8888888888888888, \"#fdca26\"], [1.0, \"#f0f921\"]], \"type\": \"contour\"}], \"contourcarpet\": [{\"colorbar\": {\"outlinewidth\": 0, \"ticks\": \"\"}, \"type\": \"contourcarpet\"}], \"heatmap\": [{\"colorbar\": {\"outlinewidth\": 0, \"ticks\": \"\"}, \"colorscale\": [[0.0, \"#0d0887\"], [0.1111111111111111, \"#46039f\"], [0.2222222222222222, \"#7201a8\"], [0.3333333333333333, \"#9c179e\"], [0.4444444444444444, \"#bd3786\"], [0.5555555555555556, \"#d8576b\"], [0.6666666666666666, \"#ed7953\"], [0.7777777777777778, \"#fb9f3a\"], [0.8888888888888888, \"#fdca26\"], [1.0, \"#f0f921\"]], \"type\": \"heatmap\"}], \"heatmapgl\": [{\"colorbar\": {\"outlinewidth\": 0, \"ticks\": \"\"}, \"colorscale\": [[0.0, \"#0d0887\"], [0.1111111111111111, \"#46039f\"], [0.2222222222222222, \"#7201a8\"], [0.3333333333333333, \"#9c179e\"], [0.4444444444444444, \"#bd3786\"], [0.5555555555555556, \"#d8576b\"], [0.6666666666666666, \"#ed7953\"], [0.7777777777777778, \"#fb9f3a\"], [0.8888888888888888, \"#fdca26\"], [1.0, \"#f0f921\"]], \"type\": \"heatmapgl\"}], \"histogram\": [{\"marker\": {\"colorbar\": {\"outlinewidth\": 0, \"ticks\": \"\"}}, \"type\": \"histogram\"}], \"histogram2d\": [{\"colorbar\": {\"outlinewidth\": 0, \"ticks\": \"\"}, \"colorscale\": [[0.0, \"#0d0887\"], [0.1111111111111111, \"#46039f\"], [0.2222222222222222, \"#7201a8\"], [0.3333333333333333, \"#9c179e\"], [0.4444444444444444, \"#bd3786\"], [0.5555555555555556, \"#d8576b\"], [0.6666666666666666, \"#ed7953\"], [0.7777777777777778, \"#fb9f3a\"], [0.8888888888888888, \"#fdca26\"], [1.0, \"#f0f921\"]], \"type\": \"histogram2d\"}], \"histogram2dcontour\": [{\"colorbar\": {\"outlinewidth\": 0, \"ticks\": \"\"}, \"colorscale\": [[0.0, \"#0d0887\"], [0.1111111111111111, \"#46039f\"], [0.2222222222222222, \"#7201a8\"], [0.3333333333333333, \"#9c179e\"], [0.4444444444444444, \"#bd3786\"], [0.5555555555555556, \"#d8576b\"], [0.6666666666666666, \"#ed7953\"], [0.7777777777777778, \"#fb9f3a\"], [0.8888888888888888, \"#fdca26\"], [1.0, \"#f0f921\"]], \"type\": \"histogram2dcontour\"}], \"mesh3d\": [{\"colorbar\": {\"outlinewidth\": 0, \"ticks\": \"\"}, \"type\": \"mesh3d\"}], \"parcoords\": [{\"line\": {\"colorbar\": {\"outlinewidth\": 0, \"ticks\": \"\"}}, \"type\": \"parcoords\"}], \"pie\": [{\"automargin\": true, \"type\": \"pie\"}], \"scatter\": [{\"marker\": {\"colorbar\": {\"outlinewidth\": 0, \"ticks\": \"\"}}, \"type\": \"scatter\"}], \"scatter3d\": [{\"line\": {\"colorbar\": {\"outlinewidth\": 0, \"ticks\": \"\"}}, \"marker\": {\"colorbar\": {\"outlinewidth\": 0, \"ticks\": \"\"}}, \"type\": \"scatter3d\"}], \"scattercarpet\": [{\"marker\": {\"colorbar\": {\"outlinewidth\": 0, \"ticks\": \"\"}}, \"type\": \"scattercarpet\"}], \"scattergeo\": [{\"marker\": {\"colorbar\": {\"outlinewidth\": 0, \"ticks\": \"\"}}, \"type\": \"scattergeo\"}], \"scattergl\": [{\"marker\": {\"colorbar\": {\"outlinewidth\": 0, \"ticks\": \"\"}}, \"type\": \"scattergl\"}], \"scattermapbox\": [{\"marker\": {\"colorbar\": {\"outlinewidth\": 0, \"ticks\": \"\"}}, \"type\": \"scattermapbox\"}], \"scatterpolar\": [{\"marker\": {\"colorbar\": {\"outlinewidth\": 0, \"ticks\": \"\"}}, \"type\": \"scatterpolar\"}], \"scatterpolargl\": [{\"marker\": {\"colorbar\": {\"outlinewidth\": 0, \"ticks\": \"\"}}, \"type\": \"scatterpolargl\"}], \"scatterternary\": [{\"marker\": {\"colorbar\": {\"outlinewidth\": 0, \"ticks\": \"\"}}, \"type\": \"scatterternary\"}], \"surface\": [{\"colorbar\": {\"outlinewidth\": 0, \"ticks\": \"\"}, \"colorscale\": [[0.0, \"#0d0887\"], [0.1111111111111111, \"#46039f\"], [0.2222222222222222, \"#7201a8\"], [0.3333333333333333, \"#9c179e\"], [0.4444444444444444, \"#bd3786\"], [0.5555555555555556, \"#d8576b\"], [0.6666666666666666, \"#ed7953\"], [0.7777777777777778, \"#fb9f3a\"], [0.8888888888888888, \"#fdca26\"], [1.0, \"#f0f921\"]], \"type\": \"surface\"}], \"table\": [{\"cells\": {\"fill\": {\"color\": \"#EBF0F8\"}, \"line\": {\"color\": \"white\"}}, \"header\": {\"fill\": {\"color\": \"#C8D4E3\"}, \"line\": {\"color\": \"white\"}}, \"type\": \"table\"}]}, \"layout\": {\"annotationdefaults\": {\"arrowcolor\": \"#2a3f5f\", \"arrowhead\": 0, \"arrowwidth\": 1}, \"coloraxis\": {\"colorbar\": {\"outlinewidth\": 0, \"ticks\": \"\"}}, \"colorscale\": {\"diverging\": [[0, \"#8e0152\"], [0.1, \"#c51b7d\"], [0.2, \"#de77ae\"], [0.3, \"#f1b6da\"], [0.4, \"#fde0ef\"], [0.5, \"#f7f7f7\"], [0.6, \"#e6f5d0\"], [0.7, \"#b8e186\"], [0.8, \"#7fbc41\"], [0.9, \"#4d9221\"], [1, \"#276419\"]], \"sequential\": [[0.0, \"#0d0887\"], [0.1111111111111111, \"#46039f\"], [0.2222222222222222, \"#7201a8\"], [0.3333333333333333, \"#9c179e\"], [0.4444444444444444, \"#bd3786\"], [0.5555555555555556, \"#d8576b\"], [0.6666666666666666, \"#ed7953\"], [0.7777777777777778, \"#fb9f3a\"], [0.8888888888888888, \"#fdca26\"], [1.0, \"#f0f921\"]], \"sequentialminus\": [[0.0, \"#0d0887\"], [0.1111111111111111, \"#46039f\"], [0.2222222222222222, \"#7201a8\"], [0.3333333333333333, \"#9c179e\"], [0.4444444444444444, \"#bd3786\"], [0.5555555555555556, \"#d8576b\"], [0.6666666666666666, \"#ed7953\"], [0.7777777777777778, \"#fb9f3a\"], [0.8888888888888888, \"#fdca26\"], [1.0, \"#f0f921\"]]}, \"colorway\": [\"#636efa\", \"#EF553B\", \"#00cc96\", \"#ab63fa\", \"#FFA15A\", \"#19d3f3\", \"#FF6692\", \"#B6E880\", \"#FF97FF\", \"#FECB52\"], \"font\": {\"color\": \"#2a3f5f\"}, \"geo\": {\"bgcolor\": \"white\", \"lakecolor\": \"white\", \"landcolor\": \"#E5ECF6\", \"showlakes\": true, \"showland\": true, \"subunitcolor\": \"white\"}, \"hoverlabel\": {\"align\": \"left\"}, \"hovermode\": \"closest\", \"mapbox\": {\"style\": \"light\"}, \"paper_bgcolor\": \"white\", \"plot_bgcolor\": \"#E5ECF6\", \"polar\": {\"angularaxis\": {\"gridcolor\": \"white\", \"linecolor\": \"white\", \"ticks\": \"\"}, \"bgcolor\": \"#E5ECF6\", \"radialaxis\": {\"gridcolor\": \"white\", \"linecolor\": \"white\", \"ticks\": \"\"}}, \"scene\": {\"xaxis\": {\"backgroundcolor\": \"#E5ECF6\", \"gridcolor\": \"white\", \"gridwidth\": 2, \"linecolor\": \"white\", \"showbackground\": true, \"ticks\": \"\", \"zerolinecolor\": \"white\"}, \"yaxis\": {\"backgroundcolor\": \"#E5ECF6\", \"gridcolor\": \"white\", \"gridwidth\": 2, \"linecolor\": \"white\", \"showbackground\": true, \"ticks\": \"\", \"zerolinecolor\": \"white\"}, \"zaxis\": {\"backgroundcolor\": \"#E5ECF6\", \"gridcolor\": \"white\", \"gridwidth\": 2, \"linecolor\": \"white\", \"showbackground\": true, \"ticks\": \"\", \"zerolinecolor\": \"white\"}}, \"shapedefaults\": {\"line\": {\"color\": \"#2a3f5f\"}}, \"ternary\": {\"aaxis\": {\"gridcolor\": \"white\", \"linecolor\": \"white\", \"ticks\": \"\"}, \"baxis\": {\"gridcolor\": \"white\", \"linecolor\": \"white\", \"ticks\": \"\"}, \"bgcolor\": \"#E5ECF6\", \"caxis\": {\"gridcolor\": \"white\", \"linecolor\": \"white\", \"ticks\": \"\"}}, \"title\": {\"x\": 0.05}, \"xaxis\": {\"automargin\": true, \"gridcolor\": \"white\", \"linecolor\": \"white\", \"ticks\": \"\", \"title\": {\"standoff\": 15}, \"zerolinecolor\": \"white\", \"zerolinewidth\": 2}, \"yaxis\": {\"automargin\": true, \"gridcolor\": \"white\", \"linecolor\": \"white\", \"ticks\": \"\", \"title\": {\"standoff\": 15}, \"zerolinecolor\": \"white\", \"zerolinewidth\": 2}}}, \"xaxis\": {\"title\": {\"text\": \"Epoki\"}}, \"yaxis\": {\"title\": {\"text\": \"binary_crossentropy\"}}},\n",
              "                        {\"responsive\": true}\n",
              "                    ).then(function(){\n",
              "                            \n",
              "var gd = document.getElementById('53b15752-1469-4d9a-9755-10bf6c5d7e03');\n",
              "var x = new MutationObserver(function (mutations, observer) {{\n",
              "        var display = window.getComputedStyle(gd).display;\n",
              "        if (!display || display === 'none') {{\n",
              "            console.log([gd, 'removed!']);\n",
              "            Plotly.purge(gd);\n",
              "            observer.disconnect();\n",
              "        }}\n",
              "}});\n",
              "\n",
              "// Listen for the removal of the full notebook cells\n",
              "var notebookContainer = gd.closest('#notebook-container');\n",
              "if (notebookContainer) {{\n",
              "    x.observe(notebookContainer, {childList: true});\n",
              "}}\n",
              "\n",
              "// Listen for the clearing of the current output cell\n",
              "var outputEl = gd.closest('.output');\n",
              "if (outputEl) {{\n",
              "    x.observe(outputEl, {childList: true});\n",
              "}}\n",
              "\n",
              "                        })\n",
              "                };\n",
              "                \n",
              "            </script>\n",
              "        </div>\n",
              "</body>\n",
              "</html>"
            ]
          },
          "metadata": {
            "tags": []
          }
        }
      ]
    }
  ]
}