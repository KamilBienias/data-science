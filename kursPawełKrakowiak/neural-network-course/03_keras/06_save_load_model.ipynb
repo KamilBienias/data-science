{
  "nbformat": 4,
  "nbformat_minor": 0,
  "metadata": {
    "colab": {
      "name": "06_save_load_model.ipynb",
      "provenance": [],
      "collapsed_sections": [
        "d3n8nqGqAU1q",
        "_NnhVksfB-7r",
        "mYNgLmH1D05K",
        "mz-fWfcgGKGo"
      ],
      "include_colab_link": true
    },
    "kernelspec": {
      "name": "python3",
      "display_name": "Python 3"
    }
  },
  "cells": [
    {
      "cell_type": "markdown",
      "metadata": {
        "id": "view-in-github",
        "colab_type": "text"
      },
      "source": [
        "<a href=\"https://colab.research.google.com/github/KamilBienias/data-science/blob/main/kursPawe%C5%82Krakowiak/neural-network-course/03_keras/06_save_load_model.ipynb\" target=\"_parent\"><img src=\"https://colab.research.google.com/assets/colab-badge.svg\" alt=\"Open In Colab\"/></a>"
      ]
    },
    {
      "cell_type": "markdown",
      "metadata": {
        "id": "5gjFu2l9IMsj"
      },
      "source": [
        "### Zapisywanie i ładowanie wag z modelu\n",
        "\n",
        "Celem tego notebook'a jest nauczenie się pracy z obsługą modeli, m.in.:\n",
        " - zapisanie wag po każdej epoce\n",
        " - zapisanie wag po określonej liczbie epok\n",
        " - załadowanie wag \n",
        " - zapisanie całego modelu\n",
        " - załadowanie całego modelu\n",
        "\n",
        "### Spis treści:\n",
        "1. [Import bibliotek](#a0)\n",
        "2. [Załadowanie danych i wstępna eksploracja](#a1)\n",
        "3. [Budowa modelu](#a2)\n",
        "4. [Zapisywanie punktów kontrolnych podczas trenowania](#a3)\n",
        "5. [Załadowanie wag do modelu](#a4)\n",
        "6. [Dodatkowe opcje](#a5)\n",
        "7. [Ręczne zapisywanie wag](#a6)\n",
        "8. [Zapisanie całego modelu](#a7)\n",
        "\n",
        "\n"
      ]
    },
    {
      "cell_type": "markdown",
      "metadata": {
        "id": "54PMwXoAJOhq"
      },
      "source": [
        "### <a name='a0'> </a> 1. Import bibliotek"
      ]
    },
    {
      "cell_type": "code",
      "metadata": {
        "id": "lyxtFjeeGECa"
      },
      "source": [
        "# ######################################################\n",
        "# Etap 7. Odcinek: Zapis/Ładowanie modelu.\n",
        "\n",
        "# Użyj poniższego polecenia jeśli używasz innego środowiska niż Google Colab\n",
        "# !pip install --upgrade -q tensorflow\n",
        "\n",
        "# Istnieje tylko w Google Colab, wersja szybsza ;)\n",
        "%tensorflow_version 2.x"
      ],
      "execution_count": 1,
      "outputs": []
    },
    {
      "cell_type": "code",
      "metadata": {
        "id": "IqX0mhs4EXOo",
        "colab": {
          "base_uri": "https://localhost:8080/",
          "height": 35
        },
        "outputId": "f0278fc2-7517-4701-c726-496d1014ec42"
      },
      "source": [
        "import os\n",
        "import matplotlib.pyplot as plt\n",
        "import seaborn as sns\n",
        "\n",
        "import tensorflow as tf\n",
        "from tensorflow.keras.datasets import mnist\n",
        "from tensorflow.keras.models import Sequential\n",
        "from tensorflow.keras.layers import Dense, Dropout\n",
        "\n",
        "sns.set()\n",
        "tf.__version__"
      ],
      "execution_count": 2,
      "outputs": [
        {
          "output_type": "execute_result",
          "data": {
            "application/vnd.google.colaboratory.intrinsic+json": {
              "type": "string"
            },
            "text/plain": [
              "'2.4.1'"
            ]
          },
          "metadata": {
            "tags": []
          },
          "execution_count": 2
        }
      ]
    },
    {
      "cell_type": "markdown",
      "metadata": {
        "id": "sYB9C6JnJYWG"
      },
      "source": [
        "### <a name='a1'> </a> 2. Załadowanie danych i wstępna eksploracja"
      ]
    },
    {
      "cell_type": "code",
      "metadata": {
        "id": "UBD08VRs909Y",
        "colab": {
          "base_uri": "https://localhost:8080/"
        },
        "outputId": "25ac773f-1e3b-4380-9ba5-9f7c7927351f"
      },
      "source": [
        "(train_images, train_labels), (test_images, test_labels) = mnist.load_data()"
      ],
      "execution_count": 3,
      "outputs": [
        {
          "output_type": "stream",
          "text": [
            "Downloading data from https://storage.googleapis.com/tensorflow/tf-keras-datasets/mnist.npz\n",
            "11493376/11490434 [==============================] - 0s 0us/step\n"
          ],
          "name": "stdout"
        }
      ]
    },
    {
      "cell_type": "code",
      "metadata": {
        "id": "3WxmAgGl-eS1",
        "colab": {
          "base_uri": "https://localhost:8080/"
        },
        "outputId": "411cb6d2-db97-4f84-e984-a74a1749e457"
      },
      "source": [
        "train_images.shape"
      ],
      "execution_count": 4,
      "outputs": [
        {
          "output_type": "execute_result",
          "data": {
            "text/plain": [
              "(60000, 28, 28)"
            ]
          },
          "metadata": {
            "tags": []
          },
          "execution_count": 4
        }
      ]
    },
    {
      "cell_type": "code",
      "metadata": {
        "id": "kddg_vs0-is5",
        "colab": {
          "base_uri": "https://localhost:8080/",
          "height": 265
        },
        "outputId": "731c5c7b-0025-40ca-86cf-c5cb762706fd"
      },
      "source": [
        "plt.imshow(train_images[0], cmap='gray_r')\n",
        "plt.grid(False)\n",
        "plt.axis(False)"
      ],
      "execution_count": 5,
      "outputs": [
        {
          "output_type": "execute_result",
          "data": {
            "text/plain": [
              "(-0.5, 27.5, 27.5, -0.5)"
            ]
          },
          "metadata": {
            "tags": []
          },
          "execution_count": 5
        },
        {
          "output_type": "display_data",
          "data": {
            "image/png": "[encoded data removed]",
            "text/plain": [
              "<Figure size 432x288 with 1 Axes>"
            ]
          },
          "metadata": {
            "tags": []
          }
        }
      ]
    },
    {
      "cell_type": "code",
      "metadata": {
        "id": "JTmBsyF8-nFt",
        "colab": {
          "base_uri": "https://localhost:8080/"
        },
        "outputId": "f2d3f564-d641-4209-85da-2716d21e957c"
      },
      "source": [
        "train_labels[:10]"
      ],
      "execution_count": 6,
      "outputs": [
        {
          "output_type": "execute_result",
          "data": {
            "text/plain": [
              "array([5, 0, 4, 1, 9, 2, 1, 3, 1, 4], dtype=uint8)"
            ]
          },
          "metadata": {
            "tags": []
          },
          "execution_count": 6
        }
      ]
    },
    {
      "cell_type": "code",
      "metadata": {
        "id": "OgpEXGgd_MTn"
      },
      "source": [
        "# sami wypłaszczamy input aby nie używać warstwy Flatten\n",
        "train_images = train_images[:1000].reshape(-1, 28 * 28) / 255.\n",
        "test_images = test_images[:1000].reshape(-1, 28 * 28) / 255.\n",
        "\n",
        "train_labels = train_labels[:1000]\n",
        "test_labels = test_labels[:1000]"
      ],
      "execution_count": 8,
      "outputs": []
    },
    {
      "cell_type": "markdown",
      "metadata": {
        "id": "1mOy5Lf3JeRK"
      },
      "source": [
        "### <a name='a2'> </a> 3. Budowa modelu"
      ]
    },
    {
      "cell_type": "code",
      "metadata": {
        "id": "RCKJWnY0_kIb",
        "colab": {
          "base_uri": "https://localhost:8080/"
        },
        "outputId": "1b7e4494-dd5f-4494-b160-36503472b667"
      },
      "source": [
        "def create_model():\n",
        "    model = Sequential()\n",
        "    model.add(Dense(512, activation='relu', input_shape=(784,)))\n",
        "    model.add(Dropout(0.2))\n",
        "    model.add(Dense(10, activation='softmax'))\n",
        "\n",
        "    model.compile(optimizer='adam',\n",
        "                  loss='sparse_categorical_crossentropy',\n",
        "                  metrics=['accuracy'])\n",
        "    return model\n",
        "\n",
        "model = create_model()\n",
        "model.summary()\n",
        "# na filmie dopiero punkt 8. Zapisanie całego modelu"
      ],
      "execution_count": 9,
      "outputs": [
        {
          "output_type": "stream",
          "text": [
            "Model: \"sequential\"\n",
            "_________________________________________________________________\n",
            "Layer (type)                 Output Shape              Param #   \n",
            "=================================================================\n",
            "dense (Dense)                (None, 512)               401920    \n",
            "_________________________________________________________________\n",
            "dropout (Dropout)            (None, 512)               0         \n",
            "_________________________________________________________________\n",
            "dense_1 (Dense)              (None, 10)                5130      \n",
            "=================================================================\n",
            "Total params: 407,050\n",
            "Trainable params: 407,050\n",
            "Non-trainable params: 0\n",
            "_________________________________________________________________\n"
          ],
          "name": "stdout"
        }
      ]
    },
    {
      "cell_type": "markdown",
      "metadata": {
        "id": "d3n8nqGqAU1q"
      },
      "source": [
        "### <a name='a3'> </a> 4. Zapisywanie punktów kontrolnych podczas trenowania"
      ]
    },
    {
      "cell_type": "code",
      "metadata": {
        "id": "o-dNZfs-AP4G"
      },
      "source": [
        "checkpoint_path = 'training/cp.ckpt'\n",
        "checkpoint_dir = os.path.dirname(checkpoint_path)"
      ],
      "execution_count": null,
      "outputs": []
    },
    {
      "cell_type": "code",
      "metadata": {
        "id": "djxpL94pAryk",
        "colab": {
          "base_uri": "https://localhost:8080/",
          "height": 731
        },
        "outputId": "6cf2cd65-3080-4294-d37b-3744390360af"
      },
      "source": [
        "from tensorflow.keras.callbacks import ModelCheckpoint\n",
        "\n",
        "cp_callback = ModelCheckpoint(filepath=checkpoint_path,\n",
        "                              save_weights_only=True,\n",
        "                              verbose=1)\n",
        "\n",
        "model.fit(train_images, train_labels, epochs=10, validation_data=(test_images, test_labels), callbacks=[cp_callback])"
      ],
      "execution_count": null,
      "outputs": [
        {
          "output_type": "stream",
          "text": [
            "Train on 1000 samples, validate on 1000 samples\n",
            "Epoch 1/10\n",
            " 800/1000 [=======================>......] - ETA: 0s - loss: 1.2506 - accuracy: 0.6275\n",
            "Epoch 00001: saving model to training/cp.ckpt\n",
            "1000/1000 [==============================] - 2s 2ms/sample - loss: 1.1403 - accuracy: 0.6680 - val_loss: 0.7031 - val_accuracy: 0.7800\n",
            "Epoch 2/10\n",
            " 960/1000 [===========================>..] - ETA: 0s - loss: 0.4370 - accuracy: 0.8698\n",
            "Epoch 00002: saving model to training/cp.ckpt\n",
            "1000/1000 [==============================] - 0s 302us/sample - loss: 0.4281 - accuracy: 0.8740 - val_loss: 0.5552 - val_accuracy: 0.8340\n",
            "Epoch 3/10\n",
            " 928/1000 [==========================>...] - ETA: 0s - loss: 0.2843 - accuracy: 0.9289\n",
            "Epoch 00003: saving model to training/cp.ckpt\n",
            "1000/1000 [==============================] - 0s 296us/sample - loss: 0.2764 - accuracy: 0.9330 - val_loss: 0.5437 - val_accuracy: 0.8400\n",
            "Epoch 4/10\n",
            " 800/1000 [=======================>......] - ETA: 0s - loss: 0.2193 - accuracy: 0.9450\n",
            "Epoch 00004: saving model to training/cp.ckpt\n",
            "1000/1000 [==============================] - 0s 327us/sample - loss: 0.2083 - accuracy: 0.9450 - val_loss: 0.4606 - val_accuracy: 0.8430\n",
            "Epoch 5/10\n",
            " 832/1000 [=======================>......] - ETA: 0s - loss: 0.1560 - accuracy: 0.9663\n",
            "Epoch 00005: saving model to training/cp.ckpt\n",
            "1000/1000 [==============================] - 0s 320us/sample - loss: 0.1543 - accuracy: 0.9680 - val_loss: 0.4463 - val_accuracy: 0.8500\n",
            "Epoch 6/10\n",
            " 864/1000 [========================>.....] - ETA: 0s - loss: 0.1146 - accuracy: 0.9769\n",
            "Epoch 00006: saving model to training/cp.ckpt\n",
            "1000/1000 [==============================] - 0s 309us/sample - loss: 0.1229 - accuracy: 0.9750 - val_loss: 0.4473 - val_accuracy: 0.8550\n",
            "Epoch 7/10\n",
            " 928/1000 [==========================>...] - ETA: 0s - loss: 0.0987 - accuracy: 0.9784\n",
            "Epoch 00007: saving model to training/cp.ckpt\n",
            "1000/1000 [==============================] - 0s 304us/sample - loss: 0.0974 - accuracy: 0.9800 - val_loss: 0.4324 - val_accuracy: 0.8560\n",
            "Epoch 8/10\n",
            " 896/1000 [=========================>....] - ETA: 0s - loss: 0.0663 - accuracy: 0.9922\n",
            "Epoch 00008: saving model to training/cp.ckpt\n",
            "1000/1000 [==============================] - 0s 299us/sample - loss: 0.0694 - accuracy: 0.9890 - val_loss: 0.4097 - val_accuracy: 0.8690\n",
            "Epoch 9/10\n",
            " 992/1000 [============================>.] - ETA: 0s - loss: 0.0514 - accuracy: 0.9970\n",
            "Epoch 00009: saving model to training/cp.ckpt\n",
            "1000/1000 [==============================] - 0s 298us/sample - loss: 0.0512 - accuracy: 0.9970 - val_loss: 0.4307 - val_accuracy: 0.8550\n",
            "Epoch 10/10\n",
            " 928/1000 [==========================>...] - ETA: 0s - loss: 0.0449 - accuracy: 0.9957\n",
            "Epoch 00010: saving model to training/cp.ckpt\n",
            "1000/1000 [==============================] - 0s 310us/sample - loss: 0.0457 - accuracy: 0.9960 - val_loss: 0.4387 - val_accuracy: 0.8660\n"
          ],
          "name": "stdout"
        },
        {
          "output_type": "execute_result",
          "data": {
            "text/plain": [
              "<tensorflow.python.keras.callbacks.History at 0x7efcc93ad908>"
            ]
          },
          "metadata": {
            "tags": []
          },
          "execution_count": 15
        }
      ]
    },
    {
      "cell_type": "code",
      "metadata": {
        "id": "6BUsATRjBKnY",
        "colab": {
          "base_uri": "https://localhost:8080/",
          "height": 85
        },
        "outputId": "d3449710-f58e-4f56-cec2-783b750428d4"
      },
      "source": [
        "ls -l {checkpoint_dir}"
      ],
      "execution_count": null,
      "outputs": [
        {
          "output_type": "stream",
          "text": [
            "total 4784\n",
            "-rw-r--r-- 1 root root      71 Nov  9 21:40 checkpoint\n",
            "-rw-r--r-- 1 root root 4886700 Nov  9 21:40 cp.ckpt.data-00000-of-00001\n",
            "-rw-r--r-- 1 root root    1222 Nov  9 21:40 cp.ckpt.index\n"
          ],
          "name": "stdout"
        }
      ]
    },
    {
      "cell_type": "markdown",
      "metadata": {
        "id": "_NnhVksfB-7r"
      },
      "source": [
        "### <a name='a4'> </a> 5. Załadowanie wag do modelu"
      ]
    },
    {
      "cell_type": "code",
      "metadata": {
        "id": "VGogndNiBnpf",
        "colab": {
          "base_uri": "https://localhost:8080/",
          "height": 51
        },
        "outputId": "19191a5c-9e42-4810-a364-72c8082c3d82"
      },
      "source": [
        "model = create_model()\n",
        "\n",
        "loss, acc = model.evaluate(test_images, test_labels, verbose=2)\n",
        "print(acc)"
      ],
      "execution_count": null,
      "outputs": [
        {
          "output_type": "stream",
          "text": [
            "1000/1 - 0s - loss: 2.4806 - accuracy: 0.1500\n",
            "0.15\n"
          ],
          "name": "stdout"
        }
      ]
    },
    {
      "cell_type": "code",
      "metadata": {
        "id": "3zGt9VvDCMfF",
        "colab": {
          "base_uri": "https://localhost:8080/",
          "height": 51
        },
        "outputId": "58233c0a-ba6b-43a9-8aa6-3459cc8b2cff"
      },
      "source": [
        "model.load_weights(checkpoint_path)\n",
        "\n",
        "loss, acc = model.evaluate(test_images, test_labels, verbose=2)\n",
        "print(acc)"
      ],
      "execution_count": null,
      "outputs": [
        {
          "output_type": "stream",
          "text": [
            "1000/1 - 0s - loss: 0.5106 - accuracy: 0.8660\n",
            "0.866\n"
          ],
          "name": "stdout"
        }
      ]
    },
    {
      "cell_type": "markdown",
      "metadata": {
        "id": "mYNgLmH1D05K"
      },
      "source": [
        "### <a name='a5'> </a> 6. Dodatkowe opcje"
      ]
    },
    {
      "cell_type": "code",
      "metadata": {
        "id": "YNxS9XAPHmfj"
      },
      "source": [
        "!rm -rf ./training"
      ],
      "execution_count": null,
      "outputs": []
    },
    {
      "cell_type": "code",
      "metadata": {
        "id": "a6UE41gQCu6f",
        "colab": {
          "base_uri": "https://localhost:8080/",
          "height": 391
        },
        "outputId": "8df0ebe5-3cdd-4679-eac2-989ccc7c85f7"
      },
      "source": [
        "checkpoint_path = 'training/cp-{epoch:04d}.ckpt'\n",
        "checkpoint_dir = os.path.dirname(checkpoint_path)\n",
        "\n",
        "cp_callback = ModelCheckpoint(filepath=checkpoint_path,\n",
        "                              save_weights_only=True,\n",
        "                              period=5,\n",
        "                              verbose=1)\n",
        "\n",
        "model = create_model()\n",
        "model.save_weights(checkpoint_path.format(epoch=0))\n",
        "\n",
        "model.fit(train_images, train_labels, epochs=50, validation_data=(test_images, test_labels), callbacks=[cp_callback], verbose=0)"
      ],
      "execution_count": null,
      "outputs": [
        {
          "output_type": "stream",
          "text": [
            "WARNING:tensorflow:`period` argument is deprecated. Please use `save_freq` to specify the frequency in number of samples seen.\n",
            "\n",
            "Epoch 00005: saving model to training/cp-0005.ckpt\n",
            "\n",
            "Epoch 00010: saving model to training/cp-0010.ckpt\n",
            "\n",
            "Epoch 00015: saving model to training/cp-0015.ckpt\n",
            "\n",
            "Epoch 00020: saving model to training/cp-0020.ckpt\n",
            "\n",
            "Epoch 00025: saving model to training/cp-0025.ckpt\n",
            "\n",
            "Epoch 00030: saving model to training/cp-0030.ckpt\n",
            "\n",
            "Epoch 00035: saving model to training/cp-0035.ckpt\n",
            "\n",
            "Epoch 00040: saving model to training/cp-0040.ckpt\n",
            "\n",
            "Epoch 00045: saving model to training/cp-0045.ckpt\n",
            "\n",
            "Epoch 00050: saving model to training/cp-0050.ckpt\n"
          ],
          "name": "stdout"
        },
        {
          "output_type": "execute_result",
          "data": {
            "text/plain": [
              "<tensorflow.python.keras.callbacks.History at 0x7efcc76c3b38>"
            ]
          },
          "metadata": {
            "tags": []
          },
          "execution_count": 20
        }
      ]
    },
    {
      "cell_type": "code",
      "metadata": {
        "id": "3-AHX5juEcY9",
        "colab": {
          "base_uri": "https://localhost:8080/",
          "height": 425
        },
        "outputId": "024cb563-3049-4bec-b990-e1b0300256e7"
      },
      "source": [
        "!ls -l ./training"
      ],
      "execution_count": null,
      "outputs": [
        {
          "output_type": "stream",
          "text": [
            "total 49400\n",
            "-rw-r--r-- 1 root root      81 Nov  9 21:43 checkpoint\n",
            "-rw-r--r-- 1 root root 1628741 Nov  9 21:42 cp-0000.ckpt.data-00000-of-00001\n",
            "-rw-r--r-- 1 root root     402 Nov  9 21:42 cp-0000.ckpt.index\n",
            "-rw-r--r-- 1 root root 4886700 Nov  9 21:42 cp-0005.ckpt.data-00000-of-00001\n",
            "-rw-r--r-- 1 root root    1222 Nov  9 21:42 cp-0005.ckpt.index\n",
            "-rw-r--r-- 1 root root 4886700 Nov  9 21:43 cp-0010.ckpt.data-00000-of-00001\n",
            "-rw-r--r-- 1 root root    1222 Nov  9 21:43 cp-0010.ckpt.index\n",
            "-rw-r--r-- 1 root root 4886700 Nov  9 21:43 cp-0015.ckpt.data-00000-of-00001\n",
            "-rw-r--r-- 1 root root    1222 Nov  9 21:43 cp-0015.ckpt.index\n",
            "-rw-r--r-- 1 root root 4886700 Nov  9 21:43 cp-0020.ckpt.data-00000-of-00001\n",
            "-rw-r--r-- 1 root root    1222 Nov  9 21:43 cp-0020.ckpt.index\n",
            "-rw-r--r-- 1 root root 4886700 Nov  9 21:43 cp-0025.ckpt.data-00000-of-00001\n",
            "-rw-r--r-- 1 root root    1222 Nov  9 21:43 cp-0025.ckpt.index\n",
            "-rw-r--r-- 1 root root 4886700 Nov  9 21:43 cp-0030.ckpt.data-00000-of-00001\n",
            "-rw-r--r-- 1 root root    1222 Nov  9 21:43 cp-0030.ckpt.index\n",
            "-rw-r--r-- 1 root root 4886700 Nov  9 21:43 cp-0035.ckpt.data-00000-of-00001\n",
            "-rw-r--r-- 1 root root    1222 Nov  9 21:43 cp-0035.ckpt.index\n",
            "-rw-r--r-- 1 root root 4886700 Nov  9 21:43 cp-0040.ckpt.data-00000-of-00001\n",
            "-rw-r--r-- 1 root root    1222 Nov  9 21:43 cp-0040.ckpt.index\n",
            "-rw-r--r-- 1 root root 4886700 Nov  9 21:43 cp-0045.ckpt.data-00000-of-00001\n",
            "-rw-r--r-- 1 root root    1222 Nov  9 21:43 cp-0045.ckpt.index\n",
            "-rw-r--r-- 1 root root 4886700 Nov  9 21:43 cp-0050.ckpt.data-00000-of-00001\n",
            "-rw-r--r-- 1 root root    1222 Nov  9 21:43 cp-0050.ckpt.index\n"
          ],
          "name": "stdout"
        }
      ]
    },
    {
      "cell_type": "code",
      "metadata": {
        "id": "509374ChEqfh",
        "colab": {
          "base_uri": "https://localhost:8080/",
          "height": 34
        },
        "outputId": "1cbb6047-48e3-41f9-e19b-de197325199b"
      },
      "source": [
        "import tensorflow as tf\n",
        "\n",
        "latest = tf.train.latest_checkpoint(checkpoint_dir)\n",
        "latest"
      ],
      "execution_count": null,
      "outputs": [
        {
          "output_type": "execute_result",
          "data": {
            "text/plain": [
              "'training/cp-0050.ckpt'"
            ]
          },
          "metadata": {
            "tags": []
          },
          "execution_count": 22
        }
      ]
    },
    {
      "cell_type": "code",
      "metadata": {
        "id": "97MrbQqJFp2s",
        "colab": {
          "base_uri": "https://localhost:8080/",
          "height": 51
        },
        "outputId": "31d6a5f6-d8ab-4e9a-d13a-bd2ece827618"
      },
      "source": [
        "model = create_model()\n",
        "model.load_weights(latest)\n",
        "\n",
        "loss, acc = model.evaluate(test_images, test_labels, verbose=2)\n",
        "print(acc)"
      ],
      "execution_count": null,
      "outputs": [
        {
          "output_type": "stream",
          "text": [
            "1000/1 - 0s - loss: 0.5142 - accuracy: 0.8790\n",
            "0.879\n"
          ],
          "name": "stdout"
        }
      ]
    },
    {
      "cell_type": "markdown",
      "metadata": {
        "id": "mz-fWfcgGKGo"
      },
      "source": [
        "### <a name='a6'> </a> 7. Ręczne zapisywanie wag"
      ]
    },
    {
      "cell_type": "code",
      "metadata": {
        "id": "MKC-tEIHF40H",
        "colab": {
          "base_uri": "https://localhost:8080/",
          "height": 173
        },
        "outputId": "560bfbf7-de7f-4a85-bf3d-47c7a596689a"
      },
      "source": [
        "model.save_weights('./checkpoints/my_checkpoint')\n",
        "\n",
        "model = create_model()\n",
        "\n",
        "model.load_weights('./checkpoints/my_checkpoint')\n",
        "\n",
        "loss, acc = model.evaluate(test_images, test_labels, verbose=2)\n",
        "print(acc)"
      ],
      "execution_count": null,
      "outputs": [
        {
          "output_type": "stream",
          "text": [
            "WARNING:tensorflow:Unresolved object in checkpoint: (root).optimizer.iter\n",
            "WARNING:tensorflow:Unresolved object in checkpoint: (root).optimizer.beta_1\n",
            "WARNING:tensorflow:Unresolved object in checkpoint: (root).optimizer.beta_2\n",
            "WARNING:tensorflow:Unresolved object in checkpoint: (root).optimizer.decay\n",
            "WARNING:tensorflow:Unresolved object in checkpoint: (root).optimizer.learning_rate\n",
            "WARNING:tensorflow:A checkpoint was restored (e.g. tf.train.Checkpoint.restore or tf.keras.Model.load_weights) but not all checkpointed values were used. See above for specific issues. Use expect_partial() on the load status object, e.g. tf.train.Checkpoint.restore(...).expect_partial(), to silence these warnings, or use assert_consumed() to make the check explicit. See https://www.tensorflow.org/alpha/guide/checkpoints#loading_mechanics for details.\n",
            "1000/1 - 0s - loss: 0.5142 - accuracy: 0.8790\n",
            "0.879\n"
          ],
          "name": "stdout"
        }
      ]
    },
    {
      "cell_type": "code",
      "metadata": {
        "id": "IAD7o2W3GjHm",
        "colab": {
          "base_uri": "https://localhost:8080/",
          "height": 85
        },
        "outputId": "e8ed6aea-3ebc-4e22-fac1-f6c92ac5aa69"
      },
      "source": [
        "!ls -l checkpoints/"
      ],
      "execution_count": null,
      "outputs": [
        {
          "output_type": "stream",
          "text": [
            "total 4780\n",
            "-rw-r--r-- 1 root root      83 Nov  9 21:44 checkpoint\n",
            "-rw-r--r-- 1 root root 4886173 Nov  9 21:44 my_checkpoint.data-00000-of-00001\n",
            "-rw-r--r-- 1 root root     944 Nov  9 21:44 my_checkpoint.index\n"
          ],
          "name": "stdout"
        }
      ]
    },
    {
      "cell_type": "markdown",
      "metadata": {
        "id": "ZXqSRptdG2ba"
      },
      "source": [
        "### <a name='a7'> </a> 8. Zapisanie całego modelu"
      ]
    },
    {
      "cell_type": "code",
      "metadata": {
        "id": "uUAb5awSGrlF",
        "colab": {
          "base_uri": "https://localhost:8080/"
        },
        "outputId": "edef9e4b-2bd1-40a0-afb1-aadb3dcb6e5d"
      },
      "source": [
        "model.fit(train_images, train_labels, epochs=5)"
      ],
      "execution_count": 10,
      "outputs": [
        {
          "output_type": "stream",
          "text": [
            "Epoch 1/5\n",
            "32/32 [==============================] - 1s 4ms/step - loss: 2.2964 - accuracy: 0.1549\n",
            "Epoch 2/5\n",
            "32/32 [==============================] - 0s 4ms/step - loss: 2.2625 - accuracy: 0.4263\n",
            "Epoch 3/5\n",
            "32/32 [==============================] - 0s 4ms/step - loss: 2.2105 - accuracy: 0.5326\n",
            "Epoch 4/5\n",
            "32/32 [==============================] - 0s 4ms/step - loss: 2.1231 - accuracy: 0.5305\n",
            "Epoch 5/5\n",
            "32/32 [==============================] - 0s 4ms/step - loss: 2.0148 - accuracy: 0.5225\n"
          ],
          "name": "stdout"
        },
        {
          "output_type": "execute_result",
          "data": {
            "text/plain": [
              "<tensorflow.python.keras.callbacks.History at 0x7f2e56551438>"
            ]
          },
          "metadata": {
            "tags": []
          },
          "execution_count": 10
        }
      ]
    },
    {
      "cell_type": "code",
      "metadata": {
        "id": "Lbt_9w_VSk9U"
      },
      "source": [
        "# nazwa modelu z rozszerzeniem h5\r\n",
        "model.save('my_model.h5')"
      ],
      "execution_count": 11,
      "outputs": []
    },
    {
      "cell_type": "code",
      "metadata": {
        "id": "WCUeP6g0HAL4",
        "colab": {
          "base_uri": "https://localhost:8080/"
        },
        "outputId": "88a6fc65-3d3f-441b-b28f-6c3267eb6ca8"
      },
      "source": [
        "from tensorflow.keras.models import load_model\n",
        "\n",
        "# z powrotem załaduje model z pliku\n",
        "\n",
        "# ścieżka dostępu do wag przypisana do new_model\n",
        "new_model = load_model('my_model.h5')\n",
        "new_model.summary()"
      ],
      "execution_count": 12,
      "outputs": [
        {
          "output_type": "stream",
          "text": [
            "Model: \"sequential\"\n",
            "_________________________________________________________________\n",
            "Layer (type)                 Output Shape              Param #   \n",
            "=================================================================\n",
            "dense (Dense)                (None, 512)               401920    \n",
            "_________________________________________________________________\n",
            "dropout (Dropout)            (None, 512)               0         \n",
            "_________________________________________________________________\n",
            "dense_1 (Dense)              (None, 10)                5130      \n",
            "=================================================================\n",
            "Total params: 407,050\n",
            "Trainable params: 407,050\n",
            "Non-trainable params: 0\n",
            "_________________________________________________________________\n"
          ],
          "name": "stdout"
        }
      ]
    },
    {
      "cell_type": "code",
      "metadata": {
        "id": "jYpSl2VBHhvw",
        "colab": {
          "base_uri": "https://localhost:8080/"
        },
        "outputId": "79686add-f579-493d-f30b-73609228dc05"
      },
      "source": [
        "loss, acc = new_model.evaluate(test_images, test_labels, verbose=2)\n",
        "# to accuracy na zbiorze testowym wytrenowanego wcześniej modelu\n",
        "print(acc)"
      ],
      "execution_count": 13,
      "outputs": [
        {
          "output_type": "stream",
          "text": [
            "32/32 - 0s - loss: 1.9686 - accuracy: 0.5310\n",
            "0.531000018119812\n"
          ],
          "name": "stdout"
        }
      ]
    }
  ]
}