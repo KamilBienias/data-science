{
  "nbformat": 4,
  "nbformat_minor": 0,
  "metadata": {
    "colab": {
      "name": "03_classification.ipynb",
      "provenance": [],
      "collapsed_sections": [],
      "authorship_tag": "ABX9TyN1sbulnOy07LUiry/h1B1a",
      "include_colab_link": true
    },
    "kernelspec": {
      "display_name": "Python 3",
      "name": "python3"
    }
  },
  "cells": [
    {
      "cell_type": "markdown",
      "metadata": {
        "id": "view-in-github",
        "colab_type": "text"
      },
      "source": [
        "<a href=\"https://colab.research.google.com/github/KamilBienias/data-science/blob/main/bookAurelienGeron/03_classification.ipynb\" target=\"_parent\"><img src=\"https://colab.research.google.com/assets/colab-badge.svg\" alt=\"Open In Colab\"/></a>"
      ]
    },
    {
      "cell_type": "markdown",
      "metadata": {
        "id": "bScHmpiOMm4l"
      },
      "source": [
        "# **Setup**"
      ]
    },
    {
      "cell_type": "code",
      "metadata": {
        "id": "X9V0Tc0oMgWD"
      },
      "source": [
        "# https://github.com/ageron/handson-ml2/blob/master/03_classification.ipynb\n",
        "\n",
        "# Python ≥3.5 is required\n",
        "import sys\n",
        "assert sys.version_info >= (3, 5)\n",
        "\n",
        "# Scikit-Learn ≥0.20 is required\n",
        "import sklearn\n",
        "assert sklearn.__version__ >= \"0.20\"\n",
        "\n",
        "# Common imports\n",
        "import numpy as np\n",
        "import os\n",
        "\n",
        "# to make this notebook's output stable across runs\n",
        "np.random.seed(42)\n",
        "\n",
        "# To plot pretty figures\n",
        "%matplotlib inline\n",
        "import matplotlib as mpl\n",
        "import matplotlib.pyplot as plt\n",
        "mpl.rc('axes', labelsize=14)\n",
        "mpl.rc('xtick', labelsize=12)\n",
        "mpl.rc('ytick', labelsize=12)\n",
        "\n",
        "# Where to save the figures\n",
        "PROJECT_ROOT_DIR = \".\"\n",
        "CHAPTER_ID = \"classification\"\n",
        "IMAGES_PATH = os.path.join(PROJECT_ROOT_DIR, \"images\", CHAPTER_ID)\n",
        "os.makedirs(IMAGES_PATH, exist_ok=True)\n",
        "\n",
        "def save_fig(fig_id, tight_layout=True, fig_extension=\"png\", resolution=300):\n",
        "    path = os.path.join(IMAGES_PATH, fig_id + \".\" + fig_extension)\n",
        "    print(\"Saving figure\", fig_id)\n",
        "    if tight_layout:\n",
        "        plt.tight_layout()\n",
        "    plt.savefig(path, format=fig_extension, dpi=resolution)"
      ],
      "execution_count": null,
      "outputs": []
    },
    {
      "cell_type": "markdown",
      "metadata": {
        "id": "5sPuTJpmNCqk"
      },
      "source": [
        "# **Zbiór danych MNIST**"
      ]
    },
    {
      "cell_type": "code",
      "metadata": {
        "colab": {
          "base_uri": "https://localhost:8080/"
        },
        "id": "4kyQJo3INFq1",
        "outputId": "a83603c1-6ecd-467a-d42d-57f6d48db462"
      },
      "source": [
        "print(\"Imoportuję zbiór danych MNIST\")\n",
        "from sklearn.datasets import fetch_openml\n",
        "mnist = fetch_openml('mnist_784', version=1)\n",
        "print(\"Wyświetlam klucze\")\n",
        "mnist.keys()"
      ],
      "execution_count": null,
      "outputs": [
        {
          "output_type": "stream",
          "text": [
            "Imoportuję zbiór danych MNIST\n",
            "Wyświetlam klucze\n"
          ],
          "name": "stdout"
        },
        {
          "output_type": "execute_result",
          "data": {
            "text/plain": [
              "dict_keys(['data', 'target', 'frame', 'feature_names', 'target_names', 'DESCR', 'details', 'categories', 'url'])"
            ]
          },
          "metadata": {
            "tags": []
          },
          "execution_count": 2
        }
      ]
    },
    {
      "cell_type": "code",
      "metadata": {
        "colab": {
          "base_uri": "https://localhost:8080/"
        },
        "id": "s_mIiMr2NgJs",
        "outputId": "c22d90e6-9698-4589-cdb3-36d06c4782e2"
      },
      "source": [
        "print(\"Sam wyświetlam zawartości kluczy\")\n",
        "print(\"Dane, czyli wiersze zawierające po 784 liczby każda od 0 (biały) do 255 (czarny)\")\n",
        "print(mnist[\"data\"])\n",
        "print(\"\\nTargety, inaczej labele\")\n",
        "print(mnist[\"target\"])\n",
        "print(\"\\nOpis danych\")\n",
        "print(mnist[\"DESCR\"])\n",
        "print(\"\\nNazwy atrybutów\")\n",
        "print(mnist['feature_names'])\n",
        "print(\"\\nNazwy targetów\")\n",
        "print(mnist['target_names'])"
      ],
      "execution_count": null,
      "outputs": [
        {
          "output_type": "stream",
          "text": [
            "Sam wyświetlam zawartości kluczy\n",
            "Dane, czyli wiersze zawierające po 784 liczby każda od 0 (biały) do 255 (czarny)\n",
            "[[0. 0. 0. ... 0. 0. 0.]\n",
            " [0. 0. 0. ... 0. 0. 0.]\n",
            " [0. 0. 0. ... 0. 0. 0.]\n",
            " ...\n",
            " [0. 0. 0. ... 0. 0. 0.]\n",
            " [0. 0. 0. ... 0. 0. 0.]\n",
            " [0. 0. 0. ... 0. 0. 0.]]\n",
            "\n",
            "Targety, inaczej labele\n",
            "['5' '0' '4' ... '4' '5' '6']\n",
            "\n",
            "Opis danych\n",
            "**Author**: Yann LeCun, Corinna Cortes, Christopher J.C. Burges  \n",
            "**Source**: [MNIST Website](http://yann.lecun.com/exdb/mnist/) - Date unknown  \n",
            "**Please cite**:  \n",
            "\n",
            "The MNIST database of handwritten digits with 784 features, raw data available at: http://yann.lecun.com/exdb/mnist/. It can be split in a training set of the first 60,000 examples, and a test set of 10,000 examples  \n",
            "\n",
            "It is a subset of a larger set available from NIST. The digits have been size-normalized and centered in a fixed-size image. It is a good database for people who want to try learning techniques and pattern recognition methods on real-world data while spending minimal efforts on preprocessing and formatting. The original black and white (bilevel) images from NIST were size normalized to fit in a 20x20 pixel box while preserving their aspect ratio. The resulting images contain grey levels as a result of the anti-aliasing technique used by the normalization algorithm. the images were centered in a 28x28 image by computing the center of mass of the pixels, and translating the image so as to position this point at the center of the 28x28 field.  \n",
            "\n",
            "With some classification methods (particularly template-based methods, such as SVM and K-nearest neighbors), the error rate improves when the digits are centered by bounding box rather than center of mass. If you do this kind of pre-processing, you should report it in your publications. The MNIST database was constructed from NIST's NIST originally designated SD-3 as their training set and SD-1 as their test set. However, SD-3 is much cleaner and easier to recognize than SD-1. The reason for this can be found on the fact that SD-3 was collected among Census Bureau employees, while SD-1 was collected among high-school students. Drawing sensible conclusions from learning experiments requires that the result be independent of the choice of training set and test among the complete set of samples. Therefore it was necessary to build a new database by mixing NIST's datasets.  \n",
            "\n",
            "The MNIST training set is composed of 30,000 patterns from SD-3 and 30,000 patterns from SD-1. Our test set was composed of 5,000 patterns from SD-3 and 5,000 patterns from SD-1. The 60,000 pattern training set contained examples from approximately 250 writers. We made sure that the sets of writers of the training set and test set were disjoint. SD-1 contains 58,527 digit images written by 500 different writers. In contrast to SD-3, where blocks of data from each writer appeared in sequence, the data in SD-1 is scrambled. Writer identities for SD-1 is available and we used this information to unscramble the writers. We then split SD-1 in two: characters written by the first 250 writers went into our new training set. The remaining 250 writers were placed in our test set. Thus we had two sets with nearly 30,000 examples each. The new training set was completed with enough examples from SD-3, starting at pattern # 0, to make a full set of 60,000 training patterns. Similarly, the new test set was completed with SD-3 examples starting at pattern # 35,000 to make a full set with 60,000 test patterns. Only a subset of 10,000 test images (5,000 from SD-1 and 5,000 from SD-3) is available on this site. The full 60,000 sample training set is available.\n",
            "\n",
            "Downloaded from openml.org.\n",
            "\n",
            "Nazwy atrybutów\n",
            "['pixel1', 'pixel2', 'pixel3', 'pixel4', 'pixel5', 'pixel6', 'pixel7', 'pixel8', 'pixel9', 'pixel10', 'pixel11', 'pixel12', 'pixel13', 'pixel14', 'pixel15', 'pixel16', 'pixel17', 'pixel18', 'pixel19', 'pixel20', 'pixel21', 'pixel22', 'pixel23', 'pixel24', 'pixel25', 'pixel26', 'pixel27', 'pixel28', 'pixel29', 'pixel30', 'pixel31', 'pixel32', 'pixel33', 'pixel34', 'pixel35', 'pixel36', 'pixel37', 'pixel38', 'pixel39', 'pixel40', 'pixel41', 'pixel42', 'pixel43', 'pixel44', 'pixel45', 'pixel46', 'pixel47', 'pixel48', 'pixel49', 'pixel50', 'pixel51', 'pixel52', 'pixel53', 'pixel54', 'pixel55', 'pixel56', 'pixel57', 'pixel58', 'pixel59', 'pixel60', 'pixel61', 'pixel62', 'pixel63', 'pixel64', 'pixel65', 'pixel66', 'pixel67', 'pixel68', 'pixel69', 'pixel70', 'pixel71', 'pixel72', 'pixel73', 'pixel74', 'pixel75', 'pixel76', 'pixel77', 'pixel78', 'pixel79', 'pixel80', 'pixel81', 'pixel82', 'pixel83', 'pixel84', 'pixel85', 'pixel86', 'pixel87', 'pixel88', 'pixel89', 'pixel90', 'pixel91', 'pixel92', 'pixel93', 'pixel94', 'pixel95', 'pixel96', 'pixel97', 'pixel98', 'pixel99', 'pixel100', 'pixel101', 'pixel102', 'pixel103', 'pixel104', 'pixel105', 'pixel106', 'pixel107', 'pixel108', 'pixel109', 'pixel110', 'pixel111', 'pixel112', 'pixel113', 'pixel114', 'pixel115', 'pixel116', 'pixel117', 'pixel118', 'pixel119', 'pixel120', 'pixel121', 'pixel122', 'pixel123', 'pixel124', 'pixel125', 'pixel126', 'pixel127', 'pixel128', 'pixel129', 'pixel130', 'pixel131', 'pixel132', 'pixel133', 'pixel134', 'pixel135', 'pixel136', 'pixel137', 'pixel138', 'pixel139', 'pixel140', 'pixel141', 'pixel142', 'pixel143', 'pixel144', 'pixel145', 'pixel146', 'pixel147', 'pixel148', 'pixel149', 'pixel150', 'pixel151', 'pixel152', 'pixel153', 'pixel154', 'pixel155', 'pixel156', 'pixel157', 'pixel158', 'pixel159', 'pixel160', 'pixel161', 'pixel162', 'pixel163', 'pixel164', 'pixel165', 'pixel166', 'pixel167', 'pixel168', 'pixel169', 'pixel170', 'pixel171', 'pixel172', 'pixel173', 'pixel174', 'pixel175', 'pixel176', 'pixel177', 'pixel178', 'pixel179', 'pixel180', 'pixel181', 'pixel182', 'pixel183', 'pixel184', 'pixel185', 'pixel186', 'pixel187', 'pixel188', 'pixel189', 'pixel190', 'pixel191', 'pixel192', 'pixel193', 'pixel194', 'pixel195', 'pixel196', 'pixel197', 'pixel198', 'pixel199', 'pixel200', 'pixel201', 'pixel202', 'pixel203', 'pixel204', 'pixel205', 'pixel206', 'pixel207', 'pixel208', 'pixel209', 'pixel210', 'pixel211', 'pixel212', 'pixel213', 'pixel214', 'pixel215', 'pixel216', 'pixel217', 'pixel218', 'pixel219', 'pixel220', 'pixel221', 'pixel222', 'pixel223', 'pixel224', 'pixel225', 'pixel226', 'pixel227', 'pixel228', 'pixel229', 'pixel230', 'pixel231', 'pixel232', 'pixel233', 'pixel234', 'pixel235', 'pixel236', 'pixel237', 'pixel238', 'pixel239', 'pixel240', 'pixel241', 'pixel242', 'pixel243', 'pixel244', 'pixel245', 'pixel246', 'pixel247', 'pixel248', 'pixel249', 'pixel250', 'pixel251', 'pixel252', 'pixel253', 'pixel254', 'pixel255', 'pixel256', 'pixel257', 'pixel258', 'pixel259', 'pixel260', 'pixel261', 'pixel262', 'pixel263', 'pixel264', 'pixel265', 'pixel266', 'pixel267', 'pixel268', 'pixel269', 'pixel270', 'pixel271', 'pixel272', 'pixel273', 'pixel274', 'pixel275', 'pixel276', 'pixel277', 'pixel278', 'pixel279', 'pixel280', 'pixel281', 'pixel282', 'pixel283', 'pixel284', 'pixel285', 'pixel286', 'pixel287', 'pixel288', 'pixel289', 'pixel290', 'pixel291', 'pixel292', 'pixel293', 'pixel294', 'pixel295', 'pixel296', 'pixel297', 'pixel298', 'pixel299', 'pixel300', 'pixel301', 'pixel302', 'pixel303', 'pixel304', 'pixel305', 'pixel306', 'pixel307', 'pixel308', 'pixel309', 'pixel310', 'pixel311', 'pixel312', 'pixel313', 'pixel314', 'pixel315', 'pixel316', 'pixel317', 'pixel318', 'pixel319', 'pixel320', 'pixel321', 'pixel322', 'pixel323', 'pixel324', 'pixel325', 'pixel326', 'pixel327', 'pixel328', 'pixel329', 'pixel330', 'pixel331', 'pixel332', 'pixel333', 'pixel334', 'pixel335', 'pixel336', 'pixel337', 'pixel338', 'pixel339', 'pixel340', 'pixel341', 'pixel342', 'pixel343', 'pixel344', 'pixel345', 'pixel346', 'pixel347', 'pixel348', 'pixel349', 'pixel350', 'pixel351', 'pixel352', 'pixel353', 'pixel354', 'pixel355', 'pixel356', 'pixel357', 'pixel358', 'pixel359', 'pixel360', 'pixel361', 'pixel362', 'pixel363', 'pixel364', 'pixel365', 'pixel366', 'pixel367', 'pixel368', 'pixel369', 'pixel370', 'pixel371', 'pixel372', 'pixel373', 'pixel374', 'pixel375', 'pixel376', 'pixel377', 'pixel378', 'pixel379', 'pixel380', 'pixel381', 'pixel382', 'pixel383', 'pixel384', 'pixel385', 'pixel386', 'pixel387', 'pixel388', 'pixel389', 'pixel390', 'pixel391', 'pixel392', 'pixel393', 'pixel394', 'pixel395', 'pixel396', 'pixel397', 'pixel398', 'pixel399', 'pixel400', 'pixel401', 'pixel402', 'pixel403', 'pixel404', 'pixel405', 'pixel406', 'pixel407', 'pixel408', 'pixel409', 'pixel410', 'pixel411', 'pixel412', 'pixel413', 'pixel414', 'pixel415', 'pixel416', 'pixel417', 'pixel418', 'pixel419', 'pixel420', 'pixel421', 'pixel422', 'pixel423', 'pixel424', 'pixel425', 'pixel426', 'pixel427', 'pixel428', 'pixel429', 'pixel430', 'pixel431', 'pixel432', 'pixel433', 'pixel434', 'pixel435', 'pixel436', 'pixel437', 'pixel438', 'pixel439', 'pixel440', 'pixel441', 'pixel442', 'pixel443', 'pixel444', 'pixel445', 'pixel446', 'pixel447', 'pixel448', 'pixel449', 'pixel450', 'pixel451', 'pixel452', 'pixel453', 'pixel454', 'pixel455', 'pixel456', 'pixel457', 'pixel458', 'pixel459', 'pixel460', 'pixel461', 'pixel462', 'pixel463', 'pixel464', 'pixel465', 'pixel466', 'pixel467', 'pixel468', 'pixel469', 'pixel470', 'pixel471', 'pixel472', 'pixel473', 'pixel474', 'pixel475', 'pixel476', 'pixel477', 'pixel478', 'pixel479', 'pixel480', 'pixel481', 'pixel482', 'pixel483', 'pixel484', 'pixel485', 'pixel486', 'pixel487', 'pixel488', 'pixel489', 'pixel490', 'pixel491', 'pixel492', 'pixel493', 'pixel494', 'pixel495', 'pixel496', 'pixel497', 'pixel498', 'pixel499', 'pixel500', 'pixel501', 'pixel502', 'pixel503', 'pixel504', 'pixel505', 'pixel506', 'pixel507', 'pixel508', 'pixel509', 'pixel510', 'pixel511', 'pixel512', 'pixel513', 'pixel514', 'pixel515', 'pixel516', 'pixel517', 'pixel518', 'pixel519', 'pixel520', 'pixel521', 'pixel522', 'pixel523', 'pixel524', 'pixel525', 'pixel526', 'pixel527', 'pixel528', 'pixel529', 'pixel530', 'pixel531', 'pixel532', 'pixel533', 'pixel534', 'pixel535', 'pixel536', 'pixel537', 'pixel538', 'pixel539', 'pixel540', 'pixel541', 'pixel542', 'pixel543', 'pixel544', 'pixel545', 'pixel546', 'pixel547', 'pixel548', 'pixel549', 'pixel550', 'pixel551', 'pixel552', 'pixel553', 'pixel554', 'pixel555', 'pixel556', 'pixel557', 'pixel558', 'pixel559', 'pixel560', 'pixel561', 'pixel562', 'pixel563', 'pixel564', 'pixel565', 'pixel566', 'pixel567', 'pixel568', 'pixel569', 'pixel570', 'pixel571', 'pixel572', 'pixel573', 'pixel574', 'pixel575', 'pixel576', 'pixel577', 'pixel578', 'pixel579', 'pixel580', 'pixel581', 'pixel582', 'pixel583', 'pixel584', 'pixel585', 'pixel586', 'pixel587', 'pixel588', 'pixel589', 'pixel590', 'pixel591', 'pixel592', 'pixel593', 'pixel594', 'pixel595', 'pixel596', 'pixel597', 'pixel598', 'pixel599', 'pixel600', 'pixel601', 'pixel602', 'pixel603', 'pixel604', 'pixel605', 'pixel606', 'pixel607', 'pixel608', 'pixel609', 'pixel610', 'pixel611', 'pixel612', 'pixel613', 'pixel614', 'pixel615', 'pixel616', 'pixel617', 'pixel618', 'pixel619', 'pixel620', 'pixel621', 'pixel622', 'pixel623', 'pixel624', 'pixel625', 'pixel626', 'pixel627', 'pixel628', 'pixel629', 'pixel630', 'pixel631', 'pixel632', 'pixel633', 'pixel634', 'pixel635', 'pixel636', 'pixel637', 'pixel638', 'pixel639', 'pixel640', 'pixel641', 'pixel642', 'pixel643', 'pixel644', 'pixel645', 'pixel646', 'pixel647', 'pixel648', 'pixel649', 'pixel650', 'pixel651', 'pixel652', 'pixel653', 'pixel654', 'pixel655', 'pixel656', 'pixel657', 'pixel658', 'pixel659', 'pixel660', 'pixel661', 'pixel662', 'pixel663', 'pixel664', 'pixel665', 'pixel666', 'pixel667', 'pixel668', 'pixel669', 'pixel670', 'pixel671', 'pixel672', 'pixel673', 'pixel674', 'pixel675', 'pixel676', 'pixel677', 'pixel678', 'pixel679', 'pixel680', 'pixel681', 'pixel682', 'pixel683', 'pixel684', 'pixel685', 'pixel686', 'pixel687', 'pixel688', 'pixel689', 'pixel690', 'pixel691', 'pixel692', 'pixel693', 'pixel694', 'pixel695', 'pixel696', 'pixel697', 'pixel698', 'pixel699', 'pixel700', 'pixel701', 'pixel702', 'pixel703', 'pixel704', 'pixel705', 'pixel706', 'pixel707', 'pixel708', 'pixel709', 'pixel710', 'pixel711', 'pixel712', 'pixel713', 'pixel714', 'pixel715', 'pixel716', 'pixel717', 'pixel718', 'pixel719', 'pixel720', 'pixel721', 'pixel722', 'pixel723', 'pixel724', 'pixel725', 'pixel726', 'pixel727', 'pixel728', 'pixel729', 'pixel730', 'pixel731', 'pixel732', 'pixel733', 'pixel734', 'pixel735', 'pixel736', 'pixel737', 'pixel738', 'pixel739', 'pixel740', 'pixel741', 'pixel742', 'pixel743', 'pixel744', 'pixel745', 'pixel746', 'pixel747', 'pixel748', 'pixel749', 'pixel750', 'pixel751', 'pixel752', 'pixel753', 'pixel754', 'pixel755', 'pixel756', 'pixel757', 'pixel758', 'pixel759', 'pixel760', 'pixel761', 'pixel762', 'pixel763', 'pixel764', 'pixel765', 'pixel766', 'pixel767', 'pixel768', 'pixel769', 'pixel770', 'pixel771', 'pixel772', 'pixel773', 'pixel774', 'pixel775', 'pixel776', 'pixel777', 'pixel778', 'pixel779', 'pixel780', 'pixel781', 'pixel782', 'pixel783', 'pixel784']\n",
            "\n",
            "Nazwy targetów\n",
            "['class']\n"
          ],
          "name": "stdout"
        }
      ]
    },
    {
      "cell_type": "code",
      "metadata": {
        "colab": {
          "base_uri": "https://localhost:8080/"
        },
        "id": "JJ1ksijGYvXi",
        "outputId": "a8936bdb-55f9-4fc4-8021-06763e8fd4a1"
      },
      "source": [
        "print(\"Przypisuję dane i targety do zmiennych X i y\")\n",
        "X, y = mnist[\"data\"], mnist[\"target\"]\n",
        "print(\"Rozmiar X:\", X.shape)\n",
        "print(\"Typ X:\", type(X))\n",
        "print(\"Rozmiar y:\", y.shape)\n",
        "print(\"Typ y:\", type(y))"
      ],
      "execution_count": null,
      "outputs": [
        {
          "output_type": "stream",
          "text": [
            "Przypisuję dane i targety do zmiennych X i y\n",
            "Rozmiar X: (70000, 784)\n",
            "Typ X: <class 'numpy.ndarray'>\n",
            "Rozmiar y: (70000,)\n",
            "Typ y: <class 'numpy.ndarray'>\n"
          ],
          "name": "stdout"
        }
      ]
    },
    {
      "cell_type": "code",
      "metadata": {
        "colab": {
          "base_uri": "https://localhost:8080/",
          "height": 332
        },
        "id": "sp766w4f5PUz",
        "outputId": "0d1f3a55-5e7c-481d-831b-dd3493bba2da"
      },
      "source": [
        "print(\"Zamiana pierwszego wiersza na obrazek\")\n",
        "%matplotlib inline\n",
        "import matplotlib as mpl\n",
        "import matplotlib.pyplot as plt\n",
        "\n",
        "some_digit = X[0]  # przykładowa liczba (akurat pierwsza w zbiorze)\n",
        "some_digit_image = some_digit.reshape(28, 28)\n",
        "plt.imshow(some_digit_image, cmap=mpl.cm.binary)\n",
        "plt.axis(\"off\") # wyłącza osie\n",
        "\n",
        "save_fig(\"some_digit_plot\")\n",
        "plt.show()"
      ],
      "execution_count": null,
      "outputs": [
        {
          "output_type": "stream",
          "text": [
            "Zamiana pierwszego wiersza na obrazek\n",
            "Saving figure some_digit_plot\n"
          ],
          "name": "stdout"
        },
        {
          "output_type": "display_data",
          "data": {
            "image/png": "[encoded data removed]",
            "text/plain": [
              "<Figure size 432x288 with 1 Axes>"
            ]
          },
          "metadata": {
            "tags": []
          }
        }
      ]
    },
    {
      "cell_type": "code",
      "metadata": {
        "colab": {
          "base_uri": "https://localhost:8080/"
        },
        "id": "V_x8BQcY5b2a",
        "outputId": "a57bc55f-8921-4bae-bab0-6a64a9791813"
      },
      "source": [
        "print(\"Wyświetlenie targetu (etykiety), która jest stringiem\")\n",
        "print(y[0])\n",
        "print(type(y[0]))"
      ],
      "execution_count": null,
      "outputs": [
        {
          "output_type": "stream",
          "text": [
            "Wyświetlenie targetu (etykiety), która jest stringiem\n",
            "5\n",
            "<class 'str'>\n"
          ],
          "name": "stdout"
        }
      ]
    },
    {
      "cell_type": "code",
      "metadata": {
        "colab": {
          "base_uri": "https://localhost:8080/"
        },
        "id": "APoecVOn5tXi",
        "outputId": "bddbacfb-913b-4ae2-b0ec-2c76f5ff0134"
      },
      "source": [
        "print(\"Zamiana kolumny etykiet ze stringów na 8-bitowy int bez znaku, czyli od 0 do 255\")\n",
        "y = y.astype(np.uint8)\n",
        "print(type(y[0]))"
      ],
      "execution_count": null,
      "outputs": [
        {
          "output_type": "stream",
          "text": [
            "Zamiana kolumny etykiet ze stringów na 8-bitowy int bez znaku, czyli od 0 do 255\n",
            "<class 'numpy.uint8'>\n"
          ],
          "name": "stdout"
        }
      ]
    },
    {
      "cell_type": "code",
      "metadata": {
        "colab": {
          "base_uri": "https://localhost:8080/"
        },
        "id": "I_275zzH59y7",
        "outputId": "21af1ebb-1e98-491e-d1b0-91b6ca560ed3"
      },
      "source": [
        "# https://github.com/ageron/handson-ml2/blob/master/03_classification.ipynb\n",
        "print(\"Definiowanie funkcji rysującej wiele cyfr (obrazek ze str 107)\")\n",
        "\n",
        "def plot_digit(data):\n",
        "    image = data.reshape(28, 28)\n",
        "    plt.imshow(image, cmap = mpl.cm.binary,\n",
        "               interpolation=\"nearest\")\n",
        "    plt.axis(\"off\")\n",
        "\n",
        "# EXTRA\n",
        "def plot_digits(instances, images_per_row=10, **options):\n",
        "    size = 28\n",
        "    images_per_row = min(len(instances), images_per_row)\n",
        "    images = [instance.reshape(size,size) for instance in instances]\n",
        "    n_rows = (len(instances) - 1) // images_per_row + 1\n",
        "    row_images = []\n",
        "    n_empty = n_rows * images_per_row - len(instances)\n",
        "    images.append(np.zeros((size, size * n_empty)))\n",
        "    for row in range(n_rows):\n",
        "        rimages = images[row * images_per_row : (row + 1) * images_per_row]\n",
        "        row_images.append(np.concatenate(rimages, axis=1))\n",
        "    image = np.concatenate(row_images, axis=0)\n",
        "    plt.imshow(image, cmap = mpl.cm.binary, **options)\n",
        "    plt.axis(\"off\")"
      ],
      "execution_count": null,
      "outputs": [
        {
          "output_type": "stream",
          "text": [
            "Definiowanie funkcji rysującej wiele cyfr (obrazek ze str 107)\n"
          ],
          "name": "stdout"
        }
      ]
    },
    {
      "cell_type": "code",
      "metadata": {
        "colab": {
          "base_uri": "https://localhost:8080/",
          "height": 691
        },
        "id": "1EtEKf6I7Gly",
        "outputId": "b96c4dba-7800-4db2-9dfe-3429aba8cc62"
      },
      "source": [
        "print(\"Rysowanie cyfr\")\n",
        "\n",
        "plt.figure(figsize=(9,9))\n",
        "example_images = X[:100]\n",
        "plot_digits(example_images, images_per_row=10)\n",
        "save_fig(\"more_digits_plot\")\n",
        "plt.show()"
      ],
      "execution_count": null,
      "outputs": [
        {
          "output_type": "stream",
          "text": [
            "Rysowanie cyfr\n",
            "Saving figure more_digits_plot\n"
          ],
          "name": "stdout"
        },
        {
          "output_type": "display_data",
          "data": {
            "image/png": "[encoded data removed]",
            "text/plain": [
              "<Figure size 648x648 with 1 Axes>"
            ]
          },
          "metadata": {
            "tags": []
          }
        }
      ]
    },
    {
      "cell_type": "code",
      "metadata": {
        "colab": {
          "base_uri": "https://localhost:8080/"
        },
        "id": "8KAt62qs7RTo",
        "outputId": "08c278e7-b20a-481c-b823-2ebcd9d7ae53"
      },
      "source": [
        "print(\"Dzielę dane na zbiór treningowy i testowy. One są już podzielone wartstwowo do 60000 przykładu\")\n",
        "X_train, X_test, y_train, y_test = X[:60000], X[60000:], y[:60000], y[60000:]\n",
        "print(\"Sam sprawdzam wymiary nowych zbiorów\")\n",
        "print(\"Wymiar X_train\", X_train.shape)\n",
        "print(\"Wymiar X_test\", X_test.shape)\n",
        "print(\"Wymiar y_train\", y_train.shape)\n",
        "print(\"Wymiar y_test\", y_test.shape)"
      ],
      "execution_count": null,
      "outputs": [
        {
          "output_type": "stream",
          "text": [
            "Dzielę dane na zbiór treningowy i testowy. One są już podzielone wartstwowo do 60000 przykładu\n",
            "Sam sprawdzam wymiary nowych zbiorów\n",
            "Wymiar X_train (60000, 784)\n",
            "Wymiar X_test (10000, 784)\n",
            "Wymiar y_train (60000,)\n",
            "Wymiar y_test (10000,)\n"
          ],
          "name": "stdout"
        }
      ]
    },
    {
      "cell_type": "markdown",
      "metadata": {
        "id": "MOoqaIkw7e10"
      },
      "source": [
        "# **Uczenie klasyfikatora binarnego**"
      ]
    },
    {
      "cell_type": "code",
      "metadata": {
        "colab": {
          "base_uri": "https://localhost:8080/"
        },
        "id": "_39NLMjuAPqy",
        "outputId": "000d02d0-509a-4cae-b254-b9b1bb52f89a"
      },
      "source": [
        "print(\"Klasyfikator binarny wykrywa piątki i niepiątki.\")\n",
        "print(\"Ze zbioru y_train wybieram True dla 5 i False dla nie5\")\n",
        "y_train_5 = (y_train == 5)  # wartość True dla piątek, a False dla pozostałych\n",
        "print(\"y_train_5 =\", y_train_5)\n",
        "print(\"Ze zbioru y_test wybieram True dla 5 i False dla nie5\")\n",
        "y_test_5 = (y_test == 5)\n",
        "print(\"y_test_5 =\", y_test_5)"
      ],
      "execution_count": null,
      "outputs": [
        {
          "output_type": "stream",
          "text": [
            "Klasyfikator binarny wykrywa piątki i niepiątki.\n",
            "Ze zbioru y_train wybieram True dla 5 i False dla nie5\n",
            "y_train_5 = [ True False False ...  True False False]\n",
            "Ze zbioru y_test wybieram True dla 5 i False dla nie5\n",
            "y_test_5 = [False False False ... False  True False]\n"
          ],
          "name": "stdout"
        }
      ]
    },
    {
      "cell_type": "code",
      "metadata": {
        "colab": {
          "base_uri": "https://localhost:8080/"
        },
        "id": "iTYhY8g-A0B-",
        "outputId": "ba16e71d-486e-4a5f-9362-dc37f4976642"
      },
      "source": [
        "# https://github.com/ageron/handson-ml2/blob/master/03_classification.ipynb\n",
        "print(\"Note: some hyperparameters will have a different defaut value in future versions of Scikit-Learn,\")\n",
        "print(\"such as max_iter and tol. To be future-proof, we explicitly set these hyperparameters to their future default values.\")\n",
        "print(\"For simplicity, this is not shown in the book.\")"
      ],
      "execution_count": null,
      "outputs": [
        {
          "output_type": "stream",
          "text": [
            "Note: some hyperparameters will have a different defaut value in future versions of Scikit-Learn,\n",
            "such as max_iter and tol. To be future-proof, we explicitly set these hyperparameters to their future default values.\n",
            "For simplicity, this is not shown in the book.\n"
          ],
          "name": "stdout"
        }
      ]
    },
    {
      "cell_type": "code",
      "metadata": {
        "colab": {
          "base_uri": "https://localhost:8080/"
        },
        "id": "l9_sQKCgBIPh",
        "outputId": "eb1e9dda-1e39-4c69-850c-4430a60b35fa"
      },
      "source": [
        "print(\"Klasyfikator stochastycznego spadku wzdłuż gradientu (stochastic gradient descent SGD)\")\n",
        "\n",
        "from sklearn.linear_model import SGDClassifier\n",
        "\n",
        "sgd_clf = SGDClassifier(max_iter=1000, tol=1e-3, random_state=42)\n",
        "sgd_clf.fit(X_train, y_train_5)"
      ],
      "execution_count": null,
      "outputs": [
        {
          "output_type": "stream",
          "text": [
            "Klasyfikator stochastycznego spadku wzdłuż gradientu (stochastic gradient descent SGD)\n"
          ],
          "name": "stdout"
        },
        {
          "output_type": "execute_result",
          "data": {
            "text/plain": [
              "SGDClassifier(alpha=0.0001, average=False, class_weight=None,\n",
              "              early_stopping=False, epsilon=0.1, eta0=0.0, fit_intercept=True,\n",
              "              l1_ratio=0.15, learning_rate='optimal', loss='hinge',\n",
              "              max_iter=1000, n_iter_no_change=5, n_jobs=None, penalty='l2',\n",
              "              power_t=0.5, random_state=42, shuffle=True, tol=0.001,\n",
              "              validation_fraction=0.1, verbose=0, warm_start=False)"
            ]
          },
          "metadata": {
            "tags": []
          },
          "execution_count": 13
        }
      ]
    },
    {
      "cell_type": "code",
      "metadata": {
        "colab": {
          "base_uri": "https://localhost:8080/"
        },
        "id": "wOoSdm4hU7nR",
        "outputId": "fe46eb0c-1bb8-400f-b6f4-7e874e4b6eb8"
      },
      "source": [
        "print(\"Sam wyświetlam pierwszy wiersz w danych some_digit = X[0]\")\n",
        "some_digit_as_list = some_digit.tolist()\n",
        "counter = 0\n",
        "for element in some_digit_as_list:\n",
        "    print(element, end=\" \")\n",
        "    counter += 1\n",
        "    if counter % 28 == 0:\n",
        "        print()\n",
        "print(\"\\nWykrywa cyfrę 5 w zbiorze danych some_digit = X[0], czyli pierwszy wiersz z danych\")\n",
        "sgd_clf.predict([some_digit])\n",
        "print(\"Wyszło True czyli tutaj miał rację, bo tam była rzeczywiście 5\")"
      ],
      "execution_count": null,
      "outputs": [
        {
          "output_type": "stream",
          "text": [
            "Sam wyświetlam pierwszy wiersz w danych some_digit = X[0]\n",
            "0.0 0.0 0.0 0.0 0.0 0.0 0.0 0.0 0.0 0.0 0.0 0.0 0.0 0.0 0.0 0.0 0.0 0.0 0.0 0.0 0.0 0.0 0.0 0.0 0.0 0.0 0.0 0.0 \n",
            "0.0 0.0 0.0 0.0 0.0 0.0 0.0 0.0 0.0 0.0 0.0 0.0 0.0 0.0 0.0 0.0 0.0 0.0 0.0 0.0 0.0 0.0 0.0 0.0 0.0 0.0 0.0 0.0 \n",
            "0.0 0.0 0.0 0.0 0.0 0.0 0.0 0.0 0.0 0.0 0.0 0.0 0.0 0.0 0.0 0.0 0.0 0.0 0.0 0.0 0.0 0.0 0.0 0.0 0.0 0.0 0.0 0.0 \n",
            "0.0 0.0 0.0 0.0 0.0 0.0 0.0 0.0 0.0 0.0 0.0 0.0 0.0 0.0 0.0 0.0 0.0 0.0 0.0 0.0 0.0 0.0 0.0 0.0 0.0 0.0 0.0 0.0 \n",
            "0.0 0.0 0.0 0.0 0.0 0.0 0.0 0.0 0.0 0.0 0.0 0.0 0.0 0.0 0.0 0.0 0.0 0.0 0.0 0.0 0.0 0.0 0.0 0.0 0.0 0.0 0.0 0.0 \n",
            "0.0 0.0 0.0 0.0 0.0 0.0 0.0 0.0 0.0 0.0 0.0 0.0 3.0 18.0 18.0 18.0 126.0 136.0 175.0 26.0 166.0 255.0 247.0 127.0 0.0 0.0 0.0 0.0 \n",
            "0.0 0.0 0.0 0.0 0.0 0.0 0.0 0.0 30.0 36.0 94.0 154.0 170.0 253.0 253.0 253.0 253.0 253.0 225.0 172.0 253.0 242.0 195.0 64.0 0.0 0.0 0.0 0.0 \n",
            "0.0 0.0 0.0 0.0 0.0 0.0 0.0 49.0 238.0 253.0 253.0 253.0 253.0 253.0 253.0 253.0 253.0 251.0 93.0 82.0 82.0 56.0 39.0 0.0 0.0 0.0 0.0 0.0 \n",
            "0.0 0.0 0.0 0.0 0.0 0.0 0.0 18.0 219.0 253.0 253.0 253.0 253.0 253.0 198.0 182.0 247.0 241.0 0.0 0.0 0.0 0.0 0.0 0.0 0.0 0.0 0.0 0.0 \n",
            "0.0 0.0 0.0 0.0 0.0 0.0 0.0 0.0 80.0 156.0 107.0 253.0 253.0 205.0 11.0 0.0 43.0 154.0 0.0 0.0 0.0 0.0 0.0 0.0 0.0 0.0 0.0 0.0 \n",
            "0.0 0.0 0.0 0.0 0.0 0.0 0.0 0.0 0.0 14.0 1.0 154.0 253.0 90.0 0.0 0.0 0.0 0.0 0.0 0.0 0.0 0.0 0.0 0.0 0.0 0.0 0.0 0.0 \n",
            "0.0 0.0 0.0 0.0 0.0 0.0 0.0 0.0 0.0 0.0 0.0 139.0 253.0 190.0 2.0 0.0 0.0 0.0 0.0 0.0 0.0 0.0 0.0 0.0 0.0 0.0 0.0 0.0 \n",
            "0.0 0.0 0.0 0.0 0.0 0.0 0.0 0.0 0.0 0.0 0.0 11.0 190.0 253.0 70.0 0.0 0.0 0.0 0.0 0.0 0.0 0.0 0.0 0.0 0.0 0.0 0.0 0.0 \n",
            "0.0 0.0 0.0 0.0 0.0 0.0 0.0 0.0 0.0 0.0 0.0 0.0 35.0 241.0 225.0 160.0 108.0 1.0 0.0 0.0 0.0 0.0 0.0 0.0 0.0 0.0 0.0 0.0 \n",
            "0.0 0.0 0.0 0.0 0.0 0.0 0.0 0.0 0.0 0.0 0.0 0.0 0.0 81.0 240.0 253.0 253.0 119.0 25.0 0.0 0.0 0.0 0.0 0.0 0.0 0.0 0.0 0.0 \n",
            "0.0 0.0 0.0 0.0 0.0 0.0 0.0 0.0 0.0 0.0 0.0 0.0 0.0 0.0 45.0 186.0 253.0 253.0 150.0 27.0 0.0 0.0 0.0 0.0 0.0 0.0 0.0 0.0 \n",
            "0.0 0.0 0.0 0.0 0.0 0.0 0.0 0.0 0.0 0.0 0.0 0.0 0.0 0.0 0.0 16.0 93.0 252.0 253.0 187.0 0.0 0.0 0.0 0.0 0.0 0.0 0.0 0.0 \n",
            "0.0 0.0 0.0 0.0 0.0 0.0 0.0 0.0 0.0 0.0 0.0 0.0 0.0 0.0 0.0 0.0 0.0 249.0 253.0 249.0 64.0 0.0 0.0 0.0 0.0 0.0 0.0 0.0 \n",
            "0.0 0.0 0.0 0.0 0.0 0.0 0.0 0.0 0.0 0.0 0.0 0.0 0.0 0.0 46.0 130.0 183.0 253.0 253.0 207.0 2.0 0.0 0.0 0.0 0.0 0.0 0.0 0.0 \n",
            "0.0 0.0 0.0 0.0 0.0 0.0 0.0 0.0 0.0 0.0 0.0 0.0 39.0 148.0 229.0 253.0 253.0 253.0 250.0 182.0 0.0 0.0 0.0 0.0 0.0 0.0 0.0 0.0 \n",
            "0.0 0.0 0.0 0.0 0.0 0.0 0.0 0.0 0.0 0.0 24.0 114.0 221.0 253.0 253.0 253.0 253.0 201.0 78.0 0.0 0.0 0.0 0.0 0.0 0.0 0.0 0.0 0.0 \n",
            "0.0 0.0 0.0 0.0 0.0 0.0 0.0 0.0 23.0 66.0 213.0 253.0 253.0 253.0 253.0 198.0 81.0 2.0 0.0 0.0 0.0 0.0 0.0 0.0 0.0 0.0 0.0 0.0 \n",
            "0.0 0.0 0.0 0.0 0.0 0.0 18.0 171.0 219.0 253.0 253.0 253.0 253.0 195.0 80.0 9.0 0.0 0.0 0.0 0.0 0.0 0.0 0.0 0.0 0.0 0.0 0.0 0.0 \n",
            "0.0 0.0 0.0 0.0 55.0 172.0 226.0 253.0 253.0 253.0 253.0 244.0 133.0 11.0 0.0 0.0 0.0 0.0 0.0 0.0 0.0 0.0 0.0 0.0 0.0 0.0 0.0 0.0 \n",
            "0.0 0.0 0.0 0.0 136.0 253.0 253.0 253.0 212.0 135.0 132.0 16.0 0.0 0.0 0.0 0.0 0.0 0.0 0.0 0.0 0.0 0.0 0.0 0.0 0.0 0.0 0.0 0.0 \n",
            "0.0 0.0 0.0 0.0 0.0 0.0 0.0 0.0 0.0 0.0 0.0 0.0 0.0 0.0 0.0 0.0 0.0 0.0 0.0 0.0 0.0 0.0 0.0 0.0 0.0 0.0 0.0 0.0 \n",
            "0.0 0.0 0.0 0.0 0.0 0.0 0.0 0.0 0.0 0.0 0.0 0.0 0.0 0.0 0.0 0.0 0.0 0.0 0.0 0.0 0.0 0.0 0.0 0.0 0.0 0.0 0.0 0.0 \n",
            "0.0 0.0 0.0 0.0 0.0 0.0 0.0 0.0 0.0 0.0 0.0 0.0 0.0 0.0 0.0 0.0 0.0 0.0 0.0 0.0 0.0 0.0 0.0 0.0 0.0 0.0 0.0 0.0 \n",
            "\n",
            "Wykrywa cyfrę 5 w zbiorze danych some_digit = X[0], czyli pierwszy wiersz z danych\n",
            "Wyszło True czyli tutaj miał rację, bo tam była rzeczywiście 5\n"
          ],
          "name": "stdout"
        }
      ]
    },
    {
      "cell_type": "code",
      "metadata": {
        "colab": {
          "base_uri": "https://localhost:8080/"
        },
        "id": "h0ZFHl71XvFi",
        "outputId": "8f7f83f0-f916-4786-eb24-c80a25d30d4d"
      },
      "source": [
        "print(\"Sam sprawdzam dla pozostałych.\")\n",
        "# print(\"Kolumna targetów (labels) \")\n",
        "# counter = 0\n",
        "# for label in y_train:\n",
        "#     print(label, end='')\n",
        "#     counter += 1\n",
        "#     if counter % 100 == 0:\n",
        "#         print()\n",
        "\n",
        "print(\"Kolumna targetów (labeli), w której 5 są zamienione na True, a nie5 na False\")\n",
        "print(y_train_5)\n",
        "\n",
        "print(\"[y[0], y[1], y[2]] =\", [y[0], y[1], y[2]])\n",
        "print(\"Przewiduję czy liczba jest 5 czy nie jest dla trzech pierwszych wierszy\")\n",
        "print(sgd_clf.predict([X[0], X[1], X[2]]))\n",
        "print(\"Przewiduję czy liczba jest 5 czy nie jest dla wszystkich wierszy z X_train\")\n",
        "print(sgd_clf.predict(X_train))\n",
        "\n",
        "print(\"Sprawdzam czy dla każdego elementu mamy dobrze sklasyfikowaną cyfrę\")\n",
        "print(y_train_5 == sgd_clf.predict(X_train))\n",
        "print(\"Ale czy dla każdego jest ok?\")\n",
        "print((y_train_5 == sgd_clf.predict(X_train)).all())\n",
        "\n",
        "table_of_True_False = (y_train_5 == sgd_clf.predict(X_train))\n",
        "list_of_True_False = table_of_True_False.tolist()\n",
        "print(\"Ilość True to:\")\n",
        "amount_of_good_predictions = list_of_True_False.count(True)\n",
        "print(amount_of_good_predictions)\n",
        "print(\"Ilość False to:\")\n",
        "amount_of_bad_predictions = list_of_True_False.count(False)\n",
        "print(amount_of_bad_predictions)\n",
        "print(\"Czyli w\", amount_of_bad_predictions, \"przypadkach model się pomylił.\")"
      ],
      "execution_count": null,
      "outputs": [
        {
          "output_type": "stream",
          "text": [
            "Sam sprawdzam dla pozostałych.\n",
            "Kolumna targetów (labeli), w której 5 są zamienione na True, a nie5 na False\n",
            "[ True False False ...  True False False]\n",
            "[y[0], y[1], y[2]] = [5, 0, 4]\n",
            "Przewiduję czy liczba jest 5 czy nie jest dla trzech pierwszych wierszy\n",
            "[ True False False]\n",
            "Przewiduję czy liczba jest 5 czy nie jest dla wszystkich wierszy z X_train\n",
            "[ True False False ...  True False False]\n",
            "Sprawdzam czy dla każdego elementu mamy dobrze sklasyfikowaną cyfrę\n",
            "[ True  True  True ...  True  True  True]\n",
            "Ale czy dla każdego jest ok?\n",
            "False\n",
            "Ilość True to:\n",
            "57136\n",
            "Ilość False to:\n",
            "2864\n",
            "Czyli w 2864 przypadkach model się pomylił.\n"
          ],
          "name": "stdout"
        }
      ]
    },
    {
      "cell_type": "markdown",
      "metadata": {
        "id": "oeKNmeZarvH0"
      },
      "source": [
        "# **Miary wydajności**"
      ]
    },
    {
      "cell_type": "markdown",
      "metadata": {
        "id": "FHztUAizr-hK"
      },
      "source": [
        "## **Pomiar dokładności za pomocą sprawdzianu krzyżowego**"
      ]
    },
    {
      "cell_type": "code",
      "metadata": {
        "colab": {
          "base_uri": "https://localhost:8080/"
        },
        "id": "-BGAfwPzMUfx",
        "outputId": "866f20c9-39ad-4e8c-b6e7-144a914ebb52"
      },
      "source": [
        "from sklearn.model_selection import cross_val_score\n",
        "cross_val_score(sgd_clf, X_train, y_train_5, cv=3, scoring=\"accuracy\")"
      ],
      "execution_count": null,
      "outputs": [
        {
          "output_type": "execute_result",
          "data": {
            "text/plain": [
              "array([0.95035, 0.96035, 0.9604 ])"
            ]
          },
          "metadata": {
            "tags": []
          },
          "execution_count": 16
        }
      ]
    },
    {
      "cell_type": "code",
      "metadata": {
        "colab": {
          "base_uri": "https://localhost:8080/"
        },
        "id": "M8UYAycqOp_V",
        "outputId": "2fb71459-22f3-4b9d-c2a8-4f070b09ab2e"
      },
      "source": [
        "print(\"Inna implementacja sprawdzianu krzyżowego\")\n",
        "\n",
        "from sklearn.model_selection import StratifiedKFold\n",
        "from sklearn.base import clone\n",
        "\n",
        "skfolds = StratifiedKFold(n_splits=3, shuffle=True, random_state=42)\n",
        "\n",
        "for train_index, test_index in skfolds.split(X_train, y_train_5):\n",
        "    clone_clf = clone(sgd_clf)\n",
        "    X_train_folds = X_train[train_index]\n",
        "    y_train_folds = y_train_5[train_index]\n",
        "    X_test_fold = X_train[test_index]\n",
        "    y_test_fold = y_train_5[test_index]\n",
        "\n",
        "    clone_clf.fit(X_train_folds, y_train_folds)\n",
        "    y_pred = clone_clf.predict(X_test_fold)\n",
        "    n_correct = sum(y_pred == y_test_fold)\n",
        "    print(n_correct / len(y_pred))"
      ],
      "execution_count": null,
      "outputs": [
        {
          "output_type": "stream",
          "text": [
            "Inna implementacja sprawdzianu krzyżowego\n",
            "0.9669\n",
            "0.91625\n",
            "0.96785\n"
          ],
          "name": "stdout"
        }
      ]
    },
    {
      "cell_type": "code",
      "metadata": {
        "colab": {
          "base_uri": "https://localhost:8080/"
        },
        "id": "d_VCYraNO221",
        "outputId": "883fbc4c-0249-4e3c-d43c-582e1732564e"
      },
      "source": [
        "print(\"Klasyfikator obrazów niebędących piątkami\")\n",
        "\n",
        "from sklearn.base import BaseEstimator\n",
        "class Never5Classifier(BaseEstimator):\n",
        "    def fit(self, X, y=None):\n",
        "        pass\n",
        "    def predict(self, X):\n",
        "        # macierz o wartościach False o wymiarach len(X) wierszy na 1 kolumnę. Po co ona?\n",
        "        return np.zeros((len(X), 1), dtype=bool)  "
      ],
      "execution_count": null,
      "outputs": [
        {
          "output_type": "stream",
          "text": [
            "Klasyfikator obrazów niebędących piątkami\n"
          ],
          "name": "stdout"
        }
      ]
    },
    {
      "cell_type": "code",
      "metadata": {
        "colab": {
          "base_uri": "https://localhost:8080/"
        },
        "id": "CyHV2FHHtJdP",
        "outputId": "4da29bf3-3d67-4069-ce51-1251ecbfde00"
      },
      "source": [
        "print(\"Przykładowa macierz\")\n",
        "print(np.zeros((5,3), dtype=int))\n",
        "print(np.zeros((5,3), dtype=bool))"
      ],
      "execution_count": null,
      "outputs": [
        {
          "output_type": "stream",
          "text": [
            "Przykładowa macierz\n",
            "[[0 0 0]\n",
            " [0 0 0]\n",
            " [0 0 0]\n",
            " [0 0 0]\n",
            " [0 0 0]]\n",
            "[[False False False]\n",
            " [False False False]\n",
            " [False False False]\n",
            " [False False False]\n",
            " [False False False]]\n"
          ],
          "name": "stdout"
        }
      ]
    },
    {
      "cell_type": "code",
      "metadata": {
        "colab": {
          "base_uri": "https://localhost:8080/"
        },
        "id": "xMXHKm-vPCiD",
        "outputId": "188e6ba1-c9bd-4675-cbba-0fd10cc83941"
      },
      "source": [
        "never_5_clf = Never5Classifier()\n",
        "# musi być scoring, bo w estymatorze Never5Classifier() nie ma metody score\n",
        "cross_val_score(never_5_clf, X_train, y_train_5, cv=3, scoring=\"accuracy\")"
      ],
      "execution_count": null,
      "outputs": [
        {
          "output_type": "execute_result",
          "data": {
            "text/plain": [
              "array([0.91125, 0.90855, 0.90915])"
            ]
          },
          "metadata": {
            "tags": []
          },
          "execution_count": 20
        }
      ]
    },
    {
      "cell_type": "markdown",
      "metadata": {
        "id": "wYkzZ7xzPMop"
      },
      "source": [
        "## **Macierz pomyłek**"
      ]
    },
    {
      "cell_type": "code",
      "metadata": {
        "colab": {
          "base_uri": "https://localhost:8080/"
        },
        "id": "gaeGKo5APPBO",
        "outputId": "a5e929d5-c853-432d-f18d-97f735a61ef5"
      },
      "source": [
        "print(\"Najpierw zbiór prognoz dla każdego podzbioru testowego (czemu jest tylko jedna lista zwracana skoro 3 kroswalidacje)\")\n",
        "\n",
        "from sklearn.model_selection import cross_val_predict\n",
        "\n",
        "y_train_pred = cross_val_predict(sgd_clf, X_train, y_train_5, cv=3)\n",
        "\n",
        "print(\"Tak wyglądają prognozy\")\n",
        "print(y_train_pred)"
      ],
      "execution_count": null,
      "outputs": [
        {
          "output_type": "stream",
          "text": [
            "Najpierw zbiór prognoz dla każdego podzbioru testowego (czemu jest tylko jedna lista zwracana skoro 3 kroswalidacje)\n",
            "Tak wyglądają prognozy\n",
            "[ True False False ...  True False False]\n"
          ],
          "name": "stdout"
        }
      ]
    },
    {
      "cell_type": "code",
      "metadata": {
        "colab": {
          "base_uri": "https://localhost:8080/"
        },
        "id": "Xl2SI1sk16wM",
        "outputId": "67b58c25-943e-466e-c2d6-4c17ad8be021"
      },
      "source": [
        "print(\"Typ y_train_pred\", type(y_train_pred))\n",
        "print(\"Długość wektora prognoz o elementach True False\")\n",
        "print(len(y_train_pred))\n",
        "print(\"Długość wekotra rzeczywistych wyników o elementach True False\")\n",
        "print(len(y_train_5))"
      ],
      "execution_count": null,
      "outputs": [
        {
          "output_type": "stream",
          "text": [
            "Typ y_train_pred <class 'numpy.ndarray'>\n",
            "Długość wektora prognoz o elementach True False\n",
            "60000\n",
            "Długość wekotra rzeczywistych wyników o elementach True False\n",
            "60000\n"
          ],
          "name": "stdout"
        }
      ]
    },
    {
      "cell_type": "code",
      "metadata": {
        "colab": {
          "base_uri": "https://localhost:8080/"
        },
        "id": "7iOzUsXIQO-5",
        "outputId": "c2a04944-fc58-4f39-e6cd-ee6bb6a3e17c"
      },
      "source": [
        "print(\"Macierz pomyłek dla klas docelowych y_train_5 i przewidywanych y_train_pred\")\n",
        "\n",
        "from sklearn.metrics import confusion_matrix\n",
        "\n",
        "confusion_matrix(y_train_5, y_train_pred)"
      ],
      "execution_count": null,
      "outputs": [
        {
          "output_type": "stream",
          "text": [
            "Macierz pomyłek dla klas docelowych y_train_5 i przewidywanych y_train_pred\n"
          ],
          "name": "stdout"
        },
        {
          "output_type": "execute_result",
          "data": {
            "text/plain": [
              "array([[53892,   687],\n",
              "       [ 1891,  3530]])"
            ]
          },
          "metadata": {
            "tags": []
          },
          "execution_count": 23
        }
      ]
    },
    {
      "cell_type": "code",
      "metadata": {
        "colab": {
          "base_uri": "https://localhost:8080/"
        },
        "id": "FIXKodV8QnTa",
        "outputId": "82e554da-c293-4947-ac15-b7fb36224612"
      },
      "source": [
        "print(\"Udajemy że uzyskaliśmy perfekcyjne wyniki i wtedy nie ma błędów FP i FN\")\n",
        "\n",
        "y_train_perfect_predictions = y_train_5  # pretend we reached perfection\n",
        "confusion_matrix(y_train_5, y_train_perfect_predictions)"
      ],
      "execution_count": null,
      "outputs": [
        {
          "output_type": "stream",
          "text": [
            "Udajemy że uzyskaliśmy perfekcyjne wyniki i wtedy nie ma błędów FP i FN\n"
          ],
          "name": "stdout"
        },
        {
          "output_type": "execute_result",
          "data": {
            "text/plain": [
              "array([[54579,     0],\n",
              "       [    0,  5421]])"
            ]
          },
          "metadata": {
            "tags": []
          },
          "execution_count": 24
        }
      ]
    },
    {
      "cell_type": "markdown",
      "metadata": {
        "id": "Q4VY8ODfSQLA"
      },
      "source": [
        "## **Precyzjna i pełność**"
      ]
    },
    {
      "cell_type": "code",
      "metadata": {
        "colab": {
          "base_uri": "https://localhost:8080/"
        },
        "id": "KIUfyXCXSXtx",
        "outputId": "cf72e0eb-a661-4e77-cecf-22fc5e55a9e0"
      },
      "source": [
        "from sklearn.metrics import precision_score, recall_score\n",
        "\n",
        "print(\"Precyzja:\", precision_score(y_train_5, y_train_pred))  # == PP/(PP+FP)=3530/(3530+687)\n",
        "cm = confusion_matrix(y_train_5, y_train_pred)  # jeszcze raz macierz pomyłek\n",
        "print(\"Precyzja liczona na piechotę:\", cm[1, 1] / (cm[0, 1] + cm[1, 1]))\n",
        "print(\"Pełność:\", recall_score(y_train_5, y_train_pred))  # == PP/(PP+FN)=3530/(3530+1891)\n",
        "print(\"Pełność liczona na piechotę:\", cm[1, 1] / (cm[1, 0] + cm[1, 1]))"
      ],
      "execution_count": null,
      "outputs": [
        {
          "output_type": "stream",
          "text": [
            "Precyzja: 0.8370879772350012\n",
            "Precyzja liczona na piechotę: 0.8370879772350012\n",
            "Pełność: 0.6511713705958311\n",
            "Pełność liczona na piechotę: 0.6511713705958311\n"
          ],
          "name": "stdout"
        }
      ]
    },
    {
      "cell_type": "code",
      "metadata": {
        "colab": {
          "base_uri": "https://localhost:8080/"
        },
        "id": "hhh7hxPoYY18",
        "outputId": "09bc32dc-9b16-443c-b17f-5ef0651e987f"
      },
      "source": [
        "from sklearn.metrics import f1_score\n",
        "\n",
        "print(\"Wynik F1\")\n",
        "print(f1_score(y_train_5, y_train_pred))\n",
        "\n",
        "print(\"Wynik F1 liczony na piechotę\")\n",
        "print(cm[1, 1] / (cm[1, 1] + (cm[1, 0] + cm[0, 1]) / 2))"
      ],
      "execution_count": null,
      "outputs": [
        {
          "output_type": "stream",
          "text": [
            "Wynik F1\n",
            "0.7325171197343846\n",
            "Wynik F1 liczony na piechotę\n",
            "0.7325171197343847\n"
          ],
          "name": "stdout"
        }
      ]
    },
    {
      "cell_type": "markdown",
      "metadata": {
        "id": "hx15yao12lTj"
      },
      "source": [
        "## **Kompromis pomiędzy precyzją a pełnością**"
      ]
    },
    {
      "cell_type": "code",
      "metadata": {
        "colab": {
          "base_uri": "https://localhost:8080/"
        },
        "id": "RLX9muY-2q3k",
        "outputId": "670802e5-1416-40c6-a557-bb6404de8cc8"
      },
      "source": [
        "print(\"Metoda decision_function() podaje wynik dla danej próbki. Na przykład dla wyniku 1500,\")\n",
        "print(\"jeśli próg decyzyjny wynosi 0, to zakwalifikuje jako wynik pozytywny bo więcej niż próg.\")\n",
        "print(\"some_digit=X[0] to pierwszy element, czyli była 5, bo\")\n",
        "print(\"y[0] =\", y[0])\n",
        "y_scores = sgd_clf.decision_function([some_digit])\n",
        "print(y_scores)\n",
        "print(\"Próg decyzyjny threshold = 0\")\n",
        "threshold = 0  # próg decyzyjny\n",
        "y_some_digit_prediction = (y_scores > threshold)\n",
        "print(\"Czy liczba jest równa 5 (przy progu 0)\", y_some_digit_prediction)\n",
        "\n",
        "print(\"\\nKlasyfikator SGDClassifier korzysta z progu 0. Dlatego z metody predict() wyjdzie to samo\")\n",
        "print(sgd_clf.predict([some_digit]))\n",
        "\n",
        "print(\"\\nPróg decyzyjny threshold = 8000\")\n",
        "threshold = 8000  # próg decyzyjny większy\n",
        "y_some_digit_prediction = (y_scores > threshold)\n",
        "print(\"Czy liczba jest równa 5 (przy progu 8000)\", y_some_digit_prediction)\n",
        "\n",
        "print(\"Z powrotem próg 0\")\n",
        "threshold = 0\n",
        "\n",
        "print(\"\\nKilka moich początkowych X[0], X[1], X[2]\")\n",
        "moje_y_scores = sgd_clf.decision_function([X[0], X[1], X[2]])\n",
        "print(moje_y_scores)\n",
        "print(\"A więc powinna tylko pierwsza cyfra być 5, bo pozostałe mają wartość mniejszą niż próg decyzyjny 0\")\n",
        "moje_y_some_digit_prediction = (moje_y_scores > threshold)\n",
        "print(\"Czy liczby są równe 5\", moje_y_some_digit_prediction)\n",
        "print(\"Sprawdzenie y[0] =\", y[0], \", y[1] =\", y[1], \", y[2] =\", y[2])"
      ],
      "execution_count": null,
      "outputs": [
        {
          "output_type": "stream",
          "text": [
            "Metoda decision_function() podaje wynik dla danej próbki. Na przykład dla wyniku 1500,\n",
            "jeśli próg decyzyjny wynosi 0, to zakwalifikuje jako wynik pozytywny bo więcej niż próg.\n",
            "some_digit=X[0] to pierwszy element, czyli była 5, bo\n",
            "y[0] = 5\n",
            "[2164.22030239]\n",
            "Próg decyzyjny threshold = 0\n",
            "Czy liczba jest równa 5 (przy progu 0) [ True]\n",
            "\n",
            "Klasyfikator SGDClassifier korzysta z progu 0. Dlatego z metody predict() wyjdzie to samo\n",
            "[ True]\n",
            "\n",
            "Próg decyzyjny threshold = 8000\n",
            "Czy liczba jest równa 5 (przy progu 8000) [False]\n",
            "Z powrotem próg 0\n",
            "\n",
            "Kilka moich początkowych X[0], X[1], X[2]\n",
            "[  2164.22030239  -5897.37359354 -13489.14805779]\n",
            "A więc powinna tylko pierwsza cyfra być 5, bo pozostałe mają wartość mniejszą niż próg decyzyjny 0\n",
            "Czy liczby są równe 5 [ True False False]\n",
            "Sprawdzenie y[0] = 5 , y[1] = 0 , y[2] = 4\n"
          ],
          "name": "stdout"
        }
      ]
    },
    {
      "cell_type": "code",
      "metadata": {
        "colab": {
          "base_uri": "https://localhost:8080/"
        },
        "id": "zF2nIHD-BNGA",
        "outputId": "8e960136-43af-48fc-d731-b7095e3f04b2"
      },
      "source": [
        "print(\"Chcę otrzymać wyniki decyzyjne (zamiast prognoz tak jak wtedy).\")\n",
        "print(\"Dlatego method wybieram decision_function\")\n",
        "y_scores = cross_val_predict(sgd_clf, X_train, y_train_5, cv=3,\n",
        "                             method=\"decision_function\")\n",
        "\n",
        "print(\"Tak wyglądają wyniki decyzyjne (gdy większe niż próg=0 to klasyfikuje jako pozytywny, tzn jest 5)\")\n",
        "print(y_scores)"
      ],
      "execution_count": null,
      "outputs": [
        {
          "output_type": "stream",
          "text": [
            "Chcę otrzymać wyniki decyzyjne (zamiast prognoz tak jak wtedy).\n",
            "Dlatego method wybieram decision_function\n",
            "Tak wyglądają wyniki decyzyjne (gdy większe niż próg=0 to klasyfikuje jako pozytywny, tzn jest 5)\n",
            "[  1200.93051237 -26883.79202424 -33072.03475406 ...  13272.12718981\n",
            "  -7258.47203373 -16877.50840447]\n"
          ],
          "name": "stdout"
        }
      ]
    },
    {
      "cell_type": "code",
      "metadata": {
        "colab": {
          "base_uri": "https://localhost:8080/",
          "height": 644
        },
        "id": "VBAExPaUC2A7",
        "outputId": "5942dfa7-cd16-4c5e-ba13-d777ab33f37a"
      },
      "source": [
        "print(\"Mając wyniki decyzyjne można obliczyć precyzję i pełność dla wszystkich progów\")\n",
        "print(\"używając precision_recall_curve()\")\n",
        "\n",
        "from sklearn.metrics import precision_recall_curve\n",
        "\n",
        "precisions, recalls, thresholds = precision_recall_curve(y_train_5, y_scores)\n",
        "\n",
        "print(\"\\nWyświetlam:\")\n",
        "print(\"precisions\")\n",
        "print(precisions)\n",
        "print(\"recalls\")\n",
        "print(recalls)\n",
        "print(\"thresholds\")\n",
        "print(thresholds)\n",
        "\n",
        "print(\"Wykres precyzji i pełności w funkcji progu decyzyjnego\")\n",
        "\n",
        "def plot_precision_recall_vs_threshold(precisions, recalls, thresholds):\n",
        "    plt.plot(thresholds, precisions[:-1], \"b--\", label=\"Precision\", linewidth=2)\n",
        "    plt.plot(thresholds, recalls[:-1], \"g-\", label=\"Recall (pełność)\", linewidth=2)\n",
        "    plt.legend(loc=\"center right\", fontsize=16) # Not shown in the book\n",
        "    plt.xlabel(\"Threshold (próg)\", fontsize=16)        # Not shown in the book\n",
        "    plt.grid(True)                              # Not shown in the book\n",
        "    plt.axis([-50000, 50000, 0, 1])             # Not shown in the book\n",
        "\n",
        "\n",
        "print(\"\\nPotrzebne do zaznaczenia na wykresie czerwonych przerywanych linii\")\n",
        "print(\"recall_90_precision\")\n",
        "recall_90_precision = recalls[np.argmax(precisions >= 0.90)]\n",
        "print(recall_90_precision)\n",
        "print(\"threshold_90_precision\")\n",
        "threshold_90_precision = thresholds[np.argmax(precisions >= 0.90)]\n",
        "print(threshold_90_precision)\n",
        "\n",
        "plt.figure(figsize=(8, 4))                                                                  # Not shown in the book\n",
        "plot_precision_recall_vs_threshold(precisions, recalls, thresholds)\n",
        "plt.plot([threshold_90_precision, threshold_90_precision], [0., 0.9], \"r:\")                 # Not shown in the book\n",
        "plt.plot([-50000, threshold_90_precision], [0.9, 0.9], \"r:\")                                # Not shown in the book\n",
        "plt.plot([-50000, threshold_90_precision], [recall_90_precision, recall_90_precision], \"r:\")# Not shown in the book\n",
        "plt.plot([threshold_90_precision], [0.9], \"ro\")                                             # Not shown in the book\n",
        "plt.plot([threshold_90_precision], [recall_90_precision], \"ro\")                             # Not shown in the book\n",
        "save_fig(\"precision_recall_vs_threshold_plot\")                                              # Not shown in the book\n",
        "plt.show()"
      ],
      "execution_count": null,
      "outputs": [
        {
          "output_type": "stream",
          "text": [
            "Mając wyniki decyzyjne można obliczyć precyzję i pełność dla wszystkich progów\n",
            "używając precision_recall_curve()\n",
            "\n",
            "Wyświetlam:\n",
            "precisions\n",
            "[0.09040123 0.09038606 0.09038757 ... 1.         1.         1.        ]\n",
            "recalls\n",
            "[1.00000000e+00 9.99815532e-01 9.99815532e-01 ... 3.68935621e-04\n",
            " 1.84467810e-04 0.00000000e+00]\n",
            "thresholds\n",
            "[-106527.45300471 -105763.22240074 -105406.2965229  ...   38871.26391927\n",
            "   42216.05562787   49441.43765905]\n",
            "Wykres precyzji i pełności w funkcji progu decyzyjnego\n",
            "\n",
            "Potrzebne do zaznaczenia na wykresie czerwonych przerywanych linii\n",
            "recall_90_precision\n",
            "0.4799852425751706\n",
            "threshold_90_precision\n",
            "3370.0194991439557\n",
            "Saving figure precision_recall_vs_threshold_plot\n"
          ],
          "name": "stdout"
        },
        {
          "output_type": "display_data",
          "data": {
            "image/png": "[encoded data removed]",
            "text/plain": [
              "<Figure size 576x288 with 1 Axes>"
            ]
          },
          "metadata": {
            "tags": []
          }
        }
      ]
    },
    {
      "cell_type": "code",
      "metadata": {
        "colab": {
          "base_uri": "https://localhost:8080/"
        },
        "id": "yJPxY9ChC-rx",
        "outputId": "cbd18657-9681-4b4a-b10b-80d77a35cc50"
      },
      "source": [
        "print(\"y_train_pred\")\n",
        "print(y_train_pred)\n",
        "print()\n",
        "print(\"y_scores czyli wyniki funkcji decyzyjnej dla całego X_train (jeśli dodatnie to jako True)\")\n",
        "print(y_scores)\n",
        "print()\n",
        "print(\"Obie listy y_train_pred i y_scores powstały z funkcji cross_val_predict więc muszą mieć odpowiadające sobie wartości.\")\n",
        "print(\"Sprawdzam czy WSZĘDZIE tam gdzie jest True to mamy wartość dodatnią, a tam gdzie False wartość ujemną.\")\n",
        "# https://github.com/ageron/handson-ml2/blob/master/03_classification.ipynb\n",
        "(y_train_pred == (y_scores > 0)).all()"
      ],
      "execution_count": null,
      "outputs": [
        {
          "output_type": "stream",
          "text": [
            "y_train_pred\n",
            "[ True False False ...  True False False]\n",
            "\n",
            "y_scores czyli wyniki funkcji decyzyjnej dla całego X_train (jeśli dodatnie to jako True)\n",
            "[  1200.93051237 -26883.79202424 -33072.03475406 ...  13272.12718981\n",
            "  -7258.47203373 -16877.50840447]\n",
            "\n",
            "Obie listy y_train_pred i y_scores powstały z funkcji cross_val_predict więc muszą mieć odpowiadające sobie wartości.\n",
            "Sprawdzam czy WSZĘDZIE tam gdzie jest True to mamy wartość dodatnią, a tam gdzie False wartość ujemną.\n"
          ],
          "name": "stdout"
        },
        {
          "output_type": "execute_result",
          "data": {
            "text/plain": [
              "True"
            ]
          },
          "metadata": {
            "tags": []
          },
          "execution_count": 30
        }
      ]
    },
    {
      "cell_type": "code",
      "metadata": {
        "colab": {
          "base_uri": "https://localhost:8080/",
          "height": 476
        },
        "id": "PWl3tD5zGawj",
        "outputId": "fc22e091-c22d-49d6-e317-96d181dfa73e"
      },
      "source": [
        "# https://github.com/ageron/handson-ml2/blob/master/03_classification.ipynb\n",
        "\n",
        "print(\"Wykres precyzji w funkcji pełności\")\n",
        "def plot_precision_vs_recall(precisions, recalls):\n",
        "    plt.plot(recalls, precisions, \"b-\", linewidth=2)\n",
        "    plt.xlabel(\"Recall\", fontsize=16)\n",
        "    plt.ylabel(\"Precision\", fontsize=16)\n",
        "    plt.axis([0, 1, 0, 1])  # zakres osi x od 0 do 1 oraz osi y od 0 do 1\n",
        "    plt.grid(True)\n",
        "\n",
        "plt.figure(figsize=(8, 6))\n",
        "plot_precision_vs_recall(precisions, recalls)\n",
        "plt.plot([recall_90_precision, recall_90_precision], [0., 0.9], \"r:\")\n",
        "plt.plot([0.0, recall_90_precision], [0.9, 0.9], \"r:\")\n",
        "plt.plot([recall_90_precision], [0.9], \"ro\")\n",
        "save_fig(\"precision_vs_recall_plot\")\n",
        "plt.show()"
      ],
      "execution_count": null,
      "outputs": [
        {
          "output_type": "stream",
          "text": [
            "Wykres precyzji w funkcji pełności\n",
            "Saving figure precision_vs_recall_plot\n"
          ],
          "name": "stdout"
        },
        {
          "output_type": "display_data",
          "data": {
            "image/png": "[encoded data removed]",
            "text/plain": [
              "<Figure size 576x432 with 1 Axes>"
            ]
          },
          "metadata": {
            "tags": []
          }
        }
      ]
    },
    {
      "cell_type": "code",
      "metadata": {
        "colab": {
          "base_uri": "https://localhost:8080/"
        },
        "id": "24JyZi3O6KuS",
        "outputId": "91d44639-73f9-4e3c-8141-977253cda719"
      },
      "source": [
        "print(\"Mój wstęp dla lepszego zrozumienia.\")\n",
        "print(\"precisions\")\n",
        "print(precisions)\n",
        "print()\n",
        "print(\"np.argmax(precisions)\")\n",
        "print(np.argmax(precisions))\n",
        "print()\n",
        "print(\"precisions[59961]\")\n",
        "print(precisions[59961])\n",
        "print()\n",
        "print(\"precisions[59966]\")\n",
        "print(precisions[59966])\n",
        "print()\n",
        "print(\"precisions[0]\")\n",
        "print(precisions[0])\n",
        "print()\n",
        "print(\"Wywołanie precisions[59967] powoduje błąd index 59967 is out of bounds for axis 0 with size 59967\")\n",
        "# print(precisions[59967])\n",
        "print()\n",
        "print(\"Wygląda na to, że funkcja precision_recall_curve używa pomocniczych indeksów od 0 do 59966.\")\n",
        "print(\"Znajdźmy pierwszy pomocniczy indeks, dla którego precisions >= 0.90\")\n",
        "print(\"np.argmax(precisions >= 0.90)\")\n",
        "print(np.argmax(precisions >= 0.90))\n",
        "print()\n",
        "print(\"Znajdźmy wartość progu dla tego indeksu\")\n",
        "threshold_90_precision = thresholds[np.argmax(precisions >= 0.90)]\n",
        "print(threshold_90_precision)\n",
        "print()\n",
        "print(\"Sprawdzenie na piechotę wartości tego progu\")\n",
        "print(thresholds[57075])\n",
        "print()\n",
        "print(\"Spr prognozy w zbiorze uczącym, czyli zwraca True jeśli wynik funkcji decyzyjnej\")\n",
        "print(\"dla danego wiersza jest większy od progu threshold_90_precision równego 3370\")\n",
        "y_train_pred_90 = (y_scores > threshold_90_precision)\n",
        "print(y_train_pred_90)\n",
        "print(\"Jak widać tej pierwszej piątki nie uznał jako 5, bo jest False\")\n",
        "print(y_train[0])\n",
        "print()\n",
        "print(\"Precyzja prognoz\")\n",
        "print(precision_score(y_train_5, y_train_pred_90))\n",
        "print()\n",
        "print(\"Pełność prognoz\")\n",
        "print(recall_score(y_train_5, y_train_pred_90))"
      ],
      "execution_count": null,
      "outputs": [
        {
          "output_type": "stream",
          "text": [
            "Mój wstęp dla lepszego zrozumienia.\n",
            "precisions\n",
            "[0.09040123 0.09038606 0.09038757 ... 1.         1.         1.        ]\n",
            "\n",
            "np.argmax(precisions)\n",
            "59961\n",
            "\n",
            "precisions[59961]\n",
            "1.0\n",
            "\n",
            "precisions[59966]\n",
            "1.0\n",
            "\n",
            "precisions[0]\n",
            "0.0904012273621719\n",
            "\n",
            "Wywołanie precisions[59967] powoduje błąd index 59967 is out of bounds for axis 0 with size 59967\n",
            "\n",
            "Wygląda na to, że funkcja precision_recall_curve używa pomocniczych indeksów od 0 do 59966.\n",
            "Znajdźmy pierwszy pomocniczy indeks, dla którego precisions >= 0.90\n",
            "np.argmax(precisions >= 0.90)\n",
            "57075\n",
            "\n",
            "Znajdźmy wartość progu dla tego indeksu\n",
            "3370.0194991439557\n",
            "\n",
            "Sprawdzenie na piechotę wartości tego progu\n",
            "3370.0194991439557\n",
            "\n",
            "Spr prognozy w zbiorze uczącym, czyli zwraca True jeśli wynik funkcji decyzyjnej\n",
            "dla danego wiersza jest większy od progu threshold_90_precision równego 3370\n",
            "[False False False ...  True False False]\n",
            "Jak widać tej pierwszej piątki nie uznał jako 5, bo jest False\n",
            "5\n",
            "\n",
            "Precyzja prognoz\n",
            "0.9\n",
            "\n",
            "Pełność prognoz\n",
            "0.47980077476480354\n"
          ],
          "name": "stdout"
        }
      ]
    },
    {
      "cell_type": "markdown",
      "metadata": {
        "id": "m-0575gGadwB"
      },
      "source": [
        "## **Wykres krzywej ROC**"
      ]
    },
    {
      "cell_type": "code",
      "metadata": {
        "colab": {
          "base_uri": "https://localhost:8080/"
        },
        "id": "s1fmpk1AM5Gb",
        "outputId": "c1e78a2b-6e4b-4933-f9ae-e4ab1ae185c4"
      },
      "source": [
        "print(\"Przypomnienie: y_scores czyli wyniki funkcji decyzyjnej dla całego X_train. Jeśli większe od 0 to True.\")\n",
        "print(\"Przypomnienie: y_train_5 czyli wartości True-False dla całego X_train mówiące czy to 5 czy nie5.\")\n",
        "from sklearn.metrics import roc_curve\n",
        "print(\"Funkja roc_curve oczekuje etykiet i wyników.\")\n",
        "fpr, tpr, thresholds = roc_curve(y_train_5, y_scores)"
      ],
      "execution_count": null,
      "outputs": [
        {
          "output_type": "stream",
          "text": [
            "Przypomnienie: y_scores czyli wyniki funkcji decyzyjnej dla całego X_train. Jeśli większe od 0 to True.\n",
            "Przypomnienie: y_train_5 czyli wartości True-False dla całego X_train mówiące czy to 5 czy nie5.\n",
            "Funkja roc_curve oczekuje etykiet i wyników.\n"
          ],
          "name": "stdout"
        }
      ]
    },
    {
      "cell_type": "code",
      "metadata": {
        "colab": {
          "base_uri": "https://localhost:8080/",
          "height": 476
        },
        "id": "ZvKBvIMzORIA",
        "outputId": "f41aab87-c21f-4077-ef0e-5f3c36932ca8"
      },
      "source": [
        "print(\"Wykres OPP (odsetek prawdziwie pozytywnych) w funkcji OFP (odsetek fałszywie pozytywnych)\")\n",
        "def plot_roc_curve(fpr, tpr, label=None):\n",
        "    plt.plot(fpr, tpr, linewidth=2, label=label)\n",
        "    plt.plot([0, 1], [0, 1], 'k--') # dashed diagonal\n",
        "    # oś x od 0 do 1 i oś y od 0 do 1\n",
        "    plt.axis([0, 1, 0, 1])                                    # Not shown in the book\n",
        "    plt.xlabel('False Positive Rate (Fall-Out)', fontsize=16) # Not shown\n",
        "    plt.ylabel('True Positive Rate (Recall)', fontsize=16)    # Not shown\n",
        "    # linie siatki\n",
        "    plt.grid(True)                                            # Not shown\n",
        "\n",
        "plt.figure(figsize=(8, 6))                                    # Not shown\n",
        "plot_roc_curve(fpr, tpr)\n",
        "fpr_90 = fpr[np.argmax(tpr >= recall_90_precision)]           # Not shown\n",
        "plt.plot([fpr_90, fpr_90], [0., recall_90_precision], \"r:\")   # Not shown\n",
        "plt.plot([0.0, fpr_90], [recall_90_precision, recall_90_precision], \"r:\")  # Not shown\n",
        "plt.plot([fpr_90], [recall_90_precision], \"ro\")               # Not shown\n",
        "save_fig(\"roc_curve_plot\")                                    # Not shown\n",
        "plt.show()"
      ],
      "execution_count": null,
      "outputs": [
        {
          "output_type": "stream",
          "text": [
            "Wykres OPP (odsetek prawdziwie pozytywnych) w funkcji OFP (odsetek fałszywie pozytywnych)\n",
            "Saving figure roc_curve_plot\n"
          ],
          "name": "stdout"
        },
        {
          "output_type": "display_data",
          "data": {
            "image/png": "[encoded data removed]",
            "text/plain": [
              "<Figure size 576x432 with 1 Axes>"
            ]
          },
          "metadata": {
            "tags": []
          }
        }
      ]
    },
    {
      "cell_type": "code",
      "metadata": {
        "colab": {
          "base_uri": "https://localhost:8080/"
        },
        "id": "4fVWcwF9abu-",
        "outputId": "651d1597-7fb1-42b9-d852-40b4a113ba73"
      },
      "source": [
        "print(\"Pole wykresu pod krzywą ROC czyli AUC (area under the curve)\")\n",
        "from sklearn.metrics import roc_auc_score\n",
        "\n",
        "roc_auc_score(y_train_5, y_scores)"
      ],
      "execution_count": null,
      "outputs": [
        {
          "output_type": "stream",
          "text": [
            "Pole wykresu pod krzywą ROC czyli AUC (area under the curve)\n"
          ],
          "name": "stdout"
        },
        {
          "output_type": "execute_result",
          "data": {
            "text/plain": [
              "0.9604938554008616"
            ]
          },
          "metadata": {
            "tags": []
          },
          "execution_count": 35
        }
      ]
    },
    {
      "cell_type": "code",
      "metadata": {
        "colab": {
          "base_uri": "https://localhost:8080/"
        },
        "id": "qojIKewIa2K_",
        "outputId": "24e87ea6-d56f-4e2a-dda6-707e46535a78"
      },
      "source": [
        "print(\"Note: we set n_estimators=100 to be future-proof since this will be the default value in Scikit-Learn 0.22.\")\n",
        "print(\"Wyuczamy klasyfikator RandomForestClassifier i porównujemy z SGDClassifier. Zamiast funkcji decision_function()\")\n",
        "print(\"ma on predict_proba(), która zwraca tablicę, w której każdy wiersz to próbka a kolumna to klasa.\")\n",
        "print(\"Wyliczone są p-twa przynależności danego przykładu do określonej klasy (np 70% szans, że dana próbka jest piątką).\")\n",
        "from sklearn.ensemble import RandomForestClassifier\n",
        "forest_clf = RandomForestClassifier(n_estimators=100, random_state=42)\n",
        "y_probas_forest = cross_val_predict(forest_clf, X_train, y_train_5, cv=3,\n",
        "                                    method=\"predict_proba\")\n",
        "\n",
        "print()\n",
        "print(\"y_probas_forest dla każdej próbki (wiersza) zwraca dwa p-twa. Pierwsze, że to nie5 a drugie że to 5.\")\n",
        "print(y_probas_forest)\n",
        "print(\"Ilość wierszy (próbek)\", len(y_probas_forest))"
      ],
      "execution_count": null,
      "outputs": [
        {
          "output_type": "stream",
          "text": [
            "Note: we set n_estimators=100 to be future-proof since this will be the default value in Scikit-Learn 0.22.\n",
            "Wyuczamy klasyfikator RandomForestClassifier i porównujemy z SGDClassifier. Zamiast funkcji decision_function()\n",
            "ma on predict_proba(), która zwraca tablicę, w której każdy wiersz to próbka a kolumna to klasa.\n",
            "Wyliczone są p-twa przynależności danego przykładu do określonej klasy (np 70% szans, że dana próbka jest piątką).\n",
            "\n",
            "y_probas_forest dla każdej próbki (wiersza) zwraca dwa p-twa. Pierwsze, że to nie5 a drugie że to 5.\n",
            "[[0.11 0.89]\n",
            " [0.99 0.01]\n",
            " [0.96 0.04]\n",
            " ...\n",
            " [0.02 0.98]\n",
            " [0.92 0.08]\n",
            " [0.94 0.06]]\n",
            "Ilość wierszy (próbek) 60000\n"
          ],
          "name": "stdout"
        }
      ]
    },
    {
      "cell_type": "code",
      "metadata": {
        "colab": {
          "base_uri": "https://localhost:8080/"
        },
        "id": "QXnu-YaMctPE",
        "outputId": "7e83f81b-2f64-41c0-e294-675e5afdcfa7"
      },
      "source": [
        "print(\"Funkja roc_curve oczekuje etykiet i wyników, ale zamiast wyników można użyć p-twa\") \n",
        "print(\"przynależności do klasy pozytywnej (jako wyniku).\")\n",
        "print(\"y_scores_forest to wynik czyli p-two przynależności do klasy pozytywnej\")\n",
        "y_scores_forest = y_probas_forest[:, 1] # score = proba of positive class\n",
        "fpr_forest, tpr_forest, thresholds_forest = roc_curve(y_train_5, y_scores_forest)\n",
        "\n",
        "print()\n",
        "print(\"Sprawdzam czym są te listy\")\n",
        "print(\"fpr_forest\")\n",
        "print(fpr_forest)\n",
        "print()\n",
        "print(\"tpr_forest\")\n",
        "print(tpr_forest)\n",
        "print()\n",
        "print(\"thresholds_forest\")\n",
        "print(thresholds_forest)"
      ],
      "execution_count": null,
      "outputs": [
        {
          "output_type": "stream",
          "text": [
            "Funkja roc_curve oczekuje etykiet i wyników, ale zamiast wyników można użyć p-twa\n",
            "przynależności do klasy pozytywnej (jako wyniku).\n",
            "y_scores_forest to wynik czyli p-two przynależności do klasy pozytywnej\n",
            "\n",
            "Sprawdzam czym są te listy\n",
            "fpr_forest\n",
            "[0.00000000e+00 0.00000000e+00 0.00000000e+00 0.00000000e+00\n",
            " 0.00000000e+00 0.00000000e+00 0.00000000e+00 0.00000000e+00\n",
            " 0.00000000e+00 0.00000000e+00 0.00000000e+00 0.00000000e+00\n",
            " 0.00000000e+00 0.00000000e+00 0.00000000e+00 0.00000000e+00\n",
            " 1.83220653e-05 5.49661958e-05 5.49661958e-05 5.49661958e-05\n",
            " 5.49661958e-05 5.49661958e-05 9.16103263e-05 9.16103263e-05\n",
            " 1.09932392e-04 1.09932392e-04 1.09932392e-04 1.09932392e-04\n",
            " 1.28254457e-04 1.28254457e-04 1.64898587e-04 2.19864783e-04\n",
            " 2.19864783e-04 2.56508914e-04 2.56508914e-04 2.74830979e-04\n",
            " 2.93153044e-04 2.93153044e-04 3.48119240e-04 3.84763371e-04\n",
            " 4.21407501e-04 4.39729566e-04 4.58051632e-04 5.13017827e-04\n",
            " 5.49661958e-04 6.22950219e-04 6.96238480e-04 6.96238480e-04\n",
            " 7.51204676e-04 8.24492937e-04 8.97781198e-04 1.08100185e-03\n",
            " 1.13596805e-03 1.28254457e-03 1.42912109e-03 1.52073142e-03\n",
            " 1.74059620e-03 1.96046098e-03 2.19864783e-03 2.29025816e-03\n",
            " 2.54676707e-03 2.72998772e-03 2.91320838e-03 3.16971729e-03\n",
            " 3.44454827e-03 3.62776892e-03 3.97588816e-03 4.30568534e-03\n",
            " 4.72709284e-03 5.38668719e-03 5.91802708e-03 6.43104491e-03\n",
            " 7.05399513e-03 7.80519980e-03 8.59304861e-03 9.54579600e-03\n",
            " 1.04802213e-02 1.18177321e-02 1.29720222e-02 1.42362447e-02\n",
            " 1.57936203e-02 1.78090474e-02 1.99710511e-02 2.22429872e-02\n",
            " 2.54676707e-02 2.87839645e-02 3.29980395e-02 3.80915737e-02\n",
            " 4.35149050e-02 5.12101724e-02 5.94917459e-02 7.12361897e-02\n",
            " 8.46479415e-02 1.02127192e-01 1.24480111e-01 1.54143535e-01\n",
            " 1.96229319e-01 2.57626560e-01 3.58452885e-01 5.37294564e-01\n",
            " 1.00000000e+00]\n",
            "\n",
            "tpr_forest\n",
            "[0.         0.02066039 0.0538646  0.09241837 0.13207895 0.1724774\n",
            " 0.20697288 0.23962369 0.27172108 0.30676997 0.33997417 0.36321712\n",
            " 0.38812027 0.41080981 0.43718871 0.45914038 0.48182992 0.50304372\n",
            " 0.52001476 0.53735473 0.55561704 0.57019    0.58771444 0.60505442\n",
            " 0.61962738 0.63346246 0.64545287 0.65965689 0.67478325 0.68566685\n",
            " 0.69599705 0.70817192 0.71868659 0.74082273 0.74949271 0.76166759\n",
            " 0.77089098 0.7799299  0.78527947 0.79394946 0.80317285 0.81276517\n",
            " 0.82014388 0.82604685 0.83397897 0.84080428 0.8487364  0.85482383\n",
            " 0.86109574 0.86626084 0.87253274 0.87640657 0.88157167 0.88784357\n",
            " 0.89190186 0.8979893  0.90555248 0.90942631 0.9134846  0.91791182\n",
            " 0.92123224 0.92473713 0.92897989 0.93211585 0.93728094 0.93931009\n",
            " 0.94299945 0.9461354  0.94871795 0.95111603 0.95498985 0.95849474\n",
            " 0.96126176 0.96421324 0.96679579 0.97011621 0.97214536 0.97472791\n",
            " 0.97712599 0.97933961 0.98099982 0.98247556 0.98376683 0.9845047\n",
            " 0.98653385 0.98745619 0.9891164  0.99059214 0.99151448 0.99262129\n",
            " 0.99335916 0.99465043 0.99575724 0.99667958 0.99852426 0.99926213\n",
            " 0.9994466  0.99981553 1.         1.         1.        ]\n",
            "\n",
            "thresholds_forest\n",
            "[2.   1.   0.99 0.98 0.97 0.96 0.95 0.94 0.93 0.92 0.91 0.9  0.89 0.88\n",
            " 0.87 0.86 0.85 0.84 0.83 0.82 0.81 0.8  0.79 0.78 0.77 0.76 0.75 0.74\n",
            " 0.73 0.72 0.71 0.7  0.69 0.67 0.66 0.65 0.64 0.63 0.62 0.61 0.6  0.59\n",
            " 0.58 0.57 0.56 0.55 0.54 0.53 0.52 0.51 0.5  0.49 0.48 0.47 0.46 0.45\n",
            " 0.44 0.43 0.42 0.41 0.4  0.39 0.38 0.37 0.36 0.35 0.34 0.33 0.32 0.31\n",
            " 0.3  0.29 0.28 0.27 0.26 0.25 0.24 0.23 0.22 0.21 0.2  0.19 0.18 0.17\n",
            " 0.16 0.15 0.14 0.13 0.12 0.11 0.1  0.09 0.08 0.07 0.06 0.05 0.04 0.03\n",
            " 0.02 0.01 0.  ]\n"
          ],
          "name": "stdout"
        }
      ]
    },
    {
      "cell_type": "code",
      "metadata": {
        "colab": {
          "base_uri": "https://localhost:8080/",
          "height": 476
        },
        "id": "a5GOy2hclZxj",
        "outputId": "a7ec54f9-a057-4ddb-aecf-57735d48e454"
      },
      "source": [
        "# https://github.com/ageron/handson-ml2/blob/master/03_classification.ipynb\n",
        "print(\"Dwie krzywe pełności na jednym wykresie dla obu klasyfikatorów\")\n",
        "recall_for_forest = tpr_forest[np.argmax(fpr_forest >= fpr_90)]\n",
        "\n",
        "plt.figure(figsize=(8, 6))\n",
        "plt.plot(fpr, tpr, \"b:\", linewidth=2, label=\"SGD\")\n",
        "plot_roc_curve(fpr_forest, tpr_forest, \"Random Forest\")\n",
        "plt.plot([fpr_90, fpr_90], [0., recall_90_precision], \"r:\")\n",
        "plt.plot([0.0, fpr_90], [recall_90_precision, recall_90_precision], \"r:\")\n",
        "plt.plot([fpr_90], [recall_90_precision], \"ro\")\n",
        "plt.plot([fpr_90, fpr_90], [0., recall_for_forest], \"r:\")\n",
        "plt.plot([fpr_90], [recall_for_forest], \"ro\")\n",
        "plt.grid(True)\n",
        "plt.legend(loc=\"lower right\", fontsize=16)\n",
        "save_fig(\"roc_curve_comparison_plot\")\n",
        "plt.show()"
      ],
      "execution_count": null,
      "outputs": [
        {
          "output_type": "stream",
          "text": [
            "Dwie krzywe pełności na jednym wykresie dla obu klasyfikatorów\n",
            "Saving figure roc_curve_comparison_plot\n"
          ],
          "name": "stdout"
        },
        {
          "output_type": "display_data",
          "data": {
            "image/png": "[encoded data removed]",
            "text/plain": [
              "<Figure size 576x432 with 1 Axes>"
            ]
          },
          "metadata": {
            "tags": []
          }
        }
      ]
    },
    {
      "cell_type": "code",
      "metadata": {
        "colab": {
          "base_uri": "https://localhost:8080/"
        },
        "id": "TWShFT8Blkqh",
        "outputId": "8a9004a5-7ca0-4436-c267-4bdbd45264bb"
      },
      "source": [
        "print(\"Pole AUC wykresu pod krzywą ROC dla klasyfikatora RandomForestClassifier\")\n",
        "roc_auc_score(y_train_5, y_scores_forest)"
      ],
      "execution_count": null,
      "outputs": [
        {
          "output_type": "stream",
          "text": [
            "Pole AUC wykresu pod krzywą ROC dla klasyfikatora RandomForestClassifier\n"
          ],
          "name": "stdout"
        },
        {
          "output_type": "execute_result",
          "data": {
            "text/plain": [
              "0.9983436731328145"
            ]
          },
          "metadata": {
            "tags": []
          },
          "execution_count": 39
        }
      ]
    },
    {
      "cell_type": "code",
      "metadata": {
        "colab": {
          "base_uri": "https://localhost:8080/"
        },
        "id": "v6_jSyN4n7IR",
        "outputId": "ae12651e-b6db-450f-fb1b-3fe21f84a6f2"
      },
      "source": [
        "# https://github.com/ageron/handson-ml2/blob/master/03_classification.ipynb\n",
        "y_train_pred_forest = cross_val_predict(forest_clf, X_train, y_train_5, cv=3)\n",
        "print(\"Precyzja\")\n",
        "print(precision_score(y_train_5, y_train_pred_forest))\n",
        "print(\"Pełność\")\n",
        "print(recall_score(y_train_5, y_train_pred_forest))"
      ],
      "execution_count": null,
      "outputs": [
        {
          "output_type": "stream",
          "text": [
            "Precyzja\n",
            "0.9905083315756169\n",
            "Pełność\n",
            "0.8662608374838591\n"
          ],
          "name": "stdout"
        }
      ]
    },
    {
      "cell_type": "markdown",
      "metadata": {
        "id": "vT15Ig1pmdez"
      },
      "source": [
        "# **Klasyfikacja wieloklasowa**"
      ]
    },
    {
      "cell_type": "code",
      "metadata": {
        "colab": {
          "base_uri": "https://localhost:8080/"
        },
        "id": "qKN0wtx1os4R",
        "outputId": "b720f966-cdf5-4290-cd0a-e99e57333a64"
      },
      "source": [
        "print(\"Klasyfikator maszyny wektorów nośnych SVC. Moduł scikit-learn wykrywa czy zastosować\")\n",
        "print(\"strategię OvR czy OvO.\")\n",
        "\n",
        "from sklearn.svm import SVC\n",
        "\n",
        "\n",
        "svm_clf = SVC(gamma=\"auto\", random_state=42)\n",
        "print(\"Najpierw wyucza klasyfikator SVC wobec zbioru uczącego za pomocą pierwotnych klas docelowych od 0 do 9\")\n",
        "print(\"y_train, a nie klas docelowych 5 przeciw reszcie y_train_5.\")\n",
        "print(\"Na github użył tylko 1000 pierwszych wierszy zamiast całego X_train i y_train.\")\n",
        "svm_clf.fit(X_train[:1000], y_train[:1000]) # y_train, not y_train_5\n",
        "print(\"Wylicza prognozę dla some_digit = X[0]. Jest 5 tak jak miało być.\")\n",
        "svm_clf.predict([some_digit])\n",
        "\n",
        "print()\n",
        "print(\"Moduł sklearn skorzystał z OvO czyli wytrenował (10*9)/2=45 klasyfikatorów binarnych,\")\n",
        "print(\"uzyskał wyniki decyzyjne i wybrał klasę, która wygrała najwięcej pojedynków.\")"
      ],
      "execution_count": null,
      "outputs": [
        {
          "output_type": "stream",
          "text": [
            "Klasyfikator maszyny wektorów nośnych SVC. Moduł scikit-learn wykrywa czy zastosować\n",
            "strategię OvR czy OvO.\n",
            "Najpierw wyucza klasyfikator SVC wobec zbioru uczącego za pomocą pierwotnych klas docelowych od 0 do 9\n",
            "y_train, a nie klas docelowych 5 przeciw reszcie y_train_5.\n",
            "Na github użył tylko 1000 pierwszych wierszy zamiast całego X_train i y_train.\n",
            "Wylicza prognozę dla some_digit = X[0]. Jest 5 tak jak miało być.\n",
            "\n",
            "Moduł sklearn skorzystał z OvO czyli wytrenował (10*9)/2=45 klasyfikatorów binarnych,\n",
            "uzyskał wyniki decyzyjne i wybrał klasę, która wygrała najwięcej pojedynków.\n"
          ],
          "name": "stdout"
        }
      ]
    },
    {
      "cell_type": "code",
      "metadata": {
        "colab": {
          "base_uri": "https://localhost:8080/"
        },
        "id": "n4FBm36QzMI8",
        "outputId": "93b6ba50-b5b4-4f24-d90b-f8654f48b087"
      },
      "source": [
        "print(\"Wywołanie funkcji decision_function na obrazie some_digit. Zwraca 10 wyników, po jednym na każdą klasę od 0 do 9.\")\n",
        "some_digit_scores = svm_clf.decision_function([some_digit])\n",
        "print(some_digit_scores)\n",
        "print(\"Największy wynik jest dla szóstego wrazu, którym jest cyfra 5.\")\n",
        "print(np.argmax(some_digit_scores))\n",
        "print(\"Wszystkie możliwe klasy\")\n",
        "print(svm_clf.classes_)\n",
        "print(\"Wybranie klasy 5. Akurat ten wyraz ma klasę o nazwie 5, ale to przypadek.\")\n",
        "print(svm_clf.classes_[5])"
      ],
      "execution_count": null,
      "outputs": [
        {
          "output_type": "stream",
          "text": [
            "Wywołanie funkcji decision_function na obrazie some_digit. Zwraca 10 wyników, po jednym na każdą klasę od 0 do 9.\n",
            "[[ 2.81585438  7.09167958  3.82972099  0.79365551  5.8885703   9.29718395\n",
            "   1.79862509  8.10392157 -0.228207    4.83753243]]\n",
            "Największy wynik jest dla szóstego wrazu, którym jest cyfra 5.\n",
            "5\n",
            "Wszystkie możliwe klasy\n",
            "[0 1 2 3 4 5 6 7 8 9]\n",
            "Wybranie klasy 5. Akurat ten wyraz ma klasę o nazwie 5, ale to przypadek.\n",
            "5\n"
          ],
          "name": "stdout"
        }
      ]
    },
    {
      "cell_type": "code",
      "metadata": {
        "colab": {
          "base_uri": "https://localhost:8080/"
        },
        "id": "9pgVPUnN0xq5",
        "outputId": "20801006-774d-49ef-eefe-5b01bede77cd"
      },
      "source": [
        "print(\"Klasyfikator wieloklasowy na podstawie SVC przy użyciu strategii OvR\")\n",
        "from sklearn.multiclass import OneVsRestClassifier\n",
        "print(\"Tworzy obiekt klasyfikatora\")\n",
        "ovr_clf = OneVsRestClassifier(SVC(gamma=\"auto\", random_state=42))\n",
        "print(\"Uczy klasyfikator\")\n",
        "ovr_clf.fit(X_train[:1000], y_train[:1000])\n",
        "print(\"Przewiduje wynik dla some_digit\")\n",
        "print(ovr_clf.predict([some_digit]))\n",
        "print(\"Ilość estymatorów\")\n",
        "print(len(ovr_clf.estimators_))"
      ],
      "execution_count": null,
      "outputs": [
        {
          "output_type": "stream",
          "text": [
            "Klasyfikator wieloklasowy na podstawie SVC przy użyciu strategii OvR\n",
            "Tworzy obiekt klasyfikatora\n",
            "Uczy klasyfikator\n",
            "Przewiduje wynik dla some_digit\n",
            "[5]\n",
            "Ilość estymatorów\n",
            "10\n"
          ],
          "name": "stdout"
        }
      ]
    },
    {
      "cell_type": "code",
      "metadata": {
        "colab": {
          "base_uri": "https://localhost:8080/"
        },
        "id": "LApS_ABwop1b",
        "outputId": "be3aa5bf-e8ec-4361-9176-cbbe6a7dac67"
      },
      "source": [
        "print(\"Wyucza klasyfikator SGDClassifier wobec zbioru uczącego za pomocą pierwotnych klas docelowych od 0 do 9\")\n",
        "print(\"y_train, a nie klas docelowych 5 przeciw reszcie y_train_5.\")\n",
        "print(\"Nie wdraża strategii OvO ani OvR,\")\n",
        "print(\"bo klasyfikatory SGD mogą klasyfikować przykłady w sposób wieloklasowy.\")\n",
        "print(\"Sam zmiejszyłem zbiór treningowy do 1000 próbek, żeby oszczędzić czas\")\n",
        "sgd_clf.fit(X_train[:1000], y_train[:1000])\n",
        "sgd_clf.predict([some_digit])"
      ],
      "execution_count": null,
      "outputs": [
        {
          "output_type": "stream",
          "text": [
            "Wyucza klasyfikator SGDClassifier wobec zbioru uczącego za pomocą pierwotnych klas docelowych od 0 do 9\n",
            "y_train, a nie klas docelowych 5 przeciw reszcie y_train_5.\n",
            "Nie wdraża strategii OvO ani OvR,\n",
            "bo klasyfikatory SGD mogą klasyfikować przykłady w sposób wieloklasowy.\n",
            "Sam zmiejszyłem zbiór treningowy do 1000 próbek, żeby oszczędzić czas\n"
          ],
          "name": "stdout"
        },
        {
          "output_type": "execute_result",
          "data": {
            "text/plain": [
              "array([5], dtype=uint8)"
            ]
          },
          "metadata": {
            "tags": []
          },
          "execution_count": 44
        }
      ]
    },
    {
      "cell_type": "code",
      "metadata": {
        "colab": {
          "base_uri": "https://localhost:8080/"
        },
        "id": "OIG4U2Zdqcuw",
        "outputId": "a1acc15f-88b2-4fba-d4da-b43270e0277f"
      },
      "source": [
        "print(\"Metoda decision_function zwraca po jednej wartości na każdą klasę\")\n",
        "sgd_clf.decision_function([some_digit])\n",
        "print(\"A więc największą wartość decyzyjnną ma czwarty element czyli liczba 3\")"
      ],
      "execution_count": null,
      "outputs": [
        {
          "output_type": "stream",
          "text": [
            "Metoda decision_function zwraca po jednej wartości na każdą klasę\n",
            "A więc największą wartość decyzyjnną ma czwarty element czyli liczba 3\n"
          ],
          "name": "stdout"
        }
      ]
    },
    {
      "cell_type": "code",
      "metadata": {
        "colab": {
          "base_uri": "https://localhost:8080/"
        },
        "id": "fIQLpvzzrpWL",
        "outputId": "346824eb-4e55-4d7a-b2be-f4bd90c6c044"
      },
      "source": [
        "print(\"Spr skuteczność (dokładność) SGDClassifier za pomocą sprawdzianu krzyżowego\")\n",
        "cross_val_score(sgd_clf, X_train[:1000], y_train[:1000], cv=3,scoring=\"accuracy\")\n",
        "print(\"Wynik powyżej 85% dla wszystich podzbiorów testowych. Korzystając z losowego klasyfikatora byłoby\")\n",
        "print(\"po 10%, bo bo dla każdej liczby od 0 do 9 szansa jest 10%.\")"
      ],
      "execution_count": null,
      "outputs": [
        {
          "output_type": "stream",
          "text": [
            "Spr skuteczność (dokładność) SGDClassifier za pomocą sprawdzianu krzyżowego\n",
            "Wynik powyżej 85% dla wszystich podzbiorów testowych. Korzystając z losowego klasyfikatora byłoby\n",
            "po 10%, bo bo dla każdej liczby od 0 do 9 szansa jest 10%.\n"
          ],
          "name": "stdout"
        }
      ]
    },
    {
      "cell_type": "code",
      "metadata": {
        "colab": {
          "base_uri": "https://localhost:8080/"
        },
        "id": "m7pxhdKiuJlA",
        "outputId": "957bce62-eeb0-403f-f7d9-541d30518eed"
      },
      "source": [
        "print(\"Większa dokładność po przeskalowaniu\")\n",
        "from sklearn.preprocessing import StandardScaler\n",
        "scaler = StandardScaler()\n",
        "X_train_scaled = scaler.fit_transform(X_train[:1000].astype(np.float64))\n",
        "cross_val_score(sgd_clf, X_train_scaled, y_train[:1000], cv=3, scoring=\"accuracy\")"
      ],
      "execution_count": null,
      "outputs": [
        {
          "output_type": "stream",
          "text": [
            "Większa dokładność po przeskalowaniu\n"
          ],
          "name": "stdout"
        },
        {
          "output_type": "execute_result",
          "data": {
            "text/plain": [
              "array([0.83532934, 0.81681682, 0.82882883])"
            ]
          },
          "metadata": {
            "tags": []
          },
          "execution_count": 47
        }
      ]
    },
    {
      "cell_type": "markdown",
      "metadata": {
        "id": "hl00ol9muhDD"
      },
      "source": [
        "# **Analiza błędów**"
      ]
    },
    {
      "cell_type": "code",
      "metadata": {
        "colab": {
          "base_uri": "https://localhost:8080/"
        },
        "id": "2EJ-awn_u46g",
        "outputId": "8517fdd4-939a-40c7-e324-844858c84a4f"
      },
      "source": [
        "print(\"Wyliczam prognozy i macierz pomyłek\")\n",
        "y_train_pred = cross_val_predict(sgd_clf, X_train_scaled, y_train[:1000], cv=3)\n",
        "conf_mx = confusion_matrix(y_train[:1000], y_train_pred)\n",
        "conf_mx\n",
        "print(\"Na przykład drugi wiersz i siódma kolumna to 1, czyli rzeczywista cyfra 1 została\")\n",
        "print(\"pomylona z cyfrą 6 dokładnie 1 raz\")"
      ],
      "execution_count": null,
      "outputs": [
        {
          "output_type": "stream",
          "text": [
            "Wyliczam prognozy i macierz pomyłek\n",
            "Na przykład drugi wiersz i siódma kolumna to 1, czyli rzeczywista cyfra 1 została\n",
            "pomylona z cyfrą 6 dokładnie 1 raz\n"
          ],
          "name": "stdout"
        }
      ]
    },
    {
      "cell_type": "code",
      "metadata": {
        "colab": {
          "base_uri": "https://localhost:8080/",
          "height": 509
        },
        "id": "jC3IhCXvzGjG",
        "outputId": "b9d30993-8516-4594-f0fa-649a82e62dc2"
      },
      "source": [
        "print(\"Graficzna interpretacja macierzy pomyłek\")\n",
        "# since sklearn 0.22, you can use sklearn.metrics.plot_confusion_matrix()\n",
        "def plot_confusion_matrix(matrix):\n",
        "    \"\"\"If you prefer color and a colorbar\"\"\"\n",
        "    fig = plt.figure(figsize=(8,8))\n",
        "    ax = fig.add_subplot(111)\n",
        "    cax = ax.matshow(matrix)\n",
        "    fig.colorbar(cax)\n",
        "print(\"Sam to wywołuję\")\n",
        "plot_confusion_matrix(conf_mx)"
      ],
      "execution_count": null,
      "outputs": [
        {
          "output_type": "stream",
          "text": [
            "Graficzna interpretacja macierzy pomyłek\n",
            "Sam to wywołuję\n"
          ],
          "name": "stdout"
        },
        {
          "output_type": "display_data",
          "data": {
            "image/png": "[encoded data removed]",
            "text/plain": [
              "<Figure size 576x576 with 2 Axes>"
            ]
          },
          "metadata": {
            "tags": []
          }
        }
      ]
    },
    {
      "cell_type": "code",
      "metadata": {
        "colab": {
          "base_uri": "https://localhost:8080/",
          "height": 295
        },
        "id": "S9SXsCLjz-SV",
        "outputId": "db0a30ff-5560-4f40-d513-99ad31f1383e"
      },
      "source": [
        "plt.matshow(conf_mx, cmap=plt.cm.gray)\n",
        "save_fig(\"confusion_matrix_plot\", tight_layout=False)\n",
        "plt.show()"
      ],
      "execution_count": null,
      "outputs": [
        {
          "output_type": "stream",
          "text": [
            "Saving figure confusion_matrix_plot\n"
          ],
          "name": "stdout"
        },
        {
          "output_type": "display_data",
          "data": {
            "image/png": "[encoded data removed]",
            "text/plain": [
              "<Figure size 288x288 with 1 Axes>"
            ]
          },
          "metadata": {
            "tags": []
          }
        }
      ]
    },
    {
      "cell_type": "code",
      "metadata": {
        "colab": {
          "base_uri": "https://localhost:8080/"
        },
        "id": "wKod5r0S0ZYl",
        "outputId": "a847ec09-8303-4136-82b6-f3eaee662c90"
      },
      "source": [
        "print(\"Porównuję błędy poprzez podzielenie każdej wartości z macierzy pomyłek\")\n",
        "print(\"przez liczbę obrazów należących do danej klasy\")\n",
        "row_sums = conf_mx.sum(axis=1, keepdims=True)\n",
        "print(\"row_sums =\", row_sums)\n",
        "\n",
        "print()\n",
        "print(\"Mój sposób na sumowanie liczb w wierszach\")\n",
        "moje_row_sums = []\n",
        "for row in conf_mx:\n",
        "    row_sum = sum(row)\n",
        "    moje_row_sums.append(row_sum)\n",
        "print(moje_row_sums)\n",
        "\n",
        "print()\n",
        "norm_conf_mx = conf_mx / row_sums\n",
        "print(\"norm_conf_mx\", norm_conf_mx)"
      ],
      "execution_count": null,
      "outputs": [
        {
          "output_type": "stream",
          "text": [
            "Porównuję błędy poprzez podzielenie każdej wartości z macierzy pomyłek\n",
            "przez liczbę obrazów należących do danej klasy\n",
            "row_sums = [[ 97]\n",
            " [116]\n",
            " [ 99]\n",
            " [ 93]\n",
            " [105]\n",
            " [ 92]\n",
            " [ 94]\n",
            " [117]\n",
            " [ 87]\n",
            " [100]]\n",
            "\n",
            "Mój sposób na sumowanie liczb w wierszach\n",
            "[97, 116, 99, 93, 105, 92, 94, 117, 87, 100]\n",
            "\n",
            "norm_conf_mx [[0.97938144 0.         0.01030928 0.         0.         0.01030928\n",
            "  0.         0.         0.         0.        ]\n",
            " [0.         0.9137931  0.01724138 0.         0.         0.04310345\n",
            "  0.00862069 0.         0.00862069 0.00862069]\n",
            " [0.01010101 0.03030303 0.76767677 0.02020202 0.03030303 0.01010101\n",
            "  0.04040404 0.03030303 0.05050505 0.01010101]\n",
            " [0.01075269 0.02150538 0.05376344 0.80645161 0.         0.04301075\n",
            "  0.         0.03225806 0.         0.03225806]\n",
            " [0.         0.         0.         0.02857143 0.85714286 0.02857143\n",
            "  0.00952381 0.00952381 0.01904762 0.04761905]\n",
            " [0.01086957 0.         0.02173913 0.09782609 0.02173913 0.70652174\n",
            "  0.02173913 0.01086957 0.08695652 0.02173913]\n",
            " [0.0212766  0.0106383  0.03191489 0.         0.0212766  0.04255319\n",
            "  0.87234043 0.         0.         0.        ]\n",
            " [0.         0.01709402 0.02564103 0.         0.02564103 0.\n",
            "  0.         0.90598291 0.         0.02564103]\n",
            " [0.02298851 0.06896552 0.02298851 0.01149425 0.         0.06896552\n",
            "  0.02298851 0.02298851 0.73563218 0.02298851]\n",
            " [0.03       0.         0.02       0.01       0.07       0.01\n",
            "  0.         0.17       0.01       0.68      ]]\n"
          ],
          "name": "stdout"
        }
      ]
    },
    {
      "cell_type": "code",
      "metadata": {
        "colab": {
          "base_uri": "https://localhost:8080/",
          "height": 312
        },
        "id": "husilcj3HxMC",
        "outputId": "138e1a80-38c2-4517-8a21-e33ee173beb3"
      },
      "source": [
        "print(\"Wypełnia główną przekątną zerami, aby zostały same błędy.\")\n",
        "\n",
        "np.fill_diagonal(norm_conf_mx, 0)\n",
        "plt.matshow(norm_conf_mx, cmap=plt.cm.gray)\n",
        "save_fig(\"confusion_matrix_errors_plot\", tight_layout=False)\n",
        "plt.show()"
      ],
      "execution_count": null,
      "outputs": [
        {
          "output_type": "stream",
          "text": [
            "Wypełnia główną przekątną zerami, aby zostały same błędy.\n",
            "Saving figure confusion_matrix_errors_plot\n"
          ],
          "name": "stdout"
        },
        {
          "output_type": "display_data",
          "data": {
            "image/png": "[encoded data removed]",
            "text/plain": [
              "<Figure size 288x288 with 1 Axes>"
            ]
          },
          "metadata": {
            "tags": []
          }
        }
      ]
    },
    {
      "cell_type": "code",
      "metadata": {
        "colab": {
          "base_uri": "https://localhost:8080/",
          "height": 768
        },
        "id": "oCbPdM49KR5l",
        "outputId": "dc91d56a-0bb8-4179-aa5c-aa2a2a8a9f81"
      },
      "source": [
        "print(\"X_aa to cyfry klasy cl_a dobrze prognozowane jako klasa cl_a\")\n",
        "print(\"X_ab to cyfry klasy cl_a źle prognozowane jako klasa cl_b\")\n",
        "print(\"X_ba to cyfry klasy cl_b źle prognozowane jako klasa cl_a\")\n",
        "print(\"X_bb to cyfry klasy cl_b dobrze prognozowane jako klasa cl_b\")\n",
        "\n",
        "cl_a, cl_b = 3, 5\n",
        "# X_aa = X_train[(y_train[:1000] == cl_a) & (y_train_pred[:1000] == cl_a)]\n",
        "# X_ab = X_train[(y_train[:1000] == cl_a) & (y_train_pred[:1000] == cl_b)]\n",
        "# X_ba = X_train[(y_train[:1000] == cl_b) & (y_train_pred[:1000] == cl_a)]\n",
        "# X_bb = X_train[(y_train[:1000] == cl_b) & (y_train_pred[:1000] == cl_b)]\n",
        "\n",
        "print(\"len(y_train) =\", len(y_train))\n",
        "print(\"len(y_train_pred) =\", len(y_train_pred))\n",
        "\n",
        "y_train_short = y_train[:1000]\n",
        "print(\"len(y_train_short) =\", len(y_train_short))\n",
        "\n",
        "print(\"len(X_train) =\", len(X_train))\n",
        "X_train_short = X_train[:1000]\n",
        "print(\"len(X_train_short) =\", len(X_train_short))\n",
        "\n",
        "X_aa = X_train_short[(y_train_short == cl_a) & (y_train_pred == cl_a)]\n",
        "X_ab = X_train_short[(y_train_short == cl_a) & (y_train_pred == cl_b)]\n",
        "X_ba = X_train_short[(y_train_short == cl_b) & (y_train_pred == cl_a)]\n",
        "X_bb = X_train_short[(y_train_short == cl_b) & (y_train_pred == cl_b)]\n",
        "\n",
        "plt.figure(figsize=(8,8))\n",
        "plt.subplot(221); plot_digits(X_aa[:25], images_per_row=5)\n",
        "plt.subplot(222); plot_digits(X_ab[:25], images_per_row=5)\n",
        "plt.subplot(223); plot_digits(X_ba[:25], images_per_row=5)\n",
        "plt.subplot(224); plot_digits(X_bb[:25], images_per_row=5)\n",
        "save_fig(\"error_analysis_digits_plot\")\n",
        "plt.show()\n",
        "\n",
        "print(\"Nie wyszły kwadraty tak jak w książce, bo tylko 1000 próbek, więc było mało źle sklasyfikowanych.\")"
      ],
      "execution_count": null,
      "outputs": [
        {
          "output_type": "stream",
          "text": [
            "X_aa to cyfry klasy cl_a dobrze prognozowane jako klasa cl_a\n",
            "X_ab to cyfry klasy cl_a źle prognozowane jako klasa cl_b\n",
            "X_ba to cyfry klasy cl_b źle prognozowane jako klasa cl_a\n",
            "X_bb to cyfry klasy cl_b dobrze prognozowane jako klasa cl_b\n",
            "len(y_train) = 60000\n",
            "len(y_train_pred) = 1000\n",
            "len(y_train_short) = 1000\n",
            "len(X_train) = 60000\n",
            "len(X_train_short) = 1000\n",
            "Saving figure error_analysis_digits_plot\n"
          ],
          "name": "stdout"
        },
        {
          "output_type": "display_data",
          "data": {
            "image/png": "[encoded data removed]",
            "text/plain": [
              "<Figure size 576x576 with 4 Axes>"
            ]
          },
          "metadata": {
            "tags": []
          }
        },
        {
          "output_type": "stream",
          "text": [
            "Nie wyszły kwadraty tak jak w książce, bo tylko 1000 próbek, więc było mało źle sklasyfikowanych.\n"
          ],
          "name": "stdout"
        }
      ]
    },
    {
      "cell_type": "markdown",
      "metadata": {
        "id": "Ayuc6mTtQO_6"
      },
      "source": [
        "# **Klasyfikacja wieloetykietowa**"
      ]
    },
    {
      "cell_type": "code",
      "metadata": {
        "colab": {
          "base_uri": "https://localhost:8080/"
        },
        "id": "W1eADERxmC5t",
        "outputId": "9685df08-80e2-4486-c09f-10f4977f9ccb"
      },
      "source": [
        "from sklearn.neighbors import KNeighborsClassifier\n",
        "\n",
        "print(\"Zmieniłem wszędzie na [:1000], żeby oszczędzić czas.\")\n",
        "print(\"y_train_large to lista True-False, sprawdzająca czy element z y_train jest większy równy 7\")\n",
        "y_train_large = (y_train[:1000] >= 7)\n",
        "print(y_train_large[:10])\n",
        "print()\n",
        "print(\"y_train_odd to lista True-False, sprawdzająca czy element z y_train jest nieparzysty\")\n",
        "y_train_odd = (y_train[:1000] % 2 == 1)\n",
        "print(y_train_odd[:10])\n",
        "print()\n",
        "print(\"y_multilabel jest połączeniem y_train_large i y_train_odd w listę, której elementy są parami\")\n",
        "y_multilabel = np.c_[y_train_large, y_train_odd]\n",
        "print(y_multilabel[:10])\n",
        "\n",
        "knn_clf = KNeighborsClassifier()\n",
        "knn_clf.fit(X_train[:1000], y_multilabel)"
      ],
      "execution_count": null,
      "outputs": [
        {
          "output_type": "stream",
          "text": [
            "Zmieniłem wszędzie na [:1000], żeby oszczędzić czas.\n",
            "y_train_large to lista True-False, sprawdzająca czy element z y_train jest większy równy 7\n",
            "[False False False False  True False False False False False]\n",
            "\n",
            "y_train_odd to lista True-False, sprawdzająca czy element z y_train jest nieparzysty\n",
            "[ True False False  True  True False  True  True  True False]\n",
            "\n",
            "y_multilabel jest połączeniem y_train_large i y_train_odd w listę, której elementy są parami\n",
            "[[False  True]\n",
            " [False False]\n",
            " [False False]\n",
            " [False  True]\n",
            " [ True  True]\n",
            " [False False]\n",
            " [False  True]\n",
            " [False  True]\n",
            " [False  True]\n",
            " [False False]]\n"
          ],
          "name": "stdout"
        },
        {
          "output_type": "execute_result",
          "data": {
            "text/plain": [
              "KNeighborsClassifier(algorithm='auto', leaf_size=30, metric='minkowski',\n",
              "                     metric_params=None, n_jobs=None, n_neighbors=5, p=2,\n",
              "                     weights='uniform')"
            ]
          },
          "metadata": {
            "tags": []
          },
          "execution_count": 54
        }
      ]
    },
    {
      "cell_type": "code",
      "metadata": {
        "colab": {
          "base_uri": "https://localhost:8080/"
        },
        "id": "qIQ15Zrbn6ps",
        "outputId": "4d25b8e7-2fb6-46ac-f105-69f8f28a090e"
      },
      "source": [
        "print(\"Prognoza dla some_digit.\")\n",
        "knn_clf.predict([some_digit])\n",
        "print(\"Oznacza, że 5 nie jest większa równa 7 oraz że jest nieparzysta\")"
      ],
      "execution_count": null,
      "outputs": [
        {
          "output_type": "stream",
          "text": [
            "Prognoza dla some_digit.\n",
            "Oznacza, że 5 nie jest większa równa 7 oraz że jest nieparzysta\n"
          ],
          "name": "stdout"
        }
      ]
    },
    {
      "cell_type": "code",
      "metadata": {
        "colab": {
          "base_uri": "https://localhost:8080/"
        },
        "id": "vhvQsbRApAD7",
        "outputId": "a0bb276b-4496-44dd-ffaa-320da6aec6f8"
      },
      "source": [
        "print(\"Średnia F1 dla wszystkich etykiet\")\n",
        "\n",
        "y_train_knn_pred = cross_val_predict(knn_clf, X_train[:1000], y_multilabel[:1000], cv=3)\n",
        "f1_score(y_multilabel, y_train_knn_pred, average=\"macro\")"
      ],
      "execution_count": null,
      "outputs": [
        {
          "output_type": "stream",
          "text": [
            "Średnia F1 dla wszystkich etykiet\n"
          ],
          "name": "stdout"
        },
        {
          "output_type": "execute_result",
          "data": {
            "text/plain": [
              "0.8885424739016866"
            ]
          },
          "metadata": {
            "tags": []
          },
          "execution_count": 56
        }
      ]
    },
    {
      "cell_type": "markdown",
      "metadata": {
        "id": "7R-1iyZ0sawX"
      },
      "source": [
        "# **Klasyfikacja wielowyjściowa**"
      ]
    },
    {
      "cell_type": "code",
      "metadata": {
        "colab": {
          "base_uri": "https://localhost:8080/"
        },
        "id": "U-F15Hegthm-",
        "outputId": "fe981925-e757-4ade-9318-86aed40e7dc0"
      },
      "source": [
        "print(\"Sam oswajam się z randint i argmax\")\n",
        "lista = []\n",
        "amount_of_integers = 10\n",
        "max_integer = 100\n",
        "for i in range(amount_of_integers):\n",
        "    liczba = np.random.randint(max_integer + 1)\n",
        "    lista.append(liczba)\n",
        "print(\"Losowa lista złożona z\", amount_of_integers, \"liczb z zakresu od 0 do\", max_integer)\n",
        "print(lista)\n",
        "print(\"Największy element jest o indeksie\", np.argmax(lista), \"i wynosi on\", lista[np.argmax(lista)])\n",
        "\n",
        "print()\n",
        "print(\"Losowa lista złożona z 15 liczb, każda od 20 do 40\")\n",
        "druga_lista = np.random.randint(20, 40, size=(3,5))\n",
        "print(druga_lista)"
      ],
      "execution_count": null,
      "outputs": [
        {
          "output_type": "stream",
          "text": [
            "Sam oswajam się z randint i argmax\n",
            "Losowa lista złożona z 10 liczb z zakresu od 0 do 100\n",
            "[51, 92, 14, 71, 60, 20, 82, 86, 74, 74]\n",
            "Największy element jest o indeksie 1 i wynosi on 92\n",
            "\n",
            "Losowa lista złożona z 15 liczb, każda od 20 do 40\n",
            "[[23 27 22 21 31]\n",
            " [25 21 20 31 31]\n",
            " [36 29 35 34 34]]\n"
          ],
          "name": "stdout"
        }
      ]
    },
    {
      "cell_type": "code",
      "metadata": {
        "colab": {
          "base_uri": "https://localhost:8080/"
        },
        "id": "Sn7KFxLxu1KM",
        "outputId": "6cb6d710-6567-46b6-e610-98058383ce5e"
      },
      "source": [
        "print(\"Każda cyfra ze zbioru X_train jest obrazem złożonym z 28*28=784 pikseli.\")\n",
        "print(\"Dla oszczędności czasu biorę początkowe 1000 cyfr.\")\n",
        "print(\"Tworzę szum do każdego z 1000x784=784000 pikseli z obrazów uczących się.\")\n",
        "noise_for_train = np.random.randint(0, 100, size=(len(X_train[:1000]), 784))\n",
        "print(\"Ilość wierszów szumu\", len(noise_for_train), \"a w każdym wierszu\", len(noise_for_train[0]), \"liczb.\")\n",
        "print(noise_for_train)\n",
        "print(\"Dodaję szum do każdego z obrazów uczących się.\")\n",
        "X_train_mod = X_train[:1000] + noise_for_train\n",
        "print(\"Tworzę szum do każdego z 1000x784=784000 pikseli z obrazów testowych.\")\n",
        "noise_for_test = np.random.randint(0, 100, (len(X_test[:1000]), 784))\n",
        "print(\"Ilość wierszów szumu\", len(noise_for_test), \"a w każdym wierszu\", len(noise_for_test[0]), \"liczb.\")\n",
        "print(noise_for_test)\n",
        "print(\"Dodaję szum do każdego z obrazów testowych\")\n",
        "X_test_mod = X_test[:1000] + noise_for_test\n",
        "\n",
        "print(\"Jako etykiety przypisuję oryginalne dane uczące i testowe (one będą targetami)\")\n",
        "y_train_mod = X_train[:1000]\n",
        "y_test_mod = X_test[:1000]"
      ],
      "execution_count": null,
      "outputs": [
        {
          "output_type": "stream",
          "text": [
            "Każda cyfra ze zbioru X_train jest obrazem złożonym z 28*28=784 pikseli.\n",
            "Dla oszczędności czasu biorę początkowe 1000 cyfr.\n",
            "Tworzę szum do każdego z 1000x784=784000 pikseli z obrazów uczących się.\n",
            "Ilość wierszów szumu 1000 a w każdym wierszu 784 liczb.\n",
            "[[61 50 54 ... 73 82 16]\n",
            " [84 77 72 ...  2 36 42]\n",
            " [39 89 54 ... 34  7 15]\n",
            " ...\n",
            " [60 85 22 ... 41 11 35]\n",
            " [67 36 64 ... 68 51  5]\n",
            " [14  3 53 ... 64 89 68]]\n",
            "Dodaję szum do każdego z obrazów uczących się.\n",
            "Tworzę szum do każdego z 1000x784=784000 pikseli z obrazów testowych.\n",
            "Ilość wierszów szumu 1000 a w każdym wierszu 784 liczb.\n",
            "[[93 17 96 ... 13 82 62]\n",
            " [96 80 95 ... 57  8 62]\n",
            " [42 72 95 ... 60 12 67]\n",
            " ...\n",
            " [99 85 74 ... 19 20 69]\n",
            " [75 19 21 ... 15 97 25]\n",
            " [55 63 20 ... 28 90 64]]\n",
            "Dodaję szum do każdego z obrazów testowych\n",
            "Jako etykiety przypisuję oryginalne dane uczące i testowe (one będą targetami)\n"
          ],
          "name": "stdout"
        }
      ]
    },
    {
      "cell_type": "code",
      "metadata": {
        "colab": {
          "base_uri": "https://localhost:8080/",
          "height": 285
        },
        "id": "F2b8r3wc2Qgf",
        "outputId": "3bc1121f-13dd-4d80-d563-2c515b24c5f6"
      },
      "source": [
        "print(\"Po lewej zaszumiony obraz z X_test_mod, a po prawej odszumiony obraz z y_test_mode\")\n",
        "some_index = 0\n",
        "plt.subplot(121); plot_digit(X_test_mod[some_index])\n",
        "plt.subplot(122); plot_digit(y_test_mod[some_index])\n",
        "save_fig(\"noisy_digit_example_plot\")\n",
        "plt.show()"
      ],
      "execution_count": null,
      "outputs": [
        {
          "output_type": "stream",
          "text": [
            "Po lewej zaszumiony obraz z X_test_mod, a po prawej odszumiony obraz z y_test_mode\n",
            "Saving figure noisy_digit_example_plot\n"
          ],
          "name": "stdout"
        },
        {
          "output_type": "display_data",
          "data": {
            "image/png": "[encoded data removed]",
            "text/plain": [
              "<Figure size 432x288 with 2 Axes>"
            ]
          },
          "metadata": {
            "tags": []
          }
        }
      ]
    },
    {
      "cell_type": "code",
      "metadata": {
        "colab": {
          "base_uri": "https://localhost:8080/",
          "height": 283
        },
        "id": "OJOq2IN_3b7M",
        "outputId": "7965deff-72f7-4929-de18-45ec1b41baa7"
      },
      "source": [
        "print(\"Wyuczamy klasyfikator.\")\n",
        "knn_clf.fit(X_train_mod, y_train_mod)\n",
        "print(\"Oczyszczamy obraz\")\n",
        "clean_digit = knn_clf.predict([X_test_mod[some_index]])\n",
        "plot_digit(clean_digit)"
      ],
      "execution_count": null,
      "outputs": [
        {
          "output_type": "stream",
          "text": [
            "Wyuczamy klasyfikator.\n",
            "Oczyszczamy obraz\n"
          ],
          "name": "stdout"
        },
        {
          "output_type": "display_data",
          "data": {
            "image/png": "[encoded data removed]",
            "text/plain": [
              "<Figure size 432x288 with 1 Axes>"
            ]
          },
          "metadata": {
            "tags": []
          }
        }
      ]
    },
    {
      "cell_type": "markdown",
      "metadata": {
        "id": "UlCeuCwa2nC_"
      },
      "source": [
        "# **Extra material**"
      ]
    },
    {
      "cell_type": "markdown",
      "metadata": {
        "id": "BbBG0t7u2o26"
      },
      "source": [
        "## **Dummy (ie. random) classifier**"
      ]
    },
    {
      "cell_type": "markdown",
      "metadata": {
        "id": "UDnKrut-2m14"
      },
      "source": [
        ""
      ]
    },
    {
      "cell_type": "code",
      "metadata": {
        "colab": {
          "base_uri": "https://localhost:8080/"
        },
        "id": "d7Ipf5KW2vjx",
        "outputId": "7dd07cb8-34b2-4d9a-eceb-be66aeed666d"
      },
      "source": [
        "# https://github.com/ageron/handson-ml2/blob/master/03_classification.ipynb\n",
        "\n",
        "print(\"Całkowicie losowy klasyfikator str 117\")\n",
        "from sklearn.dummy import DummyClassifier\n",
        "dmy_clf = DummyClassifier(strategy=\"prior\")\n",
        "y_probas_dmy = cross_val_predict(dmy_clf, X_train[:1000], y_train_5[:1000], cv=3, method=\"predict_proba\")\n",
        "y_scores_dmy = y_probas_dmy[:, 1]"
      ],
      "execution_count": null,
      "outputs": [
        {
          "output_type": "stream",
          "text": [
            "Całkowicie losowy klasyfikator str 117\n"
          ],
          "name": "stdout"
        }
      ]
    },
    {
      "cell_type": "code",
      "metadata": {
        "colab": {
          "base_uri": "https://localhost:8080/"
        },
        "id": "204_eRTI5b6P",
        "outputId": "c033d7a1-5d7a-46a1-cbbe-09c6b7a83e7b"
      },
      "source": [
        "print(\"Pierwsza liczba to p-two, że nie próbka nie jest klasy 5, a druga liczba że jest klasy 5\")\n",
        "print(\"y_probas_dmy\") \n",
        "print(y_probas_dmy)\n",
        "print()\n",
        "print(\"Drugie liczby z każdego wiersza\")\n",
        "print(\"y_scores_dmy\")\n",
        "print(y_scores_dmy)"
      ],
      "execution_count": null,
      "outputs": [
        {
          "output_type": "stream",
          "text": [
            "Pierwsza liczba to p-two, że nie próbka nie jest klasy 5, a druga liczba że jest klasy 5\n",
            "y_probas_dmy\n",
            "[[0.90840841 0.09159159]\n",
            " [0.90840841 0.09159159]\n",
            " [0.90840841 0.09159159]\n",
            " ...\n",
            " [0.90704648 0.09295352]\n",
            " [0.90704648 0.09295352]\n",
            " [0.90704648 0.09295352]]\n",
            "\n",
            "Drugie liczby z każdego wiersza\n",
            "y_scores_dmy\n",
            "[0.09159159 0.09159159 0.09159159 0.09159159 0.09159159 0.09159159\n",
            " 0.09159159 0.09159159 0.09159159 0.09159159 0.09159159 0.09159159\n",
            " 0.09159159 0.09159159 0.09159159 0.09159159 0.09159159 0.09159159\n",
            " 0.09159159 0.09159159 0.09159159 0.09159159 0.09159159 0.09159159\n",
            " 0.09159159 0.09159159 0.09159159 0.09159159 0.09159159 0.09159159\n",
            " 0.09159159 0.09159159 0.09159159 0.09159159 0.09159159 0.09159159\n",
            " 0.09159159 0.09159159 0.09159159 0.09159159 0.09159159 0.09159159\n",
            " 0.09159159 0.09159159 0.09159159 0.09159159 0.09159159 0.09159159\n",
            " 0.09159159 0.09159159 0.09159159 0.09159159 0.09159159 0.09159159\n",
            " 0.09159159 0.09159159 0.09159159 0.09159159 0.09159159 0.09159159\n",
            " 0.09159159 0.09159159 0.09159159 0.09159159 0.09159159 0.09159159\n",
            " 0.09159159 0.09159159 0.09159159 0.09159159 0.09159159 0.09159159\n",
            " 0.09159159 0.09159159 0.09159159 0.09159159 0.09159159 0.09159159\n",
            " 0.09159159 0.09159159 0.09159159 0.09159159 0.09159159 0.09159159\n",
            " 0.09159159 0.09159159 0.09159159 0.09159159 0.09159159 0.09159159\n",
            " 0.09159159 0.09159159 0.09159159 0.09159159 0.09159159 0.09159159\n",
            " 0.09159159 0.09159159 0.09159159 0.09159159 0.09159159 0.09159159\n",
            " 0.09159159 0.09159159 0.09159159 0.09159159 0.09159159 0.09159159\n",
            " 0.09159159 0.09159159 0.09159159 0.09159159 0.09159159 0.09159159\n",
            " 0.09159159 0.09159159 0.09159159 0.09159159 0.09159159 0.09159159\n",
            " 0.09159159 0.09159159 0.09159159 0.09159159 0.09159159 0.09159159\n",
            " 0.09159159 0.09159159 0.09159159 0.09159159 0.09159159 0.09159159\n",
            " 0.09159159 0.09159159 0.09159159 0.09159159 0.09159159 0.09159159\n",
            " 0.09159159 0.09159159 0.09159159 0.09159159 0.09159159 0.09159159\n",
            " 0.09159159 0.09159159 0.09159159 0.09159159 0.09159159 0.09159159\n",
            " 0.09159159 0.09159159 0.09159159 0.09159159 0.09159159 0.09159159\n",
            " 0.09159159 0.09159159 0.09159159 0.09159159 0.09159159 0.09159159\n",
            " 0.09159159 0.09159159 0.09159159 0.09159159 0.09159159 0.09159159\n",
            " 0.09159159 0.09159159 0.09159159 0.09159159 0.09159159 0.09159159\n",
            " 0.09159159 0.09159159 0.09159159 0.09159159 0.09159159 0.09159159\n",
            " 0.09159159 0.09159159 0.09159159 0.09159159 0.09159159 0.09159159\n",
            " 0.09159159 0.09159159 0.09159159 0.09159159 0.09159159 0.09159159\n",
            " 0.09159159 0.09159159 0.09159159 0.09159159 0.09159159 0.09159159\n",
            " 0.09159159 0.09159159 0.09159159 0.09159159 0.09159159 0.09159159\n",
            " 0.09159159 0.09159159 0.09159159 0.09159159 0.09159159 0.09159159\n",
            " 0.09159159 0.09159159 0.09159159 0.09159159 0.09159159 0.09159159\n",
            " 0.09159159 0.09159159 0.09159159 0.09159159 0.09159159 0.09159159\n",
            " 0.09159159 0.09159159 0.09159159 0.09159159 0.09159159 0.09159159\n",
            " 0.09159159 0.09159159 0.09159159 0.09159159 0.09159159 0.09159159\n",
            " 0.09159159 0.09159159 0.09159159 0.09159159 0.09159159 0.09159159\n",
            " 0.09159159 0.09159159 0.09159159 0.09159159 0.09159159 0.09159159\n",
            " 0.09159159 0.09159159 0.09159159 0.09159159 0.09159159 0.09159159\n",
            " 0.09159159 0.09159159 0.09159159 0.09159159 0.09159159 0.09159159\n",
            " 0.09159159 0.09159159 0.09159159 0.09159159 0.09159159 0.09159159\n",
            " 0.09159159 0.09159159 0.09159159 0.09159159 0.09159159 0.09159159\n",
            " 0.09159159 0.09159159 0.09159159 0.09159159 0.09159159 0.09159159\n",
            " 0.09159159 0.09159159 0.09159159 0.09159159 0.09159159 0.09159159\n",
            " 0.09159159 0.09159159 0.09159159 0.09159159 0.09159159 0.09159159\n",
            " 0.09159159 0.09159159 0.09159159 0.09159159 0.09159159 0.09159159\n",
            " 0.09159159 0.09159159 0.09159159 0.09159159 0.09159159 0.09159159\n",
            " 0.09159159 0.09159159 0.09159159 0.09159159 0.09159159 0.09159159\n",
            " 0.09159159 0.09159159 0.09159159 0.09159159 0.09159159 0.09159159\n",
            " 0.09159159 0.09159159 0.09159159 0.09159159 0.09159159 0.09159159\n",
            " 0.09159159 0.09159159 0.09159159 0.09159159 0.09159159 0.09159159\n",
            " 0.09159159 0.09159159 0.09159159 0.09159159 0.09159159 0.09145427\n",
            " 0.09145427 0.09145427 0.09159159 0.09145427 0.09145427 0.09159159\n",
            " 0.09145427 0.09145427 0.09145427 0.09145427 0.09145427 0.09145427\n",
            " 0.09145427 0.09145427 0.09145427 0.09145427 0.09145427 0.09145427\n",
            " 0.09145427 0.09145427 0.09145427 0.09145427 0.09145427 0.09145427\n",
            " 0.09145427 0.09145427 0.09145427 0.09145427 0.09145427 0.09145427\n",
            " 0.09145427 0.09145427 0.09145427 0.09145427 0.09145427 0.09145427\n",
            " 0.09145427 0.09145427 0.09145427 0.09145427 0.09145427 0.09145427\n",
            " 0.09145427 0.09145427 0.09145427 0.09145427 0.09159159 0.09145427\n",
            " 0.09145427 0.09145427 0.09145427 0.09145427 0.09145427 0.09145427\n",
            " 0.09145427 0.09145427 0.09145427 0.09145427 0.09145427 0.09145427\n",
            " 0.09145427 0.09145427 0.09145427 0.09145427 0.09145427 0.09145427\n",
            " 0.09159159 0.09145427 0.09145427 0.09145427 0.09145427 0.09145427\n",
            " 0.09145427 0.09159159 0.09145427 0.09145427 0.09145427 0.09145427\n",
            " 0.09145427 0.09145427 0.09145427 0.09145427 0.09145427 0.09145427\n",
            " 0.09145427 0.09145427 0.09145427 0.09145427 0.09145427 0.09145427\n",
            " 0.09145427 0.09145427 0.09145427 0.09145427 0.09145427 0.09145427\n",
            " 0.09145427 0.09145427 0.09145427 0.09145427 0.09145427 0.09145427\n",
            " 0.09145427 0.09145427 0.09145427 0.09145427 0.09145427 0.09145427\n",
            " 0.09145427 0.09145427 0.09145427 0.09145427 0.09145427 0.09145427\n",
            " 0.09145427 0.09145427 0.09145427 0.09145427 0.09145427 0.09145427\n",
            " 0.09145427 0.09145427 0.09145427 0.09145427 0.09145427 0.09145427\n",
            " 0.09145427 0.09145427 0.09145427 0.09145427 0.09145427 0.09145427\n",
            " 0.09145427 0.09145427 0.09145427 0.09145427 0.09145427 0.09145427\n",
            " 0.09145427 0.09145427 0.09145427 0.09145427 0.09145427 0.09145427\n",
            " 0.09145427 0.09145427 0.09145427 0.09145427 0.09145427 0.09145427\n",
            " 0.09145427 0.09145427 0.09145427 0.09145427 0.09145427 0.09145427\n",
            " 0.09145427 0.09145427 0.09145427 0.09145427 0.09145427 0.09145427\n",
            " 0.09145427 0.09145427 0.09145427 0.09145427 0.09145427 0.09145427\n",
            " 0.09145427 0.09145427 0.09145427 0.09145427 0.09145427 0.09145427\n",
            " 0.09145427 0.09145427 0.09145427 0.09145427 0.09145427 0.09145427\n",
            " 0.09145427 0.09145427 0.09145427 0.09145427 0.09145427 0.09145427\n",
            " 0.09145427 0.09145427 0.09145427 0.09145427 0.09145427 0.09145427\n",
            " 0.09145427 0.09145427 0.09145427 0.09145427 0.09145427 0.09145427\n",
            " 0.09145427 0.09145427 0.09145427 0.09145427 0.09145427 0.09145427\n",
            " 0.09145427 0.09145427 0.09145427 0.09145427 0.09145427 0.09145427\n",
            " 0.09145427 0.09145427 0.09145427 0.09145427 0.09145427 0.09145427\n",
            " 0.09145427 0.09145427 0.09145427 0.09145427 0.09145427 0.09145427\n",
            " 0.09145427 0.09145427 0.09145427 0.09145427 0.09145427 0.09145427\n",
            " 0.09145427 0.09145427 0.09145427 0.09145427 0.09145427 0.09145427\n",
            " 0.09145427 0.09145427 0.09145427 0.09145427 0.09145427 0.09145427\n",
            " 0.09145427 0.09145427 0.09145427 0.09145427 0.09145427 0.09145427\n",
            " 0.09145427 0.09145427 0.09145427 0.09145427 0.09145427 0.09145427\n",
            " 0.09145427 0.09145427 0.09145427 0.09145427 0.09145427 0.09145427\n",
            " 0.09145427 0.09145427 0.09145427 0.09145427 0.09145427 0.09145427\n",
            " 0.09145427 0.09145427 0.09145427 0.09145427 0.09145427 0.09145427\n",
            " 0.09145427 0.09145427 0.09145427 0.09145427 0.09145427 0.09145427\n",
            " 0.09145427 0.09145427 0.09145427 0.09145427 0.09145427 0.09145427\n",
            " 0.09145427 0.09145427 0.09145427 0.09145427 0.09145427 0.09145427\n",
            " 0.09145427 0.09145427 0.09145427 0.09145427 0.09145427 0.09145427\n",
            " 0.09145427 0.09145427 0.09145427 0.09145427 0.09145427 0.09145427\n",
            " 0.09145427 0.09145427 0.09145427 0.09145427 0.09145427 0.09145427\n",
            " 0.09145427 0.09145427 0.09145427 0.09145427 0.09145427 0.09145427\n",
            " 0.09145427 0.09145427 0.09145427 0.09145427 0.09145427 0.09145427\n",
            " 0.09145427 0.09145427 0.09145427 0.09145427 0.09145427 0.09145427\n",
            " 0.09145427 0.09145427 0.09145427 0.09145427 0.09145427 0.09145427\n",
            " 0.09145427 0.09145427 0.09145427 0.09145427 0.09295352 0.09295352\n",
            " 0.09295352 0.09295352 0.09295352 0.09295352 0.09295352 0.09295352\n",
            " 0.09295352 0.09295352 0.09295352 0.09295352 0.09295352 0.09295352\n",
            " 0.09295352 0.09145427 0.09295352 0.09295352 0.09295352 0.09295352\n",
            " 0.09295352 0.09295352 0.09295352 0.09295352 0.09295352 0.09295352\n",
            " 0.09145427 0.09295352 0.09295352 0.09295352 0.09295352 0.09295352\n",
            " 0.09295352 0.09295352 0.09295352 0.09145427 0.09295352 0.09295352\n",
            " 0.09295352 0.09295352 0.09295352 0.09295352 0.09295352 0.09295352\n",
            " 0.09295352 0.09295352 0.09295352 0.09295352 0.09295352 0.09295352\n",
            " 0.09295352 0.09295352 0.09295352 0.09295352 0.09295352 0.09295352\n",
            " 0.09295352 0.09295352 0.09295352 0.09295352 0.09295352 0.09295352\n",
            " 0.09295352 0.09295352 0.09295352 0.09295352 0.09295352 0.09295352\n",
            " 0.09295352 0.09295352 0.09295352 0.09295352 0.09295352 0.09295352\n",
            " 0.09295352 0.09295352 0.09295352 0.09295352 0.09295352 0.09295352\n",
            " 0.09295352 0.09295352 0.09295352 0.09295352 0.09295352 0.09295352\n",
            " 0.09295352 0.09295352 0.09295352 0.09295352 0.09295352 0.09295352\n",
            " 0.09295352 0.09295352 0.09295352 0.09295352 0.09295352 0.09295352\n",
            " 0.09295352 0.09295352 0.09295352 0.09295352 0.09295352 0.09295352\n",
            " 0.09295352 0.09295352 0.09295352 0.09295352 0.09295352 0.09295352\n",
            " 0.09295352 0.09295352 0.09295352 0.09295352 0.09295352 0.09295352\n",
            " 0.09295352 0.09295352 0.09295352 0.09295352 0.09295352 0.09295352\n",
            " 0.09295352 0.09295352 0.09295352 0.09295352 0.09295352 0.09295352\n",
            " 0.09295352 0.09295352 0.09295352 0.09295352 0.09295352 0.09295352\n",
            " 0.09295352 0.09295352 0.09295352 0.09295352 0.09295352 0.09295352\n",
            " 0.09295352 0.09295352 0.09295352 0.09295352 0.09295352 0.09295352\n",
            " 0.09295352 0.09295352 0.09295352 0.09295352 0.09295352 0.09295352\n",
            " 0.09295352 0.09295352 0.09295352 0.09295352 0.09295352 0.09295352\n",
            " 0.09295352 0.09295352 0.09295352 0.09295352 0.09295352 0.09295352\n",
            " 0.09295352 0.09295352 0.09295352 0.09295352 0.09295352 0.09295352\n",
            " 0.09295352 0.09295352 0.09295352 0.09295352 0.09295352 0.09295352\n",
            " 0.09295352 0.09295352 0.09295352 0.09295352 0.09295352 0.09295352\n",
            " 0.09295352 0.09295352 0.09295352 0.09295352 0.09295352 0.09295352\n",
            " 0.09295352 0.09295352 0.09295352 0.09295352 0.09295352 0.09295352\n",
            " 0.09295352 0.09295352 0.09295352 0.09295352 0.09295352 0.09295352\n",
            " 0.09295352 0.09295352 0.09295352 0.09295352 0.09295352 0.09295352\n",
            " 0.09295352 0.09295352 0.09295352 0.09295352 0.09295352 0.09295352\n",
            " 0.09295352 0.09295352 0.09295352 0.09295352 0.09295352 0.09295352\n",
            " 0.09295352 0.09295352 0.09295352 0.09295352 0.09295352 0.09295352\n",
            " 0.09295352 0.09295352 0.09295352 0.09295352 0.09295352 0.09295352\n",
            " 0.09295352 0.09295352 0.09295352 0.09295352 0.09295352 0.09295352\n",
            " 0.09295352 0.09295352 0.09295352 0.09295352 0.09295352 0.09295352\n",
            " 0.09295352 0.09295352 0.09295352 0.09295352 0.09295352 0.09295352\n",
            " 0.09295352 0.09295352 0.09295352 0.09295352 0.09295352 0.09295352\n",
            " 0.09295352 0.09295352 0.09295352 0.09295352 0.09295352 0.09295352\n",
            " 0.09295352 0.09295352 0.09295352 0.09295352 0.09295352 0.09295352\n",
            " 0.09295352 0.09295352 0.09295352 0.09295352 0.09295352 0.09295352\n",
            " 0.09295352 0.09295352 0.09295352 0.09295352 0.09295352 0.09295352\n",
            " 0.09295352 0.09295352 0.09295352 0.09295352 0.09295352 0.09295352\n",
            " 0.09295352 0.09295352 0.09295352 0.09295352 0.09295352 0.09295352\n",
            " 0.09295352 0.09295352 0.09295352 0.09295352 0.09295352 0.09295352\n",
            " 0.09295352 0.09295352 0.09295352 0.09295352 0.09295352 0.09295352\n",
            " 0.09295352 0.09295352 0.09295352 0.09295352 0.09295352 0.09295352\n",
            " 0.09295352 0.09295352 0.09295352 0.09295352 0.09295352 0.09295352\n",
            " 0.09295352 0.09295352 0.09295352 0.09295352 0.09295352 0.09295352\n",
            " 0.09295352 0.09295352 0.09295352 0.09295352 0.09295352 0.09295352\n",
            " 0.09295352 0.09295352 0.09295352 0.09295352 0.09295352 0.09295352\n",
            " 0.09295352 0.09295352 0.09295352 0.09295352]\n"
          ],
          "name": "stdout"
        }
      ]
    },
    {
      "cell_type": "code",
      "metadata": {
        "colab": {
          "base_uri": "https://localhost:8080/",
          "height": 292
        },
        "id": "NS5fj5dn61cx",
        "outputId": "bc81df80-e826-41b4-b6be-184e6d5ad988"
      },
      "source": [
        "fprr, tprr, thresholdsr = roc_curve(y_train_5[:1000], y_scores_dmy)\n",
        "plot_roc_curve(fprr, tprr)"
      ],
      "execution_count": null,
      "outputs": [
        {
          "output_type": "display_data",
          "data": {
            "image/png": "[encoded data removed]",
            "text/plain": [
              "<Figure size 432x288 with 1 Axes>"
            ]
          },
          "metadata": {
            "tags": []
          }
        }
      ]
    },
    {
      "cell_type": "markdown",
      "metadata": {
        "id": "68aT36cx7RTR"
      },
      "source": [
        "## **KNN classifier**"
      ]
    },
    {
      "cell_type": "code",
      "metadata": {
        "colab": {
          "base_uri": "https://localhost:8080/"
        },
        "id": "uHTw9BQJ7Xnd",
        "outputId": "0e234d0a-1de6-4e5c-f271-0c16eb9b3012"
      },
      "source": [
        "print(\"Klasyfikator KNN\")\n",
        "from sklearn.neighbors import KNeighborsClassifier\n",
        "knn_clf = KNeighborsClassifier(weights='distance', n_neighbors=4)\n",
        "knn_clf.fit(X_train[:1000], y_train[:1000])"
      ],
      "execution_count": null,
      "outputs": [
        {
          "output_type": "stream",
          "text": [
            "Klasyfikator KNN\n"
          ],
          "name": "stdout"
        },
        {
          "output_type": "execute_result",
          "data": {
            "text/plain": [
              "KNeighborsClassifier(algorithm='auto', leaf_size=30, metric='minkowski',\n",
              "                     metric_params=None, n_jobs=None, n_neighbors=4, p=2,\n",
              "                     weights='distance')"
            ]
          },
          "metadata": {
            "tags": []
          },
          "execution_count": 64
        }
      ]
    },
    {
      "cell_type": "code",
      "metadata": {
        "id": "Gw4D6YvU9yr8"
      },
      "source": [
        "y_knn_pred = knn_clf.predict(X_test[:1000])"
      ],
      "execution_count": null,
      "outputs": []
    },
    {
      "cell_type": "code",
      "metadata": {
        "colab": {
          "base_uri": "https://localhost:8080/"
        },
        "id": "glTJ6hT6E2ez",
        "outputId": "0e21bc7c-8451-44a0-fcf3-b47ae52d6c63"
      },
      "source": [
        "print(len(y_knn_pred))\n",
        "print(y_knn_pred)"
      ],
      "execution_count": null,
      "outputs": [
        {
          "output_type": "stream",
          "text": [
            "1000\n",
            "[7 2 1 0 4 1 9 9 6 7 0 6 9 0 1 3 9 7 3 4 9 6 6 5 9 0 7 4 0 1 3 1 3 4 7 2 7\n",
            " 1 2 1 1 7 4 1 5 5 1 2 4 4 6 3 5 5 0 0 4 1 9 1 7 2 4 9 7 9 0 4 3 0 7 0 0 7\n",
            " 1 7 3 2 9 7 9 6 2 7 8 4 7 3 6 1 3 6 9 3 1 9 1 7 6 9 6 0 5 4 9 9 2 1 9 4 8\n",
            " 7 3 9 7 9 4 4 9 7 5 4 7 6 7 9 0 5 8 5 6 6 5 7 8 1 0 1 6 4 6 7 3 1 7 1 8 2\n",
            " 0 1 9 9 5 5 1 5 6 0 3 1 4 6 5 4 6 5 4 5 1 9 4 7 2 3 2 1 1 8 1 8 1 2 5 0 2\n",
            " 9 2 5 0 1 1 1 0 9 0 1 1 6 9 2 3 6 1 1 1 3 9 5 2 9 4 9 9 3 9 0 3 5 5 5 7 3\n",
            " 2 7 1 2 8 4 1 7 5 3 8 7 7 7 2 1 4 1 5 9 8 7 1 5 0 6 4 2 9 1 9 5 7 7 2 1 2\n",
            " 6 8 1 7 7 9 1 0 1 3 0 3 0 1 9 9 4 1 8 2 1 2 9 7 5 9 2 6 4 1 5 8 2 9 2 0 4\n",
            " 0 0 2 8 1 7 1 7 9 0 2 7 4 1 3 0 0 5 1 9 6 5 0 5 1 7 9 3 0 9 6 0 7 1 1 2 1\n",
            " 5 3 2 9 7 5 6 5 5 1 3 8 1 0 5 1 9 1 5 0 6 1 8 5 1 7 9 4 6 7 2 5 0 6 5 6 3\n",
            " 7 2 0 8 8 5 9 1 1 4 0 2 3 7 6 1 6 2 1 9 2 8 6 1 9 5 1 5 4 4 2 8 5 7 2 4 5\n",
            " 0 3 1 7 7 3 7 9 7 1 9 2 1 4 2 9 2 0 4 9 1 4 8 1 8 4 5 9 7 8 3 7 6 0 0 3 6\n",
            " 2 0 6 9 9 3 3 3 1 5 9 1 1 6 8 0 9 6 6 6 7 8 8 2 7 5 8 9 6 1 8 4 1 2 6 3 1\n",
            " 9 7 5 4 0 9 9 7 1 0 5 8 3 7 0 9 4 0 6 3 4 5 2 1 3 1 5 6 5 7 9 2 2 6 3 2 6\n",
            " 5 4 8 9 7 1 5 0 3 5 3 1 9 6 9 4 6 4 1 1 8 2 5 4 1 4 4 0 0 8 3 2 7 1 0 8 7\n",
            " 4 4 7 9 6 9 0 9 8 0 4 6 0 6 3 5 9 9 3 3 9 3 3 8 7 8 0 1 7 1 7 0 6 5 4 3 3\n",
            " 0 9 6 3 8 4 9 9 6 8 6 8 5 7 3 6 0 2 6 0 2 1 3 1 9 7 5 1 0 8 4 6 2 6 7 9 9\n",
            " 5 9 8 2 2 9 1 7 3 4 9 1 8 0 2 0 5 6 1 3 7 6 7 1 2 5 8 0 3 7 7 4 6 9 1 8 6\n",
            " 7 1 9 3 9 4 1 9 5 1 7 3 9 7 6 7 1 3 1 8 3 8 6 4 2 3 9 8 8 1 1 4 4 3 1 0 7\n",
            " 7 0 7 9 9 4 8 5 5 4 0 5 2 1 6 8 4 5 0 4 0 6 1 5 8 8 6 7 2 6 9 5 1 4 6 8 5\n",
            " 9 7 0 6 2 1 7 3 9 1 0 5 4 3 1 1 7 4 9 9 9 8 4 0 2 4 5 1 1 6 4 9 1 9 9 2 4\n",
            " 1 5 5 5 3 3 1 4 5 6 8 9 9 1 9 3 8 0 5 2 1 1 2 0 3 4 4 0 8 8 3 3 1 2 3 5 9\n",
            " 6 3 2 6 1 3 6 0 7 2 1 7 1 7 2 4 4 1 7 9 6 1 1 2 4 0 1 7 7 4 3 0 7 3 1 3 1\n",
            " 0 7 7 0 3 5 5 2 7 6 6 9 2 8 3 6 2 2 5 6 0 9 2 9 2 8 2 8 8 7 9 7 5 0 6 6 3\n",
            " 2 1 3 2 2 7 5 0 0 5 7 8 1 4 9 6 0 2 9 1 4 7 4 7 3 9 8 8 4 7 1 1 1 2 8 3 7\n",
            " 3 0 3 9 1 1 9 0 3 5 5 6 6 3 0 6 7 6 6 1 2 7 9 1 1 7 4 6 4 9 6 1 9 3 9 1 8\n",
            " 9 1 1 0 9 1 4 4 5 4 0 6 2 2 8 1 5 1 2 0 3 8 1 2 6 7 1 6 7 3 9 0 1 2 2 0 8\n",
            " 9]\n"
          ],
          "name": "stdout"
        }
      ]
    },
    {
      "cell_type": "code",
      "metadata": {
        "colab": {
          "base_uri": "https://localhost:8080/"
        },
        "id": "xS7ueIsfFCYm",
        "outputId": "71b8aa66-eb7f-4f93-abec-0258e459990a"
      },
      "source": [
        "from sklearn.metrics import accuracy_score\n",
        "accuracy_score(y_test[:1000], y_knn_pred)"
      ],
      "execution_count": null,
      "outputs": [
        {
          "output_type": "execute_result",
          "data": {
            "text/plain": [
              "0.827"
            ]
          },
          "metadata": {
            "tags": []
          },
          "execution_count": 67
        }
      ]
    },
    {
      "cell_type": "code",
      "metadata": {
        "colab": {
          "base_uri": "https://localhost:8080/",
          "height": 265
        },
        "id": "V2TNAxJBFObK",
        "outputId": "927bac28-ccfd-4fa3-e59e-5a3b544392ed"
      },
      "source": [
        "print(\"Tego nie rozumiem.\")\n",
        "from scipy.ndimage.interpolation import shift\n",
        "def shift_digit(digit_array, dx, dy, new=0):\n",
        "    return shift(digit_array.reshape(28, 28), [dy, dx], cval=new).reshape(784)\n",
        "\n",
        "plot_digit(shift_digit(some_digit, 5, 1, new=100))"
      ],
      "execution_count": null,
      "outputs": [
        {
          "output_type": "stream",
          "text": [
            "Tego nie rozumiem.\n"
          ],
          "name": "stdout"
        },
        {
          "output_type": "display_data",
          "data": {
            "image/png": "[encoded data removed]",
            "text/plain": [
              "<Figure size 432x288 with 1 Axes>"
            ]
          },
          "metadata": {
            "tags": []
          }
        }
      ]
    },
    {
      "cell_type": "code",
      "metadata": {
        "colab": {
          "base_uri": "https://localhost:8080/"
        },
        "id": "2SbYWIWDFmgH",
        "outputId": "4b91528d-f964-43c6-f0f1-d5493a189bd5"
      },
      "source": [
        "print(\"Dalej nie robiłem\")"
      ],
      "execution_count": null,
      "outputs": [
        {
          "output_type": "stream",
          "text": [
            "Dalej nie robiłem\n"
          ],
          "name": "stdout"
        }
      ]
    },
    {
      "cell_type": "markdown",
      "metadata": {
        "id": "aPmyv-g_HieC"
      },
      "source": [
        "# **Exercise solutions**"
      ]
    },
    {
      "cell_type": "markdown",
      "metadata": {
        "id": "DLrIA0LEHsHY"
      },
      "source": [
        "## **1. An MNIST Classifier With Over 97% Accuracy¶**"
      ]
    },
    {
      "cell_type": "code",
      "metadata": {
        "colab": {
          "base_uri": "https://localhost:8080/"
        },
        "id": "lWc08BVTHwCD",
        "outputId": "0659a71e-bb87-4f71-c873-a66482cc9e7e"
      },
      "source": [
        "print(\"Warning: the next cell may take hours to run, depending on your hardware.\")\n",
        "\n",
        "from sklearn.model_selection import GridSearchCV\n",
        "\n",
        "param_grid = [{'weights': [\"uniform\", \"distance\"], 'n_neighbors': [3, 4, 5]}]\n",
        "\n",
        "# knn_clf = KNeighborsClassifier()\n",
        "# grid_search = GridSearchCV(knn_clf, param_grid, cv=5, verbose=3)\n",
        "# grid_search.fit(X_train, y_train)"
      ],
      "execution_count": null,
      "outputs": [
        {
          "output_type": "stream",
          "text": [
            "Warning: the next cell may take hours to run, depending on your hardware.\n"
          ],
          "name": "stdout"
        }
      ]
    },
    {
      "cell_type": "code",
      "metadata": {
        "id": "un-o9emCH4Dw"
      },
      "source": [
        "# grid_search.best_params_"
      ],
      "execution_count": null,
      "outputs": []
    },
    {
      "cell_type": "code",
      "metadata": {
        "id": "hx5CmfuVH51Z"
      },
      "source": [
        "# grid_search.best_score_"
      ],
      "execution_count": null,
      "outputs": []
    },
    {
      "cell_type": "code",
      "metadata": {
        "id": "JFwDKZFWH8y9"
      },
      "source": [
        "# from sklearn.metrics import accuracy_score\n",
        "\n",
        "# y_pred = grid_search.predict(X_test)\n",
        "# accuracy_score(y_test, y_pred)"
      ],
      "execution_count": null,
      "outputs": []
    },
    {
      "cell_type": "markdown",
      "metadata": {
        "id": "DgUlvSRvISg8"
      },
      "source": [
        ""
      ]
    },
    {
      "cell_type": "markdown",
      "metadata": {
        "id": "4faL_OY3dUhd"
      },
      "source": [
        "## **2. Data Augmentation**"
      ]
    },
    {
      "cell_type": "code",
      "metadata": {
        "colab": {
          "base_uri": "https://localhost:8080/"
        },
        "id": "nUhRPqe6dWd-",
        "outputId": "0fcfc3a9-3b21-4a04-f58a-d5e11b232d53"
      },
      "source": [
        "print(\"Sam oswajam się z funkcją reshape zmieniającą rozmiar tablicy\")\n",
        "tablica_do_zmiany = np.array((3,7,2,5,0,8))\n",
        "print(\"tablica_do_zmiany\")\n",
        "print(tablica_do_zmiany)\n",
        "tablica_3_na_2 = tablica_do_zmiany.reshape((3,2))\n",
        "print()\n",
        "print(\"tablica_3_na_2\")\n",
        "print(tablica_3_na_2)"
      ],
      "execution_count": null,
      "outputs": [
        {
          "output_type": "stream",
          "text": [
            "Sam oswajam się z funkcją reshape zmieniającą rozmiar tablicy\n",
            "tablica_do_zmiany\n",
            "[3 7 2 5 0 8]\n",
            "\n",
            "tablica_3_na_2\n",
            "[[3 7]\n",
            " [2 5]\n",
            " [0 8]]\n"
          ],
          "name": "stdout"
        }
      ]
    },
    {
      "cell_type": "code",
      "metadata": {
        "id": "jFQ0YZ_GmpVF"
      },
      "source": [
        "from scipy.ndimage.interpolation import shift"
      ],
      "execution_count": null,
      "outputs": []
    },
    {
      "cell_type": "code",
      "metadata": {
        "id": "ahvOKkDwmqSN"
      },
      "source": [
        "def shift_image(image, dx, dy):\n",
        "    image = image.reshape((28, 28))\n",
        "    shifted_image = shift(image, [dy, dx], cval=0, mode=\"constant\")\n",
        "    # W tym przypadku [-1] wartość jest wywnioskowana z długości tablicy i pozostałych wymiarów.\n",
        "    return shifted_image.reshape([-1])"
      ],
      "execution_count": null,
      "outputs": []
    },
    {
      "cell_type": "code",
      "metadata": {
        "colab": {
          "base_uri": "https://localhost:8080/",
          "height": 231
        },
        "id": "9JcYXBDvnZzT",
        "outputId": "db2b9b57-d404-4b43-e459-2a5a84afe339"
      },
      "source": [
        "image = X_train[1000]\n",
        "shifted_image_down = shift_image(image, 0, 5)\n",
        "shifted_image_left = shift_image(image, -5, 0)\n",
        "\n",
        "plt.figure(figsize=(12,3))\n",
        "plt.subplot(131)\n",
        "plt.title(\"Original\", fontsize=14)\n",
        "plt.imshow(image.reshape(28, 28), interpolation=\"nearest\", cmap=\"Greys\")\n",
        "plt.subplot(132)\n",
        "plt.title(\"Shifted down\", fontsize=14)\n",
        "plt.imshow(shifted_image_down.reshape(28, 28), interpolation=\"nearest\", cmap=\"Greys\")\n",
        "plt.subplot(133)\n",
        "plt.title(\"Shifted left\", fontsize=14)\n",
        "plt.imshow(shifted_image_left.reshape(28, 28), interpolation=\"nearest\", cmap=\"Greys\")\n",
        "plt.show()"
      ],
      "execution_count": null,
      "outputs": [
        {
          "output_type": "display_data",
          "data": {
            "image/png": "[encoded data removed]",
            "text/plain": [
              "<Figure size 864x216 with 3 Axes>"
            ]
          },
          "metadata": {
            "tags": []
          }
        }
      ]
    },
    {
      "cell_type": "code",
      "metadata": {
        "colab": {
          "background_save": true
        },
        "id": "FhfIgouasewZ",
        "outputId": "fdf6ecd6-97d1-4ae1-ca31-5d712ca5ac80"
      },
      "source": [
        "X_train_augmented = [image for image in X_train]\n",
        "print(X_train_augmented)\n",
        "y_train_augmented = [label for label in y_train]\n",
        "print(y_train_augmented)\n",
        "\n",
        "for dx, dy in ((1, 0), (-1, 0), (0, 1), (0, -1)):\n",
        "    for image, label in zip(X_train, y_train):\n",
        "        X_train_augmented.append(shift_image(image, dx, dy))\n",
        "        y_train_augmented.append(label)\n",
        "\n",
        "# z dwóch list robi dwie tablice ndarray\n",
        "X_train_augmented = np.array(X_train_augmented)\n",
        "\n",
        "print(len(X_train_augmented))\n",
        "y_train_augmented = np.array(y_train_augmented)\n",
        "print(len(y_train_augmented))"
      ],
      "execution_count": null,
      "outputs": [
        {
          "output_type": "stream",
          "text": [
            "IOPub data rate exceeded.\n",
            "The notebook server will temporarily stop sending output\n",
            "to the client in order to avoid crashing it.\n",
            "To change this limit, set the config variable\n",
            "`--NotebookApp.iopub_data_rate_limit`.\n",
            "\n",
            "Current values:\n",
            "NotebookApp.iopub_data_rate_limit=1000000.0 (bytes/sec)\n",
            "NotebookApp.rate_limit_window=3.0 (secs)\n",
            "\n"
          ],
          "name": "stderr"
        },
        {
          "output_type": "stream",
          "text": [
            "300000\n",
            "300000\n"
          ],
          "name": "stdout"
        }
      ]
    },
    {
      "cell_type": "code",
      "metadata": {
        "colab": {
          "background_save": true
        },
        "id": "JYng9-bC_Ez1",
        "outputId": "f66aed8d-9a83-4207-cbcd-a0fc7797ca9f"
      },
      "source": [
        "# miesza indeksy od 0 do 300000\n",
        "shuffle_idx = np.random.permutation(len(X_train_augmented))\n",
        "print(shuffle_idx)\n",
        "X_train_augmented = X_train_augmented[shuffle_idx]\n",
        "y_train_augmented = y_train_augmented[shuffle_idx]"
      ],
      "execution_count": null,
      "outputs": [
        {
          "output_type": "stream",
          "text": [
            "[275890 258290  31922 ... 125669 120374  68883]\n"
          ],
          "name": "stdout"
        }
      ]
    },
    {
      "cell_type": "code",
      "metadata": {
        "colab": {
          "background_save": true
        },
        "id": "7j3nvHCBAeC3"
      },
      "source": [
        "# długo zajmie\n",
        "# knn_clf = KNeighborsClassifier(**grid_search.best_params_)"
      ],
      "execution_count": null,
      "outputs": []
    },
    {
      "cell_type": "code",
      "metadata": {
        "colab": {
          "background_save": true
        },
        "id": "d5U2-S3RAeyR"
      },
      "source": [
        "# długo zajmie\n",
        "# knn_clf.fit(X_train_augmented, y_train_augmented)"
      ],
      "execution_count": null,
      "outputs": []
    },
    {
      "cell_type": "code",
      "metadata": {
        "colab": {
          "background_save": true
        },
        "id": "2zu0L1Z8ApAc",
        "outputId": "7f84fd0e-a0f2-44ba-d1af-48b825a6229e"
      },
      "source": [
        "# y_pred = knn_clf.predict(X_test)\n",
        "# accuracy_score(y_test, y_pred)\n",
        "print(\"By simply augmenting the data, we got a 0.5% accuracy boost. :)\")"
      ],
      "execution_count": null,
      "outputs": [
        {
          "output_type": "stream",
          "text": [
            "By simply augmenting the data, we got a 0.5% accuracy boost. :)\n"
          ],
          "name": "stdout"
        }
      ]
    },
    {
      "cell_type": "markdown",
      "metadata": {
        "id": "WaaCqbxnBcfL"
      },
      "source": [
        "## **3. Tackle the Titanic dataset**"
      ]
    },
    {
      "cell_type": "markdown",
      "metadata": {
        "id": "OAa_W9p7B3QO"
      },
      "source": [
        "The goal is to predict whether or not a passenger survived based on attributes such as their age, sex, passenger class, where they embarked and so on.\n",
        "\n",
        "First, login to Kaggle and go to the Titanic challenge to download train.csv and test.csv. Save them to the datasets/titanic directory.\n",
        "\n",
        "Next, let's load the data:"
      ]
    },
    {
      "cell_type": "code",
      "metadata": {
        "id": "BXRRzAAWB5_0"
      },
      "source": [
        "import os\n",
        "\n",
        "TITANIC_PATH = os.path.join(\"datasets\", \"titanic\")"
      ],
      "execution_count": null,
      "outputs": []
    },
    {
      "cell_type": "code",
      "metadata": {
        "id": "e6sGusU1CMtD"
      },
      "source": [
        "import pandas as pd\n",
        "\n",
        "def load_titanic_data(filename, titanic_path=TITANIC_PATH):\n",
        "    # te dwie linijki wziąłem z kodu z rozdziału 2 (początek)\n",
        "    if not os.path.isdir(titanic_path):\n",
        "        os.makedirs(titanic_path)\n",
        "    csv_path = os.path.join(titanic_path, filename)\n",
        "    return pd.read_csv(csv_path)"
      ],
      "execution_count": null,
      "outputs": []
    },
    {
      "cell_type": "code",
      "metadata": {
        "id": "Q0AKA5lJCYyA"
      },
      "source": [
        "train_data = load_titanic_data(\"train.csv\")\n",
        "test_data = load_titanic_data(\"test.csv\")"
      ],
      "execution_count": null,
      "outputs": []
    },
    {
      "cell_type": "markdown",
      "metadata": {
        "id": "dudN2sQ1m2XX"
      },
      "source": [
        "The data is already split into a training set and a test set. However, the test data does not contain the labels: your goal is to train the best model you can using the training data, then make your predictions on the test data and upload them to Kaggle to see your final score.\n",
        "\n",
        "Let's take a peek at the top few rows of the training set:"
      ]
    },
    {
      "cell_type": "code",
      "metadata": {
        "colab": {
          "base_uri": "https://localhost:8080/",
          "height": 492
        },
        "id": "bcu1aSf6o1Hw",
        "outputId": "974e3cd4-84b0-4e91-ba30-4124eeca40bd"
      },
      "source": [
        "train_data.head()"
      ],
      "execution_count": null,
      "outputs": [
        {
          "output_type": "execute_result",
          "data": {
            "text/html": [
              "<div>\n",
              "<style scoped>\n",
              "    .dataframe tbody tr th:only-of-type {\n",
              "        vertical-align: middle;\n",
              "    }\n",
              "\n",
              "    .dataframe tbody tr th {\n",
              "        vertical-align: top;\n",
              "    }\n",
              "\n",
              "    .dataframe thead th {\n",
              "        text-align: right;\n",
              "    }\n",
              "</style>\n",
              "<table border=\"1\" class=\"dataframe\">\n",
              "  <thead>\n",
              "    <tr style=\"text-align: right;\">\n",
              "      <th></th>\n",
              "      <th>PassengerId</th>\n",
              "      <th>Survived</th>\n",
              "      <th>Pclass</th>\n",
              "      <th>Name</th>\n",
              "      <th>Sex</th>\n",
              "      <th>Age</th>\n",
              "      <th>SibSp</th>\n",
              "      <th>Parch</th>\n",
              "      <th>Ticket</th>\n",
              "      <th>Fare</th>\n",
              "      <th>Cabin</th>\n",
              "      <th>Embarked</th>\n",
              "    </tr>\n",
              "  </thead>\n",
              "  <tbody>\n",
              "    <tr>\n",
              "      <th>0</th>\n",
              "      <td>1</td>\n",
              "      <td>0</td>\n",
              "      <td>3</td>\n",
              "      <td>Braund, Mr. Owen Harris</td>\n",
              "      <td>male</td>\n",
              "      <td>22.0</td>\n",
              "      <td>1</td>\n",
              "      <td>0</td>\n",
              "      <td>A/5 21171</td>\n",
              "      <td>7.2500</td>\n",
              "      <td>NaN</td>\n",
              "      <td>S</td>\n",
              "    </tr>\n",
              "    <tr>\n",
              "      <th>1</th>\n",
              "      <td>2</td>\n",
              "      <td>1</td>\n",
              "      <td>1</td>\n",
              "      <td>Cumings, Mrs. John Bradley (Florence Briggs Th...</td>\n",
              "      <td>female</td>\n",
              "      <td>38.0</td>\n",
              "      <td>1</td>\n",
              "      <td>0</td>\n",
              "      <td>PC 17599</td>\n",
              "      <td>71.2833</td>\n",
              "      <td>C85</td>\n",
              "      <td>C</td>\n",
              "    </tr>\n",
              "    <tr>\n",
              "      <th>2</th>\n",
              "      <td>3</td>\n",
              "      <td>1</td>\n",
              "      <td>3</td>\n",
              "      <td>Heikkinen, Miss. Laina</td>\n",
              "      <td>female</td>\n",
              "      <td>26.0</td>\n",
              "      <td>0</td>\n",
              "      <td>0</td>\n",
              "      <td>STON/O2. 3101282</td>\n",
              "      <td>7.9250</td>\n",
              "      <td>NaN</td>\n",
              "      <td>S</td>\n",
              "    </tr>\n",
              "    <tr>\n",
              "      <th>3</th>\n",
              "      <td>4</td>\n",
              "      <td>1</td>\n",
              "      <td>1</td>\n",
              "      <td>Futrelle, Mrs. Jacques Heath (Lily May Peel)</td>\n",
              "      <td>female</td>\n",
              "      <td>35.0</td>\n",
              "      <td>1</td>\n",
              "      <td>0</td>\n",
              "      <td>113803</td>\n",
              "      <td>53.1000</td>\n",
              "      <td>C123</td>\n",
              "      <td>S</td>\n",
              "    </tr>\n",
              "    <tr>\n",
              "      <th>4</th>\n",
              "      <td>5</td>\n",
              "      <td>0</td>\n",
              "      <td>3</td>\n",
              "      <td>Allen, Mr. William Henry</td>\n",
              "      <td>male</td>\n",
              "      <td>35.0</td>\n",
              "      <td>0</td>\n",
              "      <td>0</td>\n",
              "      <td>373450</td>\n",
              "      <td>8.0500</td>\n",
              "      <td>NaN</td>\n",
              "      <td>S</td>\n",
              "    </tr>\n",
              "  </tbody>\n",
              "</table>\n",
              "</div>"
            ],
            "text/plain": [
              "   PassengerId  Survived  Pclass  ...     Fare Cabin  Embarked\n",
              "0            1         0       3  ...   7.2500   NaN         S\n",
              "1            2         1       1  ...  71.2833   C85         C\n",
              "2            3         1       3  ...   7.9250   NaN         S\n",
              "3            4         1       1  ...  53.1000  C123         S\n",
              "4            5         0       3  ...   8.0500   NaN         S\n",
              "\n",
              "[5 rows x 12 columns]"
            ]
          },
          "metadata": {
            "tags": []
          },
          "execution_count": 89
        }
      ]
    },
    {
      "cell_type": "markdown",
      "metadata": {
        "id": "j5KH9-xrpQ4U"
      },
      "source": [
        "The attributes have the following meaning:\n",
        "\n",
        "Survived: that's the target, 0 means the passenger did not survive, while 1 means he/she survived.\n",
        "\n",
        "Pclass: passenger class.\n",
        "\n",
        "Name, Sex, Age: self-explanatory\n",
        "\n",
        "SibSp: how many siblings & spouses of the passenger aboard the Titanic.\n",
        "\n",
        "Parch: how many children & parents of the passenger aboard the Titanic.\n",
        "\n",
        "Ticket: ticket id\n",
        "\n",
        "Fare: price paid (in pounds)\n",
        "\n",
        "Cabin: passenger's cabin number\n",
        "\n",
        "Embarked: where the passenger embarked the Titanic\n",
        "\n",
        "Let's get more info to see how much data is missing:"
      ]
    },
    {
      "cell_type": "code",
      "metadata": {
        "colab": {
          "base_uri": "https://localhost:8080/"
        },
        "id": "lrRq8MvYqmfD",
        "outputId": "2c356456-f3f5-4243-e3d2-06aa7caedcb4"
      },
      "source": [
        "train_data.info()"
      ],
      "execution_count": null,
      "outputs": [
        {
          "output_type": "stream",
          "text": [
            "<class 'pandas.core.frame.DataFrame'>\n",
            "RangeIndex: 891 entries, 0 to 890\n",
            "Data columns (total 12 columns):\n",
            " #   Column       Non-Null Count  Dtype  \n",
            "---  ------       --------------  -----  \n",
            " 0   PassengerId  891 non-null    int64  \n",
            " 1   Survived     891 non-null    int64  \n",
            " 2   Pclass       891 non-null    int64  \n",
            " 3   Name         891 non-null    object \n",
            " 4   Sex          891 non-null    object \n",
            " 5   Age          714 non-null    float64\n",
            " 6   SibSp        891 non-null    int64  \n",
            " 7   Parch        891 non-null    int64  \n",
            " 8   Ticket       891 non-null    object \n",
            " 9   Fare         891 non-null    float64\n",
            " 10  Cabin        204 non-null    object \n",
            " 11  Embarked     889 non-null    object \n",
            "dtypes: float64(2), int64(5), object(5)\n",
            "memory usage: 83.7+ KB\n"
          ],
          "name": "stdout"
        }
      ]
    },
    {
      "cell_type": "markdown",
      "metadata": {
        "id": "c7LlK-QBqxAL"
      },
      "source": [
        "Okay, the Age, Cabin and Embarked attributes are sometimes null (less than 891 non-null), especially the Cabin (77% are null). We will ignore the Cabin for now and focus on the rest. The Age attribute has about 19% null values, so we will need to decide what to do with them. Replacing null values with the median age seems reasonable.\n",
        "\n",
        "The Name and Ticket attributes may have some value, but they will be a bit tricky to convert into useful numbers that a model can consume. So for now, we will ignore them.\n",
        "\n",
        "Let's take a look at the numerical attributes:"
      ]
    },
    {
      "cell_type": "code",
      "metadata": {
        "colab": {
          "base_uri": "https://localhost:8080/",
          "height": 293
        },
        "id": "q9NCsgxJshgb",
        "outputId": "2d1a0f02-a331-46ea-9c6d-4c4959c3e454"
      },
      "source": [
        "train_data.describe()"
      ],
      "execution_count": null,
      "outputs": [
        {
          "output_type": "execute_result",
          "data": {
            "text/html": [
              "<div>\n",
              "<style scoped>\n",
              "    .dataframe tbody tr th:only-of-type {\n",
              "        vertical-align: middle;\n",
              "    }\n",
              "\n",
              "    .dataframe tbody tr th {\n",
              "        vertical-align: top;\n",
              "    }\n",
              "\n",
              "    .dataframe thead th {\n",
              "        text-align: right;\n",
              "    }\n",
              "</style>\n",
              "<table border=\"1\" class=\"dataframe\">\n",
              "  <thead>\n",
              "    <tr style=\"text-align: right;\">\n",
              "      <th></th>\n",
              "      <th>PassengerId</th>\n",
              "      <th>Survived</th>\n",
              "      <th>Pclass</th>\n",
              "      <th>Age</th>\n",
              "      <th>SibSp</th>\n",
              "      <th>Parch</th>\n",
              "      <th>Fare</th>\n",
              "    </tr>\n",
              "  </thead>\n",
              "  <tbody>\n",
              "    <tr>\n",
              "      <th>count</th>\n",
              "      <td>891.000000</td>\n",
              "      <td>891.000000</td>\n",
              "      <td>891.000000</td>\n",
              "      <td>714.000000</td>\n",
              "      <td>891.000000</td>\n",
              "      <td>891.000000</td>\n",
              "      <td>891.000000</td>\n",
              "    </tr>\n",
              "    <tr>\n",
              "      <th>mean</th>\n",
              "      <td>446.000000</td>\n",
              "      <td>0.383838</td>\n",
              "      <td>2.308642</td>\n",
              "      <td>29.699118</td>\n",
              "      <td>0.523008</td>\n",
              "      <td>0.381594</td>\n",
              "      <td>32.204208</td>\n",
              "    </tr>\n",
              "    <tr>\n",
              "      <th>std</th>\n",
              "      <td>257.353842</td>\n",
              "      <td>0.486592</td>\n",
              "      <td>0.836071</td>\n",
              "      <td>14.526497</td>\n",
              "      <td>1.102743</td>\n",
              "      <td>0.806057</td>\n",
              "      <td>49.693429</td>\n",
              "    </tr>\n",
              "    <tr>\n",
              "      <th>min</th>\n",
              "      <td>1.000000</td>\n",
              "      <td>0.000000</td>\n",
              "      <td>1.000000</td>\n",
              "      <td>0.420000</td>\n",
              "      <td>0.000000</td>\n",
              "      <td>0.000000</td>\n",
              "      <td>0.000000</td>\n",
              "    </tr>\n",
              "    <tr>\n",
              "      <th>25%</th>\n",
              "      <td>223.500000</td>\n",
              "      <td>0.000000</td>\n",
              "      <td>2.000000</td>\n",
              "      <td>20.125000</td>\n",
              "      <td>0.000000</td>\n",
              "      <td>0.000000</td>\n",
              "      <td>7.910400</td>\n",
              "    </tr>\n",
              "    <tr>\n",
              "      <th>50%</th>\n",
              "      <td>446.000000</td>\n",
              "      <td>0.000000</td>\n",
              "      <td>3.000000</td>\n",
              "      <td>28.000000</td>\n",
              "      <td>0.000000</td>\n",
              "      <td>0.000000</td>\n",
              "      <td>14.454200</td>\n",
              "    </tr>\n",
              "    <tr>\n",
              "      <th>75%</th>\n",
              "      <td>668.500000</td>\n",
              "      <td>1.000000</td>\n",
              "      <td>3.000000</td>\n",
              "      <td>38.000000</td>\n",
              "      <td>1.000000</td>\n",
              "      <td>0.000000</td>\n",
              "      <td>31.000000</td>\n",
              "    </tr>\n",
              "    <tr>\n",
              "      <th>max</th>\n",
              "      <td>891.000000</td>\n",
              "      <td>1.000000</td>\n",
              "      <td>3.000000</td>\n",
              "      <td>80.000000</td>\n",
              "      <td>8.000000</td>\n",
              "      <td>6.000000</td>\n",
              "      <td>512.329200</td>\n",
              "    </tr>\n",
              "  </tbody>\n",
              "</table>\n",
              "</div>"
            ],
            "text/plain": [
              "       PassengerId    Survived      Pclass  ...       SibSp       Parch        Fare\n",
              "count   891.000000  891.000000  891.000000  ...  891.000000  891.000000  891.000000\n",
              "mean    446.000000    0.383838    2.308642  ...    0.523008    0.381594   32.204208\n",
              "std     257.353842    0.486592    0.836071  ...    1.102743    0.806057   49.693429\n",
              "min       1.000000    0.000000    1.000000  ...    0.000000    0.000000    0.000000\n",
              "25%     223.500000    0.000000    2.000000  ...    0.000000    0.000000    7.910400\n",
              "50%     446.000000    0.000000    3.000000  ...    0.000000    0.000000   14.454200\n",
              "75%     668.500000    1.000000    3.000000  ...    1.000000    0.000000   31.000000\n",
              "max     891.000000    1.000000    3.000000  ...    8.000000    6.000000  512.329200\n",
              "\n",
              "[8 rows x 7 columns]"
            ]
          },
          "metadata": {
            "tags": []
          },
          "execution_count": 91
        }
      ]
    },
    {
      "cell_type": "markdown",
      "metadata": {
        "id": "_FbDXN39sy_m"
      },
      "source": [
        "Yikes, only 38% Survived. :( That's close enough to 40%, so accuracy will be a reasonable metric to evaluate our model.\n",
        "\n",
        "The mean Fare was £32.20, which does not seem so expensive (but it was probably a lot of money back then).\n",
        "\n",
        "The mean Age was less than 30 years old.\n",
        "\n",
        "Let's check that the target is indeed 0 or 1:"
      ]
    },
    {
      "cell_type": "code",
      "metadata": {
        "colab": {
          "base_uri": "https://localhost:8080/"
        },
        "id": "p5JwTNs2tmQK",
        "outputId": "b639b68e-e06f-4e95-a0b6-99d20180b2bb"
      },
      "source": [
        "train_data[\"Survived\"].value_counts()"
      ],
      "execution_count": null,
      "outputs": [
        {
          "output_type": "execute_result",
          "data": {
            "text/plain": [
              "0    549\n",
              "1    342\n",
              "Name: Survived, dtype: int64"
            ]
          },
          "metadata": {
            "tags": []
          },
          "execution_count": 92
        }
      ]
    },
    {
      "cell_type": "markdown",
      "metadata": {
        "id": "HBtQmW33tqv6"
      },
      "source": [
        "Now let's take a quick look at all the categorical attributes:"
      ]
    },
    {
      "cell_type": "code",
      "metadata": {
        "colab": {
          "base_uri": "https://localhost:8080/"
        },
        "id": "dYyE48FcuC76",
        "outputId": "5c3e22a2-f673-4934-ba03-9b9ca7978801"
      },
      "source": [
        "train_data[\"Pclass\"].value_counts()"
      ],
      "execution_count": null,
      "outputs": [
        {
          "output_type": "execute_result",
          "data": {
            "text/plain": [
              "3    491\n",
              "1    216\n",
              "2    184\n",
              "Name: Pclass, dtype: int64"
            ]
          },
          "metadata": {
            "tags": []
          },
          "execution_count": 93
        }
      ]
    },
    {
      "cell_type": "code",
      "metadata": {
        "colab": {
          "base_uri": "https://localhost:8080/"
        },
        "id": "N7Cb82J9uODt",
        "outputId": "78309d27-4e3a-4ae6-ef2a-bd43f83f1c10"
      },
      "source": [
        "train_data[\"Sex\"].value_counts()"
      ],
      "execution_count": null,
      "outputs": [
        {
          "output_type": "execute_result",
          "data": {
            "text/plain": [
              "male      577\n",
              "female    314\n",
              "Name: Sex, dtype: int64"
            ]
          },
          "metadata": {
            "tags": []
          },
          "execution_count": 94
        }
      ]
    },
    {
      "cell_type": "code",
      "metadata": {
        "colab": {
          "base_uri": "https://localhost:8080/"
        },
        "id": "ZBHMa3dquPLT",
        "outputId": "b4f2a469-f2fd-443c-acab-964711d4f273"
      },
      "source": [
        "train_data[\"Embarked\"].value_counts()"
      ],
      "execution_count": null,
      "outputs": [
        {
          "output_type": "execute_result",
          "data": {
            "text/plain": [
              "S    644\n",
              "C    168\n",
              "Q     77\n",
              "Name: Embarked, dtype: int64"
            ]
          },
          "metadata": {
            "tags": []
          },
          "execution_count": 95
        }
      ]
    },
    {
      "cell_type": "markdown",
      "metadata": {
        "id": "KB0MUynruVVJ"
      },
      "source": [
        "The Embarked attribute tells us where the passenger embarked: C=Cherbourg, Q=Queenstown, S=Southampton.\n",
        "\n",
        "Note: the code below uses a mix of Pipeline, FeatureUnion and a custom DataFrameSelector to preprocess some columns differently. Since Scikit-Learn 0.20, it is preferable to use a ColumnTransformer, like in the previous chapter."
      ]
    },
    {
      "cell_type": "code",
      "metadata": {
        "id": "FCukMy1JuqAX"
      },
      "source": [
        "# Scikit-Learn ≥0.20 is required\n",
        "import sklearn\n",
        "assert sklearn.__version__ >= \"0.20\""
      ],
      "execution_count": null,
      "outputs": []
    },
    {
      "cell_type": "markdown",
      "metadata": {
        "id": "FQVCtf4uvM_4"
      },
      "source": [
        "Now let's build our preprocessing pipelines. We will reuse the DataframeSelector we built in the previous chapter to select specific attributes from the DataFrame:"
      ]
    },
    {
      "cell_type": "code",
      "metadata": {
        "colab": {
          "base_uri": "https://localhost:8080/"
        },
        "id": "LtJCl6KyvaJo",
        "outputId": "7dab29ff-15c7-4df6-aff0-697c0074b8f5"
      },
      "source": [
        "from sklearn.base import BaseEstimator, TransformerMixin\n",
        "\n",
        "print(\"Niestandardowy transformator. Tak jak w pliku 02 ##Niestandardowe transformatory.\")\n",
        "print(\"On bierze nazwy atrybutów (featusres) i zwraca DataFrame z tymi atrybutami.\")\n",
        "class DataFrameSelector(BaseEstimator, TransformerMixin):\n",
        "    def __init__(self, attribute_names):\n",
        "        self.attribute_names = attribute_names\n",
        "    def fit(self, X, y=None):\n",
        "        return self\n",
        "    def transform(self, X):\n",
        "        return X[self.attribute_names]"
      ],
      "execution_count": null,
      "outputs": [
        {
          "output_type": "stream",
          "text": [
            "Niestandardowy transformator. Tak jak w pliku 02 ##Niestandardowe transformatory.\n",
            "On bierze nazwy atrybutów (featusres) i zwraca DataFrame z tymi atrybutami.\n"
          ],
          "name": "stdout"
        }
      ]
    },
    {
      "cell_type": "markdown",
      "metadata": {
        "id": "bDt1dbIa-_OL"
      },
      "source": [
        "Let's build the pipeline for the numerical attributes:"
      ]
    },
    {
      "cell_type": "code",
      "metadata": {
        "id": "JDYcep9d_DBj"
      },
      "source": [
        "from sklearn.pipeline import Pipeline\n",
        "from sklearn.impute import SimpleImputer\n",
        "\n",
        "num_pipeline = Pipeline([\n",
        "        (\"select_numeric\", DataFrameSelector([\"Age\", \"SibSp\", \"Parch\", \"Fare\"])),\n",
        "        (\"imputer\", SimpleImputer(strategy=\"median\")), # w miejsca puste wstawi medianę w każdej kolumnie\n",
        "    ])"
      ],
      "execution_count": null,
      "outputs": []
    },
    {
      "cell_type": "code",
      "metadata": {
        "colab": {
          "base_uri": "https://localhost:8080/"
        },
        "id": "F3KXL3iIElWB",
        "outputId": "77be82bb-b9d1-4e73-9cdd-068a699a3d69"
      },
      "source": [
        "print(\"Kolumny to: Age, SibSp, Parch, Fare. Puste miejsca zostały wypełnione medianą z danej kolumny\")\n",
        "num_pipeline.fit_transform(train_data)"
      ],
      "execution_count": null,
      "outputs": [
        {
          "output_type": "stream",
          "text": [
            "Kolumny to: Age, SibSp, Parch, Fare. Puste miejsca zostały wypełnione medianą z danej kolumny\n"
          ],
          "name": "stdout"
        },
        {
          "output_type": "execute_result",
          "data": {
            "text/plain": [
              "array([[22.    ,  1.    ,  0.    ,  7.25  ],\n",
              "       [38.    ,  1.    ,  0.    , 71.2833],\n",
              "       [26.    ,  0.    ,  0.    ,  7.925 ],\n",
              "       ...,\n",
              "       [28.    ,  1.    ,  2.    , 23.45  ],\n",
              "       [26.    ,  0.    ,  0.    , 30.    ],\n",
              "       [32.    ,  0.    ,  0.    ,  7.75  ]])"
            ]
          },
          "metadata": {
            "tags": []
          },
          "execution_count": 99
        }
      ]
    },
    {
      "cell_type": "markdown",
      "metadata": {
        "id": "Godvh772FB3O"
      },
      "source": [
        "We will also need an imputer for the string categorical columns (the regular SimpleImputer does not work on those):"
      ]
    },
    {
      "cell_type": "code",
      "metadata": {
        "colab": {
          "base_uri": "https://localhost:8080/"
        },
        "id": "znvtaa4SFRf7",
        "outputId": "54b3f43b-9c31-4717-bfde-e293562c30a0"
      },
      "source": [
        "# Inspired from stackoverflow.com/questions/25239958\n",
        "print(\"Myślę, że on będzie wstawiał w puste miejsca te wartości które pojawiały się najczęściej\")\n",
        "class MostFrequentImputer(BaseEstimator, TransformerMixin):\n",
        "    def fit(self, X, y=None):\n",
        "        self.most_frequent_ = pd.Series([X[c].value_counts().index[0] for c in X],\n",
        "                                        index=X.columns)\n",
        "        return self\n",
        "    def transform(self, X, y=None):\n",
        "        return X.fillna(self.most_frequent_)"
      ],
      "execution_count": null,
      "outputs": [
        {
          "output_type": "stream",
          "text": [
            "Myślę, że on będzie wstawiał w puste miejsca te wartości które pojawiały się najczęściej\n"
          ],
          "name": "stdout"
        }
      ]
    },
    {
      "cell_type": "code",
      "metadata": {
        "id": "HKzH9NEqhNa0"
      },
      "source": [
        "from sklearn.preprocessing import OneHotEncoder"
      ],
      "execution_count": null,
      "outputs": []
    },
    {
      "cell_type": "markdown",
      "metadata": {
        "id": "xwVNpmzwhRBV"
      },
      "source": [
        "Now we can build the pipeline for the categorical attributes:"
      ]
    },
    {
      "cell_type": "code",
      "metadata": {
        "id": "WfU5KOG8hS5N"
      },
      "source": [
        "cat_pipeline = Pipeline([\n",
        "        (\"select_cat\", DataFrameSelector([\"Pclass\", \"Sex\", \"Embarked\"])),\n",
        "        (\"imputer\", MostFrequentImputer()),\n",
        "        (\"cat_encoder\", OneHotEncoder(sparse=False)),  # nie chcemy macierzy rzadkiej więc sparse=False\n",
        "    ])"
      ],
      "execution_count": null,
      "outputs": []
    },
    {
      "cell_type": "code",
      "metadata": {
        "colab": {
          "base_uri": "https://localhost:8080/"
        },
        "id": "oBPb5iU0kmId",
        "outputId": "e06f8370-cec8-49cd-a225-e5af4e151596"
      },
      "source": [
        "print(\"Wszystkie wiersze z danych kategorialnych\")\n",
        "cat_pipeline.fit_transform(train_data)"
      ],
      "execution_count": null,
      "outputs": [
        {
          "output_type": "stream",
          "text": [
            "Wszystkie wiersze z danych kategorialnych\n"
          ],
          "name": "stdout"
        },
        {
          "output_type": "execute_result",
          "data": {
            "text/plain": [
              "array([[0., 0., 1., ..., 0., 0., 1.],\n",
              "       [1., 0., 0., ..., 1., 0., 0.],\n",
              "       [0., 0., 1., ..., 0., 0., 1.],\n",
              "       ...,\n",
              "       [0., 0., 1., ..., 0., 0., 1.],\n",
              "       [1., 0., 0., ..., 1., 0., 0.],\n",
              "       [0., 0., 1., ..., 0., 1., 0.]])"
            ]
          },
          "metadata": {
            "tags": []
          },
          "execution_count": 103
        }
      ]
    },
    {
      "cell_type": "code",
      "metadata": {
        "colab": {
          "base_uri": "https://localhost:8080/"
        },
        "id": "TIUy4RQ3Pxyn",
        "outputId": "dd02ff27-5a7d-407b-cde7-41cf6b0d7bdb"
      },
      "source": [
        "print(\"Sam rozpracowałem pierwszy wiersz z danych kategorialnych\")\n",
        "\n",
        "print(cat_pipeline.fit_transform(train_data)[0])\n",
        "\n",
        "print(\"Miejsca od pierwszego do trzeciego oznaczają klasę pasażera.\")\n",
        "print(\"Jedynka na trzecim miejscu oznacza, że podróżował 3 klasą.\")\n",
        "print(\"Miejsca od 4 do 5 oznaczają płeć.\")\n",
        "print(\"Jedynka na piątym miejscu oznacza male.\")\n",
        "print(\"Miejsca od 6 do 8 oznaczają embarked czyli gdzie wsiedli.\")\n",
        "print(\"Jedynka na 8 miejscu oznacza Southampton\")"
      ],
      "execution_count": null,
      "outputs": [
        {
          "output_type": "stream",
          "text": [
            "Sam rozpracowałem pierwszy wiersz z danych kategorialnych\n",
            "[0. 0. 1. 0. 1. 0. 0. 1.]\n",
            "Miejsca od pierwszego do trzeciego oznaczają klasę pasażera.\n",
            "Jedynka na trzecim miejscu oznacza, że podróżował 3 klasą.\n",
            "Miejsca od 4 do 5 oznaczają płeć.\n",
            "Jedynka na piątym miejscu oznacza male.\n",
            "Miejsca od 6 do 8 oznaczają embarked czyli gdzie wsiedli.\n",
            "Jedynka na 8 miejscu oznacza Southampton\n"
          ],
          "name": "stdout"
        }
      ]
    },
    {
      "cell_type": "markdown",
      "metadata": {
        "id": "v-Etf-2kQNUT"
      },
      "source": [
        "Finally, let's join the numerical and categorical pipelines:"
      ]
    },
    {
      "cell_type": "code",
      "metadata": {
        "id": "Qvwd3Pu0QOH8"
      },
      "source": [
        "from sklearn.pipeline import FeatureUnion\n",
        "preprocess_pipeline = FeatureUnion(transformer_list=[\n",
        "        (\"num_pipeline\", num_pipeline),\n",
        "        (\"cat_pipeline\", cat_pipeline),\n",
        "    ])"
      ],
      "execution_count": null,
      "outputs": []
    },
    {
      "cell_type": "markdown",
      "metadata": {
        "id": "XF9peg1BRIim"
      },
      "source": [
        "\n",
        "Cool! Now we have a nice preprocessing pipeline that takes the raw data and outputs numerical input features that we can feed to any Machine Learning model we want.\n",
        "\n"
      ]
    },
    {
      "cell_type": "code",
      "metadata": {
        "colab": {
          "base_uri": "https://localhost:8080/"
        },
        "id": "x8h5f2BGR0wV",
        "outputId": "ab021926-9133-45c6-b7fd-5bab77193e66"
      },
      "source": [
        "X_train = preprocess_pipeline.fit_transform(train_data)\n",
        "print(\"Całe X_train\")\n",
        "X_train"
      ],
      "execution_count": null,
      "outputs": [
        {
          "output_type": "stream",
          "text": [
            "Całe X_train\n"
          ],
          "name": "stdout"
        },
        {
          "output_type": "execute_result",
          "data": {
            "text/plain": [
              "array([[22.,  1.,  0., ...,  0.,  0.,  1.],\n",
              "       [38.,  1.,  0., ...,  1.,  0.,  0.],\n",
              "       [26.,  0.,  0., ...,  0.,  0.,  1.],\n",
              "       ...,\n",
              "       [28.,  1.,  2., ...,  0.,  0.,  1.],\n",
              "       [26.,  0.,  0., ...,  1.,  0.,  0.],\n",
              "       [32.,  0.,  0., ...,  0.,  1.,  0.]])"
            ]
          },
          "metadata": {
            "tags": []
          },
          "execution_count": 106
        }
      ]
    },
    {
      "cell_type": "code",
      "metadata": {
        "colab": {
          "base_uri": "https://localhost:8080/"
        },
        "id": "dVbGEHxNSNuU",
        "outputId": "e8235608-c423-4406-cae5-dce5ee16c343"
      },
      "source": [
        "print(\"Sam zinterpretuję pierwszy wiersz.\")\n",
        "print(X_train[0])\n",
        "print(\"Age 22 lata. SibSp 1. Parch 0. Fare 7,25 funta. Klasa 3. Płeć male. Stacja Southampton.\")"
      ],
      "execution_count": null,
      "outputs": [
        {
          "output_type": "stream",
          "text": [
            "Sam zinterpretuję pierwszy wiersz.\n",
            "[22.    1.    0.    7.25  0.    0.    1.    0.    1.    0.    0.    1.  ]\n",
            "Age 22 lata. SibSp 1. Parch 0. Fare 7,25 funta. Klasa 3. Płeć male. Stacja Southampton.\n"
          ],
          "name": "stdout"
        }
      ]
    },
    {
      "cell_type": "markdown",
      "metadata": {
        "id": "8gVNLW4oS8Jm"
      },
      "source": [
        "Let's not forget to get the labels:"
      ]
    },
    {
      "cell_type": "code",
      "metadata": {
        "colab": {
          "base_uri": "https://localhost:8080/"
        },
        "id": "VLL8v_8-S903",
        "outputId": "41f0df66-3411-424c-a18a-df93032ecee6"
      },
      "source": [
        "y_train = train_data[\"Survived\"]\n",
        "print(y_train)\n",
        "print(type(y_train))\n",
        "\n",
        "print()\n",
        "print(\"Sam wyświetlam w postaci DataFrame\")\n",
        "moje_y_train_jako_df = pd.DataFrame(y_train)\n",
        "print(moje_y_train_jako_df)\n",
        "print(type(moje_y_train_jako_df))"
      ],
      "execution_count": null,
      "outputs": [
        {
          "output_type": "stream",
          "text": [
            "0      0\n",
            "1      1\n",
            "2      1\n",
            "3      1\n",
            "4      0\n",
            "      ..\n",
            "886    0\n",
            "887    1\n",
            "888    0\n",
            "889    1\n",
            "890    0\n",
            "Name: Survived, Length: 891, dtype: int64\n",
            "<class 'pandas.core.series.Series'>\n",
            "\n",
            "Sam wyświetlam w postaci DataFrame\n",
            "     Survived\n",
            "0           0\n",
            "1           1\n",
            "2           1\n",
            "3           1\n",
            "4           0\n",
            "..        ...\n",
            "886         0\n",
            "887         1\n",
            "888         0\n",
            "889         1\n",
            "890         0\n",
            "\n",
            "[891 rows x 1 columns]\n",
            "<class 'pandas.core.frame.DataFrame'>\n"
          ],
          "name": "stdout"
        }
      ]
    },
    {
      "cell_type": "markdown",
      "metadata": {
        "id": "99eLmFfAZbOO"
      },
      "source": [
        "We are now ready to train a classifier. Let's start with an SVC:"
      ]
    },
    {
      "cell_type": "code",
      "metadata": {
        "colab": {
          "base_uri": "https://localhost:8080/"
        },
        "id": "Fj4XGvkUZdPB",
        "outputId": "53eaa912-4056-4698-8512-dc3566d11897"
      },
      "source": [
        "from sklearn.svm import SVC\n",
        "\n",
        "svm_clf = SVC(gamma=\"auto\")\n",
        "svm_clf.fit(X_train, y_train)"
      ],
      "execution_count": null,
      "outputs": [
        {
          "output_type": "execute_result",
          "data": {
            "text/plain": [
              "SVC(C=1.0, break_ties=False, cache_size=200, class_weight=None, coef0=0.0,\n",
              "    decision_function_shape='ovr', degree=3, gamma='auto', kernel='rbf',\n",
              "    max_iter=-1, probability=False, random_state=None, shrinking=True,\n",
              "    tol=0.001, verbose=False)"
            ]
          },
          "metadata": {
            "tags": []
          },
          "execution_count": 109
        }
      ]
    },
    {
      "cell_type": "markdown",
      "metadata": {
        "id": "iKz4-JR8auBv"
      },
      "source": [
        "\n",
        "Great, our model is trained, let's use it to make predictions on the test set:"
      ]
    },
    {
      "cell_type": "code",
      "metadata": {
        "colab": {
          "base_uri": "https://localhost:8080/"
        },
        "id": "fpzScOfmau53",
        "outputId": "a072a600-4095-4a52-9fa5-96ddd5a17352"
      },
      "source": [
        "print(\"Metoda transform a nie fit_transform tak jak dla X_train\")\n",
        "X_test = preprocess_pipeline.transform(test_data)\n",
        "y_pred = svm_clf.predict(X_test)"
      ],
      "execution_count": null,
      "outputs": [
        {
          "output_type": "stream",
          "text": [
            "Metoda transform a nie fit_transform tak jak dla X_train\n"
          ],
          "name": "stdout"
        }
      ]
    },
    {
      "cell_type": "markdown",
      "metadata": {
        "id": "Uxjhe4vGGA7-"
      },
      "source": [
        "And now we could just build a CSV file with these predictions (respecting the format expected by Kaggle), then upload it and hope for the best. But wait! We can do better than hope. Why don't we use cross-validation to have an idea of how good our model is?"
      ]
    },
    {
      "cell_type": "code",
      "metadata": {
        "colab": {
          "base_uri": "https://localhost:8080/"
        },
        "id": "NlaEhMszGcvd",
        "outputId": "4e3a0a10-5b0b-40c5-df5b-a40889fc5f21"
      },
      "source": [
        "from sklearn.model_selection import cross_val_score\n",
        "\n",
        "svm_scores = cross_val_score(svm_clf, X_train, y_train, cv=10)\n",
        "svm_scores.mean()  # średnia z wyników kroswalidacji"
      ],
      "execution_count": null,
      "outputs": [
        {
          "output_type": "execute_result",
          "data": {
            "text/plain": [
              "0.7329588014981274"
            ]
          },
          "metadata": {
            "tags": []
          },
          "execution_count": 111
        }
      ]
    },
    {
      "cell_type": "code",
      "metadata": {
        "colab": {
          "base_uri": "https://localhost:8080/"
        },
        "id": "MCIf614nG5cm",
        "outputId": "c7459050-03bd-4a32-fc07-62569b289d77"
      },
      "source": [
        "print(\"Wszystkie wyniki kroswalidacji\")\n",
        "print(svm_scores)"
      ],
      "execution_count": null,
      "outputs": [
        {
          "output_type": "stream",
          "text": [
            "Wszystkie wyniki kroswalidacji\n",
            "[0.66666667 0.66292135 0.71910112 0.74157303 0.76404494 0.71910112\n",
            " 0.7752809  0.73033708 0.74157303 0.80898876]\n"
          ],
          "name": "stdout"
        }
      ]
    },
    {
      "cell_type": "markdown",
      "metadata": {
        "id": "aS76rTQjHJRq"
      },
      "source": [
        "Okay, over 73% accuracy, clearly better than random chance, but it's not a great score. Looking at the leaderboard for the Titanic competition on Kaggle, you can see that you need to reach above 80% accuracy to be within the top 10% Kagglers. Some reached 100%, but since you can easily find the list of victims of the Titanic, it seems likely that there was little Machine Learning involved in their performance! ;-) So let's try to build a model that reaches 80% accuracy."
      ]
    },
    {
      "cell_type": "markdown",
      "metadata": {
        "id": "dgbHfkT0IxSi"
      },
      "source": [
        "Let's try a RandomForestClassifier:"
      ]
    },
    {
      "cell_type": "code",
      "metadata": {
        "colab": {
          "base_uri": "https://localhost:8080/"
        },
        "id": "6rsUzOKaIym8",
        "outputId": "f9909c89-12c0-407f-c032-ea772a246f83"
      },
      "source": [
        "from sklearn.ensemble import RandomForestClassifier\n",
        "\n",
        "forest_clf = RandomForestClassifier(n_estimators=100, random_state=42)\n",
        "forest_scores = cross_val_score(forest_clf, X_train, y_train, cv=10)\n",
        "forest_scores.mean()"
      ],
      "execution_count": null,
      "outputs": [
        {
          "output_type": "execute_result",
          "data": {
            "text/plain": [
              "0.8126466916354558"
            ]
          },
          "metadata": {
            "tags": []
          },
          "execution_count": 113
        }
      ]
    },
    {
      "cell_type": "markdown",
      "metadata": {
        "id": "bNht8_h0JD9h"
      },
      "source": [
        "That's much better!\n",
        "\n",
        "Instead of just looking at the mean accuracy across the 10 cross-validation folds, let's plot all 10 scores for each model, along with a box plot highlighting the lower and upper quartiles, and \"whiskers\" showing the extent of the scores (thanks to Nevin Yilmaz for suggesting this visualization). Note that the boxplot() function detects outliers (called \"fliers\") and does not include them within the whiskers. Specifically, if the lower quartile is $Q_1$ and the upper quartile is $Q_3$, then the interquartile range $IQR = Q_3 - Q_1$ (this is the box's height), and any score lower than $Q_1 - 1.5 \\times IQR$ is a flier, and so is any score greater than $Q3 + 1.5 \\times IQR$."
      ]
    },
    {
      "cell_type": "code",
      "metadata": {
        "colab": {
          "base_uri": "https://localhost:8080/",
          "height": 268
        },
        "id": "cvOcUHIMJ63e",
        "outputId": "99eb53ba-c88c-467d-aabd-ddda669b983d"
      },
      "source": [
        "import matplotlib.pyplot as plt\n",
        "plt.figure(figsize=(8, 4))\n",
        "plt.plot([1]*10, svm_scores, \".\")\n",
        "plt.plot([2]*10, forest_scores, \".\")\n",
        "plt.boxplot([svm_scores, forest_scores], labels=(\"SVM\",\"Random Forest\"))\n",
        "plt.ylabel(\"Accuracy\", fontsize=14)\n",
        "plt.show()"
      ],
      "execution_count": null,
      "outputs": [
        {
          "output_type": "display_data",
          "data": {
            "image/png": "[encoded data removed]",
            "text/plain": [
              "<Figure size 576x288 with 1 Axes>"
            ]
          },
          "metadata": {
            "tags": [],
            "needs_background": "light"
          }
        }
      ]
    },
    {
      "cell_type": "markdown",
      "metadata": {
        "id": "iTr5AInMK4OM"
      },
      "source": [
        "\n",
        "To improve this result further, you could:\n",
        "\n",
        "Compare many more models and tune hyperparameters using cross validation and grid search,\n",
        "Do more feature engineering, for example:\n",
        "replace SibSp and Parch with their sum,\n",
        "try to identify parts of names that correlate well with the Survived attribute (e.g. if the name contains \"Countess\", then survival seems more likely),\n",
        "try to convert numerical attributes to categorical attributes: for example, different age groups had very different survival rates (see below), so it may help to create an age bucket category and use it instead of the age. Similarly, it may be useful to have a special category for people traveling alone since only 30% of them survived (see below)."
      ]
    },
    {
      "cell_type": "code",
      "metadata": {
        "colab": {
          "base_uri": "https://localhost:8080/",
          "height": 263
        },
        "id": "Kzqb4IpUMtSl",
        "outputId": "e849c095-ec08-497c-d08b-ca101e097e4e"
      },
      "source": [
        "train_data[\"AgeBucket\"] = train_data[\"Age\"] // 15 * 15\n",
        "train_data[[\"AgeBucket\", \"Survived\"]].groupby(['AgeBucket']).mean()  # średnia z wartości 0 i 1"
      ],
      "execution_count": null,
      "outputs": [
        {
          "output_type": "execute_result",
          "data": {
            "text/html": [
              "<div>\n",
              "<style scoped>\n",
              "    .dataframe tbody tr th:only-of-type {\n",
              "        vertical-align: middle;\n",
              "    }\n",
              "\n",
              "    .dataframe tbody tr th {\n",
              "        vertical-align: top;\n",
              "    }\n",
              "\n",
              "    .dataframe thead th {\n",
              "        text-align: right;\n",
              "    }\n",
              "</style>\n",
              "<table border=\"1\" class=\"dataframe\">\n",
              "  <thead>\n",
              "    <tr style=\"text-align: right;\">\n",
              "      <th></th>\n",
              "      <th>Survived</th>\n",
              "    </tr>\n",
              "    <tr>\n",
              "      <th>AgeBucket</th>\n",
              "      <th></th>\n",
              "    </tr>\n",
              "  </thead>\n",
              "  <tbody>\n",
              "    <tr>\n",
              "      <th>0.0</th>\n",
              "      <td>0.576923</td>\n",
              "    </tr>\n",
              "    <tr>\n",
              "      <th>15.0</th>\n",
              "      <td>0.362745</td>\n",
              "    </tr>\n",
              "    <tr>\n",
              "      <th>30.0</th>\n",
              "      <td>0.423256</td>\n",
              "    </tr>\n",
              "    <tr>\n",
              "      <th>45.0</th>\n",
              "      <td>0.404494</td>\n",
              "    </tr>\n",
              "    <tr>\n",
              "      <th>60.0</th>\n",
              "      <td>0.240000</td>\n",
              "    </tr>\n",
              "    <tr>\n",
              "      <th>75.0</th>\n",
              "      <td>1.000000</td>\n",
              "    </tr>\n",
              "  </tbody>\n",
              "</table>\n",
              "</div>"
            ],
            "text/plain": [
              "           Survived\n",
              "AgeBucket          \n",
              "0.0        0.576923\n",
              "15.0       0.362745\n",
              "30.0       0.423256\n",
              "45.0       0.404494\n",
              "60.0       0.240000\n",
              "75.0       1.000000"
            ]
          },
          "metadata": {
            "tags": []
          },
          "execution_count": 115
        }
      ]
    },
    {
      "cell_type": "code",
      "metadata": {
        "colab": {
          "base_uri": "https://localhost:8080/",
          "height": 354
        },
        "id": "3EUCx7mMOYnA",
        "outputId": "cef0d1bd-0f7f-42a8-ef82-b7ae104d595d"
      },
      "source": [
        "train_data[\"RelativesOnboard\"] = train_data[\"SibSp\"] + train_data[\"Parch\"]\n",
        "train_data[[\"RelativesOnboard\", \"Survived\"]].groupby(['RelativesOnboard']).mean()"
      ],
      "execution_count": null,
      "outputs": [
        {
          "output_type": "execute_result",
          "data": {
            "text/html": [
              "<div>\n",
              "<style scoped>\n",
              "    .dataframe tbody tr th:only-of-type {\n",
              "        vertical-align: middle;\n",
              "    }\n",
              "\n",
              "    .dataframe tbody tr th {\n",
              "        vertical-align: top;\n",
              "    }\n",
              "\n",
              "    .dataframe thead th {\n",
              "        text-align: right;\n",
              "    }\n",
              "</style>\n",
              "<table border=\"1\" class=\"dataframe\">\n",
              "  <thead>\n",
              "    <tr style=\"text-align: right;\">\n",
              "      <th></th>\n",
              "      <th>Survived</th>\n",
              "    </tr>\n",
              "    <tr>\n",
              "      <th>RelativesOnboard</th>\n",
              "      <th></th>\n",
              "    </tr>\n",
              "  </thead>\n",
              "  <tbody>\n",
              "    <tr>\n",
              "      <th>0</th>\n",
              "      <td>0.303538</td>\n",
              "    </tr>\n",
              "    <tr>\n",
              "      <th>1</th>\n",
              "      <td>0.552795</td>\n",
              "    </tr>\n",
              "    <tr>\n",
              "      <th>2</th>\n",
              "      <td>0.578431</td>\n",
              "    </tr>\n",
              "    <tr>\n",
              "      <th>3</th>\n",
              "      <td>0.724138</td>\n",
              "    </tr>\n",
              "    <tr>\n",
              "      <th>4</th>\n",
              "      <td>0.200000</td>\n",
              "    </tr>\n",
              "    <tr>\n",
              "      <th>5</th>\n",
              "      <td>0.136364</td>\n",
              "    </tr>\n",
              "    <tr>\n",
              "      <th>6</th>\n",
              "      <td>0.333333</td>\n",
              "    </tr>\n",
              "    <tr>\n",
              "      <th>7</th>\n",
              "      <td>0.000000</td>\n",
              "    </tr>\n",
              "    <tr>\n",
              "      <th>10</th>\n",
              "      <td>0.000000</td>\n",
              "    </tr>\n",
              "  </tbody>\n",
              "</table>\n",
              "</div>"
            ],
            "text/plain": [
              "                  Survived\n",
              "RelativesOnboard          \n",
              "0                 0.303538\n",
              "1                 0.552795\n",
              "2                 0.578431\n",
              "3                 0.724138\n",
              "4                 0.200000\n",
              "5                 0.136364\n",
              "6                 0.333333\n",
              "7                 0.000000\n",
              "10                0.000000"
            ]
          },
          "metadata": {
            "tags": []
          },
          "execution_count": 116
        }
      ]
    },
    {
      "cell_type": "code",
      "metadata": {
        "colab": {
          "base_uri": "https://localhost:8080/"
        },
        "id": "PgdGh5Q9PG9S",
        "outputId": "813c615f-99c9-44da-c39b-f0497ec43629"
      },
      "source": [
        "print(\"Trenuję groupby\")\n",
        "df = pd.DataFrame({'Animal': ['Falcon', 'Falcon',\n",
        "                              'Parrot', 'Parrot'],\n",
        "                   'Max Speed': [380., 370., 24., 26.]}, \n",
        "                  index=[1,2,3,4])"
      ],
      "execution_count": null,
      "outputs": [
        {
          "output_type": "stream",
          "text": [
            "Trenuję groupby\n"
          ],
          "name": "stdout"
        }
      ]
    },
    {
      "cell_type": "code",
      "metadata": {
        "colab": {
          "base_uri": "https://localhost:8080/",
          "height": 171
        },
        "id": "kgiNgISAPJfQ",
        "outputId": "f307697b-9baa-4a7e-f258-eca6a9117c4a"
      },
      "source": [
        "df"
      ],
      "execution_count": null,
      "outputs": [
        {
          "output_type": "execute_result",
          "data": {
            "text/html": [
              "<div>\n",
              "<style scoped>\n",
              "    .dataframe tbody tr th:only-of-type {\n",
              "        vertical-align: middle;\n",
              "    }\n",
              "\n",
              "    .dataframe tbody tr th {\n",
              "        vertical-align: top;\n",
              "    }\n",
              "\n",
              "    .dataframe thead th {\n",
              "        text-align: right;\n",
              "    }\n",
              "</style>\n",
              "<table border=\"1\" class=\"dataframe\">\n",
              "  <thead>\n",
              "    <tr style=\"text-align: right;\">\n",
              "      <th></th>\n",
              "      <th>Animal</th>\n",
              "      <th>Max Speed</th>\n",
              "    </tr>\n",
              "  </thead>\n",
              "  <tbody>\n",
              "    <tr>\n",
              "      <th>1</th>\n",
              "      <td>Falcon</td>\n",
              "      <td>380.0</td>\n",
              "    </tr>\n",
              "    <tr>\n",
              "      <th>2</th>\n",
              "      <td>Falcon</td>\n",
              "      <td>370.0</td>\n",
              "    </tr>\n",
              "    <tr>\n",
              "      <th>3</th>\n",
              "      <td>Parrot</td>\n",
              "      <td>24.0</td>\n",
              "    </tr>\n",
              "    <tr>\n",
              "      <th>4</th>\n",
              "      <td>Parrot</td>\n",
              "      <td>26.0</td>\n",
              "    </tr>\n",
              "  </tbody>\n",
              "</table>\n",
              "</div>"
            ],
            "text/plain": [
              "   Animal  Max Speed\n",
              "1  Falcon      380.0\n",
              "2  Falcon      370.0\n",
              "3  Parrot       24.0\n",
              "4  Parrot       26.0"
            ]
          },
          "metadata": {
            "tags": []
          },
          "execution_count": 118
        }
      ]
    },
    {
      "cell_type": "code",
      "metadata": {
        "colab": {
          "base_uri": "https://localhost:8080/",
          "height": 140
        },
        "id": "1UPK2weuRfqe",
        "outputId": "95d6f50a-e9c8-45f1-8d76-0d0384faf67d"
      },
      "source": [
        "df.groupby(['Animal']).mean()"
      ],
      "execution_count": null,
      "outputs": [
        {
          "output_type": "execute_result",
          "data": {
            "text/html": [
              "<div>\n",
              "<style scoped>\n",
              "    .dataframe tbody tr th:only-of-type {\n",
              "        vertical-align: middle;\n",
              "    }\n",
              "\n",
              "    .dataframe tbody tr th {\n",
              "        vertical-align: top;\n",
              "    }\n",
              "\n",
              "    .dataframe thead th {\n",
              "        text-align: right;\n",
              "    }\n",
              "</style>\n",
              "<table border=\"1\" class=\"dataframe\">\n",
              "  <thead>\n",
              "    <tr style=\"text-align: right;\">\n",
              "      <th></th>\n",
              "      <th>Max Speed</th>\n",
              "    </tr>\n",
              "    <tr>\n",
              "      <th>Animal</th>\n",
              "      <th></th>\n",
              "    </tr>\n",
              "  </thead>\n",
              "  <tbody>\n",
              "    <tr>\n",
              "      <th>Falcon</th>\n",
              "      <td>375.0</td>\n",
              "    </tr>\n",
              "    <tr>\n",
              "      <th>Parrot</th>\n",
              "      <td>25.0</td>\n",
              "    </tr>\n",
              "  </tbody>\n",
              "</table>\n",
              "</div>"
            ],
            "text/plain": [
              "        Max Speed\n",
              "Animal           \n",
              "Falcon      375.0\n",
              "Parrot       25.0"
            ]
          },
          "metadata": {
            "tags": []
          },
          "execution_count": 119
        }
      ]
    },
    {
      "cell_type": "markdown",
      "metadata": {
        "id": "0oJSuvNJaY3w"
      },
      "source": [
        "# **4. Spam classifier**"
      ]
    },
    {
      "cell_type": "markdown",
      "metadata": {
        "id": "65ie0mLsbToT"
      },
      "source": [
        "First, let's fetch the data:"
      ]
    },
    {
      "cell_type": "code",
      "metadata": {
        "id": "nT7xWWSSbWI5"
      },
      "source": [
        "import os\r\n",
        "import tarfile\r\n",
        "import urllib.request # zmieniłem bo było tylko urllib i rzucał że nie ma tego modułu\r\n",
        "\r\n",
        "DOWNLOAD_ROOT = \"http://spamassassin.apache.org/old/publiccorpus/\"\r\n",
        "HAM_URL = DOWNLOAD_ROOT + \"20030228_easy_ham.tar.bz2\"\r\n",
        "SPAM_URL = DOWNLOAD_ROOT + \"20030228_spam.tar.bz2\"\r\n",
        "SPAM_PATH = os.path.join(\"datasets\", \"spam\")\r\n",
        "\r\n",
        "def fetch_spam_data(spam_url=SPAM_URL, spam_path=SPAM_PATH):\r\n",
        "    if not os.path.isdir(spam_path):\r\n",
        "        os.makedirs(spam_path)\r\n",
        "    for filename, url in ((\"ham.tar.bz2\", HAM_URL), (\"spam.tar.bz2\", SPAM_URL)):\r\n",
        "        path = os.path.join(spam_path, filename)\r\n",
        "        if not os.path.isfile(path):\r\n",
        "            urllib.request.urlretrieve(url, path)\r\n",
        "        tar_bz2_file = tarfile.open(path)\r\n",
        "        tar_bz2_file.extractall(path=SPAM_PATH)\r\n",
        "        tar_bz2_file.close()"
      ],
      "execution_count": null,
      "outputs": []
    },
    {
      "cell_type": "code",
      "metadata": {
        "id": "taa_zU7kblKD"
      },
      "source": [
        "fetch_spam_data()"
      ],
      "execution_count": null,
      "outputs": []
    },
    {
      "cell_type": "markdown",
      "metadata": {
        "id": "fK5IubPhc93o"
      },
      "source": [
        "Next, let's load all the emails:"
      ]
    },
    {
      "cell_type": "code",
      "metadata": {
        "id": "7LPs-os3dDUj"
      },
      "source": [
        "HAM_DIR = os.path.join(SPAM_PATH, \"easy_ham\")\r\n",
        "SPAM_DIR = os.path.join(SPAM_PATH, \"spam\")\r\n",
        "ham_filenames = [name for name in sorted(os.listdir(HAM_DIR)) if len(name) > 20]\r\n",
        "spam_filenames = [name for name in sorted(os.listdir(SPAM_DIR)) if len(name) > 20]"
      ],
      "execution_count": null,
      "outputs": []
    },
    {
      "cell_type": "code",
      "metadata": {
        "colab": {
          "base_uri": "https://localhost:8080/"
        },
        "id": "iSW0jtlIdJrj",
        "outputId": "bfae8960-05fd-4361-88bb-eb6eede5e647"
      },
      "source": [
        "len(ham_filenames)"
      ],
      "execution_count": null,
      "outputs": [
        {
          "output_type": "execute_result",
          "data": {
            "text/plain": [
              "2500"
            ]
          },
          "metadata": {
            "tags": []
          },
          "execution_count": 8
        }
      ]
    },
    {
      "cell_type": "code",
      "metadata": {
        "colab": {
          "base_uri": "https://localhost:8080/"
        },
        "id": "D0zcmVTjdOrQ",
        "outputId": "ba252a9a-47fe-48bb-9746-dc80b0002fa5"
      },
      "source": [
        "len(spam_filenames)"
      ],
      "execution_count": null,
      "outputs": [
        {
          "output_type": "execute_result",
          "data": {
            "text/plain": [
              "500"
            ]
          },
          "metadata": {
            "tags": []
          },
          "execution_count": 9
        }
      ]
    },
    {
      "cell_type": "markdown",
      "metadata": {
        "id": "EL1DG53adSX1"
      },
      "source": [
        "We can use Python's email module to parse these emails (this handles headers, encoding, and so on):"
      ]
    },
    {
      "cell_type": "code",
      "metadata": {
        "id": "IyB3rX-zdTf7"
      },
      "source": [
        "import email\r\n",
        "import email.policy\r\n",
        "\r\n",
        "def load_email(is_spam, filename, spam_path=SPAM_PATH):\r\n",
        "    directory = \"spam\" if is_spam else \"easy_ham\"\r\n",
        "    with open(os.path.join(spam_path, directory, filename), \"rb\") as f:\r\n",
        "        return email.parser.BytesParser(policy=email.policy.default).parse(f)"
      ],
      "execution_count": null,
      "outputs": []
    },
    {
      "cell_type": "code",
      "metadata": {
        "id": "2tCX_EwadeXI"
      },
      "source": [
        "ham_emails = [load_email(is_spam=False, filename=name) for name in ham_filenames]\r\n",
        "spam_emails = [load_email(is_spam=True, filename=name) for name in spam_filenames]"
      ],
      "execution_count": null,
      "outputs": []
    },
    {
      "cell_type": "markdown",
      "metadata": {
        "id": "n1gCxKLVdiuN"
      },
      "source": [
        "Let's look at one example of ham and one example of spam, to get a feel of what the data looks like:"
      ]
    },
    {
      "cell_type": "code",
      "metadata": {
        "colab": {
          "base_uri": "https://localhost:8080/"
        },
        "id": "anM96kSedk0b",
        "outputId": "3e3a4169-48b0-45dd-e219-86e74174de74"
      },
      "source": [
        "print(ham_emails[1].get_content().strip())"
      ],
      "execution_count": null,
      "outputs": [
        {
          "output_type": "stream",
          "text": [
            "Martin A posted:\n",
            "Tassos Papadopoulos, the Greek sculptor behind the plan, judged that the\n",
            " limestone of Mount Kerdylio, 70 miles east of Salonika and not far from the\n",
            " Mount Athos monastic community, was ideal for the patriotic sculpture. \n",
            " \n",
            " As well as Alexander's granite features, 240 ft high and 170 ft wide, a\n",
            " museum, a restored amphitheatre and car park for admiring crowds are\n",
            "planned\n",
            "---------------------\n",
            "So is this mountain limestone or granite?\n",
            "If it's limestone, it'll weather pretty fast.\n",
            "\n",
            "------------------------ Yahoo! Groups Sponsor ---------------------~-->\n",
            "4 DVDs Free +s&p Join Now\n",
            "http://us.click.yahoo.com/pt6YBB/NXiEAA/mG3HAA/7gSolB/TM\n",
            "---------------------------------------------------------------------~->\n",
            "\n",
            "To unsubscribe from this group, send an email to:\n",
            "forteana-unsubscribe@egroups.com\n",
            "\n",
            " \n",
            "\n",
            "Your use of Yahoo! Groups is subject to http://docs.yahoo.com/info/terms/\n"
          ],
          "name": "stdout"
        }
      ]
    },
    {
      "cell_type": "code",
      "metadata": {
        "colab": {
          "base_uri": "https://localhost:8080/"
        },
        "id": "hniBWUhcdpWe",
        "outputId": "75d628db-f075-45e6-b034-130f3c20b657"
      },
      "source": [
        "print(spam_emails[6].get_content().strip())"
      ],
      "execution_count": null,
      "outputs": [
        {
          "output_type": "stream",
          "text": [
            "Help wanted.  We are a 14 year old fortune 500 company, that is\n",
            "growing at a tremendous rate.  We are looking for individuals who\n",
            "want to work from home.\n",
            "\n",
            "This is an opportunity to make an excellent income.  No experience\n",
            "is required.  We will train you.\n",
            "\n",
            "So if you are looking to be employed from home with a career that has\n",
            "vast opportunities, then go:\n",
            "\n",
            "http://www.basetel.com/wealthnow\n",
            "\n",
            "We are looking for energetic and self motivated people.  If that is you\n",
            "than click on the link and fill out the form, and one of our\n",
            "employement specialist will contact you.\n",
            "\n",
            "To be removed from our link simple go to:\n",
            "\n",
            "http://www.basetel.com/remove.html\n",
            "\n",
            "\n",
            "4139vOLW7-758DoDY1425FRhM1-764SMFc8513fCsLl40\n"
          ],
          "name": "stdout"
        }
      ]
    },
    {
      "cell_type": "code",
      "metadata": {
        "id": "mRR-6jmKdssP"
      },
      "source": [
        "def get_email_structure(email):\r\n",
        "    if isinstance(email, str):\r\n",
        "        return email\r\n",
        "    payload = email.get_payload()\r\n",
        "    if isinstance(payload, list):\r\n",
        "        return \"multipart({})\".format(\", \".join([\r\n",
        "            get_email_structure(sub_email)\r\n",
        "            for sub_email in payload\r\n",
        "        ]))\r\n",
        "    else:\r\n",
        "        return email.get_content_type()"
      ],
      "execution_count": null,
      "outputs": []
    },
    {
      "cell_type": "code",
      "metadata": {
        "id": "Pk0htewKdvnJ"
      },
      "source": [
        "from collections import Counter\r\n",
        "\r\n",
        "def structures_counter(emails):\r\n",
        "    structures = Counter()\r\n",
        "    for email in emails:\r\n",
        "        structure = get_email_structure(email)\r\n",
        "        structures[structure] += 1\r\n",
        "    return structures"
      ],
      "execution_count": null,
      "outputs": []
    },
    {
      "cell_type": "code",
      "metadata": {
        "colab": {
          "base_uri": "https://localhost:8080/"
        },
        "id": "8IeRzMVzdyUn",
        "outputId": "34b89ead-27da-4ca9-d859-30533b658090"
      },
      "source": [
        "structures_counter(ham_emails).most_common()"
      ],
      "execution_count": null,
      "outputs": [
        {
          "output_type": "execute_result",
          "data": {
            "text/plain": [
              "[('text/plain', 2408),\n",
              " ('multipart(text/plain, application/pgp-signature)', 66),\n",
              " ('multipart(text/plain, text/html)', 8),\n",
              " ('multipart(text/plain, text/plain)', 4),\n",
              " ('multipart(text/plain)', 3),\n",
              " ('multipart(text/plain, application/octet-stream)', 2),\n",
              " ('multipart(text/plain, text/enriched)', 1),\n",
              " ('multipart(text/plain, application/ms-tnef, text/plain)', 1),\n",
              " ('multipart(multipart(text/plain, text/plain, text/plain), application/pgp-signature)',\n",
              "  1),\n",
              " ('multipart(text/plain, video/mng)', 1),\n",
              " ('multipart(text/plain, multipart(text/plain))', 1),\n",
              " ('multipart(text/plain, application/x-pkcs7-signature)', 1),\n",
              " ('multipart(text/plain, multipart(text/plain, text/plain), text/rfc822-headers)',\n",
              "  1),\n",
              " ('multipart(text/plain, multipart(text/plain, text/plain), multipart(multipart(text/plain, application/x-pkcs7-signature)))',\n",
              "  1),\n",
              " ('multipart(text/plain, application/x-java-applet)', 1)]"
            ]
          },
          "metadata": {
            "tags": []
          },
          "execution_count": 16
        }
      ]
    },
    {
      "cell_type": "code",
      "metadata": {
        "colab": {
          "base_uri": "https://localhost:8080/"
        },
        "id": "mq1r9kmpd2E8",
        "outputId": "9664592c-c7c7-4911-9291-32eb0097a34d"
      },
      "source": [
        "structures_counter(spam_emails).most_common()"
      ],
      "execution_count": null,
      "outputs": [
        {
          "output_type": "execute_result",
          "data": {
            "text/plain": [
              "[('text/plain', 218),\n",
              " ('text/html', 183),\n",
              " ('multipart(text/plain, text/html)', 45),\n",
              " ('multipart(text/html)', 20),\n",
              " ('multipart(text/plain)', 19),\n",
              " ('multipart(multipart(text/html))', 5),\n",
              " ('multipart(text/plain, image/jpeg)', 3),\n",
              " ('multipart(text/html, application/octet-stream)', 2),\n",
              " ('multipart(text/plain, application/octet-stream)', 1),\n",
              " ('multipart(text/html, text/plain)', 1),\n",
              " ('multipart(multipart(text/html), application/octet-stream, image/jpeg)', 1),\n",
              " ('multipart(multipart(text/plain, text/html), image/gif)', 1),\n",
              " ('multipart/alternative', 1)]"
            ]
          },
          "metadata": {
            "tags": []
          },
          "execution_count": 17
        }
      ]
    },
    {
      "cell_type": "markdown",
      "metadata": {
        "id": "gLLxVtrbd5Fw"
      },
      "source": [
        "It seems that the ham emails are more often plain text, while spam has quite a lot of HTML. Moreover, quite a few ham emails are signed using PGP, while no spam is. In short, it seems that the email structure is useful information to have.\r\n",
        "\r\n",
        "Now let's take a look at the email headers:"
      ]
    },
    {
      "cell_type": "code",
      "metadata": {
        "id": "Tp4IE3ptd7VR",
        "colab": {
          "base_uri": "https://localhost:8080/"
        },
        "outputId": "dccb8146-970c-48ca-d074-cbd5280b98a2"
      },
      "source": [
        "for header, value in spam_emails[0].items():\r\n",
        "    print(header,\":\",value)"
      ],
      "execution_count": null,
      "outputs": [
        {
          "output_type": "stream",
          "text": [
            "Return-Path : <12a1mailbot1@web.de>\n",
            "Delivered-To : zzzz@localhost.spamassassin.taint.org\n",
            "Received : from localhost (localhost [127.0.0.1])\tby phobos.labs.spamassassin.taint.org (Postfix) with ESMTP id 136B943C32\tfor <zzzz@localhost>; Thu, 22 Aug 2002 08:17:21 -0400 (EDT)\n",
            "Received : from mail.webnote.net [193.120.211.219]\tby localhost with POP3 (fetchmail-5.9.0)\tfor zzzz@localhost (single-drop); Thu, 22 Aug 2002 13:17:21 +0100 (IST)\n",
            "Received : from dd_it7 ([210.97.77.167])\tby webnote.net (8.9.3/8.9.3) with ESMTP id NAA04623\tfor <zzzz@spamassassin.taint.org>; Thu, 22 Aug 2002 13:09:41 +0100\n",
            "From : 12a1mailbot1@web.de\n",
            "Received : from r-smtp.korea.com - 203.122.2.197 by dd_it7  with Microsoft SMTPSVC(5.5.1775.675.6);\t Sat, 24 Aug 2002 09:42:10 +0900\n",
            "To : dcek1a1@netsgo.com\n",
            "Subject : Life Insurance - Why Pay More?\n",
            "Date : Wed, 21 Aug 2002 20:31:57 -1600\n",
            "MIME-Version : 1.0\n",
            "Message-ID : <0103c1042001882DD_IT7@dd_it7>\n",
            "Content-Type : text/html; charset=\"iso-8859-1\"\n",
            "Content-Transfer-Encoding : quoted-printable\n"
          ],
          "name": "stdout"
        }
      ]
    }
  ]
}